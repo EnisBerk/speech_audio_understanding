{
 "cells": [
  {
   "cell_type": "code",
   "execution_count": 1,
   "metadata": {},
   "outputs": [],
   "source": []
  },
  {
   "cell_type": "code",
   "execution_count": 2,
   "metadata": {},
   "outputs": [
    {
     "ename": "TypeError",
     "evalue": "read_sql() missing 1 required positional argument: 'con'",
     "output_type": "error",
     "traceback": [
      "\u001b[0;31m---------------------------------------------------------------------------\u001b[0m",
      "\u001b[0;31mTypeError\u001b[0m                                 Traceback (most recent call last)",
      "\u001b[0;32m<ipython-input-2-5350098b1ad1>\u001b[0m in \u001b[0;36m<module>\u001b[0;34m\u001b[0m\n\u001b[0;32m----> 1\u001b[0;31m \u001b[0ma\u001b[0m\u001b[0;34m=\u001b[0m\u001b[0mpandas\u001b[0m\u001b[0;34m.\u001b[0m\u001b[0mread_sql\u001b[0m\u001b[0;34m(\u001b[0m\u001b[0;34m\"/Users/berk/Desktop/TimeLapse_Databases/11/Final_Season_1_Data_Template_Structure_REV2_SIMPLIFIED.ddb\"\u001b[0m\u001b[0;34m)\u001b[0m\u001b[0;34m\u001b[0m\u001b[0;34m\u001b[0m\u001b[0m\n\u001b[0m",
      "\u001b[0;31mTypeError\u001b[0m: read_sql() missing 1 required positional argument: 'con'"
     ]
    }
   ],
   "source": [
    "import sqlite3\n",
    "import pandas"
   ]
  },
  {
   "cell_type": "code",
   "execution_count": 9,
   "metadata": {},
   "outputs": [],
   "source": [
    "\n",
    "fileSql= \"/Users/berk/Desktop/TimeLapse_Databases/11/Final_Season_1_Data_Template_Structure_REV2_SIMPLIFIED.ddb\"\n",
    "# Create a SQL connection to our SQLite database\n",
    "con = sqlite3.connect(fileSql)\n",
    "\n",
    "cur = con.cursor()\n",
    "\n",
    "# The result of a \"cursor.execute\" can be iterated over by row\n",
    "# for row in cur.execute('SELECT * FROM dataTable;'):\n",
    "#     print(row)\n",
    "\n",
    "# Be sure to close the connection\n",
    "# con.close()\n",
    "# "
   ]
  },
  {
   "cell_type": "code",
   "execution_count": 11,
   "metadata": {},
   "outputs": [],
   "source": [
    "a=pandas.read_sql('SELECT * FROM dataTable;',con)"
   ]
  },
  {
   "cell_type": "code",
   "execution_count": 18,
   "metadata": {},
   "outputs": [
    {
     "name": "stdout",
     "output_type": "stream",
     "text": [
      "('TemplateTable',)\n",
      "('sqlite_sequence',)\n",
      "('ImageSetTable',)\n",
      "('MarkersTable',)\n",
      "('DataTable',)\n"
     ]
    }
   ],
   "source": [
    "\n",
    "for r in cur.execute(\"SELECT name FROM sqlite_master WHERE type='table'\"):\n",
    "    print(r)"
   ]
  },
  {
   "cell_type": "code",
   "execution_count": 19,
   "metadata": {},
   "outputs": [
    {
     "data": {
      "text/html": [
       "<div>\n",
       "<style scoped>\n",
       "    .dataframe tbody tr th:only-of-type {\n",
       "        vertical-align: middle;\n",
       "    }\n",
       "\n",
       "    .dataframe tbody tr th {\n",
       "        vertical-align: top;\n",
       "    }\n",
       "\n",
       "    .dataframe thead th {\n",
       "        text-align: right;\n",
       "    }\n",
       "</style>\n",
       "<table border=\"1\" class=\"dataframe\">\n",
       "  <thead>\n",
       "    <tr style=\"text-align: right;\">\n",
       "      <th></th>\n",
       "      <th>Id</th>\n",
       "      <th>File</th>\n",
       "      <th>RelativePath</th>\n",
       "      <th>Folder</th>\n",
       "      <th>DateTime</th>\n",
       "      <th>UtcOffset</th>\n",
       "      <th>Date</th>\n",
       "      <th>Time</th>\n",
       "      <th>ImageQuality</th>\n",
       "      <th>DeleteFlag</th>\n",
       "      <th>...</th>\n",
       "      <th>Movement_Rate</th>\n",
       "      <th>Comment</th>\n",
       "      <th>Snow_Cover</th>\n",
       "      <th>Camera_Failure</th>\n",
       "      <th>Not_Counted</th>\n",
       "      <th>Waterfowl</th>\n",
       "      <th>Upland_Game_Bird</th>\n",
       "      <th>Songbird</th>\n",
       "      <th>Sea_Shore_Bird</th>\n",
       "      <th>Bird_of_Prey</th>\n",
       "    </tr>\n",
       "  </thead>\n",
       "  <tbody>\n",
       "    <tr>\n",
       "      <td>0</td>\n",
       "      <td>1</td>\n",
       "      <td>RCNX0001.JPG</td>\n",
       "      <td>S11_5.6-6.7</td>\n",
       "      <td>11</td>\n",
       "      <td>2019-05-06T23:27:59.000Z</td>\n",
       "      <td>-8.0</td>\n",
       "      <td>06-May-2019</td>\n",
       "      <td>15:27:59</td>\n",
       "      <td>Ok</td>\n",
       "      <td>false</td>\n",
       "      <td>...</td>\n",
       "      <td>false</td>\n",
       "      <td></td>\n",
       "      <td></td>\n",
       "      <td></td>\n",
       "      <td>false</td>\n",
       "      <td>false</td>\n",
       "      <td>false</td>\n",
       "      <td>false</td>\n",
       "      <td>false</td>\n",
       "      <td>false</td>\n",
       "    </tr>\n",
       "    <tr>\n",
       "      <td>1</td>\n",
       "      <td>2</td>\n",
       "      <td>RCNX0002.JPG</td>\n",
       "      <td>S11_5.6-6.7</td>\n",
       "      <td>11</td>\n",
       "      <td>2019-05-06T23:28:09.000Z</td>\n",
       "      <td>-8.0</td>\n",
       "      <td>06-May-2019</td>\n",
       "      <td>15:28:09</td>\n",
       "      <td>Ok</td>\n",
       "      <td>false</td>\n",
       "      <td>...</td>\n",
       "      <td>false</td>\n",
       "      <td></td>\n",
       "      <td></td>\n",
       "      <td></td>\n",
       "      <td>false</td>\n",
       "      <td>false</td>\n",
       "      <td>false</td>\n",
       "      <td>false</td>\n",
       "      <td>false</td>\n",
       "      <td>false</td>\n",
       "    </tr>\n",
       "  </tbody>\n",
       "</table>\n",
       "<p>2 rows × 30 columns</p>\n",
       "</div>"
      ],
      "text/plain": [
       "   Id          File RelativePath Folder                  DateTime  UtcOffset  \\\n",
       "0   1  RCNX0001.JPG  S11_5.6-6.7     11  2019-05-06T23:27:59.000Z       -8.0   \n",
       "1   2  RCNX0002.JPG  S11_5.6-6.7     11  2019-05-06T23:28:09.000Z       -8.0   \n",
       "\n",
       "          Date      Time ImageQuality DeleteFlag  ... Movement_Rate Comment  \\\n",
       "0  06-May-2019  15:27:59           Ok      false  ...         false           \n",
       "1  06-May-2019  15:28:09           Ok      false  ...         false           \n",
       "\n",
       "  Snow_Cover Camera_Failure Not_Counted Waterfowl Upland_Game_Bird Songbird  \\\n",
       "0                                 false     false            false    false   \n",
       "1                                 false     false            false    false   \n",
       "\n",
       "  Sea_Shore_Bird Bird_of_Prey  \n",
       "0          false        false  \n",
       "1          false        false  \n",
       "\n",
       "[2 rows x 30 columns]"
      ]
     },
     "execution_count": 19,
     "metadata": {},
     "output_type": "execute_result"
    }
   ],
   "source": [
    "a[:2]"
   ]
  },
  {
   "cell_type": "code",
   "execution_count": null,
   "metadata": {},
   "outputs": [],
   "source": []
  }
 ],
 "metadata": {
  "kernelspec": {
   "display_name": "playground",
   "language": "python",
   "name": "playground"
  },
  "language_info": {
   "codemirror_mode": {
    "name": "ipython",
    "version": 3
   },
   "file_extension": ".py",
   "mimetype": "text/x-python",
   "name": "python",
   "nbconvert_exporter": "python",
   "pygments_lexer": "ipython3",
   "version": "3.7.3"
  }
 },
 "nbformat": 4,
 "nbformat_minor": 4
}
