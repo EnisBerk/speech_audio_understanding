{
 "cells": [
  {
   "cell_type": "code",
   "execution_count": 15,
   "metadata": {},
   "outputs": [
    {
     "name": "stdout",
     "output_type": "stream",
     "text": [
      "/home/enis/projects/nna/src\n"
     ]
    }
   ],
   "source": [
    "import os\n",
    "import sys\n",
    "\n",
    "module_path = os.path.abspath(os.path.join('../../src'))\n",
    "print(module_path)\n",
    "if module_path not in sys.path:\n",
    "    sys.path.append(module_path)"
   ]
  },
  {
   "cell_type": "code",
   "execution_count": 7,
   "metadata": {},
   "outputs": [],
   "source": [
    "import csv"
   ]
  },
  {
   "cell_type": "code",
   "execution_count": 8,
   "metadata": {},
   "outputs": [],
   "source": [
    "flder=\"/home/enis/projects/nna/data/\"\n",
    "\n",
    "coordinates_fpath= flder + \"NNA_recording_devices.csv\""
   ]
  },
  {
   "cell_type": "code",
   "execution_count": 11,
   "metadata": {},
   "outputs": [],
   "source": [
    "#Load coordinates\n",
    "with open(coordinates_fpath) as cordinate:\n",
    "    r=csv.reader(cordinate)\n",
    "    lines=list(r)\n",
    "\n",
    "cord= {i[2]:(i[1],i[0]) for i in lines[1:]}\n",
    "\n",
    "\n",
    "for c in cord:\n",
    "    if \"Todd\" in c:\n",
    "        c_new=c.replace(\"Todd\",\"\")\n",
    "        cord[c_new] = cord.pop(c)\n",
    "\n"
   ]
  },
  {
   "cell_type": "code",
   "execution_count": null,
   "metadata": {},
   "outputs": [],
   "source": [
    "weather={}\n",
    "weather_data_path=\"/home/enis/projects/nna/data/weather_data_prudhoe-bay.pkl\"\n",
    "\n",
    "with open(weather_data_path,\"rb\") as wdata:\n",
    "    wdata=pickle.load(wdata)\n",
    "\n",
    "\n",
    "# we add tmstamp_valid\":tmstamp_valid to data\n",
    "weather_id_name={\"temp\":\"temp\", \n",
    "                 \"pressure\":\"pressure\",\n",
    "                 \"wspd\":\"windspeed\",\n",
    "                \"precip_hrly\":\"Precipitation\",\n",
    "                \"vis\":\"Visibility\"}\n",
    "weather_cols=list(weather_id_name.values())\n",
    "\n",
    "\n",
    "#correct time zones and filter unwanted data from each day\n",
    "filtered_data=[]\n",
    "for data in wdata:\n",
    "    tmstamp_valid = datetime.fromtimestamp(time.mktime(time.gmtime(data[\"valid_time_gmt\"])))\n",
    "    tmstamp_valid=tmstamp_valid.astimezone(timezone('US/Alaska'))\n",
    "    tmstamp_exp = datetime.fromtimestamp(time.mktime(time.gmtime(data[\"expire_time_gmt\"])))\n",
    "    tmstamp_exp=tmstamp_exp.astimezone(timezone('US/Alaska'))\n",
    "    \n",
    "\n",
    "    filtered_dict={\"tmstamp_valid\":tmstamp_valid}\n",
    "    for ID in weather_id_name:\n",
    "        filtered_dict[weather_id_name[ID]]=data[ID]\n",
    "    \n",
    "    filtered_data.append(copy.deepcopy(filtered_dict))\n",
    "\n",
    "\n",
    "\n",
    "weather=pd.DataFrame(filtered_data).set_index('tmstamp_valid').tz_localize(None)"
   ]
  },
  {
   "cell_type": "code",
   "execution_count": null,
   "metadata": {},
   "outputs": [],
   "source": [
    "weather.columns"
   ]
  },
  {
   "cell_type": "code",
   "execution_count": null,
   "metadata": {},
   "outputs": [],
   "source": [
    "# For our events, %100 means, it is detected constantly for two hours, but thats not the case for the weather.\n",
    "# For weather data we do not have second by second information, just hourly, sometimes every half an hour.\n",
    "# I take average value of Precipitation per 2 hours. \n",
    "# Then I normalize Precipitation values. \n",
    "# So %100 participation does not mean it did rain for 2 hours. \n",
    "# It means that this specific day have highest amount of rain over the summer.\n",
    "\n",
    "counts = weather.groupby([pd.Grouper(freq=freq)]).count()\n",
    "sums=weather.groupby([pd.Grouper(freq=freq)]).sum()\n",
    "avg_weather=sums/counts\n",
    "\n",
    "# ??? NORMALIZE weather \n",
    "normal_weather=(avg_weather-avg_weather.min())/(avg_weather.max()-avg_weather.min())\n",
    "normal_weather=normal_weather*100\n",
    "\n",
    "# pd.ones()\n",
    "# SPECIAL for rain :\n",
    "if \"Precipitation\" in normal_weather:\n",
    "    normal_weather=sums.where((sums<=0),100)"
   ]
  },
  {
   "cell_type": "code",
   "execution_count": 23,
   "metadata": {},
   "outputs": [],
   "source": [
    "\n",
    "with open((\"../../data/stinchcombpair.txt\")) as f:\n",
    "    lines=f.readlines()\n",
    "    lines=[line.strip().split(\"\\t\") for line in lines ]"
   ]
  },
  {
   "cell_type": "code",
   "execution_count": 39,
   "metadata": {},
   "outputs": [],
   "source": [
    "old2new={}\n",
    "for old,new in lines:\n",
    "    old2new[\"/home/data/nna\"+old[1:]]=\"/tank/data/nna\"+new[1:]"
   ]
  },
  {
   "cell_type": "code",
   "execution_count": null,
   "metadata": {},
   "outputs": [],
   "source": []
  },
  {
   "cell_type": "code",
   "execution_count": 4,
   "metadata": {},
   "outputs": [],
   "source": [
    "import pandas as pd\n",
    "file_properties_df=pd.read_pickle(\"../../data/stinchcomb_dataV1.pkl\")\n"
   ]
  },
  {
   "cell_type": "code",
   "execution_count": null,
   "metadata": {},
   "outputs": [],
   "source": [
    "##/scratch/enis/data/nna/real/2019/S4A10283_20190506_000000_FCmodel/S4A10283_20190506_000000_FCmodel000.npy\n",
    "\n",
    "# /tank/data/nna/real/prudhoe/15/2019/S4A10283_20190506_093000.flac\n",
    "\n",
    "#/scratch/enis/data/nna/real_2organize/15A/S4A10283_20190506_000000_FCmodel/S4A10283_20190506_000000_FCmodel000.npy\n",
    "#/scratch/enis/data/nna/real_new/prudhoe/15/2019/S4A10283_20190506_093000.flac\n"
   ]
  },
  {
   "cell_type": "code",
   "execution_count": null,
   "metadata": {},
   "outputs": [],
   "source": []
  },
  {
   "cell_type": "code",
   "execution_count": 50,
   "metadata": {},
   "outputs": [
    {
     "name": "stdout",
     "output_type": "stream",
     "text": [
      "/tank/data/nna/real/stinchcomb/05-Colville5/2016/CLVL5_20160602_163306.MP3\n"
     ]
    }
   ],
   "source": [
    "#/tank/data/nna/real/stinchcomb/05-Colville5/2016/CLVL5_20160602_163306.MP3\n"
   ]
  },
  {
   "cell_type": "code",
   "execution_count": null,
   "metadata": {},
   "outputs": [],
   "source": [
    "'stinchcomb/NUI_DATA/05 Colville 5/June 2016/CLVL5_20160602_163306.MP3'"
   ]
  },
  {
   "cell_type": "code",
   "execution_count": 2,
   "metadata": {},
   "outputs": [],
   "source": [
    "import numpy as np\n",
    "inference_file=\"/home/enis/projects/nna/notebooks/Visualizations/8tags_on_8sites.npy\"\n",
    "gathered_results_perTag=np.load(inference_file,allow_pickle=True)[()]\n"
   ]
  },
  {
   "cell_type": "code",
   "execution_count": 64,
   "metadata": {},
   "outputs": [
    {
     "name": "stdout",
     "output_type": "stream",
     "text": [
      "/home/data/nna/stinchcomb/NUI_DATA/09 USGS/(1)TURBOPROPorLIGHTWEIGHT_USGS_20160610_154310.mp3\n",
      "/home/data/nna/stinchcomb/NUI_DATA/09 USGS/(2)TURBOPROPorLIGHTWEIGHT_USGS_20160610_160221.mp3\n",
      "/home/data/nna/stinchcomb/NUI_DATA/09 USGS/PassOver2_USGS_20160610_162930.mp3\n",
      "/home/data/nna/stinchcomb/NUI_DATA/09 USGS/PassOver_USGS_20160610_160246.mp3\n",
      "/home/data/nna/stinchcomb/NUI_DATA/09 USGS/(3)TURBOPROPorLIGHTWEIGHT_USGS_20160610_161304.mp3\n",
      "/home/data/nna/stinchcomb/NUI_DATA/09 USGS/(1)TURBOPROPorLIGHTWEIGHT_USGS_20160610_154310.mp3\n",
      "/home/data/nna/stinchcomb/NUI_DATA/09 USGS/(2)TURBOPROPorLIGHTWEIGHT_USGS_20160610_160221.mp3\n",
      "/home/data/nna/stinchcomb/NUI_DATA/09 USGS/PassOver2_USGS_20160610_162930.mp3\n",
      "/home/data/nna/stinchcomb/NUI_DATA/09 USGS/PassOver_USGS_20160610_160246.mp3\n",
      "/home/data/nna/stinchcomb/NUI_DATA/09 USGS/(3)TURBOPROPorLIGHTWEIGHT_USGS_20160610_161304.mp3\n",
      "/home/data/nna/stinchcomb/NUI_DATA/09 USGS/(1)TURBOPROPorLIGHTWEIGHT_USGS_20160610_154310.mp3\n",
      "/home/data/nna/stinchcomb/NUI_DATA/09 USGS/(2)TURBOPROPorLIGHTWEIGHT_USGS_20160610_160221.mp3\n",
      "/home/data/nna/stinchcomb/NUI_DATA/09 USGS/PassOver2_USGS_20160610_162930.mp3\n",
      "/home/data/nna/stinchcomb/NUI_DATA/09 USGS/PassOver_USGS_20160610_160246.mp3\n",
      "/home/data/nna/stinchcomb/NUI_DATA/09 USGS/(3)TURBOPROPorLIGHTWEIGHT_USGS_20160610_161304.mp3\n",
      "/home/data/nna/stinchcomb/NUI_DATA/09 USGS/(1)TURBOPROPorLIGHTWEIGHT_USGS_20160610_154310.mp3\n",
      "/home/data/nna/stinchcomb/NUI_DATA/09 USGS/(2)TURBOPROPorLIGHTWEIGHT_USGS_20160610_160221.mp3\n",
      "/home/data/nna/stinchcomb/NUI_DATA/09 USGS/PassOver2_USGS_20160610_162930.mp3\n",
      "/home/data/nna/stinchcomb/NUI_DATA/09 USGS/PassOver_USGS_20160610_160246.mp3\n",
      "/home/data/nna/stinchcomb/NUI_DATA/09 USGS/(3)TURBOPROPorLIGHTWEIGHT_USGS_20160610_161304.mp3\n",
      "/home/data/nna/stinchcomb/NUI_DATA/09 USGS/(1)TURBOPROPorLIGHTWEIGHT_USGS_20160610_154310.mp3\n",
      "/home/data/nna/stinchcomb/NUI_DATA/09 USGS/(2)TURBOPROPorLIGHTWEIGHT_USGS_20160610_160221.mp3\n",
      "/home/data/nna/stinchcomb/NUI_DATA/09 USGS/PassOver2_USGS_20160610_162930.mp3\n",
      "/home/data/nna/stinchcomb/NUI_DATA/09 USGS/PassOver_USGS_20160610_160246.mp3\n",
      "/home/data/nna/stinchcomb/NUI_DATA/09 USGS/(3)TURBOPROPorLIGHTWEIGHT_USGS_20160610_161304.mp3\n",
      "/home/data/nna/stinchcomb/NUI_DATA/09 USGS/(1)TURBOPROPorLIGHTWEIGHT_USGS_20160610_154310.mp3\n",
      "/home/data/nna/stinchcomb/NUI_DATA/09 USGS/(2)TURBOPROPorLIGHTWEIGHT_USGS_20160610_160221.mp3\n",
      "/home/data/nna/stinchcomb/NUI_DATA/09 USGS/PassOver2_USGS_20160610_162930.mp3\n",
      "/home/data/nna/stinchcomb/NUI_DATA/09 USGS/PassOver_USGS_20160610_160246.mp3\n",
      "/home/data/nna/stinchcomb/NUI_DATA/09 USGS/(3)TURBOPROPorLIGHTWEIGHT_USGS_20160610_161304.mp3\n",
      "/home/data/nna/stinchcomb/NUI_DATA/09 USGS/(1)TURBOPROPorLIGHTWEIGHT_USGS_20160610_154310.mp3\n",
      "/home/data/nna/stinchcomb/NUI_DATA/09 USGS/(2)TURBOPROPorLIGHTWEIGHT_USGS_20160610_160221.mp3\n",
      "/home/data/nna/stinchcomb/NUI_DATA/09 USGS/PassOver2_USGS_20160610_162930.mp3\n",
      "/home/data/nna/stinchcomb/NUI_DATA/09 USGS/PassOver_USGS_20160610_160246.mp3\n",
      "/home/data/nna/stinchcomb/NUI_DATA/09 USGS/(3)TURBOPROPorLIGHTWEIGHT_USGS_20160610_161304.mp3\n",
      "/home/data/nna/stinchcomb/NUI_DATA/09 USGS/(1)TURBOPROPorLIGHTWEIGHT_USGS_20160610_154310.mp3\n",
      "/home/data/nna/stinchcomb/NUI_DATA/09 USGS/(2)TURBOPROPorLIGHTWEIGHT_USGS_20160610_160221.mp3\n",
      "/home/data/nna/stinchcomb/NUI_DATA/09 USGS/PassOver2_USGS_20160610_162930.mp3\n",
      "/home/data/nna/stinchcomb/NUI_DATA/09 USGS/PassOver_USGS_20160610_160246.mp3\n",
      "/home/data/nna/stinchcomb/NUI_DATA/09 USGS/(3)TURBOPROPorLIGHTWEIGHT_USGS_20160610_161304.mp3\n"
     ]
    }
   ],
   "source": [
    "# gathered_results_perTag_v2={i:{} for i in gathered_results_perTag.keys()}\n",
    "for tag in gathered_results_perTag.keys():\n",
    "    for link in gathered_results_perTag[tag]:\n",
    "#         print(link)\n",
    "#         print(old2new[str(link)])\n",
    "#         file_properties_df.loc[Path(old2new[str(link)])]\n",
    "        count=0\n",
    "        for m in file_properties_df.index: \n",
    "            if link.stem in str(m):\n",
    "                if count==1:\n",
    "                    print(count)\n",
    "                    print(m)\n",
    "                count+=1\n",
    "                new_link=m\n",
    "        if count==0:\n",
    "            print(link)\n",
    "                \n",
    "#         gathered_results_perTag_v2[tag][new_link]=gathered_results_perTag[tag][link]\n"
   ]
  },
  {
   "cell_type": "code",
   "execution_count": 65,
   "metadata": {},
   "outputs": [
    {
     "data": {
      "text/plain": [
       "234"
      ]
     },
     "execution_count": 65,
     "metadata": {},
     "output_type": "execute_result"
    }
   ],
   "source": [
    "len(gathered_results_perTag_v2['Neural Net_Songbird'])"
   ]
  },
  {
   "cell_type": "code",
   "execution_count": 66,
   "metadata": {},
   "outputs": [
    {
     "data": {
      "text/plain": [
       "239"
      ]
     },
     "execution_count": 66,
     "metadata": {},
     "output_type": "execute_result"
    }
   ],
   "source": [
    "len(gathered_results_perTag['Neural Net_Songbird'])"
   ]
  },
  {
   "cell_type": "code",
   "execution_count": 67,
   "metadata": {},
   "outputs": [],
   "source": [
    "np.save(\"/home/enis/projects/nna/notebooks/Visualizations/8tags_on_8sites_pathV2.npy\", gathered_results_perTag_v2)"
   ]
  },
  {
   "cell_type": "code",
   "execution_count": 68,
   "metadata": {},
   "outputs": [
    {
     "ename": "KeyError",
     "evalue": "PosixPath('/tank/data/nna/real/stinchcomb/03-OceanPt/2016/OCNPT_20160602_144316.MP3')",
     "output_type": "error",
     "traceback": [
      "\u001b[0;31m---------------------------------------------------------------------------\u001b[0m",
      "\u001b[0;31mKeyError\u001b[0m                                  Traceback (most recent call last)",
      "\u001b[0;32m<ipython-input-68-c12476f7ca2e>\u001b[0m in \u001b[0;36m<module>\u001b[0;34m\u001b[0m\n\u001b[1;32m      1\u001b[0m \u001b[0mket\u001b[0m\u001b[0;34m=\u001b[0m\u001b[0mPath\u001b[0m\u001b[0;34m(\u001b[0m\u001b[0;34m'/tank/data/nna/real/stinchcomb/03-OceanPt/2016/OCNPT_20160602_144316.MP3'\u001b[0m\u001b[0;34m)\u001b[0m\u001b[0;34m\u001b[0m\u001b[0;34m\u001b[0m\u001b[0m\n\u001b[0;32m----> 2\u001b[0;31m \u001b[0mgathered_results_perTag\u001b[0m\u001b[0;34m[\u001b[0m\u001b[0;34m'Neural Net_Songbird'\u001b[0m\u001b[0;34m]\u001b[0m\u001b[0;34m[\u001b[0m\u001b[0mket\u001b[0m\u001b[0;34m]\u001b[0m\u001b[0;34m\u001b[0m\u001b[0;34m\u001b[0m\u001b[0m\n\u001b[0m",
      "\u001b[0;31mKeyError\u001b[0m: PosixPath('/tank/data/nna/real/stinchcomb/03-OceanPt/2016/OCNPT_20160602_144316.MP3')"
     ]
    }
   ],
   "source": [
    "ket=Path('/tank/data/nna/real/stinchcomb/03-OceanPt/2016/OCNPT_20160602_144316.MP3')\n",
    "gathered_results_perTag['Neural Net_Songbird'][ket]"
   ]
  },
  {
   "cell_type": "code",
   "execution_count": 76,
   "metadata": {},
   "outputs": [],
   "source": [
    "# for i in gathered_results_perTag['Neural Net_Songbird']:\n",
    "#     if  \"ITKILLIK1\" in str(i):\n",
    "#         print(i)"
   ]
  },
  {
   "cell_type": "code",
   "execution_count": 86,
   "metadata": {},
   "outputs": [],
   "source": [
    "import pickle\n",
    "with open(\"/home/enis/projects/nna/data/8tags_on_8sites_DF.pkl\", 'rb') as  dffile:\n",
    "    db = pickle.load(dffile) "
   ]
  },
  {
   "cell_type": "code",
   "execution_count": 87,
   "metadata": {},
   "outputs": [
    {
     "data": {
      "text/html": [
       "<div>\n",
       "<style scoped>\n",
       "    .dataframe tbody tr th:only-of-type {\n",
       "        vertical-align: middle;\n",
       "    }\n",
       "\n",
       "    .dataframe tbody tr th {\n",
       "        vertical-align: top;\n",
       "    }\n",
       "\n",
       "    .dataframe thead th {\n",
       "        text-align: right;\n",
       "    }\n",
       "</style>\n",
       "<table border=\"1\" class=\"dataframe\">\n",
       "  <thead>\n",
       "    <tr style=\"text-align: right;\">\n",
       "      <th></th>\n",
       "      <th>Neural Net_Songbird</th>\n",
       "      <th>Neural Net_Water Bird</th>\n",
       "      <th>Neural Net_Insect</th>\n",
       "      <th>Neural Net_Running Water</th>\n",
       "      <th>Neural Net_Rain</th>\n",
       "      <th>Neural Net_Cable</th>\n",
       "      <th>Neural Net_Wind</th>\n",
       "      <th>Neural Net_Aircraft</th>\n",
       "    </tr>\n",
       "  </thead>\n",
       "  <tbody>\n",
       "    <tr>\n",
       "      <td>2016-06-02 00:00:00</td>\n",
       "      <td>0.0</td>\n",
       "      <td>0.0</td>\n",
       "      <td>0.0</td>\n",
       "      <td>0.0</td>\n",
       "      <td>0.0</td>\n",
       "      <td>0.0</td>\n",
       "      <td>0.0</td>\n",
       "      <td>0.0</td>\n",
       "    </tr>\n",
       "    <tr>\n",
       "      <td>2016-06-02 02:00:00</td>\n",
       "      <td>0.0</td>\n",
       "      <td>0.0</td>\n",
       "      <td>0.0</td>\n",
       "      <td>0.0</td>\n",
       "      <td>0.0</td>\n",
       "      <td>0.0</td>\n",
       "      <td>0.0</td>\n",
       "      <td>0.0</td>\n",
       "    </tr>\n",
       "    <tr>\n",
       "      <td>2016-06-02 04:00:00</td>\n",
       "      <td>0.0</td>\n",
       "      <td>0.0</td>\n",
       "      <td>0.0</td>\n",
       "      <td>0.0</td>\n",
       "      <td>0.0</td>\n",
       "      <td>0.0</td>\n",
       "      <td>0.0</td>\n",
       "      <td>0.0</td>\n",
       "    </tr>\n",
       "    <tr>\n",
       "      <td>2016-06-02 06:00:00</td>\n",
       "      <td>0.0</td>\n",
       "      <td>0.0</td>\n",
       "      <td>0.0</td>\n",
       "      <td>0.0</td>\n",
       "      <td>0.0</td>\n",
       "      <td>0.0</td>\n",
       "      <td>0.0</td>\n",
       "      <td>0.0</td>\n",
       "    </tr>\n",
       "    <tr>\n",
       "      <td>2016-06-02 08:00:00</td>\n",
       "      <td>0.0</td>\n",
       "      <td>0.0</td>\n",
       "      <td>0.0</td>\n",
       "      <td>0.0</td>\n",
       "      <td>0.0</td>\n",
       "      <td>0.0</td>\n",
       "      <td>0.0</td>\n",
       "      <td>0.0</td>\n",
       "    </tr>\n",
       "    <tr>\n",
       "      <td>...</td>\n",
       "      <td>...</td>\n",
       "      <td>...</td>\n",
       "      <td>...</td>\n",
       "      <td>...</td>\n",
       "      <td>...</td>\n",
       "      <td>...</td>\n",
       "      <td>...</td>\n",
       "      <td>...</td>\n",
       "    </tr>\n",
       "    <tr>\n",
       "      <td>2016-08-31 12:00:00</td>\n",
       "      <td>0.0</td>\n",
       "      <td>0.0</td>\n",
       "      <td>0.0</td>\n",
       "      <td>0.0</td>\n",
       "      <td>0.0</td>\n",
       "      <td>0.0</td>\n",
       "      <td>0.0</td>\n",
       "      <td>0.0</td>\n",
       "    </tr>\n",
       "    <tr>\n",
       "      <td>2016-08-31 14:00:00</td>\n",
       "      <td>0.0</td>\n",
       "      <td>0.0</td>\n",
       "      <td>0.0</td>\n",
       "      <td>0.0</td>\n",
       "      <td>0.0</td>\n",
       "      <td>0.0</td>\n",
       "      <td>0.0</td>\n",
       "      <td>0.0</td>\n",
       "    </tr>\n",
       "    <tr>\n",
       "      <td>2016-08-31 16:00:00</td>\n",
       "      <td>0.0</td>\n",
       "      <td>0.0</td>\n",
       "      <td>0.0</td>\n",
       "      <td>0.0</td>\n",
       "      <td>0.0</td>\n",
       "      <td>0.0</td>\n",
       "      <td>0.0</td>\n",
       "      <td>0.0</td>\n",
       "    </tr>\n",
       "    <tr>\n",
       "      <td>2016-08-31 18:00:00</td>\n",
       "      <td>0.0</td>\n",
       "      <td>0.0</td>\n",
       "      <td>0.0</td>\n",
       "      <td>0.0</td>\n",
       "      <td>0.0</td>\n",
       "      <td>0.0</td>\n",
       "      <td>0.0</td>\n",
       "      <td>0.0</td>\n",
       "    </tr>\n",
       "    <tr>\n",
       "      <td>2016-08-31 20:00:00</td>\n",
       "      <td>0.0</td>\n",
       "      <td>0.0</td>\n",
       "      <td>0.0</td>\n",
       "      <td>0.0</td>\n",
       "      <td>0.0</td>\n",
       "      <td>0.0</td>\n",
       "      <td>0.0</td>\n",
       "      <td>0.0</td>\n",
       "    </tr>\n",
       "  </tbody>\n",
       "</table>\n",
       "<p>1091 rows × 8 columns</p>\n",
       "</div>"
      ],
      "text/plain": [
       "                     Neural Net_Songbird  Neural Net_Water Bird  \\\n",
       "2016-06-02 00:00:00                  0.0                    0.0   \n",
       "2016-06-02 02:00:00                  0.0                    0.0   \n",
       "2016-06-02 04:00:00                  0.0                    0.0   \n",
       "2016-06-02 06:00:00                  0.0                    0.0   \n",
       "2016-06-02 08:00:00                  0.0                    0.0   \n",
       "...                                  ...                    ...   \n",
       "2016-08-31 12:00:00                  0.0                    0.0   \n",
       "2016-08-31 14:00:00                  0.0                    0.0   \n",
       "2016-08-31 16:00:00                  0.0                    0.0   \n",
       "2016-08-31 18:00:00                  0.0                    0.0   \n",
       "2016-08-31 20:00:00                  0.0                    0.0   \n",
       "\n",
       "                     Neural Net_Insect  Neural Net_Running Water  \\\n",
       "2016-06-02 00:00:00                0.0                       0.0   \n",
       "2016-06-02 02:00:00                0.0                       0.0   \n",
       "2016-06-02 04:00:00                0.0                       0.0   \n",
       "2016-06-02 06:00:00                0.0                       0.0   \n",
       "2016-06-02 08:00:00                0.0                       0.0   \n",
       "...                                ...                       ...   \n",
       "2016-08-31 12:00:00                0.0                       0.0   \n",
       "2016-08-31 14:00:00                0.0                       0.0   \n",
       "2016-08-31 16:00:00                0.0                       0.0   \n",
       "2016-08-31 18:00:00                0.0                       0.0   \n",
       "2016-08-31 20:00:00                0.0                       0.0   \n",
       "\n",
       "                     Neural Net_Rain  Neural Net_Cable  Neural Net_Wind  \\\n",
       "2016-06-02 00:00:00              0.0               0.0              0.0   \n",
       "2016-06-02 02:00:00              0.0               0.0              0.0   \n",
       "2016-06-02 04:00:00              0.0               0.0              0.0   \n",
       "2016-06-02 06:00:00              0.0               0.0              0.0   \n",
       "2016-06-02 08:00:00              0.0               0.0              0.0   \n",
       "...                              ...               ...              ...   \n",
       "2016-08-31 12:00:00              0.0               0.0              0.0   \n",
       "2016-08-31 14:00:00              0.0               0.0              0.0   \n",
       "2016-08-31 16:00:00              0.0               0.0              0.0   \n",
       "2016-08-31 18:00:00              0.0               0.0              0.0   \n",
       "2016-08-31 20:00:00              0.0               0.0              0.0   \n",
       "\n",
       "                     Neural Net_Aircraft  \n",
       "2016-06-02 00:00:00                  0.0  \n",
       "2016-06-02 02:00:00                  0.0  \n",
       "2016-06-02 04:00:00                  0.0  \n",
       "2016-06-02 06:00:00                  0.0  \n",
       "2016-06-02 08:00:00                  0.0  \n",
       "...                                  ...  \n",
       "2016-08-31 12:00:00                  0.0  \n",
       "2016-08-31 14:00:00                  0.0  \n",
       "2016-08-31 16:00:00                  0.0  \n",
       "2016-08-31 18:00:00                  0.0  \n",
       "2016-08-31 20:00:00                  0.0  \n",
       "\n",
       "[1091 rows x 8 columns]"
      ]
     },
     "execution_count": 87,
     "metadata": {},
     "output_type": "execute_result"
    }
   ],
   "source": [
    "db['05-Colville5'][0]"
   ]
  },
  {
   "cell_type": "markdown",
   "metadata": {},
   "source": [
    "## changing file names\n",
    "#### do not forget to delete job artifcats firsts in real_2organize  _splits _preproces etc "
   ]
  },
  {
   "cell_type": "code",
   "execution_count": 2,
   "metadata": {},
   "outputs": [],
   "source": [
    "import pandas as pd\n",
    "from fileUtils import list_files\n",
    "\n",
    "file_properties_df=pd.read_pickle(\"../../data/realdata_v2No_stinchcomb.pkl\")\n"
   ]
  },
  {
   "cell_type": "code",
   "execution_count": null,
   "metadata": {},
   "outputs": [],
   "source": [
    "#source /scratch/enis/data/nna/real_2organize/15A/S4A10283_20190506_000000_FCmodel/S4A10283_20190506_000000_FCmodel000.npy\n",
    "#target /scratch/enis/data/nna/real_new/prudhoe/15/2019/S4A10283_20190506_093000.flac\n",
    "\n"
   ]
  },
  {
   "cell_type": "code",
   "execution_count": 54,
   "metadata": {},
   "outputs": [],
   "source": [
    "real_2organize=list_files(\"/scratch/enis/data/nna/real_2organize/\")"
   ]
  },
  {
   "cell_type": "code",
   "execution_count": 35,
   "metadata": {},
   "outputs": [],
   "source": [
    "index_names=[i.stem for i in file_properties_df.index]"
   ]
  },
  {
   "cell_type": "code",
   "execution_count": 40,
   "metadata": {},
   "outputs": [],
   "source": [
    "# file_properties_df.index[0].stem \n",
    "file_properties_df['stem'] = [i.stem for i in file_properties_df.index]\n"
   ]
  },
  {
   "cell_type": "code",
   "execution_count": 84,
   "metadata": {},
   "outputs": [],
   "source": [
    "stem2path={}\n",
    "for filepath,stem,region,site_id,year in zip(file_properties_df.index,file_properties_df[\"stem\"],file_properties_df[\"region\"],\n",
    "              file_properties_df[\"site_id\"],file_properties_df[\"year\"],):\n",
    "#     stem2path[]\n",
    "#     row=file_properties_df.loc[a]\n",
    "    stem2path[stem]=[filepath,region,site_id,year]\n",
    "    "
   ]
  },
  {
   "cell_type": "code",
   "execution_count": 95,
   "metadata": {},
   "outputs": [],
   "source": [
    "allfilenmaes=[]\n",
    "for item in real_2organize:\n",
    "    src=Path(item)\n",
    "    stem=\"_\".join(item.split(\"/\")[-1].split(\"_\")[:-1])\n",
    "    path2file=\"/\".join(item.split(\"/\")[-2:])\n",
    "#     results=file_properties_df[file_properties_df.stem==stem]\n",
    "    filename=stem2path[stem][0]\n",
    "    row=stem2path[stem]\n",
    "#     allfilenmaes.append(filename)\n",
    "    dst=Path(\"/scratch/enis/data/nna/real_new/\")/row[1]/row[2]/row[3]/path2file\n",
    "#     print(src,dst)\n",
    "#     break\n",
    "    dst.parent.mkdir(parents=True, exist_ok=True)\n",
    "    src.rename(dst)\n",
    "\n",
    "    "
   ]
  }
 ],
 "metadata": {
  "kernelspec": {
   "display_name": "speechEnv",
   "language": "python",
   "name": "speechenv"
  },
  "language_info": {
   "codemirror_mode": {
    "name": "ipython",
    "version": 3
   },
   "file_extension": ".py",
   "mimetype": "text/x-python",
   "name": "python",
   "nbconvert_exporter": "python",
   "pygments_lexer": "ipython3",
   "version": "3.7.2"
  }
 },
 "nbformat": 4,
 "nbformat_minor": 4
}
