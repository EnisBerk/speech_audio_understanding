{
 "cells": [
  {
   "cell_type": "code",
   "execution_count": null,
   "metadata": {},
   "outputs": [],
   "source": []
  },
  {
   "cell_type": "code",
   "execution_count": null,
   "metadata": {},
   "outputs": [],
   "source": []
  },
  {
   "cell_type": "code",
   "execution_count": null,
   "metadata": {},
   "outputs": [],
   "source": [
    "\n",
    "# tags=[\"Songbird\",\"Water Bird\",\"Insect\",\"Running Water\",\"Rain\",\"Cable\",\"Wind\",\"Vehicle\",\"Aircraft\"]\n",
    "tag_set=[\"Songbird\",\"Water Bird\",\"Insect\",\"Running Water\",\"Rain\",\"Cable\",\"Wind\",\"Aircraft\"]\n",
    "\n",
    "\n",
    "\n",
    "# # LOAD LABELS by human\n",
    "# labelsbyhumanpath=Path('/scratch/enis/data/nna/labeling/results/')\n",
    "# # filter by username\n",
    "# labelsbyhuman=[i for i in listdir(labelsbyhumanpath) if (\".csv\" in i) ]\n",
    "\n",
    "# humanresults={}\n",
    "# counter=0\n",
    "# for apath in labelsbyhuman:\n",
    "#     with open(labelsbyhumanpath / apath, newline='') as f:\n",
    "#         reader=csv.reader(f)\n",
    "#         for row in reader:\n",
    "#             counter+=1\n",
    "#             humanresults[row[0]]=row[1:]\n",
    "\n",
    "# print(\"unique files:\",len(humanresults),\"\\ntotal files\",counter)\n",
    "\n",
    "# #Join vehicle and Aircraft\n",
    "# for file_name,tagshere in humanresults.items():\n",
    "# #     print(file_name,tagshere)\n",
    "    \n",
    "#     tagshere=[\"Aircraft\" if tag == \"Vehicle\" else tag for tag in tags]"
   ]
  }
 ],
 "metadata": {
  "kernelspec": {
   "display_name": "speechEnv",
   "language": "python",
   "name": "speechenv"
  },
  "language_info": {
   "codemirror_mode": {
    "name": "ipython",
    "version": 3
   },
   "file_extension": ".py",
   "mimetype": "text/x-python",
   "name": "python",
   "nbconvert_exporter": "python",
   "pygments_lexer": "ipython3",
   "version": "3.7.2"
  }
 },
 "nbformat": 4,
 "nbformat_minor": 4
}
