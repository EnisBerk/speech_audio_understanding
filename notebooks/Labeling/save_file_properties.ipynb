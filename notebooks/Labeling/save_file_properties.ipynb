{
 "cells": [
  {
   "cell_type": "code",
   "execution_count": 3,
   "metadata": {},
   "outputs": [
    {
     "name": "stdout",
     "output_type": "stream",
     "text": [
      "/home/enis/projects/nna/src\n"
     ]
    }
   ],
   "source": [
    "import os\n",
    "import sys\n",
    "\n",
    "module_path = os.path.abspath(os.path.join('../../src'))\n",
    "print(module_path)\n",
    "if module_path not in sys.path:\n",
    "    sys.path.append(module_path)"
   ]
  },
  {
   "cell_type": "code",
   "execution_count": 4,
   "metadata": {},
   "outputs": [],
   "source": [
    "from fileUtils import list_files,getLength,read_file_properties_v2\n",
    "\n",
    "from pathlib import Path\n",
    "import pandas as pd\n",
    "\n"
   ]
  },
  {
   "cell_type": "code",
   "execution_count": 5,
   "metadata": {},
   "outputs": [],
   "source": [
    "# PARAMETERS\n",
    "\n",
    "# where to save txt file storing length info\n",
    "data_folder=\"/home/enis/projects/nna/data/\"\n",
    "\n",
    "# path to search for audio files\n",
    "# where\n",
    "ignore_folders=['/tank/data/nna/real/stinchcomb/']\n",
    "search_path=\"/tank/data/nna/real/\"\n",
    "\n",
    "\n",
    "# text file for audio files and their length\n",
    "files_list_path=data_folder+\"testv2.txt\"\n",
    "fileswlen_path = data_folder+\"test_wlenv2.txt\"\n",
    "\n",
    "\n",
    "pkl_file_name=\"WhatIsInFile\"\n",
    "\n"
   ]
  },
  {
   "cell_type": "code",
   "execution_count": null,
   "metadata": {},
   "outputs": [],
   "source": []
  },
  {
   "cell_type": "code",
   "execution_count": 6,
   "metadata": {},
   "outputs": [],
   "source": [
    "# Find all files in given search path ignoring given directories\n",
    "if not Path(fileswlen_path).exists():\n",
    "    files_path_list=list_files(search_path,ignore_folders)\n",
    "else:\n",
    "    with open(files_list_path,\"r\") as f:\n",
    "        lines=f.readlines()\n",
    "        files_path_list=[line.strip() for line in lines]\n"
   ]
  },
  {
   "cell_type": "code",
   "execution_count": 7,
   "metadata": {},
   "outputs": [],
   "source": [
    "# learn length of each audio and store in a text file, \n",
    "# if file already exists, it tries to get data from there\n",
    "if not Path(fileswlen_path).exists():\n",
    "    length_dict={}\n",
    "    for f in files_path_list:\n",
    "        length=float(getLength(f))\n",
    "        length_dict[f]=length\n",
    "\n",
    "    length_list=list(length_dict.items())\n",
    "    with open(fileswlen_path,\"w\") as f:\n",
    "        for line in length_list:\n",
    "            f.write(\",\".join([line[0],str(line[1])])+\"\\n\")\n",
    "\n",
    "with open(fileswlen_path,\"r\") as f:\n",
    "    lines=f.readlines()\n",
    "    fileswlen=[line.strip().split(\",\") for line in lines]"
   ]
  },
  {
   "cell_type": "code",
   "execution_count": null,
   "metadata": {},
   "outputs": [],
   "source": [
    "fileswlen=dict([(i[0],float(i[1])) for i in fileswlen])"
   ]
  },
  {
   "cell_type": "code",
   "execution_count": null,
   "metadata": {},
   "outputs": [],
   "source": [
    "audiofiles=list_files(search_path,ignore_folders)\n",
    "\n",
    "file_properties,exceptions=read_file_properties_v2(audiofiles)\n",
    "for f,lengthSeconds in fileswlen.items():\n",
    "    file_properties[Path(f)][\"durationSec\"] = lengthSeconds\n",
    "    file_properties[Path(f)][\"timestampEnd\"] = file_properties[Path(f)][\"timestamp\"] + datetime.timedelta(seconds=lengthSeconds)\n",
    "file_properties_df=pd.DataFrame(file_properties).T"
   ]
  },
  {
   "cell_type": "code",
   "execution_count": null,
   "metadata": {},
   "outputs": [],
   "source": [
    "file_properties_df.to_pickle(data_folder+pkl_file_name+\".pkl\")"
   ]
  },
  {
   "cell_type": "code",
   "execution_count": null,
   "metadata": {},
   "outputs": [],
   "source": [
    "file_properties_df=pd.read_pickle(data_folder+pkl_file_name+\"test_te.pkl\")"
   ]
  }
 ],
 "metadata": {
  "kernelspec": {
   "display_name": "speechEnv",
   "language": "python",
   "name": "speechenv"
  },
  "language_info": {
   "codemirror_mode": {
    "name": "ipython",
    "version": 3
   },
   "file_extension": ".py",
   "mimetype": "text/x-python",
   "name": "python",
   "nbconvert_exporter": "python",
   "pygments_lexer": "ipython3",
   "version": "3.7.2"
  }
 },
 "nbformat": 4,
 "nbformat_minor": 4
}
