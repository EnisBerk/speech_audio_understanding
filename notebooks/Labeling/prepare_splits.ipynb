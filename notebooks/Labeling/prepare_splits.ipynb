{
 "cells": [
  {
   "cell_type": "code",
   "execution_count": 1,
   "metadata": {},
   "outputs": [
    {
     "name": "stdout",
     "output_type": "stream",
     "text": [
      "/home/enis/projects/nna/src\n"
     ]
    }
   ],
   "source": [
    "import os\n",
    "import sys\n",
    "\n",
    "\n",
    "module_path = os.path.abspath(os.path.join('../../src'))\n",
    "print(module_path)\n",
    "if module_path not in sys.path:\n",
    "    sys.path.append(module_path)"
   ]
  },
  {
   "cell_type": "code",
   "execution_count": null,
   "metadata": {},
   "outputs": [],
   "source": []
  },
  {
   "cell_type": "code",
   "execution_count": 2,
   "metadata": {},
   "outputs": [],
   "source": [
    "from labeling_utils import save_to_csv,cut_random_file\n",
    "from fileUtils import read_file_properties,list_files,getLength\n",
    "from multiprocessing.dummy import Pool as ThreadPool\n",
    "import time\n",
    "\n",
    "from IPython.display import display\n",
    "import ipywidgets as widgets\n",
    "\n",
    "import random\n",
    "\n",
    "import glob\n",
    "import subprocess\n"
   ]
  },
  {
   "cell_type": "code",
   "execution_count": 3,
   "metadata": {},
   "outputs": [],
   "source": [
    "from pathlib import Path\n",
    "# PARAMETERS\n",
    "NUMBER_OF_SPLITS=20*1000\n",
    "THREAD_COUNT=20\n",
    "\n",
    "SAMPLES_DIR= Path(\"/scratch/enis/data/nna/labeling\")\n",
    "split_folder = SAMPLES_DIR / \"splitsv3/\"\n",
    "split_length_seconds=10\n",
    "\n",
    "flder=\"/home/enis/projects/nna/data/\"\n",
    "\n",
    "# files_list_path=flder+\"mp3files.txt\"\n",
    "# fileswlen_path = flder+\"mp3files_wlen.txt\"\n",
    "\n",
    "# files_list_path=flder+\"flacfilesv2.txt\"\n",
    "# fileswlen_path = flder+\"flacfiles_wlenv2.txt\"\n",
    "\n",
    "files_list_path=flder+\"flacfilesv3.txt\"\n",
    "fileswlen_path = flder+\"flacfiles_wlenv3.txt\"\n",
    "\n"
   ]
  },
  {
   "cell_type": "code",
   "execution_count": null,
   "metadata": {},
   "outputs": [],
   "source": []
  },
  {
   "cell_type": "code",
   "execution_count": 4,
   "metadata": {},
   "outputs": [
    {
     "name": "stdout",
     "output_type": "stream",
     "text": [
      "/home/enis/projects/nna/data/flacfiles_wlenv3.txt\n"
     ]
    }
   ],
   "source": [
    "!ls '/home/enis/projects/nna/data/flacfiles_wlenv3.txt'\n"
   ]
  },
  {
   "cell_type": "code",
   "execution_count": 5,
   "metadata": {},
   "outputs": [],
   "source": [
    "Path(split_folder).mkdir(exist_ok=True)"
   ]
  },
  {
   "cell_type": "code",
   "execution_count": 9,
   "metadata": {},
   "outputs": [],
   "source": [
    "\n",
    "if not Path(fileswlen_path).exists():\n",
    "    print(\"searching given directory\")\n",
    "    ignore_folders=['/tank/data/nna/real/stinchcomb/']\n",
    "    search_path=\"/tank/data/nna/real/\"\n",
    "\n",
    "    files_path_list=list_files(search_path,ignore_folders)\n",
    "else:\n",
    "    with open(files_list_path,\"r\") as f:\n",
    "        lines=f.readlines()\n",
    "        files_path_list=[line.strip() for line in lines]\n"
   ]
  },
  {
   "cell_type": "code",
   "execution_count": null,
   "metadata": {},
   "outputs": [],
   "source": []
  },
  {
   "cell_type": "code",
   "execution_count": null,
   "metadata": {},
   "outputs": [],
   "source": []
  },
  {
   "cell_type": "code",
   "execution_count": 6,
   "metadata": {},
   "outputs": [],
   "source": [
    "from pathlib import Path\n",
    "if not Path(fileswlen_path).exists():\n",
    "    length_dict={}\n",
    "    for f in files_path_list:\n",
    "        try:\n",
    "            length=float(getLength(f))\n",
    "            length_dict[f]=length\n",
    "        except:\n",
    "            print(f)\n",
    "\n",
    "    length_list=list(length_dict.items())\n",
    "    with open(fileswlen_path,\"w\") as f:\n",
    "        for line in length_list:\n",
    "            f.write(\",\".join([line[0],str(line[1])])+\"\\n\")\n",
    "\n",
    "with open(fileswlen_path,\"r\") as f:\n",
    "    lines=f.readlines()\n",
    "    fileswlen=[line.strip().split(\",\") for line in lines]"
   ]
  },
  {
   "cell_type": "code",
   "execution_count": 17,
   "metadata": {},
   "outputs": [],
   "source": [
    "# !conda run -n speechEnv python /home/enis/projects/nna/src/slack_message.py -m \"length ended\" "
   ]
  },
  {
   "cell_type": "code",
   "execution_count": 7,
   "metadata": {},
   "outputs": [
    {
     "data": {
      "text/plain": [
       "['/tank/data/nna/real/anwr/31/2019/S4A10297_20190504_000000.flac', '4560.0']"
      ]
     },
     "execution_count": 7,
     "metadata": {},
     "output_type": "execute_result"
    }
   ],
   "source": [
    "fileswlen[0]"
   ]
  },
  {
   "cell_type": "code",
   "execution_count": null,
   "metadata": {},
   "outputs": [],
   "source": []
  },
  {
   "cell_type": "code",
   "execution_count": null,
   "metadata": {},
   "outputs": [],
   "source": [
    "# split_folder"
   ]
  },
  {
   "cell_type": "code",
   "execution_count": 21,
   "metadata": {},
   "outputs": [],
   "source": [
    "# ([i for i in fileswlen if float(i[1])<=10])"
   ]
  },
  {
   "cell_type": "code",
   "execution_count": 7,
   "metadata": {},
   "outputs": [],
   "source": [
    "fileswlen=[i for i in fileswlen if float(i[1])>10]"
   ]
  },
  {
   "cell_type": "code",
   "execution_count": 8,
   "metadata": {},
   "outputs": [
    {
     "data": {
      "application/vnd.jupyter.widget-view+json": {
       "model_id": "7dbd6eb644ae4054b06826a289e5e5e4",
       "version_major": 2,
       "version_minor": 0
      },
      "text/plain": [
       "FloatProgress(value=0.0, max=20000.0)"
      ]
     },
     "metadata": {},
     "output_type": "display_data"
    },
    {
     "name": "stderr",
     "output_type": "stream",
     "text": [
      "IOPub message rate exceeded.\n",
      "The notebook server will temporarily stop sending output\n",
      "to the client in order to avoid crashing it.\n",
      "To change this limit, set the config variable\n",
      "`--NotebookApp.iopub_msg_rate_limit`.\n",
      "\n",
      "Current values:\n",
      "NotebookApp.iopub_msg_rate_limit=1000.0 (msgs/sec)\n",
      "NotebookApp.rate_limit_window=3.0 (secs)\n",
      "\n"
     ]
    },
    {
     "name": "stdout",
     "output_type": "stream",
     "text": [
      "empty range for randrange() (0,0, 0)\n"
     ]
    }
   ],
   "source": [
    "try:\n",
    "    s=time.time()\n",
    "    progress = widgets.FloatProgress(value=0.0, min=0.0, max=NUMBER_OF_SPLITS)\n",
    "    display(progress)\n",
    "\n",
    "    def work(index):\n",
    "        input_mp3_file,length_seconds=random.choice(fileswlen)\n",
    "        length_min = int(float(length_seconds)//60)\n",
    "\n",
    "        cut_random_file(input_mp3_file,length=split_length_seconds,\n",
    "                        split_folder=split_folder,total_minute=length_min-1,depth=0,backend=\"ffmpeg\")\n",
    "        progress.value+=1\n",
    "\n",
    "    pool = ThreadPool(THREAD_COUNT)\n",
    "    results = pool.map(work, range(NUMBER_OF_SPLITS))\n",
    "    pool.close()\n",
    "    pool.join()\n",
    "except Exception as e: \n",
    "    print(e)\n",
    "    !conda run -n speechEnv python /home/enis/projects/nna/src/slack_message.py -m \"split failed\" "
   ]
  },
  {
   "cell_type": "code",
   "execution_count": 11,
   "metadata": {},
   "outputs": [
    {
     "data": {
      "application/vnd.jupyter.widget-view+json": {
       "model_id": "7dbd6eb644ae4054b06826a289e5e5e4",
       "version_major": 2,
       "version_minor": 0
      },
      "text/plain": [
       "FloatProgress(value=15832.0, max=20000.0)"
      ]
     },
     "metadata": {},
     "output_type": "display_data"
    }
   ],
   "source": [
    "progress"
   ]
  },
  {
   "cell_type": "code",
   "execution_count": 9,
   "metadata": {},
   "outputs": [],
   "source": [
    "!conda run -n speechEnv python /home/enis/projects/nna/src/slack_message.py -m \"split ended\" "
   ]
  },
  {
   "cell_type": "code",
   "execution_count": 22,
   "metadata": {},
   "outputs": [],
   "source": [
    "# from IPython.display import display\n",
    "# import ipywidgets as widgets\n",
    "# progress = widgets.FloatProgress(value=0.0, min=0.0, max=NUMBER_OF_SPLITS)\n",
    "# display(progress)\n",
    "\n",
    "# progress.value+=1\n",
    "\n",
    "# !conda run -n speechEnv python /home/enis/projects/nna/src/slack_message.py -m \"split ended\" "
   ]
  },
  {
   "cell_type": "code",
   "execution_count": null,
   "metadata": {},
   "outputs": [],
   "source": []
  },
  {
   "cell_type": "code",
   "execution_count": null,
   "metadata": {},
   "outputs": [],
   "source": []
  },
  {
   "cell_type": "code",
   "execution_count": null,
   "metadata": {},
   "outputs": [],
   "source": []
  }
 ],
 "metadata": {
  "kernelspec": {
   "display_name": "speechEnv",
   "language": "python",
   "name": "speechenv"
  },
  "language_info": {
   "codemirror_mode": {
    "name": "ipython",
    "version": 3
   },
   "file_extension": ".py",
   "mimetype": "text/x-python",
   "name": "python",
   "nbconvert_exporter": "python",
   "pygments_lexer": "ipython3",
   "version": "3.7.2"
  }
 },
 "nbformat": 4,
 "nbformat_minor": 4
}
