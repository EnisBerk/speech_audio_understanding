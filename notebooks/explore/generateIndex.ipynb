{
 "cells": [
  {
   "cell_type": "markdown",
   "metadata": {},
   "source": [
    "### 2.1 load embeddings to search from \n"
   ]
  },
  {
   "cell_type": "code",
   "execution_count": 15,
   "metadata": {},
   "outputs": [],
   "source": [
    "\n",
    "from pathlib import Path\n",
    "\n",
    "from nna.fileUtils import list_files,save_to_csv\n",
    "\n",
    "import numpy as np"
   ]
  },
  {
   "cell_type": "code",
   "execution_count": 16,
   "metadata": {},
   "outputs": [
    {
     "name": "stdout",
     "output_type": "stream",
     "text": [
      "/home/enis/projects/similarSoundsApp\n"
     ]
    }
   ],
   "source": [
    "import os\n",
    "import sys\n",
    "\n",
    "module_path = os.path.abspath(os.path.join('/home/enis/projects/similarSoundsApp/'))\n",
    "print(module_path)\n",
    "if module_path not in sys.path:\n",
    "    sys.path.append(module_path)\n",
    "    \n",
    "\n",
    "from nnSearch import loadOnDisk,buildOnDisk\n"
   ]
  },
  {
   "cell_type": "code",
   "execution_count": 6,
   "metadata": {},
   "outputs": [],
   "source": [
    "## Load datasets\n",
    "pathDatasets = \"/home/enis/projects/similarSoundsApp/resources/TimeLapse_Databases/\"\n",
    "datasetList=[[m for m in i.glob(\"*\") if \".ddb\" in str(m) ][0] for i in (Path(pathDatasets).glob(\"*\"))]\n",
    "# datasetList[0].parent.stem\n",
    "labeledImgLocations = [m.parent.stem for m in datasetList]\n"
   ]
  },
  {
   "cell_type": "code",
   "execution_count": null,
   "metadata": {},
   "outputs": [],
   "source": []
  },
  {
   "cell_type": "code",
   "execution_count": 7,
   "metadata": {},
   "outputs": [],
   "source": [
    "realFolderPath=\"/scratch/enis/data/nna/real/\"\n",
    "region_locId=[[m for m in i.glob(\"*\") if m.is_dir() ] for i in (Path(realFolderPath).glob(\"*\")) if i.is_dir()]\n",
    "\n",
    "allLocations=[]\n",
    "for m in region_locId:\n",
    "    for n in m:\n",
    "        if n.stem in labeledImgLocations:\n",
    "            allLocations.append(n)"
   ]
  },
  {
   "cell_type": "code",
   "execution_count": 11,
   "metadata": {},
   "outputs": [],
   "source": [
    "metadataCSV=\"/scratch/enis/data/nna/realMerged/\"+\"photoEmbeddings_V1\"+\".csv\"\n",
    "\n",
    "filenamePattern=\"*_embeddings*.npy\"\n",
    "all_embeddings=[]\n",
    "for loc in allLocations:\n",
    "    # find all files\n",
    "    search_path=loc\n",
    "    all_embeddings+=list_files(str(search_path),filename=filenamePattern)\n",
    "\n",
    "print(len(all_embeddings))"
   ]
  },
  {
   "cell_type": "code",
   "execution_count": null,
   "metadata": {},
   "outputs": [],
   "source": []
  },
  {
   "cell_type": "code",
   "execution_count": 31,
   "metadata": {},
   "outputs": [],
   "source": []
  },
  {
   "cell_type": "code",
   "execution_count": 17,
   "metadata": {},
   "outputs": [],
   "source": [
    "embedSizes=[]\n",
    "for i,embed_file in enumerate(all_embeddings):\n",
    "    embed=np.load(embed_file)\n",
    "    embedSizes.append(embed.shape[0])\n",
    "\n",
    "metadata=list(zip(all_embeddings,embedSizes))\n",
    "save_to_csv(metadataCSV,metadata)"
   ]
  },
  {
   "cell_type": "code",
   "execution_count": 18,
   "metadata": {},
   "outputs": [],
   "source": [
    "# vector size\n",
    "f=128\n",
    "  # Length of item vector that will be indexed\n",
    "distance='euclidean'\n",
    "#prepares annoy to build the index in the specified file instead of RAM \n",
    "#(execute before adding items, no need to save after build)\n",
    "fn=\"/scratch/enis/data/nna/realMerged/photoEmbeddings_V1.ann\"\n"
   ]
  },
  {
   "cell_type": "code",
   "execution_count": 23,
   "metadata": {},
   "outputs": [],
   "source": []
  },
  {
   "cell_type": "code",
   "execution_count": null,
   "metadata": {},
   "outputs": [
    {
     "name": "stdout",
     "output_type": "stream",
     "text": [
      "Current index: 0\n",
      "Current index: 1000\n",
      "Current index: 2000\n",
      "Current index: 3000\n",
      "Current index: 4000\n",
      "Current index: 5000\n",
      "Current index: 6000\n",
      "Current index: 7000\n",
      "Current index: 8000\n",
      "Current index: 9000\n",
      "Current index: 10000\n",
      "Current index: 11000\n"
     ]
    }
   ],
   "source": [
    "\n",
    "p=Path(fn)\n",
    "if p.exists():\n",
    "    print(p,\"EXISTS\")\n",
    "    t = loadOnDisk(fn,f,distance=distance)\n",
    "else:\n",
    "    t = buildOnDisk(fn,f,distance=distance,seed=42,treeN=16)"
   ]
  },
  {
   "cell_type": "code",
   "execution_count": null,
   "metadata": {},
   "outputs": [],
   "source": [
    "print(test)"
   ]
  },
  {
   "cell_type": "code",
   "execution_count": null,
   "metadata": {},
   "outputs": [],
   "source": []
  }
 ],
 "metadata": {
  "kernelspec": {
   "display_name": "speechEnv",
   "language": "python",
   "name": "speechenv"
  },
  "language_info": {
   "codemirror_mode": {
    "name": "ipython",
    "version": 3
   },
   "file_extension": ".py",
   "mimetype": "text/x-python",
   "name": "python",
   "nbconvert_exporter": "python",
   "pygments_lexer": "ipython3",
   "version": "3.7.2"
  }
 },
 "nbformat": 4,
 "nbformat_minor": 4
}
