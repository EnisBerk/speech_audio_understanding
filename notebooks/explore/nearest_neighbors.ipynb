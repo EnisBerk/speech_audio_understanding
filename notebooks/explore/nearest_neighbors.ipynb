{
 "cells": [
  {
   "cell_type": "code",
   "execution_count": 1,
   "metadata": {},
   "outputs": [
    {
     "name": "stdout",
     "output_type": "stream",
     "text": [
      "/home/enis/projects/nna/src\n"
     ]
    }
   ],
   "source": [
    "import os\n",
    "import sys\n",
    "\n",
    "module_path = os.path.abspath(os.path.join('../../src'))\n",
    "print(module_path)\n",
    "if module_path not in sys.path:\n",
    "    sys.path.append(module_path)"
   ]
  },
  {
   "cell_type": "code",
   "execution_count": 2,
   "metadata": {},
   "outputs": [],
   "source": [
    "from datetime import timedelta\n",
    "import datetime \n",
    "import os\n",
    "\n",
    "from fileUtils import read_file_properties_v2,find_filesv2,list_files,get_labeled_exif\n",
    "from fileUtils import get_audio,str2timestamp,query_audio\n",
    "from labeling_utils import splitmp3\n",
    "\n",
    "import pandas as pd\n",
    "from pathlib import Path\n",
    "\n",
    "from sklearn.neighbors import KDTree\n",
    "import numpy as np\n",
    "\n",
    "from pydub import AudioSegment\n"
   ]
  },
  {
   "cell_type": "code",
   "execution_count": 3,
   "metadata": {},
   "outputs": [],
   "source": [
    "# list_files(\"/scratch/enis/data/nna/real_2organize/\")"
   ]
  },
  {
   "cell_type": "code",
   "execution_count": 4,
   "metadata": {},
   "outputs": [],
   "source": [
    "from sklearn.metrics.pairwise import paired_distances\n",
    "from sklearn.metrics import pairwise_distances\n",
    "from annoy import AnnoyIndex\n",
    "\n",
    "\n",
    "def paired_distances_broadcast(X,Y):\n",
    "    return paired_distances(np.repeat(X,Y.shape[0],axis=0), Y)\n",
    "\n",
    "\n",
    "\n",
    "def sigmoid(X):\n",
    "    return 1/(1+np.exp(-X))\n",
    "\n",
    "def sigmoidT(X,t):\n",
    "    return 1/(1+np.exp(-X*t))\n",
    "\n",
    "import csv\n",
    "def save_to_csv(file_name,lines):\n",
    "    file_name=Path(file_name).with_suffix('.csv')\n",
    "    with open(file_name, mode='a') as labels_file:\n",
    "        label_writer = csv.writer(labels_file, delimiter=',', quotechar='\"', quoting=csv.QUOTE_MINIMAL)\n",
    "        for line in lines:\n",
    "            label_writer.writerow(line)"
   ]
  },
  {
   "cell_type": "code",
   "execution_count": 5,
   "metadata": {},
   "outputs": [],
   "source": [
    "# output = find_filesv2(location,start_time,end_time,length,0,file_properties_df)\n",
    "# sorted_filtered,start_time,end_time,start_time_org,end_time_org = output"
   ]
  },
  {
   "cell_type": "code",
   "execution_count": null,
   "metadata": {},
   "outputs": [],
   "source": []
  },
  {
   "cell_type": "markdown",
   "metadata": {},
   "source": [
    "#### find the embedding for a given image"
   ]
  },
  {
   "cell_type": "code",
   "execution_count": 6,
   "metadata": {},
   "outputs": [],
   "source": [
    "# p_path=\"/home/enis/projects/nna/data/cameraTraps/test.txt\"\n",
    "\n",
    "# with open(p_path) as p_file:\n",
    "#     photo_paths=p_file.readlines()\n",
    "#     photo_paths = [i.strip() for i in photo_paths]\n",
    "\n",
    "# other_folder=[\"anwr_35_2019_101RECNX_RCNX3373.JPG\",\n",
    "# \"anwr_42_2019_100RECNX_RCNX3574.JPG\",\n",
    "# \"ivvavik_SINP03_2019_100RECNX_IMG_3219.JPG\",\n",
    "# \"ivvavik_SINP05_2019_100RECNX_IMG_2867.JPG\",\n",
    "# \"ivvavik_SINP06_2019_100RECNX_IMG_1884.JPG\",\n",
    "# \"ivvavik_SINP09_2019_100RECNX_IMG_2743.JPG\",\n",
    "# \"prudhoe_17_2019_100RECNX_RCNX3916.JPG\",]\n",
    "\n",
    "# parent_path1=\"/tank/data/nna/examples/randomPhotos10k/\"\n",
    "# parent_path2=\"/tank/data/nna/examples/randomPhotos1k/\"\n",
    "\n",
    "# # photo with Caribou\n",
    "# photo_paths=['anwr_37_2019_100RECNX_RCNX9317.jpg']\n",
    "\n",
    "# given image paths finds files, code is at:\n",
    "# notebooks/explore/get_audio4photos.ipynb"
   ]
  },
  {
   "cell_type": "code",
   "execution_count": 7,
   "metadata": {},
   "outputs": [],
   "source": [
    "file_properties_df=pd.read_pickle(\"../../data/realdata_v2No_stinchcomb.pkl\")"
   ]
  },
  {
   "cell_type": "code",
   "execution_count": 9,
   "metadata": {},
   "outputs": [
    {
     "name": "stdout",
     "output_type": "stream",
     "text": [
      "/scratch/enis/data/nna/real/anwr/37/2019/S4A10279_20190605_091602_FCmodel\r\n",
      "/scratch/enis/data/nna/real/anwr/37/2019/S4A10279_20190605_091602_FCmodel/S4A10279_20190605_091602_FCmodel000.npy\r\n",
      "/scratch/enis/data/nna/real/anwr/37/2019/S4A10279_20190605_091602_vgg\r\n",
      "/scratch/enis/data/nna/real/anwr/37/2019/S4A10279_20190605_091602_vgg/S4A10279_20190605_091602_rawembeddings000.npy\r\n",
      "/scratch/enis/data/nna/real/anwr/37/2019/S4A10279_20190605_091602_vgg/S4A10279_20190605_091602_embeddings000.npy\r\n"
     ]
    }
   ],
   "source": [
    "# sound with Caribou\n",
    "\n",
    "!find /scratch/enis/data/nna/real/ -iname \"S4A10279_20190605_091602*\""
   ]
  },
  {
   "cell_type": "code",
   "execution_count": 4,
   "metadata": {},
   "outputs": [
    {
     "name": "stdout",
     "output_type": "stream",
     "text": [
      "^C\r\n"
     ]
    }
   ],
   "source": [
    "# aircraft sound\n",
    "\n",
    "!find /scratch/enis/data/nna/real/ -iname \"S4A10255_20190507_073000*\"\n"
   ]
  },
  {
   "cell_type": "markdown",
   "metadata": {},
   "source": [
    "### find similar embeddings for given embeddings in the same location "
   ]
  },
  {
   "cell_type": "code",
   "execution_count": 67,
   "metadata": {},
   "outputs": [],
   "source": [
    "# sound with Caribou\n",
    "\n",
    "raw_embed_name=\"/scratch/enis/data/nna/real/anwr/37/2019/S4A10279_20190605_091602_vgg/S4A10279_20190605_091602_rawembeddings000.npy\"\n",
    "raw_embed=np.load(raw_embed_name)\n"
   ]
  },
  {
   "cell_type": "code",
   "execution_count": 8,
   "metadata": {},
   "outputs": [],
   "source": [
    "# aircraft sound\n",
    "# raw_embed_name=\"/scratch/enis/data/nna/real/prudhoe/26/2019/S4A10255_20190507_073000_vgg/S4A10255_20190507_073000_rawembeddings000.npy\"\n",
    "raw_embed_name=\"/scratch/enis/data/nna/real/prudhoe/26/2019/S4A10255_20190507_073000_vgg/S4A10255_20190507_073000_embeddings000.npy\"\n",
    "\n",
    "raw_embed=np.load(raw_embed_name)\n",
    "raw_embed=raw_embed.astype(np.float32)\n"
   ]
  },
  {
   "cell_type": "code",
   "execution_count": 240,
   "metadata": {},
   "outputs": [
    {
     "data": {
      "text/plain": [
       "1808"
      ]
     },
     "execution_count": 240,
     "metadata": {},
     "output_type": "execute_result"
    }
   ],
   "source": [
    "# S4A10255_20190507_073000-1808second\n",
    "(30*60)+8"
   ]
  },
  {
   "cell_type": "code",
   "execution_count": 10,
   "metadata": {},
   "outputs": [],
   "source": [
    "# aircraft sound\n",
    "start_seconds=(30*60)+8\n",
    "raw_embed_audio=raw_embed[int(start_seconds):int(start_seconds)+60]"
   ]
  },
  {
   "cell_type": "code",
   "execution_count": 9,
   "metadata": {},
   "outputs": [
    {
     "ename": "NameError",
     "evalue": "name 'start_time' is not defined",
     "output_type": "error",
     "traceback": [
      "\u001b[0;31m---------------------------------------------------------------------------\u001b[0m",
      "\u001b[0;31mNameError\u001b[0m                                 Traceback (most recent call last)",
      "\u001b[0;32m<ipython-input-9-5c11088bb9f6>\u001b[0m in \u001b[0;36m<module>\u001b[0;34m\u001b[0m\n\u001b[1;32m      1\u001b[0m \u001b[0;31m# sound with Caribou\u001b[0m\u001b[0;34m\u001b[0m\u001b[0;34m\u001b[0m\u001b[0;34m\u001b[0m\u001b[0m\n\u001b[0;32m----> 2\u001b[0;31m \u001b[0mstart_seconds\u001b[0m\u001b[0;34m=\u001b[0m\u001b[0;34m(\u001b[0m\u001b[0mstart_time\u001b[0m\u001b[0;34m-\u001b[0m\u001b[0msorted_filtered\u001b[0m\u001b[0;34m[\u001b[0m\u001b[0;34m\"timestamp\"\u001b[0m\u001b[0;34m]\u001b[0m\u001b[0;34m)\u001b[0m\u001b[0;34m[\u001b[0m\u001b[0;36m0\u001b[0m\u001b[0;34m]\u001b[0m\u001b[0;34m.\u001b[0m\u001b[0mtotal_seconds\u001b[0m\u001b[0;34m(\u001b[0m\u001b[0;34m)\u001b[0m\u001b[0;34m\u001b[0m\u001b[0;34m\u001b[0m\u001b[0m\n\u001b[0m\u001b[1;32m      3\u001b[0m \u001b[0mraw_embed_audio\u001b[0m\u001b[0;34m=\u001b[0m\u001b[0mraw_embed\u001b[0m\u001b[0;34m[\u001b[0m\u001b[0mint\u001b[0m\u001b[0;34m(\u001b[0m\u001b[0mstart_seconds\u001b[0m\u001b[0;34m)\u001b[0m\u001b[0;34m:\u001b[0m\u001b[0mint\u001b[0m\u001b[0;34m(\u001b[0m\u001b[0mstart_seconds\u001b[0m\u001b[0;34m)\u001b[0m\u001b[0;34m+\u001b[0m\u001b[0;36m60\u001b[0m\u001b[0;34m]\u001b[0m\u001b[0;34m\u001b[0m\u001b[0;34m\u001b[0m\u001b[0m\n",
      "\u001b[0;31mNameError\u001b[0m: name 'start_time' is not defined"
     ]
    }
   ],
   "source": [
    "# sound with Caribou\n",
    "start_seconds=(start_time-sorted_filtered[\"timestamp\"])[0].total_seconds()\n",
    "raw_embed_audio=raw_embed[int(start_seconds):int(start_seconds)+60]"
   ]
  },
  {
   "cell_type": "code",
   "execution_count": 12,
   "metadata": {},
   "outputs": [
    {
     "data": {
      "text/plain": [
       "(60, 128)"
      ]
     },
     "execution_count": 12,
     "metadata": {},
     "output_type": "execute_result"
    }
   ],
   "source": [
    "raw_embed_audio.shape"
   ]
  },
  {
   "cell_type": "code",
   "execution_count": 11,
   "metadata": {},
   "outputs": [],
   "source": [
    "def list_files(search_path=\"/search_path/\",ignore_folders=None,filename=\"*.*\"):\n",
    "    if ignore_folders==None:\n",
    "        ignore_folders=[]\n",
    "    if search_path[-1]!=\"/\":\n",
    "        search_path+=\"/\"\n",
    "    all_path=glob.glob(search_path+\"**/\"+filename,recursive=True)\n",
    "\n",
    "    all_path=set(all_path)\n",
    "    for folder in ignore_folders:\n",
    "        ignore_paths = set( glob.glob(folder + \"**/*.*\",recursive=True) )\n",
    "        all_path=all_path.difference(ignore_paths)\n",
    "    return list(all_path)\n"
   ]
  },
  {
   "cell_type": "code",
   "execution_count": 12,
   "metadata": {},
   "outputs": [
    {
     "name": "stdout",
     "output_type": "stream",
     "text": [
      "CPU times: user 152 ms, sys: 316 ms, total: 468 ms\n",
      "Wall time: 508 ms\n"
     ]
    }
   ],
   "source": [
    "%%time\n",
    "import glob\n",
    "search_path=\"/scratch/enis/data/nna/real/prudhoe/26/\"\n",
    "filename=\"*_embeddings*.npy\"\n",
    "all_path=glob.glob(search_path+\"**/\"+filename,recursive=True)\n",
    "# save_to_csv(\"/home/enis/projects/nna/data/allEmbeddingsPath.csv\",all_path) #"
   ]
  },
  {
   "cell_type": "code",
   "execution_count": 15,
   "metadata": {},
   "outputs": [],
   "source": [
    "all_embeddings=all_path[:]"
   ]
  },
  {
   "cell_type": "code",
   "execution_count": null,
   "metadata": {
    "scrolled": true
   },
   "outputs": [],
   "source": [
    "%%time\n",
    "# all_embeddings=list_files(\"/scratch/enis/data/nna/real/anwr/37/\")\n",
    "# aircraft sound\n",
    "\n",
    "all_embeddings=list_files(\"/scratch/enis/data/nna/real/\")\n",
    "\n",
    "\n",
    "# remove original embedding from the list\n",
    "all_embeddings=[i for i in all_embeddings if \"_embeddings\" in i]\n",
    "del all_embeddings[all_embeddings.index(raw_embed_name)]"
   ]
  },
  {
   "cell_type": "code",
   "execution_count": 210,
   "metadata": {},
   "outputs": [],
   "source": []
  },
  {
   "cell_type": "code",
   "execution_count": 13,
   "metadata": {},
   "outputs": [
    {
     "ename": "NameError",
     "evalue": "name 'all_embeddings' is not defined",
     "output_type": "error",
     "traceback": [
      "\u001b[0;31m---------------------------------------------------------------------------\u001b[0m",
      "\u001b[0;31mNameError\u001b[0m                                 Traceback (most recent call last)",
      "\u001b[0;32m<ipython-input-13-fb0abf4142a4>\u001b[0m in \u001b[0;36m<module>\u001b[0;34m\u001b[0m\n\u001b[0;32m----> 1\u001b[0;31m \u001b[0mlen\u001b[0m\u001b[0;34m(\u001b[0m\u001b[0mall_embeddings\u001b[0m\u001b[0;34m)\u001b[0m\u001b[0;34m\u001b[0m\u001b[0;34m\u001b[0m\u001b[0m\n\u001b[0m",
      "\u001b[0;31mNameError\u001b[0m: name 'all_embeddings' is not defined"
     ]
    }
   ],
   "source": [
    "len(all_embeddings)"
   ]
  },
  {
   "cell_type": "code",
   "execution_count": 402,
   "metadata": {},
   "outputs": [],
   "source": [
    "# concat_embeds[0:4438,:]=embed[:]"
   ]
  },
  {
   "cell_type": "code",
   "execution_count": null,
   "metadata": {},
   "outputs": [],
   "source": []
  },
  {
   "cell_type": "code",
   "execution_count": null,
   "metadata": {},
   "outputs": [],
   "source": []
  },
  {
   "cell_type": "code",
   "execution_count": 16,
   "metadata": {},
   "outputs": [
    {
     "name": "stdout",
     "output_type": "stream",
     "text": [
      "CPU times: user 956 ms, sys: 816 ms, total: 1.77 s\n",
      "Wall time: 22.5 s\n"
     ]
    }
   ],
   "source": [
    "%%time\n",
    "# load and merge embedding files\n",
    "\n",
    "embeds=[None]*len(all_embeddings)\n",
    "index=0\n",
    "for i,embed_file in enumerate(all_embeddings):\n",
    "    embed=np.load(embed_file)\n",
    "#     concat_embeds[index:(index+embed.shape[0]),:]=embed[:]\n",
    "    index+=embed.shape[0]\n",
    "    embeds[i]=(embed)\n",
    "\n",
    "# Faster then np.concatenate\n",
    "concat_embeds=np.zeros([index,128],dtype=np.float32)\n",
    "index=0\n",
    "for i,embed in enumerate(embeds):\n",
    "    concat_embeds[index:(index+embed.shape[0]),:]=embed[:]\n",
    "    index+=embed.shape[0]"
   ]
  },
  {
   "cell_type": "code",
   "execution_count": 19,
   "metadata": {},
   "outputs": [
    {
     "name": "stdout",
     "output_type": "stream",
     "text": [
      "0 0.1170492172241211\n",
      "0 12.166493892669678\n",
      "0 13.132546186447144\n",
      "0 12.68463683128357\n",
      "CPU times: user 48.5 s, sys: 0 ns, total: 48.5 s\n",
      "Wall time: 48.5 s\n"
     ]
    }
   ],
   "source": [
    "%%time\n",
    "import time\n",
    "f=128\n",
    "t = AnnoyIndex(f, 'euclidean')  # Length of item vector that will be indexed\n",
    "# for i in range(concat_embeds.shape[0]):\n",
    "#     t.add_item(i, concat_embeds[i,:])\n",
    "fn='/scratch/enis/data/nna/realMerged/prudhoe26.ann'\n",
    "t.on_disk_build(fn)\n",
    "index=0\n",
    "start=time.time()\n",
    "for i,embed_file in enumerate(all_path):\n",
    "    \n",
    "    embed=np.load(embed_file)\n",
    "    for ii in range(embed.shape[0]):\n",
    "        t.add_item(index, embed[ii,:])\n",
    "        index+=1\n",
    "    if i%100==0:\n",
    "        end=time.time()\n",
    "        print(i//1000,end-start)\n",
    "        start=end\n"
   ]
  },
  {
   "cell_type": "code",
   "execution_count": 20,
   "metadata": {},
   "outputs": [
    {
     "data": {
      "text/plain": [
       "504.00299072265625"
      ]
     },
     "execution_count": 20,
     "metadata": {},
     "output_type": "execute_result"
    }
   ],
   "source": [
    "t.get_distance(100, 0)"
   ]
  },
  {
   "cell_type": "code",
   "execution_count": 22,
   "metadata": {},
   "outputs": [
    {
     "data": {
      "text/plain": [
       "True"
      ]
     },
     "execution_count": 22,
     "metadata": {},
     "output_type": "execute_result"
    }
   ],
   "source": [
    "t.build(10)"
   ]
  },
  {
   "cell_type": "code",
   "execution_count": 62,
   "metadata": {},
   "outputs": [
    {
     "data": {
      "text/plain": [
       "[10, 1190435]"
      ]
     },
     "execution_count": 62,
     "metadata": {},
     "output_type": "execute_result"
    }
   ],
   "source": [
    "t.get_nns_by_item(10, 2, include_distances=False)"
   ]
  },
  {
   "cell_type": "code",
   "execution_count": 60,
   "metadata": {},
   "outputs": [
    {
     "data": {
      "text/plain": [
       "1736617"
      ]
     },
     "execution_count": 60,
     "metadata": {},
     "output_type": "execute_result"
    }
   ],
   "source": [
    "t.get_n_items()"
   ]
  },
  {
   "cell_type": "code",
   "execution_count": null,
   "metadata": {},
   "outputs": [],
   "source": []
  },
  {
   "cell_type": "code",
   "execution_count": null,
   "metadata": {},
   "outputs": [],
   "source": []
  },
  {
   "cell_type": "code",
   "execution_count": null,
   "metadata": {},
   "outputs": [],
   "source": []
  },
  {
   "cell_type": "code",
   "execution_count": null,
   "metadata": {},
   "outputs": [],
   "source": []
  },
  {
   "cell_type": "code",
   "execution_count": null,
   "metadata": {},
   "outputs": [],
   "source": []
  },
  {
   "cell_type": "code",
   "execution_count": null,
   "metadata": {},
   "outputs": [],
   "source": [
    "\n"
   ]
  },
  {
   "cell_type": "code",
   "execution_count": null,
   "metadata": {},
   "outputs": [],
   "source": []
  },
  {
   "cell_type": "code",
   "execution_count": 217,
   "metadata": {},
   "outputs": [
    {
     "data": {
      "text/plain": [
       "(63965, 385)"
      ]
     },
     "execution_count": 217,
     "metadata": {},
     "output_type": "execute_result"
    }
   ],
   "source": [
    "# t.get_n_items()\n",
    "len(all_path),len(all_embeddings)"
   ]
  },
  {
   "cell_type": "code",
   "execution_count": 214,
   "metadata": {},
   "outputs": [
    {
     "name": "stdout",
     "output_type": "stream",
     "text": [
      "-rw-rw-r-- 1 enis enis 1.3G Apr  9 07:52 /scratch/enis/data/nna/realMerged/allEmbeddings.ann\r\n"
     ]
    }
   ],
   "source": [
    "!ls -alh /scratch/enis/data/nna/realMerged/allEmbeddings.ann"
   ]
  },
  {
   "cell_type": "code",
   "execution_count": 13,
   "metadata": {},
   "outputs": [
    {
     "data": {
      "text/plain": [
       "(1732054, 128)"
      ]
     },
     "execution_count": 13,
     "metadata": {},
     "output_type": "execute_result"
    }
   ],
   "source": [
    "# concat_embeds.shape"
   ]
  },
  {
   "cell_type": "code",
   "execution_count": 14,
   "metadata": {},
   "outputs": [],
   "source": [
    "# make sure it multiples of 10 to make things easy\n",
    "concat_embeds=concat_embeds[:(concat_embeds.shape[0]//10)*10,:]"
   ]
  },
  {
   "cell_type": "markdown",
   "metadata": {},
   "source": [
    "### there are three methods for creating vectors:"
   ]
  },
  {
   "cell_type": "code",
   "execution_count": 15,
   "metadata": {},
   "outputs": [],
   "source": [
    "# # Method 1   1 second \n",
    "excerptLen=1\n",
    "exp_name=\"1second\"\n",
    "concat_embeds2=concat_embeds[:]\n",
    "raw_embed_audio2=raw_embed_audio[:]\n",
    "raw_embed_audio2=raw_embed_audio2[20:21,:]\n",
    "rowN=100000\n",
    "\n",
    "#Method 2    mean 10 second\n",
    "# excerptLen=10\n",
    "# exp_name=\"Mean10Second\"\n",
    "# concat_embeds2=concat_embeds.reshape(-1,10,128).mean(axis=1)\n",
    "# raw_embed_audio2=raw_embed_audio.reshape(-1,10,128).mean(axis=1)\n",
    "# raw_embed_audio2=raw_embed_audio2[2:3,:]\n",
    "# rowN=10000\n",
    "\n",
    "# #Method 3    concat 10 second\n",
    "# excerptLen=10\n",
    "# exp_name=\"Concat10Second\"\n",
    "# concat_embeds2=concat_embeds.reshape(-1,1280)\n",
    "# raw_embed_audio2=raw_embed_audio.reshape(-1,1280)\n",
    "# raw_embed_audio2=raw_embed_audio2[2:3,:]\n",
    "# rowN=10000\n",
    "\n"
   ]
  },
  {
   "cell_type": "code",
   "execution_count": 16,
   "metadata": {},
   "outputs": [
    {
     "data": {
      "text/plain": [
       "(1732050, 128)"
      ]
     },
     "execution_count": 16,
     "metadata": {},
     "output_type": "execute_result"
    }
   ],
   "source": [
    "concat_embeds.shape"
   ]
  },
  {
   "cell_type": "code",
   "execution_count": 17,
   "metadata": {},
   "outputs": [],
   "source": [
    "# concat_embeds3=concat_embeds[:,:]"
   ]
  },
  {
   "cell_type": "markdown",
   "metadata": {},
   "source": [
    "* we are trying to create a matrix, rows are queries and columns are data points in database\n",
    "* values are similarity, \n",
    "* then \n"
   ]
  },
  {
   "cell_type": "code",
   "execution_count": 18,
   "metadata": {},
   "outputs": [
    {
     "data": {
      "text/plain": [
       "(60, 128)"
      ]
     },
     "execution_count": 18,
     "metadata": {},
     "output_type": "execute_result"
    }
   ],
   "source": [
    "raw_embed_audio.shape"
   ]
  },
  {
   "cell_type": "code",
   "execution_count": 18,
   "metadata": {},
   "outputs": [],
   "source": [
    "\n",
    "# paired_distances(raw_embed_audio, raw_embed_audio)"
   ]
  },
  {
   "cell_type": "code",
   "execution_count": null,
   "metadata": {},
   "outputs": [],
   "source": []
  },
  {
   "cell_type": "code",
   "execution_count": null,
   "metadata": {},
   "outputs": [],
   "source": []
  },
  {
   "cell_type": "code",
   "execution_count": null,
   "metadata": {},
   "outputs": [],
   "source": []
  },
  {
   "cell_type": "code",
   "execution_count": 174,
   "metadata": {},
   "outputs": [
    {
     "name": "stdout",
     "output_type": "stream",
     "text": [
      "CPU times: user 0 ns, sys: 0 ns, total: 0 ns\n",
      "Wall time: 738 µs\n"
     ]
    }
   ],
   "source": [
    "# %%time\n",
    "# # t.build(10) # 10 trees\n",
    "\n",
    "# # u = AnnoyIndex(f, 'angular')\n",
    "# # u.load('test.ann') # super fast, will just mmap the file\n",
    "# a=(t.get_nns_by_item(1001, 100)) # will find the 1000 nearest neighbors\n",
    "# b=(t.get_nns_by_item(1000, 100))\n",
    "\n",
    "# a=np.array(a)\n",
    "# b=np.array(b)\n",
    "\n",
    "# numbers=set()\n",
    "# for i in range(10):\n",
    "#     numbers=numbers.union(set(a).intersection(set(b+i)))\n",
    "#     numbers=numbers.union(set(a).intersection(set(b-i)))\n",
    "# len(numbers)"
   ]
  },
  {
   "cell_type": "code",
   "execution_count": 175,
   "metadata": {},
   "outputs": [],
   "source": []
  },
  {
   "cell_type": "code",
   "execution_count": 176,
   "metadata": {},
   "outputs": [],
   "source": []
  },
  {
   "cell_type": "code",
   "execution_count": 177,
   "metadata": {},
   "outputs": [
    {
     "data": {
      "text/plain": [
       "1"
      ]
     },
     "execution_count": 177,
     "metadata": {},
     "output_type": "execute_result"
    }
   ],
   "source": []
  },
  {
   "cell_type": "code",
   "execution_count": 68,
   "metadata": {},
   "outputs": [
    {
     "name": "stdout",
     "output_type": "stream",
     "text": [
      "CPU times: user 8.36 s, sys: 52 ms, total: 8.41 s\n",
      "Wall time: 8.42 s\n"
     ]
    }
   ],
   "source": [
    "%%time\n",
    "for m in range(10):\n",
    "#     allA=[None]*concat_embeds.shape[0]\n",
    "    for i in range(concat_embeds.shape[0]):\n",
    "        a=u.get_distance(i, 0)"
   ]
  },
  {
   "cell_type": "code",
   "execution_count": 69,
   "metadata": {},
   "outputs": [
    {
     "name": "stdout",
     "output_type": "stream",
     "text": [
      "CPU times: user 52 ms, sys: 788 ms, total: 840 ms\n",
      "Wall time: 2.08 s\n"
     ]
    }
   ],
   "source": [
    "%%time\n",
    "import multiprocessing\n",
    "\n",
    "def worker(index,numberItems):\n",
    "    allA=[None]*numberItems\n",
    "\n",
    "    for i in range(numberItems):\n",
    "        a=u.get_distance(i, index)\n",
    "    return None\n",
    "\n",
    "jobs = []\n",
    "for index in range(10):\n",
    "    numberItems=u.get_n_items()\n",
    "    p = multiprocessing.Process(target=worker,args=(index,numberItems))\n",
    "    jobs.append(p)\n",
    "    p.start()\n",
    "\n",
    "for p in jobs:\n",
    "    p.join()"
   ]
  },
  {
   "cell_type": "code",
   "execution_count": 51,
   "metadata": {},
   "outputs": [
    {
     "data": {
      "text/plain": [
       "745.1812133789062"
      ]
     },
     "execution_count": 51,
     "metadata": {},
     "output_type": "execute_result"
    }
   ],
   "source": [
    "allA[4]"
   ]
  },
  {
   "cell_type": "code",
   "execution_count": 55,
   "metadata": {},
   "outputs": [
    {
     "data": {
      "text/plain": [
       "array([1224.9686, 1126.4288, 1097.2521, ..., 1204.9872, 1104.8918,\n",
       "       1191.6367], dtype=float32)"
      ]
     },
     "execution_count": 55,
     "metadata": {},
     "output_type": "execute_result"
    }
   ],
   "source": [
    "results[0]"
   ]
  },
  {
   "cell_type": "code",
   "execution_count": 62,
   "metadata": {},
   "outputs": [
    {
     "name": "stdout",
     "output_type": "stream",
     "text": [
      "CPU times: user 11.3 s, sys: 18.1 s, total: 29.5 s\n",
      "Wall time: 3.78 s\n"
     ]
    }
   ],
   "source": [
    "%%time\n",
    "# one sample/query\n",
    "# res=paired_distances_broadcast(raw_embed_audio2,concat_embeds2)\n",
    "# res.shape\n",
    "\n",
    "#\n",
    "# 10 queries\n",
    "queryCount=10\n",
    "startSecond=0\n",
    "excerptLen=1\n",
    "\n",
    "gamma=1/512\n",
    "startIndex=int(startSecond/excerptLen)\n",
    "endIndex=startIndex+queryCount\n",
    "\n",
    "\n",
    "results=pairwise_distances(raw_embed_audio[startIndex:10,:], concat_embeds)\n",
    "\n",
    "# results=np.exp(-results*gamma)\n",
    "\n",
    "\n"
   ]
  },
  {
   "cell_type": "code",
   "execution_count": 53,
   "metadata": {},
   "outputs": [
    {
     "name": "stdout",
     "output_type": "stream",
     "text": [
      "CPU times: user 16 ms, sys: 3.27 s, total: 3.29 s\n",
      "Wall time: 3.29 s\n"
     ]
    }
   ],
   "source": [
    "%%time\n",
    "results=np.exp(-results*gamma)"
   ]
  },
  {
   "cell_type": "code",
   "execution_count": 32,
   "metadata": {},
   "outputs": [
    {
     "name": "stdout",
     "output_type": "stream",
     "text": [
      "CPU times: user 29.9 s, sys: 960 ms, total: 30.8 s\n",
      "Wall time: 29.8 s\n"
     ]
    }
   ],
   "source": [
    "# I might have to use this method, if I want to get maximum without replacement\n",
    "\n",
    "# %%time\n",
    "# stepSize=1\n",
    "# windowSize=10\n",
    "# resultsMax=[]\n",
    "# resultsAvg=[]\n",
    "\n",
    "# windowMax=np.max(results2,axis=0)\n",
    "\n",
    "# for i in range(0,results2.shape[1],stepSize):\n",
    "# #     windowElements=(results2[:,i:(i+windowSize+1)])\n",
    "# #     colMax=np.max(windowElements,axis=0)\n",
    "\n",
    "#     resultAvg=np.average(colMax)\n",
    "#     resultsAvg.append(resultAvg)\n",
    "# #     resultsMax.append(windowMax)\n"
   ]
  },
  {
   "cell_type": "code",
   "execution_count": 491,
   "metadata": {},
   "outputs": [
    {
     "name": "stdout",
     "output_type": "stream",
     "text": [
      "CPU times: user 2.31 s, sys: 1min 3s, total: 1min 5s\n",
      "Wall time: 1min 5s\n"
     ]
    }
   ],
   "source": [
    "%%time\n",
    "windowSize=10\n",
    "windowMax=np.max(results,axis=0)\n",
    "windowMean=pd.Series(windowMax).rolling(window=windowSize).mean().iloc[windowSize-1:].values\n"
   ]
  },
  {
   "cell_type": "code",
   "execution_count": null,
   "metadata": {},
   "outputs": [],
   "source": [
    "%%time\n",
    "windowSize=10\n",
    "windowMax=np.max(resultMatrix,axis=0)\n",
    "windowMean=pd.Series(windowMax).rolling(window=windowSize).mean().iloc[windowSize-1:].values\n"
   ]
  },
  {
   "cell_type": "code",
   "execution_count": 203,
   "metadata": {},
   "outputs": [
    {
     "data": {
      "text/plain": [
       "DescribeResult(nobs=1732041, minmax=(0.05875636413693428, 0.3321208477020264), mean=0.12500929506519953, variance=0.00040337682893698085, skewness=1.7658461475250447, kurtosis=8.105885715994328)"
      ]
     },
     "execution_count": 203,
     "metadata": {},
     "output_type": "execute_result"
    }
   ],
   "source": [
    "from scipy import stats\n",
    "\n",
    "stats.describe(res)"
   ]
  },
  {
   "cell_type": "code",
   "execution_count": 201,
   "metadata": {},
   "outputs": [],
   "source": [
    "res=windowMean[:]"
   ]
  },
  {
   "cell_type": "code",
   "execution_count": 334,
   "metadata": {},
   "outputs": [],
   "source": [
    "# arr = np.array([1, 3, 2, 4, 5,6,7,8,8,1,1,9])\n",
    "kth=250\n",
    "ind = np.argpartition(res, -kth)[-kth:]\n",
    "sortedbyScore=sorted(list(zip(res[ind],ind)),reverse=True)"
   ]
  },
  {
   "cell_type": "code",
   "execution_count": 332,
   "metadata": {},
   "outputs": [
    {
     "name": "stdout",
     "output_type": "stream",
     "text": [
      "total periods 43\n",
      "short distances\n"
     ]
    }
   ],
   "source": [
    "# find consequtive points that has high value \n",
    "\n",
    "theta=5\n",
    "sortedbyInd=sorted(list(zip(res[ind],ind)),key=lambda x:x[1])\n",
    "previous=sortedbyInd[0][1]\n",
    "count=0\n",
    "series=[]\n",
    "starts=[]\n",
    "for score,index in sortedbyInd:\n",
    "    if index<=previous+theta:\n",
    "        series.append((score,index))\n",
    "    else:\n",
    "        starts.append(series)\n",
    "        series=[]\n",
    "        series.append((score,index))\n",
    "    previous=index\n",
    "\n",
    "# sorted(starts,key=lambda x:x[1],reverse=True)\n",
    "print(\"total periods\",len(starts))\n",
    "previous=0\n",
    "print(\"short distances\")\n",
    "for score_indexes in starts:\n",
    "    if (score_indexes[-1][1]-score_indexes[0][1])>30:\n",
    "        print(score_indexes[0][1],score_indexes[-1][1])\n"
   ]
  },
  {
   "cell_type": "code",
   "execution_count": null,
   "metadata": {},
   "outputs": [],
   "source": []
  },
  {
   "cell_type": "code",
   "execution_count": 152,
   "metadata": {},
   "outputs": [
    {
     "data": {
      "text/plain": [
       "((1732041,), 100000, 17.32041)"
      ]
     },
     "execution_count": 152,
     "metadata": {},
     "output_type": "execute_result"
    }
   ],
   "source": [
    "res.shape,rowN,res.shape[0]/rowN"
   ]
  },
  {
   "cell_type": "code",
   "execution_count": 153,
   "metadata": {},
   "outputs": [
    {
     "name": "stdout",
     "output_type": "stream",
     "text": [
      "17\n"
     ]
    }
   ],
   "source": [
    "import matplotlib.pyplot as plt\n",
    "import matplotlib.ticker as plticker\n",
    "\n",
    "minY,maxY=min(res),max(res)\n",
    "exp_name=\"slidingWindow_AverageOfMax_short20k\"\n",
    "name=f\"Euclidian Similarity {exp_name}\"\n",
    "nrows=res.shape[0]//rowN\n",
    "print(nrows)\n",
    "fig, ax = plt.subplots(nrows=nrows,figsize=(200, 20*nrows))\n",
    "for i,axes in enumerate(ax):\n",
    "    axes.plot(res[i*(rowN):(i+1)*(rowN)])\n",
    "    axes.set_ylim(minY,maxY)\n",
    "    axes.grid(True)\n",
    "\n",
    "ax[0].set_ylabel(f\"{name}\",fontsize=32)\n",
    "\n",
    "# plt.grid(True)\n",
    "\n",
    "# loc = plticker.MultipleLocator(base=5000) # this locator puts ticks at regular intervals\n",
    "# ax.xaxis.set_major_locator(loc)\n",
    "\n",
    "plt.tight_layout()\n",
    "fig.show()\n",
    "filename=name.replace(\" \",\"_\")\n",
    "fig.savefig(f\"/home/enis/projects/nna/results/vis/nearestNeighbour/{filename}.png\")\n"
   ]
  },
  {
   "cell_type": "code",
   "execution_count": 169,
   "metadata": {},
   "outputs": [],
   "source": [
    "excerptLen=10\n",
    "exp_name=\"Concat10Second\"\n",
    "concat_embeds2=concat_embeds.reshape(-1,1280)\n",
    "raw_embed_audio2=raw_embed_audio.reshape(-1,1280)\n",
    "raw_embed_audio2=raw_embed_audio2[2:3,:]\n",
    "rowN=10000\n",
    "\n",
    "res=paired_distances_broadcast(raw_embed_audio2,concat_embeds2)\n",
    "res.shape\n",
    "\n",
    "import matplotlib.pyplot as plt\n",
    "import matplotlib.ticker as plticker\n",
    "\n",
    "name=f\"Euclidian Distance {exp_name}\"\n",
    "nrows=res.shape[0]//rowN\n",
    "\n",
    "fig, ax = plt.subplots(nrows=nrows,figsize=(200, 20*nrows))\n",
    "for i,axes in enumerate(ax):\n",
    "    axes.plot(res[i*(rowN):(i+1)*(rowN)])\n",
    "\n",
    "ax[0].set_ylabel(f\"{name}\",fontsize=32)\n",
    "\n",
    "plt.grid(True)\n",
    "\n",
    "# loc = plticker.MultipleLocator(base=5000) # this locator puts ticks at regular intervals\n",
    "# ax.xaxis.set_major_locator(loc)\n",
    "\n",
    "plt.tight_layout()\n",
    "# fig.show()\n",
    "filename=name.replace(\" \",\"_\")\n",
    "fig.savefig(f\"/home/enis/projects/nna/results/vis/nearestNeighbour/{filename}.png\")\n"
   ]
  },
  {
   "cell_type": "code",
   "execution_count": 232,
   "metadata": {},
   "outputs": [
    {
     "data": {
      "text/plain": [
       "(385, 10)"
      ]
     },
     "execution_count": 232,
     "metadata": {},
     "output_type": "execute_result"
    }
   ],
   "source": [
    "len(all_embeddings),excerptLen"
   ]
  },
  {
   "cell_type": "code",
   "execution_count": 310,
   "metadata": {},
   "outputs": [],
   "source": [
    "# sorted([sorted(start) for start in starts])"
   ]
  },
  {
   "cell_type": "code",
   "execution_count": 336,
   "metadata": {},
   "outputs": [
    {
     "name": "stdout",
     "output_type": "stream",
     "text": [
      "0.3321208477020264\n",
      "('/tank/data/nna/real/prudhoe/26/2019/S4A10255_20190507_120000.flac', 1651)\n",
      "0.3319710999727249\n",
      "('/tank/data/nna/real/prudhoe/26/2019/S4A10255_20190507_120000.flac', 1649)\n",
      "0.32931267619133\n",
      "('/tank/data/nna/real/prudhoe/26/2019/S4A10255_20190507_120000.flac', 1650)\n",
      "0.32825231850147246\n",
      "('/tank/data/nna/real/prudhoe/26/2019/S4A10255_20190507_120000.flac', 1652)\n",
      "0.32486856281757354\n",
      "('/tank/data/nna/real/prudhoe/26/2019/S4A10255_20190507_120000.flac', 1653)\n",
      "0.32268660664558413\n",
      "('/tank/data/nna/real/prudhoe/26/2019/S4A10255_20190507_120000.flac', 1648)\n",
      "0.3208696901798248\n",
      "('/tank/data/nna/real/prudhoe/26/2019/S4A10255_20190507_120000.flac', 1654)\n",
      "0.3162431657314301\n",
      "('/tank/data/nna/real/prudhoe/26/2019/S4A10255_20190507_120000.flac', 1655)\n",
      "0.31309634149074556\n",
      "('/tank/data/nna/real/prudhoe/26/2019/S4A10255_20190520_010000.flac', 3047)\n",
      "0.3129045993089676\n",
      "('/tank/data/nna/real/prudhoe/26/2019/S4A10255_20190507_120000.flac', 1647)\n",
      "0.31069845855236056\n",
      "('/tank/data/nna/real/prudhoe/26/2019/S4A10255_20190507_120000.flac', 1656)\n",
      "0.31057887673377993\n",
      "('/tank/data/nna/real/prudhoe/26/2019/S4A10255_20190523_004602.flac', 2363)\n",
      "0.309410035610199\n",
      "('/tank/data/nna/real/prudhoe/26/2019/S4A10255_20190608_064602.flac', 3777)\n",
      "0.3072647452354431\n",
      "('/tank/data/nna/real/prudhoe/26/2019/S4A10255_20190523_004602.flac', 2362)\n",
      "0.30701692402362823\n",
      "('/tank/data/nna/real/prudhoe/26/2019/S4A10255_20190523_004602.flac', 2361)\n",
      "0.3070075064897537\n",
      "('/tank/data/nna/real/prudhoe/26/2019/S4A10255_20190512_093000.flac', 3240)\n",
      "0.3068331390619278\n",
      "('/tank/data/nna/real/prudhoe/26/2019/S4A10255_20190520_010000.flac', 3048)\n",
      "0.3058062732219696\n",
      "('/tank/data/nna/real/prudhoe/26/2019/S4A10255_20190523_004602.flac', 2354)\n",
      "0.305685693025589\n",
      "('/tank/data/nna/real/prudhoe/26/2019/S4A10255_20190511_161602.flac', 71)\n",
      "0.3056756556034088\n",
      "('/tank/data/nna/real/prudhoe/26/2019/S4A10255_20190608_064602.flac', 3778)\n",
      "0.30563623607158663\n",
      "('/tank/data/nna/real/prudhoe/26/2019/S4A10255_20190507_120000.flac', 1657)\n",
      "0.30558096766471865\n",
      "('/tank/data/nna/real/prudhoe/26/2019/S4A10255_20190512_093000.flac', 3241)\n",
      "0.305477437376976\n",
      "('/tank/data/nna/real/prudhoe/26/2019/S4A10255_20190523_004602.flac', 2360)\n",
      "0.30479971766471864\n",
      "('/tank/data/nna/real/prudhoe/26/2019/S4A10255_20190523_004602.flac', 2359)\n",
      "0.3045004040002823\n",
      "('/tank/data/nna/real/prudhoe/26/2019/S4A10255_20190511_161602.flac', 70)\n",
      "0.3041155993938446\n",
      "('/tank/data/nna/real/prudhoe/26/2019/S4A10255_20190520_010000.flac', 3049)\n",
      "0.3039063990116119\n",
      "('/tank/data/nna/real/prudhoe/26/2019/S4A10255_20190608_193000.flac', 3976)\n",
      "0.30383105874061583\n",
      "('/tank/data/nna/real/prudhoe/26/2019/S4A10255_20190523_004602.flac', 2364)\n",
      "0.3037954032421112\n",
      "('/tank/data/nna/real/prudhoe/26/2019/S4A10255_20190523_004602.flac', 2355)\n",
      "0.30362467765808104\n",
      "('/tank/data/nna/real/prudhoe/26/2019/S4A10255_20190512_093000.flac', 3239)\n",
      "0.3032934799790382\n",
      "('/tank/data/nna/real/prudhoe/26/2019/S4A10255_20190608_100000.flac', 326)\n",
      "0.3031749427318573\n",
      "('/tank/data/nna/real/prudhoe/26/2019/S4A10255_20190608_064602.flac', 3776)\n",
      "0.3031389698386192\n",
      "('/tank/data/nna/real/prudhoe/26/2019/S4A10255_20190608_100000.flac', 325)\n",
      "0.30313374996185305\n",
      "('/tank/data/nna/real/prudhoe/26/2019/S4A10255_20190511_150000.flac', 3248)\n",
      "0.3030191481113434\n",
      "('/tank/data/nna/real/prudhoe/26/2019/S4A10255_20190523_004602.flac', 2366)\n",
      "0.3024869590997696\n",
      "('/tank/data/nna/real/prudhoe/26/2019/S4A10255_20190520_010000.flac', 3050)\n",
      "0.3023491084575653\n",
      "('/tank/data/nna/real/prudhoe/26/2019/S4A10255_20190511_150000.flac', 3247)\n",
      "0.3019252300262451\n",
      "('/tank/data/nna/real/prudhoe/26/2019/S4A10255_20190608_100000.flac', 327)\n",
      "0.3017431288957596\n",
      "('/tank/data/nna/real/prudhoe/26/2019/S4A10255_20190511_161602.flac', 69)\n",
      "0.3013626843690872\n",
      "('/tank/data/nna/real/prudhoe/26/2019/S4A10255_20190512_093000.flac', 3242)\n",
      "0.30103004425764085\n",
      "('/tank/data/nna/real/prudhoe/26/2019/S4A10255_20190520_010000.flac', 3046)\n",
      "0.3010101288557053\n",
      "('/tank/data/nna/real/prudhoe/26/2019/S4A10255_20190511_150000.flac', 3246)\n",
      "0.3009974256157875\n",
      "('/tank/data/nna/real/prudhoe/26/2019/S4A10255_20190608_100000.flac', 324)\n",
      "0.30085042864084244\n",
      "('/tank/data/nna/real/prudhoe/26/2019/S4A10255_20190608_064602.flac', 3771)\n",
      "0.30083289444446565\n",
      "('/tank/data/nna/real/prudhoe/26/2019/S4A10255_20190523_004602.flac', 2365)\n",
      "0.3001758724451065\n",
      "('/tank/data/nna/real/prudhoe/26/2019/S4A10255_20190507_120000.flac', 1646)\n",
      "0.3001480162143707\n",
      "('/tank/data/nna/real/prudhoe/26/2019/S4A10255_20190608_193000.flac', 3977)\n",
      "0.3000751852989197\n",
      "('/tank/data/nna/real/prudhoe/26/2019/S4A10255_20190608_064602.flac', 3779)\n",
      "0.29985208362340926\n",
      "('/tank/data/nna/real/prudhoe/26/2019/S4A10255_20190511_161602.flac', 3113)\n",
      "0.29984267204999926\n",
      "('/tank/data/nna/real/prudhoe/26/2019/S4A10255_20190511_161602.flac', 3114)\n",
      "0.2996879190206528\n",
      "('/tank/data/nna/real/prudhoe/26/2019/S4A10255_20190608_193000.flac', 3975)\n",
      "0.2994649142026901\n",
      "('/tank/data/nna/real/prudhoe/26/2019/S4A10255_20190608_100000.flac', 328)\n",
      "0.29897395372390745\n",
      "('/tank/data/nna/real/prudhoe/26/2019/S4A10255_20190608_064602.flac', 3775)\n",
      "0.29883086681365967\n",
      "('/tank/data/nna/real/prudhoe/26/2019/S4A10255_20190507_023000.flac', 3709)\n",
      "0.2988250404596329\n",
      "('/tank/data/nna/real/prudhoe/26/2019/S4A10255_20190511_161602.flac', 68)\n",
      "0.2987993508577347\n",
      "('/tank/data/nna/real/prudhoe/26/2019/S4A10255_20190523_004602.flac', 2367)\n",
      "0.2987609297037125\n",
      "('/tank/data/nna/real/prudhoe/26/2019/S4A10255_20190608_100000.flac', 330)\n",
      "0.29867910742759707\n",
      "('/tank/data/nna/real/prudhoe/26/2019/S4A10255_20190507_023000.flac', 3710)\n",
      "0.29811707735061643\n",
      "('/tank/data/nna/real/prudhoe/26/2019/S4A10255_20190608_193000.flac', 3978)\n",
      "0.2981033891439438\n",
      "('/tank/data/nna/real/prudhoe/26/2019/S4A10255_20190507_120000.flac', 1658)\n",
      "0.29776178747415544\n",
      "('/tank/data/nna/real/prudhoe/26/2019/S4A10255_20190608_064602.flac', 3770)\n",
      "0.2976838380098343\n",
      "('/tank/data/nna/real/prudhoe/26/2019/S4A10255_20190511_161602.flac', 72)\n",
      "0.2974805891513824\n",
      "('/tank/data/nna/real/prudhoe/26/2019/S4A10255_20190528_063000.flac', 4071)\n",
      "0.29733580350875854\n",
      "('/tank/data/nna/real/prudhoe/26/2019/S4A10255_20190520_010000.flac', 3051)\n",
      "0.2972077250480652\n",
      "('/tank/data/nna/real/prudhoe/26/2019/S4A10255_20190512_093000.flac', 3236)\n",
      "0.2968065470457077\n",
      "('/tank/data/nna/real/prudhoe/26/2019/S4A10255_20190523_004602.flac', 2356)\n",
      "0.29673044979572294\n",
      "('/tank/data/nna/real/prudhoe/26/2019/S4A10255_20190528_063000.flac', 4072)\n",
      "0.29670470058917997\n",
      "('/tank/data/nna/real/prudhoe/26/2019/S4A10255_20190608_193000.flac', 3979)\n",
      "0.2966990500688553\n",
      "('/tank/data/nna/real/prudhoe/26/2019/S4A10255_20190523_040000.flac', 1119)\n",
      "0.2964928522706032\n",
      "('/tank/data/nna/real/prudhoe/26/2019/S4A10255_20190511_161602.flac', 73)\n",
      "0.2964866667985916\n",
      "('/tank/data/nna/real/prudhoe/26/2019/S4A10255_20190507_023000.flac', 3708)\n",
      "0.2963813155889511\n",
      "('/tank/data/nna/real/prudhoe/26/2019/S4A10255_20190523_004602.flac', 2358)\n",
      "0.2962858319282532\n",
      "('/tank/data/nna/real/prudhoe/26/2019/S4A10255_20190608_100000.flac', 2054)\n",
      "0.296253377199173\n",
      "('/tank/data/nna/real/prudhoe/26/2019/S4A10255_20190523_040000.flac', 1120)\n",
      "0.2962112784385681\n",
      "('/tank/data/nna/real/prudhoe/26/2019/S4A10255_20190523_004602.flac', 2353)\n",
      "0.2961684435606003\n",
      "('/tank/data/nna/real/prudhoe/26/2019/S4A10255_20190608_100000.flac', 329)\n",
      "0.29587237536907196\n",
      "('/tank/data/nna/real/prudhoe/26/2019/S4A10255_20190512_093000.flac', 3238)\n",
      "0.2956491053104401\n",
      "('/tank/data/nna/real/prudhoe/26/2019/S4A10255_20190520_193000.flac', 5)\n",
      "0.2952698767185211\n",
      "('/tank/data/nna/real/prudhoe/26/2019/S4A10255_20190608_064602.flac', 3780)\n",
      "0.29523976147174835\n",
      "('/tank/data/nna/real/prudhoe/26/2019/S4A10255_20190608_053000.flac', 1231)\n",
      "0.29510599076747895\n",
      "('/tank/data/nna/real/prudhoe/26/2019/S4A10255_20190528_063000.flac', 4075)\n",
      "0.2949144572019577\n",
      "('/tank/data/nna/real/prudhoe/26/2019/S4A10255_20190507_023000.flac', 3707)\n",
      "0.2946461796760559\n",
      "('/tank/data/nna/real/prudhoe/26/2019/S4A10255_20190528_063000.flac', 4074)\n",
      "0.294623626768589\n",
      "('/tank/data/nna/real/prudhoe/26/2019/S4A10255_20190511_161602.flac', 3115)\n",
      "0.2944920971989632\n",
      "('/tank/data/nna/real/prudhoe/26/2019/S4A10255_20190608_064602.flac', 3772)\n",
      "0.2944482728838921\n",
      "('/tank/data/nna/real/prudhoe/26/2019/S4A10255_20190608_053000.flac', 1234)\n",
      "0.29414208233356476\n",
      "('/tank/data/nna/real/prudhoe/26/2019/S4A10255_20190520_010000.flac', 3045)\n",
      "0.2941221609711647\n",
      "('/tank/data/nna/real/prudhoe/26/2019/S4A10255_20190507_023000.flac', 3711)\n",
      "0.2940968036651611\n",
      "('/tank/data/nna/real/prudhoe/26/2019/S4A10255_20190511_150000.flac', 3245)\n",
      "0.2938158273696899\n",
      "('/tank/data/nna/real/prudhoe/26/2019/S4A10255_20190608_100000.flac', 2881)\n",
      "0.2937529250979424\n",
      "('/tank/data/nna/real/prudhoe/26/2019/S4A10255_20190512_093000.flac', 3234)\n",
      "0.2933954656124115\n",
      "('/tank/data/nna/real/prudhoe/26/2019/S4A10255_20190608_100000.flac', 331)\n",
      "0.29297315776348115\n",
      "('/tank/data/nna/real/prudhoe/26/2019/S4A10255_20190608_053000.flac', 1233)\n",
      "0.29284554719924927\n",
      "('/tank/data/nna/real/prudhoe/26/2019/S4A10255_20190608_053000.flac', 1232)\n",
      "0.29268918335437777\n",
      "('/tank/data/nna/real/prudhoe/26/2019/S4A10255_20190608_193000.flac', 3974)\n",
      "0.29261247962713244\n",
      "('/tank/data/nna/real/prudhoe/26/2019/S4A10255_20190608_064602.flac', 3769)\n",
      "0.2925372615456581\n",
      "('/tank/data/nna/real/prudhoe/26/2019/S4A10255_20190512_093000.flac', 3235)\n",
      "0.2923406660556793\n",
      "('/tank/data/nna/real/prudhoe/26/2019/S4A10255_20190512_093000.flac', 3243)\n",
      "0.2923000335693359\n",
      "('/tank/data/nna/real/prudhoe/26/2019/S4A10255_20190523_004602.flac', 2368)\n",
      "0.2921878442168236\n",
      "('/tank/data/nna/real/prudhoe/26/2019/S4A10255_20190520_193000.flac', 6)\n",
      "0.292168989777565\n",
      "('/tank/data/nna/real/prudhoe/26/2019/S4A10255_20190608_100000.flac', 2055)\n",
      "0.2921231731772423\n",
      "('/tank/data/nna/real/prudhoe/26/2019/S4A10255_20190520_064602.flac', 3267)\n",
      "0.2920351803302765\n",
      "('/tank/data/nna/real/prudhoe/26/2019/S4A10255_20190511_161602.flac', 1688)\n",
      "0.29202715754508973\n",
      "('/tank/data/nna/real/prudhoe/26/2019/S4A10255_20190523_004602.flac', 2357)\n",
      "0.29197862893342974\n",
      "('/tank/data/nna/real/prudhoe/26/2019/S4A10255_20190511_150000.flac', 3249)\n",
      "0.29194502979516984\n",
      "('/tank/data/nna/real/prudhoe/26/2019/S4A10255_20190608_064602.flac', 3773)\n",
      "0.29186650067567826\n",
      "('/tank/data/nna/real/prudhoe/26/2019/S4A10255_20190608_064602.flac', 3774)\n",
      "0.29186043739318845\n",
      "('/tank/data/nna/real/prudhoe/26/2019/S4A10255_20190523_004602.flac', 2352)\n",
      "0.291857174038887\n",
      "('/tank/data/nna/real/prudhoe/26/2019/S4A10255_20190608_100000.flac', 2053)\n",
      "0.29171831607818605\n",
      "('/tank/data/nna/real/prudhoe/26/2019/S4A10255_20190528_063000.flac', 4073)\n",
      "0.29160353243350984\n",
      "('/tank/data/nna/real/prudhoe/26/2019/S4A10255_20190512_093000.flac', 3237)\n",
      "0.29160221517086027\n",
      "('/tank/data/nna/real/prudhoe/26/2019/S4A10255_20190511_161602.flac', 75)\n",
      "0.2911494016647339\n",
      "('/tank/data/nna/real/prudhoe/26/2019/S4A10255_20190523_191602.flac', 3407)\n",
      "0.2910998061299324\n",
      "('/tank/data/nna/real/prudhoe/26/2019/S4A10255_20190520_193000.flac', 7)\n",
      "0.2910775691270828\n",
      "('/tank/data/nna/real/prudhoe/26/2019/S4A10255_20190511_161602.flac', 67)\n",
      "0.29101330488920213\n",
      "('/tank/data/nna/real/prudhoe/26/2019/S4A10255_20190523_191602.flac', 3405)\n",
      "0.290865421295166\n",
      "('/tank/data/nna/real/prudhoe/26/2019/S4A10255_20190523_040000.flac', 1117)\n",
      "0.2908037781715393\n",
      "('/tank/data/nna/real/prudhoe/26/2019/S4A10255_20190523_191602.flac', 3408)\n",
      "0.29069140553474426\n",
      "('/tank/data/nna/real/prudhoe/26/2019/S4A10255_20190511_150000.flac', 1674)\n",
      "0.2906770706176758\n",
      "('/tank/data/nna/real/prudhoe/26/2019/S4A10255_20190520_010000.flac', 3053)\n",
      "0.2906496450304985\n",
      "('/tank/data/nna/real/prudhoe/26/2019/S4A10255_20190608_053000.flac', 1235)\n",
      "0.29050218164920805\n",
      "('/tank/data/nna/real/prudhoe/26/2019/S4A10255_20190511_161602.flac', 74)\n",
      "0.2904338642954826\n",
      "('/tank/data/nna/real/prudhoe/26/2019/S4A10255_20190523_040000.flac', 1118)\n",
      "0.29030666351318357\n",
      "('/tank/data/nna/real/prudhoe/26/2019/S4A10255_20190520_010000.flac', 3052)\n",
      "0.29021662622690203\n",
      "('/tank/data/nna/real/prudhoe/26/2019/S4A10255_20190608_100000.flac', 323)\n",
      "0.2901248633861542\n",
      "('/tank/data/nna/real/prudhoe/26/2019/S4A10255_20190511_193000.flac', 479)\n",
      "0.29003591388463973\n",
      "('/tank/data/nna/real/prudhoe/26/2019/S4A10255_20190511_150000.flac', 1161)\n",
      "0.2900228425860405\n",
      "('/tank/data/nna/real/prudhoe/26/2019/S4A10255_20190511_150000.flac', 1160)\n",
      "0.28980155289173126\n",
      "('/tank/data/nna/real/prudhoe/26/2019/S4A10255_20190511_150000.flac', 2515)\n",
      "0.28972473442554475\n",
      "('/tank/data/nna/real/prudhoe/26/2019/S4A10255_20190511_161602.flac', 76)\n",
      "0.2896884649991989\n",
      "('/tank/data/nna/real/prudhoe/26/2019/S4A10255_20190511_161602.flac', 3112)\n",
      "0.28956240713596343\n",
      "('/tank/data/nna/real/prudhoe/26/2019/S4A10255_20190608_193000.flac', 3980)\n",
      "0.2895293742418289\n",
      "('/tank/data/nna/real/prudhoe/26/2019/S4A10255_20190507_120000.flac', 1659)\n",
      "0.2894620731472969\n",
      "('/tank/data/nna/real/prudhoe/26/2019/S4A10255_20190520_064602.flac', 3268)\n",
      "0.2893832266330719\n",
      "('/tank/data/nna/real/prudhoe/26/2019/S4A10255_20190507_120000.flac', 1661)\n",
      "0.2892172709107399\n",
      "('/tank/data/nna/real/prudhoe/26/2019/S4A10255_20190511_150000.flac', 3250)\n",
      "0.2891015440225601\n",
      "('/tank/data/nna/real/prudhoe/26/2019/S4A10255_20190511_161602.flac', 1689)\n",
      "0.2890575617551804\n",
      "('/tank/data/nna/real/prudhoe/26/2019/S4A10255_20190511_150000.flac', 1675)\n",
      "0.2890282034873962\n",
      "('/tank/data/nna/real/prudhoe/26/2019/S4A10255_20190507_120000.flac', 1660)\n",
      "0.2888753354549408\n",
      "('/tank/data/nna/real/prudhoe/26/2019/S4A10255_20190520_193000.flac', 3)\n",
      "0.288865464925766\n",
      "('/tank/data/nna/real/prudhoe/26/2019/S4A10255_20190511_150000.flac', 1676)\n",
      "0.28867127299308776\n",
      "('/tank/data/nna/real/prudhoe/26/2019/S4A10255_20190520_193000.flac', 4)\n",
      "0.28864887058734895\n",
      "('/tank/data/nna/real/prudhoe/26/2019/S4A10255_20190507_023000.flac', 3546)\n",
      "0.28853618949651716\n",
      "('/tank/data/nna/real/prudhoe/26/2019/S4A10255_20190512_104602.flac', 861)\n",
      "0.2884905651211739\n",
      "('/tank/data/nna/real/prudhoe/26/2019/S4A10255_20190511_161602.flac', 3110)\n",
      "0.28846398890018465\n",
      "('/tank/data/nna/real/prudhoe/26/2019/S4A10255_20190507_120000.flac', 1662)\n",
      "0.28845421224832535\n",
      "('/tank/data/nna/real/prudhoe/26/2019/S4A10255_20190511_150000.flac', 1159)\n",
      "0.2884329855442047\n",
      "('/tank/data/nna/real/prudhoe/26/2019/S4A10255_20190523_004602.flac', 2351)\n",
      "0.2883741781115532\n",
      "('/tank/data/nna/real/prudhoe/26/2019/S4A10255_20190608_100000.flac', 2058)\n",
      "0.28827228397130966\n",
      "('/tank/data/nna/real/prudhoe/26/2019/S4A10255_20190608_100000.flac', 2056)\n",
      "0.2882433786988258\n",
      "('/tank/data/nna/real/prudhoe/26/2019/S4A10255_20190511_161602.flac', 833)\n",
      "0.2882278561592102\n",
      "('/tank/data/nna/real/prudhoe/26/2019/S4A10255_20190523_040000.flac', 1121)\n",
      "0.28810523450374603\n",
      "('/tank/data/nna/real/prudhoe/26/2019/S4A10255_20190520_010000.flac', 3055)\n",
      "0.28805373460054395\n",
      "('/tank/data/nna/real/prudhoe/26/2019/S4A10255_20190511_161602.flac', 832)\n",
      "0.2879865065217018\n",
      "('/tank/data/nna/real/prudhoe/26/2019/S4A10255_20190608_193000.flac', 3973)\n",
      "0.2878612011671066\n",
      "('/tank/data/nna/real/prudhoe/26/2019/S4A10255_20190520_010000.flac', 3056)\n",
      "0.2877453058958054\n",
      "('/tank/data/nna/real/prudhoe/26/2019/S4A10255_20190511_150000.flac', 1673)\n",
      "0.28758534491062165\n",
      "('/tank/data/nna/real/prudhoe/26/2019/S4A10255_20190511_161602.flac', 77)\n",
      "0.28748428374528884\n",
      "('/tank/data/nna/real/prudhoe/26/2019/S4A10255_20190511_150000.flac', 1162)\n",
      "0.287372986972332\n",
      "('/tank/data/nna/real/prudhoe/26/2019/S4A10255_20190608_100000.flac', 332)\n",
      "0.2872386068105698\n",
      "('/tank/data/nna/real/prudhoe/26/2019/S4A10255_20190528_063000.flac', 4070)\n",
      "0.2871916189789772\n",
      "('/tank/data/nna/real/prudhoe/26/2019/S4A10255_20190523_191602.flac', 3303)\n",
      "0.28712358325719833\n",
      "('/tank/data/nna/real/prudhoe/26/2019/S4A10255_20190522_011602.flac', 1778)\n",
      "0.2871031314134598\n",
      "('/tank/data/nna/real/prudhoe/26/2019/S4A10255_20190511_161602.flac', 3116)\n",
      "0.2870439037680626\n",
      "('/tank/data/nna/real/prudhoe/26/2019/S4A10255_20190512_093000.flac', 3245)\n",
      "0.28689606338739393\n",
      "('/tank/data/nna/real/prudhoe/26/2019/S4A10255_20190522_011602.flac', 1775)\n",
      "0.286893892288208\n",
      "('/tank/data/nna/real/prudhoe/26/2019/S4A10255_20190520_010000.flac', 3044)\n",
      "0.28687766194343567\n",
      "('/tank/data/nna/real/prudhoe/26/2019/S4A10255_20190512_104602.flac', 2690)\n",
      "0.28687515258789065\n",
      "('/tank/data/nna/real/prudhoe/26/2019/S4A10255_20190507_120000.flac', 1645)\n",
      "0.2868487060070038\n",
      "('/tank/data/nna/real/prudhoe/26/2019/S4A10255_20190520_064602.flac', 3266)\n",
      "0.28670973777770997\n",
      "('/tank/data/nna/real/prudhoe/26/2019/S4A10255_20190520_010000.flac', 3054)\n",
      "0.28670254945755\n",
      "('/tank/data/nna/real/prudhoe/26/2019/S4A10255_20190512_104602.flac', 3475)\n",
      "0.28664793223142626\n",
      "('/tank/data/nna/real/prudhoe/26/2019/S4A10255_20190512_104602.flac', 860)\n",
      "0.28655260503292085\n",
      "('/tank/data/nna/real/prudhoe/26/2019/S4A10255_20190520_193000.flac', 2)\n",
      "0.2865274965763092\n",
      "('/tank/data/nna/real/prudhoe/26/2019/S4A10255_20190608_100000.flac', 2882)\n",
      "0.2865085437893867\n",
      "('/tank/data/nna/real/prudhoe/26/2019/S4A10255_20190512_093000.flac', 3247)\n",
      "0.28646551817655563\n",
      "('/tank/data/nna/real/prudhoe/26/2019/S4A10255_20190512_093000.flac', 3233)\n",
      "0.2864095136523247\n",
      "('/tank/data/nna/real/prudhoe/26/2019/S4A10255_20190608_100000.flac', 2057)\n",
      "0.28618687838315965\n",
      "('/tank/data/nna/real/prudhoe/26/2019/S4A10255_20190507_023000.flac', 3705)\n",
      "0.2861213326454163\n",
      "('/tank/data/nna/real/prudhoe/26/2019/S4A10255_20190511_161602.flac', 3111)\n",
      "0.2857177421450615\n",
      "('/tank/data/nna/real/prudhoe/26/2019/S4A10255_20190523_040000.flac', 1116)\n",
      "0.2857170239090919\n",
      "('/tank/data/nna/real/prudhoe/26/2019/S4A10255_20190608_193000.flac', 3972)\n",
      "0.28569217920303347\n",
      "('/tank/data/nna/real/prudhoe/26/2019/S4A10255_20190522_194602.flac', 820)\n",
      "0.2856903463602066\n",
      "('/tank/data/nna/real/prudhoe/26/2019/S4A10255_20190511_161602.flac', 1687)\n",
      "0.28562454134225845\n",
      "('/tank/data/nna/real/prudhoe/26/2019/S4A10255_20190506_231602.flac', 4383)\n",
      "0.28560387194156645\n",
      "('/tank/data/nna/real/prudhoe/26/2019/S4A10255_20190511_161602.flac', 3117)\n",
      "0.2854686349630356\n",
      "('/tank/data/nna/real/prudhoe/26/2019/S4A10255_20190512_104602.flac', 865)\n",
      "0.2854439318180084\n",
      "('/tank/data/nna/real/prudhoe/26/2019/S4A10255_20190508_221602.flac', 436)\n",
      "0.28537575006484983\n",
      "('/tank/data/nna/real/prudhoe/26/2019/S4A10255_20190522_194602.flac', 819)\n",
      "0.2853192165493965\n",
      "('/tank/data/nna/real/prudhoe/26/2019/S4A10255_20190511_161602.flac', 1686)\n",
      "0.28527163416147233\n",
      "('/tank/data/nna/real/prudhoe/26/2019/S4A10255_20190512_093000.flac', 2682)\n",
      "0.28516401201486585\n",
      "('/tank/data/nna/real/prudhoe/26/2019/S4A10255_20190511_161602.flac', 834)\n",
      "0.2850743427872658\n",
      "('/tank/data/nna/real/prudhoe/26/2019/S4A10255_20190506_231602.flac', 4384)\n",
      "0.2845162063837051\n",
      "('/tank/data/nna/real/prudhoe/26/2019/S4A10255_20190507_023000.flac', 3545)\n",
      "0.28448140174150466\n",
      "('/tank/data/nna/real/prudhoe/26/2019/S4A10255_20190507_023000.flac', 3704)\n",
      "0.28446575403213503\n",
      "('/tank/data/nna/real/prudhoe/26/2019/S4A10255_20190511_193000.flac', 744)\n",
      "0.2843833416700363\n",
      "('/tank/data/nna/real/prudhoe/26/2019/S4A10255_20190520_064602.flac', 3269)\n",
      "0.2843268230557442\n",
      "('/tank/data/nna/real/prudhoe/26/2019/S4A10255_20190608_100000.flac', 321)\n",
      "0.28426117151975633\n",
      "('/tank/data/nna/real/prudhoe/26/2019/S4A10255_20190507_023000.flac', 3706)\n",
      "0.2841930568218231\n",
      "('/tank/data/nna/real/prudhoe/26/2019/S4A10255_20190520_064602.flac', 3406)\n",
      "0.2841097876429558\n",
      "('/tank/data/nna/real/prudhoe/26/2019/S4A10255_20190512_104602.flac', 859)\n",
      "0.2840700224041939\n",
      "('/tank/data/nna/real/prudhoe/26/2019/S4A10255_20190511_150000.flac', 1158)\n",
      "0.28403760194778443\n",
      "('/tank/data/nna/real/prudhoe/26/2019/S4A10255_20190608_100000.flac', 2883)\n",
      "0.28402494341135026\n",
      "('/tank/data/nna/real/prudhoe/26/2019/S4A10255_20190608_064602.flac', 3768)\n",
      "0.2840198904275894\n",
      "('/tank/data/nna/real/prudhoe/26/2019/S4A10255_20190523_004602.flac', 2350)\n",
      "0.2840119138360023\n",
      "('/tank/data/nna/real/prudhoe/26/2019/S4A10255_20190528_063000.flac', 4076)\n",
      "0.28393386006355287\n",
      "('/tank/data/nna/real/prudhoe/26/2019/S4A10255_20190512_104602.flac', 863)\n",
      "0.28392933011054994\n",
      "('/tank/data/nna/real/prudhoe/26/2019/S4A10255_20190522_104602.flac', 4203)\n",
      "0.2839179962873459\n",
      "('/tank/data/nna/real/prudhoe/26/2019/S4A10255_20190511_150000.flac', 2516)\n",
      "0.2838710442185402\n",
      "('/tank/data/nna/real/prudhoe/26/2019/S4A10255_20190523_191602.flac', 3406)\n",
      "0.2838314831256866\n",
      "('/tank/data/nna/real/prudhoe/26/2019/S4A10255_20190523_191602.flac', 3409)\n",
      "0.28379949778318403\n",
      "('/tank/data/nna/real/prudhoe/26/2019/S4A10255_20190608_064602.flac', 3766)\n",
      "0.2837812423706055\n",
      "('/tank/data/nna/real/prudhoe/26/2019/S4A10255_20190511_150000.flac', 3244)\n",
      "0.28367313742637634\n",
      "('/tank/data/nna/real/prudhoe/26/2019/S4A10255_20190522_194602.flac', 818)\n",
      "0.2834219217300415\n",
      "('/tank/data/nna/real/prudhoe/26/2019/S4A10255_20190608_161602.flac', 1034)\n",
      "0.283409121632576\n",
      "('/tank/data/nna/real/prudhoe/26/2019/S4A10255_20190512_104602.flac', 862)\n",
      "0.2833730444312096\n",
      "('/tank/data/nna/real/prudhoe/26/2019/S4A10255_20190608_100000.flac', 322)\n",
      "0.2831364795565605\n",
      "('/tank/data/nna/real/prudhoe/26/2019/S4A10255_20190512_093000.flac', 3246)\n",
      "0.28309205919504166\n",
      "('/tank/data/nna/real/prudhoe/26/2019/S4A10255_20190520_064602.flac', 3265)\n",
      "0.28307802230119705\n",
      "('/tank/data/nna/real/prudhoe/26/2019/S4A10255_20190523_191602.flac', 3302)\n",
      "0.28295017331838607\n",
      "('/tank/data/nna/real/prudhoe/26/2019/S4A10255_20190523_191602.flac', 3398)\n",
      "0.28277183771133424\n",
      "('/tank/data/nna/real/prudhoe/26/2019/S4A10255_20190512_104602.flac', 2693)\n",
      "0.28275314122438433\n",
      "('/tank/data/nna/real/prudhoe/26/2019/S4A10255_20190507_023000.flac', 3544)\n",
      "0.2827286392450333\n",
      "('/tank/data/nna/real/prudhoe/26/2019/S4A10255_20190512_104602.flac', 3476)\n",
      "0.2826608642935753\n",
      "('/tank/data/nna/real/prudhoe/26/2019/S4A10255_20190522_000000.flac', 3935)\n",
      "0.28264480233192446\n",
      "('/tank/data/nna/real/prudhoe/26/2019/S4A10255_20190511_150000.flac', 1163)\n",
      "0.28257587254047395\n",
      "('/tank/data/nna/real/prudhoe/26/2019/S4A10255_20190608_100000.flac', 2878)\n",
      "0.28256548196077347\n",
      "('/tank/data/nna/real/prudhoe/26/2019/S4A10255_20190512_093000.flac', 2683)\n",
      "0.2825646594166756\n",
      "('/tank/data/nna/real/prudhoe/26/2019/S4A10255_20190523_004602.flac', 276)\n",
      "0.28248720020055773\n",
      "('/tank/data/nna/real/prudhoe/26/2019/S4A10255_20190512_104602.flac', 864)\n",
      "0.2824613511562347\n",
      "('/tank/data/nna/real/prudhoe/26/2019/S4A10255_20190511_193000.flac', 742)\n",
      "0.28241533786058426\n",
      "('/tank/data/nna/real/prudhoe/26/2019/S4A10255_20190523_191602.flac', 3399)\n",
      "0.28240430653095244\n",
      "('/tank/data/nna/real/prudhoe/26/2019/S4A10255_20190522_104602.flac', 4249)\n",
      "0.28239884078502653\n",
      "('/tank/data/nna/real/prudhoe/26/2019/S4A10255_20190512_104602.flac', 3474)\n",
      "0.28237652629613874\n",
      "('/tank/data/nna/real/prudhoe/26/2019/S4A10255_20190522_011602.flac', 1777)\n",
      "0.28226175606250764\n",
      "('/tank/data/nna/real/prudhoe/26/2019/S4A10255_20190520_010000.flac', 3058)\n",
      "0.28222484290599825\n",
      "('/tank/data/nna/real/prudhoe/26/2019/S4A10255_20190523_191602.flac', 3394)\n",
      "0.282170458137989\n",
      "('/tank/data/nna/real/prudhoe/26/2019/S4A10255_20190511_161602.flac', 4230)\n",
      "0.28208234161138535\n",
      "('/tank/data/nna/real/prudhoe/26/2019/S4A10255_20190511_150000.flac', 2514)\n",
      "0.2820408433675766\n",
      "('/tank/data/nna/real/prudhoe/26/2019/S4A10255_20190608_064602.flac', 3764)\n",
      "0.2820156514644623\n",
      "('/tank/data/nna/real/prudhoe/26/2019/S4A10255_20190511_150000.flac', 3251)\n",
      "0.28200860470533373\n",
      "('/tank/data/nna/real/prudhoe/26/2019/S4A10255_20190608_100000.flac', 333)\n",
      "0.2819117158651352\n",
      "('/tank/data/nna/real/prudhoe/26/2019/S4A10255_20190511_193000.flac', 741)\n",
      "0.28190040290355683\n",
      "('/tank/data/nna/real/prudhoe/26/2019/S4A10255_20190608_161602.flac', 1558)\n",
      "0.2818820744752884\n",
      "('/tank/data/nna/real/prudhoe/26/2019/S4A10255_20190522_104602.flac', 4206)\n",
      "0.28186160922050474\n",
      "('/tank/data/nna/real/prudhoe/26/2019/S4A10255_20190512_104602.flac', 866)\n",
      "0.281807678937912\n",
      "('/tank/data/nna/real/prudhoe/26/2019/S4A10255_20190523_191602.flac', 3393)\n",
      "0.2817301169037819\n",
      "('/tank/data/nna/real/prudhoe/26/2019/S4A10255_20190523_191602.flac', 3400)\n",
      "0.28166683167219164\n",
      "('/tank/data/nna/real/prudhoe/26/2019/S4A10255_20190512_093000.flac', 3244)\n",
      "0.281663279235363\n",
      "('/tank/data/nna/real/prudhoe/26/2019/S4A10255_20190608_100000.flac', 2059)\n"
     ]
    }
   ],
   "source": [
    "split_folder=\"/home/enis/projects/nna/data/nearestNeighbours/S4A10255_20190507_073000-1808seconds/slidingWindow_AverageOfMax/\"\n",
    "excerptLen=1\n",
    "# for indexes in (starts):\n",
    "#     score,index=(indexes[len(indexes)//2])\n",
    "#     print(score)\n",
    "#     print(embedIndex2fileSecond(index,embeds,all_embeddings,excerptLen=1))\n",
    "    \n",
    "for score,index in (sortedbyScore):\n",
    "#     score,index=(indexes[len(indexes)//2])\n",
    "    print(score)\n",
    "    print(embedIndex2fileSecond(index,embeds,all_embeddings,excerptLen=1))\n",
    "\n",
    "# indexes=[indexes[len(indexes)//2] for indexes,count in (starts)]\n",
    "# # # indexes\n",
    "# clipAddBip(indexes,exp_name,split_folder,embeds,all_embeddings,excerptLen=10,reductionLen=1)\n",
    "    \n"
   ]
  },
  {
   "cell_type": "code",
   "execution_count": null,
   "metadata": {},
   "outputs": [],
   "source": []
  },
  {
   "cell_type": "code",
   "execution_count": null,
   "metadata": {},
   "outputs": [],
   "source": []
  },
  {
   "cell_type": "code",
   "execution_count": 50,
   "metadata": {},
   "outputs": [],
   "source": [
    "kdt = KDTree(concat_embeds2, leaf_size=30, metric='euclidean')\n",
    "distances,indexes=kdt.query(raw_embed_audio2, k=10, return_distance=True)\n",
    "allResults=[ (distance,index) for index,distance in (zip(indexes.flatten(),distances.flatten()))]\n",
    "allResults.sort()\n",
    "# distances,indexes=allResults"
   ]
  },
  {
   "cell_type": "code",
   "execution_count": 51,
   "metadata": {},
   "outputs": [],
   "source": [
    "# distances"
   ]
  },
  {
   "cell_type": "code",
   "execution_count": 241,
   "metadata": {},
   "outputs": [],
   "source": [
    "def embedIndex2fileSecond(index,embeds,all_embeddings,excerptLen=1):\n",
    "    alist=[]\n",
    "    countStart=0\n",
    "    embed_count=index*excerptLen\n",
    "    for i,em in enumerate(embeds):\n",
    "        countEnd=countStart+(em.shape[0])\n",
    "        if countStart<=embed_count and embed_count<=countEnd:\n",
    "            startSecond=embed_count-countStart\n",
    "    #             print(i,countStart,countEnd,\"start second:\",startSecond)\n",
    "            filename=(\"/tank/\"+\"/\".join(all_embeddings[i].split(\"/\")[3:-2])+\"/\"+all_embeddings[i].split(\"/\")[-2][:-4]+\".flac\")\n",
    "#             alist.append((filename,startSecond))\n",
    "            return((filename,startSecond))\n",
    "#             break\n",
    "        countStart=countEnd\n",
    "\n",
    "    "
   ]
  },
  {
   "cell_type": "code",
   "execution_count": 246,
   "metadata": {},
   "outputs": [],
   "source": [
    "split_folder=\"/home/enis/projects/nna/data/nearestNeighbours/\"\n",
    "def clipAddBip(allIndexes,exp_name,split_folder,embeds,all_embeddings,excerptLen,reductionLen):\n",
    "    # embed_count=823804\n",
    "    beep_wav=\"/home/enis/projects/nna/data/beep.wav\"\n",
    "    beep_wav = AudioSegment.from_file(beep_wav)\n",
    "    beep_wav=beep_wav-30\n",
    "\n",
    "    split_folder=(split_folder+exp_name)\n",
    "    Path(split_folder).mkdir(parents=True, exist_ok=True)\n",
    "\n",
    "    for index in allIndexes[:]:\n",
    "        (filename,startSecond)=embedIndex2fileSecond(index,embeds,all_embeddings,excerptLen=reductionLen)\n",
    "        endSecond=startSecond+excerptLen\n",
    "        print(filename,startSecond)\n",
    "        input_file=filename\n",
    "        buffer=10\n",
    "        start_time=\"{}.{}\".format((startSecond-buffer)//60,(startSecond-buffer)%60)\n",
    "        end_time=\"{}.{}\".format((endSecond+buffer)//60,(endSecond+buffer)%60)\n",
    "        outputSuffix=\".wav\"\n",
    "        output_file = splitmp3(input_file,split_folder,start_time,end_time,depth=1,backend=\"ffmpeg\",outputSuffix=outputSuffix)\n",
    "\n",
    "        other_wav=AudioSegment.from_file(output_file)\n",
    "        start,end=(buffer*1000),((buffer+excerptLen)*1000)\n",
    "        result_wav=other_wav[:start]+(beep_wav)+other_wav[start:end]+beep_wav+other_wav[end:]\n",
    "        o_file=result_wav.export(output_file)\n",
    "\n"
   ]
  },
  {
   "cell_type": "code",
   "execution_count": 37,
   "metadata": {},
   "outputs": [],
   "source": [
    "o_file=result_wav.export(output_file)"
   ]
  },
  {
   "cell_type": "code",
   "execution_count": 8,
   "metadata": {},
   "outputs": [
    {
     "data": {
      "text/plain": [
       "(60000, 2)"
      ]
     },
     "execution_count": 8,
     "metadata": {},
     "output_type": "execute_result"
    }
   ],
   "source": [
    "len(other_wav)"
   ]
  },
  {
   "cell_type": "code",
   "execution_count": 5,
   "metadata": {},
   "outputs": [],
   "source": [
    "beep_wav=\"/home/enis/projects/nna/data/beep.wav\"\n",
    "other_wav=\"./S4A10279_20190507_033000_4008-4068.wav\"\n",
    "beep_wav = AudioSegment.from_file(beep_wav)\n",
    "beep_wav=beep_wav-30\n",
    "other_wav=AudioSegment.from_file(other_wav)"
   ]
  },
  {
   "cell_type": "code",
   "execution_count": null,
   "metadata": {},
   "outputs": [],
   "source": [
    "other_wav[:start]+(beep_wav-30)+other_wav[start:end]+"
   ]
  },
  {
   "cell_type": "code",
   "execution_count": 43,
   "metadata": {},
   "outputs": [
    {
     "data": {
      "text/plain": [
       "<_io.BufferedRandom name='mashup.wav'>"
      ]
     },
     "execution_count": 43,
     "metadata": {},
     "output_type": "execute_result"
    }
   ],
   "source": [
    "res=(beep_wav-30)+other_wav[:1000]\n"
   ]
  },
  {
   "cell_type": "code",
   "execution_count": 4,
   "metadata": {},
   "outputs": [
    {
     "name": "stdout",
     "output_type": "stream",
     "text": [
      "S4A10279_20190605_091602_2m_12s__3m_12s.wav\n"
     ]
    }
   ],
   "source": [
    "input_file='/tank/data/nna/real/anwr/37/2019/S4A10279_20190605_091602.flac'\n",
    "split_folder=\"./\"\n",
    "start_time=\"2.12\"\n",
    "end_time=\"3.12\"\n",
    "outputSuffix=\".wav\"\n",
    "a=splitmp3(input_file,split_folder,start_time,end_time,depth=1,backend=\"ffmpeg\",outputSuffix=outputSuffix)\n"
   ]
  },
  {
   "cell_type": "code",
   "execution_count": 169,
   "metadata": {},
   "outputs": [
    {
     "name": "stdout",
     "output_type": "stream",
     "text": [
      "ffmpeg version 2.8.6 Copyright (c) 2000-2016 the FFmpeg developers\n",
      "  built with gcc 4.8.2 (GCC) 20140120 (Red Hat 4.8.2-15)\n",
      "  configuration: --prefix=/home/apps/anaconda --disable-doc --enable-shared --enable-static --extra-cflags='-Wall -g -m64 -pipe -O3 -march=x86-64 -fPIC -I/home/apps/anaconda/include' --extra-cxxflags='=-Wall -g -m64 -pipe -O3 -march=x86-64 -fPIC' --extra-libs='-L/home/apps/anaconda/lib -lz' --enable-pic --enable-gpl --enable-libx264 --disable-openssl\n",
      "  libavutil      54. 31.100 / 54. 31.100\n",
      "  libavcodec     56. 60.100 / 56. 60.100\n",
      "  libavformat    56. 40.101 / 56. 40.101\n",
      "  libavdevice    56.  4.100 / 56.  4.100\n",
      "  libavfilter     5. 40.101 /  5. 40.101\n",
      "  libswscale      3.  1.101 /  3.  1.101\n",
      "  libswresample   1.  2.101 /  1.  2.101\n",
      "  libpostproc    53.  3.100 / 53.  3.100\n",
      "Input #0, flac, from '/tank/data/nna/real/anwr/37/2019/S4A10279_20190605_091602.flac':\n",
      "  Metadata:\n",
      "    ENCODER         : Lavf56.40.101\n",
      "  Duration: 01:13:58.00, start: 0.000000, bitrate: 639 kb/s\n",
      "    Stream #0:0: Audio: flac, 48000 Hz, stereo, s16\n",
      "Output #0, wav, to 'S4A10279_20190605_091602_304-364.wav':\n",
      "  Metadata:\n",
      "    ISFT            : Lavf56.40.101\n",
      "    Stream #0:0: Audio: flac ([172][241][0][0] / 0xF1AC), 48000 Hz, stereo (16 bit)\n",
      "Stream mapping:\n",
      "  Stream #0:0 -> #0:0 (copy)\n",
      "Press [q] to stop, [?] for help\n",
      "size=    5123kB time=00:00:59.93 bitrate= 700.3kbits/s    \n",
      "video:0kB audio:5123kB subtitle:0kB other streams:0kB global headers:0kB muxing overhead: 0.002421%\n",
      "ffmpeg version 2.8.6 Copyright (c) 2000-2016 the FFmpeg developers\n",
      "  built with gcc 4.8.2 (GCC) 20140120 (Red Hat 4.8.2-15)\n",
      "  configuration: --prefix=/home/apps/anaconda --disable-doc --enable-shared --enable-static --extra-cflags='-Wall -g -m64 -pipe -O3 -march=x86-64 -fPIC -I/home/apps/anaconda/include' --extra-cxxflags='=-Wall -g -m64 -pipe -O3 -march=x86-64 -fPIC' --extra-libs='-L/home/apps/anaconda/lib -lz' --enable-pic --enable-gpl --enable-libx264 --disable-openssl\n",
      "  libavutil      54. 31.100 / 54. 31.100\n",
      "  libavcodec     56. 60.100 / 56. 60.100\n",
      "  libavformat    56. 40.101 / 56. 40.101\n",
      "  libavdevice    56.  4.100 / 56.  4.100\n",
      "  libavfilter     5. 40.101 /  5. 40.101\n",
      "  libswscale      3.  1.101 /  3.  1.101\n",
      "  libswresample   1.  2.101 /  1.  2.101\n",
      "  libpostproc    53.  3.100 / 53.  3.100\n",
      "Input #0, flac, from '/tank/data/nna/real/anwr/37/2019/S4A10279_20190604_234602.flac':\n",
      "  Metadata:\n",
      "    ENCODER         : Lavf56.40.101\n",
      "  Duration: 01:13:58.00, start: 0.000000, bitrate: 647 kb/s\n",
      "    Stream #0:0: Audio: flac, 48000 Hz, stereo, s16\n",
      "Output #0, wav, to 'S4A10279_20190604_234602_650-700.wav':\n",
      "  Metadata:\n",
      "    ISFT            : Lavf56.40.101\n",
      "    Stream #0:0: Audio: flac ([172][241][0][0] / 0xF1AC), 48000 Hz, stereo (16 bit)\n",
      "Stream mapping:\n",
      "  Stream #0:0 -> #0:0 (copy)\n",
      "Press [q] to stop, [?] for help\n",
      "size=    3993kB time=00:00:49.93 bitrate= 655.0kbits/s    \n",
      "video:0kB audio:3993kB subtitle:0kB other streams:0kB global headers:0kB muxing overhead: 0.003082%\n",
      "ffmpeg version 2.8.6 Copyright (c) 2000-2016 the FFmpeg developers\n",
      "  built with gcc 4.8.2 (GCC) 20140120 (Red Hat 4.8.2-15)\n",
      "  configuration: --prefix=/home/apps/anaconda --disable-doc --enable-shared --enable-static --extra-cflags='-Wall -g -m64 -pipe -O3 -march=x86-64 -fPIC -I/home/apps/anaconda/include' --extra-cxxflags='=-Wall -g -m64 -pipe -O3 -march=x86-64 -fPIC' --extra-libs='-L/home/apps/anaconda/lib -lz' --enable-pic --enable-gpl --enable-libx264 --disable-openssl\n",
      "  libavutil      54. 31.100 / 54. 31.100\n",
      "  libavcodec     56. 60.100 / 56. 60.100\n",
      "  libavformat    56. 40.101 / 56. 40.101\n",
      "  libavdevice    56.  4.100 / 56.  4.100\n",
      "  libavfilter     5. 40.101 /  5. 40.101\n",
      "  libswscale      3.  1.101 /  3.  1.101\n",
      "  libswresample   1.  2.101 /  1.  2.101\n",
      "  libpostproc    53.  3.100 / 53.  3.100\n",
      "Input #0, flac, from '/tank/data/nna/real/anwr/37/2019/S4A10279_20190509_073000.flac':\n",
      "  Metadata:\n",
      "    ENCODER         : Lavf56.40.101\n",
      "  Duration: 01:16:00.00, start: 0.000000, bitrate: 617 kb/s\n",
      "    Stream #0:0: Audio: flac, 48000 Hz, stereo, s16\n",
      "Output #0, wav, to 'S4A10279_20190509_073000_4149-4209.wav':\n",
      "  Metadata:\n",
      "    ISFT            : Lavf56.40.101\n",
      "    Stream #0:0: Audio: flac ([172][241][0][0] / 0xF1AC), 48000 Hz, stereo (16 bit)\n",
      "Stream mapping:\n",
      "  Stream #0:0 -> #0:0 (copy)\n",
      "Press [q] to stop, [?] for help\n",
      "size=    4546kB time=00:00:59.92 bitrate= 621.4kbits/s    \n",
      "video:0kB audio:4546kB subtitle:0kB other streams:0kB global headers:0kB muxing overhead: 0.002707%\n",
      "ffmpeg version 2.8.6 Copyright (c) 2000-2016 the FFmpeg developers\n",
      "  built with gcc 4.8.2 (GCC) 20140120 (Red Hat 4.8.2-15)\n",
      "  configuration: --prefix=/home/apps/anaconda --disable-doc --enable-shared --enable-static --extra-cflags='-Wall -g -m64 -pipe -O3 -march=x86-64 -fPIC -I/home/apps/anaconda/include' --extra-cxxflags='=-Wall -g -m64 -pipe -O3 -march=x86-64 -fPIC' --extra-libs='-L/home/apps/anaconda/lib -lz' --enable-pic --enable-gpl --enable-libx264 --disable-openssl\n",
      "  libavutil      54. 31.100 / 54. 31.100\n",
      "  libavcodec     56. 60.100 / 56. 60.100\n",
      "  libavformat    56. 40.101 / 56. 40.101\n",
      "  libavdevice    56.  4.100 / 56.  4.100\n",
      "  libavfilter     5. 40.101 /  5. 40.101\n",
      "  libswscale      3.  1.101 /  3.  1.101\n",
      "  libswresample   1.  2.101 /  1.  2.101\n",
      "  libpostproc    53.  3.100 / 53.  3.100\n",
      "Input #0, flac, from '/tank/data/nna/real/anwr/37/2019/S4A10279_20190530_214602.flac':\n",
      "  Metadata:\n",
      "    ENCODER         : Lavf56.40.101\n",
      "  Duration: 01:13:58.00, start: 0.000000, bitrate: 616 kb/s\n",
      "    Stream #0:0: Audio: flac, 48000 Hz, stereo, s16\n",
      "Output #0, wav, to 'S4A10279_20190530_214602_3260-3320.wav':\n",
      "  Metadata:\n",
      "    ISFT            : Lavf56.40.101\n",
      "    Stream #0:0: Audio: flac ([172][241][0][0] / 0xF1AC), 48000 Hz, stereo (16 bit)\n",
      "Stream mapping:\n",
      "  Stream #0:0 -> #0:0 (copy)\n",
      "Press [q] to stop, [?] for help\n",
      "size=    5326kB time=00:00:59.96 bitrate= 727.5kbits/s    \n",
      "video:0kB audio:5325kB subtitle:0kB other streams:0kB global headers:0kB muxing overhead: 0.002329%\n",
      "ffmpeg version 2.8.6 Copyright (c) 2000-2016 the FFmpeg developers\n",
      "  built with gcc 4.8.2 (GCC) 20140120 (Red Hat 4.8.2-15)\n",
      "  configuration: --prefix=/home/apps/anaconda --disable-doc --enable-shared --enable-static --extra-cflags='-Wall -g -m64 -pipe -O3 -march=x86-64 -fPIC -I/home/apps/anaconda/include' --extra-cxxflags='=-Wall -g -m64 -pipe -O3 -march=x86-64 -fPIC' --extra-libs='-L/home/apps/anaconda/lib -lz' --enable-pic --enable-gpl --enable-libx264 --disable-openssl\n",
      "  libavutil      54. 31.100 / 54. 31.100\n",
      "  libavcodec     56. 60.100 / 56. 60.100\n",
      "  libavformat    56. 40.101 / 56. 40.101\n",
      "  libavdevice    56.  4.100 / 56.  4.100\n",
      "  libavfilter     5. 40.101 /  5. 40.101\n",
      "  libswscale      3.  1.101 /  3.  1.101\n",
      "  libswresample   1.  2.101 /  1.  2.101\n",
      "  libpostproc    53.  3.100 / 53.  3.100\n",
      "Input #0, flac, from '/tank/data/nna/real/anwr/37/2019/S4A10279_20190507_033000.flac':\n",
      "  Metadata:\n",
      "    ENCODER         : Lavf56.40.101\n",
      "  Duration: 01:16:00.00, start: 0.000000, bitrate: 625 kb/s\n",
      "    Stream #0:0: Audio: flac, 48000 Hz, stereo, s16\n",
      "Output #0, wav, to 'S4A10279_20190507_033000_4008-4068.wav':\n",
      "  Metadata:\n",
      "    ISFT            : Lavf56.40.101\n",
      "    Stream #0:0: Audio: flac ([172][241][0][0] / 0xF1AC), 48000 Hz, stereo (16 bit)\n",
      "Stream mapping:\n",
      "  Stream #0:0 -> #0:0 (copy)\n",
      "Press [q] to stop, [?] for help\n",
      "size=    4611kB time=00:00:59.90 bitrate= 630.6kbits/s    \n",
      "video:0kB audio:4611kB subtitle:0kB other streams:0kB global headers:0kB muxing overhead: 0.002668%\n"
     ]
    }
   ],
   "source": [
    "!ffmpeg -i '/tank/data/nna/real/anwr/37/2019/S4A10279_20190605_091602.flac' -ss 304 -to 364 -c copy S4A10279_20190605_091602_304-364.wav\n",
    "\n",
    "\n",
    "!ffmpeg -i '/tank/data/nna/real/anwr/37/2019/S4A10279_20190604_234602.flac' -ss 650 -to 700 -c copy S4A10279_20190604_234602_650-700.wav\n",
    "\n",
    "\n",
    "!ffmpeg -i '/tank/data/nna/real/anwr/37/2019/S4A10279_20190509_073000.flac' -ss 4149 -to 4209 -c copy S4A10279_20190509_073000_4149-4209.wav\n",
    "\n",
    "!ffmpeg -i '/tank/data/nna/real/anwr/37/2019/S4A10279_20190530_214602.flac' -ss 3260 -to 3320 -c copy S4A10279_20190530_214602_3260-3320.wav\n",
    "\n",
    "!ffmpeg -i '/tank/data/nna/real/anwr/37/2019/S4A10279_20190507_033000.flac' -ss 4008 -to 4068 -c copy S4A10279_20190507_033000_4008-4068.wav\n",
    "\n",
    "# !ffmpeg -i '/tank/data/nna/real/anwr/37/2019/S4A10279_20190507_033000.flac' -ss 320 -to 380 -c copy segment8.wav\n",
    "\n",
    "# !ffmpeg -i '/tank/data/nna/real/anwr/37/2019/S4A10279_20190608_020000.flac' -ss 222 -to 282 -c copy S4A10279_20190608_020000_222-282.wav\n",
    "\n",
    "\n"
   ]
  },
  {
   "cell_type": "code",
   "execution_count": 48,
   "metadata": {},
   "outputs": [
    {
     "name": "stdout",
     "output_type": "stream",
     "text": [
      "mp3splt 2.4.2 (13/05/12) - using libmp3splt 0.7.2\n",
      "\tMatteo Trotta <mtrotta AT users.sourceforge.net>\n",
      "\tAlexandru Munteanu <io_fx AT yahoo.fr>\n",
      "THIS SOFTWARE COMES WITH ABSOLUTELY NO WARRANTY! USE AT YOUR OWN RISK!\n",
      "\n",
      "Searching for plugins ...\n",
      "Scanning plugins in the directory _/usr/lib/libmp3splt_\n",
      "Looking at the file _libsplt_mp3.so.0.0.0_\n",
      "\n",
      "Looking at the file _libsplt_ogg.so.0_\n",
      "\n",
      "Looking at the file _libsplt_ogg.so.0.0.0_\n",
      "\n",
      "Looking at the file _libsplt_mp3.so.0_\n",
      "\n",
      "Checking if _/usr/lib/libmp3splt/libsplt_mp3.so.0_ is like _/usr/lib/libmp3splt/libsplt_ogg.so.0_ \n",
      "Scanning plugins in the directory _/home/enis/.libmp3splt_\n",
      "Scanning plugins in the directory _./_\n",
      "\n",
      "Trying to open the plugin _/usr/lib/libmp3splt/libsplt_ogg.so.0_ ...\n",
      " - success !\n",
      "\n",
      "Trying to open the plugin _/usr/lib/libmp3splt/libsplt_mp3.so.0_ ...\n",
      " - success !\n",
      "\n",
      "Number of plugins found: _2_\n",
      "plugin filename = _/usr/lib/libmp3splt/libsplt_ogg.so.0_\n",
      "plugin name = _ogg vorbis (libvorbis)_\n",
      "plugin version = _1.000000_\n",
      "extension = _.ogg_\n",
      "\n",
      "plugin filename = _/usr/lib/libmp3splt/libsplt_mp3.so.0_\n",
      "plugin name = _mp3 (libmad)_\n",
      "plugin version = _1.000000_\n",
      "extension = _.mp3_\n",
      "\n",
      "Setting silence log fname to _mp3splt.log_\n",
      " Processing file '/tank/data/nna/real/anwr/37/2019/S4A10279_20190517_130000.flac' ...\n",
      "Setting filename to split to _/tank/data/nna/real/anwr/37/2019/S4A10279_20190517_130000.flac_\n",
      "Appending splitpoint _(null)_ with value _92700_\n",
      "Splitpoint at _0_ is 92700_\n",
      "Splitpoint name at _0_ is _(null)_\n",
      "Appending splitpoint _(null)_ with value _98700_\n",
      "Splitpoint at _1_ is 98700_\n",
      "Splitpoint name at _1_ is _(null)_\n",
      "Setting path of split to _./_\n",
      "Starting to split file ...\n",
      "Original filename/path to split is _/tank/data/nna/real/anwr/37/2019/S4A10279_20190517_130000.flac_\n",
      "Check and set correct options...\n",
      "new fname path = _./_\n",
      "Starting to create directories for _./_ ...\n",
      "Checking if _._ is a directory ...\n",
      "Check if the new filename path is correct _./_\n",
      "Detecting file format...\n",
      "Checking the format of _/tank/data/nna/real/anwr/37/2019/S4A10279_20190517_130000.flac_\n",
      "No plugin found !\n",
      "Verifying if the file _/tank/data/nna/real/anwr/37/2019/S4A10279_20190517_130000.flac_ is a file ...\n",
      " error: no plugin matches the file '/tank/data/nna/real/anwr/37/2019/S4A10279_20190517_130000.flac'\n"
     ]
    }
   ],
   "source": [
    "!mp3splt -d \"./\" -f -D /tank/data/nna/real/anwr/37/2019/S4A10279_20190517_130000.flac 15.27 16.27\n",
    "\n"
   ]
  },
  {
   "cell_type": "code",
   "execution_count": null,
   "metadata": {},
   "outputs": [],
   "source": [
    "ffmpeg -i '/tank/data/nna/real/anwr/37/2019/S4A10279_20190605_091602.flac' -ss 304 -to 364 -c copy S4A10279_20190605_091602_304-364.wav\n",
    "\n"
   ]
  },
  {
   "cell_type": "code",
   "execution_count": 68,
   "metadata": {},
   "outputs": [
    {
     "name": "stdout",
     "output_type": "stream",
     "text": [
      "books_read.png\t\t\tget_audio4photos.ipynb\r\n",
      "cum_hist_1000bins_025limit.svg\tlisten_photos.ipynb\r\n",
      "cum_hist_1000bins.png\t\tlisten_segments_backup.ipynb\r\n",
      "cum_hist_1000bins.svg\t\tlisten_segments.ipynb\r\n",
      "cumulative_histogram2.svg\tnearest_neighbors.ipynb\r\n",
      "cumulative_histogram.jpg\tUntitled1.ipynb\r\n",
      "cumulative_histogram.png\tUntitled.ipynb\r\n"
     ]
    }
   ],
   "source": [
    "!ls/tank/data/nna/real/anwr/37/2019/S4A10279_20190603_194602.flac"
   ]
  },
  {
   "cell_type": "code",
   "execution_count": null,
   "metadata": {},
   "outputs": [],
   "source": []
  },
  {
   "cell_type": "code",
   "execution_count": null,
   "metadata": {},
   "outputs": [],
   "source": []
  },
  {
   "cell_type": "code",
   "execution_count": null,
   "metadata": {},
   "outputs": [],
   "source": []
  }
 ],
 "metadata": {
  "kernelspec": {
   "display_name": "speechEnv",
   "language": "python",
   "name": "speechenv"
  },
  "language_info": {
   "codemirror_mode": {
    "name": "ipython",
    "version": 3
   },
   "file_extension": ".py",
   "mimetype": "text/x-python",
   "name": "python",
   "nbconvert_exporter": "python",
   "pygments_lexer": "ipython3",
   "version": "3.7.2"
  }
 },
 "nbformat": 4,
 "nbformat_minor": 4
}
