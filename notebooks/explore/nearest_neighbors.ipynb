{
 "cells": [
  {
   "cell_type": "code",
   "execution_count": 2,
   "metadata": {},
   "outputs": [
    {
     "name": "stdout",
     "output_type": "stream",
     "text": [
      "/home/enis/projects/nna/src\n"
     ]
    }
   ],
   "source": [
    "import os\n",
    "import sys\n",
    "\n",
    "module_path = os.path.abspath(os.path.join('../../src'))\n",
    "print(module_path)\n",
    "if module_path not in sys.path:\n",
    "    sys.path.append(module_path)"
   ]
  },
  {
   "cell_type": "code",
   "execution_count": 10,
   "metadata": {},
   "outputs": [],
   "source": [
    "from datetime import timedelta\n",
    "import datetime \n",
    "import os\n",
    "\n",
    "from fileUtils import read_file_properties_v2,find_filesv2,list_files,get_labeled_exif\n",
    "from fileUtils import get_audio,str2timestamp,query_audio\n",
    "\n",
    "import pandas as pd\n",
    "from pathlib import Path\n",
    "\n",
    "from sklearn.neighbors import KDTree\n",
    "import numpy as np"
   ]
  },
  {
   "cell_type": "code",
   "execution_count": null,
   "metadata": {},
   "outputs": [],
   "source": [
    "list_files(\"/scratch/enis/data/nna/real_2organize/\")"
   ]
  },
  {
   "cell_type": "code",
   "execution_count": 1,
   "metadata": {},
   "outputs": [
    {
     "data": {
      "text/plain": [
       "array([[0, 1],\n",
       "       [1, 0],\n",
       "       [2, 1],\n",
       "       [3, 4],\n",
       "       [4, 3],\n",
       "       [5, 4]])"
      ]
     },
     "execution_count": 1,
     "metadata": {},
     "output_type": "execute_result"
    }
   ],
   "source": []
  },
  {
   "cell_type": "code",
   "execution_count": null,
   "metadata": {},
   "outputs": [],
   "source": [
    "output = find_filesv2(location,start_time,end_time,length,0,file_properties_df)\n",
    "sorted_filtered,start_time,end_time,start_time_org,end_time_org = output"
   ]
  },
  {
   "cell_type": "code",
   "execution_count": 4,
   "metadata": {},
   "outputs": [],
   "source": [
    "p_path=\"/home/enis/projects/nna/data/cameraTraps/test.txt\"\n",
    "\n",
    "with open(p_path) as p_file:\n",
    "    photo_paths=p_file.readlines()\n",
    "    photo_paths = [i.strip() for i in photo_paths]\n",
    "\n",
    "other_folder=[\"anwr_35_2019_101RECNX_RCNX3373.JPG\",\n",
    "\"anwr_42_2019_100RECNX_RCNX3574.JPG\",\n",
    "\"ivvavik_SINP03_2019_100RECNX_IMG_3219.JPG\",\n",
    "\"ivvavik_SINP05_2019_100RECNX_IMG_2867.JPG\",\n",
    "\"ivvavik_SINP06_2019_100RECNX_IMG_1884.JPG\",\n",
    "\"ivvavik_SINP09_2019_100RECNX_IMG_2743.JPG\",\n",
    "\"prudhoe_17_2019_100RECNX_RCNX3916.JPG\",]\n",
    "\n",
    "parent_path1=\"/tank/data/nna/examples/randomPhotos10k/\"\n",
    "parent_path2=\"/tank/data/nna/examples/randomPhotos1k/\"\n",
    "\n",
    "file_properties_df=pd.read_pickle(\"../realdata_v2No_stinchcomb.pkl\")"
   ]
  },
  {
   "cell_type": "code",
   "execution_count": 7,
   "metadata": {},
   "outputs": [],
   "source": [
    "# photo with Caribou\n",
    "photo_paths=['anwr_37_2019_100RECNX_RCNX9317.jpg']"
   ]
  },
  {
   "cell_type": "code",
   "execution_count": 12,
   "metadata": {},
   "outputs": [
    {
     "name": "stdout",
     "output_type": "stream",
     "text": [
      "anwr_37_2019_100RECNX_RCNX9317.JPG 2019-06-05_09:21:06\n",
      "2019-06-05_09:21:06\n"
     ]
    }
   ],
   "source": [
    "for img_file_name in photo_paths:\n",
    "\n",
    "    img_file_name=(img_file_name)[:-4] + \".JPG\"\n",
    "    if img_file_name in other_folder:\n",
    "        parent_path = parent_path2\n",
    "    else:\n",
    "        parent_path = parent_path1\n",
    "    location=img_file_name.split(\"_\")[1]\n",
    "    \n",
    "    labeled = get_labeled_exif(parent_path+img_file_name)\n",
    "    # print(labeled)\n",
    "\n",
    "    timestamp=labeled[\"DateTimeDigitized\"]\n",
    "    timestamp=datetime.datetime.strptime(timestamp, '%Y:%m:%d %H:%M:%S')\n",
    "\n",
    "    \n",
    "    start_time=timestamp - timedelta(seconds=30)\n",
    "    start_time=start_time.strftime('%Y-%m-%d_%H:%M:%S')\n",
    "    length=60 # seconds of audio, if set end_time is IGNORED\n",
    "    end_time=''  # or datetime object\n",
    "    print(img_file_name,start_time)\n",
    "\n",
    "    file_name=img_file_name[:-4]\n",
    "\n",
    "    buffer=10800 # how much buffer to each side\n",
    "\n",
    "    tmp_folder=\"../trap_photo_audio_new3/\"\n",
    "    print(start_time)\n",
    "    output = find_filesv2(location,start_time,end_time,length,0,file_properties_df)\n",
    "    sorted_filtered,start_time,end_time,start_time_org,end_time_org = output"
   ]
  },
  {
   "cell_type": "code",
   "execution_count": 14,
   "metadata": {},
   "outputs": [
    {
     "data": {
      "text/html": [
       "<div>\n",
       "<style scoped>\n",
       "    .dataframe tbody tr th:only-of-type {\n",
       "        vertical-align: middle;\n",
       "    }\n",
       "\n",
       "    .dataframe tbody tr th {\n",
       "        vertical-align: top;\n",
       "    }\n",
       "\n",
       "    .dataframe thead th {\n",
       "        text-align: right;\n",
       "    }\n",
       "</style>\n",
       "<table border=\"1\" class=\"dataframe\">\n",
       "  <thead>\n",
       "    <tr style=\"text-align: right;\">\n",
       "      <th></th>\n",
       "      <th>site_id</th>\n",
       "      <th>locationId</th>\n",
       "      <th>site_name</th>\n",
       "      <th>recorderId</th>\n",
       "      <th>hour_min_sec</th>\n",
       "      <th>year</th>\n",
       "      <th>month</th>\n",
       "      <th>day</th>\n",
       "      <th>region</th>\n",
       "      <th>timestamp</th>\n",
       "      <th>durationSec</th>\n",
       "      <th>timestampEnd</th>\n",
       "    </tr>\n",
       "  </thead>\n",
       "  <tbody>\n",
       "    <tr>\n",
       "      <td>/tank/data/nna/real/anwr/37/2019/S4A10279_20190605_091602.flac</td>\n",
       "      <td>37</td>\n",
       "      <td>37</td>\n",
       "      <td></td>\n",
       "      <td>S4A10279</td>\n",
       "      <td>091602</td>\n",
       "      <td>2019</td>\n",
       "      <td>06</td>\n",
       "      <td>05</td>\n",
       "      <td>anwr</td>\n",
       "      <td>2019-06-05 09:16:02</td>\n",
       "      <td>4438</td>\n",
       "      <td>2019-06-05 10:30:00</td>\n",
       "    </tr>\n",
       "  </tbody>\n",
       "</table>\n",
       "</div>"
      ],
      "text/plain": [
       "                                                   site_id locationId  \\\n",
       "/tank/data/nna/real/anwr/37/2019/S4A10279_20190...      37         37   \n",
       "\n",
       "                                                   site_name recorderId  \\\n",
       "/tank/data/nna/real/anwr/37/2019/S4A10279_20190...             S4A10279   \n",
       "\n",
       "                                                   hour_min_sec  year month  \\\n",
       "/tank/data/nna/real/anwr/37/2019/S4A10279_20190...       091602  2019    06   \n",
       "\n",
       "                                                   day region  \\\n",
       "/tank/data/nna/real/anwr/37/2019/S4A10279_20190...  05   anwr   \n",
       "\n",
       "                                                             timestamp  \\\n",
       "/tank/data/nna/real/anwr/37/2019/S4A10279_20190... 2019-06-05 09:16:02   \n",
       "\n",
       "                                                   durationSec  \\\n",
       "/tank/data/nna/real/anwr/37/2019/S4A10279_20190...        4438   \n",
       "\n",
       "                                                          timestampEnd  \n",
       "/tank/data/nna/real/anwr/37/2019/S4A10279_20190... 2019-06-05 10:30:00  "
      ]
     },
     "execution_count": 14,
     "metadata": {},
     "output_type": "execute_result"
    }
   ],
   "source": [
    "sorted_filtered"
   ]
  },
  {
   "cell_type": "code",
   "execution_count": 16,
   "metadata": {},
   "outputs": [
    {
     "name": "stdout",
     "output_type": "stream",
     "text": [
      "/scratch/enis/data/nna/real_2organize/37B/S4A10279_20190605_091602_vgg\r\n",
      "/scratch/enis/data/nna/real_2organize/37B/S4A10279_20190605_091602_vgg/S4A10279_20190605_091602_embeddings000.npy\r\n",
      "/scratch/enis/data/nna/real_2organize/37B/S4A10279_20190605_091602_vgg/S4A10279_20190605_091602_rawembeddings000.npy\r\n",
      "/scratch/enis/data/nna/real_2organize/37B/S4A10279_20190605_091602_preprocessed\r\n",
      "/scratch/enis/data/nna/real_2organize/37B/S4A10279_20190605_091602_FCmodel\r\n",
      "/scratch/enis/data/nna/real_2organize/37B/S4A10279_20190605_091602_FCmodel/S4A10279_20190605_091602_FCmodel000.npy\r\n"
     ]
    }
   ],
   "source": [
    "!find /scratch/enis/data/nna/real_2organize/ -iname \"S4A10279_20190605_091602*\""
   ]
  },
  {
   "cell_type": "code",
   "execution_count": 17,
   "metadata": {},
   "outputs": [],
   "source": [
    "raw_embed=np.load(\"/scratch/enis/data/nna/real_2organize/37B/S4A10279_20190605_091602_vgg/S4A10279_20190605_091602_rawembeddings000.npy\")"
   ]
  },
  {
   "cell_type": "code",
   "execution_count": 25,
   "metadata": {},
   "outputs": [],
   "source": [
    "start_seconds=(start_time-sorted_filtered[\"timestamp\"])[0].total_seconds()"
   ]
  },
  {
   "cell_type": "code",
   "execution_count": 26,
   "metadata": {},
   "outputs": [
    {
     "data": {
      "text/plain": [
       "304.0"
      ]
     },
     "execution_count": 26,
     "metadata": {},
     "output_type": "execute_result"
    }
   ],
   "source": []
  },
  {
   "cell_type": "code",
   "execution_count": 28,
   "metadata": {},
   "outputs": [],
   "source": [
    "raw_embed_audio=raw_embed[int(start_seconds):int(start_seconds)+60]"
   ]
  },
  {
   "cell_type": "code",
   "execution_count": 29,
   "metadata": {},
   "outputs": [
    {
     "data": {
      "text/plain": [
       "(60, 128)"
      ]
     },
     "execution_count": 29,
     "metadata": {},
     "output_type": "execute_result"
    }
   ],
   "source": [
    "raw_embed_audio.shape"
   ]
  },
  {
   "cell_type": "code",
   "execution_count": 35,
   "metadata": {},
   "outputs": [],
   "source": [
    "all_embeddings=list_files(\"/scratch/enis/data/nna/real_2organize/37B/\")"
   ]
  },
  {
   "cell_type": "code",
   "execution_count": 37,
   "metadata": {},
   "outputs": [],
   "source": [
    "all_embeddings=[i for i in all_embeddings if \"_embeddings\" in i]"
   ]
  },
  {
   "cell_type": "code",
   "execution_count": null,
   "metadata": {},
   "outputs": [],
   "source": []
  },
  {
   "cell_type": "code",
   "execution_count": 39,
   "metadata": {},
   "outputs": [],
   "source": [
    "embeds=[]\n",
    "for embed_file in all_embeddings:\n",
    "    embed=np.load(embed_file)\n",
    "    embeds.append(embed[:])"
   ]
  },
  {
   "cell_type": "code",
   "execution_count": 42,
   "metadata": {},
   "outputs": [],
   "source": [
    "concat_embeds=np.concatenate(embeds)"
   ]
  },
  {
   "cell_type": "code",
   "execution_count": 43,
   "metadata": {},
   "outputs": [
    {
     "data": {
      "text/plain": [
       "(350922, 128)"
      ]
     },
     "execution_count": 43,
     "metadata": {},
     "output_type": "execute_result"
    }
   ],
   "source": [
    "concat_embeds.shape"
   ]
  },
  {
   "cell_type": "code",
   "execution_count": 46,
   "metadata": {},
   "outputs": [],
   "source": [
    "# X = np.array([[-1, -1], [-2, -1], [-3, -2], [1, 1], [2, 1], [3, 2]])\n",
    "kdt = KDTree(concat_embeds, leaf_size=30, metric='euclidean')\n"
   ]
  },
  {
   "cell_type": "code",
   "execution_count": 53,
   "metadata": {},
   "outputs": [
    {
     "data": {
      "text/plain": [
       "(array([[1494.67256952, 1502.55459562, 1505.98213109],\n",
       "        [1494.75332064, 1502.57033279, 1506.00850629],\n",
       "        [1494.7590155 , 1502.62885548, 1506.0992402 ],\n",
       "        [1494.75480084, 1502.62485893, 1506.06302295],\n",
       "        [1494.83601786, 1502.58640697, 1506.06398779],\n",
       "        [1494.69913671, 1502.53369709, 1505.94704574],\n",
       "        [1494.65535268, 1502.52139964, 1505.93703425],\n",
       "        [1494.74797331, 1502.5865798 , 1506.05499663],\n",
       "        [1494.6887206 , 1502.52608752, 1505.9391115 ],\n",
       "        [1494.75438336, 1502.52652462, 1505.98018084],\n",
       "        [1494.76955244, 1502.59520893, 1506.03198442],\n",
       "        [1494.55283706, 1502.3360394 , 1505.76089385],\n",
       "        [1494.76322255, 1502.56659498, 1506.05070249],\n",
       "        [1494.58712182, 1502.41450198, 1505.78328712],\n",
       "        [1494.78750892, 1502.54519469, 1506.01676386],\n",
       "        [1494.68973819, 1502.50927576, 1505.93545869],\n",
       "        [1494.64909438, 1502.41045771, 1506.01768248],\n",
       "        [1494.59302478, 1502.40586575, 1506.01895974],\n",
       "        [1494.72847869, 1502.5049169 , 1506.083478  ],\n",
       "        [1494.71140551, 1502.48943644, 1506.08266877]]),\n",
       " array([[305326,  85007,  83630],\n",
       "        [305326,  85007,  83630],\n",
       "        [305326,  85007,  83630],\n",
       "        [305326,  85007,  83630],\n",
       "        [305326,  85007,  83630],\n",
       "        [305326,  85007,  83630],\n",
       "        [305326,  85007,  83630],\n",
       "        [305326,  85007,  83630],\n",
       "        [305326,  85007,  83630],\n",
       "        [305326,  85007,  83630],\n",
       "        [305326,  85007,  83630],\n",
       "        [305326,  85007,  83630],\n",
       "        [305326,  85007,  83630],\n",
       "        [305326,  85007,  83630],\n",
       "        [305326,  85007,  83630],\n",
       "        [305326,  85007,  83630],\n",
       "        [305326,  85007,  83630],\n",
       "        [305326,  85007,  83630],\n",
       "        [305326,  85007,  83630],\n",
       "        [305326,  85007,  83630]]))"
      ]
     },
     "execution_count": 53,
     "metadata": {},
     "output_type": "execute_result"
    }
   ],
   "source": [
    "kdt.query(raw_embed_audio[0:20,:], k=3, return_distance=True)"
   ]
  },
  {
   "cell_type": "code",
   "execution_count": 58,
   "metadata": {},
   "outputs": [
    {
     "name": "stdout",
     "output_type": "stream",
     "text": [
      "67 305810\n",
      "68 310248\n",
      "69 314808\n",
      "70 319368\n",
      "71 323928\n",
      "72 328488\n",
      "73 333048\n",
      "74 337486\n",
      "75 341924\n",
      "76 346484\n",
      "77 350922\n"
     ]
    }
   ],
   "source": [
    "count=0\n",
    "for i,em in enumerate(embeds):\n",
    "    count+=(em.shape[0])\n",
    "    if count>=305326:\n",
    "        print(i,count)"
   ]
  },
  {
   "cell_type": "code",
   "execution_count": 62,
   "metadata": {},
   "outputs": [
    {
     "name": "stdout",
     "output_type": "stream",
     "text": [
      "301372 4438\n"
     ]
    }
   ],
   "source": [
    "count=0\n",
    "for i,em in enumerate(embeds):\n",
    "    if i==67:\n",
    "        print(count,em.shape[0])\n",
    "    count+=(em.shape[0])\n",
    "\n",
    "        "
   ]
  },
  {
   "cell_type": "code",
   "execution_count": 60,
   "metadata": {},
   "outputs": [
    {
     "data": {
      "text/plain": [
       "3954"
      ]
     },
     "execution_count": 60,
     "metadata": {},
     "output_type": "execute_result"
    }
   ],
   "source": [
    "(305326-301372)"
   ]
  },
  {
   "cell_type": "code",
   "execution_count": 63,
   "metadata": {},
   "outputs": [
    {
     "data": {
      "text/plain": [
       "'/scratch/enis/data/nna/real_2organize/37B/S4A10279_20190603_194602_vgg/S4A10279_20190603_194602_embeddings000.npy'"
      ]
     },
     "execution_count": 63,
     "metadata": {},
     "output_type": "execute_result"
    }
   ],
   "source": [
    "all_embeddings[67]"
   ]
  },
  {
   "cell_type": "code",
   "execution_count": 66,
   "metadata": {},
   "outputs": [
    {
     "data": {
      "text/plain": [
       "(65, 54)"
      ]
     },
     "execution_count": 66,
     "metadata": {},
     "output_type": "execute_result"
    }
   ],
   "source": [
    "3954//60,3954%60,"
   ]
  },
  {
   "cell_type": "code",
   "execution_count": 74,
   "metadata": {},
   "outputs": [
    {
     "name": "stdout",
     "output_type": "stream",
     "text": [
      "mp3splt 2.4.2 (13/05/12) - using libmp3splt 0.7.2\n",
      "\tMatteo Trotta <mtrotta AT users.sourceforge.net>\n",
      "\tAlexandru Munteanu <io_fx AT yahoo.fr>\n",
      "THIS SOFTWARE COMES WITH ABSOLUTELY NO WARRANTY! USE AT YOUR OWN RISK!\n",
      "\n",
      "Searching for plugins ...\n",
      "Scanning plugins in the directory _/usr/lib/libmp3splt_\n",
      "Looking at the file _libsplt_mp3.so.0.0.0_\n",
      "\n",
      "Looking at the file _libsplt_ogg.so.0_\n",
      "\n",
      "Looking at the file _libsplt_ogg.so.0.0.0_\n",
      "\n",
      "Looking at the file _libsplt_mp3.so.0_\n",
      "\n",
      "Checking if _/usr/lib/libmp3splt/libsplt_mp3.so.0_ is like _/usr/lib/libmp3splt/libsplt_ogg.so.0_ \n",
      "Scanning plugins in the directory _/home/enis/.libmp3splt_\n",
      "Scanning plugins in the directory _./_\n",
      "\n",
      "Trying to open the plugin _/usr/lib/libmp3splt/libsplt_ogg.so.0_ ...\n",
      " - success !\n",
      "\n",
      "Trying to open the plugin _/usr/lib/libmp3splt/libsplt_mp3.so.0_ ...\n",
      " - success !\n",
      "\n",
      "Number of plugins found: _2_\n",
      "plugin filename = _/usr/lib/libmp3splt/libsplt_ogg.so.0_\n",
      "plugin name = _ogg vorbis (libvorbis)_\n",
      "plugin version = _1.000000_\n",
      "extension = _.ogg_\n",
      "\n",
      "plugin filename = _/usr/lib/libmp3splt/libsplt_mp3.so.0_\n",
      "plugin name = _mp3 (libmad)_\n",
      "plugin version = _1.000000_\n",
      "extension = _.mp3_\n",
      "\n",
      "Setting silence log fname to _mp3splt.log_\n",
      " Processing file '/tank/data/nna/real/anwr/37/2019/S4A10279_20190603_194602.flac' ...\n",
      "Setting filename to split to _/tank/data/nna/real/anwr/37/2019/S4A10279_20190603_194602.flac_\n",
      "Appending splitpoint _(null)_ with value _305400_\n",
      "Splitpoint at _0_ is 305400_\n",
      "Splitpoint name at _0_ is _(null)_\n",
      "Appending splitpoint _(null)_ with value _311400_\n",
      "Splitpoint at _1_ is 311400_\n",
      "Splitpoint name at _1_ is _(null)_\n",
      "Setting path of split to _./_\n",
      "Starting to split file ...\n",
      "Original filename/path to split is _/tank/data/nna/real/anwr/37/2019/S4A10279_20190603_194602.flac_\n",
      "Check and set correct options...\n",
      "new fname path = _./_\n",
      "Starting to create directories for _./_ ...\n",
      "Checking if _._ is a directory ...\n",
      "Check if the new filename path is correct _./_\n",
      "Detecting file format...\n",
      "Checking the format of _/tank/data/nna/real/anwr/37/2019/S4A10279_20190603_194602.flac_\n",
      " info: file matches the plugin 'mp3 (libmad)'\n",
      "Setting total time to _0_\n",
      "mp3 firsth bytes = 5827175\n",
      "mp3 firsth len = 470\n",
      "Setting total time to _381328_\n",
      " info: MPEG 1 Layer 1 - 44100 Hz - Mono - FRAME MODE - Total time: 63m.33s\n",
      "Parse type of split ...\n",
      " info: starting normal split\n",
      "The output format is _@f_@mm_@ss_@hh__@Mm_@Ss_@Hh_\n",
      "The new output filename is _S4A10279_20190603_194602_50m_54s__51m_54s_\n",
      "Splitpoint name at _0_ is _S4A10279_20190603_194602_50m_54s__51m_54s_\n",
      "split creating directories of final fname ... _./S4A10279_20190603_194602_50m_54s__51m_54s.mp3_\n",
      "Mp3 split...\n",
      "Output filename is _./S4A10279_20190603_194602_50m_54s__51m_54s.mp3_\n",
      "Begin position is _3054.000000_\n",
      "End position is _3114.000000_\n",
      "Starting seekable mp3 frame mode...\n",
      "Finding begin...\n",
      "New end point after split = _3114.000000__194602_50m_54s__51...\" (1 of 1)  \n",
      "Splitpoint at _1_ is 311400_\n",
      "Splitpoint at _1_ is 19570928_\n",
      " error: begin point out of file\n"
     ]
    }
   ],
   "source": [
    "!mp3splt -d \"./\" -f -D /tank/data/nna/real/anwr/37/2019/S4A10279_20190603_194602.flac 50.54 51.54"
   ]
  },
  {
   "cell_type": "code",
   "execution_count": 68,
   "metadata": {},
   "outputs": [
    {
     "name": "stdout",
     "output_type": "stream",
     "text": [
      "books_read.png\t\t\tget_audio4photos.ipynb\r\n",
      "cum_hist_1000bins_025limit.svg\tlisten_photos.ipynb\r\n",
      "cum_hist_1000bins.png\t\tlisten_segments_backup.ipynb\r\n",
      "cum_hist_1000bins.svg\t\tlisten_segments.ipynb\r\n",
      "cumulative_histogram2.svg\tnearest_neighbors.ipynb\r\n",
      "cumulative_histogram.jpg\tUntitled1.ipynb\r\n",
      "cumulative_histogram.png\tUntitled.ipynb\r\n"
     ]
    }
   ],
   "source": [
    "!ls/tank/data/nna/real/anwr/37/2019/S4A10279_20190603_194602.flac"
   ]
  },
  {
   "cell_type": "code",
   "execution_count": null,
   "metadata": {},
   "outputs": [],
   "source": []
  },
  {
   "cell_type": "code",
   "execution_count": null,
   "metadata": {},
   "outputs": [],
   "source": []
  }
 ],
 "metadata": {
  "kernelspec": {
   "display_name": "speechEnv",
   "language": "python",
   "name": "speechenv"
  },
  "language_info": {
   "codemirror_mode": {
    "name": "ipython",
    "version": 3
   },
   "file_extension": ".py",
   "mimetype": "text/x-python",
   "name": "python",
   "nbconvert_exporter": "python",
   "pygments_lexer": "ipython3",
   "version": "3.7.2"
  }
 },
 "nbformat": 4,
 "nbformat_minor": 4
}
