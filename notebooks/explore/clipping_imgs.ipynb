{
 "cells": [
  {
   "cell_type": "code",
   "execution_count": 1,
   "metadata": {},
   "outputs": [],
   "source": [
    "\"\"\"Experiments for calculating clipping percentage on audio files that have corresponding images.\n",
    "\n",
    "Find locations with images/Caribou and calculate clipping for those.\n",
    "\n",
    "\"\"\""
   ]
  },
  {
   "cell_type": "code",
   "execution_count": 2,
   "metadata": {},
   "outputs": [],
   "source": [
    "from nna.fileUtils import list_files \n",
    "from pydub import AudioSegment\n",
    "from IPython.display import display, Audio\n",
    "from pathlib import Path\n",
    "import librosa\n",
    "import numpy as np\n",
    "import IPython.display as ipd\n",
    "import librosa.display\n",
    "import matplotlib.pyplot as plt\n",
    "import pandas as pd\n",
    "import time"
   ]
  },
  {
   "cell_type": "code",
   "execution_count": 3,
   "metadata": {},
   "outputs": [],
   "source": [
    "from nna.clippingutils import load_audio,get_clipping_percent,run_task_save\n"
   ]
  },
  {
   "cell_type": "code",
   "execution_count": 4,
   "metadata": {},
   "outputs": [],
   "source": []
  },
  {
   "cell_type": "code",
   "execution_count": 5,
   "metadata": {},
   "outputs": [],
   "source": [
    "import pickle\n",
    "\n",
    "dictDataTablePath = '/home/enis/projects/nna/data/dictDataTableFromTimeLapses.pkl'\n",
    "\n",
    "with open(dictDataTablePath, 'rb') as handle:\n",
    "    dictDataTable = pickle.load(handle)\n",
    "\n"
   ]
  },
  {
   "cell_type": "code",
   "execution_count": 6,
   "metadata": {},
   "outputs": [],
   "source": [
    "nnaProjectDataFolder = Path(\"/home/enis/projects/nna/data/\")\n",
    "# file_properties_df_FileName = \"allFields_dataV4.pkl\"\n",
    "file_properties_df_FileName = \"prudhoeAndAnwr4photoExp_dataV1.pkl\"\n",
    "file_properties_df_FilePath = nnaProjectDataFolder / file_properties_df_FileName\n",
    "file_properties_df = pd.read_pickle(str(file_properties_df_FilePath))"
   ]
  },
  {
   "cell_type": "code",
   "execution_count": 7,
   "metadata": {},
   "outputs": [],
   "source": [
    "from nna.fileUtils import query_audio\n",
    "import datetime"
   ]
  },
  {
   "cell_type": "code",
   "execution_count": null,
   "metadata": {},
   "outputs": [],
   "source": []
  },
  {
   "cell_type": "code",
   "execution_count": 8,
   "metadata": {},
   "outputs": [
    {
     "data": {
      "text/plain": [
       "27"
      ]
     },
     "execution_count": 8,
     "metadata": {},
     "output_type": "execute_result"
    }
   ],
   "source": [
    "len(list(dictDataTable.items()))"
   ]
  },
  {
   "cell_type": "code",
   "execution_count": 9,
   "metadata": {},
   "outputs": [],
   "source": [
    "allResults={}\n",
    "queryLen=10\n",
    "queriedAudios=[]\n",
    "queryHistory = []\n",
    "#[:9]\n",
    "for loc,dataTable in list(dictDataTable.items()):\n",
    "    cc = dataTable[dataTable[\"Caribou\"]>0]\n",
    "    location=loc\n",
    "    queryLen=10\n",
    "    for ID,timestamp in (zip(cc[\"Id\"],cc[\"timestamp\"])):\n",
    "\n",
    "        year,month,day,hour,minute,second = (timestamp.year,\n",
    "                                            timestamp.month,timestamp.day,\n",
    "                                            timestamp.hour,timestamp.minute,timestamp.second)\n",
    "\n",
    "        start_time=datetime.datetime(year=year,month=month,day=day,\n",
    "                                     hour=hour,minute=minute,second=second)\n",
    "        end_time=start_time+datetime.timedelta(queryLen)\n",
    "#         embeddingFileIndex = findFileGetIndex(location,start_time,end_time,\n",
    "#                                             queryLen,buffer,file_properties_df,\n",
    "#                                             metadata,embeddataPath)\n",
    "        file_name=(loc+\"_\"+str(ID))\n",
    "        sorted_filtered=query_audio(location,start_time,end_time,queryLen,0,\n",
    "                        file_properties_df,file_name,display_flag=False,\n",
    "                        save=True,tmp_folder=\"./tmp_audio_excerpt4/\"+loc+\"/\")\n",
    "        \n",
    "        queryHistory.append((loc,ID,timestamp,))\n",
    "        queriedAudios.append(sorted_filtered)\n",
    "\n"
   ]
  },
  {
   "cell_type": "code",
   "execution_count": null,
   "metadata": {},
   "outputs": [],
   "source": []
  },
  {
   "cell_type": "code",
   "execution_count": 39,
   "metadata": {},
   "outputs": [],
   "source": [
    "errorsLst=errorsStr.split(\"Input #0, flac, from\")"
   ]
  },
  {
   "cell_type": "code",
   "execution_count": 37,
   "metadata": {},
   "outputs": [
    {
     "name": "stdout",
     "output_type": "stream",
     "text": [
      "/tank/data/nna/real/prudhoe/22/2019/S4A10275_20190507_000000.flac\n",
      "/tank/data/nna/real/prudhoe/22/2019/S4A10275_20190507_000000.flac\n",
      "/tank/data/nna/real/prudhoe/22/2019/S4A10275_20190507_000000.flac\n",
      "/tank/data/nna/real/prudhoe/22/2019/S4A10275_20190507_000000.flac\n",
      "/tank/data/nna/real/prudhoe/22/2019/S4A10275_20190507_000000.flac\n",
      "/tank/data/nna/real/prudhoe/22/2019/S4A10275_20190507_000000.flac\n",
      "/tank/data/nna/real/prudhoe/22/2019/S4A10275_20190507_000000.flac\n",
      "/tank/data/nna/real/prudhoe/22/2019/S4A10275_20190507_000000.flac\n",
      "/tank/data/nna/real/prudhoe/22/2019/S4A10275_20190507_000000.flac\n",
      "/tank/data/nna/real/prudhoe/22/2019/S4A10275_20190507_000000.flac\n",
      "/tank/data/nna/real/prudhoe/22/2019/S4A10275_20190507_000000.flac\n",
      "/tank/data/nna/real/prudhoe/22/2019/S4A10275_20190507_000000.flac\n",
      "/tank/data/nna/real/prudhoe/22/2019/S4A10275_20190507_000000.flac\n",
      "/tank/data/nna/real/prudhoe/22/2019/S4A10275_20190507_000000.flac\n",
      "/tank/data/nna/real/prudhoe/22/2019/S4A10275_20190507_000000.flac\n",
      "/tank/data/nna/real/prudhoe/22/2019/S4A10275_20190507_000000.flac\n",
      "/tank/data/nna/real/prudhoe/22/2019/S4A10275_20190507_000000.flac\n",
      "/tank/data/nna/real/prudhoe/22/2019/S4A10275_20190507_000000.flac\n",
      "/tank/data/nna/real/prudhoe/22/2019/S4A10275_20190507_000000.flac\n",
      "/tank/data/nna/real/prudhoe/22/2019/S4A10275_20190507_000000.flac\n",
      "/tank/data/nna/real/prudhoe/22/2019/S4A10275_20190507_000000.flac\n"
     ]
    }
   ],
   "source": [
    "for i,e in enumerate(errorsLst[1:]):\n",
    "    print(e.split(\":\\n\")[0].strip().replace(\"'\",\"\"))\n",
    "    if e[:12]!=\" '/tank/data\":\n",
    "        print(i,e)"
   ]
  },
  {
   "cell_type": "code",
   "execution_count": 42,
   "metadata": {},
   "outputs": [],
   "source": [
    "# for i,e in enumerate(errorsLst[1:]):\n",
    "#     print(e.split(\":\\n\")[0].strip().replace(\"'\",\"\"))\n",
    "#     if e[:12]!=\" '/tank/data\":\n",
    "#         print(i,e)\n",
    "#/tank/data/nna/real/prudhoe/16/2019/S4A10261_20190506_000000.flac\n"
   ]
  },
  {
   "cell_type": "code",
   "execution_count": 36,
   "metadata": {},
   "outputs": [
    {
     "data": {
      "text/plain": [
       "'/tank/data/nna/real/prudhoe/22/2019/S4A10275_20190507_000000.flac'"
      ]
     },
     "execution_count": 36,
     "metadata": {},
     "output_type": "execute_result"
    }
   ],
   "source": [
    "errorsLst[1:][0]"
   ]
  },
  {
   "cell_type": "code",
   "execution_count": 38,
   "metadata": {},
   "outputs": [],
   "source": []
  },
  {
   "cell_type": "code",
   "execution_count": 10,
   "metadata": {},
   "outputs": [],
   "source": []
  },
  {
   "cell_type": "code",
   "execution_count": 10,
   "metadata": {},
   "outputs": [],
   "source": [
    "from nna.fileUtils import list_files \n"
   ]
  },
  {
   "cell_type": "code",
   "execution_count": 21,
   "metadata": {},
   "outputs": [
    {
     "data": {
      "text/plain": [
       "4731"
      ]
     },
     "execution_count": 21,
     "metadata": {},
     "output_type": "execute_result"
    }
   ],
   "source": [
    "len(imgAudioFiles)"
   ]
  },
  {
   "cell_type": "code",
   "execution_count": 16,
   "metadata": {},
   "outputs": [],
   "source": [
    "\n",
    "imgAudioFiles = list_files(\"/home/enis/projects/nna/notebooks/explore/tmp_audio_excerpt4/\")\n",
    "\n"
   ]
  },
  {
   "cell_type": "code",
   "execution_count": 40,
   "metadata": {},
   "outputs": [],
   "source": [
    "# imgAudioFilesDict={}\n",
    "# for imgAudio in imgAudioFiles:\n",
    "#     loc=Path(imgAudio).parts[-2]\n",
    "#     imgAudioFilesDict.setdefault(loc,[])\n",
    "#     imgAudioFilesDict[loc].append(imgAudio)"
   ]
  },
  {
   "cell_type": "code",
   "execution_count": 19,
   "metadata": {},
   "outputs": [],
   "source": [
    "results_folder=\"/scratch/enis/data/similarSoundsApp/imgClipping/\"\n",
    "clipping_threshold=1"
   ]
  },
  {
   "cell_type": "code",
   "execution_count": 20,
   "metadata": {},
   "outputs": [],
   "source": [
    "run_task_save(imgAudioFiles,\"allImagesAudio\",results_folder,clipping_threshold)"
   ]
  },
  {
   "cell_type": "code",
   "execution_count": 48,
   "metadata": {},
   "outputs": [
    {
     "data": {
      "text/plain": [
       "'/home/enis/projects/nna/notebooks/explore/tmp_audio_excerpt/11/11_28104_exact_2019-07-23_16:33:57_0m_0s__0m_10s.flac'"
      ]
     },
     "execution_count": 48,
     "metadata": {},
     "output_type": "execute_result"
    }
   ],
   "source": [
    "imgAudioFiles[1]"
   ]
  },
  {
   "cell_type": "code",
   "execution_count": null,
   "metadata": {},
   "outputs": [],
   "source": [
    "query_audio(location,start_time,end_time,queryLen,0,\n",
    "                        file_properties_df,file_name,display_flag=False,\n",
    "                        save=True,tmp_folder=\"./tmp_audio_excerpt/\"+loc+\"/\")"
   ]
  }
 ],
 "metadata": {
  "kernelspec": {
   "display_name": "speechEnv",
   "language": "python",
   "name": "speechenv"
  },
  "language_info": {
   "codemirror_mode": {
    "name": "ipython",
    "version": 3
   },
   "file_extension": ".py",
   "mimetype": "text/x-python",
   "name": "python",
   "nbconvert_exporter": "python",
   "pygments_lexer": "ipython3",
   "version": "3.7.2"
  }
 },
 "nbformat": 4,
 "nbformat_minor": 4
}
