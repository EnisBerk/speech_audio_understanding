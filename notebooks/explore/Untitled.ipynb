{
 "cells": [
  {
   "cell_type": "code",
   "execution_count": 4,
   "metadata": {},
   "outputs": [
    {
     "name": "stdout",
     "output_type": "stream",
     "text": [
      "/home/enis/projects/nna/src\n"
     ]
    }
   ],
   "source": [
    "import os\n",
    "import sys\n",
    "\n",
    "module_path = os.path.abspath(os.path.join('../../src'))\n",
    "print(module_path)\n",
    "if module_path not in sys.path:\n",
    "    sys.path.append(module_path)\n",
    "    \n",
    "from datetime import timedelta\n",
    "import datetime \n",
    "import os\n",
    "\n",
    "from fileUtils import read_file_properties_v2,find_filesv2,get_labeled_exif,list_files\n",
    "from fileUtils import get_audio,str2timestamp,query_audio\n",
    "\n",
    "import pandas as pd\n",
    "from pathlib import Path\n"
   ]
  },
  {
   "cell_type": "code",
   "execution_count": 11,
   "metadata": {},
   "outputs": [],
   "source": [
    "# with open(\"../../data/allcameraTrap.txt\") as cameraFiles:\n",
    "#     cameraLines=cameraFiles.readlines()\n",
    "#     cameraLines=[i.strip() for i in cameraLines]\n"
   ]
  },
  {
   "cell_type": "code",
   "execution_count": 22,
   "metadata": {},
   "outputs": [
    {
     "data": {
      "text/plain": [
       "777913"
      ]
     },
     "execution_count": 22,
     "metadata": {},
     "output_type": "execute_result"
    }
   ],
   "source": [
    "# count=0\n",
    "# for i,imagePath in enumerate(cameraLines):\n",
    "#     if imagePath[-3:].lower()==\"jpg\":\n",
    "#         count+=1\n",
    "# count"
   ]
  },
  {
   "cell_type": "code",
   "execution_count": 48,
   "metadata": {},
   "outputs": [],
   "source": [
    "# imgOnlyDate={}\n",
    "# for img,info in exifInfoDict.items():\n",
    "#     timestamp=info[\"DateTimeDigitized\"]\n",
    "#     timestamp=datetime.datetime.strptime(timestamp, '%Y:%m:%d %H:%M:%S')\n",
    "# #     print(img,timestamp)\n",
    "#     location=Path(img).parents[2].stem\n",
    "#     imgOnlyDate.setdefault(location,[])\n",
    "#     imgOnlyDate[location].append((timestamp,img))\n",
    "# #     break\n",
    "    \n"
   ]
  },
  {
   "cell_type": "code",
   "execution_count": 141,
   "metadata": {},
   "outputs": [],
   "source": [
    "# def save_obj(obj, name ):\n",
    "#     with open('../../data/'+ name + '.pkl', 'wb') as f:\n",
    "#         pickle.dump(obj, f, pickle.HIGHEST_PROTOCOL)\n",
    "# save_obj(imgOnlyDate,\"imgOnlyDateV1\")"
   ]
  },
  {
   "cell_type": "code",
   "execution_count": 54,
   "metadata": {},
   "outputs": [],
   "source": [
    "# for m,l in imgOnlyDate.items():\n",
    "#     l.sort()"
   ]
  },
  {
   "cell_type": "code",
   "execution_count": null,
   "metadata": {},
   "outputs": [],
   "source": [
    "# timestamp=labeled[\"DateTimeDigitized\"]\n",
    "# timestamp=datetime.datetime.strptime(timestamp, '%Y:%m:%d %H:%M:%S')\n",
    "\n"
   ]
  },
  {
   "cell_type": "code",
   "execution_count": 126,
   "metadata": {},
   "outputs": [
    {
     "name": "stdout",
     "output_type": "stream",
     "text": [
      "CPU times: user 0 ns, sys: 0 ns, total: 0 ns\n",
      "Wall time: 34.3 µs\n"
     ]
    }
   ],
   "source": [
    "%%time\n",
    "from bisect import bisect_left\n",
    "timestamp=datetime.datetime(year=2019,month=4,day=2,hour=1,minute=6)"
   ]
  },
  {
   "cell_type": "code",
   "execution_count": 133,
   "metadata": {},
   "outputs": [],
   "source": [
    "def findPhoto(location,timestamp,imgOnlyDate,buffer=datetime.timedelta(seconds=1)):\n",
    "    index=bisect_left(imgOnlyDate[location], (timestamp,\"\"))\n",
    "    if index==len(imgOnlyDate[location]):\n",
    "        index-=1\n",
    "\n",
    "    if index==-1:\n",
    "        index=1\n",
    "\n",
    "    left=imgOnlyDate[location][index-1]\n",
    "    right=imgOnlyDate[location][index]\n",
    "    print(index)\n",
    "    print(left[0],right[0])\n",
    "\n",
    "    if timestamp==left[0]:\n",
    "        return left\n",
    "    if timestamp==right[0]:\n",
    "        return right\n",
    "    leftDistance=abs(timestamp-left[0])\n",
    "    rightDistance=abs(right[0]-timestamp)\n",
    "    print(leftDistance,rightDistance)\n",
    "    if leftDistance<=rightDistance and leftDistance<=buffer:\n",
    "        return left\n",
    "    if rightDistance<=buffer:\n",
    "        return right\n",
    "    return (-1,-1)\n",
    "\n",
    "import pickle\n",
    "\n",
    "with open(\"../../data/imgOnlyDateV1.pkl\", 'rb') as f:\n",
    "    imgOnlyDate=pickle.load(f)"
   ]
  },
  {
   "cell_type": "code",
   "execution_count": null,
   "metadata": {},
   "outputs": [],
   "source": [
    "findPhoto(\"26\",timestamp,imgOnlyDate)[0]"
   ]
  },
  {
   "cell_type": "code",
   "execution_count": 143,
   "metadata": {},
   "outputs": [
    {
     "name": "stdout",
     "output_type": "stream",
     "text": [
      "-rw-rw-r-- 1 enis enis 2.5M Feb 17 23:30 ../../data/8tags_on_8sites_DF.pkl\n",
      "-rw-rw-r-- 1 enis enis 6.2M Jun  9 08:06 ../../data/allFields_dataV2.pkl\n",
      "-rw-rw-r-- 1 enis enis 6.1M Jun 10 17:40 ../../data/allFields_dataV3.pkl\n",
      "-rw-rw-r-- 1 enis enis 860M Jun 11 15:50 ../../data/exifInfoDictV1.pkl\n",
      "-rw-rw-r-- 1 enis enis  64M Jun 11 16:51 ../../data/imgOnlyDateV1.pkl\n",
      "-rw-rw-r-- 1 enis enis 5.7M Jan 28 09:16 ../../data/realdata_v2No_stinchcomb.pkl\n",
      "-rw-rw-r-- 1 enis enis  48K Feb 17 18:26 ../../data/stinchcomb_dataV1.pkl\n",
      "-rw-rw-r-- 1 enis enis 1.7M Dec  6  2019 ../../data/weather_data_kaktovik.pkl\n",
      "-rw-rw-r-- 1 enis enis 1.3M Nov  1  2019 ../../data/weather_data.pkl\n",
      "-rw-rw-r-- 1 enis enis 1.1M Dec  6  2019 ../../data/weather_data_prudhoe-bay.pkl\n"
     ]
    }
   ],
   "source": []
  },
  {
   "cell_type": "code",
   "execution_count": 68,
   "metadata": {},
   "outputs": [
    {
     "name": "stdout",
     "output_type": "stream",
     "text": [
      "CPU times: user 0 ns, sys: 0 ns, total: 0 ns\n",
      "Wall time: 92.7 µs\n"
     ]
    },
    {
     "data": {
      "text/plain": [
       "153"
      ]
     },
     "execution_count": 68,
     "metadata": {},
     "output_type": "execute_result"
    }
   ],
   "source": [
    "%%time\n",
    "bisect_left(imgOnlyDate[\"26\"], (timestamp,\"\"))"
   ]
  },
  {
   "cell_type": "code",
   "execution_count": 61,
   "metadata": {},
   "outputs": [
    {
     "data": {
      "text/plain": [
       "(datetime.datetime(2019, 5, 2, 15, 15),\n",
       " '/tank/data/nna/cameraTrap/prudhoe/26/2019/100RECNX/RCNX0004.JPG')"
      ]
     },
     "execution_count": 61,
     "metadata": {},
     "output_type": "execute_result"
    }
   ],
   "source": [
    "imgOnlyDate[\"26\"][3]"
   ]
  },
  {
   "cell_type": "code",
   "execution_count": 3,
   "metadata": {},
   "outputs": [],
   "source": [
    "p_path=\"/home/enis/projects/nna/data/cameraTraps/test.txt\"\n",
    "\n",
    "with open(p_path) as p_file:\n",
    "    photo_paths=p_file.readlines()\n",
    "    photo_paths = [i.strip() for i in photo_paths]\n",
    "\n",
    "other_folder=[\"anwr_35_2019_101RECNX_RCNX3373.JPG\",\n",
    "\"anwr_42_2019_100RECNX_RCNX3574.JPG\",\n",
    "\"ivvavik_SINP03_2019_100RECNX_IMG_3219.JPG\",\n",
    "\"ivvavik_SINP05_2019_100RECNX_IMG_2867.JPG\",\n",
    "\"ivvavik_SINP06_2019_100RECNX_IMG_1884.JPG\",\n",
    "\"ivvavik_SINP09_2019_100RECNX_IMG_2743.JPG\",\n",
    "\"prudhoe_17_2019_100RECNX_RCNX3916.JPG\",]\n",
    "\n",
    "parent_path1=\"/tank/data/nna/examples/randomPhotos10k/\"\n",
    "parent_path2=\"/tank/data/nna/examples/randomPhotos1k/\"\n",
    "\n",
    "audio4photo=list_files(\"/home/enis/projects/nna/notebooks/trap_photo_audio_new3\")\n",
    "\n"
   ]
  },
  {
   "cell_type": "code",
   "execution_count": null,
   "metadata": {},
   "outputs": [],
   "source": [
    "# /prudhoe/26/2019/S4A10255_20190507_073000_vgg\n",
    "location=\"26\"\n",
    "year=2019;month=5;day=7;hour=7;minute=35;second=10\n",
    "queryLen=10\n",
    "buffer=0\n",
    "#file_properties_df\n",
    "embeddataPath=\"/scratch/enis/data/nna/real/\"\n",
    "\n",
    "start_time=datetime.datetime(year=year,month=month,day=day,hour=hour,minute=minute,second=second)\n",
    "end_time=start_time+timedelta(queryLen)\n",
    "\n",
    "output=find_filesv2(location,start_time,end_time,queryLen,buffer,file_properties_df)\n",
    "sorted_filtered,start_time,end_time,start_time_org,end_time_org = output\n",
    "# sorted_filtered.index[0]\n",
    "secondsfromBeginningofFile=(start_time-sorted_filtered.iloc[0].timestamp).total_seconds()\n",
    "standardPathStyle(embeddataPath,sorted_filtered.iloc[0],subDirectoryAddon=\"_vgg\",fileNameAddon=\"_embeddings000.npy\")\n",
    "\n",
    "embeddingFileIndex=getFileIndex(raw_embed_name,metadata)\n",
    "# some audio files have multiple embedding files, so we need to account for that\n",
    "embeddingFileIndex+=secondsfromBeginningofFile\n"
   ]
  },
  {
   "cell_type": "code",
   "execution_count": null,
   "metadata": {},
   "outputs": [],
   "source": [
    "# img_file_name=\"anwr_33_2019_101RECNX_RCNX3238.jpg\"\n",
    "\n",
    "for img_file_name in photo_paths:\n",
    "\n",
    "    img_file_name=(img_file_name)[:-4] + \".JPG\"\n",
    "    if img_file_name in other_folder:\n",
    "        parent_path = parent_path2\n",
    "    else:\n",
    "        parent_path = parent_path1\n",
    "    location=img_file_name.split(\"_\")[1]\n",
    "    \n",
    "    labeled = get_labeled_exif(parent_path+img_file_name)\n",
    "    # print(labeled)\n",
    "\n",
    "    timestamp=labeled[\"DateTimeDigitized\"]\n",
    "    timestamp=datetime.datetime.strptime(timestamp, '%Y:%m:%d %H:%M:%S')\n",
    "\n",
    "    \n",
    "    start_time=timestamp - timedelta(seconds=30)\n",
    "    start_time=start_time.strftime('%Y-%m-%d_%H:%M:%S')\n",
    "    length=60 # seconds of audio, if set end_time is IGNORED\n",
    "    end_time=''  # or datetime object\n",
    "    print(img_file_name,start_time)\n",
    "\n",
    "    file_name=img_file_name[:-4]\n",
    "\n",
    "    buffer=10800 # how much buffer to each side\n",
    "\n",
    "    tmp_folder=\"../trap_photo_audio_new3/\"\n",
    "    \n",
    "    output=query_audio(location,start_time,end_time,length,buffer,file_properties_df,file_name,display_flag=False,save=True,tmp_folder=tmp_folder)\n",
    "    sorted_filtered,start_time,end_time,start_time_org,end_time_org = output\n"
   ]
  },
  {
   "cell_type": "code",
   "execution_count": null,
   "metadata": {},
   "outputs": [],
   "source": []
  }
 ],
 "metadata": {
  "kernelspec": {
   "display_name": "speechEnv",
   "language": "python",
   "name": "speechenv"
  },
  "language_info": {
   "codemirror_mode": {
    "name": "ipython",
    "version": 3
   },
   "file_extension": ".py",
   "mimetype": "text/x-python",
   "name": "python",
   "nbconvert_exporter": "python",
   "pygments_lexer": "ipython3",
   "version": "3.7.2"
  }
 },
 "nbformat": 4,
 "nbformat_minor": 4
}
