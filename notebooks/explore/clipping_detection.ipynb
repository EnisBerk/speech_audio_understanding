{
 "cells": [
  {
   "cell_type": "code",
   "execution_count": 1,
   "metadata": {},
   "outputs": [],
   "source": [
    "\"\"\"Experiments for deciding clipping percentage.\n",
    "\n",
    "Clipping functions are moved to nna.clippingutils and there is scripts/clipping_cli.py to compute clipping.\n",
    "\n",
    "Whats left here is calculating clipping of specific files and visualize results to decide on a clipping threshold.\n",
    "\n",
    "\"\"\""
   ]
  },
  {
   "cell_type": "code",
   "execution_count": 2,
   "metadata": {},
   "outputs": [],
   "source": [
    "from nna.fileUtils import list_files \n",
    "from pydub import AudioSegment\n",
    "from IPython.display import display, Audio\n",
    "from pathlib import Path\n",
    "import librosa\n",
    "import numpy as np\n",
    "import IPython.display as ipd\n",
    "import librosa.display\n",
    "import matplotlib.pyplot as plt\n",
    "import pandas as pd\n",
    "import time"
   ]
  },
  {
   "cell_type": "code",
   "execution_count": 3,
   "metadata": {},
   "outputs": [],
   "source": [
    "from nna.clippingutils import load_audio,get_clipping_percent,run_task_save\n",
    "\n",
    "\n",
    "    "
   ]
  },
  {
   "cell_type": "markdown",
   "metadata": {},
   "source": [
    "### calculate clipping for samples to be labeled\n",
    "* save them into a single dict and store as pkl"
   ]
  },
  {
   "cell_type": "code",
   "execution_count": 13,
   "metadata": {},
   "outputs": [],
   "source": [
    "split_Dir=\"/scratch/enis/data/nna/labeling/splits_real\"\n",
    "split_Dir=\"/scratch/enis/data/nna/labeling/splitsv3\"\n",
    "\n",
    "listOfFiles=list_files(split_Dir)"
   ]
  },
  {
   "cell_type": "code",
   "execution_count": 15,
   "metadata": {},
   "outputs": [
    {
     "data": {
      "text/plain": [
       "('/scratch/enis/data/nna/labeling/splitsv3/INP-AR-01_20180509_000000_3m_51s__4m_1s.flac',\n",
       " 15766)"
      ]
     },
     "execution_count": 15,
     "metadata": {},
     "output_type": "execute_result"
    }
   ],
   "source": [
    "listOfFiles[0],len(listOfFiles)"
   ]
  },
  {
   "cell_type": "code",
   "execution_count": 16,
   "metadata": {},
   "outputs": [],
   "source": [
    "area=\"splitsv3_clipping\"\n",
    "clipping_threshold=1\n",
    "clipping_results_path=\"/scratch/enis/data/nna/labeling/\"\n",
    "\n",
    "# for i,area in enumerate(selected_areas):\n",
    "#     area_filtered=file_properties_df[file_properties_df.site_id==area]\n",
    "run_task_save(listOfFiles,area,clipping_results_path,clipping_threshold)\n"
   ]
  },
  {
   "cell_type": "code",
   "execution_count": 18,
   "metadata": {},
   "outputs": [],
   "source": [
    "clippingFile=\"/scratch/enis/data/nna/labeling/splitsv3_clipping_1.pkl\"\n",
    "\n",
    "import numpy as np\n",
    "clippingDict = np.load(clippingFile,allow_pickle=True)\n",
    "clippingDict=clippingDict[()]\n"
   ]
  },
  {
   "cell_type": "code",
   "execution_count": 19,
   "metadata": {},
   "outputs": [
    {
     "name": "stdout",
     "output_type": "stream",
     "text": [
      "13474 0.854623874159584\n"
     ]
    }
   ],
   "source": [
    "\n",
    "# split_Dir\n",
    "# thePath=\"/scratch/enis/data/nna/labeling/splits_real/\"\n",
    "\n",
    "clippingThreshold=0.4\n",
    "goodOnes=[]\n",
    "for f in listOfFiles:\n",
    "    left,right=clippingDict[f][0]\n",
    "    maxValue=max(left,right)\n",
    "    if maxValue<=clippingThreshold:\n",
    "        goodOnes.append(f)\n",
    "\n",
    "print(len(goodOnes),len(goodOnes)/len(listOfFiles))\n",
    "    "
   ]
  },
  {
   "cell_type": "code",
   "execution_count": 31,
   "metadata": {},
   "outputs": [
    {
     "name": "stdout",
     "output_type": "stream",
     "text": [
      "a\n"
     ]
    }
   ],
   "source": [
    "print(\"a\")"
   ]
  },
  {
   "cell_type": "code",
   "execution_count": 25,
   "metadata": {},
   "outputs": [],
   "source": [
    "dst=Path(\"/scratch/enis/data/nna/labeling/splitsv3NoClipping04/\")\n",
    "dst.mkdir(exist_ok=True)"
   ]
  },
  {
   "cell_type": "code",
   "execution_count": 27,
   "metadata": {},
   "outputs": [],
   "source": [
    "from shutil import copyfile\n",
    "\n",
    "for src in goodOnes:\n",
    "    src=Path(src)\n",
    "    dst = src.parents[1]/ \"splitsv3NoClipping04\" / (src.stem+src.suffix)\n",
    "    try:\n",
    "        copyfile(src, dst)\n",
    "    except Exception as e: print(e)  "
   ]
  },
  {
   "cell_type": "code",
   "execution_count": 29,
   "metadata": {},
   "outputs": [],
   "source": [
    "!/home/enis/sbin/rclone copy /scratch/enis/data/nna/labeling/splitsv3NoClipping04/ CunyDropbox:server/data/nna/labeling/splitsv3NoClipping04/\n",
    "!conda run -n speechEnv python /home/enis/projects/nna/src/slack_message.py -m \"upload ended\" \n"
   ]
  },
  {
   "cell_type": "code",
   "execution_count": 30,
   "metadata": {},
   "outputs": [],
   "source": [
    "!rm -rf /scratch/enis/data/nna/labeling/splitsv3/"
   ]
  },
  {
   "cell_type": "markdown",
   "metadata": {},
   "source": [
    "## experiments for deciding clipping threshold"
   ]
  },
  {
   "cell_type": "code",
   "execution_count": 16,
   "metadata": {
    "collapsed": true,
    "jupyter": {
     "outputs_hidden": true
    }
   },
   "outputs": [
    {
     "name": "stdout",
     "output_type": "stream",
     "text": [
      "0\n",
      "error /scratch/enis/data/nna/labeling/splits_real/S4A10288_20190601_121602_063m_52s__064m_02s.mp3\n",
      "1\n",
      "2\n",
      "3\n",
      "4\n",
      "5\n",
      "6\n",
      "error /scratch/enis/data/nna/labeling/splits_real/S4A10283_20190524_201602_13m_57s__14m_07s.mp3\n",
      "7\n",
      "8\n",
      "error /scratch/enis/data/nna/labeling/splits_real/S4A10252_20190505_233000_000m_22s__000m_32s.mp3\n",
      "9\n",
      "10\n",
      "11\n",
      "12\n",
      "13\n",
      "error /scratch/enis/data/nna/labeling/splits_real/S4A10310_20190515_054602_09m_41s__09m_51s.mp3\n",
      "14\n",
      "error /scratch/enis/data/nna/labeling/splits_real/S4A10245_20190514_143000_13m_27s__13m_37s.mp3\n",
      "15\n",
      "16\n",
      "17\n",
      "18\n",
      "19\n",
      "20\n",
      "21\n",
      "22\n",
      "23\n",
      "24\n",
      "error /scratch/enis/data/nna/labeling/splits_real/S4A10290_20190529_203000_07m_39s__07m_49s.mp3\n",
      "error /scratch/enis/data/nna/labeling/splits_real/S4A10287_20190505_004602_05m_06s__05m_16s.mp3\n",
      "25\n",
      "26\n",
      "27\n",
      "28\n",
      "29\n",
      "30\n",
      "31\n",
      "32\n",
      "33\n",
      "34\n",
      "error /scratch/enis/data/nna/labeling/splits_real/S4A10270_20190508_120000_004m_29s__004m_39s.mp3\n",
      "35\n",
      "36\n",
      "error /scratch/enis/data/nna/labeling/splits_real/S4A10245_20190531_010000_031m_08s__031m_18s.mp3\n",
      "37\n",
      "38\n",
      "39\n",
      "40\n",
      "41\n",
      "error /scratch/enis/data/nna/labeling/splits_real/S4A10227_20190519_160000_28m_46s__28m_56s.mp3\n",
      "42\n",
      "43\n",
      "error /scratch/enis/data/nna/labeling/splits_real/S4A10227_20190513_190000_15m_27s__15m_37s.mp3\n",
      "44\n",
      "45\n",
      "46\n",
      "47\n",
      "error /scratch/enis/data/nna/labeling/splits_real/S4A10284_20190614_141602_03m_15s__03m_25s.mp3\n",
      "48\n",
      "49\n",
      "50\n",
      "error /scratch/enis/data/nna/labeling/splits_real/S4A10275_20190605_230000_12m_22s__12m_32s.mp3\n",
      "51\n",
      "52\n",
      "error /scratch/enis/data/nna/labeling/splits_real/S4A10283_20190510_023000_21m_32s__21m_42s.mp3\n",
      "53\n",
      "54\n",
      "error /scratch/enis/data/nna/labeling/splits_real/S4A10245_20190603_144602_17m_54s__18m_04s.mp3\n",
      "error /scratch/enis/data/nna/labeling/splits_real/S4A10288_20190605_144602_009m_20s__009m_30s.mp3\n",
      "55\n",
      "56\n",
      "57\n",
      "error /scratch/enis/data/nna/labeling/splits_real/S4A10251_20190524_133000_08m_16s__08m_26s.mp3\n",
      "58\n",
      "59\n",
      "60\n",
      "61\n",
      "error /scratch/enis/data/nna/labeling/splits_real/S4A10292_20190528_141602_33m_47s__33m_57s.mp3\n",
      "62\n",
      "63\n",
      "64\n",
      "error /scratch/enis/data/nna/labeling/splits_real/S4A10258_20190509_081602_0046m_25s__0046m_35s.mp3\n",
      "65\n",
      "66\n",
      "error /scratch/enis/data/nna/labeling/splits_real/S4A10268_20190531_074602_08m_28s__08m_38s.mp3\n",
      "67\n",
      "71\n",
      "72\n",
      "73\n",
      "74\n",
      "75\n",
      "76\n",
      "error /scratch/enis/data/nna/labeling/splits_real/S4A10297_20190601_190000_09m_20s__09m_30s.mp3\n",
      "error /scratch/enis/data/nna/labeling/splits_real/S4A10310_20190612_000000_039m_19s__039m_29s.mp3\n",
      "77\n",
      "error /scratch/enis/data/nna/labeling/splits_real/S4A10290_20190525_173000_006m_33s__006m_43s.mp3\n",
      "78\n",
      "79\n",
      "80\n",
      "error /scratch/enis/data/nna/labeling/splits_real/S4A10257_20190527_120000_038m_39s__038m_49s.mp3\n",
      "error /scratch/enis/data/nna/labeling/splits_real/S4A10266_20190505_230000_012m_08s__012m_18s.mp3\n",
      "81\n",
      "82\n",
      "83\n",
      "84\n",
      "error /scratch/enis/data/nna/labeling/splits_real/S4A10243_20190527_170000_21m_10s__21m_20s.mp3\n",
      "85\n",
      "86\n",
      "error /scratch/enis/data/nna/labeling/splits_real/S4A10264_20190510_173000_20m_54s__21m_04s.mp3\n",
      "87\n",
      "error /scratch/enis/data/nna/labeling/splits_real/S4A10307_20190530_221602_019m_51s__020m_01s.mp3\n",
      "88\n",
      "89\n",
      "90\n",
      "91\n",
      "92\n",
      "93\n",
      "94\n",
      "95\n",
      "96\n",
      "97\n",
      "98\n",
      "error /scratch/enis/data/nna/labeling/splits_real/S4A10293_20190529_221602_15m_12s__15m_22s.mp3\n",
      "99\n",
      "error /scratch/enis/data/nna/labeling/splits_real/S4A10310_20190510_081602_25m_14s__25m_24s.mp3\n",
      "100\n",
      "error /scratch/enis/data/nna/labeling/splits_real/S4A10209_20190518_213000_04m_32s__04m_42s.mp3\n",
      "101\n"
     ]
    }
   ],
   "source": [
    "# load data, 10k 10 second long samples from real dataset\n",
    "results_1=[]\n",
    "results_99=[]\n",
    "monoresults_1=[]\n",
    "monoresults_99=[]\n",
    "t1=time.time()\n",
    "for ii,i in enumerate(split_files):\n",
    "    try:\n",
    "#         y, sr = librosa.load(i,mono=False,sr=None)\n",
    "        y,sr=load_audio(i,dtype=np.int16,backend=\"pydub\")\n",
    "    except:\n",
    "        print(\"error\",i)\n",
    "        pass\n",
    "\n",
    "    # 1.0\n",
    "    res=get_clipping_percent(y,1)\n",
    "    if len(res)!=2:\n",
    "        monoresults_1.append((i,res))\n",
    "    else:\n",
    "        results_1.append((i,res))\n",
    "    \n",
    "    #0.99\n",
    "    res=get_clipping_percent(y,0.999)\n",
    "    if len(res)!=2:\n",
    "        monoresults_99.append((i,res))\n",
    "    else:\n",
    "        results_99.append((i,res))\n",
    "    \n",
    "    if ii%100==0:\n",
    "        print(ii//100)"
   ]
  },
  {
   "cell_type": "code",
   "execution_count": 36,
   "metadata": {},
   "outputs": [
    {
     "name": "stdout",
     "output_type": "stream",
     "text": [
      "worst ('/scratch/enis/data/nna/labeling/splits_real/S4A10287_20190508_034602_40m_54s__41m_4s.flac', [0.8022666666666667, 0.9219916666666667])\n"
     ]
    }
   ],
   "source": [
    "# sort results\n",
    "results_1=sorted(results_1,key=lambda x:x[1][1])\n",
    "print(\"worst\",results_1[-1])\n",
    "\n",
    "results_99=sorted(results_99,key=lambda x:x[1][1])\n",
    "print(\"worst\",results_99[-2])"
   ]
  },
  {
   "cell_type": "code",
   "execution_count": 39,
   "metadata": {},
   "outputs": [],
   "source": [
    "# create numpy array\n",
    "results_1np=np.array([i[1] for i in results_1])\n",
    "results_99np=np.array([i[1] for i in results_99])"
   ]
  },
  {
   "cell_type": "code",
   "execution_count": null,
   "metadata": {},
   "outputs": [],
   "source": []
  },
  {
   "cell_type": "code",
   "execution_count": null,
   "metadata": {},
   "outputs": [],
   "source": []
  },
  {
   "cell_type": "code",
   "execution_count": 4,
   "metadata": {},
   "outputs": [],
   "source": [
    "audiofiles=list_files(\"/home/enis/projects/nna/notebooks/trap_photo_audio_new3\")\n"
   ]
  },
  {
   "cell_type": "code",
   "execution_count": null,
   "metadata": {},
   "outputs": [],
   "source": []
  },
  {
   "cell_type": "code",
   "execution_count": 478,
   "metadata": {},
   "outputs": [
    {
     "name": "stdout",
     "output_type": "stream",
     "text": [
      "0 1 0.053   0.046\n",
      "1 2 0.0   0.021\n",
      "2 3 0.037   0.019\n",
      "3 4 0.01   0.017\n",
      "4 5 0.0   0.14\n",
      "5 6 0.095   0.29\n",
      "6 7 0.0   0.0\n",
      "7 8 0.0   0.0\n",
      "8 9 0.0088   0.061\n",
      "9 10 0.0   0.12\n"
     ]
    }
   ],
   "source": [
    "for i in range(10):\n",
    "    res=get_clipping_percent(y[:,(y[0].shape[0]//10)*i:(y[0].shape[0]//10)*(i+1)],0.98)\n",
    "    print(i,i+1,\"{:.2}   {:.2}\".format(*res))"
   ]
  },
  {
   "cell_type": "code",
   "execution_count": 18,
   "metadata": {},
   "outputs": [],
   "source": [
    "# ipd.Audio(y[0], rate=sr)"
   ]
  },
  {
   "cell_type": "code",
   "execution_count": 85,
   "metadata": {},
   "outputs": [
    {
     "data": {
      "text/plain": [
       "2623"
      ]
     },
     "execution_count": 85,
     "metadata": {},
     "output_type": "execute_result"
    }
   ],
   "source": [
    "np.sum([results_1np[:,1]<=0])"
   ]
  },
  {
   "cell_type": "code",
   "execution_count": 92,
   "metadata": {},
   "outputs": [
    {
     "data": {
      "text/plain": [
       "array([0.01837292, 0.        ])"
      ]
     },
     "execution_count": 92,
     "metadata": {},
     "output_type": "execute_result"
    }
   ],
   "source": [
    "results_1np[2622]"
   ]
  },
  {
   "cell_type": "code",
   "execution_count": null,
   "metadata": {
    "scrolled": true
   },
   "outputs": [],
   "source": [
    "# y, sr = librosa.load(Path(audiofiles[15]),mono=False,sr=None)\n",
    "# ymono, sr = librosa.load(Path(audiofiles[15]),mono=True,sr=None)\n",
    "sample=results_99[2800]\n",
    "print(sample[1])\n",
    "worst_path=sample[0]\n",
    "\n",
    "y, sr = librosa.load(Path(worst_path),mono=False,sr=None)\n",
    "ymono, sr = librosa.load(Path(worst_path),mono=True,sr=None)\n",
    "\n",
    "\n",
    "# Generate data on commute times.\n",
    "commutes = pd.Series(y[1])\n",
    "# commutes = pd.Series(clipped)\n",
    "\n",
    "commutes.plot.hist(cumulative=False,grid=True, bins=200, rwidth=0.999,\n",
    "                   color='#617c8e',figsize=(9,4))\n",
    "# commutes.plot()\n",
    "plt.title('histogram of the signal')\n",
    "plt.ylabel('Counts')\n",
    "plt.xlabel('Amplitude')\n",
    "plt.grid(axis='y', alpha=0.9)\n",
    "# plt.savefig(\"cum_hist_1000bins.png\",bbox_inches='tight',pad_inches=0.0)"
   ]
  },
  {
   "cell_type": "code",
   "execution_count": 496,
   "metadata": {},
   "outputs": [],
   "source": [
    "# ipd.Audio(ymono, rate=sr)"
   ]
  },
  {
   "cell_type": "code",
   "execution_count": 497,
   "metadata": {},
   "outputs": [],
   "source": [
    "# ipd.Audio(y[0], rate=sr)"
   ]
  },
  {
   "cell_type": "code",
   "execution_count": null,
   "metadata": {},
   "outputs": [],
   "source": [
    "# Plot a monophonic waveform\n",
    "# y, sr = librosa.load(librosa.util.example_audio_file(), duration=10)\n",
    "plt.figure(figsize=(12, 5))\n",
    "\n",
    "plt.subplot(3, 1, 1)\n",
    "librosa.display.waveplot(np.asfortranarray(y[0]), sr=sr)\n",
    "plt.title('channel - 0')\n",
    "\n",
    "# plt.figure(figsize=(12, 3))\n",
    "\n",
    "plt.subplot(3, 1, 2)\n",
    "librosa.display.waveplot(np.asfortranarray(y[1]), sr=sr)\n",
    "plt.title('channel - 1')\n",
    "\n",
    "plt.subplot(3, 1, 3)\n",
    "librosa.display.waveplot(np.asfortranarray(ymono), sr=sr)\n",
    "plt.title('Mono')\n",
    "# plt.savefig('books_read.png')\n",
    "# plt.show()\n",
    "plt.tight_layout()\n",
    "# plt.savefig('multiple.png')\n"
   ]
  },
  {
   "cell_type": "code",
   "execution_count": null,
   "metadata": {},
   "outputs": [],
   "source": [
    "# ipd.Audio(y[0], rate=sr)"
   ]
  },
  {
   "cell_type": "code",
   "execution_count": null,
   "metadata": {},
   "outputs": [],
   "source": [
    "# ipd.Audio(y[1], rate=sr)"
   ]
  },
  {
   "cell_type": "code",
   "execution_count": null,
   "metadata": {},
   "outputs": [],
   "source": [
    "\"mono: {:.2}  cha1: {:.2}  cha2: {:.2}\".format(*get_clipping_percent(y,1))\n"
   ]
  },
  {
   "cell_type": "code",
   "execution_count": null,
   "metadata": {},
   "outputs": [],
   "source": [
    "soundArray=np.array(y)"
   ]
  },
  {
   "cell_type": "code",
   "execution_count": null,
   "metadata": {},
   "outputs": [],
   "source": [
    "ynp.shape"
   ]
  },
  {
   "cell_type": "code",
   "execution_count": null,
   "metadata": {},
   "outputs": [],
   "source": [
    "np.sum(soundArray[0] >= 0.99) / np.sum(soundArray[0] > 0)"
   ]
  },
  {
   "cell_type": "code",
   "execution_count": null,
   "metadata": {},
   "outputs": [],
   "source": [
    "(np.sum(soundArray[0] <= -0.99))  /  np.sum(soundArray[0] < 0)"
   ]
  },
  {
   "cell_type": "code",
   "execution_count": null,
   "metadata": {},
   "outputs": [],
   "source": [
    "import warnings\n",
    "warnings.filterwarnings(\"ignore\")"
   ]
  },
  {
   "cell_type": "code",
   "execution_count": null,
   "metadata": {},
   "outputs": [],
   "source": [
    "len(np.where( ynp[0] > 0.9)[0])/2880000"
   ]
  },
  {
   "cell_type": "code",
   "execution_count": null,
   "metadata": {},
   "outputs": [],
   "source": [
    "# results=[]\n",
    "# for i in audiofiles:\n",
    "#     y, sr = librosa.load(i,mono=False,sr=None)\n",
    "#     soundArray=np.array(y)\n",
    "#     result=(((np.sum(soundArray[1] <= -0.99) + np.sum(soundArray[1] >= 0.99))) / soundArray[1].size)\n",
    "#     results.append(result)"
   ]
  },
  {
   "cell_type": "code",
   "execution_count": null,
   "metadata": {},
   "outputs": [],
   "source": [
    "for audiof in audiofiles:\n",
    "    y, sr = librosa.load(audiof,mono=False,sr=None)\n",
    "    print(\"mono: {:.2}  cha1: {:.2}  cha2: {:.2}\".format(*get_clipping_percent(y,1)))\n"
   ]
  },
  {
   "cell_type": "code",
   "execution_count": 12,
   "metadata": {},
   "outputs": [],
   "source": [
    "split_files=list_files(\"/scratch/enis/data/nna/labeling/splits_real\")"
   ]
  },
  {
   "cell_type": "code",
   "execution_count": null,
   "metadata": {},
   "outputs": [],
   "source": []
  },
  {
   "cell_type": "code",
   "execution_count": null,
   "metadata": {},
   "outputs": [],
   "source": [
    "\n",
    "results_series=results_99np[:,1]\n",
    "# results_series=results_series[results_series<=0.025]\n",
    "\n",
    "# Generate data on commute times.\n",
    "commutes = pd.Series(results_series)\n",
    "\n",
    "commutes.plot.hist(cumulative=True,grid=True, bins=1000, rwidth=0.999,\n",
    "                   color='#617c8e',figsize=(10,5))\n",
    "plt.title('Clipping ratios for 10,000 samples')\n",
    "plt.ylabel('Counts')\n",
    "plt.xlabel('Clipping percentage')\n",
    "plt.grid(axis='y', alpha=0.9)\n",
    "plt.savefig(\"cum_hist_1000bins.png\",bbox_inches='tight',pad_inches=0.0)"
   ]
  },
  {
   "cell_type": "code",
   "execution_count": 53,
   "metadata": {},
   "outputs": [
    {
     "data": {
      "text/plain": [
       "(4752, 2)"
      ]
     },
     "execution_count": 53,
     "metadata": {},
     "output_type": "execute_result"
    }
   ],
   "source": [
    "threshold=1\n",
    "thresholdlowwer=0.2\n",
    "results_1np[(results_1np[:,0]<=threshold) & (results_1np[:,1]<=threshold)].shape\n",
    "upper=results_1np[(results_1np[:,0]<=threshold) & (results_1np[:,1]<=threshold)]\n",
    "upper[(thresholdlowwer<upper[:,0]) & (thresholdlowwer<upper[:,1])].shape\n"
   ]
  },
  {
   "cell_type": "code",
   "execution_count": 52,
   "metadata": {},
   "outputs": [
    {
     "data": {
      "text/plain": [
       "(201, 2)"
      ]
     },
     "execution_count": 52,
     "metadata": {},
     "output_type": "execute_result"
    }
   ],
   "source": [
    "threshold=0.2\n",
    "thresholdlowwer=0.08\n",
    "results_1np[(results_1np[:,0]<=threshold) & (results_1np[:,1]<=threshold)].shape\n",
    "upper=results_1np[(results_1np[:,0]<=threshold) & (results_1np[:,1]<=threshold)]\n",
    "upper[(thresholdlowwer<upper[:,0]) & (thresholdlowwer<upper[:,1])].shape\n"
   ]
  },
  {
   "cell_type": "code",
   "execution_count": 49,
   "metadata": {},
   "outputs": [
    {
     "data": {
      "text/plain": [
       "(173, 2)"
      ]
     },
     "execution_count": 49,
     "metadata": {},
     "output_type": "execute_result"
    }
   ],
   "source": [
    "threshold=0.08\n",
    "thresholdlowwer=0.02\n",
    "upper=results_1np[(results_1np[:,0]<=threshold) & (results_1np[:,1]<=threshold)]\n",
    "upper[(thresholdlowwer<upper[:,0]) & (thresholdlowwer<upper[:,1])].shape\n"
   ]
  },
  {
   "cell_type": "code",
   "execution_count": 50,
   "metadata": {},
   "outputs": [
    {
     "data": {
      "text/plain": [
       "(215, 2)"
      ]
     },
     "execution_count": 50,
     "metadata": {},
     "output_type": "execute_result"
    }
   ],
   "source": [
    "threshold=0.02\n",
    "thresholdlowwer=0.001\n",
    "\n",
    "upper=results_1np[(results_1np[:,0]<=threshold) & (results_1np[:,1]<=threshold)]\n",
    "upper[(thresholdlowwer<upper[:,0]) & (thresholdlowwer<upper[:,1])].shape\n"
   ]
  },
  {
   "cell_type": "code",
   "execution_count": 561,
   "metadata": {},
   "outputs": [],
   "source": [
    "# "
   ]
  },
  {
   "cell_type": "code",
   "execution_count": 51,
   "metadata": {},
   "outputs": [
    {
     "name": "stdout",
     "output_type": "stream",
     "text": [
      "(2413, 2)\n"
     ]
    }
   ],
   "source": [
    "threshold=0.001\n",
    "# thresholdlowwer=0\n",
    "upper=results_1np[(results_1np[:,0]<=threshold) & (results_1np[:,1]<=threshold)]\n",
    "print(upper.shape)\n",
    "# upper[(thresholdlowwer>upper[:,0]) & (thresholdlowwer>upper[:,1])].shape\n"
   ]
  }
 ],
 "metadata": {
  "kernelspec": {
   "display_name": "speechEnv",
   "language": "python",
   "name": "speechenv"
  },
  "language_info": {
   "codemirror_mode": {
    "name": "ipython",
    "version": 3
   },
   "file_extension": ".py",
   "mimetype": "text/x-python",
   "name": "python",
   "nbconvert_exporter": "python",
   "pygments_lexer": "ipython3",
   "version": "3.7.2"
  }
 },
 "nbformat": 4,
 "nbformat_minor": 4
}