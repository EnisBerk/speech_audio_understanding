{
 "cells": [
  {
   "cell_type": "code",
   "execution_count": 1,
   "metadata": {},
   "outputs": [
    {
     "name": "stdout",
     "output_type": "stream",
     "text": [
      "/home/enis/projects/nna/src\n"
     ]
    }
   ],
   "source": [
    "import os\n",
    "import sys\n",
    "\n",
    "module_path = os.path.abspath(os.path.join('../../src'))\n",
    "print(module_path)\n",
    "if module_path not in sys.path:\n",
    "    sys.path.append(module_path)"
   ]
  },
  {
   "cell_type": "code",
   "execution_count": 2,
   "metadata": {},
   "outputs": [],
   "source": [
    "from datetime import timedelta\n",
    "import datetime \n",
    "import os\n",
    "\n",
    "from fileUtils import read_file_properties_v2,find_filesv2,get_labeled_exif,list_files\n",
    "from fileUtils import get_audio,str2timestamp,query_audio\n",
    "\n",
    "import pandas as pd\n",
    "from pathlib import Path\n",
    "\n"
   ]
  },
  {
   "cell_type": "code",
   "execution_count": 3,
   "metadata": {},
   "outputs": [],
   "source": [
    "file_properties_df=pd.read_pickle(\"../realdata_v2No_stinchcomb.pkl\")"
   ]
  },
  {
   "cell_type": "code",
   "execution_count": 4,
   "metadata": {},
   "outputs": [
    {
     "name": "stdout",
     "output_type": "stream",
     "text": [
      "Recording not found\n"
     ]
    }
   ],
   "source": [
    "# location ID, examples: AR03', '15', 'SINP07', '24', 'AR08'     file_properties_df[\"site_id\"].unique()\n",
    "location=\"40\"\n",
    "\n",
    "start_time='2019-07-16_14:40:00' # YYYY-MM-DD_HH:MM:SS or datetime object\n",
    "length=60 # in seconds , if set end_time is IGNORED\n",
    "end_time=None  # or datetime object\n",
    "\n",
    "#how to name the file \n",
    "file_name=\"FILE_NAME\"\n",
    "\n",
    "# if there is no recording in given timestamp, it searches before and after, \n",
    "# buffer is how far to look in seconds\n",
    "buffer=3600\n",
    "\n",
    "# where to save audio files\n",
    "tmp_folder=\"./tmp_audio_excerpt/\"\n",
    "\n",
    "output=query_audio(location,start_time,end_time,length,buffer,file_properties_df,file_name,display_flag=True,save=True,tmp_folder=tmp_folder)"
   ]
  },
  {
   "cell_type": "code",
   "execution_count": null,
   "metadata": {},
   "outputs": [],
   "source": [
    "import shutil\n",
    "shutil.rmtree(tmp_folder)"
   ]
  },
  {
   "cell_type": "code",
   "execution_count": null,
   "metadata": {},
   "outputs": [],
   "source": []
  },
  {
   "cell_type": "code",
   "execution_count": 9,
   "metadata": {},
   "outputs": [],
   "source": [
    "#file_properties_df[file_properties_df[\"site_id\"]==\"40\"].sort_values(by=['timestamp'])[100:110]"
   ]
  },
  {
   "cell_type": "code",
   "execution_count": null,
   "metadata": {},
   "outputs": [],
   "source": []
  }
 ],
 "metadata": {
  "kernelspec": {
   "display_name": "speechEnv",
   "language": "python",
   "name": "speechenv"
  },
  "language_info": {
   "codemirror_mode": {
    "name": "ipython",
    "version": 3
   },
   "file_extension": ".py",
   "mimetype": "text/x-python",
   "name": "python",
   "nbconvert_exporter": "python",
   "pygments_lexer": "ipython3",
   "version": "3.7.2"
  }
 },
 "nbformat": 4,
 "nbformat_minor": 2
}
