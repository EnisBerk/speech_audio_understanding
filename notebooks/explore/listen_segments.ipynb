{
 "cells": [
  {
   "cell_type": "code",
   "execution_count": 1,
   "metadata": {},
   "outputs": [
    {
     "name": "stdout",
     "output_type": "stream",
     "text": [
      "/home/enis/projects/nna/src\n"
     ]
    }
   ],
   "source": [
    "import os\n",
    "import sys\n",
    "\n",
    "module_path = os.path.abspath(os.path.join('../../src'))\n",
    "print(module_path)\n",
    "if module_path not in sys.path:\n",
    "    sys.path.append(module_path)"
   ]
  },
  {
   "cell_type": "code",
   "execution_count": 2,
   "metadata": {},
   "outputs": [],
   "source": [
    "from datetime import timedelta\n",
    "import datetime \n",
    "import os\n",
    "\n",
    "from fileUtils import read_file_properties_v2,find_filesv2,get_labeled_exif,list_files\n",
    "from fileUtils import get_audio,str2timestamp,query_audio\n",
    "\n",
    "import pandas as pd\n",
    "from pathlib import Path\n",
    "\n"
   ]
  },
  {
   "cell_type": "code",
   "execution_count": 5,
   "metadata": {},
   "outputs": [],
   "source": [
    "# !ls ../../data/"
   ]
  },
  {
   "cell_type": "code",
   "execution_count": 6,
   "metadata": {},
   "outputs": [],
   "source": [
    "file_properties_df=pd.read_pickle(\"../../data/realdata_v2No_stinchcomb.pkl\")\n",
    "file_properties_df2=pd.read_pickle(\"../../data/stinchcomb_dataV1.pkl\")"
   ]
  },
  {
   "cell_type": "code",
   "execution_count": 26,
   "metadata": {},
   "outputs": [
    {
     "name": "stdout",
     "output_type": "stream",
     "text": [
      "original_exact_2019-05-07_08:00:08_0m_0s__0m_10s\n"
     ]
    }
   ],
   "source": [
    "# location ID, examples: AR03', '15', 'SINP07', '24', 'AR08'     file_properties_df[\"site_id\"].unique()\n",
    "location=\"26\"\n",
    "# raw_embed_name=\"/scratch/enis/data/nna/real/prudhoe/26/2019/S4A10255_20190507_073000_vgg/S4A10255_20190507_073000_embeddings000.npy\"\n",
    "\n",
    "start_time='2019-05-07_08:00:08' # YYYY-MM-DD_HH:MM:SS or datetime object\n",
    "length=10 # in seconds , if set end_time is IGNORED\n",
    "end_time=None  # or datetime object\n",
    "\n",
    "#how to name the file \n",
    "file_name=\"original\"\n",
    "\n",
    "# if there is no recording in given timestamp, it searches before and after, \n",
    "# buffer is how far to look in seconds\n",
    "buffer=3600\n",
    "\n",
    "# where to save audio files\n",
    "tmp_folder=\"/home/enis/projects/nna/data/nearestNeighbours/S4A10255_20190507_073000-1808seconds/\"\n",
    "\n",
    "output=query_audio(location,start_time,end_time,length,buffer,file_properties_df,file_name,display_flag=False,save=True,tmp_folder=tmp_folder)\n"
   ]
  },
  {
   "cell_type": "code",
   "execution_count": 20,
   "metadata": {},
   "outputs": [
    {
     "data": {
      "text/html": [
       "<div>\n",
       "<style scoped>\n",
       "    .dataframe tbody tr th:only-of-type {\n",
       "        vertical-align: middle;\n",
       "    }\n",
       "\n",
       "    .dataframe tbody tr th {\n",
       "        vertical-align: top;\n",
       "    }\n",
       "\n",
       "    .dataframe thead th {\n",
       "        text-align: right;\n",
       "    }\n",
       "</style>\n",
       "<table border=\"1\" class=\"dataframe\">\n",
       "  <thead>\n",
       "    <tr style=\"text-align: right;\">\n",
       "      <th></th>\n",
       "      <th>site_id</th>\n",
       "      <th>locationId</th>\n",
       "      <th>site_name</th>\n",
       "      <th>recorderId</th>\n",
       "      <th>hour_min_sec</th>\n",
       "      <th>year</th>\n",
       "      <th>month</th>\n",
       "      <th>day</th>\n",
       "      <th>region</th>\n",
       "      <th>timestamp</th>\n",
       "      <th>durationSec</th>\n",
       "      <th>timestampEnd</th>\n",
       "    </tr>\n",
       "  </thead>\n",
       "  <tbody>\n",
       "    <tr>\n",
       "      <td>/tank/data/nna/real/prudhoe/26/2019/S4A10255_20190507_073000.flac</td>\n",
       "      <td>26</td>\n",
       "      <td>26</td>\n",
       "      <td></td>\n",
       "      <td>S4A10255</td>\n",
       "      <td>073000</td>\n",
       "      <td>2019</td>\n",
       "      <td>05</td>\n",
       "      <td>07</td>\n",
       "      <td>prudhoe</td>\n",
       "      <td>2019-05-07 07:30:00</td>\n",
       "      <td>4560</td>\n",
       "      <td>2019-05-07 08:46:00</td>\n",
       "    </tr>\n",
       "  </tbody>\n",
       "</table>\n",
       "</div>"
      ],
      "text/plain": [
       "                                                   site_id locationId  \\\n",
       "/tank/data/nna/real/prudhoe/26/2019/S4A10255_20...      26         26   \n",
       "\n",
       "                                                   site_name recorderId  \\\n",
       "/tank/data/nna/real/prudhoe/26/2019/S4A10255_20...             S4A10255   \n",
       "\n",
       "                                                   hour_min_sec  year month  \\\n",
       "/tank/data/nna/real/prudhoe/26/2019/S4A10255_20...       073000  2019    05   \n",
       "\n",
       "                                                   day   region  \\\n",
       "/tank/data/nna/real/prudhoe/26/2019/S4A10255_20...  07  prudhoe   \n",
       "\n",
       "                                                             timestamp  \\\n",
       "/tank/data/nna/real/prudhoe/26/2019/S4A10255_20... 2019-05-07 07:30:00   \n",
       "\n",
       "                                                   durationSec  \\\n",
       "/tank/data/nna/real/prudhoe/26/2019/S4A10255_20...        4560   \n",
       "\n",
       "                                                          timestampEnd  \n",
       "/tank/data/nna/real/prudhoe/26/2019/S4A10255_20... 2019-05-07 08:46:00  "
      ]
     },
     "execution_count": 20,
     "metadata": {},
     "output_type": "execute_result"
    }
   ],
   "source": [
    "output"
   ]
  },
  {
   "cell_type": "code",
   "execution_count": 18,
   "metadata": {},
   "outputs": [],
   "source": [
    "import shutil\n",
    "shutil.rmtree(tmp_folder)"
   ]
  },
  {
   "cell_type": "code",
   "execution_count": 24,
   "metadata": {},
   "outputs": [
    {
     "name": "stdout",
     "output_type": "stream",
     "text": [
      "slidingWindow_AverageOfMax\r\n"
     ]
    }
   ],
   "source": [
    "!ls /home/enis/projects/nna/data/nearestNeighbours/S4A10255_20190507_073000-1808seconds/"
   ]
  },
  {
   "cell_type": "code",
   "execution_count": 9,
   "metadata": {},
   "outputs": [],
   "source": [
    "#file_properties_df[file_properties_df[\"site_id\"]==\"40\"].sort_values(by=['timestamp'])[100:110]"
   ]
  },
  {
   "cell_type": "code",
   "execution_count": null,
   "metadata": {},
   "outputs": [],
   "source": [
    "file_properties_df[file_properties_df.site_id==\"\"]"
   ]
  },
  {
   "cell_type": "code",
   "execution_count": null,
   "metadata": {},
   "outputs": [],
   "source": [
    "file_properties_df2[file_properties_df2.site_id==\"\"]"
   ]
  }
 ],
 "metadata": {
  "kernelspec": {
   "display_name": "speechEnv",
   "language": "python",
   "name": "speechenv"
  },
  "language_info": {
   "codemirror_mode": {
    "name": "ipython",
    "version": 3
   },
   "file_extension": ".py",
   "mimetype": "text/x-python",
   "name": "python",
   "nbconvert_exporter": "python",
   "pygments_lexer": "ipython3",
   "version": "3.7.2"
  }
 },
 "nbformat": 4,
 "nbformat_minor": 2
}
