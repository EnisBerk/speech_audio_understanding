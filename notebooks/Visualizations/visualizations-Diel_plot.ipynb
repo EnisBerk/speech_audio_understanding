{
 "cells": [
  {
   "cell_type": "code",
   "execution_count": 1,
   "metadata": {},
   "outputs": [
    {
     "name": "stdout",
     "output_type": "stream",
     "text": [
      "/home/enis/projects/nna/src\n"
     ]
    }
   ],
   "source": [
    "import os\n",
    "import sys\n",
    "\n",
    "module_path = os.path.abspath(os.path.join('../../src'))\n",
    "print(module_path)\n",
    "if module_path not in sys.path:\n",
    "    sys.path.append(module_path)"
   ]
  },
  {
   "cell_type": "code",
   "execution_count": 31,
   "metadata": {},
   "outputs": [],
   "source": [
    "import numpy as np \n",
    "from numpy import linspace\n",
    "import pandas as pd\n",
    "\n",
    "\n",
    "from datetime import datetime,timedelta\n",
    "from pathlib import Path\n",
    "\n",
    "# from scipy import stats\n",
    "# import time\n",
    "# import copy\n",
    "\n",
    "# import csv \n",
    "# from os import listdir\n",
    "# import pickle\n",
    "\n",
    "# from tabulate import tabulate\n",
    "\n",
    "\n",
    "# import math\n",
    "\n",
    "# import itertools\n",
    "\n",
    "# from pytz import timezone\n",
    "\n",
    "\n"
   ]
  },
  {
   "cell_type": "code",
   "execution_count": 6,
   "metadata": {},
   "outputs": [],
   "source": [
    "from pre_process_func import read_queue\n",
    "from fileUtils import read_file_properties\n",
    "from labeling_utils import load_labels\n"
   ]
  },
  {
   "cell_type": "code",
   "execution_count": 7,
   "metadata": {},
   "outputs": [],
   "source": [
    "flder=\"/home/enis/projects/nna/data/\"\n",
    "\n",
    "files_list_path=flder+\"mp3files.txt\"\n",
    "fileswlen_path = flder+\"mp3files_wlen.txt\"\n",
    "\n",
    "# files_list_path=flder+\"flacfiles.txt\"\n",
    "# fileswlen_path = flder+\"flacfiles_wlen.txt\"\n",
    "\n",
    "coordinates_fpath= flder + \"NNA_recording_devices.csv\""
   ]
  },
  {
   "cell_type": "code",
   "execution_count": 9,
   "metadata": {},
   "outputs": [],
   "source": [
    "file_properties_df=pd.read_pickle(\"../../data/stinchcomb_dataV1.pkl\")\n"
   ]
  },
  {
   "cell_type": "code",
   "execution_count": 10,
   "metadata": {},
   "outputs": [],
   "source": [
    "id2name={}\n",
    "id2name['09-USGS']=\"USGS\"\n",
    "id2name['19-Itkillik2']=\"Itkilik 2\"\n",
    "id2name['01-Itkillik']=\"Itkilik 1\"\n",
    "id2name['02-Colville2']=\"Colville 2\"\n",
    "id2name['03-OceanPt']=\"Ocean Pt\"\n",
    "id2name['04-Colville4']=\"Colville 4\"\n",
    "id2name['05-Colville5']=\"Colville 5\"\n",
    "\n",
    "\n"
   ]
  },
  {
   "cell_type": "code",
   "execution_count": 13,
   "metadata": {},
   "outputs": [],
   "source": [
    "tag_set=[\"Songbird\",\"Water Bird\",\"Insect\",\"Running Water\",\"Rain\",\"Cable\",\"Wind\",\"Aircraft\"]\n"
   ]
  },
  {
   "cell_type": "code",
   "execution_count": null,
   "metadata": {},
   "outputs": [],
   "source": []
  },
  {
   "cell_type": "code",
   "execution_count": 17,
   "metadata": {},
   "outputs": [],
   "source": [
    "# possible places to pick\n",
    "# sorted(pd.unique(file_properties_df.site_id.values))\n",
    "selected_areas=['05-Colville5',\n",
    "'19-Itkillik2',\n",
    "'04-Colville4',\n",
    "# '20-Umiat', # old data\n",
    "'03-OceanPt',\n",
    "'02-Colville2',\n",
    "'01-Itkillik',\n",
    "'09-USGS']\n",
    "\n",
    "\n",
    "# selected_areas=[\"15\",\"21\",\"22\",\"27\",\"31\",\"35\",\"37\",\"48\",]\n",
    "\n",
    "#important to keep them in order\n",
    "file_properties_df.sort_values(by=['timestamp'],inplace=True)\n",
    "\n",
    "# delete older than 2016\n",
    "fromtime=datetime(2016, 1, 1, 0)\n",
    "file_properties_df=file_properties_df[file_properties_df.timestamp>=fromtime]\n"
   ]
  },
  {
   "cell_type": "code",
   "execution_count": 18,
   "metadata": {},
   "outputs": [],
   "source": [
    "model_tag_names=[\"Neural Net_Songbird\",\n",
    "\"Neural Net_Water Bird\",\n",
    "\"Neural Net_Insect\",\n",
    "\"Neural Net_Running Water\",\n",
    "\"Neural Net_Rain\",\n",
    "\"Neural Net_Cable\",\n",
    "\"Neural Net_Wind\",\n",
    "\"Neural Net_Aircraft\",]\n",
    "\n",
    "# inference_file=\"/home/enis/projects/nna/notebooks/Visualizations/Neural Net_Insect_tags_on_real_Dec:6.npy\"\n",
    "inference_file=\"/home/enis/projects/nna/notebooks/Visualizations/8tags_on_8sites_pathV2.npy\"\n",
    "gathered_results_perTag=np.load(inference_file,allow_pickle=True)[()]\n",
    "\n"
   ]
  },
  {
   "cell_type": "code",
   "execution_count": 19,
   "metadata": {},
   "outputs": [],
   "source": [
    "# inference_file=\"/home/enis/projects/nna/notebooks/Visualizations/Neural Net_Insect_tags_on_real_Dec:6.npy\"\n",
    "inference_file=\"/home/enis/projects/nna/notebooks/Visualizations/8tags_on_8sites.npy\"\n",
    "gathered_results_perTag=np.load(inference_file,allow_pickle=True)[()]\n",
    "\n"
   ]
  },
  {
   "cell_type": "code",
   "execution_count": 23,
   "metadata": {},
   "outputs": [],
   "source": [
    "# PARAMS\n",
    "# FREQS to reduce results \n",
    "# freq=\"2H\"\n",
    "# minutely freq\n",
    "freq=\"T\"\n",
    "\n",
    "selected_tag_name=model_tag_names[0]"
   ]
  },
  {
   "cell_type": "code",
   "execution_count": 42,
   "metadata": {},
   "outputs": [
    {
     "data": {
      "text/plain": [
       "0"
      ]
     },
     "execution_count": 42,
     "metadata": {},
     "output_type": "execute_result"
    }
   ],
   "source": [
    "area_filtered2=file_properties_df[file_properties_df.site_id==\"asd\"]\n",
    "area_filtered2.size"
   ]
  },
  {
   "cell_type": "code",
   "execution_count": 44,
   "metadata": {},
   "outputs": [],
   "source": [
    "times=[]\n",
    "# FIND earliest and latest time for time scale\n",
    "# lists in selected_areas_dict is ordered by time\n",
    "for i,area in enumerate(selected_areas):\n",
    "    # get timestamp values from file_properties\n",
    "    area_filtered=file_properties_df[file_properties_df.site_id==area]\n",
    "    if area_filtered.size>0:\n",
    "        start=area_filtered.iloc[0][\"timestamp\"]\n",
    "        end=area_filtered.iloc[-1][\"timestamp\"]\n",
    "\n",
    "        times.extend([start,end])\n",
    "    else:\n",
    "        print(\"{}, do not have any files\".format(area))\n",
    "\n",
    "times.sort()\n",
    "all_start=times[0].replace(hour=0,minute=0,second=0)\n",
    "all_end=times[-1].replace(hour=23,minute=59,second=59)\n",
    "\n",
    "\n",
    "def days_hours_minutes(td):\n",
    "    return td.days, td.seconds//3600, (td.seconds//60)%60\n",
    "\n",
    "#create date axis indexes depending on start,end along with frequency\n",
    "if \"H\" in freq:\n",
    "    number_hours=3600\n",
    "    count=int(freq[:-1])\n",
    "    extra=math.ceil(3/count)\n",
    "    globalindex = pd.date_range(all_start, periods=((all_end-all_start).total_seconds()//(number_hours*count)+48), freq=freq)\n",
    "elif \"D\" in freq:\n",
    "    globalindex = pd.date_range(all_start, periods=(all_end-all_start).days+3, freq=freq)\n",
    "elif \"T\" in freq:\n",
    "    globalindex = pd.date_range(all_start,all_end, freq=freq)\n",
    "\n",
    "globalcolumns=model_tag_names#selected_areas+weather_cols\n",
    "\n"
   ]
  },
  {
   "cell_type": "code",
   "execution_count": 27,
   "metadata": {},
   "outputs": [
    {
     "name": "stdout",
     "output_type": "stream",
     "text": [
      " Duration of selected data period: 86 days\n",
      " Starts: 2016-08-27 23:59:59 \n",
      " Ends:   2016-06-02 00:00:00\n"
     ]
    }
   ],
   "source": [
    "print(\" Duration of selected data period:\",(all_end-all_start).days,\"days\")\n",
    "print(\" Starts: {} \\n Ends:   {}\".format(all_end,all_start))"
   ]
  },
  {
   "cell_type": "code",
   "execution_count": 32,
   "metadata": {},
   "outputs": [
    {
     "name": "stdout",
     "output_type": "stream",
     "text": [
      "1832 number of files do not have results\n"
     ]
    }
   ],
   "source": [
    "df_dict={key: None for (key) in selected_areas}\n",
    "no_result_paths=[]\n",
    "# gathered_results=gathered_results_perTag[model_tag_name+tag_name]\n",
    "# all    pd.unique(file_properties_df.site_id )\n",
    "\n",
    "for i,area in enumerate(selected_areas):\n",
    "    df_sums = pd.DataFrame(index=globalindex, columns=globalcolumns).fillna(0)\n",
    "    df_count = pd.DataFrame(index=globalindex, columns=globalcolumns).fillna(0)\n",
    "    \n",
    "    for tag_name in model_tag_names:\n",
    "#         for afile in selected_areas_dict[area]:\n",
    "        area_filtered=file_properties_df[file_properties_df.site_id==area]\n",
    "        for afile in area_filtered.index:\n",
    "    #         data=gathered_results[afile][0]\n",
    "            afile=Path(afile)\n",
    "            data=gathered_results_perTag[tag_name].get(afile,[])[:]\n",
    "            if type(data)==list:\n",
    "#                 print(afile)\n",
    "                no_result_paths.append(afile)\n",
    "                pass\n",
    "\n",
    "            start=file_properties_df.loc[afile][\"timestamp\"]\n",
    "\n",
    "            index = pd.date_range(start,start+timedelta(seconds=(10*(len(data)-1))), freq=\"10S\")\n",
    "\n",
    "            df_afile=pd.DataFrame(data,index=index,columns=[tag_name])\n",
    "\n",
    "            df_afile_grouped = df_afile.groupby([pd.Grouper(freq=freq)])\n",
    "            counts=df_afile_grouped.count()\n",
    "            sums=df_afile_grouped.sum()\n",
    "            df_count.update(counts)\n",
    "            df_sums.update(sums)\n",
    "    \n",
    "    df_dict[area]=(df_count.copy(),df_sums.copy())\n",
    "\n",
    "\n",
    "print(\"{} number of files do not have results\".format(len(no_result_paths)))\n",
    "\n"
   ]
  },
  {
   "cell_type": "code",
   "execution_count": 153,
   "metadata": {},
   "outputs": [],
   "source": [
    "df_sums_max=df_sums.idxmax(axis=1)\n",
    "\n",
    "mapping = dict(zip(model_tag_names,range(0,len(model_tag_names))))\n",
    "\n",
    "df_sums_max=df_sums_max.replace(mapping)"
   ]
  },
  {
   "cell_type": "code",
   "execution_count": 162,
   "metadata": {},
   "outputs": [
    {
     "data": {
      "text/plain": [
       "<pandas.core.groupby.generic.SeriesGroupBy object at 0x7f189e0f0208>"
      ]
     },
     "execution_count": 162,
     "metadata": {},
     "output_type": "execute_result"
    }
   ],
   "source": [
    "df_sums_max.groupby([pd.Grouper(freq=\"24H\")])"
   ]
  },
  {
   "cell_type": "code",
   "execution_count": 176,
   "metadata": {},
   "outputs": [],
   "source": [
    "df_sums_max_np=df_sums_max.values.reshape(-1,1440)"
   ]
  },
  {
   "cell_type": "code",
   "execution_count": null,
   "metadata": {},
   "outputs": [],
   "source": []
  },
  {
   "cell_type": "code",
   "execution_count": 213,
   "metadata": {},
   "outputs": [
    {
     "data": {
      "image/png": "[encoded data removed]",
      "text/plain": [
       "<Figure size 1440x432 with 2 Axes>"
      ]
     },
     "metadata": {
      "needs_background": "light"
     },
     "output_type": "display_data"
    }
   ],
   "source": [
    "# Z = np.random.randint(0,7,(10,1440))\n",
    "Z = df_sums_max_np[:]\n",
    "# fig, (ax0, ax1) = plt.subplots(2, 1)\n",
    "fig, (ax0) = plt.subplots(figsize=(20,6),nrows=1)\n",
    "\n",
    "c = ax0.pcolormesh(Z,cmap=plt.get_cmap(\"tab10\"))\n",
    "ax0.set_title('diel plot, X:minutes, Y:days',fontsize=28)\n",
    "\n",
    "# c = ax1.pcolor(Z, edgecolors='k', linewidths=4)\n",
    "# ax1.set_title('thick edges')\n",
    "cbar=fig.colorbar(c);\n",
    "cbar.set_ticks([i for i in range(7)])\n",
    "cbar.set_ticklabels([model_tag_names[i][11:] for i in range(7)])\n",
    "\n",
    "cbar.ax.tick_params(labelsize=20)\n",
    "ax0.tick_params(labelsize=22,which=\"minor\")\n",
    "ax0.tick_params(labelsize=25,which=\"major\")\n",
    "\n",
    "fig.tight_layout()\n",
    "# plt.show()\n",
    "fig.savefig(\"diel_plot_v1\"+'.png')\n",
    "\n"
   ]
  }
 ],
 "metadata": {
  "kernelspec": {
   "display_name": "speechEnv",
   "language": "python",
   "name": "speechenv"
  },
  "language_info": {
   "codemirror_mode": {
    "name": "ipython",
    "version": 3
   },
   "file_extension": ".py",
   "mimetype": "text/x-python",
   "name": "python",
   "nbconvert_exporter": "python",
   "pygments_lexer": "ipython3",
   "version": "3.7.2"
  }
 },
 "nbformat": 4,
 "nbformat_minor": 2
}
