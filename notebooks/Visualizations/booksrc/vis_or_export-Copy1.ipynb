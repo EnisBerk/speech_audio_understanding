{
 "cells": [
  {
   "cell_type": "code",
   "execution_count": 14,
   "metadata": {},
   "outputs": [
    {
     "data": {
      "text/plain": [
       "'This was initially designed for visuallizations but then used for exporting data.\\n\\nTODO:\\n    Turn it into a cli_script for exporting csv and visuals.\\n\\n\\n'"
      ]
     },
     "execution_count": 14,
     "metadata": {},
     "output_type": "execute_result"
    }
   ],
   "source": [
    "\"\"\"This was initially designed for visuallizations but then used for exporting data.\n",
    "\n",
    "TODO:\n",
    "    Turn it into a cli_script for exporting csv and visuals.\n",
    "\n",
    "\n",
    "\"\"\""
   ]
  },
  {
   "cell_type": "code",
   "execution_count": 15,
   "metadata": {},
   "outputs": [],
   "source": [
    "import pandas as pd\n",
    "import datetime\n",
    "import matplotlib.pylab as pl\n",
    "from nna import visutils\n",
    "import numpy as np\n",
    "from pathlib import Path\n",
    "\n",
    "linestyle_str = [\n",
    "    (\"solid\", \"solid\"),  # Same as (0, ()) or '-'\n",
    "    (\"dotted\", \"dotted\"),  # Same as (0, (1, 1)) or '.'\n",
    "    (\"dashed\", \"dashed\"),  # Same as '--'\n",
    "    (\"dashdot\", \"dashdot\"),  # Same as '-.\n",
    "    (\"densely dotted\", (0, (1, 1))),\n",
    "    (\"densely dashed\", (0, (5, 1))),\n",
    "    (\"densely dashdotted\", (0, (3, 1, 1, 1))),\n",
    "    (\"densely dashdotdotted\", (0, (3, 1, 1, 1, 1, 1)))\n",
    "]\n",
    "\n",
    "data_folder = \"/home/enis/projects/nna/data/\"\n",
    "results_folder = \"/home/enis/projects/nna/results/\"\n",
    "\n",
    "id2name = {}\n",
    "id2name['_V1-1-1-10'] = \"duck-goose-swan\"\n",
    "id2name['_V1-1-1-7'] = \"songbirds\"\n",
    "\n",
    "id2name['1-1-10'] = \"duck-goose-swan\"\n",
    "id2name['1-1-7'] = \"songbirds\"\n",
    "\n",
    "# file_properties_df=pd.read_pickle(\"../../data/stinchcomb_dataV1.pkl\")\n",
    "# file_properties_df = pd.read_pickle(\n",
    "#     \"/home/enis/projects/nna/data/prudhoeAndAnwr4photoExp_dataV1.pkl\")\n",
    "\n",
    "# file_properties_df=pd.read_pickle(\"/home/enis/projects/nna/data/realdata_v2No_stinchcomb.pkl\")\n",
    "file_properties_df=pd.read_pickle(\"/home/enis/projects/nna/data/realdata_v2No_stinchcomb.pkl\")\n",
    "\n",
    "#important to keep them in order\n",
    "file_properties_df.sort_values(by=[\"timestamp\"], inplace=True)\n",
    "\n",
    "\n",
    "# delete older than 2016\n",
    "fromtime = datetime.datetime(2016, 1, 1, 0)\n",
    "file_properties_df = file_properties_df[\n",
    "    file_properties_df.timestamp >= fromtime]\n",
    "all_regions = sorted(pd.unique(file_properties_df.region.values))\n",
    "all_location = sorted(pd.unique(file_properties_df.locationId.values))\n",
    "\n",
    "\n",
    "# In[9]:\n",
    "\n",
    "# import pandas as pd\n",
    "# file_properties_df=pd.read_pickle(\"../../data/stinchcomb_dataV1.pkl\")\n",
    "# file_properties_df2=pd.read_pickle(\"../../data/realdata_v2No_stinchcomb.pkl\")\n",
    "\n",
    "# PARAMS\n",
    "# FREQS to reduce results\n",
    "input_data_freq=\"10S\"\n",
    "# freq=\"30min\"\n",
    "# freq=\"2H\"\n",
    "output_data_freq = \"270min\"\n",
    "# freq=\"135min\"\n",
    "# freq=\"continous\"\n",
    "\n",
    "# possible places to pick\n",
    "# sorted(pd.unique(file_properties_df.site_id.values))\n",
    "# areas to be visualized\n",
    "\n",
    "# globalindex,all_start,all_end=createTimeIndex(selected_areas,file_properties_df,freq)\n",
    "\n",
    "# selected_tag_name=\"_SONGBIRD\"\n",
    "\n",
    "# weather_cols=[]\n",
    "# vis_file_path = \"/home/enis/projects/nna/results/vis/testtestV4/\"\n",
    "vis_file_path = \"/home/enis/projects/nna/results/vis/taxo_v1/\"\n",
    "\n",
    "\n",
    "result_path = \"/scratch/enis/data/nna/real/\"\n",
    "tag_names = [\n",
    "    'V1-1-1-10','V1-1-1-7'\n",
    "]\n",
    "\n",
    "# model_tag_names = [\"_\"+i for i in model_tag_names]\n",
    "\n",
    "clipping_results_path= \"/home/enis/projects/nna/src/scripts/clipping_output/\"\n"
   ]
  },
  {
   "cell_type": "code",
   "execution_count": null,
   "metadata": {},
   "outputs": [],
   "source": []
  },
  {
   "cell_type": "code",
   "execution_count": null,
   "metadata": {},
   "outputs": [],
   "source": []
  },
  {
   "cell_type": "code",
   "execution_count": 16,
   "metadata": {},
   "outputs": [],
   "source": [
    "region_location = tuple(sorted(set(zip(file_properties_df.region.values,file_properties_df.locationId.values))))"
   ]
  },
  {
   "cell_type": "code",
   "execution_count": null,
   "metadata": {},
   "outputs": [],
   "source": []
  },
  {
   "cell_type": "code",
   "execution_count": 17,
   "metadata": {},
   "outputs": [],
   "source": [
    "cmap = pl.cm.tab10\n",
    "aCmap = cmap\n",
    "my_cmaps = visutils.add_normal_dist_alpha(aCmap)"
   ]
  },
  {
   "cell_type": "code",
   "execution_count": 18,
   "metadata": {},
   "outputs": [],
   "source": [
    "# from pathlib import Path\n",
    "# rowPath=\"/tank/data/nna/real/\"\n",
    "# row=file_properties_df.loc[Path(\"/tank/data/nna/real/prudhoe/12/2019/S4A10268_20190506_000000.flac\")]"
   ]
  },
  {
   "cell_type": "code",
   "execution_count": 19,
   "metadata": {},
   "outputs": [],
   "source": [
    "# from nna import fileUtils\n",
    "# fileUtils.standard_path_style(rowPath,row,\"_s\")"
   ]
  },
  {
   "cell_type": "code",
   "execution_count": 20,
   "metadata": {},
   "outputs": [
    {
     "data": {
      "text/plain": [
       "(('anwr', '31'),)"
      ]
     },
     "execution_count": 20,
     "metadata": {},
     "output_type": "execute_result"
    }
   ],
   "source": [
    "region_location[0:1]"
   ]
  },
  {
   "cell_type": "code",
   "execution_count": 21,
   "metadata": {},
   "outputs": [
    {
     "name": "stdout",
     "output_type": "stream",
     "text": [
      "anwr 0 location_id 31\n"
     ]
    },
    {
     "name": "stderr",
     "output_type": "stream",
     "text": [
      "/scratch/enis/conda/envs/speechEnv/lib/python3.7/site-packages/matplotlib/colors.py:527: RuntimeWarning: invalid value encountered in less\n",
      "  xa[xa < 0] = -1\n"
     ]
    }
   ],
   "source": [
    "from pathlib import Path\n",
    "clipping_results_path=Path(clipping_results_path)\n",
    "\n",
    "for region,location_id in region_location[0:1]:\n",
    "    print(region, all_regions.index(region),\"location_id\",location_id)\n",
    "    file_prop_df_filtered = file_properties_df[file_properties_df.region ==\n",
    "                                           region]\n",
    "    file_prop_df_filtered = file_properties_df[file_properties_df.locationId\n",
    "                                           == location_id]\n",
    "    no_result_paths=visutils.vis_preds_with_clipping(region,\n",
    "                                                     location_id,\n",
    "                                                     file_prop_df_filtered,\n",
    "                                                     input_data_freq,\n",
    "                                                     output_data_freq,\n",
    "                                                     tag_names,\n",
    "                                                     my_cmaps,\n",
    "                                                     result_path,\n",
    "                                                     clipping_results_path,\n",
    "                                                     vis_file_path,\n",
    "                                                     id2name,\n",
    "                                                     clipping_threshold=1.0)\n"
   ]
  },
  {
   "cell_type": "code",
   "execution_count": 8,
   "metadata": {},
   "outputs": [],
   "source": [
    "# !ls /home/enis/projects/nna/results/ExternalProject/Todd-Megan/"
   ]
  },
  {
   "cell_type": "code",
   "execution_count": 9,
   "metadata": {},
   "outputs": [],
   "source": [
    "# !mkdir /home/enis/projects/nna/results/ExternalProject/megan/"
   ]
  },
  {
   "cell_type": "code",
   "execution_count": 10,
   "metadata": {},
   "outputs": [],
   "source": [
    "output_folder_path=\"/home/enis/projects/nna/results/ExternalProject/megan/export_raw_v7\"\n",
    "merge_folder=\"/home/enis/projects/nna/results/ExternalProject/megan/merge_folder_v7\""
   ]
  },
  {
   "cell_type": "code",
   "execution_count": 11,
   "metadata": {},
   "outputs": [],
   "source": [
    "# region_location\n"
   ]
  },
  {
   "cell_type": "code",
   "execution_count": 12,
   "metadata": {},
   "outputs": [],
   "source": [
    "region_location=(region_location[10],)+region_location[:10]+region_location[11:]"
   ]
  },
  {
   "cell_type": "code",
   "execution_count": 13,
   "metadata": {
    "tags": []
   },
   "outputs": [
    {
     "name": "stdout",
     "output_type": "stream",
     "text": [
      "anwr 41\n",
      "/tank/data/nna/real/anwr/41/2019/S4A10273_20190705_105723.flac site_id                                 41\n",
      "locationId                              41\n",
      "site_name                                 \n",
      "recorderId                        S4A10273\n",
      "hour_min_sec                        105723\n",
      "year                                  2019\n",
      "month                                   07\n",
      "day                                     05\n",
      "region                                anwr\n",
      "timestamp              2019-07-05 10:57:23\n",
      "durationSec                        7.39733\n",
      "timestampEnd    2019-07-05 10:57:30.397333\n",
      "Name: /tank/data/nna/real/anwr/41/2019/S4A10273_20190705_105723.flac, dtype: object (0, 1280) 10S CABLE\n",
      "/tank/data/nna/real/anwr/41/2019/S4A10273_20190705_105723.flac site_id                                 41\n",
      "locationId                              41\n",
      "site_name                                 \n",
      "recorderId                        S4A10273\n",
      "hour_min_sec                        105723\n",
      "year                                  2019\n",
      "month                                   07\n",
      "day                                     05\n",
      "region                                anwr\n",
      "timestamp              2019-07-05 10:57:23\n",
      "durationSec                        7.39733\n",
      "timestampEnd    2019-07-05 10:57:30.397333\n",
      "Name: /tank/data/nna/real/anwr/41/2019/S4A10273_20190705_105723.flac, dtype: object (0, 1280) 10S RUNNINGWATER\n",
      "/tank/data/nna/real/anwr/41/2019/S4A10273_20190705_105723.flac site_id                                 41\n",
      "locationId                              41\n",
      "site_name                                 \n",
      "recorderId                        S4A10273\n",
      "hour_min_sec                        105723\n",
      "year                                  2019\n",
      "month                                   07\n",
      "day                                     05\n",
      "region                                anwr\n",
      "timestamp              2019-07-05 10:57:23\n",
      "durationSec                        7.39733\n",
      "timestampEnd    2019-07-05 10:57:30.397333\n",
      "Name: /tank/data/nna/real/anwr/41/2019/S4A10273_20190705_105723.flac, dtype: object (0, 1280) 10S INSECT\n",
      "/tank/data/nna/real/anwr/41/2019/S4A10273_20190705_105723.flac site_id                                 41\n",
      "locationId                              41\n",
      "site_name                                 \n",
      "recorderId                        S4A10273\n",
      "hour_min_sec                        105723\n",
      "year                                  2019\n",
      "month                                   07\n",
      "day                                     05\n",
      "region                                anwr\n",
      "timestamp              2019-07-05 10:57:23\n",
      "durationSec                        7.39733\n",
      "timestampEnd    2019-07-05 10:57:30.397333\n",
      "Name: /tank/data/nna/real/anwr/41/2019/S4A10273_20190705_105723.flac, dtype: object (0, 1280) 10S RAIN\n",
      "8\n",
      "anwr 31\n",
      "0\n",
      "anwr 32\n",
      "0\n",
      "anwr 33\n",
      "0\n",
      "anwr 34\n",
      "0\n",
      "anwr 35\n",
      "0\n",
      "anwr 36\n",
      "0\n",
      "anwr 37\n",
      "0\n",
      "anwr 38\n",
      "0\n",
      "anwr 39\n",
      "0\n",
      "anwr 40\n",
      "0\n",
      "anwr 42\n",
      "0\n",
      "anwr 43\n",
      "0\n",
      "anwr 44\n",
      "0\n",
      "anwr 45\n",
      "0\n",
      "anwr 46\n",
      "0\n",
      "anwr 47\n",
      "0\n",
      "anwr 48\n",
      "0\n",
      "anwr 49\n",
      "0\n",
      "anwr 50\n",
      "0\n",
      "prudhoe 11\n",
      "0\n",
      "prudhoe 12\n",
      "0\n",
      "prudhoe 13\n",
      "0\n",
      "prudhoe 14\n",
      "0\n",
      "prudhoe 15\n",
      "0\n",
      "prudhoe 16\n",
      "0\n",
      "prudhoe 17\n",
      "0\n",
      "prudhoe 18\n",
      "0\n",
      "prudhoe 19\n",
      "0\n",
      "prudhoe 20\n",
      "0\n",
      "prudhoe 21\n",
      "0\n",
      "prudhoe 22\n",
      "0\n",
      "prudhoe 23\n",
      "0\n",
      "prudhoe 24\n",
      "0\n",
      "prudhoe 25\n",
      "0\n",
      "prudhoe 26\n",
      "8\n",
      "prudhoe 27\n",
      "0\n",
      "prudhoe 28\n",
      "0\n",
      "prudhoe 29\n",
      "0\n",
      "prudhoe 30\n",
      "0\n"
     ]
    }
   ],
   "source": [
    "for region,location_id in region_location:\n",
    "    print(region,location_id)\n",
    "    file_prop_df_filtered = file_properties_df[file_properties_df.region ==\n",
    "                                           region]\n",
    "    file_prop_df_filtered = file_properties_df[file_properties_df.locationId\n",
    "                                           == location_id]\n",
    "    csv_files_written, no_result_paths= visutils.export_raw_results_2_csv(output_folder_path,\n",
    "                                 tag_names,\n",
    "                                 file_prop_df_filtered,\n",
    "                                 input_data_freq=\"10S\",\n",
    "                                 output_data_freq=\"10S\",\n",
    "                                 channel=1,\n",
    "                                 result_files_folder=result_path,\n",
    "                                 prob2binary_flag=False)\n",
    "    print(len(no_result_paths))"
   ]
  },
  {
   "cell_type": "code",
   "execution_count": 20,
   "metadata": {},
   "outputs": [
    {
     "name": "stdout",
     "output_type": "stream",
     "text": [
      "export_raw     export_raw.zip  test111.csv  test113.csv\n",
      "export_raw_v7  last.csv        test112.csv  test114.csv\n"
     ]
    }
   ],
   "source": [
    "!ls "
   ]
  },
  {
   "cell_type": "code",
   "execution_count": 15,
   "metadata": {},
   "outputs": [],
   "source": [
    "# FAulty files\n",
    "# /tank/data/nna/real/anwr/41/2019/S4A10273_20190705_105723.flac"
   ]
  },
  {
   "cell_type": "code",
   "execution_count": 18,
   "metadata": {},
   "outputs": [],
   "source": [
    "# !zip -r export_raw.zip export_raw/\n"
   ]
  },
  {
   "cell_type": "code",
   "execution_count": 16,
   "metadata": {},
   "outputs": [
    {
     "name": "stdout",
     "output_type": "stream",
     "text": [
      "/home/enis/projects/nna/results/ExternalProject/megan\n"
     ]
    }
   ],
   "source": [
    "cd /home/enis/projects/nna/results/ExternalProject/megan/\n"
   ]
  },
  {
   "cell_type": "code",
   "execution_count": 17,
   "metadata": {},
   "outputs": [],
   "source": [
    "merge_folder=\"/home/enis/projects/nna/results/ExternalProject/megan/merge_folder_v7\""
   ]
  },
  {
   "cell_type": "code",
   "execution_count": 25,
   "metadata": {},
   "outputs": [],
   "source": [
    "Path(merge_folder).mkdir(exist_ok=True)"
   ]
  },
  {
   "cell_type": "code",
   "execution_count": 26,
   "metadata": {},
   "outputs": [
    {
     "name": "stdout",
     "output_type": "stream",
     "text": [
      "('anwr', '41')\n",
      "('anwr', '31')\n",
      "('anwr', '32')\n",
      "('anwr', '33')\n",
      "('anwr', '34')\n",
      "('anwr', '35')\n",
      "('anwr', '36')\n",
      "('anwr', '37')\n",
      "('anwr', '38')\n",
      "('anwr', '39')\n",
      "('anwr', '40')\n",
      "('anwr', '42')\n",
      "('anwr', '43')\n",
      "('anwr', '44')\n",
      "('anwr', '45')\n",
      "('anwr', '46')\n",
      "('anwr', '47')\n",
      "('anwr', '48')\n",
      "('anwr', '49')\n",
      "('anwr', '50')\n",
      "('prudhoe', '11')\n",
      "('prudhoe', '12')\n",
      "('prudhoe', '13')\n",
      "('prudhoe', '14')\n",
      "('prudhoe', '15')\n",
      "('prudhoe', '16')\n",
      "('prudhoe', '17')\n",
      "('prudhoe', '18')\n",
      "('prudhoe', '19')\n",
      "('prudhoe', '20')\n",
      "('prudhoe', '21')\n",
      "('prudhoe', '22')\n",
      "('prudhoe', '23')\n",
      "('prudhoe', '24')\n",
      "('prudhoe', '25')\n",
      "('prudhoe', '26')\n",
      "('prudhoe', '27')\n",
      "('prudhoe', '28')\n",
      "('prudhoe', '29')\n",
      "('prudhoe', '30')\n"
     ]
    }
   ],
   "source": [
    "import csv\n",
    "import glob\n",
    "for i in region_location:\n",
    "    # location_csv_files=glob.glob(f\"export_raw_v6/{i[1]}*\")\n",
    "    location_csv_files=glob.glob(f\"{output_folder_path}/{i[1]}*\")\n",
    "    locationCsv_dict={}\n",
    "    timeLines=set()\n",
    "    Lines={}\n",
    "    lineDicts = {}\n",
    "    for csvf in location_csv_files:\n",
    "        with open(csvf,'r') as csvf_handle:\n",
    "            rr=csv.reader(csvf_handle)\n",
    "            lines = list(rr)\n",
    "            headers,lines= lines[0],lines[1:]\n",
    "            # locationCsv_dict[csvf] = (headers[1],lines,)\n",
    "            # timeLine = [i[0] for i in lines]\n",
    "            # valueLine = [i[1] for i in lines]\n",
    "            lineDict = dict(lines)\n",
    "            lineDicts[headers[1]] = lineDict\n",
    "\n",
    "    # for i,n in sorted(list(zip(timeLines,location_csv_files))):\n",
    "    #     print(len(i),n)\n",
    "    # print(\"***END**\")\n",
    "    print(i)\n",
    "#     \"CABLE\", \"RUNNINGWATER\", \"INSECT\", \"RAIN\", \"WATERBIRD\", \"WIND\", \"SONGBIRD\",\n",
    "    # \"AIRCRAFT\"\n",
    "    aa=pd.DataFrame(data=lineDicts,columns=lineDicts.keys())\n",
    "    aa.index.name = \"TIMESTAMP\"\n",
    "    aa.to_csv(f\"{merge_folder}/{'_'.join(i)}.csv\")\n",
    "    del aa\n"
   ]
  },
  {
   "cell_type": "code",
   "execution_count": 39,
   "metadata": {},
   "outputs": [
    {
     "name": "stdout",
     "output_type": "stream",
     "text": [
      "/home/enis/projects/nna/results/ExternalProject/megan\n"
     ]
    }
   ],
   "source": [
    "!pwd"
   ]
  },
  {
   "cell_type": "code",
   "execution_count": 43,
   "metadata": {},
   "outputs": [
    {
     "name": "stdout",
     "output_type": "stream",
     "text": [
      "  adding: merge_folder_v7/ (stored 0%)\n",
      "  adding: merge_folder_v7/prudhoe_29.csv (deflated 92%)\n",
      "  adding: merge_folder_v7/anwr_37.csv (deflated 92%)\n",
      "  adding: merge_folder_v7/anwr_39.csv (deflated 92%)\n",
      "  adding: merge_folder_v7/prudhoe_20.csv (deflated 92%)\n",
      "  adding: merge_folder_v7/anwr_45.csv (deflated 92%)\n",
      "  adding: merge_folder_v7/prudhoe_27.csv (deflated 92%)\n",
      "  adding: merge_folder_v7/anwr_42.csv (deflated 92%)\n",
      "  adding: merge_folder_v7/prudhoe_12.csv (deflated 92%)\n",
      "  adding: merge_folder_v7/prudhoe_15.csv (deflated 92%)\n",
      "  adding: merge_folder_v7/prudhoe_14.csv (deflated 92%)\n",
      "  adding: merge_folder_v7/prudhoe_13.csv (deflated 92%)\n",
      "  adding: merge_folder_v7/prudhoe_26.csv (deflated 93%)\n",
      "  adding: merge_folder_v7/anwr_43.csv (deflated 92%)\n",
      "  adding: merge_folder_v7/anwr_38.csv (deflated 92%)\n",
      "  adding: merge_folder_v7/prudhoe_21.csv (deflated 92%)\n",
      "  adding: merge_folder_v7/anwr_44.csv (deflated 92%)\n",
      "  adding: merge_folder_v7/anwr_36.csv (deflated 92%)\n",
      "  adding: merge_folder_v7/prudhoe_28.csv (deflated 92%)\n",
      "  adding: merge_folder_v7/anwr_31.csv (deflated 92%)\n",
      "  adding: merge_folder_v7/prudhoe_30.csv (deflated 92%)\n",
      "  adding: merge_folder_v7/prudhoe_19.csv (deflated 92%)\n",
      "  adding: merge_folder_v7/prudhoe_17.csv (deflated 92%)\n",
      "  adding: merge_folder_v7/prudhoe_22.csv (deflated 92%)\n",
      "  adding: merge_folder_v7/anwr_47.csv (deflated 92%)\n",
      "  adding: merge_folder_v7/prudhoe_25.csv (deflated 92%)\n",
      "  adding: merge_folder_v7/anwr_40.csv (deflated 92%)\n",
      "  adding: merge_folder_v7/anwr_32.csv (deflated 92%)\n",
      "  adding: merge_folder_v7/anwr_35.csv (deflated 92%)\n",
      "  adding: merge_folder_v7/anwr_49.csv (deflated 92%)\n",
      "  adding: merge_folder_v7/anwr_50.csv (deflated 92%)\n",
      "  adding: merge_folder_v7/anwr_34.csv (deflated 92%)\n",
      "  adding: merge_folder_v7/anwr_48.csv (deflated 92%)\n",
      "  adding: merge_folder_v7/anwr_33.csv (deflated 92%)\n",
      "  adding: merge_folder_v7/prudhoe_24.csv (deflated 92%)\n",
      "  adding: merge_folder_v7/anwr_41.csv (deflated 92%)\n",
      "  adding: merge_folder_v7/prudhoe_23.csv (deflated 92%)\n",
      "  adding: merge_folder_v7/anwr_46.csv (deflated 92%)\n",
      "  adding: merge_folder_v7/prudhoe_16.csv (deflated 92%)\n",
      "  adding: merge_folder_v7/prudhoe_11.csv (deflated 92%)\n",
      "  adding: merge_folder_v7/prudhoe_18.csv (deflated 92%)\n"
     ]
    }
   ],
   "source": [
    "!zip -r /home/enis/projects/nna/results/ExternalProject/megan/csv_version_merged.zip merge_folder_v7/"
   ]
  },
  {
   "cell_type": "code",
   "execution_count": 44,
   "metadata": {},
   "outputs": [],
   "source": [
    "!rclone copy csv_version_merged.zip 1Drive:/Data_sharing/NNA/ExternalProject/megan/\n"
   ]
  },
  {
   "cell_type": "code",
   "execution_count": 42,
   "metadata": {},
   "outputs": [
    {
     "name": "stdout",
     "output_type": "stream",
     "text": [
      "/home/enis/projects/nna/results/ExternalProject/megan\n"
     ]
    }
   ],
   "source": [
    "!pwd"
   ]
  },
  {
   "cell_type": "code",
   "execution_count": null,
   "metadata": {},
   "outputs": [],
   "source": []
  },
  {
   "cell_type": "code",
   "execution_count": null,
   "metadata": {},
   "outputs": [],
   "source": []
  },
  {
   "cell_type": "code",
   "execution_count": null,
   "metadata": {},
   "outputs": [],
   "source": [
    "# !ls -alh /home/enis/projects/nna/src/scripts/clipping_output/"
   ]
  },
  {
   "cell_type": "code",
   "execution_count": 7,
   "metadata": {},
   "outputs": [
    {
     "data": {
      "text/plain": [
       "PosixPath('/tank/data/nna/real/prudhoe/12/2019/S4A10268_20190506_000000.flac')"
      ]
     },
     "execution_count": 7,
     "metadata": {},
     "output_type": "execute_result"
    }
   ],
   "source": [
    "no_result_paths[0]"
   ]
  },
  {
   "cell_type": "code",
   "execution_count": null,
   "metadata": {},
   "outputs": [],
   "source": [
    "!ls /home/enis/projects/nna/results/vis/testtestV3"
   ]
  },
  {
   "cell_type": "code",
   "execution_count": null,
   "metadata": {},
   "outputs": [],
   "source": [
    "def load_clipping_2dict(clippingResultsPath,\n",
    "                        selected_areas,\n",
    "                        selected_tag_name,\n",
    "                        threshold: float = 1.0):\n",
    "    gathered_results_perTag = {selected_tag_name: {}}\n",
    "    gathered_results = {}\n",
    "    selected_areas_files = {}\n",
    "\n",
    "        \n",
    "        gathered_results_perTag[selected_tag_name].update(resultsDict)\n",
    "    return gathered_results_perTag\n"
   ]
  },
  {
   "cell_type": "code",
   "execution_count": 18,
   "metadata": {},
   "outputs": [],
   "source": [
    "from pathlib import Path\n",
    "file_properties_df = pd.read_pickle(\n",
    "    \"../../../data/prudhoeAndAnwr4photoExp_dataV1.pkl\")\n"
   ]
  },
  {
   "cell_type": "code",
   "execution_count": null,
   "metadata": {},
   "outputs": [],
   "source": [
    "import numpy as np\n",
    "clippingResultsPath=\"/home/enis/projects/nna/src/scripts/clipping_output/\"\n",
    "selected_areas = list(range(11,51))\n",
    "clipping_threshold_str = \"1,0\"\n",
    "results={}\n",
    "for i, area in enumerate(selected_areas):\n",
    "    print(i)\n",
    "    fileName = (clippingResultsPath + str(area) +\n",
    "                f\"_{clipping_threshold_str}.pkl\")\n",
    "    resultsDict = np.load(fileName, allow_pickle=True)\n",
    "    resultsDict = resultsDict[()]\n",
    "    results[str(area)]=resultsDict.copy()\n",
    "    \n"
   ]
  },
  {
   "cell_type": "code",
   "execution_count": 68,
   "metadata": {},
   "outputs": [
    {
     "data": {
      "text/plain": [
       "<function nna.fileUtils.save_to_csv(file_name: Union[str, pathlib.Path], lines: List[Sequence]) -> None>"
      ]
     },
     "execution_count": 68,
     "metadata": {},
     "output_type": "execute_result"
    }
   ],
   "source": [
    "import datetime\n",
    "from nna import fileUtils\n"
   ]
  },
  {
   "cell_type": "code",
   "execution_count": 109,
   "metadata": {},
   "outputs": [],
   "source": [
    "for location_id in results.keys():\n",
    "    csv_output=[[\"file_name\",\"timestamp\",\"channel-1\",\"channel-2\"]]\n",
    "\n",
    "    file_names = list(results[location_id].keys())\n",
    "    timestamps=[]\n",
    "    for file_name in file_names:\n",
    "        row=file_properties_df.loc[Path(file_name)]\n",
    "        timestamps.append(row.timestamp)\n",
    "    name_timestamp = list(zip(timestamps,file_names))\n",
    "    name_timestamp.sort()\n",
    "\n",
    "    for timestamp,file_name in name_timestamp:\n",
    "        res_array=results[location_id][file_name]\n",
    "        for i,(c1,c2) in enumerate(res_array):\n",
    "            time_str=((timestamp+datetime.timedelta(seconds=10*i)).strftime(\"%Y-%m-%d_%H:%M:%S\"))\n",
    "            line=[file_name,time_str,f'{c1:.4f}',f'{c2:.4f}']\n",
    "            csv_output.append(line)\n",
    "\n",
    "    fileUtils.save_to_csv(\"./csv_version/\"+location_id+\"_clipping_frequency.csv\",csv_output)\n",
    "\n",
    "    "
   ]
  },
  {
   "cell_type": "code",
   "execution_count": 119,
   "metadata": {},
   "outputs": [],
   "source": [
    "!rm -r /home/enis/projects/nna/notebooks/Visualizations/booksrc/csv_version/.ipynb_checkpoints/ "
   ]
  },
  {
   "cell_type": "code",
   "execution_count": 103,
   "metadata": {},
   "outputs": [],
   "source": [
    "!mkdir csv_version"
   ]
  },
  {
   "cell_type": "code",
   "execution_count": 125,
   "metadata": {},
   "outputs": [
    {
     "name": "stdout",
     "output_type": "stream",
     "text": [
      "  adding: csv_version/ (stored 0%)\n",
      "  adding: csv_version/14_clipping_frequency.csv (deflated 93%)\n",
      "  adding: csv_version/31_clipping_frequency.csv (deflated 94%)\n",
      "  adding: csv_version/48_clipping_frequency.csv (deflated 93%)\n",
      "  adding: csv_version/43_clipping_frequency.csv (deflated 93%)\n",
      "  adding: csv_version/26_clipping_frequency.csv (deflated 92%)\n",
      "  adding: csv_version/27_clipping_frequency.csv (deflated 92%)\n",
      "  adding: csv_version/30_clipping_frequency.csv (deflated 92%)\n",
      "  adding: csv_version/42_clipping_frequency.csv (deflated 93%)\n",
      "  adding: csv_version/49_clipping_frequency.csv (deflated 93%)\n",
      "  adding: csv_version/15_clipping_frequency.csv (deflated 93%)\n",
      "  adding: csv_version/17_clipping_frequency.csv (deflated 93%)\n",
      "  adding: csv_version/25_clipping_frequency.csv (deflated 93%)\n",
      "  adding: csv_version/40_clipping_frequency.csv (deflated 93%)\n",
      "  adding: csv_version/39_clipping_frequency.csv (deflated 93%)\n",
      "  adding: csv_version/32_clipping_frequency.csv (deflated 94%)\n",
      "  adding: csv_version/41_clipping_frequency.csv (deflated 93%)\n",
      "  adding: csv_version/33_clipping_frequency.csv (deflated 93%)\n",
      "  adding: csv_version/38_clipping_frequency.csv (deflated 93%)\n",
      "  adding: csv_version/24_clipping_frequency.csv (deflated 93%)\n",
      "  adding: csv_version/16_clipping_frequency.csv (deflated 92%)\n",
      "  adding: csv_version/20_clipping_frequency.csv (deflated 93%)\n",
      "  adding: csv_version/37_clipping_frequency.csv (deflated 94%)\n",
      "  adding: csv_version/45_clipping_frequency.csv (deflated 93%)\n",
      "  adding: csv_version/19_clipping_frequency.csv (deflated 93%)\n",
      "  adding: csv_version/12_clipping_frequency.csv (deflated 92%)\n",
      "  adding: csv_version/13_clipping_frequency.csv (deflated 93%)\n",
      "  adding: csv_version/18_clipping_frequency.csv (deflated 92%)\n",
      "  adding: csv_version/36_clipping_frequency.csv (deflated 94%)\n",
      "  adding: csv_version/44_clipping_frequency.csv (deflated 93%)\n",
      "  adding: csv_version/21_clipping_frequency.csv (deflated 93%)\n",
      "  adding: csv_version/46_clipping_frequency.csv (deflated 92%)\n",
      "  adding: csv_version/34_clipping_frequency.csv (deflated 93%)\n",
      "  adding: csv_version/23_clipping_frequency.csv (deflated 92%)\n",
      "  adding: csv_version/28_clipping_frequency.csv (deflated 92%)\n",
      "  adding: csv_version/11_clipping_frequency.csv (deflated 93%)\n",
      "  adding: csv_version/50_clipping_frequency.csv (deflated 93%)\n",
      "  adding: csv_version/29_clipping_frequency.csv (deflated 92%)\n",
      "  adding: csv_version/22_clipping_frequency.csv (deflated 92%)\n",
      "  adding: csv_version/47_clipping_frequency.csv (deflated 92%)\n",
      "  adding: csv_version/35_clipping_frequency.csv (deflated 94%)\n"
     ]
    }
   ],
   "source": [
    "!zip -r csv_version3.zip csv_version/"
   ]
  },
  {
   "cell_type": "code",
   "execution_count": 108,
   "metadata": {},
   "outputs": [],
   "source": [
    "# !rm /home/enis/projects/nna/notebooks/Visualizations/booksrc/csv_version/*"
   ]
  },
  {
   "cell_type": "code",
   "execution_count": 110,
   "metadata": {},
   "outputs": [
    {
     "name": "stdout",
     "output_type": "stream",
     "text": [
      "file_name,timestamp,channel-1,channel-2\n",
      "/tank/data/nna/real/prudhoe/11/2019/S4A10276_20190507_000000.flac,2019-05-07_00:00:00,0.0138,0.0044\n",
      "/tank/data/nna/real/prudhoe/11/2019/S4A10276_20190507_000000.flac,2019-05-07_00:00:10,0.0098,0.0027\n",
      "/tank/data/nna/real/prudhoe/11/2019/S4A10276_20190507_000000.flac,2019-05-07_00:00:20,0.0090,0.0062\n",
      "/tank/data/nna/real/prudhoe/11/2019/S4A10276_20190507_000000.flac,2019-05-07_00:00:30,0.0088,0.0000\n",
      "/tank/data/nna/real/prudhoe/11/2019/S4A10276_20190507_000000.flac,2019-05-07_00:00:40,0.0027,0.0016\n",
      "/tank/data/nna/real/prudhoe/11/2019/S4A10276_20190507_000000.flac,2019-05-07_00:00:50,0.0292,0.0080\n",
      "/tank/data/nna/real/prudhoe/11/2019/S4A10276_20190507_000000.flac,2019-05-07_00:01:00,0.0157,0.0038\n",
      "/tank/data/nna/real/prudhoe/11/2019/S4A10276_20190507_000000.flac,2019-05-07_00:01:10,0.0284,0.0143\n",
      "/tank/data/nna/real/prudhoe/11/2019/S4A10276_20190507_000000.flac,2019-05-07_00:01:20,0.0185,0.0012\n"
     ]
    }
   ],
   "source": [
    "# !head /home/enis/projects/nna/notebooks/Visualizations/booksrc/csv_version/11_clipping_frequency.csv "
   ]
  },
  {
   "cell_type": "code",
   "execution_count": 124,
   "metadata": {},
   "outputs": [
    {
     "name": "stdout",
     "output_type": "stream",
     "text": [
      "512\t/home/enis/projects/nna/notebooks/Visualizations/booksrc/job_logs\n",
      "9.5K\t/home/enis/projects/nna/notebooks/Visualizations/booksrc/.ipynb_checkpoints\n",
      "177M\t/home/enis/projects/nna/notebooks/Visualizations/booksrc/csv_version\n",
      "359M\t/home/enis/projects/nna/notebooks/Visualizations/booksrc/\n"
     ]
    }
   ],
   "source": [
    "!du -h /home/enis/projects/nna/notebooks/Visualizations/booksrc/"
   ]
  },
  {
   "cell_type": "code",
   "execution_count": null,
   "metadata": {},
   "outputs": [],
   "source": []
  }
 ],
 "metadata": {
  "kernelspec": {
   "display_name": "speechEnv",
   "language": "python",
   "name": "speechenv"
  },
  "language_info": {
   "codemirror_mode": {
    "name": "ipython",
    "version": 3
   },
   "file_extension": ".py",
   "mimetype": "text/x-python",
   "name": "python",
   "nbconvert_exporter": "python",
   "pygments_lexer": "ipython3",
   "version": "3.7.2"
  }
 },
 "nbformat": 4,
 "nbformat_minor": 4
}
