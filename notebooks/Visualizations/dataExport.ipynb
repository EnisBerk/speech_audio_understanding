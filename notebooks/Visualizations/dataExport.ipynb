{
 "cells": [
  {
   "cell_type": "code",
   "execution_count": 3,
   "metadata": {},
   "outputs": [
    {
     "name": "stdout",
     "output_type": "stream",
     "text": [
      "/home/enis/projects/nna/src\n"
     ]
    }
   ],
   "source": [
    "import os\n",
    "import sys\n",
    "\n",
    "module_path = os.path.abspath(os.path.join('../../src'))\n",
    "print(module_path)\n",
    "if module_path not in sys.path:\n",
    "    sys.path.append(module_path)"
   ]
  },
  {
   "cell_type": "code",
   "execution_count": 4,
   "metadata": {},
   "outputs": [],
   "source": [
    "import numpy as np \n",
    "from numpy import linspace\n",
    "import pandas as pd\n",
    "\n",
    "\n",
    "from datetime import datetime,timedelta\n",
    "from pathlib import Path\n",
    "\n"
   ]
  },
  {
   "cell_type": "code",
   "execution_count": null,
   "metadata": {},
   "outputs": [],
   "source": []
  },
  {
   "cell_type": "code",
   "execution_count": 12,
   "metadata": {},
   "outputs": [],
   "source": [
    "from pre_process_func import read_queue\n",
    "from fileUtils import read_file_properties\n",
    "from labeling_utils import load_labels\n",
    "\n",
    "from visUtils import file2TableDict,createTimeIndex#,get_cycle,reverseTableDict\n",
    "from visUtils import rawFile2Csv\n",
    "\n",
    "from fileUtils import list_files,standardPathStyle\n"
   ]
  },
  {
   "cell_type": "code",
   "execution_count": 6,
   "metadata": {},
   "outputs": [],
   "source": [
    "flder=\"/home/enis/projects/nna/data/\"\n",
    "\n",
    "# files_list_path=flder+\"mp3files.txt\"\n",
    "# fileswlen_path = flder+\"mp3files_wlen.txt\"\n",
    "\n",
    "# files_list_path=flder+\"flacfiles.txt\"\n",
    "# fileswlen_path = flder+\"flacfiles_wlen.txt\"\n",
    "\n",
    "# coordinates_fpath= flder + \"NNA_recording_devices.csv\""
   ]
  },
  {
   "cell_type": "code",
   "execution_count": 7,
   "metadata": {},
   "outputs": [],
   "source": [
    "file_properties_df=pd.read_pickle(\"../../data/stinchcomb_dataV1.pkl\")\n",
    "\n",
    "all_areas=sorted(pd.unique(file_properties_df.site_id.values))"
   ]
  },
  {
   "cell_type": "code",
   "execution_count": null,
   "metadata": {},
   "outputs": [],
   "source": []
  },
  {
   "cell_type": "code",
   "execution_count": 24,
   "metadata": {},
   "outputs": [],
   "source": [
    "# PARAMS\n",
    "# FREQS to reduce results \n",
    "dataFreq=\"10S\"\n",
    "# freq=\"T\"\n",
    "freq=\"10S\"\n",
    "\n",
    "# clipping threshold\n",
    "threshold=0.01  # if x <= then 0\n",
    "\n",
    "# possible places to pick\n",
    "# sorted(pd.unique(file_properties_df.site_id.values))\n",
    "# areas to be visualized\n",
    "\n",
    "# delete older than 2016\n",
    "fromtime=datetime(2016, 1, 1, 0)\n",
    "\n",
    "result_path=\"/scratch/enis/data/nna/real/\"\n",
    "\n",
    "selected_areas=all_areas[:]\n",
    "\n",
    "\n",
    "tag_set=[\"Songbird\",\"Water Bird\",\"Insect\",\"Running Water\",\"Rain\",\"Cable\",\"Wind\",\"Aircraft\"]\n",
    "\n",
    "model_tag_names=[\"CABLE\",\"RUNNINGWATER\",\"INSECT\", \"RAIN\", \"WATERBIRD\", \"WIND\", \"SONGBIRD\", \"AIRCRAFT\"]\n",
    "\n",
    "model_tag_names=[\"_\"+i for i in model_tag_names]\n"
   ]
  },
  {
   "cell_type": "code",
   "execution_count": null,
   "metadata": {},
   "outputs": [],
   "source": []
  },
  {
   "cell_type": "code",
   "execution_count": 25,
   "metadata": {},
   "outputs": [],
   "source": [
    "#important to keep them in order\n",
    "file_properties_df.sort_values(by=['timestamp'],inplace=True)\n",
    "\n",
    "# delete olde r than 2016\n",
    "fromtime=datetime(2016, 1, 1, 0)\n",
    "file_properties_df=file_properties_df[file_properties_df.timestamp>=fromtime]\n"
   ]
  },
  {
   "cell_type": "code",
   "execution_count": 26,
   "metadata": {},
   "outputs": [
    {
     "data": {
      "text/plain": [
       "359"
      ]
     },
     "execution_count": 26,
     "metadata": {},
     "output_type": "execute_result"
    }
   ],
   "source": [
    "len(file_properties_df)"
   ]
  },
  {
   "cell_type": "code",
   "execution_count": null,
   "metadata": {
    "scrolled": true
   },
   "outputs": [
    {
     "name": "stdout",
     "output_type": "stream",
     "text": [
      "16-FishCreek2, do not have any files\n",
      "20-Umiat, do not have any files\n"
     ]
    }
   ],
   "source": [
    "%%time\n",
    "\n",
    "################# Saving 10S directly \n",
    "freq=\"10S\"\n",
    "\n",
    "globalcolumns=model_tag_names#selected_areas+weather_cols\n",
    "\n",
    "globalindex,all_start,all_end=createTimeIndex(selected_areas,file_properties_df,freq)\n",
    "\n",
    "\n",
    "saveCsvPath=Path(\"/home/enis/projects/nna/results/ExternalProject/Todd-Megan/Freq-10S/\")\n",
    "saveCsvPath.mkdir(parents=True,exist_ok=True)\n",
    "\n",
    "csvFilesWritten,no_result_paths=rawFile2Csv(saveCsvPath,selected_areas,model_tag_names,\n",
    "                                            globalindex,globalcolumns,file_properties_df,\n",
    "                                            freq,dataFreq,result_path=result_path,prob2binaryFlag=False)\n"
   ]
  },
  {
   "cell_type": "code",
   "execution_count": 235,
   "metadata": {},
   "outputs": [
    {
     "name": "stdout",
     "output_type": "stream",
     "text": [
      "CPU times: user 2.1 s, sys: 180 ms, total: 2.28 s\n",
      "Wall time: 2.28 s\n"
     ]
    }
   ],
   "source": [
    "%%time\n",
    "\n",
    "################# Saving as grouped by frequency  \n",
    "freq=\"2H\"\n",
    "\n",
    "\n",
    "globalcolumns=model_tag_names#selected_areas+weather_cols\n",
    "\n",
    "globalindex,all_start,all_end=createTimeIndex(selected_areas,file_properties_df,freq)\n",
    "\n",
    "saveCsvPath=Path(\"/home/enis/projects/nna/results/ExternalProject/Todd-Megan/Freq-2H/\")\n",
    "saveCsvPath.mkdir(parents=True,exist_ok=True)\n",
    "\n",
    "df_dict,no_result_paths=file2TableDict(selected_areas,model_tag_names,globalindex,\n",
    "                                       globalcolumns,file_properties_df,freq,dataFreq,\n",
    "                                       result_path=result_path,prob2binaryFlag=False)\n",
    "\n",
    "\n",
    "for key,val in df_dict.items():\n",
    "    print(key)\n",
    "    df_count,df_sums=val\n",
    "    res=(df_sums/df_count).fillna(0.0)\n",
    "    for col in res.columns:\n",
    "        csvFilename=\"_\".join([key,col[1:]+\".csv\"])\n",
    "        res.to_csv(saveCsvPath/csvFilename,columns=[col],float_format='%.2f',index_label=\"TimeStamp\",header=[col[1:]])\n"
   ]
  },
  {
   "cell_type": "code",
   "execution_count": 150,
   "metadata": {},
   "outputs": [],
   "source": []
  },
  {
   "cell_type": "code",
   "execution_count": null,
   "metadata": {},
   "outputs": [],
   "source": []
  },
  {
   "cell_type": "code",
   "execution_count": null,
   "metadata": {},
   "outputs": [],
   "source": []
  },
  {
   "cell_type": "code",
   "execution_count": null,
   "metadata": {},
   "outputs": [],
   "source": []
  },
  {
   "cell_type": "code",
   "execution_count": 369,
   "metadata": {},
   "outputs": [
    {
     "name": "stdout",
     "output_type": "stream",
     "text": [
      "1\n"
     ]
    }
   ],
   "source": []
  }
 ],
 "metadata": {
  "kernelspec": {
   "display_name": "speechEnv",
   "language": "python",
   "name": "speechenv"
  },
  "language_info": {
   "codemirror_mode": {
    "name": "ipython",
    "version": 3
   },
   "file_extension": ".py",
   "mimetype": "text/x-python",
   "name": "python",
   "nbconvert_exporter": "python",
   "pygments_lexer": "ipython3",
   "version": "3.7.2"
  }
 },
 "nbformat": 4,
 "nbformat_minor": 2
}
