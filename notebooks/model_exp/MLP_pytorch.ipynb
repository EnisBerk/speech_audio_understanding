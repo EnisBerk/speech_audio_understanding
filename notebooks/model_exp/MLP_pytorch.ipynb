{
 "cells": [
  {
   "cell_type": "code",
   "execution_count": 1,
   "metadata": {},
   "outputs": [
    {
     "name": "stdout",
     "output_type": "stream",
     "text": [
      "/home/enis/projects/nna/src\n"
     ]
    }
   ],
   "source": [
    "import os\n",
    "import sys\n",
    "\n",
    "module_path = os.path.abspath(os.path.join('../../src'))\n",
    "print(module_path)\n",
    "if module_path not in sys.path:\n",
    "    sys.path.append(module_path)"
   ]
  },
  {
   "cell_type": "code",
   "execution_count": 2,
   "metadata": {},
   "outputs": [],
   "source": [
    "import csv \n",
    "from pathlib import Path\n",
    "from os import listdir\n",
    "import pickle\n",
    "\n",
    "from labeling_utils import load_labels\n",
    "\n",
    "import numpy as np\n",
    "from sklearn.metrics import precision_recall_fscore_support\n",
    "\n",
    "from sklearn.model_selection import train_test_split\n",
    "import pandas as pd\n",
    "\n",
    "tags=[\"Songbird\",\"Water Bird\",\"Insect\",\"Running Water\",\"Rain\",\"Cable\",\"Wind\",\"Aircraft\"]\n",
    "\n",
    "from tabulate import tabulate\n",
    "tag_set=tags[:]\n",
    "import torch\n",
    "\n",
    "%matplotlib inline"
   ]
  },
  {
   "cell_type": "markdown",
   "metadata": {},
   "source": [
    "* Count only highest ranking tag (what if both of them exist)\n",
    "* Bird tag is confusing, it can be also waterbird, how to handle ? Also Animal\n",
    "* "
   ]
  },
  {
   "cell_type": "code",
   "execution_count": 3,
   "metadata": {},
   "outputs": [],
   "source": [
    "#LOAD MODEL predictions\n",
    "splits_path= Path('/files/scratch/enis/data/nna/labeling/splits/')\n",
    "\n"
   ]
  },
  {
   "cell_type": "code",
   "execution_count": 4,
   "metadata": {},
   "outputs": [
    {
     "name": "stdout",
     "output_type": "stream",
     "text": [
      "unique files: 1300 \n",
      "total files 1366\n"
     ]
    }
   ],
   "source": [
    "import csv\n",
    "from os import listdir\n",
    "from pathlib import Path\n",
    "\n",
    "# LOAD LABELS by human\n",
    "labelsbyhumanpath=Path('/scratch/enis/data/nna/labeling/results/')\n",
    "# filter csv extension also by username\n",
    "labelsbyhuman=[i for i in listdir(labelsbyhumanpath) if (\".csv\" in i ) ]\n",
    "\n",
    "humanresults={}\n",
    "counter=0\n",
    "for apath in labelsbyhuman:\n",
    "    with open(labelsbyhumanpath / apath, newline='') as f:\n",
    "        reader=csv.reader(f)\n",
    "        for row in reader:\n",
    "            counter+=1\n",
    "            humanresults[row[0]]=row[1:]\n",
    "\n",
    "print(\"unique files:\",len(humanresults),\"\\ntotal files\",counter)\n",
    "\n",
    "#Join vehicle and Aircraft\n",
    "for file_name,tagshere in humanresults.items():\n",
    "#     print(file_name,tagshere)\n",
    "    \n",
    "    tagshere=[\"Aircraft\" if tag == \"Vehicle\" else tag for tag in tags]"
   ]
  },
  {
   "cell_type": "code",
   "execution_count": 5,
   "metadata": {},
   "outputs": [],
   "source": [
    "# load name of the labels\n",
    "labels=load_labels()"
   ]
  },
  {
   "cell_type": "code",
   "execution_count": 6,
   "metadata": {},
   "outputs": [],
   "source": [
    "# returns a dictionary, keys are tags from tag set and values are binary list \n",
    "# \n",
    "def vectorized_y_true(humanresults,tag_set):\n",
    "    y_true={tag: np.zeros(len(humanresults)) for tag in tag_set}\n",
    "    for i,tags in enumerate(humanresults.values()):\n",
    "        # we  only look for tags in tag_set\n",
    "        for tag in tag_set:\n",
    "            if tag in tags:\n",
    "                y_true[tag][i] = 1\n",
    "            else:\n",
    "                y_true[tag][i] = 0 \n",
    "    return y_true\n",
    "\n"
   ]
  },
  {
   "cell_type": "code",
   "execution_count": 7,
   "metadata": {},
   "outputs": [],
   "source": [
    "y_true_dict = vectorized_y_true(humanresults,tags)\n",
    "y_true_all = pd.DataFrame(y_true_dict)\n",
    "y_true = np.array(y_true_all[\"Songbird\"]).astype(\"long\")\n"
   ]
  },
  {
   "cell_type": "code",
   "execution_count": 8,
   "metadata": {},
   "outputs": [],
   "source": [
    "def map_reduce(X,func_type):\n",
    "    if func_type==\"Average\":\n",
    "        return np.mean(X,axis=1)\n",
    "    elif func_type==\"Concat\":\n",
    "        return np.reshape(X,(-1,1280))\n",
    "    else:\n",
    "        raise Exception(\"ERROR with embed type\")\n",
    "\n",
    "def pick_embed(embed_type):\n",
    "    # humanresults[proc_embeds[0].replace(\"_embed.npy\",\".mp3\")]\n",
    "    X= np.empty((len(humanresults),10,128))\n",
    "    for index,i in enumerate(humanresults):\n",
    "        if embed_type==\"Raw\":\n",
    "            file_name=i.replace(\".mp3\",\"_rawembed.npy\")\n",
    "        elif embed_type==\"Normalized\":\n",
    "            file_name=i.replace(\".mp3\",\"_embed.npy\")\n",
    "        else:\n",
    "            raise Exception(\"ERROR with embed type\")\n",
    "        an_x=np.load(split_path / file_name)\n",
    "#         print(index,an_x)\n",
    "        X[index,:,:]=an_x[:]\n",
    "    return X"
   ]
  },
  {
   "cell_type": "code",
   "execution_count": 9,
   "metadata": {},
   "outputs": [],
   "source": [
    "\n",
    "split_path=Path('/scratch/enis/data/nna/labeling/split_embeddings/')\n",
    "# filter by username\n",
    "split_embeds=[i for i in listdir(split_path) ]\n",
    "raw_embeds =  [i for i in split_embeds if \"rawembed\" in i]\n",
    "proc_embeds = [i for i in split_embeds if \"_embed\" in i]"
   ]
  },
  {
   "cell_type": "code",
   "execution_count": 10,
   "metadata": {},
   "outputs": [],
   "source": [
    "X=pick_embed(\"Raw\")\n",
    "# X=map_reduce(X,map_reduce_type)\n",
    "humanresults_keys=list(humanresults.keys())\n"
   ]
  },
  {
   "cell_type": "code",
   "execution_count": 11,
   "metadata": {},
   "outputs": [],
   "source": [
    "X=X.astype(\"float32\")"
   ]
  },
  {
   "cell_type": "code",
   "execution_count": 12,
   "metadata": {},
   "outputs": [],
   "source": [
    "from sklearn.metrics import average_precision_score\n",
    "from sklearn.metrics import roc_auc_score\n",
    "def cal_metrics(y_true_dict,y_pred_dict):\n",
    "    results={}\n",
    "    for tag in tag_set:\n",
    "        y_true = y_true_dict[tag]\n",
    "        y_pred = y_pred_dict[tag]\n",
    "        metrics=precision_recall_fscore_support(y_true, y_pred,pos_label=1,average=\"binary\")\n",
    "        results[tag]=(metrics)\n",
    "    return results\n",
    "\n",
    "def cal_auc(y_true_dict,y_pred_dict_prob):\n",
    "    results={}\n",
    "    for tag in tag_set:\n",
    "        y_true = y_true_dict[tag]\n",
    "        y_pred = y_pred_dict_prob[tag]\n",
    "        metrics_auc=roc_auc_score(y_true, y_pred) #average_precision_score\n",
    "        results[tag]=(metrics_auc)\n",
    "\n",
    "    return results\n",
    "\n",
    "def print_results(results,y_true_dict,):\n",
    "    headers= [\"Label\",\"Positive\",\"Precision\",\"Recall\",\"Fscore\"]\n",
    "    table=[]\n",
    "    sample_count=len(next(iter(y_true_dict.values())))\n",
    "    print(\"Total sample:\",sample_count,\"And threshold is\",prob_threshold)\n",
    "    for tag in (tag_set):\n",
    "        positive_count=sum(y_true_dict[tag])\n",
    "        table.append([tag,positive_count,*results[tag][:-1]])\n",
    "\n",
    "    print(tabulate(table, headers=headers))\n",
    "\n",
    "    "
   ]
  },
  {
   "cell_type": "code",
   "execution_count": null,
   "metadata": {},
   "outputs": [],
   "source": []
  },
  {
   "cell_type": "code",
   "execution_count": 13,
   "metadata": {},
   "outputs": [],
   "source": [
    "device = torch.device(\"cuda:0\" if torch.cuda.is_available() else \"cpu\")\n",
    "# device=\"cpu\""
   ]
  },
  {
   "cell_type": "code",
   "execution_count": 14,
   "metadata": {},
   "outputs": [],
   "source": [
    "X_mean=X.mean(axis=1)\n"
   ]
  },
  {
   "cell_type": "code",
   "execution_count": 15,
   "metadata": {},
   "outputs": [
    {
     "data": {
      "text/plain": [
       "(1300, 10, 128)"
      ]
     },
     "execution_count": 15,
     "metadata": {},
     "output_type": "execute_result"
    }
   ],
   "source": [
    "X.shape"
   ]
  },
  {
   "cell_type": "code",
   "execution_count": 291,
   "metadata": {},
   "outputs": [],
   "source": [
    "X_train, X_test, y_train, y_test = train_test_split(\n",
    "    X.reshape(X.shape[0],-1), y_true, test_size=0.2, random_state=42)\n",
    "X_train, X_val, y_train, y_val = train_test_split(\n",
    "    X_train, y_train, test_size=0.25, random_state=42)\n",
    "\n",
    "X_train=X_train.reshape(X_train.shape[0],-1,128)\n",
    "X_test=X_test.reshape(X_test.shape[0],-1,128)\n",
    "X_val=X_val.reshape(X_test.shape[0],-1,128)\n"
   ]
  },
  {
   "cell_type": "code",
   "execution_count": 292,
   "metadata": {},
   "outputs": [],
   "source": [
    "# MEAN\n",
    "X_train, X_test, y_train, y_test = train_test_split(\n",
    "    X_mean, y_true, test_size=0.2, random_state=42)\n",
    "X_train, X_val, y_train, y_val = train_test_split(\n",
    "    X_train, y_train, test_size=0.25, random_state=42)\n",
    "\n",
    "# X_train=X_train.reshape(X_train.shape[0],-1,128)\n",
    "# X_test=X_test.reshape(X_test.shape[0],-1,128)\n",
    "# X_val=X_val.reshape(X_test.shape[0],-1,128)\n"
   ]
  },
  {
   "cell_type": "code",
   "execution_count": 547,
   "metadata": {},
   "outputs": [
    {
     "data": {
      "text/plain": [
       "array([1, 1, 1, 1, 1, 1, 1, 1, 1, 1, 2, 2, 2, 2, 2, 2, 2, 2, 2, 2, 3, 3,\n",
       "       3, 3, 3, 3, 3, 3, 3, 3, 4, 4, 4, 4, 4, 4, 4, 4, 4, 4])"
      ]
     },
     "execution_count": 547,
     "metadata": {},
     "output_type": "execute_result"
    }
   ],
   "source": [
    "a=np.concatenate((np.array([1,2,3,4]),np.array([1,2,3,4])))\n",
    "# for i in a:\n",
    "#     np.array()\n"
   ]
  },
  {
   "cell_type": "code",
   "execution_count": 548,
   "metadata": {},
   "outputs": [],
   "source": []
  },
  {
   "cell_type": "code",
   "execution_count": 16,
   "metadata": {},
   "outputs": [],
   "source": [
    "# seperate,  \n",
    "# NEED TO CHANGE AUC calculation PART, to be fair  (do max of 10 predictions)\n",
    "MULTI_SEGMENT = True\n",
    "X_train, X_test, y_train, y_test = train_test_split(\n",
    "    X.reshape(X.shape[0],-1), y_true, test_size=0.2, random_state=42)\n",
    "X_train, X_val, y_train, y_val = train_test_split(\n",
    "    X_train, y_train, test_size=0.25, random_state=42)\n",
    "\n",
    "# use 1 second as  samples\n",
    "X_train=X_train.reshape(-1,128)\n",
    "X_test=X_test.reshape(-1,128)\n",
    "X_val=X_val.reshape(-1,128)\n",
    "\n",
    "# repeat labels\n",
    "y_train=np.repeat(y_train,10)\n",
    "y_test=np.repeat(y_test,10)\n",
    "y_val=np.repeat(y_val,10)\n"
   ]
  },
  {
   "cell_type": "code",
   "execution_count": 17,
   "metadata": {},
   "outputs": [],
   "source": [
    "X_train=torch.from_numpy(X_train).to(device)\n",
    "X_test=torch.from_numpy(X_test).to(device)\n",
    "X_val=torch.from_numpy(X_val).to(device)"
   ]
  },
  {
   "cell_type": "code",
   "execution_count": 18,
   "metadata": {},
   "outputs": [],
   "source": [
    "# birds\n",
    "\n",
    "y_val=torch.from_numpy(y_val).to(device)\n",
    "y_test=torch.from_numpy(y_test).to(device)\n",
    "y_train=torch.from_numpy(y_train).to(device)\n"
   ]
  },
  {
   "cell_type": "code",
   "execution_count": 19,
   "metadata": {},
   "outputs": [],
   "source": [
    "from torch.utils.data import Dataset, DataLoader\n"
   ]
  },
  {
   "cell_type": "code",
   "execution_count": 20,
   "metadata": {},
   "outputs": [],
   "source": [
    "class audioDataset(Dataset):\n",
    "    \"\"\"Face Landmarks dataset.\"\"\"\n",
    "\n",
    "    def __init__(self,X,y, transform=None):\n",
    "        \"\"\"\n",
    "        Args:\n",
    "            csv_file (string): Path to the csv file with annotations.\n",
    "            root_dir (string): Directory with all the images.\n",
    "            transform (callable, optional): Optional transform to be applied\n",
    "                on a sample.\n",
    "        \"\"\"\n",
    "        self.X=X\n",
    "        self.y=y\n",
    "#         self.landmarks_frame = pd.read_csv(csv_file)\n",
    "#         self.root_dir = root_dir\n",
    "        self.transform = transform\n",
    "\n",
    "    def __len__(self):\n",
    "        return self.X.shape[0]\n",
    "\n",
    "    def __getitem__(self, idx):\n",
    "\n",
    "        sample = self.X[idx],self.y[idx]\n",
    "\n",
    "        if self.transform:\n",
    "            sample = self.transform(sample)\n",
    "\n",
    "        return sample"
   ]
  },
  {
   "cell_type": "code",
   "execution_count": null,
   "metadata": {},
   "outputs": [],
   "source": []
  },
  {
   "cell_type": "code",
   "execution_count": 21,
   "metadata": {},
   "outputs": [],
   "source": [
    "params = {'batch_size': 200,\n",
    "          'shuffle': True,\n",
    "          'num_workers': 0}\n",
    "\n",
    "training_set=audioDataset(X_train,y_train)\n",
    "training_generator = DataLoader(training_set, **params)\n"
   ]
  },
  {
   "cell_type": "code",
   "execution_count": null,
   "metadata": {},
   "outputs": [],
   "source": []
  },
  {
   "cell_type": "code",
   "execution_count": 131,
   "metadata": {},
   "outputs": [],
   "source": [
    "import torch.nn as nn\n",
    "import torch.nn.functional as F\n",
    "\n",
    "\n",
    "class Net(nn.Module):\n",
    "    def __init__(self):\n",
    "        super(Net, self).__init__()\n",
    "#         self.conv1 = nn.Conv2d(3, 6, 5)\n",
    "#         self.pool = nn.MaxPool2d(2, 2)\n",
    "#         self.conv2 = nn.Conv2d(6, 16, 5)\n",
    "        self.fc1 = nn.Linear(128, 32)\n",
    "        torch.nn.init.xavier_normal_(self.fc1.weight)\n",
    "\n",
    "        self.fc2 = nn.Linear(32, 32)\n",
    "        self.fc2_bn = nn.BatchNorm1d(32)\n",
    "\n",
    "        self.fc3 = nn.Linear(32,32)\n",
    "        self.fc3_bn = nn.BatchNorm1d(32)\n",
    "\n",
    "        self.fc4 = nn.Linear(32, 2)\n",
    "        torch.nn.init.xavier_normal_(self.fc4.weight)\n",
    "\n",
    "        self.drop = nn.Dropout(p=0.2)\n",
    " \n",
    "    def forward(self, x):\n",
    "#         x = self.pool(F.relu(self.conv1(x)))\n",
    "#         x = self.pool(F.relu(self.conv2(x)))\n",
    "        x = x.view(-1,128)\n",
    "    \n",
    "        x = F.relu(self.fc1(x))\n",
    "        x=self.drop(x)\n",
    "\n",
    "        x = F.relu(self.fc2_bn(x))\n",
    "        x=self.drop(x)\n",
    "        \n",
    "        x = F.relu(self.fc3(x))\n",
    "        x=self.drop(x)\n",
    "#         x = F.relu(self.fc3(x))\n",
    "#         x=self.drop(x)\n",
    "#         x = F.relu(self.fc3(x))\n",
    "#         x=self.drop(x)\n",
    "#         x = F.relu(self.fc3_bn(x))\n",
    "#         x=self.drop(x)\n",
    "\n",
    "        x = self.fc4(x)\n",
    "#         print(x)\n",
    "        x = F.log_softmax(x,dim=1)\n",
    "#         print(x)\n",
    "        return x\n",
    "\n",
    "\n",
    "net = Net().to(device)\n",
    "loss_values={\"test\":[],\"train\":[],\"train_auc\":[],\"test_auc\":[]}\n"
   ]
  },
  {
   "cell_type": "code",
   "execution_count": 132,
   "metadata": {},
   "outputs": [],
   "source": [
    "import torch.optim as optim\n",
    "\n",
    "criterion = nn.CrossEntropyLoss()\n",
    "# criterion = nn.NLLLoss()\n",
    "optimizer = optim.Adam(net.parameters(),weight_decay=0.01)"
   ]
  },
  {
   "cell_type": "code",
   "execution_count": null,
   "metadata": {},
   "outputs": [],
   "source": []
  },
  {
   "cell_type": "code",
   "execution_count": null,
   "metadata": {},
   "outputs": [],
   "source": []
  },
  {
   "cell_type": "code",
   "execution_count": 133,
   "metadata": {
    "scrolled": true
   },
   "outputs": [
    {
     "name": "stdout",
     "output_type": "stream",
     "text": [
      "[0] test : 0.668 train: 0.604  test auc0.678  train auc0.645\n",
      "[20] test : 0.635 train: 0.487  test auc0.832  train auc0.797\n",
      "[40] test : 0.620 train: 0.458  test auc0.836  train auc0.826\n",
      "[60] test : 0.641 train: 0.457  test auc0.835  train auc0.828\n",
      "[80] test : 0.716 train: 0.447  test auc0.802  train auc0.832\n",
      "[100] test : 0.651 train: 0.440  test auc0.853  train auc0.840\n",
      "[120] test : 0.684 train: 0.436  test auc0.828  train auc0.847\n",
      "[140] test : 0.751 train: 0.436  test auc0.825  train auc0.844\n",
      "[160] test : 0.773 train: 0.432  test auc0.804  train auc0.849\n",
      "[180] test : 0.773 train: 0.432  test auc0.788  train auc0.846\n",
      "[200] test : 0.743 train: 0.424  test auc0.824  train auc0.857\n",
      "[220] test : 0.766 train: 0.427  test auc0.824  train auc0.853\n",
      "[240] test : 0.799 train: 0.421  test auc0.811  train auc0.856\n",
      "[260] test : 0.698 train: 0.419  test auc0.814  train auc0.862\n",
      "[280] test : 0.685 train: 0.419  test auc0.811  train auc0.861\n",
      "[300] test : 0.815 train: 0.418  test auc0.798  train auc0.859\n",
      "[320] test : 0.758 train: 0.421  test auc0.804  train auc0.855\n",
      "[340] test : 0.757 train: 0.417  test auc0.846  train auc0.859\n",
      "[360] test : 0.780 train: 0.419  test auc0.798  train auc0.859\n",
      "[380] test : 0.709 train: 0.420  test auc0.823  train auc0.860\n",
      "[400] test : 0.773 train: 0.415  test auc0.817  train auc0.863\n",
      "[420] test : 0.793 train: 0.417  test auc0.824  train auc0.859\n",
      "[440] test : 0.791 train: 0.415  test auc0.787  train auc0.861\n",
      "[460] test : 0.833 train: 0.421  test auc0.804  train auc0.858\n",
      "[480] test : 0.777 train: 0.413  test auc0.808  train auc0.861\n",
      "[500] test : 0.724 train: 0.421  test auc0.856  train auc0.854\n",
      "[520] test : 0.728 train: 0.420  test auc0.827  train auc0.857\n",
      "[540] test : 0.809 train: 0.421  test auc0.824  train auc0.854\n",
      "[560] test : 0.786 train: 0.423  test auc0.828  train auc0.852\n",
      "[580] test : 0.713 train: 0.431  test auc0.792  train auc0.847\n",
      "[600] test : 0.709 train: 0.424  test auc0.838  train auc0.853\n",
      "[620] test : 0.764 train: 0.429  test auc0.814  train auc0.850\n",
      "[640] test : 0.627 train: 0.434  test auc0.828  train auc0.848\n",
      "[660] test : 0.730 train: 0.424  test auc0.813  train auc0.854\n",
      "[680] test : 0.753 train: 0.427  test auc0.816  train auc0.849\n",
      "[700] test : 0.815 train: 0.420  test auc0.810  train auc0.855\n",
      "[720] test : 0.732 train: 0.435  test auc0.809  train auc0.838\n",
      "[740] test : 0.774 train: 0.426  test auc0.807  train auc0.849\n",
      "[760] test : 0.759 train: 0.419  test auc0.824  train auc0.857\n",
      "[780] test : 0.774 train: 0.422  test auc0.830  train auc0.854\n",
      "[800] test : 0.829 train: 0.424  test auc0.798  train auc0.852\n",
      "[820] test : 0.799 train: 0.430  test auc0.799  train auc0.849\n",
      "[840] test : 0.742 train: 0.434  test auc0.798  train auc0.843\n",
      "[860] test : 0.701 train: 0.426  test auc0.788  train auc0.849\n",
      "[880] test : 0.769 train: 0.433  test auc0.785  train auc0.840\n",
      "[900] test : 0.756 train: 0.423  test auc0.811  train auc0.851\n",
      "[920] test : 0.806 train: 0.426  test auc0.803  train auc0.849\n",
      "[940] test : 0.755 train: 0.436  test auc0.793  train auc0.840\n",
      "[960] test : 0.718 train: 0.430  test auc0.828  train auc0.847\n",
      "[980] test : 0.749 train: 0.423  test auc0.802  train auc0.851\n",
      "[1000] test : 0.789 train: 0.423  test auc0.804  train auc0.849\n"
     ]
    },
    {
     "ename": "KeyboardInterrupt",
     "evalue": "",
     "output_type": "error",
     "traceback": [
      "\u001b[0;31m---------------------------------------------------------------------------\u001b[0m",
      "\u001b[0;31mKeyboardInterrupt\u001b[0m                         Traceback (most recent call last)",
      "\u001b[0;32m<ipython-input-133-cbb1163a5263>\u001b[0m in \u001b[0;36m<module>\u001b[0;34m\u001b[0m\n\u001b[1;32m      3\u001b[0m \u001b[0;32mfor\u001b[0m \u001b[0mepoch\u001b[0m \u001b[0;32min\u001b[0m \u001b[0mrange\u001b[0m\u001b[0;34m(\u001b[0m\u001b[0;36m2000\u001b[0m\u001b[0;34m)\u001b[0m\u001b[0;34m:\u001b[0m  \u001b[0;31m# loop over the dataset multiple times\u001b[0m\u001b[0;34m\u001b[0m\u001b[0;34m\u001b[0m\u001b[0m\n\u001b[1;32m      4\u001b[0m     \u001b[0mrunning_loss\u001b[0m \u001b[0;34m=\u001b[0m \u001b[0;36m0.0\u001b[0m\u001b[0;34m\u001b[0m\u001b[0;34m\u001b[0m\u001b[0m\n\u001b[0;32m----> 5\u001b[0;31m     \u001b[0;32mfor\u001b[0m \u001b[0mi\u001b[0m\u001b[0;34m,\u001b[0m \u001b[0mdata\u001b[0m \u001b[0;32min\u001b[0m \u001b[0menumerate\u001b[0m\u001b[0;34m(\u001b[0m\u001b[0mtraining_generator\u001b[0m\u001b[0;34m,\u001b[0m \u001b[0;36m0\u001b[0m\u001b[0;34m)\u001b[0m\u001b[0;34m:\u001b[0m\u001b[0;34m\u001b[0m\u001b[0;34m\u001b[0m\u001b[0m\n\u001b[0m\u001b[1;32m      6\u001b[0m         \u001b[0;31m# get the inputs; data is a list of [inputs, labels]\u001b[0m\u001b[0;34m\u001b[0m\u001b[0;34m\u001b[0m\u001b[0;34m\u001b[0m\u001b[0m\n\u001b[1;32m      7\u001b[0m         \u001b[0minputs\u001b[0m\u001b[0;34m,\u001b[0m \u001b[0mlabels\u001b[0m \u001b[0;34m=\u001b[0m \u001b[0mdata\u001b[0m\u001b[0;34m\u001b[0m\u001b[0;34m\u001b[0m\u001b[0m\n",
      "\u001b[0;32m/scratch/enis/conda/envs/speechEnv/lib/python3.7/site-packages/torch/utils/data/dataloader.py\u001b[0m in \u001b[0;36m__next__\u001b[0;34m(self)\u001b[0m\n\u001b[1;32m    344\u001b[0m     \u001b[0;32mdef\u001b[0m \u001b[0m__next__\u001b[0m\u001b[0;34m(\u001b[0m\u001b[0mself\u001b[0m\u001b[0;34m)\u001b[0m\u001b[0;34m:\u001b[0m\u001b[0;34m\u001b[0m\u001b[0;34m\u001b[0m\u001b[0m\n\u001b[1;32m    345\u001b[0m         \u001b[0mindex\u001b[0m \u001b[0;34m=\u001b[0m \u001b[0mself\u001b[0m\u001b[0;34m.\u001b[0m\u001b[0m_next_index\u001b[0m\u001b[0;34m(\u001b[0m\u001b[0;34m)\u001b[0m  \u001b[0;31m# may raise StopIteration\u001b[0m\u001b[0;34m\u001b[0m\u001b[0;34m\u001b[0m\u001b[0m\n\u001b[0;32m--> 346\u001b[0;31m         \u001b[0mdata\u001b[0m \u001b[0;34m=\u001b[0m \u001b[0mself\u001b[0m\u001b[0;34m.\u001b[0m\u001b[0m_dataset_fetcher\u001b[0m\u001b[0;34m.\u001b[0m\u001b[0mfetch\u001b[0m\u001b[0;34m(\u001b[0m\u001b[0mindex\u001b[0m\u001b[0;34m)\u001b[0m  \u001b[0;31m# may raise StopIteration\u001b[0m\u001b[0;34m\u001b[0m\u001b[0;34m\u001b[0m\u001b[0m\n\u001b[0m\u001b[1;32m    347\u001b[0m         \u001b[0;32mif\u001b[0m \u001b[0mself\u001b[0m\u001b[0;34m.\u001b[0m\u001b[0m_pin_memory\u001b[0m\u001b[0;34m:\u001b[0m\u001b[0;34m\u001b[0m\u001b[0;34m\u001b[0m\u001b[0m\n\u001b[1;32m    348\u001b[0m             \u001b[0mdata\u001b[0m \u001b[0;34m=\u001b[0m \u001b[0m_utils\u001b[0m\u001b[0;34m.\u001b[0m\u001b[0mpin_memory\u001b[0m\u001b[0;34m.\u001b[0m\u001b[0mpin_memory\u001b[0m\u001b[0;34m(\u001b[0m\u001b[0mdata\u001b[0m\u001b[0;34m)\u001b[0m\u001b[0;34m\u001b[0m\u001b[0;34m\u001b[0m\u001b[0m\n",
      "\u001b[0;32m/scratch/enis/conda/envs/speechEnv/lib/python3.7/site-packages/torch/utils/data/_utils/fetch.py\u001b[0m in \u001b[0;36mfetch\u001b[0;34m(self, possibly_batched_index)\u001b[0m\n\u001b[1;32m     42\u001b[0m     \u001b[0;32mdef\u001b[0m \u001b[0mfetch\u001b[0m\u001b[0;34m(\u001b[0m\u001b[0mself\u001b[0m\u001b[0;34m,\u001b[0m \u001b[0mpossibly_batched_index\u001b[0m\u001b[0;34m)\u001b[0m\u001b[0;34m:\u001b[0m\u001b[0;34m\u001b[0m\u001b[0;34m\u001b[0m\u001b[0m\n\u001b[1;32m     43\u001b[0m         \u001b[0;32mif\u001b[0m \u001b[0mself\u001b[0m\u001b[0;34m.\u001b[0m\u001b[0mauto_collation\u001b[0m\u001b[0;34m:\u001b[0m\u001b[0;34m\u001b[0m\u001b[0;34m\u001b[0m\u001b[0m\n\u001b[0;32m---> 44\u001b[0;31m             \u001b[0mdata\u001b[0m \u001b[0;34m=\u001b[0m \u001b[0;34m[\u001b[0m\u001b[0mself\u001b[0m\u001b[0;34m.\u001b[0m\u001b[0mdataset\u001b[0m\u001b[0;34m[\u001b[0m\u001b[0midx\u001b[0m\u001b[0;34m]\u001b[0m \u001b[0;32mfor\u001b[0m \u001b[0midx\u001b[0m \u001b[0;32min\u001b[0m \u001b[0mpossibly_batched_index\u001b[0m\u001b[0;34m]\u001b[0m\u001b[0;34m\u001b[0m\u001b[0;34m\u001b[0m\u001b[0m\n\u001b[0m\u001b[1;32m     45\u001b[0m         \u001b[0;32melse\u001b[0m\u001b[0;34m:\u001b[0m\u001b[0;34m\u001b[0m\u001b[0;34m\u001b[0m\u001b[0m\n\u001b[1;32m     46\u001b[0m             \u001b[0mdata\u001b[0m \u001b[0;34m=\u001b[0m \u001b[0mself\u001b[0m\u001b[0;34m.\u001b[0m\u001b[0mdataset\u001b[0m\u001b[0;34m[\u001b[0m\u001b[0mpossibly_batched_index\u001b[0m\u001b[0;34m]\u001b[0m\u001b[0;34m\u001b[0m\u001b[0;34m\u001b[0m\u001b[0m\n",
      "\u001b[0;32m/scratch/enis/conda/envs/speechEnv/lib/python3.7/site-packages/torch/utils/data/_utils/fetch.py\u001b[0m in \u001b[0;36m<listcomp>\u001b[0;34m(.0)\u001b[0m\n\u001b[1;32m     42\u001b[0m     \u001b[0;32mdef\u001b[0m \u001b[0mfetch\u001b[0m\u001b[0;34m(\u001b[0m\u001b[0mself\u001b[0m\u001b[0;34m,\u001b[0m \u001b[0mpossibly_batched_index\u001b[0m\u001b[0;34m)\u001b[0m\u001b[0;34m:\u001b[0m\u001b[0;34m\u001b[0m\u001b[0;34m\u001b[0m\u001b[0m\n\u001b[1;32m     43\u001b[0m         \u001b[0;32mif\u001b[0m \u001b[0mself\u001b[0m\u001b[0;34m.\u001b[0m\u001b[0mauto_collation\u001b[0m\u001b[0;34m:\u001b[0m\u001b[0;34m\u001b[0m\u001b[0;34m\u001b[0m\u001b[0m\n\u001b[0;32m---> 44\u001b[0;31m             \u001b[0mdata\u001b[0m \u001b[0;34m=\u001b[0m \u001b[0;34m[\u001b[0m\u001b[0mself\u001b[0m\u001b[0;34m.\u001b[0m\u001b[0mdataset\u001b[0m\u001b[0;34m[\u001b[0m\u001b[0midx\u001b[0m\u001b[0;34m]\u001b[0m \u001b[0;32mfor\u001b[0m \u001b[0midx\u001b[0m \u001b[0;32min\u001b[0m \u001b[0mpossibly_batched_index\u001b[0m\u001b[0;34m]\u001b[0m\u001b[0;34m\u001b[0m\u001b[0;34m\u001b[0m\u001b[0m\n\u001b[0m\u001b[1;32m     45\u001b[0m         \u001b[0;32melse\u001b[0m\u001b[0;34m:\u001b[0m\u001b[0;34m\u001b[0m\u001b[0;34m\u001b[0m\u001b[0m\n\u001b[1;32m     46\u001b[0m             \u001b[0mdata\u001b[0m \u001b[0;34m=\u001b[0m \u001b[0mself\u001b[0m\u001b[0;34m.\u001b[0m\u001b[0mdataset\u001b[0m\u001b[0;34m[\u001b[0m\u001b[0mpossibly_batched_index\u001b[0m\u001b[0;34m]\u001b[0m\u001b[0;34m\u001b[0m\u001b[0;34m\u001b[0m\u001b[0m\n",
      "\u001b[0;32m<ipython-input-20-0b75e4c238fe>\u001b[0m in \u001b[0;36m__getitem__\u001b[0;34m(self, idx)\u001b[0m\n\u001b[1;32m     21\u001b[0m     \u001b[0;32mdef\u001b[0m \u001b[0m__getitem__\u001b[0m\u001b[0;34m(\u001b[0m\u001b[0mself\u001b[0m\u001b[0;34m,\u001b[0m \u001b[0midx\u001b[0m\u001b[0;34m)\u001b[0m\u001b[0;34m:\u001b[0m\u001b[0;34m\u001b[0m\u001b[0;34m\u001b[0m\u001b[0m\n\u001b[1;32m     22\u001b[0m \u001b[0;34m\u001b[0m\u001b[0m\n\u001b[0;32m---> 23\u001b[0;31m         \u001b[0msample\u001b[0m \u001b[0;34m=\u001b[0m \u001b[0mself\u001b[0m\u001b[0;34m.\u001b[0m\u001b[0mX\u001b[0m\u001b[0;34m[\u001b[0m\u001b[0midx\u001b[0m\u001b[0;34m]\u001b[0m\u001b[0;34m,\u001b[0m\u001b[0mself\u001b[0m\u001b[0;34m.\u001b[0m\u001b[0my\u001b[0m\u001b[0;34m[\u001b[0m\u001b[0midx\u001b[0m\u001b[0;34m]\u001b[0m\u001b[0;34m\u001b[0m\u001b[0;34m\u001b[0m\u001b[0m\n\u001b[0m\u001b[1;32m     24\u001b[0m \u001b[0;34m\u001b[0m\u001b[0m\n\u001b[1;32m     25\u001b[0m         \u001b[0;32mif\u001b[0m \u001b[0mself\u001b[0m\u001b[0;34m.\u001b[0m\u001b[0mtransform\u001b[0m\u001b[0;34m:\u001b[0m\u001b[0;34m\u001b[0m\u001b[0;34m\u001b[0m\u001b[0m\n",
      "\u001b[0;31mKeyboardInterrupt\u001b[0m: "
     ]
    }
   ],
   "source": [
    "from IPython import display\n",
    "import time\n",
    "for epoch in range(2000):  # loop over the dataset multiple times\n",
    "    running_loss = 0.0\n",
    "    for i, data in enumerate(training_generator, 0):\n",
    "        # get the inputs; data is a list of [inputs, labels]\n",
    "        inputs, labels = data\n",
    "#         print(inputs)\n",
    "        # zero the parameter gradients\n",
    "        optimizer.zero_grad()\n",
    "\n",
    "        # forward + backward + optimize\n",
    "        outputs = net(inputs)\n",
    "        loss = criterion(outputs, labels)\n",
    "\n",
    "        loss.backward()\n",
    "        optimizer.step()\n",
    "\n",
    "        # print statistics\n",
    "#         running_loss += loss.item()\n",
    "#     if epoch % 20 == 0:    # print every 2000 mini-batches\n",
    "\n",
    "    test_loss,test_auc=nogradmetrics(X_test,y_test,net,multi_segment=MULTI_SEGMENT)\n",
    "    train_loss,train_auc=nogradmetrics(X_train,y_train,net)\n",
    "\n",
    "    loss_values[\"test\"].append(test_loss)\n",
    "    loss_values[\"train\"].append(train_loss)\n",
    "    loss_values[\"test_auc\"].append(test_auc)\n",
    "    loss_values[\"train_auc\"].append(train_auc)\n",
    "    if epoch % 20 == 0:    # print every 2000 mini-batches\n",
    "        print('[%d] test : %.3f train: %.3f  test auc%.3f  train auc%.3f' %\n",
    "              (epoch ,test_loss, train_loss,test_auc,train_auc))\n",
    "        \n",
    "        \n",
    "#         display.clear_output(wait=True)\n",
    "#         display.display(results.plot())\n",
    "print('Finished Training')\n",
    "\n"
   ]
  },
  {
   "cell_type": "code",
   "execution_count": 134,
   "metadata": {},
   "outputs": [
    {
     "data": {
      "text/plain": [
       "(<matplotlib.axes._subplots.AxesSubplot at 0x7fd1c929d278>,\n",
       " <matplotlib.axes._subplots.AxesSubplot at 0x7fd1da2240f0>)"
      ]
     },
     "execution_count": 134,
     "metadata": {},
     "output_type": "execute_result"
    },
    {
     "data": {
      "image/png": "[encoded data removed]",
      "text/plain": [
       "<Figure size 432x288 with 1 Axes>"
      ]
     },
     "metadata": {
      "needs_background": "light"
     },
     "output_type": "display_data"
    },
    {
     "data": {
      "image/png": "[encoded data removed]",
      "text/plain": [
       "<Figure size 432x288 with 1 Axes>"
      ]
     },
     "metadata": {
      "needs_background": "light"
     },
     "output_type": "display_data"
    }
   ],
   "source": [
    "results=pd.DataFrame(loss_values)\n",
    "results[[\"test\",\"train\"]].plot(),results[[\"test_auc\",\"train_auc\"]].plot(),"
   ]
  },
  {
   "cell_type": "code",
   "execution_count": 628,
   "metadata": {},
   "outputs": [
    {
     "data": {
      "text/plain": [
       "torch.Size([7800, 128])"
      ]
     },
     "execution_count": 628,
     "metadata": {},
     "output_type": "execute_result"
    }
   ],
   "source": []
  },
  {
   "cell_type": "code",
   "execution_count": null,
   "metadata": {},
   "outputs": [],
   "source": [
    "test_set=audioDataset(X_test,y_test)\n",
    "test_generator = DataLoader(test_set, **params)\n"
   ]
  },
  {
   "cell_type": "code",
   "execution_count": 130,
   "metadata": {},
   "outputs": [],
   "source": [
    "def nogradloss(X_test,y_test):\n",
    "    with torch.no_grad():    \n",
    "        outputs_test = net(X_test)\n",
    "        loss = criterion(outputs_test, y_test)\n",
    "        return loss.item()\n",
    "\n",
    "def nogradmetrics(X_test,y_test,net,multi_segment=False):\n",
    "    with torch.no_grad():    \n",
    "        if not multi_segment:\n",
    "            y_pred = net(X_test)\n",
    "#             print(y_pred.shape)\n",
    "#             print(y_pred[1:5,:])\n",
    "    #         print(y_pred)\n",
    "            loss = criterion(y_pred, y_test)\n",
    "    #         print(y_pred)\n",
    "            y_pred=torch.exp(y_pred)\n",
    "\n",
    "    #         _, predicted = torch.min(y_pred,1)\n",
    "    #         print(np.exp(_.cpu().numpy()),predicted)\n",
    "            #         print(y_test.shape,y_pred.shape)\n",
    "            train_auc=roc_auc_score(y_test.cpu().numpy(),\n",
    "                                    y_pred[:,1].cpu().numpy()) \n",
    "        \n",
    "            return loss.item(),train_auc\n",
    "        else:\n",
    "            y_pred = net(X_test)\n",
    "            \n",
    "            y_pred_10 =y_pred.reshape(-1,10,2)\n",
    "            indices=torch.max(y_pred[:,1].reshape(-1,10),dim=1).indices\n",
    "            y_pred_10 = y_pred_10[range(y_pred_10.shape[0]),indices,:].reshape(-1,2)\n",
    "            \n",
    "            y_test_10 = torch.max(y_test.reshape(-1,10),dim=1).values\n",
    "            \n",
    "            loss = criterion(y_pred_10, y_test_10)\n",
    "            train_auc=roc_auc_score(y_test_10.cpu().numpy(),\n",
    "                                    y_pred_10[:,1].cpu().numpy()) \n",
    "            return loss.item(),train_auc\n",
    "            "
   ]
  },
  {
   "cell_type": "code",
   "execution_count": 121,
   "metadata": {},
   "outputs": [],
   "source": [
    "# torch.randn(4,3,2)"
   ]
  },
  {
   "cell_type": "code",
   "execution_count": 116,
   "metadata": {},
   "outputs": [
    {
     "name": "stdout",
     "output_type": "stream",
     "text": [
      "tensor([3, 4])\n",
      "tensor([-0.2029,  1.7439])\n",
      "tensor([-0.0895,  1.8500])\n",
      "tensor([[-0.2029,  1.7439],\n",
      "        [-0.0895,  1.8500]])\n"
     ]
    },
    {
     "data": {
      "text/plain": [
       "tensor([[-0.2029,  1.7439],\n",
       "        [-0.0895,  1.8500]])"
      ]
     },
     "execution_count": 116,
     "metadata": {},
     "output_type": "execute_result"
    }
   ],
   "source": [
    "# y_pred= torch.randn(20,2)\n",
    "# print(y_pred)\n",
    "# print(y_pred,y_pred[2:5,:])\n",
    "# print(y_pred.shape)\n",
    "y_pred_10=y_pred.reshape(-1,10,2)\n",
    "# print(y_pred_10)\n",
    "# print(y_pred_10.shape)\n",
    "# print(y_pred_10[:,1])\n",
    "# print(y_pred[:,1].reshape(-1,10))\n",
    "# print(torch.max(y_pred[:,1].reshape(-1,10),dim=1).indices)\n",
    "# print(y_pred_10[0,3,:])\n",
    "# print(y_pred_10[1,4,:])\n",
    "# print(y_pred_10[[0,1],[3,4],:])\n",
    "indices=torch.max(y_pred[:,1].reshape(-1,10),dim=1).indices\n",
    "y_pred_10[range(y_pred_10.shape[0]),indices,:].reshape(-1,2)\n",
    "\n"
   ]
  },
  {
   "cell_type": "code",
   "execution_count": 124,
   "metadata": {},
   "outputs": [],
   "source": [
    "# b = torch.randn(2,10,100)\n",
    "# print(b)\n",
    "# torch.max(b,dim=2).indices.shape\n"
   ]
  },
  {
   "cell_type": "code",
   "execution_count": 127,
   "metadata": {},
   "outputs": [
    {
     "data": {
      "text/plain": [
       "(1.2251720428466797, 0.46354166666666663)"
      ]
     },
     "execution_count": 127,
     "metadata": {},
     "output_type": "execute_result"
    }
   ],
   "source": [
    "nogradmetrics(X_test,y_test,net,multi_segment=True)\n"
   ]
  },
  {
   "cell_type": "code",
   "execution_count": 612,
   "metadata": {},
   "outputs": [
    {
     "name": "stdout",
     "output_type": "stream",
     "text": [
      "tensor([0.4380, 0.4380, 0.4380,  ..., 0.4380, 0.4380, 0.4380], device='cuda:0') tensor([[0.5620, 0.4380],\n",
      "        [0.5620, 0.4380],\n",
      "        [0.5620, 0.4380],\n",
      "        ...,\n",
      "        [0.5620, 0.4380],\n",
      "        [0.5620, 0.4380],\n",
      "        [0.5620, 0.4380]], device='cuda:0')\n",
      "0.42527246605886293\n"
     ]
    }
   ],
   "source": [
    "with torch.no_grad():    \n",
    "\n",
    "    y_pred = net(X_test)\n",
    "    y_pred=torch.exp(y_pred)\n",
    "    _, predicted = torch.max(y_pred,1)\n",
    "    train_auc=roc_auc_score(y_test.cpu().numpy(),\n",
    "                                    _.cpu().numpy())\n",
    "    print(train_auc)\n",
    "# # F.softmax(y_pred,dim=1)\n",
    "# for i,val in enumerate(torch.exp(y_pred)):\n",
    "#     print(i,val,y_test[i],predicted[i])"
   ]
  },
  {
   "cell_type": "code",
   "execution_count": 411,
   "metadata": {},
   "outputs": [
    {
     "data": {
      "text/plain": [
       "(tensor([0.5201, 0.4799]), tensor([0.5363, 0.4637]))"
      ]
     },
     "execution_count": 411,
     "metadata": {},
     "output_type": "execute_result"
    }
   ],
   "source": [
    "np.exp([-6.7866, -4.4634])\n",
    "F.softmax(torch.Tensor([0.5403, 0.4597]),dim=0),torch.exp(F.log_softmax(torch.Tensor([ 0.1147, -0.0307]),dim=0))"
   ]
  },
  {
   "cell_type": "code",
   "execution_count": 41,
   "metadata": {},
   "outputs": [
    {
     "name": "stdout",
     "output_type": "stream",
     "text": [
      "1.0\n"
     ]
    }
   ],
   "source": [
    "# class_correct = list(0. for i in range(10))\n",
    "# class_total = list(0. for i in range(10))\n",
    "y_pred=torch.empty((0),dtype=torch.long).to(device)\n",
    "with torch.no_grad():\n",
    "    for data in training_generator:\n",
    "        inputs, labels = data\n",
    "        outputs = net(inputs)\n",
    "        _, predicted = torch.max(outputs, 1)\n",
    "#         c = (predicted == labels).squeeze()\n",
    "        y_pred=torch.cat((y_pred,predicted))\n",
    "\n",
    "metrics_auc=roc_auc_score(y_train.cpu().numpy(), y_pred.cpu().numpy()) #average_precision_score\n",
    "print(metrics_auc)"
   ]
  },
  {
   "cell_type": "code",
   "execution_count": 338,
   "metadata": {},
   "outputs": [
    {
     "name": "stdout",
     "output_type": "stream",
     "text": [
      "0.4991883116883116\n"
     ]
    }
   ],
   "source": [
    "# class_correct = list(0. for i in range(10))\n",
    "# class_total = list(0. for i in range(10))\n",
    "y_pred=torch.empty((0),dtype=torch.long).to(device)\n",
    "with torch.no_grad():\n",
    "    for data in test_generator:\n",
    "        inputs, labels = data\n",
    "        outputs = net(inputs)\n",
    "        _, predicted = torch.max(outputs, 1)\n",
    "#         c = (predicted == labels).squeeze()\n",
    "        y_pred=torch.cat((y_pred,predicted))\n",
    "    \n",
    "metrics_auc=roc_auc_score(y_test.cpu().numpy(), y_pred.cpu().numpy()) #average_precision_score\n",
    "print(metrics_auc)"
   ]
  },
  {
   "cell_type": "code",
   "execution_count": 399,
   "metadata": {},
   "outputs": [
    {
     "data": {
      "text/plain": [
       "tensor([0.7311, 0.2689])"
      ]
     },
     "execution_count": 399,
     "metadata": {},
     "output_type": "execute_result"
    }
   ],
   "source": []
  },
  {
   "cell_type": "code",
   "execution_count": 405,
   "metadata": {},
   "outputs": [
    {
     "data": {
      "text/plain": [
       "(tensor([0.7311, 0.2689]), tensor([0.2689, 0.7311]))"
      ]
     },
     "execution_count": 405,
     "metadata": {},
     "output_type": "execute_result"
    }
   ],
   "source": []
  },
  {
   "cell_type": "code",
   "execution_count": null,
   "metadata": {},
   "outputs": [],
   "source": []
  },
  {
   "cell_type": "code",
   "execution_count": 130,
   "metadata": {},
   "outputs": [
    {
     "name": "stdout",
     "output_type": "stream",
     "text": [
      "{'Songbird': 0.7082863407231784, 'Water Bird': 0.6006567028985507, 'Insect': 0.6834210526315789, 'Running Water': 0.5683573612931411, 'Rain': 0.44851713640381025, 'Cable': 0.6487356572711399, 'Wind': 0.6398137867851588, 'Aircraft': 0.4890358265947889}\n"
     ]
    }
   ],
   "source": [
    "# ALL  DATA\n",
    "results=cal_auc(y_true_dict,y_pred_dict_prob)\n",
    "print(\"ALL DATA\")\n",
    "for res in results:\n",
    "    print(\"{} {:.2}\".format(res,results[res]))\n",
    "# print_results(results,y_true_dict)"
   ]
  },
  {
   "cell_type": "code",
   "execution_count": 135,
   "metadata": {},
   "outputs": [
    {
     "name": "stdout",
     "output_type": "stream",
     "text": [
      "VALIDATION SET\n",
      "Songbird 0.68\n",
      "Water Bird 0.58\n",
      "Insect 0.7\n",
      "Running Water 0.55\n",
      "Rain 0.46\n",
      "Cable 0.67\n",
      "Wind 0.65\n",
      "Aircraft 0.44\n"
     ]
    }
   ],
   "source": [
    "# VALIDATION SET\n",
    "results=cal_auc(y_val_dict,y_val_pred_dict)\n",
    "print(\"VALIDATION SET\")\n",
    "for res in results:\n",
    "    print(\"{} {:.2}\".format(res,results[res]))\n",
    "# print(results)"
   ]
  },
  {
   "cell_type": "code",
   "execution_count": 143,
   "metadata": {},
   "outputs": [
    {
     "name": "stdout",
     "output_type": "stream",
     "text": [
      "Test SET\n",
      "Songbird 0.7\n",
      "Water Bird 0.59\n",
      "Insect 0.66\n",
      "Running Water 0.57\n",
      "Rain 0.44\n",
      "Cable 0.65\n",
      "Wind 0.66\n",
      "Aircraft 0.52\n"
     ]
    }
   ],
   "source": [
    "# Test SET\n",
    "results=cal_auc(y_test_dict,y_test_pred_dict)\n",
    "print(\"Test SET\")\n",
    "for res in results:\n",
    "    print(\"{} {:.2}\".format(res,results[res]))\n",
    "# print(results)\n"
   ]
  },
  {
   "cell_type": "code",
   "execution_count": 142,
   "metadata": {},
   "outputs": [
    {
     "name": "stdout",
     "output_type": "stream",
     "text": [
      "tag train validate test\n",
      "tag              train    validate    test\n",
      "-------------  -------  ----------  ------\n",
      "Songbird           252          84      73\n",
      "Water Bird         108          46      42\n",
      "Insect             107          42      41\n",
      "Running Water      130          41      39\n",
      "Rain                62          20      20\n",
      "Cable              278          93      85\n",
      "Wind               386         123     132\n",
      "Aircraft            18           6       4\n"
     ]
    }
   ],
   "source": [
    "print(\"tag\",\"train\",\"validate\",\"test\")\n",
    "table=[]\n",
    "headers=[\"tag\",\"train\",\"validate\",\"test\"]\n",
    "# for i in sorted_result:\n",
    "#     if i[0] in tag2labelmappings[tag]:\n",
    "#         table.append([i[0][0:10],i[1],\"yes\"])\n",
    "#     else:\n",
    "#         table.append([i[0][0:10],i[1],\"no\"])\n",
    "    \n",
    "\n",
    "for tagname in y_train_dict:\n",
    "    table.append([tagname,sum(y_train_dict[tagname]),sum(y_test_dict[tagname]),sum(y_val_dict[tagname])])\n",
    "print(tabulate(table, headers=headers))  \n"
   ]
  },
  {
   "cell_type": "markdown",
   "metadata": {},
   "source": [
    "#### Creating AUC matrix for each tag and label"
   ]
  },
  {
   "cell_type": "code",
   "execution_count": 107,
   "metadata": {},
   "outputs": [
    {
     "name": "stdout",
     "output_type": "stream",
     "text": [
      "number of unique labels in the data 222\n"
     ]
    }
   ],
   "source": [
    "# get all labels that exists in data to create matrix, if it is higher than 0 at least once\n",
    "index_set=set()\n",
    "for orig,audioop in modelresults.values():\n",
    "#     print(orig)\n",
    "    for index,prob in zip(*orig):\n",
    "        if prob>0:\n",
    "            index_set.add(index)\n",
    "\n",
    "print(\"number of unique labels in the data\",len(index_set))\n",
    "index_set=list(index_set)\n"
   ]
  },
  {
   "cell_type": "code",
   "execution_count": 108,
   "metadata": {},
   "outputs": [],
   "source": [
    "# ALL DATA\n",
    "matrix_dict={}\n",
    "for label_index in index_set:\n",
    "    prob_threshold=0\n",
    "    y_pred_dict=vectorized_y_pred_prob_pertag(label_index,humanresults,tags,label2tagmappings,prob_threshold)\n",
    "    \n",
    "#     y_train_pred_dict = {}\n",
    "#     y_test_pred_dict ={}\n",
    "#     y_val_pred_dict={}\n",
    "\n",
    "#     for y in y_true_dict.keys():\n",
    "#         y_pred=y_pred_dict[y]\n",
    "\n",
    "#         y_train_pred_dict[y] = y_pred[y_train]\n",
    "#         y_test_pred_dict[y] =y_pred[y_test]\n",
    "#         y_val_pred_dict[y]=y_pred[y_val]\n",
    "    \n",
    "    matrix_dict[label_index]=y_pred_dict"
   ]
  },
  {
   "cell_type": "code",
   "execution_count": 109,
   "metadata": {},
   "outputs": [],
   "source": [
    "# TRAIN DATA\n",
    "matrix_dict={}\n",
    "for label_index in index_set:\n",
    "    prob_threshold=0\n",
    "    y_pred_dict=vectorized_y_pred_prob_pertag(label_index,humanresults,tags,label2tagmappings,prob_threshold)\n",
    "    \n",
    "    y_train_pred_dict = {}\n",
    "#     y_test_pred_dict ={}\n",
    "#     y_val_pred_dict={}\n",
    "\n",
    "    for y in y_true_dict.keys():\n",
    "        y_pred=y_pred_dict[y]\n",
    "\n",
    "        y_train_pred_dict[y] = y_pred[y_train]\n",
    "#         y_test_pred_dict[y] =y_pred[y_test]\n",
    "#         y_val_pred_dict[y]=y_pred[y_val]\n",
    "    \n",
    "    matrix_dict[label_index]=y_train_pred_dict\n",
    "\n",
    "results={}\n",
    "for label_index in index_set:\n",
    "    results[label_index]=cal_auc(y_train_dict,matrix_dict[label_index])\n",
    "\n"
   ]
  },
  {
   "cell_type": "code",
   "execution_count": 110,
   "metadata": {},
   "outputs": [],
   "source": [
    "# VAL DATA\n",
    "matrix_dict={}\n",
    "for label_index in index_set:\n",
    "    prob_threshold=0\n",
    "    y_pred_dict=vectorized_y_pred_prob_pertag(label_index,humanresults,tags,label2tagmappings,prob_threshold)\n",
    "    \n",
    "#     y_train_pred_dict = {}\n",
    "#     y_test_pred_dict ={}\n",
    "    y_val_pred_dict={}\n",
    "\n",
    "    for y in y_true_dict.keys():\n",
    "        y_pred=y_pred_dict[y]\n",
    "\n",
    "#         y_train_pred_dict[y] = y_pred[y_train]\n",
    "#         y_test_pred_dict[y] =y_pred[y_test]\n",
    "        y_val_pred_dict[y]=y_pred[y_val]\n",
    "    \n",
    "    matrix_dict[label_index]=y_val_pred_dict\n",
    "\n",
    "results={}\n",
    "for label_index in index_set:\n",
    "    results[label_index]=cal_auc(y_val_dict,matrix_dict[label_index])\n",
    "\n"
   ]
  },
  {
   "cell_type": "code",
   "execution_count": null,
   "metadata": {},
   "outputs": [],
   "source": []
  },
  {
   "cell_type": "code",
   "execution_count": 144,
   "metadata": {},
   "outputs": [],
   "source": [
    "# Test DATA\n",
    "matrix_dict={}\n",
    "for label_index in index_set:\n",
    "    prob_threshold=0\n",
    "    y_pred_dict=vectorized_y_pred_prob_pertag(label_index,humanresults,tags,label2tagmappings,prob_threshold)\n",
    "    \n",
    "#     y_train_pred_dict = {}\n",
    "    y_test_pred_dict ={}\n",
    "#     y_val_pred_dict={}\n",
    "\n",
    "    for y in y_true_dict.keys():\n",
    "        y_pred=y_pred_dict[y]\n",
    "\n",
    "#         y_train_pred_dict[y] = y_pred[y_train]\n",
    "        y_test_pred_dict[y] =y_pred[y_test]\n",
    "#         y_val_pred_dict[y]=y_pred[y_val]\n",
    "    \n",
    "    matrix_dict[label_index]=y_test_pred_dict\n",
    "\n",
    "results={}\n",
    "for label_index in index_set:\n",
    "    results[label_index]=cal_auc(y_test_dict,matrix_dict[label_index])\n"
   ]
  },
  {
   "cell_type": "code",
   "execution_count": null,
   "metadata": {},
   "outputs": [],
   "source": []
  },
  {
   "cell_type": "code",
   "execution_count": null,
   "metadata": {},
   "outputs": [],
   "source": []
  },
  {
   "cell_type": "code",
   "execution_count": 40,
   "metadata": {},
   "outputs": [],
   "source": [
    "# auc_values=[]\n",
    "# for values in results.values():\n",
    "# #     print(values['Songbird'])\n",
    "#     auc_values.append(values['Songbird'])"
   ]
  },
  {
   "cell_type": "code",
   "execution_count": 145,
   "metadata": {},
   "outputs": [],
   "source": [
    "\n",
    "import seaborn as sns; sns.set()\n",
    "import matplotlib.pyplot as plt\n",
    "%matplotlib inline\n"
   ]
  },
  {
   "cell_type": "code",
   "execution_count": 146,
   "metadata": {},
   "outputs": [],
   "source": [
    "auc_matrix=np.empty((len(results),len(tag_set)))"
   ]
  },
  {
   "cell_type": "code",
   "execution_count": 147,
   "metadata": {},
   "outputs": [],
   "source": [
    "for row,result in enumerate(results.values()):\n",
    "    for col,tag in enumerate(tag_set):\n",
    "        auc_matrix[row][col]=result[tag]\n",
    "\n",
    "results_labels = [labels[key] for key in results.keys()]\n"
   ]
  },
  {
   "cell_type": "code",
   "execution_count": 148,
   "metadata": {},
   "outputs": [],
   "source": [
    "# x = np.array([[10,2,3],[3,4,5],[6,7,8],[3,4,5]])\n",
    "# x"
   ]
  },
  {
   "cell_type": "code",
   "execution_count": 149,
   "metadata": {},
   "outputs": [],
   "source": [
    "# rows=x.mean(axis=0)\n",
    "# colums=x.mean(axis=1)\n",
    "# rows,colums"
   ]
  },
  {
   "cell_type": "code",
   "execution_count": 150,
   "metadata": {},
   "outputs": [],
   "source": [
    "# print(x)\n",
    "# print(x[colums.argsort()])\n",
    "# print(x[:,rows.argsort()])\n"
   ]
  },
  {
   "cell_type": "code",
   "execution_count": 151,
   "metadata": {},
   "outputs": [],
   "source": [
    "# rows=auc_matrix.mean(axis=0)\n",
    "# colums=auc_matrix.mean(axis=1)\n",
    "\n",
    "# sorted_col=(auc_matrix[colums.argsort()])\n",
    "# sorted_row=(auc_matrix[:,rows.argsort()])\n",
    "# tag_set\n",
    "# results_labels"
   ]
  },
  {
   "cell_type": "code",
   "execution_count": 177,
   "metadata": {},
   "outputs": [
    {
     "name": "stdout",
     "output_type": "stream",
     "text": [
      "               Songbird  Water Bird    Insect  Running Water      Rain  \\\n",
      "Speech         0.470407    0.515542  0.441022       0.440082  0.531250   \n",
      "Noise          0.505276    0.554551  0.489406       0.504956  0.464583   \n",
      "Environmenta+  0.500000    0.500000  0.500000       0.500000  0.500000   \n",
      "Static         0.493168    0.446820  0.578910       0.468649  0.425417   \n",
      "Mains hum      0.500000    0.500000  0.500000       0.500000  0.500000   \n",
      "...                 ...         ...       ...            ...       ...   \n",
      "Pulse          0.494521    0.501625  0.502621       0.488584  0.489583   \n",
      "Inside, smal+  0.486303    0.494667  0.509393       0.481735  0.511146   \n",
      "Outside, urb+  0.497531    0.504013  0.490826       0.490868  0.491667   \n",
      "Outside, rur+  0.503145    0.508584  0.495413       0.495434  0.495833   \n",
      "Reverberatio+  0.500000    0.500000  0.500000       0.500000  0.500000   \n",
      "\n",
      "                  Cable      Wind  Aircraft  \n",
      "Speech         0.538697  0.511364  0.425197  \n",
      "Noise          0.515356  0.498843  0.547900  \n",
      "Environmenta+  0.500000  0.500000  0.500000  \n",
      "Static         0.406188  0.443089  0.589239  \n",
      "Mains hum      0.500000  0.500000  0.500000  \n",
      "...                 ...       ...       ...  \n",
      "Pulse          0.501835  0.504955  0.574147  \n",
      "Inside, smal+  0.509851  0.494036  0.484252  \n",
      "Outside, urb+  0.488024  0.516260  0.492126  \n",
      "Outside, rur+  0.502350  0.500386  0.496063  \n",
      "Reverberatio+  0.500000  0.500000  0.500000  \n",
      "\n",
      "[222 rows x 8 columns]\n"
     ]
    }
   ],
   "source": [
    "import pandas as pd\n",
    "results_labels_short=results_labels[:]\n",
    "for i,name in enumerate(results_labels):\n",
    "    limit=12\n",
    "    if len(name)>limit:\n",
    "        name=(name[:limit]+\"+\")\n",
    "    else:\n",
    "        name=(name)\n",
    "    results_labels_short[i]=name\n",
    "#     print(name)\n",
    "\n",
    "df_auc=pd.DataFrame(data=auc_matrix,    # values\n",
    "              index=results_labels_short,    # 1st column as index\n",
    "              columns=tag_set)\n",
    "\n",
    "\n",
    "\n",
    "print(df_auc)\n"
   ]
  },
  {
   "cell_type": "code",
   "execution_count": 178,
   "metadata": {},
   "outputs": [],
   "source": [
    "# df_auc.to_pickle(\"./auc_matrix.pkl\")\n"
   ]
  },
  {
   "cell_type": "code",
   "execution_count": null,
   "metadata": {},
   "outputs": [],
   "source": []
  },
  {
   "cell_type": "code",
   "execution_count": null,
   "metadata": {},
   "outputs": [],
   "source": []
  },
  {
   "cell_type": "code",
   "execution_count": 179,
   "metadata": {},
   "outputs": [
    {
     "data": {
      "text/plain": [
       "array([[0.4704072 , 0.51554246, 0.44102228, ..., 0.5386968 , 0.51136431,\n",
       "        0.42519685],\n",
       "       [0.50527597, 0.554551  , 0.48940585, ..., 0.51535638, 0.4988428 ,\n",
       "        0.54790026],\n",
       "       [0.5       , 0.5       , 0.5       , ..., 0.5       , 0.5       ,\n",
       "        0.5       ],\n",
       "       ...,\n",
       "       [0.49753111, 0.5040126 , 0.49082569, ..., 0.48802395, 0.51626016,\n",
       "        0.49212598],\n",
       "       [0.50314529, 0.50858391, 0.49541284, ..., 0.50235014, 0.50038573,\n",
       "        0.49606299],\n",
       "       [0.5       , 0.5       , 0.5       , ..., 0.5       , 0.5       ,\n",
       "        0.5       ]])"
      ]
     },
     "execution_count": 179,
     "metadata": {},
     "output_type": "execute_result"
    }
   ],
   "source": [
    "auc_matrix"
   ]
  },
  {
   "cell_type": "code",
   "execution_count": 180,
   "metadata": {},
   "outputs": [
    {
     "data": {
      "text/html": [
       "<div>\n",
       "<style scoped>\n",
       "    .dataframe tbody tr th:only-of-type {\n",
       "        vertical-align: middle;\n",
       "    }\n",
       "\n",
       "    .dataframe tbody tr th {\n",
       "        vertical-align: top;\n",
       "    }\n",
       "\n",
       "    .dataframe thead th {\n",
       "        text-align: right;\n",
       "    }\n",
       "</style>\n",
       "<table border=\"1\" class=\"dataframe\">\n",
       "  <thead>\n",
       "    <tr style=\"text-align: right;\">\n",
       "      <th></th>\n",
       "      <th>Songbird</th>\n",
       "      <th>Water Bird</th>\n",
       "      <th>Insect</th>\n",
       "      <th>Running Water</th>\n",
       "      <th>Rain</th>\n",
       "      <th>Cable</th>\n",
       "      <th>Wind</th>\n",
       "      <th>Aircraft</th>\n",
       "    </tr>\n",
       "  </thead>\n",
       "  <tbody>\n",
       "    <tr>\n",
       "      <td>Speech</td>\n",
       "      <td>0.470407</td>\n",
       "      <td>0.515542</td>\n",
       "      <td>0.441022</td>\n",
       "      <td>0.440082</td>\n",
       "      <td>0.531250</td>\n",
       "      <td>0.538697</td>\n",
       "      <td>0.511364</td>\n",
       "      <td>0.425197</td>\n",
       "    </tr>\n",
       "    <tr>\n",
       "      <td>Noise</td>\n",
       "      <td>0.505276</td>\n",
       "      <td>0.554551</td>\n",
       "      <td>0.489406</td>\n",
       "      <td>0.504956</td>\n",
       "      <td>0.464583</td>\n",
       "      <td>0.515356</td>\n",
       "      <td>0.498843</td>\n",
       "      <td>0.547900</td>\n",
       "    </tr>\n",
       "    <tr>\n",
       "      <td>Environmenta+</td>\n",
       "      <td>0.500000</td>\n",
       "      <td>0.500000</td>\n",
       "      <td>0.500000</td>\n",
       "      <td>0.500000</td>\n",
       "      <td>0.500000</td>\n",
       "      <td>0.500000</td>\n",
       "      <td>0.500000</td>\n",
       "      <td>0.500000</td>\n",
       "    </tr>\n",
       "    <tr>\n",
       "      <td>Static</td>\n",
       "      <td>0.493168</td>\n",
       "      <td>0.446820</td>\n",
       "      <td>0.578910</td>\n",
       "      <td>0.468649</td>\n",
       "      <td>0.425417</td>\n",
       "      <td>0.406188</td>\n",
       "      <td>0.443089</td>\n",
       "      <td>0.589239</td>\n",
       "    </tr>\n",
       "    <tr>\n",
       "      <td>Mains hum</td>\n",
       "      <td>0.500000</td>\n",
       "      <td>0.500000</td>\n",
       "      <td>0.500000</td>\n",
       "      <td>0.500000</td>\n",
       "      <td>0.500000</td>\n",
       "      <td>0.500000</td>\n",
       "      <td>0.500000</td>\n",
       "      <td>0.500000</td>\n",
       "    </tr>\n",
       "    <tr>\n",
       "      <td>...</td>\n",
       "      <td>...</td>\n",
       "      <td>...</td>\n",
       "      <td>...</td>\n",
       "      <td>...</td>\n",
       "      <td>...</td>\n",
       "      <td>...</td>\n",
       "      <td>...</td>\n",
       "      <td>...</td>\n",
       "    </tr>\n",
       "    <tr>\n",
       "      <td>Pulse</td>\n",
       "      <td>0.494521</td>\n",
       "      <td>0.501625</td>\n",
       "      <td>0.502621</td>\n",
       "      <td>0.488584</td>\n",
       "      <td>0.489583</td>\n",
       "      <td>0.501835</td>\n",
       "      <td>0.504955</td>\n",
       "      <td>0.574147</td>\n",
       "    </tr>\n",
       "    <tr>\n",
       "      <td>Inside, smal+</td>\n",
       "      <td>0.486303</td>\n",
       "      <td>0.494667</td>\n",
       "      <td>0.509393</td>\n",
       "      <td>0.481735</td>\n",
       "      <td>0.511146</td>\n",
       "      <td>0.509851</td>\n",
       "      <td>0.494036</td>\n",
       "      <td>0.484252</td>\n",
       "    </tr>\n",
       "    <tr>\n",
       "      <td>Outside, urb+</td>\n",
       "      <td>0.497531</td>\n",
       "      <td>0.504013</td>\n",
       "      <td>0.490826</td>\n",
       "      <td>0.490868</td>\n",
       "      <td>0.491667</td>\n",
       "      <td>0.488024</td>\n",
       "      <td>0.516260</td>\n",
       "      <td>0.492126</td>\n",
       "    </tr>\n",
       "    <tr>\n",
       "      <td>Outside, rur+</td>\n",
       "      <td>0.503145</td>\n",
       "      <td>0.508584</td>\n",
       "      <td>0.495413</td>\n",
       "      <td>0.495434</td>\n",
       "      <td>0.495833</td>\n",
       "      <td>0.502350</td>\n",
       "      <td>0.500386</td>\n",
       "      <td>0.496063</td>\n",
       "    </tr>\n",
       "    <tr>\n",
       "      <td>Reverberatio+</td>\n",
       "      <td>0.500000</td>\n",
       "      <td>0.500000</td>\n",
       "      <td>0.500000</td>\n",
       "      <td>0.500000</td>\n",
       "      <td>0.500000</td>\n",
       "      <td>0.500000</td>\n",
       "      <td>0.500000</td>\n",
       "      <td>0.500000</td>\n",
       "    </tr>\n",
       "  </tbody>\n",
       "</table>\n",
       "<p>222 rows × 8 columns</p>\n",
       "</div>"
      ],
      "text/plain": [
       "               Songbird  Water Bird    Insect  Running Water      Rain  \\\n",
       "Speech         0.470407    0.515542  0.441022       0.440082  0.531250   \n",
       "Noise          0.505276    0.554551  0.489406       0.504956  0.464583   \n",
       "Environmenta+  0.500000    0.500000  0.500000       0.500000  0.500000   \n",
       "Static         0.493168    0.446820  0.578910       0.468649  0.425417   \n",
       "Mains hum      0.500000    0.500000  0.500000       0.500000  0.500000   \n",
       "...                 ...         ...       ...            ...       ...   \n",
       "Pulse          0.494521    0.501625  0.502621       0.488584  0.489583   \n",
       "Inside, smal+  0.486303    0.494667  0.509393       0.481735  0.511146   \n",
       "Outside, urb+  0.497531    0.504013  0.490826       0.490868  0.491667   \n",
       "Outside, rur+  0.503145    0.508584  0.495413       0.495434  0.495833   \n",
       "Reverberatio+  0.500000    0.500000  0.500000       0.500000  0.500000   \n",
       "\n",
       "                  Cable      Wind  Aircraft  \n",
       "Speech         0.538697  0.511364  0.425197  \n",
       "Noise          0.515356  0.498843  0.547900  \n",
       "Environmenta+  0.500000  0.500000  0.500000  \n",
       "Static         0.406188  0.443089  0.589239  \n",
       "Mains hum      0.500000  0.500000  0.500000  \n",
       "...                 ...       ...       ...  \n",
       "Pulse          0.501835  0.504955  0.574147  \n",
       "Inside, smal+  0.509851  0.494036  0.484252  \n",
       "Outside, urb+  0.488024  0.516260  0.492126  \n",
       "Outside, rur+  0.502350  0.500386  0.496063  \n",
       "Reverberatio+  0.500000  0.500000  0.500000  \n",
       "\n",
       "[222 rows x 8 columns]"
      ]
     },
     "execution_count": 180,
     "metadata": {},
     "output_type": "execute_result"
    }
   ],
   "source": [
    "df_auc"
   ]
  },
  {
   "cell_type": "code",
   "execution_count": 181,
   "metadata": {},
   "outputs": [
    {
     "data": {
      "text/plain": [
       "Songbird         0\n",
       "Water Bird       0\n",
       "Insect           0\n",
       "Running Water    0\n",
       "Rain             0\n",
       "Cable            0\n",
       "Wind             0\n",
       "Aircraft         0\n",
       "dtype: int64"
      ]
     },
     "execution_count": 181,
     "metadata": {},
     "output_type": "execute_result"
    }
   ],
   "source": [
    "df_auc.isna().sum()"
   ]
  },
  {
   "cell_type": "code",
   "execution_count": 182,
   "metadata": {},
   "outputs": [
    {
     "data": {
      "text/plain": [
       "Speech           0.484195\n",
       "Noise            0.510109\n",
       "Environmenta+    0.500000\n",
       "Static           0.481435\n",
       "Mains hum        0.500000\n",
       "                   ...   \n",
       "Pulse            0.507234\n",
       "Inside, smal+    0.496423\n",
       "Outside, urb+    0.496414\n",
       "Outside, rur+    0.499651\n",
       "Reverberatio+    0.500000\n",
       "Length: 222, dtype: float64"
      ]
     },
     "execution_count": 182,
     "metadata": {},
     "output_type": "execute_result"
    }
   ],
   "source": [
    "df_auc.mean(axis=1)"
   ]
  },
  {
   "cell_type": "code",
   "execution_count": 183,
   "metadata": {},
   "outputs": [],
   "source": [
    "# sort_function=max"
   ]
  },
  {
   "cell_type": "code",
   "execution_count": null,
   "metadata": {},
   "outputs": [],
   "source": []
  },
  {
   "cell_type": "code",
   "execution_count": 184,
   "metadata": {},
   "outputs": [],
   "source": [
    "tag_df_auc=df_auc.reindex(df_auc.max().sort_values(ascending=False).index, axis=1)"
   ]
  },
  {
   "cell_type": "code",
   "execution_count": 185,
   "metadata": {},
   "outputs": [],
   "source": [
    "label_df_auc=df_auc.reindex(df_auc.max(axis=1).sort_values(ascending=False).index, axis=0)"
   ]
  },
  {
   "cell_type": "code",
   "execution_count": 186,
   "metadata": {},
   "outputs": [],
   "source": [
    "tag_label_df_auc=tag_df_auc.reindex(tag_df_auc.max(axis=1).sort_values(ascending=False).index, axis=0)"
   ]
  },
  {
   "cell_type": "code",
   "execution_count": 187,
   "metadata": {},
   "outputs": [
    {
     "data": {
      "text/plain": [
       "Songbird         0\n",
       "Water Bird       0\n",
       "Insect           0\n",
       "Running Water    0\n",
       "Rain             0\n",
       "Cable            0\n",
       "Wind             0\n",
       "Aircraft         0\n",
       "dtype: int64"
      ]
     },
     "execution_count": 187,
     "metadata": {},
     "output_type": "execute_result"
    }
   ],
   "source": [
    "label_df_auc.isna().sum()"
   ]
  },
  {
   "cell_type": "code",
   "execution_count": 188,
   "metadata": {},
   "outputs": [
    {
     "data": {
      "text/plain": [
       "Aircraft         0\n",
       "Rain             0\n",
       "Wind             0\n",
       "Cable            0\n",
       "Water Bird       0\n",
       "Songbird         0\n",
       "Insect           0\n",
       "Running Water    0\n",
       "dtype: int64"
      ]
     },
     "execution_count": 188,
     "metadata": {},
     "output_type": "execute_result"
    }
   ],
   "source": [
    "tag_df_auc.isna().sum()"
   ]
  },
  {
   "cell_type": "code",
   "execution_count": 189,
   "metadata": {},
   "outputs": [
    {
     "data": {
      "text/plain": [
       "Aircraft         0\n",
       "Rain             0\n",
       "Wind             0\n",
       "Cable            0\n",
       "Water Bird       0\n",
       "Songbird         0\n",
       "Insect           0\n",
       "Running Water    0\n",
       "dtype: int64"
      ]
     },
     "execution_count": 189,
     "metadata": {},
     "output_type": "execute_result"
    }
   ],
   "source": [
    "tag_label_df_auc.isna().sum()"
   ]
  },
  {
   "cell_type": "code",
   "execution_count": null,
   "metadata": {
    "scrolled": true
   },
   "outputs": [],
   "source": []
  },
  {
   "cell_type": "code",
   "execution_count": 190,
   "metadata": {},
   "outputs": [],
   "source": [
    "# plt.figure(figsize=(12, 150))\n",
    "\n",
    "# ax = sns.heatmap(auc_matrix,xticklabels=tag_set,yticklabels=results_labels,annot=True,linewidths=.5)\n"
   ]
  },
  {
   "cell_type": "code",
   "execution_count": 191,
   "metadata": {},
   "outputs": [],
   "source": [
    "# plt.figure(figsize=(12, 150))\n",
    "\n",
    "# ax_label_mean = sns.heatmap(label_df_auc,xticklabels=label_df_auc.columns,yticklabels=label_df_auc.index,annot=True,linewidths=.5)\n"
   ]
  },
  {
   "cell_type": "code",
   "execution_count": 192,
   "metadata": {},
   "outputs": [],
   "source": [
    "# plt.figure(figsize=(12, 100))\n",
    "\n",
    "# ax_tag_mean = sns.heatmap(tag_df_auc,xticklabels=tag_df_auc.columns,yticklabels=tag_df_auc.index,annot=True,linewidths=.5)\n"
   ]
  },
  {
   "cell_type": "code",
   "execution_count": 193,
   "metadata": {},
   "outputs": [],
   "source": [
    "# fig=ax_label_mean.get_figure()\n",
    "# fig.savefig(\"ax_label_mean.png\")"
   ]
  },
  {
   "cell_type": "code",
   "execution_count": 194,
   "metadata": {},
   "outputs": [],
   "source": [
    "# fig=ax_tag_mean.get_figure()\n",
    "# fig.savefig(\"ax_tag_mean.png\")"
   ]
  },
  {
   "cell_type": "code",
   "execution_count": 195,
   "metadata": {},
   "outputs": [],
   "source": [
    "# fig, ax = plt.subplots(figsize=(200, 100))\n",
    "\n",
    "\n",
    "# im, cbar = heatmap(auc_matrix, results_labels,tag_set, ax=ax,\n",
    "#                    cmap=\"YlGn\", cbarlabel=\"harvest [t/year]\")\n",
    "# texts = annotate_heatmap(im, valfmt=\"{x:.1f} t\")\n",
    "\n",
    "# fig.tight_layout()\n",
    "# plt.show()"
   ]
  },
  {
   "cell_type": "code",
   "execution_count": 196,
   "metadata": {},
   "outputs": [
    {
     "name": "stdout",
     "output_type": "stream",
     "text": [
      "(38, 8)\n"
     ]
    }
   ],
   "source": [
    "# FILTER results\n",
    "threshold=0.58\n",
    "print(tag_label_df_auc[tag_label_df_auc.max(axis=1)>threshold].shape)\n",
    "fg_df=tag_label_df_auc[tag_label_df_auc.max(axis=1)>threshold].T"
   ]
  },
  {
   "cell_type": "code",
   "execution_count": 197,
   "metadata": {},
   "outputs": [
    {
     "data": {
      "text/plain": [
       "(8, 0)"
      ]
     },
     "execution_count": 197,
     "metadata": {},
     "output_type": "execute_result"
    },
    {
     "data": {
      "image/png": "[encoded data removed]",
      "text/plain": [
       "<Figure size 1440x144 with 2 Axes>"
      ]
     },
     "metadata": {
      "needs_background": "light"
     },
     "output_type": "display_data"
    }
   ],
   "source": [
    "\n",
    "# plt.figure(figsize=(15, 2))\n",
    "\n",
    "fig, ax = plt.subplots(figsize=(20,2))         # Sample figsize in inches\n",
    "\n",
    "tag_label_max = sns.heatmap(fg_df,xticklabels=fg_df.columns,yticklabels=fg_df.index,annot=True,linewidths=.5)\n",
    "ax.set_ylim(len(fg_df), 0)\n"
   ]
  },
  {
   "cell_type": "code",
   "execution_count": 198,
   "metadata": {},
   "outputs": [],
   "source": [
    "fig=tag_label_max.get_figure()\n",
    "fig.savefig(\"test_filter0.58_rotated_short.svg\",bbox_inches=\"tight\", format='svg')"
   ]
  },
  {
   "cell_type": "code",
   "execution_count": null,
   "metadata": {},
   "outputs": [],
   "source": []
  },
  {
   "cell_type": "code",
   "execution_count": null,
   "metadata": {},
   "outputs": [],
   "source": []
  }
 ],
 "metadata": {
  "kernelspec": {
   "display_name": "speechEnv",
   "language": "python",
   "name": "speechenv"
  },
  "language_info": {
   "codemirror_mode": {
    "name": "ipython",
    "version": 3
   },
   "file_extension": ".py",
   "mimetype": "text/x-python",
   "name": "python",
   "nbconvert_exporter": "python",
   "pygments_lexer": "ipython3",
   "version": "3.7.2"
  }
 },
 "nbformat": 4,
 "nbformat_minor": 2
}
