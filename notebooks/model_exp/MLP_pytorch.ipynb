{
 "cells": [
  {
   "cell_type": "code",
   "execution_count": 13,
   "metadata": {},
   "outputs": [
    {
     "name": "stdout",
     "output_type": "stream",
     "text": [
      "/home/enis/projects/nna/src\n"
     ]
    }
   ],
   "source": [
    "import os\n",
    "import sys\n",
    "\n",
    "module_path = os.path.abspath(os.path.join('../../src'))\n",
    "print(module_path)\n",
    "if module_path not in sys.path:\n",
    "    sys.path.append(module_path)"
   ]
  },
  {
   "cell_type": "code",
   "execution_count": 14,
   "metadata": {},
   "outputs": [],
   "source": [
    "import csv \n",
    "from pathlib import Path\n",
    "from os import listdir\n",
    "import pickle\n",
    "\n",
    "from labeling_utils import load_labels\n",
    "\n",
    "import numpy as np\n",
    "from sklearn.metrics import precision_recall_fscore_support\n",
    "\n",
    "from sklearn.model_selection import train_test_split\n",
    "import pandas as pd\n",
    "\n",
    "tags=[\"Songbird\",\"Water Bird\",\"Insect\",\"Running Water\",\"Rain\",\"Cable\",\"Wind\",\"Aircraft\"]\n",
    "\n",
    "from tabulate import tabulate\n",
    "tag_set=tags[:]\n",
    "import torch\n",
    "\n",
    "%matplotlib inline\n",
    "\n",
    "from torch.utils.data import Dataset, DataLoader\n"
   ]
  },
  {
   "cell_type": "markdown",
   "metadata": {},
   "source": [
    "* Count only highest ranking tag (what if both of them exist)\n",
    "* Bird tag is confusing, it can be also waterbird, how to handle ? Also Animal\n",
    "* "
   ]
  },
  {
   "cell_type": "code",
   "execution_count": 15,
   "metadata": {},
   "outputs": [],
   "source": [
    "#LOAD MODEL predictions\n",
    "splits_path= Path('/files/scratch/enis/data/nna/labeling/splits/')\n",
    "\n"
   ]
  },
  {
   "cell_type": "code",
   "execution_count": 16,
   "metadata": {},
   "outputs": [
    {
     "name": "stdout",
     "output_type": "stream",
     "text": [
      "unique files: 1300 \n",
      "total files 1366\n"
     ]
    }
   ],
   "source": [
    "import csv\n",
    "from os import listdir\n",
    "from pathlib import Path\n",
    "\n",
    "# LOAD LABELS by human\n",
    "labelsbyhumanpath=Path('/scratch/enis/data/nna/labeling/results/')\n",
    "# filter csv extension also by username\n",
    "labelsbyhuman=[i for i in listdir(labelsbyhumanpath) if (\".csv\" in i ) ]\n",
    "\n",
    "humanresults={}\n",
    "counter=0\n",
    "for apath in labelsbyhuman:\n",
    "    with open(labelsbyhumanpath / apath, newline='') as f:\n",
    "        reader=csv.reader(f)\n",
    "        for row in reader:\n",
    "            counter+=1\n",
    "            humanresults[row[0]]=row[1:]\n",
    "\n",
    "print(\"unique files:\",len(humanresults),\"\\ntotal files\",counter)\n",
    "\n",
    "#Join vehicle and Aircraft\n",
    "for file_name,tagshere in humanresults.items():\n",
    "#     print(file_name,tagshere)\n",
    "    \n",
    "    tagshere=[\"Aircraft\" if tag == \"Vehicle\" else tag for tag in tags]"
   ]
  },
  {
   "cell_type": "code",
   "execution_count": 17,
   "metadata": {},
   "outputs": [],
   "source": [
    "# load name of the labels\n",
    "labels=load_labels()"
   ]
  },
  {
   "cell_type": "code",
   "execution_count": null,
   "metadata": {},
   "outputs": [],
   "source": []
  },
  {
   "cell_type": "code",
   "execution_count": 18,
   "metadata": {},
   "outputs": [],
   "source": [
    "# returns a dictionary, keys are tags from tag set and values are binary list \n",
    "# \n",
    "def vectorized_y_true(humanresults,tag_set):\n",
    "    y_true={tag: np.zeros(len(humanresults)) for tag in tag_set}\n",
    "    for i,tags in enumerate(humanresults.values()):\n",
    "        # we  only look for tags in tag_set\n",
    "        for tag in tag_set:\n",
    "            if tag in tags:\n",
    "                y_true[tag][i] = 1\n",
    "            else:\n",
    "                y_true[tag][i] = 0 \n",
    "    return y_true\n",
    "\n"
   ]
  },
  {
   "cell_type": "code",
   "execution_count": 19,
   "metadata": {},
   "outputs": [],
   "source": [
    "y_true_dict = vectorized_y_true(humanresults,tags)\n",
    "y_true_all = pd.DataFrame(y_true_dict)\n",
    "y_true = np.array(y_true_all[\"Songbird\"]).astype(\"long\")\n"
   ]
  },
  {
   "cell_type": "code",
   "execution_count": 20,
   "metadata": {},
   "outputs": [],
   "source": [
    "def map_reduce(X,func_type):\n",
    "    if func_type==\"Average\":\n",
    "        return np.mean(X,axis=1)\n",
    "    elif func_type==\"Concat\":\n",
    "        return np.reshape(X,(-1,1280))\n",
    "    else:\n",
    "        raise Exception(\"ERROR with embed type\")\n",
    "\n",
    "def pick_embed(embed_type):\n",
    "    # humanresults[proc_embeds[0].replace(\"_embed.npy\",\".mp3\")]\n",
    "    X= np.empty((len(humanresults),10,128))\n",
    "    for index,i in enumerate(humanresults):\n",
    "        if embed_type==\"Raw\":\n",
    "            file_name=i.replace(\".mp3\",\"_rawembed.npy\")\n",
    "        elif embed_type==\"Normalized\":\n",
    "            file_name=i.replace(\".mp3\",\"_embed.npy\")\n",
    "        elif embed_type==\"Unsupervised\":\n",
    "            file_name=i.replace(\".mp3\",\"_superembed.npy\")\n",
    "        else:\n",
    "            raise Exception(\"ERROR with embed type\")\n",
    "        an_x=np.load(split_path / file_name)\n",
    "#         print(index,an_x)\n",
    "        X[index,:,:]=an_x[:]\n",
    "    return X"
   ]
  },
  {
   "cell_type": "code",
   "execution_count": 21,
   "metadata": {},
   "outputs": [],
   "source": [
    "\n",
    "split_path=Path('/scratch/enis/data/nna/labeling/split_embeddings/')\n",
    "# # filter by username\n",
    "# split_embeds=[i for i in listdir(split_path) ]\n",
    "# raw_embeds =  [i for i in split_embeds if \"rawembed\" in i]\n",
    "# proc_embeds = [i for i in split_embeds if \"_embed\" in i]\n",
    "# super_embed = [i for i in split_embeds if \"_superembed\" in i]"
   ]
  },
  {
   "cell_type": "code",
   "execution_count": null,
   "metadata": {},
   "outputs": [],
   "source": []
  },
  {
   "cell_type": "code",
   "execution_count": 37,
   "metadata": {},
   "outputs": [],
   "source": [
    "X=pick_embed(\"Unsupervised\")\n",
    "# X=pick_embed(\"Raw\")\n",
    "\n",
    "# X=map_reduce(X,map_reduce_type)\n",
    "humanresults_keys=list(humanresults.keys())\n"
   ]
  },
  {
   "cell_type": "code",
   "execution_count": 38,
   "metadata": {},
   "outputs": [],
   "source": [
    "X=X.astype(\"float32\")"
   ]
  },
  {
   "cell_type": "code",
   "execution_count": 39,
   "metadata": {},
   "outputs": [],
   "source": [
    "from sklearn.metrics import average_precision_score\n",
    "from sklearn.metrics import roc_auc_score\n",
    "def cal_metrics(y_true_dict,y_pred_dict):\n",
    "    results={}\n",
    "    for tag in tag_set:\n",
    "        y_true = y_true_dict[tag]\n",
    "        y_pred = y_pred_dict[tag]\n",
    "        metrics=precision_recall_fscore_support(y_true, y_pred,pos_label=1,average=\"binary\")\n",
    "        results[tag]=(metrics)\n",
    "    return results\n",
    "\n",
    "def cal_auc(y_true_dict,y_pred_dict_prob):\n",
    "    results={}\n",
    "    for tag in tag_set:\n",
    "        y_true = y_true_dict[tag]\n",
    "        y_pred = y_pred_dict_prob[tag]\n",
    "        metrics_auc=roc_auc_score(y_true, y_pred) #average_precision_score\n",
    "        results[tag]=(metrics_auc)\n",
    "\n",
    "    return results\n",
    "\n",
    "def print_results(results,y_true_dict,):\n",
    "    headers= [\"Label\",\"Positive\",\"Precision\",\"Recall\",\"Fscore\"]\n",
    "    table=[]\n",
    "    sample_count=len(next(iter(y_true_dict.values())))\n",
    "    print(\"Total sample:\",sample_count,\"And threshold is\",prob_threshold)\n",
    "    for tag in (tag_set):\n",
    "        positive_count=sum(y_true_dict[tag])\n",
    "        table.append([tag,positive_count,*results[tag][:-1]])\n",
    "\n",
    "    print(tabulate(table, headers=headers))\n",
    "\n",
    "    "
   ]
  },
  {
   "cell_type": "code",
   "execution_count": null,
   "metadata": {},
   "outputs": [],
   "source": []
  },
  {
   "cell_type": "code",
   "execution_count": 40,
   "metadata": {},
   "outputs": [],
   "source": [
    "device = torch.device(\"cuda:1\" if torch.cuda.is_available() else \"cpu\")\n",
    "# device=\"cpu\""
   ]
  },
  {
   "cell_type": "code",
   "execution_count": 41,
   "metadata": {},
   "outputs": [],
   "source": [
    "def augment_data(data,augmentad_size):\n",
    "    if data.shape[0]>=augmentad_size:\n",
    "        return data[:]\n",
    "    \n",
    "    # Augment post samples\n",
    "    augmentad = data[:]\n",
    "    while augmentad.shape[0] < augmentad_size:\n",
    "        left=augmentad_size-augmentad.shape[0]\n",
    "        left= augmentad.shape[0] if left>augmentad.shape[0] else left\n",
    "#         left = 2 if left==1 else left \n",
    "#         print(augmentad.shape[0],left)\n",
    "        new=np.empty((left,augmentad.shape[1],augmentad.shape[2]))\n",
    "#         print(torch.randperm(augmentad.shape[0])[:left])\n",
    "        first,second=augmentad[torch.randperm(augmentad.shape[0])[:left],:,:].reshape(-1,10,128),augmentad[torch.randperm(augmentad.shape[0])[:left],:,:].reshape(-1,10,128)\n",
    "#         print(first.shape,second.shape)\n",
    "        new[:,0:5,:],new[:,5:10,:]=first[:,0:5,:],second[:,5:10,:]\n",
    "        augmentad=np.concatenate([augmentad,new])\n",
    "    #     print(augmentad.shape)\n",
    "        augmentad=np.unique(augmentad,axis=0)\n",
    "    #     print(augmentad.shape)\n",
    "    return augmentad"
   ]
  },
  {
   "cell_type": "code",
   "execution_count": 42,
   "metadata": {},
   "outputs": [],
   "source": [
    "def nogradloss(X_test,y_test):\n",
    "    with torch.no_grad():    \n",
    "        outputs_test = net(X_test)\n",
    "        loss = criterion(outputs_test, y_test)\n",
    "        return loss.item()\n",
    "\n",
    "def nogradmetrics(X_test,y_test,net,multi_segment=False):\n",
    "    with torch.no_grad():    \n",
    "        if not multi_segment:\n",
    "            y_pred = net(X_test)\n",
    "#             print(y_pred.shape)\n",
    "#             print(y_pred[1:5,:])\n",
    "    #         print(y_pred)\n",
    "            loss = criterion(y_pred, y_test)\n",
    "    #         print(y_pred)\n",
    "            y_pred=torch.exp(y_pred)\n",
    "\n",
    "    #         _, predicted = torch.min(y_pred,1)\n",
    "    #         print(np.exp(_.cpu().numpy()),predicted)\n",
    "            #         print(y_test.shape,y_pred.shape)\n",
    "            train_auc=roc_auc_score(y_test.cpu().numpy(),\n",
    "                                    y_pred[:,1].cpu().numpy()) \n",
    "            \n",
    "            return loss.item(),train_auc\n",
    "        else:\n",
    "            y_pred = net(X_test)\n",
    "            \n",
    "            y_pred_10 =y_pred.reshape(-1,10,2)\n",
    "            indices=torch.max(y_pred[:,1].reshape(-1,10),dim=1).indices\n",
    "            y_pred_10 = y_pred_10[range(y_pred_10.shape[0]),indices,:].reshape(-1,2)\n",
    "            \n",
    "            y_test_10 = torch.max(y_test.reshape(-1,10),dim=1).values\n",
    "            \n",
    "            loss = criterion(y_pred_10, y_test_10)\n",
    "            train_auc=roc_auc_score(y_test_10.cpu().numpy(),\n",
    "                                    y_pred_10[:,1].cpu().numpy()) \n",
    "            return loss.item(),train_auc\n",
    "            "
   ]
  },
  {
   "cell_type": "markdown",
   "metadata": {},
   "source": [
    "#### Run only one of the following cells that does splitting "
   ]
  },
  {
   "cell_type": "code",
   "execution_count": null,
   "metadata": {},
   "outputs": [],
   "source": [
    "# MEAN, AUGMENTAD entire dataset including test and validate\n",
    "\n",
    "pos_index= (y_true==1)\n",
    "neg_index= (y_true==0)\n",
    "\n",
    "\n",
    "X_shuffled = X[:,torch.randperm(X.shape[1]),:]\n",
    "\n",
    "X_shuffled_pos=X_shuffled[pos_index,:,:]\n",
    "X_shuffled_neg=X_shuffled[neg_index,:,:]\n",
    "\n",
    "augmentad_pos=augment_data(X_shuffled_pos,2000)\n",
    "\n",
    "augmentad_neg=augment_data(X_shuffled_neg,2000)\n",
    "\n",
    "\n",
    "X_augmented=np.concatenate([augmentad_pos,augmentad_neg]).astype(\"float32\")\n",
    "y_true_aug=np.concatenate([np.ones(augmentad_pos.shape[0]),np.zeros(augmentad_neg.shape[0])]).astype(\"int64\")\n",
    "\n",
    "\n",
    "\n",
    "MULTI_SEGMENT = False\n",
    "X_augmented_mean=X_augmented.mean(axis=1)\n",
    "\n",
    "X_train, X_test, y_train, y_test = train_test_split(\n",
    "    X_augmented_mean, y_true_aug, test_size=0.2, random_state=42)\n",
    "X_train, X_val, y_train, y_val = train_test_split(\n",
    "    X_train, y_train, test_size=0.25, random_state=42)\n",
    "\n",
    "# X_train=X_train.reshape(X_train.shape[0],-1,128)\n",
    "# X_test=X_test.reshape(X_test.shape[0],-1,128)\n",
    "# X_val=X_val.reshape(X_test.shape[0],-1,128)\n"
   ]
  },
  {
   "cell_type": "code",
   "execution_count": 573,
   "metadata": {
    "collapsed": true
   },
   "outputs": [],
   "source": [
    "# AUGMENTATION Experiment\n",
    "# from \"Shuffling and Mixing Data Augmentation for Environmental Sound Classification\" by Tadanobu Inoue et. al\n",
    "\n",
    "MULTI_SEGMENT = False\n",
    "FLAT=False\n",
    "\n",
    "X_train, X_test, y_train, y_test = train_test_split(\n",
    "    X.reshape(X.shape[0],-1), y_true, test_size=0.2, random_state=42)\n",
    "X_train, X_val, y_train, y_val = train_test_split(\n",
    "    X_train, y_train, test_size=0.25, random_state=42)\n",
    "\n",
    "X_train=X_train.reshape(X_train.shape[0],-1,128)\n",
    "X_test=X_test.reshape(X_test.shape[0],-1,128)\n",
    "X_val=X_val.reshape(X_test.shape[0],-1,128)\n",
    "\n",
    "\n",
    "\n",
    "pos_index= (y_train==1)\n",
    "neg_index= (y_train==0)\n",
    "\n",
    "# shuffle each sample sound within itself, granularity is 1 second, samples are 10 second\n",
    "# so change order of seconds\n",
    "X_shuffled = X_train[:,torch.randperm(X_train.shape[1]),:]\n",
    "# no shuffle\n",
    "# X_shuffled = X_train[:,:,:]\n",
    "\n",
    "X_shuffled_pos=X_shuffled[pos_index,:,:]\n",
    "X_shuffled_neg=X_shuffled[neg_index,:,:]\n",
    "\n",
    "augmentation_ratio=1.2\n",
    "augmentation_ratio=(1/augmentation_ratio)\n",
    "augmentad_pos=augment_data(X_shuffled_pos,int(X_shuffled_pos.shape[0]//augmentation_ratio))\n",
    "# augmentad_neg=augment_data(X_shuffled_neg,int(X_shuffled_neg.shape[0]//augmentation_ratio))\n",
    "augmentad_neg=augment_data(X_shuffled_neg,X_shuffled_neg.shape[0])\n",
    "\n",
    "\n",
    "X_train_augmented=np.concatenate([augmentad_pos,augmentad_neg]).astype(\"float32\")\n",
    "y_train_aug=np.concatenate([np.ones(augmentad_pos.shape[0]),np.zeros(augmentad_neg.shape[0])]).astype(\"int64\")\n",
    "\n",
    "X_train=X_train_augmented[:]\n",
    "y_train=y_train_aug[:]\n",
    "\n",
    "X_train=X_train.mean(axis=1)\n",
    "X_test=X_test.mean(axis=1)\n",
    "X_val=X_val.mean(axis=1)\n"
   ]
  },
  {
   "cell_type": "code",
   "execution_count": 536,
   "metadata": {
    "collapsed": true
   },
   "outputs": [],
   "source": [
    "# concat inputs\n",
    "MULTI_SEGMENT = False\n",
    "FLAT=True\n",
    "X_train, X_test, y_train, y_test = train_test_split(\n",
    "    X.reshape(X.shape[0],-1), y_true, test_size=0.2, random_state=42)\n",
    "X_train, X_val, y_train, y_val = train_test_split(\n",
    "    X_train, y_train, test_size=0.25, random_state=42)\n",
    "\n",
    "X_train=X_train.reshape(X_train.shape[0],-1,128)\n",
    "X_test=X_test.reshape(X_test.shape[0],-1,128)\n",
    "X_val=X_val.reshape(X_test.shape[0],-1,128)\n"
   ]
  },
  {
   "cell_type": "code",
   "execution_count": 502,
   "metadata": {},
   "outputs": [
    {
     "data": {
      "text/plain": [
       "(2.4, 2.0)"
      ]
     },
     "execution_count": 502,
     "metadata": {},
     "output_type": "execute_result"
    }
   ],
   "source": []
  },
  {
   "cell_type": "code",
   "execution_count": null,
   "metadata": {
    "collapsed": true
   },
   "outputs": [],
   "source": []
  },
  {
   "cell_type": "code",
   "execution_count": null,
   "metadata": {
    "collapsed": true
   },
   "outputs": [],
   "source": []
  },
  {
   "cell_type": "code",
   "execution_count": 516,
   "metadata": {
    "collapsed": true
   },
   "outputs": [],
   "source": [
    "# MEAN\n",
    "MULTI_SEGMENT = False\n",
    "FLAT=False\n",
    "\n",
    "X_train, X_test, y_train, y_test = train_test_split(\n",
    "    X_mean, y_true, test_size=0.2, random_state=42)\n",
    "X_train, X_val, y_train, y_val = train_test_split(\n",
    "    X_train, y_train, test_size=0.25, random_state=42)\n",
    "\n",
    "# X_train=X_train.reshape(X_train.shape[0],-1,128)\n",
    "# X_test=X_test.reshape(X_test.shape[0],-1,128)\n",
    "# X_val=X_val.reshape(X_test.shape[0],-1,128)\n"
   ]
  },
  {
   "cell_type": "code",
   "execution_count": null,
   "metadata": {
    "collapsed": true
   },
   "outputs": [],
   "source": []
  },
  {
   "cell_type": "code",
   "execution_count": null,
   "metadata": {
    "collapsed": true
   },
   "outputs": [],
   "source": []
  },
  {
   "cell_type": "code",
   "execution_count": 188,
   "metadata": {},
   "outputs": [
    {
     "data": {
      "text/plain": [
       "(1300, 1280)"
      ]
     },
     "execution_count": 188,
     "metadata": {},
     "output_type": "execute_result"
    }
   ],
   "source": []
  },
  {
   "cell_type": "code",
   "execution_count": 43,
   "metadata": {},
   "outputs": [],
   "source": [
    "# BEST model came from this cell\n",
    "\n",
    "# seperate,  \n",
    "# different AUC calculation PART, to be fair  (do max of 10 predictions)\n",
    "MULTI_SEGMENT = True\n",
    "FLAT=False\n",
    "\n",
    "X_train, X_test, y_train, y_test = train_test_split(\n",
    "    X.reshape(X.shape[0],-1), y_true, test_size=0.2, random_state=42)\n",
    "X_train, X_val, y_train, y_val = train_test_split(\n",
    "    X_train, y_train, test_size=0.25, random_state=42)\n",
    "\n",
    "# use 1 second as  samples\n",
    "X_train=X_train.reshape(-1,128)\n",
    "X_test=X_test.reshape(-1,128)\n",
    "X_val=X_val.reshape(-1,128)\n",
    "\n",
    "# repeat labels\n",
    "y_train=np.repeat(y_train,10)\n",
    "y_test=np.repeat(y_test,10)\n",
    "y_val=np.repeat(y_val,10)\n",
    "\n",
    "\n"
   ]
  },
  {
   "cell_type": "code",
   "execution_count": null,
   "metadata": {},
   "outputs": [],
   "source": []
  },
  {
   "cell_type": "code",
   "execution_count": null,
   "metadata": {},
   "outputs": [],
   "source": []
  },
  {
   "cell_type": "markdown",
   "metadata": {},
   "source": [
    "### From here, run all cells: moving data to device, model creation and training"
   ]
  },
  {
   "cell_type": "code",
   "execution_count": 44,
   "metadata": {},
   "outputs": [],
   "source": [
    "X_train=torch.from_numpy(X_train).to(device)\n",
    "X_test=torch.from_numpy(X_test).to(device)\n",
    "X_val=torch.from_numpy(X_val).to(device)\n",
    "# birds\n",
    "\n",
    "y_val=torch.from_numpy(y_val).to(device)\n",
    "y_test=torch.from_numpy(y_test).to(device)\n",
    "y_train=torch.from_numpy(y_train).to(device)\n"
   ]
  },
  {
   "cell_type": "code",
   "execution_count": null,
   "metadata": {},
   "outputs": [],
   "source": []
  },
  {
   "cell_type": "code",
   "execution_count": 45,
   "metadata": {},
   "outputs": [],
   "source": [
    "class audioDataset(Dataset):\n",
    "    \"\"\"Face Landmarks dataset.\"\"\"\n",
    "\n",
    "    def __init__(self,X,y, transform=None):\n",
    "        \"\"\"\n",
    "        Args:\n",
    "            csv_file (string): Path to the csv file with annotations.\n",
    "            root_dir (string): Directory with all the images.\n",
    "            transform (callable, optional): Optional transform to be applied\n",
    "                on a sample.\n",
    "        \"\"\"\n",
    "        self.X=X\n",
    "        self.y=y\n",
    "#         self.landmarks_frame = pd.read_csv(csv_file)\n",
    "#         self.root_dir = root_dir\n",
    "        self.transform = transform\n",
    "\n",
    "    def __len__(self):\n",
    "        return self.X.shape[0]\n",
    "\n",
    "    def __getitem__(self, idx):\n",
    "\n",
    "        sample = self.X[idx],self.y[idx]\n",
    "\n",
    "        if self.transform:\n",
    "            sample = self.transform(sample)\n",
    "\n",
    "        return sample"
   ]
  },
  {
   "cell_type": "code",
   "execution_count": null,
   "metadata": {},
   "outputs": [],
   "source": []
  },
  {
   "cell_type": "code",
   "execution_count": 46,
   "metadata": {},
   "outputs": [],
   "source": [
    "params = {'batch_size': 200,\n",
    "          'shuffle': True,\n",
    "          'num_workers': 0}\n",
    "\n",
    "training_set=audioDataset(X_train,y_train)\n",
    "training_generator = DataLoader(training_set, **params)\n"
   ]
  },
  {
   "cell_type": "code",
   "execution_count": null,
   "metadata": {},
   "outputs": [],
   "source": []
  },
  {
   "cell_type": "code",
   "execution_count": 59,
   "metadata": {},
   "outputs": [],
   "source": [
    "import torch.nn as nn\n",
    "import torch.nn.functional as F\n",
    "\n",
    "\n",
    "class Net(nn.Module):\n",
    "    def __init__(self):\n",
    "        super(Net, self).__init__()\n",
    "#         self.conv1 = nn.Conv2d(3, 6, 5)\n",
    "#         self.pool = nn.MaxPool2d(2, 2)\n",
    "#         self.conv2 = nn.Conv2d(6, 16, 5)\n",
    "        if FLAT:\n",
    "            self.fc1 = nn.Linear(1280, 100)\n",
    "        else:\n",
    "            self.fc1 = nn.Linear(128, 100)\n",
    "#         self.fc1 = nn.Linear(128, 32)\n",
    "        torch.nn.init.xavier_normal_(self.fc1.weight)\n",
    "        self.fc1_bn = nn.BatchNorm1d(100)\n",
    "\n",
    "        self.fc2 = nn.Linear(32, 32)\n",
    "        torch.nn.init.xavier_normal_(self.fc2.weight)\n",
    "        self.fc2_bn = nn.BatchNorm1d(32)\n",
    "\n",
    "        self.fc3 = nn.Linear(32,100)\n",
    "        torch.nn.init.xavier_normal_(self.fc3.weight)\n",
    "        self.fc3_bn = nn.BatchNorm1d(100)\n",
    "\n",
    "        self.fc4 = nn.Linear(100, 2)\n",
    "        torch.nn.init.xavier_normal_(self.fc4.weight)\n",
    "\n",
    "        self.drop = nn.Dropout(p=0.2)\n",
    " \n",
    "    def forward(self, x):\n",
    "#         x = self.pool(F.relu(self.conv1(x)))\n",
    "#         x = self.pool(F.relu(self.conv2(x)))\n",
    "        if FLAT:\n",
    "            x = x.view(-1,1280)\n",
    "        else:\n",
    "            x = x.view(-1,128)\n",
    "\n",
    "        x = F.relu(self.fc1_bn(self.fc1(x)))\n",
    "#         x = F.relu((self.fc1(x)))\n",
    "\n",
    "        x=self.drop(x)\n",
    "\n",
    "#         x = F.relu(self.fc2_bn(x))\n",
    "#         x=self.drop(x)\n",
    "        \n",
    "#         x = F.relu(self.fc3(x))\n",
    "#         x=self.drop(x)\n",
    "\n",
    "        x = self.fc4(x)\n",
    "#         print(x)\n",
    "        x = F.log_softmax(x,dim=1)\n",
    "#         print(x)\n",
    "        return x\n",
    "\n",
    "\n",
    "net = Net().to(device)\n",
    "loss_values={\"val\":[],\"train\":[],\"train_auc\":[],\"val_auc\":[]}\n",
    "\n"
   ]
  },
  {
   "cell_type": "code",
   "execution_count": null,
   "metadata": {},
   "outputs": [],
   "source": []
  },
  {
   "cell_type": "code",
   "execution_count": 60,
   "metadata": {},
   "outputs": [],
   "source": [
    "import torch.optim as optim\n",
    "\n",
    "#cross-entropy loss is sklearn one\n",
    "# criterion = nn.CrossEntropyLoss(weight=torch.tensor([1.0,5.0]).to(device))\n",
    "criterion = nn.CrossEntropyLoss()\n",
    "\n",
    "# criterion = nn.NLLLoss()\n",
    "optimizer = optim.Adam(net.parameters(),weight_decay=0.001)"
   ]
  },
  {
   "cell_type": "code",
   "execution_count": null,
   "metadata": {},
   "outputs": [],
   "source": []
  },
  {
   "cell_type": "code",
   "execution_count": 61,
   "metadata": {},
   "outputs": [],
   "source": [
    "import copy"
   ]
  },
  {
   "cell_type": "code",
   "execution_count": 62,
   "metadata": {
    "scrolled": true
   },
   "outputs": [
    {
     "name": "stdout",
     "output_type": "stream",
     "text": [
      "[0] test : 0.669 train: 0.633  test auc0.619  train auc0.683\n",
      "[20] test : 0.637 train: 0.561  test auc0.733  train auc0.850\n",
      "[40] test : 0.693 train: 0.530  test auc0.698  train auc0.917\n",
      "[60] test : 0.744 train: 0.496  test auc0.674  train auc0.946\n",
      "[80] test : 0.754 train: 0.428  test auc0.696  train auc0.964\n",
      "Finished Training\n"
     ]
    }
   ],
   "source": [
    "from IPython import display\n",
    "import time\n",
    "best_acc1=0\n",
    "\n",
    "for epoch in range(100):  # loop over the dataset multiple times\n",
    "    running_loss = 0.0\n",
    "    for i, data in enumerate(training_generator, 0):\n",
    "        # get the inputs; data is a list of [inputs, labels]\n",
    "        inputs, labels = data\n",
    "#         print(inputs)\n",
    "        # zero the parameter gradients\n",
    "        optimizer.zero_grad()\n",
    "\n",
    "        # forward + backward + optimize\n",
    "#         print(inputs.shape)\n",
    "        outputs = net(inputs)\n",
    "        loss = criterion(outputs, labels)\n",
    "\n",
    "        loss.backward()\n",
    "        optimizer.step()\n",
    "\n",
    "        # print statistics\n",
    "#         running_loss += loss.item()\n",
    "#     if epoch % 20 == 0:    # print every 2000 mini-batches\n",
    "    net.eval()\n",
    "    test_loss,test_auc=nogradmetrics(X_val,y_val,net,multi_segment=MULTI_SEGMENT)\n",
    "    train_loss,train_auc=nogradmetrics(X_train,y_train,net,multi_segment=MULTI_SEGMENT)\n",
    "    net.train()\n",
    "    loss_values[\"val\"].append(test_loss)\n",
    "    loss_values[\"train\"].append(train_loss)\n",
    "    loss_values[\"val_auc\"].append(test_auc)\n",
    "    loss_values[\"train_auc\"].append(train_auc)\n",
    "    if epoch % 20 == 0:    # print every 2000 mini-batches\n",
    "        print('[%d] test : %.3f train: %.3f  test auc%.3f  train auc%.3f' %\n",
    "              (epoch ,test_loss, train_loss,test_auc,train_auc))\n",
    "    is_best = test_auc > best_acc1\n",
    "    best_acc1 = max(test_auc, best_acc1)\n",
    "    if is_best:\n",
    "        best_model=copy.deepcopy(net)\n",
    "    \n",
    "#         display.clear_output(wait=True)\n",
    "#         display.display(results.plot())\n",
    "print('Finished Training')\n",
    "\n"
   ]
  },
  {
   "cell_type": "code",
   "execution_count": 63,
   "metadata": {},
   "outputs": [
    {
     "data": {
      "text/plain": [
       "0.7356237638268259"
      ]
     },
     "execution_count": 63,
     "metadata": {},
     "output_type": "execute_result"
    }
   ],
   "source": [
    "best_acc1"
   ]
  },
  {
   "cell_type": "code",
   "execution_count": null,
   "metadata": {},
   "outputs": [],
   "source": []
  },
  {
   "cell_type": "code",
   "execution_count": 310,
   "metadata": {},
   "outputs": [],
   "source": [
    "# save best model, change name accordingly, by adding validation accuracy\n",
    "import time\n",
    "timestr = time.strftime(\"%Y%m%d-%H%M%S\")\n",
    "\n",
    "torch.save(best_model.state_dict(), \"../../data/models/bird_FC_089valid_\"+timestr+\".pth\")\n"
   ]
  },
  {
   "cell_type": "code",
   "execution_count": null,
   "metadata": {},
   "outputs": [],
   "source": []
  },
  {
   "cell_type": "code",
   "execution_count": 65,
   "metadata": {},
   "outputs": [
    {
     "data": {
      "image/png": "[encoded data removed]",
      "text/plain": [
       "<Figure size 432x288 with 1 Axes>"
      ]
     },
     "metadata": {
      "needs_background": "light"
     },
     "output_type": "display_data"
    },
    {
     "data": {
      "image/png": "[encoded data removed]",
      "text/plain": [
       "<Figure size 432x288 with 1 Axes>"
      ]
     },
     "metadata": {
      "needs_background": "light"
     },
     "output_type": "display_data"
    }
   ],
   "source": [
    "# visualize results\n",
    "results=pd.DataFrame(loss_values)\n",
    "first=results[[\"val\",\"train\"]].plot()\n",
    "second = results[[\"val_auc\",\"train_auc\"]].plot()"
   ]
  },
  {
   "cell_type": "code",
   "execution_count": 67,
   "metadata": {},
   "outputs": [],
   "source": [
    "fig=second.get_figure()\n",
    "fig.savefig(\"unsupervisedresults.png\")"
   ]
  },
  {
   "cell_type": "code",
   "execution_count": 311,
   "metadata": {},
   "outputs": [
    {
     "data": {
      "text/plain": [
       "(0.6671180725097656, 0.8443587662337662)"
      ]
     },
     "execution_count": 311,
     "metadata": {},
     "output_type": "execute_result"
    }
   ],
   "source": [
    "# results on test dataset, loss and AUC\n",
    "nogradmetrics(X_test,y_test,best_model,multi_segment=MULTI_SEGMENT)"
   ]
  },
  {
   "cell_type": "code",
   "execution_count": null,
   "metadata": {},
   "outputs": [],
   "source": []
  },
  {
   "cell_type": "code",
   "execution_count": null,
   "metadata": {},
   "outputs": [],
   "source": []
  },
  {
   "cell_type": "code",
   "execution_count": null,
   "metadata": {
    "collapsed": true
   },
   "outputs": [],
   "source": [
    "test_set=audioDataset(X_test,y_test)\n",
    "test_generator = DataLoader(test_set, **params)\n"
   ]
  },
  {
   "cell_type": "markdown",
   "metadata": {},
   "source": [
    "Following linse are for comparing sklearn MLP and this model"
   ]
  },
  {
   "cell_type": "code",
   "execution_count": 189,
   "metadata": {},
   "outputs": [],
   "source": [
    "X_last=X[:]\n",
    "# X_last=X_last.reshape(X_last.shape[0],-1)\n",
    "X_last=X_last.reshape(-1,128)\n",
    "X_last_sklearn=X_last[:]\n",
    "X_last=torch.from_numpy(X_last).to(device)\n"
   ]
  },
  {
   "cell_type": "code",
   "execution_count": null,
   "metadata": {},
   "outputs": [],
   "source": [
    "X_last.shape"
   ]
  },
  {
   "cell_type": "code",
   "execution_count": 190,
   "metadata": {},
   "outputs": [
    {
     "data": {
      "text/plain": [
       "(torch.Size([1300, 2]), torch.Size([260]))"
      ]
     },
     "execution_count": 190,
     "metadata": {},
     "output_type": "execute_result"
    }
   ],
   "source": [
    "y_pred_10.shape,y_test_10.shape"
   ]
  },
  {
   "cell_type": "code",
   "execution_count": 213,
   "metadata": {},
   "outputs": [
    {
     "data": {
      "text/plain": [
       "(torch.Size([2600, 128]), torch.Size([2600]))"
      ]
     },
     "execution_count": 213,
     "metadata": {},
     "output_type": "execute_result"
    }
   ],
   "source": [
    "X_val.shape,y_val.shape"
   ]
  },
  {
   "cell_type": "code",
   "execution_count": 214,
   "metadata": {},
   "outputs": [
    {
     "name": "stdout",
     "output_type": "stream",
     "text": [
      "0.8961980807266867\n"
     ]
    }
   ],
   "source": [
    "best_model.eval()\n",
    "with torch.no_grad():    \n",
    "    \n",
    "    y_pred = best_model(X_val)\n",
    "    y_pred_10 =y_pred.reshape(-1,10,2)\n",
    "    indices=torch.max(y_pred[:,1].reshape(-1,10),dim=1).indices\n",
    "    y_pred_10 = y_pred_10[range(y_pred_10.shape[0]),indices,:].reshape(-1,2)\n",
    "\n",
    "    y_val_10 = torch.max(y_val.reshape(-1,10),dim=1).values\n",
    "\n",
    "#     loss = criterion(y_pred_10, y_true)\n",
    "\n",
    "    train_auc=roc_auc_score(y_val_10.cpu().numpy(),\n",
    "                            y_pred_10[:,1].cpu().numpy()) \n",
    "    print(train_auc)\n"
   ]
  },
  {
   "cell_type": "code",
   "execution_count": null,
   "metadata": {},
   "outputs": [],
   "source": []
  },
  {
   "cell_type": "code",
   "execution_count": 217,
   "metadata": {},
   "outputs": [],
   "source": [
    "y_pred=y_pred_10.cpu()\n",
    "y_pred=torch.exp(y_pred[:,1])\n",
    "y_pred[y_pred>=0.5]=1\n",
    "y_pred[y_pred<0.5]=0\n"
   ]
  },
  {
   "cell_type": "code",
   "execution_count": 220,
   "metadata": {},
   "outputs": [
    {
     "data": {
      "text/plain": [
       "(120, 67, 5, 68)"
      ]
     },
     "execution_count": 220,
     "metadata": {},
     "output_type": "execute_result"
    }
   ],
   "source": [
    "from sklearn.metrics import confusion_matrix\n",
    "\n",
    "tn, fp, fn, tp=confusion_matrix(y_val_10.cpu().numpy(), y_pred).ravel()\n",
    "tn, fp, fn, tp\n",
    "(164, 23, 21, 52)\n",
    "    sklearn  pytorch\n",
    "tp   52       68\n",
    "fp   23       67\n",
    "tn   164      120\n",
    "fn   21       5\n",
    "\n"
   ]
  },
  {
   "cell_type": "code",
   "execution_count": 1,
   "metadata": {},
   "outputs": [],
   "source": [
    "total=0\n",
    "for i,mm in enumerate(y_true):\n",
    "    predict= 1 if y_pred[i]>0.5 else 0 \n",
    "    if mm!=predict:\n",
    "        total+=1\n",
    "        print(humanresults_keys[i])\n",
    "print(total)"
   ]
  },
  {
   "cell_type": "markdown",
   "metadata": {},
   "source": [
    "#### compare with sklearn"
   ]
  },
  {
   "cell_type": "code",
   "execution_count": 171,
   "metadata": {},
   "outputs": [],
   "source": [
    "import pickle\n",
    "\n",
    "# and later you can load it\n",
    "with open('../Visualizations/raw_many2one_NN.pkl', 'rb') as f:\n",
    "    clf = pickle.load(f)"
   ]
  },
  {
   "cell_type": "code",
   "execution_count": 172,
   "metadata": {},
   "outputs": [],
   "source": [
    "def many2one_predict(X,clf):\n",
    "    \n",
    "    result_count=(X.shape[0]//10) if X.shape[0]%10==0 else (X.shape[0]//10)+1\n",
    "    results=np.empty(result_count)\n",
    "    for i in range(0,X.shape[0],10):\n",
    "        result10=clf.predict(X[i:i+10,:])\n",
    "        results[(i//10)] = np.max(result10)\n",
    "    return results"
   ]
  },
  {
   "cell_type": "code",
   "execution_count": 196,
   "metadata": {},
   "outputs": [
    {
     "data": {
      "text/plain": [
       "(13000, 128)"
      ]
     },
     "execution_count": 196,
     "metadata": {},
     "output_type": "execute_result"
    }
   ],
   "source": [
    "X_last_sklearn.shape"
   ]
  },
  {
   "cell_type": "code",
   "execution_count": 205,
   "metadata": {},
   "outputs": [],
   "source": [
    "#TEST\n",
    "samples=np.ones((200,128))\n",
    "y_pred_sklearn=many2one_predict(X_val.cpu().numpy(),clf['Neural Net_Songbird'])"
   ]
  },
  {
   "cell_type": "code",
   "execution_count": 221,
   "metadata": {},
   "outputs": [
    {
     "data": {
      "text/plain": [
       "(164, 23, 21, 52)"
      ]
     },
     "execution_count": 221,
     "metadata": {},
     "output_type": "execute_result"
    }
   ],
   "source": [
    "from sklearn.metrics import confusion_matrix\n",
    "\n",
    "tn, fp, fn, tp=confusion_matrix(y_val_10.cpu().numpy(), y_pred_sklearn).ravel()\n",
    "tn, fp, fn, tp"
   ]
  },
  {
   "cell_type": "code",
   "execution_count": 203,
   "metadata": {},
   "outputs": [
    {
     "name": "stdout",
     "output_type": "stream",
     "text": [
      "CLVL2_20160604_153809_1807m_40s__1807m_50s.mp3 1 0 0\n",
      "CLVL5_20160606_195535_1100m_07s__1100m_17s.mp3 1 0 0\n",
      "OCNPT_20160626_214658_0865m_02s__0865m_12s.mp3 1 0 0\n",
      "USGS_20160618_030453_1287m_34s__1287m_44s.mp3 1 0 0\n",
      "SHORTY_20160619_042858_2563m_41s__2563m_51s.mp3 1 0 0\n",
      "OCNPT3_20160615_005046_0813m_58s__0814m_08s.mp3 1 0 0\n",
      "FSHCK3_20160720_115157_1777m_41s__1777m_51s.mp3 1 0 0\n",
      "UMIRUK_20160621_083400_0515m_46s__0515m_56s.mp3 1 0 0\n",
      "FSHCK4_20160629_194935_0237m_49s__0237m_59s.mp3 1 0 0\n",
      "ITKILLIK1_20160710_091444_0974m_18s__0974m_28s.mp3 1 0 0\n",
      "CLVL2_20160715_134031_0935m_28s__0935m_38s.mp3 1 0 0\n",
      "FSHCK3_20160706_000310_2407m_12s__2407m_22s.mp3 1 0 0\n",
      "ITKILLIK2_20160626_172259_2184m_56s__2185m_06s.mp3 1 0 0\n",
      "FSHCK1_20160808_050938_0344m_36s__0344m_46s.mp3 1 0 0\n",
      "ICERD_20160824_161434_0373m_50s__0374m_00s.mp3 1 0 0\n",
      "CLVL2_20160715_134031_2759m_40s__2759m_50s.mp3 1 0 0\n",
      "USGS_20160609_201955_0289m_57s__0290m_07s.mp3 1 0 0\n",
      "CLVL4_20160701_002747_2710m_53s__2711m_03s.mp3 1 0 0\n",
      "UMIAT_20130727_224356_0077m_01s__0077m_11s.mp3 1 0 0\n",
      "CLVL5_20160626_203118_2238m_03s__2238m_13s.mp3 1 0 0\n",
      "FSHCK1_20160812_083207_2277m_38s__2277m_48s.mp3 1 0 0\n",
      "ICERD_20160822_143323_2696m_08s__2696m_18s.mp3 1 0 0\n",
      "NIGLIQ2_20160706_034307_2188m_23s__2188m_33s.mp3 1 0 0\n",
      "ICERD_20160826_175546_0986m_50s__0987m_00s.mp3 1 0 0\n",
      "NIGLIQ1_20160605_185101_2430m_36s__2430m_46s.mp3 1 0 0\n",
      "CLVL2_20160617_014524_2284m_40s__2284m_50s.mp3 1 0 0\n",
      "CLVL5_20160624_185002_0179m_19s__0179m_29s.mp3 1 0 0\n",
      "USGS_20160715_050919_1240m_44s__1240m_54s.mp3 1 0 0\n",
      "CLVL2_20160715_134031_0653m_51s__0654m_01s.mp3 1 0 0\n",
      "ITKILLIK2_20160814_064822_1734m_46s__1734m_56s.mp3 1 0 0\n",
      "UMIAT_20130831_083548_1453m_53s__1454m_03s.mp3 1 0 0\n",
      "ITKILLIK1_20160710_091444_0437m_54s__0438m_04s.mp3 1 0 0\n",
      "0731_231042_0647m_32s__0647m_42s.mp3 1 0 0\n",
      "CLVL2_20160719_170257_0056m_11s__0056m_21s.mp3 1 0 0\n",
      "34\n"
     ]
    }
   ],
   "source": [
    "total=0\n",
    "for i,mm in enumerate(y_true):\n",
    "    predict= 1 if y_pred[i]>0.5 else 0 \n",
    "    predict_sklearn=int(y_pred_sklearn[i])\n",
    "    if mm!=predict and mm==1:\n",
    "        total+=1\n",
    "        print(humanresults_keys[i],mm,predict,predict_sklearn)\n",
    "print(total)"
   ]
  },
  {
   "cell_type": "code",
   "execution_count": null,
   "metadata": {},
   "outputs": [],
   "source": [
    "from sklearn.metrics import confusion_matrix\n",
    "\n",
    "confusion_matrix(y_true, y_pred)"
   ]
  },
  {
   "cell_type": "code",
   "execution_count": null,
   "metadata": {},
   "outputs": [],
   "source": []
  },
  {
   "cell_type": "code",
   "execution_count": 411,
   "metadata": {},
   "outputs": [
    {
     "data": {
      "text/plain": [
       "(tensor([0.5201, 0.4799]), tensor([0.5363, 0.4637]))"
      ]
     },
     "execution_count": 411,
     "metadata": {},
     "output_type": "execute_result"
    }
   ],
   "source": [
    "np.exp([-6.7866, -4.4634])\n",
    "F.softmax(torch.Tensor([0.5403, 0.4597]),dim=0),torch.exp(F.log_softmax(torch.Tensor([ 0.1147, -0.0307]),dim=0))"
   ]
  },
  {
   "cell_type": "code",
   "execution_count": null,
   "metadata": {
    "collapsed": true
   },
   "outputs": [],
   "source": []
  },
  {
   "cell_type": "code",
   "execution_count": null,
   "metadata": {
    "collapsed": true
   },
   "outputs": [],
   "source": []
  }
 ],
 "metadata": {
  "kernelspec": {
   "display_name": "speechEnv",
   "language": "python",
   "name": "speechenv"
  },
  "language_info": {
   "codemirror_mode": {
    "name": "ipython",
    "version": 3
   },
   "file_extension": ".py",
   "mimetype": "text/x-python",
   "name": "python",
   "nbconvert_exporter": "python",
   "pygments_lexer": "ipython3",
   "version": "3.7.2"
  }
 },
 "nbformat": 4,
 "nbformat_minor": 2
}
