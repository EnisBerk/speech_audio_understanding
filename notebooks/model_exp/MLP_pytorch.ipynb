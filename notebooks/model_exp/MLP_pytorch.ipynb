{
 "cells": [
  {
   "cell_type": "code",
   "execution_count": 2,
   "metadata": {},
   "outputs": [
    {
     "name": "stdout",
     "output_type": "stream",
     "text": [
      "/home/enis/projects/nna/src\n"
     ]
    }
   ],
   "source": [
    "import os\n",
    "import sys\n",
    "\n",
    "module_path = os.path.abspath(os.path.join('../../src'))\n",
    "print(module_path)\n",
    "if module_path not in sys.path:\n",
    "    sys.path.append(module_path)"
   ]
  },
  {
   "cell_type": "code",
   "execution_count": 3,
   "metadata": {},
   "outputs": [],
   "source": [
    "import csv \n",
    "from pathlib import Path\n",
    "from os import listdir\n",
    "import pickle\n",
    "\n",
    "from labeling_utils import load_labels\n",
    "\n",
    "import numpy as np\n",
    "from sklearn.metrics import precision_recall_fscore_support\n",
    "\n",
    "from sklearn.model_selection import train_test_split\n",
    "import pandas as pd\n",
    "\n",
    "tags=[\"Songbird\",\"Water Bird\",\"Insect\",\"Running Water\",\"Rain\",\"Cable\",\"Wind\",\"Aircraft\"]\n",
    "\n",
    "from tabulate import tabulate\n",
    "tag_set=tags[:]\n",
    "import torch\n",
    "\n",
    "%matplotlib inline\n",
    "\n",
    "from torch.utils.data import Dataset, DataLoader\n"
   ]
  },
  {
   "cell_type": "markdown",
   "metadata": {},
   "source": [
    "* Count only highest ranking tag (what if both of them exist)\n",
    "* Bird tag is confusing, it can be also waterbird, how to handle ? Also Animal\n",
    "* "
   ]
  },
  {
   "cell_type": "code",
   "execution_count": 4,
   "metadata": {},
   "outputs": [],
   "source": [
    "#LOAD MODEL predictions\n",
    "splits_path= Path('/files/scratch/enis/data/nna/labeling/splits/')\n",
    "\n"
   ]
  },
  {
   "cell_type": "code",
   "execution_count": 5,
   "metadata": {},
   "outputs": [
    {
     "name": "stdout",
     "output_type": "stream",
     "text": [
      "unique files: 1300 \n",
      "total files 1366\n"
     ]
    }
   ],
   "source": [
    "import csv\n",
    "from os import listdir\n",
    "from pathlib import Path\n",
    "\n",
    "# LOAD LABELS by human\n",
    "labelsbyhumanpath=Path('/scratch/enis/data/nna/labeling/results/')\n",
    "# filter csv extension also by username\n",
    "labelsbyhuman=[i for i in listdir(labelsbyhumanpath) if (\".csv\" in i ) ]\n",
    "\n",
    "humanresults={}\n",
    "counter=0\n",
    "for apath in labelsbyhuman:\n",
    "    with open(labelsbyhumanpath / apath, newline='') as f:\n",
    "        reader=csv.reader(f)\n",
    "        for row in reader:\n",
    "            counter+=1\n",
    "            humanresults[row[0]]=row[1:]\n",
    "\n",
    "print(\"unique files:\",len(humanresults),\"\\ntotal files\",counter)\n",
    "\n",
    "#Join vehicle and Aircraft\n",
    "for file_name,tagshere in humanresults.items():\n",
    "#     print(file_name,tagshere)\n",
    "    \n",
    "    tagshere=[\"Aircraft\" if tag == \"Vehicle\" else tag for tag in tags]"
   ]
  },
  {
   "cell_type": "code",
   "execution_count": 6,
   "metadata": {},
   "outputs": [],
   "source": [
    "# load name of the labels\n",
    "labels=load_labels()"
   ]
  },
  {
   "cell_type": "code",
   "execution_count": null,
   "metadata": {},
   "outputs": [],
   "source": []
  },
  {
   "cell_type": "code",
   "execution_count": 7,
   "metadata": {},
   "outputs": [],
   "source": [
    "# returns a dictionary, keys are tags from tag set and values are binary list \n",
    "# \n",
    "def vectorized_y_true(humanresults,tag_set):\n",
    "    y_true={tag: np.zeros(len(humanresults)) for tag in tag_set}\n",
    "    for i,tags in enumerate(humanresults.values()):\n",
    "        # we  only look for tags in tag_set\n",
    "        for tag in tag_set:\n",
    "            if tag in tags:\n",
    "                y_true[tag][i] = 1\n",
    "            else:\n",
    "                y_true[tag][i] = 0 \n",
    "    return y_true\n",
    "\n"
   ]
  },
  {
   "cell_type": "code",
   "execution_count": 8,
   "metadata": {},
   "outputs": [],
   "source": [
    "y_true_dict = vectorized_y_true(humanresults,tags)\n",
    "y_true_all = pd.DataFrame(y_true_dict)\n",
    "y_true = np.array(y_true_all[\"Songbird\"]).astype(\"long\")\n"
   ]
  },
  {
   "cell_type": "code",
   "execution_count": 9,
   "metadata": {},
   "outputs": [],
   "source": [
    "def map_reduce(X,func_type):\n",
    "    if func_type==\"Average\":\n",
    "        return np.mean(X,axis=1)\n",
    "    elif func_type==\"Concat\":\n",
    "        return np.reshape(X,(-1,1280))\n",
    "    else:\n",
    "        raise Exception(\"ERROR with embed type\")\n",
    "\n",
    "def pick_embed(embed_type):\n",
    "    # humanresults[proc_embeds[0].replace(\"_embed.npy\",\".mp3\")]\n",
    "    X= np.empty((len(humanresults),10,128))\n",
    "    for index,i in enumerate(humanresults):\n",
    "        if embed_type==\"Raw\":\n",
    "            file_name=i.replace(\".mp3\",\"_rawembed.npy\")\n",
    "        elif embed_type==\"Normalized\":\n",
    "            file_name=i.replace(\".mp3\",\"_embed.npy\")\n",
    "        else:\n",
    "            raise Exception(\"ERROR with embed type\")\n",
    "        an_x=np.load(split_path / file_name)\n",
    "#         print(index,an_x)\n",
    "        X[index,:,:]=an_x[:]\n",
    "    return X"
   ]
  },
  {
   "cell_type": "code",
   "execution_count": 10,
   "metadata": {},
   "outputs": [],
   "source": [
    "\n",
    "split_path=Path('/scratch/enis/data/nna/labeling/split_embeddings/')\n",
    "# filter by username\n",
    "split_embeds=[i for i in listdir(split_path) ]\n",
    "raw_embeds =  [i for i in split_embeds if \"rawembed\" in i]\n",
    "proc_embeds = [i for i in split_embeds if \"_embed\" in i]"
   ]
  },
  {
   "cell_type": "code",
   "execution_count": null,
   "metadata": {},
   "outputs": [],
   "source": []
  },
  {
   "cell_type": "code",
   "execution_count": 11,
   "metadata": {},
   "outputs": [],
   "source": [
    "X=pick_embed(\"Raw\")\n",
    "# X=map_reduce(X,map_reduce_type)\n",
    "humanresults_keys=list(humanresults.keys())\n"
   ]
  },
  {
   "cell_type": "code",
   "execution_count": 12,
   "metadata": {},
   "outputs": [],
   "source": [
    "X=X.astype(\"float32\")"
   ]
  },
  {
   "cell_type": "code",
   "execution_count": 13,
   "metadata": {},
   "outputs": [],
   "source": [
    "from sklearn.metrics import average_precision_score\n",
    "from sklearn.metrics import roc_auc_score\n",
    "def cal_metrics(y_true_dict,y_pred_dict):\n",
    "    results={}\n",
    "    for tag in tag_set:\n",
    "        y_true = y_true_dict[tag]\n",
    "        y_pred = y_pred_dict[tag]\n",
    "        metrics=precision_recall_fscore_support(y_true, y_pred,pos_label=1,average=\"binary\")\n",
    "        results[tag]=(metrics)\n",
    "    return results\n",
    "\n",
    "def cal_auc(y_true_dict,y_pred_dict_prob):\n",
    "    results={}\n",
    "    for tag in tag_set:\n",
    "        y_true = y_true_dict[tag]\n",
    "        y_pred = y_pred_dict_prob[tag]\n",
    "        metrics_auc=roc_auc_score(y_true, y_pred) #average_precision_score\n",
    "        results[tag]=(metrics_auc)\n",
    "\n",
    "    return results\n",
    "\n",
    "def print_results(results,y_true_dict,):\n",
    "    headers= [\"Label\",\"Positive\",\"Precision\",\"Recall\",\"Fscore\"]\n",
    "    table=[]\n",
    "    sample_count=len(next(iter(y_true_dict.values())))\n",
    "    print(\"Total sample:\",sample_count,\"And threshold is\",prob_threshold)\n",
    "    for tag in (tag_set):\n",
    "        positive_count=sum(y_true_dict[tag])\n",
    "        table.append([tag,positive_count,*results[tag][:-1]])\n",
    "\n",
    "    print(tabulate(table, headers=headers))\n",
    "\n",
    "    "
   ]
  },
  {
   "cell_type": "code",
   "execution_count": null,
   "metadata": {
    "collapsed": true
   },
   "outputs": [],
   "source": []
  },
  {
   "cell_type": "code",
   "execution_count": 14,
   "metadata": {},
   "outputs": [],
   "source": [
    "device = torch.device(\"cuda:1\" if torch.cuda.is_available() else \"cpu\")\n",
    "# device=\"cpu\""
   ]
  },
  {
   "cell_type": "code",
   "execution_count": 15,
   "metadata": {},
   "outputs": [],
   "source": [
    "def augment_data(data,augmentad_size):\n",
    "    if data.shape[0]>=augmentad_size:\n",
    "        return data[:]\n",
    "    \n",
    "    # Augment post samples\n",
    "    augmentad = data[:]\n",
    "    while augmentad.shape[0] < augmentad_size:\n",
    "        left=augmentad_size-augmentad.shape[0]\n",
    "        left= augmentad.shape[0] if left>augmentad.shape[0] else left\n",
    "#         left = 2 if left==1 else left \n",
    "#         print(augmentad.shape[0],left)\n",
    "        new=np.empty((left,augmentad.shape[1],augmentad.shape[2]))\n",
    "#         print(torch.randperm(augmentad.shape[0])[:left])\n",
    "        first,second=augmentad[torch.randperm(augmentad.shape[0])[:left],:,:].reshape(-1,10,128),augmentad[torch.randperm(augmentad.shape[0])[:left],:,:].reshape(-1,10,128)\n",
    "#         print(first.shape,second.shape)\n",
    "        new[:,0:5,:],new[:,5:10,:]=first[:,0:5,:],second[:,5:10,:]\n",
    "        augmentad=np.concatenate([augmentad,new])\n",
    "    #     print(augmentad.shape)\n",
    "        augmentad=np.unique(augmentad,axis=0)\n",
    "    #     print(augmentad.shape)\n",
    "    return augmentad"
   ]
  },
  {
   "cell_type": "markdown",
   "metadata": {},
   "source": [
    "#### Run only one of the following cells that does splitting "
   ]
  },
  {
   "cell_type": "code",
   "execution_count": 434,
   "metadata": {
    "collapsed": true
   },
   "outputs": [],
   "source": [
    "# MEAN, AUGMENTAD entire dataset including test and validate\n",
    "\n",
    "pos_index= (y_true==1)\n",
    "neg_index= (y_true==0)\n",
    "\n",
    "\n",
    "X_shuffled = X[:,torch.randperm(X.shape[1]),:]\n",
    "\n",
    "X_shuffled_pos=X_shuffled[pos_index,:,:]\n",
    "X_shuffled_neg=X_shuffled[neg_index,:,:]\n",
    "\n",
    "augmentad_pos=augment_data(X_shuffled_pos,2000)\n",
    "\n",
    "augmentad_neg=augment_data(X_shuffled_neg,2000)\n",
    "\n",
    "\n",
    "X_augmented=np.concatenate([augmentad_pos,augmentad_neg]).astype(\"float32\")\n",
    "y_true_aug=np.concatenate([np.ones(augmentad_pos.shape[0]),np.zeros(augmentad_neg.shape[0])]).astype(\"int64\")\n",
    "\n",
    "\n",
    "\n",
    "MULTI_SEGMENT = False\n",
    "X_augmented_mean=X_augmented.mean(axis=1)\n",
    "\n",
    "X_train, X_test, y_train, y_test = train_test_split(\n",
    "    X_augmented_mean, y_true_aug, test_size=0.2, random_state=42)\n",
    "X_train, X_val, y_train, y_val = train_test_split(\n",
    "    X_train, y_train, test_size=0.25, random_state=42)\n",
    "\n",
    "# X_train=X_train.reshape(X_train.shape[0],-1,128)\n",
    "# X_test=X_test.reshape(X_test.shape[0],-1,128)\n",
    "# X_val=X_val.reshape(X_test.shape[0],-1,128)\n"
   ]
  },
  {
   "cell_type": "code",
   "execution_count": 573,
   "metadata": {
    "collapsed": true
   },
   "outputs": [],
   "source": [
    "# AUGMENTATION Experiment\n",
    "# from \"Shuffling and Mixing Data Augmentation for Environmental Sound Classification\" by Tadanobu Inoue et. al\n",
    "\n",
    "MULTI_SEGMENT = False\n",
    "FLAT=False\n",
    "\n",
    "X_train, X_test, y_train, y_test = train_test_split(\n",
    "    X.reshape(X.shape[0],-1), y_true, test_size=0.2, random_state=42)\n",
    "X_train, X_val, y_train, y_val = train_test_split(\n",
    "    X_train, y_train, test_size=0.25, random_state=42)\n",
    "\n",
    "X_train=X_train.reshape(X_train.shape[0],-1,128)\n",
    "X_test=X_test.reshape(X_test.shape[0],-1,128)\n",
    "X_val=X_val.reshape(X_test.shape[0],-1,128)\n",
    "\n",
    "\n",
    "\n",
    "pos_index= (y_train==1)\n",
    "neg_index= (y_train==0)\n",
    "\n",
    "# shuffle each sample sound within itself, granularity is 1 second, samples are 10 second\n",
    "# so change order of seconds\n",
    "X_shuffled = X_train[:,torch.randperm(X_train.shape[1]),:]\n",
    "# no shuffle\n",
    "# X_shuffled = X_train[:,:,:]\n",
    "\n",
    "X_shuffled_pos=X_shuffled[pos_index,:,:]\n",
    "X_shuffled_neg=X_shuffled[neg_index,:,:]\n",
    "\n",
    "augmentation_ratio=1.2\n",
    "augmentation_ratio=(1/augmentation_ratio)\n",
    "augmentad_pos=augment_data(X_shuffled_pos,int(X_shuffled_pos.shape[0]//augmentation_ratio))\n",
    "# augmentad_neg=augment_data(X_shuffled_neg,int(X_shuffled_neg.shape[0]//augmentation_ratio))\n",
    "augmentad_neg=augment_data(X_shuffled_neg,X_shuffled_neg.shape[0])\n",
    "\n",
    "\n",
    "X_train_augmented=np.concatenate([augmentad_pos,augmentad_neg]).astype(\"float32\")\n",
    "y_train_aug=np.concatenate([np.ones(augmentad_pos.shape[0]),np.zeros(augmentad_neg.shape[0])]).astype(\"int64\")\n",
    "\n",
    "X_train=X_train_augmented[:]\n",
    "y_train=y_train_aug[:]\n",
    "\n",
    "X_train=X_train.mean(axis=1)\n",
    "X_test=X_test.mean(axis=1)\n",
    "X_val=X_val.mean(axis=1)\n"
   ]
  },
  {
   "cell_type": "code",
   "execution_count": 536,
   "metadata": {
    "collapsed": true
   },
   "outputs": [],
   "source": [
    "# concat inputs\n",
    "MULTI_SEGMENT = False\n",
    "FLAT=True\n",
    "X_train, X_test, y_train, y_test = train_test_split(\n",
    "    X.reshape(X.shape[0],-1), y_true, test_size=0.2, random_state=42)\n",
    "X_train, X_val, y_train, y_val = train_test_split(\n",
    "    X_train, y_train, test_size=0.25, random_state=42)\n",
    "\n",
    "X_train=X_train.reshape(X_train.shape[0],-1,128)\n",
    "X_test=X_test.reshape(X_test.shape[0],-1,128)\n",
    "X_val=X_val.reshape(X_test.shape[0],-1,128)\n"
   ]
  },
  {
   "cell_type": "code",
   "execution_count": 502,
   "metadata": {},
   "outputs": [
    {
     "data": {
      "text/plain": [
       "(2.4, 2.0)"
      ]
     },
     "execution_count": 502,
     "metadata": {},
     "output_type": "execute_result"
    }
   ],
   "source": []
  },
  {
   "cell_type": "code",
   "execution_count": null,
   "metadata": {
    "collapsed": true
   },
   "outputs": [],
   "source": []
  },
  {
   "cell_type": "code",
   "execution_count": null,
   "metadata": {
    "collapsed": true
   },
   "outputs": [],
   "source": []
  },
  {
   "cell_type": "code",
   "execution_count": 516,
   "metadata": {
    "collapsed": true
   },
   "outputs": [],
   "source": [
    "# MEAN\n",
    "MULTI_SEGMENT = False\n",
    "FLAT=False\n",
    "\n",
    "X_train, X_test, y_train, y_test = train_test_split(\n",
    "    X_mean, y_true, test_size=0.2, random_state=42)\n",
    "X_train, X_val, y_train, y_val = train_test_split(\n",
    "    X_train, y_train, test_size=0.25, random_state=42)\n",
    "\n",
    "# X_train=X_train.reshape(X_train.shape[0],-1,128)\n",
    "# X_test=X_test.reshape(X_test.shape[0],-1,128)\n",
    "# X_val=X_val.reshape(X_test.shape[0],-1,128)\n"
   ]
  },
  {
   "cell_type": "code",
   "execution_count": null,
   "metadata": {
    "collapsed": true
   },
   "outputs": [],
   "source": []
  },
  {
   "cell_type": "code",
   "execution_count": null,
   "metadata": {
    "collapsed": true
   },
   "outputs": [],
   "source": []
  },
  {
   "cell_type": "code",
   "execution_count": 188,
   "metadata": {},
   "outputs": [
    {
     "data": {
      "text/plain": [
       "(1300, 1280)"
      ]
     },
     "execution_count": 188,
     "metadata": {},
     "output_type": "execute_result"
    }
   ],
   "source": []
  },
  {
   "cell_type": "code",
   "execution_count": 16,
   "metadata": {},
   "outputs": [],
   "source": [
    "# BEST model came from this cell\n",
    "\n",
    "# seperate,  \n",
    "# different AUC calculation PART, to be fair  (do max of 10 predictions)\n",
    "MULTI_SEGMENT = True\n",
    "FLAT=False\n",
    "\n",
    "X_train, X_test, y_train, y_test = train_test_split(\n",
    "    X.reshape(X.shape[0],-1), y_true, test_size=0.2, random_state=42)\n",
    "X_train, X_val, y_train, y_val = train_test_split(\n",
    "    X_train, y_train, test_size=0.25, random_state=42)\n",
    "\n",
    "# use 1 second as  samples\n",
    "X_train=X_train.reshape(-1,128)\n",
    "X_test=X_test.reshape(-1,128)\n",
    "X_val=X_val.reshape(-1,128)\n",
    "\n",
    "# repeat labels\n",
    "y_train=np.repeat(y_train,10)\n",
    "y_test=np.repeat(y_test,10)\n",
    "y_val=np.repeat(y_val,10)\n",
    "\n",
    "\n"
   ]
  },
  {
   "cell_type": "code",
   "execution_count": null,
   "metadata": {},
   "outputs": [],
   "source": []
  },
  {
   "cell_type": "code",
   "execution_count": null,
   "metadata": {
    "collapsed": true
   },
   "outputs": [],
   "source": []
  },
  {
   "cell_type": "markdown",
   "metadata": {},
   "source": [
    "### From here, run all cells: moving data to device, model creation and training"
   ]
  },
  {
   "cell_type": "code",
   "execution_count": 17,
   "metadata": {},
   "outputs": [],
   "source": [
    "X_train=torch.from_numpy(X_train).to(device)\n",
    "X_test=torch.from_numpy(X_test).to(device)\n",
    "X_val=torch.from_numpy(X_val).to(device)\n",
    "# birds\n",
    "\n",
    "y_val=torch.from_numpy(y_val).to(device)\n",
    "y_test=torch.from_numpy(y_test).to(device)\n",
    "y_train=torch.from_numpy(y_train).to(device)\n"
   ]
  },
  {
   "cell_type": "code",
   "execution_count": null,
   "metadata": {
    "collapsed": true
   },
   "outputs": [],
   "source": []
  },
  {
   "cell_type": "code",
   "execution_count": 18,
   "metadata": {},
   "outputs": [],
   "source": [
    "class audioDataset(Dataset):\n",
    "    \"\"\"Face Landmarks dataset.\"\"\"\n",
    "\n",
    "    def __init__(self,X,y, transform=None):\n",
    "        \"\"\"\n",
    "        Args:\n",
    "            csv_file (string): Path to the csv file with annotations.\n",
    "            root_dir (string): Directory with all the images.\n",
    "            transform (callable, optional): Optional transform to be applied\n",
    "                on a sample.\n",
    "        \"\"\"\n",
    "        self.X=X\n",
    "        self.y=y\n",
    "#         self.landmarks_frame = pd.read_csv(csv_file)\n",
    "#         self.root_dir = root_dir\n",
    "        self.transform = transform\n",
    "\n",
    "    def __len__(self):\n",
    "        return self.X.shape[0]\n",
    "\n",
    "    def __getitem__(self, idx):\n",
    "\n",
    "        sample = self.X[idx],self.y[idx]\n",
    "\n",
    "        if self.transform:\n",
    "            sample = self.transform(sample)\n",
    "\n",
    "        return sample"
   ]
  },
  {
   "cell_type": "code",
   "execution_count": null,
   "metadata": {
    "collapsed": true
   },
   "outputs": [],
   "source": []
  },
  {
   "cell_type": "code",
   "execution_count": 19,
   "metadata": {},
   "outputs": [],
   "source": [
    "params = {'batch_size': 200,\n",
    "          'shuffle': True,\n",
    "          'num_workers': 0}\n",
    "\n",
    "training_set=audioDataset(X_train,y_train)\n",
    "training_generator = DataLoader(training_set, **params)\n"
   ]
  },
  {
   "cell_type": "code",
   "execution_count": null,
   "metadata": {},
   "outputs": [],
   "source": []
  },
  {
   "cell_type": "code",
   "execution_count": 300,
   "metadata": {},
   "outputs": [],
   "source": [
    "import torch.nn as nn\n",
    "import torch.nn.functional as F\n",
    "\n",
    "\n",
    "class Net(nn.Module):\n",
    "    def __init__(self):\n",
    "        super(Net, self).__init__()\n",
    "#         self.conv1 = nn.Conv2d(3, 6, 5)\n",
    "#         self.pool = nn.MaxPool2d(2, 2)\n",
    "#         self.conv2 = nn.Conv2d(6, 16, 5)\n",
    "        if FLAT:\n",
    "            self.fc1 = nn.Linear(1280, 100)\n",
    "        else:\n",
    "            self.fc1 = nn.Linear(128, 100)\n",
    "#         self.fc1 = nn.Linear(128, 32)\n",
    "        torch.nn.init.xavier_normal_(self.fc1.weight)\n",
    "        self.fc1_bn = nn.BatchNorm1d(100)\n",
    "\n",
    "        self.fc2 = nn.Linear(32, 32)\n",
    "        torch.nn.init.xavier_normal_(self.fc2.weight)\n",
    "        self.fc2_bn = nn.BatchNorm1d(32)\n",
    "\n",
    "        self.fc3 = nn.Linear(32,100)\n",
    "        torch.nn.init.xavier_normal_(self.fc3.weight)\n",
    "        self.fc3_bn = nn.BatchNorm1d(100)\n",
    "\n",
    "        self.fc4 = nn.Linear(100, 2)\n",
    "        torch.nn.init.xavier_normal_(self.fc4.weight)\n",
    "\n",
    "        self.drop = nn.Dropout(p=0.2)\n",
    " \n",
    "    def forward(self, x):\n",
    "#         x = self.pool(F.relu(self.conv1(x)))\n",
    "#         x = self.pool(F.relu(self.conv2(x)))\n",
    "        if FLAT:\n",
    "            x = x.view(-1,1280)\n",
    "        else:\n",
    "            x = x.view(-1,128)\n",
    "\n",
    "        x = F.relu(self.fc1_bn(self.fc1(x)))\n",
    "#         x = F.relu((self.fc1(x)))\n",
    "\n",
    "        x=self.drop(x)\n",
    "\n",
    "#         x = F.relu(self.fc2_bn(x))\n",
    "#         x=self.drop(x)\n",
    "        \n",
    "#         x = F.relu(self.fc3(x))\n",
    "#         x=self.drop(x)\n",
    "\n",
    "        x = self.fc4(x)\n",
    "#         print(x)\n",
    "        x = F.log_softmax(x,dim=1)\n",
    "#         print(x)\n",
    "        return x\n",
    "\n",
    "\n",
    "net = Net().to(device)\n",
    "loss_values={\"test\":[],\"train\":[],\"train_auc\":[],\"test_auc\":[]}\n",
    "\n"
   ]
  },
  {
   "cell_type": "code",
   "execution_count": null,
   "metadata": {},
   "outputs": [],
   "source": []
  },
  {
   "cell_type": "code",
   "execution_count": 301,
   "metadata": {},
   "outputs": [],
   "source": [
    "import torch.optim as optim\n",
    "\n",
    "#cross-entropy loss is sklearn one\n",
    "# criterion = nn.CrossEntropyLoss(weight=torch.tensor([1.0,5.0]).to(device))\n",
    "criterion = nn.CrossEntropyLoss()\n",
    "\n",
    "# criterion = nn.NLLLoss()\n",
    "optimizer = optim.Adam(net.parameters(),weight_decay=0.001)"
   ]
  },
  {
   "cell_type": "code",
   "execution_count": null,
   "metadata": {},
   "outputs": [],
   "source": []
  },
  {
   "cell_type": "code",
   "execution_count": 302,
   "metadata": {},
   "outputs": [],
   "source": [
    "import copy"
   ]
  },
  {
   "cell_type": "code",
   "execution_count": 303,
   "metadata": {
    "scrolled": true
   },
   "outputs": [
    {
     "name": "stdout",
     "output_type": "stream",
     "text": [
      "[0] test : 0.537 train: 0.528  test auc0.866  train auc0.867\n",
      "[20] test : 0.608 train: 0.456  test auc0.880  train auc0.948\n",
      "[40] test : 0.566 train: 0.357  test auc0.881  train auc0.980\n",
      "[60] test : 0.721 train: 0.400  test auc0.880  train auc0.980\n",
      "[80] test : 0.735 train: 0.350  test auc0.872  train auc0.993\n",
      "Finished Training\n"
     ]
    }
   ],
   "source": [
    "from IPython import display\n",
    "import time\n",
    "best_acc1=0\n",
    "\n",
    "for epoch in range(100):  # loop over the dataset multiple times\n",
    "    running_loss = 0.0\n",
    "    for i, data in enumerate(training_generator, 0):\n",
    "        # get the inputs; data is a list of [inputs, labels]\n",
    "        inputs, labels = data\n",
    "#         print(inputs)\n",
    "        # zero the parameter gradients\n",
    "        optimizer.zero_grad()\n",
    "\n",
    "        # forward + backward + optimize\n",
    "#         print(inputs.shape)\n",
    "        outputs = net(inputs)\n",
    "        loss = criterion(outputs, labels)\n",
    "\n",
    "        loss.backward()\n",
    "        optimizer.step()\n",
    "\n",
    "        # print statistics\n",
    "#         running_loss += loss.item()\n",
    "#     if epoch % 20 == 0:    # print every 2000 mini-batches\n",
    "    net.eval()\n",
    "    test_loss,test_auc=nogradmetrics(X_val,y_val,net,multi_segment=MULTI_SEGMENT)\n",
    "    train_loss,train_auc=nogradmetrics(X_train,y_train,net,multi_segment=MULTI_SEGMENT)\n",
    "    net.train()\n",
    "    loss_values[\"test\"].append(test_loss)\n",
    "    loss_values[\"train\"].append(train_loss)\n",
    "    loss_values[\"test_auc\"].append(test_auc)\n",
    "    loss_values[\"train_auc\"].append(train_auc)\n",
    "    if epoch % 20 == 0:    # print every 2000 mini-batches\n",
    "        print('[%d] test : %.3f train: %.3f  test auc%.3f  train auc%.3f' %\n",
    "              (epoch ,test_loss, train_loss,test_auc,train_auc))\n",
    "    is_best = test_auc > best_acc1\n",
    "    best_acc1 = max(test_auc, best_acc1)\n",
    "    if is_best:\n",
    "        best_model=copy.deepcopy(net)\n",
    "    \n",
    "#         display.clear_output(wait=True)\n",
    "#         display.display(results.plot())\n",
    "print('Finished Training')\n",
    "\n"
   ]
  },
  {
   "cell_type": "code",
   "execution_count": 306,
   "metadata": {},
   "outputs": [
    {
     "data": {
      "text/plain": [
       "0.89744341073914"
      ]
     },
     "execution_count": 306,
     "metadata": {},
     "output_type": "execute_result"
    }
   ],
   "source": [
    "best_acc1"
   ]
  },
  {
   "cell_type": "code",
   "execution_count": 308,
   "metadata": {},
   "outputs": [],
   "source": []
  },
  {
   "cell_type": "code",
   "execution_count": 310,
   "metadata": {},
   "outputs": [],
   "source": [
    "# save best model, change name accordingly, by adding validation accuracy\n",
    "import time\n",
    "timestr = time.strftime(\"%Y%m%d-%H%M%S\")\n",
    "\n",
    "torch.save(best_model.state_dict(), \"../../data/models/bird_FC_089valid_\"+timestr+\".pth\")\n"
   ]
  },
  {
   "cell_type": "code",
   "execution_count": null,
   "metadata": {},
   "outputs": [],
   "source": []
  },
  {
   "cell_type": "code",
   "execution_count": 312,
   "metadata": {},
   "outputs": [
    {
     "data": {
      "text/plain": [
       "(<matplotlib.axes._subplots.AxesSubplot at 0x7f2f2031cf28>,\n",
       " <matplotlib.axes._subplots.AxesSubplot at 0x7f2effd02550>)"
      ]
     },
     "execution_count": 312,
     "metadata": {},
     "output_type": "execute_result"
    },
    {
     "data": {
      "image/png": "[encoded data removed]",
      "text/plain": [
       "<Figure size 432x288 with 1 Axes>"
      ]
     },
     "metadata": {
      "needs_background": "light"
     },
     "output_type": "display_data"
    },
    {
     "data": {
      "image/png": "[encoded data removed]",
      "text/plain": [
       "<Figure size 432x288 with 1 Axes>"
      ]
     },
     "metadata": {
      "needs_background": "light"
     },
     "output_type": "display_data"
    }
   ],
   "source": [
    "# visualize results\n",
    "results=pd.DataFrame(loss_values)\n",
    "results[[\"test\",\"train\"]].plot(),results[[\"test_auc\",\"train_auc\"]].plot(),"
   ]
  },
  {
   "cell_type": "code",
   "execution_count": 311,
   "metadata": {},
   "outputs": [
    {
     "data": {
      "text/plain": [
       "(0.6671180725097656, 0.8443587662337662)"
      ]
     },
     "execution_count": 311,
     "metadata": {},
     "output_type": "execute_result"
    }
   ],
   "source": [
    "# results on test dataset, loss and AUC\n",
    "nogradmetrics(X_test,y_test,best_model,multi_segment=MULTI_SEGMENT)"
   ]
  },
  {
   "cell_type": "code",
   "execution_count": null,
   "metadata": {},
   "outputs": [],
   "source": []
  },
  {
   "cell_type": "code",
   "execution_count": null,
   "metadata": {},
   "outputs": [],
   "source": []
  },
  {
   "cell_type": "code",
   "execution_count": null,
   "metadata": {
    "collapsed": true
   },
   "outputs": [],
   "source": [
    "test_set=audioDataset(X_test,y_test)\n",
    "test_generator = DataLoader(test_set, **params)\n"
   ]
  },
  {
   "cell_type": "markdown",
   "metadata": {},
   "source": [
    "Following linse are for comparing sklearn MLP and this model"
   ]
  },
  {
   "cell_type": "code",
   "execution_count": 189,
   "metadata": {},
   "outputs": [],
   "source": [
    "X_last=X[:]\n",
    "# X_last=X_last.reshape(X_last.shape[0],-1)\n",
    "X_last=X_last.reshape(-1,128)\n",
    "X_last_sklearn=X_last[:]\n",
    "X_last=torch.from_numpy(X_last).to(device)\n"
   ]
  },
  {
   "cell_type": "code",
   "execution_count": null,
   "metadata": {},
   "outputs": [],
   "source": [
    "X_last.shape"
   ]
  },
  {
   "cell_type": "code",
   "execution_count": 190,
   "metadata": {},
   "outputs": [
    {
     "data": {
      "text/plain": [
       "(torch.Size([1300, 2]), torch.Size([260]))"
      ]
     },
     "execution_count": 190,
     "metadata": {},
     "output_type": "execute_result"
    }
   ],
   "source": [
    "y_pred_10.shape,y_test_10.shape"
   ]
  },
  {
   "cell_type": "code",
   "execution_count": 213,
   "metadata": {},
   "outputs": [
    {
     "data": {
      "text/plain": [
       "(torch.Size([2600, 128]), torch.Size([2600]))"
      ]
     },
     "execution_count": 213,
     "metadata": {},
     "output_type": "execute_result"
    }
   ],
   "source": [
    "X_val.shape,y_val.shape"
   ]
  },
  {
   "cell_type": "code",
   "execution_count": 214,
   "metadata": {},
   "outputs": [
    {
     "name": "stdout",
     "output_type": "stream",
     "text": [
      "0.8961980807266867\n"
     ]
    }
   ],
   "source": [
    "best_model.eval()\n",
    "with torch.no_grad():    \n",
    "    \n",
    "    y_pred = best_model(X_val)\n",
    "    y_pred_10 =y_pred.reshape(-1,10,2)\n",
    "    indices=torch.max(y_pred[:,1].reshape(-1,10),dim=1).indices\n",
    "    y_pred_10 = y_pred_10[range(y_pred_10.shape[0]),indices,:].reshape(-1,2)\n",
    "\n",
    "    y_val_10 = torch.max(y_val.reshape(-1,10),dim=1).values\n",
    "\n",
    "#     loss = criterion(y_pred_10, y_true)\n",
    "\n",
    "    train_auc=roc_auc_score(y_val_10.cpu().numpy(),\n",
    "                            y_pred_10[:,1].cpu().numpy()) \n",
    "    print(train_auc)\n"
   ]
  },
  {
   "cell_type": "code",
   "execution_count": null,
   "metadata": {},
   "outputs": [],
   "source": []
  },
  {
   "cell_type": "code",
   "execution_count": 217,
   "metadata": {},
   "outputs": [],
   "source": [
    "y_pred=y_pred_10.cpu()\n",
    "y_pred=torch.exp(y_pred[:,1])\n",
    "y_pred[y_pred>=0.5]=1\n",
    "y_pred[y_pred<0.5]=0\n"
   ]
  },
  {
   "cell_type": "code",
   "execution_count": 220,
   "metadata": {},
   "outputs": [
    {
     "data": {
      "text/plain": [
       "(120, 67, 5, 68)"
      ]
     },
     "execution_count": 220,
     "metadata": {},
     "output_type": "execute_result"
    }
   ],
   "source": [
    "from sklearn.metrics import confusion_matrix\n",
    "\n",
    "tn, fp, fn, tp=confusion_matrix(y_val_10.cpu().numpy(), y_pred).ravel()\n",
    "tn, fp, fn, tp\n",
    "(164, 23, 21, 52)\n",
    "    sklearn  pytorch\n",
    "tp   52       68\n",
    "fp   23       67\n",
    "tn   164      120\n",
    "fn   21       5\n",
    "\n"
   ]
  },
  {
   "cell_type": "code",
   "execution_count": 195,
   "metadata": {},
   "outputs": [
    {
     "name": "stdout",
     "output_type": "stream",
     "text": [
      "CLVL2_20160621_050750_1067m_07s__1067m_17s.mp3\n",
      "CLVL5_20160713_100125_0784m_00s__0784m_10s.mp3\n",
      "ITKILLIK1_20160819_082421_2235m_04s__2235m_14s.mp3\n",
      "ITKILLIK1_20160727_135107_0345m_59s__0346m_09s.mp3\n",
      "USGS_20160624_080838_0479m_03s__0479m_13s.mp3\n",
      "CLVL2_20160604_153809_1807m_40s__1807m_50s.mp3\n",
      "ITKILLIK1_20160712_105557_2581m_02s__2581m_12s.mp3\n",
      "OCNPT_20160626_214658_1736m_09s__1736m_19s.mp3\n",
      "ROCKY_20160608_204941_0183m_27s__0183m_37s.mp3\n",
      "UMIAT_20130904_115811_2140m_25s__2140m_35s.mp3\n",
      "ITKILLIK2_20160728_171820_2060m_22s__2060m_32s.mp3\n",
      "CLVL2_20160721_184410_2000m_11s__2000m_21s.mp3\n",
      "CLVL4_20160703_020906_0928m_38s__0928m_48s.mp3\n",
      "ITKILLIK1_20160704_041106_1278m_24s__1278m_34s.mp3\n",
      "ICERD_20160806_010352_2408m_48s__2408m_58s.mp3\n",
      "ICERD_20160822_143323_2206m_12s__2206m_22s.mp3\n",
      "FSHCK3_20160720_115157_0759m_10s__0759m_20s.mp3\n",
      "CLVL5_20160606_195535_1100m_07s__1100m_17s.mp3\n",
      "OCNPT_20160802_201449_0863m_32s__0863m_42s.mp3\n",
      "FSHCK3_20160701_204040_0980m_34s__0980m_44s.mp3\n",
      "FSHCK3_20160712_050656_0785m_01s__0785m_11s.mp3\n",
      "FSHCK4_20160627_180821_0173m_09s__0173m_19s.mp3\n",
      "CLVL5_20160626_203118_2940m_03s__2940m_13s.mp3\n",
      "CLVL5_20160707_045736_1322m_02s__1322m_12s.mp3\n",
      "FSHCK3_20160722_133312_0941m_09s__0941m_19s.mp3\n",
      "ITKILLIK1_20160806_221708_0709m_23s__0709m_33s.mp3\n",
      "UMIAT_20130717_212516_2004m_31s__2004m_41s.mp3\n",
      "ICERD_20160728_181905_1907m_26s__1907m_36s.mp3\n",
      "OCNPT_20160813_044101_2130m_49s__2130m_59s.mp3\n",
      "ITKILLIK2_20160715_083425_2216m_37s__2216m_47s.mp3\n",
      "ITKILLIK2_20160723_151926_0837m_19s__0837m_29s.mp3\n",
      "NIGLIQ2_20160625_191653_0400m_26s__0400m_36s.mp3\n",
      "ANKTVK_20160623_065247_0852m_22s__0852m_32s.mp3\n",
      "ANKTVK_20160617_014901_1136m_47s__1136m_57s.mp3\n",
      "ITKILLIK2_20160801_204052_1253m_47s__1253m_57s.mp3\n",
      "OCNPT_20160626_214658_0865m_02s__0865m_12s.mp3\n",
      "USGS_20160618_030453_1287m_34s__1287m_44s.mp3\n",
      "SHORTY_20160619_042858_2563m_41s__2563m_51s.mp3\n",
      "ICERD_20160801_214130_2911m_38s__2911m_48s.mp3\n",
      "ITKILLIK1_20160811_013933_0175m_04s__0175m_14s.mp3\n",
      "ITKILLIK2_20160814_064822_2494m_23s__2494m_33s.mp3\n",
      "UMIAT_20130908_152033_0568m_12s__0568m_22s.mp3\n",
      "ANKTVK_20160612_222630_2726m_25s__2726m_35s.mp3\n",
      "NIGLIQ2_20160706_034307_2392m_29s__2392m_39s.mp3\n",
      "NIGLIQ2_20160706_034307_2362m_50s__2363m_00s.mp3\n",
      "CD3_20160822_150932_2533m_10s__2533m_20s.mp3\n",
      "FSHCK3_20160703_222156_0147m_56s__0148m_06s.mp3\n",
      "OCNPT_20160707_061314_0415m_05s__0415m_15s.mp3\n",
      "ITK01_20160614_230934_2795m_02s__2795m_12s.mp3\n",
      "ANKTVK_20160617_014901_1671m_48s__1671m_58s.mp3\n",
      "CLVL4_20160602_154908_1357m_03s__1357m_13s.mp3\n",
      "FSHCK1_20160808_050938_0167m_15s__0167m_25s.mp3\n",
      "CLVL2_20160612_222259_0042m_37s__0042m_47s.mp3\n",
      "ICERD_20160806_010352_1900m_47s__1900m_57s.mp3\n",
      "OCNPT_20160809_011833_0213m_52s__0214m_02s.mp3\n",
      "UMIAT_20130816_204722_1432m_56s__1433m_06s.mp3\n",
      "OCNPT3_20160615_005046_0813m_58s__0814m_08s.mp3\n",
      "NIGLIQ2_20160710_070537_0709m_23s__0709m_33s.mp3\n",
      "UMIRUK_20160611_000742_2459m_38s__2459m_48s.mp3\n",
      "ANKTVK_20160617_014901_2265m_04s__2265m_14s.mp3\n",
      "USGS_20160713_032802_1133m_46s__1133m_56s.mp3\n",
      "ITKILLIK1_20160804_203556_0061m_19s__0061m_29s.mp3\n",
      "USGS_20160711_014646_0753m_52s__0754m_02s.mp3\n",
      "CLVL5_20160709_063852_0481m_54s__0482m_04s.mp3\n",
      "UMIAT_20130814_190609_1679m_11s__1679m_21s.mp3\n",
      "ITKILLIK1_20160702_022953_2212m_58s__2213m_08s.mp3\n",
      "CD3_20160816_100556_2007m_31s__2007m_41s.mp3\n",
      "ITKILLIK1_20160722_192159_0459m_42s__0459m_52s.mp3\n",
      "ITKILLIK1_20160729_153220_1156m_17s__1156m_27s.mp3\n",
      "ROCKY_20160621_065709_0444m_26s__0444m_36s.mp3\n",
      "NIGLIQ1_20160607_203214_2702m_27s__2702m_37s.mp3\n",
      "FSHCK3_20160701_204040_0386m_16s__0386m_26s.mp3\n",
      "ITKILLIK1_20160811_013933_1950m_41s__1950m_51s.mp3\n",
      "ANKTVK_20160610_204514_2634m_50s__2635m_00s.mp3\n",
      "ITKILLIK1_20160806_221708_1193m_10s__1193m_20s.mp3\n",
      "ANKTVK_20160619_033017_0751m_05s__0751m_15s.mp3\n",
      "UMIRUK_20160619_065245_0035m_01s__0035m_11s.mp3\n",
      "ITKILLIK1_20160630_004840_0038m_21s__0038m_31s.mp3\n",
      "ITKILLIK1_20160813_032044_1687m_10s__1687m_20s.mp3\n",
      "FSHCK3_20160720_115157_1777m_41s__1777m_51s.mp3\n",
      "OCNPT_20160713_111701_1343m_17s__1343m_27s.mp3\n",
      "ITKILLIK1_20160708_073331_1186m_50s__1187m_00s.mp3\n",
      "ROCKY_20160621_065709_2871m_34s__2871m_44s.mp3\n",
      "NIGLIQ2_20160720_153154_1790m_51s__1791m_01s.mp3\n",
      "UMIAT_20130730_002508_1116m_19s__1116m_29s.mp3\n",
      "ITKILLIK1_20160729_153220_0483m_23s__0483m_33s.mp3\n",
      "CLVL4_20160608_205258_0009m_03s__0009m_13s.mp3\n",
      "ITKILLIK2_20160816_082938_0784m_06s__0784m_16s.mp3\n",
      "ITKILLIK1_20160722_192159_0647m_30s__0647m_40s.mp3\n",
      "CLVL2_20160721_184410_1363m_41s__1363m_51s.mp3\n",
      "ITKILLIK1_20160706_055218_1216m_17s__1216m_27s.mp3\n",
      "ANKTVK_20160623_065247_0376m_21s__0376m_31s.mp3\n",
      "ITKILLIK2_20160816_082938_0458m_04s__0458m_14s.mp3\n",
      "CD3_20160730_203619_1072m_47s__1072m_57s.mp3\n",
      "CLVL5_20160621_074419_0412m_15s__0412m_25s.mp3\n",
      "ITKILLIK1_20160714_123710_0749m_36s__0749m_46s.mp3\n",
      "CD3_20160826_183157_1870m_40s__1870m_50s.mp3\n",
      "FSHCK4_20160627_180821_0111m_03s__0111m_13s.mp3\n",
      "ICERD_20160818_111101_2435m_35s__2435m_45s.mp3\n",
      "FSHCK3_20160708_014425_2052m_27s__2052m_37s.mp3\n",
      "FSHCK3_20160716_082928_2507m_04s__2507m_14s.mp3\n",
      "UMIRUK_20160621_083400_0515m_46s__0515m_56s.mp3\n",
      "ANKTVK_20160604_154131_1894m_01s__1894m_11s.mp3\n",
      "UMIAT_20130723_192129_0705m_13s__0705m_23s.mp3\n",
      "ITKILLIK2_20160728_171820_1829m_35s__1829m_45s.mp3\n",
      "ITK01_20160608_180558_0352m_16s__0352m_26s.mp3\n",
      "FSHCK4_20160629_194935_0237m_49s__0237m_59s.mp3\n",
      "ICERD_20160820_125212_0107m_19s__0107m_29s.mp3\n",
      "CLVL4_20160711_085418_1150m_26s__1150m_36s.mp3\n",
      "CLVL5_20160709_063852_1483m_45s__1483m_55s.mp3\n",
      "ITKILLIK1_20160710_091444_0974m_18s__0974m_28s.mp3\n",
      "CLVL5_20160628_221234_2400m_20s__2400m_30s.mp3\n",
      "UMIAT_20130814_190609_0135m_25s__0135m_35s.mp3\n",
      "ITKILLIK1_20160714_123710_0644m_33s__0644m_43s.mp3\n",
      "FSHCK3_20160629_185925_1712m_39s__1712m_49s.mp3\n",
      "CLVL2_20160715_134031_0935m_28s__0935m_38s.mp3\n",
      "CD3_20160806_013955_0784m_56s__0785m_06s.mp3\n",
      "FSHCK1_20160806_032822_2374m_42s__2374m_52s.mp3\n",
      "ANKTVK_20160604_154131_2288m_38s__2288m_48s.mp3\n",
      "NIGLIQ2_20160720_153154_0917m_36s__0917m_46s.mp3\n",
      "ITKILLIK1_20160825_132756_2192m_28s__2192m_38s.mp3\n",
      "FSHCK4_20160708_023432_0781m_02s__0781m_12s.mp3\n",
      "OCNPT_20160813_044101_2844m_39s__2844m_49s.mp3\n",
      "NIGLIQ2_20160627_205807_0900m_41s__0900m_51s.mp3\n",
      "UMIAT_20130803_034733_2632m_03s__2632m_13s.mp3\n",
      "FSHCK3_20160706_000310_2407m_12s__2407m_22s.mp3\n",
      "CLVL5_20160713_100125_1597m_06s__1597m_16s.mp3\n",
      "CLVL2_20160626_222929_0188m_13s__0188m_23s.mp3\n",
      "CLVL5_20160715_114241_0789m_53s__0790m_03s.mp3\n",
      "USGS_20160713_032802_0051m_58s__0052m_08s.mp3\n",
      "UMIAT_20130906_133922_0759m_25s__0759m_35s.mp3\n",
      "CLVL5_20160711_082008_2368m_18s__2368m_28s.mp3\n",
      "USGS_20160713_032802_0256m_30s__0256m_40s.mp3\n",
      "CLVL5_20160719_150511_2083m_11s__2083m_21s.mp3\n",
      "UMIAT_20130725_210243_1357m_34s__1357m_44s.mp3\n",
      "ITKILLIK1_20160813_032044_2145m_41s__2145m_51s.mp3\n",
      "FSHCK3_20160720_115157_1924m_06s__1924m_16s.mp3\n",
      "ITKILLIK1_20160823_114644_0997m_30s__0997m_40s.mp3\n",
      "ITKILLIK1_20160716_141823_2023m_34s__2023m_44s.mp3\n",
      "FSHCK1_20160730_222437_0526m_59s__0527m_09s.mp3\n",
      "ANKTVK_20160617_014901_1547m_23s__1547m_33s.mp3\n",
      "ITKILLIK2_20160626_172259_2184m_56s__2185m_06s.mp3\n",
      "NIGLIQ2_20160722_171308_2196m_28s__2196m_38s.mp3\n",
      "UMIAT_20130816_204722_1515m_59s__1516m_09s.mp3\n",
      "OCNPT_20160713_111701_0465m_57s__0466m_07s.mp3\n",
      "ICERD_20160814_074838_0530m_34s__0530m_44s.mp3\n",
      "FSHCK1_20160808_050938_0344m_36s__0344m_46s.mp3\n",
      "ITK01_20160621_041310_2136m_34s__2136m_44s.mp3\n",
      "ICERD_20160824_161434_0373m_50s__0374m_00s.mp3\n",
      "OCNPT_20160703_025043_1660m_55s__1661m_05s.mp3\n",
      "CLVL4_20160717_135813_0731m_54s__0732m_04s.mp3\n",
      "CD3_20160810_050220_0188m_02s__0188m_12s.mp3\n",
      "CLVL4_20160621_070042_0805m_49s__0805m_59s.mp3\n",
      "CLVL2_20160715_134031_2759m_40s__2759m_50s.mp3\n",
      "OCNPT_20160811_025947_0760m_55s__0761m_05s.mp3\n",
      "USGS_20160609_201955_0289m_57s__0290m_07s.mp3\n",
      "CLVL4_20160604_173026_2401m_37s__2401m_47s.mp3\n",
      "ITKILLIK1_20160710_091444_1032m_08s__1032m_18s.mp3\n",
      "UMIAT_20130906_133922_2306m_29s__2306m_39s.mp3\n",
      "ITKILLIK1_20160708_073331_0732m_16s__0732m_26s.mp3\n",
      "ITK01_20160614_230934_1546m_12s__1546m_22s.mp3\n",
      "CLVL5_20160606_195535_2827m_31s__2827m_41s.mp3\n",
      "CLVL4_20160703_020906_1594m_39s__1594m_49s.mp3\n",
      "FSHCK3_20160706_000310_0398m_50s__0399m_00s.mp3\n",
      "FSHCK3_20160625_153654_1106m_15s__1106m_25s.mp3\n",
      "ICERD_20160826_175546_2215m_36s__2215m_46s.mp3\n",
      "CLVL4_20160701_002747_2710m_53s__2711m_03s.mp3\n",
      "ROCKY_20160619_051554_2298m_52s__2299m_02s.mp3\n",
      "SHORTY_20160621_061012_0113m_07s__0113m_17s.mp3\n",
      "UMIAT_20130727_224356_0077m_01s__0077m_11s.mp3\n",
      "CLVL5_20160626_203118_2238m_03s__2238m_13s.mp3\n",
      "CD3_20160814_082444_1868m_55s__1869m_05s.mp3\n",
      "CD3_20160728_185506_1408m_34s__1408m_44s.mp3\n",
      "FSHCK1_20160812_083207_2277m_38s__2277m_48s.mp3\n",
      "OCNPT_20160707_061314_1130m_39s__1130m_49s.mp3\n",
      "CLVL5_20160610_231803_1519m_50s__1520m_00s.mp3\n",
      "CD3_20160806_013955_2398m_55s__2399m_05s.mp3\n",
      "UMIAT_20130904_115811_1763m_28s__1763m_38s.mp3\n",
      "ICERD_20160808_024504_2387m_59s__2388m_09s.mp3\n",
      "UMIAT_20130825_033211_0342m_12s__0342m_22s.mp3\n",
      "ITK01_20160612_212822_2920m_19s__2920m_29s.mp3\n",
      "0725_180656_1898m_53s__1899m_03s.mp3\n",
      "CLVL4_20160711_085418_0502m_20s__0502m_30s.mp3\n",
      "FSHCK3_20160706_000310_2748m_08s__2748m_18s.mp3\n",
      "ICERD_20160810_042615_0260m_08s__0260m_18s.mp3\n",
      "UMIAT_20130725_210243_1340m_59s__1341m_09s.mp3\n",
      "FSHCK3_20160720_115157_2896m_52s__2897m_02s.mp3\n",
      "ITKILLIK1_20160625_212615_0130m_07s__0130m_17s.mp3\n",
      "FSHCK1_20160814_101322_0820m_09s__0820m_19s.mp3\n",
      "OCNPT_20160624_200541_2377m_19s__2377m_29s.mp3\n",
      "CLVL4_20160621_070042_2221m_25s__2221m_35s.mp3\n",
      "ITKILLIK1_20160817_064308_2078m_48s__2078m_58s.mp3\n",
      "UMIRUK_20160613_014858_2600m_23s__2600m_33s.mp3\n",
      "CLVL4_20160602_154908_2483m_18s__2483m_28s.mp3\n",
      "ROCKY_20160604_172713_1748m_48s__1748m_58s.mp3\n",
      "UMIAT_20130713_180248_1499m_00s__1499m_10s.mp3\n",
      "OCNPT_20160709_075429_0941m_24s__0941m_34s.mp3\n",
      "ANKTVK_20160615_000745_2382m_35s__2382m_45s.mp3\n",
      "UMIRUK_20160623_101515_0714m_47s__0714m_57s.mp3\n",
      "ITKILLIK1_20160817_064308_0681m_25s__0681m_35s.mp3\n",
      "CLVL4_20160623_084159_0555m_50s__0556m_00s.mp3\n",
      "NIGLIQ1_20160618_045825_2688m_19s__2688m_29s.mp3\n",
      "UMIAT_20130801_020621_2695m_58s__2696m_08s.mp3\n",
      "OCNPT_20160709_075429_2186m_11s__2186m_21s.mp3\n",
      "CLVL2_20160623_064903_0527m_32s__0527m_42s.mp3\n",
      "NIGLIQ1_20160609_221328_2317m_12s__2317m_22s.mp3\n",
      "UMIAT_20130816_204722_1204m_49s__1204m_59s.mp3\n",
      "ITKILLIK1_20160802_185445_0297m_06s__0297m_16s.mp3\n",
      "CLVL4_20160606_191142_1060m_51s__1061m_01s.mp3\n",
      "UMIAT_20130827_051323_1616m_39s__1616m_49s.mp3\n",
      "ICERD_20160822_143323_2696m_08s__2696m_18s.mp3\n",
      "UMIRUK_20160611_000742_0535m_10s__0535m_20s.mp3\n",
      "CLVL2_20160624_204814_1488m_50s__1489m_00s.mp3\n",
      "UMIAT_20130829_065436_1277m_33s__1277m_43s.mp3\n",
      "NIGLIQ2_20160706_034307_2188m_23s__2188m_33s.mp3\n",
      "OCNPT_20160711_093545_0079m_44s__0079m_54s.mp3\n",
      "FSHCK3_20160722_133312_0599m_08s__0599m_18s.mp3\n",
      "FSHCK3_20160718_101043_2635m_51s__2636m_01s.mp3\n",
      "CLVL2_20160717_152145_2049m_12s__2049m_22s.mp3\n",
      "ITKILLIK2_20160723_151926_1787m_27s__1787m_37s.mp3\n",
      "ROCKY_20160604_172713_1318m_22s__1318m_32s.mp3\n",
      "FSHCK3_20160712_050656_2011m_12s__2011m_22s.mp3\n",
      "CLVL2_20160612_222259_0083m_39s__0083m_49s.mp3\n",
      "OCNPT_20160713_111701_1401m_17s__1401m_27s.mp3\n",
      "ICERD_20160826_175546_0986m_50s__0987m_00s.mp3\n",
      "UMIAT_20130805_052845_0466m_26s__0466m_36s.mp3\n",
      "OCNPT3_20160621_055432_2127m_36s__2127m_46s.mp3\n",
      "NIGLIQ2_20160708_052422_0329m_18s__0329m_28s.mp3\n",
      "OCNPT_20160713_111701_1299m_25s__1299m_35s.mp3\n",
      "CLVL5_20160707_045736_1015m_27s__1015m_37s.mp3\n",
      "ITKILLIK1_20160731_171332_2555m_36s__2555m_46s.mp3\n",
      "OCNPT_20160713_111701_0644m_40s__0644m_50s.mp3\n",
      "ITKILLIK1_20160825_132756_1312m_44s__1312m_54s.mp3\n",
      "NIGLIQ2_20160629_223922_1376m_01s__1376m_11s.mp3\n",
      "NIGLIQ1_20160611_235442_2627m_33s__2627m_43s.mp3\n",
      "ANKTVK_20160617_014901_2730m_22s__2730m_32s.mp3\n",
      "NIGLIQ1_20160605_185101_2430m_36s__2430m_46s.mp3\n",
      "UMIAT_20130827_051323_1054m_31s__1054m_41s.mp3\n",
      "NIGLIQ2_20160704_020152_1256m_37s__1256m_47s.mp3\n",
      "UMIRUK_20160619_065245_1566m_54s__1567m_04s.mp3\n",
      "FSHCK3_20160714_064812_0739m_31s__0739m_41s.mp3\n",
      "CLVL2_20160617_014524_2284m_40s__2284m_50s.mp3\n",
      "ITKILLIK1_20160710_091444_0933m_13s__0933m_23s.mp3\n",
      "CLVL4_20160703_020906_0862m_58s__0863m_08s.mp3\n",
      "CLVL5_20160624_185002_0179m_19s__0179m_29s.mp3\n",
      "USGS_20160609_201955_2579m_42s__2579m_52s.mp3\n",
      "USGS_20160715_050919_1240m_44s__1240m_54s.mp3\n",
      "OCNPT_20160804_215603_2135m_17s__2135m_27s.mp3\n",
      "NIGLIQ2_20160708_052422_2721m_00s__2721m_10s.mp3\n",
      "CLVL5_20160707_045736_2505m_13s__2505m_23s.mp3\n",
      "FSHCK4_20160701_213049_0044m_58s__0045m_08s.mp3\n",
      "UMIRUK_20160619_065245_0491m_33s__0491m_43s.mp3\n",
      "ICERD_20160816_092949_0449m_05s__0449m_15s.mp3\n",
      "OCNPT_20160705_043158_0241m_13s__0241m_23s.mp3\n",
      "UMIAT_20130722_004741_2268m_31s__2268m_41s.mp3\n",
      "NIGLIQ2_20160623_173536_2152m_13s__2152m_23s.mp3\n",
      "UMIAT_20130730_002508_2475m_53s__2476m_03s.mp3\n",
      "ITK01_20160604_144334_1440m_20s__1440m_30s.mp3\n",
      "CD3_20160801_221732_1368m_42s__1368m_52s.mp3\n",
      "NIGLIQ2_20160704_020152_2619m_06s__2619m_16s.mp3\n",
      "ITK01_20160614_230934_2498m_12s__2498m_22s.mp3\n",
      "ITKILLIK2_20160808_014437_0854m_37s__0854m_47s.mp3\n",
      "OCNPT_20160628_232813_0616m_00s__0616m_10s.mp3\n",
      "CLVL2_20160715_134031_0653m_51s__0654m_01s.mp3\n",
      "CLVL2_20160626_222929_1238m_01s__1238m_11s.mp3\n",
      "ITKILLIK1_20160704_041106_1062m_20s__1062m_30s.mp3\n",
      "CLVL4_20160608_205258_2332m_01s__2332m_11s.mp3\n",
      "ITKILLIK1_20160716_141823_0006m_52s__0007m_02s.mp3\n",
      "ITKILLIK1_20160802_185445_2391m_33s__2391m_43s.mp3\n",
      "ITKILLIK1_20160806_221708_1685m_38s__1685m_48s.mp3\n",
      "ITKILLIK1_20160718_155936_0219m_39s__0219m_49s.mp3\n",
      "CLVL4_20160719_153930_367m_59s__368m_09s.mp3\n",
      "NIGLIQ2_20160718_135040_1997m_37s__1997m_47s.mp3\n",
      "CLVL4_20160703_020906_2309m_43s__2309m_53s.mp3\n",
      "ANKTVK_20160604_154131_2026m_04s__2026m_14s.mp3\n",
      "ITKILLIK2_20160709_033035_0695m_14s__0695m_24s.mp3\n",
      "UMIAT_20130908_152033_1587m_30s__1587m_40s.mp3\n",
      "0803_005157_2439m_30s__2439m_40s.mp3\n",
      "ITKILLIK1_20160727_135107_1960m_05s__1960m_15s.mp3\n",
      "ICERD_20160806_010352_1225m_15s__1225m_25s.mp3\n",
      "CLVL5_20160630_235349_1093m_54s__1094m_04s.mp3\n",
      "ITKILLIK2_20160814_064822_1734m_46s__1734m_56s.mp3\n",
      "CLVL2_20160617_014524_0707m_58s__0708m_08s.mp3\n",
      "CLVL5_20160719_150511_2304m_06s__2304m_16s.mp3\n",
      "ITK01_20160612_212822_2313m_38s__2313m_48s.mp3\n",
      "UMIAT_20130831_083548_1453m_53s__1454m_03s.mp3\n",
      "UMIRUK_20160615_033013_1002m_50s__1003m_00s.mp3\n",
      "ITKILLIK1_20160710_091444_0437m_54s__0438m_04s.mp3\n",
      "0731_231042_0647m_32s__0647m_42s.mp3\n",
      "NIGLIQ2_20160625_191653_0082m_17s__0082m_27s.mp3\n",
      "CLVL5_20160626_203118_0531m_06s__0531m_16s.mp3\n",
      "CLVL4_20160703_020906_0018m_53s__0019m_03s.mp3\n",
      "UMIAT_20130902_101700_1092m_34s__1092m_44s.mp3\n",
      "ITKILLIK1_20160702_022953_2190m_56s__2191m_06s.mp3\n",
      "CLVL2_20160719_170257_0056m_11s__0056m_21s.mp3\n",
      "CLVL4_20160604_173026_1713m_32s__1713m_42s.mp3\n",
      "USGS_20160628_153915_1306m_37s__1306m_47s.mp3\n",
      "0819_142155_0081m_44s__0081m_54s.mp3\n",
      "UMIAT_20130904_115811_2146m_39s__2146m_49s.mp3\n",
      "FSHCK3_20160629_185925_2754m_34s__2754m_44s.mp3\n",
      "ITKILLIK1_20160702_022953_1127m_19s__1127m_29s.mp3\n",
      "NIGLIQ2_20160625_191653_2824m_54s__2825m_04s.mp3\n",
      "NIGLIQ2_20160720_153154_0276m_28s__0276m_38s.mp3\n",
      "FSHCK3_20160701_204040_2706m_59s__2707m_09s.mp3\n",
      "CLVL5_20160709_063852_1632m_56s__1633m_06s.mp3\n",
      "CLVL4_20160623_084159_0513m_20s__0513m_30s.mp3\n",
      "UMIAT_20130805_052845_1285m_25s__1285m_35s.mp3\n",
      "NIGLIQ1_20160614_013557_0688m_13s__0688m_23s.mp3\n",
      "308\n"
     ]
    }
   ],
   "source": [
    "total=0\n",
    "for i,mm in enumerate(y_true):\n",
    "    predict= 1 if y_pred[i]>0.5 else 0 \n",
    "    if mm!=predict:\n",
    "        total+=1\n",
    "        print(humanresults_keys[i])\n",
    "print(total)"
   ]
  },
  {
   "cell_type": "markdown",
   "metadata": {},
   "source": [
    "#### compare with sklearn"
   ]
  },
  {
   "cell_type": "code",
   "execution_count": 171,
   "metadata": {},
   "outputs": [],
   "source": [
    "import pickle\n",
    "\n",
    "# and later you can load it\n",
    "with open('../Visualizations/raw_many2one_NN.pkl', 'rb') as f:\n",
    "    clf = pickle.load(f)"
   ]
  },
  {
   "cell_type": "code",
   "execution_count": 172,
   "metadata": {},
   "outputs": [],
   "source": [
    "def many2one_predict(X,clf):\n",
    "    \n",
    "    result_count=(X.shape[0]//10) if X.shape[0]%10==0 else (X.shape[0]//10)+1\n",
    "    results=np.empty(result_count)\n",
    "    for i in range(0,X.shape[0],10):\n",
    "        result10=clf.predict(X[i:i+10,:])\n",
    "        results[(i//10)] = np.max(result10)\n",
    "    return results"
   ]
  },
  {
   "cell_type": "code",
   "execution_count": 196,
   "metadata": {},
   "outputs": [
    {
     "data": {
      "text/plain": [
       "(13000, 128)"
      ]
     },
     "execution_count": 196,
     "metadata": {},
     "output_type": "execute_result"
    }
   ],
   "source": [
    "X_last_sklearn.shape"
   ]
  },
  {
   "cell_type": "code",
   "execution_count": 205,
   "metadata": {},
   "outputs": [],
   "source": [
    "#TEST\n",
    "samples=np.ones((200,128))\n",
    "y_pred_sklearn=many2one_predict(X_val.cpu().numpy(),clf['Neural Net_Songbird'])"
   ]
  },
  {
   "cell_type": "code",
   "execution_count": 221,
   "metadata": {},
   "outputs": [
    {
     "data": {
      "text/plain": [
       "(164, 23, 21, 52)"
      ]
     },
     "execution_count": 221,
     "metadata": {},
     "output_type": "execute_result"
    }
   ],
   "source": [
    "from sklearn.metrics import confusion_matrix\n",
    "\n",
    "tn, fp, fn, tp=confusion_matrix(y_val_10.cpu().numpy(), y_pred_sklearn).ravel()\n",
    "tn, fp, fn, tp"
   ]
  },
  {
   "cell_type": "code",
   "execution_count": 203,
   "metadata": {},
   "outputs": [
    {
     "name": "stdout",
     "output_type": "stream",
     "text": [
      "CLVL2_20160604_153809_1807m_40s__1807m_50s.mp3 1 0 0\n",
      "CLVL5_20160606_195535_1100m_07s__1100m_17s.mp3 1 0 0\n",
      "OCNPT_20160626_214658_0865m_02s__0865m_12s.mp3 1 0 0\n",
      "USGS_20160618_030453_1287m_34s__1287m_44s.mp3 1 0 0\n",
      "SHORTY_20160619_042858_2563m_41s__2563m_51s.mp3 1 0 0\n",
      "OCNPT3_20160615_005046_0813m_58s__0814m_08s.mp3 1 0 0\n",
      "FSHCK3_20160720_115157_1777m_41s__1777m_51s.mp3 1 0 0\n",
      "UMIRUK_20160621_083400_0515m_46s__0515m_56s.mp3 1 0 0\n",
      "FSHCK4_20160629_194935_0237m_49s__0237m_59s.mp3 1 0 0\n",
      "ITKILLIK1_20160710_091444_0974m_18s__0974m_28s.mp3 1 0 0\n",
      "CLVL2_20160715_134031_0935m_28s__0935m_38s.mp3 1 0 0\n",
      "FSHCK3_20160706_000310_2407m_12s__2407m_22s.mp3 1 0 0\n",
      "ITKILLIK2_20160626_172259_2184m_56s__2185m_06s.mp3 1 0 0\n",
      "FSHCK1_20160808_050938_0344m_36s__0344m_46s.mp3 1 0 0\n",
      "ICERD_20160824_161434_0373m_50s__0374m_00s.mp3 1 0 0\n",
      "CLVL2_20160715_134031_2759m_40s__2759m_50s.mp3 1 0 0\n",
      "USGS_20160609_201955_0289m_57s__0290m_07s.mp3 1 0 0\n",
      "CLVL4_20160701_002747_2710m_53s__2711m_03s.mp3 1 0 0\n",
      "UMIAT_20130727_224356_0077m_01s__0077m_11s.mp3 1 0 0\n",
      "CLVL5_20160626_203118_2238m_03s__2238m_13s.mp3 1 0 0\n",
      "FSHCK1_20160812_083207_2277m_38s__2277m_48s.mp3 1 0 0\n",
      "ICERD_20160822_143323_2696m_08s__2696m_18s.mp3 1 0 0\n",
      "NIGLIQ2_20160706_034307_2188m_23s__2188m_33s.mp3 1 0 0\n",
      "ICERD_20160826_175546_0986m_50s__0987m_00s.mp3 1 0 0\n",
      "NIGLIQ1_20160605_185101_2430m_36s__2430m_46s.mp3 1 0 0\n",
      "CLVL2_20160617_014524_2284m_40s__2284m_50s.mp3 1 0 0\n",
      "CLVL5_20160624_185002_0179m_19s__0179m_29s.mp3 1 0 0\n",
      "USGS_20160715_050919_1240m_44s__1240m_54s.mp3 1 0 0\n",
      "CLVL2_20160715_134031_0653m_51s__0654m_01s.mp3 1 0 0\n",
      "ITKILLIK2_20160814_064822_1734m_46s__1734m_56s.mp3 1 0 0\n",
      "UMIAT_20130831_083548_1453m_53s__1454m_03s.mp3 1 0 0\n",
      "ITKILLIK1_20160710_091444_0437m_54s__0438m_04s.mp3 1 0 0\n",
      "0731_231042_0647m_32s__0647m_42s.mp3 1 0 0\n",
      "CLVL2_20160719_170257_0056m_11s__0056m_21s.mp3 1 0 0\n",
      "34\n"
     ]
    }
   ],
   "source": [
    "total=0\n",
    "for i,mm in enumerate(y_true):\n",
    "    predict= 1 if y_pred[i]>0.5 else 0 \n",
    "    predict_sklearn=int(y_pred_sklearn[i])\n",
    "    if mm!=predict and mm==1:\n",
    "        total+=1\n",
    "        print(humanresults_keys[i],mm,predict,predict_sklearn)\n",
    "print(total)"
   ]
  },
  {
   "cell_type": "code",
   "execution_count": null,
   "metadata": {},
   "outputs": [],
   "source": [
    "from sklearn.metrics import confusion_matrix\n",
    "\n",
    "confusion_matrix(y_true, y_pred)"
   ]
  },
  {
   "cell_type": "code",
   "execution_count": 187,
   "metadata": {},
   "outputs": [],
   "source": [
    "def nogradloss(X_test,y_test):\n",
    "    with torch.no_grad():    \n",
    "        outputs_test = net(X_test)\n",
    "        loss = criterion(outputs_test, y_test)\n",
    "        return loss.item()\n",
    "\n",
    "def nogradmetrics(X_test,y_test,net,multi_segment=False):\n",
    "    with torch.no_grad():    \n",
    "        if not multi_segment:\n",
    "            y_pred = net(X_test)\n",
    "#             print(y_pred.shape)\n",
    "#             print(y_pred[1:5,:])\n",
    "    #         print(y_pred)\n",
    "            loss = criterion(y_pred, y_test)\n",
    "    #         print(y_pred)\n",
    "            y_pred=torch.exp(y_pred)\n",
    "\n",
    "    #         _, predicted = torch.min(y_pred,1)\n",
    "    #         print(np.exp(_.cpu().numpy()),predicted)\n",
    "            #         print(y_test.shape,y_pred.shape)\n",
    "            train_auc=roc_auc_score(y_test.cpu().numpy(),\n",
    "                                    y_pred[:,1].cpu().numpy()) \n",
    "            \n",
    "            return loss.item(),train_auc\n",
    "        else:\n",
    "            y_pred = net(X_test)\n",
    "            \n",
    "            y_pred_10 =y_pred.reshape(-1,10,2)\n",
    "            indices=torch.max(y_pred[:,1].reshape(-1,10),dim=1).indices\n",
    "            y_pred_10 = y_pred_10[range(y_pred_10.shape[0]),indices,:].reshape(-1,2)\n",
    "            \n",
    "            y_test_10 = torch.max(y_test.reshape(-1,10),dim=1).values\n",
    "            \n",
    "            loss = criterion(y_pred_10, y_test_10)\n",
    "            train_auc=roc_auc_score(y_test_10.cpu().numpy(),\n",
    "                                    y_pred_10[:,1].cpu().numpy()) \n",
    "            return loss.item(),train_auc\n",
    "            "
   ]
  },
  {
   "cell_type": "code",
   "execution_count": null,
   "metadata": {},
   "outputs": [],
   "source": []
  },
  {
   "cell_type": "code",
   "execution_count": 411,
   "metadata": {},
   "outputs": [
    {
     "data": {
      "text/plain": [
       "(tensor([0.5201, 0.4799]), tensor([0.5363, 0.4637]))"
      ]
     },
     "execution_count": 411,
     "metadata": {},
     "output_type": "execute_result"
    }
   ],
   "source": [
    "np.exp([-6.7866, -4.4634])\n",
    "F.softmax(torch.Tensor([0.5403, 0.4597]),dim=0),torch.exp(F.log_softmax(torch.Tensor([ 0.1147, -0.0307]),dim=0))"
   ]
  },
  {
   "cell_type": "code",
   "execution_count": null,
   "metadata": {
    "collapsed": true
   },
   "outputs": [],
   "source": []
  },
  {
   "cell_type": "code",
   "execution_count": null,
   "metadata": {
    "collapsed": true
   },
   "outputs": [],
   "source": []
  }
 ],
 "metadata": {
  "kernelspec": {
   "display_name": "speechEnv",
   "language": "python",
   "name": "speechenv"
  },
  "language_info": {
   "codemirror_mode": {
    "name": "ipython",
    "version": 3
   },
   "file_extension": ".py",
   "mimetype": "text/x-python",
   "name": "python",
   "nbconvert_exporter": "python",
   "pygments_lexer": "ipython3",
   "version": "3.7.2"
  }
 },
 "nbformat": 4,
 "nbformat_minor": 2
}
