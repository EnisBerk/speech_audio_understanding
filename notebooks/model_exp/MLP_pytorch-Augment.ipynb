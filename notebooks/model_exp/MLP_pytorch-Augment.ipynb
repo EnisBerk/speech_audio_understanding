{
 "cells": [
  {
   "cell_type": "code",
   "execution_count": 69,
   "metadata": {},
   "outputs": [
    {
     "name": "stdout",
     "output_type": "stream",
     "text": [
      "/home/enis/projects/nna/src\n"
     ]
    }
   ],
   "source": [
    "import os\n",
    "import sys\n",
    "\n",
    "module_path = os.path.abspath(os.path.join('../../src'))\n",
    "print(module_path)\n",
    "if module_path not in sys.path:\n",
    "    sys.path.append(module_path)"
   ]
  },
  {
   "cell_type": "code",
   "execution_count": 70,
   "metadata": {},
   "outputs": [
    {
     "name": "stdout",
     "output_type": "stream",
     "text": [
      "unique files: 1300 \n",
      "total files 1366\n"
     ]
    }
   ],
   "source": [
    "import csv\n",
    "from os import listdir\n",
    "from pathlib import Path\n",
    "\n",
    "# LOAD LABELS by human\n",
    "labelsbyhumanpath=Path('/scratch/enis/data/nna/labeling/results/')\n",
    "# filter csv extension also by username\n",
    "labelsbyhuman=[i for i in listdir(labelsbyhumanpath) if (\".csv\" in i ) ]\n",
    "\n",
    "humanresults={}\n",
    "counter=0\n",
    "for apath in labelsbyhuman:\n",
    "    with open(labelsbyhumanpath / apath, newline='') as f:\n",
    "        reader=csv.reader(f)\n",
    "        for row in reader:\n",
    "            counter+=1\n",
    "            humanresults[row[0]]=row[1:]\n",
    "\n",
    "print(\"unique files:\",len(humanresults),\"\\ntotal files\",counter)\n",
    "\n",
    "#Join vehicle and Aircraft\n",
    "# for file_name,tagshere in humanresults.items():\n",
    "# #     print(file_name,tagshere)\n",
    "    \n",
    "#     tagshere=[\"Aircraft\" if tag == \"Vehicle\" else tag for tag in tags]"
   ]
  },
  {
   "cell_type": "code",
   "execution_count": 80,
   "metadata": {},
   "outputs": [],
   "source": [
    "from pathlib import Path\n",
    "import numpy as np\n",
    "import pandas as pd\n",
    "\n",
    "import torch\n",
    "from torch.utils.data import Dataset, DataLoader\n",
    "\n",
    "import torch.nn as nn\n",
    "import torch.nn.functional as F\n",
    "\n",
    "\n",
    "# fldr=\"/scratch/enis/data/nna/labeling/splits_preprocessed_real/\"\n",
    "# fname=\"S4A10209_20190505_093000_51m_7s__51m_17s_preprocessed.npy\"\n",
    "\n",
    "# preProcessedFile=Path(fldr)/fname\n",
    "\n",
    "\n",
    "# preProcessedArray=np.load(preProcessedFile)"
   ]
  },
  {
   "cell_type": "code",
   "execution_count": 81,
   "metadata": {},
   "outputs": [],
   "source": [
    "# import IPython.display as ipd\n",
    "# ipd.Audio(sourcePath/file_name)"
   ]
  },
  {
   "cell_type": "code",
   "execution_count": null,
   "metadata": {},
   "outputs": [],
   "source": []
  },
  {
   "cell_type": "code",
   "execution_count": null,
   "metadata": {},
   "outputs": [],
   "source": []
  },
  {
   "cell_type": "code",
   "execution_count": 82,
   "metadata": {},
   "outputs": [],
   "source": [
    "# import matplotlib.pyplot as plt\n",
    "# from pydub import AudioSegment\n",
    "# plt.figure(figsize=(10, 6))\n",
    "\n",
    "# y, sr = librosa.load(sourcePath/file_name,sr=None)\n",
    "# # audio = AudioSegment.from_file(sourcePath/file_name)\n",
    "\n",
    "# mel=librosa.feature.melspectrogram(y=y+0.1, sr=sr)\n",
    "# an_x = librosa.power_to_db(mel, ref=np.max)\n",
    "\n",
    "# librosa.display.specshow(an_x, x_axis='time',\n",
    "#                           y_axis='mel', sr=sr,\n",
    "#                           fmax=8000)\n",
    "# plt.colorbar(format='%+2.0f dB')"
   ]
  },
  {
   "cell_type": "code",
   "execution_count": null,
   "metadata": {},
   "outputs": [],
   "source": []
  },
  {
   "cell_type": "code",
   "execution_count": null,
   "metadata": {},
   "outputs": [],
   "source": []
  },
  {
   "cell_type": "code",
   "execution_count": null,
   "metadata": {},
   "outputs": [],
   "source": []
  },
  {
   "cell_type": "code",
   "execution_count": 83,
   "metadata": {},
   "outputs": [],
   "source": [
    "import csv \n",
    "from pathlib import Path\n",
    "from os import listdir\n",
    "from sklearn.model_selection import train_test_split\n",
    "\n",
    "# import pickle\n",
    "\n",
    "# from labeling_utils import load_labels\n",
    "\n",
    "# import numpy as np\n",
    "# from sklearn.metrics import precision_recall_fscore_support\n",
    "\n",
    "# from sklearn.model_selection import train_test_split\n",
    "# import pandas as pd\n",
    "\n",
    "# tags=[\"Songbird\",\"Water Bird\",\"Insect\",\"Running Water\",\"Rain\",\"Cable\",\"Wind\",\"Aircraft\"]\n",
    "tagSet=[\"Songbird\",\"Water Bird\",\"Insect\",\"Running Water\",\"Rain\",\"Cable\",\"Wind\",\"Aircraft\"]\n",
    "\n",
    "# from tabulate import tabulate\n",
    "# tag_set=tags[:]\n",
    "# import torch\n",
    "\n",
    "# %matplotlib inline\n",
    "\n"
   ]
  },
  {
   "cell_type": "markdown",
   "metadata": {},
   "source": [
    "* Count only highest ranking tag (what if both of them exist)\n",
    "* Bird tag is confusing, it can be also waterbird, how to handle ? Also Animal\n",
    "* "
   ]
  },
  {
   "cell_type": "code",
   "execution_count": 84,
   "metadata": {},
   "outputs": [],
   "source": [
    "#LOAD MODEL predictions\n",
    "splits_path= Path('/files/scratch/enis/data/nna/labeling/splits/')\n",
    "\n"
   ]
  },
  {
   "cell_type": "code",
   "execution_count": null,
   "metadata": {},
   "outputs": [],
   "source": []
  },
  {
   "cell_type": "code",
   "execution_count": null,
   "metadata": {},
   "outputs": [],
   "source": []
  },
  {
   "cell_type": "code",
   "execution_count": 85,
   "metadata": {},
   "outputs": [],
   "source": [
    "# returns a dictionary, keys are tags from tag set and values are binary list \n",
    "# \n",
    "def vectorized_y_true(humanresults,tag_set):\n",
    "    y_true={tag: np.zeros(len(humanresults)) for tag in tag_set}\n",
    "    for i,tags in enumerate(humanresults.values()):\n",
    "        # we  only look for tags in tag_set\n",
    "        for tag in tag_set:\n",
    "            if tag in tags:\n",
    "                y_true[tag][i] = 1\n",
    "            else:\n",
    "                y_true[tag][i] = 0 \n",
    "    return y_true\n",
    "\n"
   ]
  },
  {
   "cell_type": "code",
   "execution_count": 89,
   "metadata": {},
   "outputs": [],
   "source": [
    "y_true_dict = vectorized_y_true(humanresults,tagSet)\n",
    "y_true_all = pd.DataFrame(y_true_dict)\n",
    "y_true = np.array(y_true_all['Songbird']).astype(\"long\")\n"
   ]
  },
  {
   "cell_type": "code",
   "execution_count": null,
   "metadata": {},
   "outputs": [],
   "source": []
  },
  {
   "cell_type": "code",
   "execution_count": 90,
   "metadata": {},
   "outputs": [],
   "source": [
    "def map_reduce(X,func_type):\n",
    "    if func_type==\"Average\":\n",
    "        return np.mean(X,axis=1)\n",
    "    elif func_type==\"Concat\":\n",
    "        return np.reshape(X,(-1,1280))\n",
    "    else:\n",
    "        raise Exception(\"ERROR with embed type\")\n",
    "\n",
    "def pick_embed(embed_type:str, sourcePath: Path):\n",
    "    \n",
    "    for index,i in enumerate(humanresults):\n",
    "        file_name=Path(i).stem\n",
    "        if embed_type==\"Raw\":\n",
    "            file_name+=\"_rawembed.npy\"\n",
    "        elif embed_type==\"Normalized\":\n",
    "            file_name+=\"_rawembed.npy\"\n",
    "        elif embed_type==\"Unsupervised\":\n",
    "            file_name+=\"_superembedv2.npy\"\n",
    "        elif embed_type==\"LogMel\":\n",
    "            file_name+=\"_preprocessed.npy\"\n",
    "\n",
    "        else:\n",
    "            raise Exception(\"ERROR with embed type\")\n",
    "        an_x=np.load(sourcePath / file_name)\n",
    "        if index==0:\n",
    "            X= np.empty((len(humanresults),*an_x.shape))\n",
    "        X[index,:,:]=an_x[:]\n",
    "    return X"
   ]
  },
  {
   "cell_type": "code",
   "execution_count": null,
   "metadata": {},
   "outputs": [],
   "source": []
  },
  {
   "cell_type": "code",
   "execution_count": 91,
   "metadata": {},
   "outputs": [],
   "source": [
    "\n",
    "sourcePath=Path('/scratch/enis/data/nna/labeling/split_embeddings/')\n",
    "sourcePath=Path(\"/scratch/enis/data/nna/labeling/splits_preprocessed/\")\n",
    "# filter by username\n",
    "# split_embeds=[i for i in listdir(sourcePath) ]\n",
    "# raw_embeds =  [i for i in split_embeds if \"rawembed\" in i]\n",
    "# proc_embeds = [i for i in split_embeds if \"_embed\" in i]\n",
    "# super_embed = [i for i in split_embeds if \"_superembedv2\" in i]\n"
   ]
  },
  {
   "cell_type": "code",
   "execution_count": 92,
   "metadata": {},
   "outputs": [],
   "source": [
    "import warnings\n",
    "warnings.filterwarnings('ignore')"
   ]
  },
  {
   "cell_type": "code",
   "execution_count": 108,
   "metadata": {},
   "outputs": [],
   "source": [
    "# np.min([y.shape[0] for y in y_list])\n",
    "shortestLen=min([y[0].shape[0] for y in y_list])\n",
    "y_list=[y[0][:shortestLen] for y in y_list]"
   ]
  },
  {
   "cell_type": "code",
   "execution_count": 191,
   "metadata": {},
   "outputs": [
    {
     "data": {
      "text/plain": [
       "(1300, 10, 44100)"
      ]
     },
     "execution_count": 191,
     "metadata": {},
     "output_type": "execute_result"
    }
   ],
   "source": []
  },
  {
   "cell_type": "code",
   "execution_count": 192,
   "metadata": {},
   "outputs": [],
   "source": []
  },
  {
   "cell_type": "code",
   "execution_count": 193,
   "metadata": {},
   "outputs": [
    {
     "data": {
      "text/plain": [
       "(780, 10, 44100)"
      ]
     },
     "execution_count": 193,
     "metadata": {},
     "output_type": "execute_result"
    }
   ],
   "source": [
    "X_train.shape"
   ]
  },
  {
   "cell_type": "code",
   "execution_count": null,
   "metadata": {},
   "outputs": [],
   "source": [
    "import librosa\n",
    "import librosa.display\n",
    "import numpy as np\n",
    "from pathlib import Path\n",
    "\n",
    "sourcePath=Path(\"/scratch/enis/data/nna/labeling/splits/\")\n",
    "# sourcePath=Path(\"./louder/\")\n",
    "\n",
    "y_list=[]\n",
    "for index,i in enumerate(humanresults):\n",
    "    file_name=Path(i)\n",
    "    y, sr = librosa.load(sourcePath/file_name,sr=None)\n",
    "    y_list.append(y)\n",
    "    if sr!=44100:\n",
    "        print(sr)\n",
    "#     if index==6:\n",
    "#         break\n",
    "\n",
    "    \n",
    "#shorten according to smallest\n",
    "shortestLen=441000 #min([y.shape[0] for y in y_list])\n",
    "y_list=[y[:shortestLen] for y in y_list]\n",
    "y_list=[np.array(y).reshape(1,10,-1) for y in y_list]\n",
    "\n",
    "X=np.concatenate(y_list,axis=0)\n"
   ]
  },
  {
   "cell_type": "code",
   "execution_count": 330,
   "metadata": {},
   "outputs": [],
   "source": [
    "X_train, X_test, y_train, y_test = train_test_split(\n",
    "                    X, y_true, test_size=0.2, random_state=42)\n",
    "X_train, X_val, y_train, y_val = train_test_split(\n",
    "                    X_train, y_train, test_size=0.25, random_state=42)\n"
   ]
  },
  {
   "cell_type": "code",
   "execution_count": 268,
   "metadata": {},
   "outputs": [
    {
     "data": {
      "text/plain": [
       "528"
      ]
     },
     "execution_count": 268,
     "metadata": {},
     "output_type": "execute_result"
    }
   ],
   "source": [
    "sum(neg_index)"
   ]
  },
  {
   "cell_type": "code",
   "execution_count": 297,
   "metadata": {},
   "outputs": [],
   "source": []
  },
  {
   "cell_type": "code",
   "execution_count": null,
   "metadata": {},
   "outputs": [],
   "source": []
  },
  {
   "cell_type": "code",
   "execution_count": 295,
   "metadata": {},
   "outputs": [
    {
     "data": {
      "text/plain": [
       "(1, 20, 44100)"
      ]
     },
     "execution_count": 295,
     "metadata": {},
     "output_type": "execute_result"
    }
   ],
   "source": []
  },
  {
   "cell_type": "code",
   "execution_count": null,
   "metadata": {},
   "outputs": [],
   "source": [
    "\n",
    "############# augmentation for TRAIN only \n",
    "pos_index= (y_train==1)\n",
    "neg_index= (y_train==0)\n",
    "\n",
    "X_train_pos=X_train[pos_index]\n",
    "X_train_neg=X_train[neg_index]\n",
    "\n",
    "\n",
    "###### randomMERGE\n",
    "augmentad_pos=randomMerge(X_train_pos,400-X_train_pos.shape[0])\n",
    "print(\"augmentad positive {} from {} \".format(augmentad_pos.shape[0],sum(pos_index)))\n",
    "if type(augmentad_pos)!=None:\n",
    "    X_train_pos=np.concatenate([augmentad_pos,X_train_pos]).astype(\"float32\")\n",
    "\n",
    "augmentad_neg = randomMerge(X_train_neg,800-X_train_neg.shape[0])\n",
    "print(\"augmentad negative {} from {}\".format(augmentad_neg.shape[0],sum(neg_index)))\n",
    "\n",
    "if  type(augmentad_neg)!=None:\n",
    "    X_train_neg=np.concatenate([augmentad_neg,X_train_neg]).astype(\"float32\")\n",
    "\n",
    "    \n",
    "X_train = np.concatenate([X_train_pos,X_train_neg]).astype(\"float32\")\n",
    "y_train = np.concatenate([np.ones(X_train_pos.shape[0]),np.zeros(X_train_neg.shape[0])]).astype(\"int64\")\n",
    "\n",
    "\n",
    "############# calculate mel-spectogram for all data\n",
    "\n",
    "XArrays=[X_val,X_test,X_train]\n",
    "results=[]\n",
    "for X_array_i in range(len(XArrays)):\n",
    "    X_array = XArrays[X_array_i]\n",
    "    for index,y in enumerate(X_array):\n",
    "        \n",
    "        mel=librosa.feature.melspectrogram(y=y.reshape(-1), sr=sr)\n",
    "        an_x = librosa.power_to_db(mel, ref=np.max)\n",
    "        if index==0:\n",
    "            XMel = np.empty((X_array.shape[0],128,850))\n",
    "        XMel[index,:,:]=an_x[:,:850]\n",
    "        if index%100==0:\n",
    "            print(index)\n",
    "#     X_array = XMel[:]\n",
    "    results.append(XMel)\n",
    "#     print(X_array.shape)\n",
    "\n",
    "X_val,X_test,X_train=results\n",
    "\n"
   ]
  },
  {
   "cell_type": "code",
   "execution_count": 331,
   "metadata": {},
   "outputs": [
    {
     "name": "stdout",
     "output_type": "stream",
     "text": [
      "augmentad positive 548 from 252 \n",
      "augmentad negative 672 from 528\n",
      "0\n",
      "100\n",
      "200\n",
      "0\n",
      "100\n",
      "200\n",
      "0\n",
      "100\n",
      "200\n",
      "300\n",
      "400\n",
      "500\n",
      "600\n",
      "700\n",
      "800\n",
      "900\n",
      "1000\n",
      "1100\n",
      "1200\n",
      "1300\n",
      "1400\n",
      "1500\n",
      "1600\n",
      "1700\n",
      "1800\n",
      "1900\n"
     ]
    }
   ],
   "source": [
    "\n",
    "############# augmentation for TRAIN only \n",
    "pos_index= (y_train==1)\n",
    "neg_index= (y_train==0)\n",
    "\n",
    "X_train_pos=X_train[pos_index]\n",
    "X_train_neg=X_train[neg_index]\n",
    "\n",
    "\n",
    "###### randomConcat\n",
    "augmentad_pos=randomConcat(X_train_pos,800-X_train_pos.shape[0])\n",
    "print(\"augmentad positive {} from {} \".format(augmentad_pos.shape[0],sum(pos_index)))\n",
    "\n",
    "augmentad_neg = randomConcat(X_train_neg,1200-X_train_neg.shape[0])\n",
    "print(\"augmentad negative {} from {}\".format(augmentad_neg.shape[0],sum(neg_index)))\n",
    "\n",
    "XArrays=[X_train_neg,X_train_pos,X_val,X_test]\n",
    "\n",
    "for i,X_array in enumerate((XArrays)):\n",
    "    XArrays[i]=np.concatenate([X_array,X_array],axis=1)\n",
    "\n",
    "X_train_neg,X_train_pos,X_val,X_test=XArrays\n",
    "\n",
    "if  type(augmentad_neg)!=None:\n",
    "    X_train_neg=np.concatenate([augmentad_neg,X_train_neg]).astype(\"float32\")\n",
    "    \n",
    "if type(augmentad_pos)!=None:\n",
    "    X_train_pos=np.concatenate([augmentad_pos,X_train_pos]).astype(\"float32\")\n",
    "\n",
    "\n",
    "    \n",
    "X_train = np.concatenate([X_train_pos,X_train_neg]).astype(\"float32\")\n",
    "y_train = np.concatenate([np.ones(X_train_pos.shape[0]),np.zeros(X_train_neg.shape[0])]).astype(\"int64\")\n",
    "\n",
    "\n",
    "############# calculate mel-spectogram for all data\n",
    "\n",
    "XArrays=[X_val,X_test,X_train]\n",
    "results=[]\n",
    "for X_array_i in range(len(XArrays)):\n",
    "    X_array = XArrays[X_array_i]\n",
    "    for index,y in enumerate(X_array):\n",
    "        \n",
    "        mel=librosa.feature.melspectrogram(y=y.reshape(-1), sr=sr)\n",
    "        an_x = librosa.power_to_db(mel, ref=np.max)\n",
    "        if index==0:\n",
    "            XMel = np.empty((X_array.shape[0],128,1700))\n",
    "        XMel[index,:,:]=an_x[:,:1700]\n",
    "        if index%100==0:\n",
    "            print(index)\n",
    "#     X_array = XMel[:]\n",
    "    results.append(XMel)\n",
    "#     print(X_array.shape)\n",
    "\n",
    "X_val,X_test,X_train=results\n",
    "\n"
   ]
  },
  {
   "cell_type": "code",
   "execution_count": 306,
   "metadata": {},
   "outputs": [
    {
     "data": {
      "text/plain": [
       "(128, 1723)"
      ]
     },
     "execution_count": 306,
     "metadata": {},
     "output_type": "execute_result"
    }
   ],
   "source": [
    "an_x.shape"
   ]
  },
  {
   "cell_type": "code",
   "execution_count": 332,
   "metadata": {},
   "outputs": [],
   "source": [
    "XArrays=[X_train,X_test,X_val]\n",
    "for i,X_array in enumerate(XArrays):\n",
    "    XArrays[i]=X_array.reshape(X_array.shape[0],1,*X_array.shape[1:])\n",
    "    XArrays[i]=XArrays[i].astype(\"float32\")\n",
    "[X_train,X_test,X_val]=XArrays"
   ]
  },
  {
   "cell_type": "code",
   "execution_count": 79,
   "metadata": {},
   "outputs": [
    {
     "data": {
      "text/plain": [
       "PosixPath('/scratch/enis/data/nna/labeling/splits/ITKILLIK1_20160823_114644_0000m_00s__0000m_10s.mp3')"
      ]
     },
     "execution_count": 79,
     "metadata": {},
     "output_type": "execute_result"
    }
   ],
   "source": [
    "sourcePath / \"ITKILLIK1_20160823_114644_0000m_00s__0000m_10s.mp3\""
   ]
  },
  {
   "cell_type": "code",
   "execution_count": 10,
   "metadata": {},
   "outputs": [],
   "source": [
    "# X=pick_embed(\"LogMel\",sourcePath)\n",
    "# X=pick_embed(\"Unsupervised\")\n",
    "# Unsupervised\n",
    "# X=map_reduce(X,map_reduce_type)\n",
    "humanresults_keys=list(humanresults.keys())\n",
    "X=X.astype(\"float32\")"
   ]
  },
  {
   "cell_type": "code",
   "execution_count": 110,
   "metadata": {},
   "outputs": [],
   "source": [
    "X=X.astype(\"float32\")"
   ]
  },
  {
   "cell_type": "code",
   "execution_count": 258,
   "metadata": {},
   "outputs": [],
   "source": [
    "XLouder=XLouder.astype(\"float32\")"
   ]
  },
  {
   "cell_type": "code",
   "execution_count": 172,
   "metadata": {},
   "outputs": [],
   "source": [
    "XMel=XMel.astype(\"float32\")"
   ]
  },
  {
   "cell_type": "code",
   "execution_count": 208,
   "metadata": {},
   "outputs": [],
   "source": [
    "# from sklearn.metrics import average_precision_score\n",
    "from sklearn.metrics import roc_auc_score\n",
    "# def cal_metrics(y_true_dict,y_pred_dict):\n",
    "#     results={}\n",
    "#     for tag in tag_set:\n",
    "#         y_true = y_true_dict[tag]\n",
    "#         y_pred = y_pred_dict[tag]\n",
    "#         metrics=precision_recall_fscore_support(y_true, y_pred,pos_label=1,average=\"binary\")\n",
    "#         results[tag]=(metrics)\n",
    "#     return results\n",
    "\n",
    "# def cal_auc(y_true_dict,y_pred_dict_prob):\n",
    "#     results={}\n",
    "#     for tag in tag_set:\n",
    "#         y_true = y_true_dict[tag]\n",
    "#         y_pred = y_pred_dict_prob[tag]\n",
    "#         metrics_auc=roc_auc_score(y_true, y_pred) #average_precision_score\n",
    "#         results[tag]=(metrics_auc)\n",
    "\n",
    "#     return results\n",
    "\n",
    "# def print_results(results,y_true_dict,):\n",
    "#     headers= [\"Label\",\"Positive\",\"Precision\",\"Recall\",\"Fscore\"]\n",
    "#     table=[]\n",
    "#     sample_count=len(next(iter(y_true_dict.values())))\n",
    "#     print(\"Total sample:\",sample_count,\"And threshold is\",prob_threshold)\n",
    "#     for tag in (tag_set):\n",
    "#         positive_count=sum(y_true_dict[tag])\n",
    "#         table.append([tag,positive_count,*results[tag][:-1]])\n",
    "\n",
    "#     print(tabulate(table, headers=headers))\n",
    "\n",
    "    "
   ]
  },
  {
   "cell_type": "code",
   "execution_count": 209,
   "metadata": {},
   "outputs": [],
   "source": [
    "def nogradloss(X_test,y_test):\n",
    "    with torch.no_grad():    \n",
    "        outputs_test = net(X_test)\n",
    "        loss = criterion(outputs_test, y_test)\n",
    "        return loss.item()\n",
    "\n",
    "def nogradmetrics(X_test,y_test,net,multi_segment=False):\n",
    "    with torch.no_grad():    \n",
    "        if not multi_segment:\n",
    "            y_pred = net(X_test)\n",
    "#             print(y_pred.shape)\n",
    "#             print(y_pred[1:5,:])\n",
    "    #         print(y_pred)\n",
    "            loss = criterion(y_pred, y_test)\n",
    "    #         print(y_pred)\n",
    "            y_pred=torch.exp(y_pred)\n",
    "#             print(sum(torch.max(y_pred, 1)[1]))\n",
    "#             _, predicted = torch.min(y_pred,1)\n",
    "#             print(np.exp(_.cpu().numpy()),predicted)\n",
    "#                     print(y_test.shape,y_pred.shape)\n",
    "            train_auc=roc_auc_score(y_test.cpu().numpy(),\n",
    "                                    y_pred[:,1].cpu().numpy()) \n",
    "            \n",
    "            return loss.item(),train_auc\n",
    "        else:\n",
    "            y_pred = net(X_test)\n",
    "            \n",
    "            y_pred_10 =y_pred.reshape(-1,10,2)\n",
    "            indices=torch.max(y_pred[:,1].reshape(-1,10),dim=1).indices\n",
    "            y_pred_10 = y_pred_10[range(y_pred_10.shape[0]),indices,:].reshape(-1,2)\n",
    "            \n",
    "            y_test_10 = torch.max(y_test.reshape(-1,10),dim=1).values\n",
    "            \n",
    "            loss = criterion(y_pred_10, y_test_10)\n",
    "            train_auc=roc_auc_score(y_test_10.cpu().numpy(),\n",
    "                                    y_pred_10[:,1].cpu().numpy()) \n",
    "            return loss.item(),train_auc\n",
    "\n",
    "        \n",
    "class audioDataset(Dataset):\n",
    "\n",
    "    def __init__(self,X,y, transform=None):\n",
    "        \"\"\"\n",
    "        Args:\n",
    "\n",
    "        \"\"\"\n",
    "        self.X=X\n",
    "        self.y=y\n",
    "#         self.landmarks_frame = pd.read_csv(csv_file)\n",
    "#         self.root_dir = root_dir\n",
    "        self.transform = transform\n",
    "\n",
    "    def __len__(self):\n",
    "        return self.X.shape[0]\n",
    "\n",
    "    def __getitem__(self, idx):\n",
    "\n",
    "        sample = self.X[idx],self.y[idx]\n",
    "\n",
    "        if self.transform:\n",
    "            sample = self.transform(sample)\n",
    "\n",
    "        return sample"
   ]
  },
  {
   "cell_type": "code",
   "execution_count": 175,
   "metadata": {},
   "outputs": [],
   "source": [
    "# import torch\n",
    "# augmentad=torch.ones(13,10,128)\n",
    "# torch.randperm(13)"
   ]
  },
  {
   "cell_type": "code",
   "execution_count": 20,
   "metadata": {},
   "outputs": [
    {
     "data": {
      "text/plain": [
       "torch.Size([13, 10, 128])"
      ]
     },
     "execution_count": 20,
     "metadata": {},
     "output_type": "execute_result"
    }
   ],
   "source": []
  },
  {
   "cell_type": "code",
   "execution_count": 182,
   "metadata": {},
   "outputs": [],
   "source": [
    "import torch\n",
    "device = torch.device(\"cuda:0\" if torch.cuda.is_available() else \"cpu\")\n",
    "# device=\"cpu\"\n",
    "\n",
    "# #randomly select 2*left # of samples\n",
    "# first = augmentad[ torch.randperm(augmentad.shape[0])[:left]].reshape(-1,10,128)\n",
    "# second = augmentad[ torch.randperm(augmentad.shape[0])[:left]].reshape(-1,10,128)\n",
    "# # merge first half and second half of the samples\n",
    "# new[:,0:5,:],new[:,5:10,:]=first[:,0:5,:],second[:,5:10,:]\n",
    "# augmentad=np.concatenate([augmentad,new])\n",
    "# #     print(augmentad.shape)\n",
    "\n",
    "# augmentad=np.unique(augmentad,axis=0)"
   ]
  },
  {
   "cell_type": "code",
   "execution_count": null,
   "metadata": {},
   "outputs": [],
   "source": []
  },
  {
   "cell_type": "code",
   "execution_count": 62,
   "metadata": {},
   "outputs": [],
   "source": []
  },
  {
   "cell_type": "markdown",
   "metadata": {},
   "source": [
    "#### Run only one of the following cells that does splitting "
   ]
  },
  {
   "cell_type": "code",
   "execution_count": null,
   "metadata": {},
   "outputs": [],
   "source": []
  },
  {
   "cell_type": "code",
   "execution_count": 311,
   "metadata": {},
   "outputs": [],
   "source": [
    "# fully forward best\n",
    "\n",
    "# seperate,  \n",
    "# different AUC calculation PART, to be fair  (do max of 10 predictions)\n",
    "MULTI_SEGMENT = True\n",
    "FLAT=False\n",
    "\n",
    "X_train, X_test, y_train, y_test = train_test_split(\n",
    "    X.reshape(X.shape[0],-1), y_true, test_size=0.2, random_state=42)\n",
    "X_train, X_val, y_train, y_val = train_test_split(\n",
    "    X_train, y_train, test_size=0.25, random_state=42)\n",
    "\n",
    "# use 1 second as  samples\n",
    "X_train=X_train.reshape(-1,np.prod(X.shape[2:]))\n",
    "X_test=X_test.reshape(-1,np.prod(X.shape[2:]))\n",
    "X_val=X_val.reshape(-1,np.prod(X.shape[2:]))\n",
    "\n",
    "# repeat labels\n",
    "y_train=np.repeat(y_train,10)\n",
    "y_test=np.repeat(y_test,10)\n",
    "y_val=np.repeat(y_val,10)\n",
    "\n",
    "\n"
   ]
  },
  {
   "cell_type": "code",
   "execution_count": 15,
   "metadata": {},
   "outputs": [],
   "source": [
    "# LSTM \n",
    "\n",
    "# seperate,  \n",
    "# different AUC calculation PART, to be fair  (do max of 10 predictions)\n",
    "MULTI_SEGMENT = False\n",
    "FLAT=False\n",
    "\n",
    "X_train, X_test, y_train, y_test = train_test_split(\n",
    "    X.reshape(X.shape[0],10,-1), y_true, test_size=0.2, random_state=42)\n",
    "X_train, X_val, y_train, y_val = train_test_split(\n",
    "    X_train, y_train, test_size=0.25, random_state=42)\n",
    "\n",
    "# use 1 second as  samples\n",
    "# X_train=X_train.reshape(-1,np.prod(X.shape[2:]))\n",
    "# X_test=X_test.reshape(-1,np.prod(X.shape[2:]))\n",
    "# X_val=X_val.reshape(-1,np.prod(X.shape[2:]))\n",
    "\n",
    "# repeat labels\n",
    "# y_train=np.repeat(y_train,10)\n",
    "# y_test=np.repeat(y_test,10)\n",
    "# y_val=np.repeat(y_val,10)\n",
    "\n",
    "\n"
   ]
  },
  {
   "cell_type": "code",
   "execution_count": 177,
   "metadata": {},
   "outputs": [
    {
     "data": {
      "text/plain": [
       "(2000, 128, 850)"
      ]
     },
     "execution_count": 177,
     "metadata": {},
     "output_type": "execute_result"
    }
   ],
   "source": [
    "XMel.shape"
   ]
  },
  {
   "cell_type": "code",
   "execution_count": 178,
   "metadata": {},
   "outputs": [],
   "source": [
    "# CNN-2  \n",
    "\n",
    "# seperate,  \n",
    "# different AUC calculation PART, to be fair  (do max of 10 predictions)\n",
    "MULTI_SEGMENT = False\n",
    "FLAT=False\n",
    "\n",
    "X_train, X_test, y_train, y_test = train_test_split(\n",
    "    XMel.reshape(XMel.shape[0],1,XMel.shape[1],XMel.shape[2]), y_true_aug, test_size=0.2, random_state=42)\n",
    "X_train, X_val, y_train, y_val = train_test_split(\n",
    "    X_train, y_train, test_size=0.25, random_state=42)\n",
    "\n",
    "## if MULTI_SEGMENT\n",
    "# use 1 second as  samples\n",
    "# X_train=X_train.reshape(-1,np.prod(X.shape[2:]))\n",
    "# X_test=X_test.reshape(-1,np.prod(X.shape[2:]))\n",
    "# X_val=X_val.reshape(-1,np.prod(X.shape[2:]))\n",
    "\n",
    "# repeat labels\n",
    "# y_train=np.repeat(y_train,10)\n",
    "# y_test=np.repeat(y_test,10)\n",
    "# y_val=np.repeat(y_val,10)\n",
    "\n",
    "\n"
   ]
  },
  {
   "cell_type": "code",
   "execution_count": 153,
   "metadata": {},
   "outputs": [],
   "source": [
    "# CNN, Multi segment\n",
    "\n",
    "# seperate,  \n",
    "# different AUC calculation PART, to be fair  (do max of 10 predictions)\n",
    "MULTI_SEGMENT = True\n",
    "FLAT=False\n",
    "\n",
    "X_train, X_test, y_train, y_test = train_test_split(\n",
    "    X.reshape(X.shape[0],X.shape[1],1,X.shape[2],X.shape[3]), y_true, test_size=0.2, random_state=42)\n",
    "X_train, X_val, y_train, y_val = train_test_split(\n",
    "    X_train, y_train, test_size=0.25, random_state=42)\n",
    "\n",
    "## if MULTI_SEGMENT\n",
    "# use 1 second as  samples\n",
    "X_train=X_train.reshape(*[X_train.shape[0]*X_train.shape[1]]+list(X_train.shape[2:]))\n",
    "X_test=X_test.reshape(*[X_test.shape[0]*X_test.shape[1]]+list(X_test.shape[2:]))\n",
    "X_val=X_val.reshape(*[X_val.shape[0]*X_val.shape[1]]+list(X_val.shape[2:]))\n",
    "\n",
    "\n",
    "# repeat labels\n",
    "y_train=np.repeat(y_train,10)\n",
    "y_test=np.repeat(y_test,10)\n",
    "y_val=np.repeat(y_val,10)\n",
    "\n",
    "\n"
   ]
  },
  {
   "cell_type": "code",
   "execution_count": 242,
   "metadata": {},
   "outputs": [],
   "source": [
    "# see results on all data \n",
    "XALL=X.reshape(*[X.shape[0]*X.shape[1],1]+list(X.shape[2:]))\n",
    "y_trueALL=np.repeat(y_true,10)\n",
    "XALL=torch.from_numpy(XALL).to(device)\n",
    "# birds\n",
    "\n",
    "y_trueALL=torch.from_numpy(y_trueALL).to(device)"
   ]
  },
  {
   "cell_type": "code",
   "execution_count": 390,
   "metadata": {},
   "outputs": [],
   "source": [
    "# X_test,X_val=X_test.to(\"cuda\"),X_val.to(\"cuda\")\n",
    "# y_val,y_test=y_val.to(\"cuda\"),y_test.to(\"cuda\")"
   ]
  },
  {
   "cell_type": "markdown",
   "metadata": {},
   "source": [
    "### From here, run all cells: moving data to device, model creation and training"
   ]
  },
  {
   "cell_type": "code",
   "execution_count": 438,
   "metadata": {},
   "outputs": [],
   "source": [
    "# X_train=torch.from_numpy(X_train).to(device)\n",
    "# X_test=torch.from_numpy(X_test).to(device)\n",
    "# X_val=torch.from_numpy(X_val).to(device)\n",
    "# # # birds\n",
    "\n",
    "# y_val=torch.from_numpy(y_val).to(device)\n",
    "# y_test=torch.from_numpy(y_test).to(device)\n",
    "# y_train=torch.from_numpy(y_train).to(device)\n",
    "\n",
    "\n",
    "\n",
    "params = {'batch_size': 100,\n",
    "          'shuffle': True,\n",
    "          'num_workers': 0}\n",
    "\n",
    "# training_set=  audioDataset(X_train,y_train)\n",
    "# training_generator = DataLoader(training_set, **params)\n",
    "\n",
    "sound_datasets = {phase: audioDataset(XY[0],XY[1])\n",
    "                  for phase,XY in zip(['train', 'val', \"test\"],[[X_train,y_train],[X_val,y_val],[X_test,y_test]])}\n",
    "\n",
    "\n",
    "dataloaders = {x: torch.utils.data.DataLoader(sound_datasets[x], **params)\n",
    "              for x in ['train', 'val',\"test\"]}\n",
    "\n"
   ]
  },
  {
   "cell_type": "code",
   "execution_count": null,
   "metadata": {},
   "outputs": [],
   "source": []
  },
  {
   "cell_type": "code",
   "execution_count": null,
   "metadata": {},
   "outputs": [],
   "source": []
  },
  {
   "cell_type": "code",
   "execution_count": null,
   "metadata": {},
   "outputs": [],
   "source": []
  },
  {
   "cell_type": "code",
   "execution_count": 498,
   "metadata": {},
   "outputs": [],
   "source": [
    "\n",
    "\"\"\"\n",
    "Utility function for computing output of convolutions\n",
    "takes a tuple of (h,w) and returns a tuple of (h,w)\n",
    "\"\"\"\n",
    "def conv_output_shape(h_w, kernel_size=1, stride=1, pad=0, dilation=1):\n",
    "    from math import floor\n",
    "    if type(kernel_size) is not tuple:\n",
    "        kernel_size = (kernel_size, kernel_size)\n",
    "    h = floor( ((h_w[0] + (2 * pad) - ( dilation * (kernel_size[0] - 1) ) - 1 )/ stride) + 1)\n",
    "    w = floor( ((h_w[1] + (2 * pad) - ( dilation * (kernel_size[1] - 1) ) - 1 )/ stride) + 1)\n",
    "    return h, w\n",
    "\n",
    "class NetCNN2(nn.Module):\n",
    "    def __init__(self,out_channels,out_channels2,h_w,kernel_size,kernel_size2):\n",
    "        super(NetCNN2, self).__init__()\n",
    "        self.out_channels=out_channels\n",
    "        self.out_channels2=out_channels2\n",
    "        self.conv1 = nn.Conv2d(in_channels=1, out_channels=self.out_channels, kernel_size=kernel_size,padding=(1, 1))\n",
    "        self.pool = nn.MaxPool2d(2, 2)\n",
    "        self.conv1_h,self.conv1_w = conv_output_shape(h_w, kernel_size=kernel_size, pad=1)\n",
    "        self.conv1_h,self.conv1_w=self.conv1_h//2,self.conv1_w//2\n",
    "        \n",
    "        self.conv2 = nn.Conv2d(in_channels=self.out_channels, out_channels=self.out_channels2, kernel_size=kernel_size2,padding=(1, 1))\n",
    "        self.pool = nn.MaxPool2d(2, 2)\n",
    "        self.conv2_h,self.conv2_w = conv_output_shape([self.conv1_h,self.conv1_w], kernel_size=kernel_size2, pad=1)\n",
    "        self.conv2_h,self.conv2_w=self.conv2_h//2,self.conv2_w//2\n",
    "        \n",
    "#         print(self.conv1_h,self.conv1_w)\n",
    "# #         self.conv2 = nn.Conv2d(6, 16, 5)\n",
    "        if FLAT:\n",
    "            self.fc1 = nn.Linear(1280, 10) #100\n",
    "        else:\n",
    "            self.fc1 = nn.Linear(self.out_channels2*self.conv2_h*self.conv2_w, 10) #100\n",
    "#         self.fc1 = nn.Linear(128, 32)\n",
    "        torch.nn.init.xavier_normal_(self.fc1.weight)\n",
    "        self.fc1_bn = nn.BatchNorm1d(10) # 100\n",
    "\n",
    "        self.fc2 = nn.Linear(10, 10) # 32\n",
    "        torch.nn.init.xavier_normal_(self.fc2.weight)\n",
    "        self.fc2_bn = nn.BatchNorm1d(10)\n",
    "\n",
    "        self.fc3 = nn.Linear(10,10)\n",
    "        torch.nn.init.xavier_normal_(self.fc3.weight)\n",
    "        self.fc3_bn = nn.BatchNorm1d(5)\n",
    "\n",
    "        self.fc4 = nn.Linear(10, 2) #100\n",
    "        torch.nn.init.xavier_normal_(self.fc4.weight)\n",
    "\n",
    "        self.drop = nn.Dropout(p=0.4) #0.2\n",
    " \n",
    "    def forward(self, x):\n",
    "        x = self.pool(F.relu(self.conv1(x)))\n",
    "        x=self.drop(x)\n",
    "        x = self.pool(F.relu(self.conv2(x)))\n",
    "        x=self.drop(x)\n",
    "\n",
    "        x = x.view(-1, self.out_channels2*self.conv2_h*self.conv2_w)\n",
    "\n",
    "        x = F.relu(self.fc1_bn(self.fc1(x)))\n",
    "        x=self.drop(x)\n",
    "\n",
    "        x = self.fc4(x)\n",
    "        x = F.log_softmax(x,dim=1)\n",
    "        return x\n"
   ]
  },
  {
   "cell_type": "code",
   "execution_count": 499,
   "metadata": {},
   "outputs": [],
   "source": [
    "\n",
    "\n",
    "class NetCNN1(nn.Module):\n",
    "    def __init__(self,out_channels,h_w,kernel_size):\n",
    "        super(NetCNN1, self).__init__()\n",
    "        self.out_channels=out_channels\n",
    "        self.conv1 = nn.Conv2d(in_channels=1, out_channels=self.out_channels, kernel_size=kernel_size,padding=(1, 1))\n",
    "        self.pool = nn.MaxPool2d(2, 2)\n",
    "        self.conv1_h,self.conv1_w = conv_output_shape(h_w, kernel_size=kernel_size, pad=1)\n",
    "        self.conv1_h,self.conv1_w=self.conv1_h//2,self.conv1_w//2\n",
    "#         print(self.conv1_h,self.conv1_w)\n",
    "# #         self.conv2 = nn.Conv2d(6, 16, 5)\n",
    "        if FLAT:\n",
    "            self.fc1 = nn.Linear(1280, 10) #100\n",
    "        else:\n",
    "            self.fc1 = nn.Linear(self.out_channels*self.conv1_h*self.conv1_w, 10) #100\n",
    "#         self.fc1 = nn.Linear(128, 32)\n",
    "        torch.nn.init.xavier_normal_(self.fc1.weight)\n",
    "        self.fc1_bn = nn.BatchNorm1d(10) # 100\n",
    "\n",
    "        self.fc2 = nn.Linear(10, 10) # 32\n",
    "        torch.nn.init.xavier_normal_(self.fc2.weight)\n",
    "        self.fc2_bn = nn.BatchNorm1d(10)\n",
    "\n",
    "        self.fc3 = nn.Linear(10,10)\n",
    "        torch.nn.init.xavier_normal_(self.fc3.weight)\n",
    "        self.fc3_bn = nn.BatchNorm1d(5)\n",
    "\n",
    "        self.fc4 = nn.Linear(10, 2) #100\n",
    "        torch.nn.init.xavier_normal_(self.fc4.weight)\n",
    "\n",
    "        self.drop = nn.Dropout(p=0.4) #0.2\n",
    " \n",
    "    def forward(self, x):\n",
    "        x = self.pool(F.relu(self.conv1(x)))\n",
    "#         x = self.pool(F.relu(self.conv2(x)))\n",
    "        x=self.drop(x)\n",
    "\n",
    "        x = x.view(-1, self.out_channels*self.conv1_h*self.conv1_w)\n",
    "\n",
    "        x = F.relu(self.fc1_bn(self.fc1(x)))\n",
    "        x=self.drop(x)\n",
    "\n",
    "        x = self.fc4(x)\n",
    "        x = F.log_softmax(x,dim=1)\n",
    "        return x\n",
    "\n",
    "\n"
   ]
  },
  {
   "cell_type": "code",
   "execution_count": null,
   "metadata": {},
   "outputs": [],
   "source": []
  },
  {
   "cell_type": "code",
   "execution_count": 493,
   "metadata": {
    "scrolled": true
   },
   "outputs": [],
   "source": [
    "from IPython import display\n",
    "import time\n",
    "import torch.optim as optim\n",
    "import copy\n",
    "\n",
    "\n",
    "def train_model(model,dataloaders, criterion, optimizer, scheduler, statHistory, num_epochs=25):\n",
    "    since = time.time()\n",
    "\n",
    "    best_model_wts = copy.deepcopy(model.state_dict())\n",
    "    best_AUC = 0.0\n",
    "\n",
    "    for epoch in range(num_epochs):\n",
    "        print('Epoch {}/{}'.format(epoch, num_epochs - 1))\n",
    "        print('-' * 10)\n",
    "\n",
    "        # Each epoch has a training and validation phase\n",
    "        for phase in ['train', 'val']:\n",
    "            \n",
    "            if phase == 'train':\n",
    "                model.train()  # Set model to training mode\n",
    "            else:\n",
    "                model.eval()   # Set model to evaluate mode\n",
    "\n",
    "            running_loss = 0.0\n",
    "            running_corrects = 0\n",
    "            running_preds = []\n",
    "            running_labels = []\n",
    "            # Iterate over data.\n",
    "            for inputs, labels in dataloaders[phase]:\n",
    "                \n",
    "                running_labels.append(labels[:].cpu().detach().numpy())\n",
    "                \n",
    "                inputs = inputs.to(device)\n",
    "                labels = labels.to(device)\n",
    "                # zero the parameter gradients\n",
    "                optimizer.zero_grad()\n",
    "\n",
    "                # forward\n",
    "                # track history if only in train\n",
    "                with torch.set_grad_enabled(phase == 'train'):\n",
    "                    outputs = model(inputs)\n",
    "#                     _, preds = torch.max(outputs, 1)\n",
    "                    loss = criterion(outputs, labels)\n",
    "    \n",
    "                    preds =torch.exp(outputs)\n",
    "\n",
    "                    # backward + optimize only if in training phase\n",
    "                    if phase == 'train':\n",
    "                        loss.backward()\n",
    "                        optimizer.step()\n",
    "\n",
    "                # statistics\n",
    "                running_preds.append(preds[:,1].cpu().detach().numpy())\n",
    "                running_loss += loss.item() * inputs.size(0)\n",
    "        \n",
    "            \n",
    "            if phase == 'train' and not ((scheduler) is None):\n",
    "                scheduler.step()\n",
    "            \n",
    "            running_preds = np.concatenate(running_preds)\n",
    "            running_labels = np.concatenate(running_labels)\n",
    "            epoch_auc_score = roc_auc_score(running_labels,\n",
    "                                            running_preds) \n",
    "#             epoch_auc_score=0\n",
    "            \n",
    "            epoch_loss = running_loss / len(sound_datasets[phase])\n",
    "\n",
    "            statHistory[phase+\"Loss\"].append(epoch_loss)\n",
    "            statHistory[phase+\"AUC\"].append(epoch_auc_score)\n",
    "            \n",
    "            print('{} Loss: {:.4f} AUC: {:.4f}'.format(\n",
    "                phase, epoch_loss, epoch_auc_score))\n",
    "\n",
    "            # deep copy the model\n",
    "            if phase == 'val' and epoch_auc_score > best_AUC:\n",
    "                best_AUC = epoch_auc_score\n",
    "                best_model_wts = copy.deepcopy(model.state_dict())\n",
    "            \n",
    "\n",
    "\n",
    "    time_elapsed = time.time() - since\n",
    "    print('Training complete in {:.0f}m {:.0f}s'.format(\n",
    "        time_elapsed // 60, time_elapsed % 60))\n",
    "    print('Best val AUC: {:4f}'.format(best_AUC))\n",
    "\n",
    "    # load best model weights\n",
    "    model.load_state_dict(best_model_wts)\n",
    "    return model\n",
    "\n",
    "\n"
   ]
  },
  {
   "cell_type": "code",
   "execution_count": null,
   "metadata": {},
   "outputs": [],
   "source": []
  },
  {
   "cell_type": "code",
   "execution_count": 508,
   "metadata": {},
   "outputs": [
    {
     "name": "stdout",
     "output_type": "stream",
     "text": [
      "Epoch 0/99\n",
      "----------\n",
      "train Loss: 1.0156 AUC: 0.4885\n",
      "val Loss: 0.8292 AUC: 0.5234\n",
      "Epoch 1/99\n",
      "----------\n",
      "train Loss: 0.9864 AUC: 0.5242\n",
      "val Loss: 0.8158 AUC: 0.5553\n",
      "Epoch 2/99\n",
      "----------\n",
      "train Loss: 1.0042 AUC: 0.4990\n",
      "val Loss: 0.8205 AUC: 0.5515\n",
      "Epoch 3/99\n",
      "----------\n",
      "train Loss: 1.0171 AUC: 0.4960\n",
      "val Loss: 0.8163 AUC: 0.5568\n",
      "Epoch 4/99\n",
      "----------\n",
      "train Loss: 1.0278 AUC: 0.5036\n",
      "val Loss: 0.8181 AUC: 0.5482\n",
      "Epoch 5/99\n",
      "----------\n",
      "train Loss: 1.0333 AUC: 0.4821\n",
      "val Loss: 0.8228 AUC: 0.5589\n",
      "Epoch 6/99\n",
      "----------\n",
      "train Loss: 1.0498 AUC: 0.4830\n",
      "val Loss: 0.8131 AUC: 0.5553\n",
      "Epoch 7/99\n",
      "----------\n",
      "train Loss: 1.0308 AUC: 0.4881\n",
      "val Loss: 0.8184 AUC: 0.5521\n",
      "Epoch 8/99\n",
      "----------\n",
      "train Loss: 1.0288 AUC: 0.5000\n",
      "val Loss: 0.8111 AUC: 0.5567\n",
      "Epoch 9/99\n",
      "----------\n",
      "train Loss: 1.0336 AUC: 0.4831\n",
      "val Loss: 0.8175 AUC: 0.5558\n",
      "Epoch 10/99\n",
      "----------\n",
      "train Loss: 1.0244 AUC: 0.4976\n",
      "val Loss: 0.8189 AUC: 0.5390\n",
      "Epoch 11/99\n",
      "----------\n",
      "train Loss: 0.9678 AUC: 0.5292\n",
      "val Loss: 0.8315 AUC: 0.5299\n",
      "Epoch 12/99\n",
      "----------\n",
      "train Loss: 0.9720 AUC: 0.5331\n",
      "val Loss: 0.8173 AUC: 0.5623\n",
      "Epoch 13/99\n",
      "----------\n",
      "train Loss: 1.0106 AUC: 0.4953\n",
      "val Loss: 0.8224 AUC: 0.5334\n",
      "Epoch 14/99\n",
      "----------\n",
      "train Loss: 1.0050 AUC: 0.5014\n",
      "val Loss: 0.8202 AUC: 0.5405\n",
      "Epoch 15/99\n",
      "----------\n",
      "train Loss: 1.0601 AUC: 0.4635\n",
      "val Loss: 0.8205 AUC: 0.5444\n",
      "Epoch 16/99\n",
      "----------\n",
      "train Loss: 0.9943 AUC: 0.5136\n",
      "val Loss: 0.8269 AUC: 0.5478\n",
      "Epoch 17/99\n",
      "----------\n",
      "train Loss: 1.0014 AUC: 0.5127\n",
      "val Loss: 0.8086 AUC: 0.5581\n",
      "Epoch 18/99\n",
      "----------\n",
      "train Loss: 1.0254 AUC: 0.4991\n",
      "val Loss: 0.8215 AUC: 0.5488\n",
      "Epoch 19/99\n",
      "----------\n",
      "train Loss: 1.0199 AUC: 0.4982\n",
      "val Loss: 0.8183 AUC: 0.5547\n",
      "Epoch 20/99\n",
      "----------\n",
      "train Loss: 1.0446 AUC: 0.4741\n",
      "val Loss: 0.8265 AUC: 0.5512\n",
      "Epoch 21/99\n",
      "----------\n",
      "train Loss: 1.0159 AUC: 0.4945\n",
      "val Loss: 0.8221 AUC: 0.5162\n",
      "Epoch 22/99\n",
      "----------\n",
      "train Loss: 1.0291 AUC: 0.4826\n",
      "val Loss: 0.8114 AUC: 0.5568\n",
      "Epoch 23/99\n",
      "----------\n",
      "train Loss: 1.0251 AUC: 0.4880\n",
      "val Loss: 0.8127 AUC: 0.5539\n",
      "Epoch 24/99\n",
      "----------\n",
      "train Loss: 0.9884 AUC: 0.5093\n",
      "val Loss: 0.8116 AUC: 0.5546\n",
      "Epoch 25/99\n",
      "----------\n",
      "train Loss: 0.9842 AUC: 0.5064\n",
      "val Loss: 0.8166 AUC: 0.5517\n",
      "Epoch 26/99\n",
      "----------\n",
      "train Loss: 1.0082 AUC: 0.4965\n",
      "val Loss: 0.8100 AUC: 0.5575\n",
      "Epoch 27/99\n",
      "----------\n",
      "train Loss: 1.0018 AUC: 0.5045\n",
      "val Loss: 0.8206 AUC: 0.5541\n",
      "Epoch 28/99\n",
      "----------\n",
      "train Loss: 1.0170 AUC: 0.4850\n",
      "val Loss: 0.8163 AUC: 0.5435\n",
      "Epoch 29/99\n",
      "----------\n",
      "train Loss: 1.0077 AUC: 0.4934\n",
      "val Loss: 0.8168 AUC: 0.5519\n",
      "Epoch 30/99\n",
      "----------\n",
      "train Loss: 1.0522 AUC: 0.4810\n",
      "val Loss: 0.8115 AUC: 0.5547\n",
      "Epoch 31/99\n",
      "----------\n",
      "train Loss: 1.0022 AUC: 0.4941\n",
      "val Loss: 0.8203 AUC: 0.5569\n",
      "Epoch 32/99\n",
      "----------\n",
      "train Loss: 1.0169 AUC: 0.5075\n",
      "val Loss: 0.8199 AUC: 0.5553\n",
      "Epoch 33/99\n",
      "----------\n",
      "train Loss: 1.0091 AUC: 0.4947\n",
      "val Loss: 0.8248 AUC: 0.5299\n",
      "Epoch 34/99\n",
      "----------\n",
      "train Loss: 1.0047 AUC: 0.4957\n",
      "val Loss: 0.8175 AUC: 0.5567\n",
      "Epoch 35/99\n",
      "----------\n",
      "train Loss: 1.0132 AUC: 0.4900\n",
      "val Loss: 0.8072 AUC: 0.5570\n",
      "Epoch 36/99\n",
      "----------\n",
      "train Loss: 1.0686 AUC: 0.4693\n",
      "val Loss: 0.8276 AUC: 0.5480\n",
      "Epoch 37/99\n",
      "----------\n",
      "train Loss: 1.0092 AUC: 0.5018\n",
      "val Loss: 0.8231 AUC: 0.5490\n",
      "Epoch 38/99\n",
      "----------\n",
      "train Loss: 1.0109 AUC: 0.5063\n",
      "val Loss: 0.8033 AUC: 0.5345\n",
      "Epoch 39/99\n",
      "----------\n",
      "train Loss: 1.0524 AUC: 0.4711\n",
      "val Loss: 0.8231 AUC: 0.5523\n",
      "Epoch 40/99\n",
      "----------\n",
      "train Loss: 1.0089 AUC: 0.5141\n",
      "val Loss: 0.8252 AUC: 0.5533\n",
      "Epoch 41/99\n",
      "----------\n",
      "train Loss: 1.0057 AUC: 0.5034\n",
      "val Loss: 0.8206 AUC: 0.5561\n",
      "Epoch 42/99\n",
      "----------\n",
      "train Loss: 1.0002 AUC: 0.5184\n",
      "val Loss: 0.8237 AUC: 0.5522\n",
      "Epoch 43/99\n",
      "----------\n",
      "train Loss: 1.0154 AUC: 0.5009\n",
      "val Loss: 0.8187 AUC: 0.5425\n",
      "Epoch 44/99\n",
      "----------\n",
      "train Loss: 0.9842 AUC: 0.5168\n",
      "val Loss: 0.8175 AUC: 0.5529\n",
      "Epoch 45/99\n",
      "----------\n",
      "train Loss: 1.0226 AUC: 0.4964\n",
      "val Loss: 0.8203 AUC: 0.5571\n",
      "Epoch 46/99\n",
      "----------\n",
      "train Loss: 1.0324 AUC: 0.4808\n",
      "val Loss: 0.8302 AUC: 0.5102\n",
      "Epoch 47/99\n",
      "----------\n",
      "train Loss: 0.9890 AUC: 0.5251\n",
      "val Loss: 0.8215 AUC: 0.5535\n",
      "Epoch 48/99\n",
      "----------\n",
      "train Loss: 1.0379 AUC: 0.4850\n",
      "val Loss: 0.8169 AUC: 0.5559\n",
      "Epoch 49/99\n",
      "----------\n",
      "train Loss: 1.0182 AUC: 0.4964\n",
      "val Loss: 0.8155 AUC: 0.5579\n",
      "Epoch 50/99\n",
      "----------\n",
      "train Loss: 1.0010 AUC: 0.5078\n",
      "val Loss: 0.8306 AUC: 0.5540\n",
      "Epoch 51/99\n",
      "----------\n",
      "train Loss: 1.0039 AUC: 0.5126\n",
      "val Loss: 0.8260 AUC: 0.5510\n",
      "Epoch 52/99\n",
      "----------\n",
      "train Loss: 1.0361 AUC: 0.5023\n",
      "val Loss: 0.8246 AUC: 0.5492\n",
      "Epoch 53/99\n",
      "----------\n",
      "train Loss: 1.0492 AUC: 0.4753\n",
      "val Loss: 0.8221 AUC: 0.5465\n",
      "Epoch 54/99\n",
      "----------\n",
      "train Loss: 1.0022 AUC: 0.4997\n",
      "val Loss: 0.8125 AUC: 0.5553\n",
      "Epoch 55/99\n",
      "----------\n",
      "train Loss: 1.0054 AUC: 0.4967\n",
      "val Loss: 0.8181 AUC: 0.5532\n",
      "Epoch 56/99\n",
      "----------\n",
      "train Loss: 1.0036 AUC: 0.4993\n",
      "val Loss: 0.8196 AUC: 0.5563\n",
      "Epoch 57/99\n",
      "----------\n",
      "train Loss: 1.0609 AUC: 0.4698\n",
      "val Loss: 0.8219 AUC: 0.5537\n",
      "Epoch 58/99\n",
      "----------\n",
      "train Loss: 1.0436 AUC: 0.4989\n",
      "val Loss: 0.8167 AUC: 0.5468\n",
      "Epoch 59/99\n",
      "----------\n",
      "train Loss: 1.0384 AUC: 0.4883\n",
      "val Loss: 0.8139 AUC: 0.5539\n",
      "Epoch 60/99\n",
      "----------\n",
      "train Loss: 1.0095 AUC: 0.4966\n",
      "val Loss: 0.8216 AUC: 0.5492\n",
      "Epoch 61/99\n",
      "----------\n",
      "train Loss: 1.0092 AUC: 0.4940\n",
      "val Loss: 0.8206 AUC: 0.5367\n",
      "Epoch 62/99\n",
      "----------\n",
      "train Loss: 0.9983 AUC: 0.5164\n",
      "val Loss: 0.8132 AUC: 0.5334\n",
      "Epoch 63/99\n",
      "----------\n",
      "train Loss: 0.9918 AUC: 0.5136\n",
      "val Loss: 0.8115 AUC: 0.5619\n",
      "Epoch 64/99\n",
      "----------\n",
      "train Loss: 1.0178 AUC: 0.4958\n",
      "val Loss: 0.8084 AUC: 0.5524\n",
      "Epoch 65/99\n",
      "----------\n",
      "train Loss: 1.0112 AUC: 0.4973\n",
      "val Loss: 0.8191 AUC: 0.5589\n",
      "Epoch 66/99\n",
      "----------\n",
      "train Loss: 1.0000 AUC: 0.4883\n",
      "val Loss: 0.8233 AUC: 0.5529\n",
      "Epoch 67/99\n",
      "----------\n",
      "train Loss: 0.9793 AUC: 0.5077\n",
      "val Loss: 0.8284 AUC: 0.5477\n",
      "Epoch 68/99\n",
      "----------\n",
      "train Loss: 1.0163 AUC: 0.4826\n",
      "val Loss: 0.8151 AUC: 0.5570\n",
      "Epoch 69/99\n",
      "----------\n",
      "train Loss: 1.0138 AUC: 0.4980\n",
      "val Loss: 0.8252 AUC: 0.5474\n",
      "Epoch 70/99\n",
      "----------\n",
      "train Loss: 1.0444 AUC: 0.4898\n",
      "val Loss: 0.8175 AUC: 0.5568\n",
      "Epoch 71/99\n",
      "----------\n",
      "train Loss: 1.0194 AUC: 0.5043\n",
      "val Loss: 0.8129 AUC: 0.5535\n",
      "Epoch 72/99\n",
      "----------\n",
      "train Loss: 1.0097 AUC: 0.4979\n",
      "val Loss: 0.8154 AUC: 0.5518\n",
      "Epoch 73/99\n",
      "----------\n",
      "train Loss: 1.0305 AUC: 0.4993\n",
      "val Loss: 0.8188 AUC: 0.5573\n",
      "Epoch 74/99\n",
      "----------\n",
      "train Loss: 1.0188 AUC: 0.4912\n",
      "val Loss: 0.8209 AUC: 0.5559\n",
      "Epoch 75/99\n",
      "----------\n",
      "train Loss: 1.0132 AUC: 0.5058\n",
      "val Loss: 0.8192 AUC: 0.5471\n",
      "Epoch 76/99\n",
      "----------\n",
      "train Loss: 1.0291 AUC: 0.4969\n",
      "val Loss: 0.8171 AUC: 0.5601\n",
      "Epoch 77/99\n",
      "----------\n",
      "train Loss: 1.0007 AUC: 0.5052\n",
      "val Loss: 0.8222 AUC: 0.5519\n",
      "Epoch 78/99\n",
      "----------\n",
      "train Loss: 1.0161 AUC: 0.5009\n",
      "val Loss: 0.8277 AUC: 0.5445\n",
      "Epoch 79/99\n",
      "----------\n",
      "train Loss: 1.0025 AUC: 0.5035\n",
      "val Loss: 0.8204 AUC: 0.5433\n",
      "Epoch 80/99\n",
      "----------\n",
      "train Loss: 1.0151 AUC: 0.5017\n",
      "val Loss: 0.8161 AUC: 0.5482\n",
      "Epoch 81/99\n",
      "----------\n",
      "train Loss: 1.0386 AUC: 0.4645\n",
      "val Loss: 0.8277 AUC: 0.5318\n",
      "Epoch 82/99\n",
      "----------\n",
      "train Loss: 0.9864 AUC: 0.5067\n",
      "val Loss: 0.8188 AUC: 0.5561\n",
      "Epoch 83/99\n",
      "----------\n",
      "train Loss: 1.0135 AUC: 0.5010\n",
      "val Loss: 0.8138 AUC: 0.5591\n",
      "Epoch 84/99\n",
      "----------\n",
      "train Loss: 1.0152 AUC: 0.5094\n",
      "val Loss: 0.8216 AUC: 0.5464\n",
      "Epoch 85/99\n",
      "----------\n",
      "train Loss: 1.0232 AUC: 0.4963\n",
      "val Loss: 0.8216 AUC: 0.5542\n",
      "Epoch 86/99\n",
      "----------\n",
      "train Loss: 1.0124 AUC: 0.4851\n",
      "val Loss: 0.8283 AUC: 0.4983\n",
      "Epoch 87/99\n",
      "----------\n",
      "train Loss: 1.0414 AUC: 0.4810\n",
      "val Loss: 0.8193 AUC: 0.5534\n",
      "Epoch 88/99\n",
      "----------\n",
      "train Loss: 1.0387 AUC: 0.4823\n",
      "val Loss: 0.8123 AUC: 0.5588\n",
      "Epoch 89/99\n",
      "----------\n",
      "train Loss: 1.0360 AUC: 0.4913\n",
      "val Loss: 0.8118 AUC: 0.5589\n",
      "Epoch 90/99\n",
      "----------\n",
      "train Loss: 1.0387 AUC: 0.4782\n",
      "val Loss: 0.8171 AUC: 0.5566\n",
      "Epoch 91/99\n",
      "----------\n",
      "train Loss: 1.0461 AUC: 0.4886\n",
      "val Loss: 0.8259 AUC: 0.5533\n",
      "Epoch 92/99\n",
      "----------\n",
      "train Loss: 1.0234 AUC: 0.4974\n",
      "val Loss: 0.8206 AUC: 0.5533\n",
      "Epoch 93/99\n",
      "----------\n",
      "train Loss: 1.0257 AUC: 0.5012\n",
      "val Loss: 0.8244 AUC: 0.5525\n",
      "Epoch 94/99\n",
      "----------\n",
      "train Loss: 1.0114 AUC: 0.5035\n",
      "val Loss: 0.8144 AUC: 0.5616\n",
      "Epoch 95/99\n",
      "----------\n",
      "train Loss: 1.0047 AUC: 0.4980\n",
      "val Loss: 0.8169 AUC: 0.5545\n",
      "Epoch 96/99\n",
      "----------\n",
      "train Loss: 0.9997 AUC: 0.5192\n",
      "val Loss: 0.8214 AUC: 0.5468\n",
      "Epoch 97/99\n",
      "----------\n",
      "train Loss: 1.0198 AUC: 0.5005\n",
      "val Loss: 0.8204 AUC: 0.5552\n",
      "Epoch 98/99\n",
      "----------\n",
      "train Loss: 0.9932 AUC: 0.5116\n",
      "val Loss: 0.8155 AUC: 0.5581\n",
      "Epoch 99/99\n",
      "----------\n",
      "train Loss: 1.0376 AUC: 0.4881\n",
      "val Loss: 0.8125 AUC: 0.5563\n",
      "Training complete in 9m 18s\n",
      "Best val AUC: 0.562303\n"
     ]
    },
    {
     "data": {
      "text/plain": [
       "NetCNN2(\n",
       "  (conv1): Conv2d(1, 8, kernel_size=(3, 3), stride=(1, 1), padding=(1, 1))\n",
       "  (pool): MaxPool2d(kernel_size=2, stride=2, padding=0, dilation=1, ceil_mode=False)\n",
       "  (conv2): Conv2d(8, 8, kernel_size=(3, 3), stride=(1, 1), padding=(1, 1))\n",
       "  (fc1): Linear(in_features=108800, out_features=10, bias=True)\n",
       "  (fc1_bn): BatchNorm1d(10, eps=1e-05, momentum=0.1, affine=True, track_running_stats=True)\n",
       "  (fc2): Linear(in_features=10, out_features=10, bias=True)\n",
       "  (fc2_bn): BatchNorm1d(10, eps=1e-05, momentum=0.1, affine=True, track_running_stats=True)\n",
       "  (fc3): Linear(in_features=10, out_features=10, bias=True)\n",
       "  (fc3_bn): BatchNorm1d(5, eps=1e-05, momentum=0.1, affine=True, track_running_stats=True)\n",
       "  (fc4): Linear(in_features=10, out_features=2, bias=True)\n",
       "  (drop): Dropout(p=0.4, inplace=False)\n",
       ")"
      ]
     },
     "execution_count": 508,
     "metadata": {},
     "output_type": "execute_result"
    }
   ],
   "source": [
    "\n",
    "criterion = nn.NLLLoss()\n",
    "# criterion = nn.MSELoss()\n",
    "\n",
    "optimizer = optim.AdamW(net.parameters(),weight_decay=0.001)\n",
    "num_epochs=100\n",
    "scheduler=None\n",
    "\n",
    "# h_w=[128,1700]\n",
    "# kernel_size=(35,35)\n",
    "# net = NetCNN1(2,h_w,kernel_size).float().to(device)\n",
    "# statHistory={\"valLoss\":[],\"trainLoss\":[],\"trainAUC\":[],\"valAUC\":[]}\n",
    "\n",
    "h_w=[128,1700]\n",
    "kernel_size=(3,3)\n",
    "net = NetCNN2(8,8,h_w,kernel_size,kernel_size).float().to(device)\n",
    "statHistory={\"valLoss\":[],\"trainLoss\":[],\"trainAUC\":[],\"valAUC\":[]}\n",
    "\n",
    "\n",
    "train_model(net, dataloaders,criterion, optimizer, scheduler, statHistory, num_epochs=num_epochs)"
   ]
  },
  {
   "cell_type": "code",
   "execution_count": null,
   "metadata": {},
   "outputs": [],
   "source": []
  },
  {
   "cell_type": "code",
   "execution_count": null,
   "metadata": {},
   "outputs": [],
   "source": []
  },
  {
   "cell_type": "code",
   "execution_count": 75,
   "metadata": {},
   "outputs": [
    {
     "data": {
      "text/plain": [
       "0.7615559299685004"
      ]
     },
     "execution_count": 75,
     "metadata": {},
     "output_type": "execute_result"
    }
   ],
   "source": [
    "best_acc1 # new v2 "
   ]
  },
  {
   "cell_type": "code",
   "execution_count": 306,
   "metadata": {},
   "outputs": [
    {
     "data": {
      "text/plain": [
       "0.89744341073914"
      ]
     },
     "execution_count": 306,
     "metadata": {},
     "output_type": "execute_result"
    }
   ],
   "source": [
    "best_acc1 # old, raw embeddings, 100 neuron, 0.2 dropout"
   ]
  },
  {
   "cell_type": "code",
   "execution_count": 310,
   "metadata": {},
   "outputs": [],
   "source": [
    "# # save best model, change name accordingly, by adding validation accuracy\n",
    "# import time\n",
    "# timestr = time.strftime(\"%Y%m%d-%H%M%S\")\n",
    "\n",
    "# torch.save(best_model.state_dict(), \"../../data/models/bird_FC_089valid_\"+timestr+\".pth\")\n"
   ]
  },
  {
   "cell_type": "code",
   "execution_count": 494,
   "metadata": {},
   "outputs": [
    {
     "data": {
      "text/plain": [
       "Net(\n",
       "  (conv1): Conv2d(1, 2, kernel_size=(35, 35), stride=(1, 1), padding=(1, 1))\n",
       "  (pool): MaxPool2d(kernel_size=2, stride=2, padding=0, dilation=1, ceil_mode=False)\n",
       "  (fc1): Linear(in_features=80064, out_features=10, bias=True)\n",
       "  (fc1_bn): BatchNorm1d(10, eps=1e-05, momentum=0.1, affine=True, track_running_stats=True)\n",
       "  (fc2): Linear(in_features=10, out_features=10, bias=True)\n",
       "  (fc2_bn): BatchNorm1d(10, eps=1e-05, momentum=0.1, affine=True, track_running_stats=True)\n",
       "  (fc3): Linear(in_features=10, out_features=10, bias=True)\n",
       "  (fc3_bn): BatchNorm1d(5, eps=1e-05, momentum=0.1, affine=True, track_running_stats=True)\n",
       "  (fc4): Linear(in_features=10, out_features=2, bias=True)\n",
       "  (drop): Dropout(p=0.4, inplace=False)\n",
       ")"
      ]
     },
     "execution_count": 494,
     "metadata": {},
     "output_type": "execute_result"
    }
   ],
   "source": [
    "net"
   ]
  },
  {
   "cell_type": "code",
   "execution_count": null,
   "metadata": {},
   "outputs": [],
   "source": []
  },
  {
   "cell_type": "code",
   "execution_count": 507,
   "metadata": {},
   "outputs": [
    {
     "data": {
      "text/plain": [
       "(<matplotlib.axes._subplots.AxesSubplot at 0x7f73c57ba630>,\n",
       " <matplotlib.axes._subplots.AxesSubplot at 0x7f73c7d43e48>)"
      ]
     },
     "execution_count": 507,
     "metadata": {},
     "output_type": "execute_result"
    },
    {
     "data": {
      "image/png": "[encoded data removed]",
      "text/plain": [
       "<Figure size 432x288 with 1 Axes>"
      ]
     },
     "metadata": {
      "needs_background": "light"
     },
     "output_type": "display_data"
    },
    {
     "data": {
      "image/png": "[encoded data removed]",
      "text/plain": [
       "<Figure size 432x288 with 1 Axes>"
      ]
     },
     "metadata": {
      "needs_background": "light"
     },
     "output_type": "display_data"
    }
   ],
   "source": [
    "# visualize results\n",
    "results=pd.DataFrame(statHistory)\n",
    "results[[\"valLoss\",\"trainLoss\"]].plot(),results[[\"valAUC\",\"trainAUC\"]].plot(),"
   ]
  },
  {
   "cell_type": "code",
   "execution_count": 189,
   "metadata": {},
   "outputs": [
    {
     "name": "stdout",
     "output_type": "stream",
     "text": [
      "(0.470717191696167, 0.926923173079327)\n",
      "(0.3950149416923523, 0.9511773113668848)\n"
     ]
    }
   ],
   "source": [
    "# results on test dataset, loss and AUC\n",
    "best_model.eval() \n",
    "print(nogradmetrics(X_test,y_test,best_model,multi_segment=MULTI_SEGMENT))\n",
    "print(nogradmetrics(X_val,y_val,best_model,multi_segment=MULTI_SEGMENT))\n",
    "\n",
    "best_model=best_model.train()"
   ]
  },
  {
   "cell_type": "code",
   "execution_count": 285,
   "metadata": {},
   "outputs": [],
   "source": [
    "y_pred = best_model(XALL)\n",
    "\n",
    "y_pred_10 =y_pred.reshape(-1,10,2)\n",
    "indices=torch.max(y_pred[:,1].reshape(-1,10),dim=1).indices\n",
    "y_pred_10 = y_pred_10[range(y_pred_10.shape[0]),indices,:].reshape(-1,2)\n",
    "\n",
    "y_test_10 = torch.max(y_trueALL.reshape(-1,10),dim=1).values\n",
    "\n",
    "loss = criterion(y_pred_10, y_test_10)\n",
    "y_test_10=y_test_10.cpu().detach().numpy()\n",
    "# torch.exp(y_pred_10[:,1].cpu())\n",
    "y_pred_10=torch.exp(y_pred_10[:,1]).cpu().detach().numpy()\n",
    "train_auc=roc_auc_score(y_test_10,\n",
    "                        y_pred_10) "
   ]
  },
  {
   "cell_type": "code",
   "execution_count": 286,
   "metadata": {},
   "outputs": [
    {
     "data": {
      "text/plain": [
       "0.8097363945578231"
      ]
     },
     "execution_count": 286,
     "metadata": {},
     "output_type": "execute_result"
    }
   ],
   "source": [
    "train_auc"
   ]
  },
  {
   "cell_type": "code",
   "execution_count": 268,
   "metadata": {},
   "outputs": [
    {
     "data": {
      "text/plain": [
       "(tensor([0.1898, 0.0020, 0.0172,  ..., 0.2798, 0.0657, 0.2020],\n",
       "        grad_fn=<ExpBackward>),\n",
       " tensor([0, 0], device='cuda:0'))"
      ]
     },
     "execution_count": 268,
     "metadata": {},
     "output_type": "execute_result"
    }
   ],
   "source": [
    "torch.exp(y_pred_10[:,1].cpu()),y_trueALL[:2]"
   ]
  },
  {
   "cell_type": "code",
   "execution_count": 269,
   "metadata": {},
   "outputs": [],
   "source": [
    "y_pred_10=torch.exp(y_pred_10[:,1].cpu())"
   ]
  },
  {
   "cell_type": "code",
   "execution_count": 289,
   "metadata": {},
   "outputs": [],
   "source": [
    "y_pred_10[y_pred_10>=0.5]=1\n",
    "y_pred_10[y_pred_10<0.5]=0\n"
   ]
  },
  {
   "cell_type": "code",
   "execution_count": 303,
   "metadata": {},
   "outputs": [],
   "source": [
    "fileNames=list(humanresults.keys())"
   ]
  },
  {
   "cell_type": "code",
   "execution_count": 307,
   "metadata": {},
   "outputs": [
    {
     "data": {
      "text/plain": [
       "array([1, 1, 1, 1, 1, 1, 1, 1, 1, 1, 1, 1, 1, 1, 1, 1, 1, 1, 1, 1, 1, 1,\n",
       "       1, 1, 1, 1, 1, 1, 1, 1, 1, 1, 0, 1, 1, 1, 1, 1, 1, 1, 1, 1, 1, 1,\n",
       "       1, 1, 1, 1, 1, 1, 1, 1, 1, 1, 1, 1, 1, 1, 1, 1, 1, 1, 1, 1, 1, 1,\n",
       "       1, 1, 1, 1, 1, 1, 1, 1, 1, 1, 1, 1, 1, 1, 1, 1, 1, 1, 1, 1, 1, 1,\n",
       "       1, 1, 1, 1, 1, 1, 1, 1, 1, 1, 1, 1, 1, 1, 1, 1, 1, 1, 1, 1, 1, 1,\n",
       "       1, 1, 1, 1, 1, 1, 1, 1, 1, 1, 1, 1, 1, 1, 1, 1, 1, 1, 1, 1, 1, 1,\n",
       "       1, 1, 1, 1, 1, 1, 1, 1, 1, 1, 1, 1, 1, 1, 1, 1, 1, 1, 1, 1, 1, 1,\n",
       "       1, 1, 1, 1, 1, 1, 1, 1, 1, 1, 1, 1, 1, 1, 1, 1, 1, 1, 1, 1, 1, 1,\n",
       "       1, 1, 1, 1, 1, 1, 1, 1])"
      ]
     },
     "execution_count": 307,
     "metadata": {},
     "output_type": "execute_result"
    }
   ],
   "source": [
    "y_test_10[y_test_10!=y_pred_10]"
   ]
  },
  {
   "cell_type": "code",
   "execution_count": 414,
   "metadata": {},
   "outputs": [
    {
     "data": {
      "text/plain": [
       "Text(0.5, 1.0, 'Linear-frequency power spectrogram')"
      ]
     },
     "execution_count": 414,
     "metadata": {},
     "output_type": "execute_result"
    },
    {
     "data": {
      "image/png": "[encoded data removed]",
      "text/plain": [
       "<Figure size 1152x576 with 2 Axes>"
      ]
     },
     "metadata": {
      "needs_background": "light"
     },
     "output_type": "display_data"
    }
   ],
   "source": [
    "import librosa\n",
    "import librosa.display\n",
    "import matplotlib.pyplot as plt\n",
    "plt.figure(figsize=(16, 8))\n",
    "\n",
    "# D = librosa.amplitude_to_db(np.abs(librosa.stft(y)), ref=np.max)\n",
    "# plt.subplot(4, 2, 1)\n",
    "librosa.display.specshow(X[68,0:2,:,:].reshape(-1,64).T,y_axis=\"mel\",x_axis=\"time\",sr=16000,fmax=7500,fmin=125,hop_length=160)\n",
    "plt.colorbar(format='%+2.0f dB')\n",
    "plt.title('Linear-frequency power spectrogram')"
   ]
  },
  {
   "cell_type": "code",
   "execution_count": 402,
   "metadata": {},
   "outputs": [
    {
     "data": {
      "text/plain": [
       "(1300, 10, 96, 64)"
      ]
     },
     "execution_count": 402,
     "metadata": {},
     "output_type": "execute_result"
    }
   ],
   "source": [
    "new spectrum generate to see what happens \n"
   ]
  },
  {
   "cell_type": "code",
   "execution_count": 236,
   "metadata": {},
   "outputs": [],
   "source": [
    "\n",
    "items={}\n",
    "from IPython.display import Audio,display,HTML,clear_output\n",
    "from ipywidgets import Output\n",
    "\n",
    "items[\"mp3_output\"]=Output()\n",
    "\n",
    "def play_html_modify(mp3file,items):\n",
    "    out=items[\"mp3_output\"]\n",
    "    with out:\n",
    "        clear_output()\n",
    "    displayed=display(HTML(\"<audio autoplay controls loop src={} preload=\\\"auto\\\"> </audio>\".format(mp3file)))\n"
   ]
  },
  {
   "cell_type": "code",
   "execution_count": 339,
   "metadata": {},
   "outputs": [],
   "source": [
    "nextone=0\n"
   ]
  },
  {
   "cell_type": "code",
   "execution_count": 388,
   "metadata": {},
   "outputs": [
    {
     "data": {
      "text/html": [
       "<audio autoplay controls loop src=/files/scratch/enis/data/nna/labeling/splits/CLVL4_20160617_033807_2074m_36s__2074m_46s.mp3 preload=\"auto\"> </audio>"
      ],
      "text/plain": [
       "<IPython.core.display.HTML object>"
      ]
     },
     "metadata": {},
     "output_type": "display_data"
    },
    {
     "name": "stdout",
     "output_type": "stream",
     "text": [
      "/files/scratch/enis/data/nna/labeling/splits/CLVL4_20160617_033807_2074m_36s__2074m_46s.mp3\n",
      "68\n"
     ]
    }
   ],
   "source": [
    "counter=0\n",
    "srcPath=\"/files/scratch/enis/data/nna/labeling/splits/\"\n",
    "for i,b in enumerate(y_test_10!=y_pred_10):\n",
    "    if b and y_test_10[i]==1:\n",
    "        if counter==nextone:\n",
    "            play_html_modify(srcPath+fileNames[i],items)\n",
    "            print(srcPath+fileNames[i])\n",
    "            print(i)\n",
    "            break\n",
    "        counter+=1\n",
    "        \n",
    "nextone+=1"
   ]
  },
  {
   "cell_type": "code",
   "execution_count": 279,
   "metadata": {},
   "outputs": [
    {
     "data": {
      "text/plain": [
       "tensor(1960, device='cuda:0')"
      ]
     },
     "execution_count": 279,
     "metadata": {},
     "output_type": "execute_result"
    }
   ],
   "source": [
    "sum(y_trueALL)"
   ]
  },
  {
   "cell_type": "code",
   "execution_count": null,
   "metadata": {},
   "outputs": [],
   "source": []
  },
  {
   "cell_type": "code",
   "execution_count": 243,
   "metadata": {},
   "outputs": [],
   "source": [
    "best_model=best_model.eval()\n",
    "y_predAll=best_model(XALL).reshape(-1,10,2)"
   ]
  },
  {
   "cell_type": "code",
   "execution_count": 247,
   "metadata": {},
   "outputs": [
    {
     "data": {
      "text/plain": [
       "(tensor(0, device='cuda:0'),\n",
       " tensor([-0.1779, -1.8142], device='cuda:0', grad_fn=<SelectBackward>))"
      ]
     },
     "execution_count": 247,
     "metadata": {},
     "output_type": "execute_result"
    }
   ],
   "source": [
    "y_trueALL[0],y_predAll[0]"
   ]
  },
  {
   "cell_type": "code",
   "execution_count": null,
   "metadata": {
    "collapsed": true,
    "jupyter": {
     "outputs_hidden": true
    }
   },
   "outputs": [],
   "source": [
    "test_set=audioDataset(X_test,y_test)\n",
    "test_generator = DataLoader(test_set, **params)\n"
   ]
  },
  {
   "cell_type": "markdown",
   "metadata": {},
   "source": [
    "Following linse are for comparing sklearn MLP and this model"
   ]
  },
  {
   "cell_type": "code",
   "execution_count": 189,
   "metadata": {},
   "outputs": [],
   "source": [
    "X_last=X[:]\n",
    "# X_last=X_last.reshape(X_last.shape[0],-1)\n",
    "X_last=X_last.reshape(-1,128)\n",
    "X_last_sklearn=X_last[:]\n",
    "X_last=torch.from_numpy(X_last).to(device)\n"
   ]
  },
  {
   "cell_type": "code",
   "execution_count": null,
   "metadata": {},
   "outputs": [],
   "source": [
    "X_last.shape"
   ]
  },
  {
   "cell_type": "code",
   "execution_count": 190,
   "metadata": {},
   "outputs": [
    {
     "data": {
      "text/plain": [
       "(torch.Size([1300, 2]), torch.Size([260]))"
      ]
     },
     "execution_count": 190,
     "metadata": {},
     "output_type": "execute_result"
    }
   ],
   "source": [
    "y_pred_10.shape,y_test_10.shape"
   ]
  },
  {
   "cell_type": "code",
   "execution_count": 213,
   "metadata": {},
   "outputs": [
    {
     "data": {
      "text/plain": [
       "(torch.Size([2600, 128]), torch.Size([2600]))"
      ]
     },
     "execution_count": 213,
     "metadata": {},
     "output_type": "execute_result"
    }
   ],
   "source": [
    "X_val.shape,y_val.shape"
   ]
  },
  {
   "cell_type": "code",
   "execution_count": 214,
   "metadata": {},
   "outputs": [
    {
     "name": "stdout",
     "output_type": "stream",
     "text": [
      "0.8961980807266867\n"
     ]
    }
   ],
   "source": [
    "best_model.eval()\n",
    "with torch.no_grad():    \n",
    "    \n",
    "    y_pred = best_model(X_val)\n",
    "    y_pred_10 =y_pred.reshape(-1,10,2)\n",
    "    indices=torch.max(y_pred[:,1].reshape(-1,10),dim=1).indices\n",
    "    y_pred_10 = y_pred_10[range(y_pred_10.shape[0]),indices,:].reshape(-1,2)\n",
    "\n",
    "    y_val_10 = torch.max(y_val.reshape(-1,10),dim=1).values\n",
    "\n",
    "#     loss = criterion(y_pred_10, y_true)\n",
    "\n",
    "    train_auc=roc_auc_score(y_val_10.cpu().numpy(),\n",
    "                            y_pred_10[:,1].cpu().numpy()) \n",
    "    print(train_auc)\n"
   ]
  },
  {
   "cell_type": "code",
   "execution_count": null,
   "metadata": {},
   "outputs": [],
   "source": []
  },
  {
   "cell_type": "code",
   "execution_count": 217,
   "metadata": {},
   "outputs": [],
   "source": [
    "y_pred=y_pred_10.cpu()\n",
    "y_pred=torch.exp(y_pred[:,1])\n",
    "y_pred[y_pred>=0.5]=1\n",
    "y_pred[y_pred<0.5]=0\n"
   ]
  },
  {
   "cell_type": "code",
   "execution_count": 220,
   "metadata": {},
   "outputs": [
    {
     "data": {
      "text/plain": [
       "(120, 67, 5, 68)"
      ]
     },
     "execution_count": 220,
     "metadata": {},
     "output_type": "execute_result"
    }
   ],
   "source": [
    "from sklearn.metrics import confusion_matrix\n",
    "\n",
    "tn, fp, fn, tp=confusion_matrix(y_val_10.cpu().numpy(), y_pred).ravel()\n",
    "tn, fp, fn, tp\n",
    "(164, 23, 21, 52)\n",
    "    sklearn  pytorch\n",
    "tp   52       68\n",
    "fp   23       67\n",
    "tn   164      120\n",
    "fn   21       5\n",
    "\n"
   ]
  },
  {
   "cell_type": "code",
   "execution_count": 1,
   "metadata": {},
   "outputs": [],
   "source": [
    "total=0\n",
    "for i,mm in enumerate(y_true):\n",
    "    predict= 1 if y_pred[i]>0.5 else 0 \n",
    "    if mm!=predict:\n",
    "        total+=1\n",
    "        print(humanresults_keys[i])\n",
    "print(total)"
   ]
  },
  {
   "cell_type": "markdown",
   "metadata": {},
   "source": [
    "#### compare with sklearn"
   ]
  },
  {
   "cell_type": "code",
   "execution_count": 171,
   "metadata": {},
   "outputs": [],
   "source": [
    "import pickle\n",
    "\n",
    "# and later you can load it\n",
    "with open('../Visualizations/raw_many2one_NN.pkl', 'rb') as f:\n",
    "    clf = pickle.load(f)"
   ]
  },
  {
   "cell_type": "code",
   "execution_count": 172,
   "metadata": {},
   "outputs": [],
   "source": [
    "def many2one_predict(X,clf):\n",
    "    \n",
    "    result_count=(X.shape[0]//10) if X.shape[0]%10==0 else (X.shape[0]//10)+1\n",
    "    results=np.empty(result_count)\n",
    "    for i in range(0,X.shape[0],10):\n",
    "        result10=clf.predict(X[i:i+10,:])\n",
    "        results[(i//10)] = np.max(result10)\n",
    "    return results"
   ]
  },
  {
   "cell_type": "code",
   "execution_count": 196,
   "metadata": {},
   "outputs": [
    {
     "data": {
      "text/plain": [
       "(13000, 128)"
      ]
     },
     "execution_count": 196,
     "metadata": {},
     "output_type": "execute_result"
    }
   ],
   "source": [
    "X_last_sklearn.shape"
   ]
  },
  {
   "cell_type": "code",
   "execution_count": 205,
   "metadata": {},
   "outputs": [],
   "source": [
    "#TEST\n",
    "samples=np.ones((200,128))\n",
    "y_pred_sklearn=many2one_predict(X_val.cpu().numpy(),clf['Neural Net_Songbird'])"
   ]
  },
  {
   "cell_type": "code",
   "execution_count": 221,
   "metadata": {},
   "outputs": [
    {
     "data": {
      "text/plain": [
       "(164, 23, 21, 52)"
      ]
     },
     "execution_count": 221,
     "metadata": {},
     "output_type": "execute_result"
    }
   ],
   "source": [
    "from sklearn.metrics import confusion_matrix\n",
    "\n",
    "tn, fp, fn, tp=confusion_matrix(y_val_10.cpu().numpy(), y_pred_sklearn).ravel()\n",
    "tn, fp, fn, tp"
   ]
  },
  {
   "cell_type": "code",
   "execution_count": 203,
   "metadata": {},
   "outputs": [
    {
     "name": "stdout",
     "output_type": "stream",
     "text": [
      "CLVL2_20160604_153809_1807m_40s__1807m_50s.mp3 1 0 0\n",
      "CLVL5_20160606_195535_1100m_07s__1100m_17s.mp3 1 0 0\n",
      "OCNPT_20160626_214658_0865m_02s__0865m_12s.mp3 1 0 0\n",
      "USGS_20160618_030453_1287m_34s__1287m_44s.mp3 1 0 0\n",
      "SHORTY_20160619_042858_2563m_41s__2563m_51s.mp3 1 0 0\n",
      "OCNPT3_20160615_005046_0813m_58s__0814m_08s.mp3 1 0 0\n",
      "FSHCK3_20160720_115157_1777m_41s__1777m_51s.mp3 1 0 0\n",
      "UMIRUK_20160621_083400_0515m_46s__0515m_56s.mp3 1 0 0\n",
      "FSHCK4_20160629_194935_0237m_49s__0237m_59s.mp3 1 0 0\n",
      "ITKILLIK1_20160710_091444_0974m_18s__0974m_28s.mp3 1 0 0\n",
      "CLVL2_20160715_134031_0935m_28s__0935m_38s.mp3 1 0 0\n",
      "FSHCK3_20160706_000310_2407m_12s__2407m_22s.mp3 1 0 0\n",
      "ITKILLIK2_20160626_172259_2184m_56s__2185m_06s.mp3 1 0 0\n",
      "FSHCK1_20160808_050938_0344m_36s__0344m_46s.mp3 1 0 0\n",
      "ICERD_20160824_161434_0373m_50s__0374m_00s.mp3 1 0 0\n",
      "CLVL2_20160715_134031_2759m_40s__2759m_50s.mp3 1 0 0\n",
      "USGS_20160609_201955_0289m_57s__0290m_07s.mp3 1 0 0\n",
      "CLVL4_20160701_002747_2710m_53s__2711m_03s.mp3 1 0 0\n",
      "UMIAT_20130727_224356_0077m_01s__0077m_11s.mp3 1 0 0\n",
      "CLVL5_20160626_203118_2238m_03s__2238m_13s.mp3 1 0 0\n",
      "FSHCK1_20160812_083207_2277m_38s__2277m_48s.mp3 1 0 0\n",
      "ICERD_20160822_143323_2696m_08s__2696m_18s.mp3 1 0 0\n",
      "NIGLIQ2_20160706_034307_2188m_23s__2188m_33s.mp3 1 0 0\n",
      "ICERD_20160826_175546_0986m_50s__0987m_00s.mp3 1 0 0\n",
      "NIGLIQ1_20160605_185101_2430m_36s__2430m_46s.mp3 1 0 0\n",
      "CLVL2_20160617_014524_2284m_40s__2284m_50s.mp3 1 0 0\n",
      "CLVL5_20160624_185002_0179m_19s__0179m_29s.mp3 1 0 0\n",
      "USGS_20160715_050919_1240m_44s__1240m_54s.mp3 1 0 0\n",
      "CLVL2_20160715_134031_0653m_51s__0654m_01s.mp3 1 0 0\n",
      "ITKILLIK2_20160814_064822_1734m_46s__1734m_56s.mp3 1 0 0\n",
      "UMIAT_20130831_083548_1453m_53s__1454m_03s.mp3 1 0 0\n",
      "ITKILLIK1_20160710_091444_0437m_54s__0438m_04s.mp3 1 0 0\n",
      "0731_231042_0647m_32s__0647m_42s.mp3 1 0 0\n",
      "CLVL2_20160719_170257_0056m_11s__0056m_21s.mp3 1 0 0\n",
      "34\n"
     ]
    }
   ],
   "source": [
    "total=0\n",
    "for i,mm in enumerate(y_true):\n",
    "    predict= 1 if y_pred[i]>0.5 else 0 \n",
    "    predict_sklearn=int(y_pred_sklearn[i])\n",
    "    if mm!=predict and mm==1:\n",
    "        total+=1\n",
    "        print(humanresults_keys[i],mm,predict,predict_sklearn)\n",
    "print(total)"
   ]
  },
  {
   "cell_type": "code",
   "execution_count": null,
   "metadata": {},
   "outputs": [],
   "source": [
    "from sklearn.metrics import confusion_matrix\n",
    "\n",
    "confusion_matrix(y_true, y_pred)"
   ]
  },
  {
   "cell_type": "code",
   "execution_count": null,
   "metadata": {},
   "outputs": [],
   "source": []
  },
  {
   "cell_type": "code",
   "execution_count": 411,
   "metadata": {},
   "outputs": [
    {
     "data": {
      "text/plain": [
       "(tensor([0.5201, 0.4799]), tensor([0.5363, 0.4637]))"
      ]
     },
     "execution_count": 411,
     "metadata": {},
     "output_type": "execute_result"
    }
   ],
   "source": [
    "np.exp([-6.7866, -4.4634])\n",
    "F.softmax(torch.Tensor([0.5403, 0.4597]),dim=0),torch.exp(F.log_softmax(torch.Tensor([ 0.1147, -0.0307]),dim=0))"
   ]
  },
  {
   "cell_type": "code",
   "execution_count": null,
   "metadata": {
    "collapsed": true,
    "jupyter": {
     "outputs_hidden": true
    }
   },
   "outputs": [],
   "source": []
  },
  {
   "cell_type": "code",
   "execution_count": null,
   "metadata": {
    "collapsed": true,
    "jupyter": {
     "outputs_hidden": true
    }
   },
   "outputs": [],
   "source": []
  }
 ],
 "metadata": {
  "kernelspec": {
   "display_name": "speechEnv",
   "language": "python",
   "name": "speechenv"
  },
  "language_info": {
   "codemirror_mode": {
    "name": "ipython",
    "version": 3
   },
   "file_extension": ".py",
   "mimetype": "text/x-python",
   "name": "python",
   "nbconvert_exporter": "python",
   "pygments_lexer": "ipython3",
   "version": "3.7.2"
  }
 },
 "nbformat": 4,
 "nbformat_minor": 4
}
