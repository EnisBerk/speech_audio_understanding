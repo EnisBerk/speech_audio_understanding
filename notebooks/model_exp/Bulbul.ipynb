{
 "cells": [
  {
   "cell_type": "code",
   "execution_count": null,
   "metadata": {},
   "outputs": [],
   "source": [
    "import os\n",
    "import sys\n",
    "\n",
    "module_path = os.path.abspath(os.path.join('../../src'))\n",
    "print(module_path)\n",
    "if module_path not in sys.path:\n",
    "    sys.path.append(module_path)"
   ]
  },
  {
   "cell_type": "code",
   "execution_count": 23,
   "metadata": {},
   "outputs": [],
   "source": [
    "import csv \n",
    "from pathlib import Path\n",
    "from os import listdir\n",
    "import pickle\n",
    "\n",
    "from labeling_utils import load_labels\n",
    "\n",
    "import numpy as np\n",
    "from sklearn.metrics import precision_recall_fscore_support\n",
    "\n",
    "\n",
    "tags=[\"Songbird\",\"Water Bird\",\"Insect\",\"Running Water\",\"Rain\",\"Cable\",\"Wind\",\"Vehicle\",\"Aircraft\"]\n",
    "from tabulate import tabulate\n",
    "tag_set=tags[:]\n"
   ]
  },
  {
   "cell_type": "markdown",
   "metadata": {},
   "source": [
    "* Count only highest ranking tag (what if both of them exist)\n",
    "* Bird tag is confusing, it can be also waterbird, how to handle ? Also Animal\n",
    "* "
   ]
  },
  {
   "cell_type": "code",
   "execution_count": 24,
   "metadata": {},
   "outputs": [],
   "source": [
    "#LOAD MODEL predictions\n",
    "# splits_path= Path('/files/scratch/enis/data/nna/labeling/splits/')\n",
    "\n",
    "# labelsbymodelpath=Path('/scratch/enis/data/nna/labeling/deep_labels/')\n",
    "# dbfile = open(labelsbymodelpath / \"classifications_all_2.pkl\", 'rb')  \n",
    "# modelresults = pickle.load(dbfile) \n",
    "# dbfile.close() "
   ]
  },
  {
   "cell_type": "code",
   "execution_count": null,
   "metadata": {},
   "outputs": [],
   "source": []
  },
  {
   "cell_type": "code",
   "execution_count": null,
   "metadata": {},
   "outputs": [],
   "source": []
  },
  {
   "cell_type": "code",
   "execution_count": 25,
   "metadata": {},
   "outputs": [
    {
     "name": "stdout",
     "output_type": "stream",
     "text": [
      "unique files: 1300 \n",
      "total files 1366\n"
     ]
    }
   ],
   "source": [
    "# LOAD LABELS by human\n",
    "labelsbyhumanpath=Path('/scratch/enis/data/nna/labeling/results/')\n",
    "# filter by username\n",
    "labelsbyhuman=[i for i in listdir(labelsbyhumanpath) if (\".csv\" in i) ]\n",
    "\n",
    "humanresults={}\n",
    "counter=0\n",
    "for apath in labelsbyhuman:\n",
    "    with open(labelsbyhumanpath / apath, newline='') as f:\n",
    "        reader=csv.reader(f)\n",
    "        for row in reader:\n",
    "            counter+=1\n",
    "            humanresults[row[0]]=row[1:]\n",
    "\n",
    "print(\"unique files:\",len(humanresults),\"\\ntotal files\",counter)"
   ]
  },
  {
   "cell_type": "code",
   "execution_count": 26,
   "metadata": {},
   "outputs": [],
   "source": [
    "#Join vehicle and Aircraft\n",
    "for file_name,tagshere in humanresults.items():\n",
    "#     print(file_name,tagshere)\n",
    "    \n",
    "    tagshere=[\"Aircraft\" if tag == \"Vehicle\" else tag for tag in tags]"
   ]
  },
  {
   "cell_type": "code",
   "execution_count": 27,
   "metadata": {},
   "outputs": [],
   "source": [
    "histogram={}\n",
    "for file_name in humanresults:\n",
    "    place_name=file_name.split(\"_\")[0]\n",
    "#     print(file_name)\n",
    "    histogram.setdefault(place_name,0)\n",
    "    histogram[place_name]+=1"
   ]
  },
  {
   "cell_type": "code",
   "execution_count": 28,
   "metadata": {
    "scrolled": true
   },
   "outputs": [],
   "source": [
    "a=list(histogram.items())\n",
    "a.sort(key=lambda x:x[1],reverse=True)\n",
    "# a"
   ]
  },
  {
   "cell_type": "code",
   "execution_count": 29,
   "metadata": {},
   "outputs": [],
   "source": [
    "# load name of the labels\n",
    "labels=load_labels()"
   ]
  },
  {
   "cell_type": "code",
   "execution_count": 30,
   "metadata": {},
   "outputs": [],
   "source": [
    "items={}\n",
    "from IPython.display import Audio,display,HTML\n",
    "from ipywidgets import Output\n",
    "\n",
    "items[\"mp3_output\"]=Output()\n",
    "\n",
    "def play_html_modify(mp3file,items={}):\n",
    "#     out=items[\"mp3_output\"]\n",
    "#     displayed=display(HTML(\"<audio controls  loop autoplay><source src={} type='audio/mpeg'></audio>\".format(mp3file)))\n",
    "    displayed=display(HTML(\"<audio controls  loop><source src={} type='audio/mpeg'></audio>\".format(mp3file)))\n"
   ]
  },
  {
   "cell_type": "code",
   "execution_count": 31,
   "metadata": {},
   "outputs": [],
   "source": [
    "def vectorized_y_true(humanresults,tag_set):\n",
    "    y_true={tag: [None]*len(humanresults) for tag in tag_set}\n",
    "    for i,tags in enumerate(humanresults.values()):\n",
    "        # we  only look for tags in tag_set\n",
    "        for tag in tag_set:\n",
    "            if tag in tags:\n",
    "                y_true[tag][i] = 1\n",
    "            else:\n",
    "                y_true[tag][i] = 0 \n",
    "    return y_true"
   ]
  },
  {
   "cell_type": "code",
   "execution_count": 32,
   "metadata": {},
   "outputs": [],
   "source": [
    "y_true_dict=vectorized_y_true(humanresults,tag_set)\n"
   ]
  },
  {
   "cell_type": "code",
   "execution_count": 33,
   "metadata": {},
   "outputs": [],
   "source": [
    "# for i,filename in enumerate(humanresults.keys()):\n",
    "#     orig,audioop = modelresults[filename]\n"
   ]
  },
  {
   "cell_type": "code",
   "execution_count": null,
   "metadata": {},
   "outputs": [],
   "source": []
  },
  {
   "cell_type": "code",
   "execution_count": 34,
   "metadata": {},
   "outputs": [],
   "source": [
    "class color:\n",
    "   PURPLE = '\\033[95m'\n",
    "   CYAN = '\\033[96m'\n",
    "   DARKCYAN = '\\033[36m'\n",
    "   BLUE = '\\033[94m'\n",
    "   GREEN = '\\033[92m'\n",
    "   YELLOW = '\\033[93m'\n",
    "   RED = '\\033[91m'\n",
    "   BOLD = '\\033[1m'\n",
    "   UNDERLINE = '\\033[4m'\n",
    "   END = '\\033[0m'\n",
    "\n",
    "names=[\"Bulbul\"]\n",
    "short_names=[\"Bulbul\"]\n",
    "\n",
    "def print_result(results):\n",
    "    headers= [\"Tag\",]+short_names\n",
    "    table=[]\n",
    "#     sample_count=len(next(iter(y_true_dict.values())))\n",
    "#     print(\"Total sample:\",sample_count,\"And threshold is\",prob_threshold)\n",
    "    for tag in (tag_set):\n",
    "#         positive_count=sum(y_true_dict[tag])\n",
    "        table.append([tag,*results[tag]])\n",
    "\n",
    "    print(tabulate(table, headers=headers))\n",
    "\n",
    "def reverse_results(results):\n",
    "    results_clf2={}\n",
    "    for tag,scores_per_Tag2 in results.items():\n",
    "        scores_per_Tag=scores_per_Tag2[:]\n",
    "        maximum=max(scores_per_Tag)\n",
    "        scores_per_Tag=[color.BOLD + x + color.END if x==maximum else x for x in scores_per_Tag]\n",
    "\n",
    "        for i,name in enumerate(names):\n",
    "            score=scores_per_Tag[i]\n",
    "            results_clf2.setdefault(name,[])\n",
    "            results_clf2[name].append(score)      \n",
    "    return results_clf2\n",
    "        \n",
    "\n",
    "def print_result2(results):\n",
    "    results_clf=reverse_results(results)\n",
    "    headers= [\"Tag\",]+list(tag_set)\n",
    "    table=[]\n",
    "#     sample_count=len(next(iter(y_true_dict.values())))\n",
    "#     print(\"Total sample:\",sample_count,\"And threshold is\",prob_threshold)\n",
    "#     for tag in tag_set:\n",
    "#         aresult=[]\n",
    "    for i,name in enumerate(names):\n",
    "#         positive_count=sum(y_true_dict[tag])\n",
    "        table.append([short_names[i],*results_clf[name]])\n",
    "    \n",
    "    print(tabulate(table, headers=headers))\n"
   ]
  },
  {
   "cell_type": "code",
   "execution_count": 35,
   "metadata": {},
   "outputs": [],
   "source": [
    "import csv \n",
    "csv_file=\"prediction_first--enis_10k--2019-10-06--21-37.csv\"\n",
    "data={}\n",
    "\n",
    "with open(csv_file) as f:\n",
    "    csv_reader = csv.reader(f)\n",
    "    headers=next(csv_reader)\n",
    "    for row in csv_reader:\n",
    "        data[row[0]]=float(row[1])\n"
   ]
  },
  {
   "cell_type": "code",
   "execution_count": 36,
   "metadata": {},
   "outputs": [],
   "source": [
    "# data.keys()\n",
    "y_val_pred=[]\n",
    "for path in humanresults:\n",
    "    path2=path.replace(\".mp3\",\"\")\n",
    "    result=data[path2]\n",
    "    y_val_pred.append(result)"
   ]
  },
  {
   "cell_type": "code",
   "execution_count": 37,
   "metadata": {},
   "outputs": [
    {
     "data": {
      "text/plain": [
       "(1300,)"
      ]
     },
     "execution_count": 37,
     "metadata": {},
     "output_type": "execute_result"
    }
   ],
   "source": [
    "np.empty_like(y_true_dict[\"Songbird\"]).shape"
   ]
  },
  {
   "cell_type": "code",
   "execution_count": 38,
   "metadata": {},
   "outputs": [],
   "source": [
    "from sklearn.model_selection import train_test_split\n"
   ]
  },
  {
   "cell_type": "code",
   "execution_count": 46,
   "metadata": {},
   "outputs": [],
   "source": [
    "def warn(*args, **kwargs):\n",
    "    pass\n",
    "import warnings\n",
    "warnings.warn = warn\n",
    "from sklearn.metrics import roc_auc_score\n",
    "\n",
    "results={}\n",
    "for tag in (tag_set):\n",
    "    y_true=y_true_dict[tag]\n",
    "    \n",
    "    X_train, X_test, y_train, y_test = train_test_split(\n",
    "                    y_val_pred, y_true, test_size=0.2, random_state=42)\n",
    "    X_train, X_val, y_train, y_val = train_test_split(\n",
    "                    X_train, y_train, test_size=0.25, random_state=42)\n",
    "\n",
    "#     score=roc_auc_score(y_true,y_val_pred)\n",
    "# y_test,X_test\n",
    "#     score=roc_auc_score(y_test,X_test)\n",
    "# VALIDATION\n",
    "#     score=roc_auc_score(y_val,X_val)\n",
    "# TEST\n",
    "    score=roc_auc_score(y_test,X_test)\n",
    "\n",
    "    results[tag]=[\"{:.2}\".format(score)]\n",
    "\n",
    "# all_results[embed_type+\"_\"+map_reduce_type]=results\n",
    "# print_result2(results)"
   ]
  },
  {
   "cell_type": "code",
   "execution_count": null,
   "metadata": {},
   "outputs": [],
   "source": []
  },
  {
   "cell_type": "code",
   "execution_count": 47,
   "metadata": {},
   "outputs": [],
   "source": [
    "# for embed_type in embed_types:\n",
    "#     for map_reduce_type in map_reduce_embeds:\n",
    "#         results=all_results[embed_type+\"_\"+map_reduce_type]\n",
    "#         print(\"\\n{} embeddings and merged by {} \".format(embed_type,map_reduce_type))\n",
    "#         print_result2(results)"
   ]
  },
  {
   "cell_type": "code",
   "execution_count": 48,
   "metadata": {},
   "outputs": [
    {
     "name": "stdout",
     "output_type": "stream",
     "text": [
      "Tag       Songbird    Water Bird    Insect    Running Water    Rain    Cable    Wind    Vehicle    Aircraft\n",
      "------  ----------  ------------  --------  ---------------  ------  -------  ------  ---------  ----------\n",
      "Bulbul        \u001b[1m0.88\u001b[0m          \u001b[1m0.67\u001b[0m      \u001b[1m0.53\u001b[0m             \u001b[1m0.62\u001b[0m    \u001b[1m0.35\u001b[0m     \u001b[1m0.33\u001b[0m    \u001b[1m0.33\u001b[0m       \u001b[1m0.61\u001b[0m        \u001b[1m0.57\u001b[0m\n"
     ]
    }
   ],
   "source": [
    "print_result2(results)"
   ]
  },
  {
   "cell_type": "code",
   "execution_count": 45,
   "metadata": {},
   "outputs": [
    {
     "name": "stdout",
     "output_type": "stream",
     "text": [
      "Tag       Songbird    Water Bird    Insect    Running Water    Rain    Cable    Wind    Vehicle    Aircraft\n",
      "------  ----------  ------------  --------  ---------------  ------  -------  ------  ---------  ----------\n",
      "Bulbul        \u001b[1m0.86\u001b[0m          \u001b[1m0.65\u001b[0m      \u001b[1m0.58\u001b[0m              \u001b[1m0.7\u001b[0m    \u001b[1m0.44\u001b[0m     \u001b[1m0.36\u001b[0m     \u001b[1m0.3\u001b[0m        \u001b[1m0.3\u001b[0m        \u001b[1m0.34\u001b[0m\n"
     ]
    }
   ],
   "source": [
    "print_result2(results)"
   ]
  },
  {
   "cell_type": "code",
   "execution_count": null,
   "metadata": {},
   "outputs": [],
   "source": []
  },
  {
   "cell_type": "code",
   "execution_count": null,
   "metadata": {},
   "outputs": [],
   "source": []
  },
  {
   "cell_type": "code",
   "execution_count": 115,
   "metadata": {},
   "outputs": [],
   "source": [
    "# tag=\"Songbird\"\n",
    "# X_train, X_test, y_train, y_test = train_test_split(\n",
    "#     X_mean, y_true_dict[tag], test_size=0.2, random_state=42)\n",
    "# X_train, X_val, y_train, y_val = train_test_split(\n",
    "#     X_train, y_train, test_size=0.25, random_state=42)\n",
    "\n",
    "# for name, clf in zip(names, classifiers):\n",
    "# #         ax = plt.subplot(len(datasets), len(classifiers) + 1, i)\n",
    "#     print(name)\n",
    "\n",
    "#     try:\n",
    "#         clf.fit(X_train, y_train)\n",
    "#         y_val_pred=clf.predict_proba(X_val)\n",
    "#         score=roc_auc_score(y_val,y_val_pred[:,1:])\n",
    "#         print(y_val_pred[:10,1:])\n",
    "#         print(clf.classes_)\n",
    "# #         score = clf.score(X_val, y_val)\n",
    "#     except:\n",
    "#         print(\"ERROR\")\n",
    "        "
   ]
  },
  {
   "cell_type": "code",
   "execution_count": null,
   "metadata": {},
   "outputs": [],
   "source": []
  },
  {
   "cell_type": "code",
   "execution_count": null,
   "metadata": {},
   "outputs": [],
   "source": []
  },
  {
   "cell_type": "code",
   "execution_count": null,
   "metadata": {},
   "outputs": [],
   "source": []
  },
  {
   "cell_type": "markdown",
   "metadata": {},
   "source": []
  },
  {
   "cell_type": "code",
   "execution_count": null,
   "metadata": {},
   "outputs": [],
   "source": []
  },
  {
   "cell_type": "code",
   "execution_count": 143,
   "metadata": {},
   "outputs": [],
   "source": []
  },
  {
   "cell_type": "code",
   "execution_count": null,
   "metadata": {},
   "outputs": [],
   "source": []
  },
  {
   "cell_type": "code",
   "execution_count": null,
   "metadata": {},
   "outputs": [],
   "source": []
  },
  {
   "cell_type": "code",
   "execution_count": null,
   "metadata": {},
   "outputs": [],
   "source": []
  }
 ],
 "metadata": {
  "kernelspec": {
   "display_name": "speechEnv",
   "language": "python",
   "name": "speechenv"
  },
  "language_info": {
   "codemirror_mode": {
    "name": "ipython",
    "version": 3
   },
   "file_extension": ".py",
   "mimetype": "text/x-python",
   "name": "python",
   "nbconvert_exporter": "python",
   "pygments_lexer": "ipython3",
   "version": "3.7.2"
  }
 },
 "nbformat": 4,
 "nbformat_minor": 2
}
