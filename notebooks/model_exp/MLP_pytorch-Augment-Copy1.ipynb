{
 "cells": [
  {
   "cell_type": "code",
   "execution_count": 69,
   "metadata": {},
   "outputs": [
    {
     "name": "stdout",
     "output_type": "stream",
     "text": [
      "/home/enis/projects/nna/src\n"
     ]
    }
   ],
   "source": [
    "import os\n",
    "import sys\n",
    "\n",
    "module_path = os.path.abspath(os.path.join('../../src'))\n",
    "print(module_path)\n",
    "if module_path not in sys.path:\n",
    "    sys.path.append(module_path)"
   ]
  },
  {
   "cell_type": "code",
   "execution_count": 70,
   "metadata": {},
   "outputs": [
    {
     "name": "stdout",
     "output_type": "stream",
     "text": [
      "unique files: 1300 \n",
      "total files 1366\n"
     ]
    }
   ],
   "source": [
    "import csv\n",
    "from os import listdir\n",
    "from pathlib import Path\n",
    "\n",
    "# LOAD LABELS by human\n",
    "labelsbyhumanpath=Path('/scratch/enis/data/nna/labeling/results/')\n",
    "# filter csv extension also by username\n",
    "labelsbyhuman=[i for i in listdir(labelsbyhumanpath) if (\".csv\" in i ) ]\n",
    "\n",
    "humanresults={}\n",
    "counter=0\n",
    "for apath in labelsbyhuman:\n",
    "    with open(labelsbyhumanpath / apath, newline='') as f:\n",
    "        reader=csv.reader(f)\n",
    "        for row in reader:\n",
    "            counter+=1\n",
    "            humanresults[row[0]]=row[1:]\n",
    "\n",
    "print(\"unique files:\",len(humanresults),\"\\ntotal files\",counter)\n",
    "\n",
    "#Join vehicle and Aircraft\n",
    "# for file_name,tagshere in humanresults.items():\n",
    "# #     print(file_name,tagshere)\n",
    "    \n",
    "#     tagshere=[\"Aircraft\" if tag == \"Vehicle\" else tag for tag in tags]"
   ]
  },
  {
   "cell_type": "code",
   "execution_count": 80,
   "metadata": {},
   "outputs": [],
   "source": [
    "from pathlib import Path\n",
    "import numpy as np\n",
    "import pandas as pd\n",
    "\n",
    "import torch\n",
    "from torch.utils.data import Dataset, DataLoader\n",
    "\n",
    "import torch.nn as nn\n",
    "import torch.nn.functional as F\n",
    "\n",
    "\n",
    "# fldr=\"/scratch/enis/data/nna/labeling/splits_preprocessed_real/\"\n",
    "# fname=\"S4A10209_20190505_093000_51m_7s__51m_17s_preprocessed.npy\"\n",
    "\n",
    "# preProcessedFile=Path(fldr)/fname\n",
    "\n",
    "\n",
    "# preProcessedArray=np.load(preProcessedFile)"
   ]
  },
  {
   "cell_type": "code",
   "execution_count": 81,
   "metadata": {},
   "outputs": [],
   "source": [
    "# import IPython.display as ipd\n",
    "# ipd.Audio(sourcePath/file_name)"
   ]
  },
  {
   "cell_type": "code",
   "execution_count": null,
   "metadata": {},
   "outputs": [],
   "source": []
  },
  {
   "cell_type": "code",
   "execution_count": null,
   "metadata": {},
   "outputs": [],
   "source": []
  },
  {
   "cell_type": "code",
   "execution_count": 82,
   "metadata": {},
   "outputs": [],
   "source": [
    "# import matplotlib.pyplot as plt\n",
    "# from pydub import AudioSegment\n",
    "# plt.figure(figsize=(10, 6))\n",
    "\n",
    "# y, sr = librosa.load(sourcePath/file_name,sr=None)\n",
    "# # audio = AudioSegment.from_file(sourcePath/file_name)\n",
    "\n",
    "# mel=librosa.feature.melspectrogram(y=y+0.1, sr=sr)\n",
    "# an_x = librosa.power_to_db(mel, ref=np.max)\n",
    "\n",
    "# librosa.display.specshow(an_x, x_axis='time',\n",
    "#                           y_axis='mel', sr=sr,\n",
    "#                           fmax=8000)\n",
    "# plt.colorbar(format='%+2.0f dB')"
   ]
  },
  {
   "cell_type": "code",
   "execution_count": null,
   "metadata": {},
   "outputs": [],
   "source": []
  },
  {
   "cell_type": "code",
   "execution_count": null,
   "metadata": {},
   "outputs": [],
   "source": []
  },
  {
   "cell_type": "code",
   "execution_count": null,
   "metadata": {},
   "outputs": [],
   "source": []
  },
  {
   "cell_type": "code",
   "execution_count": 83,
   "metadata": {},
   "outputs": [],
   "source": [
    "import csv \n",
    "from pathlib import Path\n",
    "from os import listdir\n",
    "from sklearn.model_selection import train_test_split\n",
    "\n",
    "# import pickle\n",
    "\n",
    "# from labeling_utils import load_labels\n",
    "\n",
    "# import numpy as np\n",
    "# from sklearn.metrics import precision_recall_fscore_support\n",
    "\n",
    "# from sklearn.model_selection import train_test_split\n",
    "# import pandas as pd\n",
    "\n",
    "# tags=[\"Songbird\",\"Water Bird\",\"Insect\",\"Running Water\",\"Rain\",\"Cable\",\"Wind\",\"Aircraft\"]\n",
    "tagSet=[\"Songbird\",\"Water Bird\",\"Insect\",\"Running Water\",\"Rain\",\"Cable\",\"Wind\",\"Aircraft\"]\n",
    "\n",
    "# from tabulate import tabulate\n",
    "# tag_set=tags[:]\n",
    "# import torch\n",
    "\n",
    "# %matplotlib inline\n",
    "\n"
   ]
  },
  {
   "cell_type": "markdown",
   "metadata": {},
   "source": [
    "* Count only highest ranking tag (what if both of them exist)\n",
    "* Bird tag is confusing, it can be also waterbird, how to handle ? Also Animal\n",
    "* "
   ]
  },
  {
   "cell_type": "code",
   "execution_count": 84,
   "metadata": {},
   "outputs": [],
   "source": [
    "#LOAD MODEL predictions\n",
    "splits_path= Path('/files/scratch/enis/data/nna/labeling/splits/')\n",
    "\n"
   ]
  },
  {
   "cell_type": "code",
   "execution_count": null,
   "metadata": {},
   "outputs": [],
   "source": []
  },
  {
   "cell_type": "code",
   "execution_count": null,
   "metadata": {},
   "outputs": [],
   "source": []
  },
  {
   "cell_type": "code",
   "execution_count": 85,
   "metadata": {},
   "outputs": [],
   "source": [
    "# returns a dictionary, keys are tags from tag set and values are binary list \n",
    "# \n",
    "def vectorized_y_true(humanresults,tag_set):\n",
    "    y_true={tag: np.zeros(len(humanresults)) for tag in tag_set}\n",
    "    for i,tags in enumerate(humanresults.values()):\n",
    "        # we  only look for tags in tag_set\n",
    "        for tag in tag_set:\n",
    "            if tag in tags:\n",
    "                y_true[tag][i] = 1\n",
    "            else:\n",
    "                y_true[tag][i] = 0 \n",
    "    return y_true\n",
    "\n"
   ]
  },
  {
   "cell_type": "code",
   "execution_count": 89,
   "metadata": {},
   "outputs": [],
   "source": [
    "y_true_dict = vectorized_y_true(humanresults,tagSet)\n",
    "y_true_all = pd.DataFrame(y_true_dict)\n",
    "y_true = np.array(y_true_all['Songbird']).astype(\"long\")\n"
   ]
  },
  {
   "cell_type": "code",
   "execution_count": null,
   "metadata": {},
   "outputs": [],
   "source": []
  },
  {
   "cell_type": "code",
   "execution_count": 90,
   "metadata": {},
   "outputs": [],
   "source": [
    "def map_reduce(X,func_type):\n",
    "    if func_type==\"Average\":\n",
    "        return np.mean(X,axis=1)\n",
    "    elif func_type==\"Concat\":\n",
    "        return np.reshape(X,(-1,1280))\n",
    "    else:\n",
    "        raise Exception(\"ERROR with embed type\")\n",
    "\n",
    "def pick_embed(embed_type:str, sourcePath: Path):\n",
    "    \n",
    "    for index,i in enumerate(humanresults):\n",
    "        file_name=Path(i).stem\n",
    "        if embed_type==\"Raw\":\n",
    "            file_name+=\"_rawembed.npy\"\n",
    "        elif embed_type==\"Normalized\":\n",
    "            file_name+=\"_rawembed.npy\"\n",
    "        elif embed_type==\"Unsupervised\":\n",
    "            file_name+=\"_superembedv2.npy\"\n",
    "        elif embed_type==\"LogMel\":\n",
    "            file_name+=\"_preprocessed.npy\"\n",
    "\n",
    "        else:\n",
    "            raise Exception(\"ERROR with embed type\")\n",
    "        an_x=np.load(sourcePath / file_name)\n",
    "        if index==0:\n",
    "            X= np.empty((len(humanresults),*an_x.shape))\n",
    "        X[index,:,:]=an_x[:]\n",
    "    return X"
   ]
  },
  {
   "cell_type": "code",
   "execution_count": null,
   "metadata": {},
   "outputs": [],
   "source": []
  },
  {
   "cell_type": "code",
   "execution_count": 91,
   "metadata": {},
   "outputs": [],
   "source": [
    "\n",
    "sourcePath=Path('/scratch/enis/data/nna/labeling/split_embeddings/')\n",
    "sourcePath=Path(\"/scratch/enis/data/nna/labeling/splits_preprocessed/\")\n",
    "# filter by username\n",
    "# split_embeds=[i for i in listdir(sourcePath) ]\n",
    "# raw_embeds =  [i for i in split_embeds if \"rawembed\" in i]\n",
    "# proc_embeds = [i for i in split_embeds if \"_embed\" in i]\n",
    "# super_embed = [i for i in split_embeds if \"_superembedv2\" in i]\n"
   ]
  },
  {
   "cell_type": "code",
   "execution_count": 92,
   "metadata": {},
   "outputs": [],
   "source": [
    "import warnings\n",
    "warnings.filterwarnings('ignore')"
   ]
  },
  {
   "cell_type": "code",
   "execution_count": 108,
   "metadata": {},
   "outputs": [],
   "source": [
    "# np.min([y.shape[0] for y in y_list])\n",
    "shortestLen=min([y[0].shape[0] for y in y_list])\n",
    "y_list=[y[0][:shortestLen] for y in y_list]"
   ]
  },
  {
   "cell_type": "code",
   "execution_count": null,
   "metadata": {},
   "outputs": [],
   "source": []
  },
  {
   "cell_type": "code",
   "execution_count": 162,
   "metadata": {},
   "outputs": [
    {
     "data": {
      "text/plain": [
       "False"
      ]
     },
     "execution_count": 162,
     "metadata": {},
     "output_type": "execute_result"
    }
   ],
   "source": [
    "not type(augmentad_pos)!=None"
   ]
  },
  {
   "cell_type": "code",
   "execution_count": 167,
   "metadata": {},
   "outputs": [
    {
     "name": "stdout",
     "output_type": "stream",
     "text": [
      "(409, 10, 44100)\n",
      "NIGLIQ1_20160618_045825_0620m_02s__0620m_12s.mp3\n",
      "NIGLIQ1_20160618_045825_0620m_02s__0620m_12s.mp3\n",
      "NIGLIQ1_20160618_045825_0620m_02s__0620m_12s.mp3\n",
      "NIGLIQ1_20160618_045825_0620m_02s__0620m_12s.mp3\n",
      "NIGLIQ1_20160618_045825_0620m_02s__0620m_12s.mp3\n",
      "NIGLIQ1_20160618_045825_0620m_02s__0620m_12s.mp3\n",
      "NIGLIQ1_20160618_045825_0620m_02s__0620m_12s.mp3\n",
      "NIGLIQ1_20160618_045825_0620m_02s__0620m_12s.mp3\n",
      "NIGLIQ1_20160618_045825_0620m_02s__0620m_12s.mp3\n",
      "NIGLIQ1_20160618_045825_0620m_02s__0620m_12s.mp3\n",
      "NIGLIQ1_20160618_045825_0620m_02s__0620m_12s.mp3\n",
      "NIGLIQ1_20160618_045825_0620m_02s__0620m_12s.mp3\n",
      "NIGLIQ1_20160618_045825_0620m_02s__0620m_12s.mp3\n",
      "NIGLIQ1_20160618_045825_0620m_02s__0620m_12s.mp3\n",
      "NIGLIQ1_20160618_045825_0620m_02s__0620m_12s.mp3\n",
      "NIGLIQ1_20160618_045825_0620m_02s__0620m_12s.mp3\n",
      "NIGLIQ1_20160618_045825_0620m_02s__0620m_12s.mp3\n",
      "NIGLIQ1_20160618_045825_0620m_02s__0620m_12s.mp3\n",
      "NIGLIQ1_20160618_045825_0620m_02s__0620m_12s.mp3\n",
      "NIGLIQ1_20160618_045825_0620m_02s__0620m_12s.mp3\n"
     ]
    }
   ],
   "source": [
    "import librosa\n",
    "import librosa.display\n",
    "import numpy as np\n",
    "from pathlib import Path\n",
    "\n",
    "sourcePath=Path(\"/scratch/enis/data/nna/labeling/splits/\")\n",
    "# sourcePath=Path(\"./louder/\")\n",
    "\n",
    "y_list=[]\n",
    "for index,i in enumerate(humanresults):\n",
    "    file_name=Path(i)\n",
    "    y, sr = librosa.load(sourcePath/file_name,sr=None)\n",
    "    y_list.append(y)\n",
    "    if sr!=44100:\n",
    "        print(sr)\n",
    "#     if index==6:\n",
    "#         break\n",
    "    \n",
    "#shorten according to smallest\n",
    "shortestLen=441000 #min([y.shape[0] for y in y_list])\n",
    "y_list=[y[:shortestLen] for y in y_list]\n",
    "y_list=[np.array(y).reshape(1,10,-1) for y in y_list]\n",
    "\n",
    "X=np.concatenate(y_list,axis=0)\n",
    "\n",
    "pos_index= (y_true==1)\n",
    "neg_index= (y_true==0)\n",
    "\n",
    "X_pos=X[pos_index]\n",
    "X_neg=X[neg_index]\n",
    "print(X_pos.shape)\n",
    "\n",
    "\n",
    "augmentad_pos=randomMerge(X_pos,1000-X_pos.shape[0])\n",
    "if type(augmentad_pos)!=None:\n",
    "    X_pos=np.concatenate([augmentad_pos,X_pos]).astype(\"float32\")\n",
    "\n",
    "augmentad_neg=randomMerge(X_neg,1000-X_neg.shape[0])\n",
    "if  type(augmentad_neg)!=None:\n",
    "    X_neg=np.concatenate([augmentad_neg,X_neg]).astype(\"float32\")\n",
    "\n",
    "\n",
    "X_augmented=np.concatenate([X_pos,X_neg]).astype(\"float32\")\n",
    "y_true_aug=np.concatenate([np.ones(X_pos.shape[0]),np.zeros(X_neg.shape[0])]).astype(\"int64\")\n",
    "\n",
    "\n",
    "for index,y in enumerate(X_augmented):\n",
    "#     file_name=Path(i)\n",
    "#     y, sr = librosa.load(sourcePath/file_name,sr=None)\n",
    "#     y_list.append(y)\n",
    "    \n",
    "    mel=librosa.feature.melspectrogram(y=y.reshape(-1), sr=sr)\n",
    "    an_x = librosa.power_to_db(mel, ref=np.max)\n",
    "    if index==0:\n",
    "        XMel= np.empty((X_augmented.shape[0],128,850))\n",
    "    XMel[index,:,:]=an_x[:,:850]\n",
    "    if index%100==0:\n",
    "        print(index)\n",
    "\n"
   ]
  },
  {
   "cell_type": "code",
   "execution_count": 171,
   "metadata": {},
   "outputs": [
    {
     "data": {
      "text/plain": [
       "((2000, 128, 850), (2000,))"
      ]
     },
     "execution_count": 171,
     "metadata": {},
     "output_type": "execute_result"
    }
   ],
   "source": [
    "XMel.shape,y_true_aug.shape"
   ]
  },
  {
   "cell_type": "code",
   "execution_count": 79,
   "metadata": {},
   "outputs": [
    {
     "data": {
      "text/plain": [
       "PosixPath('/scratch/enis/data/nna/labeling/splits/ITKILLIK1_20160823_114644_0000m_00s__0000m_10s.mp3')"
      ]
     },
     "execution_count": 79,
     "metadata": {},
     "output_type": "execute_result"
    }
   ],
   "source": [
    "sourcePath / \"ITKILLIK1_20160823_114644_0000m_00s__0000m_10s.mp3\""
   ]
  },
  {
   "cell_type": "code",
   "execution_count": 10,
   "metadata": {},
   "outputs": [],
   "source": [
    "X=pick_embed(\"LogMel\",sourcePath)\n",
    "# X=pick_embed(\"Unsupervised\")\n",
    "# Unsupervised\n",
    "# X=map_reduce(X,map_reduce_type)\n",
    "humanresults_keys=list(humanresults.keys())\n",
    "X=X.astype(\"float32\")"
   ]
  },
  {
   "cell_type": "code",
   "execution_count": 110,
   "metadata": {},
   "outputs": [],
   "source": [
    "X=X.astype(\"float32\")"
   ]
  },
  {
   "cell_type": "code",
   "execution_count": 258,
   "metadata": {},
   "outputs": [],
   "source": [
    "XLouder=XLouder.astype(\"float32\")"
   ]
  },
  {
   "cell_type": "code",
   "execution_count": 172,
   "metadata": {},
   "outputs": [],
   "source": [
    "XMel=XMel.astype(\"float32\")"
   ]
  },
  {
   "cell_type": "code",
   "execution_count": 173,
   "metadata": {},
   "outputs": [],
   "source": [
    "# from sklearn.metrics import average_precision_score\n",
    "from sklearn.metrics import roc_auc_score\n",
    "# def cal_metrics(y_true_dict,y_pred_dict):\n",
    "#     results={}\n",
    "#     for tag in tag_set:\n",
    "#         y_true = y_true_dict[tag]\n",
    "#         y_pred = y_pred_dict[tag]\n",
    "#         metrics=precision_recall_fscore_support(y_true, y_pred,pos_label=1,average=\"binary\")\n",
    "#         results[tag]=(metrics)\n",
    "#     return results\n",
    "\n",
    "# def cal_auc(y_true_dict,y_pred_dict_prob):\n",
    "#     results={}\n",
    "#     for tag in tag_set:\n",
    "#         y_true = y_true_dict[tag]\n",
    "#         y_pred = y_pred_dict_prob[tag]\n",
    "#         metrics_auc=roc_auc_score(y_true, y_pred) #average_precision_score\n",
    "#         results[tag]=(metrics_auc)\n",
    "\n",
    "#     return results\n",
    "\n",
    "# def print_results(results,y_true_dict,):\n",
    "#     headers= [\"Label\",\"Positive\",\"Precision\",\"Recall\",\"Fscore\"]\n",
    "#     table=[]\n",
    "#     sample_count=len(next(iter(y_true_dict.values())))\n",
    "#     print(\"Total sample:\",sample_count,\"And threshold is\",prob_threshold)\n",
    "#     for tag in (tag_set):\n",
    "#         positive_count=sum(y_true_dict[tag])\n",
    "#         table.append([tag,positive_count,*results[tag][:-1]])\n",
    "\n",
    "#     print(tabulate(table, headers=headers))\n",
    "\n",
    "    "
   ]
  },
  {
   "cell_type": "code",
   "execution_count": 174,
   "metadata": {},
   "outputs": [],
   "source": [
    "def nogradloss(X_test,y_test):\n",
    "    with torch.no_grad():    \n",
    "        outputs_test = net(X_test)\n",
    "        loss = criterion(outputs_test, y_test)\n",
    "        return loss.item()\n",
    "\n",
    "def nogradmetrics(X_test,y_test,net,multi_segment=False):\n",
    "    with torch.no_grad():    \n",
    "        if not multi_segment:\n",
    "            y_pred = net(X_test)\n",
    "#             print(y_pred.shape)\n",
    "#             print(y_pred[1:5,:])\n",
    "    #         print(y_pred)\n",
    "            loss = criterion(y_pred, y_test)\n",
    "    #         print(y_pred)\n",
    "            y_pred=torch.exp(y_pred)\n",
    "#             print(sum(torch.max(y_pred, 1)[1]))\n",
    "#             _, predicted = torch.min(y_pred,1)\n",
    "#             print(np.exp(_.cpu().numpy()),predicted)\n",
    "#                     print(y_test.shape,y_pred.shape)\n",
    "            train_auc=roc_auc_score(y_test.cpu().numpy(),\n",
    "                                    y_pred[:,1].cpu().numpy()) \n",
    "            \n",
    "            return loss.item(),train_auc\n",
    "        else:\n",
    "            y_pred = net(X_test)\n",
    "            \n",
    "            y_pred_10 =y_pred.reshape(-1,10,2)\n",
    "            indices=torch.max(y_pred[:,1].reshape(-1,10),dim=1).indices\n",
    "            y_pred_10 = y_pred_10[range(y_pred_10.shape[0]),indices,:].reshape(-1,2)\n",
    "            \n",
    "            y_test_10 = torch.max(y_test.reshape(-1,10),dim=1).values\n",
    "            \n",
    "            loss = criterion(y_pred_10, y_test_10)\n",
    "            train_auc=roc_auc_score(y_test_10.cpu().numpy(),\n",
    "                                    y_pred_10[:,1].cpu().numpy()) \n",
    "            return loss.item(),train_auc\n",
    "\n",
    "        \n",
    "class audioDataset(Dataset):\n",
    "\n",
    "    def __init__(self,X,y, transform=None):\n",
    "        \"\"\"\n",
    "        Args:\n",
    "\n",
    "        \"\"\"\n",
    "        self.X=X\n",
    "        self.y=y\n",
    "#         self.landmarks_frame = pd.read_csv(csv_file)\n",
    "#         self.root_dir = root_dir\n",
    "        self.transform = transform\n",
    "\n",
    "    def __len__(self):\n",
    "        return self.X.shape[0]\n",
    "\n",
    "    def __getitem__(self, idx):\n",
    "\n",
    "        sample = self.X[idx],self.y[idx]\n",
    "\n",
    "        if self.transform:\n",
    "            sample = self.transform(sample)\n",
    "\n",
    "        return sample"
   ]
  },
  {
   "cell_type": "code",
   "execution_count": 175,
   "metadata": {},
   "outputs": [],
   "source": [
    "# import torch\n",
    "# augmentad=torch.ones(13,10,128)\n",
    "# torch.randperm(13)"
   ]
  },
  {
   "cell_type": "code",
   "execution_count": 20,
   "metadata": {},
   "outputs": [
    {
     "data": {
      "text/plain": [
       "torch.Size([13, 10, 128])"
      ]
     },
     "execution_count": 20,
     "metadata": {},
     "output_type": "execute_result"
    }
   ],
   "source": []
  },
  {
   "cell_type": "code",
   "execution_count": 182,
   "metadata": {},
   "outputs": [],
   "source": [
    "import torch\n",
    "device = torch.device(\"cuda:0\" if torch.cuda.is_available() else \"cpu\")\n",
    "# device=\"cpu\"\n",
    "\n",
    "# #randomly select 2*left # of samples\n",
    "# first = augmentad[ torch.randperm(augmentad.shape[0])[:left]].reshape(-1,10,128)\n",
    "# second = augmentad[ torch.randperm(augmentad.shape[0])[:left]].reshape(-1,10,128)\n",
    "# # merge first half and second half of the samples\n",
    "# new[:,0:5,:],new[:,5:10,:]=first[:,0:5,:],second[:,5:10,:]\n",
    "# augmentad=np.concatenate([augmentad,new])\n",
    "# #     print(augmentad.shape)\n",
    "\n",
    "# augmentad=np.unique(augmentad,axis=0)"
   ]
  },
  {
   "cell_type": "code",
   "execution_count": null,
   "metadata": {},
   "outputs": [],
   "source": []
  },
  {
   "cell_type": "code",
   "execution_count": 62,
   "metadata": {},
   "outputs": [],
   "source": []
  },
  {
   "cell_type": "markdown",
   "metadata": {},
   "source": [
    "#### Run only one of the following cells that does splitting "
   ]
  },
  {
   "cell_type": "code",
   "execution_count": 15,
   "metadata": {},
   "outputs": [],
   "source": [
    "# MEAN, AUGMENTAD entire dataset including test and validate\n",
    "\n",
    "pos_index= (y_true==1)\n",
    "neg_index= (y_true==0)\n",
    "\n",
    "\n",
    "X_shuffled = X[:,torch.randperm(X.shape[1]),:]\n",
    "\n",
    "X_shuffled_pos=X_shuffled[pos_index,:,:]\n",
    "X_shuffled_neg=X_shuffled[neg_index,:,:]\n",
    "\n",
    "augmentad_pos=augment_data(X_shuffled_pos,2000)\n",
    "\n",
    "augmentad_neg=augment_data(X_shuffled_neg,2000)\n",
    "\n",
    "\n",
    "X_augmented=np.concatenate([augmentad_pos,augmentad_neg]).astype(\"float32\")\n",
    "y_true_aug=np.concatenate([np.ones(augmentad_pos.shape[0]),np.zeros(augmentad_neg.shape[0])]).astype(\"int64\")\n",
    "\n",
    "\n",
    "\n",
    "MULTI_SEGMENT = False\n",
    "X_augmented_mean=X_augmented.mean(axis=1)\n",
    "\n",
    "X_train, X_test, y_train, y_test = train_test_split(\n",
    "                    X_augmented_mean, y_true_aug, test_size=0.2, random_state=42)\n",
    "X_train, X_val, y_train, y_val = train_test_split(\n",
    "                    X_train, y_train, test_size=0.25, random_state=42)\n",
    "\n",
    "# X_train=X_train.reshape(X_train.shape[0],-1,128)\n",
    "# X_test=X_test.reshape(X_test.shape[0],-1,128)\n",
    "# X_val=X_val.reshape(X_test.shape[0],-1,128)\n"
   ]
  },
  {
   "cell_type": "code",
   "execution_count": 16,
   "metadata": {},
   "outputs": [],
   "source": [
    "# AUGMENTATION Experiment\n",
    "# from \"Shuffling and Mixing Data Augmentation for Environmental Sound Classification\" by Tadanobu Inoue et. al\n",
    "\n",
    "MULTI_SEGMENT = False\n",
    "FLAT=False\n",
    "\n",
    "X_train, X_test, y_train, y_test = train_test_split(\n",
    "    X.reshape(X.shape[0],-1), y_true, test_size=0.2, random_state=42)\n",
    "X_train, X_val, y_train, y_val = train_test_split(\n",
    "    X_train, y_train, test_size=0.25, random_state=42)\n",
    "\n",
    "X_train=X_train.reshape(X_train.shape[0],-1,128)\n",
    "X_test=X_test.reshape(X_test.shape[0],-1,128)\n",
    "X_val=X_val.reshape(X_test.shape[0],-1,128)\n",
    "\n",
    "\n",
    "\n",
    "pos_index= (y_train==1)\n",
    "neg_index= (y_train==0)\n",
    "\n",
    "# shuffle each sample sound within itself, granularity is 1 second, samples are 10 second\n",
    "# so change order of seconds\n",
    "X_shuffled = X_train[:,torch.randperm(X_train.shape[1]),:]\n",
    "# no shuffle\n",
    "# X_shuffled = X_train[:,:,:]\n",
    "\n",
    "X_shuffled_pos=X_shuffled[pos_index,:,:]\n",
    "X_shuffled_neg=X_shuffled[neg_index,:,:]\n",
    "\n",
    "augmentation_ratio=1.2\n",
    "augmentation_ratio=(1/augmentation_ratio)\n",
    "augmentad_pos=augment_data(X_shuffled_pos,int(X_shuffled_pos.shape[0]//augmentation_ratio))\n",
    "# augmentad_neg=augment_data(X_shuffled_neg,int(X_shuffled_neg.shape[0]//augmentation_ratio))\n",
    "augmentad_neg=augment_data(X_shuffled_neg,X_shuffled_neg.shape[0])\n",
    "\n",
    "\n",
    "X_train_augmented=np.concatenate([augmentad_pos,augmentad_neg]).astype(\"float32\")\n",
    "y_train_aug=np.concatenate([np.ones(augmentad_pos.shape[0]),np.zeros(augmentad_neg.shape[0])]).astype(\"int64\")\n",
    "\n",
    "X_train=X_train_augmented[:]\n",
    "y_train=y_train_aug[:]\n",
    "\n",
    "X_train=X_train.mean(axis=1)\n",
    "X_test=X_test.mean(axis=1)\n",
    "X_val=X_val.mean(axis=1)\n"
   ]
  },
  {
   "cell_type": "code",
   "execution_count": 17,
   "metadata": {},
   "outputs": [],
   "source": [
    "# concat inputs\n",
    "MULTI_SEGMENT = False\n",
    "FLAT=True\n",
    "X_train, X_test, y_train, y_test = train_test_split(\n",
    "    X.reshape(X.shape[0],-1), y_true, test_size=0.2, random_state=42)\n",
    "X_train, X_val, y_train, y_val = train_test_split(\n",
    "    X_train, y_train, test_size=0.25, random_state=42)\n",
    "\n",
    "X_train=X_train.reshape(X_train.shape[0],-1,128)\n",
    "X_test=X_test.reshape(X_test.shape[0],-1,128)\n",
    "X_val=X_val.reshape(X_test.shape[0],-1,128)\n"
   ]
  },
  {
   "cell_type": "code",
   "execution_count": 48,
   "metadata": {},
   "outputs": [
    {
     "data": {
      "text/plain": [
       "(1300, 10, 96, 64)"
      ]
     },
     "execution_count": 48,
     "metadata": {},
     "output_type": "execute_result"
    }
   ],
   "source": []
  },
  {
   "cell_type": "code",
   "execution_count": null,
   "metadata": {},
   "outputs": [],
   "source": []
  },
  {
   "cell_type": "code",
   "execution_count": null,
   "metadata": {
    "collapsed": true,
    "jupyter": {
     "outputs_hidden": true
    }
   },
   "outputs": [],
   "source": []
  },
  {
   "cell_type": "code",
   "execution_count": 516,
   "metadata": {
    "collapsed": true,
    "jupyter": {
     "outputs_hidden": true
    }
   },
   "outputs": [],
   "source": [
    "# MEAN\n",
    "MULTI_SEGMENT = False\n",
    "FLAT=False\n",
    "\n",
    "X_train, X_test, y_train, y_test = train_test_split(\n",
    "    X_mean, y_true, test_size=0.2, random_state=42)\n",
    "X_train, X_val, y_train, y_val = train_test_split(\n",
    "    X_train, y_train, test_size=0.25, random_state=42)\n",
    "\n",
    "# X_train=X_train.reshape(X_train.shape[0],-1,128)\n",
    "# X_test=X_test.reshape(X_test.shape[0],-1,128)\n",
    "# X_val=X_val.reshape(X_test.shape[0],-1,128)\n"
   ]
  },
  {
   "cell_type": "code",
   "execution_count": 188,
   "metadata": {},
   "outputs": [
    {
     "data": {
      "text/plain": [
       "(1300, 1280)"
      ]
     },
     "execution_count": 188,
     "metadata": {},
     "output_type": "execute_result"
    }
   ],
   "source": []
  },
  {
   "cell_type": "code",
   "execution_count": 311,
   "metadata": {},
   "outputs": [],
   "source": [
    "# fully forward best\n",
    "\n",
    "# seperate,  \n",
    "# different AUC calculation PART, to be fair  (do max of 10 predictions)\n",
    "MULTI_SEGMENT = True\n",
    "FLAT=False\n",
    "\n",
    "X_train, X_test, y_train, y_test = train_test_split(\n",
    "    X.reshape(X.shape[0],-1), y_true, test_size=0.2, random_state=42)\n",
    "X_train, X_val, y_train, y_val = train_test_split(\n",
    "    X_train, y_train, test_size=0.25, random_state=42)\n",
    "\n",
    "# use 1 second as  samples\n",
    "X_train=X_train.reshape(-1,np.prod(X.shape[2:]))\n",
    "X_test=X_test.reshape(-1,np.prod(X.shape[2:]))\n",
    "X_val=X_val.reshape(-1,np.prod(X.shape[2:]))\n",
    "\n",
    "# repeat labels\n",
    "y_train=np.repeat(y_train,10)\n",
    "y_test=np.repeat(y_test,10)\n",
    "y_val=np.repeat(y_val,10)\n",
    "\n",
    "\n"
   ]
  },
  {
   "cell_type": "code",
   "execution_count": 15,
   "metadata": {},
   "outputs": [],
   "source": [
    "# LSTM \n",
    "\n",
    "# seperate,  \n",
    "# different AUC calculation PART, to be fair  (do max of 10 predictions)\n",
    "MULTI_SEGMENT = False\n",
    "FLAT=False\n",
    "\n",
    "X_train, X_test, y_train, y_test = train_test_split(\n",
    "    X.reshape(X.shape[0],10,-1), y_true, test_size=0.2, random_state=42)\n",
    "X_train, X_val, y_train, y_val = train_test_split(\n",
    "    X_train, y_train, test_size=0.25, random_state=42)\n",
    "\n",
    "# use 1 second as  samples\n",
    "# X_train=X_train.reshape(-1,np.prod(X.shape[2:]))\n",
    "# X_test=X_test.reshape(-1,np.prod(X.shape[2:]))\n",
    "# X_val=X_val.reshape(-1,np.prod(X.shape[2:]))\n",
    "\n",
    "# repeat labels\n",
    "# y_train=np.repeat(y_train,10)\n",
    "# y_test=np.repeat(y_test,10)\n",
    "# y_val=np.repeat(y_val,10)\n",
    "\n",
    "\n"
   ]
  },
  {
   "cell_type": "code",
   "execution_count": 177,
   "metadata": {},
   "outputs": [
    {
     "data": {
      "text/plain": [
       "(2000, 128, 850)"
      ]
     },
     "execution_count": 177,
     "metadata": {},
     "output_type": "execute_result"
    }
   ],
   "source": [
    "XMel.shape"
   ]
  },
  {
   "cell_type": "code",
   "execution_count": 178,
   "metadata": {},
   "outputs": [],
   "source": [
    "# CNN-2  \n",
    "\n",
    "# seperate,  \n",
    "# different AUC calculation PART, to be fair  (do max of 10 predictions)\n",
    "MULTI_SEGMENT = False\n",
    "FLAT=False\n",
    "\n",
    "X_train, X_test, y_train, y_test = train_test_split(\n",
    "    XMel.reshape(XMel.shape[0],1,XMel.shape[1],XMel.shape[2]), y_true_aug, test_size=0.2, random_state=42)\n",
    "X_train, X_val, y_train, y_val = train_test_split(\n",
    "    X_train, y_train, test_size=0.25, random_state=42)\n",
    "\n",
    "## if MULTI_SEGMENT\n",
    "# use 1 second as  samples\n",
    "# X_train=X_train.reshape(-1,np.prod(X.shape[2:]))\n",
    "# X_test=X_test.reshape(-1,np.prod(X.shape[2:]))\n",
    "# X_val=X_val.reshape(-1,np.prod(X.shape[2:]))\n",
    "\n",
    "# repeat labels\n",
    "# y_train=np.repeat(y_train,10)\n",
    "# y_test=np.repeat(y_test,10)\n",
    "# y_val=np.repeat(y_val,10)\n",
    "\n",
    "\n"
   ]
  },
  {
   "cell_type": "code",
   "execution_count": 179,
   "metadata": {},
   "outputs": [
    {
     "data": {
      "text/plain": [
       "((1300, 10, 44100), (1300,))"
      ]
     },
     "execution_count": 179,
     "metadata": {},
     "output_type": "execute_result"
    }
   ],
   "source": [
    "X.shape,y_true.shape"
   ]
  },
  {
   "cell_type": "code",
   "execution_count": 180,
   "metadata": {},
   "outputs": [
    {
     "data": {
      "text/plain": [
       "(1200, 1, 128, 850)"
      ]
     },
     "execution_count": 180,
     "metadata": {},
     "output_type": "execute_result"
    }
   ],
   "source": [
    "X_train.shape"
   ]
  },
  {
   "cell_type": "code",
   "execution_count": 159,
   "metadata": {},
   "outputs": [],
   "source": [
    "X2=X[:]\n",
    "y_true2=y_true[:]\n",
    "count=0\n",
    "select=[]\n",
    "for i,m in enumerate(y_true):\n",
    "    if m==0 and count<300:\n",
    "        count+=1\n",
    "        select.append(i)\n",
    "    if m==1:\n",
    "        select.append(i)\n",
    "\n",
    "X2=X2[select]\n",
    "y_true2=y_true2[select]"
   ]
  },
  {
   "cell_type": "code",
   "execution_count": 158,
   "metadata": {},
   "outputs": [
    {
     "data": {
      "text/plain": [
       "(496, 128, 850)"
      ]
     },
     "execution_count": 158,
     "metadata": {},
     "output_type": "execute_result"
    }
   ],
   "source": []
  },
  {
   "cell_type": "code",
   "execution_count": 153,
   "metadata": {},
   "outputs": [],
   "source": [
    "# CNN, Multi segment\n",
    "\n",
    "# seperate,  \n",
    "# different AUC calculation PART, to be fair  (do max of 10 predictions)\n",
    "MULTI_SEGMENT = True\n",
    "FLAT=False\n",
    "\n",
    "X_train, X_test, y_train, y_test = train_test_split(\n",
    "    X.reshape(X.shape[0],X.shape[1],1,X.shape[2],X.shape[3]), y_true, test_size=0.2, random_state=42)\n",
    "X_train, X_val, y_train, y_val = train_test_split(\n",
    "    X_train, y_train, test_size=0.25, random_state=42)\n",
    "\n",
    "## if MULTI_SEGMENT\n",
    "# use 1 second as  samples\n",
    "X_train=X_train.reshape(*[X_train.shape[0]*X_train.shape[1]]+list(X_train.shape[2:]))\n",
    "X_test=X_test.reshape(*[X_test.shape[0]*X_test.shape[1]]+list(X_test.shape[2:]))\n",
    "X_val=X_val.reshape(*[X_val.shape[0]*X_val.shape[1]]+list(X_val.shape[2:]))\n",
    "\n",
    "\n",
    "\n",
    "# repeat labels\n",
    "y_train=np.repeat(y_train,10)\n",
    "y_test=np.repeat(y_test,10)\n",
    "y_val=np.repeat(y_val,10)\n",
    "\n",
    "\n"
   ]
  },
  {
   "cell_type": "code",
   "execution_count": 117,
   "metadata": {},
   "outputs": [
    {
     "data": {
      "text/plain": [
       "((780, 1, 128, 850), (1300, 128, 850))"
      ]
     },
     "execution_count": 117,
     "metadata": {},
     "output_type": "execute_result"
    }
   ],
   "source": [
    "X_train.shape,X.shape"
   ]
  },
  {
   "cell_type": "code",
   "execution_count": 242,
   "metadata": {},
   "outputs": [],
   "source": [
    "\n",
    "XALL=X.reshape(*[X.shape[0]*X.shape[1],1]+list(X.shape[2:]))\n",
    "y_trueALL=np.repeat(y_true,10)\n",
    "XALL=torch.from_numpy(XALL).to(device)\n",
    "# birds\n",
    "\n",
    "y_trueALL=torch.from_numpy(y_trueALL).to(device)"
   ]
  },
  {
   "cell_type": "code",
   "execution_count": 241,
   "metadata": {},
   "outputs": [
    {
     "data": {
      "text/plain": [
       "(13000, 1, 96, 64)"
      ]
     },
     "execution_count": 241,
     "metadata": {},
     "output_type": "execute_result"
    }
   ],
   "source": []
  },
  {
   "cell_type": "code",
   "execution_count": 239,
   "metadata": {},
   "outputs": [
    {
     "data": {
      "text/plain": [
       "torch.Size([13000, 96, 64])"
      ]
     },
     "execution_count": 239,
     "metadata": {},
     "output_type": "execute_result"
    }
   ],
   "source": [
    "XALL.shape"
   ]
  },
  {
   "cell_type": "code",
   "execution_count": 16,
   "metadata": {},
   "outputs": [],
   "source": [
    "# X_train.reshape((X_train.shape[0],96,64))\n",
    "# X_train.reshape(X_train.shape[0],X_train.shape[1]*X_train.shape[2],X_train.shape[3]).shape"
   ]
  },
  {
   "cell_type": "code",
   "execution_count": 17,
   "metadata": {},
   "outputs": [],
   "source": [
    "# np.concatenate(X_train[0,:,:,:],axis=0).shape"
   ]
  },
  {
   "cell_type": "code",
   "execution_count": 55,
   "metadata": {},
   "outputs": [
    {
     "data": {
      "text/plain": [
       "((1300, 10, 96, 64), torch.Size([780, 1, 10, 96, 64]), torch.Size([780]))"
      ]
     },
     "execution_count": 55,
     "metadata": {},
     "output_type": "execute_result"
    }
   ],
   "source": [
    "X.shape,X_train.shape,y_train.shape"
   ]
  },
  {
   "cell_type": "markdown",
   "metadata": {},
   "source": [
    "### From here, run all cells: moving data to device, model creation and training"
   ]
  },
  {
   "cell_type": "code",
   "execution_count": 183,
   "metadata": {},
   "outputs": [],
   "source": [
    "X_train=torch.from_numpy(X_train).to(device)\n",
    "X_test=torch.from_numpy(X_test).to(device)\n",
    "X_val=torch.from_numpy(X_val).to(device)\n",
    "# birds\n",
    "\n",
    "y_val=torch.from_numpy(y_val).to(device)\n",
    "y_test=torch.from_numpy(y_test).to(device)\n",
    "y_train=torch.from_numpy(y_train).to(device)\n",
    "\n",
    "\n",
    "    \n",
    "params = {'batch_size': 100,\n",
    "          'shuffle': True,\n",
    "          'num_workers': 0}\n",
    "\n",
    "training_set=audioDataset(X_train,y_train)\n",
    "training_generator = DataLoader(training_set, **params)\n",
    "\n",
    "\n",
    "\n"
   ]
  },
  {
   "cell_type": "code",
   "execution_count": null,
   "metadata": {},
   "outputs": [],
   "source": []
  },
  {
   "cell_type": "code",
   "execution_count": 62,
   "metadata": {},
   "outputs": [],
   "source": [
    "# class LSTMNet(nn.Module):\n",
    "\n",
    "#     def __init__(self, input_size, hidden_size, tagset_size):\n",
    "#         super(LSTMNet, self).__init__()\n",
    "#         self.hidden_size = hidden_size\n",
    "\n",
    "# #         self.word_embeddings = nn.Embedding(vocab_size, embedding_dim)\n",
    "\n",
    "#         # The LSTM takes word embeddings as inputs, and outputs hidden states\n",
    "#         # with dimensionality hidden_dim.\n",
    "#         self.lstm = nn.LSTM(input_size, hidden_size,batch_first=True,num_layers=1)\n",
    "\n",
    "#         # The linear layer that maps from hidden state space to tag space\n",
    "#         self.linearLayer= nn.Linear(10*hidden_size, 64)\n",
    "#         self.linearLayer2= nn.Linear(64,64)\n",
    "#         self.hidden2tag = nn.Linear(64, tagset_size)\n",
    "\n",
    "#     def forward(self, sentence):\n",
    "# #         embeds = self.word_embeddings(sentence)\n",
    "\n",
    "# #seq_len, batch, input_size\n",
    "# #(batch, seq, feature).\n",
    "#         lstm_out, _ = self.lstm(sentence)\n",
    "# #         print(lstm_out.shape)\n",
    "#         tag_space= F.relu(self.linearLayer(lstm_out.reshape(len(sentence), -1)))\n",
    "#         tag_space= F.relu(self.linearLayer2(tag_space)\n",
    "\n",
    "#         tag_space = (self.hidden2tag(tag_space))\n",
    "#         tag_scores = F.log_softmax(tag_space, dim=1)\n",
    "#         return tag_scores\n",
    "    \n",
    "    \n",
    "# tagset_size=2\n",
    "# input_size=X_train.shape[-1]\n",
    "# HIDDEN_DIM=512\n",
    "# net = LSTMNet(input_size, HIDDEN_DIM, tagset_size).float().to(device)\n",
    "\n",
    "# # net = Net().double().to(device)\n",
    "# loss_values={\"test\":[],\"train\":[],\"train_auc\":[],\"test_auc\":[]}\n",
    "\n"
   ]
  },
  {
   "cell_type": "code",
   "execution_count": null,
   "metadata": {},
   "outputs": [],
   "source": []
  },
  {
   "cell_type": "code",
   "execution_count": null,
   "metadata": {},
   "outputs": [],
   "source": []
  },
  {
   "cell_type": "code",
   "execution_count": 76,
   "metadata": {},
   "outputs": [],
   "source": [
    "# best_model.eval()\n",
    "# y_pred=best_model(X_train)\n",
    "# for i in range(len(y_train)):\n",
    "#     print(torch.exp(y_pred[i:i+1]),y_train[i:i+1])"
   ]
  },
  {
   "cell_type": "code",
   "execution_count": 77,
   "metadata": {},
   "outputs": [],
   "source": [
    "# best_model.eval()\n",
    "# y_pred=best_model(X_train[0:2])\n",
    "\n",
    "# torch.max(y_pred, 1)[1]"
   ]
  },
  {
   "cell_type": "code",
   "execution_count": 78,
   "metadata": {},
   "outputs": [],
   "source": [
    "# criterion(np.array(1),np.array(1))"
   ]
  },
  {
   "cell_type": "code",
   "execution_count": 79,
   "metadata": {},
   "outputs": [
    {
     "data": {
      "text/plain": [
       "torch.Size([80, 1, 960, 64])"
      ]
     },
     "execution_count": 79,
     "metadata": {},
     "output_type": "execute_result"
    }
   ],
   "source": [
    "inputs.shape"
   ]
  },
  {
   "cell_type": "code",
   "execution_count": 96,
   "metadata": {},
   "outputs": [],
   "source": [
    "torch.cuda.empty_cache()"
   ]
  },
  {
   "cell_type": "code",
   "execution_count": null,
   "metadata": {},
   "outputs": [],
   "source": []
  },
  {
   "cell_type": "code",
   "execution_count": 112,
   "metadata": {},
   "outputs": [],
   "source": [
    "# class CNN_LSTMNet(nn.Module):\n",
    "\n",
    "#     def __init__(self, input_size, hidden_size, tagset_size,out_channels):\n",
    "#         super(CNN_LSTMNet, self).__init__()\n",
    "        \n",
    "    \n",
    "#         self.out_channels=out_channels\n",
    "#         self.conv1 = nn.Conv2d(in_channels=1, out_channels=self.out_channels, kernel_size=(3,3),padding=(1, 1))\n",
    "#         self.pool = nn.MaxPool2d(2, 2)\n",
    "        \n",
    "        \n",
    "#         self.hidden_size = hidden_size\n",
    "\n",
    "# #         self.word_embeddings = nn.Embedding(vocab_size, embedding_dim)\n",
    "\n",
    "#         # The LSTM takes word embeddings as inputs, and outputs hidden states\n",
    "#         # with dimensionality hidden_dim.\n",
    "#         self.lstm = nn.LSTM(input_size, hidden_size,batch_first=True,num_layers=1)\n",
    "\n",
    "#         # The linear layer that maps from hidden state space to tag space\n",
    "#         self.linearLayer= nn.Linear(10*hidden_size, 64)\n",
    "#         self.linearLayer2= nn.Linear(64,64)\n",
    "#         self.hidden2tag = nn.Linear(64, tagset_size)\n",
    "#         self.drop = nn.Dropout(p=0.4) #0.2\n",
    "#     def forward(self, sentence):\n",
    "# #         embeds = self.word_embeddings(sentence)\n",
    "\n",
    "# #seq_len, batch, input_size\n",
    "# #(batch, seq, feature).\n",
    "#         xx=[]\n",
    "# #         print(sentence.shape)\n",
    "#         for i in range(10):\n",
    "#             s=sentence[:,:,i,:,:]\n",
    "#             x=self.conv1(s)\n",
    "#     #         print(x.shape)\n",
    "#             x=self.pool(x)\n",
    "#     #         print(x.shape)\n",
    "\n",
    "#             x=self.drop(x)\n",
    "#             xx.append(x)\n",
    "# #             print(x.shape)\n",
    "#         sentence=torch.cat(xx,axis=1)\n",
    "#         shapeS=sentence.shape\n",
    "# #         print(shapeS)\n",
    "#         shapeNew=shapeS[0],10,np.prod([ self.out_channels,*shapeS[2:]])\n",
    "#         sentence=sentence.view(shapeNew)\n",
    "# #         print(sentence.shape)\n",
    "#         lstm_out, _ = self.lstm(sentence)\n",
    "# #         print(lstm_out.shape)\n",
    "#         tag_space= F.relu(self.linearLayer(lstm_out.reshape(len(sentence), -1)))\n",
    "#         tag_space= F.relu(self.linearLayer2(tag_space))\n",
    "#         tag_space = (self.hidden2tag(tag_space))\n",
    "#         tag_scores = F.log_softmax(tag_space, dim=1)\n",
    "#         return tag_scores\n",
    "    \n",
    "# out_channels=2\n",
    "# tagset_size=2\n",
    "# input_size=3072\n",
    "# HIDDEN_DIM=16\n",
    "# net = CNN_LSTMNet(input_size, HIDDEN_DIM, tagset_size,out_channels).float().to(device)\n",
    "\n",
    "# # net = Net().double().to(device)\n",
    "# loss_values={\"test\":[],\"train\":[],\"train_auc\":[],\"test_auc\":[]}\n",
    "\n"
   ]
  },
  {
   "cell_type": "code",
   "execution_count": 184,
   "metadata": {},
   "outputs": [],
   "source": [
    "\"\"\"\n",
    "Utility function for computing output of convolutions\n",
    "takes a tuple of (h,w) and returns a tuple of (h,w)\n",
    "\"\"\"\n",
    "def conv_output_shape(h_w, kernel_size=1, stride=1, pad=0, dilation=1):\n",
    "    from math import floor\n",
    "    if type(kernel_size) is not tuple:\n",
    "        kernel_size = (kernel_size, kernel_size)\n",
    "    h = floor( ((h_w[0] + (2 * pad) - ( dilation * (kernel_size[0] - 1) ) - 1 )/ stride) + 1)\n",
    "    w = floor( ((h_w[1] + (2 * pad) - ( dilation * (kernel_size[1] - 1) ) - 1 )/ stride) + 1)\n",
    "    return h, w"
   ]
  },
  {
   "cell_type": "code",
   "execution_count": 120,
   "metadata": {},
   "outputs": [
    {
     "data": {
      "text/plain": [
       "24"
      ]
     },
     "execution_count": 120,
     "metadata": {},
     "output_type": "execute_result"
    }
   ],
   "source": [
    "49//2"
   ]
  },
  {
   "cell_type": "code",
   "execution_count": 185,
   "metadata": {},
   "outputs": [],
   "source": [
    "\n",
    "\n",
    "class Net(nn.Module):\n",
    "    def __init__(self,out_channels,out_channels2,h_w,kernel_size,kernel_size2):\n",
    "        super(Net, self).__init__()\n",
    "        self.out_channels=out_channels\n",
    "        self.out_channels2=out_channels2\n",
    "        self.conv1 = nn.Conv2d(in_channels=1, out_channels=self.out_channels, kernel_size=kernel_size,padding=(1, 1))\n",
    "        self.pool = nn.MaxPool2d(2, 2)\n",
    "        self.conv1_h,self.conv1_w = conv_output_shape(h_w, kernel_size=kernel_size, pad=1)\n",
    "        self.conv1_h,self.conv1_w=self.conv1_h//2,self.conv1_w//2\n",
    "        \n",
    "        self.conv2 = nn.Conv2d(in_channels=self.out_channels, out_channels=self.out_channels2, kernel_size=kernel_size2,padding=(1, 1))\n",
    "        self.pool = nn.MaxPool2d(2, 2)\n",
    "        self.conv2_h,self.conv2_w = conv_output_shape([self.conv1_h,self.conv1_w], kernel_size=kernel_size2, pad=1)\n",
    "        self.conv2_h,self.conv2_w=self.conv2_h//2,self.conv2_w//2\n",
    "        \n",
    "#         print(self.conv1_h,self.conv1_w)\n",
    "# #         self.conv2 = nn.Conv2d(6, 16, 5)\n",
    "        if FLAT:\n",
    "            self.fc1 = nn.Linear(1280, 10) #100\n",
    "        else:\n",
    "            self.fc1 = nn.Linear(self.out_channels2*self.conv2_h*self.conv2_w, 10) #100\n",
    "#         self.fc1 = nn.Linear(128, 32)\n",
    "        torch.nn.init.xavier_normal_(self.fc1.weight)\n",
    "        self.fc1_bn = nn.BatchNorm1d(10) # 100\n",
    "\n",
    "        self.fc2 = nn.Linear(10, 10) # 32\n",
    "        torch.nn.init.xavier_normal_(self.fc2.weight)\n",
    "        self.fc2_bn = nn.BatchNorm1d(10)\n",
    "\n",
    "        self.fc3 = nn.Linear(10,10)\n",
    "        torch.nn.init.xavier_normal_(self.fc3.weight)\n",
    "        self.fc3_bn = nn.BatchNorm1d(5)\n",
    "\n",
    "        self.fc4 = nn.Linear(10, 2) #100\n",
    "        torch.nn.init.xavier_normal_(self.fc4.weight)\n",
    "\n",
    "        self.drop = nn.Dropout(p=0.4) #0.2\n",
    " \n",
    "    def forward(self, x):\n",
    "        x = self.pool(F.relu(self.conv1(x)))\n",
    "        x=self.drop(x)\n",
    "        x = self.pool(F.relu(self.conv2(x)))\n",
    "        x=self.drop(x)\n",
    "\n",
    "        x = x.view(-1, self.out_channels2*self.conv2_h*self.conv2_w)\n",
    "\n",
    "        x = F.relu(self.fc1_bn(self.fc1(x)))\n",
    "        x=self.drop(x)\n",
    "\n",
    "        x = self.fc4(x)\n",
    "        x = F.log_softmax(x,dim=1)\n",
    "        return x\n",
    "\n",
    "h_w=[128,850]\n",
    "kernel_size=(3,3)\n",
    "net = Net(2,2,h_w,kernel_size,kernel_size).float().to(device)\n",
    "loss_values={\"test\":[],\"train\":[],\"train_auc\":[],\"test_auc\":[]}\n",
    "\n"
   ]
  },
  {
   "cell_type": "code",
   "execution_count": 281,
   "metadata": {},
   "outputs": [],
   "source": [
    "\n",
    "\n",
    "class Net(nn.Module):\n",
    "    def __init__(self,out_channels,h_w,kernel_size):\n",
    "        super(Net, self).__init__()\n",
    "        self.out_channels=out_channels\n",
    "        self.conv1 = nn.Conv2d(in_channels=1, out_channels=self.out_channels, kernel_size=kernel_size,padding=(1, 1))\n",
    "        self.pool = nn.MaxPool2d(2, 2)\n",
    "        self.conv1_h,self.conv1_w = conv_output_shape(h_w, kernel_size=kernel_size, pad=1)\n",
    "        self.conv1_h,self.conv1_w=self.conv1_h//2,self.conv1_w//2\n",
    "#         print(self.conv1_h,self.conv1_w)\n",
    "# #         self.conv2 = nn.Conv2d(6, 16, 5)\n",
    "        if FLAT:\n",
    "            self.fc1 = nn.Linear(1280, 10) #100\n",
    "        else:\n",
    "            self.fc1 = nn.Linear(self.out_channels*self.conv1_h*self.conv1_w, 10) #100\n",
    "#         self.fc1 = nn.Linear(128, 32)\n",
    "        torch.nn.init.xavier_normal_(self.fc1.weight)\n",
    "        self.fc1_bn = nn.BatchNorm1d(10) # 100\n",
    "\n",
    "        self.fc2 = nn.Linear(10, 10) # 32\n",
    "        torch.nn.init.xavier_normal_(self.fc2.weight)\n",
    "        self.fc2_bn = nn.BatchNorm1d(10)\n",
    "\n",
    "        self.fc3 = nn.Linear(10,10)\n",
    "        torch.nn.init.xavier_normal_(self.fc3.weight)\n",
    "        self.fc3_bn = nn.BatchNorm1d(5)\n",
    "\n",
    "        self.fc4 = nn.Linear(10, 2) #100\n",
    "        torch.nn.init.xavier_normal_(self.fc4.weight)\n",
    "\n",
    "        self.drop = nn.Dropout(p=0.4) #0.2\n",
    " \n",
    "    def forward(self, x):\n",
    "        x = self.pool(F.relu(self.conv1(x)))\n",
    "#         x = self.pool(F.relu(self.conv2(x)))\n",
    "        x=self.drop(x)\n",
    "\n",
    "        x = x.view(-1, self.out_channels*self.conv1_h*self.conv1_w)\n",
    "\n",
    "        x = F.relu(self.fc1_bn(self.fc1(x)))\n",
    "        x=self.drop(x)\n",
    "\n",
    "        x = self.fc4(x)\n",
    "        x = F.log_softmax(x,dim=1)\n",
    "        return x\n",
    "\n",
    "h_w=[128,850]\n",
    "kernel_size=(12,12)\n",
    "net = Net(2,h_w,kernel_size).float().to(device)\n",
    "loss_values={\"test\":[],\"train\":[],\"train_auc\":[],\"test_auc\":[]}\n",
    "\n"
   ]
  },
  {
   "cell_type": "code",
   "execution_count": 282,
   "metadata": {},
   "outputs": [],
   "source": [
    "# X.shape"
   ]
  },
  {
   "cell_type": "code",
   "execution_count": 186,
   "metadata": {
    "scrolled": true
   },
   "outputs": [
    {
     "name": "stdout",
     "output_type": "stream",
     "text": [
      "[0] test : 1.300 train: 1.219  test auc0.538  train auc0.516\n",
      "[20] test : 0.764 train: 0.736  test auc0.668  train auc0.679\n",
      "[40] test : 0.453 train: 0.282  test auc0.908  train auc0.999\n",
      "[60] test : 0.375 train: 0.115  test auc0.919  train auc1.000\n",
      "[80] test : 0.340 train: 0.035  test auc0.929  train auc1.000\n",
      "[100] test : 0.358 train: 0.028  test auc0.922  train auc1.000\n",
      "[120] test : 0.351 train: 0.017  test auc0.931  train auc1.000\n",
      "[140] test : 0.397 train: 0.034  test auc0.915  train auc1.000\n",
      "[160] test : 0.383 train: 0.006  test auc0.928  train auc1.000\n",
      "[180] test : 0.371 train: 0.007  test auc0.933  train auc1.000\n",
      "[200] test : 0.347 train: 0.008  test auc0.935  train auc1.000\n",
      "[220] test : 0.365 train: 0.006  test auc0.939  train auc1.000\n",
      "[240] test : 0.407 train: 0.003  test auc0.939  train auc1.000\n",
      "[260] test : 0.389 train: 0.004  test auc0.932  train auc1.000\n",
      "[280] test : 0.363 train: 0.009  test auc0.931  train auc1.000\n",
      "[300] test : 0.384 train: 0.003  test auc0.944  train auc1.000\n",
      "[320] test : 0.374 train: 0.005  test auc0.933  train auc1.000\n",
      "[340] test : 0.380 train: 0.006  test auc0.941  train auc1.000\n",
      "[360] test : 0.374 train: 0.002  test auc0.944  train auc1.000\n",
      "[380] test : 0.396 train: 0.003  test auc0.943  train auc1.000\n",
      "[400] test : 0.356 train: 0.002  test auc0.946  train auc1.000\n",
      "[420] test : 0.361 train: 0.004  test auc0.945  train auc1.000\n",
      "[440] test : 0.386 train: 0.002  test auc0.943  train auc1.000\n"
     ]
    },
    {
     "ename": "KeyboardInterrupt",
     "evalue": "",
     "output_type": "error",
     "traceback": [
      "\u001b[0;31m---------------------------------------------------------------------------\u001b[0m",
      "\u001b[0;31mKeyboardInterrupt\u001b[0m                         Traceback (most recent call last)",
      "\u001b[0;32m<ipython-input-186-2cde37fa0718>\u001b[0m in \u001b[0;36m<module>\u001b[0;34m\u001b[0m\n\u001b[1;32m     25\u001b[0m         \u001b[0;31m# forward + backward + optimize\u001b[0m\u001b[0;34m\u001b[0m\u001b[0;34m\u001b[0m\u001b[0;34m\u001b[0m\u001b[0m\n\u001b[1;32m     26\u001b[0m \u001b[0;31m#         print(inputs.shape)\u001b[0m\u001b[0;34m\u001b[0m\u001b[0;34m\u001b[0m\u001b[0;34m\u001b[0m\u001b[0m\n\u001b[0;32m---> 27\u001b[0;31m         \u001b[0moutputs\u001b[0m \u001b[0;34m=\u001b[0m \u001b[0mnet\u001b[0m\u001b[0;34m(\u001b[0m\u001b[0minputs\u001b[0m\u001b[0;34m)\u001b[0m\u001b[0;34m\u001b[0m\u001b[0;34m\u001b[0m\u001b[0m\n\u001b[0m\u001b[1;32m     28\u001b[0m         \u001b[0mloss\u001b[0m \u001b[0;34m=\u001b[0m \u001b[0mcriterion\u001b[0m\u001b[0;34m(\u001b[0m\u001b[0moutputs\u001b[0m\u001b[0;34m,\u001b[0m \u001b[0mlabels\u001b[0m\u001b[0;34m)\u001b[0m\u001b[0;34m\u001b[0m\u001b[0;34m\u001b[0m\u001b[0m\n\u001b[1;32m     29\u001b[0m \u001b[0;34m\u001b[0m\u001b[0m\n",
      "\u001b[0;32m/scratch/enis/conda/envs/speechEnv/lib/python3.7/site-packages/torch/nn/modules/module.py\u001b[0m in \u001b[0;36m__call__\u001b[0;34m(self, *input, **kwargs)\u001b[0m\n\u001b[1;32m    539\u001b[0m             \u001b[0mresult\u001b[0m \u001b[0;34m=\u001b[0m \u001b[0mself\u001b[0m\u001b[0;34m.\u001b[0m\u001b[0m_slow_forward\u001b[0m\u001b[0;34m(\u001b[0m\u001b[0;34m*\u001b[0m\u001b[0minput\u001b[0m\u001b[0;34m,\u001b[0m \u001b[0;34m**\u001b[0m\u001b[0mkwargs\u001b[0m\u001b[0;34m)\u001b[0m\u001b[0;34m\u001b[0m\u001b[0;34m\u001b[0m\u001b[0m\n\u001b[1;32m    540\u001b[0m         \u001b[0;32melse\u001b[0m\u001b[0;34m:\u001b[0m\u001b[0;34m\u001b[0m\u001b[0;34m\u001b[0m\u001b[0m\n\u001b[0;32m--> 541\u001b[0;31m             \u001b[0mresult\u001b[0m \u001b[0;34m=\u001b[0m \u001b[0mself\u001b[0m\u001b[0;34m.\u001b[0m\u001b[0mforward\u001b[0m\u001b[0;34m(\u001b[0m\u001b[0;34m*\u001b[0m\u001b[0minput\u001b[0m\u001b[0;34m,\u001b[0m \u001b[0;34m**\u001b[0m\u001b[0mkwargs\u001b[0m\u001b[0;34m)\u001b[0m\u001b[0;34m\u001b[0m\u001b[0;34m\u001b[0m\u001b[0m\n\u001b[0m\u001b[1;32m    542\u001b[0m         \u001b[0;32mfor\u001b[0m \u001b[0mhook\u001b[0m \u001b[0;32min\u001b[0m \u001b[0mself\u001b[0m\u001b[0;34m.\u001b[0m\u001b[0m_forward_hooks\u001b[0m\u001b[0;34m.\u001b[0m\u001b[0mvalues\u001b[0m\u001b[0;34m(\u001b[0m\u001b[0;34m)\u001b[0m\u001b[0;34m:\u001b[0m\u001b[0;34m\u001b[0m\u001b[0;34m\u001b[0m\u001b[0m\n\u001b[1;32m    543\u001b[0m             \u001b[0mhook_result\u001b[0m \u001b[0;34m=\u001b[0m \u001b[0mhook\u001b[0m\u001b[0;34m(\u001b[0m\u001b[0mself\u001b[0m\u001b[0;34m,\u001b[0m \u001b[0minput\u001b[0m\u001b[0;34m,\u001b[0m \u001b[0mresult\u001b[0m\u001b[0;34m)\u001b[0m\u001b[0;34m\u001b[0m\u001b[0;34m\u001b[0m\u001b[0m\n",
      "\u001b[0;32m<ipython-input-185-e3f28d4be5eb>\u001b[0m in \u001b[0;36mforward\u001b[0;34m(self, x)\u001b[0m\n\u001b[1;32m     38\u001b[0m \u001b[0;34m\u001b[0m\u001b[0m\n\u001b[1;32m     39\u001b[0m     \u001b[0;32mdef\u001b[0m \u001b[0mforward\u001b[0m\u001b[0;34m(\u001b[0m\u001b[0mself\u001b[0m\u001b[0;34m,\u001b[0m \u001b[0mx\u001b[0m\u001b[0;34m)\u001b[0m\u001b[0;34m:\u001b[0m\u001b[0;34m\u001b[0m\u001b[0;34m\u001b[0m\u001b[0m\n\u001b[0;32m---> 40\u001b[0;31m         \u001b[0mx\u001b[0m \u001b[0;34m=\u001b[0m \u001b[0mself\u001b[0m\u001b[0;34m.\u001b[0m\u001b[0mpool\u001b[0m\u001b[0;34m(\u001b[0m\u001b[0mF\u001b[0m\u001b[0;34m.\u001b[0m\u001b[0mrelu\u001b[0m\u001b[0;34m(\u001b[0m\u001b[0mself\u001b[0m\u001b[0;34m.\u001b[0m\u001b[0mconv1\u001b[0m\u001b[0;34m(\u001b[0m\u001b[0mx\u001b[0m\u001b[0;34m)\u001b[0m\u001b[0;34m)\u001b[0m\u001b[0;34m)\u001b[0m\u001b[0;34m\u001b[0m\u001b[0;34m\u001b[0m\u001b[0m\n\u001b[0m\u001b[1;32m     41\u001b[0m         \u001b[0mx\u001b[0m\u001b[0;34m=\u001b[0m\u001b[0mself\u001b[0m\u001b[0;34m.\u001b[0m\u001b[0mdrop\u001b[0m\u001b[0;34m(\u001b[0m\u001b[0mx\u001b[0m\u001b[0;34m)\u001b[0m\u001b[0;34m\u001b[0m\u001b[0;34m\u001b[0m\u001b[0m\n\u001b[1;32m     42\u001b[0m         \u001b[0mx\u001b[0m \u001b[0;34m=\u001b[0m \u001b[0mself\u001b[0m\u001b[0;34m.\u001b[0m\u001b[0mpool\u001b[0m\u001b[0;34m(\u001b[0m\u001b[0mF\u001b[0m\u001b[0;34m.\u001b[0m\u001b[0mrelu\u001b[0m\u001b[0;34m(\u001b[0m\u001b[0mself\u001b[0m\u001b[0;34m.\u001b[0m\u001b[0mconv2\u001b[0m\u001b[0;34m(\u001b[0m\u001b[0mx\u001b[0m\u001b[0;34m)\u001b[0m\u001b[0;34m)\u001b[0m\u001b[0;34m)\u001b[0m\u001b[0;34m\u001b[0m\u001b[0;34m\u001b[0m\u001b[0m\n",
      "\u001b[0;32m/scratch/enis/conda/envs/speechEnv/lib/python3.7/site-packages/torch/nn/modules/module.py\u001b[0m in \u001b[0;36m__call__\u001b[0;34m(self, *input, **kwargs)\u001b[0m\n\u001b[1;32m    539\u001b[0m             \u001b[0mresult\u001b[0m \u001b[0;34m=\u001b[0m \u001b[0mself\u001b[0m\u001b[0;34m.\u001b[0m\u001b[0m_slow_forward\u001b[0m\u001b[0;34m(\u001b[0m\u001b[0;34m*\u001b[0m\u001b[0minput\u001b[0m\u001b[0;34m,\u001b[0m \u001b[0;34m**\u001b[0m\u001b[0mkwargs\u001b[0m\u001b[0;34m)\u001b[0m\u001b[0;34m\u001b[0m\u001b[0;34m\u001b[0m\u001b[0m\n\u001b[1;32m    540\u001b[0m         \u001b[0;32melse\u001b[0m\u001b[0;34m:\u001b[0m\u001b[0;34m\u001b[0m\u001b[0;34m\u001b[0m\u001b[0m\n\u001b[0;32m--> 541\u001b[0;31m             \u001b[0mresult\u001b[0m \u001b[0;34m=\u001b[0m \u001b[0mself\u001b[0m\u001b[0;34m.\u001b[0m\u001b[0mforward\u001b[0m\u001b[0;34m(\u001b[0m\u001b[0;34m*\u001b[0m\u001b[0minput\u001b[0m\u001b[0;34m,\u001b[0m \u001b[0;34m**\u001b[0m\u001b[0mkwargs\u001b[0m\u001b[0;34m)\u001b[0m\u001b[0;34m\u001b[0m\u001b[0;34m\u001b[0m\u001b[0m\n\u001b[0m\u001b[1;32m    542\u001b[0m         \u001b[0;32mfor\u001b[0m \u001b[0mhook\u001b[0m \u001b[0;32min\u001b[0m \u001b[0mself\u001b[0m\u001b[0;34m.\u001b[0m\u001b[0m_forward_hooks\u001b[0m\u001b[0;34m.\u001b[0m\u001b[0mvalues\u001b[0m\u001b[0;34m(\u001b[0m\u001b[0;34m)\u001b[0m\u001b[0;34m:\u001b[0m\u001b[0;34m\u001b[0m\u001b[0;34m\u001b[0m\u001b[0m\n\u001b[1;32m    543\u001b[0m             \u001b[0mhook_result\u001b[0m \u001b[0;34m=\u001b[0m \u001b[0mhook\u001b[0m\u001b[0;34m(\u001b[0m\u001b[0mself\u001b[0m\u001b[0;34m,\u001b[0m \u001b[0minput\u001b[0m\u001b[0;34m,\u001b[0m \u001b[0mresult\u001b[0m\u001b[0;34m)\u001b[0m\u001b[0;34m\u001b[0m\u001b[0;34m\u001b[0m\u001b[0m\n",
      "\u001b[0;32m/scratch/enis/conda/envs/speechEnv/lib/python3.7/site-packages/torch/nn/modules/conv.py\u001b[0m in \u001b[0;36mforward\u001b[0;34m(self, input)\u001b[0m\n\u001b[1;32m    343\u001b[0m \u001b[0;34m\u001b[0m\u001b[0m\n\u001b[1;32m    344\u001b[0m     \u001b[0;32mdef\u001b[0m \u001b[0mforward\u001b[0m\u001b[0;34m(\u001b[0m\u001b[0mself\u001b[0m\u001b[0;34m,\u001b[0m \u001b[0minput\u001b[0m\u001b[0;34m)\u001b[0m\u001b[0;34m:\u001b[0m\u001b[0;34m\u001b[0m\u001b[0;34m\u001b[0m\u001b[0m\n\u001b[0;32m--> 345\u001b[0;31m         \u001b[0;32mreturn\u001b[0m \u001b[0mself\u001b[0m\u001b[0;34m.\u001b[0m\u001b[0mconv2d_forward\u001b[0m\u001b[0;34m(\u001b[0m\u001b[0minput\u001b[0m\u001b[0;34m,\u001b[0m \u001b[0mself\u001b[0m\u001b[0;34m.\u001b[0m\u001b[0mweight\u001b[0m\u001b[0;34m)\u001b[0m\u001b[0;34m\u001b[0m\u001b[0;34m\u001b[0m\u001b[0m\n\u001b[0m\u001b[1;32m    346\u001b[0m \u001b[0;34m\u001b[0m\u001b[0m\n\u001b[1;32m    347\u001b[0m \u001b[0;32mclass\u001b[0m \u001b[0mConv3d\u001b[0m\u001b[0;34m(\u001b[0m\u001b[0m_ConvNd\u001b[0m\u001b[0;34m)\u001b[0m\u001b[0;34m:\u001b[0m\u001b[0;34m\u001b[0m\u001b[0;34m\u001b[0m\u001b[0m\n",
      "\u001b[0;32m/scratch/enis/conda/envs/speechEnv/lib/python3.7/site-packages/torch/nn/modules/conv.py\u001b[0m in \u001b[0;36mconv2d_forward\u001b[0;34m(self, input, weight)\u001b[0m\n\u001b[1;32m    340\u001b[0m                             _pair(0), self.dilation, self.groups)\n\u001b[1;32m    341\u001b[0m         return F.conv2d(input, weight, self.bias, self.stride,\n\u001b[0;32m--> 342\u001b[0;31m                         self.padding, self.dilation, self.groups)\n\u001b[0m\u001b[1;32m    343\u001b[0m \u001b[0;34m\u001b[0m\u001b[0m\n\u001b[1;32m    344\u001b[0m     \u001b[0;32mdef\u001b[0m \u001b[0mforward\u001b[0m\u001b[0;34m(\u001b[0m\u001b[0mself\u001b[0m\u001b[0;34m,\u001b[0m \u001b[0minput\u001b[0m\u001b[0;34m)\u001b[0m\u001b[0;34m:\u001b[0m\u001b[0;34m\u001b[0m\u001b[0;34m\u001b[0m\u001b[0m\n",
      "\u001b[0;31mKeyboardInterrupt\u001b[0m: "
     ]
    }
   ],
   "source": [
    "from IPython import display\n",
    "import time\n",
    "best_acc1=0\n",
    "import torch.optim as optim\n",
    "import copy\n",
    "\n",
    "#cross-entropy loss is sklearn one\n",
    "# criterion = nn.CrossEntropyLoss(weight=torch.tensor([1.0,5.0]).to(device))\n",
    "# criterion = nn.CrossEntropyLoss()\n",
    "\n",
    "criterion = nn.NLLLoss()\n",
    "# criterion = nn.MSELoss()\n",
    "\n",
    "optimizer = optim.AdamW(net.parameters(),weight_decay=0.001)\n",
    "\n",
    "for epoch in range(10000):  # loop over the dataset multiple times\n",
    "    running_loss = 0.0\n",
    "    for i, data in enumerate(training_generator, 0):\n",
    "        # get the inputs; data is a list of [inputs, labels]\n",
    "        inputs, labels = data\n",
    "#         print(inputs)\n",
    "        # zero the parameter gradients\n",
    "        optimizer.zero_grad()\n",
    "\n",
    "        # forward + backward + optimize\n",
    "#         print(inputs.shape)\n",
    "        outputs = net(inputs)\n",
    "        loss = criterion(outputs, labels)\n",
    "\n",
    "        loss.backward()\n",
    "        optimizer.step()\n",
    "\n",
    "        # print statistics\n",
    "#         running_loss += loss.item()\n",
    "#     if epoch % 20 == 0:    # print every 2000 mini-batches\n",
    "    net.eval()\n",
    "    test_loss,test_auc=nogradmetrics(X_val,y_val,net,multi_segment=MULTI_SEGMENT)\n",
    "    train_loss,train_auc=nogradmetrics(X_train,y_train,net,multi_segment=MULTI_SEGMENT)\n",
    "    net.train()\n",
    "    loss_values[\"test\"].append(test_loss)\n",
    "    loss_values[\"train\"].append(train_loss)\n",
    "    loss_values[\"test_auc\"].append(test_auc)\n",
    "    loss_values[\"train_auc\"].append(train_auc)\n",
    "    if epoch % 20 == 0:    # print every 2000 mini-batches\n",
    "        print('[%d] test : %.3f train: %.3f  test auc%.3f  train auc%.3f' %\n",
    "              (epoch ,test_loss, train_loss,test_auc,train_auc))\n",
    "    is_best = test_auc > best_acc1\n",
    "    best_acc1 = max(test_auc, best_acc1)\n",
    "    if is_best:\n",
    "#         print(best_acc1)\n",
    "        best_model=copy.deepcopy(net)\n",
    "    if train_auc>0.95 and train_auc-test_auc>0.25:\n",
    "        print(\"overfitting\")\n",
    "        break\n",
    "    \n",
    "#         display.clear_output(wait=True)\n",
    "#         display.display(results.plot())\n",
    "print('Finished Training',best_acc1)\n",
    "\n"
   ]
  },
  {
   "cell_type": "code",
   "execution_count": null,
   "metadata": {},
   "outputs": [],
   "source": []
  },
  {
   "cell_type": "code",
   "execution_count": 187,
   "metadata": {},
   "outputs": [
    {
     "data": {
      "text/plain": [
       "0.9511773113668848"
      ]
     },
     "execution_count": 187,
     "metadata": {},
     "output_type": "execute_result"
    }
   ],
   "source": [
    "best_acc1 \n"
   ]
  },
  {
   "cell_type": "code",
   "execution_count": null,
   "metadata": {},
   "outputs": [],
   "source": [
    "best_acc1 #  raw embeddings, 5 neurons, 0.2 dropout"
   ]
  },
  {
   "cell_type": "code",
   "execution_count": 75,
   "metadata": {},
   "outputs": [
    {
     "data": {
      "text/plain": [
       "0.7615559299685004"
      ]
     },
     "execution_count": 75,
     "metadata": {},
     "output_type": "execute_result"
    }
   ],
   "source": [
    "best_acc1 # new v2 "
   ]
  },
  {
   "cell_type": "code",
   "execution_count": 306,
   "metadata": {},
   "outputs": [
    {
     "data": {
      "text/plain": [
       "0.89744341073914"
      ]
     },
     "execution_count": 306,
     "metadata": {},
     "output_type": "execute_result"
    }
   ],
   "source": [
    "best_acc1 # old, raw embeddings, 100 neuron, 0.2 dropout"
   ]
  },
  {
   "cell_type": "code",
   "execution_count": 310,
   "metadata": {},
   "outputs": [],
   "source": [
    "# # save best model, change name accordingly, by adding validation accuracy\n",
    "# import time\n",
    "# timestr = time.strftime(\"%Y%m%d-%H%M%S\")\n",
    "\n",
    "# torch.save(best_model.state_dict(), \"../../data/models/bird_FC_089valid_\"+timestr+\".pth\")\n"
   ]
  },
  {
   "cell_type": "code",
   "execution_count": 131,
   "metadata": {},
   "outputs": [
    {
     "data": {
      "text/plain": [
       "Net(\n",
       "  (conv1): Conv2d(1, 2, kernel_size=(4, 4), stride=(1, 1), padding=(1, 1))\n",
       "  (pool): MaxPool2d(kernel_size=2, stride=2, padding=0, dilation=1, ceil_mode=False)\n",
       "  (fc1): Linear(in_features=53424, out_features=10, bias=True)\n",
       "  (fc1_bn): BatchNorm1d(10, eps=1e-05, momentum=0.1, affine=True, track_running_stats=True)\n",
       "  (fc2): Linear(in_features=10, out_features=10, bias=True)\n",
       "  (fc2_bn): BatchNorm1d(10, eps=1e-05, momentum=0.1, affine=True, track_running_stats=True)\n",
       "  (fc3): Linear(in_features=10, out_features=10, bias=True)\n",
       "  (fc3_bn): BatchNorm1d(5, eps=1e-05, momentum=0.1, affine=True, track_running_stats=True)\n",
       "  (fc4): Linear(in_features=10, out_features=2, bias=True)\n",
       "  (drop): Dropout(p=0.4, inplace=False)\n",
       ")"
      ]
     },
     "execution_count": 131,
     "metadata": {},
     "output_type": "execute_result"
    }
   ],
   "source": [
    "net"
   ]
  },
  {
   "cell_type": "code",
   "execution_count": 188,
   "metadata": {},
   "outputs": [
    {
     "data": {
      "text/plain": [
       "(<matplotlib.axes._subplots.AxesSubplot at 0x7f73ca28ef28>,\n",
       " <matplotlib.axes._subplots.AxesSubplot at 0x7f73cbc37f28>)"
      ]
     },
     "execution_count": 188,
     "metadata": {},
     "output_type": "execute_result"
    },
    {
     "data": {
      "image/png": "[encoded data removed]",
      "text/plain": [
       "<Figure size 432x288 with 1 Axes>"
      ]
     },
     "metadata": {
      "needs_background": "light"
     },
     "output_type": "display_data"
    },
    {
     "data": {
      "image/png": "[encoded data removed]",
      "text/plain": [
       "<Figure size 432x288 with 1 Axes>"
      ]
     },
     "metadata": {
      "needs_background": "light"
     },
     "output_type": "display_data"
    }
   ],
   "source": [
    "# visualize results\n",
    "results=pd.DataFrame(loss_values)\n",
    "results[[\"test\",\"train\"]].plot(),results[[\"test_auc\",\"train_auc\"]].plot(),"
   ]
  },
  {
   "cell_type": "code",
   "execution_count": 230,
   "metadata": {},
   "outputs": [
    {
     "name": "stdout",
     "output_type": "stream",
     "text": [
      "(0.44687750935554504, 0.7438541243396993)\n",
      "(0.40457794070243835, 0.762341633901267)\n"
     ]
    }
   ],
   "source": [
    "# results on test dataset, loss and AUC\n",
    "best_model.eval() \n",
    "print(nogradmetrics(X_test,y_test,best_model,multi_segment=MULTI_SEGMENT))\n",
    "print(nogradmetrics(X_val,y_val,best_model,multi_segment=MULTI_SEGMENT))\n",
    "\n",
    "best_model=best_model.train()"
   ]
  },
  {
   "cell_type": "code",
   "execution_count": 285,
   "metadata": {},
   "outputs": [],
   "source": [
    "y_pred = best_model(XALL)\n",
    "\n",
    "y_pred_10 =y_pred.reshape(-1,10,2)\n",
    "indices=torch.max(y_pred[:,1].reshape(-1,10),dim=1).indices\n",
    "y_pred_10 = y_pred_10[range(y_pred_10.shape[0]),indices,:].reshape(-1,2)\n",
    "\n",
    "y_test_10 = torch.max(y_trueALL.reshape(-1,10),dim=1).values\n",
    "\n",
    "loss = criterion(y_pred_10, y_test_10)\n",
    "y_test_10=y_test_10.cpu().detach().numpy()\n",
    "# torch.exp(y_pred_10[:,1].cpu())\n",
    "y_pred_10=torch.exp(y_pred_10[:,1]).cpu().detach().numpy()\n",
    "train_auc=roc_auc_score(y_test_10,\n",
    "                        y_pred_10) "
   ]
  },
  {
   "cell_type": "code",
   "execution_count": 286,
   "metadata": {},
   "outputs": [
    {
     "data": {
      "text/plain": [
       "0.8097363945578231"
      ]
     },
     "execution_count": 286,
     "metadata": {},
     "output_type": "execute_result"
    }
   ],
   "source": [
    "train_auc"
   ]
  },
  {
   "cell_type": "code",
   "execution_count": 268,
   "metadata": {},
   "outputs": [
    {
     "data": {
      "text/plain": [
       "(tensor([0.1898, 0.0020, 0.0172,  ..., 0.2798, 0.0657, 0.2020],\n",
       "        grad_fn=<ExpBackward>),\n",
       " tensor([0, 0], device='cuda:0'))"
      ]
     },
     "execution_count": 268,
     "metadata": {},
     "output_type": "execute_result"
    }
   ],
   "source": [
    "torch.exp(y_pred_10[:,1].cpu()),y_trueALL[:2]"
   ]
  },
  {
   "cell_type": "code",
   "execution_count": 269,
   "metadata": {},
   "outputs": [],
   "source": [
    "y_pred_10=torch.exp(y_pred_10[:,1].cpu())"
   ]
  },
  {
   "cell_type": "code",
   "execution_count": 289,
   "metadata": {},
   "outputs": [],
   "source": [
    "y_pred_10[y_pred_10>=0.5]=1\n",
    "y_pred_10[y_pred_10<0.5]=0\n"
   ]
  },
  {
   "cell_type": "code",
   "execution_count": 303,
   "metadata": {},
   "outputs": [],
   "source": [
    "fileNames=list(humanresults.keys())"
   ]
  },
  {
   "cell_type": "code",
   "execution_count": 307,
   "metadata": {},
   "outputs": [
    {
     "data": {
      "text/plain": [
       "array([1, 1, 1, 1, 1, 1, 1, 1, 1, 1, 1, 1, 1, 1, 1, 1, 1, 1, 1, 1, 1, 1,\n",
       "       1, 1, 1, 1, 1, 1, 1, 1, 1, 1, 0, 1, 1, 1, 1, 1, 1, 1, 1, 1, 1, 1,\n",
       "       1, 1, 1, 1, 1, 1, 1, 1, 1, 1, 1, 1, 1, 1, 1, 1, 1, 1, 1, 1, 1, 1,\n",
       "       1, 1, 1, 1, 1, 1, 1, 1, 1, 1, 1, 1, 1, 1, 1, 1, 1, 1, 1, 1, 1, 1,\n",
       "       1, 1, 1, 1, 1, 1, 1, 1, 1, 1, 1, 1, 1, 1, 1, 1, 1, 1, 1, 1, 1, 1,\n",
       "       1, 1, 1, 1, 1, 1, 1, 1, 1, 1, 1, 1, 1, 1, 1, 1, 1, 1, 1, 1, 1, 1,\n",
       "       1, 1, 1, 1, 1, 1, 1, 1, 1, 1, 1, 1, 1, 1, 1, 1, 1, 1, 1, 1, 1, 1,\n",
       "       1, 1, 1, 1, 1, 1, 1, 1, 1, 1, 1, 1, 1, 1, 1, 1, 1, 1, 1, 1, 1, 1,\n",
       "       1, 1, 1, 1, 1, 1, 1, 1])"
      ]
     },
     "execution_count": 307,
     "metadata": {},
     "output_type": "execute_result"
    }
   ],
   "source": [
    "y_test_10[y_test_10!=y_pred_10]"
   ]
  },
  {
   "cell_type": "code",
   "execution_count": 414,
   "metadata": {},
   "outputs": [
    {
     "data": {
      "text/plain": [
       "Text(0.5, 1.0, 'Linear-frequency power spectrogram')"
      ]
     },
     "execution_count": 414,
     "metadata": {},
     "output_type": "execute_result"
    },
    {
     "data": {
      "image/png": "[encoded data removed]",
      "text/plain": [
       "<Figure size 1152x576 with 2 Axes>"
      ]
     },
     "metadata": {
      "needs_background": "light"
     },
     "output_type": "display_data"
    }
   ],
   "source": [
    "import librosa\n",
    "import librosa.display\n",
    "import matplotlib.pyplot as plt\n",
    "plt.figure(figsize=(16, 8))\n",
    "\n",
    "# D = librosa.amplitude_to_db(np.abs(librosa.stft(y)), ref=np.max)\n",
    "# plt.subplot(4, 2, 1)\n",
    "librosa.display.specshow(X[68,0:2,:,:].reshape(-1,64).T,y_axis=\"mel\",x_axis=\"time\",sr=16000,fmax=7500,fmin=125,hop_length=160)\n",
    "plt.colorbar(format='%+2.0f dB')\n",
    "plt.title('Linear-frequency power spectrogram')"
   ]
  },
  {
   "cell_type": "code",
   "execution_count": 402,
   "metadata": {},
   "outputs": [
    {
     "data": {
      "text/plain": [
       "(1300, 10, 96, 64)"
      ]
     },
     "execution_count": 402,
     "metadata": {},
     "output_type": "execute_result"
    }
   ],
   "source": [
    "new spectrum generate to see what happens \n"
   ]
  },
  {
   "cell_type": "code",
   "execution_count": 236,
   "metadata": {},
   "outputs": [],
   "source": [
    "\n",
    "items={}\n",
    "from IPython.display import Audio,display,HTML,clear_output\n",
    "from ipywidgets import Output\n",
    "\n",
    "items[\"mp3_output\"]=Output()\n",
    "\n",
    "def play_html_modify(mp3file,items):\n",
    "    out=items[\"mp3_output\"]\n",
    "    with out:\n",
    "        clear_output()\n",
    "    displayed=display(HTML(\"<audio autoplay controls loop src={} preload=\\\"auto\\\"> </audio>\".format(mp3file)))\n"
   ]
  },
  {
   "cell_type": "code",
   "execution_count": 339,
   "metadata": {},
   "outputs": [],
   "source": [
    "nextone=0\n"
   ]
  },
  {
   "cell_type": "code",
   "execution_count": 388,
   "metadata": {},
   "outputs": [
    {
     "data": {
      "text/html": [
       "<audio autoplay controls loop src=/files/scratch/enis/data/nna/labeling/splits/CLVL4_20160617_033807_2074m_36s__2074m_46s.mp3 preload=\"auto\"> </audio>"
      ],
      "text/plain": [
       "<IPython.core.display.HTML object>"
      ]
     },
     "metadata": {},
     "output_type": "display_data"
    },
    {
     "name": "stdout",
     "output_type": "stream",
     "text": [
      "/files/scratch/enis/data/nna/labeling/splits/CLVL4_20160617_033807_2074m_36s__2074m_46s.mp3\n",
      "68\n"
     ]
    }
   ],
   "source": [
    "counter=0\n",
    "srcPath=\"/files/scratch/enis/data/nna/labeling/splits/\"\n",
    "for i,b in enumerate(y_test_10!=y_pred_10):\n",
    "    if b and y_test_10[i]==1:\n",
    "        if counter==nextone:\n",
    "            play_html_modify(srcPath+fileNames[i],items)\n",
    "            print(srcPath+fileNames[i])\n",
    "            print(i)\n",
    "            break\n",
    "        counter+=1\n",
    "        \n",
    "nextone+=1"
   ]
  },
  {
   "cell_type": "code",
   "execution_count": 279,
   "metadata": {},
   "outputs": [
    {
     "data": {
      "text/plain": [
       "tensor(1960, device='cuda:0')"
      ]
     },
     "execution_count": 279,
     "metadata": {},
     "output_type": "execute_result"
    }
   ],
   "source": [
    "sum(y_trueALL)"
   ]
  },
  {
   "cell_type": "code",
   "execution_count": null,
   "metadata": {},
   "outputs": [],
   "source": []
  },
  {
   "cell_type": "code",
   "execution_count": 243,
   "metadata": {},
   "outputs": [],
   "source": [
    "best_model=best_model.eval()\n",
    "y_predAll=best_model(XALL).reshape(-1,10,2)"
   ]
  },
  {
   "cell_type": "code",
   "execution_count": 247,
   "metadata": {},
   "outputs": [
    {
     "data": {
      "text/plain": [
       "(tensor(0, device='cuda:0'),\n",
       " tensor([-0.1779, -1.8142], device='cuda:0', grad_fn=<SelectBackward>))"
      ]
     },
     "execution_count": 247,
     "metadata": {},
     "output_type": "execute_result"
    }
   ],
   "source": [
    "y_trueALL[0],y_predAll[0]"
   ]
  },
  {
   "cell_type": "code",
   "execution_count": null,
   "metadata": {
    "collapsed": true,
    "jupyter": {
     "outputs_hidden": true
    }
   },
   "outputs": [],
   "source": [
    "test_set=audioDataset(X_test,y_test)\n",
    "test_generator = DataLoader(test_set, **params)\n"
   ]
  },
  {
   "cell_type": "markdown",
   "metadata": {},
   "source": [
    "Following linse are for comparing sklearn MLP and this model"
   ]
  },
  {
   "cell_type": "code",
   "execution_count": 189,
   "metadata": {},
   "outputs": [],
   "source": [
    "X_last=X[:]\n",
    "# X_last=X_last.reshape(X_last.shape[0],-1)\n",
    "X_last=X_last.reshape(-1,128)\n",
    "X_last_sklearn=X_last[:]\n",
    "X_last=torch.from_numpy(X_last).to(device)\n"
   ]
  },
  {
   "cell_type": "code",
   "execution_count": null,
   "metadata": {},
   "outputs": [],
   "source": [
    "X_last.shape"
   ]
  },
  {
   "cell_type": "code",
   "execution_count": 190,
   "metadata": {},
   "outputs": [
    {
     "data": {
      "text/plain": [
       "(torch.Size([1300, 2]), torch.Size([260]))"
      ]
     },
     "execution_count": 190,
     "metadata": {},
     "output_type": "execute_result"
    }
   ],
   "source": [
    "y_pred_10.shape,y_test_10.shape"
   ]
  },
  {
   "cell_type": "code",
   "execution_count": 213,
   "metadata": {},
   "outputs": [
    {
     "data": {
      "text/plain": [
       "(torch.Size([2600, 128]), torch.Size([2600]))"
      ]
     },
     "execution_count": 213,
     "metadata": {},
     "output_type": "execute_result"
    }
   ],
   "source": [
    "X_val.shape,y_val.shape"
   ]
  },
  {
   "cell_type": "code",
   "execution_count": 214,
   "metadata": {},
   "outputs": [
    {
     "name": "stdout",
     "output_type": "stream",
     "text": [
      "0.8961980807266867\n"
     ]
    }
   ],
   "source": [
    "best_model.eval()\n",
    "with torch.no_grad():    \n",
    "    \n",
    "    y_pred = best_model(X_val)\n",
    "    y_pred_10 =y_pred.reshape(-1,10,2)\n",
    "    indices=torch.max(y_pred[:,1].reshape(-1,10),dim=1).indices\n",
    "    y_pred_10 = y_pred_10[range(y_pred_10.shape[0]),indices,:].reshape(-1,2)\n",
    "\n",
    "    y_val_10 = torch.max(y_val.reshape(-1,10),dim=1).values\n",
    "\n",
    "#     loss = criterion(y_pred_10, y_true)\n",
    "\n",
    "    train_auc=roc_auc_score(y_val_10.cpu().numpy(),\n",
    "                            y_pred_10[:,1].cpu().numpy()) \n",
    "    print(train_auc)\n"
   ]
  },
  {
   "cell_type": "code",
   "execution_count": null,
   "metadata": {},
   "outputs": [],
   "source": []
  },
  {
   "cell_type": "code",
   "execution_count": 217,
   "metadata": {},
   "outputs": [],
   "source": [
    "y_pred=y_pred_10.cpu()\n",
    "y_pred=torch.exp(y_pred[:,1])\n",
    "y_pred[y_pred>=0.5]=1\n",
    "y_pred[y_pred<0.5]=0\n"
   ]
  },
  {
   "cell_type": "code",
   "execution_count": 220,
   "metadata": {},
   "outputs": [
    {
     "data": {
      "text/plain": [
       "(120, 67, 5, 68)"
      ]
     },
     "execution_count": 220,
     "metadata": {},
     "output_type": "execute_result"
    }
   ],
   "source": [
    "from sklearn.metrics import confusion_matrix\n",
    "\n",
    "tn, fp, fn, tp=confusion_matrix(y_val_10.cpu().numpy(), y_pred).ravel()\n",
    "tn, fp, fn, tp\n",
    "(164, 23, 21, 52)\n",
    "    sklearn  pytorch\n",
    "tp   52       68\n",
    "fp   23       67\n",
    "tn   164      120\n",
    "fn   21       5\n",
    "\n"
   ]
  },
  {
   "cell_type": "code",
   "execution_count": 1,
   "metadata": {},
   "outputs": [],
   "source": [
    "total=0\n",
    "for i,mm in enumerate(y_true):\n",
    "    predict= 1 if y_pred[i]>0.5 else 0 \n",
    "    if mm!=predict:\n",
    "        total+=1\n",
    "        print(humanresults_keys[i])\n",
    "print(total)"
   ]
  },
  {
   "cell_type": "markdown",
   "metadata": {},
   "source": [
    "#### compare with sklearn"
   ]
  },
  {
   "cell_type": "code",
   "execution_count": 171,
   "metadata": {},
   "outputs": [],
   "source": [
    "import pickle\n",
    "\n",
    "# and later you can load it\n",
    "with open('../Visualizations/raw_many2one_NN.pkl', 'rb') as f:\n",
    "    clf = pickle.load(f)"
   ]
  },
  {
   "cell_type": "code",
   "execution_count": 172,
   "metadata": {},
   "outputs": [],
   "source": [
    "def many2one_predict(X,clf):\n",
    "    \n",
    "    result_count=(X.shape[0]//10) if X.shape[0]%10==0 else (X.shape[0]//10)+1\n",
    "    results=np.empty(result_count)\n",
    "    for i in range(0,X.shape[0],10):\n",
    "        result10=clf.predict(X[i:i+10,:])\n",
    "        results[(i//10)] = np.max(result10)\n",
    "    return results"
   ]
  },
  {
   "cell_type": "code",
   "execution_count": 196,
   "metadata": {},
   "outputs": [
    {
     "data": {
      "text/plain": [
       "(13000, 128)"
      ]
     },
     "execution_count": 196,
     "metadata": {},
     "output_type": "execute_result"
    }
   ],
   "source": [
    "X_last_sklearn.shape"
   ]
  },
  {
   "cell_type": "code",
   "execution_count": 205,
   "metadata": {},
   "outputs": [],
   "source": [
    "#TEST\n",
    "samples=np.ones((200,128))\n",
    "y_pred_sklearn=many2one_predict(X_val.cpu().numpy(),clf['Neural Net_Songbird'])"
   ]
  },
  {
   "cell_type": "code",
   "execution_count": 221,
   "metadata": {},
   "outputs": [
    {
     "data": {
      "text/plain": [
       "(164, 23, 21, 52)"
      ]
     },
     "execution_count": 221,
     "metadata": {},
     "output_type": "execute_result"
    }
   ],
   "source": [
    "from sklearn.metrics import confusion_matrix\n",
    "\n",
    "tn, fp, fn, tp=confusion_matrix(y_val_10.cpu().numpy(), y_pred_sklearn).ravel()\n",
    "tn, fp, fn, tp"
   ]
  },
  {
   "cell_type": "code",
   "execution_count": 203,
   "metadata": {},
   "outputs": [
    {
     "name": "stdout",
     "output_type": "stream",
     "text": [
      "CLVL2_20160604_153809_1807m_40s__1807m_50s.mp3 1 0 0\n",
      "CLVL5_20160606_195535_1100m_07s__1100m_17s.mp3 1 0 0\n",
      "OCNPT_20160626_214658_0865m_02s__0865m_12s.mp3 1 0 0\n",
      "USGS_20160618_030453_1287m_34s__1287m_44s.mp3 1 0 0\n",
      "SHORTY_20160619_042858_2563m_41s__2563m_51s.mp3 1 0 0\n",
      "OCNPT3_20160615_005046_0813m_58s__0814m_08s.mp3 1 0 0\n",
      "FSHCK3_20160720_115157_1777m_41s__1777m_51s.mp3 1 0 0\n",
      "UMIRUK_20160621_083400_0515m_46s__0515m_56s.mp3 1 0 0\n",
      "FSHCK4_20160629_194935_0237m_49s__0237m_59s.mp3 1 0 0\n",
      "ITKILLIK1_20160710_091444_0974m_18s__0974m_28s.mp3 1 0 0\n",
      "CLVL2_20160715_134031_0935m_28s__0935m_38s.mp3 1 0 0\n",
      "FSHCK3_20160706_000310_2407m_12s__2407m_22s.mp3 1 0 0\n",
      "ITKILLIK2_20160626_172259_2184m_56s__2185m_06s.mp3 1 0 0\n",
      "FSHCK1_20160808_050938_0344m_36s__0344m_46s.mp3 1 0 0\n",
      "ICERD_20160824_161434_0373m_50s__0374m_00s.mp3 1 0 0\n",
      "CLVL2_20160715_134031_2759m_40s__2759m_50s.mp3 1 0 0\n",
      "USGS_20160609_201955_0289m_57s__0290m_07s.mp3 1 0 0\n",
      "CLVL4_20160701_002747_2710m_53s__2711m_03s.mp3 1 0 0\n",
      "UMIAT_20130727_224356_0077m_01s__0077m_11s.mp3 1 0 0\n",
      "CLVL5_20160626_203118_2238m_03s__2238m_13s.mp3 1 0 0\n",
      "FSHCK1_20160812_083207_2277m_38s__2277m_48s.mp3 1 0 0\n",
      "ICERD_20160822_143323_2696m_08s__2696m_18s.mp3 1 0 0\n",
      "NIGLIQ2_20160706_034307_2188m_23s__2188m_33s.mp3 1 0 0\n",
      "ICERD_20160826_175546_0986m_50s__0987m_00s.mp3 1 0 0\n",
      "NIGLIQ1_20160605_185101_2430m_36s__2430m_46s.mp3 1 0 0\n",
      "CLVL2_20160617_014524_2284m_40s__2284m_50s.mp3 1 0 0\n",
      "CLVL5_20160624_185002_0179m_19s__0179m_29s.mp3 1 0 0\n",
      "USGS_20160715_050919_1240m_44s__1240m_54s.mp3 1 0 0\n",
      "CLVL2_20160715_134031_0653m_51s__0654m_01s.mp3 1 0 0\n",
      "ITKILLIK2_20160814_064822_1734m_46s__1734m_56s.mp3 1 0 0\n",
      "UMIAT_20130831_083548_1453m_53s__1454m_03s.mp3 1 0 0\n",
      "ITKILLIK1_20160710_091444_0437m_54s__0438m_04s.mp3 1 0 0\n",
      "0731_231042_0647m_32s__0647m_42s.mp3 1 0 0\n",
      "CLVL2_20160719_170257_0056m_11s__0056m_21s.mp3 1 0 0\n",
      "34\n"
     ]
    }
   ],
   "source": [
    "total=0\n",
    "for i,mm in enumerate(y_true):\n",
    "    predict= 1 if y_pred[i]>0.5 else 0 \n",
    "    predict_sklearn=int(y_pred_sklearn[i])\n",
    "    if mm!=predict and mm==1:\n",
    "        total+=1\n",
    "        print(humanresults_keys[i],mm,predict,predict_sklearn)\n",
    "print(total)"
   ]
  },
  {
   "cell_type": "code",
   "execution_count": null,
   "metadata": {},
   "outputs": [],
   "source": [
    "from sklearn.metrics import confusion_matrix\n",
    "\n",
    "confusion_matrix(y_true, y_pred)"
   ]
  },
  {
   "cell_type": "code",
   "execution_count": null,
   "metadata": {},
   "outputs": [],
   "source": []
  },
  {
   "cell_type": "code",
   "execution_count": 411,
   "metadata": {},
   "outputs": [
    {
     "data": {
      "text/plain": [
       "(tensor([0.5201, 0.4799]), tensor([0.5363, 0.4637]))"
      ]
     },
     "execution_count": 411,
     "metadata": {},
     "output_type": "execute_result"
    }
   ],
   "source": [
    "np.exp([-6.7866, -4.4634])\n",
    "F.softmax(torch.Tensor([0.5403, 0.4597]),dim=0),torch.exp(F.log_softmax(torch.Tensor([ 0.1147, -0.0307]),dim=0))"
   ]
  },
  {
   "cell_type": "code",
   "execution_count": null,
   "metadata": {
    "collapsed": true,
    "jupyter": {
     "outputs_hidden": true
    }
   },
   "outputs": [],
   "source": []
  },
  {
   "cell_type": "code",
   "execution_count": null,
   "metadata": {
    "collapsed": true,
    "jupyter": {
     "outputs_hidden": true
    }
   },
   "outputs": [],
   "source": []
  }
 ],
 "metadata": {
  "kernelspec": {
   "display_name": "speechEnv",
   "language": "python",
   "name": "speechenv"
  },
  "language_info": {
   "codemirror_mode": {
    "name": "ipython",
    "version": 3
   },
   "file_extension": ".py",
   "mimetype": "text/x-python",
   "name": "python",
   "nbconvert_exporter": "python",
   "pygments_lexer": "ipython3",
   "version": "3.7.2"
  }
 },
 "nbformat": 4,
 "nbformat_minor": 4
}
