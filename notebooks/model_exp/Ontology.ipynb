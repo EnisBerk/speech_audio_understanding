{
 "cells": [
  {
   "cell_type": "code",
   "execution_count": null,
   "metadata": {},
   "outputs": [],
   "source": [
    "import os\n",
    "import sys\n",
    "\n",
    "module_path = os.path.abspath(os.path.join('../../src'))\n",
    "print(module_path)\n",
    "if module_path not in sys.path:\n",
    "    sys.path.append(module_path)"
   ]
  },
  {
   "cell_type": "code",
   "execution_count": 29,
   "metadata": {},
   "outputs": [],
   "source": [
    "import json\n",
    "import csv"
   ]
  },
  {
   "cell_type": "code",
   "execution_count": 27,
   "metadata": {},
   "outputs": [
    {
     "name": "stdout",
     "output_type": "stream",
     "text": [
      "--2019-10-30 15:47:46--  https://raw.githubusercontent.com/audioset/ontology/master/ontology.json\n",
      "Resolving raw.githubusercontent.com (raw.githubusercontent.com)... 151.101.0.133, 151.101.64.133, 151.101.128.133, ...\n",
      "Connecting to raw.githubusercontent.com (raw.githubusercontent.com)|151.101.0.133|:443... connected.\n",
      "HTTP request sent, awaiting response... 200 OK\n",
      "Length: 342780 (335K) [text/plain]\n",
      "Saving to: ‘ontology.json.1’\n",
      "\n",
      "ontology.json.1     100%[===================>] 334.75K  1.73MB/s    in 0.2s    \n",
      "\n",
      "2019-10-30 15:47:47 (1.73 MB/s) - ‘ontology.json.1’ saved [342780/342780]\n",
      "\n",
      "--2019-10-30 15:47:47--  http://storage.googleapis.com/us_audioset/youtube_corpus/v1/csv/unbalanced_train_segments.csv\n",
      "Resolving storage.googleapis.com (storage.googleapis.com)... 172.217.10.112, 2607:f8b0:4006:811::2010\n",
      "Connecting to storage.googleapis.com (storage.googleapis.com)|172.217.10.112|:80... connected.\n",
      "HTTP request sent, awaiting response... 200 OK\n",
      "Length: 101468408 (97M) [application/octet-stream]\n",
      "Saving to: ‘unbalanced_train_segments.csv’\n",
      "\n",
      "unbalanced_train_se 100%[===================>]  96.77M  1.24MB/s    in 70s     \n",
      "\n",
      "2019-10-30 15:48:58 (1.38 MB/s) - ‘unbalanced_train_segments.csv’ saved [101468408/101468408]\n",
      "\n"
     ]
    }
   ],
   "source": [
    "!wget https://raw.githubusercontent.com/audioset/ontology/master/ontology.json\n",
    "!wget http://storage.googleapis.com/us_audioset/youtube_corpus/v1/csv/unbalanced_train_segments.csv"
   ]
  },
  {
   "cell_type": "code",
   "execution_count": 10,
   "metadata": {},
   "outputs": [],
   "source": [
    "with open(\"ontology.json\") as f:\n",
    "    ont=json.load(f)"
   ]
  },
  {
   "cell_type": "code",
   "execution_count": 11,
   "metadata": {},
   "outputs": [
    {
     "data": {
      "text/plain": [
       "632"
      ]
     },
     "execution_count": 11,
     "metadata": {},
     "output_type": "execute_result"
    }
   ],
   "source": [
    "len(ont)"
   ]
  },
  {
   "cell_type": "code",
   "execution_count": 47,
   "metadata": {},
   "outputs": [],
   "source": [
    "histogram={}\n",
    "with open(\"unbalanced_train_segments.csv\") as f:\n",
    "    segments=csv.reader(f)\n",
    "    header=next(segments)\n",
    "    header=next(segments)\n",
    "    header=next(segments)\n",
    "    for line in segments:\n",
    "#         print(line[3:])\n",
    "        if len(line)>3:\n",
    "            line[3]=line[3].strip()[1:]\n",
    "            line[-1]=line[-1].strip()[:-1]\n",
    "        for label in line[3:]:\n",
    "            histogram.setdefault(label,0)\n",
    "            histogram[label]+=1\n",
    "        \n",
    "    "
   ]
  },
  {
   "cell_type": "code",
   "execution_count": 62,
   "metadata": {},
   "outputs": [],
   "source": [
    "total_count=sum(histogram.values())"
   ]
  },
  {
   "cell_type": "code",
   "execution_count": 100,
   "metadata": {},
   "outputs": [],
   "source": [
    "tag2labelmappings={\n",
    "    \"Songbird\": ['Bird','Owl','Bird vocalization, bird call, bird song',\n",
    "                     'Pigeon, dove','Coo','Chirp, tweet','Squawk',\n",
    "                     'Bird flight, flapping wings','Gull, seagull','Chirp tone',\n",
    "                     'Hoot'],\n",
    "    \"Water Bird\":['Duck','Goose','Quack','Frog',\"Croak\",'Caw'],\n",
    "    \"Insect\":   ['Fly, housefly','Insect', 'Bee, wasp, etc.', 'Buzz','Mosquito',\"Cricket\",\"Rustle\"],\n",
    "    \"Vehicle\":  ['Vehicle','Car', 'Engine','Boat, Water vehicle','Train','Rail transport',\n",
    "                    'Motor vehicle (road)','Railroad car, train wagon',\n",
    "                    'Motorboat, speedboat', 'Motorcycle','Subway, metro, underground', \n",
    "                     'Lawn mower','Electric shaver, electric razor',\n",
    "                    'Jet engine', 'Light engine (high frequency)','Sewing machine','Power tool'],\n",
    "    \"Aircraft\":  ['Engine','Fixed-wing aircraft, airplane','Aircraft engine',\n",
    "                'Propeller, airscrew','Aircraft', 'Helicopter'],\n",
    "    \"Running Water\":[\"Waterfall\",\"Waves, surf\"],\n",
    "    \"Rain\":[\"Rain\",\"Raindrop\",\"Rain on surface\",],\n",
    "    \"Cable\":[\"Bang\",\"Slap, smack\",\"Whack, thwack\",\n",
    "             \"Smash, crash\",\"Breaking\",\"Knock\",\"Tap\",\n",
    "             \"Thump, thud\",\"Whip\",\"Flap\",\"Clip-clop\"],\n",
    "    \"Wind\":[\"Wind\",\"Howl\"]}\n",
    "\n",
    "del tag2labelmappings[\"Vehicle\"]\n",
    "label2tagmappings={}\n",
    "\n",
    "for tag in tag2labelmappings:\n",
    "    for label in tag2labelmappings[tag]:\n",
    "        label2tagmappings.setdefault(label,[])\n",
    "        label2tagmappings[label].append(tag)\n"
   ]
  },
  {
   "cell_type": "code",
   "execution_count": 101,
   "metadata": {},
   "outputs": [],
   "source": [
    "all_val=[]\n",
    "for val in tag2labelmappings.values():\n",
    "    all_val.extend(val)\n"
   ]
  },
  {
   "cell_type": "code",
   "execution_count": 102,
   "metadata": {},
   "outputs": [],
   "source": [
    "found=[]\n",
    "for label in ont:\n",
    "    if label[\"name\"] in all_val:\n",
    "#         print(label[\"name\"])\n",
    "        found.append(label[\"name\"])"
   ]
  },
  {
   "cell_type": "code",
   "execution_count": 103,
   "metadata": {},
   "outputs": [
    {
     "data": {
      "text/plain": [
       "(48, 48)"
      ]
     },
     "execution_count": 103,
     "metadata": {},
     "output_type": "execute_result"
    }
   ],
   "source": [
    "len(set(found)),len(set(all_val))"
   ]
  },
  {
   "cell_type": "code",
   "execution_count": 104,
   "metadata": {},
   "outputs": [
    {
     "data": {
      "text/plain": [
       "set()"
      ]
     },
     "execution_count": 104,
     "metadata": {},
     "output_type": "execute_result"
    }
   ],
   "source": [
    "set(all_val).difference(set(found))"
   ]
  },
  {
   "cell_type": "code",
   "execution_count": 105,
   "metadata": {},
   "outputs": [
    {
     "data": {
      "text/plain": [
       "{'id': '/m/04zc0',\n",
       " 'name': 'MP3',\n",
       " 'description': 'A sound which appears to come from a compressed digital file using the MP3 format, discernible by containing nearly imperceptible compression artifacts.',\n",
       " 'citation_uri': '',\n",
       " 'positive_examples': [],\n",
       " 'child_ids': [],\n",
       " 'restrictions': ['blacklist']}"
      ]
     },
     "execution_count": 105,
     "metadata": {},
     "output_type": "execute_result"
    }
   ],
   "source": [
    "label"
   ]
  },
  {
   "cell_type": "code",
   "execution_count": 106,
   "metadata": {},
   "outputs": [
    {
     "name": "stdout",
     "output_type": "stream",
     "text": [
      "Gull, seagull\n"
     ]
    },
    {
     "data": {
      "text/plain": [
       "(127195, 0.031638878745697985)"
      ]
     },
     "execution_count": 106,
     "metadata": {},
     "output_type": "execute_result"
    }
   ],
   "source": [
    "count=0\n",
    "hist_label={}\n",
    "hist_tag={}\n",
    "for label in ont:\n",
    "    if label[\"name\"] in all_val:\n",
    "#         print(label[\"name\"])\n",
    "        x=histogram.get(label[\"id\"],0)\n",
    "        hist_label.setdefault(label[\"name\"],0)\n",
    "        hist_label[label[\"name\"]]+=x\n",
    "        tag=label2tagmappings[label[\"name\"]][0]\n",
    "        hist_tag.setdefault(tag,0)\n",
    "        hist_tag[tag]+=x\n",
    "        count+=x\n",
    "        if x ==0:\n",
    "            print(label[\"name\"])\n",
    "#         found.append(label[\"name\"])\n",
    "count, count/total_count"
   ]
  },
  {
   "cell_type": "code",
   "execution_count": 107,
   "metadata": {},
   "outputs": [],
   "source": [
    "# histogram.keys()"
   ]
  },
  {
   "cell_type": "code",
   "execution_count": 108,
   "metadata": {},
   "outputs": [
    {
     "data": {
      "text/plain": [
       "[('Bird', 26514),\n",
       " ('Engine', 15870),\n",
       " ('Pigeon, dove', 8403),\n",
       " ('Wind', 6454),\n",
       " ('Bird vocalization, bird call, bird song', 6075),\n",
       " ('Aircraft', 5254),\n",
       " ('Chirp, tweet', 4503),\n",
       " ('Helicopter', 3578),\n",
       " ('Tap', 3319),\n",
       " ('Clip-clop', 3205),\n",
       " ('Rain', 3175),\n",
       " ('Fixed-wing aircraft, airplane', 2858),\n",
       " ('Insect', 2825),\n",
       " ('Coo', 2797),\n",
       " ('Rain on surface', 2739),\n",
       " ('Waves, surf', 2692),\n",
       " ('Duck', 2483),\n",
       " ('Quack', 2432),\n",
       " ('Bee, wasp, etc.', 1748),\n",
       " ('Thump, thud', 1680),\n",
       " ('Goose', 1659),\n",
       " ('Whack, thwack', 1441),\n",
       " ('Waterfall', 1376),\n",
       " ('Rustle', 1361),\n",
       " ('Smash, crash', 1355),\n",
       " ('Fly, housefly', 1308),\n",
       " ('Frog', 1125),\n",
       " ('Raindrop', 1106),\n",
       " ('Aircraft engine', 1035),\n",
       " ('Propeller, airscrew', 926),\n",
       " ('Slap, smack', 751),\n",
       " ('Cricket', 732),\n",
       " ('Howl', 718),\n",
       " ('Owl', 513),\n",
       " ('Caw', 480),\n",
       " ('Flap', 349),\n",
       " ('Breaking', 346),\n",
       " ('Buzz', 330),\n",
       " ('Whip', 329),\n",
       " ('Croak', 260),\n",
       " ('Bang', 240),\n",
       " ('Bird flight, flapping wings', 227),\n",
       " ('Mosquito', 222),\n",
       " ('Knock', 202),\n",
       " ('Chirp tone', 111),\n",
       " ('Hoot', 49),\n",
       " ('Squawk', 40),\n",
       " ('Gull, seagull', 0)]"
      ]
     },
     "execution_count": 108,
     "metadata": {},
     "output_type": "execute_result"
    }
   ],
   "source": [
    "a=list(hist_label.items())\n",
    "a.sort(key=lambda x: x[1],reverse=True)\n",
    "a"
   ]
  },
  {
   "cell_type": "code",
   "execution_count": 109,
   "metadata": {},
   "outputs": [],
   "source": [
    "# a"
   ]
  },
  {
   "cell_type": "code",
   "execution_count": 92,
   "metadata": {},
   "outputs": [
    {
     "data": {
      "text/plain": [
       "[('Songbird', 49232),\n",
       " ('Aircraft', 29521),\n",
       " ('Cable', 13217),\n",
       " ('Insect', 8526),\n",
       " ('Water Bird', 8439),\n",
       " ('Wind', 7172),\n",
       " ('Rain', 7020),\n",
       " ('Running Water', 4068)]"
      ]
     },
     "execution_count": 92,
     "metadata": {},
     "output_type": "execute_result"
    }
   ],
   "source": [
    "b=list(hist_tag.items())\n",
    "b.sort(key=lambda x: x[1],reverse=True)\n",
    "b"
   ]
  },
  {
   "cell_type": "code",
   "execution_count": null,
   "metadata": {},
   "outputs": [],
   "source": [
    "other_hist={\"Songbird\":0.18,\n",
    "\"Water Bird\": 0.088,\n",
    "\"Insect\": 0.085,\n",
    "\"Running Water\":0.094,\n",
    "\"Rain\" :0.046,\n",
    "\"Cable\": 0.2,\n",
    "\"Wind\" :0.29,\n",
    "\"Aircraft\" :0.013}"
   ]
  },
  {
   "cell_type": "code",
   "execution_count": 122,
   "metadata": {},
   "outputs": [
    {
     "name": "stdout",
     "output_type": "stream",
     "text": [
      "Songbird 0.39, 0.18, 2.15\n",
      "Aircraft 0.23, 0.013, 17.9\n",
      "Cable 0.1, 0.2, 0.52\n",
      "Insect 0.067, 0.085, 0.789\n",
      "Water Bird 0.066, 0.088, 0.754\n",
      "Wind 0.056, 0.29, 0.194\n",
      "Rain 0.055, 0.046, 1.2\n",
      "Running Water 0.032, 0.094, 0.34\n"
     ]
    }
   ],
   "source": [
    "for k in b:\n",
    "    print(k[0],\"{:.2}, {:.2}, {:.3}\".format(k[1]/count,other_hist[k[0]],(k[1]/count)/other_hist[k[0]] ))"
   ]
  },
  {
   "cell_type": "code",
   "execution_count": 117,
   "metadata": {},
   "outputs": [],
   "source": [
    "audioset 2X Songbird, 17X more Aircraft\n",
    "ours 2X Cable, 5X Wind"
   ]
  },
  {
   "cell_type": "code",
   "execution_count": null,
   "metadata": {},
   "outputs": [],
   "source": []
  }
 ],
 "metadata": {
  "kernelspec": {
   "display_name": "speechEnv",
   "language": "python",
   "name": "speechenv"
  },
  "language_info": {
   "codemirror_mode": {
    "name": "ipython",
    "version": 3
   },
   "file_extension": ".py",
   "mimetype": "text/x-python",
   "name": "python",
   "nbconvert_exporter": "python",
   "pygments_lexer": "ipython3",
   "version": "3.7.2"
  }
 },
 "nbformat": 4,
 "nbformat_minor": 2
}
