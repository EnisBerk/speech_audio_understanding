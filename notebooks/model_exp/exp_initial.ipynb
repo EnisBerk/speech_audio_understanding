{
 "cells": [
  {
   "cell_type": "code",
   "execution_count": null,
   "metadata": {},
   "outputs": [],
   "source": [
    "import os\n",
    "import sys\n",
    "\n",
    "module_path = os.path.abspath(os.path.join('../../src'))\n",
    "print(module_path)\n",
    "if module_path not in sys.path:\n",
    "    sys.path.append(module_path)"
   ]
  },
  {
   "cell_type": "code",
   "execution_count": 1,
   "metadata": {},
   "outputs": [],
   "source": [
    "import csv \n",
    "from pathlib import Path\n",
    "from os import listdir\n",
    "import pickle\n",
    "\n",
    "from labeling_utils import load_labels\n",
    "\n",
    "import numpy as np\n",
    "from sklearn.metrics import precision_recall_fscore_support\n",
    "\n",
    "\n",
    "# tags=[\"Songbird\",\"Water Bird\",\"Insect\",\"Running Water\",\"Rain\",\"Cable\",\"Wind\",\"Vehicle\",\"Aircraft\"]\n",
    "tags=[\"Songbird\",\"Water Bird\",\"Insect\",\"Running Water\",\"Rain\",\"Cable\",\"Wind\",\"Aircraft\"]\n",
    "\n",
    "from tabulate import tabulate\n",
    "tag_set=tags[:]\n"
   ]
  },
  {
   "cell_type": "markdown",
   "metadata": {},
   "source": [
    "* Count only highest ranking tag (what if both of them exist)\n",
    "* Bird tag is confusing, it can be also waterbird, how to handle ? Also Animal\n",
    "* "
   ]
  },
  {
   "cell_type": "code",
   "execution_count": 2,
   "metadata": {},
   "outputs": [],
   "source": [
    "#LOAD MODEL predictions\n",
    "splits_path= Path('/files/scratch/enis/data/nna/labeling/splits/')\n",
    "\n",
    "labelsbymodelpath=Path('/scratch/enis/data/nna/labeling/deep_labels/')\n",
    "dbfile = open(labelsbymodelpath / \"classifications_all_2.pkl\", 'rb')  \n",
    "modelresults = pickle.load(dbfile) \n",
    "dbfile.close() "
   ]
  },
  {
   "cell_type": "code",
   "execution_count": 3,
   "metadata": {},
   "outputs": [],
   "source": [
    "# print(len(modelresults))\n",
    "# aiter=iter(modelresults.keys())\n",
    "# akey=next(aiter)\n",
    "# print(akey)\n",
    "# modelresults[akey]"
   ]
  },
  {
   "cell_type": "code",
   "execution_count": null,
   "metadata": {},
   "outputs": [],
   "source": []
  },
  {
   "cell_type": "code",
   "execution_count": 4,
   "metadata": {},
   "outputs": [
    {
     "name": "stdout",
     "output_type": "stream",
     "text": [
      "unique files: 1300 \n",
      "total files 1366\n"
     ]
    }
   ],
   "source": [
    "import csv\n",
    "from os import listdir\n",
    "from pathlib import Path\n",
    "\n",
    "# LOAD LABELS by human\n",
    "labelsbyhumanpath=Path('/scratch/enis/data/nna/labeling/results/')\n",
    "# filter csv extension also by username\n",
    "labelsbyhuman=[i for i in listdir(labelsbyhumanpath) if (\".csv\" in i ) ]\n",
    "\n",
    "humanresults={}\n",
    "counter=0\n",
    "for apath in labelsbyhuman:\n",
    "    with open(labelsbyhumanpath / apath, newline='') as f:\n",
    "        reader=csv.reader(f)\n",
    "        for row in reader:\n",
    "            counter+=1\n",
    "            humanresults[row[0]]=row[1:]\n",
    "\n",
    "print(\"unique files:\",len(humanresults),\"\\ntotal files\",counter)"
   ]
  },
  {
   "cell_type": "code",
   "execution_count": null,
   "metadata": {},
   "outputs": [],
   "source": []
  },
  {
   "cell_type": "code",
   "execution_count": 5,
   "metadata": {},
   "outputs": [],
   "source": [
    "# humanresults\n"
   ]
  },
  {
   "cell_type": "code",
   "execution_count": null,
   "metadata": {},
   "outputs": [],
   "source": []
  },
  {
   "cell_type": "code",
   "execution_count": 6,
   "metadata": {},
   "outputs": [],
   "source": [
    "#Join vehicle and Aircraft\n",
    "for file_name,tagshere in humanresults.items():\n",
    "#     print(file_name,tagshere)\n",
    "    \n",
    "    tagshere=[\"Aircraft\" if tag == \"Vehicle\" else tag for tag in tags]"
   ]
  },
  {
   "cell_type": "code",
   "execution_count": 7,
   "metadata": {},
   "outputs": [],
   "source": [
    "\n",
    "#     humanresults[file_name]=thetag"
   ]
  },
  {
   "cell_type": "code",
   "execution_count": 8,
   "metadata": {},
   "outputs": [],
   "source": [
    "histogram={}\n",
    "for file_name in humanresults:\n",
    "    place_name=file_name.split(\"_\")[0]\n",
    "#     print(file_name)\n",
    "    histogram.setdefault(place_name,0)\n",
    "    histogram[place_name]+=1"
   ]
  },
  {
   "cell_type": "code",
   "execution_count": 9,
   "metadata": {
    "scrolled": true
   },
   "outputs": [],
   "source": [
    "a=list(histogram.items())\n",
    "a.sort(key=lambda x:x[1],reverse=True)\n",
    "# a"
   ]
  },
  {
   "cell_type": "code",
   "execution_count": 10,
   "metadata": {},
   "outputs": [],
   "source": [
    "# load name of the labels\n",
    "labels=load_labels()"
   ]
  },
  {
   "cell_type": "code",
   "execution_count": 11,
   "metadata": {},
   "outputs": [],
   "source": [
    "items={}\n",
    "from IPython.display import Audio,display,HTML\n",
    "from ipywidgets import Output\n",
    "\n",
    "items[\"mp3_output\"]=Output()\n",
    "\n",
    "def play_html_modify(mp3file,items={}):\n",
    "#     out=items[\"mp3_output\"]\n",
    "#     displayed=display(HTML(\"<audio controls  loop autoplay><source src={} type='audio/mpeg'></audio>\".format(mp3file)))\n",
    "    displayed=display(HTML(\"<audio controls  loop><source src={} type='audio/mpeg'></audio>\".format(mp3file)))\n"
   ]
  },
  {
   "cell_type": "code",
   "execution_count": 12,
   "metadata": {},
   "outputs": [],
   "source": [
    "# # insect_dict={}\n",
    "# # bird_dict={}\n",
    "# # water_bird_dict={}\n",
    "# tag_label_hist_dict={}\n",
    "# for file in humanresults:\n",
    "#     print(\"\\n\\n\",humanresults[file],file)\n",
    "#     orig,audioop = modelresults[file]\n",
    "#     for tag in humanresults[file]:\n",
    "#         tag_label_hist_dict.setdefault(tag,{})\n",
    "#         for i in range(len(orig[0])):\n",
    "#             label=labels[orig[0][i]]\n",
    "#             tag_label_hist_dict[tag].setdefault(label,0)\n",
    "#             tag_label_hist_dict[tag][label]+=1\n",
    "#     for i in range(len(orig[0])):\n",
    "#         label=labels[orig[0][i]]\n",
    "#         print(labels[orig[0][i]], \"{0:.2}\".format(orig[1][i])) \n",
    "#     play_html_modify(splits_path/file)\n"
   ]
  },
  {
   "cell_type": "code",
   "execution_count": 13,
   "metadata": {},
   "outputs": [],
   "source": [
    "# {'UMIRUK_20160619_065245_0035m_01s__0035m_11s.mp3':[(\"FP\",\"Bird\",0.24)],\n",
    "#  'CLVL2_20160705_051422_2803m_52s__2804m_02s.mp3':[(\"FP\",\"Quack\",0.19)],\n",
    "#  'USGS_20160603_151612_2260m_16s__2260m_26s.mp3':[(\"FP\",\"Vehicle\",0.36),(\"TP\",\"Wind\",0.26)],\n",
    "#   \"FSHCK1_20160812_083207_2508m_40s__2508m_50s.mp3\":[(\"FP\",\"Bird\",0.039)],\n",
    "#  \"ITKILLIK1_20160806_221708_1193m_10s__1193m_20s.mp3\":[(\"FP\",\"Duck\",0.12)],\n",
    "#  \"CD3_20160728_185506_2303m_25s__2303m_35s.mp3\":[(\"FP\",\"Vehicle\", 0.41)],\n",
    "#   \"OCNPT_20160703_025043_0016m_42s__0016m_52s.mp3\":[(\"FP\",\"Duck\",0.2)],\n",
    "\n",
    "# }"
   ]
  },
  {
   "cell_type": "code",
   "execution_count": 14,
   "metadata": {
    "scrolled": true
   },
   "outputs": [],
   "source": [
    "# tag=\"Running Water\"\n",
    "# sorted_result=sorted(list(tag_label_hist_dict[tag].items()),key = lambda x: x[1],reverse=True)\n",
    "\n",
    "# table=[]\n",
    "# headers=[\"Label\",\"Count\",\"Is_included in {}\".format(tag)]\n",
    "# for i in sorted_result:\n",
    "#     if i[0] in tag2labelmappings[tag]:\n",
    "#         table.append([i[0][0:10],i[1],\"yes\"])\n",
    "#     else:\n",
    "#         table.append([i[0][0:10],i[1],\"no\"])\n",
    "    \n",
    "# print(tabulate(table, headers=headers))  \n",
    "# # Fowl"
   ]
  },
  {
   "cell_type": "code",
   "execution_count": null,
   "metadata": {},
   "outputs": [],
   "source": []
  },
  {
   "cell_type": "code",
   "execution_count": null,
   "metadata": {},
   "outputs": [],
   "source": []
  },
  {
   "cell_type": "code",
   "execution_count": 15,
   "metadata": {
    "scrolled": true
   },
   "outputs": [],
   "source": [
    "# insect_list=list(insect_dict.items())\n",
    "# insect_list.sort(reverse=True,key = lambda x: x[1])\n",
    "# insect_list"
   ]
  },
  {
   "cell_type": "code",
   "execution_count": 87,
   "metadata": {},
   "outputs": [],
   "source": [
    "# for i in labels:\n",
    "#     if i in [\"Howl wind\"]:\n",
    "#         print(i)\n",
    "#     if \"Howl\" in i:\n",
    "#         print(i)"
   ]
  },
  {
   "cell_type": "code",
   "execution_count": 200,
   "metadata": {},
   "outputs": [
    {
     "name": "stdout",
     "output_type": "stream",
     "text": [
      "65\n"
     ]
    }
   ],
   "source": [
    "t=0\n",
    "for val in tag2labelmappings.values():\n",
    "    t+=len(val)\n",
    "print(t)"
   ]
  },
  {
   "cell_type": "code",
   "execution_count": 199,
   "metadata": {},
   "outputs": [],
   "source": [
    "tag2labelmappings={\n",
    "    \"Songbird\": ['Bird','Owl','Bird vocalization, bird call, bird song',\n",
    "                     'Pigeon, dove','Coo','Chirp, tweet','Squawk',\n",
    "                     'Bird flight, flapping wings','Gull, seagull','Chirp tone',\n",
    "                     'Hoot'],\n",
    "    \"Water Bird\":['Duck','Goose','Quack','Frog',\"Croak\",'Caw'],\n",
    "    \"Insect\":   ['Fly, housefly','Insect', 'Bee, wasp, etc.', 'Buzz','Mosquito',\"Cricket\",\"Rustle\"],\n",
    "    \"Vehicle\":  ['Vehicle','Car', 'Engine','Boat, Water vehicle','Train','Rail transport',\n",
    "                    'Motor vehicle (road)','Railroad car, train wagon',\n",
    "                    'Motorboat, speedboat', 'Motorcycle','Subway, metro, underground', \n",
    "                     'Lawn mower','Electric shaver, electric razor',\n",
    "                    'Jet engine', 'Light engine (high frequency)','Sewing machine','Power tool'],\n",
    "    \"Aircraft\":  ['Engine','Fixed-wing aircraft, airplane','Aircraft engine',\n",
    "                'Propeller, airscrew','Aircraft', 'Helicopter'],\n",
    "    \"Running Water\":[\"Waterfall\",\"Waves, surf\"],\n",
    "    \"Rain\":[\"Rain\",\"Raindrop\",\"Rain on surface\",],\n",
    "    \"Cable\":[\"Bang\",\"Slap, smack\",\"Whack, thwack\",\n",
    "             \"Smash, crash\",\"Breaking\",\"Knock\",\"Tap\",\n",
    "             \"Thump, thud\",\"Whip\",\"Flap\",\"Clip-clop\"],\n",
    "    \"Wind\":[\"Wind\",\"Howl\"]}\n",
    "\n",
    "#Dara's tags\n",
    "# Vehicle: 36845\n",
    "# Boat; Water vehicle: 6364\n",
    "# Aircraft: 1457\n",
    "# Fixed-wing aircraft; airplane: 868\n",
    "# Car: 134\n",
    "# Motorboat; speedboat: 126\n",
    "# Train: 60\n",
    "# Rail transport: 38\n",
    "# Railroad car; train wagon: 21\n",
    "# Engine: 19\n",
    "# Subway; metro; underground: 4\n",
    "# Propeller; airscrew: 2\n",
    "# Motorcycle: 1\n",
    "# Helicopter: 1\n",
    "# Aircraft engine:\n",
    "    \n",
    "#??'Fowl','Turkey',\"Gobble\",\n",
    "#\"Chicken, rooster\", \"Cluck\", \"Crowing, cock-a-doodle-doo\"\n",
    "#? 'Animal'\n",
    "# 'Bird flight, flapping wings'\n",
    "\n",
    "# ? 'Heart sounds, heartbeat'\n",
    "# 'Honk', \n",
    "# 'Static'\n",
    "label2tagmappings={}\n",
    "\n",
    "for tag in tag2labelmappings:\n",
    "    for label in tag2labelmappings[tag]:\n",
    "        label2tagmappings.setdefault(label,[])\n",
    "        label2tagmappings[label].append(tag)\n",
    "\n",
    "# assigned_labels [[indexes],[probabilities]]\n",
    "def maplabels2tags(assigned_labels,label2tagmappings,prob_threshold=0.001):\n",
    "    predictions=set()\n",
    "    for label,prob in zip(*assigned_labels):\n",
    "        label=labels[label]\n",
    "        if prob>prob_threshold:\n",
    "            tags=label2tagmappings.get(label,[])\n",
    "            predictions.update(set(tags))\n",
    "    return predictions"
   ]
  },
  {
   "cell_type": "code",
   "execution_count": null,
   "metadata": {},
   "outputs": [],
   "source": []
  },
  {
   "cell_type": "code",
   "execution_count": 89,
   "metadata": {},
   "outputs": [
    {
     "data": {
      "text/plain": [
       "\" (86, 'Livestock, farm animals, working animals'),\""
      ]
     },
     "execution_count": 89,
     "metadata": {},
     "output_type": "execute_result"
    }
   ],
   "source": [
    "\" (86, 'Livestock, farm animals, working animals'),\"\n",
    "# list(enumerate(labels))\n"
   ]
  },
  {
   "cell_type": "code",
   "execution_count": 90,
   "metadata": {},
   "outputs": [],
   "source": [
    "# assigned_labels [[indexes],[probabilities]] \n",
    "# returns predictions: {\"tag1\",\"tag2\"}\n",
    "def predict(assigned_labels,label2tagmappings,prob_threshold=0.001):\n",
    "    predictions=set()\n",
    "    for label,prob in zip(*assigned_labels):\n",
    "        label=labels[label]\n",
    "#         print(prob)\n",
    "#         print(prob_threshold)\n",
    "        if prob>prob_threshold:\n",
    "            tags=label2tagmappings.get(label,[])\n",
    "#             print(tags)\n",
    "            predictions.update(set(tags))\n",
    "    return predictions\n",
    "\n",
    "# assigned_labels [[indexes],[probabilities]] \n",
    "# returns predictions: {(\"tag1\",confidence),(\"tag2\",confidence)}\n",
    "# if  \n",
    "def predict_wconfidence(assigned_labels,label2tagmappings,prob_threshold=0.001):\n",
    "    tag_prob={}\n",
    "    for label,prob in zip(*assigned_labels):\n",
    "        label=labels[label]\n",
    "#         print(prob)\n",
    "#         print(prob_threshold)\n",
    "        if prob>prob_threshold:                \n",
    "            tags=label2tagmappings.get(label,[])\n",
    "            for tag in tags:\n",
    "                tag_prob.setdefault(tag,0)\n",
    "                if prob>tag_prob[tag]:\n",
    "                    tag_prob[tag]=prob\n",
    "#             print(tags)\n",
    "\n",
    "    return tag_prob\n",
    "\n"
   ]
  },
  {
   "cell_type": "code",
   "execution_count": 91,
   "metadata": {},
   "outputs": [
    {
     "data": {
      "text/plain": [
       "{'Water Bird': 0.3}"
      ]
     },
     "execution_count": 91,
     "metadata": {},
     "output_type": "execute_result"
    }
   ],
   "source": [
    "predict_wconfidence([[105,104],[0.3,0.2]],label2tagmappings,0.001)"
   ]
  },
  {
   "cell_type": "code",
   "execution_count": null,
   "metadata": {},
   "outputs": [],
   "source": []
  },
  {
   "cell_type": "code",
   "execution_count": null,
   "metadata": {},
   "outputs": [],
   "source": []
  },
  {
   "cell_type": "code",
   "execution_count": null,
   "metadata": {},
   "outputs": [],
   "source": []
  },
  {
   "cell_type": "code",
   "execution_count": 92,
   "metadata": {},
   "outputs": [],
   "source": [
    "# returns a dictionary, keys are tags from tag set and values are binary list \n",
    "# \n",
    "def vectorized_y_true(humanresults,tag_set):\n",
    "    y_true={tag: [None]*len(humanresults) for tag in tag_set}\n",
    "    for i,tags in enumerate(humanresults.values()):\n",
    "        # we  only look for tags in tag_set\n",
    "        for tag in tag_set:\n",
    "            if tag in tags:\n",
    "                y_true[tag][i] = 1\n",
    "            else:\n",
    "                y_true[tag][i] = 0 \n",
    "    return y_true\n",
    "\n",
    "def vectorized_y_pred(humanresults,tag_set,label2tagmappings,prob_threshold=0.01):\n",
    "    y_pred={tag: [None]*len(humanresults) for tag in tag_set}\n",
    "    for i,filename in enumerate(humanresults.keys()):\n",
    "        orig,audioop = modelresults[filename]\n",
    "        orig_predictions=predict(orig,label2tagmappings,prob_threshold=prob_threshold)\n",
    "        for tag in tag_set:\n",
    "            if tag in orig_predictions:\n",
    "                y_pred[tag][i] = 1\n",
    "            else:\n",
    "                y_pred[tag][i] = 0   \n",
    "    return y_pred\n",
    "\n",
    "def vectorized_y_pred_prob(humanresults,tag_set,label2tagmappings,prob_threshold=0.01):\n",
    "    y_pred={tag: [None]*len(humanresults) for tag in tag_set}\n",
    "    for i,filename in enumerate(humanresults.keys()):\n",
    "        orig,audioop = modelresults[filename]\n",
    "        orig_predictions=predict_wconfidence(orig,label2tagmappings,prob_threshold=prob_threshold)\n",
    "        for tag in tag_set:\n",
    "            prob=orig_predictions.get(tag,0)\n",
    "            y_pred[tag][i]=prob\n",
    "  \n",
    "    return y_pred\n",
    "\n",
    "# for a given audioset label, return y_pred (probabilites) for each tag\n",
    "# since probability does not change for each tag, all lists are identical in y_pred\n",
    "def vectorized_y_pred_prob_pertag(label_index,humanresults,tag_set,label2tagmappings,prob_threshold=0.01):\n",
    "    y_pred={tag: [0]*len(humanresults) for tag in tag_set}\n",
    "    for i,filename in enumerate(humanresults.keys()):\n",
    "        orig,audioop = modelresults[filename]\n",
    "        orig_index = orig[0].index(label_index) if label_index in orig[0] else None\n",
    "        if orig_index:\n",
    "            prob = orig[1][orig_index]\n",
    "            for tag in tag_set:\n",
    "                y_pred[tag][i]=prob\n",
    "    for y in y_pred:\n",
    "        y_pred[y]=np.array(y_pred[y])\n",
    "  \n",
    "    return y_pred\n",
    "\n",
    "#since vectorized_y_pred_prob_pertag returns a dict with identical lists\n",
    "# this one returns single list\n",
    "def vectorized_y_pred_prob_generaltag(label_index,humanresults,modelresults):\n",
    "#     y_pred={tag: [0]*len(humanresults) for tag in tag_set}\n",
    "    y_pred=[0]*len(humanresults)\n",
    "    for i,filename in enumerate(humanresults.keys()):\n",
    "        orig,audioop = modelresults[filename]\n",
    "        orig_index = orig[0].index(label_index) if label_index in orig[0] else None\n",
    "        if orig_index:\n",
    "            prob = orig[1][orig_index]\n",
    "            y_pred[i]=prob\n",
    "\n",
    "    return y_pred"
   ]
  },
  {
   "cell_type": "code",
   "execution_count": 93,
   "metadata": {},
   "outputs": [],
   "source": [
    "#         orig=([labels[i] for i in orig[0]],orig[1])\n",
    "#         orig_dict=dict(zip(*orig))"
   ]
  },
  {
   "cell_type": "code",
   "execution_count": 202,
   "metadata": {},
   "outputs": [],
   "source": [
    "total=0\n",
    "y_true_dict=vectorized_y_true(humanresults,tags)\n",
    "for y in y_true_dict:\n",
    "    total+=sum(y_true_dict[y])\n"
   ]
  },
  {
   "cell_type": "code",
   "execution_count": 208,
   "metadata": {},
   "outputs": [
    {
     "name": "stdout",
     "output_type": "stream",
     "text": [
      "Songbird 0.18\n",
      "Water Bird 0.088\n",
      "Insect 0.085\n",
      "Running Water 0.094\n",
      "Rain 0.046\n",
      "Cable 0.2\n",
      "Wind 0.29\n",
      "Aircraft 0.013\n"
     ]
    }
   ],
   "source": [
    "y_true_dict=vectorized_y_true(humanresults,tags)\n",
    "\n",
    "for y in y_true_dict:\n",
    "    print(y,\"{:.2}\".format(sum(y_true_dict[y])/total))\n"
   ]
  },
  {
   "cell_type": "code",
   "execution_count": 95,
   "metadata": {},
   "outputs": [],
   "source": [
    "humanresults_keys=list(humanresults.keys())"
   ]
  },
  {
   "cell_type": "code",
   "execution_count": null,
   "metadata": {},
   "outputs": [],
   "source": []
  },
  {
   "cell_type": "code",
   "execution_count": 96,
   "metadata": {
    "scrolled": false
   },
   "outputs": [],
   "source": [
    "# for i,m in enumerate(y_true_dict[\"Vehicle\"]):\n",
    "#     if m==1:\n",
    "#         print(splits_path /humanresults_keys[i])\n",
    "\n",
    "#         play_html_modify(splits_path /humanresults_keys[i] )"
   ]
  },
  {
   "cell_type": "code",
   "execution_count": 97,
   "metadata": {},
   "outputs": [],
   "source": [
    "from sklearn.metrics import average_precision_score\n",
    "from sklearn.metrics import roc_auc_score\n",
    "def cal_metrics(y_true_dict,y_pred_dict):\n",
    "    results={}\n",
    "    for tag in tag_set:\n",
    "        y_true = y_true_dict[tag]\n",
    "        y_pred = y_pred_dict[tag]\n",
    "        metrics=precision_recall_fscore_support(y_true, y_pred,pos_label=1,average=\"binary\")\n",
    "        results[tag]=(metrics)\n",
    "    return results\n",
    "\n",
    "def cal_auc(y_true_dict,y_pred_dict_prob):\n",
    "    results={}\n",
    "    for tag in tag_set:\n",
    "        y_true = y_true_dict[tag]\n",
    "        y_pred = y_pred_dict_prob[tag]\n",
    "        metrics_auc=roc_auc_score(y_true, y_pred) #average_precision_score\n",
    "        results[tag]=(metrics_auc)\n",
    "#         metrics_ap=average_precision_score(y_true, y_pred)\n",
    "#         results[tag]=(metrics_ap)\n",
    "\n",
    "    return results\n",
    "\n",
    "def print_results(results,y_true_dict,):\n",
    "    headers= [\"Label\",\"Positive\",\"Precision\",\"Recall\",\"Fscore\"]\n",
    "    table=[]\n",
    "    sample_count=len(next(iter(y_true_dict.values())))\n",
    "    print(\"Total sample:\",sample_count,\"And threshold is\",prob_threshold)\n",
    "    for tag in (tag_set):\n",
    "        positive_count=sum(y_true_dict[tag])\n",
    "        table.append([tag,positive_count,*results[tag][:-1]])\n",
    "\n",
    "    print(tabulate(table, headers=headers))\n",
    "\n",
    "    "
   ]
  },
  {
   "cell_type": "code",
   "execution_count": 98,
   "metadata": {},
   "outputs": [
    {
     "name": "stdout",
     "output_type": "stream",
     "text": [
      "Total sample: 1300 And threshold is 0.01\n",
      "Label            Positive    Precision    Recall     Fscore\n",
      "-------------  ----------  -----------  --------  ---------\n",
      "Songbird              409    0.425899   0.723716  0.536232\n",
      "Water Bird            196    0.170699   0.647959  0.270213\n",
      "Insect                190    0.25576    0.584211  0.355769\n",
      "Running Water         210    0.810811   0.142857  0.242915\n",
      "Rain                  102    0.0462046  0.137255  0.0691358\n",
      "Cable                 456    0.745455   0.359649  0.485207\n",
      "Wind                  641    0.801325   0.377535  0.513256\n",
      "Aircraft               28    0.0194805  0.107143  0.032967\n"
     ]
    }
   ],
   "source": [
    "# normal results\n",
    "prob_threshold=0.01\n",
    "y_pred_dict=vectorized_y_pred(humanresults,tags,label2tagmappings,prob_threshold)\n",
    "\n",
    "results=cal_metrics(y_true_dict,y_pred_dict)\n",
    "print_results(results,y_true_dict)"
   ]
  },
  {
   "cell_type": "code",
   "execution_count": 99,
   "metadata": {},
   "outputs": [],
   "source": [
    "from sklearn.model_selection import train_test_split\n"
   ]
  },
  {
   "cell_type": "code",
   "execution_count": 100,
   "metadata": {},
   "outputs": [],
   "source": [
    "# get labels with all probabilities\n",
    "prob_threshold=0\n",
    "y_pred_dict_prob=vectorized_y_pred_prob(humanresults,tags,label2tagmappings,prob_threshold)\n",
    "# print(y_pred_dict_prob)"
   ]
  },
  {
   "cell_type": "code",
   "execution_count": null,
   "metadata": {},
   "outputs": [],
   "source": []
  },
  {
   "cell_type": "code",
   "execution_count": null,
   "metadata": {},
   "outputs": [],
   "source": []
  },
  {
   "cell_type": "code",
   "execution_count": 101,
   "metadata": {},
   "outputs": [],
   "source": [
    "dataset_size=len(y_true_dict['Songbird'])\n",
    "\n",
    "X_input=np.array(range(0,dataset_size))\n",
    "y=np.array(range(0,dataset_size))\n",
    "\n",
    "X_train, X_test, y_train, y_test = train_test_split(\n",
    "    X_input, y, test_size=0.2, random_state=42)\n",
    "X_train, X_val, y_train, y_val = train_test_split(\n",
    "    X_train, y_train, test_size=0.25, random_state=42)\n"
   ]
  },
  {
   "cell_type": "code",
   "execution_count": 102,
   "metadata": {},
   "outputs": [],
   "source": [
    "for y in y_true_dict.keys():\n",
    "    y_true_dict[y]=np.array(y_true_dict[y])\n",
    "    y_pred_dict_prob[y]=np.array(y_pred_dict_prob[y])"
   ]
  },
  {
   "cell_type": "code",
   "execution_count": null,
   "metadata": {},
   "outputs": [],
   "source": []
  },
  {
   "cell_type": "code",
   "execution_count": 119,
   "metadata": {},
   "outputs": [],
   "source": [
    "#X_train, X_test,X_val, we do not have those here, nobody cares, since we did not train it\n",
    "# y_train,y_test,y_val\n",
    "\n",
    "y_train_dict = {}\n",
    "y_test_dict ={}\n",
    "y_val_dict={}\n",
    "\n",
    "y_train_pred_dict = {}\n",
    "y_test_pred_dict ={}\n",
    "y_val_pred_dict={}\n",
    "\n",
    "for y in y_true_dict.keys():\n",
    "    y_true=y_true_dict[y]\n",
    "    y_pred=y_pred_dict_prob[y]\n",
    "    \n",
    "    y_train_dict[y] = y_true[y_train]\n",
    "    y_test_dict[y] =y_true[y_test]\n",
    "    y_val_dict[y]=y_true[y_val]\n",
    "\n",
    "    y_train_pred_dict[y] = y_pred[y_train]\n",
    "    y_test_pred_dict[y] =y_pred[y_test]\n",
    "    y_val_pred_dict[y]=y_pred[y_val]"
   ]
  },
  {
   "cell_type": "code",
   "execution_count": null,
   "metadata": {},
   "outputs": [],
   "source": []
  },
  {
   "cell_type": "code",
   "execution_count": 130,
   "metadata": {},
   "outputs": [
    {
     "name": "stdout",
     "output_type": "stream",
     "text": [
      "{'Songbird': 0.7082863407231784, 'Water Bird': 0.6006567028985507, 'Insect': 0.6834210526315789, 'Running Water': 0.5683573612931411, 'Rain': 0.44851713640381025, 'Cable': 0.6487356572711399, 'Wind': 0.6398137867851588, 'Aircraft': 0.4890358265947889}\n"
     ]
    }
   ],
   "source": [
    "# ALL  DATA\n",
    "results=cal_auc(y_true_dict,y_pred_dict_prob)\n",
    "print(\"ALL DATA\")\n",
    "for res in results:\n",
    "    print(\"{} {:.2}\".format(res,results[res]))\n",
    "# print_results(results,y_true_dict)"
   ]
  },
  {
   "cell_type": "code",
   "execution_count": 135,
   "metadata": {},
   "outputs": [
    {
     "name": "stdout",
     "output_type": "stream",
     "text": [
      "VALIDATION SET\n",
      "Songbird 0.68\n",
      "Water Bird 0.58\n",
      "Insect 0.7\n",
      "Running Water 0.55\n",
      "Rain 0.46\n",
      "Cable 0.67\n",
      "Wind 0.65\n",
      "Aircraft 0.44\n"
     ]
    }
   ],
   "source": [
    "# VALIDATION SET\n",
    "results=cal_auc(y_val_dict,y_val_pred_dict)\n",
    "print(\"VALIDATION SET\")\n",
    "for res in results:\n",
    "    print(\"{} {:.2}\".format(res,results[res]))\n",
    "# print(results)"
   ]
  },
  {
   "cell_type": "code",
   "execution_count": 143,
   "metadata": {},
   "outputs": [
    {
     "name": "stdout",
     "output_type": "stream",
     "text": [
      "Test SET\n",
      "Songbird 0.7\n",
      "Water Bird 0.59\n",
      "Insect 0.66\n",
      "Running Water 0.57\n",
      "Rain 0.44\n",
      "Cable 0.65\n",
      "Wind 0.66\n",
      "Aircraft 0.52\n"
     ]
    }
   ],
   "source": [
    "# Test SET\n",
    "results=cal_auc(y_test_dict,y_test_pred_dict)\n",
    "print(\"Test SET\")\n",
    "for res in results:\n",
    "    print(\"{} {:.2}\".format(res,results[res]))\n",
    "# print(results)\n"
   ]
  },
  {
   "cell_type": "code",
   "execution_count": 142,
   "metadata": {},
   "outputs": [
    {
     "name": "stdout",
     "output_type": "stream",
     "text": [
      "tag train validate test\n",
      "tag              train    validate    test\n",
      "-------------  -------  ----------  ------\n",
      "Songbird           252          84      73\n",
      "Water Bird         108          46      42\n",
      "Insect             107          42      41\n",
      "Running Water      130          41      39\n",
      "Rain                62          20      20\n",
      "Cable              278          93      85\n",
      "Wind               386         123     132\n",
      "Aircraft            18           6       4\n"
     ]
    }
   ],
   "source": [
    "print(\"tag\",\"train\",\"validate\",\"test\")\n",
    "table=[]\n",
    "headers=[\"tag\",\"train\",\"validate\",\"test\"]\n",
    "# for i in sorted_result:\n",
    "#     if i[0] in tag2labelmappings[tag]:\n",
    "#         table.append([i[0][0:10],i[1],\"yes\"])\n",
    "#     else:\n",
    "#         table.append([i[0][0:10],i[1],\"no\"])\n",
    "    \n",
    "\n",
    "for tagname in y_train_dict:\n",
    "    table.append([tagname,sum(y_train_dict[tagname]),sum(y_test_dict[tagname]),sum(y_val_dict[tagname])])\n",
    "print(tabulate(table, headers=headers))  \n"
   ]
  },
  {
   "cell_type": "markdown",
   "metadata": {},
   "source": [
    "#### Creating AUC matrix for each tag and label"
   ]
  },
  {
   "cell_type": "code",
   "execution_count": 107,
   "metadata": {},
   "outputs": [
    {
     "name": "stdout",
     "output_type": "stream",
     "text": [
      "number of unique labels in the data 222\n"
     ]
    }
   ],
   "source": [
    "# get all labels that exists in data to create matrix, if it is higher than 0 at least once\n",
    "index_set=set()\n",
    "for orig,audioop in modelresults.values():\n",
    "#     print(orig)\n",
    "    for index,prob in zip(*orig):\n",
    "        if prob>0:\n",
    "            index_set.add(index)\n",
    "\n",
    "print(\"number of unique labels in the data\",len(index_set))\n",
    "index_set=list(index_set)\n"
   ]
  },
  {
   "cell_type": "code",
   "execution_count": 108,
   "metadata": {},
   "outputs": [],
   "source": [
    "# ALL DATA\n",
    "matrix_dict={}\n",
    "for label_index in index_set:\n",
    "    prob_threshold=0\n",
    "    y_pred_dict=vectorized_y_pred_prob_pertag(label_index,humanresults,tags,label2tagmappings,prob_threshold)\n",
    "    \n",
    "#     y_train_pred_dict = {}\n",
    "#     y_test_pred_dict ={}\n",
    "#     y_val_pred_dict={}\n",
    "\n",
    "#     for y in y_true_dict.keys():\n",
    "#         y_pred=y_pred_dict[y]\n",
    "\n",
    "#         y_train_pred_dict[y] = y_pred[y_train]\n",
    "#         y_test_pred_dict[y] =y_pred[y_test]\n",
    "#         y_val_pred_dict[y]=y_pred[y_val]\n",
    "    \n",
    "    matrix_dict[label_index]=y_pred_dict"
   ]
  },
  {
   "cell_type": "code",
   "execution_count": 109,
   "metadata": {},
   "outputs": [],
   "source": [
    "# TRAIN DATA\n",
    "matrix_dict={}\n",
    "for label_index in index_set:\n",
    "    prob_threshold=0\n",
    "    y_pred_dict=vectorized_y_pred_prob_pertag(label_index,humanresults,tags,label2tagmappings,prob_threshold)\n",
    "    \n",
    "    y_train_pred_dict = {}\n",
    "#     y_test_pred_dict ={}\n",
    "#     y_val_pred_dict={}\n",
    "\n",
    "    for y in y_true_dict.keys():\n",
    "        y_pred=y_pred_dict[y]\n",
    "\n",
    "        y_train_pred_dict[y] = y_pred[y_train]\n",
    "#         y_test_pred_dict[y] =y_pred[y_test]\n",
    "#         y_val_pred_dict[y]=y_pred[y_val]\n",
    "    \n",
    "    matrix_dict[label_index]=y_train_pred_dict\n",
    "\n",
    "results={}\n",
    "for label_index in index_set:\n",
    "    results[label_index]=cal_auc(y_train_dict,matrix_dict[label_index])\n",
    "\n"
   ]
  },
  {
   "cell_type": "code",
   "execution_count": 110,
   "metadata": {},
   "outputs": [],
   "source": [
    "# VAL DATA\n",
    "matrix_dict={}\n",
    "for label_index in index_set:\n",
    "    prob_threshold=0\n",
    "    y_pred_dict=vectorized_y_pred_prob_pertag(label_index,humanresults,tags,label2tagmappings,prob_threshold)\n",
    "    \n",
    "#     y_train_pred_dict = {}\n",
    "#     y_test_pred_dict ={}\n",
    "    y_val_pred_dict={}\n",
    "\n",
    "    for y in y_true_dict.keys():\n",
    "        y_pred=y_pred_dict[y]\n",
    "\n",
    "#         y_train_pred_dict[y] = y_pred[y_train]\n",
    "#         y_test_pred_dict[y] =y_pred[y_test]\n",
    "        y_val_pred_dict[y]=y_pred[y_val]\n",
    "    \n",
    "    matrix_dict[label_index]=y_val_pred_dict\n",
    "\n",
    "results={}\n",
    "for label_index in index_set:\n",
    "    results[label_index]=cal_auc(y_val_dict,matrix_dict[label_index])\n",
    "\n"
   ]
  },
  {
   "cell_type": "code",
   "execution_count": null,
   "metadata": {},
   "outputs": [],
   "source": []
  },
  {
   "cell_type": "code",
   "execution_count": 144,
   "metadata": {},
   "outputs": [],
   "source": [
    "# Test DATA\n",
    "matrix_dict={}\n",
    "for label_index in index_set:\n",
    "    prob_threshold=0\n",
    "    y_pred_dict=vectorized_y_pred_prob_pertag(label_index,humanresults,tags,label2tagmappings,prob_threshold)\n",
    "    \n",
    "#     y_train_pred_dict = {}\n",
    "    y_test_pred_dict ={}\n",
    "#     y_val_pred_dict={}\n",
    "\n",
    "    for y in y_true_dict.keys():\n",
    "        y_pred=y_pred_dict[y]\n",
    "\n",
    "#         y_train_pred_dict[y] = y_pred[y_train]\n",
    "        y_test_pred_dict[y] =y_pred[y_test]\n",
    "#         y_val_pred_dict[y]=y_pred[y_val]\n",
    "    \n",
    "    matrix_dict[label_index]=y_test_pred_dict\n",
    "\n",
    "results={}\n",
    "for label_index in index_set:\n",
    "    results[label_index]=cal_auc(y_test_dict,matrix_dict[label_index])\n"
   ]
  },
  {
   "cell_type": "code",
   "execution_count": null,
   "metadata": {},
   "outputs": [],
   "source": []
  },
  {
   "cell_type": "code",
   "execution_count": null,
   "metadata": {},
   "outputs": [],
   "source": []
  },
  {
   "cell_type": "code",
   "execution_count": 40,
   "metadata": {},
   "outputs": [],
   "source": [
    "# auc_values=[]\n",
    "# for values in results.values():\n",
    "# #     print(values['Songbird'])\n",
    "#     auc_values.append(values['Songbird'])"
   ]
  },
  {
   "cell_type": "code",
   "execution_count": 145,
   "metadata": {},
   "outputs": [],
   "source": [
    "\n",
    "import seaborn as sns; sns.set()\n",
    "import matplotlib.pyplot as plt\n",
    "%matplotlib inline\n"
   ]
  },
  {
   "cell_type": "code",
   "execution_count": 146,
   "metadata": {},
   "outputs": [],
   "source": [
    "auc_matrix=np.empty((len(results),len(tag_set)))"
   ]
  },
  {
   "cell_type": "code",
   "execution_count": 147,
   "metadata": {},
   "outputs": [],
   "source": [
    "for row,result in enumerate(results.values()):\n",
    "    for col,tag in enumerate(tag_set):\n",
    "        auc_matrix[row][col]=result[tag]\n",
    "\n",
    "results_labels = [labels[key] for key in results.keys()]\n"
   ]
  },
  {
   "cell_type": "code",
   "execution_count": 148,
   "metadata": {},
   "outputs": [],
   "source": [
    "# x = np.array([[10,2,3],[3,4,5],[6,7,8],[3,4,5]])\n",
    "# x"
   ]
  },
  {
   "cell_type": "code",
   "execution_count": 149,
   "metadata": {},
   "outputs": [],
   "source": [
    "# rows=x.mean(axis=0)\n",
    "# colums=x.mean(axis=1)\n",
    "# rows,colums"
   ]
  },
  {
   "cell_type": "code",
   "execution_count": 150,
   "metadata": {},
   "outputs": [],
   "source": [
    "# print(x)\n",
    "# print(x[colums.argsort()])\n",
    "# print(x[:,rows.argsort()])\n"
   ]
  },
  {
   "cell_type": "code",
   "execution_count": 151,
   "metadata": {},
   "outputs": [],
   "source": [
    "# rows=auc_matrix.mean(axis=0)\n",
    "# colums=auc_matrix.mean(axis=1)\n",
    "\n",
    "# sorted_col=(auc_matrix[colums.argsort()])\n",
    "# sorted_row=(auc_matrix[:,rows.argsort()])\n",
    "# tag_set\n",
    "# results_labels"
   ]
  },
  {
   "cell_type": "code",
   "execution_count": 177,
   "metadata": {},
   "outputs": [
    {
     "name": "stdout",
     "output_type": "stream",
     "text": [
      "               Songbird  Water Bird    Insect  Running Water      Rain  \\\n",
      "Speech         0.470407    0.515542  0.441022       0.440082  0.531250   \n",
      "Noise          0.505276    0.554551  0.489406       0.504956  0.464583   \n",
      "Environmenta+  0.500000    0.500000  0.500000       0.500000  0.500000   \n",
      "Static         0.493168    0.446820  0.578910       0.468649  0.425417   \n",
      "Mains hum      0.500000    0.500000  0.500000       0.500000  0.500000   \n",
      "...                 ...         ...       ...            ...       ...   \n",
      "Pulse          0.494521    0.501625  0.502621       0.488584  0.489583   \n",
      "Inside, smal+  0.486303    0.494667  0.509393       0.481735  0.511146   \n",
      "Outside, urb+  0.497531    0.504013  0.490826       0.490868  0.491667   \n",
      "Outside, rur+  0.503145    0.508584  0.495413       0.495434  0.495833   \n",
      "Reverberatio+  0.500000    0.500000  0.500000       0.500000  0.500000   \n",
      "\n",
      "                  Cable      Wind  Aircraft  \n",
      "Speech         0.538697  0.511364  0.425197  \n",
      "Noise          0.515356  0.498843  0.547900  \n",
      "Environmenta+  0.500000  0.500000  0.500000  \n",
      "Static         0.406188  0.443089  0.589239  \n",
      "Mains hum      0.500000  0.500000  0.500000  \n",
      "...                 ...       ...       ...  \n",
      "Pulse          0.501835  0.504955  0.574147  \n",
      "Inside, smal+  0.509851  0.494036  0.484252  \n",
      "Outside, urb+  0.488024  0.516260  0.492126  \n",
      "Outside, rur+  0.502350  0.500386  0.496063  \n",
      "Reverberatio+  0.500000  0.500000  0.500000  \n",
      "\n",
      "[222 rows x 8 columns]\n"
     ]
    }
   ],
   "source": [
    "import pandas as pd\n",
    "results_labels_short=results_labels[:]\n",
    "for i,name in enumerate(results_labels):\n",
    "    limit=12\n",
    "    if len(name)>limit:\n",
    "        name=(name[:limit]+\"+\")\n",
    "    else:\n",
    "        name=(name)\n",
    "    results_labels_short[i]=name\n",
    "#     print(name)\n",
    "\n",
    "df_auc=pd.DataFrame(data=auc_matrix,    # values\n",
    "              index=results_labels_short,    # 1st column as index\n",
    "              columns=tag_set)\n",
    "\n",
    "\n",
    "\n",
    "print(df_auc)\n"
   ]
  },
  {
   "cell_type": "code",
   "execution_count": 178,
   "metadata": {},
   "outputs": [],
   "source": [
    "# df_auc.to_pickle(\"./auc_matrix.pkl\")\n"
   ]
  },
  {
   "cell_type": "code",
   "execution_count": null,
   "metadata": {},
   "outputs": [],
   "source": []
  },
  {
   "cell_type": "code",
   "execution_count": null,
   "metadata": {},
   "outputs": [],
   "source": []
  },
  {
   "cell_type": "code",
   "execution_count": 179,
   "metadata": {},
   "outputs": [
    {
     "data": {
      "text/plain": [
       "array([[0.4704072 , 0.51554246, 0.44102228, ..., 0.5386968 , 0.51136431,\n",
       "        0.42519685],\n",
       "       [0.50527597, 0.554551  , 0.48940585, ..., 0.51535638, 0.4988428 ,\n",
       "        0.54790026],\n",
       "       [0.5       , 0.5       , 0.5       , ..., 0.5       , 0.5       ,\n",
       "        0.5       ],\n",
       "       ...,\n",
       "       [0.49753111, 0.5040126 , 0.49082569, ..., 0.48802395, 0.51626016,\n",
       "        0.49212598],\n",
       "       [0.50314529, 0.50858391, 0.49541284, ..., 0.50235014, 0.50038573,\n",
       "        0.49606299],\n",
       "       [0.5       , 0.5       , 0.5       , ..., 0.5       , 0.5       ,\n",
       "        0.5       ]])"
      ]
     },
     "execution_count": 179,
     "metadata": {},
     "output_type": "execute_result"
    }
   ],
   "source": [
    "auc_matrix"
   ]
  },
  {
   "cell_type": "code",
   "execution_count": 180,
   "metadata": {},
   "outputs": [
    {
     "data": {
      "text/html": [
       "<div>\n",
       "<style scoped>\n",
       "    .dataframe tbody tr th:only-of-type {\n",
       "        vertical-align: middle;\n",
       "    }\n",
       "\n",
       "    .dataframe tbody tr th {\n",
       "        vertical-align: top;\n",
       "    }\n",
       "\n",
       "    .dataframe thead th {\n",
       "        text-align: right;\n",
       "    }\n",
       "</style>\n",
       "<table border=\"1\" class=\"dataframe\">\n",
       "  <thead>\n",
       "    <tr style=\"text-align: right;\">\n",
       "      <th></th>\n",
       "      <th>Songbird</th>\n",
       "      <th>Water Bird</th>\n",
       "      <th>Insect</th>\n",
       "      <th>Running Water</th>\n",
       "      <th>Rain</th>\n",
       "      <th>Cable</th>\n",
       "      <th>Wind</th>\n",
       "      <th>Aircraft</th>\n",
       "    </tr>\n",
       "  </thead>\n",
       "  <tbody>\n",
       "    <tr>\n",
       "      <td>Speech</td>\n",
       "      <td>0.470407</td>\n",
       "      <td>0.515542</td>\n",
       "      <td>0.441022</td>\n",
       "      <td>0.440082</td>\n",
       "      <td>0.531250</td>\n",
       "      <td>0.538697</td>\n",
       "      <td>0.511364</td>\n",
       "      <td>0.425197</td>\n",
       "    </tr>\n",
       "    <tr>\n",
       "      <td>Noise</td>\n",
       "      <td>0.505276</td>\n",
       "      <td>0.554551</td>\n",
       "      <td>0.489406</td>\n",
       "      <td>0.504956</td>\n",
       "      <td>0.464583</td>\n",
       "      <td>0.515356</td>\n",
       "      <td>0.498843</td>\n",
       "      <td>0.547900</td>\n",
       "    </tr>\n",
       "    <tr>\n",
       "      <td>Environmenta+</td>\n",
       "      <td>0.500000</td>\n",
       "      <td>0.500000</td>\n",
       "      <td>0.500000</td>\n",
       "      <td>0.500000</td>\n",
       "      <td>0.500000</td>\n",
       "      <td>0.500000</td>\n",
       "      <td>0.500000</td>\n",
       "      <td>0.500000</td>\n",
       "    </tr>\n",
       "    <tr>\n",
       "      <td>Static</td>\n",
       "      <td>0.493168</td>\n",
       "      <td>0.446820</td>\n",
       "      <td>0.578910</td>\n",
       "      <td>0.468649</td>\n",
       "      <td>0.425417</td>\n",
       "      <td>0.406188</td>\n",
       "      <td>0.443089</td>\n",
       "      <td>0.589239</td>\n",
       "    </tr>\n",
       "    <tr>\n",
       "      <td>Mains hum</td>\n",
       "      <td>0.500000</td>\n",
       "      <td>0.500000</td>\n",
       "      <td>0.500000</td>\n",
       "      <td>0.500000</td>\n",
       "      <td>0.500000</td>\n",
       "      <td>0.500000</td>\n",
       "      <td>0.500000</td>\n",
       "      <td>0.500000</td>\n",
       "    </tr>\n",
       "    <tr>\n",
       "      <td>...</td>\n",
       "      <td>...</td>\n",
       "      <td>...</td>\n",
       "      <td>...</td>\n",
       "      <td>...</td>\n",
       "      <td>...</td>\n",
       "      <td>...</td>\n",
       "      <td>...</td>\n",
       "      <td>...</td>\n",
       "    </tr>\n",
       "    <tr>\n",
       "      <td>Pulse</td>\n",
       "      <td>0.494521</td>\n",
       "      <td>0.501625</td>\n",
       "      <td>0.502621</td>\n",
       "      <td>0.488584</td>\n",
       "      <td>0.489583</td>\n",
       "      <td>0.501835</td>\n",
       "      <td>0.504955</td>\n",
       "      <td>0.574147</td>\n",
       "    </tr>\n",
       "    <tr>\n",
       "      <td>Inside, smal+</td>\n",
       "      <td>0.486303</td>\n",
       "      <td>0.494667</td>\n",
       "      <td>0.509393</td>\n",
       "      <td>0.481735</td>\n",
       "      <td>0.511146</td>\n",
       "      <td>0.509851</td>\n",
       "      <td>0.494036</td>\n",
       "      <td>0.484252</td>\n",
       "    </tr>\n",
       "    <tr>\n",
       "      <td>Outside, urb+</td>\n",
       "      <td>0.497531</td>\n",
       "      <td>0.504013</td>\n",
       "      <td>0.490826</td>\n",
       "      <td>0.490868</td>\n",
       "      <td>0.491667</td>\n",
       "      <td>0.488024</td>\n",
       "      <td>0.516260</td>\n",
       "      <td>0.492126</td>\n",
       "    </tr>\n",
       "    <tr>\n",
       "      <td>Outside, rur+</td>\n",
       "      <td>0.503145</td>\n",
       "      <td>0.508584</td>\n",
       "      <td>0.495413</td>\n",
       "      <td>0.495434</td>\n",
       "      <td>0.495833</td>\n",
       "      <td>0.502350</td>\n",
       "      <td>0.500386</td>\n",
       "      <td>0.496063</td>\n",
       "    </tr>\n",
       "    <tr>\n",
       "      <td>Reverberatio+</td>\n",
       "      <td>0.500000</td>\n",
       "      <td>0.500000</td>\n",
       "      <td>0.500000</td>\n",
       "      <td>0.500000</td>\n",
       "      <td>0.500000</td>\n",
       "      <td>0.500000</td>\n",
       "      <td>0.500000</td>\n",
       "      <td>0.500000</td>\n",
       "    </tr>\n",
       "  </tbody>\n",
       "</table>\n",
       "<p>222 rows × 8 columns</p>\n",
       "</div>"
      ],
      "text/plain": [
       "               Songbird  Water Bird    Insect  Running Water      Rain  \\\n",
       "Speech         0.470407    0.515542  0.441022       0.440082  0.531250   \n",
       "Noise          0.505276    0.554551  0.489406       0.504956  0.464583   \n",
       "Environmenta+  0.500000    0.500000  0.500000       0.500000  0.500000   \n",
       "Static         0.493168    0.446820  0.578910       0.468649  0.425417   \n",
       "Mains hum      0.500000    0.500000  0.500000       0.500000  0.500000   \n",
       "...                 ...         ...       ...            ...       ...   \n",
       "Pulse          0.494521    0.501625  0.502621       0.488584  0.489583   \n",
       "Inside, smal+  0.486303    0.494667  0.509393       0.481735  0.511146   \n",
       "Outside, urb+  0.497531    0.504013  0.490826       0.490868  0.491667   \n",
       "Outside, rur+  0.503145    0.508584  0.495413       0.495434  0.495833   \n",
       "Reverberatio+  0.500000    0.500000  0.500000       0.500000  0.500000   \n",
       "\n",
       "                  Cable      Wind  Aircraft  \n",
       "Speech         0.538697  0.511364  0.425197  \n",
       "Noise          0.515356  0.498843  0.547900  \n",
       "Environmenta+  0.500000  0.500000  0.500000  \n",
       "Static         0.406188  0.443089  0.589239  \n",
       "Mains hum      0.500000  0.500000  0.500000  \n",
       "...                 ...       ...       ...  \n",
       "Pulse          0.501835  0.504955  0.574147  \n",
       "Inside, smal+  0.509851  0.494036  0.484252  \n",
       "Outside, urb+  0.488024  0.516260  0.492126  \n",
       "Outside, rur+  0.502350  0.500386  0.496063  \n",
       "Reverberatio+  0.500000  0.500000  0.500000  \n",
       "\n",
       "[222 rows x 8 columns]"
      ]
     },
     "execution_count": 180,
     "metadata": {},
     "output_type": "execute_result"
    }
   ],
   "source": [
    "df_auc"
   ]
  },
  {
   "cell_type": "code",
   "execution_count": 181,
   "metadata": {},
   "outputs": [
    {
     "data": {
      "text/plain": [
       "Songbird         0\n",
       "Water Bird       0\n",
       "Insect           0\n",
       "Running Water    0\n",
       "Rain             0\n",
       "Cable            0\n",
       "Wind             0\n",
       "Aircraft         0\n",
       "dtype: int64"
      ]
     },
     "execution_count": 181,
     "metadata": {},
     "output_type": "execute_result"
    }
   ],
   "source": [
    "df_auc.isna().sum()"
   ]
  },
  {
   "cell_type": "code",
   "execution_count": 182,
   "metadata": {},
   "outputs": [
    {
     "data": {
      "text/plain": [
       "Speech           0.484195\n",
       "Noise            0.510109\n",
       "Environmenta+    0.500000\n",
       "Static           0.481435\n",
       "Mains hum        0.500000\n",
       "                   ...   \n",
       "Pulse            0.507234\n",
       "Inside, smal+    0.496423\n",
       "Outside, urb+    0.496414\n",
       "Outside, rur+    0.499651\n",
       "Reverberatio+    0.500000\n",
       "Length: 222, dtype: float64"
      ]
     },
     "execution_count": 182,
     "metadata": {},
     "output_type": "execute_result"
    }
   ],
   "source": [
    "df_auc.mean(axis=1)"
   ]
  },
  {
   "cell_type": "code",
   "execution_count": 183,
   "metadata": {},
   "outputs": [],
   "source": [
    "# sort_function=max"
   ]
  },
  {
   "cell_type": "code",
   "execution_count": null,
   "metadata": {},
   "outputs": [],
   "source": []
  },
  {
   "cell_type": "code",
   "execution_count": 184,
   "metadata": {},
   "outputs": [],
   "source": [
    "tag_df_auc=df_auc.reindex(df_auc.max().sort_values(ascending=False).index, axis=1)"
   ]
  },
  {
   "cell_type": "code",
   "execution_count": 185,
   "metadata": {},
   "outputs": [],
   "source": [
    "label_df_auc=df_auc.reindex(df_auc.max(axis=1).sort_values(ascending=False).index, axis=0)"
   ]
  },
  {
   "cell_type": "code",
   "execution_count": 186,
   "metadata": {},
   "outputs": [],
   "source": [
    "tag_label_df_auc=tag_df_auc.reindex(tag_df_auc.max(axis=1).sort_values(ascending=False).index, axis=0)"
   ]
  },
  {
   "cell_type": "code",
   "execution_count": 187,
   "metadata": {},
   "outputs": [
    {
     "data": {
      "text/plain": [
       "Songbird         0\n",
       "Water Bird       0\n",
       "Insect           0\n",
       "Running Water    0\n",
       "Rain             0\n",
       "Cable            0\n",
       "Wind             0\n",
       "Aircraft         0\n",
       "dtype: int64"
      ]
     },
     "execution_count": 187,
     "metadata": {},
     "output_type": "execute_result"
    }
   ],
   "source": [
    "label_df_auc.isna().sum()"
   ]
  },
  {
   "cell_type": "code",
   "execution_count": 188,
   "metadata": {},
   "outputs": [
    {
     "data": {
      "text/plain": [
       "Aircraft         0\n",
       "Rain             0\n",
       "Wind             0\n",
       "Cable            0\n",
       "Water Bird       0\n",
       "Songbird         0\n",
       "Insect           0\n",
       "Running Water    0\n",
       "dtype: int64"
      ]
     },
     "execution_count": 188,
     "metadata": {},
     "output_type": "execute_result"
    }
   ],
   "source": [
    "tag_df_auc.isna().sum()"
   ]
  },
  {
   "cell_type": "code",
   "execution_count": 189,
   "metadata": {},
   "outputs": [
    {
     "data": {
      "text/plain": [
       "Aircraft         0\n",
       "Rain             0\n",
       "Wind             0\n",
       "Cable            0\n",
       "Water Bird       0\n",
       "Songbird         0\n",
       "Insect           0\n",
       "Running Water    0\n",
       "dtype: int64"
      ]
     },
     "execution_count": 189,
     "metadata": {},
     "output_type": "execute_result"
    }
   ],
   "source": [
    "tag_label_df_auc.isna().sum()"
   ]
  },
  {
   "cell_type": "code",
   "execution_count": null,
   "metadata": {
    "scrolled": true
   },
   "outputs": [],
   "source": []
  },
  {
   "cell_type": "code",
   "execution_count": 190,
   "metadata": {},
   "outputs": [],
   "source": [
    "# plt.figure(figsize=(12, 150))\n",
    "\n",
    "# ax = sns.heatmap(auc_matrix,xticklabels=tag_set,yticklabels=results_labels,annot=True,linewidths=.5)\n"
   ]
  },
  {
   "cell_type": "code",
   "execution_count": 191,
   "metadata": {},
   "outputs": [],
   "source": [
    "# plt.figure(figsize=(12, 150))\n",
    "\n",
    "# ax_label_mean = sns.heatmap(label_df_auc,xticklabels=label_df_auc.columns,yticklabels=label_df_auc.index,annot=True,linewidths=.5)\n"
   ]
  },
  {
   "cell_type": "code",
   "execution_count": 192,
   "metadata": {},
   "outputs": [],
   "source": [
    "# plt.figure(figsize=(12, 100))\n",
    "\n",
    "# ax_tag_mean = sns.heatmap(tag_df_auc,xticklabels=tag_df_auc.columns,yticklabels=tag_df_auc.index,annot=True,linewidths=.5)\n"
   ]
  },
  {
   "cell_type": "code",
   "execution_count": 193,
   "metadata": {},
   "outputs": [],
   "source": [
    "# fig=ax_label_mean.get_figure()\n",
    "# fig.savefig(\"ax_label_mean.png\")"
   ]
  },
  {
   "cell_type": "code",
   "execution_count": 194,
   "metadata": {},
   "outputs": [],
   "source": [
    "# fig=ax_tag_mean.get_figure()\n",
    "# fig.savefig(\"ax_tag_mean.png\")"
   ]
  },
  {
   "cell_type": "code",
   "execution_count": 195,
   "metadata": {},
   "outputs": [],
   "source": [
    "# fig, ax = plt.subplots(figsize=(200, 100))\n",
    "\n",
    "\n",
    "# im, cbar = heatmap(auc_matrix, results_labels,tag_set, ax=ax,\n",
    "#                    cmap=\"YlGn\", cbarlabel=\"harvest [t/year]\")\n",
    "# texts = annotate_heatmap(im, valfmt=\"{x:.1f} t\")\n",
    "\n",
    "# fig.tight_layout()\n",
    "# plt.show()"
   ]
  },
  {
   "cell_type": "code",
   "execution_count": 196,
   "metadata": {},
   "outputs": [
    {
     "name": "stdout",
     "output_type": "stream",
     "text": [
      "(38, 8)\n"
     ]
    }
   ],
   "source": [
    "# FILTER results\n",
    "threshold=0.58\n",
    "print(tag_label_df_auc[tag_label_df_auc.max(axis=1)>threshold].shape)\n",
    "fg_df=tag_label_df_auc[tag_label_df_auc.max(axis=1)>threshold].T"
   ]
  },
  {
   "cell_type": "code",
   "execution_count": 197,
   "metadata": {},
   "outputs": [
    {
     "data": {
      "text/plain": [
       "(8, 0)"
      ]
     },
     "execution_count": 197,
     "metadata": {},
     "output_type": "execute_result"
    },
    {
     "data": {
      "image/png": "[encoded data removed]",
      "text/plain": [
       "<Figure size 1440x144 with 2 Axes>"
      ]
     },
     "metadata": {
      "needs_background": "light"
     },
     "output_type": "display_data"
    }
   ],
   "source": [
    "\n",
    "# plt.figure(figsize=(15, 2))\n",
    "\n",
    "fig, ax = plt.subplots(figsize=(20,2))         # Sample figsize in inches\n",
    "\n",
    "tag_label_max = sns.heatmap(fg_df,xticklabels=fg_df.columns,yticklabels=fg_df.index,annot=True,linewidths=.5)\n",
    "ax.set_ylim(len(fg_df), 0)\n"
   ]
  },
  {
   "cell_type": "code",
   "execution_count": 198,
   "metadata": {},
   "outputs": [],
   "source": [
    "fig=tag_label_max.get_figure()\n",
    "fig.savefig(\"test_filter0.58_rotated_short.svg\",bbox_inches=\"tight\", format='svg')"
   ]
  },
  {
   "cell_type": "code",
   "execution_count": null,
   "metadata": {},
   "outputs": [],
   "source": []
  },
  {
   "cell_type": "code",
   "execution_count": null,
   "metadata": {},
   "outputs": [],
   "source": []
  }
 ],
 "metadata": {
  "kernelspec": {
   "display_name": "speechEnv",
   "language": "python",
   "name": "speechenv"
  },
  "language_info": {
   "codemirror_mode": {
    "name": "ipython",
    "version": 3
   },
   "file_extension": ".py",
   "mimetype": "text/x-python",
   "name": "python",
   "nbconvert_exporter": "python",
   "pygments_lexer": "ipython3",
   "version": "3.7.2"
  }
 },
 "nbformat": 4,
 "nbformat_minor": 2
}
