{
 "cells": [
  {
   "cell_type": "code",
   "execution_count": null,
   "metadata": {},
   "outputs": [],
   "source": [
    "import os\n",
    "import sys\n",
    "\n",
    "module_path = os.path.abspath(os.path.join('../../src'))\n",
    "print(module_path)\n",
    "if module_path not in sys.path:\n",
    "    sys.path.append(module_path)"
   ]
  },
  {
   "cell_type": "code",
   "execution_count": 7,
   "metadata": {},
   "outputs": [],
   "source": [
    "import csv \n",
    "from pathlib import Path\n",
    "from os import listdir\n",
    "import pickle\n",
    "\n",
    "from labeling_utils import load_labels\n",
    "\n",
    "import numpy as np\n",
    "from sklearn.metrics import precision_recall_fscore_support\n",
    "\n",
    "\n",
    "# tags=[\"Songbird\",\"Water Bird\",\"Insect\",\"Running Water\",\"Rain\",\"Cable\",\"Wind\",\"Vehicle\",\"Aircraft\"]\n",
    "tagSet=[\"Songbird\",\"Water Bird\",\"Insect\",\"Running Water\",\"Rain\",\"Cable\",\"Wind\",\"Aircraft\"]\n",
    "\n",
    "from tabulate import tabulate\n"
   ]
  },
  {
   "cell_type": "code",
   "execution_count": 3,
   "metadata": {},
   "outputs": [],
   "source": [
    "def warn(*args, **kwargs):\n",
    "    pass\n",
    "import warnings\n",
    "warnings.warn = warn\n"
   ]
  },
  {
   "cell_type": "markdown",
   "metadata": {},
   "source": []
  },
  {
   "cell_type": "code",
   "execution_count": 4,
   "metadata": {},
   "outputs": [],
   "source": [
    "#LOAD MODEL predictions\n",
    "splits_path= Path('/files/scratch/enis/data/nna/labeling/splits/')\n",
    "\n",
    "# labelsbymodelpath=Path('/scratch/enis/data/nna/labeling/deep_labels/')\n",
    "\n",
    "# dbfile = open(labelsbymodelpath / \"classifications_all_2.pkl\", 'rb')  \n",
    "# modelresults = pickle.load(dbfile) \n",
    "# dbfile.close() "
   ]
  },
  {
   "cell_type": "code",
   "execution_count": null,
   "metadata": {},
   "outputs": [],
   "source": []
  },
  {
   "cell_type": "code",
   "execution_count": 5,
   "metadata": {},
   "outputs": [],
   "source": [
    "# print(len(modelresults))\n",
    "# aiter=iter(modelresults.keys())\n",
    "# akey=next(aiter)\n",
    "# print(akey)\n",
    "# modelresults[akey]"
   ]
  },
  {
   "cell_type": "code",
   "execution_count": null,
   "metadata": {},
   "outputs": [],
   "source": []
  },
  {
   "cell_type": "code",
   "execution_count": 5,
   "metadata": {},
   "outputs": [
    {
     "name": "stdout",
     "output_type": "stream",
     "text": [
      "unique files: 1300 \n",
      "total files 1366\n"
     ]
    }
   ],
   "source": [
    "# LOAD LABELS by human\n",
    "labelsbyhumanpath=Path('/scratch/enis/data/nna/labeling/results/')\n",
    "# filter by username\n",
    "labelsbyhuman=[i for i in listdir(labelsbyhumanpath) if (\".csv\" in i) ]\n",
    "\n",
    "humanresults={}\n",
    "counter=0\n",
    "for apath in labelsbyhuman:\n",
    "    with open(labelsbyhumanpath / apath, newline='') as f:\n",
    "        reader=csv.reader(f)\n",
    "        for row in reader:\n",
    "            counter+=1\n",
    "            humanresults[row[0]]=row[1:]\n",
    "\n",
    "print(\"unique files:\",len(humanresults),\"\\ntotal files\",counter)"
   ]
  },
  {
   "cell_type": "code",
   "execution_count": 8,
   "metadata": {},
   "outputs": [],
   "source": [
    "#Join vehicle and Aircraft\n",
    "for file_name,tagshere in humanresults.items():\n",
    "#     print(file_name,tagshere)\n",
    "    \n",
    "    tagshere=[\"Aircraft\" if tag == \"Vehicle\" else tag for tag in tagSet]"
   ]
  },
  {
   "cell_type": "code",
   "execution_count": null,
   "metadata": {},
   "outputs": [],
   "source": []
  },
  {
   "cell_type": "code",
   "execution_count": null,
   "metadata": {
    "scrolled": true
   },
   "outputs": [],
   "source": []
  },
  {
   "cell_type": "code",
   "execution_count": null,
   "metadata": {},
   "outputs": [],
   "source": []
  },
  {
   "cell_type": "code",
   "execution_count": 11,
   "metadata": {},
   "outputs": [],
   "source": [
    "# items={}\n",
    "# from IPython.display import Audio,display,HTML\n",
    "# from ipywidgets import Output\n",
    "\n",
    "# items[\"mp3_output\"]=Output()\n",
    "\n",
    "# def play_html_modify(mp3file,items={}):\n",
    "# #     out=items[\"mp3_output\"]\n",
    "# #     displayed=display(HTML(\"<audio controls  loop autoplay><source src={} type='audio/mpeg'></audio>\".format(mp3file)))\n",
    "#     displayed=display(HTML(\"<audio controls  loop><source src={} type='audio/mpeg'></audio>\".format(mp3file)))\n"
   ]
  },
  {
   "cell_type": "code",
   "execution_count": 9,
   "metadata": {},
   "outputs": [],
   "source": [
    "def vectorized_y_true(humanresults,tag_set):\n",
    "    y_true={tag: [None]*len(humanresults) for tag in tag_set}\n",
    "    for i,tags in enumerate(humanresults.values()):\n",
    "        # we  only look for tags in tag_set\n",
    "        for tag in tag_set:\n",
    "            if tag in tags:\n",
    "                y_true[tag][i] = 1\n",
    "            else:\n",
    "                y_true[tag][i] = 0 \n",
    "    return y_true"
   ]
  },
  {
   "cell_type": "code",
   "execution_count": 10,
   "metadata": {},
   "outputs": [],
   "source": [
    "y_true_dict=vectorized_y_true(humanresults,tag_set)\n"
   ]
  },
  {
   "cell_type": "code",
   "execution_count": 14,
   "metadata": {},
   "outputs": [],
   "source": [
    "# for i,filename in enumerate(humanresults.keys()):\n",
    "#     orig,audioop = modelresults[filename]\n"
   ]
  },
  {
   "cell_type": "code",
   "execution_count": null,
   "metadata": {},
   "outputs": [],
   "source": []
  },
  {
   "cell_type": "code",
   "execution_count": null,
   "metadata": {},
   "outputs": [],
   "source": []
  },
  {
   "cell_type": "code",
   "execution_count": null,
   "metadata": {},
   "outputs": [],
   "source": []
  },
  {
   "cell_type": "code",
   "execution_count": null,
   "metadata": {
    "scrolled": true
   },
   "outputs": [],
   "source": []
  },
  {
   "cell_type": "code",
   "execution_count": 18,
   "metadata": {},
   "outputs": [],
   "source": []
  },
  {
   "cell_type": "code",
   "execution_count": 19,
   "metadata": {},
   "outputs": [],
   "source": [
    "# class color:\n",
    "#    PURPLE = '\\033[95m'\n",
    "#    CYAN = '\\033[96m'\n",
    "#    DARKCYAN = '\\033[36m'\n",
    "#    BLUE = '\\033[94m'\n",
    "#    GREEN = '\\033[92m'\n",
    "#    YELLOW = '\\033[93m'\n",
    "#    RED = '\\033[91m'\n",
    "#    BOLD = '\\033[1m'\n",
    "#    UNDERLINE = '\\033[4m'\n",
    "#    END = '\\033[0m'\n",
    "    \n",
    "# short_names=['N. Neighbors',\n",
    "#  'Linear SVM',\n",
    "#  'RBF SVM',\n",
    "#  'Gaussian P.',\n",
    "#  'Decision T.',\n",
    "#  'Random F.',\n",
    "#  'NN',\n",
    "#  'AdaBoost',\n",
    "#  'Naive B.',\n",
    "#  'QDA']\n",
    "\n",
    "def print_result(results):\n",
    "    headers= [\"Tag\",]+short_names\n",
    "    table=[]\n",
    "    for tag in (tag_set):\n",
    "        table.append([tag,*results[tag]])\n",
    "\n",
    "    print(tabulate(table, headers=headers))\n",
    "\n",
    "def reverse_results(results,classifierNames=[]):\n",
    "    results_clf2={}\n",
    "    for tag,scores_per_Tag2 in results.items():\n",
    "        scores_per_Tag=scores_per_Tag2[:]\n",
    "        maximum=max(scores_per_Tag)\n",
    "        scores_per_Tag=[color.BOLD + x + color.END if x==maximum else x for x in scores_per_Tag]\n",
    "\n",
    "        for i,name in enumerate(classifierNames):\n",
    "            score=scores_per_Tag[i]\n",
    "            results_clf2.setdefault(name,[])\n",
    "            results_clf2[name].append(score)      \n",
    "    return results_clf2\n",
    "        \n",
    "\n",
    "def print_result2(results,classifierNames=[],tag_set=[]):\n",
    "    results_clf=reverse_results(results,classifierNames)\n",
    "    headers= [\"Tag\",]+list(tag_set)\n",
    "    table=[]\n",
    "#     sample_count=len(next(iter(y_true_dict.values())))\n",
    "#     print(\"Total sample:\",sample_count,\"And threshold is\",prob_threshold)\n",
    "#     for tag in tag_set:\n",
    "#         aresult=[]\n",
    "    for i,name in enumerate(classifierNames):\n",
    "#         positive_count=sum(y_true_dict[tag])\n",
    "        table.append([classifierNames[i],*results_clf[name]])\n",
    "    \n",
    "    print(tabulate(table, headers=headers))\n"
   ]
  },
  {
   "cell_type": "code",
   "execution_count": 20,
   "metadata": {},
   "outputs": [],
   "source": []
  },
  {
   "cell_type": "code",
   "execution_count": 28,
   "metadata": {},
   "outputs": [
    {
     "data": {
      "text/plain": [
       "(1300, 10, 128)"
      ]
     },
     "execution_count": 28,
     "metadata": {},
     "output_type": "execute_result"
    }
   ],
   "source": []
  },
  {
   "cell_type": "code",
   "execution_count": 22,
   "metadata": {},
   "outputs": [],
   "source": [
    "def map_reduce(X,y_true_dict,func_type):\n",
    "    X_copy=X[:]\n",
    "    # X.shape --> (1300, 10, 128)\n",
    "    y_true_dict_copy=copy.deepcopy(y_true_dict)\n",
    "    if func_type==\"Average\":\n",
    "        return np.mean(X_copy,axis=1),y_true_dict_copy\n",
    "    elif func_type==\"Concat\":\n",
    "        return np.reshape(X_copy,(-1,1280)),y_true_dict_copy\n",
    "    elif func_type==\"many2one\":\n",
    "        return np.reshape(X_copy,(-1,1280)),y_true_dict_copy\n",
    "    else:\n",
    "        raise Exception(\"ERROR with embed type\")\n",
    "\n",
    "def pick_embed(embed_type):\n",
    "    # humanresults[proc_embeds[0].replace(\"_embed.npy\",\".mp3\")]\n",
    "    X=[]\n",
    "    for i in humanresults:\n",
    "        if embed_type==\"Raw\":\n",
    "            file_name=i.replace(\".mp3\",\"_rawembed.npy\")\n",
    "        elif embed_type==\"Normalized\":\n",
    "            file_name=i.replace(\".mp3\",\"_embed.npy\")\n",
    "        else:\n",
    "            raise Exception(\"ERROR with embed type\")\n",
    "        an_x=np.load(split_path / file_name)\n",
    "        X.append(an_x)\n",
    "    return np.array(X)"
   ]
  },
  {
   "cell_type": "code",
   "execution_count": null,
   "metadata": {},
   "outputs": [],
   "source": []
  },
  {
   "cell_type": "code",
   "execution_count": null,
   "metadata": {},
   "outputs": [],
   "source": []
  },
  {
   "cell_type": "code",
   "execution_count": 23,
   "metadata": {},
   "outputs": [],
   "source": [
    "# params\n",
    "embed_types=[\"Raw\",\"Normalized\"] # \"Raw\" or \"Normalized\"\n",
    "map_reduce_embeds= [\"many2one\",\"Concat\",\"Average\"] # Concat, Average\n",
    "\n"
   ]
  },
  {
   "cell_type": "code",
   "execution_count": 24,
   "metadata": {},
   "outputs": [
    {
     "name": "stdout",
     "output_type": "stream",
     "text": [
      "\n",
      " Raw embeddings and merged by many2one \n",
      "Insect Nearest Neighbors 0.75\n",
      "Insect Decision Tree 0.72\n",
      "Insect Random Forest 0.75\n",
      "Insect Neural Net 0.79\n",
      "Insect AdaBoost 0.77\n",
      "Insect Naive Bayes 0.74\n",
      "Insect QDA 0.66\n",
      "\n",
      " Normalized embeddings and merged by many2one \n",
      "Insect Nearest Neighbors 0.75\n",
      "Insect Decision Tree 0.71\n",
      "Insect Random Forest 0.77\n",
      "Insect Neural Net 0.78\n",
      "Insect AdaBoost 0.75\n",
      "Insect Naive Bayes 0.79\n",
      "Insect QDA 0.75\n"
     ]
    }
   ],
   "source": [
    "classifier2use = [\n",
    "    KNeighborsClassifier(3),\n",
    "#     SVC(probability=True,kernel=\"linear\", C=0.025),\n",
    "#     SVC(probability=True,gamma=2, C=1),\n",
    "#     GaussianProcessClassifier(1.0 * RBF(1.0)),\n",
    "    DecisionTreeClassifier(max_depth=5),\n",
    "    RandomForestClassifier(max_depth=5, n_estimators=10, max_features=128),\n",
    "    MLPClassifier(alpha=1, max_iter=1000),\n",
    "    MLPClassifier(random_state=84,max_iter=1000),\n",
    "    AdaBoostClassifier(),\n",
    "    GaussianNB(),\n",
    "    QuadraticDiscriminantAnalysis(),\n",
    "    ]\n",
    "\n",
    "classifierNames2use = [\"Nearest Neighbors\", \n",
    "#                        \"Linear SVM\",\n",
    "#                        \"RBF SVM\", \n",
    "#                    \"Gaussian Process\",\n",
    "         \"Decision Tree\", \"Random Forest\", \"Neural Net\", \"AdaBoost\",\n",
    "         \"Naive Bayes\", \"QDA\"]\n",
    "\n",
    "all_results={}\n",
    "for embed_type in embed_types:\n",
    "    X=pick_embed(embed_type)\n",
    "    for map_reduce_type in map_reduce_embeds:\n",
    "        X_transformed,y_dict=map_reduce(X,y_true_dict,map_reduce_type)\n",
    "        print(\"\\n {} embeddings and merged by {} \".format(embed_type,map_reduce_type))\n",
    "        many2one= True if map_reduce_type==\"many2one\" else False\n",
    "        results,models=get_results(X_transformed,y_dict,classifier2use,classifierNames2use,['Insect',],logs=True,many2one=many2one)\n",
    "        all_results[embed_type+\"_\"+map_reduce_type]=results\n",
    "#         print_result2(results,classifierNames,['Aircraft',])\n"
   ]
  },
  {
   "cell_type": "code",
   "execution_count": null,
   "metadata": {},
   "outputs": [],
   "source": []
  },
  {
   "cell_type": "markdown",
   "metadata": {},
   "source": [
    "### run best algorithm  for each tag and save\n"
   ]
  },
  {
   "cell_type": "code",
   "execution_count": 43,
   "metadata": {},
   "outputs": [
    {
     "name": "stdout",
     "output_type": "stream",
     "text": [
      "\n",
      " Raw embeddings and merged by many2one for Wind - classifier Neural Net\n",
      "Tag           Wind\n",
      "----------  ------\n",
      "Neural Net    \u001b[1m0.86\u001b[0m\n",
      "\n",
      " Raw embeddings and merged by Concat for Cable - classifier Gaussian Process\n",
      "Tag                 Cable\n",
      "----------------  -------\n",
      "Gaussian Process     \u001b[1m0.85\u001b[0m\n",
      "\n",
      " Raw embeddings and merged by many2one for Songbird - classifier Neural Net\n",
      "Tag           Songbird\n",
      "----------  ----------\n",
      "Neural Net        \u001b[1m0.85\u001b[0m\n",
      "\n",
      " Raw embeddings and merged by Concat for Running Water - classifier Neural Net\n",
      "Tag           Running Water\n",
      "----------  ---------------\n",
      "Neural Net             \u001b[1m0.91\u001b[0m\n",
      "\n",
      " Raw embeddings and merged by many2one for Water Bird - classifier RBF SVM\n",
      "Tag        Water Bird\n",
      "-------  ------------\n",
      "RBF SVM          \u001b[1m0.77\u001b[0m\n",
      "\n",
      " Raw embeddings and merged by Concat for Insect - classifier Linear SVM\n",
      "Tag           Insect\n",
      "----------  --------\n",
      "Linear SVM       \u001b[1m0.8\u001b[0m\n",
      "\n",
      " Raw embeddings and merged by Concat for Rain - classifier Gaussian Process\n",
      "Tag                 Rain\n",
      "----------------  ------\n",
      "Gaussian Process    \u001b[1m0.86\u001b[0m\n",
      "\n",
      " Raw embeddings and merged by Average for Aircraft - classifier AdaBoost\n",
      "Tag         Aircraft\n",
      "--------  ----------\n",
      "AdaBoost        \u001b[1m0.74\u001b[0m\n"
     ]
    }
   ],
   "source": [
    "all_results={}\n",
    "all_models={}\n",
    "selected_tags={\"Wind\":(\"Raw\",\"many2one\",'Neural Net'),\n",
    "               \"Cable\":(\"Raw\",\"Concat\",\"Gaussian Process\"),\n",
    "               \"Songbird\":(\"Raw\",\"many2one\",\"Neural Net\"),\n",
    "               'Running Water':(\"Raw\",\"Concat\",\"Neural Net\"),\n",
    "               'Water Bird':(\"Raw\",\"many2one\",\"RBF SVM\"),\n",
    "               'Insect':(\"Raw\",\"Concat\",\"Linear SVM\"),\n",
    "               'Rain':(\"Raw\",\"Concat\",\"Gaussian Process\"),\n",
    "               'Aircraft':(\"Raw\",\"Average\",\"AdaBoost\")}\n",
    "\n",
    "X=pick_embed(\"Raw\")\n",
    "previous_emded_type=\"Raw\"\n",
    "for tag,(embed_type,map_reduce_type,classifierName) in selected_tags.items():\n",
    "    if previous_emded_type!=embed_type:\n",
    "        X=pick_embed(embed_type)\n",
    "        previous_emded_type=embed_type\n",
    "    X_transformed,y_dict=map_reduce(X,y_true_dict,map_reduce_type)\n",
    "\n",
    "    \n",
    "    many2one= True if map_reduce_type==\"many2one\" else False\n",
    "    classifier=classifiers[classifierNames.index(classifierName)]\n",
    "    print(\"\\n {} embeddings and merged by {} for {} - classifier {}\".format(embed_type,map_reduce_type,tag,classifierName))\n",
    "\n",
    "    results,models=get_results(X_transformed,y_dict,[classifier,],[classifierName,],[tag,],logs=False,many2one=many2one)\n",
    "    all_results[\"_\".join([embed_type,map_reduce_type,classifierName,tag])]=results\n",
    "    all_models[\"_\".join([embed_type,map_reduce_type,classifierName,tag])]=models\n",
    "    print_result2(results,[classifierName,],[tag,])\n",
    "    "
   ]
  },
  {
   "cell_type": "code",
   "execution_count": 26,
   "metadata": {},
   "outputs": [
    {
     "name": "stdout",
     "output_type": "stream",
     "text": [
      "\n",
      " Raw embeddings and merged by Average for Aircraft - classifier AdaBoost\n",
      "Tag         Aircraft\n",
      "--------  ----------\n",
      "AdaBoost        \u001b[1m0.74\u001b[0m\n"
     ]
    }
   ],
   "source": [
    "# all_results={}\n",
    "# all_models={}\n",
    "# selected_tags={\n",
    "# #                 \"Wind\":(\"Raw\",\"many2one\",'Neural Net'),\n",
    "# #                \"Cable\":(\"Raw\",\"Concat\",\"Gaussian Process\"),\n",
    "# #                \"Songbird\":(\"Raw\",\"many2one\",\"Neural Net\"),\n",
    "# #                'Running Water':(\"Raw\",\"Concat\",\"Neural Net\"),\n",
    "# #                'Water Bird':(\"Raw\",\"many2one\",\"Neural Net\"),\n",
    "# #                'Insect':(\"Raw\",\"many2one\",\"Linear SVM\"),\n",
    "# #                'Rain':(\"Raw\",\"Concat\",\"Neural Net\"),\n",
    "#                 'Aircraft':(\"Raw\",\"Average\",\"AdaBoost\"),\n",
    "#                 }\n",
    "\n",
    "# X=pick_embed(\"Raw\")\n",
    "# previous_emded_type=\"Raw\"\n",
    "# for tag,(embed_type,map_reduce_type,classifierName) in selected_tags.items():\n",
    "#     if previous_emded_type!=embed_type:\n",
    "#         X=pick_embed(embed_type)\n",
    "#         previous_emded_type=embed_type\n",
    "#     X_transformed,y_dict=map_reduce(X,y_true_dict,map_reduce_type)\n",
    "\n",
    "\n",
    "#     many2one= True if map_reduce_type==\"many2one\" else False\n",
    "#     classifier=classifiers[classifierNames.index(classifierName)]\n",
    "#     print(\"\\n {} embeddings and merged by {} for {} - classifier {}\".format(embed_type,map_reduce_type,tag,classifierName))\n",
    "\n",
    "#     results,models=get_results(X_transformed,y_dict,[classifier,],[classifierName,],[tag,],logs=False,many2one=many2one)\n",
    "#     all_results[\"_\".join([embed_type,map_reduce_type,classifierName])]=results\n",
    "#     all_models[\"_\".join([embed_type,map_reduce_type,classifierName])]=models\n",
    "#     print_result2(results,[classifierName,],[tag,])\n",
    "    "
   ]
  },
  {
   "cell_type": "code",
   "execution_count": 50,
   "metadata": {},
   "outputs": [],
   "source": [
    "for sModel in SelectedModels:\n",
    "    all_models[sModel]=list(all_models[sModel].values())[0]\n",
    "\n",
    "    "
   ]
  },
  {
   "cell_type": "code",
   "execution_count": 53,
   "metadata": {},
   "outputs": [
    {
     "data": {
      "text/plain": [
       "[['Raw', 'many2one', 'Neural Net', 'Wind'],\n",
       " ['Raw', 'Concat', 'Gaussian Process', 'Cable'],\n",
       " ['Raw', 'many2one', 'Neural Net', 'Songbird'],\n",
       " ['Raw', 'Concat', 'Neural Net', 'Running Water'],\n",
       " ['Raw', 'many2one', 'RBF SVM', 'Water Bird'],\n",
       " ['Raw', 'Concat', 'Linear SVM', 'Insect'],\n",
       " ['Raw', 'Concat', 'Gaussian Process', 'Rain'],\n",
       " ['Raw', 'Average', 'AdaBoost', 'Aircraft']]"
      ]
     },
     "execution_count": 53,
     "metadata": {},
     "output_type": "execute_result"
    }
   ],
   "source": [
    "[i.split(\"_\") for i in all_models.keys()]"
   ]
  },
  {
   "cell_type": "code",
   "execution_count": 62,
   "metadata": {},
   "outputs": [
    {
     "name": "stdout",
     "output_type": "stream",
     "text": [
      "2020-03-02--14-02\n"
     ]
    }
   ],
   "source": [
    "from datetime import datetime\n",
    "print(timestr)"
   ]
  },
  {
   "cell_type": "code",
   "execution_count": 67,
   "metadata": {},
   "outputs": [
    {
     "name": "stdout",
     "output_type": "stream",
     "text": [
      "/home/enis/projects/nna/src/assets/sklearnModels/Wind_Neural Net_Raw_many2one_2020-03-02--14-06.joblib\n",
      "/home/enis/projects/nna/src/assets/sklearnModels/Cable_Gaussian Process_Raw_Concat_2020-03-02--14-06.joblib\n",
      "/home/enis/projects/nna/src/assets/sklearnModels/Songbird_Neural Net_Raw_many2one_2020-03-02--14-06.joblib\n",
      "/home/enis/projects/nna/src/assets/sklearnModels/Running Water_Neural Net_Raw_Concat_2020-03-02--14-06.joblib\n",
      "/home/enis/projects/nna/src/assets/sklearnModels/Water Bird_RBF SVM_Raw_many2one_2020-03-02--14-06.joblib\n",
      "/home/enis/projects/nna/src/assets/sklearnModels/Insect_Linear SVM_Raw_Concat_2020-03-02--14-06.joblib\n",
      "/home/enis/projects/nna/src/assets/sklearnModels/Rain_Gaussian Process_Raw_Concat_2020-03-02--14-06.joblib\n",
      "/home/enis/projects/nna/src/assets/sklearnModels/Aircraft_AdaBoost_Raw_Average_2020-03-02--14-06.joblib\n"
     ]
    }
   ],
   "source": [
    "for sModel in list(all_models.keys()):\n",
    "    model=all_models[sModel]\n",
    "    embed_type,map_reduce_type,classifierName,tag=sModel.split(\"_\")\n",
    "    timestr=datetime.now().strftime(\"%Y-%m-%d--%H-%M\")\n",
    "    pickle_name=\"_\".join([tag,classifierName,embed_type,map_reduce_type,timestr])\n",
    "    pickle_name+=\".joblib\"\n",
    "    pickle_name=\"/home/enis/projects/nna/src/assets/sklearnModels/\"+pickle_name\n",
    "    print(pickle_name)\n",
    "    joblib.dump(model, pickle_name) "
   ]
  },
  {
   "cell_type": "code",
   "execution_count": 267,
   "metadata": {},
   "outputs": [
    {
     "ename": "IndentationError",
     "evalue": "unexpected indent (<ipython-input-267-c30258936285>, line 9)",
     "output_type": "error",
     "traceback": [
      "\u001b[0;36m  File \u001b[0;32m\"<ipython-input-267-c30258936285>\"\u001b[0;36m, line \u001b[0;32m9\u001b[0m\n\u001b[0;31m    embed_type,map_reduce_type,timestampStr=modelPath.split(\"/\")[-1].split(\"_\")\u001b[0m\n\u001b[0m    ^\u001b[0m\n\u001b[0;31mIndentationError\u001b[0m\u001b[0;31m:\u001b[0m unexpected indent\n"
     ]
    }
   ],
   "source": [
    "filename=\"/scratch/enis/data/nna/real/ivvavik/SINP01/2019/SINP-01_20190516_033000_vgg/SINP-01_20190516_033000_rawembeddings000.npy\"\n",
    "modelPath=\"/home/enis/projects/nna/src/assets/sklearnModels/Wind_Neural Net_Raw_many2one_2020-03-02--14-06.joblib\"\n",
    "modelPath=\"/home/enis/projects/nna/src/assets/sklearnModels/Aircraft_AdaBoost_Raw_Average_2020-03-02--14-06.joblib\"\n",
    "modelPath=\"/home/enis/projects/nna/src/assets/sklearnModels/Insect_Linear SVM_Raw_Concat_2020-03-02--14-06.joblib\"\n",
    "model=joblib.load(modelPath)\n",
    "rawembeddings=np.load(filename)\n",
    "rawembeddings=rawembeddings[:4554,:]\n",
    "output=modelPath.split(\"/\")[-1].split(\"_\")\n",
    "tag,classifierName,embed_type,map_reduce_type,timestampStr=output\n",
    "res=map_predict(rawembeddings,model,map_reduce_type)\n",
    "\n"
   ]
  },
  {
   "cell_type": "code",
   "execution_count": null,
   "metadata": {},
   "outputs": [],
   "source": []
  },
  {
   "cell_type": "code",
   "execution_count": 186,
   "metadata": {},
   "outputs": [
    {
     "data": {
      "text/plain": [
       "(4550, 128)"
      ]
     },
     "execution_count": 186,
     "metadata": {},
     "output_type": "execute_result"
    }
   ],
   "source": [
    "rawembeddings[:-(rawembeddings.shape[0]%10)].shape"
   ]
  },
  {
   "cell_type": "code",
   "execution_count": null,
   "metadata": {},
   "outputs": [],
   "source": []
  }
 ],
 "metadata": {
  "kernelspec": {
   "display_name": "speechEnv",
   "language": "python",
   "name": "speechenv"
  },
  "language_info": {
   "codemirror_mode": {
    "name": "ipython",
    "version": 3
   },
   "file_extension": ".py",
   "mimetype": "text/x-python",
   "name": "python",
   "nbconvert_exporter": "python",
   "pygments_lexer": "ipython3",
   "version": "3.7.2"
  }
 },
 "nbformat": 4,
 "nbformat_minor": 4
}
