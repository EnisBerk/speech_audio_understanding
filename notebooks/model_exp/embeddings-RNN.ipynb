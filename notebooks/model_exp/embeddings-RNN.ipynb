{
 "cells": [
  {
   "cell_type": "code",
   "execution_count": null,
   "metadata": {},
   "outputs": [],
   "source": [
    "import os\n",
    "import sys\n",
    "\n",
    "module_path = os.path.abspath(os.path.join('../../src'))\n",
    "print(module_path)\n",
    "if module_path not in sys.path:\n",
    "    sys.path.append(module_path)"
   ]
  },
  {
   "cell_type": "code",
   "execution_count": 1,
   "metadata": {},
   "outputs": [],
   "source": [
    "import csv \n",
    "from pathlib import Path\n",
    "from os import listdir\n",
    "import pickle\n",
    "\n",
    "from labeling_utils import load_labels\n",
    "\n",
    "import numpy as np\n",
    "from sklearn.metrics import precision_recall_fscore_support\n",
    "\n",
    "\n",
    "tags=[\"Songbird\",\"Water Bird\",\"Insect\",\"Running Water\",\"Rain\",\"Cable\",\"Wind\",\"Vehicle\",\"Aircraft\"]\n",
    "from tabulate import tabulate\n",
    "tag_set=tags[:]\n"
   ]
  },
  {
   "cell_type": "markdown",
   "metadata": {},
   "source": [
    "* Count only highest ranking tag (what if both of them exist)\n",
    "* Bird tag is confusing, it can be also waterbird, how to handle ? Also Animal\n",
    "* "
   ]
  },
  {
   "cell_type": "code",
   "execution_count": 2,
   "metadata": {},
   "outputs": [],
   "source": [
    "#LOAD MODEL predictions\n",
    "splits_path= Path('/files/scratch/enis/data/nna/labeling/splits/')\n",
    "\n",
    "labelsbymodelpath=Path('/scratch/enis/data/nna/labeling/deep_labels/')\n",
    "dbfile = open(labelsbymodelpath / \"classifications_all_2.pkl\", 'rb')  \n",
    "modelresults = pickle.load(dbfile) \n",
    "dbfile.close() "
   ]
  },
  {
   "cell_type": "code",
   "execution_count": 3,
   "metadata": {},
   "outputs": [],
   "source": [
    "# print(len(modelresults))\n",
    "# aiter=iter(modelresults.keys())\n",
    "# akey=next(aiter)\n",
    "# print(akey)\n",
    "# modelresults[akey]"
   ]
  },
  {
   "cell_type": "code",
   "execution_count": null,
   "metadata": {},
   "outputs": [],
   "source": []
  },
  {
   "cell_type": "code",
   "execution_count": 4,
   "metadata": {},
   "outputs": [
    {
     "name": "stdout",
     "output_type": "stream",
     "text": [
      "unique files: 601 \n",
      "total files 609\n"
     ]
    }
   ],
   "source": [
    "# LOAD LABELS by human\n",
    "labelsbyhumanpath=Path('/scratch/enis/data/nna/labeling/results/')\n",
    "# filter by username\n",
    "labelsbyhuman=[i for i in listdir(labelsbyhumanpath) if (\".csv\" in i and \"Enis\" in i) ]\n",
    "\n",
    "humanresults={}\n",
    "counter=0\n",
    "for apath in labelsbyhuman:\n",
    "    with open(labelsbyhumanpath / apath, newline='') as f:\n",
    "        reader=csv.reader(f)\n",
    "        for row in reader:\n",
    "            counter+=1\n",
    "            humanresults[row[0]]=row[1:]\n",
    "\n",
    "print(\"unique files:\",len(humanresults),\"\\ntotal files\",counter)"
   ]
  },
  {
   "cell_type": "code",
   "execution_count": 5,
   "metadata": {},
   "outputs": [],
   "source": [
    "histogram={}\n",
    "for file_name in humanresults:\n",
    "    place_name=file_name.split(\"_\")[0]\n",
    "#     print(file_name)\n",
    "    histogram.setdefault(place_name,0)\n",
    "    histogram[place_name]+=1"
   ]
  },
  {
   "cell_type": "code",
   "execution_count": 6,
   "metadata": {
    "scrolled": true
   },
   "outputs": [],
   "source": [
    "a=list(histogram.items())\n",
    "a.sort(key=lambda x:x[1],reverse=True)\n",
    "# a"
   ]
  },
  {
   "cell_type": "code",
   "execution_count": 7,
   "metadata": {},
   "outputs": [],
   "source": [
    "# load name of the labels\n",
    "labels=load_labels()"
   ]
  },
  {
   "cell_type": "code",
   "execution_count": 8,
   "metadata": {},
   "outputs": [],
   "source": [
    "items={}\n",
    "from IPython.display import Audio,display,HTML\n",
    "from ipywidgets import Output\n",
    "\n",
    "items[\"mp3_output\"]=Output()\n",
    "\n",
    "def play_html_modify(mp3file,items={}):\n",
    "#     out=items[\"mp3_output\"]\n",
    "#     displayed=display(HTML(\"<audio controls  loop autoplay><source src={} type='audio/mpeg'></audio>\".format(mp3file)))\n",
    "    displayed=display(HTML(\"<audio controls  loop><source src={} type='audio/mpeg'></audio>\".format(mp3file)))\n"
   ]
  },
  {
   "cell_type": "code",
   "execution_count": 9,
   "metadata": {},
   "outputs": [],
   "source": [
    "def vectorized_y_true(humanresults,tag_set):\n",
    "    y_true={tag: [None]*len(humanresults) for tag in tag_set}\n",
    "    for i,tags in enumerate(humanresults.values()):\n",
    "        # we  only look for tags in tag_set\n",
    "        for tag in tag_set:\n",
    "            if tag in tags:\n",
    "                y_true[tag][i] = 1\n",
    "            else:\n",
    "                y_true[tag][i] = 0 \n",
    "    return y_true"
   ]
  },
  {
   "cell_type": "code",
   "execution_count": 10,
   "metadata": {},
   "outputs": [],
   "source": [
    "y_true_dict=vectorized_y_true(humanresults,tag_set)\n"
   ]
  },
  {
   "cell_type": "code",
   "execution_count": 11,
   "metadata": {},
   "outputs": [],
   "source": [
    "# for i,filename in enumerate(humanresults.keys()):\n",
    "#     orig,audioop = modelresults[filename]\n"
   ]
  },
  {
   "cell_type": "code",
   "execution_count": 12,
   "metadata": {},
   "outputs": [],
   "source": [
    "split_path=Path('/scratch/enis/data/nna/labeling/split_embeddings/')\n",
    "# filter by username\n",
    "split_embeds=[i for i in listdir(split_path) ]\n",
    "raw_embeds =  [i for i in split_embeds if \"rawembed\" in i]\n",
    "proc_embeds = [i for i in split_embeds if \"_embed\" in i]"
   ]
  },
  {
   "cell_type": "code",
   "execution_count": 13,
   "metadata": {},
   "outputs": [
    {
     "data": {
      "text/plain": [
       "(10439, 10439, 20878)"
      ]
     },
     "execution_count": 13,
     "metadata": {},
     "output_type": "execute_result"
    }
   ],
   "source": [
    "len(proc_embeds),len(raw_embeds),len(split_embeds)"
   ]
  },
  {
   "cell_type": "code",
   "execution_count": null,
   "metadata": {},
   "outputs": [],
   "source": []
  },
  {
   "cell_type": "code",
   "execution_count": null,
   "metadata": {},
   "outputs": [],
   "source": []
  },
  {
   "cell_type": "code",
   "execution_count": null,
   "metadata": {},
   "outputs": [],
   "source": []
  },
  {
   "cell_type": "code",
   "execution_count": null,
   "metadata": {},
   "outputs": [],
   "source": []
  },
  {
   "cell_type": "code",
   "execution_count": 1,
   "metadata": {
    "scrolled": true
   },
   "outputs": [],
   "source": [
    "import numpy as np\n",
    "import matplotlib.pyplot as plt\n",
    "from matplotlib.colors import ListedColormap\n",
    "from sklearn.model_selection import train_test_split\n",
    "# from sklearn.preprocessing import StandardScaler\n",
    "# from sklearn.datasets import make_moons, make_circles, make_classification\n",
    "\n",
    "from sklearn.metrics import roc_auc_score\n"
   ]
  },
  {
   "cell_type": "code",
   "execution_count": 2,
   "metadata": {},
   "outputs": [],
   "source": [
    "\n",
    "# h = .02  # step size in the mesh\n",
    "\n",
    "# names = [\"Nearest Neighbors\", \"Linear SVM\", \"RBF SVM\", \"Gaussian Process\",\n",
    "#          \"Decision Tree\", \"Random Forest\", \"Neural Net\", \"AdaBoost\",\n",
    "#          \"Naive Bayes\", \"QDA\"]\n",
    "\n",
    "# classifiers = [\n",
    "#     KNeighborsClassifier(3),\n",
    "#     SVC(probability=True,kernel=\"linear\", C=0.025),\n",
    "#     SVC(probability=True,gamma=2, C=1),\n",
    "#     GaussianProcessClassifier(1.0 * RBF(1.0)),\n",
    "#     DecisionTreeClassifier(max_depth=5),\n",
    "#     RandomForestClassifier(max_depth=5, n_estimators=10, max_features=1),\n",
    "#     MLPClassifier(alpha=1, max_iter=1000),\n",
    "#     AdaBoostClassifier(),\n",
    "#     GaussianNB(),\n",
    "#     QuadraticDiscriminantAnalysis()]\n",
    "\n"
   ]
  },
  {
   "cell_type": "code",
   "execution_count": 3,
   "metadata": {},
   "outputs": [],
   "source": [
    "class color:\n",
    "   PURPLE = '\\033[95m'\n",
    "   CYAN = '\\033[96m'\n",
    "   DARKCYAN = '\\033[36m'\n",
    "   BLUE = '\\033[94m'\n",
    "   GREEN = '\\033[92m'\n",
    "   YELLOW = '\\033[93m'\n",
    "   RED = '\\033[91m'\n",
    "   BOLD = '\\033[1m'\n",
    "   UNDERLINE = '\\033[4m'\n",
    "   END = '\\033[0m'\n",
    "    \n",
    "short_names=['N. Neighbors',\n",
    " 'Linear SVM',\n",
    " 'RBF SVM',\n",
    " 'Gaussian P.',\n",
    " 'Decision T.',\n",
    " 'Random F.',\n",
    " 'NN',\n",
    " 'AdaBoost',\n",
    " 'Naive B.',\n",
    " 'QDA']\n",
    "\n",
    "def print_result(results):\n",
    "    headers= [\"Tag\",]+short_names\n",
    "    table=[]\n",
    "#     sample_count=len(next(iter(y_true_dict.values())))\n",
    "#     print(\"Total sample:\",sample_count,\"And threshold is\",prob_threshold)\n",
    "    for tag in (tag_set):\n",
    "#         positive_count=sum(y_true_dict[tag])\n",
    "        table.append([tag,*results[tag]])\n",
    "\n",
    "    print(tabulate(table, headers=headers))\n",
    "\n",
    "def reverse_results(results):\n",
    "    results_clf2={}\n",
    "    for tag,scores_per_Tag2 in results.items():\n",
    "        scores_per_Tag=scores_per_Tag2[:]\n",
    "        maximum=max(scores_per_Tag)\n",
    "        scores_per_Tag=[color.BOLD + x + color.END if x==maximum else x for x in scores_per_Tag]\n",
    "\n",
    "        for i,name in enumerate(names):\n",
    "            score=scores_per_Tag[i]\n",
    "            results_clf2.setdefault(name,[])\n",
    "            results_clf2[name].append(score)      \n",
    "    return results_clf2\n",
    "        \n",
    "\n",
    "def print_result2(results):\n",
    "    results_clf=reverse_results(results)\n",
    "    headers= [\"Tag\",]+list(tag_set)\n",
    "    table=[]\n",
    "#     sample_count=len(next(iter(y_true_dict.values())))\n",
    "#     print(\"Total sample:\",sample_count,\"And threshold is\",prob_threshold)\n",
    "#     for tag in tag_set:\n",
    "#         aresult=[]\n",
    "    for i,name in enumerate(names):\n",
    "#         positive_count=sum(y_true_dict[tag])\n",
    "        table.append([short_names[i],*results_clf[name]])\n",
    "    \n",
    "    print(tabulate(table, headers=headers))\n"
   ]
  },
  {
   "cell_type": "code",
   "execution_count": 4,
   "metadata": {},
   "outputs": [],
   "source": [
    "def get_results(X_input,y_true_dict,classifiers,names,tag_set,logs=False):\n",
    "    results={}\n",
    "    for tag in (tag_set):\n",
    "        X_train, X_test, y_train, y_test = train_test_split(\n",
    "            X_input, y_true_dict[tag], test_size=0.2, random_state=42)\n",
    "        X_train, X_val, y_train, y_val = train_test_split(\n",
    "            X_train, y_train, test_size=0.25, random_state=42)\n",
    "\n",
    "        for name, clf in zip(names, classifiers):\n",
    "            try:\n",
    "                clf.fit(X_train, y_train)\n",
    "                y_val_pred=clf.predict_proba(X_val)\n",
    "                score=roc_auc_score(y_val,y_val_pred[:,1:])\n",
    "    #             score = clf.score(X_val, y_val)\n",
    "                score=\"{:.2}\".format(score)\n",
    "\n",
    "                results.setdefault(tag,[])\n",
    "\n",
    "                results[tag].append(score)\n",
    "\n",
    "                if logs : print(tag,name,score) \n",
    "            except:\n",
    "                score=\"-1\"\n",
    "\n",
    "                results.setdefault(tag,[])\n",
    "\n",
    "                results[tag].append(score)\n",
    "\n",
    "                if logs : print(tag,name,score) \n",
    "    return results"
   ]
  },
  {
   "cell_type": "code",
   "execution_count": 5,
   "metadata": {},
   "outputs": [],
   "source": [
    "def map_reduce(X,func_type):\n",
    "    if func_type==\"Average\":\n",
    "        return np.mean(X,axis=1)\n",
    "    elif func_type==\"Concat\":\n",
    "        return np.reshape(X,(601,-1))\n",
    "    else:\n",
    "        raise Exception(\"ERROR with embed type\")\n",
    "\n",
    "def pick_embed(embed_type):\n",
    "    # humanresults[proc_embeds[0].replace(\"_embed.npy\",\".mp3\")]\n",
    "    X=[]\n",
    "    for i in humanresults:\n",
    "        if embed_type==\"Raw\":\n",
    "            file_name=i.replace(\".mp3\",\"_rawembed.npy\")\n",
    "        elif embed_type==\"Normalized\":\n",
    "            file_name=i.replace(\".mp3\",\"_embed.npy\")\n",
    "        else:\n",
    "            raise Exception(\"ERROR with embed type\")\n",
    "        an_x=np.load(split_path / file_name)\n",
    "        X.append(an_x)\n",
    "    return X"
   ]
  },
  {
   "cell_type": "code",
   "execution_count": 6,
   "metadata": {},
   "outputs": [],
   "source": [
    "# params\n",
    "embed_types=[\"Raw\",\"Normalized\"] # \"Raw\" or \"Normalized\"\n",
    "map_reduce_embeds= [\"Average\",\"Concat\"]\n",
    "\n",
    "embed_type=embed_types[0]\n",
    "map_reduce_type=map_reduce_embeds[0]\n",
    "\n"
   ]
  },
  {
   "cell_type": "code",
   "execution_count": 45,
   "metadata": {},
   "outputs": [
    {
     "name": "stdout",
     "output_type": "stream",
     "text": [
      "Raw embeddings and merged by Average \n",
      "\n",
      "Tag             Songbird    Water Bird    Insect    Running Water    Rain    Cable    Wind    Vehicle    Aircraft\n",
      "------------  ----------  ------------  --------  ---------------  ------  -------  ------  ---------  ----------\n",
      "N. Neighbors        0.72          0.53      0.53             0.71    0.82     0.8     \u001b[1m0.91\u001b[0m         \u001b[1m-1\u001b[0m       0.5\n",
      "Linear SVM          \u001b[1m0.89\u001b[0m          \u001b[1m0.75\u001b[0m      \u001b[1m0.74\u001b[0m             0.91    0.82     0.84    0.87         \u001b[1m-1\u001b[0m       0.059\n",
      "RBF SVM             0.83          0.67      0.48             0.74    0.81     0.84    0.9          \u001b[1m-1\u001b[0m       0.87\n",
      "Gaussian P.         0.87          0.65      0.72             \u001b[1m0.94\u001b[0m    0.8      0.91    \u001b[1m0.91\u001b[0m         \u001b[1m-1\u001b[0m       0.77\n",
      "Decision T.         0.7           0.57      0.58             0.85    0.64     0.8     0.76         \u001b[1m-1\u001b[0m       0.5\n",
      "Random F.           0.74          0.62      0.67             0.68    \u001b[1m0.86\u001b[0m     0.75    0.86         \u001b[1m-1\u001b[0m       0.34\n",
      "NN                  0.88          0.72      0.7              \u001b[1m0.94\u001b[0m    0.82     \u001b[1m0.92\u001b[0m    0.9          \u001b[1m-1\u001b[0m       0.87\n",
      "AdaBoost            0.79          0.63      0.72             0.88    0.82     0.82    0.87         \u001b[1m-1\u001b[0m       \u001b[1m0.96\u001b[0m\n",
      "Naive B.            0.69          0.6       0.65             0.82    0.84     0.69    0.74         \u001b[1m-1\u001b[0m       0.48\n",
      "QDA                 0.5           0.5       0.5              0.5     0.5      0.63    0.75         \u001b[1m-1\u001b[0m       0.5\n",
      "Raw embeddings and merged by Concat \n",
      "\n",
      "Tag             Songbird    Water Bird    Insect    Running Water    Rain    Cable    Wind    Vehicle    Aircraft\n",
      "------------  ----------  ------------  --------  ---------------  ------  -------  ------  ---------  ----------\n",
      "N. Neighbors        0.66          0.56      0.64             0.79    0.68     0.7     0.88         \u001b[1m-1\u001b[0m       0.5\n",
      "Linear SVM          0.87          0.74      \u001b[1m0.76\u001b[0m             0.88    \u001b[1m0.79\u001b[0m     0.85    0.89         \u001b[1m-1\u001b[0m       0.076\n",
      "RBF SVM             0.49          0.53      0.44             0.49    0.42     0.4     0.34         \u001b[1m-1\u001b[0m       0.35\n",
      "Gaussian P.         \u001b[1m0.9\u001b[0m           0.65      \u001b[1m0.76\u001b[0m             \u001b[1m0.92\u001b[0m    0.77     \u001b[1m0.86\u001b[0m    \u001b[1m0.9\u001b[0m          \u001b[1m-1\u001b[0m       0.74\n",
      "Decision T.         0.73          0.45      0.47             0.62    0.57     0.64    0.71         \u001b[1m-1\u001b[0m       0.5\n",
      "Random F.           0.62          0.53      0.68             0.58    0.74     0.72    0.83         \u001b[1m-1\u001b[0m       0.53\n",
      "NN                  0.83          0.68      0.63             0.87    0.72     0.85    0.88         \u001b[1m-1\u001b[0m       0.9\n",
      "AdaBoost            0.81          \u001b[1m0.75\u001b[0m      0.62             0.82    0.72     0.8     0.83         \u001b[1m-1\u001b[0m       \u001b[1m0.98\u001b[0m\n",
      "Naive B.            0.6           0.57      0.56             0.74    0.64     0.58    0.68         \u001b[1m-1\u001b[0m       0.5\n",
      "QDA                 0.53          0.52      0.52             0.57    0.52     0.58    0.55         \u001b[1m-1\u001b[0m       0.47\n",
      "Normalized embeddings and merged by Average \n",
      "\n",
      "Tag             Songbird    Water Bird    Insect    Running Water    Rain    Cable    Wind    Vehicle    Aircraft\n",
      "------------  ----------  ------------  --------  ---------------  ------  -------  ------  ---------  ----------\n",
      "N. Neighbors        0.74          0.54      0.52             0.71    0.83     0.82    0.87         \u001b[1m-1\u001b[0m        0.5\n",
      "Linear SVM          0.75          0.59      0.6              0.79    0.7      0.82    0.83         \u001b[1m-1\u001b[0m        0.56\n",
      "RBF SVM             0.5           0.5       0.5              0.5     0.5      0.5     0.5          \u001b[1m-1\u001b[0m        0.5\n",
      "Gaussian P.         0.5           0.5       0.5              0.5     0.5      0.5     0.5          \u001b[1m-1\u001b[0m        0.5\n",
      "Decision T.         0.7           0.56      0.65             0.65    0.72     0.7     0.74         \u001b[1m-1\u001b[0m        0.5\n",
      "Random F.           0.75          \u001b[1m0.71\u001b[0m      0.64             0.79    0.74     0.81    0.87         \u001b[1m-1\u001b[0m        0.39\n",
      "NN                  \u001b[1m0.79\u001b[0m          0.58      0.71             \u001b[1m0.89\u001b[0m    \u001b[1m0.88\u001b[0m     0.83    0.85         \u001b[1m-1\u001b[0m        \u001b[1m0.81\u001b[0m\n",
      "AdaBoost            \u001b[1m0.79\u001b[0m          \u001b[1m0.71\u001b[0m      0.64             0.82    0.67     \u001b[1m0.84\u001b[0m    \u001b[1m0.89\u001b[0m         \u001b[1m-1\u001b[0m        0.55\n",
      "Naive B.            \u001b[1m0.79\u001b[0m          0.6       \u001b[1m0.73\u001b[0m             0.81    0.83     0.81    0.86         \u001b[1m-1\u001b[0m        0.7\n",
      "QDA                 0.5           0.5       0.5              0.5     0.5      0.5     0.88         \u001b[1m-1\u001b[0m        0.5\n",
      "Normalized embeddings and merged by Concat \n",
      "\n",
      "Tag             Songbird    Water Bird    Insect    Running Water    Rain    Cable    Wind    Vehicle    Aircraft\n",
      "------------  ----------  ------------  --------  ---------------  ------  -------  ------  ---------  ----------\n",
      "N. Neighbors        0.65          0.55      0.63             0.75    \u001b[1m0.75\u001b[0m     0.74    \u001b[1m0.86\u001b[0m         \u001b[1m-1\u001b[0m        0.49\n",
      "Linear SVM          0.74          0.67      0.55             0.77    0.69     \u001b[1m0.81\u001b[0m    0.81         \u001b[1m-1\u001b[0m        0.17\n",
      "RBF SVM             0.5           0.5       0.5              0.5     0.5      0.5     0.5          \u001b[1m-1\u001b[0m        0.5\n",
      "Gaussian P.         0.5           0.5       0.5              0.5     0.5      0.5     0.5          \u001b[1m-1\u001b[0m        0.5\n",
      "Decision T.         0.78          0.52      0.56             0.64    0.56     0.63    0.71         \u001b[1m-1\u001b[0m        0.5\n",
      "Random F.           0.68          0.6       0.62             0.75    0.73     0.76    0.85         \u001b[1m-1\u001b[0m        0.38\n",
      "NN                  \u001b[1m0.79\u001b[0m          0.57      0.56             0.79    0.65     0.77    0.82         \u001b[1m-1\u001b[0m        0.5\n",
      "AdaBoost            0.68          \u001b[1m0.73\u001b[0m      0.56             0.78    0.64     0.8     0.85         \u001b[1m-1\u001b[0m        \u001b[1m0.75\u001b[0m\n",
      "Naive B.            0.73          0.63      \u001b[1m0.7\u001b[0m              \u001b[1m0.81\u001b[0m    0.6      0.76    0.83         \u001b[1m-1\u001b[0m        0.41\n",
      "QDA                 0.52          0.61      0.51             0.47    0.41     0.5     0.6          \u001b[1m-1\u001b[0m        0.51\n"
     ]
    }
   ],
   "source": [
    "def warn(*args, **kwargs):\n",
    "    pass\n",
    "import warnings\n",
    "warnings.warn = warn\n",
    "\n",
    "all_results={}\n",
    "for embed_type in embed_types:\n",
    "    for map_reduce_type in map_reduce_embeds:\n",
    "        X=pick_embed(embed_type)\n",
    "        X=map_reduce(X,map_reduce_type)\n",
    "        print(\"\\n {} embeddings and merged by {} \".format(embed_type,map_reduce_type))\n",
    "        results=get_results(X,y_true_dict,classifiers,names,tag_set,logs=False)\n",
    "        all_results[embed_type+\"_\"+map_reduce_type]=results\n",
    "        print_result2(results)"
   ]
  },
  {
   "cell_type": "code",
   "execution_count": 47,
   "metadata": {},
   "outputs": [
    {
     "name": "stdout",
     "output_type": "stream",
     "text": [
      "\n",
      "Raw embeddings and merged by Average \n",
      "Tag             Songbird    Water Bird    Insect    Running Water    Rain    Cable    Wind    Vehicle    Aircraft\n",
      "------------  ----------  ------------  --------  ---------------  ------  -------  ------  ---------  ----------\n",
      "N. Neighbors        0.72          0.53      0.53             0.71    0.82     0.8     \u001b[1m0.91\u001b[0m         \u001b[1m-1\u001b[0m       0.5\n",
      "Linear SVM          \u001b[1m0.89\u001b[0m          \u001b[1m0.75\u001b[0m      \u001b[1m0.74\u001b[0m             0.91    0.82     0.84    0.87         \u001b[1m-1\u001b[0m       0.059\n",
      "RBF SVM             0.83          0.67      0.48             0.74    0.81     0.84    0.9          \u001b[1m-1\u001b[0m       0.87\n",
      "Gaussian P.         0.87          0.65      0.72             \u001b[1m0.94\u001b[0m    0.8      0.91    \u001b[1m0.91\u001b[0m         \u001b[1m-1\u001b[0m       0.77\n",
      "Decision T.         0.7           0.57      0.58             0.85    0.64     0.8     0.76         \u001b[1m-1\u001b[0m       0.5\n",
      "Random F.           0.74          0.62      0.67             0.68    \u001b[1m0.86\u001b[0m     0.75    0.86         \u001b[1m-1\u001b[0m       0.34\n",
      "NN                  0.88          0.72      0.7              \u001b[1m0.94\u001b[0m    0.82     \u001b[1m0.92\u001b[0m    0.9          \u001b[1m-1\u001b[0m       0.87\n",
      "AdaBoost            0.79          0.63      0.72             0.88    0.82     0.82    0.87         \u001b[1m-1\u001b[0m       \u001b[1m0.96\u001b[0m\n",
      "Naive B.            0.69          0.6       0.65             0.82    0.84     0.69    0.74         \u001b[1m-1\u001b[0m       0.48\n",
      "QDA                 0.5           0.5       0.5              0.5     0.5      0.63    0.75         \u001b[1m-1\u001b[0m       0.5\n",
      "\n",
      "Raw embeddings and merged by Concat \n",
      "Tag             Songbird    Water Bird    Insect    Running Water    Rain    Cable    Wind    Vehicle    Aircraft\n",
      "------------  ----------  ------------  --------  ---------------  ------  -------  ------  ---------  ----------\n",
      "N. Neighbors        0.66          0.56      0.64             0.79    0.68     0.7     0.88         \u001b[1m-1\u001b[0m       0.5\n",
      "Linear SVM          0.87          0.74      \u001b[1m0.76\u001b[0m             0.88    \u001b[1m0.79\u001b[0m     0.85    0.89         \u001b[1m-1\u001b[0m       0.076\n",
      "RBF SVM             0.49          0.53      0.44             0.49    0.42     0.4     0.34         \u001b[1m-1\u001b[0m       0.35\n",
      "Gaussian P.         \u001b[1m0.9\u001b[0m           0.65      \u001b[1m0.76\u001b[0m             \u001b[1m0.92\u001b[0m    0.77     \u001b[1m0.86\u001b[0m    \u001b[1m0.9\u001b[0m          \u001b[1m-1\u001b[0m       0.74\n",
      "Decision T.         0.73          0.45      0.47             0.62    0.57     0.64    0.71         \u001b[1m-1\u001b[0m       0.5\n",
      "Random F.           0.62          0.53      0.68             0.58    0.74     0.72    0.83         \u001b[1m-1\u001b[0m       0.53\n",
      "NN                  0.83          0.68      0.63             0.87    0.72     0.85    0.88         \u001b[1m-1\u001b[0m       0.9\n",
      "AdaBoost            0.81          \u001b[1m0.75\u001b[0m      0.62             0.82    0.72     0.8     0.83         \u001b[1m-1\u001b[0m       \u001b[1m0.98\u001b[0m\n",
      "Naive B.            0.6           0.57      0.56             0.74    0.64     0.58    0.68         \u001b[1m-1\u001b[0m       0.5\n",
      "QDA                 0.53          0.52      0.52             0.57    0.52     0.58    0.55         \u001b[1m-1\u001b[0m       0.47\n",
      "\n",
      "Normalized embeddings and merged by Average \n",
      "Tag             Songbird    Water Bird    Insect    Running Water    Rain    Cable    Wind    Vehicle    Aircraft\n",
      "------------  ----------  ------------  --------  ---------------  ------  -------  ------  ---------  ----------\n",
      "N. Neighbors        0.74          0.54      0.52             0.71    0.83     0.82    0.87         \u001b[1m-1\u001b[0m        0.5\n",
      "Linear SVM          0.75          0.59      0.6              0.79    0.7      0.82    0.83         \u001b[1m-1\u001b[0m        0.56\n",
      "RBF SVM             0.5           0.5       0.5              0.5     0.5      0.5     0.5          \u001b[1m-1\u001b[0m        0.5\n",
      "Gaussian P.         0.5           0.5       0.5              0.5     0.5      0.5     0.5          \u001b[1m-1\u001b[0m        0.5\n",
      "Decision T.         0.7           0.56      0.65             0.65    0.72     0.7     0.74         \u001b[1m-1\u001b[0m        0.5\n",
      "Random F.           0.75          \u001b[1m0.71\u001b[0m      0.64             0.79    0.74     0.81    0.87         \u001b[1m-1\u001b[0m        0.39\n",
      "NN                  \u001b[1m0.79\u001b[0m          0.58      0.71             \u001b[1m0.89\u001b[0m    \u001b[1m0.88\u001b[0m     0.83    0.85         \u001b[1m-1\u001b[0m        \u001b[1m0.81\u001b[0m\n",
      "AdaBoost            \u001b[1m0.79\u001b[0m          \u001b[1m0.71\u001b[0m      0.64             0.82    0.67     \u001b[1m0.84\u001b[0m    \u001b[1m0.89\u001b[0m         \u001b[1m-1\u001b[0m        0.55\n",
      "Naive B.            \u001b[1m0.79\u001b[0m          0.6       \u001b[1m0.73\u001b[0m             0.81    0.83     0.81    0.86         \u001b[1m-1\u001b[0m        0.7\n",
      "QDA                 0.5           0.5       0.5              0.5     0.5      0.5     0.88         \u001b[1m-1\u001b[0m        0.5\n",
      "\n",
      "Normalized embeddings and merged by Concat \n",
      "Tag             Songbird    Water Bird    Insect    Running Water    Rain    Cable    Wind    Vehicle    Aircraft\n",
      "------------  ----------  ------------  --------  ---------------  ------  -------  ------  ---------  ----------\n",
      "N. Neighbors        0.65          0.55      0.63             0.75    \u001b[1m0.75\u001b[0m     0.74    \u001b[1m0.86\u001b[0m         \u001b[1m-1\u001b[0m        0.49\n",
      "Linear SVM          0.74          0.67      0.55             0.77    0.69     \u001b[1m0.81\u001b[0m    0.81         \u001b[1m-1\u001b[0m        0.17\n",
      "RBF SVM             0.5           0.5       0.5              0.5     0.5      0.5     0.5          \u001b[1m-1\u001b[0m        0.5\n",
      "Gaussian P.         0.5           0.5       0.5              0.5     0.5      0.5     0.5          \u001b[1m-1\u001b[0m        0.5\n",
      "Decision T.         0.78          0.52      0.56             0.64    0.56     0.63    0.71         \u001b[1m-1\u001b[0m        0.5\n",
      "Random F.           0.68          0.6       0.62             0.75    0.73     0.76    0.85         \u001b[1m-1\u001b[0m        0.38\n",
      "NN                  \u001b[1m0.79\u001b[0m          0.57      0.56             0.79    0.65     0.77    0.82         \u001b[1m-1\u001b[0m        0.5\n",
      "AdaBoost            0.68          \u001b[1m0.73\u001b[0m      0.56             0.78    0.64     0.8     0.85         \u001b[1m-1\u001b[0m        \u001b[1m0.75\u001b[0m\n",
      "Naive B.            0.73          0.63      \u001b[1m0.7\u001b[0m              \u001b[1m0.81\u001b[0m    0.6      0.76    0.83         \u001b[1m-1\u001b[0m        0.41\n",
      "QDA                 0.52          0.61      0.51             0.47    0.41     0.5     0.6          \u001b[1m-1\u001b[0m        0.51\n"
     ]
    }
   ],
   "source": [
    "for embed_type in embed_types:\n",
    "    for map_reduce_type in map_reduce_embeds:\n",
    "        results=all_results[embed_type+\"_\"+map_reduce_type]\n",
    "        print(\"\\n{} embeddings and merged by {} \".format(embed_type,map_reduce_type))\n",
    "        print_result2(results)"
   ]
  },
  {
   "cell_type": "code",
   "execution_count": null,
   "metadata": {},
   "outputs": [],
   "source": []
  },
  {
   "cell_type": "code",
   "execution_count": null,
   "metadata": {},
   "outputs": [],
   "source": []
  },
  {
   "cell_type": "code",
   "execution_count": null,
   "metadata": {},
   "outputs": [],
   "source": []
  },
  {
   "cell_type": "code",
   "execution_count": null,
   "metadata": {},
   "outputs": [],
   "source": []
  },
  {
   "cell_type": "code",
   "execution_count": null,
   "metadata": {},
   "outputs": [],
   "source": [
    "# tag=\"Songbird\"\n",
    "# X_train, X_test, y_train, y_test = train_test_split(\n",
    "#     X_mean, y_true_dict[tag], test_size=0.2, random_state=42)\n",
    "# X_train, X_val, y_train, y_val = train_test_split(\n",
    "#     X_train, y_train, test_size=0.25, random_state=42)\n",
    "\n",
    "# for name, clf in zip(names, classifiers):\n",
    "# #         ax = plt.subplot(len(datasets), len(classifiers) + 1, i)\n",
    "#     print(name)\n",
    "\n",
    "#     try:\n",
    "#         clf.fit(X_train, y_train)\n",
    "#         y_val_pred=clf.predict_proba(X_val)\n",
    "#         score=roc_auc_score(y_val,y_val_pred[:,1:])\n",
    "#         print(y_val_pred[:10,1:])\n",
    "#         print(clf.classes_)\n",
    "# #         score = clf.score(X_val, y_val)\n",
    "#     except:\n",
    "#         print(\"ERROR\")\n",
    "        "
   ]
  },
  {
   "cell_type": "code",
   "execution_count": 7,
   "metadata": {},
   "outputs": [],
   "source": [
    "import torch\n",
    "import torch.nn as nn\n",
    "from torch.autograd import Variable\n",
    "\n",
    "class RNN(nn.Module):\n",
    "    def __init__(self, input_size, hidden_size, output_size):\n",
    "        super(RNN, self).__init__()\n",
    "\n",
    "        self.hidden_size = hidden_size\n",
    "\n",
    "        self.i2h = nn.Linear(input_size + hidden_size, hidden_size)\n",
    "        self.i2o = nn.Linear(input_size + hidden_size, output_size)\n",
    "        self.softmax = nn.LogSoftmax()\n",
    "\n",
    "    def forward(self, input, hidden):\n",
    "        combined = torch.cat((input, hidden), 1)\n",
    "        hidden = self.i2h(combined)\n",
    "        output = self.i2o(combined)\n",
    "        output = self.softmax(output)\n",
    "        return output, hidden\n",
    "\n",
    "    def initHidden(self):\n",
    "        return Variable(torch.zeros(1, self.hidden_size))"
   ]
  },
  {
   "cell_type": "code",
   "execution_count": null,
   "metadata": {},
   "outputs": [],
   "source": [
    "# import torch\n",
    "# from data import *\n",
    "# from model import *\n",
    "import random\n",
    "import time\n",
    "import math\n",
    "\n",
    "n_hidden = 128\n",
    "n_epochs = 100000\n",
    "print_every = 5000\n",
    "plot_every = 1000\n",
    "learning_rate = 0.005 # If you set this too high, it might explode. If too low, it might not learn\n",
    "\n",
    "def categoryFromOutput(output):\n",
    "    top_n, top_i = output.data.topk(1) # Tensor out of Variable with .data\n",
    "    category_i = top_i[0][0]\n",
    "    return all_categories[category_i], category_i\n",
    "\n",
    "def randomChoice(l):\n",
    "    return l[random.randint(0, len(l) - 1)]\n",
    "\n",
    "def randomTrainingPair():\n",
    "    category = randomChoice(all_categories)\n",
    "    line = randomChoice(category_lines[category])\n",
    "    category_tensor = Variable(torch.LongTensor([all_categories.index(category)]))\n",
    "    line_tensor = Variable(lineToTensor(line))\n",
    "    return category, line, category_tensor, line_tensor\n",
    "\n",
    "rnn = RNN(n_letters, n_hidden, n_categories)\n",
    "optimizer = torch.optim.SGD(rnn.parameters(), lr=learning_rate)\n",
    "criterion = nn.NLLLoss()\n",
    "\n",
    "def train(category_tensor, line_tensor):\n",
    "    hidden = rnn.initHidden()\n",
    "    optimizer.zero_grad()\n",
    "\n",
    "    for i in range(line_tensor.size()[0]):\n",
    "        output, hidden = rnn(line_tensor[i], hidden)\n",
    "\n",
    "    loss = criterion(output, category_tensor)\n",
    "    loss.backward()\n",
    "\n",
    "    optimizer.step()\n",
    "\n",
    "    return output, loss.data[0]\n",
    "\n",
    "# Keep track of losses for plotting\n",
    "current_loss = 0\n",
    "all_losses = []\n",
    "\n",
    "def timeSince(since):\n",
    "    now = time.time()\n",
    "    s = now - since\n",
    "    m = math.floor(s / 60)\n",
    "    s -= m * 60\n",
    "    return '%dm %ds' % (m, s)\n",
    "\n",
    "start = time.time()\n",
    "\n",
    "for epoch in range(1, n_epochs + 1):\n",
    "    category, line, category_tensor, line_tensor = randomTrainingPair()\n",
    "    output, loss = train(category_tensor, line_tensor)\n",
    "    current_loss += loss\n",
    "\n",
    "    # Print epoch number, loss, name and guess\n",
    "    if epoch % print_every == 0:\n",
    "        guess, guess_i = categoryFromOutput(output)\n",
    "        correct = '✓' if guess == category else '✗ (%s)' % category\n",
    "        print('%d %d%% (%s) %.4f %s / %s %s' % (epoch, epoch / n_epochs * 100, timeSince(start), loss, line, guess, correct))\n",
    "\n",
    "    # Add current loss avg to list of losses\n",
    "    if epoch % plot_every == 0:\n",
    "        all_losses.append(current_loss / plot_every)\n",
    "        current_loss = 0\n",
    "\n",
    "torch.save(rnn, 'char-rnn-classification.pt')"
   ]
  },
  {
   "cell_type": "code",
   "execution_count": null,
   "metadata": {},
   "outputs": [],
   "source": [
    "# from model import *\n",
    "# from data import *\n",
    "import sys\n",
    "\n",
    "rnn = torch.load('char-rnn-classification.pt')\n",
    "\n",
    "# Just return an output given a line\n",
    "def evaluate(line_tensor):\n",
    "    hidden = rnn.initHidden()\n",
    "    \n",
    "    for i in range(line_tensor.size()[0]):\n",
    "        output, hidden = rnn(line_tensor[i], hidden)\n",
    "    \n",
    "    return output\n",
    "\n",
    "def predict(line, n_predictions=3):\n",
    "    output = evaluate(Variable(lineToTensor(line)))\n",
    "\n",
    "    # Get top N categories\n",
    "    topv, topi = output.data.topk(n_predictions, 1, True)\n",
    "    predictions = []\n",
    "\n",
    "    for i in range(n_predictions):\n",
    "        value = topv[0][i]\n",
    "        category_index = topi[0][i]\n",
    "        print('(%.2f) %s' % (value, all_categories[category_index]))\n",
    "        predictions.append([value, all_categories[category_index]])\n",
    "\n",
    "    return predictions\n",
    "\n",
    "if __name__ == '__main__':\n",
    "    predict(sys.argv[1])"
   ]
  },
  {
   "cell_type": "code",
   "execution_count": null,
   "metadata": {},
   "outputs": [],
   "source": []
  },
  {
   "cell_type": "markdown",
   "metadata": {},
   "source": []
  },
  {
   "cell_type": "code",
   "execution_count": null,
   "metadata": {},
   "outputs": [],
   "source": []
  },
  {
   "cell_type": "code",
   "execution_count": 143,
   "metadata": {},
   "outputs": [],
   "source": []
  },
  {
   "cell_type": "code",
   "execution_count": null,
   "metadata": {},
   "outputs": [],
   "source": []
  },
  {
   "cell_type": "code",
   "execution_count": null,
   "metadata": {},
   "outputs": [],
   "source": []
  },
  {
   "cell_type": "code",
   "execution_count": null,
   "metadata": {},
   "outputs": [],
   "source": []
  }
 ],
 "metadata": {
  "kernelspec": {
   "display_name": "speechEnv",
   "language": "python",
   "name": "speechenv"
  },
  "language_info": {
   "codemirror_mode": {
    "name": "ipython",
    "version": 3
   },
   "file_extension": ".py",
   "mimetype": "text/x-python",
   "name": "python",
   "nbconvert_exporter": "python",
   "pygments_lexer": "ipython3",
   "version": "3.7.2"
  }
 },
 "nbformat": 4,
 "nbformat_minor": 2
}
