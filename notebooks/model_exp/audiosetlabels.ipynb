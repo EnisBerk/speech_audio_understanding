{
 "cells": [
  {
   "cell_type": "code",
   "execution_count": 31,
   "metadata": {},
   "outputs": [],
   "source": [
    "import csv \n",
    "from pathlib import Path\n",
    "from os import listdir\n",
    "import pickle\n",
    "\n",
    "from labeling_utils import load_labels\n",
    "\n",
    "import numpy as np\n",
    "from sklearn.metrics import precision_recall_fscore_support\n",
    "\n",
    "\n",
    "# tags=[\"Songbird\",\"Water Bird\",\"Insect\",\"Running Water\",\"Rain\",\"Cable\",\"Wind\",\"Vehicle\",\"Aircraft\"]\n",
    "tags=[\"Songbird\",\"Water Bird\",\"Insect\",\"Running Water\",\"Rain\",\"Cable\",\"Wind\",\"Aircraft\"]\n",
    "\n",
    "from tabulate import tabulate\n",
    "tag_set=tags[:]\n"
   ]
  },
  {
   "cell_type": "markdown",
   "metadata": {},
   "source": [
    "* Count only highest ranking tag (what if both of them exist)\n",
    "* Bird tag is confusing, it can be also waterbird, how to handle ? Also Animal\n",
    "* "
   ]
  },
  {
   "cell_type": "code",
   "execution_count": 32,
   "metadata": {},
   "outputs": [],
   "source": [
    "#LOAD MODEL predictions\n",
    "splits_path= Path('/files/scratch/enis/data/nna/labeling/splits/')\n",
    "\n",
    "labelsbymodelpath=Path('/scratch/enis/data/nna/labeling/deep_labels/')\n",
    "dbfile = open(labelsbymodelpath / \"classifications_all_2.pkl\", 'rb')  \n",
    "modelresults = pickle.load(dbfile) \n",
    "dbfile.close() "
   ]
  },
  {
   "cell_type": "code",
   "execution_count": 33,
   "metadata": {},
   "outputs": [],
   "source": [
    "# print(len(modelresults))\n",
    "# aiter=iter(modelresults.keys())\n",
    "# akey=next(aiter)\n",
    "# print(akey)\n",
    "# modelresults[akey]"
   ]
  },
  {
   "cell_type": "code",
   "execution_count": null,
   "metadata": {},
   "outputs": [],
   "source": []
  },
  {
   "cell_type": "code",
   "execution_count": 34,
   "metadata": {},
   "outputs": [],
   "source": [
    "import time"
   ]
  },
  {
   "cell_type": "code",
   "execution_count": 35,
   "metadata": {},
   "outputs": [
    {
     "name": "stdout",
     "output_type": "stream",
     "text": [
      "unique files: 1300 \n",
      "total files 1366\n"
     ]
    }
   ],
   "source": [
    "# LOAD LABELS by human\n",
    "labelsbyhumanpath=Path('/scratch/enis/data/nna/labeling/results/')\n",
    "# filter by username\n",
    "labelsbyhuman=[i for i in listdir(labelsbyhumanpath) if (\".csv\" in i ) ]\n",
    "\n",
    "humanresults={}\n",
    "counter=0\n",
    "for apath in labelsbyhuman:\n",
    "    with open(labelsbyhumanpath / apath, newline='') as f:\n",
    "        reader=csv.reader(f)\n",
    "        for row in reader:\n",
    "            counter+=1\n",
    "            humanresults[row[0]]=row[1:]\n",
    "\n",
    "print(\"unique files:\",len(humanresults),\"\\ntotal files\",counter)"
   ]
  },
  {
   "cell_type": "code",
   "execution_count": 36,
   "metadata": {},
   "outputs": [],
   "source": [
    "#Join vehicle and Aircraft\n",
    "for file_name,tagshere in humanresults.items():\n",
    "#     print(file_name,tagshere)\n",
    "    \n",
    "    tagshere=[\"Aircraft\" if tag == \"Vehicle\" else tag for tag in tags]"
   ]
  },
  {
   "cell_type": "code",
   "execution_count": null,
   "metadata": {},
   "outputs": [],
   "source": []
  },
  {
   "cell_type": "code",
   "execution_count": 37,
   "metadata": {},
   "outputs": [],
   "source": [
    "histogram={}\n",
    "for file_name in humanresults:\n",
    "    place_name=file_name.split(\"_\")[0]\n",
    "#     print(file_name)\n",
    "    histogram.setdefault(place_name,0)\n",
    "    histogram[place_name]+=1"
   ]
  },
  {
   "cell_type": "code",
   "execution_count": 38,
   "metadata": {
    "scrolled": true
   },
   "outputs": [],
   "source": [
    "a=list(histogram.items())\n",
    "a.sort(key=lambda x:x[1],reverse=True)\n",
    "# a"
   ]
  },
  {
   "cell_type": "code",
   "execution_count": 39,
   "metadata": {},
   "outputs": [],
   "source": [
    "# load name of the labels\n",
    "labels=load_labels()"
   ]
  },
  {
   "cell_type": "code",
   "execution_count": null,
   "metadata": {},
   "outputs": [],
   "source": []
  },
  {
   "cell_type": "code",
   "execution_count": 40,
   "metadata": {},
   "outputs": [],
   "source": [
    "items={}\n",
    "from IPython.display import Audio,display,HTML\n",
    "from ipywidgets import Output\n",
    "\n",
    "items[\"mp3_output\"]=Output()\n",
    "\n",
    "def play_html_modify(mp3file,items={}):\n",
    "#     out=items[\"mp3_output\"]\n",
    "#     displayed=display(HTML(\"<audio controls  loop autoplay><source src={} type='audio/mpeg'></audio>\".format(mp3file)))\n",
    "    displayed=display(HTML(\"<audio controls  loop><source src={} type='audio/mpeg'></audio>\".format(mp3file)))\n"
   ]
  },
  {
   "cell_type": "code",
   "execution_count": 41,
   "metadata": {},
   "outputs": [],
   "source": [
    "def vectorized_y_true(humanresults,tag_set):\n",
    "    y_true={tag: [None]*len(humanresults) for tag in tag_set}\n",
    "    for i,tags in enumerate(humanresults.values()):\n",
    "        # we  only look for tags in tag_set\n",
    "        for tag in tag_set:\n",
    "            if tag in tags:\n",
    "                y_true[tag][i] = 1\n",
    "            else:\n",
    "                y_true[tag][i] = 0 \n",
    "    return y_true\n",
    "\n",
    "#since vectorized_y_pred_prob_pertag returns a dict with identical lists\n",
    "# this one returns single list\n",
    "def vectorized_X_prob_generaltag(label_indexes,humanresults,modelresults):\n",
    "#     y_pred={tag: [0]*len(humanresults) for tag in tag_set}\n",
    "\n",
    "    X=[[0]*len(label_indexes) for i in range(len(humanresults))]\n",
    "    \n",
    "    for i,filename in enumerate(humanresults.keys()):\n",
    "        orig,audioop = modelresults[filename]\n",
    "        for i2,label_index in enumerate(label_indexes):\n",
    "            orig_index = orig[0].index(label_index) if label_index in orig[0] else None\n",
    "            if orig_index:\n",
    "                prob = orig[1][orig_index]\n",
    "                X[i][i2]=prob\n",
    "    X=np.array(X)\n",
    "\n",
    "    return X"
   ]
  },
  {
   "cell_type": "code",
   "execution_count": null,
   "metadata": {},
   "outputs": [],
   "source": []
  },
  {
   "cell_type": "code",
   "execution_count": 42,
   "metadata": {},
   "outputs": [
    {
     "name": "stdout",
     "output_type": "stream",
     "text": [
      "Songbird 409\n",
      "Water Bird 196\n",
      "Insect 190\n",
      "Running Water 210\n",
      "Rain 102\n",
      "Cable 456\n",
      "Wind 641\n",
      "Aircraft 28\n"
     ]
    }
   ],
   "source": [
    "y_true_dict=vectorized_y_true(humanresults,tag_set)\n",
    "for y in y_true_dict:\n",
    "    print(y,sum(y_true_dict[y]))"
   ]
  },
  {
   "cell_type": "code",
   "execution_count": 43,
   "metadata": {},
   "outputs": [],
   "source": [
    "from labeling_utils import load_labels\n",
    "labels=load_labels()"
   ]
  },
  {
   "cell_type": "code",
   "execution_count": 44,
   "metadata": {},
   "outputs": [],
   "source": [
    "import pandas as pd\n",
    "df_auc = pd.read_pickle(\"./auc_matrix.pkl\")"
   ]
  },
  {
   "cell_type": "code",
   "execution_count": null,
   "metadata": {},
   "outputs": [],
   "source": []
  },
  {
   "cell_type": "code",
   "execution_count": null,
   "metadata": {},
   "outputs": [],
   "source": []
  },
  {
   "cell_type": "code",
   "execution_count": 45,
   "metadata": {},
   "outputs": [],
   "source": [
    "# for i,filename in enumerate(humanresults.keys()):\n",
    "#     orig,audioop = modelresults[filename]\n"
   ]
  },
  {
   "cell_type": "code",
   "execution_count": 46,
   "metadata": {},
   "outputs": [],
   "source": [
    "split_path=Path('/scratch/enis/data/nna/labeling/split_embeddings/')\n",
    "# filter by username\n",
    "split_embeds=[i for i in listdir(split_path) ]\n",
    "raw_embeds =  [i for i in split_embeds if \"rawembed\" in i]\n",
    "proc_embeds = [i for i in split_embeds if \"_embed\" in i]"
   ]
  },
  {
   "cell_type": "code",
   "execution_count": 47,
   "metadata": {},
   "outputs": [
    {
     "data": {
      "text/plain": [
       "(10439, 10439, 20878)"
      ]
     },
     "execution_count": 47,
     "metadata": {},
     "output_type": "execute_result"
    }
   ],
   "source": [
    "len(proc_embeds),len(raw_embeds),len(split_embeds)"
   ]
  },
  {
   "cell_type": "code",
   "execution_count": null,
   "metadata": {},
   "outputs": [],
   "source": []
  },
  {
   "cell_type": "code",
   "execution_count": null,
   "metadata": {},
   "outputs": [],
   "source": []
  },
  {
   "cell_type": "code",
   "execution_count": null,
   "metadata": {},
   "outputs": [],
   "source": []
  },
  {
   "cell_type": "code",
   "execution_count": null,
   "metadata": {},
   "outputs": [],
   "source": []
  },
  {
   "cell_type": "code",
   "execution_count": 48,
   "metadata": {
    "scrolled": true
   },
   "outputs": [],
   "source": [
    "import numpy as np\n",
    "import matplotlib.pyplot as plt\n",
    "from matplotlib.colors import ListedColormap\n",
    "from sklearn.model_selection import train_test_split\n",
    "# from sklearn.preprocessing import StandardScaler\n",
    "# from sklearn.datasets import make_moons, make_circles, make_classification\n",
    "from sklearn.neural_network import MLPClassifier\n",
    "from sklearn.neighbors import KNeighborsClassifier\n",
    "from sklearn.svm import SVC\n",
    "from sklearn.gaussian_process import GaussianProcessClassifier\n",
    "from sklearn.gaussian_process.kernels import RBF\n",
    "from sklearn.tree import DecisionTreeClassifier\n",
    "from sklearn.ensemble import RandomForestClassifier, AdaBoostClassifier\n",
    "from sklearn.naive_bayes import GaussianNB\n",
    "from sklearn.discriminant_analysis import QuadraticDiscriminantAnalysis\n",
    "from sklearn.metrics import roc_auc_score\n"
   ]
  },
  {
   "cell_type": "code",
   "execution_count": 49,
   "metadata": {},
   "outputs": [],
   "source": [
    "\n",
    "h = .02  # step size in the mesh\n",
    "\n",
    "names = [\"Nearest Neighbors\", \"Linear SVM\", \"RBF SVM\", \"Gaussian Process\",\n",
    "         \"Decision Tree\", \"Random Forest\", \"Neural Net\", \"AdaBoost\",\n",
    "         \"Naive Bayes\", \"QDA\"]\n",
    "\n",
    "classifiers = [\n",
    "    KNeighborsClassifier(3),\n",
    "    SVC(probability=True,kernel=\"linear\", C=0.025),\n",
    "    SVC(probability=True,gamma=2, C=1),\n",
    "    GaussianProcessClassifier(1.0 * RBF(1.0)),\n",
    "    DecisionTreeClassifier(max_depth=5),\n",
    "    RandomForestClassifier(max_depth=5, n_estimators=10, max_features=1),\n",
    "    MLPClassifier(alpha=1, max_iter=1000),\n",
    "    AdaBoostClassifier(),\n",
    "    GaussianNB(),\n",
    "    QuadraticDiscriminantAnalysis()]\n",
    "\n"
   ]
  },
  {
   "cell_type": "code",
   "execution_count": 50,
   "metadata": {},
   "outputs": [],
   "source": [
    "class color:\n",
    "   PURPLE = '\\033[95m'\n",
    "   CYAN = '\\033[96m'\n",
    "   DARKCYAN = '\\033[36m'\n",
    "   BLUE = '\\033[94m'\n",
    "   GREEN = '\\033[92m'\n",
    "   YELLOW = '\\033[93m'\n",
    "   RED = '\\033[91m'\n",
    "   BOLD = '\\033[1m'\n",
    "   UNDERLINE = '\\033[4m'\n",
    "   END = '\\033[0m'\n",
    "    \n",
    "short_names=['N. Neighbors',\n",
    " 'Linear SVM',\n",
    " 'RBF SVM',\n",
    " 'Gaussian P.',\n",
    " 'Decision T.',\n",
    " 'Random F.',\n",
    " 'NN',\n",
    " 'AdaBoost',\n",
    " 'Naive B.',\n",
    " 'QDA']\n",
    "\n",
    "def print_result(results):\n",
    "    headers= [\"Tag\",]+short_names\n",
    "    table=[]\n",
    "#     sample_count=len(next(iter(y_true_dict.values())))\n",
    "#     print(\"Total sample:\",sample_count,\"And threshold is\",prob_threshold)\n",
    "    for tag in (tag_set):\n",
    "#         positive_count=sum(y_true_dict[tag])\n",
    "        table.append([tag,*results[tag]])\n",
    "\n",
    "    print(tabulate(table, headers=headers))\n",
    "\n",
    "def reverse_results(results):\n",
    "    results_clf2={}\n",
    "    for tag,scores_per_Tag2 in results.items():\n",
    "        scores_per_Tag=scores_per_Tag2[:]\n",
    "        maximum=max(scores_per_Tag)\n",
    "        scores_per_Tag=[color.BOLD + x + color.END if x==maximum else x for x in scores_per_Tag]\n",
    "\n",
    "        for i,name in enumerate(names):\n",
    "            score=scores_per_Tag[i]\n",
    "            results_clf2.setdefault(name,[])\n",
    "            results_clf2[name].append(score)      \n",
    "    return results_clf2\n",
    "        \n",
    "\n",
    "def print_result2(results):\n",
    "    results_clf=reverse_results(results)\n",
    "    headers= [\"Tag\",]+list(tag_set)\n",
    "    table=[]\n",
    "#     sample_count=len(next(iter(y_true_dict.values())))\n",
    "#     print(\"Total sample:\",sample_count,\"And threshold is\",prob_threshold)\n",
    "#     for tag in tag_set:\n",
    "#         aresult=[]\n",
    "    for i,name in enumerate(names):\n",
    "#         positive_count=sum(y_true_dict[tag])\n",
    "        table.append([short_names[i],*results_clf[name]])\n",
    "    \n",
    "    print(tabulate(table, headers=headers))\n"
   ]
  },
  {
   "cell_type": "code",
   "execution_count": 51,
   "metadata": {},
   "outputs": [],
   "source": [
    "def get_results(X_input_dict,y_true_dict,classifiers,names,tag_set,logs=False):\n",
    "    results={}\n",
    "    for tag in (tag_set):\n",
    "        X_train, X_test, y_train, y_test = train_test_split(\n",
    "            X_input_dict[tag], y_true_dict[tag], test_size=0.2, random_state=42)\n",
    "        X_train, X_val, y_train, y_val = train_test_split(\n",
    "            X_train, y_train, test_size=0.25, random_state=42)\n",
    "\n",
    "        for name, clf in zip(names, classifiers):\n",
    "            try:\n",
    "                clf.fit(X_train, y_train)\n",
    "\n",
    "                #VAL\n",
    "#                 y_val_pred=clf.predict_proba(X_val)\n",
    "#                 score=roc_auc_score(y_val,y_val_pred[:,1:])\n",
    "                \n",
    "                # TEST\n",
    "                y_test_pred=clf.predict_proba(X_test)\n",
    "                score=roc_auc_score(y_test,y_test_pred[:,1:])\n",
    "                \n",
    "    #             score = clf.score(X_val, y_val)\n",
    "                score=\"{:.2}\".format(score)\n",
    "\n",
    "                results.setdefault(tag,[])\n",
    "\n",
    "                results[tag].append(score)\n",
    "\n",
    "                if logs : print(tag,name,score) \n",
    "            except:\n",
    "                score=\"-1\"\n",
    "\n",
    "                results.setdefault(tag,[])\n",
    "\n",
    "                results[tag].append(score)\n",
    "\n",
    "                if logs : print(tag,name,score) \n",
    "    return results"
   ]
  },
  {
   "cell_type": "code",
   "execution_count": 52,
   "metadata": {},
   "outputs": [],
   "source": [
    "def map_reduce(X,func_type):\n",
    "    if func_type==\"Average\":\n",
    "        return np.mean(X,axis=1)\n",
    "    elif func_type==\"Concat\":\n",
    "        return np.reshape(X,(601,-1))\n",
    "    else:\n",
    "        raise Exception(\"ERROR with embed type\")\n",
    "\n",
    "def pick_embed(embed_type):\n",
    "    # humanresults[proc_embeds[0].replace(\"_embed.npy\",\".mp3\")]\n",
    "    X=[]\n",
    "    for i in humanresults:\n",
    "        if embed_type==\"Raw\":\n",
    "            file_name=i.replace(\".mp3\",\"_rawembed.npy\")\n",
    "        elif embed_type==\"Normalized\":\n",
    "            file_name=i.replace(\".mp3\",\"_embed.npy\")\n",
    "        else:\n",
    "            raise Exception(\"ERROR with embed type\")\n",
    "        an_x=np.load(split_path / file_name)\n",
    "        X.append(an_x)\n",
    "    return X"
   ]
  },
  {
   "cell_type": "code",
   "execution_count": 53,
   "metadata": {},
   "outputs": [],
   "source": [
    "# # params\n",
    "# embed_types=[\"Raw\",\"Normalized\"] # \"Raw\" or \"Normalized\"\n",
    "# map_reduce_embeds= [\"Average\",\"Concat\"]\n",
    "\n",
    "# embed_type=embed_types[0]\n",
    "# map_reduce_type=map_reduce_embeds[0]\n",
    "\n"
   ]
  },
  {
   "cell_type": "code",
   "execution_count": 54,
   "metadata": {},
   "outputs": [],
   "source": [
    "def warn(*args, **kwargs):\n",
    "    pass\n",
    "import warnings\n",
    "warnings.warn = warn\n",
    "\n",
    "import copy\n",
    "\n",
    "# all_results={}\n",
    "# for embed_type in embed_types:\n",
    "#     for map_reduce_type in map_reduce_embeds:\n",
    "#         X=pick_embed(embed_type)\n",
    "#         X=map_reduce(X,map_reduce_type)\n",
    "#         print(\"{} embeddings and merged by {} \\n\".format(embed_type,map_reduce_type))\n",
    "#         results=get_results(X_mean,y_true_dict,classifiers,names,tag_set,logs=False)\n",
    "#         all_results[embed_type+\"_\"+map_reduce_type]=results\n",
    "#         print_result2(results)"
   ]
  },
  {
   "cell_type": "code",
   "execution_count": 55,
   "metadata": {},
   "outputs": [],
   "source": [
    "def filter_input(df_auc,labels,auc_threshold=0.52):\n",
    "\n",
    "    def filter_auc_df(df_auc,auc_threshold):\n",
    "        df_auc_filtered={}\n",
    "\n",
    "        for col in df_auc.columns:\n",
    "        #     print(col)\n",
    "        #     print((df_auc[col].sort_values(ascending=False)>auc_threshold).sum())\n",
    "            column=df_auc[col].sort_values(ascending=False)\n",
    "            column=(column[column>auc_threshold])\n",
    "            df_auc_filtered[col]=column\n",
    "        return df_auc_filtered\n",
    "    \n",
    "    df_auc_filtered= filter_auc_df(df_auc,auc_threshold=auc_threshold)\n",
    "    \n",
    "    X_input_dict={}\n",
    "    for tag,column in df_auc_filtered.items():\n",
    "        label_indexes=[]\n",
    "        for labelname in column.index:\n",
    "            label_indexes.append(labels.index(labelname))\n",
    "\n",
    "        X=vectorized_X_prob_generaltag(label_indexes,humanresults,modelresults)\n",
    "        X_input_dict[tag] = copy.deepcopy(X)\n",
    "    return X_input_dict\n"
   ]
  },
  {
   "cell_type": "code",
   "execution_count": 56,
   "metadata": {
    "scrolled": false
   },
   "outputs": [
    {
     "name": "stdout",
     "output_type": "stream",
     "text": [
      "Tag             Songbird    Water Bird    Insect    Running Water    Rain    Cable    Wind    Aircraft\n",
      "------------  ----------  ------------  --------  ---------------  ------  -------  ------  ----------\n",
      "N. Neighbors        0.71          0.62      0.74             0.76    0.74     \u001b[1m0.8\u001b[0m     0.81        0.55\n",
      "Linear SVM          0.76          \u001b[1m0.76\u001b[0m      0.66             0.79    0.83     0.78    0.79        0.66\n",
      "RBF SVM             0.76          0.7       0.7              0.81    0.81     0.78    0.84        \u001b[1m0.86\u001b[0m\n",
      "Gaussian P.         0.77          0.74      0.78             \u001b[1m0.85\u001b[0m    \u001b[1m0.85\u001b[0m     \u001b[1m0.8\u001b[0m     \u001b[1m0.85\u001b[0m        0.81\n",
      "Decision T.         0.69          0.53      0.66             0.67    0.55     0.68    0.79        0.49\n",
      "Random F.           0.72          0.65      0.74             0.7     0.76     0.7     0.77        0.71\n",
      "NN                  \u001b[1m0.78\u001b[0m          0.71      \u001b[1m0.79\u001b[0m             0.83    0.83     \u001b[1m0.8\u001b[0m     0.82        0.78\n",
      "AdaBoost            0.74          0.64      0.68             0.78    0.73     0.73    0.83        0.74\n",
      "Naive B.            0.55          0.58      0.58             0.62    0.65     0.63    0.64        0.55\n",
      "QDA                 0.56          0.5       0.54             0.62    0.51     0.6     0.63        0.57\n"
     ]
    }
   ],
   "source": [
    "#auc_threshold:0\n",
    "X_input_dict=filter_input(df_auc,labels,auc_threshold=0)\n",
    "results=get_results(X_input_dict,y_true_dict,classifiers,names,tag_set,logs=False)\n",
    "# all_results[embed_type+\"_\"+map_reduce_type]=results\n",
    "print_result2(results)"
   ]
  },
  {
   "cell_type": "code",
   "execution_count": 86,
   "metadata": {
    "scrolled": true
   },
   "outputs": [],
   "source": [
    "# #auc_threshold:0.51\n",
    "# X_input_dict=filter_input(df_auc,labels,auc_threshold=0.51)\n",
    "# results=get_results(X_input_dict,y_true_dict,classifiers,names,tag_set,logs=False)\n",
    "# # all_results[embed_type+\"_\"+map_reduce_type]=results\n",
    "# print_result2(results)"
   ]
  },
  {
   "cell_type": "code",
   "execution_count": 87,
   "metadata": {},
   "outputs": [],
   "source": [
    "# #auc_threshold:0.50\n",
    "# X_input_dict=filter_input(df_auc,labels,auc_threshold=0.5)\n",
    "# results=get_results(X_input_dict,y_true_dict,classifiers,names,tag_set,logs=False)\n",
    "# # all_results[embed_type+\"_\"+map_reduce_type]=results\n",
    "# print_result2(results)"
   ]
  },
  {
   "cell_type": "code",
   "execution_count": 88,
   "metadata": {},
   "outputs": [],
   "source": [
    "# #auc_threshold:0.4\n",
    "# X_input_dict=filter_input(df_auc,labels,auc_threshold=0.4)\n",
    "# results=get_results(X_input_dict,y_true_dict,classifiers,names,tag_set,logs=False)\n",
    "# # all_results[embed_type+\"_\"+map_reduce_type]=results\n",
    "# print_result2(results)"
   ]
  },
  {
   "cell_type": "code",
   "execution_count": null,
   "metadata": {},
   "outputs": [],
   "source": []
  },
  {
   "cell_type": "code",
   "execution_count": null,
   "metadata": {},
   "outputs": [],
   "source": []
  },
  {
   "cell_type": "code",
   "execution_count": null,
   "metadata": {},
   "outputs": [],
   "source": [
    "# tag=\"Songbird\"\n",
    "# X_train, X_test, y_train, y_test = train_test_split(\n",
    "#     X_mean, y_true_dict[tag], test_size=0.2, random_state=42)\n",
    "# X_train, X_val, y_train, y_val = train_test_split(\n",
    "#     X_train, y_train, test_size=0.25, random_state=42)\n",
    "\n",
    "# for name, clf in zip(names, classifiers):\n",
    "# #         ax = plt.subplot(len(datasets), len(classifiers) + 1, i)\n",
    "#     print(name)\n",
    "\n",
    "#     try:\n",
    "#         clf.fit(X_train, y_train)\n",
    "#         y_val_pred=clf.predict_proba(X_val)\n",
    "#         score=roc_auc_score(y_val,y_val_pred[:,1:])\n",
    "#         print(y_val_pred[:10,1:])\n",
    "#         print(clf.classes_)\n",
    "# #         score = clf.score(X_val, y_val)\n",
    "#     except:\n",
    "#         print(\"ERROR\")\n",
    "        "
   ]
  },
  {
   "cell_type": "code",
   "execution_count": 89,
   "metadata": {},
   "outputs": [],
   "source": [
    "# X_input_dict=filter_input(df_auc,labels,auc_threshold=0.6)\n",
    "# results=get_results(X_input_dict,y_true_dict,classifiers,names,tag_set,logs=False)\n",
    "# # all_results[embed_type+\"_\"+map_reduce_type]=results\n",
    "# print_result2(results)"
   ]
  },
  {
   "cell_type": "code",
   "execution_count": 90,
   "metadata": {},
   "outputs": [],
   "source": [
    "# X_input_dict=filter_input(df_auc,labels,auc_threshold=0.58)\n",
    "# results=get_results(X_input_dict,y_true_dict,classifiers,names,tag_set,logs=False)\n",
    "# # all_results[embed_type+\"_\"+map_reduce_type]=results\n",
    "# print_result2(results)"
   ]
  },
  {
   "cell_type": "code",
   "execution_count": null,
   "metadata": {},
   "outputs": [],
   "source": []
  },
  {
   "cell_type": "markdown",
   "metadata": {},
   "source": []
  },
  {
   "cell_type": "code",
   "execution_count": null,
   "metadata": {},
   "outputs": [],
   "source": []
  },
  {
   "cell_type": "code",
   "execution_count": 143,
   "metadata": {},
   "outputs": [],
   "source": []
  },
  {
   "cell_type": "code",
   "execution_count": null,
   "metadata": {},
   "outputs": [],
   "source": []
  },
  {
   "cell_type": "code",
   "execution_count": null,
   "metadata": {},
   "outputs": [],
   "source": []
  },
  {
   "cell_type": "code",
   "execution_count": null,
   "metadata": {},
   "outputs": [],
   "source": []
  }
 ],
 "metadata": {
  "kernelspec": {
   "display_name": "speechEnv",
   "language": "python",
   "name": "speechenv"
  },
  "language_info": {
   "codemirror_mode": {
    "name": "ipython",
    "version": 3
   },
   "file_extension": ".py",
   "mimetype": "text/x-python",
   "name": "python",
   "nbconvert_exporter": "python",
   "pygments_lexer": "ipython3",
   "version": "3.7.2"
  }
 },
 "nbformat": 4,
 "nbformat_minor": 2
}
