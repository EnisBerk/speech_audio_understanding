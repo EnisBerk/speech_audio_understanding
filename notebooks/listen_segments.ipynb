{
 "cells": [
  {
   "cell_type": "code",
   "execution_count": 2,
   "metadata": {},
   "outputs": [
    {
     "name": "stdout",
     "output_type": "stream",
     "text": [
      "/home/enis/projects/nna/src\n"
     ]
    }
   ],
   "source": [
    "import os\n",
    "import sys\n",
    "\n",
    "module_path = os.path.abspath(os.path.join('../src'))\n",
    "print(module_path)\n",
    "if module_path not in sys.path:\n",
    "    sys.path.append(module_path)"
   ]
  },
  {
   "cell_type": "code",
   "execution_count": 3,
   "metadata": {},
   "outputs": [],
   "source": [
    "from datetime import datetime,timedelta\n",
    "import sys\n",
    "# sys.path.insert(0, '../src/')\n",
    "\n",
    "from labeling_utils import stem_set,read_file_properties,find_files,ffmpeg_split_mp3\n",
    "import pandas as pd\n",
    "from pydub import AudioSegment\n",
    "from pathlib import Path"
   ]
  },
  {
   "cell_type": "code",
   "execution_count": null,
   "metadata": {},
   "outputs": [],
   "source": [
    "def display_audio(sorted_filtered):\n",
    "    from IPython.display import display\n",
    "    for f in sorted_filtered.iterrows():\n",
    "        print(f[0],)\n",
    "    #     print(\"start\",start_t,)\n",
    "    #     print(\"end\",end_t)\n",
    "    #     print(\"timestamp\",f[-1].timestamp)\n",
    "    #     print((start_t-f[-1].timestamp))\n",
    "\n",
    "        start_seconds= max(((start_t-f[-1].timestamp)).total_seconds(),0)\n",
    "        end_seconds = max((end_t-f[-1].timestamp).total_seconds(),0)\n",
    "\n",
    "#         print(\"test\",start_seconds,end_seconds)\n",
    "\n",
    "        mp3_file_path=f[0]\n",
    "        tmpfolder=\"./tmp/\"\n",
    "        # if end_seconds bigger than file, ffmpeg ignores it, if both out of order than output is emtpy\n",
    "        ffmpeg_split_mp3(mp3_file_path,start_seconds,end_seconds,tmpfolder=tmpfolder)\n",
    "    #     if start_seconds>0:\n",
    "    #         files.append(mp3_split(f[0],start_second=start_seconds,end_second=start_seconds+end_seconds))\n",
    "        try:\n",
    "            mp3file=AudioSegment.from_mp3(Path(tmpfolder+\"output.MP3\"))\n",
    "            display(mp3file)\n",
    "        except:\n",
    "            print(\"{}\".format(sys.exc_info()[0]))\n",
    "        print(\"--------------\")\n"
   ]
  },
  {
   "cell_type": "code",
   "execution_count": null,
   "metadata": {},
   "outputs": [],
   "source": [
    "# TODO use a file that is permanent, or create one on the fly\n",
    "\n",
    "mp3files_path=\"/home/enis/projects/nna/src/mp3files.txt\"\n",
    "mp3files,ignored=stem_set(mp3files_path)\n",
    "file_properties,exceptions=read_file_properties(mp3files)\n",
    "file_properties_df=pd.DataFrame(file_properties).T"
   ]
  },
  {
   "cell_type": "code",
   "execution_count": null,
   "metadata": {},
   "outputs": [],
   "source": [
    "# site_id or site name (some files are missing site_names)\n",
    "location=\"CLVL4\"\n",
    "# DD-MM-YYYY_HH:MM:SS\n",
    "start_time='22-08-2016_20:33:00' # or datetime object\n",
    "length=1000 # seconds of audio, if set end_time is IGNORED\n",
    "end_time=''  # or datetime object\n",
    "\n",
    "sorted_filtered,start_t,end_t=find_files(location,start_time,end_time,length,file_properties_df)\n",
    "display_audio(sorted_filtered)"
   ]
  },
  {
   "cell_type": "code",
   "execution_count": null,
   "metadata": {},
   "outputs": [],
   "source": []
  }
 ],
 "metadata": {
  "kernelspec": {
   "display_name": "speechEnv",
   "language": "python",
   "name": "speechenv"
  },
  "language_info": {
   "codemirror_mode": {
    "name": "ipython",
    "version": 3
   },
   "file_extension": ".py",
   "mimetype": "text/x-python",
   "name": "python",
   "nbconvert_exporter": "python",
   "pygments_lexer": "ipython3",
   "version": "3.7.2"
  }
 },
 "nbformat": 4,
 "nbformat_minor": 2
}
