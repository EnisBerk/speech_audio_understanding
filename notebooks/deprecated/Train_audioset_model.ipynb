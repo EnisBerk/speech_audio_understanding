{
  "nbformat": 4,
  "nbformat_minor": 0,
  "metadata": {
    "colab": {
      "name": "Train_audioset_model.ipynb",
      "version": "0.3.2",
      "provenance": [],
      "include_colab_link": true
    },
    "kernelspec": {
      "name": "python3",
      "display_name": "Python 3"
    }
  },
  "cells": [
    {
      "cell_type": "markdown",
      "metadata": {
        "id": "view-in-github",
        "colab_type": "text"
      },
      "source": [
        "<a href=\"https://colab.research.google.com/github/EnisBerk/speech_audio_understanding/blob/master/notebooks/Train_audioset_model.ipynb\" target=\"_parent\"><img src=\"https://colab.research.google.com/assets/colab-badge.svg\" alt=\"Open In Colab\"/></a>"
      ]
    },
    {
      "metadata": {
        "id": "IlRNqPkDOuux",
        "colab_type": "text"
      },
      "cell_type": "markdown",
      "source": [
        "Model type is Feature level single attention from [qiuqiangkong@github](https://github.com/qiuqiangkong/audioset_classification/)\n",
        "\n",
        "Requires more than 12 gb, so K80 does not help. I used v100."
      ]
    },
    {
      "metadata": {
        "id": "4ABnubTeN7Ao",
        "colab_type": "code",
        "colab": {}
      },
      "cell_type": "code",
      "source": [
        "# GLOBAL parameters\n",
        "# first run of notebook\n",
        "first_run=True"
      ],
      "execution_count": 0,
      "outputs": []
    },
    {
      "metadata": {
        "id": "KHyV_mJ2OA_A",
        "colab_type": "code",
        "colab": {}
      },
      "cell_type": "code",
      "source": [
        "if first_run==True:\n",
        "    !pip install numpy scipy\n",
        "    !pip install MulticoreTSNE\n",
        "    !conda install -y -c anaconda scikit-learn \n",
        "    !conda install -y h5py\n",
        "\n",
        "\n",
        "#   !pip install resampy tensorflow six\n",
        "#   !pip install pysoundfile \n",
        "#   #from mp3 to wav\n",
        "#   !pip install pydub\n",
        "\n"
      ],
      "execution_count": 0,
      "outputs": []
    },
    {
      "metadata": {
        "id": "P1wlwJcNODrp",
        "colab_type": "code",
        "colab": {}
      },
      "cell_type": "code",
      "source": [
        "!curl https://storage.googleapis.com/deep_learning_enis/speech_audio_understanding/Eusipco2018_Google_AudioSet/packed_features.zip --output ./packed_features.zip\n",
        "!unzip packed_features.zip \n",
        "!mkdir pub_audioset_classification\n",
        "!git clone https://github.com/qiuqiangkong/audioset_classification.git"
      ],
      "execution_count": 0,
      "outputs": []
    },
    {
      "metadata": {
        "id": "g9XJ0mjZOFDZ",
        "colab_type": "code",
        "colab": {}
      },
      "cell_type": "code",
      "source": [
        "!python ./audioset_classification/pytorch/main.py --data_dir=./packed_features --workspace=./pub_audioset_classification --model_type=feature_level_single_attention train\n"
      ],
      "execution_count": 0,
      "outputs": []
    }
  ]
}