{
 "cells": [
  {
   "cell_type": "markdown",
   "metadata": {
    "colab_type": "text",
    "id": "view-in-github"
   },
   "source": [
    "<a href=\"https://colab.research.google.com/github/EnisBerk/speech_audio_understanding/blob/master/Classify_time%26location.ipynb\" target=\"_parent\"><img src=\"https://colab.research.google.com/assets/colab-badge.svg\" alt=\"Open In Colab\"/></a>"
   ]
  },
  {
   "cell_type": "code",
   "execution_count": 0,
   "metadata": {
    "colab": {},
    "colab_type": "code",
    "id": "moS0gTXRmqNQ"
   },
   "outputs": [],
   "source": [
    "# GLOBAL parameters\n",
    "# first run of notebook\n",
    "first_run=True\n",
    "data_required=True"
   ]
  },
  {
   "cell_type": "code",
   "execution_count": 0,
   "metadata": {
    "colab": {
     "base_uri": "https://localhost:8080/",
     "height": 139
    },
    "colab_type": "code",
    "id": "mZhBq1TSmsNx",
    "outputId": "faa2739f-80c3-458b-c3ec-0c9a7a006875"
   },
   "outputs": [
    {
     "name": "stdout",
     "output_type": "stream",
     "text": [
      "Requirement already satisfied: numpy in /usr/local/lib/python3.6/dist-packages (1.14.6)\n",
      "Requirement already satisfied: scipy in /usr/local/lib/python3.6/dist-packages (1.1.0)\n",
      "Requirement already satisfied: MulticoreTSNE in /usr/local/lib/python3.6/dist-packages (0.1)\n",
      "Requirement already satisfied: numpy in /usr/local/lib/python3.6/dist-packages (from MulticoreTSNE) (1.14.6)\n",
      "Requirement already satisfied: cffi in /usr/local/lib/python3.6/dist-packages (from MulticoreTSNE) (1.12.2)\n",
      "Requirement already satisfied: pycparser in /usr/local/lib/python3.6/dist-packages (from cffi->MulticoreTSNE) (2.19)\n"
     ]
    }
   ],
   "source": [
    "if first_run==True:\n",
    "  !pip install numpy scipy\n",
    "  !pip install MulticoreTSNE\n",
    "\n",
    "\n",
    "#   !pip install resampy tensorflow six\n",
    "#   !pip install pysoundfile \n",
    "#   #from mp3 to wav\n",
    "#   !pip install pydub\n",
    "\n"
   ]
  },
  {
   "cell_type": "code",
   "execution_count": 0,
   "metadata": {
    "colab": {},
    "colab_type": "code",
    "id": "xHt-pXdIk9NA"
   },
   "outputs": [],
   "source": [
    "if first_run==True:\n",
    "  import json\n",
    "  import string\n",
    "  import copy\n",
    "  import random\n",
    "  from os import listdir\n",
    "  import pickle\n",
    "\n",
    "  import numpy as np\n",
    "\n",
    "  import string\n",
    "  import re\n",
    "\n",
    "  from sklearn.linear_model import SGDClassifier,LinearRegression\n",
    "  from sklearn.model_selection import train_test_split\n",
    "  from sklearn.pipeline import Pipeline\n",
    "  from sklearn.linear_model import LogisticRegression\n",
    "  from sklearn.feature_selection import SelectFromModel\n",
    "  from sklearn.metrics import classification_report\n",
    "  from sklearn.svm import LinearSVC\n",
    "  from sklearn.naive_bayes import MultinomialNB\n",
    "  from sklearn.tree import DecisionTreeClassifier\n",
    "  from sklearn import tree\n",
    "  from sklearn.ensemble import RandomForestClassifier\n",
    "  from sklearn.neural_network import MLPClassifier\n",
    "  from sklearn.ensemble import AdaBoostClassifier\n",
    "  from sklearn.naive_bayes import GaussianNB\n",
    "  from sklearn.feature_extraction.text import TfidfVectorizer\n",
    "\n",
    "  from sklearn.feature_extraction.text import CountVectorizer\n",
    "  from sklearn.feature_extraction.text import TfidfTransformer\n",
    "  from sklearn.linear_model import SGDClassifier,LinearRegression\n",
    "  from sklearn.model_selection import GridSearchCV\n",
    "\n",
    "  from sklearn.metrics import accuracy_score\n"
   ]
  },
  {
   "cell_type": "code",
   "execution_count": 0,
   "metadata": {
    "colab": {},
    "colab_type": "code",
    "id": "Poj-kVo3YU0b"
   },
   "outputs": [],
   "source": []
  },
  {
   "cell_type": "code",
   "execution_count": 0,
   "metadata": {
    "colab": {},
    "colab_type": "code",
    "id": "ApDKsuabmzSM"
   },
   "outputs": [],
   "source": [
    "if first_run==True:\n",
    "  from google.colab import auth\n",
    "  auth.authenticate_user()\n"
   ]
  },
  {
   "cell_type": "code",
   "execution_count": 0,
   "metadata": {
    "colab": {
     "base_uri": "https://localhost:8080/",
     "height": 170
    },
    "colab_type": "code",
    "id": "NLyD1zqIm0vR",
    "outputId": "26abd3cd-a308-4923-d2c3-f7351a635c2f"
   },
   "outputs": [
    {
     "name": "stdout",
     "output_type": "stream",
     "text": [
      "Copying gs://deep_learning_enis/speech_audio_understanding/embeddings3.npy...\n",
      "/ [1 files][ 46.9 MiB/ 46.9 MiB]                                                \n",
      "Operation completed over 1 objects/46.9 MiB.                                     \n",
      "Copying gs://deep_learning_enis/speech_audio_understanding/postprocessed3.npy...\n",
      "/ [1 files][ 46.9 MiB/ 46.9 MiB]                                                \n",
      "Operation completed over 1 objects/46.9 MiB.                                     \n",
      "Copying gs://deep_learning_enis/speech_audio_understanding/data_file_indexes3.npy...\n",
      "/ [1 files][973.2 KiB/973.2 KiB]                                                \n",
      "Operation completed over 1 objects/973.2 KiB.                                    \n"
     ]
    }
   ],
   "source": [
    "if data_required==True:\n",
    "  !gsutil cp gs://deep_learning_enis/speech_audio_understanding/embeddings3.npy ./\n",
    "  !gsutil cp gs://deep_learning_enis/speech_audio_understanding/postprocessed3.npy ./\n",
    "  !gsutil cp gs://deep_learning_enis/speech_audio_understanding/data_file_indexes3.npy ./\n"
   ]
  },
  {
   "cell_type": "code",
   "execution_count": 0,
   "metadata": {
    "colab": {},
    "colab_type": "code",
    "id": "qatx5-Srm4JJ"
   },
   "outputs": [],
   "source": [
    "embeddings=np.load('embeddings3.npy')\n",
    "postprocessed=np.load('postprocessed3.npy')\n",
    "data_file_indexes=np.load('data_file_indexes3.npy')\n",
    "#get dict from numpy array\n",
    "data_file_indexes=data_file_indexes[()]"
   ]
  },
  {
   "cell_type": "code",
   "execution_count": 0,
   "metadata": {
    "colab": {},
    "colab_type": "code",
    "id": "4ot6OGlRsNQ2"
   },
   "outputs": [],
   "source": [
    "mp3_data_files=sorted(list(data_file_indexes.keys()))\n",
    "\n",
    "site_names=[]\n",
    "hours=[]\n",
    "for name in mp3_data_files:\n",
    "  file_id=name\n",
    "  name=name.split(\"_\")\n",
    "#   if len(name)!=18:\n",
    "#     print(name)\n",
    "  site_name=name[0]\n",
    "  site_names.append(site_name)\n",
    "  date=name[1]\n",
    "  hour_min_sec=name[2]\n",
    "  hour=hour_min_sec[0:2]\n",
    "  hours.append(hour)\n",
    "  year=date[0:4]\n",
    "  month=date[4:6]\n",
    "  day=date[6:8]\n",
    "  site_id=name[2]"
   ]
  },
  {
   "cell_type": "code",
   "execution_count": 0,
   "metadata": {
    "colab": {
     "base_uri": "https://localhost:8080/",
     "height": 34
    },
    "colab_type": "code",
    "id": "qKxXE1G9tCMT",
    "outputId": "51d59a4c-9b89-4624-fec5-bdde128954e4"
   },
   "outputs": [
    {
     "name": "stdout",
     "output_type": "stream",
     "text": [
      "(128,)\n"
     ]
    }
   ],
   "source": [
    "# print(len(set(hours)))\n",
    "# print(len(set(site_names)))\n",
    "\n",
    "# print(postprocessed.shape)\n",
    "# print(embeddings.shape)\n",
    "# print(len(site_names))\n",
    "print(postprocessed[0].shape)"
   ]
  },
  {
   "cell_type": "code",
   "execution_count": 0,
   "metadata": {
    "colab": {},
    "colab_type": "code",
    "id": "4V1S4ZwdrrKx"
   },
   "outputs": [],
   "source": [
    "# 10 second all together\n",
    "postprocessed=postprocessed.reshape(9600,1280)\n",
    "\n",
    "#average of 10 embeddings(1 second each)\n",
    "embeddings_avg=np.mean(embeddings.reshape(10,-1,128),axis=0)\n"
   ]
  },
  {
   "cell_type": "code",
   "execution_count": 0,
   "metadata": {
    "colab": {},
    "colab_type": "code",
    "id": "W5z8zqdcuFIV"
   },
   "outputs": [],
   "source": [
    "X_train, X_test, y_train, y_test = train_test_split(\n",
    "    postprocessed, hours, test_size=0.2, random_state=0)"
   ]
  },
  {
   "cell_type": "code",
   "execution_count": 0,
   "metadata": {
    "colab": {},
    "colab_type": "code",
    "id": "RZKRhYKWk-eD"
   },
   "outputs": [],
   "source": [
    "classifiers_list=[LinearSVC,MultinomialNB,RandomForestClassifier,\n",
    "                  AdaBoostClassifier,MLPClassifier,DecisionTreeClassifier,GaussianNB]\n",
    "\n",
    "# classifiers_list=[MultinomialNB]"
   ]
  },
  {
   "cell_type": "code",
   "execution_count": 0,
   "metadata": {
    "colab": {},
    "colab_type": "code",
    "id": "yHvBv1X4lNON"
   },
   "outputs": [],
   "source": [
    "def run_experiment_w_features(X_train,Y_train,X_test,Y_test,theclassifiers):\n",
    "#   theclassifiers=[MultinomialNB]\n",
    "\n",
    "  if type(theclassifiers)!=list:\n",
    "      theclassifiers=[theclassifiers]\n",
    "  for theclassifier in theclassifiers:\n",
    "  #       initialise classifier\n",
    "      if theclassifier==LinearSVC:\n",
    "          clf= theclassifier(max_iter=3000)\n",
    "      else:\n",
    "          clf= theclassifier()\n",
    "  #     create model with tranining data\n",
    "      model = clf.fit(X_train, Y_train)\n",
    "  #     predict test set\n",
    "      y_preds = model.predict(X_test)\n",
    "      report = classification_report( y_test, y_preds )\n",
    "      accuracy=accuracy_score( y_test, y_preds)\n",
    "      print(str(theclassifier),accuracy)\n",
    "      \n",
    "#   return report, accuracy"
   ]
  },
  {
   "cell_type": "code",
   "execution_count": 0,
   "metadata": {
    "colab": {},
    "colab_type": "code",
    "id": "GYU4CVdIl2rO"
   },
   "outputs": [],
   "source": [
    "run_experiment_w_features(X_train[:],y_train[:],X_test[:],y_test[:],classifiers_list)"
   ]
  },
  {
   "cell_type": "code",
   "execution_count": 0,
   "metadata": {
    "colab": {
     "base_uri": "https://localhost:8080/",
     "height": 68
    },
    "colab_type": "code",
    "id": "5Sx60sK7B0bw",
    "outputId": "dd9bfccc-defd-4312-8592-a78b0944bd75"
   },
   "outputs": [
    {
     "name": "stdout",
     "output_type": "stream",
     "text": [
      "  % Total    % Received % Xferd  Average Speed   Time    Time     Time  Current\n",
      "                                 Dload  Upload   Total   Spent    Left  Speed\n",
      "100 55.8M  100 55.8M    0     0   105M      0 --:--:-- --:--:-- --:--:--  105M\n"
     ]
    }
   ],
   "source": []
  },
  {
   "cell_type": "code",
   "execution_count": 0,
   "metadata": {
    "colab": {
     "base_uri": "https://localhost:8080/",
     "height": 54
    },
    "colab_type": "code",
    "id": "GRMLATRjEkRz",
    "outputId": "8a510c70-b165-4737-f9f3-2d7464c6fded"
   },
   "outputs": [
    {
     "name": "stdout",
     "output_type": "stream",
     "text": [
      "fatal: destination path 'audioset_classification' already exists and is not an empty directory.\n"
     ]
    }
   ],
   "source": []
  },
  {
   "cell_type": "code",
   "execution_count": 0,
   "metadata": {
    "colab": {},
    "colab_type": "code",
    "id": "kOvzw6vTSWhO"
   },
   "outputs": [],
   "source": []
  },
  {
   "cell_type": "code",
   "execution_count": 0,
   "metadata": {
    "colab": {},
    "colab_type": "code",
    "id": "azkmWkVYSiZn"
   },
   "outputs": [],
   "source": []
  },
  {
   "cell_type": "code",
   "execution_count": 0,
   "metadata": {
    "colab": {},
    "colab_type": "code",
    "id": "T6f3h3OmCRPH"
   },
   "outputs": [],
   "source": []
  },
  {
   "cell_type": "code",
   "execution_count": 0,
   "metadata": {
    "colab": {},
    "colab_type": "code",
    "id": "u3PmAW4HCVqr"
   },
   "outputs": [],
   "source": []
  },
  {
   "cell_type": "code",
   "execution_count": 0,
   "metadata": {
    "colab": {},
    "colab_type": "code",
    "id": "gWO26LYJCdbj"
   },
   "outputs": [],
   "source": []
  },
  {
   "cell_type": "code",
   "execution_count": 0,
   "metadata": {
    "colab": {},
    "colab_type": "code",
    "id": "5gNgtOdJFBJh"
   },
   "outputs": [],
   "source": []
  },
  {
   "cell_type": "code",
   "execution_count": 0,
   "metadata": {
    "colab": {},
    "colab_type": "code",
    "id": "Z6ONhaoWi-aw"
   },
   "outputs": [],
   "source": []
  },
  {
   "cell_type": "code",
   "execution_count": 0,
   "metadata": {
    "colab": {},
    "colab_type": "code",
    "id": "VsRYSrnFVsCn"
   },
   "outputs": [],
   "source": []
  },
  {
   "cell_type": "code",
   "execution_count": 0,
   "metadata": {
    "colab": {},
    "colab_type": "code",
    "id": "EBNyP5KVXnAW"
   },
   "outputs": [],
   "source": []
  },
  {
   "cell_type": "code",
   "execution_count": 0,
   "metadata": {
    "colab": {},
    "colab_type": "code",
    "id": "iqHerP4tX2Ez"
   },
   "outputs": [],
   "source": []
  },
  {
   "cell_type": "code",
   "execution_count": 0,
   "metadata": {
    "colab": {},
    "colab_type": "code",
    "id": "cUe1DEC5bCAu"
   },
   "outputs": [],
   "source": []
  },
  {
   "cell_type": "code",
   "execution_count": 0,
   "metadata": {
    "colab": {},
    "colab_type": "code",
    "id": "K90bcpC5bCce"
   },
   "outputs": [],
   "source": []
  },
  {
   "cell_type": "code",
   "execution_count": 0,
   "metadata": {
    "colab": {},
    "colab_type": "code",
    "id": "stxpy5XAbXwv"
   },
   "outputs": [],
   "source": []
  },
  {
   "cell_type": "code",
   "execution_count": 0,
   "metadata": {
    "colab": {},
    "colab_type": "code",
    "id": "8pWp9OoPbiYO"
   },
   "outputs": [],
   "source": []
  },
  {
   "cell_type": "code",
   "execution_count": 0,
   "metadata": {
    "colab": {},
    "colab_type": "code",
    "id": "Jgq1yOnqbqlO"
   },
   "outputs": [],
   "source": []
  },
  {
   "cell_type": "code",
   "execution_count": 0,
   "metadata": {
    "colab": {},
    "colab_type": "code",
    "id": "YNnrE33-dZ7V"
   },
   "outputs": [],
   "source": [
    "first_run=False"
   ]
  }
 ],
 "metadata": {
  "accelerator": "GPU",
  "colab": {
   "collapsed_sections": [],
   "include_colab_link": true,
   "name": "Classify_time&location.ipynb",
   "provenance": [],
   "version": "0.3.2"
  },
  "kernelspec": {
   "display_name": "Python 3",
   "language": "python",
   "name": "python3"
  },
  "language_info": {
   "codemirror_mode": {
    "name": "ipython",
    "version": 3
   },
   "file_extension": ".py",
   "mimetype": "text/x-python",
   "name": "python",
   "nbconvert_exporter": "python",
   "pygments_lexer": "ipython3",
   "version": "3.8.1"
  }
 },
 "nbformat": 4,
 "nbformat_minor": 1
}
