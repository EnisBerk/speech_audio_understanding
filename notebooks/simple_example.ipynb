{
  "nbformat": 4,
  "nbformat_minor": 0,
  "metadata": {
    "colab": {
      "name": "simple_example.ipynb",
      "provenance": []
    },
    "kernelspec": {
      "name": "python3",
      "display_name": "Python 3"
    },
    "accelerator": "GPU"
  },
  "cells": [
    {
      "cell_type": "code",
      "metadata": {
        "id": "8jmfJOM8tpDo",
        "colab_type": "code",
        "colab": {}
      },
      "source": [
        "# get repo\n",
        "!git init\n",
        "!git pull \"https://github.com/speechLabBcCuny/nnaAudiosetClassification.git\"\n"
      ],
      "execution_count": 0,
      "outputs": []
    },
    {
      "cell_type": "code",
      "metadata": {
        "id": "ibgDcivl2cTr",
        "colab_type": "code",
        "colab": {}
      },
      "source": [
        "# get into source directory so we can import files\n",
        "cd src"
      ],
      "execution_count": 0,
      "outputs": []
    },
    {
      "cell_type": "code",
      "metadata": {
        "id": "_LNbToAkxRhj",
        "colab_type": "code",
        "colab": {
          "base_uri": "https://localhost:8080/",
          "height": 104
        },
        "outputId": "1953d702-be1e-46be-fa8b-eac2acb49ffa"
      },
      "source": [
        "#  pydub is required and not in colab already\n",
        "!pip install pydub"
      ],
      "execution_count": 7,
      "outputs": [
        {
          "output_type": "stream",
          "text": [
            "Collecting pydub\n",
            "  Downloading https://files.pythonhosted.org/packages/79/db/eaf620b73a1eec3c8c6f8f5b0b236a50f9da88ad57802154b7ba7664d0b8/pydub-0.23.1-py2.py3-none-any.whl\n",
            "Installing collected packages: pydub\n",
            "Successfully installed pydub-0.23.1\n"
          ],
          "name": "stdout"
        }
      ]
    },
    {
      "cell_type": "code",
      "metadata": {
        "id": "VS_KKWywxl1Z",
        "colab_type": "code",
        "colab": {}
      },
      "source": [
        "# get model files and place in assets folder\n",
        "!wget https://max-assets-prod.s3.us-south.cloud-object-storage.appdomain.cloud/max-audio-classifier/1.0.0/assets.tar.gz\n",
        "!tar -xzvf assets.tar.gz\n",
        "!mv classifier_model.h5 ./assets/\n",
        "!mv vggish_pca_params.npz ./assets/\n",
        "!mv vggish_model.ckpt ./assets/"
      ],
      "execution_count": 0,
      "outputs": []
    },
    {
      "cell_type": "code",
      "metadata": {
        "id": "2n9_o79dxHMF",
        "colab_type": "code",
        "colab": {}
      },
      "source": [
        "# create an instance of vgg embeddings generator\n",
        "vgg = VggishModelWrapper()\n",
        "\n",
        "# create and instance of Audioset classifier\n",
        "classifier=AudioSet(vggish_model=vgg)\n",
        "\n",
        "#classify mp3 file\n",
        "class_prob = classifier.classify_sound(\"./assets/10seconds.mp3\")\n",
        "\n",
        "# sort probabilities(scores) and get corresponding labels for first 5 class\n",
        "labels,prob = audioset_classifier.prob2labels(class_prob,first_k=5)\n",
        "\n",
        "#print results\n",
        "for sample_labels,sample_probabilities in zip(labels,prob):\n",
        "    for a_label,a_prob in zip(sample_labels,sample_probabilities):\n",
        "        print(a_label,a_prob)"
      ],
      "execution_count": 0,
      "outputs": []
    }
  ]
}