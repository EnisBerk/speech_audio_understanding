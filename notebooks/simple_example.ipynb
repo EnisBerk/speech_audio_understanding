{
  "nbformat": 4,
  "nbformat_minor": 0,
  "metadata": {
    "colab": {
      "name": "simple_example.ipynb",
      "provenance": [],
      "include_colab_link": true
    },
    "kernelspec": {
      "name": "python3",
      "display_name": "Python 3"
    },
    "accelerator": "GPU"
  },
  "cells": [
    {
      "cell_type": "markdown",
      "metadata": {
        "id": "view-in-github",
        "colab_type": "text"
      },
      "source": [
        "<a href=\"https://colab.research.google.com/github/speechLabBcCuny/nnaAudiosetClassification/blob/master/notebooks/simple_example.ipynb\" target=\"_parent\"><img src=\"https://colab.research.google.com/assets/colab-badge.svg\" alt=\"Open In Colab\"/></a>"
      ]
    },
    {
      "cell_type": "code",
      "metadata": {
        "id": "8jmfJOM8tpDo",
        "colab_type": "code",
        "colab": {}
      },
      "source": [
        "# get repo\n",
        "!git init\n",
        "!git pull \"https://github.com/speechLabBcCuny/nnaAudiosetClassification.git\"\n"
      ],
      "execution_count": 0,
      "outputs": []
    },
    {
      "cell_type": "code",
      "metadata": {
        "id": "ibgDcivl2cTr",
        "colab_type": "code",
        "colab": {}
      },
      "source": [
        "# get into source directory so we can import files\n",
        "cd src"
      ],
      "execution_count": 0,
      "outputs": []
    },
    {
      "cell_type": "code",
      "metadata": {
        "id": "_LNbToAkxRhj",
        "colab_type": "code",
        "colab": {}
      },
      "source": [
        "#  pydub is required and not in colab already\n",
        "!pip install pydub"
      ],
      "execution_count": 0,
      "outputs": []
    },
    {
      "cell_type": "code",
      "metadata": {
        "id": "VS_KKWywxl1Z",
        "colab_type": "code",
        "colab": {}
      },
      "source": [
        "# get model files and place in assets folder\n",
        "!wget https://max-assets-prod.s3.us-south.cloud-object-storage.appdomain.cloud/max-audio-classifier/1.0.0/assets.tar.gz\n",
        "!tar -xzvf assets.tar.gz\n",
        "!mv classifier_model.h5 ./assets/\n",
        "!mv vggish_pca_params.npz ./assets/\n",
        "!mv vggish_model.ckpt ./assets/"
      ],
      "execution_count": 0,
      "outputs": []
    },
    {
      "cell_type": "code",
      "metadata": {
        "id": "2n9_o79dxHMF",
        "colab_type": "code",
        "colab": {
          "base_uri": "https://localhost:8080/",
          "height": 101
        },
        "outputId": "7b7b006a-fbf5-480a-f7da-255a38ebcc36"
      },
      "source": [
        "import tensorflow as tf\n",
        "from models_api import AudioSet\n",
        "\n",
        "# create and instance of Audioset classifier\n",
        "classifier=AudioSet()\n",
        "\n",
        "#classify mp3 file\n",
        "class_prob = classifier.classify_sound(\"./assets/10seconds.mp3\")\n",
        "\n",
        "# sort probabilities(scores) and get corresponding labels for first 5 class\n",
        "labels,prob = classifier.prob2labels(class_prob,first_k=5)\n",
        "\n",
        "#print results\n",
        "for sample_labels,sample_probabilities in zip(labels,prob):\n",
        "    for a_label,a_prob in zip(sample_labels,sample_probabilities):\n",
        "        print(a_label,a_prob)"
      ],
      "execution_count": 8,
      "outputs": [
        {
          "output_type": "stream",
          "text": [
            "Heart sounds, heartbeat 0.8009218\n",
            "Heart murmur 0.3893577\n",
            "Boat, Water vehicle 0.253564\n",
            "Vehicle 0.14224777\n",
            "Horse 0.13087976\n"
          ],
          "name": "stdout"
        }
      ]
    }
  ]
}