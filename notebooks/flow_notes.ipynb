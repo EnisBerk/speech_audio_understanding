{
 "cells": [
  {
   "cell_type": "code",
   "execution_count": 5,
   "metadata": {},
   "outputs": [
    {
     "name": "stdout",
     "output_type": "stream",
     "text": [
      "/home/enis/projects/nna/src\n"
     ]
    }
   ],
   "source": [
    "import os\n",
    "import sys\n",
    "\n",
    "module_path = os.path.abspath(os.path.join('../src'))\n",
    "print(module_path)\n",
    "if module_path not in sys.path:\n",
    "    sys.path.append(module_path)"
   ]
  },
  {
   "cell_type": "code",
   "execution_count": 7,
   "metadata": {},
   "outputs": [],
   "source": [
    "from fileUtils import list_files\n"
   ]
  },
  {
   "cell_type": "code",
   "execution_count": 1,
   "metadata": {},
   "outputs": [],
   "source": [
    "# originally from ../src/notes.md"
   ]
  },
  {
   "cell_type": "markdown",
   "metadata": {},
   "source": [
    "* start with screen\n",
    "* get GPU Memory so I can use it later\n",
    "* one file file at a time (~2 gb)\n",
    "  * I will divide files to 1 hour slices\n",
    "  * I will use 25 cpus so 25 processes\n",
    "  * embeddings file name will be filename_embeddings.\n",
    "\n"
   ]
  },
  {
   "cell_type": "markdown",
   "metadata": {},
   "source": [
    "1) create a text file with paths to input audio files (one full path per line)\n",
    " \n",
    "* `find /tank/data/nna/real/ -iname \"*flac\" > flacfiles.txt`\n",
    "* or following code, list_files function\n"
   ]
  },
  {
   "cell_type": "code",
   "execution_count": 17,
   "metadata": {},
   "outputs": [],
   "source": [
    "search_path=\"/tank/data/nna/real/\"\n",
    "ignore_folders=['/tank/data/nna/real/stinchcomb/',\"/tank/data/nna/real/prudhoe/\"]\n",
    "\n",
    "files_path_list=list_files(search_path,ignore_folders)\n",
    "\n",
    "\n",
    "datafiles_path=\"/home/enis/projects/nna/data/\"\n",
    "input_filename = \"datasetV3.txt\"\n",
    "\n",
    "thepath=datafiles_path+input_filename\n",
    "with open(thepath,\"w\") as myfile:\n",
    "    myfile.writelines(\"\\n\".join(files_path_list))"
   ]
  },
  {
   "cell_type": "markdown",
   "metadata": {},
   "source": [
    "2) update input, output directory, input list,  in /nna/src/params.py\n",
    "\n",
    "3-1) sync files \n",
    "\n",
    "`rsync -av --recursive --update ./ enis@crescent:/home/enis/projects/nna/ `\n",
    "\n",
    "3-2) run codes\n",
    "```bash\n",
    "python pre_process.py &>> job_logs/logs.txt; python slack_message.py -t \\\"cpu job ended\\\" -f job_logs/logs.txt &\n",
    "\n",
    "python watch_VGGish.py &>> job_logs/logs.txt; python slack_message.py -t \\\"gpu job stopped\\\" & \n",
    "```\n",
    "4) to re-run, update the code and remove temporary flac files\n",
    "\n",
    "`rsync -av --recursive --update /Users/berk/Documents/workspace/speech_audio_understanding/src/ enis@crescent:/home/enis/projects/nna/`\n",
    "\n",
    "`find /scratch/enis/data/nna/real/ -iname \"*flac\"  -delete`\n",
    "\n",
    "also remove `job_logs/pre_processing_queue.csv` if jobs left unfinished\n",
    "\n",
    "5) tracking progress \n",
    "```bash\n",
    "cat job_logs/pre_processing_queue.csv | wc -l; cat job_logs/pre_processed_queue.csv | wc -l; cat job_logs/VGGISH_processing_queue.csv | wc -l; cat job_logs/vggish_embeddings_queue.csv | wc -l; du -hs /scratch/enis/data/\n",
    "```\n",
    "6) backup\n",
    "```bash\n",
    "tar cf - /scratch/enis/data/nna/backup/NUI_DATA/ -P | pv -s $(du -sb /scratch/enis/data/nna/backup/NUI_DATA/ | awk '{print $1}') | gzip > embeddings_backup.tar.gz\n",
    "```\n"
   ]
  },
  {
   "cell_type": "code",
   "execution_count": 13,
   "metadata": {},
   "outputs": [
    {
     "data": {
      "text/plain": [
       "'/tank/data/nna/real/39B/S4A10262_20190611_101602.flac\\n'"
      ]
     },
     "execution_count": 13,
     "metadata": {},
     "output_type": "execute_result"
    }
   ],
   "source": []
  },
  {
   "cell_type": "code",
   "execution_count": 15,
   "metadata": {},
   "outputs": [
    {
     "data": {
      "text/plain": [
       "'1\\n2'"
      ]
     },
     "execution_count": 15,
     "metadata": {},
     "output_type": "execute_result"
    }
   ],
   "source": []
  },
  {
   "cell_type": "code",
   "execution_count": null,
   "metadata": {},
   "outputs": [],
   "source": []
  }
 ],
 "metadata": {
  "kernelspec": {
   "display_name": "speechEnv",
   "language": "python",
   "name": "speechenv"
  },
  "language_info": {
   "codemirror_mode": {
    "name": "ipython",
    "version": 3
   },
   "file_extension": ".py",
   "mimetype": "text/x-python",
   "name": "python",
   "nbconvert_exporter": "python",
   "pygments_lexer": "ipython3",
   "version": "3.7.2"
  }
 },
 "nbformat": 4,
 "nbformat_minor": 4
}
