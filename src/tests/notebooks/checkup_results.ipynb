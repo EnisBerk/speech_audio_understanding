{
 "cells": [
  {
   "cell_type": "code",
   "execution_count": 162,
   "metadata": {},
   "outputs": [
    {
     "name": "stdout",
     "output_type": "stream",
     "text": [
      "/home/enis/projects/nna/src\n"
     ]
    }
   ],
   "source": [
    "import os\n",
    "import sys\n",
    "\n",
    "module_path = os.path.abspath(os.path.join('../..'))\n",
    "print(module_path)\n",
    "if module_path not in sys.path:\n",
    "    sys.path.append(module_path)"
   ]
  },
  {
   "cell_type": "code",
   "execution_count": null,
   "metadata": {},
   "outputs": [],
   "source": []
  },
  {
   "cell_type": "code",
   "execution_count": 163,
   "metadata": {},
   "outputs": [],
   "source": [
    "from params import PRE_PROCESSED_queue,VGGISH_processing_queue,VGGISH_EMBEDDINGS_queue\n",
    "from params import PRE_PROCESSED_queue,PRE_PROCESSING_queue,VGGISH_processing_queue\n",
    "from pathlib import Path\n",
    "import pre_process_func\n",
    "from pre_process_func import read_queue\n",
    "\n",
    "import pprint\n",
    "pp = pprint.PrettyPrinter(indent=4)\n",
    "pprint = pp.pprint\n",
    "\n",
    "PRE_PROCESSED_queue = \"../../\" / Path(PRE_PROCESSED_queue)\n",
    "VGGISH_processing_queue = \"../../\" / Path(VGGISH_processing_queue)\n",
    "PRE_PROCESSING_queue = \"../../\" / Path(PRE_PROCESSING_queue)\n",
    "VGGISH_EMBEDDINGS_queue = \"../..\" / Path(VGGISH_EMBEDDINGS_queue)"
   ]
  },
  {
   "cell_type": "code",
   "execution_count": null,
   "metadata": {},
   "outputs": [],
   "source": []
  },
  {
   "cell_type": "code",
   "execution_count": 164,
   "metadata": {},
   "outputs": [
    {
     "data": {
      "text/plain": [
       "(PosixPath('../../job_logs/pre_processed_queue.csv'),\n",
       " PosixPath('../../job_logs/VGGISH_processing_queue.csv'))"
      ]
     },
     "execution_count": 164,
     "metadata": {},
     "output_type": "execute_result"
    }
   ],
   "source": [
    "PRE_PROCESSED_queue,VGGISH_processing_queue"
   ]
  },
  {
   "cell_type": "code",
   "execution_count": 165,
   "metadata": {},
   "outputs": [
    {
     "data": {
      "text/plain": [
       "PosixPath('../../job_logs/vggish_embeddings_queue.csv')"
      ]
     },
     "execution_count": 165,
     "metadata": {},
     "output_type": "execute_result"
    }
   ],
   "source": [
    "VGGISH_EMBEDDINGS_queue"
   ]
  },
  {
   "cell_type": "code",
   "execution_count": null,
   "metadata": {},
   "outputs": [],
   "source": []
  },
  {
   "cell_type": "code",
   "execution_count": 184,
   "metadata": {},
   "outputs": [
    {
     "name": "stdout",
     "output_type": "stream",
     "text": [
      "started pre processing 63\n",
      "pre processing done 59\n",
      "VGG doing: 0 to do 59\n",
      "files done 16676 0.9962%\n"
     ]
    }
   ],
   "source": [
    "already_PRE_PROCESSING=read_queue(PRE_PROCESSING_queue)\n",
    "files_in_pre_queu=read_queue(PRE_PROCESSED_queue)\n",
    "files_in_processing=read_queue(VGGISH_processing_queue)\n",
    "files_done=read_queue(VGGISH_EMBEDDINGS_queue)\n",
    "files_to_do = set(files_in_pre_queu).difference(set(files_in_processing),set(files_done))\n",
    "files_doing=set(files_in_processing).difference(files_done)\n",
    "\n",
    "print(\"started pre processing\",len(set(already_PRE_PROCESSING)))\n",
    "print(\"pre processing done\",len(set(files_in_pre_queu)))\n",
    "print(\"VGG\",\"doing:\",len(files_doing), \"to do\",len(files_to_do))\n",
    "print(\"files done\",len(set(files_done)),\"{:.4}%\".format(len(set(files_done))/16739.0))\n",
    "\n",
    "# pprint(files_in_processing)"
   ]
  },
  {
   "cell_type": "code",
   "execution_count": 14,
   "metadata": {},
   "outputs": [
    {
     "data": {
      "text/plain": [
       "True"
      ]
     },
     "execution_count": 14,
     "metadata": {},
     "output_type": "execute_result"
    }
   ],
   "source": [
    "apath=Path('/home/data/nna/stinchcomb/NUI_DATA/18 Fish Creek 4/July 2016/FSHCK4_20160629_194935.MP3')\n",
    "str(apath) in already_PRE_PROCESSING"
   ]
  },
  {
   "cell_type": "code",
   "execution_count": 49,
   "metadata": {},
   "outputs": [
    {
     "data": {
      "text/plain": [
       "(367, 617)"
      ]
     },
     "execution_count": 49,
     "metadata": {},
     "output_type": "execute_result"
    }
   ],
   "source": [
    "len(set(already_PRE_PROCESSING)),len((already_PRE_PROCESSING))"
   ]
  },
  {
   "cell_type": "markdown",
   "metadata": {},
   "source": [
    "#### remove wrong file names"
   ]
  },
  {
   "cell_type": "code",
   "execution_count": 81,
   "metadata": {},
   "outputs": [
    {
     "name": "stdout",
     "output_type": "stream",
     "text": [
      "['npy']\n"
     ]
    }
   ],
   "source": [
    "import csv\n",
    "from pre_process_func import save_to_csv\n",
    "\n",
    "with open(\"job_logs/pre_processed_queue_old.csv\") as f:\n",
    "    reader=csv.reader(f)\n",
    "    lines=[]\n",
    "    for i in reader:\n",
    "        if len(i[0])<10:\n",
    "            print(i)\n",
    "        else:\n",
    "            lines.append(i)\n",
    "save_to_csv(\"job_logs/pre_processed_queue.csv\",lines)"
   ]
  },
  {
   "cell_type": "markdown",
   "metadata": {},
   "source": [
    "#### check if all results have continous indexes "
   ]
  },
  {
   "cell_type": "code",
   "execution_count": 99,
   "metadata": {},
   "outputs": [],
   "source": [
    "from pre_process_func import OUTPUT_DIR\n"
   ]
  },
  {
   "cell_type": "code",
   "execution_count": 137,
   "metadata": {},
   "outputs": [],
   "source": [
    "all_files=Path(OUTPUT_DIR).iterdir()"
   ]
  },
  {
   "cell_type": "code",
   "execution_count": 138,
   "metadata": {},
   "outputs": [
    {
     "data": {
      "text/plain": [
       "<generator object Path.iterdir at 0x7fc07b4107c8>"
      ]
     },
     "execution_count": 138,
     "metadata": {},
     "output_type": "execute_result"
    }
   ],
   "source": []
  },
  {
   "cell_type": "code",
   "execution_count": 243,
   "metadata": {},
   "outputs": [],
   "source": [
    "# THIS checks if all segment files are exists in order (splits of original audio files),\n",
    "# if last file missing, cannot tell\n",
    "def check_order(folder):\n",
    "    all_files=list(Path(folder).iterdir())\n",
    "#     print(list(all_files))\n",
    "    all_folders = [i for i in all_files if i.is_dir()]\n",
    "    all_non_folders = [i for i in all_files if not(i.is_dir())]\n",
    "#     print(all_non_folders)\n",
    "    i_raw=[]\n",
    "    i_embed=[]\n",
    "    total=0\n",
    "    for afile in sorted(all_non_folders):\n",
    "        index=afile.stem.split(\"_\")[-1]\n",
    "        if \"rawembeddings\" in index:\n",
    "            rawembed_index= int(index[-3:])\n",
    "            i_raw.append(rawembed_index)\n",
    "        elif \"embeddings\" in index:\n",
    "            embed_index= int(index[-3:])\n",
    "            i_embed.append(embed_index)\n",
    "        elif \".txt\" in str(afile) or \"preprocessed.npy\" in str(afile):\n",
    "            continue\n",
    "        else:\n",
    "            print(index)\n",
    "            print(afile)\n",
    "#     if len(i_raw)<49 and i_raw:\n",
    "#         print(i_raw,i_embed)\n",
    "    total+=len(i_raw)\n",
    "    if i_raw:\n",
    "        if len(i_raw)!=i_raw[-1]+1:\n",
    "            for i in range(len(i_raw)):\n",
    "                if i!=i_raw[i]:\n",
    "                    print(i)\n",
    "                    break\n",
    "            print(i_raw)\n",
    "            print(afile)\n",
    "    if i_embed:\n",
    "        if len(i_embed)!=i_embed[-1]+1:\n",
    "            for i in range(len(i_embed)):\n",
    "                if i!=i_embed[i]:\n",
    "                    print(i)\n",
    "                    break\n",
    "            print(i_embed)\n",
    "            print(afile)\n",
    "    \n",
    "    for folder in all_folders:\n",
    "        total+=check_order(folder)\n",
    "    return total"
   ]
  },
  {
   "cell_type": "code",
   "execution_count": 244,
   "metadata": {},
   "outputs": [
    {
     "name": "stdout",
     "output_type": "stream",
     "text": [
      "40\n",
      "[0, 1, 2, 3, 4, 5, 6, 7, 8, 9, 10, 11, 12, 13, 14, 15, 16, 17, 18, 19, 20, 21, 22, 23, 24, 25, 26, 27, 28, 29, 30, 31, 32, 33, 34, 35, 36, 37, 38, 39, 41, 42, 43, 44, 45, 46, 47, 48, 49]\n",
      "/scratch/enis/data/nna/NUI_DATA/17 Fish Creek 3/July 2016/FSHCK3_20160625_153654_vgg/FSHCK3_20160625_153654_rawembeddings049.npy\n",
      "40\n",
      "[0, 1, 2, 3, 4, 5, 6, 7, 8, 9, 10, 11, 12, 13, 14, 15, 16, 17, 18, 19, 20, 21, 22, 23, 24, 25, 26, 27, 28, 29, 30, 31, 32, 33, 34, 35, 36, 37, 38, 39, 41, 42, 43, 44, 45, 46, 47, 48, 49]\n",
      "/scratch/enis/data/nna/NUI_DATA/17 Fish Creek 3/July 2016/FSHCK3_20160625_153654_vgg/FSHCK3_20160625_153654_rawembeddings049.npy\n",
      "18907\n"
     ]
    }
   ],
   "source": [
    "\n",
    "print(check_order(OUTPUT_DIR))"
   ]
  },
  {
   "cell_type": "code",
   "execution_count": 246,
   "metadata": {},
   "outputs": [
    {
     "data": {
      "text/plain": [
       "False"
      ]
     },
     "execution_count": 246,
     "metadata": {},
     "output_type": "execute_result"
    }
   ],
   "source": [
    "# check if missing file was in the pre_queue\n",
    "apath=\"/scratch/enis/data/nna/NUI_DATA/17 Fish Creek 3/July 2016/FSHCK3_20160625_153654_vgg/FSHCK3_20160625_153654_rawembeddings047.npy\" \n",
    "# /scratch/enis/data/nna/NUI_DATA/04 Colville 4/June 2016/CLVL4_20160623_084159_preprocessed/output018_preprocessed.npy\n",
    "str(apath) in files_in_pre_queu"
   ]
  },
  {
   "cell_type": "code",
   "execution_count": 247,
   "metadata": {},
   "outputs": [
    {
     "data": {
      "text/plain": [
       "'/scratch/enis/data/nna/NUI_DATA/02 Colville 2/August 2016/CLVL2_20160827_085325_preprocessed/output000_preprocessed.npy'"
      ]
     },
     "execution_count": 247,
     "metadata": {},
     "output_type": "execute_result"
    }
   ],
   "source": [
    "# expected format in that list\n",
    "files_in_pre_queu[0]"
   ]
  },
  {
   "cell_type": "code",
   "execution_count": 230,
   "metadata": {},
   "outputs": [
    {
     "data": {
      "text/plain": [
       "'/scratch/enis/data/nna/NUI_DATA/02 Colville 2/August 2016/CLVL2_20160827_085325_preprocessed/output000_preprocessed.npy'"
      ]
     },
     "execution_count": 230,
     "metadata": {},
     "output_type": "execute_result"
    }
   ],
   "source": []
  },
  {
   "cell_type": "code",
   "execution_count": 296,
   "metadata": {},
   "outputs": [
    {
     "name": "stdout",
     "output_type": "stream",
     "text": [
      "-rw-rw-r-- 1 enis enis 85M Oct  9 05:20 /scratch/enis/data/nna/NUI_DATA/17 Fish Creek 3/July 2016/FSHCK3_20160625_153654_preprocessed/output040_preprocessed.npy\r\n"
     ]
    }
   ],
   "source": [
    "# check if files exists, maybe just not recorded\n",
    "!ls -alh \"/scratch/enis/data/nna/NUI_DATA/17 Fish Creek 3/July 2016/FSHCK3_20160625_153654_preprocessed/output040_preprocessed.npy\"\n"
   ]
  },
  {
   "cell_type": "code",
   "execution_count": 294,
   "metadata": {},
   "outputs": [
    {
     "name": "stdout",
     "output_type": "stream",
     "text": [
      "-rw-rw-r-- 1 enis enis 85M Oct  9 05:20 /scratch/enis/data/nna/NUI_DATA/17 Fish Creek 3/July 2016/FSHCK3_20160625_153654_preprocessed/output040_preprocessed.npy\r\n"
     ]
    }
   ],
   "source": [
    "!ls -alh \"/scratch/enis/data/nna/NUI_DATA/17 Fish Creek 3/July 2016/FSHCK3_20160625_153654_preprocessed/output040_preprocessed.npy\""
   ]
  },
  {
   "cell_type": "code",
   "execution_count": null,
   "metadata": {},
   "outputs": [],
   "source": []
  },
  {
   "cell_type": "code",
   "execution_count": 297,
   "metadata": {},
   "outputs": [],
   "source": []
  },
  {
   "cell_type": "code",
   "execution_count": 298,
   "metadata": {},
   "outputs": [
    {
     "data": {
      "text/plain": [
       "(False, False, False)"
      ]
     },
     "execution_count": 298,
     "metadata": {},
     "output_type": "execute_result"
    }
   ],
   "source": [
    "# check which stages file was in \n",
    "str(a_path) in files_in_pre_queu, str(a_path) in files_in_processing, str(a_path) in files_done, "
   ]
  },
  {
   "cell_type": "markdown",
   "metadata": {},
   "source": [
    "### find out which files are not processed "
   ]
  },
  {
   "cell_type": "code",
   "execution_count": 52,
   "metadata": {},
   "outputs": [
    {
     "data": {
      "text/plain": [
       "'/scratch/enis/data/nna/real/39B/S4A10262_20190604_134602_preprocessed/output000_preprocessed.npy'"
      ]
     },
     "execution_count": 52,
     "metadata": {},
     "output_type": "execute_result"
    }
   ],
   "source": [
    "# files_done format\n",
    "files_done[0]"
   ]
  },
  {
   "cell_type": "code",
   "execution_count": 53,
   "metadata": {},
   "outputs": [
    {
     "data": {
      "text/plain": [
       "'/scratch/enis/data/nna/real/11A/S4A10276_20190507_000000_vgg/S4A10276_20190507_000000_rawembeddings000.npy'"
      ]
     },
     "execution_count": 53,
     "metadata": {},
     "output_type": "execute_result"
    }
   ],
   "source": [
    "# format\n",
    "all_raw[0]"
   ]
  },
  {
   "cell_type": "code",
   "execution_count": 153,
   "metadata": {},
   "outputs": [],
   "source": []
  },
  {
   "cell_type": "code",
   "execution_count": 77,
   "metadata": {},
   "outputs": [
    {
     "data": {
      "text/plain": [
       "set()"
      ]
     },
     "execution_count": 77,
     "metadata": {},
     "output_type": "execute_result"
    }
   ],
   "source": []
  },
  {
   "cell_type": "code",
   "execution_count": 186,
   "metadata": {},
   "outputs": [],
   "source": [
    "# get file names that were supposed to be processed\n",
    "with open(\"/home/enis/projects/nna/data/flacfiles.txt\",\"r+\") as my_file:\n",
    "    input_path_list = my_file.read().splitlines()"
   ]
  },
  {
   "cell_type": "code",
   "execution_count": 187,
   "metadata": {},
   "outputs": [],
   "source": [
    "# get file stems, ignore directories, assumes that all file names are unique \n",
    "files_donestem=(set([\"_\".join(str(Path(i).parent.stem).split(\"_\")[:-1]) for i in files_done]))\n",
    "files_in_pre_queu_stem=(set([\"_\".join(str(Path(i).parent.stem).split(\"_\")[:-1]) for i in files_in_pre_queu]))\n",
    "\n",
    "\n",
    "all_rawstem=(set([\"_\".join(Path(i).stem.split(\"_\")) for i in input_path_list]))\n",
    "pre_procesing_stem=(set([\"_\".join(Path(i).stem.split(\"_\")) for i in already_PRE_PROCESSING]))\n",
    "\n"
   ]
  },
  {
   "cell_type": "code",
   "execution_count": 188,
   "metadata": {},
   "outputs": [],
   "source": [
    "leftones=all_rawstem.difference(files_donestem.union(set(files_in_pre_queu_stem)))"
   ]
  },
  {
   "cell_type": "code",
   "execution_count": null,
   "metadata": {},
   "outputs": [],
   "source": []
  },
  {
   "cell_type": "code",
   "execution_count": 189,
   "metadata": {},
   "outputs": [],
   "source": [
    "leftones_path=[]\n",
    "for i in input_path_list:\n",
    "    short=\"_\".join(Path(i).stem.split(\"_\"))\n",
    "    if short in leftones:\n",
    "        leftones_path.append(i)"
   ]
  },
  {
   "cell_type": "code",
   "execution_count": 190,
   "metadata": {},
   "outputs": [
    {
     "data": {
      "text/plain": [
       "['/tank/data/nna/real/28A/S4A10259_20190514_183000.flac',\n",
       " '/tank/data/nna/real/48A/S4A10252_20190529_171602.flac',\n",
       " '/tank/data/nna/real/15A/S4A10283_20190528_030000.flac',\n",
       " '/tank/data/nna/real/33A/S4A10287_20190522_014602.flac']"
      ]
     },
     "execution_count": 190,
     "metadata": {},
     "output_type": "execute_result"
    }
   ],
   "source": [
    "leftones_path"
   ]
  },
  {
   "cell_type": "code",
   "execution_count": 99,
   "metadata": {},
   "outputs": [],
   "source": [
    "# save them to a file for further processing\n",
    "with open(\"/home/enis/projects/nna/data/flacfiles_left.txt\",\"w\") as my_file:\n",
    "    for path in leftones_path:\n",
    "        my_file.write(path+\"\\n\")"
   ]
  },
  {
   "cell_type": "code",
   "execution_count": null,
   "metadata": {},
   "outputs": [],
   "source": []
  }
 ],
 "metadata": {
  "kernelspec": {
   "display_name": "speechEnv",
   "language": "python",
   "name": "speechenv"
  },
  "language_info": {
   "codemirror_mode": {
    "name": "ipython",
    "version": 3
   },
   "file_extension": ".py",
   "mimetype": "text/x-python",
   "name": "python",
   "nbconvert_exporter": "python",
   "pygments_lexer": "ipython3",
   "version": "3.7.2"
  }
 },
 "nbformat": 4,
 "nbformat_minor": 2
}
