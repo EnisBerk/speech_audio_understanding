{
 "cells": [
  {
   "cell_type": "code",
   "execution_count": 28,
   "metadata": {},
   "outputs": [],
   "source": [
    "from params import PRE_PROCESSED_queue,VGGISH_processing_queue,VGGISH_EMBEDDINGS_queue\n",
    "from params import PRE_PROCESSED_queue,PRE_PROCESSING_queue,VGGISH_processing_queue\n",
    "from pathlib import Path\n",
    "import pre_process_func\n",
    "from pre_process_func import read_queue\n",
    "\n",
    "import pprint\n",
    "pp = pprint.PrettyPrinter(indent=4)\n",
    "pprint = pp.pprint"
   ]
  },
  {
   "cell_type": "code",
   "execution_count": 305,
   "metadata": {},
   "outputs": [
    {
     "name": "stdout",
     "output_type": "stream",
     "text": [
      "started pre processing 409\n",
      "pre processing done 18908\n",
      "VGG doing: 0 to do 0\n",
      "files done 18908 0.9454\n"
     ]
    }
   ],
   "source": [
    "already_PRE_PROCESSING=read_queue(PRE_PROCESSING_queue)\n",
    "files_in_pre_queu=read_queue(PRE_PROCESSED_queue)\n",
    "files_in_processing=read_queue(VGGISH_processing_queue)\n",
    "files_done=read_queue(VGGISH_EMBEDDINGS_queue)\n",
    "files_to_do = set(files_in_pre_queu).difference(set(files_in_processing),set(files_done))\n",
    "files_doing=set(files_in_processing).difference(files_done)\n",
    "\n",
    "print(\"started pre processing\",len(set(already_PRE_PROCESSING)))\n",
    "print(\"pre processing done\",len(set(files_in_pre_queu)))\n",
    "print(\"VGG\",\"doing:\",len(files_doing), \"to do\",len(files_to_do))\n",
    "print(\"files done\",len(set(files_done)),len(set(files_done))/20000)\n",
    "\n",
    "# pprint(files_in_processing)"
   ]
  },
  {
   "cell_type": "code",
   "execution_count": 198,
   "metadata": {},
   "outputs": [
    {
     "name": "stdout",
     "output_type": "stream",
     "text": [
      "/scratch/enis/data/nna/NUI_DATA/04 Colville 4/June 2016/CLVL4_20160623_084159_preprocessed/output018_preprocessed.npy\n",
      "/scratch/enis/data/nna/NUI_DATA/17 Fish Creek 3/July 2016/FSHCK3_20160706_000310_preprocessed/output020_preprocessed.npy\n",
      "/scratch/enis/data/nna/NUI_DATA/20 Umiat/July 2016/UMIAT_20130713_180248_preprocessed/output037_preprocessed.npy\n"
     ]
    }
   ],
   "source": [
    "for i in files_doinag:\n",
    "    if i in files_in_pre_queu:\n",
    "        print(i)"
   ]
  },
  {
   "cell_type": "code",
   "execution_count": 259,
   "metadata": {},
   "outputs": [
    {
     "name": "stdout",
     "output_type": "stream",
     "text": [
      "started pre processing 409\n",
      "pre processing done 18907\n",
      "VGG doing: 0 to do 0\n",
      "files done 18907 0.94535\n"
     ]
    }
   ],
   "source": [
    "already_PRE_PROCESSING=read_queue(PRE_PROCESSING_queue)\n",
    "files_in_pre_queu=read_queue(PRE_PROCESSED_queue)\n",
    "files_in_processing=read_queue(VGGISH_processing_queue)\n",
    "files_done=read_queue(VGGISH_EMBEDDINGS_queue)\n",
    "files_to_do = set(files_in_pre_queu).difference(set(files_in_processing)).difference(set(files_done))\n",
    "files_doing=set(files_in_pre_queu).difference(set(files_done))\n",
    "\n",
    "print(\"started pre processing\",len(set(already_PRE_PROCESSING)))\n",
    "print(\"pre processing done\",len(set(files_in_pre_queu)))\n",
    "print(\"VGG\",\"doing:\",len(files_doing), \"to do\",len(files_to_do))\n",
    "print(\"files done\",len(set(files_done)),len(set(files_done))/20000)\n",
    "\n",
    "# pprint(files_in_processing)"
   ]
  },
  {
   "cell_type": "code",
   "execution_count": 34,
   "metadata": {},
   "outputs": [],
   "source": [
    "# already_PRE_PROCESSING=read_queue(PRE_PROCESSING_queue)\n",
    "# if mp3_file_path in already_PRE_PROCESSING:\n",
    "#     return 2\n",
    "# else:\n",
    "#     save_to_csv(PRE_PROCESSING_queue,[[str(mp3_file_path)]])"
   ]
  },
  {
   "cell_type": "code",
   "execution_count": 14,
   "metadata": {},
   "outputs": [
    {
     "data": {
      "text/plain": [
       "True"
      ]
     },
     "execution_count": 14,
     "metadata": {},
     "output_type": "execute_result"
    }
   ],
   "source": [
    "apath=Path('/home/data/nna/stinchcomb/NUI_DATA/18 Fish Creek 4/July 2016/FSHCK4_20160629_194935.MP3')\n",
    "str(apath) in already_PRE_PROCESSING"
   ]
  },
  {
   "cell_type": "code",
   "execution_count": 49,
   "metadata": {},
   "outputs": [
    {
     "data": {
      "text/plain": [
       "(367, 617)"
      ]
     },
     "execution_count": 49,
     "metadata": {},
     "output_type": "execute_result"
    }
   ],
   "source": [
    "len(set(already_PRE_PROCESSING)),len((already_PRE_PROCESSING))"
   ]
  },
  {
   "cell_type": "markdown",
   "metadata": {},
   "source": [
    "#### remove wrong file names"
   ]
  },
  {
   "cell_type": "code",
   "execution_count": 81,
   "metadata": {},
   "outputs": [
    {
     "name": "stdout",
     "output_type": "stream",
     "text": [
      "['npy']\n"
     ]
    }
   ],
   "source": [
    "import csv\n",
    "from pre_process_func import save_to_csv\n",
    "\n",
    "with open(\"job_logs/pre_processed_queue_old.csv\") as f:\n",
    "    reader=csv.reader(f)\n",
    "    lines=[]\n",
    "    for i in reader:\n",
    "        if len(i[0])<10:\n",
    "            print(i)\n",
    "        else:\n",
    "            lines.append(i)\n",
    "save_to_csv(\"job_logs/pre_processed_queue.csv\",lines)"
   ]
  },
  {
   "cell_type": "markdown",
   "metadata": {},
   "source": [
    "#### check if all results have continous indexes "
   ]
  },
  {
   "cell_type": "code",
   "execution_count": 99,
   "metadata": {},
   "outputs": [],
   "source": [
    "from pre_process_func import OUTPUT_DIR\n"
   ]
  },
  {
   "cell_type": "code",
   "execution_count": 137,
   "metadata": {},
   "outputs": [],
   "source": [
    "all_files=Path(OUTPUT_DIR).iterdir()"
   ]
  },
  {
   "cell_type": "code",
   "execution_count": 138,
   "metadata": {},
   "outputs": [
    {
     "data": {
      "text/plain": [
       "<generator object Path.iterdir at 0x7fc07b4107c8>"
      ]
     },
     "execution_count": 138,
     "metadata": {},
     "output_type": "execute_result"
    }
   ],
   "source": []
  },
  {
   "cell_type": "code",
   "execution_count": 243,
   "metadata": {},
   "outputs": [],
   "source": [
    "def check_order(folder):\n",
    "    all_files=list(Path(folder).iterdir())\n",
    "#     print(list(all_files))\n",
    "    all_folders = [i for i in all_files if i.is_dir()]\n",
    "    all_non_folders = [i for i in all_files if not(i.is_dir())]\n",
    "#     print(all_non_folders)\n",
    "    i_raw=[]\n",
    "    i_embed=[]\n",
    "    total=0\n",
    "    for afile in sorted(all_non_folders):\n",
    "        index=afile.stem.split(\"_\")[-1]\n",
    "        if \"rawembeddings\" in index:\n",
    "            rawembed_index= int(index[-3:])\n",
    "            i_raw.append(rawembed_index)\n",
    "        elif \"embeddings\" in index:\n",
    "            embed_index= int(index[-3:])\n",
    "            i_embed.append(embed_index)\n",
    "        elif \".txt\" in str(afile) or \"preprocessed.npy\" in str(afile):\n",
    "            continue\n",
    "        else:\n",
    "            print(index)\n",
    "            print(afile)\n",
    "#     if len(i_raw)<49 and i_raw:\n",
    "#         print(i_raw,i_embed)\n",
    "    total+=len(i_raw)\n",
    "    if i_raw:\n",
    "        if len(i_raw)!=i_raw[-1]+1:\n",
    "            for i in range(len(i_raw)):\n",
    "                if i!=i_raw[i]:\n",
    "                    print(i)\n",
    "                    break\n",
    "            print(i_raw)\n",
    "            print(afile)\n",
    "    if i_embed:\n",
    "        if len(i_embed)!=i_embed[-1]+1:\n",
    "            for i in range(len(i_embed)):\n",
    "                if i!=i_embed[i]:\n",
    "                    print(i)\n",
    "                    break\n",
    "            print(i_embed)\n",
    "            print(afile)\n",
    "    \n",
    "    for folder in all_folders:\n",
    "        total+=check_order(folder)\n",
    "    return total"
   ]
  },
  {
   "cell_type": "code",
   "execution_count": 244,
   "metadata": {},
   "outputs": [
    {
     "name": "stdout",
     "output_type": "stream",
     "text": [
      "40\n",
      "[0, 1, 2, 3, 4, 5, 6, 7, 8, 9, 10, 11, 12, 13, 14, 15, 16, 17, 18, 19, 20, 21, 22, 23, 24, 25, 26, 27, 28, 29, 30, 31, 32, 33, 34, 35, 36, 37, 38, 39, 41, 42, 43, 44, 45, 46, 47, 48, 49]\n",
      "/scratch/enis/data/nna/NUI_DATA/17 Fish Creek 3/July 2016/FSHCK3_20160625_153654_vgg/FSHCK3_20160625_153654_rawembeddings049.npy\n",
      "40\n",
      "[0, 1, 2, 3, 4, 5, 6, 7, 8, 9, 10, 11, 12, 13, 14, 15, 16, 17, 18, 19, 20, 21, 22, 23, 24, 25, 26, 27, 28, 29, 30, 31, 32, 33, 34, 35, 36, 37, 38, 39, 41, 42, 43, 44, 45, 46, 47, 48, 49]\n",
      "/scratch/enis/data/nna/NUI_DATA/17 Fish Creek 3/July 2016/FSHCK3_20160625_153654_vgg/FSHCK3_20160625_153654_rawembeddings049.npy\n",
      "18907\n"
     ]
    }
   ],
   "source": [
    "print(check_order(OUTPUT_DIR))"
   ]
  },
  {
   "cell_type": "code",
   "execution_count": 246,
   "metadata": {},
   "outputs": [
    {
     "data": {
      "text/plain": [
       "False"
      ]
     },
     "execution_count": 246,
     "metadata": {},
     "output_type": "execute_result"
    }
   ],
   "source": [
    "apath=\"/scratch/enis/data/nna/NUI_DATA/17 Fish Creek 3/July 2016/FSHCK3_20160625_153654_vgg/FSHCK3_20160625_153654_rawembeddings047.npy\" \n",
    "# /scratch/enis/data/nna/NUI_DATA/04 Colville 4/June 2016/CLVL4_20160623_084159_preprocessed/output018_preprocessed.npy\n",
    "str(apath) in files_in_pre_queu"
   ]
  },
  {
   "cell_type": "code",
   "execution_count": 247,
   "metadata": {},
   "outputs": [
    {
     "data": {
      "text/plain": [
       "'/scratch/enis/data/nna/NUI_DATA/02 Colville 2/August 2016/CLVL2_20160827_085325_preprocessed/output000_preprocessed.npy'"
      ]
     },
     "execution_count": 247,
     "metadata": {},
     "output_type": "execute_result"
    }
   ],
   "source": [
    "files_in_pre_queu[0]"
   ]
  },
  {
   "cell_type": "code",
   "execution_count": 230,
   "metadata": {},
   "outputs": [
    {
     "data": {
      "text/plain": [
       "'/scratch/enis/data/nna/NUI_DATA/02 Colville 2/August 2016/CLVL2_20160827_085325_preprocessed/output000_preprocessed.npy'"
      ]
     },
     "execution_count": 230,
     "metadata": {},
     "output_type": "execute_result"
    }
   ],
   "source": [
    "files_in_pre_queu[0]"
   ]
  },
  {
   "cell_type": "code",
   "execution_count": 296,
   "metadata": {},
   "outputs": [
    {
     "name": "stdout",
     "output_type": "stream",
     "text": [
      "-rw-rw-r-- 1 enis enis 85M Oct  9 05:20 /scratch/enis/data/nna/NUI_DATA/17 Fish Creek 3/July 2016/FSHCK3_20160625_153654_preprocessed/output040_preprocessed.npy\r\n"
     ]
    }
   ],
   "source": [
    "!ls -alh \"/scratch/enis/data/nna/NUI_DATA/17 Fish Creek 3/July 2016/FSHCK3_20160625_153654_preprocessed/output040_preprocessed.npy\""
   ]
  },
  {
   "cell_type": "code",
   "execution_count": 294,
   "metadata": {},
   "outputs": [
    {
     "name": "stdout",
     "output_type": "stream",
     "text": [
      "-rw-rw-r-- 1 enis enis 85M Oct  9 05:20 /scratch/enis/data/nna/NUI_DATA/17 Fish Creek 3/July 2016/FSHCK3_20160625_153654_preprocessed/output040_preprocessed.npy\r\n"
     ]
    }
   ],
   "source": [
    "!ls -alh \"/scratch/enis/data/nna/NUI_DATA/17 Fish Creek 3/July 2016/FSHCK3_20160625_153654_preprocessed/output040_preprocessed.npy\""
   ]
  },
  {
   "cell_type": "code",
   "execution_count": 307,
   "metadata": {},
   "outputs": [
    {
     "name": "stdout",
     "output_type": "stream",
     "text": [
      "/scratch/enis/data/nna/NUI_DATA/17 Fish Creek 3/July 2016/FSHCK3_20160625_153654_vgg/FSHCK3_20160625_153654_embeddings000.npy\r\n"
     ]
    }
   ],
   "source": [
    "!ls \"/scratch/enis/data/nna/NUI_DATA/17 Fish Creek 3/July 2016/FSHCK3_20160625_153654_vgg/FSHCK3_20160625_153654_embeddings000.npy\""
   ]
  },
  {
   "cell_type": "code",
   "execution_count": 297,
   "metadata": {},
   "outputs": [],
   "source": [
    "a_path=\"/scratch/enis/data/nna/NUI_DATA/17 Fish Creek 3/July 2016/FSHCK3_20160625_153654_preprocessed/output040_preprocessed.npy\"\n"
   ]
  },
  {
   "cell_type": "code",
   "execution_count": 298,
   "metadata": {},
   "outputs": [
    {
     "data": {
      "text/plain": [
       "(False, False, False)"
      ]
     },
     "execution_count": 298,
     "metadata": {},
     "output_type": "execute_result"
    }
   ],
   "source": [
    "str(a_path) in files_in_pre_queu, str(a_path) in files_in_processing, str(a_path) in files_done, "
   ]
  },
  {
   "cell_type": "code",
   "execution_count": 275,
   "metadata": {},
   "outputs": [
    {
     "data": {
      "text/plain": [
       "['/scratch/enis/data/nna/NUI_DATA/17 Fish Creek 3/July 2016/FSHCK3_20160706_000310_preprocessed/output020_preprocessed.npy',\n",
       " '/scratch/enis/data/nna/NUI_DATA/20 Umiat/July 2016/UMIAT_20130713_180248_preprocessed/output037_preprocessed.npy',\n",
       " '/scratch/enis/data/nna/NUI_DATA/04 Colville 4/June 2016/CLVL4_20160623_084159_preprocessed/output018_preprocessed.npy']"
      ]
     },
     "execution_count": 275,
     "metadata": {},
     "output_type": "execute_result"
    }
   ],
   "source": [
    "files_done"
   ]
  },
  {
   "cell_type": "code",
   "execution_count": 278,
   "metadata": {},
   "outputs": [
    {
     "data": {
      "text/plain": [
       "18907"
      ]
     },
     "execution_count": 278,
     "metadata": {},
     "output_type": "execute_result"
    }
   ],
   "source": [
    "len(set(files_in_pre_queu))"
   ]
  },
  {
   "cell_type": "code",
   "execution_count": 280,
   "metadata": {},
   "outputs": [
    {
     "data": {
      "text/plain": [
       "set()"
      ]
     },
     "execution_count": 280,
     "metadata": {},
     "output_type": "execute_result"
    }
   ],
   "source": [
    "set(files_in_pre_queu).difference(files_in_processing,files_done)"
   ]
  },
  {
   "cell_type": "code",
   "execution_count": 288,
   "metadata": {},
   "outputs": [],
   "source": [
    "for i in files_in_pre_queu:\n",
    "    if \"FSHCK3_20160625_153654_preprocessed/output040\" in i:\n",
    "        print(i)"
   ]
  },
  {
   "cell_type": "code",
   "execution_count": 293,
   "metadata": {},
   "outputs": [
    {
     "data": {
      "text/plain": [
       "'/scratch/enis/data/nna/NUI_DATA/02 Colville 2/August 2016/CLVL2_20160827_085325_preprocessed/output000_preprocessed.npy'"
      ]
     },
     "execution_count": 293,
     "metadata": {},
     "output_type": "execute_result"
    }
   ],
   "source": [
    "files_in_pre_queu"
   ]
  },
  {
   "cell_type": "code",
   "execution_count": null,
   "metadata": {},
   "outputs": [],
   "source": [
    "/scratch/enis/data/nna/NUI_DATA/02 Colville 2/August 2016/CLVL2_20160827_085325_preprocessed/output000_preprocessed.npy"
   ]
  }
 ],
 "metadata": {
  "kernelspec": {
   "display_name": "speechEnv",
   "language": "python",
   "name": "speechenv"
  },
  "language_info": {
   "codemirror_mode": {
    "name": "ipython",
    "version": 3
   },
   "file_extension": ".py",
   "mimetype": "text/x-python",
   "name": "python",
   "nbconvert_exporter": "python",
   "pygments_lexer": "ipython3",
   "version": "3.7.2"
  }
 },
 "nbformat": 4,
 "nbformat_minor": 2
}
