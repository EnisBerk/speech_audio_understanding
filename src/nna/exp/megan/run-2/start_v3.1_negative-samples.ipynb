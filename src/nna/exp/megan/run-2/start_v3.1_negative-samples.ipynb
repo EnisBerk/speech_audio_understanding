{
 "cells": [
  {
   "cell_type": "code",
   "execution_count": 1,
   "metadata": {},
   "outputs": [],
   "source": [
    "import os\n",
    "\n",
    "os.chdir('/home/enis/projects/nna/src/nna/exp/megan/run-2/')\n"
   ]
  },
  {
   "cell_type": "code",
   "execution_count": 2,
   "metadata": {},
   "outputs": [
    {
     "name": "stderr",
     "output_type": "stream",
     "text": [
      "/scratch/enis/conda/envs/soundenv3/lib/python3.7/site-packages/torchaudio/backend/utils.py:54: UserWarning: \"sox\" backend is being deprecated. The default backend will be changed to \"sox_io\" backend in 0.8.0 and \"sox\" backend will be removed in 0.9.0. Please migrate to \"sox_io\" backend. Please refer to https://github.com/pytorch/audio/issues/903 for the detail.\n",
      "  '\"sox\" backend is being deprecated. '\n"
     ]
    }
   ],
   "source": [
    "# import run\n",
    "# import nna\n",
    "import torch\n",
    "import torch.nn as nn\n",
    "import torch.nn.functional as F\n",
    "from torchvision import transforms\n",
    "import torchaudio\n",
    "torchaudio.set_audio_backend(\"sox_io\")\n",
    "\n",
    "import numpy as np\n",
    "\n",
    "from pathlib import Path\n",
    "from collections import Counter\n"
   ]
  },
  {
   "cell_type": "code",
   "execution_count": 3,
   "metadata": {},
   "outputs": [],
   "source": [
    "torch.manual_seed(42)\n",
    "\n",
    "np.random.seed(42)\n",
    "\n",
    "torch.backends.cudnn.benchmark = False"
   ]
  },
  {
   "cell_type": "code",
   "execution_count": 4,
   "metadata": {},
   "outputs": [],
   "source": [
    "loc_per_set = [['45',\n",
    "  '38',\n",
    "  '48',\n",
    "  '39',\n",
    "  '11',\n",
    "  '44',\n",
    "  '46',\n",
    "  '17',\n",
    "  '20',\n",
    "  '50',\n",
    "  '13',\n",
    "  '25',\n",
    "  '21',\n",
    "  '29',\n",
    "  '19',\n",
    "  '16',\n",
    "  '24',\n",
    "  '37'],\n",
    " ['18', '31', '34', '27', '32', '33', '47', '41', '22', '15'],\n",
    " ['30', '12', '14', '36', '40', '49']]\n"
   ]
  },
  {
   "cell_type": "code",
   "execution_count": 5,
   "metadata": {},
   "outputs": [],
   "source": [
    "import runconfigs\n",
    "import wandb\n",
    "from ignite.metrics import Accuracy, Loss\n",
    "from ignite.contrib.metrics import ROC_AUC"
   ]
  },
  {
   "cell_type": "code",
   "execution_count": 6,
   "metadata": {},
   "outputs": [],
   "source": [
    "# from nna.exp import augmentations,\n",
    "from nna.exp import modelArchs,runutils"
   ]
  },
  {
   "cell_type": "code",
   "execution_count": 7,
   "metadata": {},
   "outputs": [],
   "source": [
    "# wandb.init(config=runconfigs.default_config, project=runconfigs.PROJECT_NAME)\n",
    "# config = wandb.config\n",
    "config = runconfigs.default_config\n",
    "# wandb.config.update(args) # adds all of the arguments as config variables\n",
    "\n",
    "params = {\n",
    "    'batch_size': config['batch_size'],\n",
    "    'shuffle': True,\n",
    "    'num_workers': 0\n",
    "}\n"
   ]
  },
  {
   "cell_type": "code",
   "execution_count": 8,
   "metadata": {},
   "outputs": [],
   "source": [
    "device = torch.device(\n",
    "    f\"cuda:{config['device']}\" if torch.cuda.is_available() else \"cpu\")\n"
   ]
  },
  {
   "cell_type": "code",
   "execution_count": 9,
   "metadata": {},
   "outputs": [],
   "source": [
    "\n",
    "# labelsbyhumanpath = Path('/scratch/enis/data/nna/labeling/results/')\n",
    "# sourcePath = Path(\"/scratch/enis/data/nna/labeling/splits/\")\n"
   ]
  },
  {
   "cell_type": "code",
   "execution_count": 10,
   "metadata": {},
   "outputs": [],
   "source": [
    "CATEGORY_COUNT = 2\n"
   ]
  },
  {
   "cell_type": "code",
   "execution_count": null,
   "metadata": {},
   "outputs": [],
   "source": []
  },
  {
   "cell_type": "code",
   "execution_count": null,
   "metadata": {},
   "outputs": [],
   "source": []
  },
  {
   "cell_type": "code",
   "execution_count": 11,
   "metadata": {},
   "outputs": [
    {
     "name": "stdout",
     "output_type": "stream",
     "text": [
      "job_logs     runconfigs.py  start_random_v3_2.ipynb  wandb\n",
      "__pycache__  run.py\t    start_random_v3.ipynb\n"
     ]
    }
   ],
   "source": [
    "!ls"
   ]
  },
  {
   "cell_type": "code",
   "execution_count": 12,
   "metadata": {},
   "outputs": [],
   "source": [
    " # RAW DATA\n",
    "def load_raw_data(sample_count,CATEGORY_COUNT):\n",
    "    sample_count = 1200\n",
    "    X = np.empty((sample_count,480000),dtype=np.float32)\n",
    "    y_true = np.random.randint(0,CATEGORY_COUNT,(sample_count))\n",
    "    for i,y in enumerate(y_true):\n",
    "        X[i,:] = y\n",
    "    X = np.interp(X, (X.min(), X.max()), (-32768 , 32767))\n",
    "    n_values = np.max(y_true) + 1\n",
    "    y_true = np.eye(n_values)[y_true]\n",
    "    X_train, X_test, y_train, y_test = train_test_split(\n",
    "                    X, y_true, test_size=0.2, random_state=42)\n",
    "    X_train, X_val, y_train, y_val = train_test_split(\n",
    "                    X_train, y_train, test_size=0.25,random_state=42)\n",
    "    return X_train,X_test,X_val,y_train,y_test,y_val\n",
    "\n",
    "def mock_raw_data(sample_count,CATEGORY_COUNT):\n",
    "#     sample_count = 30\n",
    "    X = np.empty((sample_count*CATEGORY_COUNT,480000),dtype=np.float32)\n",
    "    # y_true = np.random.randint(0,CATEGORY_COUNT,(sample_count))\n",
    "    y_true=[]\n",
    "    for i in range(CATEGORY_COUNT):\n",
    "        y_true.extend([i]*sample_count)\n",
    "    print(len(y_true))\n",
    "    for i,y in enumerate(y_true):\n",
    "        X[i,:] = y\n",
    "    X = np.interp(X, (X.min(), X.max()), (0 , 3400))\n",
    "#     X = np.interp(X, (X.min(), X.max()), (-32768 , 32767))\n",
    "    n_values = np.max(y_true) + 1\n",
    "    y_true = np.eye(n_values)[y_true]\n",
    "    X_train, X_test, y_train, y_test = train_test_split(\n",
    "                    X, y_true, test_size=0.2, random_state=42)\n",
    "    X_train, X_val, y_train, y_val = train_test_split(\n",
    "                    X_train, y_train, test_size=0.25,random_state=42)\n",
    "#     print(y_train)\n",
    "    return X_train,X_test,X_val,y_train,y_test,y_val\n",
    "    \n"
   ]
  },
  {
   "cell_type": "code",
   "execution_count": 13,
   "metadata": {},
   "outputs": [
    {
     "name": "stdout",
     "output_type": "stream",
     "text": [
      "/scratch/enis/data/nna/labeling/megan/AudioSamplesPerSite/meganLabeledFiles_wlenV1.txt\n",
      "/scratch/enis/data/nna/labeling/megan/AudioSamplesPerSite\n",
      "4 files are missing corresponding to excell entries\n",
      "'-> 5 number of samples are DELETED due to ignore_files and missing_audio_files'\n",
      "-> 415 samples DELETED because they are not in the excell\n",
      "\n",
      "-> 0 samples DELETED because they do not have the taxo info coming from excell\n",
      "\n",
      "-> classes that do not have enough data:\n",
      "[REMOVED!]\n",
      "['other-mammal'] 0.0\n",
      "['other-silence'] 20.0\n",
      "['unknown-sound'] 2.0\n",
      "['seabirds'] 1.0\n",
      "['canids'] 1.0\n",
      "['other-flare'] 11.0\n",
      "['other-rain'] 20.0\n",
      "\n",
      "-> classes that have enough data:\n",
      "['other-biophony'] 56.0\n",
      "['other-insect'] 140.0\n",
      "['other-bird'] 661.0\n",
      "['songbirds'] 392.0\n",
      "['duck-goose-swan'] 183.0\n",
      "['grouse-ptarmigan'] 59.0\n",
      "['other-anthrophony'] 66.0\n",
      "['other-aircraft'] 107.0\n",
      "['loons'] 29.0\n",
      "['other-car'] 37.0\n",
      "('-> 102 number of samples are deleted because their taxonomy category does '\n",
      " 'not have enough data.')\n",
      "-> classes that do not have enough data\n",
      "will be REMOVED!\n",
      "-> 97 number of samples are deleted because their length is not long enough.\n",
      "loading from cache at /scratch/enis/data/nna/labeling/megan/AudioSamplesPerSite/files_as_np_filtered_v3_int16.pkl\n"
     ]
    }
   ],
   "source": [
    "## Load real data rather than mock \n",
    "    # MVP1: delete parts longer than 10 seconds\n",
    "import run\n",
    "audio_dataset,_ = run.prepare_dataset()\n",
    "\n",
    "output_file_path = '/scratch/enis/data/nna/labeling/megan/AudioSamplesPerSite/files_as_np_filtered_v3_int16.pkl'\n",
    "audio_dataset.load_audio_files(output_file_path)\n",
    "audio_dataset.pick_channel_by_clipping()\n"
   ]
  },
  {
   "cell_type": "code",
   "execution_count": null,
   "metadata": {},
   "outputs": [],
   "source": []
  },
  {
   "cell_type": "code",
   "execution_count": 14,
   "metadata": {},
   "outputs": [],
   "source": [
    "sound_ins=next(iter(audio_dataset.items()))"
   ]
  },
  {
   "cell_type": "code",
   "execution_count": 17,
   "metadata": {},
   "outputs": [
    {
     "data": {
      "text/plain": [
       "'11'"
      ]
     },
     "execution_count": 17,
     "metadata": {},
     "output_type": "execute_result"
    }
   ],
   "source": [
    "sound_ins[1].location_id"
   ]
  },
  {
   "cell_type": "code",
   "execution_count": 15,
   "metadata": {},
   "outputs": [
    {
     "data": {
      "text/plain": [
       "'1.0.0'"
      ]
     },
     "execution_count": 15,
     "metadata": {},
     "output_type": "execute_result"
    }
   ],
   "source": [
    "sound_ins[1].taxo_code"
   ]
  },
  {
   "cell_type": "code",
   "execution_count": 21,
   "metadata": {},
   "outputs": [
    {
     "data": {
      "text/plain": [
       "(832, 832)"
      ]
     },
     "execution_count": 21,
     "metadata": {},
     "output_type": "execute_result"
    }
   ],
   "source": [
    "# sound_ins[1].taxo_code\n",
    "# classA = 1.1.7 #'duck-goose-swan']\n",
    "# classB = 0.2.0 # other-aircraft\n",
    "# 3.0.0 : 0.48, 0.26, 0.26, 46 # silence\n",
    "# 2.1.0 : 0.22, 0.56, 0.22, 18 # rain\n",
    "# 1.3.0 1.3.0 : 0.52, 0.4, 0.087, 161 # insect\n",
    "# 1.1.8 : 0.49, 0.19, 0.32, 88 # grouse-ptarmigan\n",
    "\n",
    "other_taxo = ['3.0.0','2.1.0','1.3.0','1.1.8']\n",
    "\n",
    "sampleTest= []\n",
    "y=[]\n",
    "location_id_info = []\n",
    "expected_len=10\n",
    "for sound_ins in audio_dataset.values():\n",
    "    if sound_ins.taxo_code in ['1.1.10','1.1.7'] + other_taxo:\n",
    "        y.append(sound_ins.taxo_code)\n",
    "        location_id_info.append(sound_ins.location_id)\n",
    "        if sound_ins.length<10:\n",
    "            tile_reps = (expected_len/(sound_ins.length)+1)\n",
    "            repeated_data = np.tile(sound_ins.data,int(tile_reps))\n",
    "            repeated_data = repeated_data[:expected_len*sound_ins.sr]\n",
    "            sampleTest.append(repeated_data)\n",
    "        else:\n",
    "            sampleTest.append(sound_ins.data[:expected_len*sound_ins.sr])\n",
    "\n",
    "len(sampleTest),len(y)\n",
    "\n",
    "# sampleTest=np.array(sampleTest)"
   ]
  },
  {
   "cell_type": "code",
   "execution_count": 25,
   "metadata": {},
   "outputs": [
    {
     "data": {
      "text/plain": [
       "(902, 0.5314091680814941)"
      ]
     },
     "execution_count": 25,
     "metadata": {},
     "output_type": "execute_result"
    }
   ],
   "source": [
    "313+589,(46+18+161+88)/589 \n"
   ]
  },
  {
   "cell_type": "code",
   "execution_count": null,
   "metadata": {},
   "outputs": [],
   "source": []
  },
  {
   "cell_type": "code",
   "execution_count": 35,
   "metadata": {},
   "outputs": [],
   "source": [
    "from numpy import argmax\n",
    "# define input string\n",
    "# define universe of possible input values\n",
    "alphabet = ['1.1.10','1.1.7']\n",
    "# define a mapping of chars to integers\n",
    "char_to_int = dict((c, i) for i, c in enumerate(alphabet))\n",
    "int_to_char = dict((i, c) for i, c in enumerate(alphabet))\n",
    "# integer encode input data\n",
    "integer_encoded = [char_to_int.get(char,None) for char in y]\n",
    "# print(integer_encoded)\n",
    "# one hot encode\n",
    "onehot_encoded = list()\n",
    "for value in integer_encoded:\n",
    "\tletter = [0 for _ in range(len(alphabet))]\n",
    "\tif value is not None:\n",
    "\t\tletter[value] = 1\n",
    "\tonehot_encoded.append(letter)\n",
    "# print(onehot_encoded)\n",
    "# invert encoding\n",
    "inverted = int_to_char[argmax(onehot_encoded[0])]\n",
    "# print(inverted)\n",
    "onehot_encoded=np.array(onehot_encoded)"
   ]
  },
  {
   "cell_type": "code",
   "execution_count": null,
   "metadata": {},
   "outputs": [],
   "source": []
  },
  {
   "cell_type": "code",
   "execution_count": 44,
   "metadata": {},
   "outputs": [],
   "source": [
    "X_train,X_test, X_val, y_train, y_test,y_val  = [],[],[],[],[],[]\n",
    "loc_id_train=[]\n",
    "loc_id_test=[]\n",
    "loc_id_valid=[]\n",
    "\n",
    "for sample,y_val_ins,loc_id in  zip(sampleTest,onehot_encoded,location_id_info):\n",
    "    if loc_id in loc_per_set[0]:\n",
    "        X_train.append(sample)\n",
    "        y_train.append(y_val_ins)\n",
    "        loc_id_train.append(loc_id)\n",
    "    elif loc_id in loc_per_set[1]:\n",
    "        X_test.append(sample)\n",
    "        y_test.append(y_val_ins)\n",
    "        loc_id_test.append(loc_id)\n",
    "    elif loc_id in loc_per_set[2]:\n",
    "        X_val.append(sample)\n",
    "        y_val.append(y_val_ins)\n",
    "        loc_id_valid.append(loc_id)\n",
    "    else:\n",
    "        print('error')\n"
   ]
  },
  {
   "cell_type": "code",
   "execution_count": 45,
   "metadata": {},
   "outputs": [
    {
     "data": {
      "text/plain": [
       "({'11',\n",
       "  '16',\n",
       "  '17',\n",
       "  '19',\n",
       "  '20',\n",
       "  '21',\n",
       "  '24',\n",
       "  '25',\n",
       "  '29',\n",
       "  '37',\n",
       "  '38',\n",
       "  '39',\n",
       "  '44',\n",
       "  '46',\n",
       "  '48',\n",
       "  '50'},\n",
       " {'15', '18', '22', '27', '31', '32', '33', '41', '47'},\n",
       " {'14', '30', '40', '49'})"
      ]
     },
     "execution_count": 45,
     "metadata": {},
     "output_type": "execute_result"
    }
   ],
   "source": [
    "set(loc_id_train),set(loc_id_test),set(loc_id_valid)"
   ]
  },
  {
   "cell_type": "code",
   "execution_count": 46,
   "metadata": {},
   "outputs": [
    {
     "data": {
      "text/plain": [
       "832"
      ]
     },
     "execution_count": 46,
     "metadata": {},
     "output_type": "execute_result"
    }
   ],
   "source": [
    "len(sampleTest)"
   ]
  },
  {
   "cell_type": "code",
   "execution_count": 47,
   "metadata": {},
   "outputs": [],
   "source": [
    "X_train,X_test,X_val=np.array(X_train),np.array(X_test),np.array(X_val)\n",
    "y_train,y_test,y_val=np.array(y_train),np.array(y_test),np.array(y_val)\n"
   ]
  },
  {
   "cell_type": "code",
   "execution_count": 48,
   "metadata": {},
   "outputs": [],
   "source": [
    "# X_train, X_test, y_train, y_test = train_test_split(\n",
    "#                 sampleTest, onehot_encoded, test_size=0.2, random_state=42)\n",
    "# X_train, X_val, y_train, y_val = train_test_split(\n",
    "#                 X_train, y_train, test_size=0.25,random_state=42)"
   ]
  },
  {
   "cell_type": "code",
   "execution_count": 49,
   "metadata": {},
   "outputs": [],
   "source": [
    "X_train,X_test,X_val=torch.from_numpy(X_train).float(),torch.from_numpy(X_test).float(),torch.from_numpy(X_val).float()\n",
    "y_train,y_test,y_val=torch.from_numpy(y_train).float(),torch.from_numpy(y_test).float(),torch.from_numpy(y_val).float()\n"
   ]
  },
  {
   "cell_type": "code",
   "execution_count": 50,
   "metadata": {},
   "outputs": [
    {
     "data": {
      "text/plain": [
       "(torch.Size([459, 480000]),\n",
       " torch.Size([216, 480000]),\n",
       " torch.Size([157, 480000]))"
      ]
     },
     "execution_count": 50,
     "metadata": {},
     "output_type": "execute_result"
    }
   ],
   "source": [
    "X_train.shape,X_test.shape,X_val.shape"
   ]
  },
  {
   "cell_type": "code",
   "execution_count": 51,
   "metadata": {},
   "outputs": [
    {
     "data": {
      "text/plain": [
       "(torch.Size([459, 2]), torch.Size([216, 2]), torch.Size([157, 2]))"
      ]
     },
     "execution_count": 51,
     "metadata": {},
     "output_type": "execute_result"
    }
   ],
   "source": [
    "y_train.shape,y_test.shape,y_val.shape"
   ]
  },
  {
   "cell_type": "code",
   "execution_count": 52,
   "metadata": {},
   "outputs": [],
   "source": [
    "# y_val[0:3]"
   ]
  },
  {
   "cell_type": "code",
   "execution_count": 53,
   "metadata": {},
   "outputs": [],
   "source": [
    "# # X_train,X_test,X_val,y_train,y_test,y_val = load_raw_data('labelsbyhumanpath','sourcePath')\n",
    "# X_train,X_test,X_val,y_train,y_test,y_val = mock_raw_data(4,CATEGORY_COUNT)\n",
    "# X_train,X_test,X_val=torch.from_numpy(X_train).float(),torch.from_numpy(X_test).float(),torch.from_numpy(X_val).float()\n",
    "# y_train,y_test,y_val=torch.from_numpy(y_train).float(),torch.from_numpy(y_test).float(),torch.from_numpy(y_val).float()\n",
    "\n",
    "# # labelsbyhumanpath = Path('/scratch/enis/data/nna/labeling/results/')\n",
    "# # with open(labelsbyhumanpath/\"np_array_Ymatrix.npy\", 'rb') as f:\n",
    "# #     y_true = np.load(f)\n",
    "\n",
    "# Counter(np.argmax(y_train,axis=1).tolist()),Counter(np.argmax(y_val,axis=1).tolist()),Counter(np.argmax(y_test,axis=1).tolist())\n"
   ]
  },
  {
   "cell_type": "code",
   "execution_count": 54,
   "metadata": {},
   "outputs": [],
   "source": [
    "\n",
    "# X_train2=np.interp(X_train, (X_train.min(), X_train.max()), (-32768 , 32767))\n",
    "# torch.from_numpy(X_train2).float()\n"
   ]
  },
  {
   "cell_type": "code",
   "execution_count": 55,
   "metadata": {},
   "outputs": [],
   "source": [
    "# y_val"
   ]
  },
  {
   "cell_type": "code",
   "execution_count": 56,
   "metadata": {},
   "outputs": [],
   "source": [
    "# smaple_index=10\n",
    "# X_train[smaple_index,:],y_train[smaple_index,]\n"
   ]
  },
  {
   "cell_type": "code",
   "execution_count": null,
   "metadata": {},
   "outputs": [],
   "source": []
  },
  {
   "cell_type": "code",
   "execution_count": 57,
   "metadata": {},
   "outputs": [],
   "source": [
    "# X_train[0,:].shape"
   ]
  },
  {
   "cell_type": "code",
   "execution_count": 58,
   "metadata": {},
   "outputs": [],
   "source": [
    "# multiply(torch.ones((1,2)),torch.ones((1,2)))"
   ]
  },
  {
   "cell_type": "code",
   "execution_count": 59,
   "metadata": {},
   "outputs": [],
   "source": [
    "class ToTensor(object):\n",
    "    \"\"\"Convert ndarrays in sample to Tensors.\"\"\"\n",
    "\n",
    "    def __init__(self, maxMelLen, sampling_rate):\n",
    "        # sr = 44100 etc\n",
    "        self.maxMelLen = maxMelLen\n",
    "        self.sampling_rate = sampling_rate\n",
    "\n",
    "    def __call__(self, sample):\n",
    "        x, y = sample\n",
    "        #https://github.com/PCerles/audio/blob/3803d0b27a4e13efa760227ef6c71d0f3753aa98/test/test_transforms.py#L262\n",
    "        #librosa defaults\n",
    "        n_fft = 2048\n",
    "        hop_length = 512\n",
    "        power = 2.0\n",
    "        n_mels = 128\n",
    "        n_mfcc = 40\n",
    "        # htk is false in librosa, no setting in torchaudio -?\n",
    "        # norm is 1 in librosa, no setting in torchaudio -?\n",
    "        melspect_transform = torchaudio.transforms.MelSpectrogram(sample_rate=self.sampling_rate, window_fn=torch.hann_window,\n",
    "                                                                  hop_length=hop_length, n_mels=n_mels, n_fft=n_fft)\n",
    "\n",
    "    \n",
    "        db_transform = torchaudio.transforms.AmplitudeToDB(\"power\", 80.)\n",
    "        mel = melspect_transform(x.reshape(-1))\n",
    "        an_x = db_transform(mel)\n",
    "        #librosa version\n",
    "#         mel = librosa.feature.melspectrogram(y=x.reshape(-1),\n",
    "#                                              sr=self.sampling_rate)\n",
    "#         an_x = librosa.power_to_db(mel, ref=np.max)\n",
    "#         an_x = an_x.astype(\"float32\")\n",
    "#         y = y.astype('float32')\n",
    "#         print(an_x.shape)\n",
    "        an_x = an_x[:, :self.maxMelLen]\n",
    "        # 2-d conv\n",
    "#         x = an_x.reshape(1, *an_x.shape[:])\n",
    "        # 1-d conv\n",
    "        x = an_x.reshape(1, an_x.shape[0]*an_x.shape[1])\n",
    "\n",
    "        \n",
    "        return x,y\n",
    "\n",
    "# #test\n",
    "# maxMelLen_test = 850\n",
    "# SAMPLING_RATE_test = 48000\n",
    "# sample_len_seconds = 10\n",
    "# # to_tensor works on single sample\n",
    "# sample_count = 1\n",
    "# xx_test = torch.ones((sample_count,SAMPLING_RATE_test*sample_len_seconds))\n",
    "# y_values = torch.ones(sample_count)\n",
    "# \n",
    "# toTensor = ToTensor(maxMelLen_test,SAMPLING_RATE_test)\n",
    "# x_out,y_out=toTensor((xx_test,y_values))\n",
    "# x_out.shape,y_out.shape"
   ]
  },
  {
   "cell_type": "code",
   "execution_count": 60,
   "metadata": {},
   "outputs": [
    {
     "data": {
      "text/plain": [
       "torch.Size([459, 480000])"
      ]
     },
     "execution_count": 60,
     "metadata": {},
     "output_type": "execute_result"
    }
   ],
   "source": [
    "# X_train,X_test,X_val,y_train,y_test,y_val\n",
    "X_train[:].shape"
   ]
  },
  {
   "cell_type": "code",
   "execution_count": 61,
   "metadata": {},
   "outputs": [],
   "source": [
    "# toTensor = ToTensor(maxMelLen_test,SAMPLING_RATE_test)\n",
    "# x_out2,y_out=toTensor((X_train[1:2,:],y_train))\n",
    "# x_out.shape,y_out.shape"
   ]
  },
  {
   "cell_type": "code",
   "execution_count": 62,
   "metadata": {},
   "outputs": [],
   "source": [
    "# torch.mean(x_out[0]),torch.mean(x_out2[0])\n",
    "# y_train"
   ]
  },
  {
   "cell_type": "code",
   "execution_count": 63,
   "metadata": {},
   "outputs": [],
   "source": [
    "# X_train,y_train"
   ]
  },
  {
   "cell_type": "code",
   "execution_count": 64,
   "metadata": {},
   "outputs": [],
   "source": [
    "\n",
    "# pitch = augmentations.pitch_shift_n_stepsClass(\n",
    "#     runconfigs.SAMPLING_RATE, config['pitch_shift_n_steps'])\n",
    "# noise = augmentations.addNoiseClass(config['noise_factor'])\n",
    "# strech = augmentations.time_stretchClass(runconfigs.SAMPLING_RATE*runconfigs.EXCERPT_LENGTH,\n",
    "#                                             config['time_stretch_factor'],\n",
    "#                                             isRandom=True)\n",
    "# shift = augmentations.shiftClass(config['roll_rate'], isRandom=True)\n",
    "maxMelLen = 938 # old 850\n",
    "# toTensor = augmentations.ToTensor(maxMelLen,runconfigs.SAMPLING_RATE)\n",
    "toTensor = ToTensor(maxMelLen,runconfigs.SAMPLING_RATE)"
   ]
  },
  {
   "cell_type": "code",
   "execution_count": null,
   "metadata": {},
   "outputs": [],
   "source": []
  },
  {
   "cell_type": "code",
   "execution_count": null,
   "metadata": {},
   "outputs": [],
   "source": []
  },
  {
   "cell_type": "code",
   "execution_count": 65,
   "metadata": {},
   "outputs": [],
   "source": [
    "from ignite.metrics import EpochMetric\n",
    "\n",
    "\n",
    "def roc_auc_perClass_compute_fn(y_preds, y_targets):\n",
    "    try:\n",
    "        from sklearn.metrics import roc_auc_score\n",
    "    except ImportError:\n",
    "        raise RuntimeError(\n",
    "            \"This contrib module requires sklearn to be installed.\")\n",
    "\n",
    "    y_true = y_targets.numpy()\n",
    "    y_pred = y_preds.numpy()\n",
    "#     print(y_pred,y_true)\n",
    "#     res = []\n",
    "#     for y_true_perClass_Index in y_true.shape[1]:\n",
    "#         res.append(\n",
    "#             roc_auc_score(y_true[:, y_true_perClass_Index],\n",
    "#                           y_pred[:, y_true_perClass_Index]))\n",
    "    res = roc_auc_score(y_true, y_pred, average=None)\n",
    "    return res\n",
    "\n",
    "\n",
    "#[docs]\n",
    "class ROC_AUC_perClass(EpochMetric):\n",
    "    \"\"\"Computes Area Under the Receiver Operating Characteristic Curve (ROC AUC)\n",
    "  accumulating predictions and the ground-truth during an epoch and applying\n",
    "  `sklearn.metrics.roc_auc_score <http://scikit-learn.org/stable/modules/generated/\n",
    "  sklearn.metrics.roc_auc_score.html#sklearn.metrics.roc_auc_score>`_ .\n",
    "\n",
    "  Args:\n",
    "      output_transform (callable, optional): a callable that is used to transform the\n",
    "          :class:`~ignite.engine.engine.Engine`'s ``process_function``'s output into the\n",
    "          form expected by the metric. This can be useful if, for example, you have a multi-output model and\n",
    "          you want to compute the metric with respect to one of the outputs.\n",
    "      check_compute_fn (bool): Optional default False. If True, `roc_curve\n",
    "          <http://scikit-learn.org/stable/modules/generated/sklearn.metrics.roc_auc_score.html#\n",
    "          sklearn.metrics.roc_auc_score>`_ is run on the first batch of data to ensure there are\n",
    "          no issues. User will be warned in case there are any issues computing the function.\n",
    "\n",
    "  ROC_AUC expects y to be comprised of 0's and 1's. y_pred must either be probability estimates or confidence\n",
    "  values. To apply an activation to y_pred, use output_transform as shown below:\n",
    "\n",
    "  .. code-block:: python\n",
    "\n",
    "      def activated_output_transform(output):\n",
    "          y_pred, y = output\n",
    "          y_pred = torch.sigmoid(y_pred)\n",
    "          return y_pred, y\n",
    "\n",
    "      roc_auc = ROC_AUC(activated_output_transform)\n",
    "\n",
    "  \"\"\"\n",
    "    def __init__(self,\n",
    "                 output_transform=lambda x: x,\n",
    "                 check_compute_fn: bool = False):\n",
    "#         print(output_transform)\n",
    "        super(ROC_AUC_perClass,\n",
    "              self).__init__(roc_auc_perClass_compute_fn,\n",
    "                             output_transform=output_transform,\n",
    "                             check_compute_fn=check_compute_fn)\n"
   ]
  },
  {
   "cell_type": "code",
   "execution_count": 66,
   "metadata": {},
   "outputs": [],
   "source": [
    "\n",
    "def conv_output_shape(h_w, kernel_size=1, stride=1, pad=0, dilation=1):\n",
    "    \"\"\"\n",
    "  Utility function for computing output of convolutions\n",
    "  takes a tuple of (h,w) and returns a tuple of (h,w)\n",
    "  \"\"\"\n",
    "    from math import floor\n",
    "    if type(kernel_size) is not tuple:\n",
    "        kernel_size = (kernel_size, kernel_size)\n",
    "    h = floor(((h_w[0] + (2 * pad) - (dilation *\n",
    "                                      (kernel_size[0] - 1)) - 1) / stride) + 1)\n",
    "    w = floor(((h_w[1] + (2 * pad) - (dilation *\n",
    "                                      (kernel_size[1] - 1)) - 1) / stride) + 1)\n",
    "    return h, w\n",
    "\n",
    "# mel.shape,an_x.shape,X_train.shape\n",
    "class testModel(nn.Module):\n",
    "    '''A simple model for testing by overfitting.\n",
    "    '''\n",
    "    def __init__(self, out_channels, h_w, kernel_size, FLAT=False,output_shape=(10,)):\n",
    "        # h_w: height will be always one since we use 1d convolution \n",
    "        super(testModel, self).__init__()\n",
    "        self.out_channels = out_channels\n",
    "        #### CONV\n",
    "        self.conv1 = nn.Conv1d(in_channels=1, # depth of image == depth of filters\n",
    "                               out_channels=self.out_channels, # number of filters \n",
    "                               kernel_size=kernel_size, # size of the filters/kernels\n",
    "                               padding=1)\n",
    "\n",
    "        self.conv1_shape = conv_output_shape(h_w, kernel_size=kernel_size, stride=1, pad=1, dilation=1)\n",
    "        # conv is 1d\n",
    "        self.conv1_shape = (1,self.conv1_shape[1])\n",
    "        \n",
    "        self.fc1 = nn.Linear(self.out_channels * self.conv1_shape[0] *self.conv1_shape[1], 64)  # 100\n",
    "\n",
    "        self.fc2 = nn.Linear(64,output_shape[0])\n",
    "        \n",
    "    def forward(self, x):\n",
    "#         x = x.reshape(1,)\n",
    "#         print(x.shape) #  50,1,108800 (850*128)\n",
    "        x = F.relu(self.conv1(x))\n",
    "#         x = self.pool(x)\n",
    "        # x = self.drop(x)\n",
    "#         print(x.shape)# 58, 2, 108801\n",
    "#         print(self.conv1_shape)\n",
    "#         print(x.shape)\n",
    "        x = x.view(-1, self.out_channels * self.conv1_shape[0] *self.conv1_shape[1])\n",
    "        # batch_norm is missing\n",
    "        x = F.relu((self.fc1(x)))\n",
    "        x = (self.fc2(x))\n",
    "\n",
    "#         x = self.drop(x)\n",
    "\n",
    "#         x = self.fc4(x)\n",
    "#         x = torch.sigmoid(x)\n",
    "#                 x = F.log_softmax(x,dim=1)\n",
    "        return x\n",
    "\n",
    "# test\n",
    "# input_shape=(1,(938*128))\n",
    "# output_shape=(10,)\n",
    "# testModel_ins=adam(out_channels=2,h_w=input_shape,kernel_size=2,output_shape=output_shape)\n",
    "# # a.conv1.weight\n",
    "# a_out=testModel_ins(torch.ones((3,1,input_shape[1])))\n",
    "\n",
    "# a_out_correct=torch.zeros(a_out.shape)\n",
    "# a_out_correct[0][:]=1\n",
    "# a_out_correct\n",
    "# a_out.detach().numpy()\n",
    "\n",
    "# torch.exp(a_out),a_out"
   ]
  },
  {
   "cell_type": "code",
   "execution_count": null,
   "metadata": {},
   "outputs": [],
   "source": []
  },
  {
   "cell_type": "code",
   "execution_count": null,
   "metadata": {},
   "outputs": [],
   "source": []
  },
  {
   "cell_type": "code",
   "execution_count": 67,
   "metadata": {},
   "outputs": [],
   "source": [
    "\n",
    "# for y_true_perClass_Index in a_out_correct.shape[1]:\n",
    "#     print(y_true_perClass_Index)"
   ]
  },
  {
   "cell_type": "code",
   "execution_count": 68,
   "metadata": {},
   "outputs": [],
   "source": [
    "# from ignite.contrib.metrics import ROC_AUC\n",
    "# from nna.exp.metrics import ROC_AUC_perClass\n",
    "def activated_output_transform(output):\n",
    "    y_pred, y = output\n",
    "#     y_pred = torch.exp(y_pred)\n",
    "    return y_pred, y"
   ]
  },
  {
   "cell_type": "code",
   "execution_count": null,
   "metadata": {},
   "outputs": [],
   "source": []
  },
  {
   "cell_type": "code",
   "execution_count": 69,
   "metadata": {},
   "outputs": [],
   "source": [
    "# asd=ROC_AUC_perClass(activated_output_transform)\n",
    "# asd.update((a_out,a_out_correct))\n",
    "# asd.compute()"
   ]
  },
  {
   "cell_type": "code",
   "execution_count": null,
   "metadata": {},
   "outputs": [],
   "source": []
  },
  {
   "cell_type": "code",
   "execution_count": 70,
   "metadata": {},
   "outputs": [],
   "source": [
    "\n",
    "transformCompose = transforms.Compose([\n",
    "#     pitch,\n",
    "#     strech,\n",
    "#     shift,\n",
    "#     noise,\n",
    "    toTensor,\n",
    "])\n",
    "\n",
    "\n",
    "sound_datasets = {\n",
    "    phase: runutils.audioDataset(XY[0], XY[1], transform=transformCompose)\n",
    "    for phase, XY in\n",
    "    zip(['train', 'val', 'test'],\n",
    "        [[X_train, y_train], [X_val, y_val], [X_test, y_test]])\n",
    "}\n",
    "\n",
    "dataloaders = {\n",
    "    x: torch.utils.data.DataLoader(sound_datasets[x], **params)\n",
    "    for x in ['train', 'val', 'test']\n",
    "}\n",
    "\n",
    "# this will change\n",
    "h_w = [128, 938]\n",
    "kernel_size = (4, 4)\n",
    "# if config['CNNLayer_count'] == 1:\n",
    "#     model = modelArchs.NetCNN1(config['CNN_filters_1'], h_w,\n",
    "#                                 kernel_size).float().to(device)\n",
    "\n",
    "# if config['CNNLayer_count'] == 2:\n",
    "#     model = modelArchs.NetCNN2(config['CNN_filters_1'], config.CNN_filters_2,\n",
    "#                                 h_w, kernel_size,\n",
    "#                                 kernel_size).float().to(device)\n",
    "\n",
    "#simpler model\n",
    "\n",
    "output_shape=(CATEGORY_COUNT,)\n",
    "model = testModel(out_channels=2,h_w=(1,h_w[0]*h_w[1]),kernel_size=kernel_size[0]*kernel_size[0],output_shape=output_shape)\n",
    "model.float().to(device)\n",
    "\n",
    "# device is defined before\n",
    "\n",
    "model.float().to(device)  # Move model before creating optimizer\n",
    "optimizer = torch.optim.AdamW(model.parameters(),\n",
    "#                                 weight_decay=config['weight_decay'],\n",
    "                             )\n",
    "\n",
    "\n",
    "\n",
    "criterion = nn.BCEWithLogitsLoss()\n",
    "# statHistory={'valLoss':[],'trainLoss':[],'trainAUC':[],'valAUC':[]}\n",
    "\n",
    "metrics = {\n",
    "    'loss': Loss(criterion),  # 'accuracy': Accuracy(),\n",
    "#     'ROC_AUC': ROC_AUC(runutils.activated_output_transform),\n",
    "    'ROC_AUC': ROC_AUC_perClass(activated_output_transform),\n",
    "\n",
    "}\n"
   ]
  },
  {
   "cell_type": "code",
   "execution_count": 71,
   "metadata": {},
   "outputs": [
    {
     "data": {
      "text/plain": [
       "testModel(\n",
       "  (conv1): Conv1d(1, 2, kernel_size=(16,), stride=(1,), padding=(1,))\n",
       "  (fc1): Linear(in_features=240102, out_features=64, bias=True)\n",
       "  (fc2): Linear(in_features=64, out_features=2, bias=True)\n",
       ")"
      ]
     },
     "execution_count": 71,
     "metadata": {},
     "output_type": "execute_result"
    }
   ],
   "source": [
    "model"
   ]
  },
  {
   "cell_type": "code",
   "execution_count": 72,
   "metadata": {},
   "outputs": [
    {
     "data": {
      "text/plain": [
       "Parameter containing:\n",
       "tensor([[[ 0.1911,  0.2075, -0.0586,  0.2297, -0.0548,  0.0504, -0.1217,\n",
       "           0.1468,  0.2204, -0.1834,  0.2173,  0.0468,  0.1847,  0.0339,\n",
       "           0.1205, -0.0353]],\n",
       "\n",
       "        [[ 0.1927,  0.0370, -0.1167,  0.0637, -0.1152, -0.0293, -0.1015,\n",
       "           0.1658, -0.1973, -0.1153, -0.0706, -0.1503,  0.0236, -0.2469,\n",
       "           0.2258, -0.2124]]], device='cuda:1', requires_grad=True)"
      ]
     },
     "execution_count": 72,
     "metadata": {},
     "output_type": "execute_result"
    }
   ],
   "source": [
    "model.conv1.weight"
   ]
  },
  {
   "cell_type": "code",
   "execution_count": 73,
   "metadata": {},
   "outputs": [
    {
     "data": {
      "text/plain": [
       "Conv1d(1, 2, kernel_size=(16,), stride=(1,), padding=(1,))"
      ]
     },
     "execution_count": 73,
     "metadata": {},
     "output_type": "execute_result"
    }
   ],
   "source": [
    "model.conv1"
   ]
  },
  {
   "cell_type": "code",
   "execution_count": 74,
   "metadata": {},
   "outputs": [
    {
     "data": {
      "text/plain": [
       "Parameter containing:\n",
       "tensor([[-6.6266e-04,  1.2611e-03,  3.1806e-04,  ..., -1.1344e-03,\n",
       "          1.7489e-04, -2.2777e-05],\n",
       "        [-1.3098e-03, -1.8677e-03, -6.3242e-04,  ..., -1.6664e-03,\n",
       "          6.8555e-04,  1.7273e-03],\n",
       "        [-1.5009e-03,  8.8956e-04,  6.2944e-04,  ...,  1.2712e-03,\n",
       "          1.2644e-03,  1.4021e-03],\n",
       "        ...,\n",
       "        [ 1.1005e-03, -1.7050e-03,  5.0363e-04,  ...,  1.6579e-03,\n",
       "          5.5793e-05,  1.2571e-04],\n",
       "        [-1.6759e-03,  1.6106e-03,  9.2794e-04,  ..., -1.7791e-03,\n",
       "          1.6985e-03, -8.0668e-04],\n",
       "        [-2.7139e-04, -1.2249e-03,  3.8873e-04,  ...,  1.9329e-03,\n",
       "          1.8754e-03, -1.3147e-03]], device='cuda:1', requires_grad=True)"
      ]
     },
     "execution_count": 74,
     "metadata": {},
     "output_type": "execute_result"
    }
   ],
   "source": [
    "model.fc1.weight"
   ]
  },
  {
   "cell_type": "code",
   "execution_count": null,
   "metadata": {},
   "outputs": [],
   "source": []
  },
  {
   "cell_type": "code",
   "execution_count": null,
   "metadata": {},
   "outputs": [
    {
     "name": "stdout",
     "output_type": "stream",
     "text": [
      "ready ?\n"
     ]
    },
    {
     "name": "stderr",
     "output_type": "stream",
     "text": [
      "Failed to query for notebook name, you can set it manually with the WANDB_NOTEBOOK_NAME environment variable\n",
      "\u001b[34m\u001b[1mwandb\u001b[0m: Currently logged in as: \u001b[33menisberk\u001b[0m (use `wandb login --relogin` to force relogin)\n"
     ]
    },
    {
     "data": {
      "text/html": [
       "\n",
       "                Tracking run with wandb version 0.10.12<br/>\n",
       "                Syncing run <strong style=\"color:#cdcd00\">grateful-pond-154</strong> to <a href=\"https://wandb.ai\" target=\"_blank\">Weights & Biases</a> <a href=\"https://docs.wandb.com/integrations/jupyter.html\" target=\"_blank\">(Documentation)</a>.<br/>\n",
       "                Project page: <a href=\"https://wandb.ai/enisberk/megan\" target=\"_blank\">https://wandb.ai/enisberk/megan</a><br/>\n",
       "                Run page: <a href=\"https://wandb.ai/enisberk/megan/runs/3l35bjev\" target=\"_blank\">https://wandb.ai/enisberk/megan/runs/3l35bjev</a><br/>\n",
       "                Run data is saved locally in <code>/home/enis/projects/nna/src/nna/exp/megan/run-2/wandb/run-20210126_053407-3l35bjev</code><br/><br/>\n",
       "            "
      ],
      "text/plain": [
       "<IPython.core.display.HTML object>"
      ]
     },
     "metadata": {},
     "output_type": "display_data"
    },
    {
     "name": "stderr",
     "output_type": "stream",
     "text": [
      "2021-01-26 05:34:43,152 Trainer INFO: Engine run starting with max_epochs=2000.\n",
      "/scratch/enis/conda/envs/soundenv3/lib/python3.7/site-packages/torch/functional.py:516: UserWarning: stft will require the return_complex parameter be explicitly  specified in a future PyTorch release. Use return_complex=False  to preserve the current behavior or return_complex=True to return  a complex output. (Triggered internally at  /opt/conda/conda-bld/pytorch_1607370141920/work/aten/src/ATen/native/SpectralOps.cpp:653.)\n",
      "  normalized, onesided, return_complex)\n",
      "/scratch/enis/conda/envs/soundenv3/lib/python3.7/site-packages/torch/functional.py:516: UserWarning: The function torch.rfft is deprecated and will be removed in a future PyTorch release. Use the new torch.fft module functions, instead, by importing torch.fft and calling torch.fft.fft or torch.fft.rfft. (Triggered internally at  /opt/conda/conda-bld/pytorch_1607370141920/work/aten/src/ATen/native/SpectralOps.cpp:590.)\n",
      "  normalized, onesided, return_complex)\n",
      "2021-01-26 05:34:51,923 Train Evaluator INFO: Engine run starting with max_epochs=1.\n",
      "2021-01-26 05:35:13,905 Train Evaluator INFO: Epoch[1] Complete. Time taken: 00:00:22\n",
      "2021-01-26 05:35:13,908 Train Evaluator INFO: Engine run complete. Time taken: 00:00:22\n",
      "2021-01-26 05:35:13,910 Val Evaluator INFO: Engine run starting with max_epochs=1.\n",
      "2021-01-26 05:35:16,585 Val Evaluator INFO: Epoch[1] Complete. Time taken: 00:00:03\n",
      "2021-01-26 05:35:18,157 Val Evaluator INFO: Engine run complete. Time taken: 00:00:04\n",
      "\u001b[34m\u001b[1mwandb\u001b[0m: \u001b[33mWARNING\u001b[0m Step must only increase in log calls.  Step 1 < 8; dropping {'lr/group_0': 0.001}.\n",
      "2021-01-26 05:35:18,171 Trainer INFO: Epoch[1] Complete. Time taken: 00:00:35\n"
     ]
    },
    {
     "name": "stdout",
     "output_type": "stream",
     "text": [
      "train loss 1234.0071441716877\n",
      "val loss 2114.832130772293\n",
      "validation roc auc [0.66252073 0.39774465] 1\n",
      "train roc auc [0.49480303 0.45675097] 1\n"
     ]
    },
    {
     "name": "stderr",
     "output_type": "stream",
     "text": [
      "2021-01-26 05:35:25,881 Train Evaluator INFO: Engine run starting with max_epochs=1.\n",
      "2021-01-26 05:35:33,445 Train Evaluator INFO: Epoch[1] Complete. Time taken: 00:00:08\n",
      "2021-01-26 05:35:33,447 Train Evaluator INFO: Engine run complete. Time taken: 00:00:08\n",
      "2021-01-26 05:35:33,448 Val Evaluator INFO: Engine run starting with max_epochs=1.\n",
      "2021-01-26 05:35:36,522 Val Evaluator INFO: Epoch[1] Complete. Time taken: 00:00:03\n",
      "2021-01-26 05:35:38,177 Val Evaluator INFO: Engine run complete. Time taken: 00:00:05\n",
      "\u001b[34m\u001b[1mwandb\u001b[0m: \u001b[33mWARNING\u001b[0m Step must only increase in log calls.  Step 2 < 16; dropping {'lr/group_0': 0.001}.\n",
      "2021-01-26 05:35:38,189 Trainer INFO: Epoch[2] Complete. Time taken: 00:00:20\n"
     ]
    },
    {
     "name": "stdout",
     "output_type": "stream",
     "text": [
      "train loss 1055.837133203976\n",
      "val loss 897.9238596144755\n",
      "validation roc auc [0.65671642 0.39373089] 2\n",
      "train roc auc [0.49341453 0.46700717] 2\n"
     ]
    },
    {
     "name": "stderr",
     "output_type": "stream",
     "text": [
      "2021-01-26 05:35:46,105 Train Evaluator INFO: Engine run starting with max_epochs=1.\n",
      "2021-01-26 05:35:53,928 Train Evaluator INFO: Epoch[1] Complete. Time taken: 00:00:08\n",
      "2021-01-26 05:35:53,931 Train Evaluator INFO: Engine run complete. Time taken: 00:00:08\n",
      "2021-01-26 05:35:53,932 Val Evaluator INFO: Engine run starting with max_epochs=1.\n",
      "2021-01-26 05:35:56,398 Val Evaluator INFO: Epoch[1] Complete. Time taken: 00:00:02\n",
      "2021-01-26 05:35:57,894 Val Evaluator INFO: Engine run complete. Time taken: 00:00:04\n",
      "\u001b[34m\u001b[1mwandb\u001b[0m: \u001b[33mWARNING\u001b[0m Step must only increase in log calls.  Step 3 < 24; dropping {'lr/group_0': 0.001}.\n",
      "2021-01-26 05:35:57,907 Trainer INFO: Epoch[3] Complete. Time taken: 00:00:20\n"
     ]
    },
    {
     "name": "stdout",
     "output_type": "stream",
     "text": [
      "train loss 857.8358450829334\n",
      "val loss 1249.2748953460887\n",
      "validation roc auc [0.36384743 0.36391437] 3\n",
      "train roc auc [0.51455945 0.52047121] 3\n"
     ]
    },
    {
     "name": "stderr",
     "output_type": "stream",
     "text": [
      "2021-01-26 05:36:06,683 Train Evaluator INFO: Engine run starting with max_epochs=1.\n",
      "2021-01-26 05:36:13,704 Train Evaluator INFO: Epoch[1] Complete. Time taken: 00:00:07\n",
      "2021-01-26 05:36:13,706 Train Evaluator INFO: Engine run complete. Time taken: 00:00:07\n",
      "2021-01-26 05:36:13,707 Val Evaluator INFO: Engine run starting with max_epochs=1.\n",
      "2021-01-26 05:36:16,529 Val Evaluator INFO: Epoch[1] Complete. Time taken: 00:00:03\n",
      "2021-01-26 05:36:18,178 Val Evaluator INFO: Engine run complete. Time taken: 00:00:04\n",
      "\u001b[34m\u001b[1mwandb\u001b[0m: \u001b[33mWARNING\u001b[0m Step must only increase in log calls.  Step 4 < 32; dropping {'lr/group_0': 0.001}.\n",
      "2021-01-26 05:36:18,191 Trainer INFO: Epoch[4] Complete. Time taken: 00:00:20\n"
     ]
    },
    {
     "name": "stdout",
     "output_type": "stream",
     "text": [
      "train loss 750.9074461028986\n",
      "val loss 590.5571747798069\n",
      "validation roc auc [0.66616915 0.36391437] 4\n",
      "train roc auc [0.50226128 0.50333635] 4\n"
     ]
    },
    {
     "name": "stderr",
     "output_type": "stream",
     "text": [
      "2021-01-26 05:36:25,738 Train Evaluator INFO: Engine run starting with max_epochs=1.\n",
      "2021-01-26 05:36:33,788 Train Evaluator INFO: Epoch[1] Complete. Time taken: 00:00:08\n",
      "2021-01-26 05:36:33,791 Train Evaluator INFO: Engine run complete. Time taken: 00:00:08\n",
      "2021-01-26 05:36:33,792 Val Evaluator INFO: Engine run starting with max_epochs=1.\n",
      "2021-01-26 05:36:36,053 Val Evaluator INFO: Epoch[1] Complete. Time taken: 00:00:02\n",
      "2021-01-26 05:36:37,434 Val Evaluator INFO: Engine run complete. Time taken: 00:00:04\n",
      "\u001b[34m\u001b[1mwandb\u001b[0m: \u001b[33mWARNING\u001b[0m Step must only increase in log calls.  Step 5 < 40; dropping {'lr/group_0': 0.001}.\n",
      "2021-01-26 05:36:37,450 Trainer INFO: Epoch[5] Complete. Time taken: 00:00:19\n"
     ]
    },
    {
     "name": "stdout",
     "output_type": "stream",
     "text": [
      "train loss 238.01767719077648\n",
      "val loss 256.13542233606813\n",
      "validation roc auc [0.58092869 0.3641055 ] 5\n",
      "train roc auc [0.58206054 0.49431584] 5\n"
     ]
    },
    {
     "name": "stderr",
     "output_type": "stream",
     "text": [
      "2021-01-26 05:36:45,290 Train Evaluator INFO: Engine run starting with max_epochs=1.\n",
      "2021-01-26 05:36:52,623 Train Evaluator INFO: Epoch[1] Complete. Time taken: 00:00:07\n",
      "2021-01-26 05:36:52,626 Train Evaluator INFO: Engine run complete. Time taken: 00:00:07\n",
      "2021-01-26 05:36:52,627 Val Evaluator INFO: Engine run starting with max_epochs=1.\n",
      "2021-01-26 05:36:55,079 Val Evaluator INFO: Epoch[1] Complete. Time taken: 00:00:02\n",
      "2021-01-26 05:36:56,635 Val Evaluator INFO: Engine run complete. Time taken: 00:00:04\n",
      "\u001b[34m\u001b[1mwandb\u001b[0m: \u001b[33mWARNING\u001b[0m Step must only increase in log calls.  Step 6 < 48; dropping {'lr/group_0': 0.001}.\n",
      "2021-01-26 05:36:56,649 Trainer INFO: Epoch[6] Complete. Time taken: 00:00:19\n"
     ]
    },
    {
     "name": "stdout",
     "output_type": "stream",
     "text": [
      "train loss 82.6057789289354\n",
      "val loss 135.1694390363754\n",
      "validation roc auc [0.42885572 0.27484709] 6\n",
      "train roc auc [0.57193438 0.56244336] 6\n"
     ]
    },
    {
     "name": "stderr",
     "output_type": "stream",
     "text": [
      "2021-01-26 05:37:04,928 Train Evaluator INFO: Engine run starting with max_epochs=1.\n",
      "2021-01-26 05:37:12,381 Train Evaluator INFO: Epoch[1] Complete. Time taken: 00:00:07\n",
      "2021-01-26 05:37:12,384 Train Evaluator INFO: Engine run complete. Time taken: 00:00:07\n",
      "2021-01-26 05:37:12,385 Val Evaluator INFO: Engine run starting with max_epochs=1.\n",
      "2021-01-26 05:37:14,894 Val Evaluator INFO: Epoch[1] Complete. Time taken: 00:00:03\n",
      "2021-01-26 05:37:16,380 Val Evaluator INFO: Engine run complete. Time taken: 00:00:04\n",
      "\u001b[34m\u001b[1mwandb\u001b[0m: \u001b[33mWARNING\u001b[0m Step must only increase in log calls.  Step 7 < 56; dropping {'lr/group_0': 0.001}.\n",
      "2021-01-26 05:37:16,394 Trainer INFO: Epoch[7] Complete. Time taken: 00:00:20\n"
     ]
    },
    {
     "name": "stdout",
     "output_type": "stream",
     "text": [
      "train loss 97.72044818022152\n",
      "val loss 226.12446273512143\n",
      "validation roc auc [0.46981758 0.38474771] 7\n",
      "train roc auc [0.63097552 0.4751627 ] 7\n"
     ]
    },
    {
     "name": "stderr",
     "output_type": "stream",
     "text": [
      "2021-01-26 05:37:23,717 Train Evaluator INFO: Engine run starting with max_epochs=1.\n",
      "2021-01-26 05:37:31,365 Train Evaluator INFO: Epoch[1] Complete. Time taken: 00:00:08\n",
      "2021-01-26 05:37:31,368 Train Evaluator INFO: Engine run complete. Time taken: 00:00:08\n",
      "2021-01-26 05:37:31,370 Val Evaluator INFO: Engine run starting with max_epochs=1.\n",
      "2021-01-26 05:37:34,324 Val Evaluator INFO: Epoch[1] Complete. Time taken: 00:00:03\n",
      "2021-01-26 05:37:35,765 Val Evaluator INFO: Engine run complete. Time taken: 00:00:04\n",
      "\u001b[34m\u001b[1mwandb\u001b[0m: \u001b[33mWARNING\u001b[0m Step must only increase in log calls.  Step 8 < 64; dropping {'lr/group_0': 0.001}.\n",
      "2021-01-26 05:37:35,779 Trainer INFO: Epoch[8] Complete. Time taken: 00:00:19\n"
     ]
    },
    {
     "name": "stdout",
     "output_type": "stream",
     "text": [
      "train loss 91.78471801691326\n",
      "val loss 208.2872096748109\n",
      "validation roc auc [0.48524046 0.38188073] 8\n",
      "train roc auc [0.64386877 0.47784002] 8\n"
     ]
    },
    {
     "name": "stderr",
     "output_type": "stream",
     "text": [
      "2021-01-26 05:37:43,431 Train Evaluator INFO: Engine run starting with max_epochs=1.\n",
      "2021-01-26 05:37:50,759 Train Evaluator INFO: Epoch[1] Complete. Time taken: 00:00:07\n",
      "2021-01-26 05:37:50,762 Train Evaluator INFO: Engine run complete. Time taken: 00:00:07\n",
      "2021-01-26 05:37:50,763 Val Evaluator INFO: Engine run starting with max_epochs=1.\n",
      "2021-01-26 05:37:53,387 Val Evaluator INFO: Epoch[1] Complete. Time taken: 00:00:03\n",
      "2021-01-26 05:37:54,857 Val Evaluator INFO: Engine run complete. Time taken: 00:00:04\n",
      "\u001b[34m\u001b[1mwandb\u001b[0m: \u001b[33mWARNING\u001b[0m Step must only increase in log calls.  Step 9 < 72; dropping {'lr/group_0': 0.001}.\n",
      "2021-01-26 05:37:54,871 Trainer INFO: Epoch[9] Complete. Time taken: 00:00:19\n"
     ]
    },
    {
     "name": "stdout",
     "output_type": "stream",
     "text": [
      "train loss 174.1533832757821\n",
      "val loss 210.15790805695164\n",
      "validation roc auc [0.58126036 0.36181193] 9\n",
      "train roc auc [0.62066093 0.49303897] 9\n"
     ]
    },
    {
     "name": "stderr",
     "output_type": "stream",
     "text": [
      "2021-01-26 05:38:02,208 Train Evaluator INFO: Engine run starting with max_epochs=1.\n",
      "2021-01-26 05:38:10,353 Train Evaluator INFO: Epoch[1] Complete. Time taken: 00:00:08\n",
      "2021-01-26 05:38:10,356 Train Evaluator INFO: Engine run complete. Time taken: 00:00:08\n",
      "2021-01-26 05:38:10,357 Val Evaluator INFO: Engine run starting with max_epochs=1.\n",
      "2021-01-26 05:38:12,817 Val Evaluator INFO: Epoch[1] Complete. Time taken: 00:00:02\n",
      "2021-01-26 05:38:14,271 Val Evaluator INFO: Engine run complete. Time taken: 00:00:04\n",
      "\u001b[34m\u001b[1mwandb\u001b[0m: \u001b[33mWARNING\u001b[0m Step must only increase in log calls.  Step 10 < 80; dropping {'lr/group_0': 0.001}.\n",
      "2021-01-26 05:38:14,285 Trainer INFO: Epoch[10] Complete. Time taken: 00:00:19\n"
     ]
    },
    {
     "name": "stdout",
     "output_type": "stream",
     "text": [
      "train loss 115.97291802632783\n",
      "val loss 198.97617510169934\n",
      "validation roc auc [0.43383085 0.33830275] 10\n",
      "train roc auc [0.57462213 0.50832029] 10\n"
     ]
    },
    {
     "name": "stderr",
     "output_type": "stream",
     "text": [
      "2021-01-26 05:38:21,576 Train Evaluator INFO: Engine run starting with max_epochs=1.\n",
      "2021-01-26 05:38:29,167 Train Evaluator INFO: Epoch[1] Complete. Time taken: 00:00:08\n",
      "2021-01-26 05:38:29,171 Train Evaluator INFO: Engine run complete. Time taken: 00:00:08\n",
      "2021-01-26 05:38:29,172 Val Evaluator INFO: Engine run starting with max_epochs=1.\n",
      "2021-01-26 05:38:31,636 Val Evaluator INFO: Epoch[1] Complete. Time taken: 00:00:02\n",
      "2021-01-26 05:38:33,124 Val Evaluator INFO: Engine run complete. Time taken: 00:00:04\n",
      "\u001b[34m\u001b[1mwandb\u001b[0m: \u001b[33mWARNING\u001b[0m Step must only increase in log calls.  Step 11 < 88; dropping {'lr/group_0': 0.001}.\n",
      "2021-01-26 05:38:33,137 Trainer INFO: Epoch[11] Complete. Time taken: 00:00:19\n"
     ]
    },
    {
     "name": "stdout",
     "output_type": "stream",
     "text": [
      "train loss 88.28381884539569\n",
      "val loss 129.36697086407122\n",
      "validation roc auc [0.48855721 0.33467125] 11\n",
      "train roc auc [0.66265323 0.51227449] 11\n"
     ]
    },
    {
     "name": "stderr",
     "output_type": "stream",
     "text": [
      "2021-01-26 05:38:40,163 Train Evaluator INFO: Engine run starting with max_epochs=1.\n",
      "2021-01-26 05:38:47,865 Train Evaluator INFO: Epoch[1] Complete. Time taken: 00:00:08\n",
      "2021-01-26 05:38:47,868 Train Evaluator INFO: Engine run complete. Time taken: 00:00:08\n",
      "2021-01-26 05:38:47,869 Val Evaluator INFO: Engine run starting with max_epochs=1.\n",
      "2021-01-26 05:38:50,630 Val Evaluator INFO: Epoch[1] Complete. Time taken: 00:00:03\n",
      "2021-01-26 05:38:52,207 Val Evaluator INFO: Engine run complete. Time taken: 00:00:04\n",
      "\u001b[34m\u001b[1mwandb\u001b[0m: \u001b[33mWARNING\u001b[0m Step must only increase in log calls.  Step 12 < 96; dropping {'lr/group_0': 0.001}.\n",
      "2021-01-26 05:38:52,219 Trainer INFO: Epoch[12] Complete. Time taken: 00:00:19\n"
     ]
    },
    {
     "name": "stdout",
     "output_type": "stream",
     "text": [
      "train loss 41.23032436495513\n",
      "val loss 70.47194384921129\n",
      "validation roc auc [0.48457711 0.25019113] 12\n",
      "train roc auc [0.65561154 0.59102892] 12\n"
     ]
    },
    {
     "name": "stderr",
     "output_type": "stream",
     "text": [
      "2021-01-26 05:38:59,788 Train Evaluator INFO: Engine run starting with max_epochs=1.\n",
      "2021-01-26 05:39:07,455 Train Evaluator INFO: Epoch[1] Complete. Time taken: 00:00:08\n",
      "2021-01-26 05:39:07,458 Train Evaluator INFO: Engine run complete. Time taken: 00:00:08\n",
      "2021-01-26 05:39:07,459 Val Evaluator INFO: Engine run starting with max_epochs=1.\n",
      "2021-01-26 05:39:09,878 Val Evaluator INFO: Epoch[1] Complete. Time taken: 00:00:02\n",
      "2021-01-26 05:39:11,711 Val Evaluator INFO: Engine run complete. Time taken: 00:00:04\n",
      "\u001b[34m\u001b[1mwandb\u001b[0m: \u001b[33mWARNING\u001b[0m Step must only increase in log calls.  Step 13 < 104; dropping {'lr/group_0': 0.001}.\n",
      "2021-01-26 05:39:11,723 Trainer INFO: Epoch[13] Complete. Time taken: 00:00:20\n"
     ]
    },
    {
     "name": "stdout",
     "output_type": "stream",
     "text": [
      "train loss 58.36303957770853\n",
      "val loss 59.76071592197297\n",
      "validation roc auc [0.45207297 0.56823394] 13\n",
      "train roc auc [0.61100091 0.62863498] 13\n"
     ]
    },
    {
     "name": "stderr",
     "output_type": "stream",
     "text": [
      "2021-01-26 05:39:19,583 Train Evaluator INFO: Engine run starting with max_epochs=1.\n",
      "2021-01-26 05:39:27,372 Train Evaluator INFO: Epoch[1] Complete. Time taken: 00:00:08\n",
      "2021-01-26 05:39:27,375 Train Evaluator INFO: Engine run complete. Time taken: 00:00:08\n",
      "2021-01-26 05:39:27,376 Val Evaluator INFO: Engine run starting with max_epochs=1.\n",
      "2021-01-26 05:39:30,113 Val Evaluator INFO: Epoch[1] Complete. Time taken: 00:00:03\n",
      "2021-01-26 05:39:31,691 Val Evaluator INFO: Engine run complete. Time taken: 00:00:04\n",
      "\u001b[34m\u001b[1mwandb\u001b[0m: \u001b[33mWARNING\u001b[0m Step must only increase in log calls.  Step 14 < 112; dropping {'lr/group_0': 0.001}.\n",
      "2021-01-26 05:39:31,702 Trainer INFO: Epoch[14] Complete. Time taken: 00:00:20\n"
     ]
    },
    {
     "name": "stdout",
     "output_type": "stream",
     "text": [
      "train loss 45.565914029389425\n",
      "val loss 104.40096710593838\n",
      "validation roc auc [0.47777778 0.34996177] 14\n",
      "train roc auc [0.64618955 0.50172996] 14\n"
     ]
    },
    {
     "name": "stderr",
     "output_type": "stream",
     "text": [
      "2021-01-26 05:39:40,731 Train Evaluator INFO: Engine run starting with max_epochs=1.\n",
      "2021-01-26 05:39:48,382 Train Evaluator INFO: Epoch[1] Complete. Time taken: 00:00:08\n",
      "2021-01-26 05:39:48,384 Train Evaluator INFO: Engine run complete. Time taken: 00:00:08\n",
      "2021-01-26 05:39:48,386 Val Evaluator INFO: Engine run starting with max_epochs=1.\n",
      "2021-01-26 05:39:50,923 Val Evaluator INFO: Epoch[1] Complete. Time taken: 00:00:03\n",
      "2021-01-26 05:39:52,493 Val Evaluator INFO: Engine run complete. Time taken: 00:00:04\n",
      "\u001b[34m\u001b[1mwandb\u001b[0m: \u001b[33mWARNING\u001b[0m Step must only increase in log calls.  Step 15 < 120; dropping {'lr/group_0': 0.001}.\n",
      "2021-01-26 05:39:52,506 Trainer INFO: Epoch[15] Complete. Time taken: 00:00:21\n"
     ]
    },
    {
     "name": "stdout",
     "output_type": "stream",
     "text": [
      "train loss 6.532606671318769\n",
      "val loss 15.657812410099492\n",
      "validation roc auc [0.48905473 0.56211774] 15\n",
      "train roc auc [0.66007458 0.67699151] 15\n"
     ]
    },
    {
     "name": "stderr",
     "output_type": "stream",
     "text": [
      "2021-01-26 05:39:59,645 Train Evaluator INFO: Engine run starting with max_epochs=1.\n",
      "2021-01-26 05:40:08,137 Train Evaluator INFO: Epoch[1] Complete. Time taken: 00:00:08\n",
      "2021-01-26 05:40:08,140 Train Evaluator INFO: Engine run complete. Time taken: 00:00:08\n",
      "2021-01-26 05:40:08,141 Val Evaluator INFO: Engine run starting with max_epochs=1.\n",
      "2021-01-26 05:40:11,141 Val Evaluator INFO: Epoch[1] Complete. Time taken: 00:00:03\n",
      "2021-01-26 05:40:11,144 Val Evaluator INFO: Engine run complete. Time taken: 00:00:03\n",
      "\u001b[34m\u001b[1mwandb\u001b[0m: \u001b[33mWARNING\u001b[0m Step must only increase in log calls.  Step 16 < 128; dropping {'lr/group_0': 0.001}.\n",
      "2021-01-26 05:40:11,150 Trainer INFO: Epoch[16] Complete. Time taken: 00:00:19\n"
     ]
    },
    {
     "name": "stdout",
     "output_type": "stream",
     "text": [
      "train loss 23.055704648718077\n",
      "val loss 49.046427684225094\n",
      "validation roc auc [0.49253731 0.24751529] 16\n",
      "train roc auc [0.66900067 0.59988467] 16\n"
     ]
    },
    {
     "name": "stderr",
     "output_type": "stream",
     "text": [
      "2021-01-26 05:40:19,312 Train Evaluator INFO: Engine run starting with max_epochs=1.\n",
      "2021-01-26 05:40:27,081 Train Evaluator INFO: Epoch[1] Complete. Time taken: 00:00:08\n",
      "2021-01-26 05:40:27,084 Train Evaluator INFO: Engine run complete. Time taken: 00:00:08\n",
      "2021-01-26 05:40:27,085 Val Evaluator INFO: Engine run starting with max_epochs=1.\n",
      "2021-01-26 05:40:29,662 Val Evaluator INFO: Epoch[1] Complete. Time taken: 00:00:03\n",
      "2021-01-26 05:40:31,254 Val Evaluator INFO: Engine run complete. Time taken: 00:00:04\n",
      "\u001b[34m\u001b[1mwandb\u001b[0m: \u001b[33mWARNING\u001b[0m Step must only increase in log calls.  Step 17 < 136; dropping {'lr/group_0': 0.001}.\n",
      "2021-01-26 05:40:31,273 Trainer INFO: Epoch[17] Complete. Time taken: 00:00:20\n"
     ]
    },
    {
     "name": "stdout",
     "output_type": "stream",
     "text": [
      "train loss 43.260522622168715\n",
      "val loss 37.24848716881625\n",
      "validation roc auc [0.48474295 0.56632263] 17\n",
      "train roc auc [0.65565121 0.6364198 ] 17\n"
     ]
    },
    {
     "name": "stderr",
     "output_type": "stream",
     "text": [
      "2021-01-26 05:40:38,398 Train Evaluator INFO: Engine run starting with max_epochs=1.\n",
      "2021-01-26 05:40:44,507 Train Evaluator INFO: Epoch[1] Complete. Time taken: 00:00:06\n",
      "2021-01-26 05:40:44,510 Train Evaluator INFO: Engine run complete. Time taken: 00:00:06\n",
      "2021-01-26 05:40:44,511 Val Evaluator INFO: Engine run starting with max_epochs=1.\n",
      "2021-01-26 05:40:46,331 Val Evaluator INFO: Epoch[1] Complete. Time taken: 00:00:02\n",
      "2021-01-26 05:40:46,333 Val Evaluator INFO: Engine run complete. Time taken: 00:00:02\n",
      "\u001b[34m\u001b[1mwandb\u001b[0m: \u001b[33mWARNING\u001b[0m Step must only increase in log calls.  Step 18 < 144; dropping {'lr/group_0': 0.001}.\n",
      "2021-01-26 05:40:46,342 Trainer INFO: Epoch[18] Complete. Time taken: 00:00:15\n"
     ]
    },
    {
     "name": "stdout",
     "output_type": "stream",
     "text": [
      "train loss 16.39251128468898\n",
      "val loss 36.438406610185176\n",
      "validation roc auc [0.50381426 0.23738532] 18\n",
      "train roc auc [0.68361963 0.6388088 ] 18\n"
     ]
    },
    {
     "name": "stderr",
     "output_type": "stream",
     "text": [
      "2021-01-26 05:40:53,169 Train Evaluator INFO: Engine run starting with max_epochs=1.\n",
      "2021-01-26 05:40:59,308 Train Evaluator INFO: Epoch[1] Complete. Time taken: 00:00:06\n",
      "2021-01-26 05:40:59,311 Train Evaluator INFO: Engine run complete. Time taken: 00:00:06\n",
      "2021-01-26 05:40:59,312 Val Evaluator INFO: Engine run starting with max_epochs=1.\n",
      "2021-01-26 05:41:01,190 Val Evaluator INFO: Epoch[1] Complete. Time taken: 00:00:02\n",
      "2021-01-26 05:41:02,826 Val Evaluator INFO: Engine run complete. Time taken: 00:00:04\n",
      "\u001b[34m\u001b[1mwandb\u001b[0m: \u001b[33mWARNING\u001b[0m Step must only increase in log calls.  Step 19 < 152; dropping {'lr/group_0': 0.001}.\n",
      "2021-01-26 05:41:02,840 Trainer INFO: Epoch[19] Complete. Time taken: 00:00:16\n"
     ]
    },
    {
     "name": "stdout",
     "output_type": "stream",
     "text": [
      "train loss 24.312412278584667\n",
      "val loss 18.56346724443375\n",
      "validation roc auc [0.50165837 0.56326453] 19\n",
      "train roc auc [0.68125917 0.64964165] 19\n"
     ]
    },
    {
     "name": "stderr",
     "output_type": "stream",
     "text": [
      "2021-01-26 05:41:09,051 Train Evaluator INFO: Engine run starting with max_epochs=1.\n",
      "2021-01-26 05:41:15,402 Train Evaluator INFO: Epoch[1] Complete. Time taken: 00:00:06\n",
      "2021-01-26 05:41:15,404 Train Evaluator INFO: Engine run complete. Time taken: 00:00:06\n",
      "2021-01-26 05:41:15,405 Val Evaluator INFO: Engine run starting with max_epochs=1.\n",
      "2021-01-26 05:41:17,533 Val Evaluator INFO: Epoch[1] Complete. Time taken: 00:00:02\n",
      "2021-01-26 05:41:18,871 Val Evaluator INFO: Engine run complete. Time taken: 00:00:03\n",
      "\u001b[34m\u001b[1mwandb\u001b[0m: \u001b[33mWARNING\u001b[0m Step must only increase in log calls.  Step 20 < 160; dropping {'lr/group_0': 0.001}.\n",
      "2021-01-26 05:41:18,887 Trainer INFO: Epoch[20] Complete. Time taken: 00:00:16\n"
     ]
    },
    {
     "name": "stdout",
     "output_type": "stream",
     "text": [
      "train loss 8.759792923148161\n",
      "val loss 19.70510384383475\n",
      "validation roc auc [0.50696517 0.43100153] 20\n",
      "train roc auc [0.69246638 0.71748085] 20\n"
     ]
    },
    {
     "name": "stderr",
     "output_type": "stream",
     "text": [
      "2021-01-26 05:41:25,539 Train Evaluator INFO: Engine run starting with max_epochs=1.\n",
      "2021-01-26 05:41:30,592 Train Evaluator INFO: Epoch[1] Complete. Time taken: 00:00:05\n",
      "2021-01-26 05:41:30,594 Train Evaluator INFO: Engine run complete. Time taken: 00:00:05\n",
      "2021-01-26 05:41:30,596 Val Evaluator INFO: Engine run starting with max_epochs=1.\n",
      "2021-01-26 05:41:32,182 Val Evaluator INFO: Epoch[1] Complete. Time taken: 00:00:02\n",
      "2021-01-26 05:41:33,608 Val Evaluator INFO: Engine run complete. Time taken: 00:00:03\n",
      "\u001b[34m\u001b[1mwandb\u001b[0m: \u001b[33mWARNING\u001b[0m Step must only increase in log calls.  Step 21 < 168; dropping {'lr/group_0': 0.001}.\n",
      "2021-01-26 05:41:33,618 Trainer INFO: Epoch[21] Complete. Time taken: 00:00:15\n"
     ]
    },
    {
     "name": "stdout",
     "output_type": "stream",
     "text": [
      "train loss 5.6293523914154315\n",
      "val loss 9.176825711681584\n",
      "validation roc auc [0.50845771 0.55275229] 21\n",
      "train roc auc [0.69796088 0.71562732] 21\n"
     ]
    },
    {
     "name": "stderr",
     "output_type": "stream",
     "text": [
      "2021-01-26 05:41:39,645 Train Evaluator INFO: Engine run starting with max_epochs=1.\n",
      "2021-01-26 05:41:44,853 Train Evaluator INFO: Epoch[1] Complete. Time taken: 00:00:05\n",
      "2021-01-26 05:41:44,856 Train Evaluator INFO: Engine run complete. Time taken: 00:00:05\n",
      "2021-01-26 05:41:44,857 Val Evaluator INFO: Engine run starting with max_epochs=1.\n",
      "2021-01-26 05:41:46,737 Val Evaluator INFO: Epoch[1] Complete. Time taken: 00:00:02\n",
      "2021-01-26 05:41:48,103 Val Evaluator INFO: Engine run complete. Time taken: 00:00:03\n",
      "\u001b[34m\u001b[1mwandb\u001b[0m: \u001b[33mWARNING\u001b[0m Step must only increase in log calls.  Step 22 < 176; dropping {'lr/group_0': 0.001}.\n",
      "2021-01-26 05:41:48,114 Trainer INFO: Epoch[22] Complete. Time taken: 00:00:14\n"
     ]
    },
    {
     "name": "stdout",
     "output_type": "stream",
     "text": [
      "train loss 7.42063971334553\n",
      "val loss 12.687527194903915\n",
      "validation roc auc [0.50945274 0.54051988] 22\n",
      "train roc auc [0.70891022 0.73931131] 22\n"
     ]
    },
    {
     "name": "stderr",
     "output_type": "stream",
     "text": [
      "2021-01-26 05:41:53,839 Train Evaluator INFO: Engine run starting with max_epochs=1.\n",
      "2021-01-26 05:42:00,079 Train Evaluator INFO: Epoch[1] Complete. Time taken: 00:00:06\n",
      "2021-01-26 05:42:00,082 Train Evaluator INFO: Engine run complete. Time taken: 00:00:06\n",
      "2021-01-26 05:42:00,083 Val Evaluator INFO: Engine run starting with max_epochs=1.\n",
      "2021-01-26 05:42:02,575 Val Evaluator INFO: Epoch[1] Complete. Time taken: 00:00:02\n",
      "2021-01-26 05:42:03,914 Val Evaluator INFO: Engine run complete. Time taken: 00:00:04\n",
      "\u001b[34m\u001b[1mwandb\u001b[0m: \u001b[33mWARNING\u001b[0m Step must only increase in log calls.  Step 23 < 184; dropping {'lr/group_0': 0.001}.\n",
      "2021-01-26 05:42:03,926 Trainer INFO: Epoch[23] Complete. Time taken: 00:00:16\n"
     ]
    },
    {
     "name": "stdout",
     "output_type": "stream",
     "text": [
      "train loss 5.125259902222743\n",
      "val loss 7.394917885968639\n",
      "validation roc auc [0.52006633 0.54950306] 23\n",
      "train roc auc [0.73654144 0.73704589] 23\n"
     ]
    },
    {
     "name": "stderr",
     "output_type": "stream",
     "text": [
      "2021-01-26 05:42:10,771 Train Evaluator INFO: Engine run starting with max_epochs=1.\n",
      "2021-01-26 05:42:16,639 Train Evaluator INFO: Epoch[1] Complete. Time taken: 00:00:06\n",
      "2021-01-26 05:42:16,640 Train Evaluator INFO: Engine run complete. Time taken: 00:00:06\n",
      "2021-01-26 05:42:16,641 Val Evaluator INFO: Engine run starting with max_epochs=1.\n",
      "2021-01-26 05:42:18,412 Val Evaluator INFO: Epoch[1] Complete. Time taken: 00:00:02\n",
      "2021-01-26 05:42:19,764 Val Evaluator INFO: Engine run complete. Time taken: 00:00:03\n",
      "\u001b[34m\u001b[1mwandb\u001b[0m: \u001b[33mWARNING\u001b[0m Step must only increase in log calls.  Step 24 < 192; dropping {'lr/group_0': 0.001}.\n",
      "2021-01-26 05:42:19,787 Trainer INFO: Epoch[24] Complete. Time taken: 00:00:16\n"
     ]
    },
    {
     "name": "stdout",
     "output_type": "stream",
     "text": [
      "train loss 2.6531680492534098\n",
      "val loss 4.232865770910956\n",
      "validation roc auc [0.51940299 0.54644495] 24\n",
      "train roc auc [0.74632047 0.74544855] 24\n"
     ]
    },
    {
     "name": "stderr",
     "output_type": "stream",
     "text": [
      "2021-01-26 05:42:25,854 Train Evaluator INFO: Engine run starting with max_epochs=1.\n",
      "2021-01-26 05:42:31,413 Train Evaluator INFO: Epoch[1] Complete. Time taken: 00:00:06\n",
      "2021-01-26 05:42:31,416 Train Evaluator INFO: Engine run complete. Time taken: 00:00:06\n",
      "2021-01-26 05:42:31,417 Val Evaluator INFO: Engine run starting with max_epochs=1.\n",
      "2021-01-26 05:42:33,317 Val Evaluator INFO: Epoch[1] Complete. Time taken: 00:00:02\n",
      "2021-01-26 05:42:34,762 Val Evaluator INFO: Engine run complete. Time taken: 00:00:03\n",
      "\u001b[34m\u001b[1mwandb\u001b[0m: \u001b[33mWARNING\u001b[0m Step must only increase in log calls.  Step 25 < 200; dropping {'lr/group_0': 0.001}.\n",
      "2021-01-26 05:42:34,776 Trainer INFO: Epoch[25] Complete. Time taken: 00:00:15\n"
     ]
    },
    {
     "name": "stdout",
     "output_type": "stream",
     "text": [
      "train loss 18.824657062040174\n",
      "val loss 20.68331737882772\n",
      "validation roc auc [0.49751244 0.55332569] 25\n",
      "train roc auc [0.73348673 0.71278524] 25\n"
     ]
    },
    {
     "name": "stderr",
     "output_type": "stream",
     "text": [
      "2021-01-26 05:42:40,356 Train Evaluator INFO: Engine run starting with max_epochs=1.\n",
      "2021-01-26 05:42:45,924 Train Evaluator INFO: Epoch[1] Complete. Time taken: 00:00:06\n",
      "2021-01-26 05:42:45,928 Train Evaluator INFO: Engine run complete. Time taken: 00:00:06\n",
      "2021-01-26 05:42:45,929 Val Evaluator INFO: Engine run starting with max_epochs=1.\n",
      "2021-01-26 05:42:48,144 Val Evaluator INFO: Epoch[1] Complete. Time taken: 00:00:02\n",
      "2021-01-26 05:42:48,146 Val Evaluator INFO: Engine run complete. Time taken: 00:00:02\n",
      "\u001b[34m\u001b[1mwandb\u001b[0m: \u001b[33mWARNING\u001b[0m Step must only increase in log calls.  Step 26 < 208; dropping {'lr/group_0': 0.001}.\n",
      "2021-01-26 05:42:48,153 Trainer INFO: Epoch[26] Complete. Time taken: 00:00:13\n"
     ]
    },
    {
     "name": "stdout",
     "output_type": "stream",
     "text": [
      "train loss 16.635488314825984\n",
      "val loss 24.72619914401109\n",
      "validation roc auc [0.4694859  0.52102446] 26\n",
      "train roc auc [0.69016543 0.87198287] 26\n"
     ]
    },
    {
     "name": "stderr",
     "output_type": "stream",
     "text": [
      "2021-01-26 05:42:53,901 Train Evaluator INFO: Engine run starting with max_epochs=1.\n",
      "2021-01-26 05:43:00,241 Train Evaluator INFO: Epoch[1] Complete. Time taken: 00:00:06\n",
      "2021-01-26 05:43:00,244 Train Evaluator INFO: Engine run complete. Time taken: 00:00:06\n",
      "2021-01-26 05:43:00,245 Val Evaluator INFO: Engine run starting with max_epochs=1.\n",
      "2021-01-26 05:43:02,321 Val Evaluator INFO: Epoch[1] Complete. Time taken: 00:00:02\n",
      "2021-01-26 05:43:03,805 Val Evaluator INFO: Engine run complete. Time taken: 00:00:04\n",
      "\u001b[34m\u001b[1mwandb\u001b[0m: \u001b[33mWARNING\u001b[0m Step must only increase in log calls.  Step 27 < 216; dropping {'lr/group_0': 0.001}.\n",
      "2021-01-26 05:43:03,818 Trainer INFO: Epoch[27] Complete. Time taken: 00:00:16\n"
     ]
    },
    {
     "name": "stdout",
     "output_type": "stream",
     "text": [
      "train loss 0.5646254056679137\n",
      "val loss 0.6865203456514201\n",
      "validation roc auc [0.80630182 0.5764526 ] 27\n",
      "train roc auc [0.70637125 0.58287338] 27\n"
     ]
    },
    {
     "name": "stderr",
     "output_type": "stream",
     "text": [
      "2021-01-26 05:43:09,377 Train Evaluator INFO: Engine run starting with max_epochs=1.\n",
      "2021-01-26 05:43:16,320 Train Evaluator INFO: Epoch[1] Complete. Time taken: 00:00:07\n",
      "2021-01-26 05:43:16,323 Train Evaluator INFO: Engine run complete. Time taken: 00:00:07\n",
      "2021-01-26 05:43:16,324 Val Evaluator INFO: Engine run starting with max_epochs=1.\n",
      "2021-01-26 05:43:18,544 Val Evaluator INFO: Epoch[1] Complete. Time taken: 00:00:02\n",
      "2021-01-26 05:43:20,026 Val Evaluator INFO: Engine run complete. Time taken: 00:00:04\n",
      "\u001b[34m\u001b[1mwandb\u001b[0m: \u001b[33mWARNING\u001b[0m Step must only increase in log calls.  Step 28 < 224; dropping {'lr/group_0': 0.001}.\n",
      "2021-01-26 05:43:20,040 Trainer INFO: Epoch[28] Complete. Time taken: 00:00:16\n"
     ]
    },
    {
     "name": "stdout",
     "output_type": "stream",
     "text": [
      "train loss 0.69128658841638\n",
      "val loss 0.6879488309477545\n",
      "validation roc auc [0.70862355 0.66781346] 28\n",
      "train roc auc [0.7065696  0.83277041] 28\n"
     ]
    },
    {
     "name": "stderr",
     "output_type": "stream",
     "text": [
      "2021-01-26 05:43:26,903 Train Evaluator INFO: Engine run starting with max_epochs=1.\n",
      "2021-01-26 05:43:32,212 Train Evaluator INFO: Epoch[1] Complete. Time taken: 00:00:05\n",
      "2021-01-26 05:43:32,214 Train Evaluator INFO: Engine run complete. Time taken: 00:00:05\n",
      "2021-01-26 05:43:32,216 Val Evaluator INFO: Engine run starting with max_epochs=1.\n",
      "2021-01-26 05:43:34,279 Val Evaluator INFO: Epoch[1] Complete. Time taken: 00:00:02\n",
      "2021-01-26 05:43:35,753 Val Evaluator INFO: Engine run complete. Time taken: 00:00:04\n",
      "\u001b[34m\u001b[1mwandb\u001b[0m: \u001b[33mWARNING\u001b[0m Step must only increase in log calls.  Step 29 < 232; dropping {'lr/group_0': 0.001}.\n",
      "2021-01-26 05:43:35,766 Trainer INFO: Epoch[29] Complete. Time taken: 00:00:16\n"
     ]
    },
    {
     "name": "stdout",
     "output_type": "stream",
     "text": [
      "train loss 0.6993901298456462\n",
      "val loss 0.6924354878200847\n",
      "validation roc auc [0.66749585 0.59327217] 29\n",
      "train roc auc [0.72245805 0.77452838] 29\n"
     ]
    },
    {
     "name": "stderr",
     "output_type": "stream",
     "text": [
      "2021-01-26 05:43:41,008 Train Evaluator INFO: Engine run starting with max_epochs=1.\n",
      "2021-01-26 05:43:46,613 Train Evaluator INFO: Epoch[1] Complete. Time taken: 00:00:06\n",
      "2021-01-26 05:43:46,615 Train Evaluator INFO: Engine run complete. Time taken: 00:00:06\n",
      "2021-01-26 05:43:46,617 Val Evaluator INFO: Engine run starting with max_epochs=1.\n",
      "2021-01-26 05:43:48,894 Val Evaluator INFO: Epoch[1] Complete. Time taken: 00:00:02\n",
      "2021-01-26 05:43:50,408 Val Evaluator INFO: Engine run complete. Time taken: 00:00:04\n",
      "\u001b[34m\u001b[1mwandb\u001b[0m: \u001b[33mWARNING\u001b[0m Step must only increase in log calls.  Step 30 < 240; dropping {'lr/group_0': 0.001}.\n",
      "2021-01-26 05:43:50,421 Trainer INFO: Epoch[30] Complete. Time taken: 00:00:15\n"
     ]
    },
    {
     "name": "stdout",
     "output_type": "stream",
     "text": [
      "train loss 0.6987861790947925\n",
      "val loss 0.6917635722524801\n",
      "validation roc auc [0.66600332 0.555237  ] 30\n",
      "train roc auc [0.75193399 0.73142351] 30\n"
     ]
    },
    {
     "name": "stderr",
     "output_type": "stream",
     "text": [
      "2021-01-26 05:43:56,373 Train Evaluator INFO: Engine run starting with max_epochs=1.\n",
      "2021-01-26 05:44:01,798 Train Evaluator INFO: Epoch[1] Complete. Time taken: 00:00:05\n",
      "2021-01-26 05:44:01,801 Train Evaluator INFO: Engine run complete. Time taken: 00:00:05\n",
      "2021-01-26 05:44:01,803 Val Evaluator INFO: Engine run starting with max_epochs=1.\n",
      "2021-01-26 05:44:03,782 Val Evaluator INFO: Epoch[1] Complete. Time taken: 00:00:02\n",
      "2021-01-26 05:44:05,131 Val Evaluator INFO: Engine run complete. Time taken: 00:00:03\n",
      "\u001b[34m\u001b[1mwandb\u001b[0m: \u001b[33mWARNING\u001b[0m Step must only increase in log calls.  Step 31 < 248; dropping {'lr/group_0': 0.001}.\n",
      "2021-01-26 05:44:05,142 Trainer INFO: Epoch[31] Complete. Time taken: 00:00:15\n"
     ]
    },
    {
     "name": "stdout",
     "output_type": "stream",
     "text": [
      "train loss 0.6963190067567597\n",
      "val loss 0.6904853620346943\n",
      "validation roc auc [0.67305141 0.54568043] 31\n",
      "train roc auc [0.76385528 0.7086045 ] 31\n"
     ]
    },
    {
     "name": "stderr",
     "output_type": "stream",
     "text": [
      "2021-01-26 05:44:10,794 Train Evaluator INFO: Engine run starting with max_epochs=1.\n",
      "2021-01-26 05:44:16,834 Train Evaluator INFO: Epoch[1] Complete. Time taken: 00:00:06\n",
      "2021-01-26 05:44:16,837 Train Evaluator INFO: Engine run complete. Time taken: 00:00:06\n",
      "2021-01-26 05:44:16,838 Val Evaluator INFO: Engine run starting with max_epochs=1.\n",
      "2021-01-26 05:44:18,813 Val Evaluator INFO: Epoch[1] Complete. Time taken: 00:00:02\n",
      "2021-01-26 05:44:20,238 Val Evaluator INFO: Engine run complete. Time taken: 00:00:03\n",
      "\u001b[34m\u001b[1mwandb\u001b[0m: \u001b[33mWARNING\u001b[0m Step must only increase in log calls.  Step 32 < 256; dropping {'lr/group_0': 0.001}.\n",
      "2021-01-26 05:44:20,251 Trainer INFO: Epoch[32] Complete. Time taken: 00:00:15\n"
     ]
    },
    {
     "name": "stdout",
     "output_type": "stream",
     "text": [
      "train loss 0.6930383243851672\n",
      "val loss 0.6889996923458804\n",
      "validation roc auc [0.63681592 0.56402905] 32\n",
      "train roc auc [0.77718491 0.70652443] 32\n"
     ]
    },
    {
     "name": "stderr",
     "output_type": "stream",
     "text": [
      "2021-01-26 05:44:26,305 Train Evaluator INFO: Engine run starting with max_epochs=1.\n",
      "2021-01-26 05:44:32,051 Train Evaluator INFO: Epoch[1] Complete. Time taken: 00:00:06\n",
      "2021-01-26 05:44:32,054 Train Evaluator INFO: Engine run complete. Time taken: 00:00:06\n",
      "2021-01-26 05:44:32,055 Val Evaluator INFO: Engine run starting with max_epochs=1.\n",
      "2021-01-26 05:44:34,213 Val Evaluator INFO: Epoch[1] Complete. Time taken: 00:00:02\n",
      "2021-01-26 05:44:34,214 Val Evaluator INFO: Engine run complete. Time taken: 00:00:02\n",
      "\u001b[34m\u001b[1mwandb\u001b[0m: \u001b[33mWARNING\u001b[0m Step must only increase in log calls.  Step 33 < 264; dropping {'lr/group_0': 0.001}.\n",
      "2021-01-26 05:44:34,221 Trainer INFO: Epoch[33] Complete. Time taken: 00:00:14\n"
     ]
    },
    {
     "name": "stdout",
     "output_type": "stream",
     "text": [
      "train loss 0.6885867172077071\n",
      "val loss 0.6871991692834599\n",
      "validation roc auc [0.57271973 0.47496177] 33\n",
      "train roc auc [0.83371682 0.66100997] 33\n"
     ]
    },
    {
     "name": "stderr",
     "output_type": "stream",
     "text": [
      "2021-01-26 05:44:41,046 Train Evaluator INFO: Engine run starting with max_epochs=1.\n",
      "2021-01-26 05:44:47,167 Train Evaluator INFO: Epoch[1] Complete. Time taken: 00:00:06\n",
      "2021-01-26 05:44:47,170 Train Evaluator INFO: Engine run complete. Time taken: 00:00:06\n",
      "2021-01-26 05:44:47,171 Val Evaluator INFO: Engine run starting with max_epochs=1.\n",
      "2021-01-26 05:44:49,551 Val Evaluator INFO: Epoch[1] Complete. Time taken: 00:00:02\n",
      "2021-01-26 05:44:49,553 Val Evaluator INFO: Engine run complete. Time taken: 00:00:02\n",
      "\u001b[34m\u001b[1mwandb\u001b[0m: \u001b[33mWARNING\u001b[0m Step must only increase in log calls.  Step 34 < 272; dropping {'lr/group_0': 0.001}.\n",
      "2021-01-26 05:44:49,560 Trainer INFO: Epoch[34] Complete. Time taken: 00:00:15\n"
     ]
    },
    {
     "name": "stdout",
     "output_type": "stream",
     "text": [
      "train loss 0.6829201081739272\n",
      "val loss 0.685068072407109\n",
      "validation roc auc [0.54394693 0.39430428] 34\n",
      "train roc auc [0.87931924 0.55694456] 34\n"
     ]
    },
    {
     "name": "stderr",
     "output_type": "stream",
     "text": [
      "2021-01-26 05:44:56,868 Train Evaluator INFO: Engine run starting with max_epochs=1.\n",
      "2021-01-26 05:45:05,576 Train Evaluator INFO: Epoch[1] Complete. Time taken: 00:00:09\n",
      "2021-01-26 05:45:05,579 Train Evaluator INFO: Engine run complete. Time taken: 00:00:09\n",
      "2021-01-26 05:45:05,580 Val Evaluator INFO: Engine run starting with max_epochs=1.\n",
      "2021-01-26 05:45:07,782 Val Evaluator INFO: Epoch[1] Complete. Time taken: 00:00:02\n",
      "2021-01-26 05:45:07,783 Val Evaluator INFO: Engine run complete. Time taken: 00:00:02\n",
      "\u001b[34m\u001b[1mwandb\u001b[0m: \u001b[33mWARNING\u001b[0m Step must only increase in log calls.  Step 35 < 280; dropping {'lr/group_0': 0.001}.\n",
      "2021-01-26 05:45:07,792 Trainer INFO: Epoch[35] Complete. Time taken: 00:00:18\n"
     ]
    },
    {
     "name": "stdout",
     "output_type": "stream",
     "text": [
      "train loss 0.6761305793178367\n",
      "val loss 0.6826581184271794\n",
      "validation roc auc [0.51252073 0.36659021] 35\n",
      "train roc auc [0.90621653 0.55745943] 35\n"
     ]
    },
    {
     "name": "stderr",
     "output_type": "stream",
     "text": [
      "2021-01-26 05:45:14,212 Train Evaluator INFO: Engine run starting with max_epochs=1.\n",
      "2021-01-26 05:45:20,977 Train Evaluator INFO: Epoch[1] Complete. Time taken: 00:00:07\n",
      "2021-01-26 05:45:20,979 Train Evaluator INFO: Engine run complete. Time taken: 00:00:07\n",
      "2021-01-26 05:45:20,980 Val Evaluator INFO: Engine run starting with max_epochs=1.\n",
      "2021-01-26 05:45:23,140 Val Evaluator INFO: Epoch[1] Complete. Time taken: 00:00:02\n",
      "2021-01-26 05:45:23,141 Val Evaluator INFO: Engine run complete. Time taken: 00:00:02\n",
      "\u001b[34m\u001b[1mwandb\u001b[0m: \u001b[33mWARNING\u001b[0m Step must only increase in log calls.  Step 36 < 288; dropping {'lr/group_0': 0.001}.\n",
      "2021-01-26 05:45:23,148 Trainer INFO: Epoch[36] Complete. Time taken: 00:00:15\n"
     ]
    },
    {
     "name": "stdout",
     "output_type": "stream",
     "text": [
      "train loss 0.6679439666743892\n",
      "val loss 0.6800205244380197\n",
      "validation roc auc [0.51873964 0.35149083] 36\n",
      "train roc auc [0.88102511 0.61016146] 36\n"
     ]
    },
    {
     "name": "stderr",
     "output_type": "stream",
     "text": [
      "2021-01-26 05:45:30,399 Train Evaluator INFO: Engine run starting with max_epochs=1.\n",
      "2021-01-26 05:45:37,873 Train Evaluator INFO: Epoch[1] Complete. Time taken: 00:00:07\n",
      "2021-01-26 05:45:37,875 Train Evaluator INFO: Engine run complete. Time taken: 00:00:07\n",
      "2021-01-26 05:45:37,876 Val Evaluator INFO: Engine run starting with max_epochs=1.\n",
      "2021-01-26 05:45:40,702 Val Evaluator INFO: Epoch[1] Complete. Time taken: 00:00:03\n",
      "2021-01-26 05:45:40,704 Val Evaluator INFO: Engine run complete. Time taken: 00:00:03\n",
      "\u001b[34m\u001b[1mwandb\u001b[0m: \u001b[33mWARNING\u001b[0m Step must only increase in log calls.  Step 37 < 296; dropping {'lr/group_0': 0.001}.\n",
      "2021-01-26 05:45:40,711 Trainer INFO: Epoch[37] Complete. Time taken: 00:00:18\n"
     ]
    },
    {
     "name": "stdout",
     "output_type": "stream",
     "text": [
      "train loss 0.6583643427082136\n",
      "val loss 0.6772019267082214\n",
      "validation roc auc [0.48723051 0.35168196] 37\n",
      "train roc auc [0.87235688 0.69946042] 37\n"
     ]
    },
    {
     "name": "stderr",
     "output_type": "stream",
     "text": [
      "2021-01-26 05:45:48,306 Train Evaluator INFO: Engine run starting with max_epochs=1.\n",
      "2021-01-26 05:45:55,661 Train Evaluator INFO: Epoch[1] Complete. Time taken: 00:00:07\n",
      "2021-01-26 05:45:55,664 Train Evaluator INFO: Engine run complete. Time taken: 00:00:07\n",
      "2021-01-26 05:45:55,665 Val Evaluator INFO: Engine run starting with max_epochs=1.\n",
      "2021-01-26 05:45:58,486 Val Evaluator INFO: Epoch[1] Complete. Time taken: 00:00:03\n",
      "2021-01-26 05:45:58,488 Val Evaluator INFO: Engine run complete. Time taken: 00:00:03\n",
      "\u001b[34m\u001b[1mwandb\u001b[0m: \u001b[33mWARNING\u001b[0m Step must only increase in log calls.  Step 38 < 304; dropping {'lr/group_0': 0.001}.\n",
      "2021-01-26 05:45:58,495 Trainer INFO: Epoch[38] Complete. Time taken: 00:00:18\n"
     ]
    },
    {
     "name": "stdout",
     "output_type": "stream",
     "text": [
      "train loss 0.6476454607541785\n",
      "val loss 0.674322985160123\n",
      "validation roc auc [0.47014925 0.35340214] 38\n",
      "train roc auc [0.86081247 0.74610759] 38\n"
     ]
    },
    {
     "name": "stderr",
     "output_type": "stream",
     "text": [
      "2021-01-26 05:46:06,618 Train Evaluator INFO: Engine run starting with max_epochs=1.\n",
      "2021-01-26 05:46:14,322 Train Evaluator INFO: Epoch[1] Complete. Time taken: 00:00:08\n",
      "2021-01-26 05:46:14,324 Train Evaluator INFO: Engine run complete. Time taken: 00:00:08\n",
      "2021-01-26 05:46:14,325 Val Evaluator INFO: Engine run starting with max_epochs=1.\n",
      "2021-01-26 05:46:16,827 Val Evaluator INFO: Epoch[1] Complete. Time taken: 00:00:03\n",
      "2021-01-26 05:46:16,829 Val Evaluator INFO: Engine run complete. Time taken: 00:00:03\n",
      "\u001b[34m\u001b[1mwandb\u001b[0m: \u001b[33mWARNING\u001b[0m Step must only increase in log calls.  Step 39 < 312; dropping {'lr/group_0': 0.001}.\n",
      "2021-01-26 05:46:16,837 Trainer INFO: Epoch[39] Complete. Time taken: 00:00:18\n"
     ]
    },
    {
     "name": "stdout",
     "output_type": "stream",
     "text": [
      "train loss 0.635778643856381\n",
      "val loss 0.6715262642331944\n",
      "validation roc auc [0.47446103 0.35244648] 39\n",
      "train roc auc [0.84668941 0.7736634 ] 39\n"
     ]
    },
    {
     "name": "stderr",
     "output_type": "stream",
     "text": [
      "2021-01-26 05:46:25,233 Train Evaluator INFO: Engine run starting with max_epochs=1.\n",
      "2021-01-26 05:46:32,949 Train Evaluator INFO: Epoch[1] Complete. Time taken: 00:00:08\n",
      "2021-01-26 05:46:32,952 Train Evaluator INFO: Engine run complete. Time taken: 00:00:08\n",
      "2021-01-26 05:46:32,953 Val Evaluator INFO: Engine run starting with max_epochs=1.\n",
      "2021-01-26 05:46:35,711 Val Evaluator INFO: Epoch[1] Complete. Time taken: 00:00:03\n",
      "2021-01-26 05:46:35,713 Val Evaluator INFO: Engine run complete. Time taken: 00:00:03\n",
      "\u001b[34m\u001b[1mwandb\u001b[0m: \u001b[33mWARNING\u001b[0m Step must only increase in log calls.  Step 40 < 320; dropping {'lr/group_0': 0.001}.\n",
      "2021-01-26 05:46:35,720 Trainer INFO: Epoch[40] Complete. Time taken: 00:00:19\n"
     ]
    },
    {
     "name": "stdout",
     "output_type": "stream",
     "text": [
      "train loss 0.62243315415185\n",
      "val loss 0.6689619824385188\n",
      "validation roc auc [0.47131012 0.35569572] 40\n",
      "train roc auc [0.83560122 0.80317571] 40\n"
     ]
    },
    {
     "name": "stderr",
     "output_type": "stream",
     "text": [
      "2021-01-26 05:46:43,680 Train Evaluator INFO: Engine run starting with max_epochs=1.\n",
      "2021-01-26 05:46:51,122 Train Evaluator INFO: Epoch[1] Complete. Time taken: 00:00:07\n",
      "2021-01-26 05:46:51,125 Train Evaluator INFO: Engine run complete. Time taken: 00:00:07\n",
      "2021-01-26 05:46:51,127 Val Evaluator INFO: Engine run starting with max_epochs=1.\n",
      "2021-01-26 05:46:53,738 Val Evaluator INFO: Epoch[1] Complete. Time taken: 00:00:03\n",
      "2021-01-26 05:46:53,739 Val Evaluator INFO: Engine run complete. Time taken: 00:00:03\n",
      "\u001b[34m\u001b[1mwandb\u001b[0m: \u001b[33mWARNING\u001b[0m Step must only increase in log calls.  Step 41 < 328; dropping {'lr/group_0': 0.001}.\n",
      "2021-01-26 05:46:53,746 Trainer INFO: Epoch[41] Complete. Time taken: 00:00:18\n"
     ]
    },
    {
     "name": "stdout",
     "output_type": "stream",
     "text": [
      "train loss 0.6074045822511311\n",
      "val loss 0.6667846589331414\n",
      "validation roc auc [0.45936982 0.35588685] 41\n",
      "train roc auc [0.83468878 0.82669495] 41\n"
     ]
    },
    {
     "name": "stderr",
     "output_type": "stream",
     "text": [
      "2021-01-26 05:47:02,144 Train Evaluator INFO: Engine run starting with max_epochs=1.\n",
      "2021-01-26 05:47:10,085 Train Evaluator INFO: Epoch[1] Complete. Time taken: 00:00:08\n",
      "2021-01-26 05:47:10,088 Train Evaluator INFO: Engine run complete. Time taken: 00:00:08\n",
      "2021-01-26 05:47:10,089 Val Evaluator INFO: Engine run starting with max_epochs=1.\n",
      "2021-01-26 05:47:12,360 Val Evaluator INFO: Epoch[1] Complete. Time taken: 00:00:02\n",
      "2021-01-26 05:47:12,362 Val Evaluator INFO: Engine run complete. Time taken: 00:00:02\n",
      "\u001b[34m\u001b[1mwandb\u001b[0m: \u001b[33mWARNING\u001b[0m Step must only increase in log calls.  Step 42 < 336; dropping {'lr/group_0': 0.001}.\n",
      "2021-01-26 05:47:12,370 Trainer INFO: Epoch[42] Complete. Time taken: 00:00:19\n"
     ]
    },
    {
     "name": "stdout",
     "output_type": "stream",
     "text": [
      "train loss 0.5910279546947521\n",
      "val loss 0.6650592510107975\n",
      "validation roc auc [0.44361526 0.36314985] 42\n",
      "train roc auc [0.82891657 0.84625999] 42\n"
     ]
    },
    {
     "name": "stderr",
     "output_type": "stream",
     "text": [
      "2021-01-26 05:47:20,715 Train Evaluator INFO: Engine run starting with max_epochs=1.\n",
      "2021-01-26 05:47:28,877 Train Evaluator INFO: Epoch[1] Complete. Time taken: 00:00:08\n",
      "2021-01-26 05:47:28,880 Train Evaluator INFO: Engine run complete. Time taken: 00:00:08\n",
      "2021-01-26 05:47:28,882 Val Evaluator INFO: Engine run starting with max_epochs=1.\n",
      "2021-01-26 05:47:31,502 Val Evaluator INFO: Epoch[1] Complete. Time taken: 00:00:03\n",
      "2021-01-26 05:47:31,504 Val Evaluator INFO: Engine run complete. Time taken: 00:00:03\n",
      "\u001b[34m\u001b[1mwandb\u001b[0m: \u001b[33mWARNING\u001b[0m Step must only increase in log calls.  Step 43 < 344; dropping {'lr/group_0': 0.001}.\n",
      "2021-01-26 05:47:31,511 Trainer INFO: Epoch[43] Complete. Time taken: 00:00:19\n"
     ]
    },
    {
     "name": "stdout",
     "output_type": "stream",
     "text": [
      "train loss 0.5726897290589243\n",
      "val loss 0.6639292236346348\n",
      "validation roc auc [0.43996683 0.36639908] 43\n",
      "train roc auc [0.8244932  0.85688689] 43\n"
     ]
    },
    {
     "name": "stderr",
     "output_type": "stream",
     "text": [
      "2021-01-26 05:47:40,140 Train Evaluator INFO: Engine run starting with max_epochs=1.\n",
      "2021-01-26 05:47:46,979 Train Evaluator INFO: Epoch[1] Complete. Time taken: 00:00:07\n",
      "2021-01-26 05:47:46,982 Train Evaluator INFO: Engine run complete. Time taken: 00:00:07\n",
      "2021-01-26 05:47:46,984 Val Evaluator INFO: Engine run starting with max_epochs=1.\n",
      "2021-01-26 05:47:49,845 Val Evaluator INFO: Epoch[1] Complete. Time taken: 00:00:03\n",
      "2021-01-26 05:47:49,847 Val Evaluator INFO: Engine run complete. Time taken: 00:00:03\n",
      "\u001b[34m\u001b[1mwandb\u001b[0m: \u001b[33mWARNING\u001b[0m Step must only increase in log calls.  Step 44 < 352; dropping {'lr/group_0': 0.001}.\n",
      "2021-01-26 05:47:49,854 Trainer INFO: Epoch[44] Complete. Time taken: 00:00:18\n"
     ]
    },
    {
     "name": "stdout",
     "output_type": "stream",
     "text": [
      "train loss 0.5539891618529177\n",
      "val loss 0.6634818706542823\n",
      "validation roc auc [0.43466003 0.37022171] 44\n",
      "train roc auc [0.81868132 0.86965566] 44\n"
     ]
    },
    {
     "name": "stderr",
     "output_type": "stream",
     "text": [
      "2021-01-26 05:47:57,695 Train Evaluator INFO: Engine run starting with max_epochs=1.\n",
      "2021-01-26 05:48:05,588 Train Evaluator INFO: Epoch[1] Complete. Time taken: 00:00:08\n",
      "2021-01-26 05:48:05,592 Train Evaluator INFO: Engine run complete. Time taken: 00:00:08\n",
      "2021-01-26 05:48:05,593 Val Evaluator INFO: Engine run starting with max_epochs=1.\n",
      "2021-01-26 05:48:07,919 Val Evaluator INFO: Epoch[1] Complete. Time taken: 00:00:02\n",
      "2021-01-26 05:48:07,920 Val Evaluator INFO: Engine run complete. Time taken: 00:00:02\n",
      "\u001b[34m\u001b[1mwandb\u001b[0m: \u001b[33mWARNING\u001b[0m Step must only increase in log calls.  Step 45 < 360; dropping {'lr/group_0': 0.001}.\n",
      "2021-01-26 05:48:07,927 Trainer INFO: Epoch[45] Complete. Time taken: 00:00:18\n"
     ]
    },
    {
     "name": "stdout",
     "output_type": "stream",
     "text": [
      "train loss 0.5341704873477712\n",
      "val loss 0.6640577130256944\n",
      "validation roc auc [0.43366501 0.37920489] 45\n",
      "train roc auc [0.82167652 0.88207431] 45\n"
     ]
    },
    {
     "name": "stderr",
     "output_type": "stream",
     "text": [
      "2021-01-26 05:48:16,082 Train Evaluator INFO: Engine run starting with max_epochs=1.\n",
      "2021-01-26 05:48:23,612 Train Evaluator INFO: Epoch[1] Complete. Time taken: 00:00:08\n",
      "2021-01-26 05:48:23,614 Train Evaluator INFO: Engine run complete. Time taken: 00:00:08\n",
      "2021-01-26 05:48:23,615 Val Evaluator INFO: Engine run starting with max_epochs=1.\n",
      "2021-01-26 05:48:26,319 Val Evaluator INFO: Epoch[1] Complete. Time taken: 00:00:03\n",
      "2021-01-26 05:48:26,321 Val Evaluator INFO: Engine run complete. Time taken: 00:00:03\n",
      "\u001b[34m\u001b[1mwandb\u001b[0m: \u001b[33mWARNING\u001b[0m Step must only increase in log calls.  Step 46 < 368; dropping {'lr/group_0': 0.001}.\n",
      "2021-01-26 05:48:26,328 Trainer INFO: Epoch[46] Complete. Time taken: 00:00:18\n"
     ]
    },
    {
     "name": "stdout",
     "output_type": "stream",
     "text": [
      "train loss 0.51365976603722\n",
      "val loss 0.6658786303678136\n",
      "validation roc auc [0.43897181 0.38474771] 46\n",
      "train roc auc [0.83201095 0.89607875] 46\n"
     ]
    },
    {
     "name": "stderr",
     "output_type": "stream",
     "text": [
      "2021-01-26 05:48:34,364 Train Evaluator INFO: Engine run starting with max_epochs=1.\n",
      "2021-01-26 05:48:41,036 Train Evaluator INFO: Epoch[1] Complete. Time taken: 00:00:07\n",
      "2021-01-26 05:48:41,039 Train Evaluator INFO: Engine run complete. Time taken: 00:00:07\n",
      "2021-01-26 05:48:41,040 Val Evaluator INFO: Engine run starting with max_epochs=1.\n",
      "2021-01-26 05:48:43,723 Val Evaluator INFO: Epoch[1] Complete. Time taken: 00:00:03\n",
      "2021-01-26 05:48:43,725 Val Evaluator INFO: Engine run complete. Time taken: 00:00:03\n",
      "\u001b[34m\u001b[1mwandb\u001b[0m: \u001b[33mWARNING\u001b[0m Step must only increase in log calls.  Step 47 < 376; dropping {'lr/group_0': 0.001}.\n",
      "2021-01-26 05:48:43,734 Trainer INFO: Epoch[47] Complete. Time taken: 00:00:17\n"
     ]
    },
    {
     "name": "stdout",
     "output_type": "stream",
     "text": [
      "train loss 0.4938053317968622\n",
      "val loss 0.6690111949944951\n",
      "validation roc auc [0.43781095 0.38742355] 47\n",
      "train roc auc [0.84571746 0.90629376] 47\n"
     ]
    },
    {
     "name": "stderr",
     "output_type": "stream",
     "text": [
      "2021-01-26 05:48:51,128 Train Evaluator INFO: Engine run starting with max_epochs=1.\n",
      "2021-01-26 05:48:58,719 Train Evaluator INFO: Epoch[1] Complete. Time taken: 00:00:08\n",
      "2021-01-26 05:48:58,723 Train Evaluator INFO: Engine run complete. Time taken: 00:00:08\n",
      "2021-01-26 05:48:58,724 Val Evaluator INFO: Engine run starting with max_epochs=1.\n",
      "2021-01-26 05:49:01,087 Val Evaluator INFO: Epoch[1] Complete. Time taken: 00:00:02\n",
      "2021-01-26 05:49:01,089 Val Evaluator INFO: Engine run complete. Time taken: 00:00:02\n",
      "\u001b[34m\u001b[1mwandb\u001b[0m: \u001b[33mWARNING\u001b[0m Step must only increase in log calls.  Step 48 < 384; dropping {'lr/group_0': 0.001}.\n",
      "2021-01-26 05:49:01,096 Trainer INFO: Epoch[48] Complete. Time taken: 00:00:17\n"
     ]
    },
    {
     "name": "stdout",
     "output_type": "stream",
     "text": [
      "train loss 0.4741726711165152\n",
      "val loss 0.673564992512867\n",
      "validation roc auc [0.44145937 0.39296636] 48\n",
      "train roc auc [0.85692466 0.91552022] 48\n"
     ]
    },
    {
     "name": "stderr",
     "output_type": "stream",
     "text": [
      "2021-01-26 05:49:09,108 Train Evaluator INFO: Engine run starting with max_epochs=1.\n",
      "2021-01-26 05:49:16,063 Train Evaluator INFO: Epoch[1] Complete. Time taken: 00:00:07\n",
      "2021-01-26 05:49:16,066 Train Evaluator INFO: Engine run complete. Time taken: 00:00:07\n",
      "2021-01-26 05:49:16,068 Val Evaluator INFO: Engine run starting with max_epochs=1.\n",
      "2021-01-26 05:49:18,255 Val Evaluator INFO: Epoch[1] Complete. Time taken: 00:00:02\n",
      "2021-01-26 05:49:18,257 Val Evaluator INFO: Engine run complete. Time taken: 00:00:02\n",
      "\u001b[34m\u001b[1mwandb\u001b[0m: \u001b[33mWARNING\u001b[0m Step must only increase in log calls.  Step 49 < 392; dropping {'lr/group_0': 0.001}.\n",
      "2021-01-26 05:49:18,264 Trainer INFO: Epoch[49] Complete. Time taken: 00:00:17\n"
     ]
    },
    {
     "name": "stdout",
     "output_type": "stream",
     "text": [
      "train loss 0.4551588439733634\n",
      "val loss 0.6795436967710021\n",
      "validation roc auc [0.44444444 0.40309633] 49\n",
      "train roc auc [0.86928234 0.92631189] 49\n"
     ]
    },
    {
     "name": "stderr",
     "output_type": "stream",
     "text": [
      "2021-01-26 05:49:24,817 Train Evaluator INFO: Engine run starting with max_epochs=1.\n",
      "2021-01-26 05:49:32,103 Train Evaluator INFO: Epoch[1] Complete. Time taken: 00:00:07\n",
      "2021-01-26 05:49:32,106 Train Evaluator INFO: Engine run complete. Time taken: 00:00:07\n",
      "2021-01-26 05:49:32,107 Val Evaluator INFO: Engine run starting with max_epochs=1.\n",
      "2021-01-26 05:49:34,505 Val Evaluator INFO: Epoch[1] Complete. Time taken: 00:00:02\n",
      "2021-01-26 05:49:34,507 Val Evaluator INFO: Engine run complete. Time taken: 00:00:02\n",
      "\u001b[34m\u001b[1mwandb\u001b[0m: \u001b[33mWARNING\u001b[0m Step must only increase in log calls.  Step 50 < 400; dropping {'lr/group_0': 0.001}.\n",
      "2021-01-26 05:49:34,515 Trainer INFO: Epoch[50] Complete. Time taken: 00:00:16\n"
     ]
    },
    {
     "name": "stdout",
     "output_type": "stream",
     "text": [
      "train loss 0.4368307898247164\n",
      "val loss 0.6867763172289368\n",
      "validation roc auc [0.44792703 0.40156728] 50\n",
      "train roc auc [0.88455588 0.93500288] 50\n"
     ]
    },
    {
     "name": "stderr",
     "output_type": "stream",
     "text": [
      "2021-01-26 05:49:40,361 Train Evaluator INFO: Engine run starting with max_epochs=1.\n",
      "2021-01-26 05:49:47,599 Train Evaluator INFO: Epoch[1] Complete. Time taken: 00:00:07\n",
      "2021-01-26 05:49:47,601 Train Evaluator INFO: Engine run complete. Time taken: 00:00:07\n",
      "2021-01-26 05:49:47,602 Val Evaluator INFO: Engine run starting with max_epochs=1.\n",
      "2021-01-26 05:49:49,984 Val Evaluator INFO: Epoch[1] Complete. Time taken: 00:00:02\n",
      "2021-01-26 05:49:49,986 Val Evaluator INFO: Engine run complete. Time taken: 00:00:02\n",
      "\u001b[34m\u001b[1mwandb\u001b[0m: \u001b[33mWARNING\u001b[0m Step must only increase in log calls.  Step 51 < 408; dropping {'lr/group_0': 0.001}.\n",
      "2021-01-26 05:49:49,993 Trainer INFO: Epoch[51] Complete. Time taken: 00:00:15\n"
     ]
    },
    {
     "name": "stdout",
     "output_type": "stream",
     "text": [
      "train loss 0.41919968337275104\n",
      "val loss 0.6944634492989559\n",
      "validation roc auc [0.44626866 0.39698012] 51\n",
      "train roc auc [0.90117824 0.94373507] 51\n"
     ]
    },
    {
     "name": "stderr",
     "output_type": "stream",
     "text": [
      "2021-01-26 05:49:55,815 Train Evaluator INFO: Engine run starting with max_epochs=1.\n",
      "2021-01-26 05:50:03,223 Train Evaluator INFO: Epoch[1] Complete. Time taken: 00:00:07\n",
      "2021-01-26 05:50:03,226 Train Evaluator INFO: Engine run complete. Time taken: 00:00:07\n",
      "2021-01-26 05:50:03,227 Val Evaluator INFO: Engine run starting with max_epochs=1.\n",
      "2021-01-26 05:50:05,404 Val Evaluator INFO: Epoch[1] Complete. Time taken: 00:00:02\n",
      "2021-01-26 05:50:05,406 Val Evaluator INFO: Engine run complete. Time taken: 00:00:02\n",
      "\u001b[34m\u001b[1mwandb\u001b[0m: \u001b[33mWARNING\u001b[0m Step must only increase in log calls.  Step 52 < 416; dropping {'lr/group_0': 0.001}.\n",
      "2021-01-26 05:50:05,413 Trainer INFO: Epoch[52] Complete. Time taken: 00:00:15\n"
     ]
    },
    {
     "name": "stdout",
     "output_type": "stream",
     "text": [
      "train loss 0.4019641352245231\n",
      "val loss 0.7026940922068942\n",
      "validation roc auc [0.45356551 0.40118502] 52\n",
      "train roc auc [0.91708652 0.95259082] 52\n"
     ]
    },
    {
     "name": "stderr",
     "output_type": "stream",
     "text": [
      "2021-01-26 05:50:12,693 Train Evaluator INFO: Engine run starting with max_epochs=1.\n",
      "2021-01-26 05:50:19,514 Train Evaluator INFO: Epoch[1] Complete. Time taken: 00:00:07\n",
      "2021-01-26 05:50:19,517 Train Evaluator INFO: Engine run complete. Time taken: 00:00:07\n",
      "2021-01-26 05:50:19,518 Val Evaluator INFO: Engine run starting with max_epochs=1.\n",
      "2021-01-26 05:50:21,861 Val Evaluator INFO: Epoch[1] Complete. Time taken: 00:00:02\n",
      "2021-01-26 05:50:21,862 Val Evaluator INFO: Engine run complete. Time taken: 00:00:02\n",
      "\u001b[34m\u001b[1mwandb\u001b[0m: \u001b[33mWARNING\u001b[0m Step must only increase in log calls.  Step 53 < 424; dropping {'lr/group_0': 0.001}.\n",
      "2021-01-26 05:50:21,870 Trainer INFO: Epoch[53] Complete. Time taken: 00:00:16\n"
     ]
    },
    {
     "name": "stdout",
     "output_type": "stream",
     "text": [
      "train loss 0.3850550930094875\n",
      "val loss 0.7120339244034639\n",
      "validation roc auc [0.45887231 0.41207951] 53\n",
      "train roc auc [0.92948387 0.96185847] 53\n"
     ]
    },
    {
     "name": "stderr",
     "output_type": "stream",
     "text": [
      "2021-01-26 05:50:29,057 Train Evaluator INFO: Engine run starting with max_epochs=1.\n",
      "2021-01-26 05:50:36,014 Train Evaluator INFO: Epoch[1] Complete. Time taken: 00:00:07\n",
      "2021-01-26 05:50:36,017 Train Evaluator INFO: Engine run complete. Time taken: 00:00:07\n",
      "2021-01-26 05:50:36,018 Val Evaluator INFO: Engine run starting with max_epochs=1.\n",
      "2021-01-26 05:50:38,032 Val Evaluator INFO: Epoch[1] Complete. Time taken: 00:00:02\n",
      "2021-01-26 05:50:38,033 Val Evaluator INFO: Engine run complete. Time taken: 00:00:02\n",
      "\u001b[34m\u001b[1mwandb\u001b[0m: \u001b[33mWARNING\u001b[0m Step must only increase in log calls.  Step 54 < 432; dropping {'lr/group_0': 0.001}.\n",
      "2021-01-26 05:50:38,041 Trainer INFO: Epoch[54] Complete. Time taken: 00:00:16\n"
     ]
    },
    {
     "name": "stdout",
     "output_type": "stream",
     "text": [
      "train loss 0.3679650364228583\n",
      "val loss 0.7210652266338373\n",
      "validation roc auc [0.45887231 0.42259174] 54\n",
      "train roc auc [0.94001666 0.97013757] 54\n"
     ]
    },
    {
     "name": "stderr",
     "output_type": "stream",
     "text": [
      "2021-01-26 05:50:46,302 Train Evaluator INFO: Engine run starting with max_epochs=1.\n",
      "2021-01-26 05:50:52,495 Train Evaluator INFO: Epoch[1] Complete. Time taken: 00:00:06\n",
      "2021-01-26 05:50:52,498 Train Evaluator INFO: Engine run complete. Time taken: 00:00:06\n",
      "2021-01-26 05:50:52,499 Val Evaluator INFO: Engine run starting with max_epochs=1.\n",
      "2021-01-26 05:50:55,115 Val Evaluator INFO: Epoch[1] Complete. Time taken: 00:00:03\n",
      "2021-01-26 05:50:55,117 Val Evaluator INFO: Engine run complete. Time taken: 00:00:03\n",
      "\u001b[34m\u001b[1mwandb\u001b[0m: \u001b[33mWARNING\u001b[0m Step must only increase in log calls.  Step 55 < 440; dropping {'lr/group_0': 0.001}.\n",
      "2021-01-26 05:50:55,124 Trainer INFO: Epoch[55] Complete. Time taken: 00:00:17\n"
     ]
    },
    {
     "name": "stdout",
     "output_type": "stream",
     "text": [
      "train loss 0.35071487896842374\n",
      "val loss 0.7305680741170409\n",
      "validation roc auc [0.45970149 0.43673547] 55\n",
      "train roc auc [0.95072797 0.97701623] 55\n"
     ]
    },
    {
     "name": "stderr",
     "output_type": "stream",
     "text": [
      "2021-01-26 05:51:02,666 Train Evaluator INFO: Engine run starting with max_epochs=1.\n",
      "2021-01-26 05:51:08,962 Train Evaluator INFO: Epoch[1] Complete. Time taken: 00:00:06\n",
      "2021-01-26 05:51:08,964 Train Evaluator INFO: Engine run complete. Time taken: 00:00:06\n",
      "2021-01-26 05:51:08,965 Val Evaluator INFO: Engine run starting with max_epochs=1.\n",
      "2021-01-26 05:51:11,633 Val Evaluator INFO: Epoch[1] Complete. Time taken: 00:00:03\n",
      "2021-01-26 05:51:11,635 Val Evaluator INFO: Engine run complete. Time taken: 00:00:03\n",
      "\u001b[34m\u001b[1mwandb\u001b[0m: \u001b[33mWARNING\u001b[0m Step must only increase in log calls.  Step 56 < 448; dropping {'lr/group_0': 0.001}.\n",
      "2021-01-26 05:51:11,643 Trainer INFO: Epoch[56] Complete. Time taken: 00:00:17\n"
     ]
    },
    {
     "name": "stdout",
     "output_type": "stream",
     "text": [
      "train loss 0.33395591689870247\n",
      "val loss 0.7403829762130786\n",
      "validation roc auc [0.46169154 0.44552752] 56\n",
      "train roc auc [0.95929702 0.98261801] 56\n"
     ]
    },
    {
     "name": "stderr",
     "output_type": "stream",
     "text": [
      "2021-01-26 05:51:16,982 Train Evaluator INFO: Engine run starting with max_epochs=1.\n",
      "2021-01-26 05:51:23,526 Train Evaluator INFO: Epoch[1] Complete. Time taken: 00:00:07\n",
      "2021-01-26 05:51:23,528 Train Evaluator INFO: Engine run complete. Time taken: 00:00:07\n",
      "2021-01-26 05:51:23,529 Val Evaluator INFO: Engine run starting with max_epochs=1.\n",
      "2021-01-26 05:51:26,220 Val Evaluator INFO: Epoch[1] Complete. Time taken: 00:00:03\n",
      "2021-01-26 05:51:26,223 Val Evaluator INFO: Engine run complete. Time taken: 00:00:03\n",
      "\u001b[34m\u001b[1mwandb\u001b[0m: \u001b[33mWARNING\u001b[0m Step must only increase in log calls.  Step 57 < 456; dropping {'lr/group_0': 0.001}.\n",
      "2021-01-26 05:51:26,231 Trainer INFO: Epoch[57] Complete. Time taken: 00:00:15\n"
     ]
    },
    {
     "name": "stdout",
     "output_type": "stream",
     "text": [
      "train loss 0.3173569370718563\n",
      "val loss 0.7483967538851841\n",
      "validation roc auc [0.46202322 0.46215596] 57\n",
      "train roc auc [0.96752886 0.9869841 ] 57\n"
     ]
    },
    {
     "name": "stderr",
     "output_type": "stream",
     "text": [
      "2021-01-26 05:51:32,608 Train Evaluator INFO: Engine run starting with max_epochs=1.\n",
      "2021-01-26 05:51:39,727 Train Evaluator INFO: Epoch[1] Complete. Time taken: 00:00:07\n",
      "2021-01-26 05:51:39,731 Train Evaluator INFO: Engine run complete. Time taken: 00:00:07\n",
      "2021-01-26 05:51:39,732 Val Evaluator INFO: Engine run starting with max_epochs=1.\n",
      "2021-01-26 05:51:42,051 Val Evaluator INFO: Epoch[1] Complete. Time taken: 00:00:02\n",
      "2021-01-26 05:51:42,053 Val Evaluator INFO: Engine run complete. Time taken: 00:00:02\n",
      "\u001b[34m\u001b[1mwandb\u001b[0m: \u001b[33mWARNING\u001b[0m Step must only increase in log calls.  Step 58 < 464; dropping {'lr/group_0': 0.001}.\n",
      "2021-01-26 05:51:42,060 Trainer INFO: Epoch[58] Complete. Time taken: 00:00:16\n"
     ]
    },
    {
     "name": "stdout",
     "output_type": "stream",
     "text": [
      "train loss 0.2995979295057409\n",
      "val loss 0.7575869469126318\n",
      "validation roc auc [0.46583748 0.47381498] 58\n",
      "train roc auc [0.97580037 0.99225636] 58\n"
     ]
    },
    {
     "name": "stderr",
     "output_type": "stream",
     "text": [
      "2021-01-26 05:51:49,189 Train Evaluator INFO: Engine run starting with max_epochs=1.\n",
      "2021-01-26 05:51:56,108 Train Evaluator INFO: Epoch[1] Complete. Time taken: 00:00:07\n",
      "2021-01-26 05:51:56,109 Train Evaluator INFO: Engine run complete. Time taken: 00:00:07\n",
      "2021-01-26 05:51:56,111 Val Evaluator INFO: Engine run starting with max_epochs=1.\n",
      "2021-01-26 05:51:58,269 Val Evaluator INFO: Epoch[1] Complete. Time taken: 00:00:02\n",
      "2021-01-26 05:51:58,271 Val Evaluator INFO: Engine run complete. Time taken: 00:00:02\n",
      "\u001b[34m\u001b[1mwandb\u001b[0m: \u001b[33mWARNING\u001b[0m Step must only increase in log calls.  Step 59 < 472; dropping {'lr/group_0': 0.001}.\n",
      "2021-01-26 05:51:58,280 Trainer INFO: Epoch[59] Complete. Time taken: 00:00:16\n"
     ]
    },
    {
     "name": "stdout",
     "output_type": "stream",
     "text": [
      "train loss 0.2813239574172658\n",
      "val loss 0.7670924610393063\n",
      "validation roc auc [0.47379768 0.48375382] 59\n",
      "train roc auc [0.98224699 0.99460417] 59\n"
     ]
    },
    {
     "name": "stderr",
     "output_type": "stream",
     "text": [
      "2021-01-26 05:52:05,048 Train Evaluator INFO: Engine run starting with max_epochs=1.\n",
      "2021-01-26 05:52:11,502 Train Evaluator INFO: Epoch[1] Complete. Time taken: 00:00:06\n",
      "2021-01-26 05:52:11,505 Train Evaluator INFO: Engine run complete. Time taken: 00:00:06\n",
      "2021-01-26 05:52:11,506 Val Evaluator INFO: Engine run starting with max_epochs=1.\n",
      "2021-01-26 05:52:14,310 Val Evaluator INFO: Epoch[1] Complete. Time taken: 00:00:03\n",
      "2021-01-26 05:52:14,311 Val Evaluator INFO: Engine run complete. Time taken: 00:00:03\n",
      "\u001b[34m\u001b[1mwandb\u001b[0m: \u001b[33mWARNING\u001b[0m Step must only increase in log calls.  Step 60 < 480; dropping {'lr/group_0': 0.001}.\n",
      "2021-01-26 05:52:14,319 Trainer INFO: Epoch[60] Complete. Time taken: 00:00:16\n"
     ]
    },
    {
     "name": "stdout",
     "output_type": "stream",
     "text": [
      "train loss 0.26319704771301583\n",
      "val loss 0.7794810913170979\n",
      "validation roc auc [0.48242123 0.49445719] 60\n",
      "train roc auc [0.98708692 0.99649889] 60\n"
     ]
    },
    {
     "name": "stderr",
     "output_type": "stream",
     "text": [
      "2021-01-26 05:52:22,977 Train Evaluator INFO: Engine run starting with max_epochs=1.\n",
      "2021-01-26 05:52:30,053 Train Evaluator INFO: Epoch[1] Complete. Time taken: 00:00:07\n",
      "2021-01-26 05:52:30,056 Train Evaluator INFO: Engine run complete. Time taken: 00:00:07\n",
      "2021-01-26 05:52:30,057 Val Evaluator INFO: Engine run starting with max_epochs=1.\n",
      "2021-01-26 05:52:33,328 Val Evaluator INFO: Epoch[1] Complete. Time taken: 00:00:03\n",
      "2021-01-26 05:52:33,330 Val Evaluator INFO: Engine run complete. Time taken: 00:00:03\n",
      "\u001b[34m\u001b[1mwandb\u001b[0m: \u001b[33mWARNING\u001b[0m Step must only increase in log calls.  Step 61 < 488; dropping {'lr/group_0': 0.001}.\n",
      "2021-01-26 05:52:33,338 Trainer INFO: Epoch[61] Complete. Time taken: 00:00:19\n"
     ]
    },
    {
     "name": "stdout",
     "output_type": "stream",
     "text": [
      "train loss 0.24505887945103488\n",
      "val loss 0.7919257841292461\n",
      "validation roc auc [0.49054726 0.49579511] 61\n",
      "train roc auc [0.99113342 0.99711673] 61\n"
     ]
    },
    {
     "name": "stderr",
     "output_type": "stream",
     "text": [
      "2021-01-26 05:52:39,445 Train Evaluator INFO: Engine run starting with max_epochs=1.\n",
      "2021-01-26 05:52:45,255 Train Evaluator INFO: Epoch[1] Complete. Time taken: 00:00:06\n",
      "2021-01-26 05:52:45,257 Train Evaluator INFO: Engine run complete. Time taken: 00:00:06\n",
      "2021-01-26 05:52:45,258 Val Evaluator INFO: Engine run starting with max_epochs=1.\n",
      "2021-01-26 05:52:47,647 Val Evaluator INFO: Epoch[1] Complete. Time taken: 00:00:02\n",
      "2021-01-26 05:52:47,649 Val Evaluator INFO: Engine run complete. Time taken: 00:00:02\n",
      "\u001b[34m\u001b[1mwandb\u001b[0m: \u001b[33mWARNING\u001b[0m Step must only increase in log calls.  Step 62 < 496; dropping {'lr/group_0': 0.001}.\n",
      "2021-01-26 05:52:47,656 Trainer INFO: Epoch[62] Complete. Time taken: 00:00:14\n"
     ]
    },
    {
     "name": "stdout",
     "output_type": "stream",
     "text": [
      "train loss 0.22695614955913526\n",
      "val loss 0.8077718573770706\n",
      "validation roc auc [0.49966833 0.49847095] 62\n",
      "train roc auc [0.99454517 0.99810528] 62\n"
     ]
    },
    {
     "name": "stderr",
     "output_type": "stream",
     "text": [
      "2021-01-26 05:52:54,364 Train Evaluator INFO: Engine run starting with max_epochs=1.\n",
      "2021-01-26 05:53:01,122 Train Evaluator INFO: Epoch[1] Complete. Time taken: 00:00:07\n",
      "2021-01-26 05:53:01,125 Train Evaluator INFO: Engine run complete. Time taken: 00:00:07\n",
      "2021-01-26 05:53:01,126 Val Evaluator INFO: Engine run starting with max_epochs=1.\n",
      "2021-01-26 05:53:03,561 Val Evaluator INFO: Epoch[1] Complete. Time taken: 00:00:02\n",
      "2021-01-26 05:53:03,563 Val Evaluator INFO: Engine run complete. Time taken: 00:00:02\n",
      "\u001b[34m\u001b[1mwandb\u001b[0m: \u001b[33mWARNING\u001b[0m Step must only increase in log calls.  Step 63 < 504; dropping {'lr/group_0': 0.001}.\n",
      "2021-01-26 05:53:03,570 Trainer INFO: Epoch[63] Complete. Time taken: 00:00:16\n"
     ]
    },
    {
     "name": "stdout",
     "output_type": "stream",
     "text": [
      "train loss 0.20919547225135604\n",
      "val loss 0.8244790131119406\n",
      "validation roc auc [0.50464345 0.49311927] 63\n",
      "train roc auc [0.99642956 0.99901145] 63\n"
     ]
    },
    {
     "name": "stderr",
     "output_type": "stream",
     "text": [
      "2021-01-26 05:53:09,864 Train Evaluator INFO: Engine run starting with max_epochs=1.\n",
      "2021-01-26 05:53:16,335 Train Evaluator INFO: Epoch[1] Complete. Time taken: 00:00:06\n",
      "2021-01-26 05:53:16,337 Train Evaluator INFO: Engine run complete. Time taken: 00:00:06\n",
      "2021-01-26 05:53:16,339 Val Evaluator INFO: Engine run starting with max_epochs=1.\n",
      "2021-01-26 05:53:18,652 Val Evaluator INFO: Epoch[1] Complete. Time taken: 00:00:02\n",
      "2021-01-26 05:53:18,653 Val Evaluator INFO: Engine run complete. Time taken: 00:00:02\n",
      "\u001b[34m\u001b[1mwandb\u001b[0m: \u001b[33mWARNING\u001b[0m Step must only increase in log calls.  Step 64 < 512; dropping {'lr/group_0': 0.001}.\n",
      "2021-01-26 05:53:18,661 Trainer INFO: Epoch[64] Complete. Time taken: 00:00:15\n"
     ]
    },
    {
     "name": "stdout",
     "output_type": "stream",
     "text": [
      "train loss 0.19367510336806312\n",
      "val loss 0.8429985486777725\n",
      "validation roc auc [0.50613599 0.49598624] 64\n",
      "train roc auc [0.99807593 0.9988055 ] 64\n"
     ]
    },
    {
     "name": "stderr",
     "output_type": "stream",
     "text": [
      "2021-01-26 05:53:26,266 Train Evaluator INFO: Engine run starting with max_epochs=1.\n",
      "2021-01-26 05:53:34,554 Train Evaluator INFO: Epoch[1] Complete. Time taken: 00:00:08\n",
      "2021-01-26 05:53:34,557 Train Evaluator INFO: Engine run complete. Time taken: 00:00:08\n",
      "2021-01-26 05:53:34,558 Val Evaluator INFO: Engine run starting with max_epochs=1.\n",
      "2021-01-26 05:53:37,317 Val Evaluator INFO: Epoch[1] Complete. Time taken: 00:00:03\n",
      "2021-01-26 05:53:37,320 Val Evaluator INFO: Engine run complete. Time taken: 00:00:03\n",
      "\u001b[34m\u001b[1mwandb\u001b[0m: \u001b[33mWARNING\u001b[0m Step must only increase in log calls.  Step 65 < 520; dropping {'lr/group_0': 0.001}.\n",
      "2021-01-26 05:53:37,327 Trainer INFO: Epoch[65] Complete. Time taken: 00:00:19\n"
     ]
    },
    {
     "name": "stdout",
     "output_type": "stream",
     "text": [
      "train loss 0.17814648151397705\n",
      "val loss 0.8647683319772125\n",
      "validation roc auc [0.50878939 0.5030581 ] 65\n",
      "train roc auc [0.99871068 0.99942335] 65\n"
     ]
    },
    {
     "name": "stderr",
     "output_type": "stream",
     "text": [
      "2021-01-26 05:53:44,351 Train Evaluator INFO: Engine run starting with max_epochs=1.\n",
      "2021-01-26 05:53:51,427 Train Evaluator INFO: Epoch[1] Complete. Time taken: 00:00:07\n",
      "2021-01-26 05:53:51,430 Train Evaluator INFO: Engine run complete. Time taken: 00:00:07\n",
      "2021-01-26 05:53:51,432 Val Evaluator INFO: Engine run starting with max_epochs=1.\n",
      "2021-01-26 05:53:53,824 Val Evaluator INFO: Epoch[1] Complete. Time taken: 00:00:02\n",
      "2021-01-26 05:53:53,826 Val Evaluator INFO: Engine run complete. Time taken: 00:00:02\n",
      "\u001b[34m\u001b[1mwandb\u001b[0m: \u001b[33mWARNING\u001b[0m Step must only increase in log calls.  Step 66 < 528; dropping {'lr/group_0': 0.001}.\n",
      "2021-01-26 05:53:53,833 Trainer INFO: Epoch[66] Complete. Time taken: 00:00:17\n"
     ]
    },
    {
     "name": "stdout",
     "output_type": "stream",
     "text": [
      "train loss 0.16327334937187063\n",
      "val loss 0.8879316149243883\n",
      "validation roc auc [0.51475954 0.51261468] 66\n",
      "train roc auc [0.99946443 0.99962929] 66\n"
     ]
    },
    {
     "name": "stderr",
     "output_type": "stream",
     "text": [
      "2021-01-26 05:54:00,719 Train Evaluator INFO: Engine run starting with max_epochs=1.\n",
      "2021-01-26 05:54:06,261 Train Evaluator INFO: Epoch[1] Complete. Time taken: 00:00:06\n",
      "2021-01-26 05:54:06,264 Train Evaluator INFO: Engine run complete. Time taken: 00:00:06\n",
      "2021-01-26 05:54:06,265 Val Evaluator INFO: Engine run starting with max_epochs=1.\n",
      "2021-01-26 05:54:08,153 Val Evaluator INFO: Epoch[1] Complete. Time taken: 00:00:02\n",
      "2021-01-26 05:54:08,155 Val Evaluator INFO: Engine run complete. Time taken: 00:00:02\n",
      "\u001b[34m\u001b[1mwandb\u001b[0m: \u001b[33mWARNING\u001b[0m Step must only increase in log calls.  Step 67 < 536; dropping {'lr/group_0': 0.001}.\n",
      "2021-01-26 05:54:08,164 Trainer INFO: Epoch[67] Complete. Time taken: 00:00:14\n"
     ]
    },
    {
     "name": "stdout",
     "output_type": "stream",
     "text": [
      "train loss 0.14956112167024924\n",
      "val loss 0.9125239188504067\n",
      "validation roc auc [0.51840796 0.52446483] 67\n",
      "train roc auc [0.99968263 0.99979405] 67\n"
     ]
    },
    {
     "name": "stderr",
     "output_type": "stream",
     "text": [
      "2021-01-26 05:54:14,043 Train Evaluator INFO: Engine run starting with max_epochs=1.\n",
      "2021-01-26 05:54:19,774 Train Evaluator INFO: Epoch[1] Complete. Time taken: 00:00:06\n",
      "2021-01-26 05:54:19,777 Train Evaluator INFO: Engine run complete. Time taken: 00:00:06\n",
      "2021-01-26 05:54:19,778 Val Evaluator INFO: Engine run starting with max_epochs=1.\n",
      "2021-01-26 05:54:21,663 Val Evaluator INFO: Epoch[1] Complete. Time taken: 00:00:02\n",
      "2021-01-26 05:54:23,098 Val Evaluator INFO: Engine run complete. Time taken: 00:00:03\n",
      "\u001b[34m\u001b[1mwandb\u001b[0m: \u001b[33mWARNING\u001b[0m Step must only increase in log calls.  Step 68 < 544; dropping {'lr/group_0': 0.001}.\n",
      "2021-01-26 05:54:23,110 Trainer INFO: Epoch[68] Complete. Time taken: 00:00:15\n"
     ]
    },
    {
     "name": "stdout",
     "output_type": "stream",
     "text": [
      "train loss 0.13820217290085646\n",
      "val loss 0.9418086477905322\n",
      "validation roc auc [0.53034826 0.53497706] 68\n",
      "train roc auc [0.99986115 0.99987643] 68\n"
     ]
    },
    {
     "name": "stderr",
     "output_type": "stream",
     "text": [
      "2021-01-26 05:54:28,686 Train Evaluator INFO: Engine run starting with max_epochs=1.\n",
      "2021-01-26 05:54:33,427 Train Evaluator INFO: Epoch[1] Complete. Time taken: 00:00:05\n",
      "2021-01-26 05:54:33,429 Train Evaluator INFO: Engine run complete. Time taken: 00:00:05\n",
      "2021-01-26 05:54:33,430 Val Evaluator INFO: Engine run starting with max_epochs=1.\n",
      "2021-01-26 05:54:35,268 Val Evaluator INFO: Epoch[1] Complete. Time taken: 00:00:02\n",
      "2021-01-26 05:54:36,727 Val Evaluator INFO: Engine run complete. Time taken: 00:00:03\n",
      "\u001b[34m\u001b[1mwandb\u001b[0m: \u001b[33mWARNING\u001b[0m Step must only increase in log calls.  Step 69 < 552; dropping {'lr/group_0': 0.001}.\n",
      "2021-01-26 05:54:36,741 Trainer INFO: Epoch[69] Complete. Time taken: 00:00:14\n"
     ]
    },
    {
     "name": "stdout",
     "output_type": "stream",
     "text": [
      "train loss 0.12757640346592547\n",
      "val loss 0.9768856274094552\n",
      "validation roc auc [0.54212272 0.53937309] 69\n",
      "train roc auc [0.99996033 1.        ] 69\n"
     ]
    },
    {
     "name": "stderr",
     "output_type": "stream",
     "text": [
      "2021-01-26 05:54:42,929 Train Evaluator INFO: Engine run starting with max_epochs=1.\n",
      "2021-01-26 05:54:48,241 Train Evaluator INFO: Epoch[1] Complete. Time taken: 00:00:05\n",
      "2021-01-26 05:54:48,244 Train Evaluator INFO: Engine run complete. Time taken: 00:00:05\n",
      "2021-01-26 05:54:48,245 Val Evaluator INFO: Engine run starting with max_epochs=1.\n",
      "2021-01-26 05:54:50,170 Val Evaluator INFO: Epoch[1] Complete. Time taken: 00:00:02\n",
      "2021-01-26 05:54:51,584 Val Evaluator INFO: Engine run complete. Time taken: 00:00:03\n",
      "\u001b[34m\u001b[1mwandb\u001b[0m: \u001b[33mWARNING\u001b[0m Step must only increase in log calls.  Step 70 < 560; dropping {'lr/group_0': 0.001}.\n",
      "2021-01-26 05:54:51,600 Trainer INFO: Epoch[70] Complete. Time taken: 00:00:15\n"
     ]
    },
    {
     "name": "stdout",
     "output_type": "stream",
     "text": [
      "train loss 0.11898477157995851\n",
      "val loss 1.0274779113234989\n",
      "validation roc auc [0.54925373 0.54682722] 70\n",
      "train roc auc [0.99998016 1.        ] 70\n"
     ]
    },
    {
     "name": "stderr",
     "output_type": "stream",
     "text": [
      "2021-01-26 05:54:57,763 Train Evaluator INFO: Engine run starting with max_epochs=1.\n",
      "2021-01-26 05:55:03,551 Train Evaluator INFO: Epoch[1] Complete. Time taken: 00:00:06\n",
      "2021-01-26 05:55:03,554 Train Evaluator INFO: Engine run complete. Time taken: 00:00:06\n",
      "2021-01-26 05:55:03,555 Val Evaluator INFO: Engine run starting with max_epochs=1.\n",
      "2021-01-26 05:55:05,551 Val Evaluator INFO: Epoch[1] Complete. Time taken: 00:00:02\n",
      "2021-01-26 05:55:07,032 Val Evaluator INFO: Engine run complete. Time taken: 00:00:03\n",
      "\u001b[34m\u001b[1mwandb\u001b[0m: \u001b[33mWARNING\u001b[0m Step must only increase in log calls.  Step 71 < 568; dropping {'lr/group_0': 0.001}.\n",
      "2021-01-26 05:55:07,044 Trainer INFO: Epoch[71] Complete. Time taken: 00:00:15\n"
     ]
    },
    {
     "name": "stdout",
     "output_type": "stream",
     "text": [
      "train loss 0.11187364714532635\n",
      "val loss 1.0812853992364968\n",
      "validation roc auc [0.56252073 0.54950306] 71\n",
      "train roc auc [1. 1.] 71\n"
     ]
    },
    {
     "name": "stderr",
     "output_type": "stream",
     "text": [
      "2021-01-26 05:55:13,273 Train Evaluator INFO: Engine run starting with max_epochs=1.\n",
      "2021-01-26 05:55:19,075 Train Evaluator INFO: Epoch[1] Complete. Time taken: 00:00:06\n",
      "2021-01-26 05:55:19,079 Train Evaluator INFO: Engine run complete. Time taken: 00:00:06\n",
      "2021-01-26 05:55:19,090 Val Evaluator INFO: Engine run starting with max_epochs=1.\n",
      "2021-01-26 05:55:21,555 Val Evaluator INFO: Epoch[1] Complete. Time taken: 00:00:02\n",
      "2021-01-26 05:55:23,066 Val Evaluator INFO: Engine run complete. Time taken: 00:00:04\n",
      "\u001b[34m\u001b[1mwandb\u001b[0m: \u001b[33mWARNING\u001b[0m Step must only increase in log calls.  Step 72 < 576; dropping {'lr/group_0': 0.001}.\n",
      "2021-01-26 05:55:23,080 Trainer INFO: Epoch[72] Complete. Time taken: 00:00:16\n"
     ]
    },
    {
     "name": "stdout",
     "output_type": "stream",
     "text": [
      "train loss 0.10657459817226156\n",
      "val loss 1.132385192403368\n",
      "validation roc auc [0.57313433 0.54988532] 72\n",
      "train roc auc [1. 1.] 72\n"
     ]
    },
    {
     "name": "stderr",
     "output_type": "stream",
     "text": [
      "2021-01-26 05:55:29,072 Train Evaluator INFO: Engine run starting with max_epochs=1.\n",
      "2021-01-26 05:55:34,908 Train Evaluator INFO: Epoch[1] Complete. Time taken: 00:00:06\n",
      "2021-01-26 05:55:34,911 Train Evaluator INFO: Engine run complete. Time taken: 00:00:06\n",
      "2021-01-26 05:55:34,912 Val Evaluator INFO: Engine run starting with max_epochs=1.\n",
      "2021-01-26 05:55:36,781 Val Evaluator INFO: Epoch[1] Complete. Time taken: 00:00:02\n",
      "2021-01-26 05:55:38,356 Val Evaluator INFO: Engine run complete. Time taken: 00:00:03\n",
      "\u001b[34m\u001b[1mwandb\u001b[0m: \u001b[33mWARNING\u001b[0m Step must only increase in log calls.  Step 73 < 584; dropping {'lr/group_0': 0.001}.\n",
      "2021-01-26 05:55:38,367 Trainer INFO: Epoch[73] Complete. Time taken: 00:00:15\n"
     ]
    },
    {
     "name": "stdout",
     "output_type": "stream",
     "text": [
      "train loss 0.10193802891928126\n",
      "val loss 1.1860216127079763\n",
      "validation roc auc [0.58689884 0.54950306] 73\n",
      "train roc auc [1. 1.] 73\n"
     ]
    },
    {
     "name": "stderr",
     "output_type": "stream",
     "text": [
      "2021-01-26 05:55:44,531 Train Evaluator INFO: Engine run starting with max_epochs=1.\n",
      "2021-01-26 05:55:50,663 Train Evaluator INFO: Epoch[1] Complete. Time taken: 00:00:06\n",
      "2021-01-26 05:55:50,666 Train Evaluator INFO: Engine run complete. Time taken: 00:00:06\n",
      "2021-01-26 05:55:50,667 Val Evaluator INFO: Engine run starting with max_epochs=1.\n",
      "2021-01-26 05:55:52,863 Val Evaluator INFO: Epoch[1] Complete. Time taken: 00:00:02\n",
      "2021-01-26 05:55:54,250 Val Evaluator INFO: Engine run complete. Time taken: 00:00:04\n",
      "\u001b[34m\u001b[1mwandb\u001b[0m: \u001b[33mWARNING\u001b[0m Step must only increase in log calls.  Step 74 < 592; dropping {'lr/group_0': 0.001}.\n",
      "2021-01-26 05:55:54,262 Trainer INFO: Epoch[74] Complete. Time taken: 00:00:16\n"
     ]
    },
    {
     "name": "stdout",
     "output_type": "stream",
     "text": [
      "train loss 0.09780037305713479\n",
      "val loss 1.2239783994711129\n",
      "validation roc auc [0.60099502 0.55084098] 74\n",
      "train roc auc [1. 1.] 74\n"
     ]
    },
    {
     "name": "stderr",
     "output_type": "stream",
     "text": [
      "2021-01-26 05:56:00,381 Train Evaluator INFO: Engine run starting with max_epochs=1.\n",
      "2021-01-26 05:56:05,746 Train Evaluator INFO: Epoch[1] Complete. Time taken: 00:00:05\n",
      "2021-01-26 05:56:05,747 Train Evaluator INFO: Engine run complete. Time taken: 00:00:05\n",
      "2021-01-26 05:56:05,748 Val Evaluator INFO: Engine run starting with max_epochs=1.\n",
      "2021-01-26 05:56:07,806 Val Evaluator INFO: Epoch[1] Complete. Time taken: 00:00:02\n",
      "2021-01-26 05:56:09,174 Val Evaluator INFO: Engine run complete. Time taken: 00:00:03\n",
      "\u001b[34m\u001b[1mwandb\u001b[0m: \u001b[33mWARNING\u001b[0m Step must only increase in log calls.  Step 75 < 600; dropping {'lr/group_0': 0.001}.\n",
      "2021-01-26 05:56:09,183 Trainer INFO: Epoch[75] Complete. Time taken: 00:00:15\n"
     ]
    },
    {
     "name": "stdout",
     "output_type": "stream",
     "text": [
      "train loss 0.09478102861406497\n",
      "val loss 1.2609142824343056\n",
      "validation roc auc [0.61243781 0.55619266] 75\n",
      "train roc auc [1. 1.] 75\n"
     ]
    },
    {
     "name": "stderr",
     "output_type": "stream",
     "text": [
      "2021-01-26 05:56:15,220 Train Evaluator INFO: Engine run starting with max_epochs=1.\n",
      "2021-01-26 05:56:20,450 Train Evaluator INFO: Epoch[1] Complete. Time taken: 00:00:05\n",
      "2021-01-26 05:56:20,453 Train Evaluator INFO: Engine run complete. Time taken: 00:00:05\n",
      "2021-01-26 05:56:20,454 Val Evaluator INFO: Engine run starting with max_epochs=1.\n",
      "2021-01-26 05:56:22,512 Val Evaluator INFO: Epoch[1] Complete. Time taken: 00:00:02\n",
      "2021-01-26 05:56:23,971 Val Evaluator INFO: Engine run complete. Time taken: 00:00:04\n",
      "\u001b[34m\u001b[1mwandb\u001b[0m: \u001b[33mWARNING\u001b[0m Step must only increase in log calls.  Step 76 < 608; dropping {'lr/group_0': 0.001}.\n",
      "2021-01-26 05:56:23,985 Trainer INFO: Epoch[76] Complete. Time taken: 00:00:15\n"
     ]
    },
    {
     "name": "stdout",
     "output_type": "stream",
     "text": [
      "train loss 0.09216638402871317\n",
      "val loss 1.308432169021315\n",
      "validation roc auc [0.61774461 0.56077982] 76\n",
      "train roc auc [1. 1.] 76\n"
     ]
    },
    {
     "name": "stderr",
     "output_type": "stream",
     "text": [
      "2021-01-26 05:56:30,660 Train Evaluator INFO: Engine run starting with max_epochs=1.\n",
      "2021-01-26 05:56:36,081 Train Evaluator INFO: Epoch[1] Complete. Time taken: 00:00:05\n",
      "2021-01-26 05:56:36,083 Train Evaluator INFO: Engine run complete. Time taken: 00:00:05\n",
      "2021-01-26 05:56:36,084 Val Evaluator INFO: Engine run starting with max_epochs=1.\n",
      "2021-01-26 05:56:38,475 Val Evaluator INFO: Epoch[1] Complete. Time taken: 00:00:02\n",
      "2021-01-26 05:56:39,833 Val Evaluator INFO: Engine run complete. Time taken: 00:00:04\n",
      "\u001b[34m\u001b[1mwandb\u001b[0m: \u001b[33mWARNING\u001b[0m Step must only increase in log calls.  Step 77 < 616; dropping {'lr/group_0': 0.001}.\n",
      "2021-01-26 05:56:39,847 Trainer INFO: Epoch[77] Complete. Time taken: 00:00:16\n"
     ]
    },
    {
     "name": "stdout",
     "output_type": "stream",
     "text": [
      "train loss 0.08985433677182998\n",
      "val loss 1.351456267059229\n",
      "validation roc auc [0.62686567 0.56479358] 77\n",
      "train roc auc [1. 1.] 77\n"
     ]
    },
    {
     "name": "stderr",
     "output_type": "stream",
     "text": [
      "2021-01-26 05:56:45,163 Train Evaluator INFO: Engine run starting with max_epochs=1.\n",
      "2021-01-26 05:56:50,395 Train Evaluator INFO: Epoch[1] Complete. Time taken: 00:00:05\n",
      "2021-01-26 05:56:50,398 Train Evaluator INFO: Engine run complete. Time taken: 00:00:05\n",
      "2021-01-26 05:56:50,399 Val Evaluator INFO: Engine run starting with max_epochs=1.\n",
      "2021-01-26 05:56:52,262 Val Evaluator INFO: Epoch[1] Complete. Time taken: 00:00:02\n",
      "2021-01-26 05:56:53,548 Val Evaluator INFO: Engine run complete. Time taken: 00:00:03\n",
      "\u001b[34m\u001b[1mwandb\u001b[0m: \u001b[33mWARNING\u001b[0m Step must only increase in log calls.  Step 78 < 624; dropping {'lr/group_0': 0.001}.\n",
      "2021-01-26 05:56:53,560 Trainer INFO: Epoch[78] Complete. Time taken: 00:00:14\n"
     ]
    },
    {
     "name": "stdout",
     "output_type": "stream",
     "text": [
      "train loss 0.08810909568029811\n",
      "val loss 1.3935256695291798\n",
      "validation roc auc [0.63167496 0.57320336] 78\n",
      "train roc auc [1. 1.] 78\n"
     ]
    },
    {
     "name": "stderr",
     "output_type": "stream",
     "text": [
      "2021-01-26 05:56:58,554 Train Evaluator INFO: Engine run starting with max_epochs=1.\n",
      "2021-01-26 05:57:03,983 Train Evaluator INFO: Epoch[1] Complete. Time taken: 00:00:05\n",
      "2021-01-26 05:57:03,985 Train Evaluator INFO: Engine run complete. Time taken: 00:00:05\n",
      "2021-01-26 05:57:03,986 Val Evaluator INFO: Engine run starting with max_epochs=1.\n",
      "2021-01-26 05:57:06,026 Val Evaluator INFO: Epoch[1] Complete. Time taken: 00:00:02\n",
      "2021-01-26 05:57:07,448 Val Evaluator INFO: Engine run complete. Time taken: 00:00:03\n",
      "\u001b[34m\u001b[1mwandb\u001b[0m: \u001b[33mWARNING\u001b[0m Step must only increase in log calls.  Step 79 < 632; dropping {'lr/group_0': 0.001}.\n",
      "2021-01-26 05:57:07,459 Trainer INFO: Epoch[79] Complete. Time taken: 00:00:14\n"
     ]
    },
    {
     "name": "stdout",
     "output_type": "stream",
     "text": [
      "train loss 0.08655739447390072\n",
      "val loss 1.4515588268352921\n",
      "validation roc auc [0.63515755 0.57683486] 79\n",
      "train roc auc [1. 1.] 79\n"
     ]
    },
    {
     "name": "stderr",
     "output_type": "stream",
     "text": [
      "2021-01-26 05:57:12,491 Train Evaluator INFO: Engine run starting with max_epochs=1.\n",
      "2021-01-26 05:57:18,479 Train Evaluator INFO: Epoch[1] Complete. Time taken: 00:00:06\n",
      "2021-01-26 05:57:18,481 Train Evaluator INFO: Engine run complete. Time taken: 00:00:06\n",
      "2021-01-26 05:57:18,482 Val Evaluator INFO: Engine run starting with max_epochs=1.\n",
      "2021-01-26 05:57:20,549 Val Evaluator INFO: Epoch[1] Complete. Time taken: 00:00:02\n",
      "2021-01-26 05:57:22,028 Val Evaluator INFO: Engine run complete. Time taken: 00:00:04\n",
      "\u001b[34m\u001b[1mwandb\u001b[0m: \u001b[33mWARNING\u001b[0m Step must only increase in log calls.  Step 80 < 640; dropping {'lr/group_0': 0.001}.\n",
      "2021-01-26 05:57:22,037 Trainer INFO: Epoch[80] Complete. Time taken: 00:00:15\n"
     ]
    },
    {
     "name": "stdout",
     "output_type": "stream",
     "text": [
      "train loss 0.08507248454104321\n",
      "val loss 1.5049619462080062\n",
      "validation roc auc [0.6358209  0.57912844] 80\n",
      "train roc auc [1. 1.] 80\n"
     ]
    },
    {
     "name": "stderr",
     "output_type": "stream",
     "text": [
      "2021-01-26 05:57:27,978 Train Evaluator INFO: Engine run starting with max_epochs=1.\n",
      "2021-01-26 05:57:33,388 Train Evaluator INFO: Epoch[1] Complete. Time taken: 00:00:05\n",
      "2021-01-26 05:57:33,390 Train Evaluator INFO: Engine run complete. Time taken: 00:00:05\n",
      "2021-01-26 05:57:33,392 Val Evaluator INFO: Engine run starting with max_epochs=1.\n",
      "2021-01-26 05:57:35,180 Val Evaluator INFO: Epoch[1] Complete. Time taken: 00:00:02\n",
      "2021-01-26 05:57:36,668 Val Evaluator INFO: Engine run complete. Time taken: 00:00:03\n",
      "\u001b[34m\u001b[1mwandb\u001b[0m: \u001b[33mWARNING\u001b[0m Step must only increase in log calls.  Step 81 < 648; dropping {'lr/group_0': 0.001}.\n",
      "2021-01-26 05:57:36,688 Trainer INFO: Epoch[81] Complete. Time taken: 00:00:15\n"
     ]
    },
    {
     "name": "stdout",
     "output_type": "stream",
     "text": [
      "train loss 0.08381048856152948\n",
      "val loss 1.5358994075447132\n",
      "validation roc auc [0.64063018 0.57836391] 81\n",
      "train roc auc [1. 1.] 81\n"
     ]
    },
    {
     "name": "stderr",
     "output_type": "stream",
     "text": [
      "2021-01-26 05:57:42,039 Train Evaluator INFO: Engine run starting with max_epochs=1.\n",
      "2021-01-26 05:57:48,063 Train Evaluator INFO: Epoch[1] Complete. Time taken: 00:00:06\n",
      "2021-01-26 05:57:48,066 Train Evaluator INFO: Engine run complete. Time taken: 00:00:06\n",
      "2021-01-26 05:57:48,067 Val Evaluator INFO: Engine run starting with max_epochs=1.\n",
      "2021-01-26 05:57:50,316 Val Evaluator INFO: Epoch[1] Complete. Time taken: 00:00:02\n",
      "2021-01-26 05:57:51,742 Val Evaluator INFO: Engine run complete. Time taken: 00:00:04\n",
      "\u001b[34m\u001b[1mwandb\u001b[0m: \u001b[33mWARNING\u001b[0m Step must only increase in log calls.  Step 82 < 656; dropping {'lr/group_0': 0.001}.\n",
      "2021-01-26 05:57:51,754 Trainer INFO: Epoch[82] Complete. Time taken: 00:00:15\n"
     ]
    },
    {
     "name": "stdout",
     "output_type": "stream",
     "text": [
      "train loss 0.08265451692483004\n",
      "val loss 1.560265200153278\n",
      "validation roc auc [0.64394693 0.58123089] 82\n",
      "train roc auc [1. 1.] 82\n"
     ]
    },
    {
     "name": "stderr",
     "output_type": "stream",
     "text": [
      "2021-01-26 05:57:58,480 Train Evaluator INFO: Engine run starting with max_epochs=1.\n",
      "2021-01-26 05:58:04,714 Train Evaluator INFO: Epoch[1] Complete. Time taken: 00:00:06\n",
      "2021-01-26 05:58:04,717 Train Evaluator INFO: Engine run complete. Time taken: 00:00:06\n",
      "2021-01-26 05:58:04,718 Val Evaluator INFO: Engine run starting with max_epochs=1.\n",
      "2021-01-26 05:58:06,446 Val Evaluator INFO: Epoch[1] Complete. Time taken: 00:00:02\n",
      "2021-01-26 05:58:07,873 Val Evaluator INFO: Engine run complete. Time taken: 00:00:03\n",
      "\u001b[34m\u001b[1mwandb\u001b[0m: \u001b[33mWARNING\u001b[0m Step must only increase in log calls.  Step 83 < 664; dropping {'lr/group_0': 0.001}.\n",
      "2021-01-26 05:58:07,886 Trainer INFO: Epoch[83] Complete. Time taken: 00:00:16\n"
     ]
    },
    {
     "name": "stdout",
     "output_type": "stream",
     "text": [
      "train loss 0.08156668557126018\n",
      "val loss 1.6044804617098183\n",
      "validation roc auc [0.64510779 0.58295107] 83\n",
      "train roc auc [1. 1.] 83\n"
     ]
    },
    {
     "name": "stderr",
     "output_type": "stream",
     "text": [
      "2021-01-26 05:58:14,981 Train Evaluator INFO: Engine run starting with max_epochs=1.\n",
      "2021-01-26 05:58:21,721 Train Evaluator INFO: Epoch[1] Complete. Time taken: 00:00:07\n",
      "2021-01-26 05:58:21,724 Train Evaluator INFO: Engine run complete. Time taken: 00:00:07\n",
      "2021-01-26 05:58:21,725 Val Evaluator INFO: Engine run starting with max_epochs=1.\n",
      "2021-01-26 05:58:23,956 Val Evaluator INFO: Epoch[1] Complete. Time taken: 00:00:02\n",
      "2021-01-26 05:58:25,443 Val Evaluator INFO: Engine run complete. Time taken: 00:00:04\n",
      "\u001b[34m\u001b[1mwandb\u001b[0m: \u001b[33mWARNING\u001b[0m Step must only increase in log calls.  Step 84 < 672; dropping {'lr/group_0': 0.001}.\n",
      "2021-01-26 05:58:25,455 Trainer INFO: Epoch[84] Complete. Time taken: 00:00:18\n"
     ]
    },
    {
     "name": "stdout",
     "output_type": "stream",
     "text": [
      "train loss 0.08056151216001552\n",
      "val loss 1.652230635570113\n",
      "validation roc auc [0.64560531 0.5831422 ] 84\n",
      "train roc auc [1. 1.] 84\n"
     ]
    },
    {
     "name": "stderr",
     "output_type": "stream",
     "text": [
      "2021-01-26 05:58:32,614 Train Evaluator INFO: Engine run starting with max_epochs=1.\n",
      "2021-01-26 05:58:40,477 Train Evaluator INFO: Epoch[1] Complete. Time taken: 00:00:08\n",
      "2021-01-26 05:58:40,480 Train Evaluator INFO: Engine run complete. Time taken: 00:00:08\n",
      "2021-01-26 05:58:40,481 Val Evaluator INFO: Engine run starting with max_epochs=1.\n",
      "2021-01-26 05:58:43,063 Val Evaluator INFO: Epoch[1] Complete. Time taken: 00:00:03\n",
      "2021-01-26 05:58:44,406 Val Evaluator INFO: Engine run complete. Time taken: 00:00:04\n",
      "\u001b[34m\u001b[1mwandb\u001b[0m: \u001b[33mWARNING\u001b[0m Step must only increase in log calls.  Step 85 < 680; dropping {'lr/group_0': 0.001}.\n",
      "2021-01-26 05:58:44,418 Trainer INFO: Epoch[85] Complete. Time taken: 00:00:19\n"
     ]
    },
    {
     "name": "stdout",
     "output_type": "stream",
     "text": [
      "train loss 0.07954972962927974\n",
      "val loss 1.6804418548656876\n",
      "validation roc auc [0.65174129 0.58180428] 85\n",
      "train roc auc [1. 1.] 85\n"
     ]
    },
    {
     "name": "stderr",
     "output_type": "stream",
     "text": [
      "2021-01-26 05:58:52,369 Train Evaluator INFO: Engine run starting with max_epochs=1.\n",
      "2021-01-26 05:58:59,128 Train Evaluator INFO: Epoch[1] Complete. Time taken: 00:00:07\n",
      "2021-01-26 05:58:59,131 Train Evaluator INFO: Engine run complete. Time taken: 00:00:07\n",
      "2021-01-26 05:58:59,132 Val Evaluator INFO: Engine run starting with max_epochs=1.\n",
      "2021-01-26 05:59:02,248 Val Evaluator INFO: Epoch[1] Complete. Time taken: 00:00:03\n",
      "2021-01-26 05:59:03,701 Val Evaluator INFO: Engine run complete. Time taken: 00:00:05\n",
      "\u001b[34m\u001b[1mwandb\u001b[0m: \u001b[33mWARNING\u001b[0m Step must only increase in log calls.  Step 86 < 688; dropping {'lr/group_0': 0.001}.\n",
      "2021-01-26 05:59:03,713 Trainer INFO: Epoch[86] Complete. Time taken: 00:00:19\n"
     ]
    },
    {
     "name": "stdout",
     "output_type": "stream",
     "text": [
      "train loss 0.07879376663848725\n",
      "val loss 1.6999768952655185\n",
      "validation roc auc [0.65605307 0.58027523] 86\n",
      "train roc auc [1. 1.] 86\n"
     ]
    },
    {
     "name": "stderr",
     "output_type": "stream",
     "text": [
      "2021-01-26 05:59:12,012 Train Evaluator INFO: Engine run starting with max_epochs=1.\n",
      "2021-01-26 05:59:19,518 Train Evaluator INFO: Epoch[1] Complete. Time taken: 00:00:08\n",
      "2021-01-26 05:59:19,521 Train Evaluator INFO: Engine run complete. Time taken: 00:00:08\n",
      "2021-01-26 05:59:19,522 Val Evaluator INFO: Engine run starting with max_epochs=1.\n",
      "2021-01-26 05:59:22,262 Val Evaluator INFO: Epoch[1] Complete. Time taken: 00:00:03\n",
      "2021-01-26 05:59:23,704 Val Evaluator INFO: Engine run complete. Time taken: 00:00:04\n",
      "\u001b[34m\u001b[1mwandb\u001b[0m: \u001b[33mWARNING\u001b[0m Step must only increase in log calls.  Step 87 < 696; dropping {'lr/group_0': 0.001}.\n",
      "2021-01-26 05:59:23,718 Trainer INFO: Epoch[87] Complete. Time taken: 00:00:20\n"
     ]
    },
    {
     "name": "stdout",
     "output_type": "stream",
     "text": [
      "train loss 0.07765478129480399\n",
      "val loss 1.7142776767159724\n",
      "validation roc auc [0.660199   0.58084862] 87\n",
      "train roc auc [1. 1.] 87\n"
     ]
    },
    {
     "name": "stderr",
     "output_type": "stream",
     "text": [
      "2021-01-26 05:59:31,326 Train Evaluator INFO: Engine run starting with max_epochs=1.\n",
      "2021-01-26 05:59:39,221 Train Evaluator INFO: Epoch[1] Complete. Time taken: 00:00:08\n",
      "2021-01-26 05:59:39,223 Train Evaluator INFO: Engine run complete. Time taken: 00:00:08\n",
      "2021-01-26 05:59:39,225 Val Evaluator INFO: Engine run starting with max_epochs=1.\n",
      "2021-01-26 05:59:41,855 Val Evaluator INFO: Epoch[1] Complete. Time taken: 00:00:03\n",
      "2021-01-26 05:59:43,473 Val Evaluator INFO: Engine run complete. Time taken: 00:00:04\n",
      "\u001b[34m\u001b[1mwandb\u001b[0m: \u001b[33mWARNING\u001b[0m Step must only increase in log calls.  Step 88 < 704; dropping {'lr/group_0': 0.001}.\n",
      "2021-01-26 05:59:43,484 Trainer INFO: Epoch[88] Complete. Time taken: 00:00:20\n"
     ]
    },
    {
     "name": "stdout",
     "output_type": "stream",
     "text": [
      "train loss 0.07679590365336092\n",
      "val loss 1.7252165496728982\n",
      "validation roc auc [0.66252073 0.58199541] 88\n",
      "train roc auc [1. 1.] 88\n"
     ]
    },
    {
     "name": "stderr",
     "output_type": "stream",
     "text": [
      "2021-01-26 05:59:51,977 Train Evaluator INFO: Engine run starting with max_epochs=1.\n",
      "2021-01-26 06:00:00,175 Train Evaluator INFO: Epoch[1] Complete. Time taken: 00:00:08\n",
      "2021-01-26 06:00:00,178 Train Evaluator INFO: Engine run complete. Time taken: 00:00:08\n",
      "2021-01-26 06:00:00,179 Val Evaluator INFO: Engine run starting with max_epochs=1.\n",
      "2021-01-26 06:00:03,015 Val Evaluator INFO: Epoch[1] Complete. Time taken: 00:00:03\n",
      "2021-01-26 06:00:04,471 Val Evaluator INFO: Engine run complete. Time taken: 00:00:04\n",
      "\u001b[34m\u001b[1mwandb\u001b[0m: \u001b[33mWARNING\u001b[0m Step must only increase in log calls.  Step 89 < 712; dropping {'lr/group_0': 0.001}.\n",
      "2021-01-26 06:00:04,483 Trainer INFO: Epoch[89] Complete. Time taken: 00:00:21\n"
     ]
    },
    {
     "name": "stdout",
     "output_type": "stream",
     "text": [
      "train loss 0.07587929240433998\n",
      "val loss 1.7465721285267242\n",
      "validation roc auc [0.6641791  0.58352446] 89\n",
      "train roc auc [1. 1.] 89\n"
     ]
    },
    {
     "name": "stderr",
     "output_type": "stream",
     "text": [
      "2021-01-26 06:00:12,555 Train Evaluator INFO: Engine run starting with max_epochs=1.\n",
      "2021-01-26 06:00:20,894 Train Evaluator INFO: Epoch[1] Complete. Time taken: 00:00:08\n",
      "2021-01-26 06:00:20,897 Train Evaluator INFO: Engine run complete. Time taken: 00:00:08\n",
      "2021-01-26 06:00:20,899 Val Evaluator INFO: Engine run starting with max_epochs=1.\n",
      "2021-01-26 06:00:23,393 Val Evaluator INFO: Epoch[1] Complete. Time taken: 00:00:02\n",
      "2021-01-26 06:00:24,776 Val Evaluator INFO: Engine run complete. Time taken: 00:00:04\n",
      "\u001b[34m\u001b[1mwandb\u001b[0m: \u001b[33mWARNING\u001b[0m Step must only increase in log calls.  Step 90 < 720; dropping {'lr/group_0': 0.001}.\n",
      "2021-01-26 06:00:24,787 Trainer INFO: Epoch[90] Complete. Time taken: 00:00:20\n"
     ]
    },
    {
     "name": "stdout",
     "output_type": "stream",
     "text": [
      "train loss 0.07497081712440208\n",
      "val loss 1.7651716554240815\n",
      "validation roc auc [0.66782753 0.58448012] 90\n",
      "train roc auc [1. 1.] 90\n"
     ]
    },
    {
     "name": "stderr",
     "output_type": "stream",
     "text": [
      "2021-01-26 06:00:32,166 Train Evaluator INFO: Engine run starting with max_epochs=1.\n",
      "2021-01-26 06:00:39,732 Train Evaluator INFO: Epoch[1] Complete. Time taken: 00:00:08\n",
      "2021-01-26 06:00:39,736 Train Evaluator INFO: Engine run complete. Time taken: 00:00:08\n",
      "2021-01-26 06:00:39,737 Val Evaluator INFO: Engine run starting with max_epochs=1.\n",
      "2021-01-26 06:00:42,869 Val Evaluator INFO: Epoch[1] Complete. Time taken: 00:00:03\n",
      "2021-01-26 06:00:44,280 Val Evaluator INFO: Engine run complete. Time taken: 00:00:05\n",
      "\u001b[34m\u001b[1mwandb\u001b[0m: \u001b[33mWARNING\u001b[0m Step must only increase in log calls.  Step 91 < 728; dropping {'lr/group_0': 0.001}.\n",
      "2021-01-26 06:00:44,294 Trainer INFO: Epoch[91] Complete. Time taken: 00:00:20\n"
     ]
    },
    {
     "name": "stdout",
     "output_type": "stream",
     "text": [
      "train loss 0.07406740961900724\n",
      "val loss 1.7925306034695572\n",
      "validation roc auc [0.67097844 0.58562691] 91\n",
      "train roc auc [1. 1.] 91\n"
     ]
    },
    {
     "name": "stderr",
     "output_type": "stream",
     "text": [
      "2021-01-26 06:00:52,619 Train Evaluator INFO: Engine run starting with max_epochs=1.\n",
      "2021-01-26 06:01:00,628 Train Evaluator INFO: Epoch[1] Complete. Time taken: 00:00:08\n",
      "2021-01-26 06:01:00,630 Train Evaluator INFO: Engine run complete. Time taken: 00:00:08\n",
      "2021-01-26 06:01:00,631 Val Evaluator INFO: Engine run starting with max_epochs=1.\n",
      "2021-01-26 06:01:03,687 Val Evaluator INFO: Epoch[1] Complete. Time taken: 00:00:03\n",
      "2021-01-26 06:01:04,966 Val Evaluator INFO: Engine run complete. Time taken: 00:00:04\n",
      "\u001b[34m\u001b[1mwandb\u001b[0m: \u001b[33mWARNING\u001b[0m Step must only increase in log calls.  Step 92 < 736; dropping {'lr/group_0': 0.001}.\n",
      "2021-01-26 06:01:04,980 Trainer INFO: Epoch[92] Complete. Time taken: 00:00:21\n"
     ]
    },
    {
     "name": "stdout",
     "output_type": "stream",
     "text": [
      "train loss 0.07315704125854185\n",
      "val loss 1.8085193102526818\n",
      "validation roc auc [0.673466   0.58715596] 92\n",
      "train roc auc [1. 1.] 92\n"
     ]
    },
    {
     "name": "stderr",
     "output_type": "stream",
     "text": [
      "2021-01-26 06:01:12,294 Train Evaluator INFO: Engine run starting with max_epochs=1.\n",
      "2021-01-26 06:01:19,129 Train Evaluator INFO: Epoch[1] Complete. Time taken: 00:00:07\n",
      "2021-01-26 06:01:19,132 Train Evaluator INFO: Engine run complete. Time taken: 00:00:07\n",
      "2021-01-26 06:01:19,133 Val Evaluator INFO: Engine run starting with max_epochs=1.\n",
      "2021-01-26 06:01:21,838 Val Evaluator INFO: Epoch[1] Complete. Time taken: 00:00:03\n",
      "2021-01-26 06:01:23,278 Val Evaluator INFO: Engine run complete. Time taken: 00:00:04\n",
      "\u001b[34m\u001b[1mwandb\u001b[0m: \u001b[33mWARNING\u001b[0m Step must only increase in log calls.  Step 93 < 744; dropping {'lr/group_0': 0.001}.\n",
      "2021-01-26 06:01:23,291 Trainer INFO: Epoch[93] Complete. Time taken: 00:00:18\n"
     ]
    },
    {
     "name": "stdout",
     "output_type": "stream",
     "text": [
      "train loss 0.07217139770197713\n",
      "val loss 1.8290010128810907\n",
      "validation roc auc [0.67645108 0.59059633] 93\n",
      "train roc auc [1. 1.] 93\n"
     ]
    },
    {
     "name": "stderr",
     "output_type": "stream",
     "text": [
      "2021-01-26 06:01:30,030 Train Evaluator INFO: Engine run starting with max_epochs=1.\n",
      "2021-01-26 06:01:37,857 Train Evaluator INFO: Epoch[1] Complete. Time taken: 00:00:08\n",
      "2021-01-26 06:01:37,859 Train Evaluator INFO: Engine run complete. Time taken: 00:00:08\n",
      "2021-01-26 06:01:37,861 Val Evaluator INFO: Engine run starting with max_epochs=1.\n",
      "2021-01-26 06:01:40,492 Val Evaluator INFO: Epoch[1] Complete. Time taken: 00:00:03\n",
      "2021-01-26 06:01:41,967 Val Evaluator INFO: Engine run complete. Time taken: 00:00:04\n",
      "\u001b[34m\u001b[1mwandb\u001b[0m: \u001b[33mWARNING\u001b[0m Step must only increase in log calls.  Step 94 < 752; dropping {'lr/group_0': 0.001}.\n",
      "2021-01-26 06:01:41,979 Trainer INFO: Epoch[94] Complete. Time taken: 00:00:19\n"
     ]
    },
    {
     "name": "stdout",
     "output_type": "stream",
     "text": [
      "train loss 0.07120197690000721\n",
      "val loss 1.8656582961416548\n",
      "validation roc auc [0.67993367 0.59231651] 94\n",
      "train roc auc [1. 1.] 94\n"
     ]
    },
    {
     "name": "stderr",
     "output_type": "stream",
     "text": [
      "2021-01-26 06:01:49,316 Train Evaluator INFO: Engine run starting with max_epochs=1.\n",
      "2021-01-26 06:01:55,541 Train Evaluator INFO: Epoch[1] Complete. Time taken: 00:00:06\n",
      "2021-01-26 06:01:55,542 Train Evaluator INFO: Engine run complete. Time taken: 00:00:06\n",
      "2021-01-26 06:01:55,543 Val Evaluator INFO: Engine run starting with max_epochs=1.\n",
      "2021-01-26 06:01:57,970 Val Evaluator INFO: Epoch[1] Complete. Time taken: 00:00:02\n",
      "2021-01-26 06:01:59,445 Val Evaluator INFO: Engine run complete. Time taken: 00:00:04\n",
      "\u001b[34m\u001b[1mwandb\u001b[0m: \u001b[33mWARNING\u001b[0m Step must only increase in log calls.  Step 95 < 760; dropping {'lr/group_0': 0.001}.\n",
      "2021-01-26 06:01:59,458 Trainer INFO: Epoch[95] Complete. Time taken: 00:00:17\n"
     ]
    },
    {
     "name": "stdout",
     "output_type": "stream",
     "text": [
      "train loss 0.07020679274513052\n",
      "val loss 1.904495564236003\n",
      "validation roc auc [0.68424544 0.5934633 ] 95\n",
      "train roc auc [1. 1.] 95\n"
     ]
    },
    {
     "name": "stderr",
     "output_type": "stream",
     "text": [
      "2021-01-26 06:02:06,744 Train Evaluator INFO: Engine run starting with max_epochs=1.\n",
      "2021-01-26 06:02:13,945 Train Evaluator INFO: Epoch[1] Complete. Time taken: 00:00:07\n",
      "2021-01-26 06:02:13,948 Train Evaluator INFO: Engine run complete. Time taken: 00:00:07\n",
      "2021-01-26 06:02:13,949 Val Evaluator INFO: Engine run starting with max_epochs=1.\n",
      "2021-01-26 06:02:16,267 Val Evaluator INFO: Epoch[1] Complete. Time taken: 00:00:02\n",
      "2021-01-26 06:02:17,800 Val Evaluator INFO: Engine run complete. Time taken: 00:00:04\n",
      "\u001b[34m\u001b[1mwandb\u001b[0m: \u001b[33mWARNING\u001b[0m Step must only increase in log calls.  Step 96 < 768; dropping {'lr/group_0': 0.001}.\n",
      "2021-01-26 06:02:17,813 Trainer INFO: Epoch[96] Complete. Time taken: 00:00:18\n"
     ]
    },
    {
     "name": "stdout",
     "output_type": "stream",
     "text": [
      "train loss 0.0691866452657579\n",
      "val loss 1.9297035165653107\n",
      "validation roc auc [0.69021559 0.5934633 ] 96\n",
      "train roc auc [1. 1.] 96\n"
     ]
    },
    {
     "name": "stderr",
     "output_type": "stream",
     "text": [
      "2021-01-26 06:02:25,013 Train Evaluator INFO: Engine run starting with max_epochs=1.\n",
      "2021-01-26 06:02:32,064 Train Evaluator INFO: Epoch[1] Complete. Time taken: 00:00:07\n",
      "2021-01-26 06:02:32,066 Train Evaluator INFO: Engine run complete. Time taken: 00:00:07\n",
      "2021-01-26 06:02:32,068 Val Evaluator INFO: Engine run starting with max_epochs=1.\n",
      "2021-01-26 06:02:33,921 Val Evaluator INFO: Epoch[1] Complete. Time taken: 00:00:02\n",
      "2021-01-26 06:02:35,611 Val Evaluator INFO: Engine run complete. Time taken: 00:00:04\n",
      "\u001b[34m\u001b[1mwandb\u001b[0m: \u001b[33mWARNING\u001b[0m Step must only increase in log calls.  Step 97 < 776; dropping {'lr/group_0': 0.001}.\n",
      "2021-01-26 06:02:35,624 Trainer INFO: Epoch[97] Complete. Time taken: 00:00:18\n"
     ]
    },
    {
     "name": "stdout",
     "output_type": "stream",
     "text": [
      "train loss 0.06813294545205589\n",
      "val loss 1.968893679084292\n",
      "validation roc auc [0.69104478 0.59250765] 97\n",
      "train roc auc [1. 1.] 97\n"
     ]
    },
    {
     "name": "stderr",
     "output_type": "stream",
     "text": [
      "2021-01-26 06:02:43,816 Train Evaluator INFO: Engine run starting with max_epochs=1.\n",
      "2021-01-26 06:02:50,905 Train Evaluator INFO: Epoch[1] Complete. Time taken: 00:00:07\n",
      "2021-01-26 06:02:50,907 Train Evaluator INFO: Engine run complete. Time taken: 00:00:07\n",
      "2021-01-26 06:02:50,908 Val Evaluator INFO: Engine run starting with max_epochs=1.\n",
      "2021-01-26 06:02:53,318 Val Evaluator INFO: Epoch[1] Complete. Time taken: 00:00:02\n",
      "2021-01-26 06:02:55,077 Val Evaluator INFO: Engine run complete. Time taken: 00:00:04\n",
      "\u001b[34m\u001b[1mwandb\u001b[0m: \u001b[33mWARNING\u001b[0m Step must only increase in log calls.  Step 98 < 784; dropping {'lr/group_0': 0.001}.\n",
      "2021-01-26 06:02:55,089 Trainer INFO: Epoch[98] Complete. Time taken: 00:00:19\n"
     ]
    },
    {
     "name": "stdout",
     "output_type": "stream",
     "text": [
      "train loss 0.06698965880216337\n",
      "val loss 2.013280336264592\n",
      "validation roc auc [0.69286899 0.59308104] 98\n",
      "train roc auc [1. 1.] 98\n"
     ]
    },
    {
     "name": "stderr",
     "output_type": "stream",
     "text": [
      "2021-01-26 06:03:01,541 Train Evaluator INFO: Engine run starting with max_epochs=1.\n",
      "2021-01-26 06:03:08,631 Train Evaluator INFO: Epoch[1] Complete. Time taken: 00:00:07\n",
      "2021-01-26 06:03:08,634 Train Evaluator INFO: Engine run complete. Time taken: 00:00:07\n",
      "2021-01-26 06:03:08,635 Val Evaluator INFO: Engine run starting with max_epochs=1.\n",
      "2021-01-26 06:03:11,356 Val Evaluator INFO: Epoch[1] Complete. Time taken: 00:00:03\n",
      "2021-01-26 06:03:13,205 Val Evaluator INFO: Engine run complete. Time taken: 00:00:05\n",
      "\u001b[34m\u001b[1mwandb\u001b[0m: \u001b[33mWARNING\u001b[0m Step must only increase in log calls.  Step 99 < 792; dropping {'lr/group_0': 0.001}.\n",
      "2021-01-26 06:03:13,222 Trainer INFO: Epoch[99] Complete. Time taken: 00:00:18\n"
     ]
    },
    {
     "name": "stdout",
     "output_type": "stream",
     "text": [
      "train loss 0.0659005240433746\n",
      "val loss 2.0377883182209766\n",
      "validation roc auc [0.69751244 0.59518349] 99\n",
      "train roc auc [1. 1.] 99\n"
     ]
    },
    {
     "name": "stderr",
     "output_type": "stream",
     "text": [
      "2021-01-26 06:03:20,230 Train Evaluator INFO: Engine run starting with max_epochs=1.\n",
      "2021-01-26 06:03:26,735 Train Evaluator INFO: Epoch[1] Complete. Time taken: 00:00:07\n",
      "2021-01-26 06:03:26,739 Train Evaluator INFO: Engine run complete. Time taken: 00:00:07\n",
      "2021-01-26 06:03:26,740 Val Evaluator INFO: Engine run starting with max_epochs=1.\n",
      "2021-01-26 06:03:28,853 Val Evaluator INFO: Epoch[1] Complete. Time taken: 00:00:02\n",
      "2021-01-26 06:03:30,330 Val Evaluator INFO: Engine run complete. Time taken: 00:00:04\n",
      "\u001b[34m\u001b[1mwandb\u001b[0m: \u001b[33mWARNING\u001b[0m Step must only increase in log calls.  Step 100 < 800; dropping {'lr/group_0': 0.001}.\n",
      "2021-01-26 06:03:30,347 Trainer INFO: Epoch[100] Complete. Time taken: 00:00:17\n"
     ]
    },
    {
     "name": "stdout",
     "output_type": "stream",
     "text": [
      "train loss 0.06473266852772054\n",
      "val loss 2.055760327418139\n",
      "validation roc auc [0.69983416 0.60244648] 100\n",
      "train roc auc [1. 1.] 100\n"
     ]
    },
    {
     "name": "stderr",
     "output_type": "stream",
     "text": [
      "2021-01-26 06:03:37,293 Train Evaluator INFO: Engine run starting with max_epochs=1.\n",
      "2021-01-26 06:03:43,639 Train Evaluator INFO: Epoch[1] Complete. Time taken: 00:00:06\n",
      "2021-01-26 06:03:43,642 Train Evaluator INFO: Engine run complete. Time taken: 00:00:06\n",
      "2021-01-26 06:03:43,644 Val Evaluator INFO: Engine run starting with max_epochs=1.\n",
      "2021-01-26 06:03:45,414 Val Evaluator INFO: Epoch[1] Complete. Time taken: 00:00:02\n",
      "2021-01-26 06:03:46,780 Val Evaluator INFO: Engine run complete. Time taken: 00:00:03\n",
      "\u001b[34m\u001b[1mwandb\u001b[0m: \u001b[33mWARNING\u001b[0m Step must only increase in log calls.  Step 101 < 808; dropping {'lr/group_0': 0.001}.\n",
      "2021-01-26 06:03:46,794 Trainer INFO: Epoch[101] Complete. Time taken: 00:00:16\n"
     ]
    },
    {
     "name": "stdout",
     "output_type": "stream",
     "text": [
      "train loss 0.06358548265137184\n",
      "val loss 2.076776361769172\n",
      "validation roc auc [0.70033167 0.60703364] 101\n",
      "train roc auc [1. 1.] 101\n"
     ]
    },
    {
     "name": "stderr",
     "output_type": "stream",
     "text": [
      "2021-01-26 06:03:53,577 Train Evaluator INFO: Engine run starting with max_epochs=1.\n",
      "2021-01-26 06:04:00,613 Train Evaluator INFO: Epoch[1] Complete. Time taken: 00:00:07\n",
      "2021-01-26 06:04:00,615 Train Evaluator INFO: Engine run complete. Time taken: 00:00:07\n",
      "2021-01-26 06:04:00,616 Val Evaluator INFO: Engine run starting with max_epochs=1.\n",
      "2021-01-26 06:04:02,854 Val Evaluator INFO: Epoch[1] Complete. Time taken: 00:00:02\n",
      "2021-01-26 06:04:04,165 Val Evaluator INFO: Engine run complete. Time taken: 00:00:04\n",
      "\u001b[34m\u001b[1mwandb\u001b[0m: \u001b[33mWARNING\u001b[0m Step must only increase in log calls.  Step 102 < 816; dropping {'lr/group_0': 0.001}.\n",
      "2021-01-26 06:04:04,176 Trainer INFO: Epoch[102] Complete. Time taken: 00:00:17\n"
     ]
    },
    {
     "name": "stdout",
     "output_type": "stream",
     "text": [
      "train loss 0.06238388400808918\n",
      "val loss 2.05052319757498\n",
      "validation roc auc [0.70066335 0.6079893 ] 102\n",
      "train roc auc [1. 1.] 102\n"
     ]
    },
    {
     "name": "stderr",
     "output_type": "stream",
     "text": [
      "2021-01-26 06:04:11,385 Train Evaluator INFO: Engine run starting with max_epochs=1.\n",
      "2021-01-26 06:04:17,174 Train Evaluator INFO: Epoch[1] Complete. Time taken: 00:00:06\n",
      "2021-01-26 06:04:17,176 Train Evaluator INFO: Engine run complete. Time taken: 00:00:06\n",
      "2021-01-26 06:04:17,178 Val Evaluator INFO: Engine run starting with max_epochs=1.\n",
      "2021-01-26 06:04:19,839 Val Evaluator INFO: Epoch[1] Complete. Time taken: 00:00:03\n",
      "2021-01-26 06:04:21,270 Val Evaluator INFO: Engine run complete. Time taken: 00:00:04\n",
      "\u001b[34m\u001b[1mwandb\u001b[0m: \u001b[33mWARNING\u001b[0m Step must only increase in log calls.  Step 103 < 824; dropping {'lr/group_0': 0.001}.\n",
      "2021-01-26 06:04:21,284 Trainer INFO: Epoch[103] Complete. Time taken: 00:00:17\n"
     ]
    },
    {
     "name": "stdout",
     "output_type": "stream",
     "text": [
      "train loss 0.06116069005984886\n",
      "val loss 2.060895885631537\n",
      "validation roc auc [0.70182421 0.60894495] 103\n",
      "train roc auc [1. 1.] 103\n"
     ]
    },
    {
     "name": "stderr",
     "output_type": "stream",
     "text": [
      "2021-01-26 06:04:28,696 Train Evaluator INFO: Engine run starting with max_epochs=1.\n",
      "2021-01-26 06:04:35,432 Train Evaluator INFO: Epoch[1] Complete. Time taken: 00:00:07\n",
      "2021-01-26 06:04:35,435 Train Evaluator INFO: Engine run complete. Time taken: 00:00:07\n",
      "2021-01-26 06:04:35,437 Val Evaluator INFO: Engine run starting with max_epochs=1.\n",
      "2021-01-26 06:04:37,311 Val Evaluator INFO: Epoch[1] Complete. Time taken: 00:00:02\n",
      "2021-01-26 06:04:38,712 Val Evaluator INFO: Engine run complete. Time taken: 00:00:03\n",
      "\u001b[34m\u001b[1mwandb\u001b[0m: \u001b[33mWARNING\u001b[0m Step must only increase in log calls.  Step 104 < 832; dropping {'lr/group_0': 0.001}.\n",
      "2021-01-26 06:04:38,725 Trainer INFO: Epoch[104] Complete. Time taken: 00:00:17\n"
     ]
    },
    {
     "name": "stdout",
     "output_type": "stream",
     "text": [
      "train loss 0.059762696603674254\n",
      "val loss 2.102638549865431\n",
      "validation roc auc [0.70315091 0.61238532] 104\n",
      "train roc auc [1. 1.] 104\n"
     ]
    },
    {
     "name": "stderr",
     "output_type": "stream",
     "text": [
      "2021-01-26 06:04:46,071 Train Evaluator INFO: Engine run starting with max_epochs=1.\n",
      "2021-01-26 06:04:53,170 Train Evaluator INFO: Epoch[1] Complete. Time taken: 00:00:07\n",
      "2021-01-26 06:04:53,172 Train Evaluator INFO: Engine run complete. Time taken: 00:00:07\n",
      "2021-01-26 06:04:53,174 Val Evaluator INFO: Engine run starting with max_epochs=1.\n",
      "2021-01-26 06:04:55,764 Val Evaluator INFO: Epoch[1] Complete. Time taken: 00:00:03\n",
      "2021-01-26 06:04:57,440 Val Evaluator INFO: Engine run complete. Time taken: 00:00:04\n",
      "\u001b[34m\u001b[1mwandb\u001b[0m: \u001b[33mWARNING\u001b[0m Step must only increase in log calls.  Step 105 < 840; dropping {'lr/group_0': 0.001}.\n",
      "2021-01-26 06:04:57,452 Trainer INFO: Epoch[105] Complete. Time taken: 00:00:19\n"
     ]
    },
    {
     "name": "stdout",
     "output_type": "stream",
     "text": [
      "train loss 0.05837972355044745\n",
      "val loss 2.1368424467220426\n",
      "validation roc auc [0.7026534  0.61448777] 105\n",
      "train roc auc [1. 1.] 105\n"
     ]
    },
    {
     "name": "stderr",
     "output_type": "stream",
     "text": [
      "2021-01-26 06:05:05,763 Train Evaluator INFO: Engine run starting with max_epochs=1.\n",
      "2021-01-26 06:05:13,099 Train Evaluator INFO: Epoch[1] Complete. Time taken: 00:00:07\n",
      "2021-01-26 06:05:13,102 Train Evaluator INFO: Engine run complete. Time taken: 00:00:07\n",
      "2021-01-26 06:05:13,104 Val Evaluator INFO: Engine run starting with max_epochs=1.\n",
      "2021-01-26 06:05:15,418 Val Evaluator INFO: Epoch[1] Complete. Time taken: 00:00:02\n",
      "2021-01-26 06:05:17,039 Val Evaluator INFO: Engine run complete. Time taken: 00:00:04\n",
      "\u001b[34m\u001b[1mwandb\u001b[0m: \u001b[33mWARNING\u001b[0m Step must only increase in log calls.  Step 106 < 848; dropping {'lr/group_0': 0.001}.\n",
      "2021-01-26 06:05:17,052 Trainer INFO: Epoch[106] Complete. Time taken: 00:00:20\n"
     ]
    },
    {
     "name": "stdout",
     "output_type": "stream",
     "text": [
      "train loss 0.05693572413882399\n",
      "val loss 2.1443596091240074\n",
      "validation roc auc [0.70248756 0.61716361] 106\n",
      "train roc auc [1. 1.] 106\n"
     ]
    },
    {
     "name": "stderr",
     "output_type": "stream",
     "text": [
      "2021-01-26 06:05:23,637 Train Evaluator INFO: Engine run starting with max_epochs=1.\n",
      "2021-01-26 06:05:30,637 Train Evaluator INFO: Epoch[1] Complete. Time taken: 00:00:07\n",
      "2021-01-26 06:05:30,640 Train Evaluator INFO: Engine run complete. Time taken: 00:00:07\n",
      "2021-01-26 06:05:30,642 Val Evaluator INFO: Engine run starting with max_epochs=1.\n",
      "2021-01-26 06:05:32,701 Val Evaluator INFO: Epoch[1] Complete. Time taken: 00:00:02\n",
      "2021-01-26 06:05:34,389 Val Evaluator INFO: Engine run complete. Time taken: 00:00:04\n",
      "\u001b[34m\u001b[1mwandb\u001b[0m: \u001b[33mWARNING\u001b[0m Step must only increase in log calls.  Step 107 < 856; dropping {'lr/group_0': 0.001}.\n",
      "2021-01-26 06:05:34,402 Trainer INFO: Epoch[107] Complete. Time taken: 00:00:17\n"
     ]
    },
    {
     "name": "stdout",
     "output_type": "stream",
     "text": [
      "train loss 0.055363322184106625\n",
      "val loss 2.167181373401812\n",
      "validation roc auc [0.7026534  0.61525229] 107\n",
      "train roc auc [1. 1.] 107\n"
     ]
    },
    {
     "name": "stderr",
     "output_type": "stream",
     "text": [
      "2021-01-26 06:05:40,208 Train Evaluator INFO: Engine run starting with max_epochs=1.\n",
      "2021-01-26 06:05:46,678 Train Evaluator INFO: Epoch[1] Complete. Time taken: 00:00:06\n",
      "2021-01-26 06:05:46,680 Train Evaluator INFO: Engine run complete. Time taken: 00:00:06\n",
      "2021-01-26 06:05:46,682 Val Evaluator INFO: Engine run starting with max_epochs=1.\n",
      "2021-01-26 06:05:48,708 Val Evaluator INFO: Epoch[1] Complete. Time taken: 00:00:02\n",
      "2021-01-26 06:05:50,236 Val Evaluator INFO: Engine run complete. Time taken: 00:00:04\n",
      "\u001b[34m\u001b[1mwandb\u001b[0m: \u001b[33mWARNING\u001b[0m Step must only increase in log calls.  Step 108 < 864; dropping {'lr/group_0': 0.001}.\n",
      "2021-01-26 06:05:50,261 Trainer INFO: Epoch[108] Complete. Time taken: 00:00:16\n"
     ]
    },
    {
     "name": "stdout",
     "output_type": "stream",
     "text": [
      "train loss 0.05366972965352675\n",
      "val loss 2.2407905410049827\n",
      "validation roc auc [0.70348259 0.61563456] 108\n",
      "train roc auc [1. 1.] 108\n"
     ]
    },
    {
     "name": "stderr",
     "output_type": "stream",
     "text": [
      "2021-01-26 06:05:56,341 Train Evaluator INFO: Engine run starting with max_epochs=1.\n",
      "2021-01-26 06:06:03,645 Train Evaluator INFO: Epoch[1] Complete. Time taken: 00:00:07\n",
      "2021-01-26 06:06:03,646 Train Evaluator INFO: Engine run complete. Time taken: 00:00:07\n",
      "2021-01-26 06:06:03,647 Val Evaluator INFO: Engine run starting with max_epochs=1.\n",
      "2021-01-26 06:06:05,689 Val Evaluator INFO: Epoch[1] Complete. Time taken: 00:00:02\n",
      "2021-01-26 06:06:07,441 Val Evaluator INFO: Engine run complete. Time taken: 00:00:04\n",
      "\u001b[34m\u001b[1mwandb\u001b[0m: \u001b[33mWARNING\u001b[0m Step must only increase in log calls.  Step 109 < 872; dropping {'lr/group_0': 0.001}.\n",
      "2021-01-26 06:06:07,452 Trainer INFO: Epoch[109] Complete. Time taken: 00:00:17\n"
     ]
    },
    {
     "name": "stdout",
     "output_type": "stream",
     "text": [
      "train loss 0.05195165760733982\n",
      "val loss 2.216974566696556\n",
      "validation roc auc [0.70547264 0.61429664] 109\n",
      "train roc auc [1. 1.] 109\n"
     ]
    },
    {
     "name": "stderr",
     "output_type": "stream",
     "text": [
      "2021-01-26 06:06:14,115 Train Evaluator INFO: Engine run starting with max_epochs=1.\n",
      "2021-01-26 06:06:19,937 Train Evaluator INFO: Epoch[1] Complete. Time taken: 00:00:06\n",
      "2021-01-26 06:06:19,939 Train Evaluator INFO: Engine run complete. Time taken: 00:00:06\n",
      "2021-01-26 06:06:19,940 Val Evaluator INFO: Engine run starting with max_epochs=1.\n",
      "2021-01-26 06:06:22,453 Val Evaluator INFO: Epoch[1] Complete. Time taken: 00:00:03\n",
      "2021-01-26 06:06:23,965 Val Evaluator INFO: Engine run complete. Time taken: 00:00:04\n",
      "\u001b[34m\u001b[1mwandb\u001b[0m: \u001b[33mWARNING\u001b[0m Step must only increase in log calls.  Step 110 < 880; dropping {'lr/group_0': 0.001}.\n",
      "2021-01-26 06:06:23,979 Trainer INFO: Epoch[110] Complete. Time taken: 00:00:17\n"
     ]
    },
    {
     "name": "stdout",
     "output_type": "stream",
     "text": [
      "train loss 0.04995274252394186\n",
      "val loss 2.2452183498698437\n",
      "validation roc auc [0.70613599 0.6146789 ] 110\n",
      "train roc auc [1. 1.] 110\n"
     ]
    },
    {
     "name": "stderr",
     "output_type": "stream",
     "text": [
      "2021-01-26 06:06:30,578 Train Evaluator INFO: Engine run starting with max_epochs=1.\n",
      "2021-01-26 06:06:38,612 Train Evaluator INFO: Epoch[1] Complete. Time taken: 00:00:08\n",
      "2021-01-26 06:06:38,615 Train Evaluator INFO: Engine run complete. Time taken: 00:00:08\n",
      "2021-01-26 06:06:38,616 Val Evaluator INFO: Engine run starting with max_epochs=1.\n",
      "2021-01-26 06:06:40,916 Val Evaluator INFO: Epoch[1] Complete. Time taken: 00:00:02\n",
      "2021-01-26 06:06:42,249 Val Evaluator INFO: Engine run complete. Time taken: 00:00:04\n",
      "\u001b[34m\u001b[1mwandb\u001b[0m: \u001b[33mWARNING\u001b[0m Step must only increase in log calls.  Step 111 < 888; dropping {'lr/group_0': 0.001}.\n",
      "2021-01-26 06:06:42,262 Trainer INFO: Epoch[111] Complete. Time taken: 00:00:18\n"
     ]
    },
    {
     "name": "stdout",
     "output_type": "stream",
     "text": [
      "train loss 0.04796957656789839\n",
      "val loss 2.244120778551527\n",
      "validation roc auc [0.7106136  0.61888379] 111\n",
      "train roc auc [1. 1.] 111\n"
     ]
    },
    {
     "name": "stderr",
     "output_type": "stream",
     "text": [
      "2021-01-26 06:06:49,241 Train Evaluator INFO: Engine run starting with max_epochs=1.\n",
      "2021-01-26 06:06:56,375 Train Evaluator INFO: Epoch[1] Complete. Time taken: 00:00:07\n",
      "2021-01-26 06:06:56,377 Train Evaluator INFO: Engine run complete. Time taken: 00:00:07\n",
      "2021-01-26 06:06:56,378 Val Evaluator INFO: Engine run starting with max_epochs=1.\n",
      "2021-01-26 06:06:59,475 Val Evaluator INFO: Epoch[1] Complete. Time taken: 00:00:03\n",
      "2021-01-26 06:07:00,917 Val Evaluator INFO: Engine run complete. Time taken: 00:00:05\n",
      "\u001b[34m\u001b[1mwandb\u001b[0m: \u001b[33mWARNING\u001b[0m Step must only increase in log calls.  Step 112 < 896; dropping {'lr/group_0': 0.001}.\n",
      "2021-01-26 06:07:00,931 Trainer INFO: Epoch[112] Complete. Time taken: 00:00:19\n"
     ]
    },
    {
     "name": "stdout",
     "output_type": "stream",
     "text": [
      "train loss 0.045867445978106755\n",
      "val loss 2.1795964742162424\n",
      "validation roc auc [0.71774461 0.62308869] 112\n",
      "train roc auc [1. 1.] 112\n"
     ]
    },
    {
     "name": "stderr",
     "output_type": "stream",
     "text": [
      "2021-01-26 06:07:08,721 Train Evaluator INFO: Engine run starting with max_epochs=1.\n",
      "2021-01-26 06:07:15,967 Train Evaluator INFO: Epoch[1] Complete. Time taken: 00:00:07\n",
      "2021-01-26 06:07:15,971 Train Evaluator INFO: Engine run complete. Time taken: 00:00:07\n",
      "2021-01-26 06:07:15,972 Val Evaluator INFO: Engine run starting with max_epochs=1.\n",
      "2021-01-26 06:07:17,831 Val Evaluator INFO: Epoch[1] Complete. Time taken: 00:00:02\n",
      "2021-01-26 06:07:19,246 Val Evaluator INFO: Engine run complete. Time taken: 00:00:03\n",
      "\u001b[34m\u001b[1mwandb\u001b[0m: \u001b[33mWARNING\u001b[0m Step must only increase in log calls.  Step 113 < 904; dropping {'lr/group_0': 0.001}.\n",
      "2021-01-26 06:07:19,257 Trainer INFO: Epoch[113] Complete. Time taken: 00:00:18\n"
     ]
    },
    {
     "name": "stdout",
     "output_type": "stream",
     "text": [
      "train loss 0.04351786485911714\n",
      "val loss 2.2063939715646637\n",
      "validation roc auc [0.72089552 0.62538226] 113\n",
      "train roc auc [1. 1.] 113\n"
     ]
    },
    {
     "name": "stderr",
     "output_type": "stream",
     "text": [
      "2021-01-26 06:07:25,957 Train Evaluator INFO: Engine run starting with max_epochs=1.\n",
      "2021-01-26 06:07:31,725 Train Evaluator INFO: Epoch[1] Complete. Time taken: 00:00:06\n",
      "2021-01-26 06:07:31,727 Train Evaluator INFO: Engine run complete. Time taken: 00:00:06\n",
      "2021-01-26 06:07:31,729 Val Evaluator INFO: Engine run starting with max_epochs=1.\n",
      "2021-01-26 06:07:34,005 Val Evaluator INFO: Epoch[1] Complete. Time taken: 00:00:02\n",
      "2021-01-26 06:07:35,504 Val Evaluator INFO: Engine run complete. Time taken: 00:00:04\n",
      "\u001b[34m\u001b[1mwandb\u001b[0m: \u001b[33mWARNING\u001b[0m Step must only increase in log calls.  Step 114 < 912; dropping {'lr/group_0': 0.001}.\n",
      "2021-01-26 06:07:35,516 Trainer INFO: Epoch[114] Complete. Time taken: 00:00:16\n"
     ]
    },
    {
     "name": "stdout",
     "output_type": "stream",
     "text": [
      "train loss 0.04098623602251342\n",
      "val loss 2.2851445857127\n",
      "validation roc auc [0.7199005  0.62557339] 114\n",
      "train roc auc [1. 1.] 114\n"
     ]
    },
    {
     "name": "stderr",
     "output_type": "stream",
     "text": [
      "2021-01-26 06:07:41,696 Train Evaluator INFO: Engine run starting with max_epochs=1.\n",
      "2021-01-26 06:07:47,197 Train Evaluator INFO: Epoch[1] Complete. Time taken: 00:00:05\n",
      "2021-01-26 06:07:47,200 Train Evaluator INFO: Engine run complete. Time taken: 00:00:06\n",
      "2021-01-26 06:07:47,201 Val Evaluator INFO: Engine run starting with max_epochs=1.\n",
      "2021-01-26 06:07:49,700 Val Evaluator INFO: Epoch[1] Complete. Time taken: 00:00:02\n",
      "2021-01-26 06:07:51,423 Val Evaluator INFO: Engine run complete. Time taken: 00:00:04\n",
      "\u001b[34m\u001b[1mwandb\u001b[0m: \u001b[33mWARNING\u001b[0m Step must only increase in log calls.  Step 115 < 920; dropping {'lr/group_0': 0.001}.\n",
      "2021-01-26 06:07:51,435 Trainer INFO: Epoch[115] Complete. Time taken: 00:00:16\n"
     ]
    },
    {
     "name": "stdout",
     "output_type": "stream",
     "text": [
      "train loss 0.03845108318302886\n",
      "val loss 2.280827238301563\n",
      "validation roc auc [0.71807629 0.62576453] 115\n",
      "train roc auc [1. 1.] 115\n"
     ]
    },
    {
     "name": "stderr",
     "output_type": "stream",
     "text": [
      "2021-01-26 06:07:58,399 Train Evaluator INFO: Engine run starting with max_epochs=1.\n",
      "2021-01-26 06:08:03,887 Train Evaluator INFO: Epoch[1] Complete. Time taken: 00:00:05\n",
      "2021-01-26 06:08:03,888 Train Evaluator INFO: Engine run complete. Time taken: 00:00:05\n",
      "2021-01-26 06:08:03,889 Val Evaluator INFO: Engine run starting with max_epochs=1.\n",
      "2021-01-26 06:08:05,928 Val Evaluator INFO: Epoch[1] Complete. Time taken: 00:00:02\n",
      "2021-01-26 06:08:07,654 Val Evaluator INFO: Engine run complete. Time taken: 00:00:04\n",
      "\u001b[34m\u001b[1mwandb\u001b[0m: \u001b[33mWARNING\u001b[0m Step must only increase in log calls.  Step 116 < 928; dropping {'lr/group_0': 0.001}.\n",
      "2021-01-26 06:08:07,669 Trainer INFO: Epoch[116] Complete. Time taken: 00:00:16\n"
     ]
    },
    {
     "name": "stdout",
     "output_type": "stream",
     "text": [
      "train loss 0.0355354784998012\n",
      "val loss 2.131900148027262\n",
      "validation roc auc [0.72238806 0.62480887] 116\n",
      "train roc auc [1. 1.] 116\n"
     ]
    },
    {
     "name": "stderr",
     "output_type": "stream",
     "text": [
      "2021-01-26 06:08:13,123 Train Evaluator INFO: Engine run starting with max_epochs=1.\n",
      "2021-01-26 06:08:18,092 Train Evaluator INFO: Epoch[1] Complete. Time taken: 00:00:05\n",
      "2021-01-26 06:08:18,094 Train Evaluator INFO: Engine run complete. Time taken: 00:00:05\n",
      "2021-01-26 06:08:18,095 Val Evaluator INFO: Engine run starting with max_epochs=1.\n",
      "2021-01-26 06:08:19,879 Val Evaluator INFO: Epoch[1] Complete. Time taken: 00:00:02\n",
      "2021-01-26 06:08:21,495 Val Evaluator INFO: Engine run complete. Time taken: 00:00:03\n",
      "\u001b[34m\u001b[1mwandb\u001b[0m: \u001b[33mWARNING\u001b[0m Step must only increase in log calls.  Step 117 < 936; dropping {'lr/group_0': 0.001}.\n",
      "2021-01-26 06:08:21,508 Trainer INFO: Epoch[117] Complete. Time taken: 00:00:14\n"
     ]
    },
    {
     "name": "stdout",
     "output_type": "stream",
     "text": [
      "train loss 0.03245617028057965\n",
      "val loss 2.1239664235692115\n",
      "validation roc auc [0.7238806  0.62729358] 117\n",
      "train roc auc [1. 1.] 117\n"
     ]
    },
    {
     "name": "stderr",
     "output_type": "stream",
     "text": [
      "2021-01-26 06:08:27,153 Train Evaluator INFO: Engine run starting with max_epochs=1.\n",
      "2021-01-26 06:08:33,597 Train Evaluator INFO: Epoch[1] Complete. Time taken: 00:00:06\n",
      "2021-01-26 06:08:33,600 Train Evaluator INFO: Engine run complete. Time taken: 00:00:06\n",
      "2021-01-26 06:08:33,601 Val Evaluator INFO: Engine run starting with max_epochs=1.\n",
      "2021-01-26 06:08:35,365 Val Evaluator INFO: Epoch[1] Complete. Time taken: 00:00:02\n",
      "2021-01-26 06:08:36,988 Val Evaluator INFO: Engine run complete. Time taken: 00:00:03\n",
      "\u001b[34m\u001b[1mwandb\u001b[0m: \u001b[33mWARNING\u001b[0m Step must only increase in log calls.  Step 118 < 944; dropping {'lr/group_0': 0.001}.\n",
      "2021-01-26 06:08:37,000 Trainer INFO: Epoch[118] Complete. Time taken: 00:00:15\n"
     ]
    },
    {
     "name": "stdout",
     "output_type": "stream",
     "text": [
      "train loss 0.029502860191308596\n",
      "val loss 2.0237049130117817\n",
      "validation roc auc [0.726534   0.63608563] 118\n",
      "train roc auc [1. 1.] 118\n"
     ]
    },
    {
     "name": "stderr",
     "output_type": "stream",
     "text": [
      "2021-01-26 06:08:43,266 Train Evaluator INFO: Engine run starting with max_epochs=1.\n",
      "2021-01-26 06:08:49,013 Train Evaluator INFO: Epoch[1] Complete. Time taken: 00:00:06\n",
      "2021-01-26 06:08:49,016 Train Evaluator INFO: Engine run complete. Time taken: 00:00:06\n",
      "2021-01-26 06:08:49,017 Val Evaluator INFO: Engine run starting with max_epochs=1.\n",
      "2021-01-26 06:08:51,439 Val Evaluator INFO: Epoch[1] Complete. Time taken: 00:00:02\n",
      "2021-01-26 06:08:52,854 Val Evaluator INFO: Engine run complete. Time taken: 00:00:04\n",
      "\u001b[34m\u001b[1mwandb\u001b[0m: \u001b[33mWARNING\u001b[0m Step must only increase in log calls.  Step 119 < 952; dropping {'lr/group_0': 0.001}.\n",
      "2021-01-26 06:08:52,866 Trainer INFO: Epoch[119] Complete. Time taken: 00:00:16\n"
     ]
    },
    {
     "name": "stdout",
     "output_type": "stream",
     "text": [
      "train loss 0.026315984330373392\n",
      "val loss 2.038232566444737\n",
      "validation roc auc [0.72288557 0.64124618] 119\n",
      "train roc auc [1. 1.] 119\n"
     ]
    },
    {
     "name": "stderr",
     "output_type": "stream",
     "text": [
      "2021-01-26 06:08:58,347 Train Evaluator INFO: Engine run starting with max_epochs=1.\n",
      "2021-01-26 06:09:04,672 Train Evaluator INFO: Epoch[1] Complete. Time taken: 00:00:06\n",
      "2021-01-26 06:09:04,674 Train Evaluator INFO: Engine run complete. Time taken: 00:00:06\n",
      "2021-01-26 06:09:04,675 Val Evaluator INFO: Engine run starting with max_epochs=1.\n",
      "2021-01-26 06:09:06,267 Val Evaluator INFO: Epoch[1] Complete. Time taken: 00:00:02\n",
      "2021-01-26 06:09:07,607 Val Evaluator INFO: Engine run complete. Time taken: 00:00:03\n",
      "\u001b[34m\u001b[1mwandb\u001b[0m: \u001b[33mWARNING\u001b[0m Step must only increase in log calls.  Step 120 < 960; dropping {'lr/group_0': 0.001}.\n",
      "2021-01-26 06:09:07,621 Trainer INFO: Epoch[120] Complete. Time taken: 00:00:15\n"
     ]
    },
    {
     "name": "stdout",
     "output_type": "stream",
     "text": [
      "train loss 0.023267458199091207\n",
      "val loss 2.0735811898662786\n",
      "validation roc auc [0.72089552 0.64277523] 120\n",
      "train roc auc [1. 1.] 120\n"
     ]
    },
    {
     "name": "stderr",
     "output_type": "stream",
     "text": [
      "2021-01-26 06:09:13,281 Train Evaluator INFO: Engine run starting with max_epochs=1.\n",
      "2021-01-26 06:09:19,304 Train Evaluator INFO: Epoch[1] Complete. Time taken: 00:00:06\n",
      "2021-01-26 06:09:19,307 Train Evaluator INFO: Engine run complete. Time taken: 00:00:06\n",
      "2021-01-26 06:09:19,308 Val Evaluator INFO: Engine run starting with max_epochs=1.\n",
      "2021-01-26 06:09:21,115 Val Evaluator INFO: Epoch[1] Complete. Time taken: 00:00:02\n",
      "2021-01-26 06:09:22,609 Val Evaluator INFO: Engine run complete. Time taken: 00:00:03\n",
      "\u001b[34m\u001b[1mwandb\u001b[0m: \u001b[33mWARNING\u001b[0m Step must only increase in log calls.  Step 121 < 968; dropping {'lr/group_0': 0.001}.\n",
      "2021-01-26 06:09:22,621 Trainer INFO: Epoch[121] Complete. Time taken: 00:00:15\n"
     ]
    },
    {
     "name": "stdout",
     "output_type": "stream",
     "text": [
      "train loss 0.02033952945206225\n",
      "val loss 2.018109505343589\n",
      "validation roc auc [0.72603648 0.65042049] 121\n",
      "train roc auc [1. 1.] 121\n"
     ]
    },
    {
     "name": "stderr",
     "output_type": "stream",
     "text": [
      "2021-01-26 06:09:28,080 Train Evaluator INFO: Engine run starting with max_epochs=1.\n",
      "2021-01-26 06:09:34,166 Train Evaluator INFO: Epoch[1] Complete. Time taken: 00:00:06\n",
      "2021-01-26 06:09:34,167 Train Evaluator INFO: Engine run complete. Time taken: 00:00:06\n",
      "2021-01-26 06:09:34,169 Val Evaluator INFO: Engine run starting with max_epochs=1.\n",
      "2021-01-26 06:09:36,021 Val Evaluator INFO: Epoch[1] Complete. Time taken: 00:00:02\n",
      "2021-01-26 06:09:37,706 Val Evaluator INFO: Engine run complete. Time taken: 00:00:04\n",
      "\u001b[34m\u001b[1mwandb\u001b[0m: \u001b[33mWARNING\u001b[0m Step must only increase in log calls.  Step 122 < 976; dropping {'lr/group_0': 0.001}.\n",
      "2021-01-26 06:09:37,718 Trainer INFO: Epoch[122] Complete. Time taken: 00:00:15\n"
     ]
    },
    {
     "name": "stdout",
     "output_type": "stream",
     "text": [
      "train loss 0.017130750905081208\n",
      "val loss 1.9161463869605095\n",
      "validation roc auc [0.73366501 0.65997706] 122\n",
      "train roc auc [1. 1.] 122\n"
     ]
    },
    {
     "name": "stderr",
     "output_type": "stream",
     "text": [
      "2021-01-26 06:09:44,050 Train Evaluator INFO: Engine run starting with max_epochs=1.\n",
      "2021-01-26 06:09:49,285 Train Evaluator INFO: Epoch[1] Complete. Time taken: 00:00:05\n",
      "2021-01-26 06:09:49,287 Train Evaluator INFO: Engine run complete. Time taken: 00:00:05\n",
      "2021-01-26 06:09:49,288 Val Evaluator INFO: Engine run starting with max_epochs=1.\n",
      "2021-01-26 06:09:51,505 Val Evaluator INFO: Epoch[1] Complete. Time taken: 00:00:02\n",
      "2021-01-26 06:09:53,188 Val Evaluator INFO: Engine run complete. Time taken: 00:00:04\n",
      "\u001b[34m\u001b[1mwandb\u001b[0m: \u001b[33mWARNING\u001b[0m Step must only increase in log calls.  Step 123 < 984; dropping {'lr/group_0': 0.001}.\n",
      "2021-01-26 06:09:53,200 Trainer INFO: Epoch[123] Complete. Time taken: 00:00:15\n"
     ]
    },
    {
     "name": "stdout",
     "output_type": "stream",
     "text": [
      "train loss 0.014272281155396001\n",
      "val loss 1.8050353800415233\n",
      "validation roc auc [0.74079602 0.65902141] 123\n",
      "train roc auc [1. 1.] 123\n"
     ]
    },
    {
     "name": "stderr",
     "output_type": "stream",
     "text": [
      "2021-01-26 06:09:58,998 Train Evaluator INFO: Engine run starting with max_epochs=1.\n",
      "2021-01-26 06:10:05,240 Train Evaluator INFO: Epoch[1] Complete. Time taken: 00:00:06\n",
      "2021-01-26 06:10:05,242 Train Evaluator INFO: Engine run complete. Time taken: 00:00:06\n",
      "2021-01-26 06:10:05,243 Val Evaluator INFO: Engine run starting with max_epochs=1.\n",
      "2021-01-26 06:10:07,312 Val Evaluator INFO: Epoch[1] Complete. Time taken: 00:00:02\n",
      "2021-01-26 06:10:08,698 Val Evaluator INFO: Engine run complete. Time taken: 00:00:03\n",
      "\u001b[34m\u001b[1mwandb\u001b[0m: \u001b[33mWARNING\u001b[0m Step must only increase in log calls.  Step 124 < 992; dropping {'lr/group_0': 0.001}.\n",
      "2021-01-26 06:10:08,711 Trainer INFO: Epoch[124] Complete. Time taken: 00:00:16\n"
     ]
    },
    {
     "name": "stdout",
     "output_type": "stream",
     "text": [
      "train loss 0.011904885205146015\n",
      "val loss 2.0636251853529815\n",
      "validation roc auc [0.73117745 0.65118502] 124\n",
      "train roc auc [1. 1.] 124\n"
     ]
    },
    {
     "name": "stderr",
     "output_type": "stream",
     "text": [
      "2021-01-26 06:10:14,757 Train Evaluator INFO: Engine run starting with max_epochs=1.\n",
      "2021-01-26 06:10:19,899 Train Evaluator INFO: Epoch[1] Complete. Time taken: 00:00:05\n",
      "2021-01-26 06:10:19,902 Train Evaluator INFO: Engine run complete. Time taken: 00:00:05\n",
      "2021-01-26 06:10:19,903 Val Evaluator INFO: Engine run starting with max_epochs=1.\n",
      "2021-01-26 06:10:21,590 Val Evaluator INFO: Epoch[1] Complete. Time taken: 00:00:02\n",
      "2021-01-26 06:10:23,244 Val Evaluator INFO: Engine run complete. Time taken: 00:00:03\n",
      "\u001b[34m\u001b[1mwandb\u001b[0m: \u001b[33mWARNING\u001b[0m Step must only increase in log calls.  Step 125 < 1000; dropping {'lr/group_0': 0.001}.\n",
      "2021-01-26 06:10:23,255 Trainer INFO: Epoch[125] Complete. Time taken: 00:00:15\n"
     ]
    },
    {
     "name": "stdout",
     "output_type": "stream",
     "text": [
      "train loss 0.010053623153184884\n",
      "val loss 1.52229389871002\n",
      "validation roc auc [0.77462687 0.67564985] 125\n",
      "train roc auc [1. 1.] 125\n"
     ]
    },
    {
     "name": "stderr",
     "output_type": "stream",
     "text": [
      "2021-01-26 06:10:28,972 Train Evaluator INFO: Engine run starting with max_epochs=1.\n",
      "2021-01-26 06:10:34,793 Train Evaluator INFO: Epoch[1] Complete. Time taken: 00:00:06\n",
      "2021-01-26 06:10:34,795 Train Evaluator INFO: Engine run complete. Time taken: 00:00:06\n",
      "2021-01-26 06:10:34,797 Val Evaluator INFO: Engine run starting with max_epochs=1.\n",
      "2021-01-26 06:10:36,842 Val Evaluator INFO: Epoch[1] Complete. Time taken: 00:00:02\n",
      "2021-01-26 06:10:38,429 Val Evaluator INFO: Engine run complete. Time taken: 00:00:04\n",
      "\u001b[34m\u001b[1mwandb\u001b[0m: \u001b[33mWARNING\u001b[0m Step must only increase in log calls.  Step 126 < 1008; dropping {'lr/group_0': 0.001}.\n",
      "2021-01-26 06:10:38,445 Trainer INFO: Epoch[126] Complete. Time taken: 00:00:15\n"
     ]
    },
    {
     "name": "stdout",
     "output_type": "stream",
     "text": [
      "train loss 0.008138442323756179\n",
      "val loss 2.0086158020481184\n",
      "validation roc auc [0.74444444 0.67144495] 126\n",
      "train roc auc [1. 1.] 126\n"
     ]
    },
    {
     "name": "stderr",
     "output_type": "stream",
     "text": [
      "2021-01-26 06:10:44,831 Train Evaluator INFO: Engine run starting with max_epochs=1.\n",
      "2021-01-26 06:10:50,817 Train Evaluator INFO: Epoch[1] Complete. Time taken: 00:00:06\n",
      "2021-01-26 06:10:50,820 Train Evaluator INFO: Engine run complete. Time taken: 00:00:06\n",
      "2021-01-26 06:10:50,822 Val Evaluator INFO: Engine run starting with max_epochs=1.\n",
      "2021-01-26 06:10:52,599 Val Evaluator INFO: Epoch[1] Complete. Time taken: 00:00:02\n",
      "2021-01-26 06:10:54,217 Val Evaluator INFO: Engine run complete. Time taken: 00:00:03\n",
      "\u001b[34m\u001b[1mwandb\u001b[0m: \u001b[33mWARNING\u001b[0m Step must only increase in log calls.  Step 127 < 1016; dropping {'lr/group_0': 0.001}.\n",
      "2021-01-26 06:10:54,230 Trainer INFO: Epoch[127] Complete. Time taken: 00:00:16\n"
     ]
    },
    {
     "name": "stdout",
     "output_type": "stream",
     "text": [
      "train loss 0.006553626665946965\n",
      "val loss 1.3699432945555183\n",
      "validation roc auc [0.78689884 0.70833333] 127\n",
      "train roc auc [1. 1.] 127\n"
     ]
    },
    {
     "name": "stderr",
     "output_type": "stream",
     "text": [
      "2021-01-26 06:11:00,751 Train Evaluator INFO: Engine run starting with max_epochs=1.\n",
      "2021-01-26 06:11:06,840 Train Evaluator INFO: Epoch[1] Complete. Time taken: 00:00:06\n",
      "2021-01-26 06:11:06,843 Train Evaluator INFO: Engine run complete. Time taken: 00:00:06\n",
      "2021-01-26 06:11:06,844 Val Evaluator INFO: Engine run starting with max_epochs=1.\n",
      "2021-01-26 06:11:08,642 Val Evaluator INFO: Epoch[1] Complete. Time taken: 00:00:02\n",
      "2021-01-26 06:11:09,968 Val Evaluator INFO: Engine run complete. Time taken: 00:00:03\n",
      "\u001b[34m\u001b[1mwandb\u001b[0m: \u001b[33mWARNING\u001b[0m Step must only increase in log calls.  Step 128 < 1024; dropping {'lr/group_0': 0.001}.\n",
      "2021-01-26 06:11:09,980 Trainer INFO: Epoch[128] Complete. Time taken: 00:00:16\n"
     ]
    },
    {
     "name": "stdout",
     "output_type": "stream",
     "text": [
      "train loss 0.0054234400176502\n",
      "val loss 1.1599144358543834\n",
      "validation roc auc [0.80779436 0.72018349] 128\n",
      "train roc auc [1. 1.] 128\n"
     ]
    },
    {
     "name": "stderr",
     "output_type": "stream",
     "text": [
      "2021-01-26 06:11:15,274 Train Evaluator INFO: Engine run starting with max_epochs=1.\n",
      "2021-01-26 06:11:21,635 Train Evaluator INFO: Epoch[1] Complete. Time taken: 00:00:06\n",
      "2021-01-26 06:11:21,637 Train Evaluator INFO: Engine run complete. Time taken: 00:00:06\n",
      "2021-01-26 06:11:21,638 Val Evaluator INFO: Engine run starting with max_epochs=1.\n",
      "2021-01-26 06:11:23,587 Val Evaluator INFO: Epoch[1] Complete. Time taken: 00:00:02\n",
      "2021-01-26 06:11:24,976 Val Evaluator INFO: Engine run complete. Time taken: 00:00:03\n",
      "\u001b[34m\u001b[1mwandb\u001b[0m: \u001b[33mWARNING\u001b[0m Step must only increase in log calls.  Step 129 < 1032; dropping {'lr/group_0': 0.001}.\n",
      "2021-01-26 06:11:24,989 Trainer INFO: Epoch[129] Complete. Time taken: 00:00:15\n"
     ]
    },
    {
     "name": "stdout",
     "output_type": "stream",
     "text": [
      "train loss 0.004413874831541658\n",
      "val loss 1.5355826084780846\n",
      "validation roc auc [0.77247098 0.69457187] 129\n",
      "train roc auc [1. 1.] 129\n"
     ]
    },
    {
     "name": "stderr",
     "output_type": "stream",
     "text": [
      "2021-01-26 06:11:31,767 Train Evaluator INFO: Engine run starting with max_epochs=1.\n",
      "2021-01-26 06:11:38,959 Train Evaluator INFO: Epoch[1] Complete. Time taken: 00:00:07\n",
      "2021-01-26 06:11:38,961 Train Evaluator INFO: Engine run complete. Time taken: 00:00:07\n",
      "2021-01-26 06:11:38,962 Val Evaluator INFO: Engine run starting with max_epochs=1.\n",
      "2021-01-26 06:11:41,560 Val Evaluator INFO: Epoch[1] Complete. Time taken: 00:00:03\n",
      "2021-01-26 06:11:42,874 Val Evaluator INFO: Engine run complete. Time taken: 00:00:04\n",
      "\u001b[34m\u001b[1mwandb\u001b[0m: \u001b[33mWARNING\u001b[0m Step must only increase in log calls.  Step 130 < 1040; dropping {'lr/group_0': 0.001}.\n",
      "2021-01-26 06:11:42,887 Trainer INFO: Epoch[130] Complete. Time taken: 00:00:18\n"
     ]
    },
    {
     "name": "stdout",
     "output_type": "stream",
     "text": [
      "train loss 0.0036705042076274784\n",
      "val loss 1.898739710734908\n",
      "validation roc auc [0.75522388 0.67469419] 130\n",
      "train roc auc [1. 1.] 130\n"
     ]
    },
    {
     "name": "stderr",
     "output_type": "stream",
     "text": [
      "2021-01-26 06:11:50,033 Train Evaluator INFO: Engine run starting with max_epochs=1.\n",
      "2021-01-26 06:11:58,412 Train Evaluator INFO: Epoch[1] Complete. Time taken: 00:00:08\n",
      "2021-01-26 06:11:58,415 Train Evaluator INFO: Engine run complete. Time taken: 00:00:08\n",
      "2021-01-26 06:11:58,416 Val Evaluator INFO: Engine run starting with max_epochs=1.\n",
      "2021-01-26 06:12:01,196 Val Evaluator INFO: Epoch[1] Complete. Time taken: 00:00:03\n",
      "2021-01-26 06:12:02,648 Val Evaluator INFO: Engine run complete. Time taken: 00:00:04\n",
      "\u001b[34m\u001b[1mwandb\u001b[0m: \u001b[33mWARNING\u001b[0m Step must only increase in log calls.  Step 131 < 1048; dropping {'lr/group_0': 0.001}.\n",
      "2021-01-26 06:12:02,668 Trainer INFO: Epoch[131] Complete. Time taken: 00:00:20\n"
     ]
    },
    {
     "name": "stdout",
     "output_type": "stream",
     "text": [
      "train loss 0.003083442170416413\n",
      "val loss 2.0755451424106672\n",
      "validation roc auc [0.74560531 0.66876911] 131\n",
      "train roc auc [1. 1.] 131\n"
     ]
    },
    {
     "name": "stderr",
     "output_type": "stream",
     "text": [
      "2021-01-26 06:12:11,183 Train Evaluator INFO: Engine run starting with max_epochs=1.\n",
      "2021-01-26 06:12:18,498 Train Evaluator INFO: Epoch[1] Complete. Time taken: 00:00:07\n",
      "2021-01-26 06:12:18,501 Train Evaluator INFO: Engine run complete. Time taken: 00:00:07\n",
      "2021-01-26 06:12:18,502 Val Evaluator INFO: Engine run starting with max_epochs=1.\n",
      "2021-01-26 06:12:21,547 Val Evaluator INFO: Epoch[1] Complete. Time taken: 00:00:03\n",
      "2021-01-26 06:12:22,879 Val Evaluator INFO: Engine run complete. Time taken: 00:00:04\n",
      "\u001b[34m\u001b[1mwandb\u001b[0m: \u001b[33mWARNING\u001b[0m Step must only increase in log calls.  Step 132 < 1056; dropping {'lr/group_0': 0.001}.\n",
      "2021-01-26 06:12:22,896 Trainer INFO: Epoch[132] Complete. Time taken: 00:00:20\n"
     ]
    },
    {
     "name": "stdout",
     "output_type": "stream",
     "text": [
      "train loss 0.002622366094584364\n",
      "val loss 1.8261148299381231\n",
      "validation roc auc [0.760199   0.68348624] 132\n",
      "train roc auc [1. 1.] 132\n"
     ]
    },
    {
     "name": "stderr",
     "output_type": "stream",
     "text": [
      "2021-01-26 06:12:31,033 Train Evaluator INFO: Engine run starting with max_epochs=1.\n",
      "2021-01-26 06:12:38,642 Train Evaluator INFO: Epoch[1] Complete. Time taken: 00:00:08\n",
      "2021-01-26 06:12:38,645 Train Evaluator INFO: Engine run complete. Time taken: 00:00:08\n",
      "2021-01-26 06:12:38,646 Val Evaluator INFO: Engine run starting with max_epochs=1.\n",
      "2021-01-26 06:12:41,358 Val Evaluator INFO: Epoch[1] Complete. Time taken: 00:00:03\n",
      "2021-01-26 06:12:42,572 Val Evaluator INFO: Engine run complete. Time taken: 00:00:04\n",
      "\u001b[34m\u001b[1mwandb\u001b[0m: \u001b[33mWARNING\u001b[0m Step must only increase in log calls.  Step 133 < 1064; dropping {'lr/group_0': 0.001}.\n",
      "2021-01-26 06:12:42,585 Trainer INFO: Epoch[133] Complete. Time taken: 00:00:20\n"
     ]
    },
    {
     "name": "stdout",
     "output_type": "stream",
     "text": [
      "train loss 0.0022399242029450266\n",
      "val loss 1.6402279047449684\n",
      "validation roc auc [0.76616915 0.69285168] 133\n",
      "train roc auc [1. 1.] 133\n"
     ]
    },
    {
     "name": "stderr",
     "output_type": "stream",
     "text": [
      "2021-01-26 06:12:50,707 Train Evaluator INFO: Engine run starting with max_epochs=1.\n",
      "2021-01-26 06:12:59,196 Train Evaluator INFO: Epoch[1] Complete. Time taken: 00:00:08\n",
      "2021-01-26 06:12:59,199 Train Evaluator INFO: Engine run complete. Time taken: 00:00:08\n",
      "2021-01-26 06:12:59,200 Val Evaluator INFO: Engine run starting with max_epochs=1.\n",
      "2021-01-26 06:13:02,198 Val Evaluator INFO: Epoch[1] Complete. Time taken: 00:00:03\n",
      "2021-01-26 06:13:03,873 Val Evaluator INFO: Engine run complete. Time taken: 00:00:05\n",
      "\u001b[34m\u001b[1mwandb\u001b[0m: \u001b[33mWARNING\u001b[0m Step must only increase in log calls.  Step 134 < 1072; dropping {'lr/group_0': 0.001}.\n",
      "2021-01-26 06:13:03,887 Trainer INFO: Epoch[134] Complete. Time taken: 00:00:21\n"
     ]
    },
    {
     "name": "stdout",
     "output_type": "stream",
     "text": [
      "train loss 0.0019364303939423903\n",
      "val loss 1.6216949892651504\n",
      "validation roc auc [0.76766169 0.69208716] 134\n",
      "train roc auc [1. 1.] 134\n"
     ]
    },
    {
     "name": "stderr",
     "output_type": "stream",
     "text": [
      "2021-01-26 06:13:12,659 Train Evaluator INFO: Engine run starting with max_epochs=1.\n",
      "2021-01-26 06:13:21,295 Train Evaluator INFO: Epoch[1] Complete. Time taken: 00:00:09\n",
      "2021-01-26 06:13:21,297 Train Evaluator INFO: Engine run complete. Time taken: 00:00:09\n",
      "2021-01-26 06:13:21,298 Val Evaluator INFO: Engine run starting with max_epochs=1.\n",
      "2021-01-26 06:13:23,516 Val Evaluator INFO: Epoch[1] Complete. Time taken: 00:00:02\n",
      "2021-01-26 06:13:25,088 Val Evaluator INFO: Engine run complete. Time taken: 00:00:04\n",
      "\u001b[34m\u001b[1mwandb\u001b[0m: \u001b[33mWARNING\u001b[0m Step must only increase in log calls.  Step 135 < 1080; dropping {'lr/group_0': 0.001}.\n",
      "2021-01-26 06:13:25,101 Trainer INFO: Epoch[135] Complete. Time taken: 00:00:21\n"
     ]
    },
    {
     "name": "stdout",
     "output_type": "stream",
     "text": [
      "train loss 0.0016842105850467786\n",
      "val loss 1.68112236527121\n",
      "validation roc auc [0.76401327 0.68539755] 135\n",
      "train roc auc [1. 1.] 135\n"
     ]
    },
    {
     "name": "stderr",
     "output_type": "stream",
     "text": [
      "2021-01-26 06:13:33,170 Train Evaluator INFO: Engine run starting with max_epochs=1.\n",
      "2021-01-26 06:13:41,189 Train Evaluator INFO: Epoch[1] Complete. Time taken: 00:00:08\n",
      "2021-01-26 06:13:41,191 Train Evaluator INFO: Engine run complete. Time taken: 00:00:08\n",
      "2021-01-26 06:13:41,193 Val Evaluator INFO: Engine run starting with max_epochs=1.\n",
      "2021-01-26 06:13:43,045 Val Evaluator INFO: Epoch[1] Complete. Time taken: 00:00:02\n",
      "2021-01-26 06:13:44,460 Val Evaluator INFO: Engine run complete. Time taken: 00:00:03\n",
      "\u001b[34m\u001b[1mwandb\u001b[0m: \u001b[33mWARNING\u001b[0m Step must only increase in log calls.  Step 136 < 1088; dropping {'lr/group_0': 0.001}.\n",
      "2021-01-26 06:13:44,470 Trainer INFO: Epoch[136] Complete. Time taken: 00:00:19\n"
     ]
    },
    {
     "name": "stdout",
     "output_type": "stream",
     "text": [
      "train loss 0.0014853366591799234\n",
      "val loss 1.7899756199994665\n",
      "validation roc auc [0.75903814 0.68042813] 136\n",
      "train roc auc [1. 1.] 136\n"
     ]
    },
    {
     "name": "stderr",
     "output_type": "stream",
     "text": [
      "2021-01-26 06:13:52,094 Train Evaluator INFO: Engine run starting with max_epochs=1.\n",
      "2021-01-26 06:13:59,254 Train Evaluator INFO: Epoch[1] Complete. Time taken: 00:00:07\n",
      "2021-01-26 06:13:59,257 Train Evaluator INFO: Engine run complete. Time taken: 00:00:07\n",
      "2021-01-26 06:13:59,258 Val Evaluator INFO: Engine run starting with max_epochs=1.\n",
      "2021-01-26 06:14:01,733 Val Evaluator INFO: Epoch[1] Complete. Time taken: 00:00:02\n",
      "2021-01-26 06:14:03,301 Val Evaluator INFO: Engine run complete. Time taken: 00:00:04\n",
      "\u001b[34m\u001b[1mwandb\u001b[0m: \u001b[33mWARNING\u001b[0m Step must only increase in log calls.  Step 137 < 1096; dropping {'lr/group_0': 0.001}.\n",
      "2021-01-26 06:14:03,312 Trainer INFO: Epoch[137] Complete. Time taken: 00:00:19\n"
     ]
    },
    {
     "name": "stdout",
     "output_type": "stream",
     "text": [
      "train loss 0.001331537130439942\n",
      "val loss 1.8831510490672603\n",
      "validation roc auc [0.75489221 0.6771789 ] 137\n",
      "train roc auc [1. 1.] 137\n"
     ]
    },
    {
     "name": "stderr",
     "output_type": "stream",
     "text": [
      "2021-01-26 06:14:10,512 Train Evaluator INFO: Engine run starting with max_epochs=1.\n",
      "2021-01-26 06:14:16,515 Train Evaluator INFO: Epoch[1] Complete. Time taken: 00:00:06\n",
      "2021-01-26 06:14:16,516 Train Evaluator INFO: Engine run complete. Time taken: 00:00:06\n",
      "2021-01-26 06:14:16,517 Val Evaluator INFO: Engine run starting with max_epochs=1.\n",
      "2021-01-26 06:14:19,222 Val Evaluator INFO: Epoch[1] Complete. Time taken: 00:00:03\n",
      "2021-01-26 06:14:19,225 Val Evaluator INFO: Engine run complete. Time taken: 00:00:03\n",
      "\u001b[34m\u001b[1mwandb\u001b[0m: \u001b[33mWARNING\u001b[0m Step must only increase in log calls.  Step 138 < 1104; dropping {'lr/group_0': 0.001}.\n",
      "2021-01-26 06:14:19,232 Trainer INFO: Epoch[138] Complete. Time taken: 00:00:16\n"
     ]
    },
    {
     "name": "stdout",
     "output_type": "stream",
     "text": [
      "train loss 0.0011990788049183274\n",
      "val loss 1.9689316286402903\n",
      "validation roc auc [0.75024876 0.67125382] 138\n",
      "train roc auc [1. 1.] 138\n"
     ]
    },
    {
     "name": "stderr",
     "output_type": "stream",
     "text": [
      "2021-01-26 06:14:26,970 Train Evaluator INFO: Engine run starting with max_epochs=1.\n",
      "2021-01-26 06:14:35,192 Train Evaluator INFO: Epoch[1] Complete. Time taken: 00:00:08\n",
      "2021-01-26 06:14:35,195 Train Evaluator INFO: Engine run complete. Time taken: 00:00:08\n",
      "2021-01-26 06:14:35,196 Val Evaluator INFO: Engine run starting with max_epochs=1.\n",
      "2021-01-26 06:14:37,675 Val Evaluator INFO: Epoch[1] Complete. Time taken: 00:00:02\n",
      "2021-01-26 06:14:37,676 Val Evaluator INFO: Engine run complete. Time taken: 00:00:02\n",
      "\u001b[34m\u001b[1mwandb\u001b[0m: \u001b[33mWARNING\u001b[0m Step must only increase in log calls.  Step 139 < 1112; dropping {'lr/group_0': 0.001}.\n",
      "2021-01-26 06:14:37,684 Trainer INFO: Epoch[139] Complete. Time taken: 00:00:18\n"
     ]
    },
    {
     "name": "stdout",
     "output_type": "stream",
     "text": [
      "train loss 0.001080627245006754\n",
      "val loss 1.9078744961197969\n",
      "validation roc auc [0.75207297 0.67603211] 139\n",
      "train roc auc [1. 1.] 139\n"
     ]
    },
    {
     "name": "stderr",
     "output_type": "stream",
     "text": [
      "2021-01-26 06:14:45,936 Train Evaluator INFO: Engine run starting with max_epochs=1.\n",
      "2021-01-26 06:14:53,096 Train Evaluator INFO: Epoch[1] Complete. Time taken: 00:00:07\n",
      "2021-01-26 06:14:53,098 Train Evaluator INFO: Engine run complete. Time taken: 00:00:07\n",
      "2021-01-26 06:14:53,100 Val Evaluator INFO: Engine run starting with max_epochs=1.\n",
      "2021-01-26 06:14:55,279 Val Evaluator INFO: Epoch[1] Complete. Time taken: 00:00:02\n",
      "2021-01-26 06:14:56,678 Val Evaluator INFO: Engine run complete. Time taken: 00:00:04\n",
      "\u001b[34m\u001b[1mwandb\u001b[0m: \u001b[33mWARNING\u001b[0m Step must only increase in log calls.  Step 140 < 1120; dropping {'lr/group_0': 0.001}.\n",
      "2021-01-26 06:14:56,689 Trainer INFO: Epoch[140] Complete. Time taken: 00:00:19\n"
     ]
    },
    {
     "name": "stdout",
     "output_type": "stream",
     "text": [
      "train loss 0.0009823951163594987\n",
      "val loss 1.8028108921779948\n",
      "validation roc auc [0.75655058 0.67966361] 140\n",
      "train roc auc [1. 1.] 140\n"
     ]
    },
    {
     "name": "stderr",
     "output_type": "stream",
     "text": [
      "2021-01-26 06:15:05,422 Train Evaluator INFO: Engine run starting with max_epochs=1.\n",
      "2021-01-26 06:15:12,552 Train Evaluator INFO: Epoch[1] Complete. Time taken: 00:00:07\n",
      "2021-01-26 06:15:12,555 Train Evaluator INFO: Engine run complete. Time taken: 00:00:07\n",
      "2021-01-26 06:15:12,556 Val Evaluator INFO: Engine run starting with max_epochs=1.\n",
      "2021-01-26 06:15:14,856 Val Evaluator INFO: Epoch[1] Complete. Time taken: 00:00:02\n",
      "2021-01-26 06:15:14,857 Val Evaluator INFO: Engine run complete. Time taken: 00:00:02\n",
      "\u001b[34m\u001b[1mwandb\u001b[0m: \u001b[33mWARNING\u001b[0m Step must only increase in log calls.  Step 141 < 1128; dropping {'lr/group_0': 0.001}.\n",
      "2021-01-26 06:15:14,864 Trainer INFO: Epoch[141] Complete. Time taken: 00:00:18\n"
     ]
    },
    {
     "name": "stdout",
     "output_type": "stream",
     "text": [
      "train loss 0.0008989846787094859\n",
      "val loss 1.8696576744128184\n",
      "validation roc auc [0.75290216 0.67641437] 141\n",
      "train roc auc [1. 1.] 141\n"
     ]
    },
    {
     "name": "stderr",
     "output_type": "stream",
     "text": [
      "2021-01-26 06:15:21,298 Train Evaluator INFO: Engine run starting with max_epochs=1.\n",
      "2021-01-26 06:15:27,857 Train Evaluator INFO: Epoch[1] Complete. Time taken: 00:00:07\n",
      "2021-01-26 06:15:27,860 Train Evaluator INFO: Engine run complete. Time taken: 00:00:07\n",
      "2021-01-26 06:15:27,861 Val Evaluator INFO: Engine run starting with max_epochs=1.\n",
      "2021-01-26 06:15:30,019 Val Evaluator INFO: Epoch[1] Complete. Time taken: 00:00:02\n",
      "2021-01-26 06:15:30,021 Val Evaluator INFO: Engine run complete. Time taken: 00:00:02\n",
      "\u001b[34m\u001b[1mwandb\u001b[0m: \u001b[33mWARNING\u001b[0m Step must only increase in log calls.  Step 142 < 1136; dropping {'lr/group_0': 0.001}.\n",
      "2021-01-26 06:15:30,028 Trainer INFO: Epoch[142] Complete. Time taken: 00:00:15\n"
     ]
    },
    {
     "name": "stdout",
     "output_type": "stream",
     "text": [
      "train loss 0.0008218894026055526\n",
      "val loss 1.975283235501332\n",
      "validation roc auc [0.74776119 0.67125382] 142\n",
      "train roc auc [1. 1.] 142\n"
     ]
    },
    {
     "name": "stderr",
     "output_type": "stream",
     "text": [
      "2021-01-26 06:15:37,533 Train Evaluator INFO: Engine run starting with max_epochs=1.\n",
      "2021-01-26 06:15:44,075 Train Evaluator INFO: Epoch[1] Complete. Time taken: 00:00:07\n",
      "2021-01-26 06:15:44,077 Train Evaluator INFO: Engine run complete. Time taken: 00:00:07\n",
      "2021-01-26 06:15:44,078 Val Evaluator INFO: Engine run starting with max_epochs=1.\n",
      "2021-01-26 06:15:46,867 Val Evaluator INFO: Epoch[1] Complete. Time taken: 00:00:03\n",
      "2021-01-26 06:15:46,870 Val Evaluator INFO: Engine run complete. Time taken: 00:00:03\n",
      "\u001b[34m\u001b[1mwandb\u001b[0m: \u001b[33mWARNING\u001b[0m Step must only increase in log calls.  Step 143 < 1144; dropping {'lr/group_0': 0.001}.\n",
      "2021-01-26 06:15:46,878 Trainer INFO: Epoch[143] Complete. Time taken: 00:00:17\n"
     ]
    },
    {
     "name": "stdout",
     "output_type": "stream",
     "text": [
      "train loss 0.0007351826356337375\n",
      "val loss 2.221986793408728\n",
      "validation roc auc [0.73648425 0.65921254] 143\n",
      "train roc auc [1. 1.] 143\n"
     ]
    },
    {
     "name": "stderr",
     "output_type": "stream",
     "text": [
      "2021-01-26 06:16:00,862 Train Evaluator INFO: Engine run starting with max_epochs=1.\n",
      "2021-01-26 06:16:20,152 Train Evaluator INFO: Epoch[1] Complete. Time taken: 00:00:19\n",
      "2021-01-26 06:16:20,157 Train Evaluator INFO: Engine run complete. Time taken: 00:00:19\n",
      "2021-01-26 06:16:20,159 Val Evaluator INFO: Engine run starting with max_epochs=1.\n",
      "2021-01-26 06:16:27,074 Val Evaluator INFO: Epoch[1] Complete. Time taken: 00:00:07\n",
      "2021-01-26 06:16:27,077 Val Evaluator INFO: Engine run complete. Time taken: 00:00:07\n",
      "\u001b[34m\u001b[1mwandb\u001b[0m: \u001b[33mWARNING\u001b[0m Step must only increase in log calls.  Step 144 < 1152; dropping {'lr/group_0': 0.001}.\n",
      "2021-01-26 06:16:27,089 Trainer INFO: Epoch[144] Complete. Time taken: 00:00:40\n"
     ]
    },
    {
     "name": "stdout",
     "output_type": "stream",
     "text": [
      "train loss 0.0006777429277298481\n",
      "val loss 2.133036227742578\n",
      "validation roc auc [0.739801   0.66418196] 144\n",
      "train roc auc [1. 1.] 144\n"
     ]
    },
    {
     "name": "stderr",
     "output_type": "stream",
     "text": [
      "2021-01-26 06:16:42,166 Train Evaluator INFO: Engine run starting with max_epochs=1.\n",
      "2021-01-26 06:16:58,368 Train Evaluator INFO: Epoch[1] Complete. Time taken: 00:00:16\n",
      "2021-01-26 06:16:58,371 Train Evaluator INFO: Engine run complete. Time taken: 00:00:16\n",
      "2021-01-26 06:16:58,373 Val Evaluator INFO: Engine run starting with max_epochs=1.\n",
      "2021-01-26 06:17:05,465 Val Evaluator INFO: Epoch[1] Complete. Time taken: 00:00:07\n",
      "2021-01-26 06:17:05,469 Val Evaluator INFO: Engine run complete. Time taken: 00:00:07\n",
      "\u001b[34m\u001b[1mwandb\u001b[0m: \u001b[33mWARNING\u001b[0m Step must only increase in log calls.  Step 145 < 1160; dropping {'lr/group_0': 0.001}.\n",
      "2021-01-26 06:17:05,480 Trainer INFO: Epoch[145] Complete. Time taken: 00:00:38\n"
     ]
    },
    {
     "name": "stdout",
     "output_type": "stream",
     "text": [
      "train loss 0.0006271055278805549\n",
      "val loss 2.1236790152871685\n",
      "validation roc auc [0.73814262 0.66207951] 145\n",
      "train roc auc [1. 1.] 145\n"
     ]
    },
    {
     "name": "stderr",
     "output_type": "stream",
     "text": [
      "2021-01-26 06:17:25,287 Train Evaluator INFO: Engine run starting with max_epochs=1.\n",
      "2021-01-26 06:17:40,972 Train Evaluator INFO: Epoch[1] Complete. Time taken: 00:00:16\n",
      "2021-01-26 06:17:40,975 Train Evaluator INFO: Engine run complete. Time taken: 00:00:16\n",
      "2021-01-26 06:17:40,977 Val Evaluator INFO: Engine run starting with max_epochs=1.\n",
      "2021-01-26 06:17:47,618 Val Evaluator INFO: Epoch[1] Complete. Time taken: 00:00:07\n",
      "2021-01-26 06:17:47,620 Val Evaluator INFO: Engine run complete. Time taken: 00:00:07\n",
      "\u001b[34m\u001b[1mwandb\u001b[0m: \u001b[33mWARNING\u001b[0m Step must only increase in log calls.  Step 146 < 1168; dropping {'lr/group_0': 0.001}.\n",
      "2021-01-26 06:17:47,627 Trainer INFO: Epoch[146] Complete. Time taken: 00:00:42\n"
     ]
    },
    {
     "name": "stdout",
     "output_type": "stream",
     "text": [
      "train loss 0.000583565646890563\n",
      "val loss 2.15289447262029\n",
      "validation roc auc [0.73681592 0.66284404] 146\n",
      "train roc auc [1. 1.] 146\n"
     ]
    },
    {
     "name": "stderr",
     "output_type": "stream",
     "text": [
      "2021-01-26 06:18:07,808 Train Evaluator INFO: Engine run starting with max_epochs=1.\n",
      "2021-01-26 06:18:24,906 Train Evaluator INFO: Epoch[1] Complete. Time taken: 00:00:17\n",
      "2021-01-26 06:18:24,909 Train Evaluator INFO: Engine run complete. Time taken: 00:00:17\n",
      "2021-01-26 06:18:24,911 Val Evaluator INFO: Engine run starting with max_epochs=1.\n",
      "2021-01-26 06:18:31,274 Val Evaluator INFO: Epoch[1] Complete. Time taken: 00:00:06\n",
      "2021-01-26 06:18:31,278 Val Evaluator INFO: Engine run complete. Time taken: 00:00:06\n",
      "\u001b[34m\u001b[1mwandb\u001b[0m: \u001b[33mWARNING\u001b[0m Step must only increase in log calls.  Step 147 < 1176; dropping {'lr/group_0': 0.001}.\n",
      "2021-01-26 06:18:31,289 Trainer INFO: Epoch[147] Complete. Time taken: 00:00:44\n"
     ]
    },
    {
     "name": "stdout",
     "output_type": "stream",
     "text": [
      "train loss 0.0005431275036513667\n",
      "val loss 2.209453535687392\n",
      "validation roc auc [0.73399668 0.65672783] 147\n",
      "train roc auc [1. 1.] 147\n"
     ]
    },
    {
     "name": "stderr",
     "output_type": "stream",
     "text": [
      "2021-01-26 06:18:51,413 Train Evaluator INFO: Engine run starting with max_epochs=1.\n",
      "2021-01-26 06:19:08,501 Train Evaluator INFO: Epoch[1] Complete. Time taken: 00:00:17\n",
      "2021-01-26 06:19:08,505 Train Evaluator INFO: Engine run complete. Time taken: 00:00:17\n",
      "2021-01-26 06:19:08,507 Val Evaluator INFO: Engine run starting with max_epochs=1.\n",
      "2021-01-26 06:19:14,209 Val Evaluator INFO: Epoch[1] Complete. Time taken: 00:00:06\n",
      "2021-01-26 06:19:14,212 Val Evaluator INFO: Engine run complete. Time taken: 00:00:06\n",
      "\u001b[34m\u001b[1mwandb\u001b[0m: \u001b[33mWARNING\u001b[0m Step must only increase in log calls.  Step 148 < 1184; dropping {'lr/group_0': 0.001}.\n",
      "2021-01-26 06:19:14,223 Trainer INFO: Epoch[148] Complete. Time taken: 00:00:43\n"
     ]
    },
    {
     "name": "stdout",
     "output_type": "stream",
     "text": [
      "train loss 0.0005094263543352517\n",
      "val loss 2.2649397318530236\n",
      "validation roc auc [0.73117745 0.65443425] 148\n",
      "train roc auc [1. 1.] 148\n"
     ]
    },
    {
     "name": "stderr",
     "output_type": "stream",
     "text": [
      "2021-01-26 06:19:34,379 Train Evaluator INFO: Engine run starting with max_epochs=1.\n",
      "2021-01-26 06:19:50,494 Train Evaluator INFO: Epoch[1] Complete. Time taken: 00:00:16\n",
      "2021-01-26 06:19:50,498 Train Evaluator INFO: Engine run complete. Time taken: 00:00:16\n",
      "2021-01-26 06:19:50,499 Val Evaluator INFO: Engine run starting with max_epochs=1.\n",
      "2021-01-26 06:19:56,762 Val Evaluator INFO: Epoch[1] Complete. Time taken: 00:00:06\n",
      "2021-01-26 06:19:56,765 Val Evaluator INFO: Engine run complete. Time taken: 00:00:06\n",
      "\u001b[34m\u001b[1mwandb\u001b[0m: \u001b[33mWARNING\u001b[0m Step must only increase in log calls.  Step 149 < 1192; dropping {'lr/group_0': 0.001}.\n",
      "2021-01-26 06:19:56,774 Trainer INFO: Epoch[149] Complete. Time taken: 00:00:43\n"
     ]
    },
    {
     "name": "stdout",
     "output_type": "stream",
     "text": [
      "train loss 0.00047998746263810835\n",
      "val loss 2.0312544433933915\n",
      "validation roc auc [0.74245439 0.66360856] 149\n",
      "train roc auc [1. 1.] 149\n"
     ]
    },
    {
     "name": "stderr",
     "output_type": "stream",
     "text": [
      "2021-01-26 06:20:15,396 Train Evaluator INFO: Engine run starting with max_epochs=1.\n",
      "2021-01-26 06:20:33,374 Train Evaluator INFO: Epoch[1] Complete. Time taken: 00:00:18\n",
      "2021-01-26 06:20:33,376 Train Evaluator INFO: Engine run complete. Time taken: 00:00:18\n",
      "2021-01-26 06:20:33,377 Val Evaluator INFO: Engine run starting with max_epochs=1.\n",
      "2021-01-26 06:20:39,503 Val Evaluator INFO: Epoch[1] Complete. Time taken: 00:00:06\n",
      "2021-01-26 06:20:39,507 Val Evaluator INFO: Engine run complete. Time taken: 00:00:06\n",
      "\u001b[34m\u001b[1mwandb\u001b[0m: \u001b[33mWARNING\u001b[0m Step must only increase in log calls.  Step 150 < 1200; dropping {'lr/group_0': 0.001}.\n",
      "2021-01-26 06:20:39,517 Trainer INFO: Epoch[150] Complete. Time taken: 00:00:43\n"
     ]
    },
    {
     "name": "stdout",
     "output_type": "stream",
     "text": [
      "train loss 0.0004628587646429145\n",
      "val loss 1.8294442831330997\n",
      "validation roc auc [0.75605307 0.67698777] 150\n",
      "train roc auc [1. 1.] 150\n"
     ]
    },
    {
     "name": "stderr",
     "output_type": "stream",
     "text": [
      "2021-01-26 06:20:56,001 Train Evaluator INFO: Engine run starting with max_epochs=1.\n",
      "2021-01-26 06:21:12,996 Train Evaluator INFO: Epoch[1] Complete. Time taken: 00:00:17\n",
      "2021-01-26 06:21:13,000 Train Evaluator INFO: Engine run complete. Time taken: 00:00:17\n",
      "2021-01-26 06:21:13,002 Val Evaluator INFO: Engine run starting with max_epochs=1.\n",
      "2021-01-26 06:21:17,063 Val Evaluator INFO: Epoch[1] Complete. Time taken: 00:00:04\n",
      "2021-01-26 06:21:17,068 Val Evaluator INFO: Engine run complete. Time taken: 00:00:04\n",
      "\u001b[34m\u001b[1mwandb\u001b[0m: \u001b[33mWARNING\u001b[0m Step must only increase in log calls.  Step 151 < 1208; dropping {'lr/group_0': 0.001}.\n",
      "2021-01-26 06:21:17,077 Trainer INFO: Epoch[151] Complete. Time taken: 00:00:38\n"
     ]
    },
    {
     "name": "stdout",
     "output_type": "stream",
     "text": [
      "train loss 0.00042820302725156813\n",
      "val loss 2.022423206620915\n",
      "validation roc auc [0.74626866 0.66513761] 151\n",
      "train roc auc [1. 1.] 151\n"
     ]
    },
    {
     "name": "stderr",
     "output_type": "stream",
     "text": [
      "2021-01-26 06:21:33,687 Train Evaluator INFO: Engine run starting with max_epochs=1.\n",
      "2021-01-26 06:21:51,069 Train Evaluator INFO: Epoch[1] Complete. Time taken: 00:00:17\n",
      "2021-01-26 06:21:51,072 Train Evaluator INFO: Engine run complete. Time taken: 00:00:17\n",
      "2021-01-26 06:21:51,074 Val Evaluator INFO: Engine run starting with max_epochs=1.\n",
      "2021-01-26 06:21:56,128 Val Evaluator INFO: Epoch[1] Complete. Time taken: 00:00:05\n",
      "2021-01-26 06:21:56,131 Val Evaluator INFO: Engine run complete. Time taken: 00:00:05\n",
      "\u001b[34m\u001b[1mwandb\u001b[0m: \u001b[33mWARNING\u001b[0m Step must only increase in log calls.  Step 152 < 1216; dropping {'lr/group_0': 0.001}.\n",
      "2021-01-26 06:21:56,138 Trainer INFO: Epoch[152] Complete. Time taken: 00:00:39\n"
     ]
    },
    {
     "name": "stdout",
     "output_type": "stream",
     "text": [
      "train loss 0.0004020290264620371\n",
      "val loss 2.2599783118363397\n",
      "validation roc auc [0.73598673 0.65481651] 152\n",
      "train roc auc [1. 1.] 152\n"
     ]
    },
    {
     "name": "stderr",
     "output_type": "stream",
     "text": [
      "2021-01-26 06:22:12,752 Train Evaluator INFO: Engine run starting with max_epochs=1.\n",
      "2021-01-26 06:22:30,257 Train Evaluator INFO: Epoch[1] Complete. Time taken: 00:00:18\n",
      "2021-01-26 06:22:30,261 Train Evaluator INFO: Engine run complete. Time taken: 00:00:18\n",
      "2021-01-26 06:22:30,262 Val Evaluator INFO: Engine run starting with max_epochs=1.\n",
      "2021-01-26 06:22:35,456 Val Evaluator INFO: Epoch[1] Complete. Time taken: 00:00:05\n",
      "2021-01-26 06:22:35,457 Val Evaluator INFO: Engine run complete. Time taken: 00:00:05\n",
      "\u001b[34m\u001b[1mwandb\u001b[0m: \u001b[33mWARNING\u001b[0m Step must only increase in log calls.  Step 153 < 1224; dropping {'lr/group_0': 0.001}.\n",
      "2021-01-26 06:22:35,466 Trainer INFO: Epoch[153] Complete. Time taken: 00:00:39\n"
     ]
    },
    {
     "name": "stdout",
     "output_type": "stream",
     "text": [
      "train loss 0.00038137141271359396\n",
      "val loss 2.4080250111355146\n",
      "validation roc auc [0.73034826 0.64755352] 153\n",
      "train roc auc [1. 1.] 153\n"
     ]
    },
    {
     "name": "stderr",
     "output_type": "stream",
     "text": [
      "2021-01-26 06:22:51,076 Train Evaluator INFO: Engine run starting with max_epochs=1.\n",
      "2021-01-26 06:23:07,918 Train Evaluator INFO: Epoch[1] Complete. Time taken: 00:00:17\n",
      "2021-01-26 06:23:07,921 Train Evaluator INFO: Engine run complete. Time taken: 00:00:17\n",
      "2021-01-26 06:23:07,923 Val Evaluator INFO: Engine run starting with max_epochs=1.\n",
      "2021-01-26 06:23:13,685 Val Evaluator INFO: Epoch[1] Complete. Time taken: 00:00:06\n",
      "2021-01-26 06:23:13,688 Val Evaluator INFO: Engine run complete. Time taken: 00:00:06\n",
      "\u001b[34m\u001b[1mwandb\u001b[0m: \u001b[33mWARNING\u001b[0m Step must only increase in log calls.  Step 154 < 1232; dropping {'lr/group_0': 0.001}.\n",
      "2021-01-26 06:23:13,698 Trainer INFO: Epoch[154] Complete. Time taken: 00:00:38\n"
     ]
    },
    {
     "name": "stdout",
     "output_type": "stream",
     "text": [
      "train loss 0.0003611633447196724\n",
      "val loss 2.4446856170702893\n",
      "validation roc auc [0.72835821 0.64774465] 154\n",
      "train roc auc [1. 1.] 154\n"
     ]
    },
    {
     "name": "stderr",
     "output_type": "stream",
     "text": [
      "2021-01-26 06:23:29,156 Train Evaluator INFO: Engine run starting with max_epochs=1.\n",
      "2021-01-26 06:23:46,877 Train Evaluator INFO: Epoch[1] Complete. Time taken: 00:00:18\n",
      "2021-01-26 06:23:46,880 Train Evaluator INFO: Engine run complete. Time taken: 00:00:18\n",
      "2021-01-26 06:23:46,882 Val Evaluator INFO: Engine run starting with max_epochs=1.\n",
      "2021-01-26 06:23:51,790 Val Evaluator INFO: Epoch[1] Complete. Time taken: 00:00:05\n",
      "2021-01-26 06:23:51,793 Val Evaluator INFO: Engine run complete. Time taken: 00:00:05\n",
      "\u001b[34m\u001b[1mwandb\u001b[0m: \u001b[33mWARNING\u001b[0m Step must only increase in log calls.  Step 155 < 1240; dropping {'lr/group_0': 0.001}.\n",
      "2021-01-26 06:23:51,804 Trainer INFO: Epoch[155] Complete. Time taken: 00:00:38\n"
     ]
    },
    {
     "name": "stdout",
     "output_type": "stream",
     "text": [
      "train loss 0.00034268650860111747\n",
      "val loss 2.4509198210041996\n",
      "validation roc auc [0.72852405 0.64850917] 155\n",
      "train roc auc [1. 1.] 155\n"
     ]
    },
    {
     "name": "stderr",
     "output_type": "stream",
     "text": [
      "2021-01-26 06:24:08,498 Train Evaluator INFO: Engine run starting with max_epochs=1.\n",
      "2021-01-26 06:24:26,107 Train Evaluator INFO: Epoch[1] Complete. Time taken: 00:00:18\n",
      "2021-01-26 06:24:26,111 Train Evaluator INFO: Engine run complete. Time taken: 00:00:18\n",
      "2021-01-26 06:24:26,112 Val Evaluator INFO: Engine run starting with max_epochs=1.\n",
      "2021-01-26 06:24:31,831 Val Evaluator INFO: Epoch[1] Complete. Time taken: 00:00:06\n",
      "2021-01-26 06:24:31,834 Val Evaluator INFO: Engine run complete. Time taken: 00:00:06\n",
      "\u001b[34m\u001b[1mwandb\u001b[0m: \u001b[33mWARNING\u001b[0m Step must only increase in log calls.  Step 156 < 1248; dropping {'lr/group_0': 0.001}.\n",
      "2021-01-26 06:24:31,844 Trainer INFO: Epoch[156] Complete. Time taken: 00:00:40\n"
     ]
    },
    {
     "name": "stdout",
     "output_type": "stream",
     "text": [
      "train loss 0.0003256861880934728\n",
      "val loss 2.4620049288318415\n",
      "validation roc auc [0.72769486 0.64717125] 156\n",
      "train roc auc [1. 1.] 156\n"
     ]
    },
    {
     "name": "stderr",
     "output_type": "stream",
     "text": [
      "2021-01-26 06:24:48,482 Train Evaluator INFO: Engine run starting with max_epochs=1.\n",
      "2021-01-26 06:25:05,503 Train Evaluator INFO: Epoch[1] Complete. Time taken: 00:00:17\n",
      "2021-01-26 06:25:05,505 Train Evaluator INFO: Engine run complete. Time taken: 00:00:17\n",
      "2021-01-26 06:25:05,507 Val Evaluator INFO: Engine run starting with max_epochs=1.\n",
      "2021-01-26 06:25:10,757 Val Evaluator INFO: Epoch[1] Complete. Time taken: 00:00:05\n",
      "2021-01-26 06:25:10,761 Val Evaluator INFO: Engine run complete. Time taken: 00:00:05\n",
      "\u001b[34m\u001b[1mwandb\u001b[0m: \u001b[33mWARNING\u001b[0m Step must only increase in log calls.  Step 157 < 1256; dropping {'lr/group_0': 0.001}.\n",
      "2021-01-26 06:25:10,772 Trainer INFO: Epoch[157] Complete. Time taken: 00:00:39\n"
     ]
    },
    {
     "name": "stdout",
     "output_type": "stream",
     "text": [
      "train loss 0.00030950820592154946\n",
      "val loss 2.478058895487694\n",
      "validation roc auc [0.72736318 0.64755352] 157\n",
      "train roc auc [1. 1.] 157\n"
     ]
    },
    {
     "name": "stderr",
     "output_type": "stream",
     "text": [
      "2021-01-26 06:25:26,011 Train Evaluator INFO: Engine run starting with max_epochs=1.\n",
      "2021-01-26 06:25:43,216 Train Evaluator INFO: Epoch[1] Complete. Time taken: 00:00:17\n",
      "2021-01-26 06:25:43,219 Train Evaluator INFO: Engine run complete. Time taken: 00:00:17\n",
      "2021-01-26 06:25:43,221 Val Evaluator INFO: Engine run starting with max_epochs=1.\n",
      "2021-01-26 06:25:50,278 Val Evaluator INFO: Epoch[1] Complete. Time taken: 00:00:07\n",
      "2021-01-26 06:25:50,282 Val Evaluator INFO: Engine run complete. Time taken: 00:00:07\n",
      "\u001b[34m\u001b[1mwandb\u001b[0m: \u001b[33mWARNING\u001b[0m Step must only increase in log calls.  Step 158 < 1264; dropping {'lr/group_0': 0.001}.\n",
      "2021-01-26 06:25:50,291 Trainer INFO: Epoch[158] Complete. Time taken: 00:00:40\n"
     ]
    },
    {
     "name": "stdout",
     "output_type": "stream",
     "text": [
      "train loss 0.0002953223998555386\n",
      "val loss 2.4992781247302984\n",
      "validation roc auc [0.72620232 0.64717125] 158\n",
      "train roc auc [1. 1.] 158\n"
     ]
    },
    {
     "name": "stderr",
     "output_type": "stream",
     "text": [
      "2021-01-26 06:26:08,880 Train Evaluator INFO: Engine run starting with max_epochs=1.\n",
      "2021-01-26 06:26:27,270 Train Evaluator INFO: Epoch[1] Complete. Time taken: 00:00:18\n",
      "2021-01-26 06:26:27,273 Train Evaluator INFO: Engine run complete. Time taken: 00:00:18\n",
      "2021-01-26 06:26:27,275 Val Evaluator INFO: Engine run starting with max_epochs=1.\n",
      "2021-01-26 06:26:34,325 Val Evaluator INFO: Epoch[1] Complete. Time taken: 00:00:07\n",
      "2021-01-26 06:26:34,327 Val Evaluator INFO: Engine run complete. Time taken: 00:00:07\n",
      "\u001b[34m\u001b[1mwandb\u001b[0m: \u001b[33mWARNING\u001b[0m Step must only increase in log calls.  Step 159 < 1272; dropping {'lr/group_0': 0.001}.\n",
      "2021-01-26 06:26:34,341 Trainer INFO: Epoch[159] Complete. Time taken: 00:00:44\n"
     ]
    },
    {
     "name": "stdout",
     "output_type": "stream",
     "text": [
      "train loss 0.0002830223084006647\n",
      "val loss 2.5259859933974638\n",
      "validation roc auc [0.7252073  0.64736239] 159\n",
      "train roc auc [1. 1.] 159\n"
     ]
    },
    {
     "name": "stderr",
     "output_type": "stream",
     "text": [
      "2021-01-26 06:26:52,791 Train Evaluator INFO: Engine run starting with max_epochs=1.\n",
      "2021-01-26 06:27:13,857 Train Evaluator INFO: Epoch[1] Complete. Time taken: 00:00:21\n",
      "2021-01-26 06:27:13,861 Train Evaluator INFO: Engine run complete. Time taken: 00:00:21\n",
      "2021-01-26 06:27:13,862 Val Evaluator INFO: Engine run starting with max_epochs=1.\n"
     ]
    }
   ],
   "source": [
    "# no init 16, 64\n",
    "print('ready ?')\n",
    "runutils.run(model, dataloaders, optimizer, criterion, metrics, device,config, runconfigs.PROJECT_NAME)\n"
   ]
  },
  {
   "cell_type": "code",
   "execution_count": null,
   "metadata": {},
   "outputs": [],
   "source": [
    "model.fc1.weight"
   ]
  },
  {
   "cell_type": "code",
   "execution_count": null,
   "metadata": {},
   "outputs": [],
   "source": [
    "\n",
    "example_input = (torch.ones((1,1,h_w[0]*h_w[1]))*-32767)\n",
    "example_input = example_input.float().to(device)\n",
    "out=model(example_input)\n",
    "out\n",
    "\n",
    "activated_output_transform((out,out))"
   ]
  },
  {
   "cell_type": "code",
   "execution_count": null,
   "metadata": {},
   "outputs": [],
   "source": [
    "torch.Tensor([10,10,10])"
   ]
  },
  {
   "cell_type": "code",
   "execution_count": null,
   "metadata": {},
   "outputs": [],
   "source": [
    "sum(model.fc1.weight)"
   ]
  },
  {
   "cell_type": "code",
   "execution_count": null,
   "metadata": {},
   "outputs": [],
   "source": [
    "m = nn.Sigmoid()\n",
    "\n",
    "loss = nn.BCEWithLogitsLoss()\n",
    "input = torch.tensor([100.0,100,100], requires_grad=True)\n",
    "# target = torch.empty(3).random_(2)\n",
    "target = torch.ones(3)\n",
    "output = loss((input), target)\n",
    "input,target,output"
   ]
  },
  {
   "cell_type": "code",
   "execution_count": null,
   "metadata": {},
   "outputs": [],
   "source": [
    "input"
   ]
  },
  {
   "cell_type": "code",
   "execution_count": null,
   "metadata": {},
   "outputs": [],
   "source": [
    "target"
   ]
  },
  {
   "cell_type": "code",
   "execution_count": null,
   "metadata": {},
   "outputs": [],
   "source": [
    "output"
   ]
  },
  {
   "cell_type": "code",
   "execution_count": null,
   "metadata": {},
   "outputs": [],
   "source": [
    "m(input)"
   ]
  },
  {
   "cell_type": "code",
   "execution_count": null,
   "metadata": {},
   "outputs": [],
   "source": []
  },
  {
   "cell_type": "code",
   "execution_count": null,
   "metadata": {},
   "outputs": [],
   "source": []
  },
  {
   "cell_type": "code",
   "execution_count": null,
   "metadata": {},
   "outputs": [],
   "source": []
  }
 ],
 "metadata": {
  "kernelspec": {
   "display_name": "soundenv3",
   "language": "python",
   "name": "soundenv3"
  },
  "language_info": {
   "codemirror_mode": {
    "name": "ipython",
    "version": 3
   },
   "file_extension": ".py",
   "mimetype": "text/x-python",
   "name": "python",
   "nbconvert_exporter": "python",
   "pygments_lexer": "ipython3",
   "version": "3.7.9"
  }
 },
 "nbformat": 4,
 "nbformat_minor": 4
}
