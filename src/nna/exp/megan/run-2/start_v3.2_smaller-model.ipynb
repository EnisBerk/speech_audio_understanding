{
 "cells": [
  {
   "cell_type": "code",
   "execution_count": 1,
   "metadata": {},
   "outputs": [],
   "source": [
    "# make model smaller, \n",
    "#   decrease size of batch size to 32 from 58 \n",
    "\n",
    "import os\n",
    "\n",
    "os.chdir('/home/enis/projects/nna/src/nna/exp/megan/run-2/')\n"
   ]
  },
  {
   "cell_type": "code",
   "execution_count": 2,
   "metadata": {},
   "outputs": [
    {
     "name": "stderr",
     "output_type": "stream",
     "text": [
      "/scratch/enis/conda/envs/soundenv3/lib/python3.7/site-packages/torchaudio/backend/utils.py:54: UserWarning: \"sox\" backend is being deprecated. The default backend will be changed to \"sox_io\" backend in 0.8.0 and \"sox\" backend will be removed in 0.9.0. Please migrate to \"sox_io\" backend. Please refer to https://github.com/pytorch/audio/issues/903 for the detail.\n",
      "  '\"sox\" backend is being deprecated. '\n"
     ]
    }
   ],
   "source": [
    "# import run\n",
    "# import nna\n",
    "import torch\n",
    "import torch.nn as nn\n",
    "import torch.nn.functional as F\n",
    "from torchvision import transforms\n",
    "import torchaudio\n",
    "torchaudio.set_audio_backend(\"sox_io\")\n",
    "\n",
    "import numpy as np\n",
    "\n",
    "from pathlib import Path\n",
    "from collections import Counter\n"
   ]
  },
  {
   "cell_type": "code",
   "execution_count": 3,
   "metadata": {},
   "outputs": [],
   "source": [
    "torch.manual_seed(42)\n",
    "\n",
    "np.random.seed(42)\n",
    "\n",
    "torch.backends.cudnn.benchmark = False"
   ]
  },
  {
   "cell_type": "code",
   "execution_count": 4,
   "metadata": {},
   "outputs": [],
   "source": [
    "loc_per_set = [['45',\n",
    "  '38',\n",
    "  '48',\n",
    "  '39',\n",
    "  '11',\n",
    "  '44',\n",
    "  '46',\n",
    "  '17',\n",
    "  '20',\n",
    "  '50',\n",
    "  '13',\n",
    "  '25',\n",
    "  '21',\n",
    "  '29',\n",
    "  '19',\n",
    "  '16',\n",
    "  '24',\n",
    "  '37'],\n",
    " ['18', '31', '34', '27', '32', '33', '47', '41', '22', '15'],\n",
    " ['30', '12', '14', '36', '40', '49']]\n"
   ]
  },
  {
   "cell_type": "code",
   "execution_count": 5,
   "metadata": {},
   "outputs": [],
   "source": [
    "import runconfigs\n",
    "import wandb\n",
    "from ignite.metrics import Accuracy, Loss\n",
    "from ignite.contrib.metrics import ROC_AUC"
   ]
  },
  {
   "cell_type": "code",
   "execution_count": 6,
   "metadata": {},
   "outputs": [],
   "source": [
    "# from nna.exp import augmentations,\n",
    "from nna.exp import modelArchs,runutils"
   ]
  },
  {
   "cell_type": "code",
   "execution_count": 7,
   "metadata": {},
   "outputs": [],
   "source": [
    "# wandb.init(config=runconfigs.default_config, project=runconfigs.PROJECT_NAME)\n",
    "# config = wandb.config\n",
    "config = runconfigs.default_config\n",
    "# wandb.config.update(args) # adds all of the arguments as config variables\n",
    "config['batch_size'] = 32\n",
    "params = {\n",
    "    'batch_size': config['batch_size'],\n",
    "    'shuffle': True,\n",
    "    'num_workers': 0\n",
    "}\n"
   ]
  },
  {
   "cell_type": "code",
   "execution_count": 8,
   "metadata": {},
   "outputs": [],
   "source": [
    "device = torch.device(\n",
    "    f\"cuda:{config['device']}\" if torch.cuda.is_available() else \"cpu\")\n"
   ]
  },
  {
   "cell_type": "code",
   "execution_count": 9,
   "metadata": {},
   "outputs": [],
   "source": [
    "\n",
    "# labelsbyhumanpath = Path('/scratch/enis/data/nna/labeling/results/')\n",
    "# sourcePath = Path(\"/scratch/enis/data/nna/labeling/splits/\")\n"
   ]
  },
  {
   "cell_type": "code",
   "execution_count": 10,
   "metadata": {},
   "outputs": [],
   "source": [
    "CATEGORY_COUNT = 2\n"
   ]
  },
  {
   "cell_type": "code",
   "execution_count": null,
   "metadata": {},
   "outputs": [],
   "source": []
  },
  {
   "cell_type": "code",
   "execution_count": null,
   "metadata": {},
   "outputs": [],
   "source": []
  },
  {
   "cell_type": "code",
   "execution_count": 11,
   "metadata": {},
   "outputs": [
    {
     "name": "stdout",
     "output_type": "stream",
     "text": [
      "job_logs       run.py\t\t\t\t  start_v3_split-loc.ipynb\n",
      "__pycache__    start_v3.1_negative-samples.ipynb  wandb\n",
      "runconfigs.py  start_v3.2_smaller-model.ipynb\n"
     ]
    }
   ],
   "source": [
    "!ls"
   ]
  },
  {
   "cell_type": "code",
   "execution_count": null,
   "metadata": {},
   "outputs": [],
   "source": []
  },
  {
   "cell_type": "code",
   "execution_count": 13,
   "metadata": {},
   "outputs": [
    {
     "name": "stdout",
     "output_type": "stream",
     "text": [
      "/scratch/enis/data/nna/labeling/megan/AudioSamplesPerSite/meganLabeledFiles_wlenV1.txt\n",
      "/scratch/enis/data/nna/labeling/megan/AudioSamplesPerSite\n",
      "4 files are missing corresponding to excell entries\n",
      "'-> 5 number of samples are DELETED due to ignore_files and missing_audio_files'\n",
      "-> 415 samples DELETED because they are not in the excell\n",
      "\n",
      "-> 0 samples DELETED because they do not have the taxo info coming from excell\n",
      "\n",
      "-> classes that do not have enough data:\n",
      "[REMOVED!]\n",
      "['other-mammal'] 0.0\n",
      "['other-silence'] 20.0\n",
      "['unknown-sound'] 2.0\n",
      "['seabirds'] 1.0\n",
      "['canids'] 1.0\n",
      "['other-flare'] 11.0\n",
      "['other-rain'] 20.0\n",
      "\n",
      "-> classes that have enough data:\n",
      "['other-biophony'] 56.0\n",
      "['other-insect'] 140.0\n",
      "['other-bird'] 661.0\n",
      "['songbirds'] 392.0\n",
      "['duck-goose-swan'] 183.0\n",
      "['grouse-ptarmigan'] 59.0\n",
      "['other-anthrophony'] 66.0\n",
      "['other-aircraft'] 107.0\n",
      "['loons'] 29.0\n",
      "['other-car'] 37.0\n",
      "('-> 102 number of samples are deleted because their taxonomy category does '\n",
      " 'not have enough data.')\n",
      "-> classes that do not have enough data\n",
      "will be REMOVED!\n",
      "-> 97 number of samples are deleted because their length is not long enough.\n",
      "loading from cache at /scratch/enis/data/nna/labeling/megan/AudioSamplesPerSite/files_as_np_filtered_v3_int16.pkl\n"
     ]
    }
   ],
   "source": [
    "## Load real data rather than mock \n",
    "    # MVP1: delete parts longer than 10 seconds\n",
    "import run\n",
    "audio_dataset,_ = run.prepare_dataset()\n",
    "\n",
    "output_file_path = '/scratch/enis/data/nna/labeling/megan/AudioSamplesPerSite/files_as_np_filtered_v3_int16.pkl'\n",
    "audio_dataset.load_audio_files(output_file_path)\n",
    "audio_dataset.pick_channel_by_clipping()\n"
   ]
  },
  {
   "cell_type": "code",
   "execution_count": null,
   "metadata": {},
   "outputs": [],
   "source": []
  },
  {
   "cell_type": "code",
   "execution_count": 14,
   "metadata": {},
   "outputs": [],
   "source": [
    "# sound_ins=next(iter(audio_dataset.items()))"
   ]
  },
  {
   "cell_type": "code",
   "execution_count": 15,
   "metadata": {},
   "outputs": [],
   "source": [
    "# sound_ins[1].location_id"
   ]
  },
  {
   "cell_type": "code",
   "execution_count": 16,
   "metadata": {},
   "outputs": [],
   "source": [
    "# sound_ins[1].taxo_code"
   ]
  },
  {
   "cell_type": "code",
   "execution_count": 17,
   "metadata": {},
   "outputs": [
    {
     "data": {
      "text/plain": [
       "(832, 832)"
      ]
     },
     "execution_count": 17,
     "metadata": {},
     "output_type": "execute_result"
    }
   ],
   "source": [
    "# sound_ins[1].taxo_code\n",
    "# classA = 1.1.7 #'duck-goose-swan']\n",
    "# classB = 0.2.0 # other-aircraft\n",
    "# 3.0.0 : 0.48, 0.26, 0.26, 46 # silence\n",
    "# 2.1.0 : 0.22, 0.56, 0.22, 18 # rain\n",
    "# 1.3.0 1.3.0 : 0.52, 0.4, 0.087, 161 # insect\n",
    "# 1.1.8 : 0.49, 0.19, 0.32, 88 # grouse-ptarmigan\n",
    "\n",
    "other_taxo = ['3.0.0','2.1.0','1.3.0','1.1.8']\n",
    "\n",
    "sampleTest= []\n",
    "y=[]\n",
    "location_id_info = []\n",
    "expected_len=10\n",
    "for sound_ins in audio_dataset.values():\n",
    "    if sound_ins.taxo_code in ['1.1.10','1.1.7'] + other_taxo:\n",
    "        y.append(sound_ins.taxo_code)\n",
    "        location_id_info.append(sound_ins.location_id)\n",
    "        if sound_ins.length<10:\n",
    "            tile_reps = (expected_len/(sound_ins.length)+1)\n",
    "            repeated_data = np.tile(sound_ins.data,int(tile_reps))\n",
    "            repeated_data = repeated_data[:expected_len*sound_ins.sr]\n",
    "            sampleTest.append(repeated_data)\n",
    "        else:\n",
    "            sampleTest.append(sound_ins.data[:expected_len*sound_ins.sr])\n",
    "\n",
    "len(sampleTest),len(y)\n",
    "\n",
    "# sampleTest=np.array(sampleTest)"
   ]
  },
  {
   "cell_type": "code",
   "execution_count": 18,
   "metadata": {},
   "outputs": [
    {
     "data": {
      "text/plain": [
       "(902, 0.5314091680814941)"
      ]
     },
     "execution_count": 18,
     "metadata": {},
     "output_type": "execute_result"
    }
   ],
   "source": [
    "313+589,(46+18+161+88)/589 \n"
   ]
  },
  {
   "cell_type": "code",
   "execution_count": null,
   "metadata": {},
   "outputs": [],
   "source": []
  },
  {
   "cell_type": "code",
   "execution_count": 19,
   "metadata": {},
   "outputs": [],
   "source": [
    "from numpy import argmax\n",
    "# define input string\n",
    "# define universe of possible input values\n",
    "alphabet = ['1.1.10','1.1.7']\n",
    "# define a mapping of chars to integers\n",
    "char_to_int = dict((c, i) for i, c in enumerate(alphabet))\n",
    "int_to_char = dict((i, c) for i, c in enumerate(alphabet))\n",
    "# integer encode input data\n",
    "integer_encoded = [char_to_int.get(char,None) for char in y]\n",
    "# print(integer_encoded)\n",
    "# one hot encode\n",
    "onehot_encoded = list()\n",
    "for value in integer_encoded:\n",
    "\tletter = [0 for _ in range(len(alphabet))]\n",
    "\tif value is not None:\n",
    "\t\tletter[value] = 1\n",
    "\tonehot_encoded.append(letter)\n",
    "# print(onehot_encoded)\n",
    "# invert encoding\n",
    "inverted = int_to_char[argmax(onehot_encoded[0])]\n",
    "# print(inverted)\n",
    "onehot_encoded=np.array(onehot_encoded)"
   ]
  },
  {
   "cell_type": "code",
   "execution_count": null,
   "metadata": {},
   "outputs": [],
   "source": []
  },
  {
   "cell_type": "code",
   "execution_count": 20,
   "metadata": {},
   "outputs": [],
   "source": [
    "X_train,X_test, X_val, y_train, y_test,y_val  = [],[],[],[],[],[]\n",
    "loc_id_train=[]\n",
    "loc_id_test=[]\n",
    "loc_id_valid=[]\n",
    "\n",
    "for sample,y_val_ins,loc_id in  zip(sampleTest,onehot_encoded,location_id_info):\n",
    "    if loc_id in loc_per_set[0]:\n",
    "        X_train.append(sample)\n",
    "        y_train.append(y_val_ins)\n",
    "        loc_id_train.append(loc_id)\n",
    "    elif loc_id in loc_per_set[1]:\n",
    "        X_test.append(sample)\n",
    "        y_test.append(y_val_ins)\n",
    "        loc_id_test.append(loc_id)\n",
    "    elif loc_id in loc_per_set[2]:\n",
    "        X_val.append(sample)\n",
    "        y_val.append(y_val_ins)\n",
    "        loc_id_valid.append(loc_id)\n",
    "    else:\n",
    "        print('error')\n"
   ]
  },
  {
   "cell_type": "code",
   "execution_count": 21,
   "metadata": {},
   "outputs": [
    {
     "data": {
      "text/plain": [
       "({'11',\n",
       "  '16',\n",
       "  '17',\n",
       "  '19',\n",
       "  '20',\n",
       "  '21',\n",
       "  '24',\n",
       "  '25',\n",
       "  '29',\n",
       "  '37',\n",
       "  '38',\n",
       "  '39',\n",
       "  '44',\n",
       "  '46',\n",
       "  '48',\n",
       "  '50'},\n",
       " {'15', '18', '22', '27', '31', '32', '33', '41', '47'},\n",
       " {'14', '30', '40', '49'})"
      ]
     },
     "execution_count": 21,
     "metadata": {},
     "output_type": "execute_result"
    }
   ],
   "source": [
    "set(loc_id_train),set(loc_id_test),set(loc_id_valid)"
   ]
  },
  {
   "cell_type": "code",
   "execution_count": 22,
   "metadata": {},
   "outputs": [
    {
     "data": {
      "text/plain": [
       "832"
      ]
     },
     "execution_count": 22,
     "metadata": {},
     "output_type": "execute_result"
    }
   ],
   "source": [
    "len(sampleTest)"
   ]
  },
  {
   "cell_type": "code",
   "execution_count": 23,
   "metadata": {},
   "outputs": [],
   "source": [
    "X_train,X_test,X_val=np.array(X_train),np.array(X_test),np.array(X_val)\n",
    "y_train,y_test,y_val=np.array(y_train),np.array(y_test),np.array(y_val)\n"
   ]
  },
  {
   "cell_type": "code",
   "execution_count": 24,
   "metadata": {},
   "outputs": [],
   "source": [
    "# X_train, X_test, y_train, y_test = train_test_split(\n",
    "#                 sampleTest, onehot_encoded, test_size=0.2, random_state=42)\n",
    "# X_train, X_val, y_train, y_val = train_test_split(\n",
    "#                 X_train, y_train, test_size=0.25,random_state=42)"
   ]
  },
  {
   "cell_type": "code",
   "execution_count": 25,
   "metadata": {},
   "outputs": [],
   "source": [
    "X_train,X_test,X_val=torch.from_numpy(X_train).float(),torch.from_numpy(X_test).float(),torch.from_numpy(X_val).float()\n",
    "y_train,y_test,y_val=torch.from_numpy(y_train).float(),torch.from_numpy(y_test).float(),torch.from_numpy(y_val).float()\n"
   ]
  },
  {
   "cell_type": "code",
   "execution_count": 26,
   "metadata": {},
   "outputs": [
    {
     "data": {
      "text/plain": [
       "(torch.Size([459, 480000]),\n",
       " torch.Size([216, 480000]),\n",
       " torch.Size([157, 480000]))"
      ]
     },
     "execution_count": 26,
     "metadata": {},
     "output_type": "execute_result"
    }
   ],
   "source": [
    "X_train.shape,X_test.shape,X_val.shape"
   ]
  },
  {
   "cell_type": "code",
   "execution_count": 27,
   "metadata": {},
   "outputs": [
    {
     "data": {
      "text/plain": [
       "(torch.Size([459, 2]), torch.Size([216, 2]), torch.Size([157, 2]))"
      ]
     },
     "execution_count": 27,
     "metadata": {},
     "output_type": "execute_result"
    }
   ],
   "source": [
    "y_train.shape,y_test.shape,y_val.shape"
   ]
  },
  {
   "cell_type": "code",
   "execution_count": 28,
   "metadata": {},
   "outputs": [],
   "source": [
    "# y_val[0:3]"
   ]
  },
  {
   "cell_type": "code",
   "execution_count": 29,
   "metadata": {},
   "outputs": [],
   "source": [
    "# # X_train,X_test,X_val,y_train,y_test,y_val = load_raw_data('labelsbyhumanpath','sourcePath')\n",
    "# X_train,X_test,X_val,y_train,y_test,y_val = mock_raw_data(4,CATEGORY_COUNT)\n",
    "# X_train,X_test,X_val=torch.from_numpy(X_train).float(),torch.from_numpy(X_test).float(),torch.from_numpy(X_val).float()\n",
    "# y_train,y_test,y_val=torch.from_numpy(y_train).float(),torch.from_numpy(y_test).float(),torch.from_numpy(y_val).float()\n",
    "\n",
    "# # labelsbyhumanpath = Path('/scratch/enis/data/nna/labeling/results/')\n",
    "# # with open(labelsbyhumanpath/\"np_array_Ymatrix.npy\", 'rb') as f:\n",
    "# #     y_true = np.load(f)\n",
    "\n",
    "# Counter(np.argmax(y_train,axis=1).tolist()),Counter(np.argmax(y_val,axis=1).tolist()),Counter(np.argmax(y_test,axis=1).tolist())\n"
   ]
  },
  {
   "cell_type": "code",
   "execution_count": 30,
   "metadata": {},
   "outputs": [],
   "source": [
    "\n",
    "# X_train2=np.interp(X_train, (X_train.min(), X_train.max()), (-32768 , 32767))\n",
    "# torch.from_numpy(X_train2).float()\n"
   ]
  },
  {
   "cell_type": "code",
   "execution_count": 31,
   "metadata": {},
   "outputs": [],
   "source": [
    "# y_val"
   ]
  },
  {
   "cell_type": "code",
   "execution_count": 32,
   "metadata": {},
   "outputs": [],
   "source": [
    "# smaple_index=10\n",
    "# X_train[smaple_index,:],y_train[smaple_index,]\n"
   ]
  },
  {
   "cell_type": "code",
   "execution_count": null,
   "metadata": {},
   "outputs": [],
   "source": []
  },
  {
   "cell_type": "code",
   "execution_count": 33,
   "metadata": {},
   "outputs": [],
   "source": [
    "# X_train[0,:].shape"
   ]
  },
  {
   "cell_type": "code",
   "execution_count": 34,
   "metadata": {},
   "outputs": [],
   "source": [
    "# multiply(torch.ones((1,2)),torch.ones((1,2)))"
   ]
  },
  {
   "cell_type": "code",
   "execution_count": 35,
   "metadata": {},
   "outputs": [],
   "source": [
    "class ToTensor(object):\n",
    "    \"\"\"Convert ndarrays in sample to Tensors.\"\"\"\n",
    "\n",
    "    def __init__(self, maxMelLen, sampling_rate):\n",
    "        # sr = 44100 etc\n",
    "        self.maxMelLen = maxMelLen\n",
    "        self.sampling_rate = sampling_rate\n",
    "\n",
    "    def __call__(self, sample):\n",
    "        x, y = sample\n",
    "        #https://github.com/PCerles/audio/blob/3803d0b27a4e13efa760227ef6c71d0f3753aa98/test/test_transforms.py#L262\n",
    "        #librosa defaults\n",
    "        n_fft = 2048\n",
    "        hop_length = 512\n",
    "        power = 2.0\n",
    "        n_mels = 128\n",
    "        n_mfcc = 40\n",
    "        # htk is false in librosa, no setting in torchaudio -?\n",
    "        # norm is 1 in librosa, no setting in torchaudio -?\n",
    "        melspect_transform = torchaudio.transforms.MelSpectrogram(sample_rate=self.sampling_rate, window_fn=torch.hann_window,\n",
    "                                                                  hop_length=hop_length, n_mels=n_mels, n_fft=n_fft)\n",
    "\n",
    "    \n",
    "        db_transform = torchaudio.transforms.AmplitudeToDB(\"power\", 80.)\n",
    "        mel = melspect_transform(x.reshape(-1))\n",
    "        an_x = db_transform(mel)\n",
    "        #librosa version\n",
    "#         mel = librosa.feature.melspectrogram(y=x.reshape(-1),\n",
    "#                                              sr=self.sampling_rate)\n",
    "#         an_x = librosa.power_to_db(mel, ref=np.max)\n",
    "#         an_x = an_x.astype(\"float32\")\n",
    "#         y = y.astype('float32')\n",
    "#         print(an_x.shape)\n",
    "        an_x = an_x[:, :self.maxMelLen]\n",
    "        # 2-d conv\n",
    "#         x = an_x.reshape(1, *an_x.shape[:])\n",
    "        # 1-d conv\n",
    "        x = an_x.reshape(1, an_x.shape[0]*an_x.shape[1])\n",
    "\n",
    "        \n",
    "        return x,y\n",
    "\n",
    "# #test\n",
    "# maxMelLen_test = 850\n",
    "# SAMPLING_RATE_test = 48000\n",
    "# sample_len_seconds = 10\n",
    "# # to_tensor works on single sample\n",
    "# sample_count = 1\n",
    "# xx_test = torch.ones((sample_count,SAMPLING_RATE_test*sample_len_seconds))\n",
    "# y_values = torch.ones(sample_count)\n",
    "# \n",
    "# toTensor = ToTensor(maxMelLen_test,SAMPLING_RATE_test)\n",
    "# x_out,y_out=toTensor((xx_test,y_values))\n",
    "# x_out.shape,y_out.shape"
   ]
  },
  {
   "cell_type": "code",
   "execution_count": 36,
   "metadata": {},
   "outputs": [
    {
     "data": {
      "text/plain": [
       "torch.Size([459, 480000])"
      ]
     },
     "execution_count": 36,
     "metadata": {},
     "output_type": "execute_result"
    }
   ],
   "source": [
    "# X_train,X_test,X_val,y_train,y_test,y_val\n",
    "X_train[:].shape"
   ]
  },
  {
   "cell_type": "code",
   "execution_count": 37,
   "metadata": {},
   "outputs": [],
   "source": [
    "# toTensor = ToTensor(maxMelLen_test,SAMPLING_RATE_test)\n",
    "# x_out2,y_out=toTensor((X_train[1:2,:],y_train))\n",
    "# x_out.shape,y_out.shape"
   ]
  },
  {
   "cell_type": "code",
   "execution_count": 38,
   "metadata": {},
   "outputs": [],
   "source": [
    "# torch.mean(x_out[0]),torch.mean(x_out2[0])\n",
    "# y_train"
   ]
  },
  {
   "cell_type": "code",
   "execution_count": 39,
   "metadata": {},
   "outputs": [],
   "source": [
    "# X_train,y_train"
   ]
  },
  {
   "cell_type": "code",
   "execution_count": 40,
   "metadata": {},
   "outputs": [],
   "source": [
    "\n",
    "# pitch = augmentations.pitch_shift_n_stepsClass(\n",
    "#     runconfigs.SAMPLING_RATE, config['pitch_shift_n_steps'])\n",
    "# noise = augmentations.addNoiseClass(config['noise_factor'])\n",
    "# strech = augmentations.time_stretchClass(runconfigs.SAMPLING_RATE*runconfigs.EXCERPT_LENGTH,\n",
    "#                                             config['time_stretch_factor'],\n",
    "#                                             isRandom=True)\n",
    "# shift = augmentations.shiftClass(config['roll_rate'], isRandom=True)\n",
    "maxMelLen = 938 # old 850\n",
    "# toTensor = augmentations.ToTensor(maxMelLen,runconfigs.SAMPLING_RATE)\n",
    "toTensor = ToTensor(maxMelLen,runconfigs.SAMPLING_RATE)"
   ]
  },
  {
   "cell_type": "code",
   "execution_count": null,
   "metadata": {},
   "outputs": [],
   "source": []
  },
  {
   "cell_type": "code",
   "execution_count": null,
   "metadata": {},
   "outputs": [],
   "source": []
  },
  {
   "cell_type": "code",
   "execution_count": 41,
   "metadata": {},
   "outputs": [],
   "source": [
    "from ignite.metrics import EpochMetric\n",
    "\n",
    "\n",
    "def roc_auc_perClass_compute_fn(y_preds, y_targets):\n",
    "    try:\n",
    "        from sklearn.metrics import roc_auc_score\n",
    "    except ImportError:\n",
    "        raise RuntimeError(\n",
    "            \"This contrib module requires sklearn to be installed.\")\n",
    "\n",
    "    y_true = y_targets.numpy()\n",
    "    y_pred = y_preds.numpy()\n",
    "#     print(y_pred,y_true)\n",
    "#     res = []\n",
    "#     for y_true_perClass_Index in y_true.shape[1]:\n",
    "#         res.append(\n",
    "#             roc_auc_score(y_true[:, y_true_perClass_Index],\n",
    "#                           y_pred[:, y_true_perClass_Index]))\n",
    "    res = roc_auc_score(y_true, y_pred, average=None)\n",
    "    return res\n",
    "\n",
    "\n",
    "#[docs]\n",
    "class ROC_AUC_perClass(EpochMetric):\n",
    "    \"\"\"Computes Area Under the Receiver Operating Characteristic Curve (ROC AUC)\n",
    "  accumulating predictions and the ground-truth during an epoch and applying\n",
    "  `sklearn.metrics.roc_auc_score <http://scikit-learn.org/stable/modules/generated/\n",
    "  sklearn.metrics.roc_auc_score.html#sklearn.metrics.roc_auc_score>`_ .\n",
    "\n",
    "  Args:\n",
    "      output_transform (callable, optional): a callable that is used to transform the\n",
    "          :class:`~ignite.engine.engine.Engine`'s ``process_function``'s output into the\n",
    "          form expected by the metric. This can be useful if, for example, you have a multi-output model and\n",
    "          you want to compute the metric with respect to one of the outputs.\n",
    "      check_compute_fn (bool): Optional default False. If True, `roc_curve\n",
    "          <http://scikit-learn.org/stable/modules/generated/sklearn.metrics.roc_auc_score.html#\n",
    "          sklearn.metrics.roc_auc_score>`_ is run on the first batch of data to ensure there are\n",
    "          no issues. User will be warned in case there are any issues computing the function.\n",
    "\n",
    "  ROC_AUC expects y to be comprised of 0's and 1's. y_pred must either be probability estimates or confidence\n",
    "  values. To apply an activation to y_pred, use output_transform as shown below:\n",
    "\n",
    "  .. code-block:: python\n",
    "\n",
    "      def activated_output_transform(output):\n",
    "          y_pred, y = output\n",
    "          y_pred = torch.sigmoid(y_pred)\n",
    "          return y_pred, y\n",
    "\n",
    "      roc_auc = ROC_AUC(activated_output_transform)\n",
    "\n",
    "  \"\"\"\n",
    "    def __init__(self,\n",
    "                 output_transform=lambda x: x,\n",
    "                 check_compute_fn: bool = False):\n",
    "#         print(output_transform)\n",
    "        super(ROC_AUC_perClass,\n",
    "              self).__init__(roc_auc_perClass_compute_fn,\n",
    "                             output_transform=output_transform,\n",
    "                             check_compute_fn=check_compute_fn)\n"
   ]
  },
  {
   "cell_type": "code",
   "execution_count": 42,
   "metadata": {},
   "outputs": [],
   "source": [
    "\n",
    "def conv_output_shape(h_w, kernel_size=1, stride=1, pad=0, dilation=1):\n",
    "    \"\"\"\n",
    "  Utility function for computing output of convolutions\n",
    "  takes a tuple of (h,w) and returns a tuple of (h,w)\n",
    "  \"\"\"\n",
    "    from math import floor\n",
    "    if type(kernel_size) is not tuple:\n",
    "        kernel_size = (kernel_size, kernel_size)\n",
    "    h = floor(((h_w[0] + (2 * pad) - (dilation *\n",
    "                                      (kernel_size[0] - 1)) - 1) / stride) + 1)\n",
    "    w = floor(((h_w[1] + (2 * pad) - (dilation *\n",
    "                                      (kernel_size[1] - 1)) - 1) / stride) + 1)\n",
    "    return h, w\n",
    "\n",
    "# mel.shape,an_x.shape,X_train.shape\n",
    "class testModel(nn.Module):\n",
    "    '''A simple model for testing by overfitting.\n",
    "    '''\n",
    "    def __init__(self, out_channels, h_w, kernel_size, FLAT=False,output_shape=(10,)):\n",
    "        # h_w: height will be always one since we use 1d convolution \n",
    "        super(testModel, self).__init__()\n",
    "        self.out_channels = out_channels\n",
    "        #### CONV\n",
    "        self.conv1 = nn.Conv1d(in_channels=1, # depth of image == depth of filters\n",
    "                               out_channels=self.out_channels, # number of filters \n",
    "                               kernel_size=kernel_size, # size of the filters/kernels\n",
    "                               padding=1)\n",
    "\n",
    "        self.conv1_shape = conv_output_shape(h_w, kernel_size=kernel_size, stride=1, pad=1, dilation=1)\n",
    "        # conv is 1d\n",
    "        self.conv1_shape = (1,self.conv1_shape[1])\n",
    "        \n",
    "        self.fc1 = nn.Linear(self.out_channels * self.conv1_shape[0] *self.conv1_shape[1], 64)  # 100\n",
    "\n",
    "        self.fc2 = nn.Linear(64,output_shape[0])\n",
    "        \n",
    "    def forward(self, x):\n",
    "#         x = x.reshape(1,)\n",
    "#         print(x.shape) #  50,1,108800 (850*128)\n",
    "        x = F.relu(self.conv1(x))\n",
    "#         x = self.pool(x)\n",
    "        # x = self.drop(x)\n",
    "#         print(x.shape)# 58, 2, 108801\n",
    "#         print(self.conv1_shape)\n",
    "#         print(x.shape)\n",
    "        x = x.view(-1, self.out_channels * self.conv1_shape[0] *self.conv1_shape[1])\n",
    "        # batch_norm is missing\n",
    "        x = F.relu((self.fc1(x)))\n",
    "        x = (self.fc2(x))\n",
    "\n",
    "#         x = self.drop(x)\n",
    "\n",
    "#         x = self.fc4(x)\n",
    "#         x = torch.sigmoid(x)\n",
    "#                 x = F.log_softmax(x,dim=1)\n",
    "        return x\n",
    "\n",
    "# test\n",
    "# input_shape=(1,(938*128))\n",
    "# output_shape=(10,)\n",
    "# testModel_ins=adam(out_channels=2,h_w=input_shape,kernel_size=2,output_shape=output_shape)\n",
    "# # a.conv1.weight\n",
    "# a_out=testModel_ins(torch.ones((3,1,input_shape[1])))\n",
    "\n",
    "# a_out_correct=torch.zeros(a_out.shape)\n",
    "# a_out_correct[0][:]=1\n",
    "# a_out_correct\n",
    "# a_out.detach().numpy()\n",
    "\n",
    "# torch.exp(a_out),a_out"
   ]
  },
  {
   "cell_type": "code",
   "execution_count": null,
   "metadata": {},
   "outputs": [],
   "source": []
  },
  {
   "cell_type": "code",
   "execution_count": null,
   "metadata": {},
   "outputs": [],
   "source": []
  },
  {
   "cell_type": "code",
   "execution_count": 43,
   "metadata": {},
   "outputs": [],
   "source": [
    "\n",
    "# for y_true_perClass_Index in a_out_correct.shape[1]:\n",
    "#     print(y_true_perClass_Index)"
   ]
  },
  {
   "cell_type": "code",
   "execution_count": 44,
   "metadata": {},
   "outputs": [],
   "source": [
    "# from ignite.contrib.metrics import ROC_AUC\n",
    "# from nna.exp.metrics import ROC_AUC_perClass\n",
    "def activated_output_transform(output):\n",
    "    y_pred, y = output\n",
    "#     y_pred = torch.exp(y_pred)\n",
    "    return y_pred, y"
   ]
  },
  {
   "cell_type": "code",
   "execution_count": null,
   "metadata": {},
   "outputs": [],
   "source": []
  },
  {
   "cell_type": "code",
   "execution_count": 45,
   "metadata": {},
   "outputs": [],
   "source": [
    "# asd=ROC_AUC_perClass(activated_output_transform)\n",
    "# asd.update((a_out,a_out_correct))\n",
    "# asd.compute()"
   ]
  },
  {
   "cell_type": "code",
   "execution_count": null,
   "metadata": {},
   "outputs": [],
   "source": []
  },
  {
   "cell_type": "code",
   "execution_count": 46,
   "metadata": {},
   "outputs": [],
   "source": [
    "\n",
    "transformCompose = transforms.Compose([\n",
    "#     pitch,\n",
    "#     strech,\n",
    "#     shift,\n",
    "#     noise,\n",
    "    toTensor,\n",
    "])\n",
    "\n",
    "\n",
    "sound_datasets = {\n",
    "    phase: runutils.audioDataset(XY[0], XY[1], transform=transformCompose)\n",
    "    for phase, XY in\n",
    "    zip(['train', 'val', 'test'],\n",
    "        [[X_train, y_train], [X_val, y_val], [X_test, y_test]])\n",
    "}\n",
    "\n",
    "dataloaders = {\n",
    "    x: torch.utils.data.DataLoader(sound_datasets[x], **params)\n",
    "    for x in ['train', 'val', 'test']\n",
    "}\n",
    "\n",
    "# this will change\n",
    "h_w = [128, 938]\n",
    "kernel_size = (4, 4)\n",
    "# if config['CNNLayer_count'] == 1:\n",
    "#     model = modelArchs.NetCNN1(config['CNN_filters_1'], h_w,\n",
    "#                                 kernel_size).float().to(device)\n",
    "\n",
    "# if config['CNNLayer_count'] == 2:\n",
    "#     model = modelArchs.NetCNN2(config['CNN_filters_1'], config.CNN_filters_2,\n",
    "#                                 h_w, kernel_size,\n",
    "#                                 kernel_size).float().to(device)\n",
    "\n",
    "#simpler model\n",
    "\n",
    "output_shape=(CATEGORY_COUNT,)\n",
    "model = testModel(out_channels=2,h_w=(1,h_w[0]*h_w[1]),kernel_size=kernel_size[0]*kernel_size[0],output_shape=output_shape)\n",
    "model.float().to(device)\n",
    "\n",
    "# device is defined before\n",
    "\n",
    "model.float().to(device)  # Move model before creating optimizer\n",
    "optimizer = torch.optim.AdamW(model.parameters(),\n",
    "#                                 weight_decay=config['weight_decay'],\n",
    "                             )\n",
    "\n",
    "\n",
    "\n",
    "criterion = nn.BCEWithLogitsLoss()\n",
    "# statHistory={'valLoss':[],'trainLoss':[],'trainAUC':[],'valAUC':[]}\n",
    "\n",
    "metrics = {\n",
    "    'loss': Loss(criterion),  # 'accuracy': Accuracy(),\n",
    "#     'ROC_AUC': ROC_AUC(runutils.activated_output_transform),\n",
    "    'ROC_AUC': ROC_AUC_perClass(activated_output_transform),\n",
    "\n",
    "}\n"
   ]
  },
  {
   "cell_type": "code",
   "execution_count": 47,
   "metadata": {},
   "outputs": [
    {
     "data": {
      "text/plain": [
       "testModel(\n",
       "  (conv1): Conv1d(1, 2, kernel_size=(16,), stride=(1,), padding=(1,))\n",
       "  (fc1): Linear(in_features=240102, out_features=64, bias=True)\n",
       "  (fc2): Linear(in_features=64, out_features=2, bias=True)\n",
       ")"
      ]
     },
     "execution_count": 47,
     "metadata": {},
     "output_type": "execute_result"
    }
   ],
   "source": [
    "model"
   ]
  },
  {
   "cell_type": "code",
   "execution_count": 48,
   "metadata": {},
   "outputs": [
    {
     "data": {
      "text/plain": [
       "Parameter containing:\n",
       "tensor([[[ 0.1911,  0.2075, -0.0586,  0.2297, -0.0548,  0.0504, -0.1217,\n",
       "           0.1468,  0.2204, -0.1834,  0.2173,  0.0468,  0.1847,  0.0339,\n",
       "           0.1205, -0.0353]],\n",
       "\n",
       "        [[ 0.1927,  0.0370, -0.1167,  0.0637, -0.1152, -0.0293, -0.1015,\n",
       "           0.1658, -0.1973, -0.1153, -0.0706, -0.1503,  0.0236, -0.2469,\n",
       "           0.2258, -0.2124]]], device='cuda:1', requires_grad=True)"
      ]
     },
     "execution_count": 48,
     "metadata": {},
     "output_type": "execute_result"
    }
   ],
   "source": [
    "model.conv1.weight"
   ]
  },
  {
   "cell_type": "code",
   "execution_count": 49,
   "metadata": {},
   "outputs": [
    {
     "data": {
      "text/plain": [
       "Conv1d(1, 2, kernel_size=(16,), stride=(1,), padding=(1,))"
      ]
     },
     "execution_count": 49,
     "metadata": {},
     "output_type": "execute_result"
    }
   ],
   "source": [
    "model.conv1"
   ]
  },
  {
   "cell_type": "code",
   "execution_count": 50,
   "metadata": {},
   "outputs": [
    {
     "data": {
      "text/plain": [
       "Parameter containing:\n",
       "tensor([[-6.6266e-04,  1.2611e-03,  3.1806e-04,  ..., -1.1344e-03,\n",
       "          1.7489e-04, -2.2777e-05],\n",
       "        [-1.3098e-03, -1.8677e-03, -6.3242e-04,  ..., -1.6664e-03,\n",
       "          6.8555e-04,  1.7273e-03],\n",
       "        [-1.5009e-03,  8.8956e-04,  6.2944e-04,  ...,  1.2712e-03,\n",
       "          1.2644e-03,  1.4021e-03],\n",
       "        ...,\n",
       "        [ 1.1005e-03, -1.7050e-03,  5.0363e-04,  ...,  1.6579e-03,\n",
       "          5.5793e-05,  1.2571e-04],\n",
       "        [-1.6759e-03,  1.6106e-03,  9.2794e-04,  ..., -1.7791e-03,\n",
       "          1.6985e-03, -8.0668e-04],\n",
       "        [-2.7139e-04, -1.2249e-03,  3.8873e-04,  ...,  1.9329e-03,\n",
       "          1.8754e-03, -1.3147e-03]], device='cuda:1', requires_grad=True)"
      ]
     },
     "execution_count": 50,
     "metadata": {},
     "output_type": "execute_result"
    }
   ],
   "source": [
    "model.fc1.weight"
   ]
  },
  {
   "cell_type": "code",
   "execution_count": null,
   "metadata": {},
   "outputs": [],
   "source": []
  },
  {
   "cell_type": "code",
   "execution_count": 51,
   "metadata": {},
   "outputs": [
    {
     "name": "stderr",
     "output_type": "stream",
     "text": [
      "Failed to query for notebook name, you can set it manually with the WANDB_NOTEBOOK_NAME environment variable\n",
      "\u001b[34m\u001b[1mwandb\u001b[0m: Currently logged in as: \u001b[33menisberk\u001b[0m (use `wandb login --relogin` to force relogin)\n"
     ]
    },
    {
     "name": "stdout",
     "output_type": "stream",
     "text": [
      "ready ?\n"
     ]
    },
    {
     "name": "stderr",
     "output_type": "stream",
     "text": [
      "\u001b[34m\u001b[1mwandb\u001b[0m: wandb version 0.10.15 is available!  To upgrade, please run:\n",
      "\u001b[34m\u001b[1mwandb\u001b[0m:  $ pip install wandb --upgrade\n"
     ]
    },
    {
     "data": {
      "text/html": [
       "\n",
       "                Tracking run with wandb version 0.10.12<br/>\n",
       "                Syncing run <strong style=\"color:#cdcd00\">mild-fire-155</strong> to <a href=\"https://wandb.ai\" target=\"_blank\">Weights & Biases</a> <a href=\"https://docs.wandb.com/integrations/jupyter.html\" target=\"_blank\">(Documentation)</a>.<br/>\n",
       "                Project page: <a href=\"https://wandb.ai/enisberk/megan\" target=\"_blank\">https://wandb.ai/enisberk/megan</a><br/>\n",
       "                Run page: <a href=\"https://wandb.ai/enisberk/megan/runs/27us3j8w\" target=\"_blank\">https://wandb.ai/enisberk/megan/runs/27us3j8w</a><br/>\n",
       "                Run data is saved locally in <code>/home/enis/projects/nna/src/nna/exp/megan/run-2/wandb/run-20210126_061547-27us3j8w</code><br/><br/>\n",
       "            "
      ],
      "text/plain": [
       "<IPython.core.display.HTML object>"
      ]
     },
     "metadata": {},
     "output_type": "display_data"
    },
    {
     "name": "stderr",
     "output_type": "stream",
     "text": [
      "2021-01-26 06:15:50,381 Trainer INFO: Engine run starting with max_epochs=2000.\n",
      "/scratch/enis/conda/envs/soundenv3/lib/python3.7/site-packages/torch/functional.py:516: UserWarning: stft will require the return_complex parameter be explicitly  specified in a future PyTorch release. Use return_complex=False  to preserve the current behavior or return_complex=True to return  a complex output. (Triggered internally at  /opt/conda/conda-bld/pytorch_1607370141920/work/aten/src/ATen/native/SpectralOps.cpp:653.)\n",
      "  normalized, onesided, return_complex)\n",
      "/scratch/enis/conda/envs/soundenv3/lib/python3.7/site-packages/torch/functional.py:516: UserWarning: The function torch.rfft is deprecated and will be removed in a future PyTorch release. Use the new torch.fft module functions, instead, by importing torch.fft and calling torch.fft.fft or torch.fft.rfft. (Triggered internally at  /opt/conda/conda-bld/pytorch_1607370141920/work/aten/src/ATen/native/SpectralOps.cpp:590.)\n",
      "  normalized, onesided, return_complex)\n",
      "2021-01-26 06:16:13,440 Train Evaluator INFO: Engine run starting with max_epochs=1.\n",
      "2021-01-26 06:16:34,809 Train Evaluator INFO: Epoch[1] Complete. Time taken: 00:00:21\n",
      "2021-01-26 06:16:34,812 Train Evaluator INFO: Engine run complete. Time taken: 00:00:21\n",
      "2021-01-26 06:16:34,814 Val Evaluator INFO: Engine run starting with max_epochs=1.\n",
      "2021-01-26 06:16:41,412 Val Evaluator INFO: Epoch[1] Complete. Time taken: 00:00:07\n",
      "2021-01-26 06:16:42,983 Val Evaluator INFO: Engine run complete. Time taken: 00:00:08\n",
      "\u001b[34m\u001b[1mwandb\u001b[0m: \u001b[33mWARNING\u001b[0m Step must only increase in log calls.  Step 1 < 15; dropping {'lr/group_0': 0.001}.\n",
      "2021-01-26 06:16:42,993 Trainer INFO: Epoch[1] Complete. Time taken: 00:00:53\n"
     ]
    },
    {
     "name": "stdout",
     "output_type": "stream",
     "text": [
      "train loss 1149.8802510180506\n",
      "val loss 1351.4247440411027\n",
      "validation roc auc [0.35854063 0.60129969] 1\n",
      "train roc auc [0.51348832 0.55012769] 1\n"
     ]
    },
    {
     "name": "stderr",
     "output_type": "stream",
     "text": [
      "2021-01-26 06:17:04,055 Train Evaluator INFO: Engine run starting with max_epochs=1.\n",
      "2021-01-26 06:17:22,673 Train Evaluator INFO: Epoch[1] Complete. Time taken: 00:00:19\n",
      "2021-01-26 06:17:22,677 Train Evaluator INFO: Engine run complete. Time taken: 00:00:19\n",
      "2021-01-26 06:17:22,679 Val Evaluator INFO: Engine run starting with max_epochs=1.\n",
      "2021-01-26 06:17:28,987 Val Evaluator INFO: Epoch[1] Complete. Time taken: 00:00:06\n",
      "2021-01-26 06:17:30,245 Val Evaluator INFO: Engine run complete. Time taken: 00:00:08\n",
      "\u001b[34m\u001b[1mwandb\u001b[0m: \u001b[33mWARNING\u001b[0m Step must only increase in log calls.  Step 2 < 30; dropping {'lr/group_0': 0.001}.\n",
      "2021-01-26 06:17:30,254 Trainer INFO: Epoch[2] Complete. Time taken: 00:00:47\n"
     ]
    },
    {
     "name": "stdout",
     "output_type": "stream",
     "text": [
      "train loss 224.82497829861111\n",
      "val loss 491.17537771820264\n",
      "validation roc auc [0.36567164 0.3992737 ] 2\n",
      "train roc auc [0.57246003 0.45975781] 2\n"
     ]
    },
    {
     "name": "stderr",
     "output_type": "stream",
     "text": [
      "2021-01-26 06:17:49,326 Train Evaluator INFO: Engine run starting with max_epochs=1.\n",
      "2021-01-26 06:18:08,278 Train Evaluator INFO: Epoch[1] Complete. Time taken: 00:00:19\n",
      "2021-01-26 06:18:08,281 Train Evaluator INFO: Engine run complete. Time taken: 00:00:19\n",
      "2021-01-26 06:18:08,283 Val Evaluator INFO: Engine run starting with max_epochs=1.\n",
      "2021-01-26 06:18:14,974 Val Evaluator INFO: Epoch[1] Complete. Time taken: 00:00:07\n",
      "2021-01-26 06:18:16,343 Val Evaluator INFO: Engine run complete. Time taken: 00:00:08\n",
      "\u001b[34m\u001b[1mwandb\u001b[0m: \u001b[33mWARNING\u001b[0m Step must only increase in log calls.  Step 3 < 45; dropping {'lr/group_0': 0.001}.\n",
      "2021-01-26 06:18:16,352 Trainer INFO: Epoch[3] Complete. Time taken: 00:00:46\n"
     ]
    },
    {
     "name": "stdout",
     "output_type": "stream",
     "text": [
      "train loss 202.31483791908147\n",
      "val loss 341.6163508907245\n",
      "validation roc auc [0.38474295 0.39583333] 3\n",
      "train roc auc [0.6152656  0.46540077] 3\n"
     ]
    },
    {
     "name": "stderr",
     "output_type": "stream",
     "text": [
      "2021-01-26 06:18:35,851 Train Evaluator INFO: Engine run starting with max_epochs=1.\n",
      "2021-01-26 06:18:55,177 Train Evaluator INFO: Epoch[1] Complete. Time taken: 00:00:19\n",
      "2021-01-26 06:18:55,180 Train Evaluator INFO: Engine run complete. Time taken: 00:00:19\n",
      "2021-01-26 06:18:55,181 Val Evaluator INFO: Engine run starting with max_epochs=1.\n",
      "2021-01-26 06:19:02,293 Val Evaluator INFO: Epoch[1] Complete. Time taken: 00:00:07\n",
      "2021-01-26 06:19:03,478 Val Evaluator INFO: Engine run complete. Time taken: 00:00:08\n",
      "\u001b[34m\u001b[1mwandb\u001b[0m: \u001b[33mWARNING\u001b[0m Step must only increase in log calls.  Step 4 < 60; dropping {'lr/group_0': 0.001}.\n",
      "2021-01-26 06:19:03,489 Trainer INFO: Epoch[4] Complete. Time taken: 00:00:47\n"
     ]
    },
    {
     "name": "stdout",
     "output_type": "stream",
     "text": [
      "train loss 258.46577975537\n",
      "val loss 388.3819210757116\n",
      "validation roc auc [0.37097844 0.37633792] 4\n",
      "train roc auc [0.52903955 0.51169783] 4\n"
     ]
    },
    {
     "name": "stderr",
     "output_type": "stream",
     "text": [
      "2021-01-26 06:19:21,780 Train Evaluator INFO: Engine run starting with max_epochs=1.\n",
      "2021-01-26 06:19:40,341 Train Evaluator INFO: Epoch[1] Complete. Time taken: 00:00:19\n",
      "2021-01-26 06:19:40,343 Train Evaluator INFO: Engine run complete. Time taken: 00:00:19\n",
      "2021-01-26 06:19:40,344 Val Evaluator INFO: Engine run starting with max_epochs=1.\n",
      "2021-01-26 06:19:46,763 Val Evaluator INFO: Epoch[1] Complete. Time taken: 00:00:06\n",
      "2021-01-26 06:19:48,009 Val Evaluator INFO: Engine run complete. Time taken: 00:00:08\n",
      "\u001b[34m\u001b[1mwandb\u001b[0m: \u001b[33mWARNING\u001b[0m Step must only increase in log calls.  Step 5 < 75; dropping {'lr/group_0': 0.001}.\n",
      "2021-01-26 06:19:48,018 Trainer INFO: Epoch[5] Complete. Time taken: 00:00:45\n"
     ]
    },
    {
     "name": "stdout",
     "output_type": "stream",
     "text": [
      "train loss 157.8475815185015\n",
      "val loss 234.11467806093253\n",
      "validation roc auc [0.37844113 0.44438073] 5\n",
      "train roc auc [0.54482882 0.62047945] 5\n"
     ]
    },
    {
     "name": "stderr",
     "output_type": "stream",
     "text": [
      "2021-01-26 06:20:05,857 Train Evaluator INFO: Engine run starting with max_epochs=1.\n",
      "2021-01-26 06:20:24,944 Train Evaluator INFO: Epoch[1] Complete. Time taken: 00:00:19\n",
      "2021-01-26 06:20:24,946 Train Evaluator INFO: Engine run complete. Time taken: 00:00:19\n",
      "2021-01-26 06:20:24,948 Val Evaluator INFO: Engine run starting with max_epochs=1.\n",
      "2021-01-26 06:20:32,434 Val Evaluator INFO: Epoch[1] Complete. Time taken: 00:00:07\n",
      "2021-01-26 06:20:33,660 Val Evaluator INFO: Engine run complete. Time taken: 00:00:09\n",
      "\u001b[34m\u001b[1mwandb\u001b[0m: \u001b[33mWARNING\u001b[0m Step must only increase in log calls.  Step 6 < 90; dropping {'lr/group_0': 0.001}.\n",
      "2021-01-26 06:20:33,673 Trainer INFO: Epoch[6] Complete. Time taken: 00:00:46\n"
     ]
    },
    {
     "name": "stdout",
     "output_type": "stream",
     "text": [
      "train loss 137.17039227122055\n",
      "val loss 159.2603212587393\n",
      "validation roc auc [0.38109453 0.58811162] 6\n",
      "train roc auc [0.55169199 0.58588022] 6\n"
     ]
    },
    {
     "name": "stderr",
     "output_type": "stream",
     "text": [
      "2021-01-26 06:20:51,537 Train Evaluator INFO: Engine run starting with max_epochs=1.\n",
      "2021-01-26 06:21:08,844 Train Evaluator INFO: Epoch[1] Complete. Time taken: 00:00:17\n",
      "2021-01-26 06:21:08,847 Train Evaluator INFO: Engine run complete. Time taken: 00:00:17\n",
      "2021-01-26 06:21:08,848 Val Evaluator INFO: Engine run starting with max_epochs=1.\n",
      "2021-01-26 06:21:14,309 Val Evaluator INFO: Epoch[1] Complete. Time taken: 00:00:05\n",
      "2021-01-26 06:21:15,522 Val Evaluator INFO: Engine run complete. Time taken: 00:00:07\n",
      "\u001b[34m\u001b[1mwandb\u001b[0m: \u001b[33mWARNING\u001b[0m Step must only increase in log calls.  Step 7 < 105; dropping {'lr/group_0': 0.001}.\n",
      "2021-01-26 06:21:15,534 Trainer INFO: Epoch[7] Complete. Time taken: 00:00:42\n"
     ]
    },
    {
     "name": "stdout",
     "output_type": "stream",
     "text": [
      "train loss 25.473808238708894\n",
      "val loss 27.175638927775584\n",
      "validation roc auc [0.41691542 0.60856269] 7\n",
      "train roc auc [0.62399334 0.61817283] 7\n"
     ]
    },
    {
     "name": "stderr",
     "output_type": "stream",
     "text": [
      "2021-01-26 06:21:32,919 Train Evaluator INFO: Engine run starting with max_epochs=1.\n",
      "2021-01-26 06:21:49,632 Train Evaluator INFO: Epoch[1] Complete. Time taken: 00:00:17\n",
      "2021-01-26 06:21:49,635 Train Evaluator INFO: Engine run complete. Time taken: 00:00:17\n",
      "2021-01-26 06:21:49,637 Val Evaluator INFO: Engine run starting with max_epochs=1.\n",
      "2021-01-26 06:21:55,987 Val Evaluator INFO: Epoch[1] Complete. Time taken: 00:00:06\n",
      "2021-01-26 06:21:57,223 Val Evaluator INFO: Engine run complete. Time taken: 00:00:08\n",
      "\u001b[34m\u001b[1mwandb\u001b[0m: \u001b[33mWARNING\u001b[0m Step must only increase in log calls.  Step 8 < 120; dropping {'lr/group_0': 0.001}.\n",
      "2021-01-26 06:21:57,234 Trainer INFO: Epoch[8] Complete. Time taken: 00:00:42\n"
     ]
    },
    {
     "name": "stdout",
     "output_type": "stream",
     "text": [
      "train loss 11.52413995697088\n",
      "val loss 22.821358698948174\n",
      "validation roc auc [0.43416252 0.53000765] 8\n",
      "train roc auc [0.62169239 0.70203476] 8\n"
     ]
    },
    {
     "name": "stderr",
     "output_type": "stream",
     "text": [
      "2021-01-26 06:22:13,943 Train Evaluator INFO: Engine run starting with max_epochs=1.\n",
      "2021-01-26 06:22:30,828 Train Evaluator INFO: Epoch[1] Complete. Time taken: 00:00:17\n",
      "2021-01-26 06:22:30,831 Train Evaluator INFO: Engine run complete. Time taken: 00:00:17\n",
      "2021-01-26 06:22:30,833 Val Evaluator INFO: Engine run starting with max_epochs=1.\n",
      "2021-01-26 06:22:37,452 Val Evaluator INFO: Epoch[1] Complete. Time taken: 00:00:07\n",
      "2021-01-26 06:22:38,718 Val Evaluator INFO: Engine run complete. Time taken: 00:00:08\n",
      "\u001b[34m\u001b[1mwandb\u001b[0m: \u001b[33mWARNING\u001b[0m Step must only increase in log calls.  Step 9 < 135; dropping {'lr/group_0': 0.001}.\n",
      "2021-01-26 06:22:38,729 Trainer INFO: Epoch[9] Complete. Time taken: 00:00:41\n"
     ]
    },
    {
     "name": "stdout",
     "output_type": "stream",
     "text": [
      "train loss 28.27830062400801\n",
      "val loss 41.08878178201663\n",
      "validation roc auc [0.45323383 0.36716361] 9\n",
      "train roc auc [0.65077161 0.58106104] 9\n"
     ]
    },
    {
     "name": "stderr",
     "output_type": "stream",
     "text": [
      "2021-01-26 06:22:54,575 Train Evaluator INFO: Engine run starting with max_epochs=1.\n",
      "2021-01-26 06:23:11,903 Train Evaluator INFO: Epoch[1] Complete. Time taken: 00:00:17\n",
      "2021-01-26 06:23:11,905 Train Evaluator INFO: Engine run complete. Time taken: 00:00:17\n",
      "2021-01-26 06:23:11,908 Val Evaluator INFO: Engine run starting with max_epochs=1.\n",
      "2021-01-26 06:23:18,109 Val Evaluator INFO: Epoch[1] Complete. Time taken: 00:00:06\n",
      "2021-01-26 06:23:19,313 Val Evaluator INFO: Engine run complete. Time taken: 00:00:07\n",
      "\u001b[34m\u001b[1mwandb\u001b[0m: \u001b[33mWARNING\u001b[0m Step must only increase in log calls.  Step 10 < 150; dropping {'lr/group_0': 0.001}.\n",
      "2021-01-26 06:23:19,324 Trainer INFO: Epoch[10] Complete. Time taken: 00:00:41\n"
     ]
    },
    {
     "name": "stdout",
     "output_type": "stream",
     "text": [
      "train loss 5.340075545581078\n",
      "val loss 12.981190608565216\n",
      "validation roc auc [0.46268657 0.60837156] 10\n",
      "train roc auc [0.64920459 0.70207595] 10\n"
     ]
    },
    {
     "name": "stderr",
     "output_type": "stream",
     "text": [
      "2021-01-26 06:23:37,148 Train Evaluator INFO: Engine run starting with max_epochs=1.\n",
      "2021-01-26 06:23:54,248 Train Evaluator INFO: Epoch[1] Complete. Time taken: 00:00:17\n",
      "2021-01-26 06:23:54,251 Train Evaluator INFO: Engine run complete. Time taken: 00:00:17\n",
      "2021-01-26 06:23:54,252 Val Evaluator INFO: Engine run starting with max_epochs=1.\n",
      "2021-01-26 06:24:00,472 Val Evaluator INFO: Epoch[1] Complete. Time taken: 00:00:06\n",
      "2021-01-26 06:24:01,789 Val Evaluator INFO: Engine run complete. Time taken: 00:00:08\n",
      "\u001b[34m\u001b[1mwandb\u001b[0m: \u001b[33mWARNING\u001b[0m Step must only increase in log calls.  Step 11 < 165; dropping {'lr/group_0': 0.001}.\n",
      "2021-01-26 06:24:01,800 Trainer INFO: Epoch[11] Complete. Time taken: 00:00:42\n"
     ]
    },
    {
     "name": "stdout",
     "output_type": "stream",
     "text": [
      "train loss 8.141467468411316\n",
      "val loss 13.500296343663695\n",
      "validation roc auc [0.48424544 0.60626911] 11\n",
      "train roc auc [0.67915658 0.71616278] 11\n"
     ]
    },
    {
     "name": "stderr",
     "output_type": "stream",
     "text": [
      "2021-01-26 06:24:18,568 Train Evaluator INFO: Engine run starting with max_epochs=1.\n",
      "2021-01-26 06:24:34,775 Train Evaluator INFO: Epoch[1] Complete. Time taken: 00:00:16\n",
      "2021-01-26 06:24:34,778 Train Evaluator INFO: Engine run complete. Time taken: 00:00:16\n",
      "2021-01-26 06:24:34,779 Val Evaluator INFO: Engine run starting with max_epochs=1.\n",
      "2021-01-26 06:24:40,370 Val Evaluator INFO: Epoch[1] Complete. Time taken: 00:00:06\n",
      "2021-01-26 06:24:41,635 Val Evaluator INFO: Engine run complete. Time taken: 00:00:07\n",
      "\u001b[34m\u001b[1mwandb\u001b[0m: \u001b[33mWARNING\u001b[0m Step must only increase in log calls.  Step 12 < 180; dropping {'lr/group_0': 0.001}.\n",
      "2021-01-26 06:24:41,645 Trainer INFO: Epoch[12] Complete. Time taken: 00:00:40\n"
     ]
    },
    {
     "name": "stdout",
     "output_type": "stream",
     "text": [
      "train loss 14.316249568997385\n",
      "val loss 21.11368984781253\n",
      "validation roc auc [0.4907131  0.60225535] 12\n",
      "train roc auc [0.68104098 0.73543949] 12\n"
     ]
    },
    {
     "name": "stderr",
     "output_type": "stream",
     "text": [
      "2021-01-26 06:24:58,184 Train Evaluator INFO: Engine run starting with max_epochs=1.\n",
      "2021-01-26 06:25:16,254 Train Evaluator INFO: Epoch[1] Complete. Time taken: 00:00:18\n",
      "2021-01-26 06:25:16,258 Train Evaluator INFO: Engine run complete. Time taken: 00:00:18\n",
      "2021-01-26 06:25:16,259 Val Evaluator INFO: Engine run starting with max_epochs=1.\n",
      "2021-01-26 06:25:21,800 Val Evaluator INFO: Epoch[1] Complete. Time taken: 00:00:06\n",
      "2021-01-26 06:25:23,088 Val Evaluator INFO: Engine run complete. Time taken: 00:00:07\n",
      "\u001b[34m\u001b[1mwandb\u001b[0m: \u001b[33mWARNING\u001b[0m Step must only increase in log calls.  Step 13 < 195; dropping {'lr/group_0': 0.001}.\n",
      "2021-01-26 06:25:23,100 Trainer INFO: Epoch[13] Complete. Time taken: 00:00:41\n"
     ]
    },
    {
     "name": "stdout",
     "output_type": "stream",
     "text": [
      "train loss 2.4664121016957403\n",
      "val loss 2.7819989699466974\n",
      "validation roc auc [0.51028192 0.59613914] 13\n",
      "train roc auc [0.73039235 0.68803032] 13\n"
     ]
    },
    {
     "name": "stderr",
     "output_type": "stream",
     "text": [
      "2021-01-26 06:25:40,504 Train Evaluator INFO: Engine run starting with max_epochs=1.\n",
      "2021-01-26 06:25:57,134 Train Evaluator INFO: Epoch[1] Complete. Time taken: 00:00:17\n",
      "2021-01-26 06:25:57,136 Train Evaluator INFO: Engine run complete. Time taken: 00:00:17\n",
      "2021-01-26 06:25:57,138 Val Evaluator INFO: Engine run starting with max_epochs=1.\n",
      "2021-01-26 06:26:03,316 Val Evaluator INFO: Epoch[1] Complete. Time taken: 00:00:06\n",
      "2021-01-26 06:26:04,634 Val Evaluator INFO: Engine run complete. Time taken: 00:00:07\n",
      "\u001b[34m\u001b[1mwandb\u001b[0m: \u001b[33mWARNING\u001b[0m Step must only increase in log calls.  Step 14 < 210; dropping {'lr/group_0': 0.001}.\n",
      "2021-01-26 06:26:04,644 Trainer INFO: Epoch[14] Complete. Time taken: 00:00:42\n"
     ]
    },
    {
     "name": "stdout",
     "output_type": "stream",
     "text": [
      "train loss 2.42809764712984\n",
      "val loss 3.557984317184254\n",
      "validation roc auc [0.51558872 0.59881498] 14\n",
      "train roc auc [0.75584163 0.72275311] 14\n"
     ]
    },
    {
     "name": "stderr",
     "output_type": "stream",
     "text": [
      "2021-01-26 06:26:25,648 Train Evaluator INFO: Engine run starting with max_epochs=1.\n",
      "2021-01-26 06:26:44,827 Train Evaluator INFO: Epoch[1] Complete. Time taken: 00:00:19\n",
      "2021-01-26 06:26:44,833 Train Evaluator INFO: Engine run complete. Time taken: 00:00:19\n",
      "2021-01-26 06:26:44,835 Val Evaluator INFO: Engine run starting with max_epochs=1.\n",
      "2021-01-26 06:26:51,785 Val Evaluator INFO: Epoch[1] Complete. Time taken: 00:00:07\n",
      "2021-01-26 06:26:53,034 Val Evaluator INFO: Engine run complete. Time taken: 00:00:08\n",
      "\u001b[34m\u001b[1mwandb\u001b[0m: \u001b[33mWARNING\u001b[0m Step must only increase in log calls.  Step 15 < 225; dropping {'lr/group_0': 0.001}.\n",
      "2021-01-26 06:26:53,043 Trainer INFO: Epoch[15] Complete. Time taken: 00:00:48\n"
     ]
    },
    {
     "name": "stdout",
     "output_type": "stream",
     "text": [
      "train loss 8.797252871112367\n",
      "val loss 19.450388149091392\n",
      "validation roc auc [0.52155887 0.38742355] 15\n",
      "train roc auc [0.78031896 0.54431996] 15\n"
     ]
    },
    {
     "name": "stderr",
     "output_type": "stream",
     "text": [
      "2021-01-26 06:27:12,849 Train Evaluator INFO: Engine run starting with max_epochs=1.\n",
      "2021-01-26 06:27:33,284 Train Evaluator INFO: Epoch[1] Complete. Time taken: 00:00:20\n",
      "2021-01-26 06:27:33,287 Train Evaluator INFO: Engine run complete. Time taken: 00:00:20\n",
      "2021-01-26 06:27:33,289 Val Evaluator INFO: Engine run starting with max_epochs=1.\n",
      "2021-01-26 06:27:40,358 Val Evaluator INFO: Epoch[1] Complete. Time taken: 00:00:07\n",
      "2021-01-26 06:27:40,361 Val Evaluator INFO: Engine run complete. Time taken: 00:00:07\n",
      "\u001b[34m\u001b[1mwandb\u001b[0m: \u001b[33mWARNING\u001b[0m Step must only increase in log calls.  Step 16 < 240; dropping {'lr/group_0': 0.001}.\n",
      "2021-01-26 06:27:40,372 Trainer INFO: Epoch[16] Complete. Time taken: 00:00:47\n"
     ]
    },
    {
     "name": "stdout",
     "output_type": "stream",
     "text": [
      "train loss 5.325504886818348\n",
      "val loss 9.834860993039076\n",
      "validation roc auc [0.51426202 0.31383792] 16\n",
      "train roc auc [0.82330305 0.79409342] 16\n"
     ]
    },
    {
     "name": "stderr",
     "output_type": "stream",
     "text": [
      "2021-01-26 06:28:00,766 Train Evaluator INFO: Engine run starting with max_epochs=1.\n",
      "2021-01-26 06:28:22,288 Train Evaluator INFO: Epoch[1] Complete. Time taken: 00:00:22\n",
      "2021-01-26 06:28:22,291 Train Evaluator INFO: Engine run complete. Time taken: 00:00:22\n",
      "2021-01-26 06:28:22,292 Val Evaluator INFO: Engine run starting with max_epochs=1.\n",
      "2021-01-26 06:28:29,841 Val Evaluator INFO: Epoch[1] Complete. Time taken: 00:00:08\n",
      "2021-01-26 06:28:31,120 Val Evaluator INFO: Engine run complete. Time taken: 00:00:09\n",
      "\u001b[34m\u001b[1mwandb\u001b[0m: \u001b[33mWARNING\u001b[0m Step must only increase in log calls.  Step 17 < 255; dropping {'lr/group_0': 0.001}.\n",
      "2021-01-26 06:28:31,130 Trainer INFO: Epoch[17] Complete. Time taken: 00:00:51\n"
     ]
    },
    {
     "name": "stdout",
     "output_type": "stream",
     "text": [
      "train loss 0.617441139060168\n",
      "val loss 0.7269600770276063\n",
      "validation roc auc [0.72951907 0.57454128] 17\n",
      "train roc auc [0.57216249 0.50889694] 17\n"
     ]
    },
    {
     "name": "stderr",
     "output_type": "stream",
     "text": [
      "2021-01-26 06:28:51,797 Train Evaluator INFO: Engine run starting with max_epochs=1.\n",
      "2021-01-26 06:29:11,480 Train Evaluator INFO: Epoch[1] Complete. Time taken: 00:00:20\n",
      "2021-01-26 06:29:11,483 Train Evaluator INFO: Engine run complete. Time taken: 00:00:20\n",
      "2021-01-26 06:29:11,484 Val Evaluator INFO: Engine run starting with max_epochs=1.\n",
      "2021-01-26 06:29:17,499 Val Evaluator INFO: Epoch[1] Complete. Time taken: 00:00:06\n",
      "2021-01-26 06:29:18,739 Val Evaluator INFO: Engine run complete. Time taken: 00:00:07\n",
      "\u001b[34m\u001b[1mwandb\u001b[0m: \u001b[33mWARNING\u001b[0m Step must only increase in log calls.  Step 18 < 270; dropping {'lr/group_0': 0.001}.\n",
      "2021-01-26 06:29:18,750 Trainer INFO: Epoch[18] Complete. Time taken: 00:00:48\n"
     ]
    },
    {
     "name": "stdout",
     "output_type": "stream",
     "text": [
      "train loss 0.6926385052583316\n",
      "val loss 0.6909673760651024\n",
      "validation roc auc [0.6066335  0.60263761] 18\n",
      "train roc auc [0.66445829 0.60289151] 18\n"
     ]
    },
    {
     "name": "stderr",
     "output_type": "stream",
     "text": [
      "2021-01-26 06:29:37,548 Train Evaluator INFO: Engine run starting with max_epochs=1.\n",
      "2021-01-26 06:29:57,163 Train Evaluator INFO: Epoch[1] Complete. Time taken: 00:00:20\n",
      "2021-01-26 06:29:57,167 Train Evaluator INFO: Engine run complete. Time taken: 00:00:20\n",
      "2021-01-26 06:29:57,168 Val Evaluator INFO: Engine run starting with max_epochs=1.\n",
      "2021-01-26 06:30:05,069 Val Evaluator INFO: Epoch[1] Complete. Time taken: 00:00:08\n",
      "2021-01-26 06:30:06,618 Val Evaluator INFO: Engine run complete. Time taken: 00:00:09\n",
      "\u001b[34m\u001b[1mwandb\u001b[0m: \u001b[33mWARNING\u001b[0m Step must only increase in log calls.  Step 19 < 285; dropping {'lr/group_0': 0.001}.\n",
      "2021-01-26 06:30:06,627 Trainer INFO: Epoch[19] Complete. Time taken: 00:00:48\n"
     ]
    },
    {
     "name": "stdout",
     "output_type": "stream",
     "text": [
      "train loss 0.6886330632602468\n",
      "val loss 0.6902092581341981\n",
      "validation roc auc [0.59154229 0.57358563] 19\n",
      "train roc auc [0.64202404 0.69546503] 19\n"
     ]
    },
    {
     "name": "stderr",
     "output_type": "stream",
     "text": [
      "2021-01-26 06:30:26,662 Train Evaluator INFO: Engine run starting with max_epochs=1.\n",
      "2021-01-26 06:30:45,739 Train Evaluator INFO: Epoch[1] Complete. Time taken: 00:00:19\n",
      "2021-01-26 06:30:45,743 Train Evaluator INFO: Engine run complete. Time taken: 00:00:19\n",
      "2021-01-26 06:30:45,744 Val Evaluator INFO: Engine run starting with max_epochs=1.\n",
      "2021-01-26 06:30:52,674 Val Evaluator INFO: Epoch[1] Complete. Time taken: 00:00:07\n",
      "2021-01-26 06:30:54,009 Val Evaluator INFO: Engine run complete. Time taken: 00:00:08\n",
      "\u001b[34m\u001b[1mwandb\u001b[0m: \u001b[33mWARNING\u001b[0m Step must only increase in log calls.  Step 20 < 300; dropping {'lr/group_0': 0.001}.\n",
      "2021-01-26 06:30:54,022 Trainer INFO: Epoch[20] Complete. Time taken: 00:00:47\n"
     ]
    },
    {
     "name": "stdout",
     "output_type": "stream",
     "text": [
      "train loss 0.6782356990188815\n",
      "val loss 0.6873678090466055\n",
      "validation roc auc [0.56567164 0.54835627] 20\n",
      "train roc auc [0.6303507  0.76503419] 20\n"
     ]
    },
    {
     "name": "stderr",
     "output_type": "stream",
     "text": [
      "2021-01-26 06:31:13,446 Train Evaluator INFO: Engine run starting with max_epochs=1.\n",
      "2021-01-26 06:31:32,617 Train Evaluator INFO: Epoch[1] Complete. Time taken: 00:00:19\n",
      "2021-01-26 06:31:32,622 Train Evaluator INFO: Engine run complete. Time taken: 00:00:19\n",
      "2021-01-26 06:31:32,624 Val Evaluator INFO: Engine run starting with max_epochs=1.\n",
      "2021-01-26 06:31:39,025 Val Evaluator INFO: Epoch[1] Complete. Time taken: 00:00:06\n",
      "2021-01-26 06:31:40,267 Val Evaluator INFO: Engine run complete. Time taken: 00:00:08\n",
      "\u001b[34m\u001b[1mwandb\u001b[0m: \u001b[33mWARNING\u001b[0m Step must only increase in log calls.  Step 21 < 315; dropping {'lr/group_0': 0.001}.\n",
      "2021-01-26 06:31:40,275 Trainer INFO: Epoch[21] Complete. Time taken: 00:00:46\n"
     ]
    },
    {
     "name": "stdout",
     "output_type": "stream",
     "text": [
      "train loss 0.6629069626720903\n",
      "val loss 0.6838159033447314\n",
      "validation roc auc [0.52669983 0.50057339] 21\n",
      "train roc auc [0.62760344 0.78857402] 21\n"
     ]
    },
    {
     "name": "stderr",
     "output_type": "stream",
     "text": [
      "2021-01-26 06:31:58,601 Train Evaluator INFO: Engine run starting with max_epochs=1.\n",
      "2021-01-26 06:32:16,129 Train Evaluator INFO: Epoch[1] Complete. Time taken: 00:00:18\n",
      "2021-01-26 06:32:16,132 Train Evaluator INFO: Engine run complete. Time taken: 00:00:18\n",
      "2021-01-26 06:32:16,133 Val Evaluator INFO: Engine run starting with max_epochs=1.\n",
      "2021-01-26 06:32:22,314 Val Evaluator INFO: Epoch[1] Complete. Time taken: 00:00:06\n",
      "2021-01-26 06:32:22,318 Val Evaluator INFO: Engine run complete. Time taken: 00:00:06\n",
      "\u001b[34m\u001b[1mwandb\u001b[0m: \u001b[33mWARNING\u001b[0m Step must only increase in log calls.  Step 22 < 330; dropping {'lr/group_0': 0.001}.\n",
      "2021-01-26 06:32:22,330 Trainer INFO: Epoch[22] Complete. Time taken: 00:00:42\n"
     ]
    },
    {
     "name": "stdout",
     "output_type": "stream",
     "text": [
      "train loss 0.6440295465371707\n",
      "val loss 0.6799734276571091\n",
      "validation roc auc [0.51343284 0.47419725] 22\n",
      "train roc auc [0.63111437 0.79874784] 22\n"
     ]
    },
    {
     "name": "stderr",
     "output_type": "stream",
     "text": [
      "2021-01-26 06:32:41,434 Train Evaluator INFO: Engine run starting with max_epochs=1.\n",
      "2021-01-26 06:32:59,175 Train Evaluator INFO: Epoch[1] Complete. Time taken: 00:00:18\n",
      "2021-01-26 06:32:59,178 Train Evaluator INFO: Engine run complete. Time taken: 00:00:18\n",
      "2021-01-26 06:32:59,180 Val Evaluator INFO: Engine run starting with max_epochs=1.\n",
      "2021-01-26 06:33:05,407 Val Evaluator INFO: Epoch[1] Complete. Time taken: 00:00:06\n",
      "2021-01-26 06:33:05,410 Val Evaluator INFO: Engine run complete. Time taken: 00:00:06\n",
      "\u001b[34m\u001b[1mwandb\u001b[0m: \u001b[33mWARNING\u001b[0m Step must only increase in log calls.  Step 23 < 345; dropping {'lr/group_0': 0.001}.\n",
      "2021-01-26 06:33:05,419 Trainer INFO: Epoch[23] Complete. Time taken: 00:00:43\n"
     ]
    },
    {
     "name": "stdout",
     "output_type": "stream",
     "text": [
      "train loss 0.6217228588455384\n",
      "val loss 0.6764945862399545\n",
      "validation roc auc [0.49817579 0.45584862] 23\n",
      "train roc auc [0.63719403 0.81839525] 23\n"
     ]
    },
    {
     "name": "stderr",
     "output_type": "stream",
     "text": [
      "2021-01-26 06:33:23,684 Train Evaluator INFO: Engine run starting with max_epochs=1.\n",
      "2021-01-26 06:33:41,954 Train Evaluator INFO: Epoch[1] Complete. Time taken: 00:00:18\n",
      "2021-01-26 06:33:41,957 Train Evaluator INFO: Engine run complete. Time taken: 00:00:18\n",
      "2021-01-26 06:33:41,958 Val Evaluator INFO: Engine run starting with max_epochs=1.\n",
      "2021-01-26 06:33:47,733 Val Evaluator INFO: Epoch[1] Complete. Time taken: 00:00:06\n",
      "2021-01-26 06:33:47,735 Val Evaluator INFO: Engine run complete. Time taken: 00:00:06\n",
      "\u001b[34m\u001b[1mwandb\u001b[0m: \u001b[33mWARNING\u001b[0m Step must only increase in log calls.  Step 24 < 360; dropping {'lr/group_0': 0.001}.\n",
      "2021-01-26 06:33:47,743 Trainer INFO: Epoch[24] Complete. Time taken: 00:00:42\n"
     ]
    },
    {
     "name": "stdout",
     "output_type": "stream",
     "text": [
      "train loss 0.5965170948593704\n",
      "val loss 0.6737880847256654\n",
      "validation roc auc [0.49386401 0.44399847] 24\n",
      "train roc auc [0.64374975 0.82939287] 24\n"
     ]
    },
    {
     "name": "stderr",
     "output_type": "stream",
     "text": [
      "2021-01-26 06:34:07,961 Train Evaluator INFO: Engine run starting with max_epochs=1.\n",
      "2021-01-26 06:34:26,195 Train Evaluator INFO: Epoch[1] Complete. Time taken: 00:00:18\n",
      "2021-01-26 06:34:26,198 Train Evaluator INFO: Engine run complete. Time taken: 00:00:18\n",
      "2021-01-26 06:34:26,199 Val Evaluator INFO: Engine run starting with max_epochs=1.\n",
      "2021-01-26 06:34:32,390 Val Evaluator INFO: Epoch[1] Complete. Time taken: 00:00:06\n",
      "2021-01-26 06:34:32,392 Val Evaluator INFO: Engine run complete. Time taken: 00:00:06\n",
      "\u001b[34m\u001b[1mwandb\u001b[0m: \u001b[33mWARNING\u001b[0m Step must only increase in log calls.  Step 25 < 375; dropping {'lr/group_0': 0.001}.\n",
      "2021-01-26 06:34:32,403 Trainer INFO: Epoch[25] Complete. Time taken: 00:00:45\n"
     ]
    },
    {
     "name": "stdout",
     "output_type": "stream",
     "text": [
      "train loss 0.5688403426691857\n",
      "val loss 0.6729489659807485\n",
      "validation roc auc [0.48656716 0.43367737] 25\n",
      "train roc auc [0.67086524 0.84156438] 25\n"
     ]
    },
    {
     "name": "stderr",
     "output_type": "stream",
     "text": [
      "2021-01-26 06:34:51,589 Train Evaluator INFO: Engine run starting with max_epochs=1.\n",
      "2021-01-26 06:35:09,245 Train Evaluator INFO: Epoch[1] Complete. Time taken: 00:00:18\n",
      "2021-01-26 06:35:09,248 Train Evaluator INFO: Engine run complete. Time taken: 00:00:18\n",
      "2021-01-26 06:35:09,250 Val Evaluator INFO: Engine run starting with max_epochs=1.\n",
      "2021-01-26 06:35:14,984 Val Evaluator INFO: Epoch[1] Complete. Time taken: 00:00:06\n",
      "2021-01-26 06:35:14,988 Val Evaluator INFO: Engine run complete. Time taken: 00:00:06\n",
      "\u001b[34m\u001b[1mwandb\u001b[0m: \u001b[33mWARNING\u001b[0m Step must only increase in log calls.  Step 26 < 390; dropping {'lr/group_0': 0.001}.\n",
      "2021-01-26 06:35:14,997 Trainer INFO: Epoch[26] Complete. Time taken: 00:00:43\n"
     ]
    },
    {
     "name": "stdout",
     "output_type": "stream",
     "text": [
      "train loss 0.5382268715138528\n",
      "val loss 0.6751115716946353\n",
      "validation roc auc [0.48109453 0.42603211] 26\n",
      "train roc auc [0.70773991 0.8568457 ] 26\n"
     ]
    },
    {
     "name": "stderr",
     "output_type": "stream",
     "text": [
      "2021-01-26 06:35:32,539 Train Evaluator INFO: Engine run starting with max_epochs=1.\n",
      "2021-01-26 06:35:48,428 Train Evaluator INFO: Epoch[1] Complete. Time taken: 00:00:16\n",
      "2021-01-26 06:35:48,430 Train Evaluator INFO: Engine run complete. Time taken: 00:00:16\n",
      "2021-01-26 06:35:48,432 Val Evaluator INFO: Engine run starting with max_epochs=1.\n",
      "2021-01-26 06:35:54,526 Val Evaluator INFO: Epoch[1] Complete. Time taken: 00:00:06\n",
      "2021-01-26 06:35:54,530 Val Evaluator INFO: Engine run complete. Time taken: 00:00:06\n",
      "\u001b[34m\u001b[1mwandb\u001b[0m: \u001b[33mWARNING\u001b[0m Step must only increase in log calls.  Step 27 < 405; dropping {'lr/group_0': 0.001}.\n",
      "2021-01-26 06:35:54,540 Trainer INFO: Epoch[27] Complete. Time taken: 00:00:40\n"
     ]
    },
    {
     "name": "stdout",
     "output_type": "stream",
     "text": [
      "train loss 0.5068321677334687\n",
      "val loss 0.6807409923547393\n",
      "validation roc auc [0.47844113 0.42029817] 27\n",
      "train roc auc [0.77212679 0.86811105] 27\n"
     ]
    },
    {
     "name": "stderr",
     "output_type": "stream",
     "text": [
      "2021-01-26 06:36:13,406 Train Evaluator INFO: Engine run starting with max_epochs=1.\n",
      "2021-01-26 06:36:31,548 Train Evaluator INFO: Epoch[1] Complete. Time taken: 00:00:18\n",
      "2021-01-26 06:36:31,552 Train Evaluator INFO: Engine run complete. Time taken: 00:00:18\n",
      "2021-01-26 06:36:31,553 Val Evaluator INFO: Engine run starting with max_epochs=1.\n",
      "2021-01-26 06:36:37,308 Val Evaluator INFO: Epoch[1] Complete. Time taken: 00:00:06\n",
      "2021-01-26 06:36:37,311 Val Evaluator INFO: Engine run complete. Time taken: 00:00:06\n",
      "\u001b[34m\u001b[1mwandb\u001b[0m: \u001b[33mWARNING\u001b[0m Step must only increase in log calls.  Step 28 < 420; dropping {'lr/group_0': 0.001}.\n",
      "2021-01-26 06:36:37,320 Trainer INFO: Epoch[28] Complete. Time taken: 00:00:43\n"
     ]
    },
    {
     "name": "stdout",
     "output_type": "stream",
     "text": [
      "train loss 0.47615347409819725\n",
      "val loss 0.6904158611206492\n",
      "validation roc auc [0.49253731 0.41571101] 28\n",
      "train roc auc [0.83405403 0.87235357] 28\n"
     ]
    },
    {
     "name": "stderr",
     "output_type": "stream",
     "text": [
      "2021-01-26 06:36:53,717 Train Evaluator INFO: Engine run starting with max_epochs=1.\n",
      "2021-01-26 06:37:10,866 Train Evaluator INFO: Epoch[1] Complete. Time taken: 00:00:17\n",
      "2021-01-26 06:37:10,869 Train Evaluator INFO: Engine run complete. Time taken: 00:00:17\n",
      "2021-01-26 06:37:10,871 Val Evaluator INFO: Engine run starting with max_epochs=1.\n",
      "2021-01-26 06:37:16,653 Val Evaluator INFO: Epoch[1] Complete. Time taken: 00:00:06\n",
      "2021-01-26 06:37:16,656 Val Evaluator INFO: Engine run complete. Time taken: 00:00:06\n",
      "\u001b[34m\u001b[1mwandb\u001b[0m: \u001b[33mWARNING\u001b[0m Step must only increase in log calls.  Step 29 < 435; dropping {'lr/group_0': 0.001}.\n",
      "2021-01-26 06:37:16,666 Trainer INFO: Epoch[29] Complete. Time taken: 00:00:39\n"
     ]
    },
    {
     "name": "stdout",
     "output_type": "stream",
     "text": [
      "train loss 0.4489455799651302\n",
      "val loss 0.7042375954852742\n",
      "validation roc auc [0.50961857 0.40902141] 29\n",
      "train roc auc [0.87759353 0.87218881] 29\n"
     ]
    },
    {
     "name": "stderr",
     "output_type": "stream",
     "text": [
      "2021-01-26 06:37:33,457 Train Evaluator INFO: Engine run starting with max_epochs=1.\n",
      "2021-01-26 06:37:51,357 Train Evaluator INFO: Epoch[1] Complete. Time taken: 00:00:18\n",
      "2021-01-26 06:37:51,360 Train Evaluator INFO: Engine run complete. Time taken: 00:00:18\n",
      "2021-01-26 06:37:51,362 Val Evaluator INFO: Engine run starting with max_epochs=1.\n",
      "2021-01-26 06:37:56,674 Val Evaluator INFO: Epoch[1] Complete. Time taken: 00:00:05\n",
      "2021-01-26 06:37:56,678 Val Evaluator INFO: Engine run complete. Time taken: 00:00:05\n",
      "\u001b[34m\u001b[1mwandb\u001b[0m: \u001b[33mWARNING\u001b[0m Step must only increase in log calls.  Step 30 < 450; dropping {'lr/group_0': 0.001}.\n",
      "2021-01-26 06:37:56,690 Trainer INFO: Epoch[30] Complete. Time taken: 00:00:40\n"
     ]
    },
    {
     "name": "stdout",
     "output_type": "stream",
     "text": [
      "train loss 0.42255258560180664\n",
      "val loss 0.7211938686431594\n",
      "validation roc auc [0.51393035 0.40711009] 30\n",
      "train roc auc [0.91462689 0.88475163] 30\n"
     ]
    },
    {
     "name": "stderr",
     "output_type": "stream",
     "text": [
      "2021-01-26 06:38:13,805 Train Evaluator INFO: Engine run starting with max_epochs=1.\n",
      "2021-01-26 06:38:31,349 Train Evaluator INFO: Epoch[1] Complete. Time taken: 00:00:18\n",
      "2021-01-26 06:38:31,353 Train Evaluator INFO: Engine run complete. Time taken: 00:00:18\n",
      "2021-01-26 06:38:31,354 Val Evaluator INFO: Engine run starting with max_epochs=1.\n",
      "2021-01-26 06:38:37,590 Val Evaluator INFO: Epoch[1] Complete. Time taken: 00:00:06\n",
      "2021-01-26 06:38:37,592 Val Evaluator INFO: Engine run complete. Time taken: 00:00:06\n",
      "\u001b[34m\u001b[1mwandb\u001b[0m: \u001b[33mWARNING\u001b[0m Step must only increase in log calls.  Step 31 < 465; dropping {'lr/group_0': 0.001}.\n",
      "2021-01-26 06:38:37,606 Trainer INFO: Epoch[31] Complete. Time taken: 00:00:41\n"
     ]
    },
    {
     "name": "stdout",
     "output_type": "stream",
     "text": [
      "train loss 0.3988059153354246\n",
      "val loss 0.7400151745528932\n",
      "validation roc auc [0.5278607  0.41704893] 31\n",
      "train roc auc [0.9476931  0.89653184] 31\n"
     ]
    },
    {
     "name": "stderr",
     "output_type": "stream",
     "text": [
      "2021-01-26 06:38:55,474 Train Evaluator INFO: Engine run starting with max_epochs=1.\n",
      "2021-01-26 06:39:39,565 Train Evaluator INFO: Epoch[1] Complete. Time taken: 00:00:44\n",
      "2021-01-26 06:39:39,568 Train Evaluator INFO: Engine run complete. Time taken: 00:00:44\n",
      "2021-01-26 06:39:39,571 Val Evaluator INFO: Engine run starting with max_epochs=1.\n",
      "2021-01-26 06:40:01,080 Val Evaluator INFO: Epoch[1] Complete. Time taken: 00:00:22\n",
      "2021-01-26 06:40:01,083 Val Evaluator INFO: Engine run complete. Time taken: 00:00:22\n",
      "\u001b[34m\u001b[1mwandb\u001b[0m: \u001b[33mWARNING\u001b[0m Step must only increase in log calls.  Step 32 < 480; dropping {'lr/group_0': 0.001}.\n",
      "2021-01-26 06:40:01,096 Trainer INFO: Epoch[32] Complete. Time taken: 00:01:23\n"
     ]
    },
    {
     "name": "stdout",
     "output_type": "stream",
     "text": [
      "train loss 0.3755036439251536\n",
      "val loss 0.7587349012399175\n",
      "validation roc auc [0.54643449 0.44571865] 32\n",
      "train roc auc [0.96988932 0.91370788] 32\n"
     ]
    },
    {
     "name": "stderr",
     "output_type": "stream",
     "text": [
      "2021-01-26 06:41:10,819 Train Evaluator INFO: Engine run starting with max_epochs=1.\n",
      "2021-01-26 06:42:15,932 Train Evaluator INFO: Epoch[1] Complete. Time taken: 00:01:05\n",
      "2021-01-26 06:42:15,941 Train Evaluator INFO: Engine run complete. Time taken: 00:01:05\n",
      "2021-01-26 06:42:15,943 Val Evaluator INFO: Engine run starting with max_epochs=1.\n",
      "2021-01-26 06:42:40,564 Val Evaluator INFO: Epoch[1] Complete. Time taken: 00:00:25\n",
      "2021-01-26 06:42:41,893 Val Evaluator INFO: Engine run complete. Time taken: 00:00:26\n",
      "\u001b[34m\u001b[1mwandb\u001b[0m: \u001b[33mWARNING\u001b[0m Step must only increase in log calls.  Step 33 < 495; dropping {'lr/group_0': 0.001}.\n",
      "2021-01-26 06:42:41,906 Trainer INFO: Epoch[33] Complete. Time taken: 00:02:41\n"
     ]
    },
    {
     "name": "stdout",
     "output_type": "stream",
     "text": [
      "train loss 0.35161332321842254\n",
      "val loss 0.7761542956540539\n",
      "validation roc auc [0.58225539 0.48318043] 33\n",
      "train roc auc [0.98264371 0.92639427] 33\n"
     ]
    },
    {
     "name": "stderr",
     "output_type": "stream",
     "text": [
      "2021-01-26 06:43:54,407 Train Evaluator INFO: Engine run starting with max_epochs=1.\n",
      "2021-01-26 06:45:03,332 Train Evaluator INFO: Epoch[1] Complete. Time taken: 00:01:09\n",
      "2021-01-26 06:45:03,336 Train Evaluator INFO: Engine run complete. Time taken: 00:01:09\n",
      "2021-01-26 06:45:03,338 Val Evaluator INFO: Engine run starting with max_epochs=1.\n",
      "2021-01-26 06:45:26,731 Val Evaluator INFO: Epoch[1] Complete. Time taken: 00:00:23\n",
      "2021-01-26 06:45:27,967 Val Evaluator INFO: Engine run complete. Time taken: 00:00:25\n",
      "\u001b[34m\u001b[1mwandb\u001b[0m: \u001b[33mWARNING\u001b[0m Step must only increase in log calls.  Step 34 < 510; dropping {'lr/group_0': 0.001}.\n",
      "2021-01-26 06:45:27,980 Trainer INFO: Epoch[34] Complete. Time taken: 00:02:46\n"
     ]
    },
    {
     "name": "stdout",
     "output_type": "stream",
     "text": [
      "train loss 0.328395137340155\n",
      "val loss 0.7941072074471006\n",
      "validation roc auc [0.61791045 0.52752294] 34\n",
      "train roc auc [0.99123259 0.93825686] 34\n"
     ]
    },
    {
     "name": "stderr",
     "output_type": "stream",
     "text": [
      "2021-01-26 06:46:38,393 Train Evaluator INFO: Engine run starting with max_epochs=1.\n",
      "2021-01-26 06:47:44,472 Train Evaluator INFO: Epoch[1] Complete. Time taken: 00:01:06\n",
      "2021-01-26 06:47:44,476 Train Evaluator INFO: Engine run complete. Time taken: 00:01:06\n",
      "2021-01-26 06:47:44,477 Val Evaluator INFO: Engine run starting with max_epochs=1.\n",
      "2021-01-26 06:48:09,145 Val Evaluator INFO: Epoch[1] Complete. Time taken: 00:00:25\n",
      "2021-01-26 06:48:10,382 Val Evaluator INFO: Engine run complete. Time taken: 00:00:26\n",
      "\u001b[34m\u001b[1mwandb\u001b[0m: \u001b[33mWARNING\u001b[0m Step must only increase in log calls.  Step 35 < 525; dropping {'lr/group_0': 0.001}.\n",
      "2021-01-26 06:48:10,391 Trainer INFO: Epoch[35] Complete. Time taken: 00:02:42\n"
     ]
    },
    {
     "name": "stdout",
     "output_type": "stream",
     "text": [
      "train loss 0.30283294556447365\n",
      "val loss 0.819802374217161\n",
      "validation roc auc [0.64693201 0.56727829] 35\n",
      "train roc auc [0.99575515 0.95353818] 35\n"
     ]
    },
    {
     "name": "stderr",
     "output_type": "stream",
     "text": [
      "2021-01-26 06:49:19,130 Train Evaluator INFO: Engine run starting with max_epochs=1.\n",
      "2021-01-26 06:50:23,192 Train Evaluator INFO: Epoch[1] Complete. Time taken: 00:01:04\n",
      "2021-01-26 06:50:23,195 Train Evaluator INFO: Engine run complete. Time taken: 00:01:04\n",
      "2021-01-26 06:50:23,196 Val Evaluator INFO: Engine run starting with max_epochs=1.\n",
      "2021-01-26 06:50:45,939 Val Evaluator INFO: Epoch[1] Complete. Time taken: 00:00:23\n",
      "2021-01-26 06:50:47,179 Val Evaluator INFO: Engine run complete. Time taken: 00:00:24\n",
      "\u001b[34m\u001b[1mwandb\u001b[0m: \u001b[33mWARNING\u001b[0m Step must only increase in log calls.  Step 36 < 540; dropping {'lr/group_0': 0.001}.\n",
      "2021-01-26 06:50:47,190 Trainer INFO: Epoch[36] Complete. Time taken: 00:02:37\n"
     ]
    },
    {
     "name": "stdout",
     "output_type": "stream",
     "text": [
      "train loss 0.27656729457684853\n",
      "val loss 0.8662570202426546\n",
      "validation roc auc [0.6708126  0.60913609] 36\n",
      "train roc auc [0.99785774 0.97116731] 36\n"
     ]
    },
    {
     "name": "stderr",
     "output_type": "stream",
     "text": [
      "2021-01-26 06:51:55,400 Train Evaluator INFO: Engine run starting with max_epochs=1.\n",
      "2021-01-26 06:53:01,748 Train Evaluator INFO: Epoch[1] Complete. Time taken: 00:01:06\n",
      "2021-01-26 06:53:01,752 Train Evaluator INFO: Engine run complete. Time taken: 00:01:06\n",
      "2021-01-26 06:53:01,754 Val Evaluator INFO: Engine run starting with max_epochs=1.\n",
      "2021-01-26 06:53:24,139 Val Evaluator INFO: Epoch[1] Complete. Time taken: 00:00:22\n",
      "2021-01-26 06:53:25,456 Val Evaluator INFO: Engine run complete. Time taken: 00:00:24\n",
      "\u001b[34m\u001b[1mwandb\u001b[0m: \u001b[33mWARNING\u001b[0m Step must only increase in log calls.  Step 37 < 555; dropping {'lr/group_0': 0.001}.\n",
      "2021-01-26 06:53:25,465 Trainer INFO: Epoch[37] Complete. Time taken: 00:02:38\n"
     ]
    },
    {
     "name": "stdout",
     "output_type": "stream",
     "text": [
      "train loss 0.2532188088545872\n",
      "val loss 0.9289431313800204\n",
      "validation roc auc [0.69419569 0.61983945] 37\n",
      "train roc auc [0.99952394 0.97652195] 37\n"
     ]
    },
    {
     "name": "stderr",
     "output_type": "stream",
     "text": [
      "2021-01-26 06:54:34,637 Train Evaluator INFO: Engine run starting with max_epochs=1.\n",
      "2021-01-26 06:55:41,787 Train Evaluator INFO: Epoch[1] Complete. Time taken: 00:01:07\n",
      "2021-01-26 06:55:41,790 Train Evaluator INFO: Engine run complete. Time taken: 00:01:07\n",
      "2021-01-26 06:55:41,793 Val Evaluator INFO: Engine run starting with max_epochs=1.\n",
      "2021-01-26 06:56:05,880 Val Evaluator INFO: Epoch[1] Complete. Time taken: 00:00:24\n",
      "2021-01-26 06:56:07,112 Val Evaluator INFO: Engine run complete. Time taken: 00:00:25\n",
      "\u001b[34m\u001b[1mwandb\u001b[0m: \u001b[33mWARNING\u001b[0m Step must only increase in log calls.  Step 38 < 570; dropping {'lr/group_0': 0.001}.\n",
      "2021-01-26 06:56:07,120 Trainer INFO: Epoch[38] Complete. Time taken: 00:02:42\n"
     ]
    },
    {
     "name": "stdout",
     "output_type": "stream",
     "text": [
      "train loss 0.23087616579724812\n",
      "val loss 0.9721160846151364\n",
      "validation roc auc [0.73167496 0.65405199] 38\n",
      "train roc auc [0.99980164 0.98821979] 38\n"
     ]
    },
    {
     "name": "stderr",
     "output_type": "stream",
     "text": [
      "2021-01-26 06:57:18,587 Train Evaluator INFO: Engine run starting with max_epochs=1.\n",
      "2021-01-26 06:58:27,359 Train Evaluator INFO: Epoch[1] Complete. Time taken: 00:01:09\n",
      "2021-01-26 06:58:27,362 Train Evaluator INFO: Engine run complete. Time taken: 00:01:09\n",
      "2021-01-26 06:58:27,363 Val Evaluator INFO: Engine run starting with max_epochs=1.\n",
      "2021-01-26 06:58:51,159 Val Evaluator INFO: Epoch[1] Complete. Time taken: 00:00:24\n",
      "2021-01-26 06:58:52,455 Val Evaluator INFO: Engine run complete. Time taken: 00:00:25\n",
      "\u001b[34m\u001b[1mwandb\u001b[0m: \u001b[33mWARNING\u001b[0m Step must only increase in log calls.  Step 39 < 585; dropping {'lr/group_0': 0.001}.\n",
      "2021-01-26 06:58:52,467 Trainer INFO: Epoch[39] Complete. Time taken: 00:02:45\n"
     ]
    },
    {
     "name": "stdout",
     "output_type": "stream",
     "text": [
      "train loss 0.21164239014545558\n",
      "val loss 1.056706212888098\n",
      "validation roc auc [0.74825871 0.66953364] 39\n",
      "train roc auc [0.99996033 0.99390395] 39\n"
     ]
    },
    {
     "name": "stderr",
     "output_type": "stream",
     "text": [
      "2021-01-26 07:00:01,535 Train Evaluator INFO: Engine run starting with max_epochs=1.\n",
      "2021-01-26 07:01:10,173 Train Evaluator INFO: Epoch[1] Complete. Time taken: 00:01:09\n",
      "2021-01-26 07:01:10,176 Train Evaluator INFO: Engine run complete. Time taken: 00:01:09\n",
      "2021-01-26 07:01:10,178 Val Evaluator INFO: Engine run starting with max_epochs=1.\n",
      "2021-01-26 07:01:34,311 Val Evaluator INFO: Epoch[1] Complete. Time taken: 00:00:24\n",
      "2021-01-26 07:01:35,577 Val Evaluator INFO: Engine run complete. Time taken: 00:00:25\n",
      "\u001b[34m\u001b[1mwandb\u001b[0m: \u001b[33mWARNING\u001b[0m Step must only increase in log calls.  Step 40 < 600; dropping {'lr/group_0': 0.001}.\n",
      "2021-01-26 07:01:35,590 Trainer INFO: Epoch[40] Complete. Time taken: 00:02:43\n"
     ]
    },
    {
     "name": "stdout",
     "output_type": "stream",
     "text": [
      "train loss 0.19593605363420932\n",
      "val loss 1.1374278979696286\n",
      "validation roc auc [0.760199   0.67889908] 40\n",
      "train roc auc [0.99998016 0.99670484] 40\n"
     ]
    },
    {
     "name": "stderr",
     "output_type": "stream",
     "text": [
      "2021-01-26 07:02:44,331 Train Evaluator INFO: Engine run starting with max_epochs=1.\n",
      "2021-01-26 07:03:51,241 Train Evaluator INFO: Epoch[1] Complete. Time taken: 00:01:07\n",
      "2021-01-26 07:03:51,244 Train Evaluator INFO: Engine run complete. Time taken: 00:01:07\n",
      "2021-01-26 07:03:51,245 Val Evaluator INFO: Engine run starting with max_epochs=1.\n",
      "2021-01-26 07:04:14,737 Val Evaluator INFO: Epoch[1] Complete. Time taken: 00:00:23\n",
      "2021-01-26 07:04:16,076 Val Evaluator INFO: Engine run complete. Time taken: 00:00:25\n",
      "\u001b[34m\u001b[1mwandb\u001b[0m: \u001b[33mWARNING\u001b[0m Step must only increase in log calls.  Step 41 < 615; dropping {'lr/group_0': 0.001}.\n",
      "2021-01-26 07:04:16,087 Trainer INFO: Epoch[41] Complete. Time taken: 00:02:40\n"
     ]
    },
    {
     "name": "stdout",
     "output_type": "stream",
     "text": [
      "train loss 0.1830281686678951\n",
      "val loss 1.2259311531759371\n",
      "validation roc auc [0.77263682 0.68329511] 41\n",
      "train roc auc [1.         0.99732268] 41\n"
     ]
    },
    {
     "name": "stderr",
     "output_type": "stream",
     "text": [
      "2021-01-26 07:05:24,093 Train Evaluator INFO: Engine run starting with max_epochs=1.\n",
      "2021-01-26 07:06:29,575 Train Evaluator INFO: Epoch[1] Complete. Time taken: 00:01:05\n",
      "2021-01-26 07:06:29,580 Train Evaluator INFO: Engine run complete. Time taken: 00:01:05\n",
      "2021-01-26 07:06:29,581 Val Evaluator INFO: Engine run starting with max_epochs=1.\n",
      "2021-01-26 07:06:51,078 Val Evaluator INFO: Epoch[1] Complete. Time taken: 00:00:21\n",
      "2021-01-26 07:06:52,370 Val Evaluator INFO: Engine run complete. Time taken: 00:00:23\n",
      "\u001b[34m\u001b[1mwandb\u001b[0m: \u001b[33mWARNING\u001b[0m Step must only increase in log calls.  Step 42 < 630; dropping {'lr/group_0': 0.001}.\n",
      "2021-01-26 07:06:52,381 Trainer INFO: Epoch[42] Complete. Time taken: 00:02:36\n"
     ]
    },
    {
     "name": "stdout",
     "output_type": "stream",
     "text": [
      "train loss 0.17030601929832648\n",
      "val loss 1.3570744672398658\n",
      "validation roc auc [0.78507463 0.69074924] 42\n",
      "train roc auc [1.         0.99641651] 42\n"
     ]
    },
    {
     "name": "stderr",
     "output_type": "stream",
     "text": [
      "2021-01-26 07:07:59,105 Train Evaluator INFO: Engine run starting with max_epochs=1.\n",
      "2021-01-26 07:09:04,517 Train Evaluator INFO: Epoch[1] Complete. Time taken: 00:01:05\n",
      "2021-01-26 07:09:04,521 Train Evaluator INFO: Engine run complete. Time taken: 00:01:05\n",
      "2021-01-26 07:09:04,524 Val Evaluator INFO: Engine run starting with max_epochs=1.\n",
      "2021-01-26 07:09:29,727 Val Evaluator INFO: Epoch[1] Complete. Time taken: 00:00:25\n",
      "2021-01-26 07:09:31,089 Val Evaluator INFO: Engine run complete. Time taken: 00:00:27\n",
      "\u001b[34m\u001b[1mwandb\u001b[0m: \u001b[33mWARNING\u001b[0m Step must only increase in log calls.  Step 43 < 645; dropping {'lr/group_0': 0.001}.\n",
      "2021-01-26 07:09:31,118 Trainer INFO: Epoch[43] Complete. Time taken: 00:02:39\n"
     ]
    },
    {
     "name": "stdout",
     "output_type": "stream",
     "text": [
      "train loss 0.16010642368224712\n",
      "val loss 1.490044903603329\n",
      "validation roc auc [0.7960199  0.69304281] 43\n",
      "train roc auc [1.         0.99695197] 43\n"
     ]
    },
    {
     "name": "stderr",
     "output_type": "stream",
     "text": [
      "2021-01-26 07:10:39,911 Train Evaluator INFO: Engine run starting with max_epochs=1.\n",
      "2021-01-26 07:11:49,367 Train Evaluator INFO: Epoch[1] Complete. Time taken: 00:01:09\n",
      "2021-01-26 07:11:49,375 Train Evaluator INFO: Engine run complete. Time taken: 00:01:09\n",
      "2021-01-26 07:11:49,376 Val Evaluator INFO: Engine run starting with max_epochs=1.\n",
      "2021-01-26 07:12:13,808 Val Evaluator INFO: Epoch[1] Complete. Time taken: 00:00:24\n",
      "2021-01-26 07:12:15,011 Val Evaluator INFO: Engine run complete. Time taken: 00:00:26\n",
      "\u001b[34m\u001b[1mwandb\u001b[0m: \u001b[33mWARNING\u001b[0m Step must only increase in log calls.  Step 44 < 660; dropping {'lr/group_0': 0.001}.\n",
      "2021-01-26 07:12:15,033 Trainer INFO: Epoch[44] Complete. Time taken: 00:02:44\n"
     ]
    },
    {
     "name": "stdout",
     "output_type": "stream",
     "text": [
      "train loss 0.1501583408296498\n",
      "val loss 1.6444090118833408\n",
      "validation roc auc [0.80447761 0.6983945 ] 44\n",
      "train roc auc [1.         0.99658127] 44\n"
     ]
    },
    {
     "name": "stderr",
     "output_type": "stream",
     "text": [
      "2021-01-26 07:13:27,111 Train Evaluator INFO: Engine run starting with max_epochs=1.\n",
      "2021-01-26 07:14:36,584 Train Evaluator INFO: Epoch[1] Complete. Time taken: 00:01:09\n",
      "2021-01-26 07:14:36,587 Train Evaluator INFO: Engine run complete. Time taken: 00:01:09\n",
      "2021-01-26 07:14:36,589 Val Evaluator INFO: Engine run starting with max_epochs=1.\n",
      "2021-01-26 07:14:59,730 Val Evaluator INFO: Epoch[1] Complete. Time taken: 00:00:23\n",
      "2021-01-26 07:15:01,006 Val Evaluator INFO: Engine run complete. Time taken: 00:00:24\n",
      "\u001b[34m\u001b[1mwandb\u001b[0m: \u001b[33mWARNING\u001b[0m Step must only increase in log calls.  Step 45 < 675; dropping {'lr/group_0': 0.001}.\n",
      "2021-01-26 07:15:01,018 Trainer INFO: Epoch[45] Complete. Time taken: 00:02:46\n"
     ]
    },
    {
     "name": "stdout",
     "output_type": "stream",
     "text": [
      "train loss 0.14047979753391415\n",
      "val loss 1.5859767942671563\n",
      "validation roc auc [0.81492537 0.70928899] 45\n",
      "train roc auc [1.         0.99814647] 45\n"
     ]
    },
    {
     "name": "stderr",
     "output_type": "stream",
     "text": [
      "2021-01-26 07:16:08,862 Train Evaluator INFO: Engine run starting with max_epochs=1.\n",
      "2021-01-26 07:17:21,752 Train Evaluator INFO: Epoch[1] Complete. Time taken: 00:01:13\n",
      "2021-01-26 07:17:21,755 Train Evaluator INFO: Engine run complete. Time taken: 00:01:13\n",
      "2021-01-26 07:17:21,757 Val Evaluator INFO: Engine run starting with max_epochs=1.\n",
      "2021-01-26 07:17:46,078 Val Evaluator INFO: Epoch[1] Complete. Time taken: 00:00:24\n",
      "2021-01-26 07:17:47,382 Val Evaluator INFO: Engine run complete. Time taken: 00:00:26\n",
      "\u001b[34m\u001b[1mwandb\u001b[0m: \u001b[33mWARNING\u001b[0m Step must only increase in log calls.  Step 46 < 690; dropping {'lr/group_0': 0.001}.\n",
      "2021-01-26 07:17:47,391 Trainer INFO: Epoch[46] Complete. Time taken: 00:02:46\n"
     ]
    },
    {
     "name": "stdout",
     "output_type": "stream",
     "text": [
      "train loss 0.1327579886954854\n",
      "val loss 1.7579229804360943\n",
      "validation roc auc [0.82205638 0.70967125] 46\n",
      "train roc auc [1.         0.99855837] 46\n"
     ]
    },
    {
     "name": "stderr",
     "output_type": "stream",
     "text": [
      "2021-01-26 07:18:55,663 Train Evaluator INFO: Engine run starting with max_epochs=1.\n",
      "2021-01-26 07:20:03,855 Train Evaluator INFO: Epoch[1] Complete. Time taken: 00:01:08\n",
      "2021-01-26 07:20:03,858 Train Evaluator INFO: Engine run complete. Time taken: 00:01:08\n",
      "2021-01-26 07:20:03,861 Val Evaluator INFO: Engine run starting with max_epochs=1.\n",
      "2021-01-26 07:20:27,185 Val Evaluator INFO: Epoch[1] Complete. Time taken: 00:00:23\n",
      "2021-01-26 07:20:28,545 Val Evaluator INFO: Engine run complete. Time taken: 00:00:25\n",
      "\u001b[34m\u001b[1mwandb\u001b[0m: \u001b[33mWARNING\u001b[0m Step must only increase in log calls.  Step 47 < 705; dropping {'lr/group_0': 0.001}.\n",
      "2021-01-26 07:20:28,573 Trainer INFO: Epoch[47] Complete. Time taken: 00:02:41\n"
     ]
    },
    {
     "name": "stdout",
     "output_type": "stream",
     "text": [
      "train loss 0.12485218187286833\n",
      "val loss 1.6892884863410027\n",
      "validation roc auc [0.82371476 0.71884557] 47\n",
      "train roc auc [1.         0.99925859] 47\n"
     ]
    },
    {
     "name": "stderr",
     "output_type": "stream",
     "text": [
      "2021-01-26 07:21:35,072 Train Evaluator INFO: Engine run starting with max_epochs=1.\n",
      "2021-01-26 07:22:40,593 Train Evaluator INFO: Epoch[1] Complete. Time taken: 00:01:06\n",
      "2021-01-26 07:22:40,601 Train Evaluator INFO: Engine run complete. Time taken: 00:01:06\n",
      "2021-01-26 07:22:40,603 Val Evaluator INFO: Engine run starting with max_epochs=1.\n",
      "2021-01-26 07:23:03,347 Val Evaluator INFO: Epoch[1] Complete. Time taken: 00:00:23\n",
      "2021-01-26 07:23:04,623 Val Evaluator INFO: Engine run complete. Time taken: 00:00:24\n",
      "\u001b[34m\u001b[1mwandb\u001b[0m: \u001b[33mWARNING\u001b[0m Step must only increase in log calls.  Step 48 < 720; dropping {'lr/group_0': 0.001}.\n",
      "2021-01-26 07:23:04,633 Trainer INFO: Epoch[48] Complete. Time taken: 00:02:36\n"
     ]
    },
    {
     "name": "stdout",
     "output_type": "stream",
     "text": [
      "train loss 0.11731574757426393\n",
      "val loss 1.9074891220991779\n",
      "validation roc auc [0.82338308 0.7154052 ] 48\n",
      "train roc auc [1.        0.9995881] 48\n"
     ]
    },
    {
     "name": "stderr",
     "output_type": "stream",
     "text": [
      "2021-01-26 07:24:12,390 Train Evaluator INFO: Engine run starting with max_epochs=1.\n",
      "2021-01-26 07:25:23,678 Train Evaluator INFO: Epoch[1] Complete. Time taken: 00:01:11\n",
      "2021-01-26 07:25:23,683 Train Evaluator INFO: Engine run complete. Time taken: 00:01:11\n",
      "2021-01-26 07:25:23,684 Val Evaluator INFO: Engine run starting with max_epochs=1.\n",
      "2021-01-26 07:25:47,434 Val Evaluator INFO: Epoch[1] Complete. Time taken: 00:00:24\n",
      "2021-01-26 07:25:48,766 Val Evaluator INFO: Engine run complete. Time taken: 00:00:25\n",
      "\u001b[34m\u001b[1mwandb\u001b[0m: \u001b[33mWARNING\u001b[0m Step must only increase in log calls.  Step 49 < 735; dropping {'lr/group_0': 0.001}.\n",
      "2021-01-26 07:25:48,776 Trainer INFO: Epoch[49] Complete. Time taken: 00:02:44\n"
     ]
    },
    {
     "name": "stdout",
     "output_type": "stream",
     "text": [
      "train loss 0.11132043866290506\n",
      "val loss 2.0275049331081902\n",
      "validation roc auc [0.8225539  0.71712538] 49\n",
      "train roc auc [1.         0.99979405] 49\n"
     ]
    },
    {
     "name": "stderr",
     "output_type": "stream",
     "text": [
      "2021-01-26 07:26:34,609 Trainer ERROR: Engine run is terminating due to exception: .\n"
     ]
    },
    {
     "ename": "KeyboardInterrupt",
     "evalue": "",
     "output_type": "error",
     "traceback": [
      "\u001b[0;31m---------------------------------------------------------------------------\u001b[0m",
      "\u001b[0;31mKeyboardInterrupt\u001b[0m                         Traceback (most recent call last)",
      "\u001b[0;32m<ipython-input-51-a204d9458a67>\u001b[0m in \u001b[0;36m<module>\u001b[0;34m\u001b[0m\n\u001b[1;32m      1\u001b[0m \u001b[0;31m# no init 16, 64\u001b[0m\u001b[0;34m\u001b[0m\u001b[0;34m\u001b[0m\u001b[0;34m\u001b[0m\u001b[0m\n\u001b[1;32m      2\u001b[0m \u001b[0mprint\u001b[0m\u001b[0;34m(\u001b[0m\u001b[0;34m'ready ?'\u001b[0m\u001b[0;34m)\u001b[0m\u001b[0;34m\u001b[0m\u001b[0;34m\u001b[0m\u001b[0m\n\u001b[0;32m----> 3\u001b[0;31m \u001b[0mrunutils\u001b[0m\u001b[0;34m.\u001b[0m\u001b[0mrun\u001b[0m\u001b[0;34m(\u001b[0m\u001b[0mmodel\u001b[0m\u001b[0;34m,\u001b[0m \u001b[0mdataloaders\u001b[0m\u001b[0;34m,\u001b[0m \u001b[0moptimizer\u001b[0m\u001b[0;34m,\u001b[0m \u001b[0mcriterion\u001b[0m\u001b[0;34m,\u001b[0m \u001b[0mmetrics\u001b[0m\u001b[0;34m,\u001b[0m \u001b[0mdevice\u001b[0m\u001b[0;34m,\u001b[0m\u001b[0mconfig\u001b[0m\u001b[0;34m,\u001b[0m \u001b[0mrunconfigs\u001b[0m\u001b[0;34m.\u001b[0m\u001b[0mPROJECT_NAME\u001b[0m\u001b[0;34m)\u001b[0m\u001b[0;34m\u001b[0m\u001b[0;34m\u001b[0m\u001b[0m\n\u001b[0m",
      "\u001b[0;32m~/projects/nna/src/nna/exp/runutils.py\u001b[0m in \u001b[0;36mrun\u001b[0;34m(model, dataloaders, optimizer, criterion, metrics, device, config, wandb_project_name, run_name)\u001b[0m\n\u001b[1;32m    185\u001b[0m \u001b[0;34m\u001b[0m\u001b[0m\n\u001b[1;32m    186\u001b[0m \u001b[0;31m#     kick everything off\u001b[0m\u001b[0;34m\u001b[0m\u001b[0;34m\u001b[0m\u001b[0;34m\u001b[0m\u001b[0m\n\u001b[0;32m--> 187\u001b[0;31m     \u001b[0mtrainer\u001b[0m\u001b[0;34m.\u001b[0m\u001b[0mrun\u001b[0m\u001b[0;34m(\u001b[0m\u001b[0mtrain_loader\u001b[0m\u001b[0;34m,\u001b[0m \u001b[0mmax_epochs\u001b[0m\u001b[0;34m=\u001b[0m\u001b[0mconfig\u001b[0m\u001b[0;34m[\u001b[0m\u001b[0;34m'epochs'\u001b[0m\u001b[0;34m]\u001b[0m\u001b[0;34m)\u001b[0m\u001b[0;34m\u001b[0m\u001b[0;34m\u001b[0m\u001b[0m\n\u001b[0m\u001b[1;32m    188\u001b[0m \u001b[0;34m\u001b[0m\u001b[0m\n\u001b[1;32m    189\u001b[0m     \u001b[0mwandb_logger_ins\u001b[0m\u001b[0;34m.\u001b[0m\u001b[0mclose\u001b[0m\u001b[0;34m(\u001b[0m\u001b[0;34m)\u001b[0m\u001b[0;34m\u001b[0m\u001b[0;34m\u001b[0m\u001b[0m\n",
      "\u001b[0;32m/scratch/enis/conda/envs/soundenv3/lib/python3.7/site-packages/ignite/engine/engine.py\u001b[0m in \u001b[0;36mrun\u001b[0;34m(self, data, max_epochs, epoch_length, seed)\u001b[0m\n\u001b[1;32m    689\u001b[0m \u001b[0;34m\u001b[0m\u001b[0m\n\u001b[1;32m    690\u001b[0m         \u001b[0mself\u001b[0m\u001b[0;34m.\u001b[0m\u001b[0mstate\u001b[0m\u001b[0;34m.\u001b[0m\u001b[0mdataloader\u001b[0m \u001b[0;34m=\u001b[0m \u001b[0mdata\u001b[0m\u001b[0;34m\u001b[0m\u001b[0;34m\u001b[0m\u001b[0m\n\u001b[0;32m--> 691\u001b[0;31m         \u001b[0;32mreturn\u001b[0m \u001b[0mself\u001b[0m\u001b[0;34m.\u001b[0m\u001b[0m_internal_run\u001b[0m\u001b[0;34m(\u001b[0m\u001b[0;34m)\u001b[0m\u001b[0;34m\u001b[0m\u001b[0;34m\u001b[0m\u001b[0m\n\u001b[0m\u001b[1;32m    692\u001b[0m \u001b[0;34m\u001b[0m\u001b[0m\n\u001b[1;32m    693\u001b[0m     \u001b[0;34m@\u001b[0m\u001b[0mstaticmethod\u001b[0m\u001b[0;34m\u001b[0m\u001b[0;34m\u001b[0m\u001b[0m\n",
      "\u001b[0;32m/scratch/enis/conda/envs/soundenv3/lib/python3.7/site-packages/ignite/engine/engine.py\u001b[0m in \u001b[0;36m_internal_run\u001b[0;34m(self)\u001b[0m\n\u001b[1;32m    760\u001b[0m             \u001b[0mself\u001b[0m\u001b[0;34m.\u001b[0m\u001b[0m_dataloader_iter\u001b[0m \u001b[0;34m=\u001b[0m \u001b[0;32mNone\u001b[0m\u001b[0;34m\u001b[0m\u001b[0;34m\u001b[0m\u001b[0m\n\u001b[1;32m    761\u001b[0m             \u001b[0mself\u001b[0m\u001b[0;34m.\u001b[0m\u001b[0mlogger\u001b[0m\u001b[0;34m.\u001b[0m\u001b[0merror\u001b[0m\u001b[0;34m(\u001b[0m\u001b[0;34m\"Engine run is terminating due to exception: %s.\"\u001b[0m\u001b[0;34m,\u001b[0m \u001b[0mstr\u001b[0m\u001b[0;34m(\u001b[0m\u001b[0me\u001b[0m\u001b[0;34m)\u001b[0m\u001b[0;34m)\u001b[0m\u001b[0;34m\u001b[0m\u001b[0;34m\u001b[0m\u001b[0m\n\u001b[0;32m--> 762\u001b[0;31m             \u001b[0mself\u001b[0m\u001b[0;34m.\u001b[0m\u001b[0m_handle_exception\u001b[0m\u001b[0;34m(\u001b[0m\u001b[0me\u001b[0m\u001b[0;34m)\u001b[0m\u001b[0;34m\u001b[0m\u001b[0;34m\u001b[0m\u001b[0m\n\u001b[0m\u001b[1;32m    763\u001b[0m \u001b[0;34m\u001b[0m\u001b[0m\n\u001b[1;32m    764\u001b[0m         \u001b[0mself\u001b[0m\u001b[0;34m.\u001b[0m\u001b[0m_dataloader_iter\u001b[0m \u001b[0;34m=\u001b[0m \u001b[0;32mNone\u001b[0m\u001b[0;34m\u001b[0m\u001b[0;34m\u001b[0m\u001b[0m\n",
      "\u001b[0;32m/scratch/enis/conda/envs/soundenv3/lib/python3.7/site-packages/ignite/engine/engine.py\u001b[0m in \u001b[0;36m_handle_exception\u001b[0;34m(self, e)\u001b[0m\n\u001b[1;32m    465\u001b[0m             \u001b[0mself\u001b[0m\u001b[0;34m.\u001b[0m\u001b[0m_fire_event\u001b[0m\u001b[0;34m(\u001b[0m\u001b[0mEvents\u001b[0m\u001b[0;34m.\u001b[0m\u001b[0mEXCEPTION_RAISED\u001b[0m\u001b[0;34m,\u001b[0m \u001b[0me\u001b[0m\u001b[0;34m)\u001b[0m\u001b[0;34m\u001b[0m\u001b[0;34m\u001b[0m\u001b[0m\n\u001b[1;32m    466\u001b[0m         \u001b[0;32melse\u001b[0m\u001b[0;34m:\u001b[0m\u001b[0;34m\u001b[0m\u001b[0;34m\u001b[0m\u001b[0m\n\u001b[0;32m--> 467\u001b[0;31m             \u001b[0;32mraise\u001b[0m \u001b[0me\u001b[0m\u001b[0;34m\u001b[0m\u001b[0;34m\u001b[0m\u001b[0m\n\u001b[0m\u001b[1;32m    468\u001b[0m \u001b[0;34m\u001b[0m\u001b[0m\n\u001b[1;32m    469\u001b[0m     \u001b[0;34m@\u001b[0m\u001b[0mproperty\u001b[0m\u001b[0;34m\u001b[0m\u001b[0;34m\u001b[0m\u001b[0m\n",
      "\u001b[0;32m/scratch/enis/conda/envs/soundenv3/lib/python3.7/site-packages/ignite/engine/engine.py\u001b[0m in \u001b[0;36m_internal_run\u001b[0;34m(self)\u001b[0m\n\u001b[1;32m    728\u001b[0m                     \u001b[0mself\u001b[0m\u001b[0;34m.\u001b[0m\u001b[0m_setup_engine\u001b[0m\u001b[0;34m(\u001b[0m\u001b[0;34m)\u001b[0m\u001b[0;34m\u001b[0m\u001b[0;34m\u001b[0m\u001b[0m\n\u001b[1;32m    729\u001b[0m \u001b[0;34m\u001b[0m\u001b[0m\n\u001b[0;32m--> 730\u001b[0;31m                 \u001b[0mtime_taken\u001b[0m \u001b[0;34m=\u001b[0m \u001b[0mself\u001b[0m\u001b[0;34m.\u001b[0m\u001b[0m_run_once_on_dataset\u001b[0m\u001b[0;34m(\u001b[0m\u001b[0;34m)\u001b[0m\u001b[0;34m\u001b[0m\u001b[0;34m\u001b[0m\u001b[0m\n\u001b[0m\u001b[1;32m    731\u001b[0m                 \u001b[0;31m# time is available for handlers but must be update after fire\u001b[0m\u001b[0;34m\u001b[0m\u001b[0;34m\u001b[0m\u001b[0;34m\u001b[0m\u001b[0m\n\u001b[1;32m    732\u001b[0m                 \u001b[0mself\u001b[0m\u001b[0;34m.\u001b[0m\u001b[0mstate\u001b[0m\u001b[0;34m.\u001b[0m\u001b[0mtimes\u001b[0m\u001b[0;34m[\u001b[0m\u001b[0mEvents\u001b[0m\u001b[0;34m.\u001b[0m\u001b[0mEPOCH_COMPLETED\u001b[0m\u001b[0;34m.\u001b[0m\u001b[0mname\u001b[0m\u001b[0;34m]\u001b[0m \u001b[0;34m=\u001b[0m \u001b[0mtime_taken\u001b[0m\u001b[0;34m\u001b[0m\u001b[0;34m\u001b[0m\u001b[0m\n",
      "\u001b[0;32m/scratch/enis/conda/envs/soundenv3/lib/python3.7/site-packages/ignite/engine/engine.py\u001b[0m in \u001b[0;36m_run_once_on_dataset\u001b[0;34m(self)\u001b[0m\n\u001b[1;32m    777\u001b[0m                     \u001b[0;32mif\u001b[0m \u001b[0mself\u001b[0m\u001b[0;34m.\u001b[0m\u001b[0mlast_event_name\u001b[0m \u001b[0;34m!=\u001b[0m \u001b[0mEvents\u001b[0m\u001b[0;34m.\u001b[0m\u001b[0mDATALOADER_STOP_ITERATION\u001b[0m\u001b[0;34m:\u001b[0m\u001b[0;34m\u001b[0m\u001b[0;34m\u001b[0m\u001b[0m\n\u001b[1;32m    778\u001b[0m                         \u001b[0mself\u001b[0m\u001b[0;34m.\u001b[0m\u001b[0m_fire_event\u001b[0m\u001b[0;34m(\u001b[0m\u001b[0mEvents\u001b[0m\u001b[0;34m.\u001b[0m\u001b[0mGET_BATCH_STARTED\u001b[0m\u001b[0;34m)\u001b[0m\u001b[0;34m\u001b[0m\u001b[0;34m\u001b[0m\u001b[0m\n\u001b[0;32m--> 779\u001b[0;31m                     \u001b[0mself\u001b[0m\u001b[0;34m.\u001b[0m\u001b[0mstate\u001b[0m\u001b[0;34m.\u001b[0m\u001b[0mbatch\u001b[0m \u001b[0;34m=\u001b[0m \u001b[0mnext\u001b[0m\u001b[0;34m(\u001b[0m\u001b[0mself\u001b[0m\u001b[0;34m.\u001b[0m\u001b[0m_dataloader_iter\u001b[0m\u001b[0;34m)\u001b[0m\u001b[0;34m\u001b[0m\u001b[0;34m\u001b[0m\u001b[0m\n\u001b[0m\u001b[1;32m    780\u001b[0m                     \u001b[0mself\u001b[0m\u001b[0;34m.\u001b[0m\u001b[0m_fire_event\u001b[0m\u001b[0;34m(\u001b[0m\u001b[0mEvents\u001b[0m\u001b[0;34m.\u001b[0m\u001b[0mGET_BATCH_COMPLETED\u001b[0m\u001b[0;34m)\u001b[0m\u001b[0;34m\u001b[0m\u001b[0;34m\u001b[0m\u001b[0m\n\u001b[1;32m    781\u001b[0m                     \u001b[0miter_counter\u001b[0m \u001b[0;34m+=\u001b[0m \u001b[0;36m1\u001b[0m\u001b[0;34m\u001b[0m\u001b[0;34m\u001b[0m\u001b[0m\n",
      "\u001b[0;32m/scratch/enis/conda/envs/soundenv3/lib/python3.7/site-packages/torch/utils/data/dataloader.py\u001b[0m in \u001b[0;36m__next__\u001b[0;34m(self)\u001b[0m\n\u001b[1;32m    433\u001b[0m         \u001b[0;32mif\u001b[0m \u001b[0mself\u001b[0m\u001b[0;34m.\u001b[0m\u001b[0m_sampler_iter\u001b[0m \u001b[0;32mis\u001b[0m \u001b[0;32mNone\u001b[0m\u001b[0;34m:\u001b[0m\u001b[0;34m\u001b[0m\u001b[0;34m\u001b[0m\u001b[0m\n\u001b[1;32m    434\u001b[0m             \u001b[0mself\u001b[0m\u001b[0;34m.\u001b[0m\u001b[0m_reset\u001b[0m\u001b[0;34m(\u001b[0m\u001b[0;34m)\u001b[0m\u001b[0;34m\u001b[0m\u001b[0;34m\u001b[0m\u001b[0m\n\u001b[0;32m--> 435\u001b[0;31m         \u001b[0mdata\u001b[0m \u001b[0;34m=\u001b[0m \u001b[0mself\u001b[0m\u001b[0;34m.\u001b[0m\u001b[0m_next_data\u001b[0m\u001b[0;34m(\u001b[0m\u001b[0;34m)\u001b[0m\u001b[0;34m\u001b[0m\u001b[0;34m\u001b[0m\u001b[0m\n\u001b[0m\u001b[1;32m    436\u001b[0m         \u001b[0mself\u001b[0m\u001b[0;34m.\u001b[0m\u001b[0m_num_yielded\u001b[0m \u001b[0;34m+=\u001b[0m \u001b[0;36m1\u001b[0m\u001b[0;34m\u001b[0m\u001b[0;34m\u001b[0m\u001b[0m\n\u001b[1;32m    437\u001b[0m         \u001b[0;32mif\u001b[0m \u001b[0mself\u001b[0m\u001b[0;34m.\u001b[0m\u001b[0m_dataset_kind\u001b[0m \u001b[0;34m==\u001b[0m \u001b[0m_DatasetKind\u001b[0m\u001b[0;34m.\u001b[0m\u001b[0mIterable\u001b[0m \u001b[0;32mand\u001b[0m\u001b[0;31m \u001b[0m\u001b[0;31m\\\u001b[0m\u001b[0;34m\u001b[0m\u001b[0;34m\u001b[0m\u001b[0m\n",
      "\u001b[0;32m/scratch/enis/conda/envs/soundenv3/lib/python3.7/site-packages/torch/utils/data/dataloader.py\u001b[0m in \u001b[0;36m_next_data\u001b[0;34m(self)\u001b[0m\n\u001b[1;32m    473\u001b[0m     \u001b[0;32mdef\u001b[0m \u001b[0m_next_data\u001b[0m\u001b[0;34m(\u001b[0m\u001b[0mself\u001b[0m\u001b[0;34m)\u001b[0m\u001b[0;34m:\u001b[0m\u001b[0;34m\u001b[0m\u001b[0;34m\u001b[0m\u001b[0m\n\u001b[1;32m    474\u001b[0m         \u001b[0mindex\u001b[0m \u001b[0;34m=\u001b[0m \u001b[0mself\u001b[0m\u001b[0;34m.\u001b[0m\u001b[0m_next_index\u001b[0m\u001b[0;34m(\u001b[0m\u001b[0;34m)\u001b[0m  \u001b[0;31m# may raise StopIteration\u001b[0m\u001b[0;34m\u001b[0m\u001b[0;34m\u001b[0m\u001b[0m\n\u001b[0;32m--> 475\u001b[0;31m         \u001b[0mdata\u001b[0m \u001b[0;34m=\u001b[0m \u001b[0mself\u001b[0m\u001b[0;34m.\u001b[0m\u001b[0m_dataset_fetcher\u001b[0m\u001b[0;34m.\u001b[0m\u001b[0mfetch\u001b[0m\u001b[0;34m(\u001b[0m\u001b[0mindex\u001b[0m\u001b[0;34m)\u001b[0m  \u001b[0;31m# may raise StopIteration\u001b[0m\u001b[0;34m\u001b[0m\u001b[0;34m\u001b[0m\u001b[0m\n\u001b[0m\u001b[1;32m    476\u001b[0m         \u001b[0;32mif\u001b[0m \u001b[0mself\u001b[0m\u001b[0;34m.\u001b[0m\u001b[0m_pin_memory\u001b[0m\u001b[0;34m:\u001b[0m\u001b[0;34m\u001b[0m\u001b[0;34m\u001b[0m\u001b[0m\n\u001b[1;32m    477\u001b[0m             \u001b[0mdata\u001b[0m \u001b[0;34m=\u001b[0m \u001b[0m_utils\u001b[0m\u001b[0;34m.\u001b[0m\u001b[0mpin_memory\u001b[0m\u001b[0;34m.\u001b[0m\u001b[0mpin_memory\u001b[0m\u001b[0;34m(\u001b[0m\u001b[0mdata\u001b[0m\u001b[0;34m)\u001b[0m\u001b[0;34m\u001b[0m\u001b[0;34m\u001b[0m\u001b[0m\n",
      "\u001b[0;32m/scratch/enis/conda/envs/soundenv3/lib/python3.7/site-packages/torch/utils/data/_utils/fetch.py\u001b[0m in \u001b[0;36mfetch\u001b[0;34m(self, possibly_batched_index)\u001b[0m\n\u001b[1;32m     42\u001b[0m     \u001b[0;32mdef\u001b[0m \u001b[0mfetch\u001b[0m\u001b[0;34m(\u001b[0m\u001b[0mself\u001b[0m\u001b[0;34m,\u001b[0m \u001b[0mpossibly_batched_index\u001b[0m\u001b[0;34m)\u001b[0m\u001b[0;34m:\u001b[0m\u001b[0;34m\u001b[0m\u001b[0;34m\u001b[0m\u001b[0m\n\u001b[1;32m     43\u001b[0m         \u001b[0;32mif\u001b[0m \u001b[0mself\u001b[0m\u001b[0;34m.\u001b[0m\u001b[0mauto_collation\u001b[0m\u001b[0;34m:\u001b[0m\u001b[0;34m\u001b[0m\u001b[0;34m\u001b[0m\u001b[0m\n\u001b[0;32m---> 44\u001b[0;31m             \u001b[0mdata\u001b[0m \u001b[0;34m=\u001b[0m \u001b[0;34m[\u001b[0m\u001b[0mself\u001b[0m\u001b[0;34m.\u001b[0m\u001b[0mdataset\u001b[0m\u001b[0;34m[\u001b[0m\u001b[0midx\u001b[0m\u001b[0;34m]\u001b[0m \u001b[0;32mfor\u001b[0m \u001b[0midx\u001b[0m \u001b[0;32min\u001b[0m \u001b[0mpossibly_batched_index\u001b[0m\u001b[0;34m]\u001b[0m\u001b[0;34m\u001b[0m\u001b[0;34m\u001b[0m\u001b[0m\n\u001b[0m\u001b[1;32m     45\u001b[0m         \u001b[0;32melse\u001b[0m\u001b[0;34m:\u001b[0m\u001b[0;34m\u001b[0m\u001b[0;34m\u001b[0m\u001b[0m\n\u001b[1;32m     46\u001b[0m             \u001b[0mdata\u001b[0m \u001b[0;34m=\u001b[0m \u001b[0mself\u001b[0m\u001b[0;34m.\u001b[0m\u001b[0mdataset\u001b[0m\u001b[0;34m[\u001b[0m\u001b[0mpossibly_batched_index\u001b[0m\u001b[0;34m]\u001b[0m\u001b[0;34m\u001b[0m\u001b[0;34m\u001b[0m\u001b[0m\n",
      "\u001b[0;32m/scratch/enis/conda/envs/soundenv3/lib/python3.7/site-packages/torch/utils/data/_utils/fetch.py\u001b[0m in \u001b[0;36m<listcomp>\u001b[0;34m(.0)\u001b[0m\n\u001b[1;32m     42\u001b[0m     \u001b[0;32mdef\u001b[0m \u001b[0mfetch\u001b[0m\u001b[0;34m(\u001b[0m\u001b[0mself\u001b[0m\u001b[0;34m,\u001b[0m \u001b[0mpossibly_batched_index\u001b[0m\u001b[0;34m)\u001b[0m\u001b[0;34m:\u001b[0m\u001b[0;34m\u001b[0m\u001b[0;34m\u001b[0m\u001b[0m\n\u001b[1;32m     43\u001b[0m         \u001b[0;32mif\u001b[0m \u001b[0mself\u001b[0m\u001b[0;34m.\u001b[0m\u001b[0mauto_collation\u001b[0m\u001b[0;34m:\u001b[0m\u001b[0;34m\u001b[0m\u001b[0;34m\u001b[0m\u001b[0m\n\u001b[0;32m---> 44\u001b[0;31m             \u001b[0mdata\u001b[0m \u001b[0;34m=\u001b[0m \u001b[0;34m[\u001b[0m\u001b[0mself\u001b[0m\u001b[0;34m.\u001b[0m\u001b[0mdataset\u001b[0m\u001b[0;34m[\u001b[0m\u001b[0midx\u001b[0m\u001b[0;34m]\u001b[0m \u001b[0;32mfor\u001b[0m \u001b[0midx\u001b[0m \u001b[0;32min\u001b[0m \u001b[0mpossibly_batched_index\u001b[0m\u001b[0;34m]\u001b[0m\u001b[0;34m\u001b[0m\u001b[0;34m\u001b[0m\u001b[0m\n\u001b[0m\u001b[1;32m     45\u001b[0m         \u001b[0;32melse\u001b[0m\u001b[0;34m:\u001b[0m\u001b[0;34m\u001b[0m\u001b[0;34m\u001b[0m\u001b[0m\n\u001b[1;32m     46\u001b[0m             \u001b[0mdata\u001b[0m \u001b[0;34m=\u001b[0m \u001b[0mself\u001b[0m\u001b[0;34m.\u001b[0m\u001b[0mdataset\u001b[0m\u001b[0;34m[\u001b[0m\u001b[0mpossibly_batched_index\u001b[0m\u001b[0;34m]\u001b[0m\u001b[0;34m\u001b[0m\u001b[0;34m\u001b[0m\u001b[0m\n",
      "\u001b[0;32m~/projects/nna/src/nna/exp/runutils.py\u001b[0m in \u001b[0;36m__getitem__\u001b[0;34m(self, idx)\u001b[0m\n\u001b[1;32m    238\u001b[0m \u001b[0;34m\u001b[0m\u001b[0m\n\u001b[1;32m    239\u001b[0m         \u001b[0;32mif\u001b[0m \u001b[0mself\u001b[0m\u001b[0;34m.\u001b[0m\u001b[0mtransform\u001b[0m\u001b[0;34m:\u001b[0m\u001b[0;34m\u001b[0m\u001b[0;34m\u001b[0m\u001b[0m\n\u001b[0;32m--> 240\u001b[0;31m             \u001b[0msample\u001b[0m \u001b[0;34m=\u001b[0m \u001b[0mself\u001b[0m\u001b[0;34m.\u001b[0m\u001b[0mtransform\u001b[0m\u001b[0;34m(\u001b[0m\u001b[0msample\u001b[0m\u001b[0;34m)\u001b[0m\u001b[0;34m\u001b[0m\u001b[0;34m\u001b[0m\u001b[0m\n\u001b[0m\u001b[1;32m    241\u001b[0m \u001b[0;34m\u001b[0m\u001b[0m\n\u001b[1;32m    242\u001b[0m         \u001b[0;32mreturn\u001b[0m \u001b[0msample\u001b[0m\u001b[0;34m\u001b[0m\u001b[0;34m\u001b[0m\u001b[0m\n",
      "\u001b[0;32m/scratch/enis/conda/envs/soundenv3/lib/python3.7/site-packages/torchvision/transforms/transforms.py\u001b[0m in \u001b[0;36m__call__\u001b[0;34m(self, img)\u001b[0m\n\u001b[1;32m     65\u001b[0m     \u001b[0;32mdef\u001b[0m \u001b[0m__call__\u001b[0m\u001b[0;34m(\u001b[0m\u001b[0mself\u001b[0m\u001b[0;34m,\u001b[0m \u001b[0mimg\u001b[0m\u001b[0;34m)\u001b[0m\u001b[0;34m:\u001b[0m\u001b[0;34m\u001b[0m\u001b[0;34m\u001b[0m\u001b[0m\n\u001b[1;32m     66\u001b[0m         \u001b[0;32mfor\u001b[0m \u001b[0mt\u001b[0m \u001b[0;32min\u001b[0m \u001b[0mself\u001b[0m\u001b[0;34m.\u001b[0m\u001b[0mtransforms\u001b[0m\u001b[0;34m:\u001b[0m\u001b[0;34m\u001b[0m\u001b[0;34m\u001b[0m\u001b[0m\n\u001b[0;32m---> 67\u001b[0;31m             \u001b[0mimg\u001b[0m \u001b[0;34m=\u001b[0m \u001b[0mt\u001b[0m\u001b[0;34m(\u001b[0m\u001b[0mimg\u001b[0m\u001b[0;34m)\u001b[0m\u001b[0;34m\u001b[0m\u001b[0;34m\u001b[0m\u001b[0m\n\u001b[0m\u001b[1;32m     68\u001b[0m         \u001b[0;32mreturn\u001b[0m \u001b[0mimg\u001b[0m\u001b[0;34m\u001b[0m\u001b[0;34m\u001b[0m\u001b[0m\n\u001b[1;32m     69\u001b[0m \u001b[0;34m\u001b[0m\u001b[0m\n",
      "\u001b[0;32m<ipython-input-35-7b1cd6b0f521>\u001b[0m in \u001b[0;36m__call__\u001b[0;34m(self, sample)\u001b[0m\n\u001b[1;32m     24\u001b[0m         \u001b[0mdb_transform\u001b[0m \u001b[0;34m=\u001b[0m \u001b[0mtorchaudio\u001b[0m\u001b[0;34m.\u001b[0m\u001b[0mtransforms\u001b[0m\u001b[0;34m.\u001b[0m\u001b[0mAmplitudeToDB\u001b[0m\u001b[0;34m(\u001b[0m\u001b[0;34m\"power\"\u001b[0m\u001b[0;34m,\u001b[0m \u001b[0;36m80.\u001b[0m\u001b[0;34m)\u001b[0m\u001b[0;34m\u001b[0m\u001b[0;34m\u001b[0m\u001b[0m\n\u001b[1;32m     25\u001b[0m         \u001b[0mmel\u001b[0m \u001b[0;34m=\u001b[0m \u001b[0mmelspect_transform\u001b[0m\u001b[0;34m(\u001b[0m\u001b[0mx\u001b[0m\u001b[0;34m.\u001b[0m\u001b[0mreshape\u001b[0m\u001b[0;34m(\u001b[0m\u001b[0;34m-\u001b[0m\u001b[0;36m1\u001b[0m\u001b[0;34m)\u001b[0m\u001b[0;34m)\u001b[0m\u001b[0;34m\u001b[0m\u001b[0;34m\u001b[0m\u001b[0m\n\u001b[0;32m---> 26\u001b[0;31m         \u001b[0man_x\u001b[0m \u001b[0;34m=\u001b[0m \u001b[0mdb_transform\u001b[0m\u001b[0;34m(\u001b[0m\u001b[0mmel\u001b[0m\u001b[0;34m)\u001b[0m\u001b[0;34m\u001b[0m\u001b[0;34m\u001b[0m\u001b[0m\n\u001b[0m\u001b[1;32m     27\u001b[0m         \u001b[0;31m#librosa version\u001b[0m\u001b[0;34m\u001b[0m\u001b[0;34m\u001b[0m\u001b[0;34m\u001b[0m\u001b[0m\n\u001b[1;32m     28\u001b[0m \u001b[0;31m#         mel = librosa.feature.melspectrogram(y=x.reshape(-1),\u001b[0m\u001b[0;34m\u001b[0m\u001b[0;34m\u001b[0m\u001b[0;34m\u001b[0m\u001b[0m\n",
      "\u001b[0;32m/scratch/enis/conda/envs/soundenv3/lib/python3.7/site-packages/torch/nn/modules/module.py\u001b[0m in \u001b[0;36m_call_impl\u001b[0;34m(self, *input, **kwargs)\u001b[0m\n\u001b[1;32m    725\u001b[0m             \u001b[0mresult\u001b[0m \u001b[0;34m=\u001b[0m \u001b[0mself\u001b[0m\u001b[0;34m.\u001b[0m\u001b[0m_slow_forward\u001b[0m\u001b[0;34m(\u001b[0m\u001b[0;34m*\u001b[0m\u001b[0minput\u001b[0m\u001b[0;34m,\u001b[0m \u001b[0;34m**\u001b[0m\u001b[0mkwargs\u001b[0m\u001b[0;34m)\u001b[0m\u001b[0;34m\u001b[0m\u001b[0;34m\u001b[0m\u001b[0m\n\u001b[1;32m    726\u001b[0m         \u001b[0;32melse\u001b[0m\u001b[0;34m:\u001b[0m\u001b[0;34m\u001b[0m\u001b[0;34m\u001b[0m\u001b[0m\n\u001b[0;32m--> 727\u001b[0;31m             \u001b[0mresult\u001b[0m \u001b[0;34m=\u001b[0m \u001b[0mself\u001b[0m\u001b[0;34m.\u001b[0m\u001b[0mforward\u001b[0m\u001b[0;34m(\u001b[0m\u001b[0;34m*\u001b[0m\u001b[0minput\u001b[0m\u001b[0;34m,\u001b[0m \u001b[0;34m**\u001b[0m\u001b[0mkwargs\u001b[0m\u001b[0;34m)\u001b[0m\u001b[0;34m\u001b[0m\u001b[0;34m\u001b[0m\u001b[0m\n\u001b[0m\u001b[1;32m    728\u001b[0m         for hook in itertools.chain(\n\u001b[1;32m    729\u001b[0m                 \u001b[0m_global_forward_hooks\u001b[0m\u001b[0;34m.\u001b[0m\u001b[0mvalues\u001b[0m\u001b[0;34m(\u001b[0m\u001b[0;34m)\u001b[0m\u001b[0;34m,\u001b[0m\u001b[0;34m\u001b[0m\u001b[0;34m\u001b[0m\u001b[0m\n",
      "\u001b[0;32m/scratch/enis/conda/envs/soundenv3/lib/python3.7/site-packages/torchaudio/transforms.py\u001b[0m in \u001b[0;36mforward\u001b[0;34m(self, x)\u001b[0m\n\u001b[1;32m    208\u001b[0m             \u001b[0mTensor\u001b[0m\u001b[0;34m:\u001b[0m \u001b[0mOutput\u001b[0m \u001b[0mtensor\u001b[0m \u001b[0;32min\u001b[0m \u001b[0mdecibel\u001b[0m \u001b[0mscale\u001b[0m\u001b[0;34m.\u001b[0m\u001b[0;34m\u001b[0m\u001b[0;34m\u001b[0m\u001b[0m\n\u001b[1;32m    209\u001b[0m         \"\"\"\n\u001b[0;32m--> 210\u001b[0;31m         \u001b[0;32mreturn\u001b[0m \u001b[0mF\u001b[0m\u001b[0;34m.\u001b[0m\u001b[0mamplitude_to_DB\u001b[0m\u001b[0;34m(\u001b[0m\u001b[0mx\u001b[0m\u001b[0;34m,\u001b[0m \u001b[0mself\u001b[0m\u001b[0;34m.\u001b[0m\u001b[0mmultiplier\u001b[0m\u001b[0;34m,\u001b[0m \u001b[0mself\u001b[0m\u001b[0;34m.\u001b[0m\u001b[0mamin\u001b[0m\u001b[0;34m,\u001b[0m \u001b[0mself\u001b[0m\u001b[0;34m.\u001b[0m\u001b[0mdb_multiplier\u001b[0m\u001b[0;34m,\u001b[0m \u001b[0mself\u001b[0m\u001b[0;34m.\u001b[0m\u001b[0mtop_db\u001b[0m\u001b[0;34m)\u001b[0m\u001b[0;34m\u001b[0m\u001b[0;34m\u001b[0m\u001b[0m\n\u001b[0m\u001b[1;32m    211\u001b[0m \u001b[0;34m\u001b[0m\u001b[0m\n\u001b[1;32m    212\u001b[0m \u001b[0;34m\u001b[0m\u001b[0m\n",
      "\u001b[0;32m/scratch/enis/conda/envs/soundenv3/lib/python3.7/site-packages/torchaudio/functional.py\u001b[0m in \u001b[0;36mamplitude_to_DB\u001b[0;34m(x, multiplier, amin, db_multiplier, top_db)\u001b[0m\n\u001b[1;32m    236\u001b[0m \u001b[0;34m\u001b[0m\u001b[0m\n\u001b[1;32m    237\u001b[0m     \u001b[0;32mif\u001b[0m \u001b[0mtop_db\u001b[0m \u001b[0;32mis\u001b[0m \u001b[0;32mnot\u001b[0m \u001b[0;32mNone\u001b[0m\u001b[0;34m:\u001b[0m\u001b[0;34m\u001b[0m\u001b[0;34m\u001b[0m\u001b[0m\n\u001b[0;32m--> 238\u001b[0;31m         \u001b[0mx_db\u001b[0m \u001b[0;34m=\u001b[0m \u001b[0mx_db\u001b[0m\u001b[0;34m.\u001b[0m\u001b[0mclamp\u001b[0m\u001b[0;34m(\u001b[0m\u001b[0mmin\u001b[0m\u001b[0;34m=\u001b[0m\u001b[0mx_db\u001b[0m\u001b[0;34m.\u001b[0m\u001b[0mmax\u001b[0m\u001b[0;34m(\u001b[0m\u001b[0;34m)\u001b[0m\u001b[0;34m.\u001b[0m\u001b[0mitem\u001b[0m\u001b[0;34m(\u001b[0m\u001b[0;34m)\u001b[0m \u001b[0;34m-\u001b[0m \u001b[0mtop_db\u001b[0m\u001b[0;34m)\u001b[0m\u001b[0;34m\u001b[0m\u001b[0;34m\u001b[0m\u001b[0m\n\u001b[0m\u001b[1;32m    239\u001b[0m \u001b[0;34m\u001b[0m\u001b[0m\n\u001b[1;32m    240\u001b[0m     \u001b[0;32mreturn\u001b[0m \u001b[0mx_db\u001b[0m\u001b[0;34m\u001b[0m\u001b[0;34m\u001b[0m\u001b[0m\n",
      "\u001b[0;31mKeyboardInterrupt\u001b[0m: "
     ]
    }
   ],
   "source": [
    "# no init 16, 64\n",
    "print('ready ?')\n",
    "runutils.run(model, dataloaders, optimizer, criterion, metrics, device,config, runconfigs.PROJECT_NAME)\n"
   ]
  },
  {
   "cell_type": "code",
   "execution_count": 52,
   "metadata": {},
   "outputs": [
    {
     "data": {
      "text/plain": [
       "Parameter containing:\n",
       "tensor([[-2.0892e-04,  1.5780e-03,  7.6221e-04,  ..., -1.1260e-03,\n",
       "          1.7359e-04, -2.2608e-05],\n",
       "        [-1.3001e-03, -9.1562e-03,  1.6467e-03,  ..., -1.6540e-03,\n",
       "          6.8046e-04,  1.7145e-03],\n",
       "        [-7.4513e-03, -5.0785e-03, -5.3368e-03,  ...,  1.2617e-03,\n",
       "          1.2550e-03,  1.3917e-03],\n",
       "        ...,\n",
       "        [ 2.9443e-03, -3.1447e-04,  2.1089e-03,  ...,  1.6456e-03,\n",
       "          5.5379e-05,  1.2478e-04],\n",
       "        [-3.5567e-03, -3.0439e-04, -1.0074e-03,  ..., -1.7659e-03,\n",
       "          1.6859e-03, -8.0069e-04],\n",
       "        [-2.6937e-04, -1.6215e-02, -1.4613e-02,  ...,  1.9185e-03,\n",
       "          1.8615e-03, -1.3050e-03]], device='cuda:1', requires_grad=True)"
      ]
     },
     "execution_count": 52,
     "metadata": {},
     "output_type": "execute_result"
    }
   ],
   "source": [
    "model.fc1.weight"
   ]
  },
  {
   "cell_type": "code",
   "execution_count": 53,
   "metadata": {},
   "outputs": [
    {
     "data": {
      "text/plain": [
       "(tensor([[ 137662.4219, -730111.8125]], device='cuda:1',\n",
       "        grad_fn=<AddmmBackward>),\n",
       " tensor([[ 137662.4219, -730111.8125]], device='cuda:1',\n",
       "        grad_fn=<AddmmBackward>))"
      ]
     },
     "execution_count": 53,
     "metadata": {},
     "output_type": "execute_result"
    }
   ],
   "source": [
    "\n",
    "example_input = (torch.ones((1,1,h_w[0]*h_w[1]))*-32767)\n",
    "example_input = example_input.float().to(device)\n",
    "out=model(example_input)\n",
    "out\n",
    "\n",
    "activated_output_transform((out,out))"
   ]
  },
  {
   "cell_type": "code",
   "execution_count": 60,
   "metadata": {},
   "outputs": [
    {
     "data": {
      "text/plain": [
       "<torch.utils.data.dataloader.DataLoader at 0x7f881d334210>"
      ]
     },
     "execution_count": 60,
     "metadata": {},
     "output_type": "execute_result"
    }
   ],
   "source": []
  },
  {
   "cell_type": "code",
   "execution_count": 70,
   "metadata": {},
   "outputs": [],
   "source": [
    "for inputs, labels in dataloaders['test']:\n",
    "    inputs = inputs.float().to(device)\n",
    "    output = model(inputs)\n",
    "    break"
   ]
  },
  {
   "cell_type": "code",
   "execution_count": 71,
   "metadata": {},
   "outputs": [
    {
     "data": {
      "text/plain": [
       "tensor([[  3.4243,  -8.2902],\n",
       "        [  2.3804,  -6.8671],\n",
       "        [  2.0198,  -5.6391],\n",
       "        [  2.4075,  -7.2034],\n",
       "        [  2.0991, -14.8195],\n",
       "        [  5.6823, -16.3199],\n",
       "        [  2.4515,  -7.5885],\n",
       "        [  2.5426, -12.8390],\n",
       "        [  2.0106,  -6.5872],\n",
       "        [  1.9415,  -6.5616],\n",
       "        [ -0.5582,  -9.0522],\n",
       "        [  2.7527,  -6.9315],\n",
       "        [  2.0450, -11.2308],\n",
       "        [  1.4905,  -6.5028],\n",
       "        [  5.7221, -14.4698],\n",
       "        [  0.2657,  -4.7109],\n",
       "        [  2.6109,  -8.6494],\n",
       "        [  2.6878,  -7.3043],\n",
       "        [  2.2402,  -7.5195],\n",
       "        [  1.6963,  -4.6938],\n",
       "        [  4.1337, -10.7757],\n",
       "        [  1.8969,  -6.3039],\n",
       "        [  3.9992, -13.0256],\n",
       "        [ -0.8664,  -0.9858],\n",
       "        [  1.8433,  -5.5329],\n",
       "        [  1.5880,  -6.4373],\n",
       "        [  1.1371,  -7.7872],\n",
       "        [  1.0014,  -5.5803],\n",
       "        [  1.8535,  -5.5827],\n",
       "        [ -0.3908,  -5.1869],\n",
       "        [  3.0276,  -9.3268],\n",
       "        [  2.4716,  -6.9473]], device='cuda:1', grad_fn=<AddmmBackward>)"
      ]
     },
     "execution_count": 71,
     "metadata": {},
     "output_type": "execute_result"
    }
   ],
   "source": [
    "output"
   ]
  },
  {
   "cell_type": "code",
   "execution_count": 66,
   "metadata": {},
   "outputs": [
    {
     "data": {
      "text/plain": [
       "tensor([[9.9990e-01, 1.3097e-08],\n",
       "        [9.9922e-01, 4.2350e-08],\n",
       "        [9.5881e-02, 2.8661e-02],\n",
       "        [1.7763e-02, 6.0802e-02],\n",
       "        [9.9918e-01, 6.7501e-13],\n",
       "        [9.5675e-01, 3.6503e-14],\n",
       "        [2.4866e-01, 2.9110e-01],\n",
       "        [9.9999e-01, 9.1231e-19],\n",
       "        [3.1841e-01, 3.8536e-01],\n",
       "        [3.8564e-01, 3.6979e-01],\n",
       "        [9.9966e-01, 6.8945e-08],\n",
       "        [9.9963e-01, 6.3901e-10],\n",
       "        [9.9535e-01, 3.6750e-06],\n",
       "        [9.9975e-01, 1.3180e-08],\n",
       "        [2.9652e-01, 9.1243e-02],\n",
       "        [9.9376e-01, 8.3207e-06],\n",
       "        [9.6460e-02, 3.3061e-02],\n",
       "        [9.9748e-01, 1.6486e-06],\n",
       "        [1.0000e+00, 1.5050e-17],\n",
       "        [9.9748e-01, 6.5614e-06],\n",
       "        [9.8216e-01, 1.4766e-04],\n",
       "        [1.7671e-01, 1.9514e-03],\n",
       "        [3.4203e-01, 4.0338e-01],\n",
       "        [1.0358e-02, 9.4491e-01],\n",
       "        [2.5851e-01, 3.2543e-01],\n",
       "        [9.9998e-01, 2.5504e-12],\n",
       "        [3.1694e-01, 3.7799e-01],\n",
       "        [1.9657e-02, 5.5571e-02],\n",
       "        [7.7535e-03, 2.8238e-02],\n",
       "        [9.9664e-01, 2.9703e-06],\n",
       "        [1.9492e-01, 5.0248e-02],\n",
       "        [1.2475e-01, 1.9564e-01]], device='cuda:1', grad_fn=<SigmoidBackward>)"
      ]
     },
     "execution_count": 66,
     "metadata": {},
     "output_type": "execute_result"
    }
   ],
   "source": [
    "# y_pred = torch.sigmoid(y_pred)\n",
    "# output\n",
    "torch.sigmoid(output)"
   ]
  },
  {
   "cell_type": "code",
   "execution_count": 69,
   "metadata": {},
   "outputs": [
    {
     "data": {
      "text/plain": [
       "tensor([[1., 0.],\n",
       "        [1., 0.],\n",
       "        [0., 0.],\n",
       "        [0., 0.],\n",
       "        [1., 0.],\n",
       "        [1., 0.],\n",
       "        [0., 1.],\n",
       "        [1., 0.],\n",
       "        [0., 1.],\n",
       "        [0., 1.],\n",
       "        [1., 0.],\n",
       "        [1., 0.],\n",
       "        [1., 0.],\n",
       "        [1., 0.],\n",
       "        [0., 0.],\n",
       "        [1., 0.],\n",
       "        [0., 0.],\n",
       "        [1., 0.],\n",
       "        [1., 0.],\n",
       "        [1., 0.],\n",
       "        [1., 0.],\n",
       "        [0., 0.],\n",
       "        [0., 1.],\n",
       "        [0., 1.],\n",
       "        [0., 1.],\n",
       "        [1., 0.],\n",
       "        [0., 1.],\n",
       "        [0., 0.],\n",
       "        [0., 0.],\n",
       "        [1., 0.],\n",
       "        [0., 0.],\n",
       "        [0., 0.]])"
      ]
     },
     "execution_count": 69,
     "metadata": {},
     "output_type": "execute_result"
    }
   ],
   "source": [
    "labels"
   ]
  },
  {
   "cell_type": "code",
   "execution_count": 54,
   "metadata": {},
   "outputs": [
    {
     "data": {
      "text/plain": [
       "tensor([10., 10., 10.])"
      ]
     },
     "execution_count": 54,
     "metadata": {},
     "output_type": "execute_result"
    }
   ],
   "source": [
    "torch.Tensor([10,10,10])"
   ]
  },
  {
   "cell_type": "code",
   "execution_count": 55,
   "metadata": {},
   "outputs": [
    {
     "data": {
      "text/plain": [
       "tensor([-0.1389, -0.2854, -0.2922,  ...,  0.0028,  0.0134,  0.0105],\n",
       "       device='cuda:1', grad_fn=<AddBackward0>)"
      ]
     },
     "execution_count": 55,
     "metadata": {},
     "output_type": "execute_result"
    }
   ],
   "source": [
    "sum(model.fc1.weight)"
   ]
  },
  {
   "cell_type": "code",
   "execution_count": 56,
   "metadata": {},
   "outputs": [],
   "source": [
    "# m = nn.Sigmoid()\n",
    "\n",
    "# loss = nn.BCEWithLogitsLoss()\n",
    "# input = torch.tensor([100.0,100,100], requires_grad=True)\n",
    "# # target = torch.empty(3).random_(2)\n",
    "# target = torch.ones(3)\n",
    "# output = loss((input), target)\n",
    "# input,target,output"
   ]
  },
  {
   "cell_type": "code",
   "execution_count": null,
   "metadata": {},
   "outputs": [],
   "source": [
    "# input"
   ]
  },
  {
   "cell_type": "code",
   "execution_count": null,
   "metadata": {},
   "outputs": [],
   "source": [
    "# target"
   ]
  },
  {
   "cell_type": "code",
   "execution_count": null,
   "metadata": {},
   "outputs": [],
   "source": [
    "# output"
   ]
  },
  {
   "cell_type": "code",
   "execution_count": 57,
   "metadata": {},
   "outputs": [],
   "source": [
    "# m(input)"
   ]
  },
  {
   "cell_type": "code",
   "execution_count": null,
   "metadata": {},
   "outputs": [],
   "source": []
  },
  {
   "cell_type": "code",
   "execution_count": null,
   "metadata": {},
   "outputs": [],
   "source": []
  },
  {
   "cell_type": "code",
   "execution_count": null,
   "metadata": {},
   "outputs": [],
   "source": []
  }
 ],
 "metadata": {
  "kernelspec": {
   "display_name": "soundenv3",
   "language": "python",
   "name": "soundenv3"
  },
  "language_info": {
   "codemirror_mode": {
    "name": "ipython",
    "version": 3
   },
   "file_extension": ".py",
   "mimetype": "text/x-python",
   "name": "python",
   "nbconvert_exporter": "python",
   "pygments_lexer": "ipython3",
   "version": "3.7.9"
  }
 },
 "nbformat": 4,
 "nbformat_minor": 4
}
