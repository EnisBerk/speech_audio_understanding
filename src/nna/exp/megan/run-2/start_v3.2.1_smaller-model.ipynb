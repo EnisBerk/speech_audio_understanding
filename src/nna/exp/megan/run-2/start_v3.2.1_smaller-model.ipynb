{
 "cells": [
  {
   "cell_type": "code",
   "execution_count": 1,
   "metadata": {},
   "outputs": [],
   "source": [
    "# make model smaller, \n",
    "#   increased size of batch size to 64 from 32\n",
    "\n",
    "import os\n",
    "\n",
    "os.chdir('/home/enis/projects/nna/src/nna/exp/megan/run-2/')\n"
   ]
  },
  {
   "cell_type": "code",
   "execution_count": 2,
   "metadata": {},
   "outputs": [
    {
     "name": "stderr",
     "output_type": "stream",
     "text": [
      "/scratch/enis/conda/envs/soundenv3/lib/python3.7/site-packages/torchaudio/backend/utils.py:54: UserWarning: \"sox\" backend is being deprecated. The default backend will be changed to \"sox_io\" backend in 0.8.0 and \"sox\" backend will be removed in 0.9.0. Please migrate to \"sox_io\" backend. Please refer to https://github.com/pytorch/audio/issues/903 for the detail.\n",
      "  '\"sox\" backend is being deprecated. '\n"
     ]
    }
   ],
   "source": [
    "# import run\n",
    "# import nna\n",
    "import torch\n",
    "import torch.nn as nn\n",
    "import torch.nn.functional as F\n",
    "from torchvision import transforms\n",
    "import torchaudio\n",
    "torchaudio.set_audio_backend(\"sox_io\")\n",
    "\n",
    "import numpy as np\n",
    "\n",
    "from pathlib import Path\n",
    "from collections import Counter\n"
   ]
  },
  {
   "cell_type": "code",
   "execution_count": 3,
   "metadata": {},
   "outputs": [],
   "source": [
    "torch.manual_seed(42)\n",
    "\n",
    "np.random.seed(42)\n",
    "\n",
    "torch.backends.cudnn.benchmark = False"
   ]
  },
  {
   "cell_type": "code",
   "execution_count": 4,
   "metadata": {},
   "outputs": [],
   "source": [
    "loc_per_set = [['45',\n",
    "  '38',\n",
    "  '48',\n",
    "  '39',\n",
    "  '11',\n",
    "  '44',\n",
    "  '46',\n",
    "  '17',\n",
    "  '20',\n",
    "  '50',\n",
    "  '13',\n",
    "  '25',\n",
    "  '21',\n",
    "  '29',\n",
    "  '19',\n",
    "  '16',\n",
    "  '24',\n",
    "  '37'],\n",
    " ['18', '31', '34', '27', '32', '33', '47', '41', '22', '15'],\n",
    " ['30', '12', '14', '36', '40', '49']]\n"
   ]
  },
  {
   "cell_type": "code",
   "execution_count": 5,
   "metadata": {},
   "outputs": [],
   "source": [
    "import runconfigs\n",
    "import wandb\n",
    "from ignite.metrics import Accuracy, Loss\n",
    "from ignite.contrib.metrics import ROC_AUC"
   ]
  },
  {
   "cell_type": "code",
   "execution_count": 6,
   "metadata": {},
   "outputs": [],
   "source": [
    "# from nna.exp import augmentations,\n",
    "from nna.exp import modelArchs,runutils"
   ]
  },
  {
   "cell_type": "code",
   "execution_count": 7,
   "metadata": {},
   "outputs": [],
   "source": [
    "# wandb.init(config=runconfigs.default_config, project=runconfigs.PROJECT_NAME)\n",
    "# config = wandb.config\n",
    "config = runconfigs.default_config\n",
    "# wandb.config.update(args) # adds all of the arguments as config variables\n",
    "config['batch_size'] = 64\n",
    "params = {\n",
    "    'batch_size': config['batch_size'],\n",
    "    'shuffle': True,\n",
    "    'num_workers': 0\n",
    "}\n"
   ]
  },
  {
   "cell_type": "code",
   "execution_count": 8,
   "metadata": {},
   "outputs": [],
   "source": [
    "device = torch.device(\n",
    "    f\"cuda:{config['device']}\" if torch.cuda.is_available() else \"cpu\")\n"
   ]
  },
  {
   "cell_type": "code",
   "execution_count": 9,
   "metadata": {},
   "outputs": [],
   "source": [
    "\n",
    "# labelsbyhumanpath = Path('/scratch/enis/data/nna/labeling/results/')\n",
    "# sourcePath = Path(\"/scratch/enis/data/nna/labeling/splits/\")\n"
   ]
  },
  {
   "cell_type": "code",
   "execution_count": 10,
   "metadata": {},
   "outputs": [],
   "source": [
    "CATEGORY_COUNT = 2\n"
   ]
  },
  {
   "cell_type": "code",
   "execution_count": null,
   "metadata": {},
   "outputs": [],
   "source": []
  },
  {
   "cell_type": "code",
   "execution_count": null,
   "metadata": {},
   "outputs": [],
   "source": []
  },
  {
   "cell_type": "code",
   "execution_count": 11,
   "metadata": {},
   "outputs": [
    {
     "name": "stdout",
     "output_type": "stream",
     "text": [
      "job_logs\t\t\t   start_v3.2.1_smaller-model.ipynb\n",
      "__pycache__\t\t\t   start_v3.2_smaller-model.ipynb\n",
      "runconfigs.py\t\t\t   start_v3_split-loc.ipynb\n",
      "run.py\t\t\t\t   wandb\n",
      "start_v3.1_negative-samples.ipynb\n"
     ]
    }
   ],
   "source": [
    "!ls"
   ]
  },
  {
   "cell_type": "code",
   "execution_count": null,
   "metadata": {},
   "outputs": [],
   "source": []
  },
  {
   "cell_type": "code",
   "execution_count": 12,
   "metadata": {},
   "outputs": [
    {
     "name": "stdout",
     "output_type": "stream",
     "text": [
      "/scratch/enis/data/nna/labeling/megan/AudioSamplesPerSite/meganLabeledFiles_wlenV1.txt\n",
      "/scratch/enis/data/nna/labeling/megan/AudioSamplesPerSite\n",
      "4 files are missing corresponding to excell entries\n",
      "'-> 5 number of samples are DELETED due to ignore_files and missing_audio_files'\n",
      "-> 415 samples DELETED because they are not in the excell\n",
      "\n",
      "-> 0 samples DELETED because they do not have the taxo info coming from excell\n",
      "\n",
      "-> classes that do not have enough data:\n",
      "[REMOVED!]\n",
      "['other-mammal'] 0.0\n",
      "['other-silence'] 20.0\n",
      "['unknown-sound'] 2.0\n",
      "['seabirds'] 1.0\n",
      "['canids'] 1.0\n",
      "['other-flare'] 11.0\n",
      "['other-rain'] 20.0\n",
      "\n",
      "-> classes that have enough data:\n",
      "['other-biophony'] 56.0\n",
      "['other-insect'] 140.0\n",
      "['other-bird'] 661.0\n",
      "['songbirds'] 392.0\n",
      "['duck-goose-swan'] 183.0\n",
      "['grouse-ptarmigan'] 59.0\n",
      "['other-anthrophony'] 66.0\n",
      "['other-aircraft'] 107.0\n",
      "['loons'] 29.0\n",
      "['other-car'] 37.0\n",
      "('-> 102 number of samples are deleted because their taxonomy category does '\n",
      " 'not have enough data.')\n",
      "-> classes that do not have enough data\n",
      "will be REMOVED!\n",
      "-> 97 number of samples are deleted because their length is not long enough.\n",
      "loading from cache at /scratch/enis/data/nna/labeling/megan/AudioSamplesPerSite/files_as_np_filtered_v3_int16.pkl\n"
     ]
    }
   ],
   "source": [
    "## Load real data rather than mock \n",
    "    # MVP1: delete parts longer than 10 seconds\n",
    "import run\n",
    "audio_dataset,_ = run.prepare_dataset()\n",
    "\n",
    "output_file_path = '/scratch/enis/data/nna/labeling/megan/AudioSamplesPerSite/files_as_np_filtered_v3_int16.pkl'\n",
    "audio_dataset.load_audio_files(output_file_path)\n",
    "audio_dataset.pick_channel_by_clipping()\n"
   ]
  },
  {
   "cell_type": "code",
   "execution_count": null,
   "metadata": {},
   "outputs": [],
   "source": []
  },
  {
   "cell_type": "code",
   "execution_count": 13,
   "metadata": {},
   "outputs": [],
   "source": [
    "# sound_ins=next(iter(audio_dataset.items()))"
   ]
  },
  {
   "cell_type": "code",
   "execution_count": 14,
   "metadata": {},
   "outputs": [],
   "source": [
    "# sound_ins[1].location_id"
   ]
  },
  {
   "cell_type": "code",
   "execution_count": 15,
   "metadata": {},
   "outputs": [],
   "source": [
    "# sound_ins[1].taxo_code"
   ]
  },
  {
   "cell_type": "code",
   "execution_count": 16,
   "metadata": {},
   "outputs": [
    {
     "data": {
      "text/plain": [
       "(832, 832)"
      ]
     },
     "execution_count": 16,
     "metadata": {},
     "output_type": "execute_result"
    }
   ],
   "source": [
    "# sound_ins[1].taxo_code\n",
    "# classA = 1.1.7 #'duck-goose-swan']\n",
    "# classB = 0.2.0 # other-aircraft\n",
    "# 3.0.0 : 0.48, 0.26, 0.26, 46 # silence\n",
    "# 2.1.0 : 0.22, 0.56, 0.22, 18 # rain\n",
    "# 1.3.0 1.3.0 : 0.52, 0.4, 0.087, 161 # insect\n",
    "# 1.1.8 : 0.49, 0.19, 0.32, 88 # grouse-ptarmigan\n",
    "\n",
    "other_taxo = ['3.0.0','2.1.0','1.3.0','1.1.8']\n",
    "\n",
    "sampleTest= []\n",
    "y=[]\n",
    "location_id_info = []\n",
    "expected_len=10\n",
    "for sound_ins in audio_dataset.values():\n",
    "    if sound_ins.taxo_code in ['1.1.10','1.1.7'] + other_taxo:\n",
    "        y.append(sound_ins.taxo_code)\n",
    "        location_id_info.append(sound_ins.location_id)\n",
    "        if sound_ins.length<10:\n",
    "            tile_reps = (expected_len/(sound_ins.length)+1)\n",
    "            repeated_data = np.tile(sound_ins.data,int(tile_reps))\n",
    "            repeated_data = repeated_data[:expected_len*sound_ins.sr]\n",
    "            sampleTest.append(repeated_data)\n",
    "        else:\n",
    "            sampleTest.append(sound_ins.data[:expected_len*sound_ins.sr])\n",
    "\n",
    "len(sampleTest),len(y)\n",
    "\n",
    "# sampleTest=np.array(sampleTest)"
   ]
  },
  {
   "cell_type": "code",
   "execution_count": 17,
   "metadata": {},
   "outputs": [
    {
     "data": {
      "text/plain": [
       "(902, 0.5314091680814941)"
      ]
     },
     "execution_count": 17,
     "metadata": {},
     "output_type": "execute_result"
    }
   ],
   "source": [
    "313+589,(46+18+161+88)/589 \n"
   ]
  },
  {
   "cell_type": "code",
   "execution_count": null,
   "metadata": {},
   "outputs": [],
   "source": []
  },
  {
   "cell_type": "code",
   "execution_count": 18,
   "metadata": {},
   "outputs": [],
   "source": [
    "from numpy import argmax\n",
    "# define input string\n",
    "# define universe of possible input values\n",
    "alphabet = ['1.1.10','1.1.7']\n",
    "# define a mapping of chars to integers\n",
    "char_to_int = dict((c, i) for i, c in enumerate(alphabet))\n",
    "int_to_char = dict((i, c) for i, c in enumerate(alphabet))\n",
    "# integer encode input data\n",
    "integer_encoded = [char_to_int.get(char,None) for char in y]\n",
    "# print(integer_encoded)\n",
    "# one hot encode\n",
    "onehot_encoded = list()\n",
    "for value in integer_encoded:\n",
    "\tletter = [0 for _ in range(len(alphabet))]\n",
    "\tif value is not None:\n",
    "\t\tletter[value] = 1\n",
    "\tonehot_encoded.append(letter)\n",
    "# print(onehot_encoded)\n",
    "# invert encoding\n",
    "inverted = int_to_char[argmax(onehot_encoded[0])]\n",
    "# print(inverted)\n",
    "onehot_encoded=np.array(onehot_encoded)"
   ]
  },
  {
   "cell_type": "code",
   "execution_count": null,
   "metadata": {},
   "outputs": [],
   "source": []
  },
  {
   "cell_type": "code",
   "execution_count": 19,
   "metadata": {},
   "outputs": [],
   "source": [
    "X_train,X_test, X_val, y_train, y_test,y_val  = [],[],[],[],[],[]\n",
    "loc_id_train=[]\n",
    "loc_id_test=[]\n",
    "loc_id_valid=[]\n",
    "\n",
    "for sample,y_val_ins,loc_id in  zip(sampleTest,onehot_encoded,location_id_info):\n",
    "    if loc_id in loc_per_set[0]:\n",
    "        X_train.append(sample)\n",
    "        y_train.append(y_val_ins)\n",
    "        loc_id_train.append(loc_id)\n",
    "    elif loc_id in loc_per_set[1]:\n",
    "        X_test.append(sample)\n",
    "        y_test.append(y_val_ins)\n",
    "        loc_id_test.append(loc_id)\n",
    "    elif loc_id in loc_per_set[2]:\n",
    "        X_val.append(sample)\n",
    "        y_val.append(y_val_ins)\n",
    "        loc_id_valid.append(loc_id)\n",
    "    else:\n",
    "        print('error')\n"
   ]
  },
  {
   "cell_type": "code",
   "execution_count": 20,
   "metadata": {},
   "outputs": [
    {
     "data": {
      "text/plain": [
       "({'11',\n",
       "  '16',\n",
       "  '17',\n",
       "  '19',\n",
       "  '20',\n",
       "  '21',\n",
       "  '24',\n",
       "  '25',\n",
       "  '29',\n",
       "  '37',\n",
       "  '38',\n",
       "  '39',\n",
       "  '44',\n",
       "  '46',\n",
       "  '48',\n",
       "  '50'},\n",
       " {'15', '18', '22', '27', '31', '32', '33', '41', '47'},\n",
       " {'14', '30', '40', '49'})"
      ]
     },
     "execution_count": 20,
     "metadata": {},
     "output_type": "execute_result"
    }
   ],
   "source": [
    "set(loc_id_train),set(loc_id_test),set(loc_id_valid)"
   ]
  },
  {
   "cell_type": "code",
   "execution_count": 21,
   "metadata": {},
   "outputs": [
    {
     "data": {
      "text/plain": [
       "832"
      ]
     },
     "execution_count": 21,
     "metadata": {},
     "output_type": "execute_result"
    }
   ],
   "source": [
    "len(sampleTest)"
   ]
  },
  {
   "cell_type": "code",
   "execution_count": 22,
   "metadata": {},
   "outputs": [],
   "source": [
    "X_train,X_test,X_val=np.array(X_train),np.array(X_test),np.array(X_val)\n",
    "y_train,y_test,y_val=np.array(y_train),np.array(y_test),np.array(y_val)\n"
   ]
  },
  {
   "cell_type": "code",
   "execution_count": 23,
   "metadata": {},
   "outputs": [],
   "source": [
    "# X_train, X_test, y_train, y_test = train_test_split(\n",
    "#                 sampleTest, onehot_encoded, test_size=0.2, random_state=42)\n",
    "# X_train, X_val, y_train, y_val = train_test_split(\n",
    "#                 X_train, y_train, test_size=0.25,random_state=42)"
   ]
  },
  {
   "cell_type": "code",
   "execution_count": 24,
   "metadata": {},
   "outputs": [],
   "source": [
    "X_train,X_test,X_val=torch.from_numpy(X_train).float(),torch.from_numpy(X_test).float(),torch.from_numpy(X_val).float()\n",
    "y_train,y_test,y_val=torch.from_numpy(y_train).float(),torch.from_numpy(y_test).float(),torch.from_numpy(y_val).float()\n"
   ]
  },
  {
   "cell_type": "code",
   "execution_count": 25,
   "metadata": {},
   "outputs": [
    {
     "data": {
      "text/plain": [
       "(torch.Size([459, 480000]),\n",
       " torch.Size([216, 480000]),\n",
       " torch.Size([157, 480000]))"
      ]
     },
     "execution_count": 25,
     "metadata": {},
     "output_type": "execute_result"
    }
   ],
   "source": [
    "X_train.shape,X_test.shape,X_val.shape"
   ]
  },
  {
   "cell_type": "code",
   "execution_count": 26,
   "metadata": {},
   "outputs": [
    {
     "data": {
      "text/plain": [
       "(torch.Size([459, 2]), torch.Size([216, 2]), torch.Size([157, 2]))"
      ]
     },
     "execution_count": 26,
     "metadata": {},
     "output_type": "execute_result"
    }
   ],
   "source": [
    "y_train.shape,y_test.shape,y_val.shape"
   ]
  },
  {
   "cell_type": "code",
   "execution_count": 27,
   "metadata": {},
   "outputs": [],
   "source": [
    "# y_val[0:3]"
   ]
  },
  {
   "cell_type": "code",
   "execution_count": 29,
   "metadata": {},
   "outputs": [],
   "source": [
    "# # X_train,X_test,X_val,y_train,y_test,y_val = load_raw_data('labelsbyhumanpath','sourcePath')\n",
    "# X_train,X_test,X_val,y_train,y_test,y_val = mock_raw_data(4,CATEGORY_COUNT)\n",
    "# X_train,X_test,X_val=torch.from_numpy(X_train).float(),torch.from_numpy(X_test).float(),torch.from_numpy(X_val).float()\n",
    "# y_train,y_test,y_val=torch.from_numpy(y_train).float(),torch.from_numpy(y_test).float(),torch.from_numpy(y_val).float()\n",
    "\n",
    "# # labelsbyhumanpath = Path('/scratch/enis/data/nna/labeling/results/')\n",
    "# # with open(labelsbyhumanpath/\"np_array_Ymatrix.npy\", 'rb') as f:\n",
    "# #     y_true = np.load(f)\n",
    "\n",
    "# Counter(np.argmax(y_train,axis=1).tolist()),Counter(np.argmax(y_val,axis=1).tolist()),Counter(np.argmax(y_test,axis=1).tolist())\n"
   ]
  },
  {
   "cell_type": "code",
   "execution_count": 30,
   "metadata": {},
   "outputs": [],
   "source": [
    "\n",
    "# X_train2=np.interp(X_train, (X_train.min(), X_train.max()), (-32768 , 32767))\n",
    "# torch.from_numpy(X_train2).float()\n"
   ]
  },
  {
   "cell_type": "code",
   "execution_count": 31,
   "metadata": {},
   "outputs": [],
   "source": [
    "# y_val"
   ]
  },
  {
   "cell_type": "code",
   "execution_count": 32,
   "metadata": {},
   "outputs": [],
   "source": [
    "# smaple_index=10\n",
    "# X_train[smaple_index,:],y_train[smaple_index,]\n"
   ]
  },
  {
   "cell_type": "code",
   "execution_count": null,
   "metadata": {},
   "outputs": [],
   "source": []
  },
  {
   "cell_type": "code",
   "execution_count": 33,
   "metadata": {},
   "outputs": [],
   "source": [
    "# X_train[0,:].shape"
   ]
  },
  {
   "cell_type": "code",
   "execution_count": 34,
   "metadata": {},
   "outputs": [],
   "source": [
    "# multiply(torch.ones((1,2)),torch.ones((1,2)))"
   ]
  },
  {
   "cell_type": "code",
   "execution_count": 40,
   "metadata": {},
   "outputs": [],
   "source": [
    "class ToTensor(object):\n",
    "    \"\"\"Convert ndarrays in sample to Tensors.\"\"\"\n",
    "\n",
    "    def __init__(self, maxMelLen, sampling_rate):\n",
    "        # sr = 44100 etc\n",
    "        self.maxMelLen = maxMelLen\n",
    "        self.sampling_rate = sampling_rate\n",
    "\n",
    "    def __call__(self, sample):\n",
    "        x, y = sample\n",
    "        #https://github.com/PCerles/audio/blob/3803d0b27a4e13efa760227ef6c71d0f3753aa98/test/test_transforms.py#L262\n",
    "        #librosa defaults\n",
    "        n_fft = 2048\n",
    "        hop_length = 512\n",
    "        power = 2.0\n",
    "        n_mels = 128\n",
    "        n_mfcc = 40\n",
    "        # htk is false in librosa, no setting in torchaudio -?\n",
    "        # norm is 1 in librosa, no setting in torchaudio -?\n",
    "        melspect_transform = torchaudio.transforms.MelSpectrogram(sample_rate=self.sampling_rate, window_fn=torch.hann_window,\n",
    "                                                                  hop_length=hop_length, n_mels=n_mels, n_fft=n_fft)\n",
    "\n",
    "    \n",
    "        db_transform = torchaudio.transforms.AmplitudeToDB(\"power\", 80.)\n",
    "        mel = melspect_transform(x.reshape(-1))\n",
    "        an_x = db_transform(mel)\n",
    "        #librosa version\n",
    "#         mel = librosa.feature.melspectrogram(y=x.reshape(-1),\n",
    "#                                              sr=self.sampling_rate)\n",
    "#         an_x = librosa.power_to_db(mel, ref=np.max)\n",
    "#         an_x = an_x.astype(\"float32\")\n",
    "#         y = y.astype('float32')\n",
    "#         print(an_x.shape)\n",
    "        an_x = an_x[:, :self.maxMelLen]\n",
    "        # 2-d conv\n",
    "#         x = an_x.reshape(1, *an_x.shape[:])\n",
    "        # 1-d conv\n",
    "        x = an_x.reshape(1, an_x.shape[0]*an_x.shape[1])\n",
    "\n",
    "        \n",
    "        return x,y\n",
    "\n",
    "# #test\n",
    "# maxMelLen_test = 850\n",
    "# SAMPLING_RATE_test = 48000\n",
    "# sample_len_seconds = 10\n",
    "# # to_tensor works on single sample\n",
    "# sample_count = 1\n",
    "# xx_test = torch.ones((sample_count,SAMPLING_RATE_test*sample_len_seconds))\n",
    "# y_values = torch.ones(sample_count)\n",
    "# \n",
    "# toTensor = ToTensor(maxMelLen_test,SAMPLING_RATE_test)\n",
    "# x_out,y_out=toTensor((xx_test,y_values))\n",
    "# x_out.shape,y_out.shape"
   ]
  },
  {
   "cell_type": "code",
   "execution_count": 41,
   "metadata": {},
   "outputs": [
    {
     "data": {
      "text/plain": [
       "torch.Size([459, 480000])"
      ]
     },
     "execution_count": 41,
     "metadata": {},
     "output_type": "execute_result"
    }
   ],
   "source": [
    "# X_train,X_test,X_val,y_train,y_test,y_val\n",
    "X_train[:].shape"
   ]
  },
  {
   "cell_type": "code",
   "execution_count": 42,
   "metadata": {},
   "outputs": [],
   "source": [
    "# toTensor = ToTensor(maxMelLen_test,SAMPLING_RATE_test)\n",
    "# x_out2,y_out=toTensor((X_train[1:2,:],y_train))\n",
    "# x_out.shape,y_out.shape"
   ]
  },
  {
   "cell_type": "code",
   "execution_count": 43,
   "metadata": {},
   "outputs": [],
   "source": [
    "# torch.mean(x_out[0]),torch.mean(x_out2[0])\n",
    "# y_train"
   ]
  },
  {
   "cell_type": "code",
   "execution_count": 44,
   "metadata": {},
   "outputs": [],
   "source": [
    "# X_train,y_train"
   ]
  },
  {
   "cell_type": "code",
   "execution_count": 45,
   "metadata": {},
   "outputs": [],
   "source": [
    "\n",
    "# pitch = augmentations.pitch_shift_n_stepsClass(\n",
    "#     runconfigs.SAMPLING_RATE, config['pitch_shift_n_steps'])\n",
    "# noise = augmentations.addNoiseClass(config['noise_factor'])\n",
    "# strech = augmentations.time_stretchClass(runconfigs.SAMPLING_RATE*runconfigs.EXCERPT_LENGTH,\n",
    "#                                             config['time_stretch_factor'],\n",
    "#                                             isRandom=True)\n",
    "# shift = augmentations.shiftClass(config['roll_rate'], isRandom=True)\n",
    "maxMelLen = 938 # old 850\n",
    "# toTensor = augmentations.ToTensor(maxMelLen,runconfigs.SAMPLING_RATE)\n",
    "toTensor = ToTensor(maxMelLen,runconfigs.SAMPLING_RATE)"
   ]
  },
  {
   "cell_type": "code",
   "execution_count": null,
   "metadata": {},
   "outputs": [],
   "source": []
  },
  {
   "cell_type": "code",
   "execution_count": null,
   "metadata": {},
   "outputs": [],
   "source": []
  },
  {
   "cell_type": "code",
   "execution_count": 46,
   "metadata": {},
   "outputs": [],
   "source": [
    "from ignite.metrics import EpochMetric\n",
    "\n",
    "\n",
    "def roc_auc_perClass_compute_fn(y_preds, y_targets):\n",
    "    try:\n",
    "        from sklearn.metrics import roc_auc_score\n",
    "    except ImportError:\n",
    "        raise RuntimeError(\n",
    "            \"This contrib module requires sklearn to be installed.\")\n",
    "\n",
    "    y_true = y_targets.numpy()\n",
    "    y_pred = y_preds.numpy()\n",
    "#     print(y_pred,y_true)\n",
    "#     res = []\n",
    "#     for y_true_perClass_Index in y_true.shape[1]:\n",
    "#         res.append(\n",
    "#             roc_auc_score(y_true[:, y_true_perClass_Index],\n",
    "#                           y_pred[:, y_true_perClass_Index]))\n",
    "    res = roc_auc_score(y_true, y_pred, average=None)\n",
    "    return res\n",
    "\n",
    "\n",
    "#[docs]\n",
    "class ROC_AUC_perClass(EpochMetric):\n",
    "    \"\"\"Computes Area Under the Receiver Operating Characteristic Curve (ROC AUC)\n",
    "  accumulating predictions and the ground-truth during an epoch and applying\n",
    "  `sklearn.metrics.roc_auc_score <http://scikit-learn.org/stable/modules/generated/\n",
    "  sklearn.metrics.roc_auc_score.html#sklearn.metrics.roc_auc_score>`_ .\n",
    "\n",
    "  Args:\n",
    "      output_transform (callable, optional): a callable that is used to transform the\n",
    "          :class:`~ignite.engine.engine.Engine`'s ``process_function``'s output into the\n",
    "          form expected by the metric. This can be useful if, for example, you have a multi-output model and\n",
    "          you want to compute the metric with respect to one of the outputs.\n",
    "      check_compute_fn (bool): Optional default False. If True, `roc_curve\n",
    "          <http://scikit-learn.org/stable/modules/generated/sklearn.metrics.roc_auc_score.html#\n",
    "          sklearn.metrics.roc_auc_score>`_ is run on the first batch of data to ensure there are\n",
    "          no issues. User will be warned in case there are any issues computing the function.\n",
    "\n",
    "  ROC_AUC expects y to be comprised of 0's and 1's. y_pred must either be probability estimates or confidence\n",
    "  values. To apply an activation to y_pred, use output_transform as shown below:\n",
    "\n",
    "  .. code-block:: python\n",
    "\n",
    "      def activated_output_transform(output):\n",
    "          y_pred, y = output\n",
    "          y_pred = torch.sigmoid(y_pred)\n",
    "          return y_pred, y\n",
    "\n",
    "      roc_auc = ROC_AUC(activated_output_transform)\n",
    "\n",
    "  \"\"\"\n",
    "    def __init__(self,\n",
    "                 output_transform=lambda x: x,\n",
    "                 check_compute_fn: bool = False):\n",
    "#         print(output_transform)\n",
    "        super(ROC_AUC_perClass,\n",
    "              self).__init__(roc_auc_perClass_compute_fn,\n",
    "                             output_transform=output_transform,\n",
    "                             check_compute_fn=check_compute_fn)\n"
   ]
  },
  {
   "cell_type": "code",
   "execution_count": 47,
   "metadata": {},
   "outputs": [],
   "source": [
    "\n",
    "def conv_output_shape(h_w, kernel_size=1, stride=1, pad=0, dilation=1):\n",
    "    \"\"\"\n",
    "  Utility function for computing output of convolutions\n",
    "  takes a tuple of (h,w) and returns a tuple of (h,w)\n",
    "  \"\"\"\n",
    "    from math import floor\n",
    "    if type(kernel_size) is not tuple:\n",
    "        kernel_size = (kernel_size, kernel_size)\n",
    "    h = floor(((h_w[0] + (2 * pad) - (dilation *\n",
    "                                      (kernel_size[0] - 1)) - 1) / stride) + 1)\n",
    "    w = floor(((h_w[1] + (2 * pad) - (dilation *\n",
    "                                      (kernel_size[1] - 1)) - 1) / stride) + 1)\n",
    "    return h, w\n",
    "\n",
    "# mel.shape,an_x.shape,X_train.shape\n",
    "class testModel(nn.Module):\n",
    "    '''A simple model for testing by overfitting.\n",
    "    '''\n",
    "    def __init__(self, out_channels, h_w, kernel_size, FLAT=False,output_shape=(10,)):\n",
    "        # h_w: height will be always one since we use 1d convolution \n",
    "        super(testModel, self).__init__()\n",
    "        self.out_channels = out_channels\n",
    "        #### CONV\n",
    "        self.conv1 = nn.Conv1d(in_channels=1, # depth of image == depth of filters\n",
    "                               out_channels=self.out_channels, # number of filters \n",
    "                               kernel_size=kernel_size, # size of the filters/kernels\n",
    "                               padding=1)\n",
    "\n",
    "        self.conv1_shape = conv_output_shape(h_w, kernel_size=kernel_size, stride=1, pad=1, dilation=1)\n",
    "        # conv is 1d\n",
    "        self.conv1_shape = (1,self.conv1_shape[1])\n",
    "        \n",
    "        self.fc1 = nn.Linear(self.out_channels * self.conv1_shape[0] *self.conv1_shape[1], 48)  # 100\n",
    "\n",
    "        self.fc2 = nn.Linear(48,output_shape[0])\n",
    "        \n",
    "    def forward(self, x):\n",
    "#         x = x.reshape(1,)\n",
    "#         print(x.shape) #  50,1,108800 (850*128)\n",
    "        x = F.relu(self.conv1(x))\n",
    "#         x = self.pool(x)\n",
    "        # x = self.drop(x)\n",
    "#         print(x.shape)# 58, 2, 108801\n",
    "#         print(self.conv1_shape)\n",
    "#         print(x.shape)\n",
    "        x = x.view(-1, self.out_channels * self.conv1_shape[0] *self.conv1_shape[1])\n",
    "        # batch_norm is missing\n",
    "        x = F.relu((self.fc1(x)))\n",
    "        x = (self.fc2(x))\n",
    "\n",
    "#         x = self.drop(x)\n",
    "\n",
    "#         x = self.fc4(x)\n",
    "#         x = torch.sigmoid(x)\n",
    "#                 x = F.log_softmax(x,dim=1)\n",
    "        return x\n",
    "\n",
    "# test\n",
    "# input_shape=(1,(938*128))\n",
    "# output_shape=(10,)\n",
    "# testModel_ins=adam(out_channels=2,h_w=input_shape,kernel_size=2,output_shape=output_shape)\n",
    "# # a.conv1.weight\n",
    "# a_out=testModel_ins(torch.ones((3,1,input_shape[1])))\n",
    "\n",
    "# a_out_correct=torch.zeros(a_out.shape)\n",
    "# a_out_correct[0][:]=1\n",
    "# a_out_correct\n",
    "# a_out.detach().numpy()\n",
    "\n",
    "# torch.exp(a_out),a_out"
   ]
  },
  {
   "cell_type": "code",
   "execution_count": null,
   "metadata": {},
   "outputs": [],
   "source": []
  },
  {
   "cell_type": "code",
   "execution_count": null,
   "metadata": {},
   "outputs": [],
   "source": []
  },
  {
   "cell_type": "code",
   "execution_count": 48,
   "metadata": {},
   "outputs": [],
   "source": [
    "\n",
    "# for y_true_perClass_Index in a_out_correct.shape[1]:\n",
    "#     print(y_true_perClass_Index)"
   ]
  },
  {
   "cell_type": "code",
   "execution_count": 49,
   "metadata": {},
   "outputs": [],
   "source": [
    "# from ignite.contrib.metrics import ROC_AUC\n",
    "# from nna.exp.metrics import ROC_AUC_perClass\n",
    "def activated_output_transform(output):\n",
    "    y_pred, y = output\n",
    "#     y_pred = torch.exp(y_pred)\n",
    "    return y_pred, y"
   ]
  },
  {
   "cell_type": "code",
   "execution_count": null,
   "metadata": {},
   "outputs": [],
   "source": []
  },
  {
   "cell_type": "code",
   "execution_count": 50,
   "metadata": {},
   "outputs": [],
   "source": [
    "# asd=ROC_AUC_perClass(activated_output_transform)\n",
    "# asd.update((a_out,a_out_correct))\n",
    "# asd.compute()"
   ]
  },
  {
   "cell_type": "code",
   "execution_count": null,
   "metadata": {},
   "outputs": [],
   "source": []
  },
  {
   "cell_type": "code",
   "execution_count": 51,
   "metadata": {},
   "outputs": [],
   "source": [
    "\n",
    "transformCompose = transforms.Compose([\n",
    "#     pitch,\n",
    "#     strech,\n",
    "#     shift,\n",
    "#     noise,\n",
    "    toTensor,\n",
    "])\n",
    "\n",
    "\n",
    "sound_datasets = {\n",
    "    phase: runutils.audioDataset(XY[0], XY[1], transform=transformCompose)\n",
    "    for phase, XY in\n",
    "    zip(['train', 'val', 'test'],\n",
    "        [[X_train, y_train], [X_val, y_val], [X_test, y_test]])\n",
    "}\n",
    "\n",
    "dataloaders = {\n",
    "    x: torch.utils.data.DataLoader(sound_datasets[x], **params)\n",
    "    for x in ['train', 'val', 'test']\n",
    "}\n",
    "\n",
    "# this will change\n",
    "h_w = [128, 938]\n",
    "kernel_size = (4, 4)\n",
    "# if config['CNNLayer_count'] == 1:\n",
    "#     model = modelArchs.NetCNN1(config['CNN_filters_1'], h_w,\n",
    "#                                 kernel_size).float().to(device)\n",
    "\n",
    "# if config['CNNLayer_count'] == 2:\n",
    "#     model = modelArchs.NetCNN2(config['CNN_filters_1'], config.CNN_filters_2,\n",
    "#                                 h_w, kernel_size,\n",
    "#                                 kernel_size).float().to(device)\n",
    "\n",
    "#simpler model\n",
    "\n",
    "output_shape=(CATEGORY_COUNT,)\n",
    "model = testModel(out_channels=2,h_w=(1,h_w[0]*h_w[1]),kernel_size=kernel_size[0]*kernel_size[0],output_shape=output_shape)\n",
    "model.float().to(device)\n",
    "\n",
    "# device is defined before\n",
    "\n",
    "model.float().to(device)  # Move model before creating optimizer\n",
    "optimizer = torch.optim.AdamW(model.parameters(),\n",
    "#                                 weight_decay=config['weight_decay'],\n",
    "                             )\n",
    "\n",
    "\n",
    "\n",
    "criterion = nn.BCEWithLogitsLoss()\n",
    "# statHistory={'valLoss':[],'trainLoss':[],'trainAUC':[],'valAUC':[]}\n",
    "\n",
    "metrics = {\n",
    "    'loss': Loss(criterion),  # 'accuracy': Accuracy(),\n",
    "#     'ROC_AUC': ROC_AUC(runutils.activated_output_transform),\n",
    "    'ROC_AUC': ROC_AUC_perClass(activated_output_transform),\n",
    "\n",
    "}\n"
   ]
  },
  {
   "cell_type": "code",
   "execution_count": 52,
   "metadata": {},
   "outputs": [
    {
     "data": {
      "text/plain": [
       "testModel(\n",
       "  (conv1): Conv1d(1, 2, kernel_size=(16,), stride=(1,), padding=(1,))\n",
       "  (fc1): Linear(in_features=240102, out_features=48, bias=True)\n",
       "  (fc2): Linear(in_features=48, out_features=2, bias=True)\n",
       ")"
      ]
     },
     "execution_count": 52,
     "metadata": {},
     "output_type": "execute_result"
    }
   ],
   "source": [
    "model"
   ]
  },
  {
   "cell_type": "code",
   "execution_count": 53,
   "metadata": {},
   "outputs": [
    {
     "data": {
      "text/plain": [
       "Parameter containing:\n",
       "tensor([[[ 0.1911,  0.2075, -0.0586,  0.2297, -0.0548,  0.0504, -0.1217,\n",
       "           0.1468,  0.2204, -0.1834,  0.2173,  0.0468,  0.1847,  0.0339,\n",
       "           0.1205, -0.0353]],\n",
       "\n",
       "        [[ 0.1927,  0.0370, -0.1167,  0.0637, -0.1152, -0.0293, -0.1015,\n",
       "           0.1658, -0.1973, -0.1153, -0.0706, -0.1503,  0.0236, -0.2469,\n",
       "           0.2258, -0.2124]]], device='cuda:1', requires_grad=True)"
      ]
     },
     "execution_count": 53,
     "metadata": {},
     "output_type": "execute_result"
    }
   ],
   "source": [
    "model.conv1.weight"
   ]
  },
  {
   "cell_type": "code",
   "execution_count": 54,
   "metadata": {},
   "outputs": [
    {
     "data": {
      "text/plain": [
       "Conv1d(1, 2, kernel_size=(16,), stride=(1,), padding=(1,))"
      ]
     },
     "execution_count": 54,
     "metadata": {},
     "output_type": "execute_result"
    }
   ],
   "source": [
    "model.conv1"
   ]
  },
  {
   "cell_type": "code",
   "execution_count": 55,
   "metadata": {},
   "outputs": [
    {
     "data": {
      "text/plain": [
       "Parameter containing:\n",
       "tensor([[-6.6266e-04,  1.2611e-03,  3.1806e-04,  ..., -1.1344e-03,\n",
       "          1.7489e-04, -2.2777e-05],\n",
       "        [-1.3098e-03, -1.8677e-03, -6.3242e-04,  ..., -1.6664e-03,\n",
       "          6.8555e-04,  1.7273e-03],\n",
       "        [-1.5009e-03,  8.8956e-04,  6.2944e-04,  ...,  1.2712e-03,\n",
       "          1.2644e-03,  1.4021e-03],\n",
       "        ...,\n",
       "        [-1.5273e-03,  1.8937e-03,  1.7664e-03,  ..., -1.3654e-04,\n",
       "         -1.5554e-03, -1.1808e-03],\n",
       "        [ 1.7835e-03, -1.3798e-03,  1.6503e-03,  ...,  1.3439e-03,\n",
       "          4.2064e-04,  1.1396e-03],\n",
       "        [-6.3233e-04,  1.2672e-03,  1.1927e-03,  ...,  5.6029e-04,\n",
       "          1.6503e-03,  1.8935e-03]], device='cuda:1', requires_grad=True)"
      ]
     },
     "execution_count": 55,
     "metadata": {},
     "output_type": "execute_result"
    }
   ],
   "source": [
    "model.fc1.weight"
   ]
  },
  {
   "cell_type": "code",
   "execution_count": null,
   "metadata": {},
   "outputs": [],
   "source": []
  },
  {
   "cell_type": "code",
   "execution_count": null,
   "metadata": {},
   "outputs": [
    {
     "name": "stderr",
     "output_type": "stream",
     "text": [
      "Failed to query for notebook name, you can set it manually with the WANDB_NOTEBOOK_NAME environment variable\n",
      "\u001b[34m\u001b[1mwandb\u001b[0m: Currently logged in as: \u001b[33menisberk\u001b[0m (use `wandb login --relogin` to force relogin)\n"
     ]
    },
    {
     "name": "stdout",
     "output_type": "stream",
     "text": [
      "ready ?\n"
     ]
    },
    {
     "name": "stderr",
     "output_type": "stream",
     "text": [
      "\u001b[34m\u001b[1mwandb\u001b[0m: wandb version 0.10.15 is available!  To upgrade, please run:\n",
      "\u001b[34m\u001b[1mwandb\u001b[0m:  $ pip install wandb --upgrade\n"
     ]
    },
    {
     "data": {
      "text/html": [
       "\n",
       "                Tracking run with wandb version 0.10.12<br/>\n",
       "                Syncing run <strong style=\"color:#cdcd00\">glorious-shape-156</strong> to <a href=\"https://wandb.ai\" target=\"_blank\">Weights & Biases</a> <a href=\"https://docs.wandb.com/integrations/jupyter.html\" target=\"_blank\">(Documentation)</a>.<br/>\n",
       "                Project page: <a href=\"https://wandb.ai/enisberk/megan\" target=\"_blank\">https://wandb.ai/enisberk/megan</a><br/>\n",
       "                Run page: <a href=\"https://wandb.ai/enisberk/megan/runs/39bhzs0o\" target=\"_blank\">https://wandb.ai/enisberk/megan/runs/39bhzs0o</a><br/>\n",
       "                Run data is saved locally in <code>/home/enis/projects/nna/src/nna/exp/megan/run-2/wandb/run-20210126_063901-39bhzs0o</code><br/><br/>\n",
       "            "
      ],
      "text/plain": [
       "<IPython.core.display.HTML object>"
      ]
     },
     "metadata": {},
     "output_type": "display_data"
    },
    {
     "name": "stderr",
     "output_type": "stream",
     "text": [
      "2021-01-26 06:39:05,539 Trainer INFO: Engine run starting with max_epochs=2000.\n",
      "/scratch/enis/conda/envs/soundenv3/lib/python3.7/site-packages/torch/functional.py:516: UserWarning: stft will require the return_complex parameter be explicitly  specified in a future PyTorch release. Use return_complex=False  to preserve the current behavior or return_complex=True to return  a complex output. (Triggered internally at  /opt/conda/conda-bld/pytorch_1607370141920/work/aten/src/ATen/native/SpectralOps.cpp:653.)\n",
      "  normalized, onesided, return_complex)\n",
      "/scratch/enis/conda/envs/soundenv3/lib/python3.7/site-packages/torch/functional.py:516: UserWarning: The function torch.rfft is deprecated and will be removed in a future PyTorch release. Use the new torch.fft module functions, instead, by importing torch.fft and calling torch.fft.fft or torch.fft.rfft. (Triggered internally at  /opt/conda/conda-bld/pytorch_1607370141920/work/aten/src/ATen/native/SpectralOps.cpp:590.)\n",
      "  normalized, onesided, return_complex)\n",
      "2021-01-26 06:40:15,499 Train Evaluator INFO: Engine run starting with max_epochs=1.\n",
      "2021-01-26 06:41:28,303 Train Evaluator INFO: Epoch[1] Complete. Time taken: 00:01:13\n",
      "2021-01-26 06:41:28,307 Train Evaluator INFO: Engine run complete. Time taken: 00:01:13\n",
      "2021-01-26 06:41:28,309 Val Evaluator INFO: Engine run starting with max_epochs=1.\n",
      "2021-01-26 06:41:51,719 Val Evaluator INFO: Epoch[1] Complete. Time taken: 00:00:23\n",
      "2021-01-26 06:41:52,728 Val Evaluator INFO: Engine run complete. Time taken: 00:00:24\n",
      "\u001b[34m\u001b[1mwandb\u001b[0m: \u001b[33mWARNING\u001b[0m Step must only increase in log calls.  Step 1 < 8; dropping {'lr/group_0': 0.001}.\n",
      "2021-01-26 06:41:52,739 Trainer INFO: Epoch[1] Complete. Time taken: 00:02:47\n"
     ]
    },
    {
     "name": "stdout",
     "output_type": "stream",
     "text": [
      "train loss 1146.8628105545874\n",
      "val loss 2317.3491257588576\n",
      "validation roc auc [0.35820896 0.39793578] 1\n",
      "train roc auc [0.51376602 0.45650383] 1\n"
     ]
    },
    {
     "name": "stderr",
     "output_type": "stream",
     "text": [
      "2021-01-26 06:43:00,726 Train Evaluator INFO: Engine run starting with max_epochs=1.\n",
      "2021-01-26 06:44:08,793 Train Evaluator INFO: Epoch[1] Complete. Time taken: 00:01:08\n",
      "2021-01-26 06:44:08,796 Train Evaluator INFO: Engine run complete. Time taken: 00:01:08\n",
      "2021-01-26 06:44:08,800 Val Evaluator INFO: Engine run starting with max_epochs=1.\n",
      "2021-01-26 06:44:31,898 Val Evaluator INFO: Epoch[1] Complete. Time taken: 00:00:23\n",
      "2021-01-26 06:44:32,915 Val Evaluator INFO: Engine run complete. Time taken: 00:00:24\n",
      "\u001b[34m\u001b[1mwandb\u001b[0m: \u001b[33mWARNING\u001b[0m Step must only increase in log calls.  Step 2 < 16; dropping {'lr/group_0': 0.001}.\n",
      "2021-01-26 06:44:32,926 Trainer INFO: Epoch[2] Complete. Time taken: 00:02:40\n"
     ]
    },
    {
     "name": "stdout",
     "output_type": "stream",
     "text": [
      "train loss 602.9099739423764\n",
      "val loss 967.8494667004628\n",
      "validation roc auc [0.36633499 0.39870031] 2\n",
      "train roc auc [0.51519419 0.46420628] 2\n"
     ]
    },
    {
     "name": "stderr",
     "output_type": "stream",
     "text": [
      "2021-01-26 06:45:39,665 Train Evaluator INFO: Engine run starting with max_epochs=1.\n",
      "2021-01-26 06:46:46,227 Train Evaluator INFO: Epoch[1] Complete. Time taken: 00:01:07\n",
      "2021-01-26 06:46:46,231 Train Evaluator INFO: Engine run complete. Time taken: 00:01:07\n",
      "2021-01-26 06:46:46,232 Val Evaluator INFO: Engine run starting with max_epochs=1.\n",
      "2021-01-26 06:47:09,324 Val Evaluator INFO: Epoch[1] Complete. Time taken: 00:00:23\n",
      "2021-01-26 06:47:10,317 Val Evaluator INFO: Engine run complete. Time taken: 00:00:24\n",
      "\u001b[34m\u001b[1mwandb\u001b[0m: \u001b[33mWARNING\u001b[0m Step must only increase in log calls.  Step 3 < 24; dropping {'lr/group_0': 0.001}.\n",
      "2021-01-26 06:47:10,330 Trainer INFO: Epoch[3] Complete. Time taken: 00:02:37\n"
     ]
    },
    {
     "name": "stdout",
     "output_type": "stream",
     "text": [
      "train loss 108.60235358011748\n",
      "val loss 109.99085974237721\n",
      "validation roc auc [0.43432836 0.53631498] 3\n",
      "train roc auc [0.54824057 0.58394431] 3\n"
     ]
    },
    {
     "name": "stderr",
     "output_type": "stream",
     "text": [
      "2021-01-26 06:48:16,402 Train Evaluator INFO: Engine run starting with max_epochs=1.\n",
      "2021-01-26 06:49:24,436 Train Evaluator INFO: Epoch[1] Complete. Time taken: 00:01:08\n",
      "2021-01-26 06:49:24,442 Train Evaluator INFO: Engine run complete. Time taken: 00:01:08\n",
      "2021-01-26 06:49:24,445 Val Evaluator INFO: Engine run starting with max_epochs=1.\n",
      "2021-01-26 06:49:46,748 Val Evaluator INFO: Epoch[1] Complete. Time taken: 00:00:22\n",
      "2021-01-26 06:49:47,711 Val Evaluator INFO: Engine run complete. Time taken: 00:00:23\n",
      "\u001b[34m\u001b[1mwandb\u001b[0m: \u001b[33mWARNING\u001b[0m Step must only increase in log calls.  Step 4 < 32; dropping {'lr/group_0': 0.001}.\n",
      "2021-01-26 06:49:47,721 Trainer INFO: Epoch[4] Complete. Time taken: 00:02:37\n"
     ]
    },
    {
     "name": "stdout",
     "output_type": "stream",
     "text": [
      "train loss 69.48095688165402\n",
      "val loss 76.20065613764866\n",
      "validation roc auc [0.43466003 0.52274465] 4\n",
      "train roc auc [0.5558575  0.57945465] 4\n"
     ]
    },
    {
     "name": "stderr",
     "output_type": "stream",
     "text": [
      "2021-01-26 06:50:53,760 Train Evaluator INFO: Engine run starting with max_epochs=1.\n",
      "2021-01-26 06:52:00,071 Train Evaluator INFO: Epoch[1] Complete. Time taken: 00:01:06\n",
      "2021-01-26 06:52:00,074 Train Evaluator INFO: Engine run complete. Time taken: 00:01:06\n",
      "2021-01-26 06:52:00,075 Val Evaluator INFO: Engine run starting with max_epochs=1.\n",
      "2021-01-26 06:52:22,751 Val Evaluator INFO: Epoch[1] Complete. Time taken: 00:00:23\n",
      "2021-01-26 06:52:23,735 Val Evaluator INFO: Engine run complete. Time taken: 00:00:24\n",
      "\u001b[34m\u001b[1mwandb\u001b[0m: \u001b[33mWARNING\u001b[0m Step must only increase in log calls.  Step 5 < 40; dropping {'lr/group_0': 0.001}.\n",
      "2021-01-26 06:52:23,745 Trainer INFO: Epoch[5] Complete. Time taken: 00:02:36\n"
     ]
    },
    {
     "name": "stdout",
     "output_type": "stream",
     "text": [
      "train loss 19.895037643789987\n",
      "val loss 42.22280081973714\n",
      "validation roc auc [0.47131012 0.24464832] 5\n",
      "train roc auc [0.62897211 0.47532746] 5\n"
     ]
    },
    {
     "name": "stderr",
     "output_type": "stream",
     "text": [
      "2021-01-26 06:53:27,208 Train Evaluator INFO: Engine run starting with max_epochs=1.\n",
      "2021-01-26 06:54:31,864 Train Evaluator INFO: Epoch[1] Complete. Time taken: 00:01:05\n",
      "2021-01-26 06:54:31,869 Train Evaluator INFO: Engine run complete. Time taken: 00:01:05\n",
      "2021-01-26 06:54:31,871 Val Evaluator INFO: Engine run starting with max_epochs=1.\n",
      "2021-01-26 06:54:55,252 Val Evaluator INFO: Epoch[1] Complete. Time taken: 00:00:23\n",
      "2021-01-26 06:54:56,311 Val Evaluator INFO: Engine run complete. Time taken: 00:00:24\n",
      "\u001b[34m\u001b[1mwandb\u001b[0m: \u001b[33mWARNING\u001b[0m Step must only increase in log calls.  Step 6 < 48; dropping {'lr/group_0': 0.001}.\n",
      "2021-01-26 06:54:56,325 Trainer INFO: Epoch[6] Complete. Time taken: 00:02:33\n"
     ]
    },
    {
     "name": "stdout",
     "output_type": "stream",
     "text": [
      "train loss 17.441263311049518\n",
      "val loss 35.65876770019531\n",
      "validation roc auc [0.4668325  0.25496942] 6\n",
      "train roc auc [0.61588051 0.49785814] 6\n"
     ]
    },
    {
     "name": "stderr",
     "output_type": "stream",
     "text": [
      "2021-01-26 06:56:06,874 Train Evaluator INFO: Engine run starting with max_epochs=1.\n",
      "2021-01-26 06:57:15,307 Train Evaluator INFO: Epoch[1] Complete. Time taken: 00:01:08\n",
      "2021-01-26 06:57:15,309 Train Evaluator INFO: Engine run complete. Time taken: 00:01:08\n",
      "2021-01-26 06:57:15,311 Val Evaluator INFO: Engine run starting with max_epochs=1.\n",
      "2021-01-26 06:57:39,013 Val Evaluator INFO: Epoch[1] Complete. Time taken: 00:00:24\n",
      "2021-01-26 06:57:39,981 Val Evaluator INFO: Engine run complete. Time taken: 00:00:25\n",
      "\u001b[34m\u001b[1mwandb\u001b[0m: \u001b[33mWARNING\u001b[0m Step must only increase in log calls.  Step 7 < 56; dropping {'lr/group_0': 0.001}.\n",
      "2021-01-26 06:57:39,992 Trainer INFO: Epoch[7] Complete. Time taken: 00:02:44\n"
     ]
    },
    {
     "name": "stdout",
     "output_type": "stream",
     "text": [
      "train loss 14.564485034651746\n",
      "val loss 24.644021246843277\n",
      "validation roc auc [0.46351575 0.46655199] 7\n",
      "train roc auc [0.60776768 0.53348711] 7\n"
     ]
    },
    {
     "name": "stderr",
     "output_type": "stream",
     "text": [
      "2021-01-26 06:58:50,302 Train Evaluator INFO: Engine run starting with max_epochs=1.\n",
      "2021-01-26 06:59:57,551 Train Evaluator INFO: Epoch[1] Complete. Time taken: 00:01:07\n",
      "2021-01-26 06:59:57,553 Train Evaluator INFO: Engine run complete. Time taken: 00:01:07\n",
      "2021-01-26 06:59:57,561 Val Evaluator INFO: Engine run starting with max_epochs=1.\n",
      "2021-01-26 07:00:20,729 Val Evaluator INFO: Epoch[1] Complete. Time taken: 00:00:23\n",
      "2021-01-26 07:00:21,805 Val Evaluator INFO: Engine run complete. Time taken: 00:00:24\n",
      "\u001b[34m\u001b[1mwandb\u001b[0m: \u001b[33mWARNING\u001b[0m Step must only increase in log calls.  Step 8 < 64; dropping {'lr/group_0': 0.001}.\n",
      "2021-01-26 07:00:21,812 Trainer INFO: Epoch[8] Complete. Time taken: 00:02:42\n"
     ]
    },
    {
     "name": "stdout",
     "output_type": "stream",
     "text": [
      "train loss 13.357252083572687\n",
      "val loss 17.54827561348107\n",
      "validation roc auc [0.47412935 0.49292813] 8\n",
      "train roc auc [0.61147697 0.55692396] 8\n"
     ]
    },
    {
     "name": "stderr",
     "output_type": "stream",
     "text": [
      "2021-01-26 07:01:31,342 Train Evaluator INFO: Engine run starting with max_epochs=1.\n",
      "2021-01-26 07:02:36,732 Train Evaluator INFO: Epoch[1] Complete. Time taken: 00:01:05\n",
      "2021-01-26 07:02:36,735 Train Evaluator INFO: Engine run complete. Time taken: 00:01:05\n",
      "2021-01-26 07:02:36,736 Val Evaluator INFO: Engine run starting with max_epochs=1.\n",
      "2021-01-26 07:03:00,538 Val Evaluator INFO: Epoch[1] Complete. Time taken: 00:00:24\n",
      "2021-01-26 07:03:01,522 Val Evaluator INFO: Engine run complete. Time taken: 00:00:25\n",
      "\u001b[34m\u001b[1mwandb\u001b[0m: \u001b[33mWARNING\u001b[0m Step must only increase in log calls.  Step 9 < 72; dropping {'lr/group_0': 0.001}.\n",
      "2021-01-26 07:03:01,533 Trainer INFO: Epoch[9] Complete. Time taken: 00:02:40\n"
     ]
    },
    {
     "name": "stdout",
     "output_type": "stream",
     "text": [
      "train loss 19.023297831383665\n",
      "val loss 29.46797471744999\n",
      "validation roc auc [0.4668325  0.45775994] 9\n",
      "train roc auc [0.60126155 0.54345498] 9\n"
     ]
    },
    {
     "name": "stderr",
     "output_type": "stream",
     "text": [
      "2021-01-26 07:04:09,942 Train Evaluator INFO: Engine run starting with max_epochs=1.\n",
      "2021-01-26 07:05:13,417 Train Evaluator INFO: Epoch[1] Complete. Time taken: 00:01:03\n",
      "2021-01-26 07:05:13,421 Train Evaluator INFO: Engine run complete. Time taken: 00:01:03\n",
      "2021-01-26 07:05:13,423 Val Evaluator INFO: Engine run starting with max_epochs=1.\n",
      "2021-01-26 07:05:34,965 Val Evaluator INFO: Epoch[1] Complete. Time taken: 00:00:22\n",
      "2021-01-26 07:05:35,991 Val Evaluator INFO: Engine run complete. Time taken: 00:00:23\n",
      "\u001b[34m\u001b[1mwandb\u001b[0m: \u001b[33mWARNING\u001b[0m Step must only increase in log calls.  Step 10 < 80; dropping {'lr/group_0': 0.001}.\n",
      "2021-01-26 07:05:36,004 Trainer INFO: Epoch[10] Complete. Time taken: 00:02:34\n"
     ]
    },
    {
     "name": "stdout",
     "output_type": "stream",
     "text": [
      "train loss 20.32628035285634\n",
      "val loss 32.672543750447076\n",
      "validation roc auc [0.46865672 0.44304281] 10\n",
      "train roc auc [0.60286825 0.53913008] 10\n"
     ]
    },
    {
     "name": "stderr",
     "output_type": "stream",
     "text": [
      "2021-01-26 07:06:40,980 Train Evaluator INFO: Engine run starting with max_epochs=1.\n",
      "2021-01-26 07:07:42,000 Train Evaluator INFO: Epoch[1] Complete. Time taken: 00:01:01\n",
      "2021-01-26 07:07:42,004 Train Evaluator INFO: Engine run complete. Time taken: 00:01:01\n",
      "2021-01-26 07:07:42,005 Val Evaluator INFO: Engine run starting with max_epochs=1.\n",
      "2021-01-26 07:08:05,167 Val Evaluator INFO: Epoch[1] Complete. Time taken: 00:00:23\n",
      "2021-01-26 07:08:06,147 Val Evaluator INFO: Engine run complete. Time taken: 00:00:24\n",
      "\u001b[34m\u001b[1mwandb\u001b[0m: \u001b[33mWARNING\u001b[0m Step must only increase in log calls.  Step 11 < 88; dropping {'lr/group_0': 0.001}.\n",
      "2021-01-26 07:08:06,156 Trainer INFO: Epoch[11] Complete. Time taken: 00:02:30\n"
     ]
    },
    {
     "name": "stdout",
     "output_type": "stream",
     "text": [
      "train loss 14.747779468046035\n",
      "val loss 29.033278434899202\n",
      "validation roc auc [0.48888889 0.39889144] 11\n",
      "train roc auc [0.63139207 0.52393113] 11\n"
     ]
    },
    {
     "name": "stderr",
     "output_type": "stream",
     "text": [
      "2021-01-26 07:09:14,393 Train Evaluator INFO: Engine run starting with max_epochs=1.\n",
      "2021-01-26 07:10:20,950 Train Evaluator INFO: Epoch[1] Complete. Time taken: 00:01:07\n",
      "2021-01-26 07:10:20,952 Train Evaluator INFO: Engine run complete. Time taken: 00:01:07\n",
      "2021-01-26 07:10:20,954 Val Evaluator INFO: Engine run starting with max_epochs=1.\n",
      "2021-01-26 07:10:43,896 Val Evaluator INFO: Epoch[1] Complete. Time taken: 00:00:23\n",
      "2021-01-26 07:10:44,836 Val Evaluator INFO: Engine run complete. Time taken: 00:00:24\n",
      "\u001b[34m\u001b[1mwandb\u001b[0m: \u001b[33mWARNING\u001b[0m Step must only increase in log calls.  Step 12 < 96; dropping {'lr/group_0': 0.001}.\n",
      "2021-01-26 07:10:44,846 Trainer INFO: Epoch[12] Complete. Time taken: 00:02:39\n"
     ]
    },
    {
     "name": "stdout",
     "output_type": "stream",
     "text": [
      "train loss 17.777410584077856\n",
      "val loss 28.403975116219492\n",
      "validation roc auc [0.47230514 0.45412844] 12\n",
      "train roc auc [0.60907684 0.55016888] 12\n"
     ]
    },
    {
     "name": "stderr",
     "output_type": "stream",
     "text": [
      "2021-01-26 07:11:55,892 Train Evaluator INFO: Engine run starting with max_epochs=1.\n",
      "2021-01-26 07:13:04,281 Train Evaluator INFO: Epoch[1] Complete. Time taken: 00:01:08\n",
      "2021-01-26 07:13:04,285 Train Evaluator INFO: Engine run complete. Time taken: 00:01:08\n",
      "2021-01-26 07:13:04,286 Val Evaluator INFO: Engine run starting with max_epochs=1.\n",
      "2021-01-26 07:13:27,967 Val Evaluator INFO: Epoch[1] Complete. Time taken: 00:00:24\n",
      "2021-01-26 07:13:28,865 Val Evaluator INFO: Engine run complete. Time taken: 00:00:25\n",
      "\u001b[34m\u001b[1mwandb\u001b[0m: \u001b[33mWARNING\u001b[0m Step must only increase in log calls.  Step 13 < 104; dropping {'lr/group_0': 0.001}.\n",
      "2021-01-26 07:13:28,883 Trainer INFO: Epoch[13] Complete. Time taken: 00:02:44\n"
     ]
    },
    {
     "name": "stdout",
     "output_type": "stream",
     "text": [
      "train loss 15.788574453532567\n",
      "val loss 23.82389437924525\n",
      "validation roc auc [0.51127695 0.41743119] 13\n",
      "train roc auc [0.64735986 0.53291045] 13\n"
     ]
    },
    {
     "name": "stderr",
     "output_type": "stream",
     "text": [
      "2021-01-26 07:14:37,273 Train Evaluator INFO: Engine run starting with max_epochs=1.\n",
      "2021-01-26 07:15:44,420 Train Evaluator INFO: Epoch[1] Complete. Time taken: 00:01:07\n",
      "2021-01-26 07:15:44,424 Train Evaluator INFO: Engine run complete. Time taken: 00:01:07\n",
      "2021-01-26 07:15:44,425 Val Evaluator INFO: Engine run starting with max_epochs=1.\n",
      "2021-01-26 07:16:08,085 Val Evaluator INFO: Epoch[1] Complete. Time taken: 00:00:24\n",
      "2021-01-26 07:16:09,053 Val Evaluator INFO: Engine run complete. Time taken: 00:00:25\n",
      "\u001b[34m\u001b[1mwandb\u001b[0m: \u001b[33mWARNING\u001b[0m Step must only increase in log calls.  Step 14 < 112; dropping {'lr/group_0': 0.001}.\n",
      "2021-01-26 07:16:09,062 Trainer INFO: Epoch[14] Complete. Time taken: 00:02:40\n"
     ]
    },
    {
     "name": "stdout",
     "output_type": "stream",
     "text": [
      "train loss 12.312644083775206\n",
      "val loss 18.421685905213568\n",
      "validation roc auc [0.51940299 0.43004587] 14\n",
      "train roc auc [0.65235847 0.54028338] 14\n"
     ]
    },
    {
     "name": "stderr",
     "output_type": "stream",
     "text": [
      "2021-01-26 07:17:17,304 Train Evaluator INFO: Engine run starting with max_epochs=1.\n",
      "2021-01-26 07:18:19,596 Train Evaluator INFO: Epoch[1] Complete. Time taken: 00:01:02\n",
      "2021-01-26 07:18:19,601 Train Evaluator INFO: Engine run complete. Time taken: 00:01:02\n",
      "2021-01-26 07:18:19,603 Val Evaluator INFO: Engine run starting with max_epochs=1.\n",
      "2021-01-26 07:18:41,228 Val Evaluator INFO: Epoch[1] Complete. Time taken: 00:00:22\n",
      "2021-01-26 07:18:42,200 Val Evaluator INFO: Engine run complete. Time taken: 00:00:23\n",
      "\u001b[34m\u001b[1mwandb\u001b[0m: \u001b[33mWARNING\u001b[0m Step must only increase in log calls.  Step 15 < 120; dropping {'lr/group_0': 0.001}.\n",
      "2021-01-26 07:18:42,220 Trainer INFO: Epoch[15] Complete. Time taken: 00:02:33\n"
     ]
    },
    {
     "name": "stdout",
     "output_type": "stream",
     "text": [
      "train loss 21.957475986356048\n",
      "val loss 33.27613271725406\n",
      "validation roc auc [0.49419569 0.42832569] 15\n",
      "train roc auc [0.61381759 0.54399044] 15\n"
     ]
    },
    {
     "name": "stderr",
     "output_type": "stream",
     "text": [
      "2021-01-26 07:19:48,241 Train Evaluator INFO: Engine run starting with max_epochs=1.\n",
      "2021-01-26 07:20:51,285 Train Evaluator INFO: Epoch[1] Complete. Time taken: 00:01:03\n",
      "2021-01-26 07:20:51,290 Train Evaluator INFO: Engine run complete. Time taken: 00:01:03\n",
      "2021-01-26 07:20:51,292 Val Evaluator INFO: Engine run starting with max_epochs=1.\n",
      "2021-01-26 07:21:13,690 Val Evaluator INFO: Epoch[1] Complete. Time taken: 00:00:22\n",
      "2021-01-26 07:21:13,693 Val Evaluator INFO: Engine run complete. Time taken: 00:00:22\n",
      "\u001b[34m\u001b[1mwandb\u001b[0m: \u001b[33mWARNING\u001b[0m Step must only increase in log calls.  Step 16 < 128; dropping {'lr/group_0': 0.001}.\n",
      "2021-01-26 07:21:13,705 Trainer INFO: Epoch[16] Complete. Time taken: 00:02:31\n"
     ]
    },
    {
     "name": "stdout",
     "output_type": "stream",
     "text": [
      "train loss 19.892631287668266\n",
      "val loss 33.146341141621775\n",
      "validation roc auc [0.52537313 0.21024465] 16\n",
      "train roc auc [0.65083112 0.49485131] 16\n"
     ]
    },
    {
     "name": "stderr",
     "output_type": "stream",
     "text": [
      "2021-01-26 07:22:20,412 Train Evaluator INFO: Engine run starting with max_epochs=1.\n",
      "2021-01-26 07:23:26,248 Train Evaluator INFO: Epoch[1] Complete. Time taken: 00:01:06\n",
      "2021-01-26 07:23:26,252 Train Evaluator INFO: Engine run complete. Time taken: 00:01:06\n",
      "2021-01-26 07:23:26,253 Val Evaluator INFO: Engine run starting with max_epochs=1.\n",
      "2021-01-26 07:23:50,552 Val Evaluator INFO: Epoch[1] Complete. Time taken: 00:00:24\n",
      "2021-01-26 07:23:51,504 Val Evaluator INFO: Engine run complete. Time taken: 00:00:25\n",
      "\u001b[34m\u001b[1mwandb\u001b[0m: \u001b[33mWARNING\u001b[0m Step must only increase in log calls.  Step 17 < 136; dropping {'lr/group_0': 0.001}.\n",
      "2021-01-26 07:23:51,531 Trainer INFO: Epoch[17] Complete. Time taken: 00:02:38\n"
     ]
    },
    {
     "name": "stdout",
     "output_type": "stream",
     "text": [
      "train loss 8.983750744323066\n",
      "val loss 16.858515271715298\n",
      "validation roc auc [0.51028192 0.41360856] 17\n",
      "train roc auc [0.63549808 0.53266332] 17\n"
     ]
    },
    {
     "name": "stderr",
     "output_type": "stream",
     "text": [
      "2021-01-26 07:25:04,487 Train Evaluator INFO: Engine run starting with max_epochs=1.\n",
      "2021-01-26 07:26:13,097 Train Evaluator INFO: Epoch[1] Complete. Time taken: 00:01:09\n",
      "2021-01-26 07:26:13,101 Train Evaluator INFO: Engine run complete. Time taken: 00:01:09\n",
      "2021-01-26 07:26:13,103 Val Evaluator INFO: Engine run starting with max_epochs=1.\n",
      "2021-01-26 07:26:35,576 Val Evaluator INFO: Epoch[1] Complete. Time taken: 00:00:22\n",
      "2021-01-26 07:26:36,582 Val Evaluator INFO: Engine run complete. Time taken: 00:00:23\n",
      "\u001b[34m\u001b[1mwandb\u001b[0m: \u001b[33mWARNING\u001b[0m Step must only increase in log calls.  Step 18 < 144; dropping {'lr/group_0': 0.001}.\n",
      "2021-01-26 07:26:36,592 Trainer INFO: Epoch[18] Complete. Time taken: 00:02:45\n"
     ]
    },
    {
     "name": "stdout",
     "output_type": "stream",
     "text": [
      "train loss 11.321639017341964\n",
      "val loss 18.384981702087792\n",
      "validation roc auc [0.51923715 0.42947248] 18\n",
      "train roc auc [0.64668544 0.53913008] 18\n"
     ]
    },
    {
     "name": "stderr",
     "output_type": "stream",
     "text": [
      "2021-01-26 07:26:57,099 Train Evaluator INFO: Engine run starting with max_epochs=1.\n",
      "2021-01-26 07:27:17,158 Train Evaluator INFO: Epoch[1] Complete. Time taken: 00:00:20\n",
      "2021-01-26 07:27:17,162 Train Evaluator INFO: Engine run complete. Time taken: 00:00:20\n",
      "2021-01-26 07:27:17,164 Val Evaluator INFO: Engine run starting with max_epochs=1.\n",
      "2021-01-26 07:27:22,996 Val Evaluator INFO: Epoch[1] Complete. Time taken: 00:00:06\n",
      "2021-01-26 07:27:23,921 Val Evaluator INFO: Engine run complete. Time taken: 00:00:07\n",
      "\u001b[34m\u001b[1mwandb\u001b[0m: \u001b[33mWARNING\u001b[0m Step must only increase in log calls.  Step 19 < 152; dropping {'lr/group_0': 0.001}.\n",
      "2021-01-26 07:27:23,929 Trainer INFO: Epoch[19] Complete. Time taken: 00:00:47\n"
     ]
    },
    {
     "name": "stdout",
     "output_type": "stream",
     "text": [
      "train loss 24.513832719757147\n",
      "val loss 27.108641788458367\n",
      "validation roc auc [0.52703151 0.42029817] 19\n",
      "train roc auc [0.65563137 0.53929483] 19\n"
     ]
    },
    {
     "name": "stderr",
     "output_type": "stream",
     "text": [
      "2021-01-26 07:27:43,906 Train Evaluator INFO: Engine run starting with max_epochs=1.\n",
      "2021-01-26 07:28:03,324 Train Evaluator INFO: Epoch[1] Complete. Time taken: 00:00:19\n",
      "2021-01-26 07:28:03,328 Train Evaluator INFO: Engine run complete. Time taken: 00:00:19\n",
      "2021-01-26 07:28:03,330 Val Evaluator INFO: Engine run starting with max_epochs=1.\n",
      "2021-01-26 07:28:09,280 Val Evaluator INFO: Epoch[1] Complete. Time taken: 00:00:06\n",
      "2021-01-26 07:28:10,196 Val Evaluator INFO: Engine run complete. Time taken: 00:00:07\n",
      "\u001b[34m\u001b[1mwandb\u001b[0m: \u001b[33mWARNING\u001b[0m Step must only increase in log calls.  Step 20 < 160; dropping {'lr/group_0': 0.001}.\n",
      "2021-01-26 07:28:10,208 Trainer INFO: Epoch[20] Complete. Time taken: 00:00:46\n"
     ]
    },
    {
     "name": "stdout",
     "output_type": "stream",
     "text": [
      "train loss 7.079488917373624\n",
      "val loss 6.193367529826559\n",
      "validation roc auc [0.52106136 0.47782875] 20\n",
      "train roc auc [0.64991867 0.58069034] 20\n"
     ]
    },
    {
     "name": "stderr",
     "output_type": "stream",
     "text": [
      "2021-01-26 07:28:29,327 Train Evaluator INFO: Engine run starting with max_epochs=1.\n",
      "2021-01-26 07:28:48,038 Train Evaluator INFO: Epoch[1] Complete. Time taken: 00:00:19\n",
      "2021-01-26 07:28:48,041 Train Evaluator INFO: Engine run complete. Time taken: 00:00:19\n",
      "2021-01-26 07:28:48,042 Val Evaluator INFO: Engine run starting with max_epochs=1.\n",
      "2021-01-26 07:28:53,696 Val Evaluator INFO: Epoch[1] Complete. Time taken: 00:00:06\n",
      "2021-01-26 07:28:54,785 Val Evaluator INFO: Engine run complete. Time taken: 00:00:07\n",
      "\u001b[34m\u001b[1mwandb\u001b[0m: \u001b[33mWARNING\u001b[0m Step must only increase in log calls.  Step 21 < 168; dropping {'lr/group_0': 0.001}.\n",
      "2021-01-26 07:28:54,796 Trainer INFO: Epoch[21] Complete. Time taken: 00:00:45\n"
     ]
    },
    {
     "name": "stdout",
     "output_type": "stream",
     "text": [
      "train loss 4.311374158381377\n",
      "val loss 7.408079031926052\n",
      "validation roc auc [0.53101161 0.43635321] 21\n",
      "train roc auc [0.65878526 0.56244336] 21\n"
     ]
    },
    {
     "name": "stderr",
     "output_type": "stream",
     "text": [
      "2021-01-26 07:29:13,984 Train Evaluator INFO: Engine run starting with max_epochs=1.\n",
      "2021-01-26 07:29:33,294 Train Evaluator INFO: Epoch[1] Complete. Time taken: 00:00:19\n",
      "2021-01-26 07:29:33,297 Train Evaluator INFO: Engine run complete. Time taken: 00:00:19\n",
      "2021-01-26 07:29:33,298 Val Evaluator INFO: Engine run starting with max_epochs=1.\n",
      "2021-01-26 07:29:40,212 Val Evaluator INFO: Epoch[1] Complete. Time taken: 00:00:07\n",
      "2021-01-26 07:29:40,215 Val Evaluator INFO: Engine run complete. Time taken: 00:00:07\n",
      "\u001b[34m\u001b[1mwandb\u001b[0m: \u001b[33mWARNING\u001b[0m Step must only increase in log calls.  Step 22 < 176; dropping {'lr/group_0': 0.001}.\n",
      "2021-01-26 07:29:40,226 Trainer INFO: Epoch[22] Complete. Time taken: 00:00:45\n"
     ]
    },
    {
     "name": "stdout",
     "output_type": "stream",
     "text": [
      "train loss 10.637856645521774\n",
      "val loss 17.552553116136295\n",
      "validation roc auc [0.54112769 0.34078746] 22\n",
      "train roc auc [0.66904035 0.53019194] 22\n"
     ]
    },
    {
     "name": "stderr",
     "output_type": "stream",
     "text": [
      "2021-01-26 07:29:58,993 Train Evaluator INFO: Engine run starting with max_epochs=1.\n",
      "2021-01-26 07:30:17,251 Train Evaluator INFO: Epoch[1] Complete. Time taken: 00:00:18\n",
      "2021-01-26 07:30:17,254 Train Evaluator INFO: Engine run complete. Time taken: 00:00:18\n",
      "2021-01-26 07:30:17,256 Val Evaluator INFO: Engine run starting with max_epochs=1.\n",
      "2021-01-26 07:30:23,583 Val Evaluator INFO: Epoch[1] Complete. Time taken: 00:00:06\n",
      "2021-01-26 07:30:23,587 Val Evaluator INFO: Engine run complete. Time taken: 00:00:06\n",
      "\u001b[34m\u001b[1mwandb\u001b[0m: \u001b[33mWARNING\u001b[0m Step must only increase in log calls.  Step 23 < 184; dropping {'lr/group_0': 0.001}.\n",
      "2021-01-26 07:30:23,597 Trainer INFO: Epoch[23] Complete. Time taken: 00:00:43\n"
     ]
    },
    {
     "name": "stdout",
     "output_type": "stream",
     "text": [
      "train loss 15.895708063329227\n",
      "val loss 23.448373831001817\n",
      "validation roc auc [0.54378109 0.25993884] 23\n",
      "train roc auc [0.67149998 0.51552846] 23\n"
     ]
    },
    {
     "name": "stderr",
     "output_type": "stream",
     "text": [
      "2021-01-26 07:30:42,364 Train Evaluator INFO: Engine run starting with max_epochs=1.\n",
      "2021-01-26 07:31:00,768 Train Evaluator INFO: Epoch[1] Complete. Time taken: 00:00:18\n",
      "2021-01-26 07:31:00,772 Train Evaluator INFO: Engine run complete. Time taken: 00:00:18\n",
      "2021-01-26 07:31:00,773 Val Evaluator INFO: Engine run starting with max_epochs=1.\n",
      "2021-01-26 07:31:07,524 Val Evaluator INFO: Epoch[1] Complete. Time taken: 00:00:07\n",
      "2021-01-26 07:31:08,538 Val Evaluator INFO: Engine run complete. Time taken: 00:00:08\n",
      "\u001b[34m\u001b[1mwandb\u001b[0m: \u001b[33mWARNING\u001b[0m Step must only increase in log calls.  Step 24 < 192; dropping {'lr/group_0': 0.001}.\n",
      "2021-01-26 07:31:08,549 Trainer INFO: Epoch[24] Complete. Time taken: 00:00:45\n"
     ]
    },
    {
     "name": "stdout",
     "output_type": "stream",
     "text": [
      "train loss 7.2630971631193475\n",
      "val loss 12.524743304890432\n",
      "validation roc auc [0.52968491 0.40175841] 24\n",
      "train roc auc [0.66342683 0.55296977] 24\n"
     ]
    },
    {
     "name": "stderr",
     "output_type": "stream",
     "text": [
      "2021-01-26 07:31:26,988 Train Evaluator INFO: Engine run starting with max_epochs=1.\n",
      "2021-01-26 07:31:45,238 Train Evaluator INFO: Epoch[1] Complete. Time taken: 00:00:18\n",
      "2021-01-26 07:31:45,242 Train Evaluator INFO: Engine run complete. Time taken: 00:00:18\n",
      "2021-01-26 07:31:45,244 Val Evaluator INFO: Engine run starting with max_epochs=1.\n",
      "2021-01-26 07:31:51,567 Val Evaluator INFO: Epoch[1] Complete. Time taken: 00:00:06\n",
      "2021-01-26 07:31:52,550 Val Evaluator INFO: Engine run complete. Time taken: 00:00:07\n",
      "\u001b[34m\u001b[1mwandb\u001b[0m: \u001b[33mWARNING\u001b[0m Step must only increase in log calls.  Step 25 < 200; dropping {'lr/group_0': 0.001}.\n",
      "2021-01-26 07:31:52,561 Trainer INFO: Epoch[25] Complete. Time taken: 00:00:44\n"
     ]
    },
    {
     "name": "stdout",
     "output_type": "stream",
     "text": [
      "train loss 6.615359453853698\n",
      "val loss 10.19267206738709\n",
      "validation roc auc [0.52719735 0.44094037] 25\n",
      "train roc auc [0.66640219 0.57162863] 25\n"
     ]
    },
    {
     "name": "stderr",
     "output_type": "stream",
     "text": [
      "2021-01-26 07:32:20,443 Train Evaluator INFO: Engine run starting with max_epochs=1.\n",
      "2021-01-26 07:32:38,172 Train Evaluator INFO: Epoch[1] Complete. Time taken: 00:00:18\n",
      "2021-01-26 07:32:38,175 Train Evaluator INFO: Engine run complete. Time taken: 00:00:18\n",
      "2021-01-26 07:32:38,176 Val Evaluator INFO: Engine run starting with max_epochs=1.\n",
      "2021-01-26 07:32:43,710 Val Evaluator INFO: Epoch[1] Complete. Time taken: 00:00:06\n",
      "2021-01-26 07:32:43,713 Val Evaluator INFO: Engine run complete. Time taken: 00:00:06\n",
      "\u001b[34m\u001b[1mwandb\u001b[0m: \u001b[33mWARNING\u001b[0m Step must only increase in log calls.  Step 26 < 208; dropping {'lr/group_0': 0.001}.\n",
      "2021-01-26 07:32:43,724 Trainer INFO: Epoch[26] Complete. Time taken: 00:00:51\n"
     ]
    },
    {
     "name": "stdout",
     "output_type": "stream",
     "text": [
      "train loss 33.29735553965849\n",
      "val loss 34.94309742435528\n",
      "validation roc auc [0.66401327 0.18539755] 26\n",
      "train roc auc [0.66070933 0.50082379] 26\n"
     ]
    },
    {
     "name": "stderr",
     "output_type": "stream",
     "text": [
      "2021-01-26 07:32:59,979 Train Evaluator INFO: Engine run starting with max_epochs=1.\n",
      "2021-01-26 07:33:16,456 Train Evaluator INFO: Epoch[1] Complete. Time taken: 00:00:16\n",
      "2021-01-26 07:33:16,461 Train Evaluator INFO: Engine run complete. Time taken: 00:00:16\n",
      "2021-01-26 07:33:16,462 Val Evaluator INFO: Engine run starting with max_epochs=1.\n",
      "2021-01-26 07:33:21,306 Val Evaluator INFO: Epoch[1] Complete. Time taken: 00:00:05\n",
      "2021-01-26 07:33:21,308 Val Evaluator INFO: Engine run complete. Time taken: 00:00:05\n",
      "\u001b[34m\u001b[1mwandb\u001b[0m: \u001b[33mWARNING\u001b[0m Step must only increase in log calls.  Step 27 < 216; dropping {'lr/group_0': 0.001}.\n",
      "2021-01-26 07:33:21,318 Trainer INFO: Epoch[27] Complete. Time taken: 00:00:38\n"
     ]
    },
    {
     "name": "stdout",
     "output_type": "stream",
     "text": [
      "train loss 5.682769078314954\n",
      "val loss 10.24219199502544\n",
      "validation roc auc [0.54195688 0.38780581] 27\n",
      "train roc auc [0.68417503 0.55618255] 27\n"
     ]
    },
    {
     "name": "stderr",
     "output_type": "stream",
     "text": [
      "2021-01-26 07:33:38,684 Train Evaluator INFO: Engine run starting with max_epochs=1.\n",
      "2021-01-26 07:33:57,300 Train Evaluator INFO: Epoch[1] Complete. Time taken: 00:00:19\n",
      "2021-01-26 07:33:57,303 Train Evaluator INFO: Engine run complete. Time taken: 00:00:19\n",
      "2021-01-26 07:33:57,304 Val Evaluator INFO: Engine run starting with max_epochs=1.\n",
      "2021-01-26 07:34:03,528 Val Evaluator INFO: Epoch[1] Complete. Time taken: 00:00:06\n",
      "2021-01-26 07:34:03,530 Val Evaluator INFO: Engine run complete. Time taken: 00:00:06\n",
      "\u001b[34m\u001b[1mwandb\u001b[0m: \u001b[33mWARNING\u001b[0m Step must only increase in log calls.  Step 28 < 224; dropping {'lr/group_0': 0.001}.\n",
      "2021-01-26 07:34:03,539 Trainer INFO: Epoch[28] Complete. Time taken: 00:00:42\n"
     ]
    },
    {
     "name": "stdout",
     "output_type": "stream",
     "text": [
      "train loss 5.70418049930747\n",
      "val loss 10.1719869504309\n",
      "validation roc auc [0.54461028 0.3816896 ] 28\n",
      "train roc auc [0.6899274 0.5583656] 28\n"
     ]
    },
    {
     "name": "stderr",
     "output_type": "stream",
     "text": [
      "2021-01-26 07:34:25,477 Train Evaluator INFO: Engine run starting with max_epochs=1.\n",
      "2021-01-26 07:34:41,149 Train Evaluator INFO: Epoch[1] Complete. Time taken: 00:00:16\n",
      "2021-01-26 07:34:41,153 Train Evaluator INFO: Engine run complete. Time taken: 00:00:16\n",
      "2021-01-26 07:34:41,155 Val Evaluator INFO: Engine run starting with max_epochs=1.\n",
      "2021-01-26 07:34:46,480 Val Evaluator INFO: Epoch[1] Complete. Time taken: 00:00:05\n",
      "2021-01-26 07:34:47,433 Val Evaluator INFO: Engine run complete. Time taken: 00:00:06\n",
      "\u001b[34m\u001b[1mwandb\u001b[0m: \u001b[33mWARNING\u001b[0m Step must only increase in log calls.  Step 29 < 232; dropping {'lr/group_0': 0.001}.\n",
      "2021-01-26 07:34:47,442 Trainer INFO: Epoch[29] Complete. Time taken: 00:00:44\n"
     ]
    },
    {
     "name": "stdout",
     "output_type": "stream",
     "text": [
      "train loss 6.344588182071195\n",
      "val loss 9.022118626126819\n",
      "validation roc auc [0.51873964 0.46922783] 29\n",
      "train roc auc [0.67604237 0.59733092] 29\n"
     ]
    },
    {
     "name": "stderr",
     "output_type": "stream",
     "text": [
      "2021-01-26 07:35:04,112 Train Evaluator INFO: Engine run starting with max_epochs=1.\n",
      "2021-01-26 07:35:22,204 Train Evaluator INFO: Epoch[1] Complete. Time taken: 00:00:18\n",
      "2021-01-26 07:35:22,208 Train Evaluator INFO: Engine run complete. Time taken: 00:00:18\n",
      "2021-01-26 07:35:22,209 Val Evaluator INFO: Engine run starting with max_epochs=1.\n",
      "2021-01-26 07:35:26,904 Val Evaluator INFO: Epoch[1] Complete. Time taken: 00:00:05\n",
      "2021-01-26 07:35:27,908 Val Evaluator INFO: Engine run complete. Time taken: 00:00:06\n",
      "\u001b[34m\u001b[1mwandb\u001b[0m: \u001b[33mWARNING\u001b[0m Step must only increase in log calls.  Step 30 < 240; dropping {'lr/group_0': 0.001}.\n",
      "2021-01-26 07:35:27,934 Trainer INFO: Epoch[30] Complete. Time taken: 00:00:40\n"
     ]
    },
    {
     "name": "stdout",
     "output_type": "stream",
     "text": [
      "train loss 6.40041840102418\n",
      "val loss 8.683948607961083\n",
      "validation roc auc [0.51757877 0.47343272] 30\n",
      "train roc auc [0.67834332 0.60107917] 30\n"
     ]
    },
    {
     "name": "stderr",
     "output_type": "stream",
     "text": [
      "2021-01-26 07:35:44,790 Train Evaluator INFO: Engine run starting with max_epochs=1.\n",
      "2021-01-26 07:36:02,909 Train Evaluator INFO: Epoch[1] Complete. Time taken: 00:00:18\n",
      "2021-01-26 07:36:02,913 Train Evaluator INFO: Engine run complete. Time taken: 00:00:18\n",
      "2021-01-26 07:36:02,917 Val Evaluator INFO: Engine run starting with max_epochs=1.\n",
      "2021-01-26 07:36:08,964 Val Evaluator INFO: Epoch[1] Complete. Time taken: 00:00:06\n",
      "2021-01-26 07:36:10,058 Val Evaluator INFO: Engine run complete. Time taken: 00:00:07\n",
      "\u001b[34m\u001b[1mwandb\u001b[0m: \u001b[33mWARNING\u001b[0m Step must only increase in log calls.  Step 31 < 248; dropping {'lr/group_0': 0.001}.\n",
      "2021-01-26 07:36:10,069 Trainer INFO: Epoch[31] Complete. Time taken: 00:00:42\n"
     ]
    },
    {
     "name": "stdout",
     "output_type": "stream",
     "text": [
      "train loss 5.397091074966397\n",
      "val loss 8.552395389338209\n",
      "validation roc auc [0.52139303 0.44820336] 31\n",
      "train roc auc [0.68564288 0.58909301] 31\n"
     ]
    },
    {
     "name": "stderr",
     "output_type": "stream",
     "text": [
      "2021-01-26 07:36:27,554 Train Evaluator INFO: Engine run starting with max_epochs=1.\n",
      "2021-01-26 07:36:44,875 Train Evaluator INFO: Epoch[1] Complete. Time taken: 00:00:17\n",
      "2021-01-26 07:36:44,879 Train Evaluator INFO: Engine run complete. Time taken: 00:00:17\n",
      "2021-01-26 07:36:44,880 Val Evaluator INFO: Engine run starting with max_epochs=1.\n",
      "2021-01-26 07:36:50,329 Val Evaluator INFO: Epoch[1] Complete. Time taken: 00:00:05\n",
      "2021-01-26 07:36:50,332 Val Evaluator INFO: Engine run complete. Time taken: 00:00:05\n",
      "\u001b[34m\u001b[1mwandb\u001b[0m: \u001b[33mWARNING\u001b[0m Step must only increase in log calls.  Step 32 < 256; dropping {'lr/group_0': 0.001}.\n",
      "2021-01-26 07:36:50,341 Trainer INFO: Epoch[32] Complete. Time taken: 00:00:40\n"
     ]
    },
    {
     "name": "stdout",
     "output_type": "stream",
     "text": [
      "train loss 2.89692573713581\n",
      "val loss 6.56573725050422\n",
      "validation roc auc [0.53499171 0.41131498] 32\n",
      "train roc auc [0.69661205 0.57488261] 32\n"
     ]
    },
    {
     "name": "stderr",
     "output_type": "stream",
     "text": [
      "2021-01-26 07:37:07,159 Train Evaluator INFO: Engine run starting with max_epochs=1.\n",
      "2021-01-26 07:37:23,699 Train Evaluator INFO: Epoch[1] Complete. Time taken: 00:00:17\n",
      "2021-01-26 07:37:23,702 Train Evaluator INFO: Engine run complete. Time taken: 00:00:17\n",
      "2021-01-26 07:37:23,704 Val Evaluator INFO: Engine run starting with max_epochs=1.\n",
      "2021-01-26 07:37:31,251 Val Evaluator INFO: Epoch[1] Complete. Time taken: 00:00:08\n",
      "2021-01-26 07:37:32,453 Val Evaluator INFO: Engine run complete. Time taken: 00:00:09\n",
      "\u001b[34m\u001b[1mwandb\u001b[0m: \u001b[33mWARNING\u001b[0m Step must only increase in log calls.  Step 33 < 264; dropping {'lr/group_0': 0.001}.\n",
      "2021-01-26 07:37:32,463 Trainer INFO: Epoch[33] Complete. Time taken: 00:00:42\n"
     ]
    },
    {
     "name": "stdout",
     "output_type": "stream",
     "text": [
      "train loss 2.996471532809189\n",
      "val loss 5.212107093470871\n",
      "validation roc auc [0.53283582 0.44361621] 33\n",
      "train roc auc [0.70049986 0.5902875 ] 33\n"
     ]
    },
    {
     "name": "stderr",
     "output_type": "stream",
     "text": [
      "2021-01-26 07:37:51,032 Train Evaluator INFO: Engine run starting with max_epochs=1.\n",
      "2021-01-26 07:38:11,862 Train Evaluator INFO: Epoch[1] Complete. Time taken: 00:00:21\n",
      "2021-01-26 07:38:11,868 Train Evaluator INFO: Engine run complete. Time taken: 00:00:21\n",
      "2021-01-26 07:38:11,869 Val Evaluator INFO: Engine run starting with max_epochs=1.\n",
      "2021-01-26 07:38:18,631 Val Evaluator INFO: Epoch[1] Complete. Time taken: 00:00:07\n",
      "2021-01-26 07:38:19,688 Val Evaluator INFO: Engine run complete. Time taken: 00:00:08\n",
      "\u001b[34m\u001b[1mwandb\u001b[0m: \u001b[33mWARNING\u001b[0m Step must only increase in log calls.  Step 34 < 272; dropping {'lr/group_0': 0.001}.\n",
      "2021-01-26 07:38:19,698 Trainer INFO: Epoch[34] Complete. Time taken: 00:00:47\n"
     ]
    },
    {
     "name": "stdout",
     "output_type": "stream",
     "text": [
      "train loss 2.249179543233385\n",
      "val loss 5.0304878107301745\n",
      "validation roc auc [0.54610282 0.43463303] 34\n",
      "train roc auc [0.70793827 0.58633331] 34\n"
     ]
    },
    {
     "name": "stderr",
     "output_type": "stream",
     "text": [
      "2021-01-26 07:38:37,713 Train Evaluator INFO: Engine run starting with max_epochs=1.\n",
      "2021-01-26 07:39:01,319 Train Evaluator INFO: Epoch[1] Complete. Time taken: 00:00:24\n",
      "2021-01-26 07:39:01,322 Train Evaluator INFO: Engine run complete. Time taken: 00:00:24\n",
      "2021-01-26 07:39:01,323 Val Evaluator INFO: Engine run starting with max_epochs=1.\n",
      "2021-01-26 07:39:08,473 Val Evaluator INFO: Epoch[1] Complete. Time taken: 00:00:07\n",
      "2021-01-26 07:39:09,629 Val Evaluator INFO: Engine run complete. Time taken: 00:00:08\n",
      "\u001b[34m\u001b[1mwandb\u001b[0m: \u001b[33mWARNING\u001b[0m Step must only increase in log calls.  Step 35 < 280; dropping {'lr/group_0': 0.001}.\n",
      "2021-01-26 07:39:09,646 Trainer INFO: Epoch[35] Complete. Time taken: 00:00:50\n"
     ]
    },
    {
     "name": "stdout",
     "output_type": "stream",
     "text": [
      "train loss 1.4227501966854585\n",
      "val loss 2.678210407305675\n",
      "validation roc auc [0.54278607 0.4581422 ] 35\n",
      "train roc auc [0.70891022 0.59848422] 35\n"
     ]
    },
    {
     "name": "stderr",
     "output_type": "stream",
     "text": [
      "2021-01-26 07:39:29,973 Train Evaluator INFO: Engine run starting with max_epochs=1.\n",
      "2021-01-26 07:39:49,789 Train Evaluator INFO: Epoch[1] Complete. Time taken: 00:00:20\n",
      "2021-01-26 07:39:49,792 Train Evaluator INFO: Engine run complete. Time taken: 00:00:20\n",
      "2021-01-26 07:39:49,794 Val Evaluator INFO: Engine run starting with max_epochs=1.\n",
      "2021-01-26 07:39:56,003 Val Evaluator INFO: Epoch[1] Complete. Time taken: 00:00:06\n",
      "2021-01-26 07:39:57,381 Val Evaluator INFO: Engine run complete. Time taken: 00:00:08\n",
      "\u001b[34m\u001b[1mwandb\u001b[0m: \u001b[33mWARNING\u001b[0m Step must only increase in log calls.  Step 36 < 288; dropping {'lr/group_0': 0.001}.\n",
      "2021-01-26 07:39:57,391 Trainer INFO: Epoch[36] Complete. Time taken: 00:00:48\n"
     ]
    },
    {
     "name": "stdout",
     "output_type": "stream",
     "text": [
      "train loss 2.9725469233942965\n",
      "val loss 5.484290378108906\n",
      "validation roc auc [0.55174129 0.4266055 ] 36\n",
      "train roc auc [0.7152775  0.58526238] 36\n"
     ]
    },
    {
     "name": "stderr",
     "output_type": "stream",
     "text": [
      "2021-01-26 07:40:19,276 Train Evaluator INFO: Engine run starting with max_epochs=1.\n",
      "2021-01-26 07:40:39,317 Train Evaluator INFO: Epoch[1] Complete. Time taken: 00:00:20\n",
      "2021-01-26 07:40:39,322 Train Evaluator INFO: Engine run complete. Time taken: 00:00:20\n",
      "2021-01-26 07:40:39,324 Val Evaluator INFO: Engine run starting with max_epochs=1.\n",
      "2021-01-26 07:40:46,737 Val Evaluator INFO: Epoch[1] Complete. Time taken: 00:00:07\n",
      "2021-01-26 07:40:47,796 Val Evaluator INFO: Engine run complete. Time taken: 00:00:08\n",
      "\u001b[34m\u001b[1mwandb\u001b[0m: \u001b[33mWARNING\u001b[0m Step must only increase in log calls.  Step 37 < 296; dropping {'lr/group_0': 0.001}.\n",
      "2021-01-26 07:40:47,805 Trainer INFO: Epoch[37] Complete. Time taken: 00:00:50\n"
     ]
    },
    {
     "name": "stdout",
     "output_type": "stream",
     "text": [
      "train loss 1.6149880254969877\n",
      "val loss 3.423392658780335\n",
      "validation roc auc [0.53963516 0.45107034] 37\n",
      "train roc auc [0.71438489 0.59757805] 37\n"
     ]
    },
    {
     "name": "stderr",
     "output_type": "stream",
     "text": [
      "2021-01-26 07:41:08,486 Train Evaluator INFO: Engine run starting with max_epochs=1.\n",
      "2021-01-26 07:41:28,655 Train Evaluator INFO: Epoch[1] Complete. Time taken: 00:00:20\n",
      "2021-01-26 07:41:28,658 Train Evaluator INFO: Engine run complete. Time taken: 00:00:20\n",
      "2021-01-26 07:41:28,659 Val Evaluator INFO: Engine run starting with max_epochs=1.\n",
      "2021-01-26 07:41:35,652 Val Evaluator INFO: Epoch[1] Complete. Time taken: 00:00:07\n",
      "2021-01-26 07:41:36,797 Val Evaluator INFO: Engine run complete. Time taken: 00:00:08\n",
      "\u001b[34m\u001b[1mwandb\u001b[0m: \u001b[33mWARNING\u001b[0m Step must only increase in log calls.  Step 38 < 304; dropping {'lr/group_0': 0.001}.\n",
      "2021-01-26 07:41:36,807 Trainer INFO: Epoch[38] Complete. Time taken: 00:00:49\n"
     ]
    },
    {
     "name": "stdout",
     "output_type": "stream",
     "text": [
      "train loss 2.334139468882858\n",
      "val loss 3.648673860890091\n",
      "validation roc auc [0.53565506 0.46215596] 38\n",
      "train roc auc [0.71646765 0.604086  ] 38\n"
     ]
    },
    {
     "name": "stderr",
     "output_type": "stream",
     "text": [
      "2021-01-26 07:41:57,482 Train Evaluator INFO: Engine run starting with max_epochs=1.\n",
      "2021-01-26 07:42:18,469 Train Evaluator INFO: Epoch[1] Complete. Time taken: 00:00:21\n",
      "2021-01-26 07:42:18,472 Train Evaluator INFO: Engine run complete. Time taken: 00:00:21\n",
      "2021-01-26 07:42:18,474 Val Evaluator INFO: Engine run starting with max_epochs=1.\n",
      "2021-01-26 07:42:24,837 Val Evaluator INFO: Epoch[1] Complete. Time taken: 00:00:06\n",
      "2021-01-26 07:42:25,880 Val Evaluator INFO: Engine run complete. Time taken: 00:00:07\n",
      "\u001b[34m\u001b[1mwandb\u001b[0m: \u001b[33mWARNING\u001b[0m Step must only increase in log calls.  Step 39 < 312; dropping {'lr/group_0': 0.001}.\n",
      "2021-01-26 07:42:25,891 Trainer INFO: Epoch[39] Complete. Time taken: 00:00:49\n"
     ]
    },
    {
     "name": "stdout",
     "output_type": "stream",
     "text": [
      "train loss 1.745337111238301\n",
      "val loss 3.0343709553882574\n",
      "validation roc auc [0.54510779 0.45221713] 39\n",
      "train roc auc [0.72664339 0.59967872] 39\n"
     ]
    },
    {
     "name": "stderr",
     "output_type": "stream",
     "text": [
      "2021-01-26 07:42:46,397 Train Evaluator INFO: Engine run starting with max_epochs=1.\n",
      "2021-01-26 07:43:07,566 Train Evaluator INFO: Epoch[1] Complete. Time taken: 00:00:21\n",
      "2021-01-26 07:43:07,569 Train Evaluator INFO: Engine run complete. Time taken: 00:00:21\n",
      "2021-01-26 07:43:07,571 Val Evaluator INFO: Engine run starting with max_epochs=1.\n",
      "2021-01-26 07:43:14,852 Val Evaluator INFO: Epoch[1] Complete. Time taken: 00:00:07\n",
      "2021-01-26 07:43:15,952 Val Evaluator INFO: Engine run complete. Time taken: 00:00:08\n",
      "\u001b[34m\u001b[1mwandb\u001b[0m: \u001b[33mWARNING\u001b[0m Step must only increase in log calls.  Step 40 < 320; dropping {'lr/group_0': 0.001}.\n",
      "2021-01-26 07:43:15,966 Trainer INFO: Epoch[40] Complete. Time taken: 00:00:50\n"
     ]
    },
    {
     "name": "stdout",
     "output_type": "stream",
     "text": [
      "train loss 8.569914285913272\n",
      "val loss 8.597530225279984\n",
      "validation roc auc [0.52636816 0.49407492] 40\n",
      "train roc auc [0.7218233  0.61821402] 40\n"
     ]
    },
    {
     "name": "stderr",
     "output_type": "stream",
     "text": [
      "2021-01-26 07:43:38,044 Train Evaluator INFO: Engine run starting with max_epochs=1.\n",
      "2021-01-26 07:43:58,505 Train Evaluator INFO: Epoch[1] Complete. Time taken: 00:00:20\n",
      "2021-01-26 07:43:58,509 Train Evaluator INFO: Engine run complete. Time taken: 00:00:20\n",
      "2021-01-26 07:43:58,512 Val Evaluator INFO: Engine run starting with max_epochs=1.\n",
      "2021-01-26 07:44:06,017 Val Evaluator INFO: Epoch[1] Complete. Time taken: 00:00:08\n",
      "2021-01-26 07:44:07,113 Val Evaluator INFO: Engine run complete. Time taken: 00:00:09\n",
      "\u001b[34m\u001b[1mwandb\u001b[0m: \u001b[33mWARNING\u001b[0m Step must only increase in log calls.  Step 41 < 328; dropping {'lr/group_0': 0.001}.\n",
      "2021-01-26 07:44:07,124 Trainer INFO: Epoch[41] Complete. Time taken: 00:00:51\n"
     ]
    },
    {
     "name": "stdout",
     "output_type": "stream",
     "text": [
      "train loss 5.1481240216423485\n",
      "val loss 6.461900061103189\n",
      "validation roc auc [0.52603648 0.4757263 ] 41\n",
      "train roc auc [0.72676241 0.61306533] 41\n"
     ]
    },
    {
     "name": "stderr",
     "output_type": "stream",
     "text": [
      "2021-01-26 07:44:29,231 Train Evaluator INFO: Engine run starting with max_epochs=1.\n",
      "2021-01-26 07:44:48,778 Train Evaluator INFO: Epoch[1] Complete. Time taken: 00:00:20\n",
      "2021-01-26 07:44:48,781 Train Evaluator INFO: Engine run complete. Time taken: 00:00:20\n",
      "2021-01-26 07:44:48,782 Val Evaluator INFO: Engine run starting with max_epochs=1.\n",
      "2021-01-26 07:44:56,114 Val Evaluator INFO: Epoch[1] Complete. Time taken: 00:00:07\n",
      "2021-01-26 07:44:57,229 Val Evaluator INFO: Engine run complete. Time taken: 00:00:08\n",
      "\u001b[34m\u001b[1mwandb\u001b[0m: \u001b[33mWARNING\u001b[0m Step must only increase in log calls.  Step 42 < 336; dropping {'lr/group_0': 0.001}.\n",
      "2021-01-26 07:44:57,239 Trainer INFO: Epoch[42] Complete. Time taken: 00:00:50\n"
     ]
    },
    {
     "name": "stdout",
     "output_type": "stream",
     "text": [
      "train loss 6.032272037597523\n",
      "val loss 8.888584483201337\n",
      "validation roc auc [0.51343284 0.47305046] 42\n",
      "train roc auc [0.71722141 0.61343603] 42\n"
     ]
    },
    {
     "name": "stderr",
     "output_type": "stream",
     "text": [
      "2021-01-26 07:45:18,912 Train Evaluator INFO: Engine run starting with max_epochs=1.\n",
      "2021-01-26 07:45:37,791 Train Evaluator INFO: Epoch[1] Complete. Time taken: 00:00:19\n",
      "2021-01-26 07:45:37,795 Train Evaluator INFO: Engine run complete. Time taken: 00:00:19\n",
      "2021-01-26 07:45:37,797 Val Evaluator INFO: Engine run starting with max_epochs=1.\n",
      "2021-01-26 07:45:45,001 Val Evaluator INFO: Epoch[1] Complete. Time taken: 00:00:07\n",
      "2021-01-26 07:45:45,004 Val Evaluator INFO: Engine run complete. Time taken: 00:00:07\n",
      "\u001b[34m\u001b[1mwandb\u001b[0m: \u001b[33mWARNING\u001b[0m Step must only increase in log calls.  Step 43 < 344; dropping {'lr/group_0': 0.001}.\n",
      "2021-01-26 07:45:45,011 Trainer INFO: Epoch[43] Complete. Time taken: 00:00:48\n"
     ]
    },
    {
     "name": "stdout",
     "output_type": "stream",
     "text": [
      "train loss 5.198677902387898\n",
      "val loss 9.888380761359148\n",
      "validation roc auc [0.54792703 0.28019878] 43\n",
      "train roc auc [0.73860436 0.56343191] 43\n"
     ]
    },
    {
     "name": "stderr",
     "output_type": "stream",
     "text": [
      "2021-01-26 07:46:07,272 Train Evaluator INFO: Engine run starting with max_epochs=1.\n",
      "2021-01-26 07:46:29,818 Train Evaluator INFO: Epoch[1] Complete. Time taken: 00:00:23\n",
      "2021-01-26 07:46:29,821 Train Evaluator INFO: Engine run complete. Time taken: 00:00:23\n",
      "2021-01-26 07:46:29,823 Val Evaluator INFO: Engine run starting with max_epochs=1.\n",
      "2021-01-26 07:46:36,854 Val Evaluator INFO: Epoch[1] Complete. Time taken: 00:00:07\n",
      "2021-01-26 07:46:37,864 Val Evaluator INFO: Engine run complete. Time taken: 00:00:08\n",
      "\u001b[34m\u001b[1mwandb\u001b[0m: \u001b[33mWARNING\u001b[0m Step must only increase in log calls.  Step 44 < 352; dropping {'lr/group_0': 0.001}.\n",
      "2021-01-26 07:46:37,874 Trainer INFO: Epoch[44] Complete. Time taken: 00:00:53\n"
     ]
    },
    {
     "name": "stdout",
     "output_type": "stream",
     "text": [
      "train loss 19.336470963388745\n",
      "val loss 24.213894607155186\n",
      "validation roc auc [0.49303483 0.50420489] 44\n",
      "train roc auc [0.66790971 0.62842903] 44\n"
     ]
    },
    {
     "name": "stderr",
     "output_type": "stream",
     "text": [
      "2021-01-26 07:46:57,874 Train Evaluator INFO: Engine run starting with max_epochs=1.\n",
      "2021-01-26 07:47:15,386 Train Evaluator INFO: Epoch[1] Complete. Time taken: 00:00:18\n",
      "2021-01-26 07:47:15,389 Train Evaluator INFO: Engine run complete. Time taken: 00:00:18\n",
      "2021-01-26 07:47:15,391 Val Evaluator INFO: Engine run starting with max_epochs=1.\n",
      "2021-01-26 07:47:22,051 Val Evaluator INFO: Epoch[1] Complete. Time taken: 00:00:07\n",
      "2021-01-26 07:47:22,056 Val Evaluator INFO: Engine run complete. Time taken: 00:00:07\n",
      "\u001b[34m\u001b[1mwandb\u001b[0m: \u001b[33mWARNING\u001b[0m Step must only increase in log calls.  Step 45 < 360; dropping {'lr/group_0': 0.001}.\n",
      "2021-01-26 07:47:22,066 Trainer INFO: Epoch[45] Complete. Time taken: 00:00:44\n"
     ]
    },
    {
     "name": "stdout",
     "output_type": "stream",
     "text": [
      "train loss 5.14390999870882\n",
      "val loss 11.55373038152221\n",
      "validation roc auc [0.54975124 0.18998471] 45\n",
      "train roc auc [0.74316658 0.53752368] 45\n"
     ]
    },
    {
     "name": "stderr",
     "output_type": "stream",
     "text": [
      "2021-01-26 07:47:37,859 Train Evaluator INFO: Engine run starting with max_epochs=1.\n",
      "2021-01-26 07:47:55,816 Train Evaluator INFO: Epoch[1] Complete. Time taken: 00:00:18\n",
      "2021-01-26 07:47:55,820 Train Evaluator INFO: Engine run complete. Time taken: 00:00:18\n",
      "2021-01-26 07:47:55,821 Val Evaluator INFO: Engine run starting with max_epochs=1.\n",
      "2021-01-26 07:48:00,812 Val Evaluator INFO: Epoch[1] Complete. Time taken: 00:00:05\n",
      "2021-01-26 07:48:00,814 Val Evaluator INFO: Engine run complete. Time taken: 00:00:05\n",
      "\u001b[34m\u001b[1mwandb\u001b[0m: \u001b[33mWARNING\u001b[0m Step must only increase in log calls.  Step 46 < 368; dropping {'lr/group_0': 0.001}.\n",
      "2021-01-26 07:48:00,823 Trainer INFO: Epoch[46] Complete. Time taken: 00:00:39\n"
     ]
    },
    {
     "name": "stdout",
     "output_type": "stream",
     "text": [
      "train loss 5.81266342528765\n",
      "val loss 9.900100780900116\n",
      "validation roc auc [0.51807629 0.36238532] 46\n",
      "train roc auc [0.73003531 0.58172008] 46\n"
     ]
    },
    {
     "name": "stderr",
     "output_type": "stream",
     "text": [
      "2021-01-26 07:48:16,739 Train Evaluator INFO: Engine run starting with max_epochs=1.\n",
      "2021-01-26 07:48:34,030 Train Evaluator INFO: Epoch[1] Complete. Time taken: 00:00:17\n",
      "2021-01-26 07:48:34,033 Train Evaluator INFO: Engine run complete. Time taken: 00:00:17\n",
      "2021-01-26 07:48:34,034 Val Evaluator INFO: Engine run starting with max_epochs=1.\n",
      "2021-01-26 07:48:40,158 Val Evaluator INFO: Epoch[1] Complete. Time taken: 00:00:06\n",
      "2021-01-26 07:48:40,161 Val Evaluator INFO: Engine run complete. Time taken: 00:00:06\n",
      "\u001b[34m\u001b[1mwandb\u001b[0m: \u001b[33mWARNING\u001b[0m Step must only increase in log calls.  Step 47 < 376; dropping {'lr/group_0': 0.001}.\n",
      "2021-01-26 07:48:40,169 Trainer INFO: Epoch[47] Complete. Time taken: 00:00:39\n"
     ]
    },
    {
     "name": "stdout",
     "output_type": "stream",
     "text": [
      "train loss 7.932011037091025\n",
      "val loss 11.553353279259554\n",
      "validation roc auc [0.55787728 0.26414373] 47\n",
      "train roc auc [0.74541794 0.55927177] 47\n"
     ]
    },
    {
     "name": "stderr",
     "output_type": "stream",
     "text": [
      "2021-01-26 07:48:55,599 Train Evaluator INFO: Engine run starting with max_epochs=1.\n",
      "2021-01-26 07:49:13,292 Train Evaluator INFO: Epoch[1] Complete. Time taken: 00:00:18\n",
      "2021-01-26 07:49:13,296 Train Evaluator INFO: Engine run complete. Time taken: 00:00:18\n",
      "2021-01-26 07:49:13,297 Val Evaluator INFO: Engine run starting with max_epochs=1.\n",
      "2021-01-26 07:49:19,289 Val Evaluator INFO: Epoch[1] Complete. Time taken: 00:00:06\n",
      "2021-01-26 07:49:20,254 Val Evaluator INFO: Engine run complete. Time taken: 00:00:07\n",
      "\u001b[34m\u001b[1mwandb\u001b[0m: \u001b[33mWARNING\u001b[0m Step must only increase in log calls.  Step 48 < 384; dropping {'lr/group_0': 0.001}.\n",
      "2021-01-26 07:49:20,265 Trainer INFO: Epoch[48] Complete. Time taken: 00:00:40\n"
     ]
    },
    {
     "name": "stdout",
     "output_type": "stream",
     "text": [
      "train loss 5.267948161023375\n",
      "val loss 7.454703488926978\n",
      "validation roc auc [0.51160862 0.48337156] 48\n",
      "train roc auc [0.72469949 0.61528956] 48\n"
     ]
    },
    {
     "name": "stderr",
     "output_type": "stream",
     "text": [
      "2021-01-26 07:49:35,742 Train Evaluator INFO: Engine run starting with max_epochs=1.\n",
      "2021-01-26 07:49:53,454 Train Evaluator INFO: Epoch[1] Complete. Time taken: 00:00:18\n",
      "2021-01-26 07:49:53,457 Train Evaluator INFO: Engine run complete. Time taken: 00:00:18\n",
      "2021-01-26 07:49:53,458 Val Evaluator INFO: Engine run starting with max_epochs=1.\n",
      "2021-01-26 07:49:59,240 Val Evaluator INFO: Epoch[1] Complete. Time taken: 00:00:06\n",
      "2021-01-26 07:49:59,245 Val Evaluator INFO: Engine run complete. Time taken: 00:00:06\n",
      "\u001b[34m\u001b[1mwandb\u001b[0m: \u001b[33mWARNING\u001b[0m Step must only increase in log calls.  Step 49 < 392; dropping {'lr/group_0': 0.001}.\n",
      "2021-01-26 07:49:59,254 Trainer INFO: Epoch[49] Complete. Time taken: 00:00:39\n"
     ]
    },
    {
     "name": "stdout",
     "output_type": "stream",
     "text": [
      "train loss 5.437580051505228\n",
      "val loss 8.099828246292795\n",
      "validation roc auc [0.55223881 0.3646789 ] 49\n",
      "train roc auc [0.74721308 0.57842491] 49\n"
     ]
    },
    {
     "name": "stderr",
     "output_type": "stream",
     "text": [
      "2021-01-26 07:50:14,330 Train Evaluator INFO: Engine run starting with max_epochs=1.\n",
      "2021-01-26 07:50:30,664 Train Evaluator INFO: Epoch[1] Complete. Time taken: 00:00:16\n",
      "2021-01-26 07:50:30,667 Train Evaluator INFO: Engine run complete. Time taken: 00:00:16\n",
      "2021-01-26 07:50:30,668 Val Evaluator INFO: Engine run starting with max_epochs=1.\n",
      "2021-01-26 07:50:35,553 Val Evaluator INFO: Epoch[1] Complete. Time taken: 00:00:05\n",
      "2021-01-26 07:50:35,556 Val Evaluator INFO: Engine run complete. Time taken: 00:00:05\n",
      "\u001b[34m\u001b[1mwandb\u001b[0m: \u001b[33mWARNING\u001b[0m Step must only increase in log calls.  Step 50 < 400; dropping {'lr/group_0': 0.001}.\n",
      "2021-01-26 07:50:35,567 Trainer INFO: Epoch[50] Complete. Time taken: 00:00:36\n"
     ]
    },
    {
     "name": "stdout",
     "output_type": "stream",
     "text": [
      "train loss 7.681517320520737\n",
      "val loss 10.20275298197558\n",
      "validation roc auc [0.56533997 0.30848624] 50\n",
      "train roc auc [0.74945452 0.5650795 ] 50\n"
     ]
    },
    {
     "name": "stderr",
     "output_type": "stream",
     "text": [
      "2021-01-26 07:50:56,394 Train Evaluator INFO: Engine run starting with max_epochs=1.\n",
      "2021-01-26 07:51:17,014 Train Evaluator INFO: Epoch[1] Complete. Time taken: 00:00:21\n",
      "2021-01-26 07:51:17,018 Train Evaluator INFO: Engine run complete. Time taken: 00:00:21\n",
      "2021-01-26 07:51:17,019 Val Evaluator INFO: Engine run starting with max_epochs=1.\n",
      "2021-01-26 07:51:24,233 Val Evaluator INFO: Epoch[1] Complete. Time taken: 00:00:07\n",
      "2021-01-26 07:51:24,237 Val Evaluator INFO: Engine run complete. Time taken: 00:00:07\n",
      "\u001b[34m\u001b[1mwandb\u001b[0m: \u001b[33mWARNING\u001b[0m Step must only increase in log calls.  Step 51 < 408; dropping {'lr/group_0': 0.001}.\n",
      "2021-01-26 07:51:24,247 Trainer INFO: Epoch[51] Complete. Time taken: 00:00:49\n"
     ]
    },
    {
     "name": "stdout",
     "output_type": "stream",
     "text": [
      "train loss 4.224621192042864\n",
      "val loss 6.26218131241525\n",
      "validation roc auc [0.51658375 0.47113914] 51\n",
      "train roc auc [0.73332804 0.61104704] 51\n"
     ]
    },
    {
     "name": "stderr",
     "output_type": "stream",
     "text": [
      "2021-01-26 07:51:45,105 Train Evaluator INFO: Engine run starting with max_epochs=1.\n",
      "2021-01-26 07:52:08,239 Train Evaluator INFO: Epoch[1] Complete. Time taken: 00:00:23\n",
      "2021-01-26 07:52:08,242 Train Evaluator INFO: Engine run complete. Time taken: 00:00:23\n",
      "2021-01-26 07:52:08,243 Val Evaluator INFO: Engine run starting with max_epochs=1.\n",
      "2021-01-26 07:52:16,438 Val Evaluator INFO: Epoch[1] Complete. Time taken: 00:00:08\n",
      "2021-01-26 07:52:16,441 Val Evaluator INFO: Engine run complete. Time taken: 00:00:08\n",
      "\u001b[34m\u001b[1mwandb\u001b[0m: \u001b[33mWARNING\u001b[0m Step must only increase in log calls.  Step 52 < 416; dropping {'lr/group_0': 0.001}.\n",
      "2021-01-26 07:52:16,448 Trainer INFO: Epoch[52] Complete. Time taken: 00:00:52\n"
     ]
    },
    {
     "name": "stdout",
     "output_type": "stream",
     "text": [
      "train loss 4.718879570888278\n",
      "val loss 7.442031009941344\n",
      "validation roc auc [0.55489221 0.34499235] 52\n",
      "train roc auc [0.75048598 0.57006343] 52\n"
     ]
    },
    {
     "name": "stderr",
     "output_type": "stream",
     "text": [
      "2021-01-26 07:52:38,609 Train Evaluator INFO: Engine run starting with max_epochs=1.\n",
      "2021-01-26 07:53:02,844 Train Evaluator INFO: Epoch[1] Complete. Time taken: 00:00:24\n",
      "2021-01-26 07:53:02,847 Train Evaluator INFO: Engine run complete. Time taken: 00:00:24\n",
      "2021-01-26 07:53:02,848 Val Evaluator INFO: Engine run starting with max_epochs=1.\n",
      "2021-01-26 07:53:10,410 Val Evaluator INFO: Epoch[1] Complete. Time taken: 00:00:08\n",
      "2021-01-26 07:53:10,413 Val Evaluator INFO: Engine run complete. Time taken: 00:00:08\n",
      "\u001b[34m\u001b[1mwandb\u001b[0m: \u001b[33mWARNING\u001b[0m Step must only increase in log calls.  Step 53 < 424; dropping {'lr/group_0': 0.001}.\n",
      "2021-01-26 07:53:10,423 Trainer INFO: Epoch[53] Complete. Time taken: 00:00:54\n"
     ]
    },
    {
     "name": "stdout",
     "output_type": "stream",
     "text": [
      "train loss 1.480025057699166\n",
      "val loss 3.6851329985697556\n",
      "validation roc auc [0.55273632 0.37901376] 53\n",
      "train roc auc [0.75528623 0.57953703] 53\n"
     ]
    },
    {
     "name": "stderr",
     "output_type": "stream",
     "text": [
      "2021-01-26 07:53:35,415 Train Evaluator INFO: Engine run starting with max_epochs=1.\n",
      "2021-01-26 07:53:59,265 Train Evaluator INFO: Epoch[1] Complete. Time taken: 00:00:24\n",
      "2021-01-26 07:53:59,269 Train Evaluator INFO: Engine run complete. Time taken: 00:00:24\n",
      "2021-01-26 07:53:59,271 Val Evaluator INFO: Engine run starting with max_epochs=1.\n",
      "2021-01-26 07:54:09,155 Val Evaluator INFO: Epoch[1] Complete. Time taken: 00:00:10\n",
      "2021-01-26 07:54:09,159 Val Evaluator INFO: Engine run complete. Time taken: 00:00:10\n",
      "\u001b[34m\u001b[1mwandb\u001b[0m: \u001b[33mWARNING\u001b[0m Step must only increase in log calls.  Step 54 < 432; dropping {'lr/group_0': 0.001}.\n",
      "2021-01-26 07:54:09,168 Trainer INFO: Epoch[54] Complete. Time taken: 00:00:59\n"
     ]
    },
    {
     "name": "stdout",
     "output_type": "stream",
     "text": [
      "train loss 1.9060886394484111\n",
      "val loss 3.10572797325766\n",
      "validation roc auc [0.55306799 0.42125382] 54\n",
      "train roc auc [0.7607609  0.59008156] 54\n"
     ]
    },
    {
     "name": "stderr",
     "output_type": "stream",
     "text": [
      "2021-01-26 07:54:33,643 Train Evaluator INFO: Engine run starting with max_epochs=1.\n",
      "2021-01-26 07:54:56,458 Train Evaluator INFO: Epoch[1] Complete. Time taken: 00:00:23\n",
      "2021-01-26 07:54:56,461 Train Evaluator INFO: Engine run complete. Time taken: 00:00:23\n",
      "2021-01-26 07:54:56,463 Val Evaluator INFO: Engine run starting with max_epochs=1.\n",
      "2021-01-26 07:55:04,106 Val Evaluator INFO: Epoch[1] Complete. Time taken: 00:00:08\n",
      "2021-01-26 07:55:04,109 Val Evaluator INFO: Engine run complete. Time taken: 00:00:08\n",
      "\u001b[34m\u001b[1mwandb\u001b[0m: \u001b[33mWARNING\u001b[0m Step must only increase in log calls.  Step 55 < 440; dropping {'lr/group_0': 0.001}.\n",
      "2021-01-26 07:55:04,120 Trainer INFO: Epoch[55] Complete. Time taken: 00:00:55\n"
     ]
    },
    {
     "name": "stdout",
     "output_type": "stream",
     "text": [
      "train loss 1.7521993869789805\n",
      "val loss 2.462671117418131\n",
      "validation roc auc [0.56716418 0.42297401] 55\n",
      "train roc auc [0.76663228 0.58979323] 55\n"
     ]
    },
    {
     "name": "stderr",
     "output_type": "stream",
     "text": [
      "2021-01-26 07:55:29,837 Train Evaluator INFO: Engine run starting with max_epochs=1.\n",
      "2021-01-26 07:55:51,994 Train Evaluator INFO: Epoch[1] Complete. Time taken: 00:00:22\n",
      "2021-01-26 07:55:51,997 Train Evaluator INFO: Engine run complete. Time taken: 00:00:22\n",
      "2021-01-26 07:55:51,999 Val Evaluator INFO: Engine run starting with max_epochs=1.\n",
      "2021-01-26 07:55:58,717 Val Evaluator INFO: Epoch[1] Complete. Time taken: 00:00:07\n",
      "2021-01-26 07:55:58,721 Val Evaluator INFO: Engine run complete. Time taken: 00:00:07\n",
      "\u001b[34m\u001b[1mwandb\u001b[0m: \u001b[33mWARNING\u001b[0m Step must only increase in log calls.  Step 56 < 448; dropping {'lr/group_0': 0.001}.\n",
      "2021-01-26 07:55:58,731 Trainer INFO: Epoch[56] Complete. Time taken: 00:00:55\n"
     ]
    },
    {
     "name": "stdout",
     "output_type": "stream",
     "text": [
      "train loss 1.125116611098412\n",
      "val loss 2.5182882023465103\n",
      "validation roc auc [0.59983416 0.36219419] 56\n",
      "train roc auc [0.77044075 0.57994892] 56\n"
     ]
    },
    {
     "name": "stderr",
     "output_type": "stream",
     "text": [
      "2021-01-26 07:56:21,367 Train Evaluator INFO: Engine run starting with max_epochs=1.\n",
      "2021-01-26 07:56:43,409 Train Evaluator INFO: Epoch[1] Complete. Time taken: 00:00:22\n",
      "2021-01-26 07:56:43,412 Train Evaluator INFO: Engine run complete. Time taken: 00:00:22\n",
      "2021-01-26 07:56:43,415 Val Evaluator INFO: Engine run starting with max_epochs=1.\n",
      "2021-01-26 07:56:51,101 Val Evaluator INFO: Epoch[1] Complete. Time taken: 00:00:08\n",
      "2021-01-26 07:56:52,021 Val Evaluator INFO: Engine run complete. Time taken: 00:00:09\n",
      "\u001b[34m\u001b[1mwandb\u001b[0m: \u001b[33mWARNING\u001b[0m Step must only increase in log calls.  Step 57 < 456; dropping {'lr/group_0': 0.001}.\n",
      "2021-01-26 07:56:52,038 Trainer INFO: Epoch[57] Complete. Time taken: 00:00:53\n"
     ]
    },
    {
     "name": "stdout",
     "output_type": "stream",
     "text": [
      "train loss 0.9931605668628917\n",
      "val loss 1.6434422890851452\n",
      "validation roc auc [0.58358209 0.40883028] 57\n",
      "train roc auc [0.775241   0.58929895] 57\n"
     ]
    },
    {
     "name": "stderr",
     "output_type": "stream",
     "text": [
      "2021-01-26 07:57:15,338 Train Evaluator INFO: Engine run starting with max_epochs=1.\n",
      "2021-01-26 07:57:37,132 Train Evaluator INFO: Epoch[1] Complete. Time taken: 00:00:22\n",
      "2021-01-26 07:57:37,135 Train Evaluator INFO: Engine run complete. Time taken: 00:00:22\n",
      "2021-01-26 07:57:37,136 Val Evaluator INFO: Engine run starting with max_epochs=1.\n",
      "2021-01-26 07:57:44,449 Val Evaluator INFO: Epoch[1] Complete. Time taken: 00:00:07\n",
      "2021-01-26 07:57:45,481 Val Evaluator INFO: Engine run complete. Time taken: 00:00:08\n",
      "\u001b[34m\u001b[1mwandb\u001b[0m: \u001b[33mWARNING\u001b[0m Step must only increase in log calls.  Step 58 < 464; dropping {'lr/group_0': 0.001}.\n",
      "2021-01-26 07:57:45,497 Trainer INFO: Epoch[58] Complete. Time taken: 00:00:53\n"
     ]
    },
    {
     "name": "stdout",
     "output_type": "stream",
     "text": [
      "train loss 1.6387331625994515\n",
      "val loss 1.91604487835222\n",
      "validation roc auc [0.57927032 0.4308104 ] 58\n",
      "train roc auc [0.7792875  0.59568333] 58\n"
     ]
    },
    {
     "name": "stderr",
     "output_type": "stream",
     "text": [
      "2021-01-26 07:58:09,349 Train Evaluator INFO: Engine run starting with max_epochs=1.\n",
      "2021-01-26 07:59:17,248 Train Evaluator INFO: Epoch[1] Complete. Time taken: 00:01:08\n",
      "2021-01-26 07:59:17,254 Train Evaluator INFO: Engine run complete. Time taken: 00:01:08\n",
      "2021-01-26 07:59:17,256 Val Evaluator INFO: Engine run starting with max_epochs=1.\n",
      "2021-01-26 07:59:44,024 Val Evaluator INFO: Epoch[1] Complete. Time taken: 00:00:27\n",
      "2021-01-26 07:59:44,963 Val Evaluator INFO: Engine run complete. Time taken: 00:00:28\n",
      "\u001b[34m\u001b[1mwandb\u001b[0m: \u001b[33mWARNING\u001b[0m Step must only increase in log calls.  Step 59 < 472; dropping {'lr/group_0': 0.001}.\n",
      "2021-01-26 07:59:44,972 Trainer INFO: Epoch[59] Complete. Time taken: 00:01:59\n"
     ]
    },
    {
     "name": "stdout",
     "output_type": "stream",
     "text": [
      "train loss 1.885426768030736\n",
      "val loss 2.013945555231374\n",
      "validation roc auc [0.56500829 0.45107034] 59\n",
      "train roc auc [0.78206451 0.60260318] 59\n"
     ]
    },
    {
     "name": "stderr",
     "output_type": "stream",
     "text": [
      "2021-01-26 08:00:56,576 Train Evaluator INFO: Engine run starting with max_epochs=1.\n",
      "2021-01-26 08:01:59,507 Train Evaluator INFO: Epoch[1] Complete. Time taken: 00:01:03\n",
      "2021-01-26 08:01:59,512 Train Evaluator INFO: Engine run complete. Time taken: 00:01:03\n",
      "2021-01-26 08:01:59,513 Val Evaluator INFO: Engine run starting with max_epochs=1.\n",
      "2021-01-26 08:02:24,141 Val Evaluator INFO: Epoch[1] Complete. Time taken: 00:00:25\n",
      "2021-01-26 08:02:24,145 Val Evaluator INFO: Engine run complete. Time taken: 00:00:25\n",
      "\u001b[34m\u001b[1mwandb\u001b[0m: \u001b[33mWARNING\u001b[0m Step must only increase in log calls.  Step 60 < 480; dropping {'lr/group_0': 0.001}.\n",
      "2021-01-26 08:02:24,156 Trainer INFO: Epoch[60] Complete. Time taken: 00:02:39\n"
     ]
    },
    {
     "name": "stdout",
     "output_type": "stream",
     "text": [
      "train loss 3.1829461370937704\n",
      "val loss 4.387276236418706\n",
      "validation roc auc [0.60961857 0.35225535] 60\n",
      "train roc auc [0.78672591 0.58217316] 60\n"
     ]
    },
    {
     "name": "stderr",
     "output_type": "stream",
     "text": [
      "2021-01-26 08:03:35,251 Train Evaluator INFO: Engine run starting with max_epochs=1.\n",
      "2021-01-26 08:04:42,041 Train Evaluator INFO: Epoch[1] Complete. Time taken: 00:01:07\n",
      "2021-01-26 08:04:42,045 Train Evaluator INFO: Engine run complete. Time taken: 00:01:07\n",
      "2021-01-26 08:04:42,046 Val Evaluator INFO: Engine run starting with max_epochs=1.\n",
      "2021-01-26 08:05:04,783 Val Evaluator INFO: Epoch[1] Complete. Time taken: 00:00:23\n",
      "2021-01-26 08:05:05,827 Val Evaluator INFO: Engine run complete. Time taken: 00:00:24\n",
      "\u001b[34m\u001b[1mwandb\u001b[0m: \u001b[33mWARNING\u001b[0m Step must only increase in log calls.  Step 61 < 488; dropping {'lr/group_0': 0.001}.\n",
      "2021-01-26 08:05:05,834 Trainer INFO: Epoch[61] Complete. Time taken: 00:02:42\n"
     ]
    },
    {
     "name": "stdout",
     "output_type": "stream",
     "text": [
      "train loss 2.311691624406636\n",
      "val loss 2.690172514338402\n",
      "validation roc auc [0.54892206 0.46502294] 61\n",
      "train roc auc [0.78440513 0.60552764] 61\n"
     ]
    },
    {
     "name": "stderr",
     "output_type": "stream",
     "text": [
      "2021-01-26 08:06:16,133 Train Evaluator INFO: Engine run starting with max_epochs=1.\n",
      "2021-01-26 08:07:26,215 Train Evaluator INFO: Epoch[1] Complete. Time taken: 00:01:10\n",
      "2021-01-26 08:07:26,220 Train Evaluator INFO: Engine run complete. Time taken: 00:01:10\n",
      "2021-01-26 08:07:26,223 Val Evaluator INFO: Engine run starting with max_epochs=1.\n",
      "2021-01-26 08:07:52,010 Val Evaluator INFO: Epoch[1] Complete. Time taken: 00:00:26\n",
      "2021-01-26 08:07:52,013 Val Evaluator INFO: Engine run complete. Time taken: 00:00:26\n",
      "\u001b[34m\u001b[1mwandb\u001b[0m: \u001b[33mWARNING\u001b[0m Step must only increase in log calls.  Step 62 < 496; dropping {'lr/group_0': 0.001}.\n",
      "2021-01-26 08:07:52,028 Trainer INFO: Epoch[62] Complete. Time taken: 00:02:46\n"
     ]
    },
    {
     "name": "stdout",
     "output_type": "stream",
     "text": [
      "train loss 2.3226402899278793\n",
      "val loss 3.7040944433516\n",
      "validation roc auc [0.60298507 0.34862385] 62\n",
      "train roc auc [0.79368826 0.58172008] 62\n"
     ]
    },
    {
     "name": "stderr",
     "output_type": "stream",
     "text": [
      "2021-01-26 08:09:12,158 Train Evaluator INFO: Engine run starting with max_epochs=1.\n",
      "2021-01-26 08:10:20,672 Train Evaluator INFO: Epoch[1] Complete. Time taken: 00:01:09\n",
      "2021-01-26 08:10:20,674 Train Evaluator INFO: Engine run complete. Time taken: 00:01:09\n",
      "2021-01-26 08:10:20,675 Val Evaluator INFO: Engine run starting with max_epochs=1.\n",
      "2021-01-26 08:10:39,901 Val Evaluator INFO: Epoch[1] Complete. Time taken: 00:00:19\n",
      "2021-01-26 08:10:39,905 Val Evaluator INFO: Engine run complete. Time taken: 00:00:19\n",
      "\u001b[34m\u001b[1mwandb\u001b[0m: \u001b[33mWARNING\u001b[0m Step must only increase in log calls.  Step 63 < 504; dropping {'lr/group_0': 0.001}.\n",
      "2021-01-26 08:10:39,913 Trainer INFO: Epoch[63] Complete. Time taken: 00:02:48\n"
     ]
    },
    {
     "name": "stdout",
     "output_type": "stream",
     "text": [
      "train loss 0.8200930268676193\n",
      "val loss 2.002014263420348\n",
      "validation roc auc [0.58640133 0.39239297] 63\n",
      "train roc auc [0.79634625 0.59074059] 63\n"
     ]
    },
    {
     "name": "stderr",
     "output_type": "stream",
     "text": [
      "2021-01-26 08:11:55,682 Train Evaluator INFO: Engine run starting with max_epochs=1.\n",
      "2021-01-26 08:13:12,681 Train Evaluator INFO: Epoch[1] Complete. Time taken: 00:01:17\n",
      "2021-01-26 08:13:12,684 Train Evaluator INFO: Engine run complete. Time taken: 00:01:17\n",
      "2021-01-26 08:13:12,685 Val Evaluator INFO: Engine run starting with max_epochs=1.\n",
      "2021-01-26 08:13:33,881 Val Evaluator INFO: Epoch[1] Complete. Time taken: 00:00:21\n",
      "2021-01-26 08:13:33,884 Val Evaluator INFO: Engine run complete. Time taken: 00:00:21\n",
      "\u001b[34m\u001b[1mwandb\u001b[0m: \u001b[33mWARNING\u001b[0m Step must only increase in log calls.  Step 64 < 512; dropping {'lr/group_0': 0.001}.\n",
      "2021-01-26 08:13:33,900 Trainer INFO: Epoch[64] Complete. Time taken: 00:02:54\n"
     ]
    },
    {
     "name": "stdout",
     "output_type": "stream",
     "text": [
      "train loss 1.6754971929624969\n",
      "val loss 2.888461764451045\n",
      "validation roc auc [0.60878939 0.35932722] 64\n",
      "train roc auc [0.80009521 0.5824203 ] 64\n"
     ]
    },
    {
     "name": "stderr",
     "output_type": "stream",
     "text": [
      "2021-01-26 08:15:00,158 Train Evaluator INFO: Engine run starting with max_epochs=1.\n",
      "2021-01-26 08:16:10,737 Train Evaluator INFO: Epoch[1] Complete. Time taken: 00:01:11\n",
      "2021-01-26 08:16:10,740 Train Evaluator INFO: Engine run complete. Time taken: 00:01:11\n",
      "2021-01-26 08:16:10,741 Val Evaluator INFO: Engine run starting with max_epochs=1.\n",
      "2021-01-26 08:16:27,844 Val Evaluator INFO: Epoch[1] Complete. Time taken: 00:00:17\n",
      "2021-01-26 08:16:28,870 Val Evaluator INFO: Engine run complete. Time taken: 00:00:18\n",
      "\u001b[34m\u001b[1mwandb\u001b[0m: \u001b[33mWARNING\u001b[0m Step must only increase in log calls.  Step 65 < 520; dropping {'lr/group_0': 0.001}.\n",
      "2021-01-26 08:16:28,886 Trainer INFO: Epoch[65] Complete. Time taken: 00:02:55\n"
     ]
    },
    {
     "name": "stdout",
     "output_type": "stream",
     "text": [
      "train loss 1.400466284461011\n",
      "val loss 1.973871411791273\n",
      "validation roc auc [0.57147595 0.43100153] 65\n",
      "train roc auc [0.80144404 0.59601285] 65\n"
     ]
    },
    {
     "name": "stderr",
     "output_type": "stream",
     "text": [
      "2021-01-26 08:17:39,236 Train Evaluator INFO: Engine run starting with max_epochs=1.\n",
      "2021-01-26 08:18:48,449 Train Evaluator INFO: Epoch[1] Complete. Time taken: 00:01:09\n",
      "2021-01-26 08:18:48,452 Train Evaluator INFO: Engine run complete. Time taken: 00:01:09\n",
      "2021-01-26 08:18:48,453 Val Evaluator INFO: Engine run starting with max_epochs=1.\n",
      "2021-01-26 08:19:11,890 Val Evaluator INFO: Epoch[1] Complete. Time taken: 00:00:23\n",
      "2021-01-26 08:19:11,893 Val Evaluator INFO: Engine run complete. Time taken: 00:00:23\n",
      "\u001b[34m\u001b[1mwandb\u001b[0m: \u001b[33mWARNING\u001b[0m Step must only increase in log calls.  Step 66 < 528; dropping {'lr/group_0': 0.001}.\n",
      "2021-01-26 08:19:11,905 Trainer INFO: Epoch[66] Complete. Time taken: 00:02:43\n"
     ]
    },
    {
     "name": "stdout",
     "output_type": "stream",
     "text": [
      "train loss 1.1242815700231814\n",
      "val loss 1.8138227781672387\n",
      "validation roc auc [0.57960199 0.41227064] 66\n",
      "train roc auc [0.80477645 0.59201746] 66\n"
     ]
    },
    {
     "name": "stderr",
     "output_type": "stream",
     "text": [
      "2021-01-26 08:20:16,583 Train Evaluator INFO: Engine run starting with max_epochs=1.\n",
      "2021-01-26 08:21:30,950 Train Evaluator INFO: Epoch[1] Complete. Time taken: 00:01:14\n",
      "2021-01-26 08:21:30,956 Train Evaluator INFO: Engine run complete. Time taken: 00:01:14\n",
      "2021-01-26 08:21:30,957 Val Evaluator INFO: Engine run starting with max_epochs=1.\n",
      "2021-01-26 08:21:57,208 Val Evaluator INFO: Epoch[1] Complete. Time taken: 00:00:26\n",
      "2021-01-26 08:21:57,211 Val Evaluator INFO: Engine run complete. Time taken: 00:00:26\n",
      "\u001b[34m\u001b[1mwandb\u001b[0m: \u001b[33mWARNING\u001b[0m Step must only increase in log calls.  Step 67 < 536; dropping {'lr/group_0': 0.001}.\n",
      "2021-01-26 08:21:57,223 Trainer INFO: Epoch[67] Complete. Time taken: 00:02:45\n"
     ]
    },
    {
     "name": "stdout",
     "output_type": "stream",
     "text": [
      "train loss 1.700025571197726\n",
      "val loss 2.9133566306654815\n",
      "validation roc auc [0.63034826 0.31823394] 67\n",
      "train roc auc [0.8086841  0.57665376] 67\n"
     ]
    },
    {
     "name": "stderr",
     "output_type": "stream",
     "text": [
      "2021-01-26 08:23:09,249 Train Evaluator INFO: Engine run starting with max_epochs=1.\n",
      "2021-01-26 08:24:25,463 Train Evaluator INFO: Epoch[1] Complete. Time taken: 00:01:16\n",
      "2021-01-26 08:24:25,466 Train Evaluator INFO: Engine run complete. Time taken: 00:01:16\n",
      "2021-01-26 08:24:25,468 Val Evaluator INFO: Engine run starting with max_epochs=1.\n",
      "2021-01-26 08:24:51,438 Val Evaluator INFO: Epoch[1] Complete. Time taken: 00:00:26\n",
      "2021-01-26 08:24:52,704 Val Evaluator INFO: Engine run complete. Time taken: 00:00:27\n",
      "\u001b[34m\u001b[1mwandb\u001b[0m: \u001b[33mWARNING\u001b[0m Step must only increase in log calls.  Step 68 < 544; dropping {'lr/group_0': 0.001}.\n",
      "2021-01-26 08:24:52,713 Trainer INFO: Epoch[68] Complete. Time taken: 00:02:55\n"
     ]
    },
    {
     "name": "stdout",
     "output_type": "stream",
     "text": [
      "train loss 1.0971341251288105\n",
      "val loss 1.6982530287116955\n",
      "validation roc auc [0.57893864 0.42029817] 68\n",
      "train roc auc [0.80834689 0.59115248] 68\n"
     ]
    },
    {
     "name": "stderr",
     "output_type": "stream",
     "text": [
      "2021-01-26 08:26:04,330 Train Evaluator INFO: Engine run starting with max_epochs=1.\n",
      "2021-01-26 08:27:20,958 Train Evaluator INFO: Epoch[1] Complete. Time taken: 00:01:17\n",
      "2021-01-26 08:27:20,967 Train Evaluator INFO: Engine run complete. Time taken: 00:01:17\n",
      "2021-01-26 08:27:20,968 Val Evaluator INFO: Engine run starting with max_epochs=1.\n",
      "2021-01-26 08:27:47,580 Val Evaluator INFO: Epoch[1] Complete. Time taken: 00:00:27\n",
      "2021-01-26 08:27:47,583 Val Evaluator INFO: Engine run complete. Time taken: 00:00:27\n",
      "\u001b[34m\u001b[1mwandb\u001b[0m: \u001b[33mWARNING\u001b[0m Step must only increase in log calls.  Step 69 < 552; dropping {'lr/group_0': 0.001}.\n",
      "2021-01-26 08:27:47,595 Trainer INFO: Epoch[69] Complete. Time taken: 00:02:55\n"
     ]
    },
    {
     "name": "stdout",
     "output_type": "stream",
     "text": [
      "train loss 0.6689057544945112\n",
      "val loss 1.325278292795655\n",
      "validation roc auc [0.58208955 0.41513761] 69\n",
      "train roc auc [0.81037014 0.59094654] 69\n"
     ]
    },
    {
     "name": "stderr",
     "output_type": "stream",
     "text": [
      "2021-01-26 08:29:07,085 Train Evaluator INFO: Engine run starting with max_epochs=1.\n",
      "2021-01-26 08:30:21,706 Train Evaluator INFO: Epoch[1] Complete. Time taken: 00:01:15\n",
      "2021-01-26 08:30:21,709 Train Evaluator INFO: Engine run complete. Time taken: 00:01:15\n",
      "2021-01-26 08:30:21,710 Val Evaluator INFO: Engine run starting with max_epochs=1.\n",
      "2021-01-26 08:30:44,581 Val Evaluator INFO: Epoch[1] Complete. Time taken: 00:00:23\n",
      "2021-01-26 08:30:44,584 Val Evaluator INFO: Engine run complete. Time taken: 00:00:23\n",
      "\u001b[34m\u001b[1mwandb\u001b[0m: \u001b[33mWARNING\u001b[0m Step must only increase in log calls.  Step 70 < 560; dropping {'lr/group_0': 0.001}.\n",
      "2021-01-26 08:30:44,595 Trainer INFO: Epoch[70] Complete. Time taken: 00:02:57\n"
     ]
    },
    {
     "name": "stdout",
     "output_type": "stream",
     "text": [
      "train loss 0.5589630744685794\n",
      "val loss 1.1991149748966192\n",
      "validation roc auc [0.5907131  0.40691896] 70\n",
      "train roc auc [0.81322648 0.58921657] 70\n"
     ]
    },
    {
     "name": "stderr",
     "output_type": "stream",
     "text": [
      "2021-01-26 08:31:46,206 Train Evaluator INFO: Engine run starting with max_epochs=1.\n",
      "2021-01-26 08:32:55,318 Train Evaluator INFO: Epoch[1] Complete. Time taken: 00:01:09\n",
      "2021-01-26 08:32:55,322 Train Evaluator INFO: Engine run complete. Time taken: 00:01:09\n",
      "2021-01-26 08:32:55,324 Val Evaluator INFO: Engine run starting with max_epochs=1.\n",
      "2021-01-26 08:33:18,530 Val Evaluator INFO: Epoch[1] Complete. Time taken: 00:00:23\n",
      "2021-01-26 08:33:19,605 Val Evaluator INFO: Engine run complete. Time taken: 00:00:24\n",
      "\u001b[34m\u001b[1mwandb\u001b[0m: \u001b[33mWARNING\u001b[0m Step must only increase in log calls.  Step 71 < 568; dropping {'lr/group_0': 0.001}.\n",
      "2021-01-26 08:33:19,618 Trainer INFO: Epoch[71] Complete. Time taken: 00:02:35\n"
     ]
    },
    {
     "name": "stdout",
     "output_type": "stream",
     "text": [
      "train loss 2.223433647280425\n",
      "val loss 2.3315771856125753\n",
      "validation roc auc [0.56699834 0.46234709] 71\n",
      "train roc auc [0.8111834  0.59712497] 71\n"
     ]
    },
    {
     "name": "stderr",
     "output_type": "stream",
     "text": [
      "2021-01-26 08:34:25,494 Train Evaluator INFO: Engine run starting with max_epochs=1.\n",
      "2021-01-26 08:35:35,114 Train Evaluator INFO: Epoch[1] Complete. Time taken: 00:01:10\n",
      "2021-01-26 08:35:35,118 Train Evaluator INFO: Engine run complete. Time taken: 00:01:10\n",
      "2021-01-26 08:35:35,119 Val Evaluator INFO: Engine run starting with max_epochs=1.\n",
      "2021-01-26 08:36:00,565 Val Evaluator INFO: Epoch[1] Complete. Time taken: 00:00:25\n",
      "2021-01-26 08:36:01,734 Val Evaluator INFO: Engine run complete. Time taken: 00:00:27\n",
      "\u001b[34m\u001b[1mwandb\u001b[0m: \u001b[33mWARNING\u001b[0m Step must only increase in log calls.  Step 72 < 576; dropping {'lr/group_0': 0.001}.\n",
      "2021-01-26 08:36:01,744 Trainer INFO: Epoch[72] Complete. Time taken: 00:02:42\n"
     ]
    },
    {
     "name": "stdout",
     "output_type": "stream",
     "text": [
      "train loss 0.5006295319216444\n",
      "val loss 1.1792723927528235\n",
      "validation roc auc [0.58839138 0.41590214] 72\n",
      "train roc auc [0.81697544 0.58929895] 72\n"
     ]
    },
    {
     "name": "stderr",
     "output_type": "stream",
     "text": [
      "2021-01-26 08:37:14,786 Train Evaluator INFO: Engine run starting with max_epochs=1.\n",
      "2021-01-26 08:38:28,164 Train Evaluator INFO: Epoch[1] Complete. Time taken: 00:01:13\n",
      "2021-01-26 08:38:28,167 Train Evaluator INFO: Engine run complete. Time taken: 00:01:13\n",
      "2021-01-26 08:38:28,169 Val Evaluator INFO: Engine run starting with max_epochs=1.\n",
      "2021-01-26 08:38:54,327 Val Evaluator INFO: Epoch[1] Complete. Time taken: 00:00:26\n",
      "2021-01-26 08:38:55,559 Val Evaluator INFO: Engine run complete. Time taken: 00:00:27\n",
      "\u001b[34m\u001b[1mwandb\u001b[0m: \u001b[33mWARNING\u001b[0m Step must only increase in log calls.  Step 73 < 584; dropping {'lr/group_0': 0.001}.\n",
      "2021-01-26 08:38:55,571 Trainer INFO: Epoch[73] Complete. Time taken: 00:02:54\n"
     ]
    },
    {
     "name": "stdout",
     "output_type": "stream",
     "text": [
      "train loss 0.5378418524540588\n",
      "val loss 1.3102930442542786\n",
      "validation roc auc [0.59784411 0.40214067] 73\n",
      "train roc auc [0.82014916 0.58653925] 73\n"
     ]
    },
    {
     "name": "stderr",
     "output_type": "stream",
     "text": [
      "2021-01-26 08:40:08,803 Train Evaluator INFO: Engine run starting with max_epochs=1.\n",
      "2021-01-26 08:41:26,002 Train Evaluator INFO: Epoch[1] Complete. Time taken: 00:01:17\n",
      "2021-01-26 08:41:26,005 Train Evaluator INFO: Engine run complete. Time taken: 00:01:17\n",
      "2021-01-26 08:41:26,006 Val Evaluator INFO: Engine run starting with max_epochs=1.\n",
      "2021-01-26 08:41:55,472 Val Evaluator INFO: Epoch[1] Complete. Time taken: 00:00:29\n",
      "2021-01-26 08:41:55,477 Val Evaluator INFO: Engine run complete. Time taken: 00:00:29\n",
      "\u001b[34m\u001b[1mwandb\u001b[0m: \u001b[33mWARNING\u001b[0m Step must only increase in log calls.  Step 74 < 592; dropping {'lr/group_0': 0.001}.\n",
      "2021-01-26 08:41:55,488 Trainer INFO: Epoch[74] Complete. Time taken: 00:02:60\n"
     ]
    },
    {
     "name": "stdout",
     "output_type": "stream",
     "text": [
      "train loss 0.8618473248284367\n",
      "val loss 1.7836146749508608\n",
      "validation roc auc [0.61907131 0.36066514] 74\n",
      "train roc auc [0.82530646 0.58126699] 74\n"
     ]
    },
    {
     "name": "stderr",
     "output_type": "stream",
     "text": [
      "2021-01-26 08:43:14,234 Train Evaluator INFO: Engine run starting with max_epochs=1.\n",
      "2021-01-26 08:44:29,378 Train Evaluator INFO: Epoch[1] Complete. Time taken: 00:01:15\n",
      "2021-01-26 08:44:29,382 Train Evaluator INFO: Engine run complete. Time taken: 00:01:15\n",
      "2021-01-26 08:44:29,383 Val Evaluator INFO: Engine run starting with max_epochs=1.\n",
      "2021-01-26 08:44:52,423 Val Evaluator INFO: Epoch[1] Complete. Time taken: 00:00:23\n",
      "2021-01-26 08:44:52,429 Val Evaluator INFO: Engine run complete. Time taken: 00:00:23\n",
      "\u001b[34m\u001b[1mwandb\u001b[0m: \u001b[33mWARNING\u001b[0m Step must only increase in log calls.  Step 75 < 600; dropping {'lr/group_0': 0.001}.\n",
      "2021-01-26 08:44:52,451 Trainer INFO: Epoch[75] Complete. Time taken: 00:02:57\n"
     ]
    },
    {
     "name": "stdout",
     "output_type": "stream",
     "text": [
      "train loss 1.364014478031067\n",
      "val loss 2.2907616773228736\n",
      "validation roc auc [0.65638474 0.31517584] 75\n",
      "train roc auc [0.83028524 0.57475904] 75\n"
     ]
    },
    {
     "name": "stderr",
     "output_type": "stream",
     "text": [
      "2021-01-26 08:46:00,966 Train Evaluator INFO: Engine run starting with max_epochs=1.\n",
      "2021-01-26 08:47:07,551 Train Evaluator INFO: Epoch[1] Complete. Time taken: 00:01:07\n",
      "2021-01-26 08:47:07,555 Train Evaluator INFO: Engine run complete. Time taken: 00:01:07\n",
      "2021-01-26 08:47:07,561 Val Evaluator INFO: Engine run starting with max_epochs=1.\n",
      "2021-01-26 08:47:31,309 Val Evaluator INFO: Epoch[1] Complete. Time taken: 00:00:24\n",
      "2021-01-26 08:47:31,317 Val Evaluator INFO: Engine run complete. Time taken: 00:00:24\n",
      "\u001b[34m\u001b[1mwandb\u001b[0m: \u001b[33mWARNING\u001b[0m Step must only increase in log calls.  Step 76 < 608; dropping {'lr/group_0': 0.001}.\n",
      "2021-01-26 08:47:31,328 Trainer INFO: Epoch[76] Complete. Time taken: 00:02:39\n"
     ]
    },
    {
     "name": "stdout",
     "output_type": "stream",
     "text": [
      "train loss 0.5126086675393555\n",
      "val loss 1.0997530707887784\n",
      "validation roc auc [0.61509121 0.37786697] 76\n",
      "train roc auc [0.83052327 0.58048439] 76\n"
     ]
    },
    {
     "name": "stderr",
     "output_type": "stream",
     "text": [
      "2021-01-26 08:48:37,477 Train Evaluator INFO: Engine run starting with max_epochs=1.\n",
      "2021-01-26 08:49:41,897 Train Evaluator INFO: Epoch[1] Complete. Time taken: 00:01:04\n",
      "2021-01-26 08:49:41,903 Train Evaluator INFO: Engine run complete. Time taken: 00:01:04\n",
      "2021-01-26 08:49:41,905 Val Evaluator INFO: Engine run starting with max_epochs=1.\n",
      "2021-01-26 08:50:05,457 Val Evaluator INFO: Epoch[1] Complete. Time taken: 00:00:24\n",
      "2021-01-26 08:50:06,584 Val Evaluator INFO: Engine run complete. Time taken: 00:00:25\n",
      "\u001b[34m\u001b[1mwandb\u001b[0m: \u001b[33mWARNING\u001b[0m Step must only increase in log calls.  Step 77 < 616; dropping {'lr/group_0': 0.001}.\n",
      "2021-01-26 08:50:06,610 Trainer INFO: Epoch[77] Complete. Time taken: 00:02:35\n"
     ]
    },
    {
     "name": "stdout",
     "output_type": "stream",
     "text": [
      "train loss 0.6266559580572291\n",
      "val loss 1.0555730120391602\n",
      "validation roc auc [0.60713101 0.40577217] 77\n",
      "train roc auc [0.83195144 0.58139056] 77\n"
     ]
    },
    {
     "name": "stderr",
     "output_type": "stream",
     "text": [
      "2021-01-26 08:51:19,221 Train Evaluator INFO: Engine run starting with max_epochs=1.\n",
      "2021-01-26 08:52:32,415 Train Evaluator INFO: Epoch[1] Complete. Time taken: 00:01:13\n",
      "2021-01-26 08:52:32,419 Train Evaluator INFO: Engine run complete. Time taken: 00:01:13\n",
      "2021-01-26 08:52:32,421 Val Evaluator INFO: Engine run starting with max_epochs=1.\n",
      "2021-01-26 08:52:56,787 Val Evaluator INFO: Epoch[1] Complete. Time taken: 00:00:24\n",
      "2021-01-26 08:52:57,946 Val Evaluator INFO: Engine run complete. Time taken: 00:00:26\n",
      "\u001b[34m\u001b[1mwandb\u001b[0m: \u001b[33mWARNING\u001b[0m Step must only increase in log calls.  Step 78 < 624; dropping {'lr/group_0': 0.001}.\n",
      "2021-01-26 08:52:57,958 Trainer INFO: Epoch[78] Complete. Time taken: 00:02:51\n"
     ]
    },
    {
     "name": "stdout",
     "output_type": "stream",
     "text": [
      "train loss 0.6732130883046484\n",
      "val loss 1.0787172962905496\n",
      "validation roc auc [0.61492537 0.39449541] 78\n",
      "train roc auc [0.83520451 0.57920751] 78\n"
     ]
    },
    {
     "name": "stderr",
     "output_type": "stream",
     "text": [
      "2021-01-26 08:54:11,827 Train Evaluator INFO: Engine run starting with max_epochs=1.\n",
      "2021-01-26 08:55:22,022 Train Evaluator INFO: Epoch[1] Complete. Time taken: 00:01:10\n",
      "2021-01-26 08:55:22,025 Train Evaluator INFO: Engine run complete. Time taken: 00:01:10\n",
      "2021-01-26 08:55:22,027 Val Evaluator INFO: Engine run starting with max_epochs=1.\n",
      "2021-01-26 08:55:48,265 Val Evaluator INFO: Epoch[1] Complete. Time taken: 00:00:26\n",
      "2021-01-26 08:55:48,268 Val Evaluator INFO: Engine run complete. Time taken: 00:00:26\n",
      "\u001b[34m\u001b[1mwandb\u001b[0m: \u001b[33mWARNING\u001b[0m Step must only increase in log calls.  Step 79 < 632; dropping {'lr/group_0': 0.001}.\n",
      "2021-01-26 08:55:48,279 Trainer INFO: Epoch[79] Complete. Time taken: 00:02:50\n"
     ]
    },
    {
     "name": "stdout",
     "output_type": "stream",
     "text": [
      "train loss 0.49440085342506956\n",
      "val loss 1.0414488478830666\n",
      "validation roc auc [0.62321725 0.37060398] 79\n",
      "train roc auc [0.83776332 0.57714804] 79\n"
     ]
    },
    {
     "name": "stderr",
     "output_type": "stream",
     "text": [
      "2021-01-26 08:56:59,503 Train Evaluator INFO: Engine run starting with max_epochs=1.\n",
      "2021-01-26 08:58:12,739 Train Evaluator INFO: Epoch[1] Complete. Time taken: 00:01:13\n",
      "2021-01-26 08:58:12,742 Train Evaluator INFO: Engine run complete. Time taken: 00:01:13\n",
      "2021-01-26 08:58:12,743 Val Evaluator INFO: Engine run starting with max_epochs=1.\n",
      "2021-01-26 08:58:38,224 Val Evaluator INFO: Epoch[1] Complete. Time taken: 00:00:25\n",
      "2021-01-26 08:58:38,227 Val Evaluator INFO: Engine run complete. Time taken: 00:00:25\n",
      "\u001b[34m\u001b[1mwandb\u001b[0m: \u001b[33mWARNING\u001b[0m Step must only increase in log calls.  Step 80 < 640; dropping {'lr/group_0': 0.001}.\n",
      "2021-01-26 08:58:38,240 Trainer INFO: Epoch[80] Complete. Time taken: 00:02:50\n"
     ]
    },
    {
     "name": "stdout",
     "output_type": "stream",
     "text": [
      "train loss 0.6031971146598101\n",
      "val loss 1.1097876535859077\n",
      "validation roc auc [0.61840796 0.37882263] 80\n",
      "train roc auc [0.83873527 0.57813658] 80\n"
     ]
    },
    {
     "name": "stderr",
     "output_type": "stream",
     "text": [
      "2021-01-26 08:59:47,335 Train Evaluator INFO: Engine run starting with max_epochs=1.\n",
      "2021-01-26 09:00:55,485 Train Evaluator INFO: Epoch[1] Complete. Time taken: 00:01:08\n",
      "2021-01-26 09:00:55,487 Train Evaluator INFO: Engine run complete. Time taken: 00:01:08\n",
      "2021-01-26 09:00:55,489 Val Evaluator INFO: Engine run starting with max_epochs=1.\n",
      "2021-01-26 09:01:19,494 Val Evaluator INFO: Epoch[1] Complete. Time taken: 00:00:24\n",
      "2021-01-26 09:01:20,592 Val Evaluator INFO: Engine run complete. Time taken: 00:00:25\n",
      "\u001b[34m\u001b[1mwandb\u001b[0m: \u001b[33mWARNING\u001b[0m Step must only increase in log calls.  Step 81 < 648; dropping {'lr/group_0': 0.001}.\n",
      "2021-01-26 09:01:20,600 Trainer INFO: Epoch[81] Complete. Time taken: 00:02:42\n"
     ]
    },
    {
     "name": "stdout",
     "output_type": "stream",
     "text": [
      "train loss 0.8912811932480673\n",
      "val loss 1.3383972561283477\n",
      "validation roc auc [0.61011609 0.3956422 ] 81\n",
      "train roc auc [0.83887412 0.57710685] 81\n"
     ]
    },
    {
     "name": "stderr",
     "output_type": "stream",
     "text": [
      "2021-01-26 09:02:31,398 Train Evaluator INFO: Engine run starting with max_epochs=1.\n",
      "2021-01-26 09:03:39,415 Train Evaluator INFO: Epoch[1] Complete. Time taken: 00:01:08\n",
      "2021-01-26 09:03:39,418 Train Evaluator INFO: Engine run complete. Time taken: 00:01:08\n",
      "2021-01-26 09:03:39,420 Val Evaluator INFO: Engine run starting with max_epochs=1.\n",
      "2021-01-26 09:04:02,389 Val Evaluator INFO: Epoch[1] Complete. Time taken: 00:00:23\n",
      "2021-01-26 09:04:03,411 Val Evaluator INFO: Engine run complete. Time taken: 00:00:24\n",
      "\u001b[34m\u001b[1mwandb\u001b[0m: \u001b[33mWARNING\u001b[0m Step must only increase in log calls.  Step 82 < 656; dropping {'lr/group_0': 0.001}.\n",
      "2021-01-26 09:04:03,423 Trainer INFO: Epoch[82] Complete. Time taken: 00:02:43\n"
     ]
    },
    {
     "name": "stdout",
     "output_type": "stream",
     "text": [
      "train loss 2.5216005534128425\n",
      "val loss 2.8017326464318923\n",
      "validation roc auc [0.58109453 0.44380734] 82\n",
      "train roc auc [0.83272504 0.58246149] 82\n"
     ]
    },
    {
     "name": "stderr",
     "output_type": "stream",
     "text": [
      "2021-01-26 09:05:17,564 Train Evaluator INFO: Engine run starting with max_epochs=1.\n",
      "2021-01-26 09:06:33,773 Train Evaluator INFO: Epoch[1] Complete. Time taken: 00:01:16\n",
      "2021-01-26 09:06:33,777 Train Evaluator INFO: Engine run complete. Time taken: 00:01:16\n",
      "2021-01-26 09:06:33,779 Val Evaluator INFO: Engine run starting with max_epochs=1.\n",
      "2021-01-26 09:06:58,765 Val Evaluator INFO: Epoch[1] Complete. Time taken: 00:00:25\n",
      "2021-01-26 09:06:58,768 Val Evaluator INFO: Engine run complete. Time taken: 00:00:25\n",
      "\u001b[34m\u001b[1mwandb\u001b[0m: \u001b[33mWARNING\u001b[0m Step must only increase in log calls.  Step 83 < 664; dropping {'lr/group_0': 0.001}.\n",
      "2021-01-26 09:06:58,776 Trainer INFO: Epoch[83] Complete. Time taken: 00:02:55\n"
     ]
    },
    {
     "name": "stdout",
     "output_type": "stream",
     "text": [
      "train loss 1.3563216171493198\n",
      "val loss 2.2057558556271206\n",
      "validation roc auc [0.67960199 0.28363914] 83\n",
      "train roc auc [0.8474035  0.56227861] 83\n"
     ]
    },
    {
     "name": "stderr",
     "output_type": "stream",
     "text": [
      "2021-01-26 09:08:14,710 Train Evaluator INFO: Engine run starting with max_epochs=1.\n",
      "2021-01-26 09:09:28,063 Train Evaluator INFO: Epoch[1] Complete. Time taken: 00:01:13\n",
      "2021-01-26 09:09:28,066 Train Evaluator INFO: Engine run complete. Time taken: 00:01:13\n",
      "2021-01-26 09:09:28,067 Val Evaluator INFO: Engine run starting with max_epochs=1.\n",
      "2021-01-26 09:09:52,328 Val Evaluator INFO: Epoch[1] Complete. Time taken: 00:00:24\n",
      "2021-01-26 09:09:52,331 Val Evaluator INFO: Engine run complete. Time taken: 00:00:24\n",
      "\u001b[34m\u001b[1mwandb\u001b[0m: \u001b[33mWARNING\u001b[0m Step must only increase in log calls.  Step 84 < 672; dropping {'lr/group_0': 0.001}.\n",
      "2021-01-26 09:09:52,340 Trainer INFO: Epoch[84] Complete. Time taken: 00:02:54\n"
     ]
    },
    {
     "name": "stdout",
     "output_type": "stream",
     "text": [
      "train loss 0.7644157686264687\n",
      "val loss 1.3117666540631823\n",
      "validation roc auc [0.62139303 0.36257645] 84\n",
      "train roc auc [0.84506288 0.56849823] 84\n"
     ]
    },
    {
     "name": "stderr",
     "output_type": "stream",
     "text": [
      "2021-01-26 09:11:05,999 Train Evaluator INFO: Engine run starting with max_epochs=1.\n",
      "2021-01-26 09:12:17,274 Train Evaluator INFO: Epoch[1] Complete. Time taken: 00:01:11\n",
      "2021-01-26 09:12:17,283 Train Evaluator INFO: Engine run complete. Time taken: 00:01:11\n",
      "2021-01-26 09:12:17,284 Val Evaluator INFO: Engine run starting with max_epochs=1.\n",
      "2021-01-26 09:12:42,301 Val Evaluator INFO: Epoch[1] Complete. Time taken: 00:00:25\n",
      "2021-01-26 09:12:42,304 Val Evaluator INFO: Engine run complete. Time taken: 00:00:25\n",
      "\u001b[34m\u001b[1mwandb\u001b[0m: \u001b[33mWARNING\u001b[0m Step must only increase in log calls.  Step 85 < 680; dropping {'lr/group_0': 0.001}.\n",
      "2021-01-26 09:12:42,315 Trainer INFO: Epoch[85] Complete. Time taken: 00:02:50\n"
     ]
    },
    {
     "name": "stdout",
     "output_type": "stream",
     "text": [
      "train loss 0.5694975302370026\n",
      "val loss 1.1109301292212905\n",
      "validation roc auc [0.63018242 0.35168196] 85\n",
      "train roc auc [0.84805808 0.56512069] 85\n"
     ]
    },
    {
     "name": "stderr",
     "output_type": "stream",
     "text": [
      "2021-01-26 09:13:52,445 Train Evaluator INFO: Engine run starting with max_epochs=1.\n",
      "2021-01-26 09:15:00,546 Train Evaluator INFO: Epoch[1] Complete. Time taken: 00:01:08\n",
      "2021-01-26 09:15:00,550 Train Evaluator INFO: Engine run complete. Time taken: 00:01:08\n",
      "2021-01-26 09:15:00,551 Val Evaluator INFO: Engine run starting with max_epochs=1.\n",
      "2021-01-26 09:15:24,768 Val Evaluator INFO: Epoch[1] Complete. Time taken: 00:00:24\n",
      "2021-01-26 09:15:24,771 Val Evaluator INFO: Engine run complete. Time taken: 00:00:24\n",
      "\u001b[34m\u001b[1mwandb\u001b[0m: \u001b[33mWARNING\u001b[0m Step must only increase in log calls.  Step 86 < 688; dropping {'lr/group_0': 0.001}.\n",
      "2021-01-26 09:15:24,780 Trainer INFO: Epoch[86] Complete. Time taken: 00:02:42\n"
     ]
    },
    {
     "name": "stdout",
     "output_type": "stream",
     "text": [
      "train loss 0.9160974874995114\n",
      "val loss 1.7083063535629563\n",
      "validation roc auc [0.66865672 0.30389908] 86\n",
      "train roc auc [0.85166819 0.5571711 ] 86\n"
     ]
    },
    {
     "name": "stderr",
     "output_type": "stream",
     "text": [
      "2021-01-26 09:16:30,945 Train Evaluator INFO: Engine run starting with max_epochs=1.\n",
      "2021-01-26 09:17:38,930 Train Evaluator INFO: Epoch[1] Complete. Time taken: 00:01:08\n",
      "2021-01-26 09:17:38,933 Train Evaluator INFO: Engine run complete. Time taken: 00:01:08\n",
      "2021-01-26 09:17:38,935 Val Evaluator INFO: Engine run starting with max_epochs=1.\n",
      "2021-01-26 09:18:02,123 Val Evaluator INFO: Epoch[1] Complete. Time taken: 00:00:23\n",
      "2021-01-26 09:18:02,126 Val Evaluator INFO: Engine run complete. Time taken: 00:00:23\n",
      "\u001b[34m\u001b[1mwandb\u001b[0m: \u001b[33mWARNING\u001b[0m Step must only increase in log calls.  Step 87 < 696; dropping {'lr/group_0': 0.001}.\n",
      "2021-01-26 09:18:02,142 Trainer INFO: Epoch[87] Complete. Time taken: 00:02:37\n"
     ]
    },
    {
     "name": "stdout",
     "output_type": "stream",
     "text": [
      "train loss 0.5522645875519397\n",
      "val loss 1.074346366961291\n",
      "validation roc auc [0.60547264 0.3889526 ] 87\n",
      "train roc auc [0.84694728 0.5646676 ] 87\n"
     ]
    },
    {
     "name": "stderr",
     "output_type": "stream",
     "text": [
      "2021-01-26 09:19:12,770 Train Evaluator INFO: Engine run starting with max_epochs=1.\n",
      "2021-01-26 09:20:27,836 Train Evaluator INFO: Epoch[1] Complete. Time taken: 00:01:15\n",
      "2021-01-26 09:20:27,839 Train Evaluator INFO: Engine run complete. Time taken: 00:01:15\n",
      "2021-01-26 09:20:27,840 Val Evaluator INFO: Engine run starting with max_epochs=1.\n",
      "2021-01-26 09:20:53,401 Val Evaluator INFO: Epoch[1] Complete. Time taken: 00:00:26\n",
      "2021-01-26 09:20:53,405 Val Evaluator INFO: Engine run complete. Time taken: 00:00:26\n",
      "\u001b[34m\u001b[1mwandb\u001b[0m: \u001b[33mWARNING\u001b[0m Step must only increase in log calls.  Step 88 < 704; dropping {'lr/group_0': 0.001}.\n",
      "2021-01-26 09:20:53,415 Trainer INFO: Epoch[88] Complete. Time taken: 00:02:51\n"
     ]
    },
    {
     "name": "stdout",
     "output_type": "stream",
     "text": [
      "train loss 0.5201216202415931\n",
      "val loss 1.2034331203266313\n",
      "validation roc auc [0.62155887 0.36219419] 88\n",
      "train roc auc [0.85087476 0.56058983] 88\n"
     ]
    },
    {
     "name": "stderr",
     "output_type": "stream",
     "text": [
      "2021-01-26 09:22:08,309 Train Evaluator INFO: Engine run starting with max_epochs=1.\n",
      "2021-01-26 09:23:22,201 Train Evaluator INFO: Epoch[1] Complete. Time taken: 00:01:14\n",
      "2021-01-26 09:23:22,204 Train Evaluator INFO: Engine run complete. Time taken: 00:01:14\n",
      "2021-01-26 09:23:22,205 Val Evaluator INFO: Engine run starting with max_epochs=1.\n",
      "2021-01-26 09:23:47,382 Val Evaluator INFO: Epoch[1] Complete. Time taken: 00:00:25\n",
      "2021-01-26 09:23:47,387 Val Evaluator INFO: Engine run complete. Time taken: 00:00:25\n",
      "\u001b[34m\u001b[1mwandb\u001b[0m: \u001b[33mWARNING\u001b[0m Step must only increase in log calls.  Step 89 < 712; dropping {'lr/group_0': 0.001}.\n",
      "2021-01-26 09:23:47,398 Trainer INFO: Epoch[89] Complete. Time taken: 00:02:54\n"
     ]
    },
    {
     "name": "stdout",
     "output_type": "stream",
     "text": [
      "train loss 0.4449825227130732\n",
      "val loss 1.0117311447289339\n",
      "validation roc auc [0.61923715 0.37060398] 89\n",
      "train roc auc [0.85244178 0.55988961] 89\n"
     ]
    },
    {
     "name": "stderr",
     "output_type": "stream",
     "text": [
      "2021-01-26 09:24:58,791 Train Evaluator INFO: Engine run starting with max_epochs=1.\n",
      "2021-01-26 09:26:12,511 Train Evaluator INFO: Epoch[1] Complete. Time taken: 00:01:14\n",
      "2021-01-26 09:26:12,514 Train Evaluator INFO: Engine run complete. Time taken: 00:01:14\n",
      "2021-01-26 09:26:12,516 Val Evaluator INFO: Engine run starting with max_epochs=1.\n",
      "2021-01-26 09:26:24,461 Val Evaluator INFO: Epoch[1] Complete. Time taken: 00:00:12\n",
      "2021-01-26 09:26:24,464 Val Evaluator INFO: Engine run complete. Time taken: 00:00:12\n",
      "\u001b[34m\u001b[1mwandb\u001b[0m: \u001b[33mWARNING\u001b[0m Step must only increase in log calls.  Step 90 < 720; dropping {'lr/group_0': 0.001}.\n",
      "2021-01-26 09:26:24,475 Trainer INFO: Epoch[90] Complete. Time taken: 00:02:37\n"
     ]
    },
    {
     "name": "stdout",
     "output_type": "stream",
     "text": [
      "train loss 0.4531415378216305\n",
      "val loss 0.9134002050776391\n",
      "validation roc auc [0.62106136 0.37633792] 90\n",
      "train roc auc [0.85502043 0.55910701] 90\n"
     ]
    },
    {
     "name": "stderr",
     "output_type": "stream",
     "text": [
      "2021-01-26 09:26:43,057 Train Evaluator INFO: Engine run starting with max_epochs=1.\n",
      "2021-01-26 09:27:00,864 Train Evaluator INFO: Epoch[1] Complete. Time taken: 00:00:18\n",
      "2021-01-26 09:27:00,867 Train Evaluator INFO: Engine run complete. Time taken: 00:00:18\n",
      "2021-01-26 09:27:00,868 Val Evaluator INFO: Engine run starting with max_epochs=1.\n",
      "2021-01-26 09:27:07,420 Val Evaluator INFO: Epoch[1] Complete. Time taken: 00:00:07\n",
      "2021-01-26 09:27:07,425 Val Evaluator INFO: Engine run complete. Time taken: 00:00:07\n",
      "\u001b[34m\u001b[1mwandb\u001b[0m: \u001b[33mWARNING\u001b[0m Step must only increase in log calls.  Step 91 < 728; dropping {'lr/group_0': 0.001}.\n",
      "2021-01-26 09:27:07,437 Trainer INFO: Epoch[91] Complete. Time taken: 00:00:43\n"
     ]
    },
    {
     "name": "stdout",
     "output_type": "stream",
     "text": [
      "train loss 0.47693079515220294\n",
      "val loss 0.8812979581249747\n",
      "validation roc auc [0.63217247 0.367737  ] 91\n",
      "train roc auc [0.85851152 0.55770657] 91\n"
     ]
    },
    {
     "name": "stderr",
     "output_type": "stream",
     "text": [
      "2021-01-26 09:27:26,489 Train Evaluator INFO: Engine run starting with max_epochs=1.\n",
      "2021-01-26 09:27:45,357 Train Evaluator INFO: Epoch[1] Complete. Time taken: 00:00:19\n",
      "2021-01-26 09:27:45,360 Train Evaluator INFO: Engine run complete. Time taken: 00:00:19\n",
      "2021-01-26 09:27:45,362 Val Evaluator INFO: Engine run starting with max_epochs=1.\n",
      "2021-01-26 09:27:51,103 Val Evaluator INFO: Epoch[1] Complete. Time taken: 00:00:06\n",
      "2021-01-26 09:27:51,105 Val Evaluator INFO: Engine run complete. Time taken: 00:00:06\n",
      "\u001b[34m\u001b[1mwandb\u001b[0m: \u001b[33mWARNING\u001b[0m Step must only increase in log calls.  Step 92 < 736; dropping {'lr/group_0': 0.001}.\n",
      "2021-01-26 09:27:51,117 Trainer INFO: Epoch[92] Complete. Time taken: 00:00:44\n"
     ]
    },
    {
     "name": "stdout",
     "output_type": "stream",
     "text": [
      "train loss 0.624814499242633\n",
      "val loss 0.9724904792323993\n",
      "validation roc auc [0.63167496 0.3713685 ] 92\n",
      "train roc auc [0.85976118 0.55770657] 92\n"
     ]
    },
    {
     "name": "stderr",
     "output_type": "stream",
     "text": [
      "2021-01-26 09:28:07,190 Train Evaluator INFO: Engine run starting with max_epochs=1.\n",
      "2021-01-26 09:28:24,253 Train Evaluator INFO: Epoch[1] Complete. Time taken: 00:00:17\n",
      "2021-01-26 09:28:24,257 Train Evaluator INFO: Engine run complete. Time taken: 00:00:17\n",
      "2021-01-26 09:28:24,259 Val Evaluator INFO: Engine run starting with max_epochs=1.\n",
      "2021-01-26 09:28:29,691 Val Evaluator INFO: Epoch[1] Complete. Time taken: 00:00:05\n",
      "2021-01-26 09:28:30,872 Val Evaluator INFO: Engine run complete. Time taken: 00:00:07\n",
      "\u001b[34m\u001b[1mwandb\u001b[0m: \u001b[33mWARNING\u001b[0m Step must only increase in log calls.  Step 93 < 744; dropping {'lr/group_0': 0.001}.\n",
      "2021-01-26 09:28:30,884 Trainer INFO: Epoch[93] Complete. Time taken: 00:00:40\n"
     ]
    },
    {
     "name": "stdout",
     "output_type": "stream",
     "text": [
      "train loss 2.1528738111192625\n",
      "val loss 2.399661041369104\n",
      "validation roc auc [0.59436153 0.42947248] 93\n",
      "train roc auc [0.85313603 0.56553258] 93\n"
     ]
    },
    {
     "name": "stderr",
     "output_type": "stream",
     "text": [
      "2021-01-26 09:28:47,839 Train Evaluator INFO: Engine run starting with max_epochs=1.\n",
      "2021-01-26 09:29:04,341 Train Evaluator INFO: Epoch[1] Complete. Time taken: 00:00:16\n",
      "2021-01-26 09:29:04,344 Train Evaluator INFO: Engine run complete. Time taken: 00:00:17\n",
      "2021-01-26 09:29:04,346 Val Evaluator INFO: Engine run starting with max_epochs=1.\n",
      "2021-01-26 09:29:09,984 Val Evaluator INFO: Epoch[1] Complete. Time taken: 00:00:06\n",
      "2021-01-26 09:29:09,988 Val Evaluator INFO: Engine run complete. Time taken: 00:00:06\n",
      "\u001b[34m\u001b[1mwandb\u001b[0m: \u001b[33mWARNING\u001b[0m Step must only increase in log calls.  Step 94 < 752; dropping {'lr/group_0': 0.001}.\n",
      "2021-01-26 09:29:09,998 Trainer INFO: Epoch[94] Complete. Time taken: 00:00:39\n"
     ]
    },
    {
     "name": "stdout",
     "output_type": "stream",
     "text": [
      "train loss 1.586501252742115\n",
      "val loss 2.300855840087696\n",
      "validation roc auc [0.69817579 0.26548165] 94\n",
      "train roc auc [0.86799302 0.54366093] 94\n"
     ]
    },
    {
     "name": "stderr",
     "output_type": "stream",
     "text": [
      "2021-01-26 09:29:25,119 Train Evaluator INFO: Engine run starting with max_epochs=1.\n",
      "2021-01-26 09:29:41,219 Train Evaluator INFO: Epoch[1] Complete. Time taken: 00:00:16\n",
      "2021-01-26 09:29:41,223 Train Evaluator INFO: Engine run complete. Time taken: 00:00:16\n",
      "2021-01-26 09:29:41,224 Val Evaluator INFO: Engine run starting with max_epochs=1.\n",
      "2021-01-26 09:29:47,355 Val Evaluator INFO: Epoch[1] Complete. Time taken: 00:00:06\n",
      "2021-01-26 09:29:47,357 Val Evaluator INFO: Engine run complete. Time taken: 00:00:06\n",
      "\u001b[34m\u001b[1mwandb\u001b[0m: \u001b[33mWARNING\u001b[0m Step must only increase in log calls.  Step 95 < 760; dropping {'lr/group_0': 0.001}.\n",
      "2021-01-26 09:29:47,369 Trainer INFO: Epoch[95] Complete. Time taken: 00:00:37\n"
     ]
    },
    {
     "name": "stdout",
     "output_type": "stream",
     "text": [
      "train loss 2.626145724377601\n",
      "val loss 3.3795960480999794\n",
      "validation roc auc [0.7053068  0.23069572] 95\n",
      "train roc auc [0.86922283 0.53818272] 95\n"
     ]
    },
    {
     "name": "stderr",
     "output_type": "stream",
     "text": [
      "2021-01-26 09:30:04,085 Train Evaluator INFO: Engine run starting with max_epochs=1.\n",
      "2021-01-26 09:30:19,763 Train Evaluator INFO: Epoch[1] Complete. Time taken: 00:00:16\n",
      "2021-01-26 09:30:19,770 Train Evaluator INFO: Engine run complete. Time taken: 00:00:16\n",
      "2021-01-26 09:30:19,772 Val Evaluator INFO: Engine run starting with max_epochs=1.\n",
      "2021-01-26 09:30:26,161 Val Evaluator INFO: Epoch[1] Complete. Time taken: 00:00:06\n",
      "2021-01-26 09:30:26,164 Val Evaluator INFO: Engine run complete. Time taken: 00:00:06\n",
      "\u001b[34m\u001b[1mwandb\u001b[0m: \u001b[33mWARNING\u001b[0m Step must only increase in log calls.  Step 96 < 768; dropping {'lr/group_0': 0.001}.\n",
      "2021-01-26 09:30:26,175 Trainer INFO: Epoch[96] Complete. Time taken: 00:00:39\n"
     ]
    },
    {
     "name": "stdout",
     "output_type": "stream",
     "text": [
      "train loss 0.9687025497681695\n",
      "val loss 1.7606712936595748\n",
      "validation roc auc [0.59834163 0.33772936] 96\n",
      "train roc auc [0.86118935 0.55288739] 96\n"
     ]
    },
    {
     "name": "stderr",
     "output_type": "stream",
     "text": [
      "2021-01-26 09:30:43,783 Train Evaluator INFO: Engine run starting with max_epochs=1.\n",
      "2021-01-26 09:31:01,004 Train Evaluator INFO: Epoch[1] Complete. Time taken: 00:00:17\n",
      "2021-01-26 09:31:01,007 Train Evaluator INFO: Engine run complete. Time taken: 00:00:17\n",
      "2021-01-26 09:31:01,008 Val Evaluator INFO: Engine run starting with max_epochs=1.\n",
      "2021-01-26 09:31:06,860 Val Evaluator INFO: Epoch[1] Complete. Time taken: 00:00:06\n",
      "2021-01-26 09:31:06,864 Val Evaluator INFO: Engine run complete. Time taken: 00:00:06\n",
      "\u001b[34m\u001b[1mwandb\u001b[0m: \u001b[33mWARNING\u001b[0m Step must only increase in log calls.  Step 97 < 776; dropping {'lr/group_0': 0.001}.\n",
      "2021-01-26 09:31:06,873 Trainer INFO: Epoch[97] Complete. Time taken: 00:00:41\n"
     ]
    },
    {
     "name": "stdout",
     "output_type": "stream",
     "text": [
      "train loss 0.869772092579237\n",
      "val loss 1.6552133643703095\n",
      "validation roc auc [0.59950249 0.32836391] 97\n",
      "train roc auc [0.863768   0.54963341] 97\n"
     ]
    },
    {
     "name": "stderr",
     "output_type": "stream",
     "text": [
      "2021-01-26 09:31:22,491 Train Evaluator INFO: Engine run starting with max_epochs=1.\n",
      "2021-01-26 09:31:37,747 Train Evaluator INFO: Epoch[1] Complete. Time taken: 00:00:15\n",
      "2021-01-26 09:31:37,751 Train Evaluator INFO: Engine run complete. Time taken: 00:00:15\n",
      "2021-01-26 09:31:37,753 Val Evaluator INFO: Engine run starting with max_epochs=1.\n",
      "2021-01-26 09:31:43,134 Val Evaluator INFO: Epoch[1] Complete. Time taken: 00:00:05\n",
      "2021-01-26 09:31:43,137 Val Evaluator INFO: Engine run complete. Time taken: 00:00:05\n",
      "\u001b[34m\u001b[1mwandb\u001b[0m: \u001b[33mWARNING\u001b[0m Step must only increase in log calls.  Step 98 < 784; dropping {'lr/group_0': 0.001}.\n",
      "2021-01-26 09:31:43,148 Trainer INFO: Epoch[98] Complete. Time taken: 00:00:36\n"
     ]
    },
    {
     "name": "stdout",
     "output_type": "stream",
     "text": [
      "train loss 0.5807819801478085\n",
      "val loss 1.2600527986599381\n",
      "validation roc auc [0.61807629 0.31957187] 98\n",
      "train roc auc [0.86961955 0.54547327] 98\n"
     ]
    },
    {
     "name": "stderr",
     "output_type": "stream",
     "text": [
      "2021-01-26 09:32:00,153 Train Evaluator INFO: Engine run starting with max_epochs=1.\n",
      "2021-01-26 09:32:16,143 Train Evaluator INFO: Epoch[1] Complete. Time taken: 00:00:16\n",
      "2021-01-26 09:32:16,146 Train Evaluator INFO: Engine run complete. Time taken: 00:00:16\n",
      "2021-01-26 09:32:16,147 Val Evaluator INFO: Engine run starting with max_epochs=1.\n",
      "2021-01-26 09:32:22,047 Val Evaluator INFO: Epoch[1] Complete. Time taken: 00:00:06\n",
      "2021-01-26 09:32:22,050 Val Evaluator INFO: Engine run complete. Time taken: 00:00:06\n",
      "\u001b[34m\u001b[1mwandb\u001b[0m: \u001b[33mWARNING\u001b[0m Step must only increase in log calls.  Step 99 < 792; dropping {'lr/group_0': 0.001}.\n",
      "2021-01-26 09:32:22,059 Trainer INFO: Epoch[99] Complete. Time taken: 00:00:39\n"
     ]
    },
    {
     "name": "stdout",
     "output_type": "stream",
     "text": [
      "train loss 0.4543105258661158\n",
      "val loss 1.0284771129583856\n",
      "validation roc auc [0.6291874  0.33161315] 99\n",
      "train roc auc [0.87384457 0.54259   ] 99\n"
     ]
    },
    {
     "name": "stderr",
     "output_type": "stream",
     "text": [
      "2021-01-26 09:32:38,813 Train Evaluator INFO: Engine run starting with max_epochs=1.\n",
      "2021-01-26 09:32:55,268 Train Evaluator INFO: Epoch[1] Complete. Time taken: 00:00:16\n",
      "2021-01-26 09:32:55,271 Train Evaluator INFO: Engine run complete. Time taken: 00:00:16\n",
      "2021-01-26 09:32:55,273 Val Evaluator INFO: Engine run starting with max_epochs=1.\n",
      "2021-01-26 09:33:01,987 Val Evaluator INFO: Epoch[1] Complete. Time taken: 00:00:07\n",
      "2021-01-26 09:33:01,990 Val Evaluator INFO: Engine run complete. Time taken: 00:00:07\n",
      "\u001b[34m\u001b[1mwandb\u001b[0m: \u001b[33mWARNING\u001b[0m Step must only increase in log calls.  Step 100 < 800; dropping {'lr/group_0': 0.001}.\n",
      "2021-01-26 09:33:01,999 Trainer INFO: Epoch[100] Complete. Time taken: 00:00:40\n"
     ]
    },
    {
     "name": "stdout",
     "output_type": "stream",
     "text": [
      "train loss 0.4209285594019755\n",
      "val loss 0.9091158258687159\n",
      "validation roc auc [0.63499171 0.34862385] 100\n",
      "train roc auc [0.87646289 0.54040695] 100\n"
     ]
    },
    {
     "name": "stderr",
     "output_type": "stream",
     "text": [
      "2021-01-26 09:33:20,490 Train Evaluator INFO: Engine run starting with max_epochs=1.\n",
      "2021-01-26 09:33:40,798 Train Evaluator INFO: Epoch[1] Complete. Time taken: 00:00:20\n",
      "2021-01-26 09:33:40,801 Train Evaluator INFO: Engine run complete. Time taken: 00:00:20\n",
      "2021-01-26 09:33:40,802 Val Evaluator INFO: Engine run starting with max_epochs=1.\n",
      "2021-01-26 09:33:47,563 Val Evaluator INFO: Epoch[1] Complete. Time taken: 00:00:07\n",
      "2021-01-26 09:33:47,566 Val Evaluator INFO: Engine run complete. Time taken: 00:00:07\n",
      "\u001b[34m\u001b[1mwandb\u001b[0m: \u001b[33mWARNING\u001b[0m Step must only increase in log calls.  Step 101 < 808; dropping {'lr/group_0': 0.001}.\n",
      "2021-01-26 09:33:47,575 Trainer INFO: Epoch[101] Complete. Time taken: 00:00:46\n"
     ]
    },
    {
     "name": "stdout",
     "output_type": "stream",
     "text": [
      "train loss 0.4082850041862147\n",
      "val loss 0.8159949153092256\n",
      "validation roc auc [0.6331675  0.36295872] 101\n",
      "train roc auc [0.87820843 0.53978911] 101\n"
     ]
    },
    {
     "name": "stderr",
     "output_type": "stream",
     "text": [
      "2021-01-26 09:34:07,620 Train Evaluator INFO: Engine run starting with max_epochs=1.\n",
      "2021-01-26 09:34:28,605 Train Evaluator INFO: Epoch[1] Complete. Time taken: 00:00:21\n",
      "2021-01-26 09:34:28,611 Train Evaluator INFO: Engine run complete. Time taken: 00:00:21\n",
      "2021-01-26 09:34:28,612 Val Evaluator INFO: Engine run starting with max_epochs=1.\n",
      "2021-01-26 09:34:34,654 Val Evaluator INFO: Epoch[1] Complete. Time taken: 00:00:06\n",
      "2021-01-26 09:34:35,756 Val Evaluator INFO: Engine run complete. Time taken: 00:00:07\n",
      "\u001b[34m\u001b[1mwandb\u001b[0m: \u001b[33mWARNING\u001b[0m Step must only increase in log calls.  Step 102 < 816; dropping {'lr/group_0': 0.001}.\n",
      "2021-01-26 09:34:35,768 Trainer INFO: Epoch[102] Complete. Time taken: 00:00:48\n"
     ]
    },
    {
     "name": "stdout",
     "output_type": "stream",
     "text": [
      "train loss 0.4862576071213533\n",
      "val loss 0.7981909016135392\n",
      "validation roc auc [0.62338308 0.38780581] 102\n",
      "train roc auc [0.87761336 0.5406129 ] 102\n"
     ]
    },
    {
     "name": "stderr",
     "output_type": "stream",
     "text": [
      "2021-01-26 09:34:55,042 Train Evaluator INFO: Engine run starting with max_epochs=1.\n",
      "2021-01-26 09:35:14,610 Train Evaluator INFO: Epoch[1] Complete. Time taken: 00:00:20\n",
      "2021-01-26 09:35:14,613 Train Evaluator INFO: Engine run complete. Time taken: 00:00:20\n",
      "2021-01-26 09:35:14,614 Val Evaluator INFO: Engine run starting with max_epochs=1.\n",
      "2021-01-26 09:35:21,703 Val Evaluator INFO: Epoch[1] Complete. Time taken: 00:00:07\n",
      "2021-01-26 09:35:21,704 Val Evaluator INFO: Engine run complete. Time taken: 00:00:07\n",
      "\u001b[34m\u001b[1mwandb\u001b[0m: \u001b[33mWARNING\u001b[0m Step must only increase in log calls.  Step 103 < 824; dropping {'lr/group_0': 0.001}.\n",
      "2021-01-26 09:35:21,713 Trainer INFO: Epoch[103] Complete. Time taken: 00:00:46\n"
     ]
    },
    {
     "name": "stdout",
     "output_type": "stream",
     "text": [
      "train loss 0.425622065147803\n",
      "val loss 0.8556866418024537\n",
      "validation roc auc [0.64610282 0.35110856] 103\n",
      "train roc auc [0.88233427 0.53418733] 103\n"
     ]
    },
    {
     "name": "stderr",
     "output_type": "stream",
     "text": [
      "2021-01-26 09:35:41,332 Train Evaluator INFO: Engine run starting with max_epochs=1.\n",
      "2021-01-26 09:36:00,975 Train Evaluator INFO: Epoch[1] Complete. Time taken: 00:00:20\n",
      "2021-01-26 09:36:00,978 Train Evaluator INFO: Engine run complete. Time taken: 00:00:20\n",
      "2021-01-26 09:36:00,980 Val Evaluator INFO: Engine run starting with max_epochs=1.\n",
      "2021-01-26 09:36:07,341 Val Evaluator INFO: Epoch[1] Complete. Time taken: 00:00:06\n",
      "2021-01-26 09:36:07,345 Val Evaluator INFO: Engine run complete. Time taken: 00:00:06\n",
      "\u001b[34m\u001b[1mwandb\u001b[0m: \u001b[33mWARNING\u001b[0m Step must only increase in log calls.  Step 104 < 832; dropping {'lr/group_0': 0.001}.\n",
      "2021-01-26 09:36:07,356 Trainer INFO: Epoch[104] Complete. Time taken: 00:00:46\n"
     ]
    },
    {
     "name": "stdout",
     "output_type": "stream",
     "text": [
      "train loss 0.40871724888909616\n",
      "val loss 0.8219762615337494\n",
      "validation roc auc [0.63930348 0.35646024] 104\n",
      "train roc auc [0.88328639 0.53249856] 104\n"
     ]
    },
    {
     "name": "stderr",
     "output_type": "stream",
     "text": [
      "2021-01-26 09:36:27,916 Train Evaluator INFO: Engine run starting with max_epochs=1.\n",
      "2021-01-26 09:36:46,925 Train Evaluator INFO: Epoch[1] Complete. Time taken: 00:00:19\n",
      "2021-01-26 09:36:46,928 Train Evaluator INFO: Engine run complete. Time taken: 00:00:19\n",
      "2021-01-26 09:36:46,930 Val Evaluator INFO: Engine run starting with max_epochs=1.\n",
      "2021-01-26 09:36:53,070 Val Evaluator INFO: Epoch[1] Complete. Time taken: 00:00:06\n",
      "2021-01-26 09:36:53,073 Val Evaluator INFO: Engine run complete. Time taken: 00:00:06\n",
      "\u001b[34m\u001b[1mwandb\u001b[0m: \u001b[33mWARNING\u001b[0m Step must only increase in log calls.  Step 105 < 840; dropping {'lr/group_0': 0.001}.\n",
      "2021-01-26 09:36:53,082 Trainer INFO: Epoch[105] Complete. Time taken: 00:00:46\n"
     ]
    },
    {
     "name": "stdout",
     "output_type": "stream",
     "text": [
      "train loss 0.7067874279157269\n",
      "val loss 1.2403900714436913\n",
      "validation roc auc [0.66882255 0.31594037] 105\n",
      "train roc auc [0.8880073  0.52318972] 105\n"
     ]
    },
    {
     "name": "stderr",
     "output_type": "stream",
     "text": [
      "2021-01-26 09:37:12,625 Train Evaluator INFO: Engine run starting with max_epochs=1.\n",
      "2021-01-26 09:37:31,456 Train Evaluator INFO: Epoch[1] Complete. Time taken: 00:00:19\n",
      "2021-01-26 09:37:31,460 Train Evaluator INFO: Engine run complete. Time taken: 00:00:19\n",
      "2021-01-26 09:37:31,462 Val Evaluator INFO: Engine run starting with max_epochs=1.\n",
      "2021-01-26 09:37:37,620 Val Evaluator INFO: Epoch[1] Complete. Time taken: 00:00:06\n",
      "2021-01-26 09:37:38,702 Val Evaluator INFO: Engine run complete. Time taken: 00:00:07\n",
      "\u001b[34m\u001b[1mwandb\u001b[0m: \u001b[33mWARNING\u001b[0m Step must only increase in log calls.  Step 106 < 848; dropping {'lr/group_0': 0.001}.\n",
      "2021-01-26 09:37:38,714 Trainer INFO: Epoch[106] Complete. Time taken: 00:00:46\n"
     ]
    },
    {
     "name": "stdout",
     "output_type": "stream",
     "text": [
      "train loss 0.980130716866138\n",
      "val loss 1.2723460645432685\n",
      "validation roc auc [0.60066335 0.41838685] 106\n",
      "train roc auc [0.87896219 0.53595848] 106\n"
     ]
    },
    {
     "name": "stderr",
     "output_type": "stream",
     "text": [
      "2021-01-26 09:37:56,919 Train Evaluator INFO: Engine run starting with max_epochs=1.\n",
      "2021-01-26 09:38:16,166 Train Evaluator INFO: Epoch[1] Complete. Time taken: 00:00:19\n",
      "2021-01-26 09:38:16,169 Train Evaluator INFO: Engine run complete. Time taken: 00:00:19\n",
      "2021-01-26 09:38:16,171 Val Evaluator INFO: Engine run starting with max_epochs=1.\n",
      "2021-01-26 09:38:22,961 Val Evaluator INFO: Epoch[1] Complete. Time taken: 00:00:07\n",
      "2021-01-26 09:38:22,964 Val Evaluator INFO: Engine run complete. Time taken: 00:00:07\n",
      "\u001b[34m\u001b[1mwandb\u001b[0m: \u001b[33mWARNING\u001b[0m Step must only increase in log calls.  Step 107 < 856; dropping {'lr/group_0': 0.001}.\n",
      "2021-01-26 09:38:22,977 Trainer INFO: Epoch[107] Complete. Time taken: 00:00:44\n"
     ]
    },
    {
     "name": "stdout",
     "output_type": "stream",
     "text": [
      "train loss 0.413932286641177\n",
      "val loss 0.8960829001323433\n",
      "validation roc auc [0.62039801 0.36047401] 107\n",
      "train roc auc [0.88558734 0.52590823] 107\n"
     ]
    },
    {
     "name": "stderr",
     "output_type": "stream",
     "text": [
      "2021-01-26 09:38:41,695 Train Evaluator INFO: Engine run starting with max_epochs=1.\n",
      "2021-01-26 09:38:59,962 Train Evaluator INFO: Epoch[1] Complete. Time taken: 00:00:18\n",
      "2021-01-26 09:38:59,965 Train Evaluator INFO: Engine run complete. Time taken: 00:00:18\n",
      "2021-01-26 09:38:59,967 Val Evaluator INFO: Engine run starting with max_epochs=1.\n",
      "2021-01-26 09:39:06,763 Val Evaluator INFO: Epoch[1] Complete. Time taken: 00:00:07\n",
      "2021-01-26 09:39:06,765 Val Evaluator INFO: Engine run complete. Time taken: 00:00:07\n",
      "\u001b[34m\u001b[1mwandb\u001b[0m: \u001b[33mWARNING\u001b[0m Step must only increase in log calls.  Step 108 < 864; dropping {'lr/group_0': 0.001}.\n",
      "2021-01-26 09:39:06,775 Trainer INFO: Epoch[108] Complete. Time taken: 00:00:44\n"
     ]
    },
    {
     "name": "stdout",
     "output_type": "stream",
     "text": [
      "train loss 0.5607636864408688\n",
      "val loss 1.1618415663956077\n",
      "validation roc auc [0.62719735 0.33887615] 108\n",
      "train roc auc [0.88895942 0.51919433] 108\n"
     ]
    },
    {
     "name": "stderr",
     "output_type": "stream",
     "text": [
      "2021-01-26 09:39:25,169 Train Evaluator INFO: Engine run starting with max_epochs=1.\n",
      "2021-01-26 09:39:44,849 Train Evaluator INFO: Epoch[1] Complete. Time taken: 00:00:20\n",
      "2021-01-26 09:39:44,853 Train Evaluator INFO: Engine run complete. Time taken: 00:00:20\n",
      "2021-01-26 09:39:44,855 Val Evaluator INFO: Engine run starting with max_epochs=1.\n",
      "2021-01-26 09:39:50,739 Val Evaluator INFO: Epoch[1] Complete. Time taken: 00:00:06\n",
      "2021-01-26 09:39:50,743 Val Evaluator INFO: Engine run complete. Time taken: 00:00:06\n",
      "\u001b[34m\u001b[1mwandb\u001b[0m: \u001b[33mWARNING\u001b[0m Step must only increase in log calls.  Step 109 < 872; dropping {'lr/group_0': 0.001}.\n",
      "2021-01-26 09:39:50,754 Trainer INFO: Epoch[109] Complete. Time taken: 00:00:44\n"
     ]
    },
    {
     "name": "stdout",
     "output_type": "stream",
     "text": [
      "train loss 0.427931429773634\n",
      "val loss 0.8764921491313132\n",
      "validation roc auc [0.6026534  0.38933486] 109\n",
      "train roc auc [0.88594438 0.5228602 ] 109\n"
     ]
    },
    {
     "name": "stderr",
     "output_type": "stream",
     "text": [
      "2021-01-26 09:40:09,121 Train Evaluator INFO: Engine run starting with max_epochs=1.\n",
      "2021-01-26 09:40:27,170 Train Evaluator INFO: Epoch[1] Complete. Time taken: 00:00:18\n",
      "2021-01-26 09:40:27,173 Train Evaluator INFO: Engine run complete. Time taken: 00:00:18\n",
      "2021-01-26 09:40:27,175 Val Evaluator INFO: Engine run starting with max_epochs=1.\n",
      "2021-01-26 09:40:34,343 Val Evaluator INFO: Epoch[1] Complete. Time taken: 00:00:07\n",
      "2021-01-26 09:40:34,346 Val Evaluator INFO: Engine run complete. Time taken: 00:00:07\n",
      "\u001b[34m\u001b[1mwandb\u001b[0m: \u001b[33mWARNING\u001b[0m Step must only increase in log calls.  Step 110 < 880; dropping {'lr/group_0': 0.001}.\n",
      "2021-01-26 09:40:34,375 Trainer INFO: Epoch[110] Complete. Time taken: 00:00:44\n"
     ]
    },
    {
     "name": "stdout",
     "output_type": "stream",
     "text": [
      "train loss 0.5100731537362849\n",
      "val loss 0.8811667326149667\n",
      "validation roc auc [0.60696517 0.39545107] 110\n",
      "train roc auc [0.88842385 0.52162452] 110\n"
     ]
    },
    {
     "name": "stderr",
     "output_type": "stream",
     "text": [
      "2021-01-26 09:40:52,042 Train Evaluator INFO: Engine run starting with max_epochs=1.\n",
      "2021-01-26 09:41:09,456 Train Evaluator INFO: Epoch[1] Complete. Time taken: 00:00:17\n",
      "2021-01-26 09:41:09,461 Train Evaluator INFO: Engine run complete. Time taken: 00:00:17\n",
      "2021-01-26 09:41:09,462 Val Evaluator INFO: Engine run starting with max_epochs=1.\n",
      "2021-01-26 09:41:15,147 Val Evaluator INFO: Epoch[1] Complete. Time taken: 00:00:06\n",
      "2021-01-26 09:41:15,150 Val Evaluator INFO: Engine run complete. Time taken: 00:00:06\n",
      "\u001b[34m\u001b[1mwandb\u001b[0m: \u001b[33mWARNING\u001b[0m Step must only increase in log calls.  Step 111 < 888; dropping {'lr/group_0': 0.001}.\n",
      "2021-01-26 09:41:15,160 Trainer INFO: Epoch[111] Complete. Time taken: 00:00:41\n"
     ]
    },
    {
     "name": "stdout",
     "output_type": "stream",
     "text": [
      "train loss 0.4079604268333751\n",
      "val loss 0.8178016710433231\n",
      "validation roc auc [0.63532338 0.35129969] 111\n",
      "train roc auc [0.90258658 0.49979405] 111\n"
     ]
    },
    {
     "name": "stderr",
     "output_type": "stream",
     "text": [
      "2021-01-26 09:41:33,371 Train Evaluator INFO: Engine run starting with max_epochs=1.\n",
      "2021-01-26 09:41:50,549 Train Evaluator INFO: Epoch[1] Complete. Time taken: 00:00:17\n",
      "2021-01-26 09:41:50,552 Train Evaluator INFO: Engine run complete. Time taken: 00:00:17\n",
      "2021-01-26 09:41:50,553 Val Evaluator INFO: Engine run starting with max_epochs=1.\n",
      "2021-01-26 09:41:56,509 Val Evaluator INFO: Epoch[1] Complete. Time taken: 00:00:06\n",
      "2021-01-26 09:41:56,513 Val Evaluator INFO: Engine run complete. Time taken: 00:00:06\n",
      "\u001b[34m\u001b[1mwandb\u001b[0m: \u001b[33mWARNING\u001b[0m Step must only increase in log calls.  Step 112 < 896; dropping {'lr/group_0': 0.001}.\n",
      "2021-01-26 09:41:56,526 Trainer INFO: Epoch[112] Complete. Time taken: 00:00:41\n"
     ]
    },
    {
     "name": "stdout",
     "output_type": "stream",
     "text": [
      "train loss 7.787373700692503\n",
      "val loss 6.112421728243493\n",
      "validation roc auc [0.42819237 0.44285168] 112\n",
      "train roc auc [0.70924743 0.54444353] 112\n"
     ]
    },
    {
     "name": "stderr",
     "output_type": "stream",
     "text": [
      "2021-01-26 09:42:13,482 Train Evaluator INFO: Engine run starting with max_epochs=1.\n",
      "2021-01-26 09:42:29,008 Train Evaluator INFO: Epoch[1] Complete. Time taken: 00:00:16\n",
      "2021-01-26 09:42:29,011 Train Evaluator INFO: Engine run complete. Time taken: 00:00:16\n",
      "2021-01-26 09:42:29,013 Val Evaluator INFO: Engine run starting with max_epochs=1.\n",
      "2021-01-26 09:42:34,547 Val Evaluator INFO: Epoch[1] Complete. Time taken: 00:00:06\n",
      "2021-01-26 09:42:34,551 Val Evaluator INFO: Engine run complete. Time taken: 00:00:06\n",
      "\u001b[34m\u001b[1mwandb\u001b[0m: \u001b[33mWARNING\u001b[0m Step must only increase in log calls.  Step 113 < 904; dropping {'lr/group_0': 0.001}.\n",
      "2021-01-26 09:42:34,560 Trainer INFO: Epoch[113] Complete. Time taken: 00:00:38\n"
     ]
    },
    {
     "name": "stdout",
     "output_type": "stream",
     "text": [
      "train loss 0.6989392947267603\n",
      "val loss 0.698805350406914\n",
      "validation roc auc [0.5 0.5] 113\n",
      "train roc auc [0.50180505 0.50125628] 113\n"
     ]
    },
    {
     "name": "stderr",
     "output_type": "stream",
     "text": [
      "2021-01-26 09:42:51,342 Train Evaluator INFO: Engine run starting with max_epochs=1.\n",
      "2021-01-26 09:43:09,435 Train Evaluator INFO: Epoch[1] Complete. Time taken: 00:00:18\n",
      "2021-01-26 09:43:09,438 Train Evaluator INFO: Engine run complete. Time taken: 00:00:18\n",
      "2021-01-26 09:43:09,439 Val Evaluator INFO: Engine run starting with max_epochs=1.\n",
      "2021-01-26 09:43:14,774 Val Evaluator INFO: Epoch[1] Complete. Time taken: 00:00:05\n",
      "2021-01-26 09:43:14,777 Val Evaluator INFO: Engine run complete. Time taken: 00:00:05\n",
      "\u001b[34m\u001b[1mwandb\u001b[0m: \u001b[33mWARNING\u001b[0m Step must only increase in log calls.  Step 114 < 912; dropping {'lr/group_0': 0.001}.\n",
      "2021-01-26 09:43:14,786 Trainer INFO: Epoch[114] Complete. Time taken: 00:00:40\n"
     ]
    },
    {
     "name": "stdout",
     "output_type": "stream",
     "text": [
      "train loss 0.6943766729244739\n",
      "val loss 0.6966592077237026\n",
      "validation roc auc [0.5 0.5] 114\n",
      "train roc auc [0.5 0.5] 114\n"
     ]
    },
    {
     "name": "stderr",
     "output_type": "stream",
     "text": [
      "2021-01-26 09:43:31,038 Train Evaluator INFO: Engine run starting with max_epochs=1.\n",
      "2021-01-26 09:43:47,730 Train Evaluator INFO: Epoch[1] Complete. Time taken: 00:00:17\n",
      "2021-01-26 09:43:47,734 Train Evaluator INFO: Engine run complete. Time taken: 00:00:17\n",
      "2021-01-26 09:43:47,736 Val Evaluator INFO: Engine run starting with max_epochs=1.\n",
      "2021-01-26 09:43:53,846 Val Evaluator INFO: Epoch[1] Complete. Time taken: 00:00:06\n",
      "2021-01-26 09:43:53,850 Val Evaluator INFO: Engine run complete. Time taken: 00:00:06\n",
      "\u001b[34m\u001b[1mwandb\u001b[0m: \u001b[33mWARNING\u001b[0m Step must only increase in log calls.  Step 115 < 920; dropping {'lr/group_0': 0.001}.\n",
      "2021-01-26 09:43:53,860 Trainer INFO: Epoch[115] Complete. Time taken: 00:00:39\n"
     ]
    },
    {
     "name": "stdout",
     "output_type": "stream",
     "text": [
      "train loss 0.6889706468270496\n",
      "val loss 0.6942215652982141\n",
      "validation roc auc [0.5 0.5] 115\n",
      "train roc auc [0.5 0.5] 115\n"
     ]
    },
    {
     "name": "stderr",
     "output_type": "stream",
     "text": [
      "2021-01-26 09:44:11,279 Train Evaluator INFO: Engine run starting with max_epochs=1.\n",
      "2021-01-26 09:44:27,560 Train Evaluator INFO: Epoch[1] Complete. Time taken: 00:00:16\n",
      "2021-01-26 09:44:27,564 Train Evaluator INFO: Engine run complete. Time taken: 00:00:16\n",
      "2021-01-26 09:44:27,566 Val Evaluator INFO: Engine run starting with max_epochs=1.\n",
      "2021-01-26 09:44:33,303 Val Evaluator INFO: Epoch[1] Complete. Time taken: 00:00:06\n",
      "2021-01-26 09:44:33,307 Val Evaluator INFO: Engine run complete. Time taken: 00:00:06\n",
      "\u001b[34m\u001b[1mwandb\u001b[0m: \u001b[33mWARNING\u001b[0m Step must only increase in log calls.  Step 116 < 928; dropping {'lr/group_0': 0.001}.\n",
      "2021-01-26 09:44:33,317 Trainer INFO: Epoch[116] Complete. Time taken: 00:00:39\n"
     ]
    },
    {
     "name": "stdout",
     "output_type": "stream",
     "text": [
      "train loss 0.6829403760905879\n",
      "val loss 0.6915983003415879\n",
      "validation roc auc [0.5 0.5] 116\n",
      "train roc auc [0.5 0.5] 116\n"
     ]
    },
    {
     "name": "stderr",
     "output_type": "stream",
     "text": [
      "2021-01-26 09:44:48,892 Train Evaluator INFO: Engine run starting with max_epochs=1.\n",
      "2021-01-26 09:45:04,456 Train Evaluator INFO: Epoch[1] Complete. Time taken: 00:00:16\n",
      "2021-01-26 09:45:04,459 Train Evaluator INFO: Engine run complete. Time taken: 00:00:16\n",
      "2021-01-26 09:45:04,460 Val Evaluator INFO: Engine run starting with max_epochs=1.\n",
      "2021-01-26 09:45:10,321 Val Evaluator INFO: Epoch[1] Complete. Time taken: 00:00:06\n",
      "2021-01-26 09:45:10,324 Val Evaluator INFO: Engine run complete. Time taken: 00:00:06\n",
      "\u001b[34m\u001b[1mwandb\u001b[0m: \u001b[33mWARNING\u001b[0m Step must only increase in log calls.  Step 117 < 936; dropping {'lr/group_0': 0.001}.\n",
      "2021-01-26 09:45:10,334 Trainer INFO: Epoch[117] Complete. Time taken: 00:00:37\n"
     ]
    },
    {
     "name": "stdout",
     "output_type": "stream",
     "text": [
      "train loss 0.6760698086815462\n",
      "val loss 0.6886505560510477\n",
      "validation roc auc [0.5 0.5] 117\n",
      "train roc auc [0.5 0.5] 117\n"
     ]
    },
    {
     "name": "stderr",
     "output_type": "stream",
     "text": [
      "2021-01-26 09:45:26,281 Train Evaluator INFO: Engine run starting with max_epochs=1.\n",
      "2021-01-26 09:45:41,736 Train Evaluator INFO: Epoch[1] Complete. Time taken: 00:00:15\n",
      "2021-01-26 09:45:41,739 Train Evaluator INFO: Engine run complete. Time taken: 00:00:15\n",
      "2021-01-26 09:45:41,741 Val Evaluator INFO: Engine run starting with max_epochs=1.\n",
      "2021-01-26 09:45:47,762 Val Evaluator INFO: Epoch[1] Complete. Time taken: 00:00:06\n",
      "2021-01-26 09:45:47,766 Val Evaluator INFO: Engine run complete. Time taken: 00:00:06\n",
      "\u001b[34m\u001b[1mwandb\u001b[0m: \u001b[33mWARNING\u001b[0m Step must only increase in log calls.  Step 118 < 944; dropping {'lr/group_0': 0.001}.\n",
      "2021-01-26 09:45:47,777 Trainer INFO: Epoch[118] Complete. Time taken: 00:00:37\n"
     ]
    },
    {
     "name": "stdout",
     "output_type": "stream",
     "text": [
      "train loss 0.6682562842348302\n",
      "val loss 0.6854209174775774\n",
      "validation roc auc [0.5 0.5] 118\n",
      "train roc auc [0.5 0.5] 118\n"
     ]
    },
    {
     "name": "stderr",
     "output_type": "stream",
     "text": [
      "2021-01-26 09:46:04,787 Train Evaluator INFO: Engine run starting with max_epochs=1.\n",
      "2021-01-26 09:46:21,934 Train Evaluator INFO: Epoch[1] Complete. Time taken: 00:00:17\n",
      "2021-01-26 09:46:21,937 Train Evaluator INFO: Engine run complete. Time taken: 00:00:17\n",
      "2021-01-26 09:46:21,938 Val Evaluator INFO: Engine run starting with max_epochs=1.\n",
      "2021-01-26 09:46:26,785 Val Evaluator INFO: Epoch[1] Complete. Time taken: 00:00:05\n",
      "2021-01-26 09:46:26,787 Val Evaluator INFO: Engine run complete. Time taken: 00:00:05\n",
      "\u001b[34m\u001b[1mwandb\u001b[0m: \u001b[33mWARNING\u001b[0m Step must only increase in log calls.  Step 119 < 952; dropping {'lr/group_0': 0.001}.\n",
      "2021-01-26 09:46:26,798 Trainer INFO: Epoch[119] Complete. Time taken: 00:00:39\n"
     ]
    },
    {
     "name": "stdout",
     "output_type": "stream",
     "text": [
      "train loss 0.6596927788262793\n",
      "val loss 0.6821289070092948\n",
      "validation roc auc [0.5 0.5] 119\n",
      "train roc auc [0.5 0.5] 119\n"
     ]
    },
    {
     "name": "stderr",
     "output_type": "stream",
     "text": [
      "2021-01-26 09:46:43,043 Train Evaluator INFO: Engine run starting with max_epochs=1.\n",
      "2021-01-26 09:46:58,435 Train Evaluator INFO: Epoch[1] Complete. Time taken: 00:00:15\n",
      "2021-01-26 09:46:58,439 Train Evaluator INFO: Engine run complete. Time taken: 00:00:15\n",
      "2021-01-26 09:46:58,440 Val Evaluator INFO: Engine run starting with max_epochs=1.\n",
      "2021-01-26 09:47:04,770 Val Evaluator INFO: Epoch[1] Complete. Time taken: 00:00:06\n",
      "2021-01-26 09:47:04,774 Val Evaluator INFO: Engine run complete. Time taken: 00:00:06\n",
      "\u001b[34m\u001b[1mwandb\u001b[0m: \u001b[33mWARNING\u001b[0m Step must only increase in log calls.  Step 120 < 960; dropping {'lr/group_0': 0.001}.\n",
      "2021-01-26 09:47:04,784 Trainer INFO: Epoch[120] Complete. Time taken: 00:00:38\n"
     ]
    },
    {
     "name": "stdout",
     "output_type": "stream",
     "text": [
      "train loss 0.6500162806905693\n",
      "val loss 0.6787905825930796\n",
      "validation roc auc [0.5 0.5] 120\n",
      "train roc auc [0.5 0.5] 120\n"
     ]
    },
    {
     "name": "stderr",
     "output_type": "stream",
     "text": [
      "2021-01-26 09:47:24,088 Train Evaluator INFO: Engine run starting with max_epochs=1.\n",
      "2021-01-26 09:47:43,123 Train Evaluator INFO: Epoch[1] Complete. Time taken: 00:00:19\n",
      "2021-01-26 09:47:43,127 Train Evaluator INFO: Engine run complete. Time taken: 00:00:19\n",
      "2021-01-26 09:47:43,128 Val Evaluator INFO: Engine run starting with max_epochs=1.\n",
      "2021-01-26 09:47:49,876 Val Evaluator INFO: Epoch[1] Complete. Time taken: 00:00:07\n",
      "2021-01-26 09:47:49,879 Val Evaluator INFO: Engine run complete. Time taken: 00:00:07\n",
      "\u001b[34m\u001b[1mwandb\u001b[0m: \u001b[33mWARNING\u001b[0m Step must only increase in log calls.  Step 121 < 968; dropping {'lr/group_0': 0.001}.\n",
      "2021-01-26 09:47:49,889 Trainer INFO: Epoch[121] Complete. Time taken: 00:00:45\n"
     ]
    },
    {
     "name": "stdout",
     "output_type": "stream",
     "text": [
      "train loss 0.6397793848789856\n",
      "val loss 0.6755709310246122\n",
      "validation roc auc [0.5 0.5] 121\n",
      "train roc auc [0.5 0.5] 121\n"
     ]
    },
    {
     "name": "stderr",
     "output_type": "stream",
     "text": [
      "2021-01-26 09:48:09,070 Train Evaluator INFO: Engine run starting with max_epochs=1.\n",
      "2021-01-26 09:48:29,283 Train Evaluator INFO: Epoch[1] Complete. Time taken: 00:00:20\n",
      "2021-01-26 09:48:29,286 Train Evaluator INFO: Engine run complete. Time taken: 00:00:20\n",
      "2021-01-26 09:48:29,288 Val Evaluator INFO: Engine run starting with max_epochs=1.\n",
      "2021-01-26 09:48:36,856 Val Evaluator INFO: Epoch[1] Complete. Time taken: 00:00:08\n",
      "2021-01-26 09:48:36,858 Val Evaluator INFO: Engine run complete. Time taken: 00:00:08\n",
      "\u001b[34m\u001b[1mwandb\u001b[0m: \u001b[33mWARNING\u001b[0m Step must only increase in log calls.  Step 122 < 976; dropping {'lr/group_0': 0.001}.\n",
      "2021-01-26 09:48:36,868 Trainer INFO: Epoch[122] Complete. Time taken: 00:00:47\n"
     ]
    },
    {
     "name": "stdout",
     "output_type": "stream",
     "text": [
      "train loss 0.6287761950025371\n",
      "val loss 0.6726795135030321\n",
      "validation roc auc [0.5 0.5] 122\n",
      "train roc auc [0.5 0.5] 122\n"
     ]
    },
    {
     "name": "stderr",
     "output_type": "stream",
     "text": [
      "2021-01-26 09:48:55,673 Train Evaluator INFO: Engine run starting with max_epochs=1.\n",
      "2021-01-26 09:49:15,776 Train Evaluator INFO: Epoch[1] Complete. Time taken: 00:00:20\n",
      "2021-01-26 09:49:15,780 Train Evaluator INFO: Engine run complete. Time taken: 00:00:20\n",
      "2021-01-26 09:49:15,781 Val Evaluator INFO: Engine run starting with max_epochs=1.\n",
      "2021-01-26 09:49:22,483 Val Evaluator INFO: Epoch[1] Complete. Time taken: 00:00:07\n",
      "2021-01-26 09:49:22,487 Val Evaluator INFO: Engine run complete. Time taken: 00:00:07\n",
      "\u001b[34m\u001b[1mwandb\u001b[0m: \u001b[33mWARNING\u001b[0m Step must only increase in log calls.  Step 123 < 984; dropping {'lr/group_0': 0.001}.\n",
      "2021-01-26 09:49:22,497 Trainer INFO: Epoch[123] Complete. Time taken: 00:00:46\n"
     ]
    },
    {
     "name": "stdout",
     "output_type": "stream",
     "text": [
      "train loss 0.6178686317535267\n",
      "val loss 0.6703694796865913\n",
      "validation roc auc [0.5 0.5] 123\n",
      "train roc auc [0.5 0.5] 123\n"
     ]
    },
    {
     "name": "stderr",
     "output_type": "stream",
     "text": [
      "2021-01-26 09:49:43,186 Train Evaluator INFO: Engine run starting with max_epochs=1.\n",
      "2021-01-26 09:50:03,274 Train Evaluator INFO: Epoch[1] Complete. Time taken: 00:00:20\n",
      "2021-01-26 09:50:03,277 Train Evaluator INFO: Engine run complete. Time taken: 00:00:20\n",
      "2021-01-26 09:50:03,279 Val Evaluator INFO: Engine run starting with max_epochs=1.\n",
      "2021-01-26 09:50:09,771 Val Evaluator INFO: Epoch[1] Complete. Time taken: 00:00:06\n",
      "2021-01-26 09:50:09,774 Val Evaluator INFO: Engine run complete. Time taken: 00:00:06\n",
      "\u001b[34m\u001b[1mwandb\u001b[0m: \u001b[33mWARNING\u001b[0m Step must only increase in log calls.  Step 124 < 992; dropping {'lr/group_0': 0.001}.\n",
      "2021-01-26 09:50:09,783 Trainer INFO: Epoch[124] Complete. Time taken: 00:00:47\n"
     ]
    },
    {
     "name": "stdout",
     "output_type": "stream",
     "text": [
      "train loss 0.6073595246458365\n",
      "val loss 0.6688389189683708\n",
      "validation roc auc [0.5 0.5] 124\n",
      "train roc auc [0.5 0.5] 124\n"
     ]
    },
    {
     "name": "stderr",
     "output_type": "stream",
     "text": [
      "2021-01-26 09:50:29,511 Train Evaluator INFO: Engine run starting with max_epochs=1.\n",
      "2021-01-26 09:50:49,862 Train Evaluator INFO: Epoch[1] Complete. Time taken: 00:00:20\n",
      "2021-01-26 09:50:49,865 Train Evaluator INFO: Engine run complete. Time taken: 00:00:20\n",
      "2021-01-26 09:50:49,866 Val Evaluator INFO: Engine run starting with max_epochs=1.\n",
      "2021-01-26 09:50:56,588 Val Evaluator INFO: Epoch[1] Complete. Time taken: 00:00:07\n",
      "2021-01-26 09:50:56,594 Val Evaluator INFO: Engine run complete. Time taken: 00:00:07\n",
      "\u001b[34m\u001b[1mwandb\u001b[0m: \u001b[33mWARNING\u001b[0m Step must only increase in log calls.  Step 125 < 1000; dropping {'lr/group_0': 0.001}.\n",
      "2021-01-26 09:50:56,602 Trainer INFO: Epoch[125] Complete. Time taken: 00:00:47\n"
     ]
    },
    {
     "name": "stdout",
     "output_type": "stream",
     "text": [
      "train loss 0.5972709746662048\n",
      "val loss 0.6681205094999568\n",
      "validation roc auc [0.5 0.5] 125\n",
      "train roc auc [0.5 0.5] 125\n"
     ]
    },
    {
     "name": "stderr",
     "output_type": "stream",
     "text": [
      "2021-01-26 09:51:15,789 Train Evaluator INFO: Engine run starting with max_epochs=1.\n",
      "2021-01-26 09:51:36,340 Train Evaluator INFO: Epoch[1] Complete. Time taken: 00:00:21\n",
      "2021-01-26 09:51:36,344 Train Evaluator INFO: Engine run complete. Time taken: 00:00:21\n",
      "2021-01-26 09:51:36,345 Val Evaluator INFO: Engine run starting with max_epochs=1.\n",
      "2021-01-26 09:51:43,115 Val Evaluator INFO: Epoch[1] Complete. Time taken: 00:00:07\n",
      "2021-01-26 09:51:43,118 Val Evaluator INFO: Engine run complete. Time taken: 00:00:07\n",
      "\u001b[34m\u001b[1mwandb\u001b[0m: \u001b[33mWARNING\u001b[0m Step must only increase in log calls.  Step 126 < 1008; dropping {'lr/group_0': 0.001}.\n",
      "2021-01-26 09:51:43,128 Trainer INFO: Epoch[126] Complete. Time taken: 00:00:47\n"
     ]
    },
    {
     "name": "stdout",
     "output_type": "stream",
     "text": [
      "train loss 0.5881652509984368\n",
      "val loss 0.6681992567268906\n",
      "validation roc auc [0.5 0.5] 126\n",
      "train roc auc [0.5 0.5] 126\n"
     ]
    },
    {
     "name": "stderr",
     "output_type": "stream",
     "text": [
      "2021-01-26 09:52:00,650 Train Evaluator INFO: Engine run starting with max_epochs=1.\n",
      "2021-01-26 09:52:19,229 Train Evaluator INFO: Epoch[1] Complete. Time taken: 00:00:19\n",
      "2021-01-26 09:52:19,232 Train Evaluator INFO: Engine run complete. Time taken: 00:00:19\n",
      "2021-01-26 09:52:19,233 Val Evaluator INFO: Engine run starting with max_epochs=1.\n",
      "2021-01-26 09:52:25,933 Val Evaluator INFO: Epoch[1] Complete. Time taken: 00:00:07\n",
      "2021-01-26 09:52:25,937 Val Evaluator INFO: Engine run complete. Time taken: 00:00:07\n",
      "\u001b[34m\u001b[1mwandb\u001b[0m: \u001b[33mWARNING\u001b[0m Step must only increase in log calls.  Step 127 < 1016; dropping {'lr/group_0': 0.001}.\n",
      "2021-01-26 09:52:25,946 Trainer INFO: Epoch[127] Complete. Time taken: 00:00:43\n"
     ]
    },
    {
     "name": "stdout",
     "output_type": "stream",
     "text": [
      "train loss 0.5798590741645796\n",
      "val loss 0.6692409112954595\n",
      "validation roc auc [0.5 0.5] 127\n",
      "train roc auc [0.5 0.5] 127\n"
     ]
    },
    {
     "name": "stderr",
     "output_type": "stream",
     "text": [
      "2021-01-26 09:52:44,955 Train Evaluator INFO: Engine run starting with max_epochs=1.\n",
      "2021-01-26 09:53:04,105 Train Evaluator INFO: Epoch[1] Complete. Time taken: 00:00:19\n",
      "2021-01-26 09:53:04,109 Train Evaluator INFO: Engine run complete. Time taken: 00:00:19\n",
      "2021-01-26 09:53:04,110 Val Evaluator INFO: Engine run starting with max_epochs=1.\n",
      "2021-01-26 09:53:10,570 Val Evaluator INFO: Epoch[1] Complete. Time taken: 00:00:06\n",
      "2021-01-26 09:53:10,573 Val Evaluator INFO: Engine run complete. Time taken: 00:00:06\n",
      "\u001b[34m\u001b[1mwandb\u001b[0m: \u001b[33mWARNING\u001b[0m Step must only increase in log calls.  Step 128 < 1024; dropping {'lr/group_0': 0.001}.\n",
      "2021-01-26 09:53:10,582 Trainer INFO: Epoch[128] Complete. Time taken: 00:00:45\n"
     ]
    },
    {
     "name": "stdout",
     "output_type": "stream",
     "text": [
      "train loss 0.5723674289541307\n",
      "val loss 0.6710735225373772\n",
      "validation roc auc [0.5 0.5] 128\n",
      "train roc auc [0.5 0.5] 128\n"
     ]
    },
    {
     "name": "stderr",
     "output_type": "stream",
     "text": [
      "2021-01-26 09:53:29,355 Train Evaluator INFO: Engine run starting with max_epochs=1.\n",
      "2021-01-26 09:53:47,572 Train Evaluator INFO: Epoch[1] Complete. Time taken: 00:00:18\n",
      "2021-01-26 09:53:47,575 Train Evaluator INFO: Engine run complete. Time taken: 00:00:18\n",
      "2021-01-26 09:53:47,577 Val Evaluator INFO: Engine run starting with max_epochs=1.\n",
      "2021-01-26 09:53:54,151 Val Evaluator INFO: Epoch[1] Complete. Time taken: 00:00:07\n",
      "2021-01-26 09:53:54,155 Val Evaluator INFO: Engine run complete. Time taken: 00:00:07\n",
      "\u001b[34m\u001b[1mwandb\u001b[0m: \u001b[33mWARNING\u001b[0m Step must only increase in log calls.  Step 129 < 1032; dropping {'lr/group_0': 0.001}.\n",
      "2021-01-26 09:53:54,165 Trainer INFO: Epoch[129] Complete. Time taken: 00:00:44\n"
     ]
    },
    {
     "name": "stdout",
     "output_type": "stream",
     "text": [
      "train loss 0.5656279817645586\n",
      "val loss 0.6730697314450695\n",
      "validation roc auc [0.5 0.5] 129\n",
      "train roc auc [0.5 0.5] 129\n"
     ]
    },
    {
     "name": "stderr",
     "output_type": "stream",
     "text": [
      "2021-01-26 09:54:12,570 Train Evaluator INFO: Engine run starting with max_epochs=1.\n",
      "2021-01-26 09:54:30,920 Train Evaluator INFO: Epoch[1] Complete. Time taken: 00:00:18\n",
      "2021-01-26 09:54:30,923 Train Evaluator INFO: Engine run complete. Time taken: 00:00:18\n",
      "2021-01-26 09:54:30,924 Val Evaluator INFO: Engine run starting with max_epochs=1.\n",
      "2021-01-26 09:54:37,569 Val Evaluator INFO: Epoch[1] Complete. Time taken: 00:00:07\n",
      "2021-01-26 09:54:37,572 Val Evaluator INFO: Engine run complete. Time taken: 00:00:07\n",
      "\u001b[34m\u001b[1mwandb\u001b[0m: \u001b[33mWARNING\u001b[0m Step must only increase in log calls.  Step 130 < 1040; dropping {'lr/group_0': 0.001}.\n",
      "2021-01-26 09:54:37,584 Trainer INFO: Epoch[130] Complete. Time taken: 00:00:43\n"
     ]
    },
    {
     "name": "stdout",
     "output_type": "stream",
     "text": [
      "train loss 0.559616901905708\n",
      "val loss 0.6760941311052651\n",
      "validation roc auc [0.5 0.5] 130\n",
      "train roc auc [0.5 0.5] 130\n"
     ]
    },
    {
     "name": "stderr",
     "output_type": "stream",
     "text": [
      "2021-01-26 09:54:56,668 Train Evaluator INFO: Engine run starting with max_epochs=1.\n",
      "2021-01-26 09:55:15,627 Train Evaluator INFO: Epoch[1] Complete. Time taken: 00:00:19\n",
      "2021-01-26 09:55:15,630 Train Evaluator INFO: Engine run complete. Time taken: 00:00:19\n",
      "2021-01-26 09:55:15,632 Val Evaluator INFO: Engine run starting with max_epochs=1.\n",
      "2021-01-26 09:55:21,927 Val Evaluator INFO: Epoch[1] Complete. Time taken: 00:00:06\n",
      "2021-01-26 09:55:21,930 Val Evaluator INFO: Engine run complete. Time taken: 00:00:06\n",
      "\u001b[34m\u001b[1mwandb\u001b[0m: \u001b[33mWARNING\u001b[0m Step must only increase in log calls.  Step 131 < 1048; dropping {'lr/group_0': 0.001}.\n",
      "2021-01-26 09:55:21,946 Trainer INFO: Epoch[131] Complete. Time taken: 00:00:44\n"
     ]
    },
    {
     "name": "stdout",
     "output_type": "stream",
     "text": [
      "train loss 0.5545371356612976\n",
      "val loss 0.679563553849603\n",
      "validation roc auc [0.5 0.5] 131\n",
      "train roc auc [0.5 0.5] 131\n"
     ]
    },
    {
     "name": "stderr",
     "output_type": "stream",
     "text": [
      "2021-01-26 09:55:40,631 Train Evaluator INFO: Engine run starting with max_epochs=1.\n",
      "2021-01-26 09:55:59,243 Train Evaluator INFO: Epoch[1] Complete. Time taken: 00:00:19\n",
      "2021-01-26 09:55:59,247 Train Evaluator INFO: Engine run complete. Time taken: 00:00:19\n",
      "2021-01-26 09:55:59,248 Val Evaluator INFO: Engine run starting with max_epochs=1.\n",
      "2021-01-26 09:56:06,395 Val Evaluator INFO: Epoch[1] Complete. Time taken: 00:00:07\n",
      "2021-01-26 09:56:06,398 Val Evaluator INFO: Engine run complete. Time taken: 00:00:07\n",
      "\u001b[34m\u001b[1mwandb\u001b[0m: \u001b[33mWARNING\u001b[0m Step must only increase in log calls.  Step 132 < 1056; dropping {'lr/group_0': 0.001}.\n",
      "2021-01-26 09:56:06,407 Trainer INFO: Epoch[132] Complete. Time taken: 00:00:44\n"
     ]
    },
    {
     "name": "stdout",
     "output_type": "stream",
     "text": [
      "train loss 0.5510529854978092\n",
      "val loss 0.6821843135129114\n",
      "validation roc auc [0.5 0.5] 132\n",
      "train roc auc [0.5 0.5] 132\n"
     ]
    },
    {
     "name": "stderr",
     "output_type": "stream",
     "text": [
      "2021-01-26 09:56:24,754 Train Evaluator INFO: Engine run starting with max_epochs=1.\n",
      "2021-01-26 09:56:41,150 Train Evaluator INFO: Epoch[1] Complete. Time taken: 00:00:16\n",
      "2021-01-26 09:56:41,153 Train Evaluator INFO: Engine run complete. Time taken: 00:00:16\n",
      "2021-01-26 09:56:41,154 Val Evaluator INFO: Engine run starting with max_epochs=1.\n",
      "2021-01-26 09:56:47,170 Val Evaluator INFO: Epoch[1] Complete. Time taken: 00:00:06\n",
      "2021-01-26 09:56:47,175 Val Evaluator INFO: Engine run complete. Time taken: 00:00:06\n",
      "\u001b[34m\u001b[1mwandb\u001b[0m: \u001b[33mWARNING\u001b[0m Step must only increase in log calls.  Step 133 < 1064; dropping {'lr/group_0': 0.001}.\n",
      "2021-01-26 09:56:47,186 Trainer INFO: Epoch[133] Complete. Time taken: 00:00:41\n"
     ]
    },
    {
     "name": "stdout",
     "output_type": "stream",
     "text": [
      "train loss 0.5477563319382844\n",
      "val loss 0.6854589403055276\n",
      "validation roc auc [0.5 0.5] 133\n",
      "train roc auc [0.5 0.5] 133\n"
     ]
    },
    {
     "name": "stderr",
     "output_type": "stream",
     "text": [
      "2021-01-26 09:57:03,370 Train Evaluator INFO: Engine run starting with max_epochs=1.\n",
      "2021-01-26 09:57:20,182 Train Evaluator INFO: Epoch[1] Complete. Time taken: 00:00:17\n",
      "2021-01-26 09:57:20,185 Train Evaluator INFO: Engine run complete. Time taken: 00:00:17\n",
      "2021-01-26 09:57:20,186 Val Evaluator INFO: Engine run starting with max_epochs=1.\n",
      "2021-01-26 09:57:25,876 Val Evaluator INFO: Epoch[1] Complete. Time taken: 00:00:06\n",
      "2021-01-26 09:57:25,878 Val Evaluator INFO: Engine run complete. Time taken: 00:00:06\n",
      "\u001b[34m\u001b[1mwandb\u001b[0m: \u001b[33mWARNING\u001b[0m Step must only increase in log calls.  Step 134 < 1072; dropping {'lr/group_0': 0.001}.\n",
      "2021-01-26 09:57:25,888 Trainer INFO: Epoch[134] Complete. Time taken: 00:00:39\n"
     ]
    },
    {
     "name": "stdout",
     "output_type": "stream",
     "text": [
      "train loss 0.5449539243785384\n",
      "val loss 0.6886524034153884\n",
      "validation roc auc [0.5 0.5] 134\n",
      "train roc auc [0.5 0.5] 134\n"
     ]
    },
    {
     "name": "stderr",
     "output_type": "stream",
     "text": [
      "2021-01-26 09:57:42,818 Train Evaluator INFO: Engine run starting with max_epochs=1.\n",
      "2021-01-26 09:57:58,947 Train Evaluator INFO: Epoch[1] Complete. Time taken: 00:00:16\n",
      "2021-01-26 09:57:58,950 Train Evaluator INFO: Engine run complete. Time taken: 00:00:16\n",
      "2021-01-26 09:57:58,952 Val Evaluator INFO: Engine run starting with max_epochs=1.\n",
      "2021-01-26 09:58:04,657 Val Evaluator INFO: Epoch[1] Complete. Time taken: 00:00:06\n",
      "2021-01-26 09:58:04,661 Val Evaluator INFO: Engine run complete. Time taken: 00:00:06\n",
      "\u001b[34m\u001b[1mwandb\u001b[0m: \u001b[33mWARNING\u001b[0m Step must only increase in log calls.  Step 135 < 1080; dropping {'lr/group_0': 0.001}.\n",
      "2021-01-26 09:58:04,671 Trainer INFO: Epoch[135] Complete. Time taken: 00:00:39\n"
     ]
    },
    {
     "name": "stdout",
     "output_type": "stream",
     "text": [
      "train loss 0.5427140942845728\n",
      "val loss 0.6922461587911958\n",
      "validation roc auc [0.5 0.5] 135\n",
      "train roc auc [0.5 0.5] 135\n"
     ]
    },
    {
     "name": "stderr",
     "output_type": "stream",
     "text": [
      "2021-01-26 09:58:21,906 Train Evaluator INFO: Engine run starting with max_epochs=1.\n",
      "2021-01-26 09:58:38,590 Train Evaluator INFO: Epoch[1] Complete. Time taken: 00:00:17\n",
      "2021-01-26 09:58:38,592 Train Evaluator INFO: Engine run complete. Time taken: 00:00:17\n",
      "2021-01-26 09:58:38,593 Val Evaluator INFO: Engine run starting with max_epochs=1.\n",
      "2021-01-26 09:58:43,915 Val Evaluator INFO: Epoch[1] Complete. Time taken: 00:00:05\n",
      "2021-01-26 09:58:43,919 Val Evaluator INFO: Engine run complete. Time taken: 00:00:05\n",
      "\u001b[34m\u001b[1mwandb\u001b[0m: \u001b[33mWARNING\u001b[0m Step must only increase in log calls.  Step 136 < 1088; dropping {'lr/group_0': 0.001}.\n",
      "2021-01-26 09:58:43,930 Trainer INFO: Epoch[136] Complete. Time taken: 00:00:39\n"
     ]
    },
    {
     "name": "stdout",
     "output_type": "stream",
     "text": [
      "train loss 0.5406329003294569\n",
      "val loss 0.6960012126880087\n",
      "validation roc auc [0.5 0.5] 136\n",
      "train roc auc [0.5 0.5] 136\n"
     ]
    },
    {
     "name": "stderr",
     "output_type": "stream",
     "text": [
      "2021-01-26 09:59:00,640 Train Evaluator INFO: Engine run starting with max_epochs=1.\n",
      "2021-01-26 09:59:16,407 Train Evaluator INFO: Epoch[1] Complete. Time taken: 00:00:16\n",
      "2021-01-26 09:59:16,410 Train Evaluator INFO: Engine run complete. Time taken: 00:00:16\n",
      "2021-01-26 09:59:16,412 Val Evaluator INFO: Engine run starting with max_epochs=1.\n",
      "2021-01-26 09:59:21,477 Val Evaluator INFO: Epoch[1] Complete. Time taken: 00:00:05\n",
      "2021-01-26 09:59:21,480 Val Evaluator INFO: Engine run complete. Time taken: 00:00:05\n",
      "\u001b[34m\u001b[1mwandb\u001b[0m: \u001b[33mWARNING\u001b[0m Step must only increase in log calls.  Step 137 < 1096; dropping {'lr/group_0': 0.001}.\n",
      "2021-01-26 09:59:21,489 Trainer INFO: Epoch[137] Complete. Time taken: 00:00:38\n"
     ]
    },
    {
     "name": "stdout",
     "output_type": "stream",
     "text": [
      "train loss 0.5389206947064867\n",
      "val loss 0.6993790344827494\n",
      "validation roc auc [0.5 0.5] 137\n",
      "train roc auc [0.5 0.5] 137\n"
     ]
    },
    {
     "name": "stderr",
     "output_type": "stream",
     "text": [
      "2021-01-26 09:59:38,438 Train Evaluator INFO: Engine run starting with max_epochs=1.\n",
      "2021-01-26 09:59:54,812 Train Evaluator INFO: Epoch[1] Complete. Time taken: 00:00:16\n",
      "2021-01-26 09:59:54,814 Train Evaluator INFO: Engine run complete. Time taken: 00:00:16\n",
      "2021-01-26 09:59:54,816 Val Evaluator INFO: Engine run starting with max_epochs=1.\n",
      "2021-01-26 10:00:00,396 Val Evaluator INFO: Epoch[1] Complete. Time taken: 00:00:06\n",
      "2021-01-26 10:00:00,399 Val Evaluator INFO: Engine run complete. Time taken: 00:00:06\n",
      "\u001b[34m\u001b[1mwandb\u001b[0m: \u001b[33mWARNING\u001b[0m Step must only increase in log calls.  Step 138 < 1104; dropping {'lr/group_0': 0.001}.\n",
      "2021-01-26 10:00:00,410 Trainer INFO: Epoch[138] Complete. Time taken: 00:00:39\n"
     ]
    },
    {
     "name": "stdout",
     "output_type": "stream",
     "text": [
      "train loss 0.5376092924012078\n",
      "val loss 0.7020900268463572\n",
      "validation roc auc [0.5 0.5] 138\n",
      "train roc auc [0.5 0.5] 138\n"
     ]
    },
    {
     "name": "stderr",
     "output_type": "stream",
     "text": [
      "2021-01-26 10:00:18,719 Train Evaluator INFO: Engine run starting with max_epochs=1.\n",
      "2021-01-26 10:00:34,831 Train Evaluator INFO: Epoch[1] Complete. Time taken: 00:00:16\n",
      "2021-01-26 10:00:34,835 Train Evaluator INFO: Engine run complete. Time taken: 00:00:16\n",
      "2021-01-26 10:00:34,836 Val Evaluator INFO: Engine run starting with max_epochs=1.\n",
      "2021-01-26 10:00:40,618 Val Evaluator INFO: Epoch[1] Complete. Time taken: 00:00:06\n",
      "2021-01-26 10:00:40,620 Val Evaluator INFO: Engine run complete. Time taken: 00:00:06\n",
      "\u001b[34m\u001b[1mwandb\u001b[0m: \u001b[33mWARNING\u001b[0m Step must only increase in log calls.  Step 139 < 1112; dropping {'lr/group_0': 0.001}.\n",
      "2021-01-26 10:00:40,630 Trainer INFO: Epoch[139] Complete. Time taken: 00:00:40\n"
     ]
    },
    {
     "name": "stdout",
     "output_type": "stream",
     "text": [
      "train loss 0.536628411096685\n",
      "val loss 0.7045122962089101\n",
      "validation roc auc [0.5 0.5] 139\n",
      "train roc auc [0.5 0.5] 139\n"
     ]
    },
    {
     "name": "stderr",
     "output_type": "stream",
     "text": [
      "2021-01-26 10:00:57,004 Train Evaluator INFO: Engine run starting with max_epochs=1.\n",
      "2021-01-26 10:01:15,590 Train Evaluator INFO: Epoch[1] Complete. Time taken: 00:00:19\n",
      "2021-01-26 10:01:15,593 Train Evaluator INFO: Engine run complete. Time taken: 00:00:19\n",
      "2021-01-26 10:01:15,595 Val Evaluator INFO: Engine run starting with max_epochs=1.\n",
      "2021-01-26 10:01:22,198 Val Evaluator INFO: Epoch[1] Complete. Time taken: 00:00:07\n",
      "2021-01-26 10:01:22,202 Val Evaluator INFO: Engine run complete. Time taken: 00:00:07\n",
      "\u001b[34m\u001b[1mwandb\u001b[0m: \u001b[33mWARNING\u001b[0m Step must only increase in log calls.  Step 140 < 1120; dropping {'lr/group_0': 0.001}.\n",
      "2021-01-26 10:01:22,212 Trainer INFO: Epoch[140] Complete. Time taken: 00:00:42\n"
     ]
    },
    {
     "name": "stdout",
     "output_type": "stream",
     "text": [
      "train loss 0.5358576468782488\n",
      "val loss 0.7068532181393569\n",
      "validation roc auc [0.5 0.5] 140\n",
      "train roc auc [0.5 0.5] 140\n"
     ]
    },
    {
     "name": "stderr",
     "output_type": "stream",
     "text": [
      "2021-01-26 10:01:40,602 Train Evaluator INFO: Engine run starting with max_epochs=1.\n",
      "2021-01-26 10:01:59,262 Train Evaluator INFO: Epoch[1] Complete. Time taken: 00:00:19\n",
      "2021-01-26 10:01:59,265 Train Evaluator INFO: Engine run complete. Time taken: 00:00:19\n",
      "2021-01-26 10:01:59,269 Val Evaluator INFO: Engine run starting with max_epochs=1.\n",
      "2021-01-26 10:02:05,870 Val Evaluator INFO: Epoch[1] Complete. Time taken: 00:00:07\n",
      "2021-01-26 10:02:05,874 Val Evaluator INFO: Engine run complete. Time taken: 00:00:07\n",
      "\u001b[34m\u001b[1mwandb\u001b[0m: \u001b[33mWARNING\u001b[0m Step must only increase in log calls.  Step 141 < 1128; dropping {'lr/group_0': 0.001}.\n",
      "2021-01-26 10:02:05,885 Trainer INFO: Epoch[141] Complete. Time taken: 00:00:44\n"
     ]
    },
    {
     "name": "stdout",
     "output_type": "stream",
     "text": [
      "train loss 0.5352706501426779\n",
      "val loss 0.7094258510383071\n",
      "validation roc auc [0.5 0.5] 141\n",
      "train roc auc [0.5 0.5] 141\n"
     ]
    },
    {
     "name": "stderr",
     "output_type": "stream",
     "text": [
      "2021-01-26 10:02:24,740 Train Evaluator INFO: Engine run starting with max_epochs=1.\n",
      "2021-01-26 10:02:43,295 Train Evaluator INFO: Epoch[1] Complete. Time taken: 00:00:19\n",
      "2021-01-26 10:02:43,298 Train Evaluator INFO: Engine run complete. Time taken: 00:00:19\n",
      "2021-01-26 10:02:43,299 Val Evaluator INFO: Engine run starting with max_epochs=1.\n",
      "2021-01-26 10:02:49,995 Val Evaluator INFO: Epoch[1] Complete. Time taken: 00:00:07\n",
      "2021-01-26 10:02:49,998 Val Evaluator INFO: Engine run complete. Time taken: 00:00:07\n",
      "\u001b[34m\u001b[1mwandb\u001b[0m: \u001b[33mWARNING\u001b[0m Step must only increase in log calls.  Step 142 < 1136; dropping {'lr/group_0': 0.001}.\n",
      "2021-01-26 10:02:50,008 Trainer INFO: Epoch[142] Complete. Time taken: 00:00:44\n"
     ]
    },
    {
     "name": "stdout",
     "output_type": "stream",
     "text": [
      "train loss 0.5346905722207753\n",
      "val loss 0.7119504346209726\n",
      "validation roc auc [0.5 0.5] 142\n",
      "train roc auc [0.5 0.5] 142\n"
     ]
    },
    {
     "name": "stderr",
     "output_type": "stream",
     "text": [
      "2021-01-26 10:03:08,731 Train Evaluator INFO: Engine run starting with max_epochs=1.\n",
      "2021-01-26 10:03:28,773 Train Evaluator INFO: Epoch[1] Complete. Time taken: 00:00:20\n",
      "2021-01-26 10:03:28,776 Train Evaluator INFO: Engine run complete. Time taken: 00:00:20\n",
      "2021-01-26 10:03:28,777 Val Evaluator INFO: Engine run starting with max_epochs=1.\n",
      "2021-01-26 10:03:35,119 Val Evaluator INFO: Epoch[1] Complete. Time taken: 00:00:06\n",
      "2021-01-26 10:03:35,123 Val Evaluator INFO: Engine run complete. Time taken: 00:00:06\n",
      "\u001b[34m\u001b[1mwandb\u001b[0m: \u001b[33mWARNING\u001b[0m Step must only increase in log calls.  Step 143 < 1144; dropping {'lr/group_0': 0.001}.\n",
      "2021-01-26 10:03:35,135 Trainer INFO: Epoch[143] Complete. Time taken: 00:00:45\n"
     ]
    },
    {
     "name": "stdout",
     "output_type": "stream",
     "text": [
      "train loss 0.5340773751533109\n",
      "val loss 0.7132935144339397\n",
      "validation roc auc [0.5 0.5] 143\n",
      "train roc auc [0.5 0.5] 143\n"
     ]
    },
    {
     "name": "stderr",
     "output_type": "stream",
     "text": [
      "2021-01-26 10:03:55,428 Train Evaluator INFO: Engine run starting with max_epochs=1.\n",
      "2021-01-26 10:04:15,864 Train Evaluator INFO: Epoch[1] Complete. Time taken: 00:00:20\n",
      "2021-01-26 10:04:15,868 Train Evaluator INFO: Engine run complete. Time taken: 00:00:20\n",
      "2021-01-26 10:04:15,869 Val Evaluator INFO: Engine run starting with max_epochs=1.\n",
      "2021-01-26 10:04:22,100 Val Evaluator INFO: Epoch[1] Complete. Time taken: 00:00:06\n",
      "2021-01-26 10:04:22,104 Val Evaluator INFO: Engine run complete. Time taken: 00:00:06\n",
      "\u001b[34m\u001b[1mwandb\u001b[0m: \u001b[33mWARNING\u001b[0m Step must only increase in log calls.  Step 144 < 1152; dropping {'lr/group_0': 0.001}.\n",
      "2021-01-26 10:04:22,116 Trainer INFO: Epoch[144] Complete. Time taken: 00:00:47\n"
     ]
    },
    {
     "name": "stdout",
     "output_type": "stream",
     "text": [
      "train loss 0.5336108389503296\n",
      "val loss 0.7150018807429417\n",
      "validation roc auc [0.5 0.5] 144\n",
      "train roc auc [0.5 0.5] 144\n"
     ]
    },
    {
     "name": "stderr",
     "output_type": "stream",
     "text": [
      "2021-01-26 10:04:42,569 Train Evaluator INFO: Engine run starting with max_epochs=1.\n",
      "2021-01-26 10:05:02,819 Train Evaluator INFO: Epoch[1] Complete. Time taken: 00:00:20\n",
      "2021-01-26 10:05:02,822 Train Evaluator INFO: Engine run complete. Time taken: 00:00:20\n",
      "2021-01-26 10:05:02,823 Val Evaluator INFO: Engine run starting with max_epochs=1.\n",
      "2021-01-26 10:05:09,361 Val Evaluator INFO: Epoch[1] Complete. Time taken: 00:00:07\n",
      "2021-01-26 10:05:09,364 Val Evaluator INFO: Engine run complete. Time taken: 00:00:07\n",
      "\u001b[34m\u001b[1mwandb\u001b[0m: \u001b[33mWARNING\u001b[0m Step must only increase in log calls.  Step 145 < 1160; dropping {'lr/group_0': 0.001}.\n",
      "2021-01-26 10:05:09,375 Trainer INFO: Epoch[145] Complete. Time taken: 00:00:47\n"
     ]
    },
    {
     "name": "stdout",
     "output_type": "stream",
     "text": [
      "train loss 0.5333250052009533\n",
      "val loss 0.7144796814128851\n",
      "validation roc auc [0.5 0.5] 145\n",
      "train roc auc [0.5 0.5] 145\n"
     ]
    },
    {
     "name": "stderr",
     "output_type": "stream",
     "text": [
      "2021-01-26 10:05:28,697 Train Evaluator INFO: Engine run starting with max_epochs=1.\n",
      "2021-01-26 10:05:47,433 Train Evaluator INFO: Epoch[1] Complete. Time taken: 00:00:19\n",
      "2021-01-26 10:05:47,437 Train Evaluator INFO: Engine run complete. Time taken: 00:00:19\n",
      "2021-01-26 10:05:47,438 Val Evaluator INFO: Engine run starting with max_epochs=1.\n",
      "2021-01-26 10:05:53,427 Val Evaluator INFO: Epoch[1] Complete. Time taken: 00:00:06\n",
      "2021-01-26 10:05:53,430 Val Evaluator INFO: Engine run complete. Time taken: 00:00:06\n",
      "\u001b[34m\u001b[1mwandb\u001b[0m: \u001b[33mWARNING\u001b[0m Step must only increase in log calls.  Step 146 < 1168; dropping {'lr/group_0': 0.001}.\n",
      "2021-01-26 10:05:53,440 Trainer INFO: Epoch[146] Complete. Time taken: 00:00:44\n"
     ]
    },
    {
     "name": "stdout",
     "output_type": "stream",
     "text": [
      "train loss 0.5330850299537052\n",
      "val loss 0.7141474587902142\n",
      "validation roc auc [0.5 0.5] 146\n",
      "train roc auc [0.5 0.5] 146\n"
     ]
    },
    {
     "name": "stderr",
     "output_type": "stream",
     "text": [
      "2021-01-26 10:06:12,403 Train Evaluator INFO: Engine run starting with max_epochs=1.\n",
      "2021-01-26 10:06:32,123 Train Evaluator INFO: Epoch[1] Complete. Time taken: 00:00:20\n",
      "2021-01-26 10:06:32,126 Train Evaluator INFO: Engine run complete. Time taken: 00:00:20\n",
      "2021-01-26 10:06:32,132 Val Evaluator INFO: Engine run starting with max_epochs=1.\n",
      "2021-01-26 10:06:39,030 Val Evaluator INFO: Epoch[1] Complete. Time taken: 00:00:07\n",
      "2021-01-26 10:06:39,033 Val Evaluator INFO: Engine run complete. Time taken: 00:00:07\n",
      "\u001b[34m\u001b[1mwandb\u001b[0m: \u001b[33mWARNING\u001b[0m Step must only increase in log calls.  Step 147 < 1176; dropping {'lr/group_0': 0.001}.\n",
      "2021-01-26 10:06:39,042 Trainer INFO: Epoch[147] Complete. Time taken: 00:00:46\n"
     ]
    },
    {
     "name": "stdout",
     "output_type": "stream",
     "text": [
      "train loss 0.5328690049954748\n",
      "val loss 0.7148536774003582\n",
      "validation roc auc [0.5 0.5] 147\n",
      "train roc auc [0.5 0.5] 147\n"
     ]
    },
    {
     "name": "stderr",
     "output_type": "stream",
     "text": [
      "2021-01-26 10:06:56,631 Train Evaluator INFO: Engine run starting with max_epochs=1.\n",
      "2021-01-26 10:07:15,905 Train Evaluator INFO: Epoch[1] Complete. Time taken: 00:00:19\n",
      "2021-01-26 10:07:15,908 Train Evaluator INFO: Engine run complete. Time taken: 00:00:19\n",
      "2021-01-26 10:07:15,909 Val Evaluator INFO: Engine run starting with max_epochs=1.\n",
      "2021-01-26 10:07:22,228 Val Evaluator INFO: Epoch[1] Complete. Time taken: 00:00:06\n",
      "2021-01-26 10:07:22,232 Val Evaluator INFO: Engine run complete. Time taken: 00:00:06\n",
      "\u001b[34m\u001b[1mwandb\u001b[0m: \u001b[33mWARNING\u001b[0m Step must only increase in log calls.  Step 148 < 1184; dropping {'lr/group_0': 0.001}.\n",
      "2021-01-26 10:07:22,242 Trainer INFO: Epoch[148] Complete. Time taken: 00:00:43\n"
     ]
    },
    {
     "name": "stdout",
     "output_type": "stream",
     "text": [
      "train loss 0.5326551037935909\n",
      "val loss 0.7169918964622887\n",
      "validation roc auc [0.5 0.5] 148\n",
      "train roc auc [0.5 0.5] 148\n"
     ]
    },
    {
     "name": "stderr",
     "output_type": "stream",
     "text": [
      "2021-01-26 10:07:40,375 Train Evaluator INFO: Engine run starting with max_epochs=1.\n",
      "2021-01-26 10:07:58,892 Train Evaluator INFO: Epoch[1] Complete. Time taken: 00:00:19\n",
      "2021-01-26 10:07:58,895 Train Evaluator INFO: Engine run complete. Time taken: 00:00:19\n",
      "2021-01-26 10:07:58,897 Val Evaluator INFO: Engine run starting with max_epochs=1.\n",
      "2021-01-26 10:08:05,194 Val Evaluator INFO: Epoch[1] Complete. Time taken: 00:00:06\n",
      "2021-01-26 10:08:05,197 Val Evaluator INFO: Engine run complete. Time taken: 00:00:06\n",
      "\u001b[34m\u001b[1mwandb\u001b[0m: \u001b[33mWARNING\u001b[0m Step must only increase in log calls.  Step 149 < 1192; dropping {'lr/group_0': 0.001}.\n",
      "2021-01-26 10:08:05,206 Trainer INFO: Epoch[149] Complete. Time taken: 00:00:43\n"
     ]
    },
    {
     "name": "stdout",
     "output_type": "stream",
     "text": [
      "train loss 0.5324762448636016\n",
      "val loss 0.718781494410934\n",
      "validation roc auc [0.5 0.5] 149\n",
      "train roc auc [0.5 0.5] 149\n"
     ]
    },
    {
     "name": "stderr",
     "output_type": "stream",
     "text": [
      "2021-01-26 10:08:24,056 Train Evaluator INFO: Engine run starting with max_epochs=1.\n",
      "2021-01-26 10:08:42,928 Train Evaluator INFO: Epoch[1] Complete. Time taken: 00:00:19\n",
      "2021-01-26 10:08:42,932 Train Evaluator INFO: Engine run complete. Time taken: 00:00:19\n",
      "2021-01-26 10:08:42,933 Val Evaluator INFO: Engine run starting with max_epochs=1.\n",
      "2021-01-26 10:08:49,140 Val Evaluator INFO: Epoch[1] Complete. Time taken: 00:00:06\n",
      "2021-01-26 10:08:49,142 Val Evaluator INFO: Engine run complete. Time taken: 00:00:06\n",
      "\u001b[34m\u001b[1mwandb\u001b[0m: \u001b[33mWARNING\u001b[0m Step must only increase in log calls.  Step 150 < 1200; dropping {'lr/group_0': 0.001}.\n",
      "2021-01-26 10:08:49,150 Trainer INFO: Epoch[150] Complete. Time taken: 00:00:44\n"
     ]
    },
    {
     "name": "stdout",
     "output_type": "stream",
     "text": [
      "train loss 0.532280577618572\n",
      "val loss 0.7199157134742494\n",
      "validation roc auc [0.5 0.5] 150\n",
      "train roc auc [0.5 0.5] 150\n"
     ]
    },
    {
     "name": "stderr",
     "output_type": "stream",
     "text": [
      "2021-01-26 10:09:08,872 Train Evaluator INFO: Engine run starting with max_epochs=1.\n",
      "2021-01-26 10:09:26,800 Train Evaluator INFO: Epoch[1] Complete. Time taken: 00:00:18\n",
      "2021-01-26 10:09:26,803 Train Evaluator INFO: Engine run complete. Time taken: 00:00:18\n",
      "2021-01-26 10:09:26,804 Val Evaluator INFO: Engine run starting with max_epochs=1.\n",
      "2021-01-26 10:09:33,579 Val Evaluator INFO: Epoch[1] Complete. Time taken: 00:00:07\n",
      "2021-01-26 10:09:33,582 Val Evaluator INFO: Engine run complete. Time taken: 00:00:07\n",
      "\u001b[34m\u001b[1mwandb\u001b[0m: \u001b[33mWARNING\u001b[0m Step must only increase in log calls.  Step 151 < 1208; dropping {'lr/group_0': 0.001}.\n",
      "2021-01-26 10:09:33,593 Trainer INFO: Epoch[151] Complete. Time taken: 00:00:44\n"
     ]
    },
    {
     "name": "stdout",
     "output_type": "stream",
     "text": [
      "train loss 0.5321677360269759\n",
      "val loss 0.7211029111959373\n",
      "validation roc auc [0.5 0.5] 151\n",
      "train roc auc [0.5 0.5] 151\n"
     ]
    },
    {
     "name": "stderr",
     "output_type": "stream",
     "text": [
      "2021-01-26 10:09:53,284 Train Evaluator INFO: Engine run starting with max_epochs=1.\n",
      "2021-01-26 10:10:12,017 Train Evaluator INFO: Epoch[1] Complete. Time taken: 00:00:19\n",
      "2021-01-26 10:10:12,021 Train Evaluator INFO: Engine run complete. Time taken: 00:00:19\n",
      "2021-01-26 10:10:12,022 Val Evaluator INFO: Engine run starting with max_epochs=1.\n",
      "2021-01-26 10:10:17,735 Val Evaluator INFO: Epoch[1] Complete. Time taken: 00:00:06\n",
      "2021-01-26 10:10:17,740 Val Evaluator INFO: Engine run complete. Time taken: 00:00:06\n",
      "\u001b[34m\u001b[1mwandb\u001b[0m: \u001b[33mWARNING\u001b[0m Step must only increase in log calls.  Step 152 < 1216; dropping {'lr/group_0': 0.001}.\n",
      "2021-01-26 10:10:17,749 Trainer INFO: Epoch[152] Complete. Time taken: 00:00:44\n"
     ]
    },
    {
     "name": "stdout",
     "output_type": "stream",
     "text": [
      "train loss 0.5320845837167145\n",
      "val loss 0.722596231539538\n",
      "validation roc auc [0.5 0.5] 152\n",
      "train roc auc [0.5 0.5] 152\n"
     ]
    },
    {
     "name": "stderr",
     "output_type": "stream",
     "text": [
      "2021-01-26 10:10:36,392 Train Evaluator INFO: Engine run starting with max_epochs=1.\n",
      "2021-01-26 10:10:52,153 Train Evaluator INFO: Epoch[1] Complete. Time taken: 00:00:16\n",
      "2021-01-26 10:10:52,155 Train Evaluator INFO: Engine run complete. Time taken: 00:00:16\n",
      "2021-01-26 10:10:52,157 Val Evaluator INFO: Engine run starting with max_epochs=1.\n",
      "2021-01-26 10:10:58,880 Val Evaluator INFO: Epoch[1] Complete. Time taken: 00:00:07\n",
      "2021-01-26 10:10:58,884 Val Evaluator INFO: Engine run complete. Time taken: 00:00:07\n",
      "\u001b[34m\u001b[1mwandb\u001b[0m: \u001b[33mWARNING\u001b[0m Step must only increase in log calls.  Step 153 < 1224; dropping {'lr/group_0': 0.001}.\n",
      "2021-01-26 10:10:58,894 Trainer INFO: Epoch[153] Complete. Time taken: 00:00:41\n"
     ]
    },
    {
     "name": "stdout",
     "output_type": "stream",
     "text": [
      "train loss 0.5320028188701289\n",
      "val loss 0.7241207338442468\n",
      "validation roc auc [0.5 0.5] 153\n",
      "train roc auc [0.5 0.5] 153\n"
     ]
    },
    {
     "name": "stderr",
     "output_type": "stream",
     "text": [
      "2021-01-26 10:11:15,785 Train Evaluator INFO: Engine run starting with max_epochs=1.\n",
      "2021-01-26 10:11:32,238 Train Evaluator INFO: Epoch[1] Complete. Time taken: 00:00:16\n",
      "2021-01-26 10:11:32,241 Train Evaluator INFO: Engine run complete. Time taken: 00:00:16\n",
      "2021-01-26 10:11:32,242 Val Evaluator INFO: Engine run starting with max_epochs=1.\n",
      "2021-01-26 10:11:38,259 Val Evaluator INFO: Epoch[1] Complete. Time taken: 00:00:06\n",
      "2021-01-26 10:11:38,263 Val Evaluator INFO: Engine run complete. Time taken: 00:00:06\n",
      "\u001b[34m\u001b[1mwandb\u001b[0m: \u001b[33mWARNING\u001b[0m Step must only increase in log calls.  Step 154 < 1232; dropping {'lr/group_0': 0.001}.\n",
      "2021-01-26 10:11:38,273 Trainer INFO: Epoch[154] Complete. Time taken: 00:00:39\n"
     ]
    },
    {
     "name": "stdout",
     "output_type": "stream",
     "text": [
      "train loss 0.5319722105215318\n",
      "val loss 0.7237517446469349\n",
      "validation roc auc [0.5 0.5] 154\n",
      "train roc auc [0.5 0.5] 154\n"
     ]
    },
    {
     "name": "stderr",
     "output_type": "stream",
     "text": [
      "2021-01-26 10:11:56,570 Train Evaluator INFO: Engine run starting with max_epochs=1.\n",
      "2021-01-26 10:12:12,542 Train Evaluator INFO: Epoch[1] Complete. Time taken: 00:00:16\n",
      "2021-01-26 10:12:12,544 Train Evaluator INFO: Engine run complete. Time taken: 00:00:16\n",
      "2021-01-26 10:12:12,546 Val Evaluator INFO: Engine run starting with max_epochs=1.\n",
      "2021-01-26 10:12:17,338 Val Evaluator INFO: Epoch[1] Complete. Time taken: 00:00:05\n",
      "2021-01-26 10:12:17,340 Val Evaluator INFO: Engine run complete. Time taken: 00:00:05\n",
      "\u001b[34m\u001b[1mwandb\u001b[0m: \u001b[33mWARNING\u001b[0m Step must only increase in log calls.  Step 155 < 1240; dropping {'lr/group_0': 0.001}.\n",
      "2021-01-26 10:12:17,352 Trainer INFO: Epoch[155] Complete. Time taken: 00:00:39\n"
     ]
    },
    {
     "name": "stdout",
     "output_type": "stream",
     "text": [
      "train loss 0.5319077197243186\n",
      "val loss 0.7251229616487103\n",
      "validation roc auc [0.5 0.5] 155\n",
      "train roc auc [0.5 0.5] 155\n"
     ]
    },
    {
     "name": "stderr",
     "output_type": "stream",
     "text": [
      "2021-01-26 10:12:33,955 Train Evaluator INFO: Engine run starting with max_epochs=1.\n",
      "2021-01-26 10:12:51,464 Train Evaluator INFO: Epoch[1] Complete. Time taken: 00:00:18\n",
      "2021-01-26 10:12:51,467 Train Evaluator INFO: Engine run complete. Time taken: 00:00:18\n",
      "2021-01-26 10:12:51,469 Val Evaluator INFO: Engine run starting with max_epochs=1.\n",
      "2021-01-26 10:12:56,806 Val Evaluator INFO: Epoch[1] Complete. Time taken: 00:00:05\n",
      "2021-01-26 10:12:56,809 Val Evaluator INFO: Engine run complete. Time taken: 00:00:05\n",
      "\u001b[34m\u001b[1mwandb\u001b[0m: \u001b[33mWARNING\u001b[0m Step must only increase in log calls.  Step 156 < 1248; dropping {'lr/group_0': 0.001}.\n",
      "2021-01-26 10:12:56,820 Trainer INFO: Epoch[156] Complete. Time taken: 00:00:39\n"
     ]
    },
    {
     "name": "stdout",
     "output_type": "stream",
     "text": [
      "train loss 0.5318570153905415\n",
      "val loss 0.726420109439048\n",
      "validation roc auc [0.5 0.5] 156\n",
      "train roc auc [0.5 0.5] 156\n"
     ]
    },
    {
     "name": "stderr",
     "output_type": "stream",
     "text": [
      "2021-01-26 10:13:14,197 Train Evaluator INFO: Engine run starting with max_epochs=1.\n",
      "2021-01-26 10:13:29,147 Train Evaluator INFO: Epoch[1] Complete. Time taken: 00:00:15\n",
      "2021-01-26 10:13:29,151 Train Evaluator INFO: Engine run complete. Time taken: 00:00:15\n",
      "2021-01-26 10:13:29,152 Val Evaluator INFO: Engine run starting with max_epochs=1.\n",
      "2021-01-26 10:13:34,359 Val Evaluator INFO: Epoch[1] Complete. Time taken: 00:00:05\n",
      "2021-01-26 10:13:34,362 Val Evaluator INFO: Engine run complete. Time taken: 00:00:05\n",
      "\u001b[34m\u001b[1mwandb\u001b[0m: \u001b[33mWARNING\u001b[0m Step must only increase in log calls.  Step 157 < 1256; dropping {'lr/group_0': 0.001}.\n",
      "2021-01-26 10:13:34,372 Trainer INFO: Epoch[157] Complete. Time taken: 00:00:38\n"
     ]
    },
    {
     "name": "stdout",
     "output_type": "stream",
     "text": [
      "train loss 0.5318264248324376\n",
      "val loss 0.7262302580153107\n",
      "validation roc auc [0.5 0.5] 157\n",
      "train roc auc [0.5 0.5] 157\n"
     ]
    },
    {
     "name": "stderr",
     "output_type": "stream",
     "text": [
      "2021-01-26 10:13:50,984 Train Evaluator INFO: Engine run starting with max_epochs=1.\n",
      "2021-01-26 10:14:08,092 Train Evaluator INFO: Epoch[1] Complete. Time taken: 00:00:17\n",
      "2021-01-26 10:14:08,094 Train Evaluator INFO: Engine run complete. Time taken: 00:00:17\n",
      "2021-01-26 10:14:08,096 Val Evaluator INFO: Engine run starting with max_epochs=1.\n",
      "2021-01-26 10:14:14,358 Val Evaluator INFO: Epoch[1] Complete. Time taken: 00:00:06\n",
      "2021-01-26 10:14:14,361 Val Evaluator INFO: Engine run complete. Time taken: 00:00:06\n",
      "\u001b[34m\u001b[1mwandb\u001b[0m: \u001b[33mWARNING\u001b[0m Step must only increase in log calls.  Step 158 < 1264; dropping {'lr/group_0': 0.001}.\n",
      "2021-01-26 10:14:14,373 Trainer INFO: Epoch[158] Complete. Time taken: 00:00:40\n"
     ]
    },
    {
     "name": "stdout",
     "output_type": "stream",
     "text": [
      "train loss 0.531790135148304\n",
      "val loss 0.7271575510122215\n",
      "validation roc auc [0.5 0.5] 158\n",
      "train roc auc [0.5 0.5] 158\n"
     ]
    },
    {
     "name": "stderr",
     "output_type": "stream",
     "text": [
      "2021-01-26 10:14:31,281 Train Evaluator INFO: Engine run starting with max_epochs=1.\n",
      "2021-01-26 10:14:48,913 Train Evaluator INFO: Epoch[1] Complete. Time taken: 00:00:18\n",
      "2021-01-26 10:14:48,917 Train Evaluator INFO: Engine run complete. Time taken: 00:00:18\n",
      "2021-01-26 10:14:48,918 Val Evaluator INFO: Engine run starting with max_epochs=1.\n",
      "2021-01-26 10:14:54,797 Val Evaluator INFO: Epoch[1] Complete. Time taken: 00:00:06\n",
      "2021-01-26 10:14:54,801 Val Evaluator INFO: Engine run complete. Time taken: 00:00:06\n",
      "\u001b[34m\u001b[1mwandb\u001b[0m: \u001b[33mWARNING\u001b[0m Step must only increase in log calls.  Step 159 < 1272; dropping {'lr/group_0': 0.001}.\n",
      "2021-01-26 10:14:54,811 Trainer INFO: Epoch[159] Complete. Time taken: 00:00:40\n"
     ]
    },
    {
     "name": "stdout",
     "output_type": "stream",
     "text": [
      "train loss 0.5317817273223062\n",
      "val loss 0.7273419605698556\n",
      "validation roc auc [0.5 0.5] 159\n",
      "train roc auc [0.5 0.5] 159\n"
     ]
    },
    {
     "name": "stderr",
     "output_type": "stream",
     "text": [
      "2021-01-26 10:15:12,930 Train Evaluator INFO: Engine run starting with max_epochs=1.\n",
      "2021-01-26 10:15:29,594 Train Evaluator INFO: Epoch[1] Complete. Time taken: 00:00:17\n",
      "2021-01-26 10:15:29,597 Train Evaluator INFO: Engine run complete. Time taken: 00:00:17\n",
      "2021-01-26 10:15:29,598 Val Evaluator INFO: Engine run starting with max_epochs=1.\n",
      "2021-01-26 10:15:35,832 Val Evaluator INFO: Epoch[1] Complete. Time taken: 00:00:06\n",
      "2021-01-26 10:15:35,837 Val Evaluator INFO: Engine run complete. Time taken: 00:00:06\n",
      "\u001b[34m\u001b[1mwandb\u001b[0m: \u001b[33mWARNING\u001b[0m Step must only increase in log calls.  Step 160 < 1280; dropping {'lr/group_0': 0.001}.\n",
      "2021-01-26 10:15:35,845 Trainer INFO: Epoch[160] Complete. Time taken: 00:00:41\n"
     ]
    },
    {
     "name": "stdout",
     "output_type": "stream",
     "text": [
      "train loss 0.5317702634921521\n",
      "val loss 0.7269186647074997\n",
      "validation roc auc [0.5 0.5] 160\n",
      "train roc auc [0.5 0.5] 160\n"
     ]
    },
    {
     "name": "stderr",
     "output_type": "stream",
     "text": [
      "2021-01-26 10:15:53,952 Train Evaluator INFO: Engine run starting with max_epochs=1.\n",
      "2021-01-26 10:16:13,792 Train Evaluator INFO: Epoch[1] Complete. Time taken: 00:00:20\n",
      "2021-01-26 10:16:13,796 Train Evaluator INFO: Engine run complete. Time taken: 00:00:20\n",
      "2021-01-26 10:16:13,797 Val Evaluator INFO: Engine run starting with max_epochs=1.\n",
      "2021-01-26 10:16:20,321 Val Evaluator INFO: Epoch[1] Complete. Time taken: 00:00:07\n",
      "2021-01-26 10:16:20,325 Val Evaluator INFO: Engine run complete. Time taken: 00:00:07\n",
      "\u001b[34m\u001b[1mwandb\u001b[0m: \u001b[33mWARNING\u001b[0m Step must only increase in log calls.  Step 161 < 1288; dropping {'lr/group_0': 0.001}.\n",
      "2021-01-26 10:16:20,337 Trainer INFO: Epoch[161] Complete. Time taken: 00:00:44\n"
     ]
    },
    {
     "name": "stdout",
     "output_type": "stream",
     "text": [
      "train loss 0.5318043090419312\n",
      "val loss 0.7252940311553372\n",
      "validation roc auc [0.5 0.5] 161\n",
      "train roc auc [0.5 0.5] 161\n"
     ]
    },
    {
     "name": "stderr",
     "output_type": "stream",
     "text": [
      "2021-01-26 10:16:41,643 Train Evaluator INFO: Engine run starting with max_epochs=1.\n",
      "2021-01-26 10:17:02,186 Train Evaluator INFO: Epoch[1] Complete. Time taken: 00:00:21\n",
      "2021-01-26 10:17:02,189 Train Evaluator INFO: Engine run complete. Time taken: 00:00:21\n",
      "2021-01-26 10:17:02,190 Val Evaluator INFO: Engine run starting with max_epochs=1.\n",
      "2021-01-26 10:17:09,405 Val Evaluator INFO: Epoch[1] Complete. Time taken: 00:00:07\n",
      "2021-01-26 10:17:09,408 Val Evaluator INFO: Engine run complete. Time taken: 00:00:07\n",
      "\u001b[34m\u001b[1mwandb\u001b[0m: \u001b[33mWARNING\u001b[0m Step must only increase in log calls.  Step 162 < 1296; dropping {'lr/group_0': 0.001}.\n",
      "2021-01-26 10:17:09,417 Trainer INFO: Epoch[162] Complete. Time taken: 00:00:49\n"
     ]
    },
    {
     "name": "stdout",
     "output_type": "stream",
     "text": [
      "train loss 0.5318151107281122\n",
      "val loss 0.7249353501447446\n",
      "validation roc auc [0.5 0.5] 162\n",
      "train roc auc [0.5 0.5] 162\n"
     ]
    },
    {
     "name": "stderr",
     "output_type": "stream",
     "text": [
      "2021-01-26 10:17:30,677 Train Evaluator INFO: Engine run starting with max_epochs=1.\n",
      "2021-01-26 10:17:50,496 Train Evaluator INFO: Epoch[1] Complete. Time taken: 00:00:20\n",
      "2021-01-26 10:17:50,499 Train Evaluator INFO: Engine run complete. Time taken: 00:00:20\n",
      "2021-01-26 10:17:50,501 Val Evaluator INFO: Engine run starting with max_epochs=1.\n",
      "2021-01-26 10:17:57,326 Val Evaluator INFO: Epoch[1] Complete. Time taken: 00:00:07\n",
      "2021-01-26 10:17:57,330 Val Evaluator INFO: Engine run complete. Time taken: 00:00:07\n",
      "\u001b[34m\u001b[1mwandb\u001b[0m: \u001b[33mWARNING\u001b[0m Step must only increase in log calls.  Step 163 < 1304; dropping {'lr/group_0': 0.001}.\n",
      "2021-01-26 10:17:57,341 Trainer INFO: Epoch[163] Complete. Time taken: 00:00:48\n"
     ]
    },
    {
     "name": "stdout",
     "output_type": "stream",
     "text": [
      "train loss 0.5317830274567366\n",
      "val loss 0.7259676000874513\n",
      "validation roc auc [0.5 0.5] 163\n",
      "train roc auc [0.5 0.5] 163\n"
     ]
    },
    {
     "name": "stderr",
     "output_type": "stream",
     "text": [
      "2021-01-26 10:18:18,455 Train Evaluator INFO: Engine run starting with max_epochs=1.\n",
      "2021-01-26 10:18:38,211 Train Evaluator INFO: Epoch[1] Complete. Time taken: 00:00:20\n",
      "2021-01-26 10:18:38,214 Train Evaluator INFO: Engine run complete. Time taken: 00:00:20\n",
      "2021-01-26 10:18:38,215 Val Evaluator INFO: Engine run starting with max_epochs=1.\n",
      "2021-01-26 10:18:44,813 Val Evaluator INFO: Epoch[1] Complete. Time taken: 00:00:07\n",
      "2021-01-26 10:18:44,817 Val Evaluator INFO: Engine run complete. Time taken: 00:00:07\n",
      "\u001b[34m\u001b[1mwandb\u001b[0m: \u001b[33mWARNING\u001b[0m Step must only increase in log calls.  Step 164 < 1312; dropping {'lr/group_0': 0.001}.\n",
      "2021-01-26 10:18:44,828 Trainer INFO: Epoch[164] Complete. Time taken: 00:00:47\n"
     ]
    },
    {
     "name": "stdout",
     "output_type": "stream",
     "text": [
      "train loss 0.5317735146073734\n",
      "val loss 0.7262867962478832\n",
      "validation roc auc [0.5 0.5] 164\n",
      "train roc auc [0.5 0.5] 164\n"
     ]
    },
    {
     "name": "stderr",
     "output_type": "stream",
     "text": [
      "2021-01-26 10:19:05,301 Train Evaluator INFO: Engine run starting with max_epochs=1.\n",
      "2021-01-26 10:19:24,622 Train Evaluator INFO: Epoch[1] Complete. Time taken: 00:00:19\n",
      "2021-01-26 10:19:24,625 Train Evaluator INFO: Engine run complete. Time taken: 00:00:19\n",
      "2021-01-26 10:19:24,626 Val Evaluator INFO: Engine run starting with max_epochs=1.\n",
      "2021-01-26 10:19:31,406 Val Evaluator INFO: Epoch[1] Complete. Time taken: 00:00:07\n",
      "2021-01-26 10:19:31,409 Val Evaluator INFO: Engine run complete. Time taken: 00:00:07\n",
      "\u001b[34m\u001b[1mwandb\u001b[0m: \u001b[33mWARNING\u001b[0m Step must only increase in log calls.  Step 165 < 1320; dropping {'lr/group_0': 0.001}.\n",
      "2021-01-26 10:19:31,421 Trainer INFO: Epoch[165] Complete. Time taken: 00:00:47\n"
     ]
    },
    {
     "name": "stdout",
     "output_type": "stream",
     "text": [
      "train loss 0.531758184136908\n",
      "val loss 0.726921923600944\n",
      "validation roc auc [0.5 0.5] 165\n",
      "train roc auc [0.5 0.5] 165\n"
     ]
    },
    {
     "name": "stderr",
     "output_type": "stream",
     "text": [
      "2021-01-26 10:19:50,169 Train Evaluator INFO: Engine run starting with max_epochs=1.\n",
      "2021-01-26 10:20:08,875 Train Evaluator INFO: Epoch[1] Complete. Time taken: 00:00:19\n",
      "2021-01-26 10:20:08,880 Train Evaluator INFO: Engine run complete. Time taken: 00:00:19\n",
      "2021-01-26 10:20:08,882 Val Evaluator INFO: Engine run starting with max_epochs=1.\n",
      "2021-01-26 10:20:15,493 Val Evaluator INFO: Epoch[1] Complete. Time taken: 00:00:07\n",
      "2021-01-26 10:20:15,498 Val Evaluator INFO: Engine run complete. Time taken: 00:00:07\n",
      "\u001b[34m\u001b[1mwandb\u001b[0m: \u001b[33mWARNING\u001b[0m Step must only increase in log calls.  Step 166 < 1328; dropping {'lr/group_0': 0.001}.\n",
      "2021-01-26 10:20:15,509 Trainer INFO: Epoch[166] Complete. Time taken: 00:00:44\n"
     ]
    },
    {
     "name": "stdout",
     "output_type": "stream",
     "text": [
      "train loss 0.5317365692072185\n",
      "val loss 0.7281008503239625\n",
      "validation roc auc [0.5 0.5] 166\n",
      "train roc auc [0.5 0.5] 166\n"
     ]
    },
    {
     "name": "stderr",
     "output_type": "stream",
     "text": [
      "2021-01-26 10:20:34,199 Train Evaluator INFO: Engine run starting with max_epochs=1.\n",
      "2021-01-26 10:20:53,183 Train Evaluator INFO: Epoch[1] Complete. Time taken: 00:00:19\n",
      "2021-01-26 10:20:53,186 Train Evaluator INFO: Engine run complete. Time taken: 00:00:19\n",
      "2021-01-26 10:20:53,188 Val Evaluator INFO: Engine run starting with max_epochs=1.\n",
      "2021-01-26 10:20:59,826 Val Evaluator INFO: Epoch[1] Complete. Time taken: 00:00:07\n",
      "2021-01-26 10:20:59,830 Val Evaluator INFO: Engine run complete. Time taken: 00:00:07\n",
      "\u001b[34m\u001b[1mwandb\u001b[0m: \u001b[33mWARNING\u001b[0m Step must only increase in log calls.  Step 167 < 1336; dropping {'lr/group_0': 0.001}.\n",
      "2021-01-26 10:20:59,842 Trainer INFO: Epoch[167] Complete. Time taken: 00:00:44\n"
     ]
    },
    {
     "name": "stdout",
     "output_type": "stream",
     "text": [
      "train loss 0.5317231775758573\n",
      "val loss 0.7297139794203886\n",
      "validation roc auc [0.5 0.5] 167\n",
      "train roc auc [0.5 0.5] 167\n"
     ]
    },
    {
     "name": "stderr",
     "output_type": "stream",
     "text": [
      "2021-01-26 10:21:19,716 Train Evaluator INFO: Engine run starting with max_epochs=1.\n",
      "2021-01-26 10:21:38,776 Train Evaluator INFO: Epoch[1] Complete. Time taken: 00:00:19\n",
      "2021-01-26 10:21:38,779 Train Evaluator INFO: Engine run complete. Time taken: 00:00:19\n",
      "2021-01-26 10:21:38,780 Val Evaluator INFO: Engine run starting with max_epochs=1.\n",
      "2021-01-26 10:21:44,928 Val Evaluator INFO: Epoch[1] Complete. Time taken: 00:00:06\n",
      "2021-01-26 10:21:44,932 Val Evaluator INFO: Engine run complete. Time taken: 00:00:06\n",
      "\u001b[34m\u001b[1mwandb\u001b[0m: \u001b[33mWARNING\u001b[0m Step must only increase in log calls.  Step 168 < 1344; dropping {'lr/group_0': 0.001}.\n",
      "2021-01-26 10:21:44,945 Trainer INFO: Epoch[168] Complete. Time taken: 00:00:45\n"
     ]
    },
    {
     "name": "stdout",
     "output_type": "stream",
     "text": [
      "train loss 0.5317226989856213\n",
      "val loss 0.7300790555917533\n",
      "validation roc auc [0.5 0.5] 168\n",
      "train roc auc [0.5 0.5] 168\n"
     ]
    },
    {
     "name": "stderr",
     "output_type": "stream",
     "text": [
      "2021-01-26 10:22:03,214 Train Evaluator INFO: Engine run starting with max_epochs=1.\n",
      "2021-01-26 10:22:23,678 Train Evaluator INFO: Epoch[1] Complete. Time taken: 00:00:20\n",
      "2021-01-26 10:22:23,681 Train Evaluator INFO: Engine run complete. Time taken: 00:00:20\n",
      "2021-01-26 10:22:23,683 Val Evaluator INFO: Engine run starting with max_epochs=1.\n",
      "2021-01-26 10:22:29,845 Val Evaluator INFO: Epoch[1] Complete. Time taken: 00:00:06\n",
      "2021-01-26 10:22:29,849 Val Evaluator INFO: Engine run complete. Time taken: 00:00:06\n",
      "\u001b[34m\u001b[1mwandb\u001b[0m: \u001b[33mWARNING\u001b[0m Step must only increase in log calls.  Step 169 < 1352; dropping {'lr/group_0': 0.001}.\n",
      "2021-01-26 10:22:29,860 Trainer INFO: Epoch[169] Complete. Time taken: 00:00:45\n"
     ]
    },
    {
     "name": "stdout",
     "output_type": "stream",
     "text": [
      "train loss 0.531733709288059\n",
      "val loss 0.7292489341110181\n",
      "validation roc auc [0.5 0.5] 169\n",
      "train roc auc [0.5 0.5] 169\n"
     ]
    },
    {
     "name": "stderr",
     "output_type": "stream",
     "text": [
      "2021-01-26 10:22:48,127 Train Evaluator INFO: Engine run starting with max_epochs=1.\n",
      "2021-01-26 10:23:06,859 Train Evaluator INFO: Epoch[1] Complete. Time taken: 00:00:19\n",
      "2021-01-26 10:23:06,862 Train Evaluator INFO: Engine run complete. Time taken: 00:00:19\n",
      "2021-01-26 10:23:06,863 Val Evaluator INFO: Engine run starting with max_epochs=1.\n",
      "2021-01-26 10:23:14,116 Val Evaluator INFO: Epoch[1] Complete. Time taken: 00:00:07\n",
      "2021-01-26 10:23:14,120 Val Evaluator INFO: Engine run complete. Time taken: 00:00:07\n",
      "\u001b[34m\u001b[1mwandb\u001b[0m: \u001b[33mWARNING\u001b[0m Step must only increase in log calls.  Step 170 < 1360; dropping {'lr/group_0': 0.001}.\n",
      "2021-01-26 10:23:14,133 Trainer INFO: Epoch[170] Complete. Time taken: 00:00:44\n"
     ]
    },
    {
     "name": "stdout",
     "output_type": "stream",
     "text": [
      "train loss 0.5317424861693953\n",
      "val loss 0.7288124519548599\n",
      "validation roc auc [0.5 0.5] 170\n",
      "train roc auc [0.5 0.5] 170\n"
     ]
    },
    {
     "name": "stderr",
     "output_type": "stream",
     "text": [
      "2021-01-26 10:23:31,880 Train Evaluator INFO: Engine run starting with max_epochs=1.\n",
      "2021-01-26 10:23:50,308 Train Evaluator INFO: Epoch[1] Complete. Time taken: 00:00:18\n",
      "2021-01-26 10:23:50,312 Train Evaluator INFO: Engine run complete. Time taken: 00:00:18\n",
      "2021-01-26 10:23:50,313 Val Evaluator INFO: Engine run starting with max_epochs=1.\n",
      "2021-01-26 10:23:56,421 Val Evaluator INFO: Epoch[1] Complete. Time taken: 00:00:06\n",
      "2021-01-26 10:23:56,425 Val Evaluator INFO: Engine run complete. Time taken: 00:00:06\n",
      "\u001b[34m\u001b[1mwandb\u001b[0m: \u001b[33mWARNING\u001b[0m Step must only increase in log calls.  Step 171 < 1368; dropping {'lr/group_0': 0.001}.\n",
      "2021-01-26 10:23:56,437 Trainer INFO: Epoch[171] Complete. Time taken: 00:00:42\n"
     ]
    },
    {
     "name": "stdout",
     "output_type": "stream",
     "text": [
      "train loss 0.5317711052292053\n",
      "val loss 0.72698065885313\n",
      "validation roc auc [0.5 0.5] 171\n",
      "train roc auc [0.5 0.5] 171\n"
     ]
    },
    {
     "name": "stderr",
     "output_type": "stream",
     "text": [
      "2021-01-26 10:24:15,942 Train Evaluator INFO: Engine run starting with max_epochs=1.\n",
      "2021-01-26 10:24:34,085 Train Evaluator INFO: Epoch[1] Complete. Time taken: 00:00:18\n",
      "2021-01-26 10:24:34,087 Train Evaluator INFO: Engine run complete. Time taken: 00:00:18\n",
      "2021-01-26 10:24:34,089 Val Evaluator INFO: Engine run starting with max_epochs=1.\n",
      "2021-01-26 10:24:40,595 Val Evaluator INFO: Epoch[1] Complete. Time taken: 00:00:07\n",
      "2021-01-26 10:24:40,598 Val Evaluator INFO: Engine run complete. Time taken: 00:00:07\n",
      "\u001b[34m\u001b[1mwandb\u001b[0m: \u001b[33mWARNING\u001b[0m Step must only increase in log calls.  Step 172 < 1376; dropping {'lr/group_0': 0.001}.\n",
      "2021-01-26 10:24:40,605 Trainer INFO: Epoch[172] Complete. Time taken: 00:00:44\n"
     ]
    },
    {
     "name": "stdout",
     "output_type": "stream",
     "text": [
      "train loss 0.5317590635326693\n",
      "val loss 0.7280294052354849\n",
      "validation roc auc [0.5 0.5] 172\n",
      "train roc auc [0.5 0.5] 172\n"
     ]
    },
    {
     "name": "stderr",
     "output_type": "stream",
     "text": [
      "2021-01-26 10:24:56,896 Train Evaluator INFO: Engine run starting with max_epochs=1.\n",
      "2021-01-26 10:25:12,984 Train Evaluator INFO: Epoch[1] Complete. Time taken: 00:00:16\n",
      "2021-01-26 10:25:12,987 Train Evaluator INFO: Engine run complete. Time taken: 00:00:16\n",
      "2021-01-26 10:25:12,992 Val Evaluator INFO: Engine run starting with max_epochs=1.\n",
      "2021-01-26 10:25:18,959 Val Evaluator INFO: Epoch[1] Complete. Time taken: 00:00:06\n",
      "2021-01-26 10:25:18,962 Val Evaluator INFO: Engine run complete. Time taken: 00:00:06\n",
      "\u001b[34m\u001b[1mwandb\u001b[0m: \u001b[33mWARNING\u001b[0m Step must only increase in log calls.  Step 173 < 1384; dropping {'lr/group_0': 0.001}.\n",
      "2021-01-26 10:25:18,977 Trainer INFO: Epoch[173] Complete. Time taken: 00:00:38\n"
     ]
    },
    {
     "name": "stdout",
     "output_type": "stream",
     "text": [
      "train loss 0.5317535922418233\n",
      "val loss 0.7293127554996758\n",
      "validation roc auc [0.5 0.5] 173\n",
      "train roc auc [0.5 0.5] 173\n"
     ]
    },
    {
     "name": "stderr",
     "output_type": "stream",
     "text": [
      "2021-01-26 10:25:34,589 Train Evaluator INFO: Engine run starting with max_epochs=1.\n",
      "2021-01-26 10:25:50,581 Train Evaluator INFO: Epoch[1] Complete. Time taken: 00:00:16\n",
      "2021-01-26 10:25:50,584 Train Evaluator INFO: Engine run complete. Time taken: 00:00:16\n",
      "2021-01-26 10:25:50,586 Val Evaluator INFO: Engine run starting with max_epochs=1.\n",
      "2021-01-26 10:25:56,359 Val Evaluator INFO: Epoch[1] Complete. Time taken: 00:00:06\n",
      "2021-01-26 10:25:56,361 Val Evaluator INFO: Engine run complete. Time taken: 00:00:06\n",
      "\u001b[34m\u001b[1mwandb\u001b[0m: \u001b[33mWARNING\u001b[0m Step must only increase in log calls.  Step 174 < 1392; dropping {'lr/group_0': 0.001}.\n",
      "2021-01-26 10:25:56,371 Trainer INFO: Epoch[174] Complete. Time taken: 00:00:37\n"
     ]
    },
    {
     "name": "stdout",
     "output_type": "stream",
     "text": [
      "train loss 0.5317498607183594\n",
      "val loss 0.7289984651431916\n",
      "validation roc auc [0.5 0.5] 174\n",
      "train roc auc [0.5 0.5] 174\n"
     ]
    },
    {
     "name": "stderr",
     "output_type": "stream",
     "text": [
      "2021-01-26 10:26:12,074 Train Evaluator INFO: Engine run starting with max_epochs=1.\n",
      "2021-01-26 10:26:28,469 Train Evaluator INFO: Epoch[1] Complete. Time taken: 00:00:16\n",
      "2021-01-26 10:26:28,472 Train Evaluator INFO: Engine run complete. Time taken: 00:00:16\n",
      "2021-01-26 10:26:28,475 Val Evaluator INFO: Engine run starting with max_epochs=1.\n",
      "2021-01-26 10:26:33,636 Val Evaluator INFO: Epoch[1] Complete. Time taken: 00:00:05\n",
      "2021-01-26 10:26:33,638 Val Evaluator INFO: Engine run complete. Time taken: 00:00:05\n",
      "\u001b[34m\u001b[1mwandb\u001b[0m: \u001b[33mWARNING\u001b[0m Step must only increase in log calls.  Step 175 < 1400; dropping {'lr/group_0': 0.001}.\n",
      "2021-01-26 10:26:33,646 Trainer INFO: Epoch[175] Complete. Time taken: 00:00:37\n"
     ]
    },
    {
     "name": "stdout",
     "output_type": "stream",
     "text": [
      "train loss 0.5317429166473854\n",
      "val loss 0.7286875950303048\n",
      "validation roc auc [0.5 0.5] 175\n",
      "train roc auc [0.5 0.5] 175\n"
     ]
    },
    {
     "name": "stderr",
     "output_type": "stream",
     "text": [
      "2021-01-26 10:26:50,240 Train Evaluator INFO: Engine run starting with max_epochs=1.\n",
      "2021-01-26 10:27:07,534 Train Evaluator INFO: Epoch[1] Complete. Time taken: 00:00:17\n",
      "2021-01-26 10:27:07,537 Train Evaluator INFO: Engine run complete. Time taken: 00:00:17\n",
      "2021-01-26 10:27:07,538 Val Evaluator INFO: Engine run starting with max_epochs=1.\n",
      "2021-01-26 10:27:13,142 Val Evaluator INFO: Epoch[1] Complete. Time taken: 00:00:06\n",
      "2021-01-26 10:27:13,145 Val Evaluator INFO: Engine run complete. Time taken: 00:00:06\n",
      "\u001b[34m\u001b[1mwandb\u001b[0m: \u001b[33mWARNING\u001b[0m Step must only increase in log calls.  Step 176 < 1408; dropping {'lr/group_0': 0.001}.\n",
      "2021-01-26 10:27:13,155 Trainer INFO: Epoch[176] Complete. Time taken: 00:00:40\n"
     ]
    },
    {
     "name": "stdout",
     "output_type": "stream",
     "text": [
      "train loss 0.5317565226087383\n",
      "val loss 0.7276875422259045\n",
      "validation roc auc [0.5 0.5] 176\n",
      "train roc auc [0.5 0.5] 176\n"
     ]
    },
    {
     "name": "stderr",
     "output_type": "stream",
     "text": [
      "2021-01-26 10:27:29,589 Train Evaluator INFO: Engine run starting with max_epochs=1.\n",
      "2021-01-26 10:27:45,054 Train Evaluator INFO: Epoch[1] Complete. Time taken: 00:00:15\n",
      "2021-01-26 10:27:45,058 Train Evaluator INFO: Engine run complete. Time taken: 00:00:15\n",
      "2021-01-26 10:27:45,059 Val Evaluator INFO: Engine run starting with max_epochs=1.\n",
      "2021-01-26 10:27:50,812 Val Evaluator INFO: Epoch[1] Complete. Time taken: 00:00:06\n",
      "2021-01-26 10:27:50,816 Val Evaluator INFO: Engine run complete. Time taken: 00:00:06\n",
      "\u001b[34m\u001b[1mwandb\u001b[0m: \u001b[33mWARNING\u001b[0m Step must only increase in log calls.  Step 177 < 1416; dropping {'lr/group_0': 0.001}.\n",
      "2021-01-26 10:27:50,828 Trainer INFO: Epoch[177] Complete. Time taken: 00:00:38\n"
     ]
    },
    {
     "name": "stdout",
     "output_type": "stream",
     "text": [
      "train loss 0.5317512762312796\n",
      "val loss 0.7281367467467192\n",
      "validation roc auc [0.5 0.5] 177\n",
      "train roc auc [0.5 0.5] 177\n"
     ]
    },
    {
     "name": "stderr",
     "output_type": "stream",
     "text": [
      "2021-01-26 10:28:08,273 Train Evaluator INFO: Engine run starting with max_epochs=1.\n",
      "2021-01-26 10:28:25,167 Train Evaluator INFO: Epoch[1] Complete. Time taken: 00:00:17\n",
      "2021-01-26 10:28:25,170 Train Evaluator INFO: Engine run complete. Time taken: 00:00:17\n",
      "2021-01-26 10:28:25,172 Val Evaluator INFO: Engine run starting with max_epochs=1.\n",
      "2021-01-26 10:28:30,361 Val Evaluator INFO: Epoch[1] Complete. Time taken: 00:00:05\n",
      "2021-01-26 10:28:30,363 Val Evaluator INFO: Engine run complete. Time taken: 00:00:05\n",
      "\u001b[34m\u001b[1mwandb\u001b[0m: \u001b[33mWARNING\u001b[0m Step must only increase in log calls.  Step 178 < 1424; dropping {'lr/group_0': 0.001}.\n",
      "2021-01-26 10:28:30,373 Trainer INFO: Epoch[178] Complete. Time taken: 00:00:40\n"
     ]
    },
    {
     "name": "stdout",
     "output_type": "stream",
     "text": [
      "train loss 0.5317522654865822\n",
      "val loss 0.7277449619997839\n",
      "validation roc auc [0.5 0.5] 178\n",
      "train roc auc [0.5 0.5] 178\n"
     ]
    },
    {
     "name": "stderr",
     "output_type": "stream",
     "text": [
      "2021-01-26 10:28:46,520 Train Evaluator INFO: Engine run starting with max_epochs=1.\n",
      "2021-01-26 10:29:03,013 Train Evaluator INFO: Epoch[1] Complete. Time taken: 00:00:16\n",
      "2021-01-26 10:29:03,016 Train Evaluator INFO: Engine run complete. Time taken: 00:00:16\n",
      "2021-01-26 10:29:03,018 Val Evaluator INFO: Engine run starting with max_epochs=1.\n",
      "2021-01-26 10:29:08,516 Val Evaluator INFO: Epoch[1] Complete. Time taken: 00:00:05\n",
      "2021-01-26 10:29:08,519 Val Evaluator INFO: Engine run complete. Time taken: 00:00:06\n",
      "\u001b[34m\u001b[1mwandb\u001b[0m: \u001b[33mWARNING\u001b[0m Step must only increase in log calls.  Step 179 < 1432; dropping {'lr/group_0': 0.001}.\n",
      "2021-01-26 10:29:08,529 Trainer INFO: Epoch[179] Complete. Time taken: 00:00:38\n"
     ]
    },
    {
     "name": "stdout",
     "output_type": "stream",
     "text": [
      "train loss 0.5317441031564035\n",
      "val loss 0.7281190954196225\n",
      "validation roc auc [0.5 0.5] 179\n",
      "train roc auc [0.5 0.5] 179\n"
     ]
    },
    {
     "name": "stderr",
     "output_type": "stream",
     "text": [
      "2021-01-26 10:29:25,456 Train Evaluator INFO: Engine run starting with max_epochs=1.\n",
      "2021-01-26 10:29:41,720 Train Evaluator INFO: Epoch[1] Complete. Time taken: 00:00:16\n",
      "2021-01-26 10:29:41,723 Train Evaluator INFO: Engine run complete. Time taken: 00:00:16\n",
      "2021-01-26 10:29:41,725 Val Evaluator INFO: Engine run starting with max_epochs=1.\n"
     ]
    }
   ],
   "source": [
    "# no init 16, 64\n",
    "print('ready ?')\n",
    "runutils.run(model, dataloaders, optimizer, criterion, metrics, device,config, runconfigs.PROJECT_NAME)\n"
   ]
  },
  {
   "cell_type": "code",
   "execution_count": null,
   "metadata": {},
   "outputs": [],
   "source": [
    "model.fc1.weight"
   ]
  },
  {
   "cell_type": "code",
   "execution_count": null,
   "metadata": {},
   "outputs": [],
   "source": [
    "\n",
    "example_input = (torch.ones((1,1,h_w[0]*h_w[1]))*-32767)\n",
    "example_input = example_input.float().to(device)\n",
    "out=model(example_input)\n",
    "out\n",
    "\n",
    "activated_output_transform((out,out))"
   ]
  },
  {
   "cell_type": "code",
   "execution_count": null,
   "metadata": {},
   "outputs": [],
   "source": [
    "torch.Tensor([10,10,10])"
   ]
  },
  {
   "cell_type": "code",
   "execution_count": null,
   "metadata": {},
   "outputs": [],
   "source": [
    "sum(model.fc1.weight)"
   ]
  },
  {
   "cell_type": "code",
   "execution_count": null,
   "metadata": {},
   "outputs": [],
   "source": [
    "m = nn.Sigmoid()\n",
    "\n",
    "loss = nn.BCEWithLogitsLoss()\n",
    "input = torch.tensor([100.0,100,100], requires_grad=True)\n",
    "# target = torch.empty(3).random_(2)\n",
    "target = torch.ones(3)\n",
    "output = loss((input), target)\n",
    "input,target,output"
   ]
  },
  {
   "cell_type": "code",
   "execution_count": null,
   "metadata": {},
   "outputs": [],
   "source": [
    "input"
   ]
  },
  {
   "cell_type": "code",
   "execution_count": null,
   "metadata": {},
   "outputs": [],
   "source": [
    "target"
   ]
  },
  {
   "cell_type": "code",
   "execution_count": null,
   "metadata": {},
   "outputs": [],
   "source": [
    "output"
   ]
  },
  {
   "cell_type": "code",
   "execution_count": null,
   "metadata": {},
   "outputs": [],
   "source": [
    "m(input)"
   ]
  },
  {
   "cell_type": "code",
   "execution_count": null,
   "metadata": {},
   "outputs": [],
   "source": []
  },
  {
   "cell_type": "code",
   "execution_count": null,
   "metadata": {},
   "outputs": [],
   "source": []
  },
  {
   "cell_type": "code",
   "execution_count": null,
   "metadata": {},
   "outputs": [],
   "source": []
  }
 ],
 "metadata": {
  "kernelspec": {
   "display_name": "soundenv3",
   "language": "python",
   "name": "soundenv3"
  },
  "language_info": {
   "codemirror_mode": {
    "name": "ipython",
    "version": 3
   },
   "file_extension": ".py",
   "mimetype": "text/x-python",
   "name": "python",
   "nbconvert_exporter": "python",
   "pygments_lexer": "ipython3",
   "version": "3.7.9"
  }
 },
 "nbformat": 4,
 "nbformat_minor": 4
}
