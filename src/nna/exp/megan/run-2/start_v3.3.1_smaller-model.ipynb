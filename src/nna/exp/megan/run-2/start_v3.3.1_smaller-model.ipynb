{
 "cells": [
  {
   "cell_type": "code",
   "execution_count": 1,
   "metadata": {},
   "outputs": [],
   "source": [
    "# make model smaller, \n",
    "\n",
    "import os\n",
    "\n",
    "os.chdir('/home/enis/projects/nna/src/nna/exp/megan/run-2/')\n"
   ]
  },
  {
   "cell_type": "code",
   "execution_count": 2,
   "metadata": {},
   "outputs": [
    {
     "name": "stderr",
     "output_type": "stream",
     "text": [
      "/scratch/enis/conda/envs/soundenv3/lib/python3.7/site-packages/torchaudio/backend/utils.py:54: UserWarning: \"sox\" backend is being deprecated. The default backend will be changed to \"sox_io\" backend in 0.8.0 and \"sox\" backend will be removed in 0.9.0. Please migrate to \"sox_io\" backend. Please refer to https://github.com/pytorch/audio/issues/903 for the detail.\n",
      "  '\"sox\" backend is being deprecated. '\n"
     ]
    }
   ],
   "source": [
    "# import run\n",
    "# import nna\n",
    "import torch\n",
    "import torch.nn as nn\n",
    "import torch.nn.functional as F\n",
    "from torchvision import transforms\n",
    "import torchaudio\n",
    "torchaudio.set_audio_backend(\"sox_io\")\n",
    "\n",
    "import numpy as np\n",
    "\n",
    "from pathlib import Path\n",
    "from collections import Counter\n"
   ]
  },
  {
   "cell_type": "code",
   "execution_count": 3,
   "metadata": {},
   "outputs": [],
   "source": [
    "torch.manual_seed(42)\n",
    "\n",
    "np.random.seed(42)\n",
    "\n",
    "torch.backends.cudnn.benchmark = False"
   ]
  },
  {
   "cell_type": "code",
   "execution_count": 4,
   "metadata": {},
   "outputs": [],
   "source": [
    "loc_per_set = [['45',\n",
    "  '38',\n",
    "  '48',\n",
    "  '39',\n",
    "  '11',\n",
    "  '44',\n",
    "  '46',\n",
    "  '17',\n",
    "  '20',\n",
    "  '50',\n",
    "  '13',\n",
    "  '25',\n",
    "  '21',\n",
    "  '29',\n",
    "  '19',\n",
    "  '16',\n",
    "  '24',\n",
    "  '37'],\n",
    " ['18', '31', '34', '27', '32', '33', '47', '41', '22', '15'],\n",
    " ['30', '12', '14', '36', '40', '49']]\n"
   ]
  },
  {
   "cell_type": "code",
   "execution_count": 5,
   "metadata": {},
   "outputs": [],
   "source": [
    "import runconfigs\n",
    "import wandb\n",
    "from ignite.metrics import Accuracy, Loss\n",
    "from ignite.contrib.metrics import ROC_AUC"
   ]
  },
  {
   "cell_type": "code",
   "execution_count": 6,
   "metadata": {},
   "outputs": [],
   "source": [
    "# from nna.exp import augmentations,\n",
    "from nna.exp import modelArchs,runutils"
   ]
  },
  {
   "cell_type": "code",
   "execution_count": 7,
   "metadata": {},
   "outputs": [],
   "source": [
    "# wandb.init(config=runconfigs.default_config, project=runconfigs.PROJECT_NAME)\n",
    "# config = wandb.config\n",
    "config = runconfigs.default_config\n",
    "# wandb.config.update(args) # adds all of the arguments as config variables\n",
    "config['batch_size'] = 64\n",
    "params = {\n",
    "    'batch_size': config['batch_size'],\n",
    "    'shuffle': True,\n",
    "    'num_workers': 0\n",
    "}\n"
   ]
  },
  {
   "cell_type": "code",
   "execution_count": 8,
   "metadata": {},
   "outputs": [],
   "source": [
    "device = torch.device(\n",
    "    f\"cuda:{config['device']}\" if torch.cuda.is_available() else \"cpu\")\n"
   ]
  },
  {
   "cell_type": "code",
   "execution_count": 9,
   "metadata": {},
   "outputs": [],
   "source": [
    "\n",
    "# labelsbyhumanpath = Path('/scratch/enis/data/nna/labeling/results/')\n",
    "# sourcePath = Path(\"/scratch/enis/data/nna/labeling/splits/\")\n"
   ]
  },
  {
   "cell_type": "code",
   "execution_count": 10,
   "metadata": {},
   "outputs": [],
   "source": [
    "CATEGORY_COUNT = 2\n"
   ]
  },
  {
   "cell_type": "code",
   "execution_count": null,
   "metadata": {},
   "outputs": [],
   "source": []
  },
  {
   "cell_type": "code",
   "execution_count": null,
   "metadata": {},
   "outputs": [],
   "source": []
  },
  {
   "cell_type": "code",
   "execution_count": 11,
   "metadata": {},
   "outputs": [
    {
     "name": "stdout",
     "output_type": "stream",
     "text": [
      "job_logs\t\t\t   start_v3.2.2_smaller-model.ipynb\n",
      "__pycache__\t\t\t   start_v3.2_smaller-model.ipynb\n",
      "runconfigs.py\t\t\t   start_v3.3.1_smaller-model.ipynb\n",
      "run.py\t\t\t\t   start_v3.3_smaller-model.ipynb\n",
      "start_v3.1_negative-samples.ipynb  start_v3_split-loc.ipynb\n",
      "start_v3.2.1_smaller-model.ipynb   wandb\n"
     ]
    }
   ],
   "source": [
    "!ls"
   ]
  },
  {
   "cell_type": "code",
   "execution_count": null,
   "metadata": {},
   "outputs": [],
   "source": []
  },
  {
   "cell_type": "code",
   "execution_count": 12,
   "metadata": {},
   "outputs": [
    {
     "name": "stdout",
     "output_type": "stream",
     "text": [
      "/scratch/enis/data/nna/labeling/megan/AudioSamplesPerSite/meganLabeledFiles_wlenV1.txt\n",
      "/scratch/enis/data/nna/labeling/megan/AudioSamplesPerSite\n",
      "4 files are missing corresponding to excell entries\n",
      "'-> 5 number of samples are DELETED due to ignore_files and missing_audio_files'\n",
      "-> 415 samples DELETED because they are not in the excell\n",
      "\n",
      "-> 0 samples DELETED because they do not have the taxo info coming from excell\n",
      "\n",
      "-> classes that do not have enough data:\n",
      "[REMOVED!]\n",
      "['other-mammal'] 0.0\n",
      "['other-silence'] 20.0\n",
      "['unknown-sound'] 2.0\n",
      "['seabirds'] 1.0\n",
      "['canids'] 1.0\n",
      "['other-flare'] 11.0\n",
      "['other-rain'] 20.0\n",
      "\n",
      "-> classes that have enough data:\n",
      "['other-biophony'] 56.0\n",
      "['other-insect'] 140.0\n",
      "['other-bird'] 661.0\n",
      "['songbirds'] 392.0\n",
      "['duck-goose-swan'] 183.0\n",
      "['grouse-ptarmigan'] 59.0\n",
      "['other-anthrophony'] 66.0\n",
      "['other-aircraft'] 107.0\n",
      "['loons'] 29.0\n",
      "['other-car'] 37.0\n",
      "('-> 102 number of samples are deleted because their taxonomy category does '\n",
      " 'not have enough data.')\n",
      "-> classes that do not have enough data\n",
      "will be REMOVED!\n",
      "-> 97 number of samples are deleted because their length is not long enough.\n",
      "loading from cache at /scratch/enis/data/nna/labeling/megan/AudioSamplesPerSite/files_as_np_filtered_v3_int16.pkl\n"
     ]
    }
   ],
   "source": [
    "## Load real data rather than mock \n",
    "    # MVP1: delete parts longer than 10 seconds\n",
    "import run\n",
    "audio_dataset,_ = run.prepare_dataset()\n",
    "\n",
    "output_file_path = '/scratch/enis/data/nna/labeling/megan/AudioSamplesPerSite/files_as_np_filtered_v3_int16.pkl'\n",
    "audio_dataset.load_audio_files(output_file_path)\n",
    "audio_dataset.pick_channel_by_clipping()\n"
   ]
  },
  {
   "cell_type": "code",
   "execution_count": 13,
   "metadata": {},
   "outputs": [],
   "source": [
    "def data_to_samples(sound_ins,excerpt_len):\n",
    "    excerpt_sample_size = excerpt_len * sound_ins.sr\n",
    "\n",
    "    data_len_sec = sound_ins.length\n",
    "    if data_len_sec<10:\n",
    "        tile_reps = (excerpt_len / (sound_ins.length) + 1)\n",
    "        repeated_data = np.tile(sound_ins.data, int(tile_reps))\n",
    "        repeated_data = repeated_data[:excerpt_len * sound_ins.sr]\n",
    "        sound_ins.samples = [repeated_data]\n",
    "        \n",
    "    elif data_len_sec==10:\n",
    "        sound_ins.samples = [sound_ins.data]\n",
    "    else:\n",
    "        excerpt_count = data_len_sec//10\n",
    "        data_trim_point = excerpt_count*excerpt_len*sound_ins.sr\n",
    "        samples = sound_ins.data[:int(data_trim_point)].reshape(-1,int(excerpt_sample_size))\n",
    "        sample_list = []\n",
    "        for sample in samples:\n",
    "            sample_list.append(sample)\n",
    "        \n",
    "        sound_ins.samples = sample_list"
   ]
  },
  {
   "cell_type": "code",
   "execution_count": 14,
   "metadata": {},
   "outputs": [],
   "source": [
    "target_taxo = ['1.1.10', '1.1.7']\n",
    "other_taxo = ['1.0.0', '2.1.0', '1.3.0', '1.1.8']\n",
    "# expected_len = 10\n",
    "excerpt_len = 10\n",
    "audio_lengths= []\n",
    "for sound_ins in audio_dataset.values():\n",
    "#     data_to_samples(sound_ins,excerpt_len)\n",
    "#     if len(sound_ins.samples)==1:\n",
    "#         print(len(sound_ins.samples[0]))\n",
    "    audio_lengths.append(sound_ins.length)\n",
    "\n",
    "\n",
    "# print(c,data_excerpt_count,t)\n"
   ]
  },
  {
   "cell_type": "code",
   "execution_count": 17,
   "metadata": {},
   "outputs": [
    {
     "data": {
      "image/png": "[encoded data removed]",
      "text/plain": [
       "<Figure size 432x288 with 1 Axes>"
      ]
     },
     "metadata": {
      "needs_background": "light"
     },
     "output_type": "display_data"
    }
   ],
   "source": [
    "import matplotlib.pyplot as plt\n",
    "plt.plot(audio_lengths,'o')\n",
    "# plt.ylabel('some numbers')\n",
    "plt.show()"
   ]
  },
  {
   "cell_type": "markdown",
   "metadata": {},
   "source": []
  },
  {
   "cell_type": "code",
   "execution_count": 49,
   "metadata": {},
   "outputs": [
    {
     "data": {
      "text/plain": [
       "151.193625"
      ]
     },
     "execution_count": 49,
     "metadata": {},
     "output_type": "execute_result"
    }
   ],
   "source": [
    "max(audio_lengths)"
   ]
  },
  {
   "cell_type": "code",
   "execution_count": 78,
   "metadata": {},
   "outputs": [
    {
     "data": {
      "image/png": "[encoded data removed]",
      "text/plain": [
       "<Figure size 432x288 with 1 Axes>"
      ]
     },
     "metadata": {
      "needs_background": "light"
     },
     "output_type": "display_data"
    }
   ],
   "source": []
  },
  {
   "cell_type": "code",
   "execution_count": 75,
   "metadata": {},
   "outputs": [
    {
     "data": {
      "text/plain": [
       "array([0, 1, 2, 3, 4, 5, 6, 7, 8, 9])"
      ]
     },
     "execution_count": 75,
     "metadata": {},
     "output_type": "execute_result"
    }
   ],
   "source": [
    "b[1][:10]"
   ]
  },
  {
   "cell_type": "code",
   "execution_count": 87,
   "metadata": {},
   "outputs": [
    {
     "name": "stdout",
     "output_type": "stream",
     "text": [
      "/home/enis/projects/nna/src/nna/exp/megan/run-2\n"
     ]
    }
   ],
   "source": [
    "!pwd"
   ]
  },
  {
   "cell_type": "code",
   "execution_count": 88,
   "metadata": {},
   "outputs": [
    {
     "data": {
      "image/png": "[encoded data removed]",
      "text/plain": [
       "<Figure size 1440x720 with 1 Axes>"
      ]
     },
     "metadata": {
      "needs_background": "light"
     },
     "output_type": "display_data"
    }
   ],
   "source": [
    "import matplotlib.pyplot as plt\n",
    "import numpy as np\n",
    "%matplotlib inline\n",
    "\n",
    "# np.random.seed(42)\n",
    "# x = np.random.normal(size=1000)\n",
    "fig=plt.figure(figsize=(20,10))\n",
    "# (n, bins, patches) =plt.hist(audio_lengths[audio_lengths<=20], density=False, bins=20,histtype='step')  # density=False would make counts\n",
    "counts,bins=np.histogram(audio_lengths, bins=range(0,30))\n",
    "\n",
    "bb=plt.hist(bins[:-1], bins, weights=counts,density=False)\n",
    "\n",
    "plt.xticks(bins);\n",
    "plt.ylabel('Counts')\n",
    "plt.xlabel('Seconds');\n",
    "\n",
    "plt.tight_layout()\n",
    "plt.margins(x=0)\n",
    "plt.subplots_adjust(top=0.90)\n",
    "fig.savefig('asd.jpeg')"
   ]
  },
  {
   "cell_type": "code",
   "execution_count": 58,
   "metadata": {},
   "outputs": [],
   "source": [
    "# bins"
   ]
  },
  {
   "cell_type": "code",
   "execution_count": 33,
   "metadata": {},
   "outputs": [],
   "source": [
    "audio_lengths=np.array(audio_lengths)"
   ]
  },
  {
   "cell_type": "code",
   "execution_count": 91,
   "metadata": {},
   "outputs": [
    {
     "data": {
      "text/plain": [
       "151.193625"
      ]
     },
     "execution_count": 91,
     "metadata": {},
     "output_type": "execute_result"
    }
   ],
   "source": [
    "max(audio_lengths)"
   ]
  },
  {
   "cell_type": "code",
   "execution_count": 93,
   "metadata": {},
   "outputs": [
    {
     "data": {
      "text/plain": [
       "0.09927089175546831"
      ]
     },
     "execution_count": 93,
     "metadata": {},
     "output_type": "execute_result"
    }
   ],
   "source": [
    "audio_lengths[audio_lengths>30].size/audio_lengths.size"
   ]
  },
  {
   "cell_type": "code",
   "execution_count": 46,
   "metadata": {},
   "outputs": [
    {
     "data": {
      "text/plain": [
       "1783"
      ]
     },
     "execution_count": 46,
     "metadata": {},
     "output_type": "execute_result"
    }
   ],
   "source": [
    "audio_lengths.size"
   ]
  },
  {
   "cell_type": "code",
   "execution_count": 92,
   "metadata": {},
   "outputs": [
    {
     "data": {
      "text/plain": [
       "1783"
      ]
     },
     "execution_count": 92,
     "metadata": {},
     "output_type": "execute_result"
    }
   ],
   "source": [
    "len(audio_lengths)"
   ]
  },
  {
   "cell_type": "code",
   "execution_count": 71,
   "metadata": {},
   "outputs": [
    {
     "name": "stdout",
     "output_type": "stream",
     "text": [
      "[1. 1. 1.]\n",
      "[1. 1. 1.]\n"
     ]
    }
   ],
   "source": [
    "for i in np.ones((2,3)):\n",
    "    print(i)"
   ]
  },
  {
   "cell_type": "code",
   "execution_count": 25,
   "metadata": {},
   "outputs": [
    {
     "data": {
      "text/plain": [
       "1045414"
      ]
     },
     "execution_count": 25,
     "metadata": {},
     "output_type": "execute_result"
    }
   ],
   "source": [
    "sound_ins.data.shape[0]"
   ]
  },
  {
   "cell_type": "code",
   "execution_count": 95,
   "metadata": {},
   "outputs": [
    {
     "data": {
      "text/plain": [
       "40"
      ]
     },
     "execution_count": 95,
     "metadata": {},
     "output_type": "execute_result"
    }
   ],
   "source": [
    "c=0\n",
    "for m in audio_lengths:\n",
    "    if m>10 and m//10>5:\n",
    "        c+=1\n",
    "c"
   ]
  },
  {
   "cell_type": "code",
   "execution_count": 22,
   "metadata": {},
   "outputs": [],
   "source": [
    "# sound_ins=next(iter(audio_dataset.items()))"
   ]
  },
  {
   "cell_type": "code",
   "execution_count": 23,
   "metadata": {},
   "outputs": [],
   "source": [
    "# sound_ins[1].location_id"
   ]
  },
  {
   "cell_type": "code",
   "execution_count": 24,
   "metadata": {},
   "outputs": [],
   "source": [
    "# sound_ins[1].taxo_code"
   ]
  },
  {
   "cell_type": "code",
   "execution_count": 25,
   "metadata": {},
   "outputs": [
    {
     "data": {
      "text/plain": [
       "(832, 832)"
      ]
     },
     "execution_count": 25,
     "metadata": {},
     "output_type": "execute_result"
    }
   ],
   "source": [
    "# sound_ins[1].taxo_code\n",
    "# classA = 1.1.7 #'duck-goose-swan']\n",
    "# classB = 0.2.0 # other-aircraft\n",
    "# 3.0.0 : 0.48, 0.26, 0.26, 46 # silence\n",
    "# 2.1.0 : 0.22, 0.56, 0.22, 18 # rain\n",
    "# 1.3.0 1.3.0 : 0.52, 0.4, 0.087, 161 # insect\n",
    "# 1.1.8 : 0.49, 0.19, 0.32, 88 # grouse-ptarmigan\n",
    "\n",
    "other_taxo = ['3.0.0','2.1.0','1.3.0','1.1.8']\n",
    "\n",
    "sampleTest= []\n",
    "y=[]\n",
    "location_id_info = []\n",
    "expected_len=10\n",
    "for sound_ins in audio_dataset.values():\n",
    "    if sound_ins.taxo_code in ['1.1.10','1.1.7'] + other_taxo:\n",
    "        y.append(sound_ins.taxo_code)\n",
    "        location_id_info.append(sound_ins.location_id)\n",
    "        if sound_ins.length<10:\n",
    "            tile_reps = (expected_len/(sound_ins.length)+1)\n",
    "            repeated_data = np.tile(sound_ins.data,int(tile_reps))\n",
    "            repeated_data = repeated_data[:expected_len*sound_ins.sr]\n",
    "            sampleTest.append(repeated_data)\n",
    "        else:\n",
    "            sampleTest.append(sound_ins.data[:expected_len*sound_ins.sr])\n",
    "\n",
    "len(sampleTest),len(y)\n",
    "\n",
    "# sampleTest=np.array(sampleTest)"
   ]
  },
  {
   "cell_type": "code",
   "execution_count": 26,
   "metadata": {},
   "outputs": [
    {
     "data": {
      "text/plain": [
       "(902, 0.5314091680814941)"
      ]
     },
     "execution_count": 26,
     "metadata": {},
     "output_type": "execute_result"
    }
   ],
   "source": [
    "313+589,(46+18+161+88)/589 \n"
   ]
  },
  {
   "cell_type": "code",
   "execution_count": null,
   "metadata": {},
   "outputs": [],
   "source": []
  },
  {
   "cell_type": "code",
   "execution_count": null,
   "metadata": {},
   "outputs": [],
   "source": []
  },
  {
   "cell_type": "code",
   "execution_count": 27,
   "metadata": {},
   "outputs": [],
   "source": [
    "from numpy import argmax\n",
    "# define input string\n",
    "# define universe of possible input values\n",
    "alphabet = ['1.1.10','1.1.7']\n",
    "# define a mapping of chars to integers\n",
    "char_to_int = dict((c, i) for i, c in enumerate(alphabet))\n",
    "int_to_char = dict((i, c) for i, c in enumerate(alphabet))\n",
    "# integer encode input data\n",
    "integer_encoded = [char_to_int.get(char,None) for char in y]\n",
    "# print(integer_encoded)\n",
    "# one hot encode\n",
    "onehot_encoded = list()\n",
    "for value in integer_encoded:\n",
    "\tletter = [0 for _ in range(len(alphabet))]\n",
    "\tif value is not None:\n",
    "\t\tletter[value] = 1\n",
    "\tonehot_encoded.append(letter)\n",
    "# print(onehot_encoded)\n",
    "# invert encoding\n",
    "inverted = int_to_char[argmax(onehot_encoded[0])]\n",
    "# print(inverted)\n",
    "onehot_encoded=np.array(onehot_encoded)"
   ]
  },
  {
   "cell_type": "code",
   "execution_count": null,
   "metadata": {},
   "outputs": [],
   "source": []
  },
  {
   "cell_type": "code",
   "execution_count": 28,
   "metadata": {},
   "outputs": [],
   "source": [
    "X_train,X_test, X_val, y_train, y_test,y_val  = [],[],[],[],[],[]\n",
    "loc_id_train=[]\n",
    "loc_id_test=[]\n",
    "loc_id_valid=[]\n",
    "\n",
    "for sample,y_val_ins,loc_id in  zip(sampleTest,onehot_encoded,location_id_info):\n",
    "    if loc_id in loc_per_set[0]:\n",
    "        X_train.append(sample)\n",
    "        y_train.append(y_val_ins)\n",
    "        loc_id_train.append(loc_id)\n",
    "    elif loc_id in loc_per_set[1]:\n",
    "        X_test.append(sample)\n",
    "        y_test.append(y_val_ins)\n",
    "        loc_id_test.append(loc_id)\n",
    "    elif loc_id in loc_per_set[2]:\n",
    "        X_val.append(sample)\n",
    "        y_val.append(y_val_ins)\n",
    "        loc_id_valid.append(loc_id)\n",
    "    else:\n",
    "        print('error')\n"
   ]
  },
  {
   "cell_type": "code",
   "execution_count": 29,
   "metadata": {},
   "outputs": [
    {
     "data": {
      "text/plain": [
       "({'11',\n",
       "  '16',\n",
       "  '17',\n",
       "  '19',\n",
       "  '20',\n",
       "  '21',\n",
       "  '24',\n",
       "  '25',\n",
       "  '29',\n",
       "  '37',\n",
       "  '38',\n",
       "  '39',\n",
       "  '44',\n",
       "  '46',\n",
       "  '48',\n",
       "  '50'},\n",
       " {'15', '18', '22', '27', '31', '32', '33', '41', '47'},\n",
       " {'14', '30', '40', '49'})"
      ]
     },
     "execution_count": 29,
     "metadata": {},
     "output_type": "execute_result"
    }
   ],
   "source": [
    "set(loc_id_train),set(loc_id_test),set(loc_id_valid)"
   ]
  },
  {
   "cell_type": "code",
   "execution_count": 30,
   "metadata": {},
   "outputs": [
    {
     "data": {
      "text/plain": [
       "832"
      ]
     },
     "execution_count": 30,
     "metadata": {},
     "output_type": "execute_result"
    }
   ],
   "source": [
    "len(sampleTest)"
   ]
  },
  {
   "cell_type": "code",
   "execution_count": 31,
   "metadata": {},
   "outputs": [],
   "source": [
    "X_train,X_test,X_val=np.array(X_train),np.array(X_test),np.array(X_val)\n",
    "y_train,y_test,y_val=np.array(y_train),np.array(y_test),np.array(y_val)\n"
   ]
  },
  {
   "cell_type": "code",
   "execution_count": 32,
   "metadata": {},
   "outputs": [],
   "source": [
    "# X_train, X_test, y_train, y_test = train_test_split(\n",
    "#                 sampleTest, onehot_encoded, test_size=0.2, random_state=42)\n",
    "# X_train, X_val, y_train, y_val = train_test_split(\n",
    "#                 X_train, y_train, test_size=0.25,random_state=42)"
   ]
  },
  {
   "cell_type": "code",
   "execution_count": 33,
   "metadata": {},
   "outputs": [],
   "source": [
    "X_train,X_test,X_val=torch.from_numpy(X_train).float(),torch.from_numpy(X_test).float(),torch.from_numpy(X_val).float()\n",
    "y_train,y_test,y_val=torch.from_numpy(y_train).float(),torch.from_numpy(y_test).float(),torch.from_numpy(y_val).float()\n"
   ]
  },
  {
   "cell_type": "code",
   "execution_count": 34,
   "metadata": {},
   "outputs": [
    {
     "data": {
      "text/plain": [
       "(torch.Size([459, 480000]),\n",
       " torch.Size([216, 480000]),\n",
       " torch.Size([157, 480000]))"
      ]
     },
     "execution_count": 34,
     "metadata": {},
     "output_type": "execute_result"
    }
   ],
   "source": [
    "X_train.shape,X_test.shape,X_val.shape"
   ]
  },
  {
   "cell_type": "code",
   "execution_count": 35,
   "metadata": {},
   "outputs": [
    {
     "data": {
      "text/plain": [
       "(torch.Size([459, 2]), torch.Size([216, 2]), torch.Size([157, 2]))"
      ]
     },
     "execution_count": 35,
     "metadata": {},
     "output_type": "execute_result"
    }
   ],
   "source": [
    "y_train.shape,y_test.shape,y_val.shape"
   ]
  },
  {
   "cell_type": "code",
   "execution_count": 36,
   "metadata": {},
   "outputs": [],
   "source": [
    "# y_val[0:3]"
   ]
  },
  {
   "cell_type": "code",
   "execution_count": 37,
   "metadata": {},
   "outputs": [],
   "source": [
    "# # X_train,X_test,X_val,y_train,y_test,y_val = load_raw_data('labelsbyhumanpath','sourcePath')\n",
    "# X_train,X_test,X_val,y_train,y_test,y_val = mock_raw_data(4,CATEGORY_COUNT)\n",
    "# X_train,X_test,X_val=torch.from_numpy(X_train).float(),torch.from_numpy(X_test).float(),torch.from_numpy(X_val).float()\n",
    "# y_train,y_test,y_val=torch.from_numpy(y_train).float(),torch.from_numpy(y_test).float(),torch.from_numpy(y_val).float()\n",
    "\n",
    "# # labelsbyhumanpath = Path('/scratch/enis/data/nna/labeling/results/')\n",
    "# # with open(labelsbyhumanpath/\"np_array_Ymatrix.npy\", 'rb') as f:\n",
    "# #     y_true = np.load(f)\n",
    "\n",
    "# Counter(np.argmax(y_train,axis=1).tolist()),Counter(np.argmax(y_val,axis=1).tolist()),Counter(np.argmax(y_test,axis=1).tolist())\n"
   ]
  },
  {
   "cell_type": "code",
   "execution_count": 38,
   "metadata": {},
   "outputs": [],
   "source": [
    "\n",
    "# X_train2=np.interp(X_train, (X_train.min(), X_train.max()), (-32768 , 32767))\n",
    "# torch.from_numpy(X_train2).float()\n"
   ]
  },
  {
   "cell_type": "code",
   "execution_count": 39,
   "metadata": {},
   "outputs": [],
   "source": [
    "# y_val"
   ]
  },
  {
   "cell_type": "code",
   "execution_count": 40,
   "metadata": {},
   "outputs": [],
   "source": [
    "# smaple_index=10\n",
    "# X_train[smaple_index,:],y_train[smaple_index,]\n"
   ]
  },
  {
   "cell_type": "code",
   "execution_count": null,
   "metadata": {},
   "outputs": [],
   "source": []
  },
  {
   "cell_type": "code",
   "execution_count": 41,
   "metadata": {},
   "outputs": [],
   "source": [
    "# X_train[0,:].shape"
   ]
  },
  {
   "cell_type": "code",
   "execution_count": 42,
   "metadata": {},
   "outputs": [],
   "source": [
    "# multiply(torch.ones((1,2)),torch.ones((1,2)))"
   ]
  },
  {
   "cell_type": "code",
   "execution_count": 43,
   "metadata": {},
   "outputs": [],
   "source": [
    "class ToTensor(object):\n",
    "    \"\"\"Convert ndarrays in sample to Tensors.\"\"\"\n",
    "\n",
    "    def __init__(self, maxMelLen, sampling_rate):\n",
    "        # sr = 44100 etc\n",
    "        self.maxMelLen = maxMelLen\n",
    "        self.sampling_rate = sampling_rate\n",
    "\n",
    "    def __call__(self, sample):\n",
    "        x, y = sample\n",
    "        #https://github.com/PCerles/audio/blob/3803d0b27a4e13efa760227ef6c71d0f3753aa98/test/test_transforms.py#L262\n",
    "        #librosa defaults\n",
    "        n_fft = 2048\n",
    "        hop_length = 512\n",
    "        power = 2.0\n",
    "        n_mels = 128\n",
    "        n_mfcc = 40\n",
    "        # htk is false in librosa, no setting in torchaudio -?\n",
    "        # norm is 1 in librosa, no setting in torchaudio -?\n",
    "        melspect_transform = torchaudio.transforms.MelSpectrogram(sample_rate=self.sampling_rate, window_fn=torch.hann_window,\n",
    "                                                                  hop_length=hop_length, n_mels=n_mels, n_fft=n_fft)\n",
    "\n",
    "    \n",
    "        db_transform = torchaudio.transforms.AmplitudeToDB(\"power\", 80.)\n",
    "        mel = melspect_transform(x.reshape(-1))\n",
    "        an_x = db_transform(mel)\n",
    "        #librosa version\n",
    "#         mel = librosa.feature.melspectrogram(y=x.reshape(-1),\n",
    "#                                              sr=self.sampling_rate)\n",
    "#         an_x = librosa.power_to_db(mel, ref=np.max)\n",
    "#         an_x = an_x.astype(\"float32\")\n",
    "#         y = y.astype('float32')\n",
    "#         print(an_x.shape)\n",
    "        an_x = an_x[:, :self.maxMelLen]\n",
    "        # 2-d conv\n",
    "#         x = an_x.reshape(1, *an_x.shape[:])\n",
    "        # 1-d conv\n",
    "        x = an_x.reshape(1, an_x.shape[0]*an_x.shape[1])\n",
    "\n",
    "        \n",
    "        return x,y\n",
    "\n",
    "# #test\n",
    "# maxMelLen_test = 850\n",
    "# SAMPLING_RATE_test = 48000\n",
    "# sample_len_seconds = 10\n",
    "# # to_tensor works on single sample\n",
    "# sample_count = 1\n",
    "# xx_test = torch.ones((sample_count,SAMPLING_RATE_test*sample_len_seconds))\n",
    "# y_values = torch.ones(sample_count)\n",
    "# \n",
    "# toTensor = ToTensor(maxMelLen_test,SAMPLING_RATE_test)\n",
    "# x_out,y_out=toTensor((xx_test,y_values))\n",
    "# x_out.shape,y_out.shape"
   ]
  },
  {
   "cell_type": "code",
   "execution_count": 44,
   "metadata": {},
   "outputs": [
    {
     "data": {
      "text/plain": [
       "torch.Size([459, 480000])"
      ]
     },
     "execution_count": 44,
     "metadata": {},
     "output_type": "execute_result"
    }
   ],
   "source": [
    "# X_train,X_test,X_val,y_train,y_test,y_val\n",
    "X_train[:].shape"
   ]
  },
  {
   "cell_type": "code",
   "execution_count": 45,
   "metadata": {},
   "outputs": [],
   "source": [
    "# toTensor = ToTensor(maxMelLen_test,SAMPLING_RATE_test)\n",
    "# x_out2,y_out=toTensor((X_train[1:2,:],y_train))\n",
    "# x_out.shape,y_out.shape"
   ]
  },
  {
   "cell_type": "code",
   "execution_count": 46,
   "metadata": {},
   "outputs": [],
   "source": [
    "# torch.mean(x_out[0]),torch.mean(x_out2[0])\n",
    "# y_train"
   ]
  },
  {
   "cell_type": "code",
   "execution_count": 47,
   "metadata": {},
   "outputs": [],
   "source": [
    "# X_train,y_train"
   ]
  },
  {
   "cell_type": "code",
   "execution_count": 48,
   "metadata": {},
   "outputs": [],
   "source": [
    "\n",
    "# pitch = augmentations.pitch_shift_n_stepsClass(\n",
    "#     runconfigs.SAMPLING_RATE, config['pitch_shift_n_steps'])\n",
    "# noise = augmentations.addNoiseClass(config['noise_factor'])\n",
    "# strech = augmentations.time_stretchClass(runconfigs.SAMPLING_RATE*runconfigs.EXCERPT_LENGTH,\n",
    "#                                             config['time_stretch_factor'],\n",
    "#                                             isRandom=True)\n",
    "# shift = augmentations.shiftClass(config['roll_rate'], isRandom=True)\n",
    "maxMelLen = 938 # old 850\n",
    "# toTensor = augmentations.ToTensor(maxMelLen,runconfigs.SAMPLING_RATE)\n",
    "toTensor = ToTensor(maxMelLen,runconfigs.SAMPLING_RATE)"
   ]
  },
  {
   "cell_type": "code",
   "execution_count": null,
   "metadata": {},
   "outputs": [],
   "source": []
  },
  {
   "cell_type": "code",
   "execution_count": null,
   "metadata": {},
   "outputs": [],
   "source": []
  },
  {
   "cell_type": "code",
   "execution_count": 49,
   "metadata": {},
   "outputs": [],
   "source": [
    "from ignite.metrics import EpochMetric\n",
    "\n",
    "\n",
    "def roc_auc_perClass_compute_fn(y_preds, y_targets):\n",
    "    try:\n",
    "        from sklearn.metrics import roc_auc_score\n",
    "    except ImportError:\n",
    "        raise RuntimeError(\n",
    "            \"This contrib module requires sklearn to be installed.\")\n",
    "\n",
    "    y_true = y_targets.numpy()\n",
    "    y_pred = y_preds.numpy()\n",
    "#     print(y_pred,y_true)\n",
    "#     res = []\n",
    "#     for y_true_perClass_Index in y_true.shape[1]:\n",
    "#         res.append(\n",
    "#             roc_auc_score(y_true[:, y_true_perClass_Index],\n",
    "#                           y_pred[:, y_true_perClass_Index]))\n",
    "    res = roc_auc_score(y_true, y_pred, average=None)\n",
    "    return res\n",
    "\n",
    "\n",
    "#[docs]\n",
    "class ROC_AUC_perClass(EpochMetric):\n",
    "    \"\"\"Computes Area Under the Receiver Operating Characteristic Curve (ROC AUC)\n",
    "  accumulating predictions and the ground-truth during an epoch and applying\n",
    "  `sklearn.metrics.roc_auc_score <http://scikit-learn.org/stable/modules/generated/\n",
    "  sklearn.metrics.roc_auc_score.html#sklearn.metrics.roc_auc_score>`_ .\n",
    "\n",
    "  Args:\n",
    "      output_transform (callable, optional): a callable that is used to transform the\n",
    "          :class:`~ignite.engine.engine.Engine`'s ``process_function``'s output into the\n",
    "          form expected by the metric. This can be useful if, for example, you have a multi-output model and\n",
    "          you want to compute the metric with respect to one of the outputs.\n",
    "      check_compute_fn (bool): Optional default False. If True, `roc_curve\n",
    "          <http://scikit-learn.org/stable/modules/generated/sklearn.metrics.roc_auc_score.html#\n",
    "          sklearn.metrics.roc_auc_score>`_ is run on the first batch of data to ensure there are\n",
    "          no issues. User will be warned in case there are any issues computing the function.\n",
    "\n",
    "  ROC_AUC expects y to be comprised of 0's and 1's. y_pred must either be probability estimates or confidence\n",
    "  values. To apply an activation to y_pred, use output_transform as shown below:\n",
    "\n",
    "  .. code-block:: python\n",
    "\n",
    "      def activated_output_transform(output):\n",
    "          y_pred, y = output\n",
    "          y_pred = torch.sigmoid(y_pred)\n",
    "          return y_pred, y\n",
    "\n",
    "      roc_auc = ROC_AUC(activated_output_transform)\n",
    "\n",
    "  \"\"\"\n",
    "    def __init__(self,\n",
    "                 output_transform=lambda x: x,\n",
    "                 check_compute_fn: bool = False):\n",
    "#         print(output_transform)\n",
    "        super(ROC_AUC_perClass,\n",
    "              self).__init__(roc_auc_perClass_compute_fn,\n",
    "                             output_transform=output_transform,\n",
    "                             check_compute_fn=check_compute_fn)\n"
   ]
  },
  {
   "cell_type": "code",
   "execution_count": 50,
   "metadata": {},
   "outputs": [],
   "source": [
    "\n",
    "def conv_output_shape(h_w, kernel_size=1, stride=1, pad=0, dilation=1):\n",
    "    \"\"\"\n",
    "  Utility function for computing output of convolutions\n",
    "  takes a tuple of (h,w) and returns a tuple of (h,w)\n",
    "  \"\"\"\n",
    "    from math import floor\n",
    "    if type(kernel_size) is not tuple:\n",
    "        kernel_size = (kernel_size, kernel_size)\n",
    "    h = floor(((h_w[0] + (2 * pad) - (dilation *\n",
    "                                      (kernel_size[0] - 1)) - 1) / stride) + 1)\n",
    "    w = floor(((h_w[1] + (2 * pad) - (dilation *\n",
    "                                      (kernel_size[1] - 1)) - 1) / stride) + 1)\n",
    "    return h, w\n",
    "\n",
    "# mel.shape,an_x.shape,X_train.shape\n",
    "class testModel(nn.Module):\n",
    "    '''A simple model for testing by overfitting.\n",
    "    '''\n",
    "    def __init__(self, out_channels, h_w, kernel_size, FLAT=False,output_shape=(10,)):\n",
    "        # h_w: height will be always one since we use 1d convolution \n",
    "        super(testModel, self).__init__()\n",
    "        self.out_channels = out_channels\n",
    "        #### CONV\n",
    "        self.conv1 = nn.Conv1d(in_channels=1, # depth of image == depth of filters\n",
    "                               out_channels=self.out_channels, # number of filters \n",
    "                               kernel_size=kernel_size, # size of the filters/kernels\n",
    "                               padding=1)\n",
    "\n",
    "        self.conv1_shape = conv_output_shape(h_w, kernel_size=kernel_size, stride=1, pad=1, dilation=1)\n",
    "        # conv is 1d\n",
    "        self.conv1_shape = (1,self.conv1_shape[1])\n",
    "        \n",
    "        self.fc1 = nn.Linear(self.out_channels * self.conv1_shape[0] *self.conv1_shape[1], 64)  # 100\n",
    "\n",
    "        self.fc2 = nn.Linear(64,output_shape[0])\n",
    "        \n",
    "    def forward(self, x):\n",
    "#         x = x.reshape(1,)\n",
    "#         print(x.shape) #  50,1,108800 (850*128)\n",
    "        x = F.relu(self.conv1(x))\n",
    "#         x = self.pool(x)\n",
    "        # x = self.drop(x)\n",
    "#         print(x.shape)# 58, 2, 108801\n",
    "#         print(self.conv1_shape)\n",
    "#         print(x.shape)\n",
    "        x = x.view(-1, self.out_channels * self.conv1_shape[0] *self.conv1_shape[1])\n",
    "        # batch_norm is missing\n",
    "        x = F.relu((self.fc1(x)))\n",
    "        x = (self.fc2(x))\n",
    "\n",
    "#         x = self.drop(x)\n",
    "\n",
    "#         x = self.fc4(x)\n",
    "#         x = torch.sigmoid(x)\n",
    "#                 x = F.log_softmax(x,dim=1)\n",
    "        return x\n",
    "\n",
    "# test\n",
    "# input_shape=(1,(938*128))\n",
    "# output_shape=(10,)\n",
    "# testModel_ins=adam(out_channels=2,h_w=input_shape,kernel_size=2,output_shape=output_shape)\n",
    "# # a.conv1.weight\n",
    "# a_out=testModel_ins(torch.ones((3,1,input_shape[1])))\n",
    "\n",
    "# a_out_correct=torch.zeros(a_out.shape)\n",
    "# a_out_correct[0][:]=1\n",
    "# a_out_correct\n",
    "# a_out.detach().numpy()\n",
    "\n",
    "# torch.exp(a_out),a_out"
   ]
  },
  {
   "cell_type": "code",
   "execution_count": null,
   "metadata": {},
   "outputs": [],
   "source": []
  },
  {
   "cell_type": "code",
   "execution_count": null,
   "metadata": {},
   "outputs": [],
   "source": []
  },
  {
   "cell_type": "code",
   "execution_count": 51,
   "metadata": {},
   "outputs": [],
   "source": [
    "\n",
    "# for y_true_perClass_Index in a_out_correct.shape[1]:\n",
    "#     print(y_true_perClass_Index)"
   ]
  },
  {
   "cell_type": "code",
   "execution_count": 52,
   "metadata": {},
   "outputs": [],
   "source": [
    "# from ignite.contrib.metrics import ROC_AUC\n",
    "# from nna.exp.metrics import ROC_AUC_perClass\n",
    "def activated_output_transform(output):\n",
    "    y_pred, y = output\n",
    "#     y_pred = torch.exp(y_pred)\n",
    "    return y_pred, y"
   ]
  },
  {
   "cell_type": "code",
   "execution_count": null,
   "metadata": {},
   "outputs": [],
   "source": []
  },
  {
   "cell_type": "code",
   "execution_count": 53,
   "metadata": {},
   "outputs": [],
   "source": [
    "# asd=ROC_AUC_perClass(activated_output_transform)\n",
    "# asd.update((a_out,a_out_correct))\n",
    "# asd.compute()"
   ]
  },
  {
   "cell_type": "code",
   "execution_count": null,
   "metadata": {},
   "outputs": [],
   "source": []
  },
  {
   "cell_type": "code",
   "execution_count": 54,
   "metadata": {},
   "outputs": [],
   "source": [
    "\n",
    "transformCompose = transforms.Compose([\n",
    "#     pitch,\n",
    "#     strech,\n",
    "#     shift,\n",
    "#     noise,\n",
    "    toTensor,\n",
    "])\n",
    "\n",
    "\n",
    "sound_datasets = {\n",
    "    phase: runutils.audioDataset(XY[0], XY[1], transform=transformCompose)\n",
    "    for phase, XY in\n",
    "    zip(['train', 'val', 'test'],\n",
    "        [[X_train, y_train], [X_val, y_val], [X_test, y_test]])\n",
    "}\n",
    "\n",
    "dataloaders = {\n",
    "    x: torch.utils.data.DataLoader(sound_datasets[x], **params)\n",
    "    for x in ['train', 'val', 'test']\n",
    "}\n",
    "\n",
    "# this will change\n",
    "h_w = [128, 938]\n",
    "kernel_size = (3, 3)\n",
    "# if config['CNNLayer_count'] == 1:\n",
    "#     model = modelArchs.NetCNN1(config['CNN_filters_1'], h_w,\n",
    "#                                 kernel_size).float().to(device)\n",
    "\n",
    "# if config['CNNLayer_count'] == 2:\n",
    "#     model = modelArchs.NetCNN2(config['CNN_filters_1'], config.CNN_filters_2,\n",
    "#                                 h_w, kernel_size,\n",
    "#                                 kernel_size).float().to(device)\n",
    "\n",
    "#simpler model\n",
    "\n",
    "output_shape=(CATEGORY_COUNT,)\n",
    "model = testModel(out_channels=2,h_w=(1,h_w[0]*h_w[1]),kernel_size=kernel_size[0]*kernel_size[0],output_shape=output_shape)\n",
    "model.float().to(device)\n",
    "\n",
    "# device is defined before\n",
    "\n",
    "model.float().to(device)  # Move model before creating optimizer\n",
    "optimizer = torch.optim.AdamW(model.parameters(),\n",
    "#                                 weight_decay=config['weight_decay'],\n",
    "                             )\n",
    "\n",
    "\n",
    "\n",
    "criterion = nn.BCEWithLogitsLoss()\n",
    "# statHistory={'valLoss':[],'trainLoss':[],'trainAUC':[],'valAUC':[]}\n",
    "\n",
    "metrics = {\n",
    "    'loss': Loss(criterion),  # 'accuracy': Accuracy(),\n",
    "#     'ROC_AUC': ROC_AUC(runutils.activated_output_transform),\n",
    "    'ROC_AUC': ROC_AUC_perClass(activated_output_transform),\n",
    "\n",
    "}\n"
   ]
  },
  {
   "cell_type": "code",
   "execution_count": 55,
   "metadata": {},
   "outputs": [
    {
     "data": {
      "text/plain": [
       "testModel(\n",
       "  (conv1): Conv1d(1, 2, kernel_size=(9,), stride=(1,), padding=(1,))\n",
       "  (fc1): Linear(in_features=240116, out_features=64, bias=True)\n",
       "  (fc2): Linear(in_features=64, out_features=2, bias=True)\n",
       ")"
      ]
     },
     "execution_count": 55,
     "metadata": {},
     "output_type": "execute_result"
    }
   ],
   "source": [
    "model"
   ]
  },
  {
   "cell_type": "code",
   "execution_count": 56,
   "metadata": {},
   "outputs": [
    {
     "data": {
      "text/plain": [
       "Parameter containing:\n",
       "tensor([[[ 0.2548,  0.2767, -0.0781,  0.3062, -0.0730,  0.0673, -0.1623,\n",
       "           0.1958,  0.2938]],\n",
       "\n",
       "        [[-0.2445,  0.2897,  0.0624,  0.2463,  0.0451,  0.1607, -0.0471,\n",
       "           0.2570,  0.0493]]], device='cuda:1', requires_grad=True)"
      ]
     },
     "execution_count": 56,
     "metadata": {},
     "output_type": "execute_result"
    }
   ],
   "source": [
    "model.conv1.weight"
   ]
  },
  {
   "cell_type": "code",
   "execution_count": 57,
   "metadata": {},
   "outputs": [
    {
     "data": {
      "text/plain": [
       "Conv1d(1, 2, kernel_size=(9,), stride=(1,), padding=(1,))"
      ]
     },
     "execution_count": 57,
     "metadata": {},
     "output_type": "execute_result"
    }
   ],
   "source": [
    "model.conv1"
   ]
  },
  {
   "cell_type": "code",
   "execution_count": 58,
   "metadata": {},
   "outputs": [
    {
     "data": {
      "text/plain": [
       "Parameter containing:\n",
       "tensor([[-9.4025e-04, -2.3932e-04, -8.2887e-04,  ..., -1.1343e-03,\n",
       "          1.7488e-04, -2.2776e-05],\n",
       "        [-1.3098e-03, -1.8676e-03, -6.3240e-04,  ...,  2.8130e-04,\n",
       "          1.6656e-03, -4.6616e-04],\n",
       "        [-1.9303e-03, -7.0706e-04,  1.8977e-03,  ..., -8.3026e-04,\n",
       "          2.5134e-04, -7.0575e-04],\n",
       "        ...,\n",
       "        [-2.0255e-03, -1.0723e-03,  5.2723e-04,  ..., -3.9869e-04,\n",
       "          1.9361e-03, -1.1633e-03],\n",
       "        [ 4.8982e-04, -1.2842e-03,  9.8855e-04,  ...,  7.6381e-04,\n",
       "         -8.6123e-04,  6.6515e-04],\n",
       "        [ 1.8723e-04,  8.9811e-04, -1.4482e-03,  ..., -5.3925e-04,\n",
       "          5.5443e-04,  1.4453e-03]], device='cuda:1', requires_grad=True)"
      ]
     },
     "execution_count": 58,
     "metadata": {},
     "output_type": "execute_result"
    }
   ],
   "source": [
    "model.fc1.weight"
   ]
  },
  {
   "cell_type": "code",
   "execution_count": 59,
   "metadata": {},
   "outputs": [],
   "source": [
    "# test"
   ]
  },
  {
   "cell_type": "code",
   "execution_count": null,
   "metadata": {},
   "outputs": [
    {
     "name": "stderr",
     "output_type": "stream",
     "text": [
      "Failed to query for notebook name, you can set it manually with the WANDB_NOTEBOOK_NAME environment variable\n",
      "\u001b[34m\u001b[1mwandb\u001b[0m: Currently logged in as: \u001b[33menisberk\u001b[0m (use `wandb login --relogin` to force relogin)\n"
     ]
    },
    {
     "name": "stdout",
     "output_type": "stream",
     "text": [
      "ready ?\n"
     ]
    },
    {
     "name": "stderr",
     "output_type": "stream",
     "text": [
      "\u001b[34m\u001b[1mwandb\u001b[0m: wandb version 0.10.15 is available!  To upgrade, please run:\n",
      "\u001b[34m\u001b[1mwandb\u001b[0m:  $ pip install wandb --upgrade\n"
     ]
    },
    {
     "data": {
      "text/html": [
       "\n",
       "                Tracking run with wandb version 0.10.12<br/>\n",
       "                Syncing run <strong style=\"color:#cdcd00\">hopeful-fire-162</strong> to <a href=\"https://wandb.ai\" target=\"_blank\">Weights & Biases</a> <a href=\"https://docs.wandb.com/integrations/jupyter.html\" target=\"_blank\">(Documentation)</a>.<br/>\n",
       "                Project page: <a href=\"https://wandb.ai/enisberk/megan\" target=\"_blank\">https://wandb.ai/enisberk/megan</a><br/>\n",
       "                Run page: <a href=\"https://wandb.ai/enisberk/megan/runs/n5e327t3\" target=\"_blank\">https://wandb.ai/enisberk/megan/runs/n5e327t3</a><br/>\n",
       "                Run data is saved locally in <code>/home/enis/projects/nna/src/nna/exp/megan/run-2/wandb/run-20210126_094304-n5e327t3</code><br/><br/>\n",
       "            "
      ],
      "text/plain": [
       "<IPython.core.display.HTML object>"
      ]
     },
     "metadata": {},
     "output_type": "display_data"
    },
    {
     "name": "stderr",
     "output_type": "stream",
     "text": [
      "2021-01-26 09:43:06,520 Trainer INFO: Engine run starting with max_epochs=2000.\n",
      "/scratch/enis/conda/envs/soundenv3/lib/python3.7/site-packages/torch/functional.py:516: UserWarning: stft will require the return_complex parameter be explicitly  specified in a future PyTorch release. Use return_complex=False  to preserve the current behavior or return_complex=True to return  a complex output. (Triggered internally at  /opt/conda/conda-bld/pytorch_1607370141920/work/aten/src/ATen/native/SpectralOps.cpp:653.)\n",
      "  normalized, onesided, return_complex)\n",
      "/scratch/enis/conda/envs/soundenv3/lib/python3.7/site-packages/torch/functional.py:516: UserWarning: The function torch.rfft is deprecated and will be removed in a future PyTorch release. Use the new torch.fft module functions, instead, by importing torch.fft and calling torch.fft.fft or torch.fft.rfft. (Triggered internally at  /opt/conda/conda-bld/pytorch_1607370141920/work/aten/src/ATen/native/SpectralOps.cpp:590.)\n",
      "  normalized, onesided, return_complex)\n",
      "2021-01-26 09:43:28,600 Train Evaluator INFO: Engine run starting with max_epochs=1.\n",
      "2021-01-26 09:43:52,150 Train Evaluator INFO: Epoch[1] Complete. Time taken: 00:00:24\n",
      "2021-01-26 09:43:52,154 Train Evaluator INFO: Engine run complete. Time taken: 00:00:24\n",
      "2021-01-26 09:43:52,155 Val Evaluator INFO: Engine run starting with max_epochs=1.\n",
      "2021-01-26 09:43:59,840 Val Evaluator INFO: Epoch[1] Complete. Time taken: 00:00:08\n",
      "2021-01-26 09:44:00,165 Val Evaluator INFO: Engine run complete. Time taken: 00:00:08\n",
      "\u001b[34m\u001b[1mwandb\u001b[0m: \u001b[33mWARNING\u001b[0m Step must only increase in log calls.  Step 1 < 8; dropping {'lr/group_0': 0.001}.\n",
      "2021-01-26 09:44:00,177 Trainer INFO: Epoch[1] Complete. Time taken: 00:00:54\n"
     ]
    },
    {
     "name": "stdout",
     "output_type": "stream",
     "text": [
      "train loss 1685.1240657232945\n",
      "val loss 1209.0644663428045\n",
      "validation roc auc [0.65373134 0.61582569] 1\n",
      "train roc auc [0.49208553 0.5599308 ] 1\n"
     ]
    },
    {
     "name": "stderr",
     "output_type": "stream",
     "text": [
      "2021-01-26 09:44:23,664 Train Evaluator INFO: Engine run starting with max_epochs=1.\n",
      "2021-01-26 09:44:44,870 Train Evaluator INFO: Epoch[1] Complete. Time taken: 00:00:21\n",
      "2021-01-26 09:44:44,873 Train Evaluator INFO: Engine run complete. Time taken: 00:00:21\n",
      "2021-01-26 09:44:44,883 Val Evaluator INFO: Engine run starting with max_epochs=1.\n",
      "2021-01-26 09:44:51,804 Val Evaluator INFO: Epoch[1] Complete. Time taken: 00:00:07\n",
      "2021-01-26 09:44:52,122 Val Evaluator INFO: Engine run complete. Time taken: 00:00:07\n",
      "\u001b[34m\u001b[1mwandb\u001b[0m: \u001b[33mWARNING\u001b[0m Step must only increase in log calls.  Step 2 < 16; dropping {'lr/group_0': 0.001}.\n",
      "2021-01-26 09:44:52,137 Trainer INFO: Epoch[2] Complete. Time taken: 00:00:52\n"
     ]
    },
    {
     "name": "stdout",
     "output_type": "stream",
     "text": [
      "train loss 1082.7270795036766\n",
      "val loss 1865.0308394705414\n",
      "validation roc auc [0.35903814 0.40711009] 2\n",
      "train roc auc [0.51305193 0.46268226] 2\n"
     ]
    },
    {
     "name": "stderr",
     "output_type": "stream",
     "text": [
      "2021-01-26 09:45:13,037 Train Evaluator INFO: Engine run starting with max_epochs=1.\n",
      "2021-01-26 09:45:34,504 Train Evaluator INFO: Epoch[1] Complete. Time taken: 00:00:21\n",
      "2021-01-26 09:45:34,507 Train Evaluator INFO: Engine run complete. Time taken: 00:00:21\n",
      "2021-01-26 09:45:34,508 Val Evaluator INFO: Engine run starting with max_epochs=1.\n",
      "2021-01-26 09:45:41,940 Val Evaluator INFO: Epoch[1] Complete. Time taken: 00:00:07\n",
      "2021-01-26 09:45:42,260 Val Evaluator INFO: Engine run complete. Time taken: 00:00:08\n",
      "\u001b[34m\u001b[1mwandb\u001b[0m: \u001b[33mWARNING\u001b[0m Step must only increase in log calls.  Step 3 < 24; dropping {'lr/group_0': 0.001}.\n",
      "2021-01-26 09:45:42,278 Trainer INFO: Epoch[3] Complete. Time taken: 00:00:50\n"
     ]
    },
    {
     "name": "stdout",
     "output_type": "stream",
     "text": [
      "train loss 554.012551301445\n",
      "val loss 470.3751634731414\n",
      "validation roc auc [0.65936982 0.47610856] 3\n",
      "train roc auc [0.49611219 0.56054864] 3\n"
     ]
    },
    {
     "name": "stderr",
     "output_type": "stream",
     "text": [
      "2021-01-26 09:46:04,108 Train Evaluator INFO: Engine run starting with max_epochs=1.\n",
      "2021-01-26 09:46:24,683 Train Evaluator INFO: Epoch[1] Complete. Time taken: 00:00:21\n",
      "2021-01-26 09:46:24,686 Train Evaluator INFO: Engine run complete. Time taken: 00:00:21\n",
      "2021-01-26 09:46:24,687 Val Evaluator INFO: Engine run starting with max_epochs=1.\n",
      "2021-01-26 09:46:32,501 Val Evaluator INFO: Epoch[1] Complete. Time taken: 00:00:08\n",
      "2021-01-26 09:46:32,811 Val Evaluator INFO: Engine run complete. Time taken: 00:00:08\n",
      "\u001b[34m\u001b[1mwandb\u001b[0m: \u001b[33mWARNING\u001b[0m Step must only increase in log calls.  Step 4 < 32; dropping {'lr/group_0': 0.001}.\n",
      "2021-01-26 09:46:32,824 Trainer INFO: Epoch[4] Complete. Time taken: 00:00:51\n"
     ]
    },
    {
     "name": "stdout",
     "output_type": "stream",
     "text": [
      "train loss 141.12315119325726\n",
      "val loss 265.08667769705414\n",
      "validation roc auc [0.45887231 0.46368502] 4\n",
      "train roc auc [0.60285833 0.51569322] 4\n"
     ]
    },
    {
     "name": "stderr",
     "output_type": "stream",
     "text": [
      "2021-01-26 09:46:53,611 Train Evaluator INFO: Engine run starting with max_epochs=1.\n",
      "2021-01-26 09:47:16,586 Train Evaluator INFO: Epoch[1] Complete. Time taken: 00:00:23\n",
      "2021-01-26 09:47:16,588 Train Evaluator INFO: Engine run complete. Time taken: 00:00:23\n",
      "2021-01-26 09:47:16,589 Val Evaluator INFO: Engine run starting with max_epochs=1.\n",
      "2021-01-26 09:47:24,284 Val Evaluator INFO: Epoch[1] Complete. Time taken: 00:00:08\n",
      "2021-01-26 09:47:24,589 Val Evaluator INFO: Engine run complete. Time taken: 00:00:08\n",
      "\u001b[34m\u001b[1mwandb\u001b[0m: \u001b[33mWARNING\u001b[0m Step must only increase in log calls.  Step 5 < 40; dropping {'lr/group_0': 0.001}.\n",
      "2021-01-26 09:47:24,599 Trainer INFO: Epoch[5] Complete. Time taken: 00:00:52\n"
     ]
    },
    {
     "name": "stdout",
     "output_type": "stream",
     "text": [
      "train loss 66.10263043447257\n",
      "val loss 96.27349037121816\n",
      "validation roc auc [0.44825871 0.7360474 ] 5\n",
      "train roc auc [0.61439283 0.63423676] 5\n"
     ]
    },
    {
     "name": "stderr",
     "output_type": "stream",
     "text": [
      "2021-01-26 09:47:48,969 Train Evaluator INFO: Engine run starting with max_epochs=1.\n",
      "2021-01-26 09:48:11,158 Train Evaluator INFO: Epoch[1] Complete. Time taken: 00:00:22\n",
      "2021-01-26 09:48:11,160 Train Evaluator INFO: Engine run complete. Time taken: 00:00:22\n",
      "2021-01-26 09:48:11,161 Val Evaluator INFO: Engine run starting with max_epochs=1.\n",
      "2021-01-26 09:48:18,436 Val Evaluator INFO: Epoch[1] Complete. Time taken: 00:00:07\n",
      "2021-01-26 09:48:18,759 Val Evaluator INFO: Engine run complete. Time taken: 00:00:08\n",
      "\u001b[34m\u001b[1mwandb\u001b[0m: \u001b[33mWARNING\u001b[0m Step must only increase in log calls.  Step 6 < 48; dropping {'lr/group_0': 0.001}.\n",
      "2021-01-26 09:48:18,771 Trainer INFO: Epoch[6] Complete. Time taken: 00:00:54\n"
     ]
    },
    {
     "name": "stdout",
     "output_type": "stream",
     "text": [
      "train loss 81.80038668231506\n",
      "val loss 153.37002378816058\n",
      "validation roc auc [0.54311774 0.46406728] 6\n",
      "train roc auc [0.62577855 0.55490568] 6\n"
     ]
    },
    {
     "name": "stderr",
     "output_type": "stream",
     "text": [
      "2021-01-26 09:48:42,077 Train Evaluator INFO: Engine run starting with max_epochs=1.\n",
      "2021-01-26 09:49:03,238 Train Evaluator INFO: Epoch[1] Complete. Time taken: 00:00:21\n",
      "2021-01-26 09:49:03,240 Train Evaluator INFO: Engine run complete. Time taken: 00:00:21\n",
      "2021-01-26 09:49:03,241 Val Evaluator INFO: Engine run starting with max_epochs=1.\n",
      "2021-01-26 09:49:09,556 Val Evaluator INFO: Epoch[1] Complete. Time taken: 00:00:06\n",
      "2021-01-26 09:49:09,886 Val Evaluator INFO: Engine run complete. Time taken: 00:00:07\n",
      "\u001b[34m\u001b[1mwandb\u001b[0m: \u001b[33mWARNING\u001b[0m Step must only increase in log calls.  Step 7 < 56; dropping {'lr/group_0': 0.001}.\n",
      "2021-01-26 09:49:09,907 Trainer INFO: Epoch[7] Complete. Time taken: 00:00:51\n"
     ]
    },
    {
     "name": "stdout",
     "output_type": "stream",
     "text": [
      "train loss 52.996103344919376\n",
      "val loss 51.61265967302262\n",
      "validation roc auc [0.56467662 0.75382263] 7\n",
      "train roc auc [0.60748007 0.65207183] 7\n"
     ]
    },
    {
     "name": "stderr",
     "output_type": "stream",
     "text": [
      "2021-01-26 09:49:32,301 Train Evaluator INFO: Engine run starting with max_epochs=1.\n",
      "2021-01-26 09:49:53,552 Train Evaluator INFO: Epoch[1] Complete. Time taken: 00:00:21\n",
      "2021-01-26 09:49:53,555 Train Evaluator INFO: Engine run complete. Time taken: 00:00:21\n",
      "2021-01-26 09:49:53,556 Val Evaluator INFO: Engine run starting with max_epochs=1.\n",
      "2021-01-26 09:50:00,946 Val Evaluator INFO: Epoch[1] Complete. Time taken: 00:00:07\n",
      "2021-01-26 09:50:01,221 Val Evaluator INFO: Engine run complete. Time taken: 00:00:08\n",
      "\u001b[34m\u001b[1mwandb\u001b[0m: \u001b[33mWARNING\u001b[0m Step must only increase in log calls.  Step 8 < 64; dropping {'lr/group_0': 0.001}.\n",
      "2021-01-26 09:50:01,232 Trainer INFO: Epoch[8] Complete. Time taken: 00:00:51\n"
     ]
    },
    {
     "name": "stdout",
     "output_type": "stream",
     "text": [
      "train loss 39.96793232504319\n",
      "val loss 90.8324608286475\n",
      "validation roc auc [0.45190713 0.48853211] 8\n",
      "train roc auc [0.67382076 0.65450202] 8\n"
     ]
    },
    {
     "name": "stderr",
     "output_type": "stream",
     "text": [
      "2021-01-26 09:50:21,715 Train Evaluator INFO: Engine run starting with max_epochs=1.\n",
      "2021-01-26 09:50:42,968 Train Evaluator INFO: Epoch[1] Complete. Time taken: 00:00:21\n",
      "2021-01-26 09:50:42,970 Train Evaluator INFO: Engine run complete. Time taken: 00:00:21\n",
      "2021-01-26 09:50:42,972 Val Evaluator INFO: Engine run starting with max_epochs=1.\n",
      "2021-01-26 09:50:50,996 Val Evaluator INFO: Epoch[1] Complete. Time taken: 00:00:08\n",
      "2021-01-26 09:50:51,335 Val Evaluator INFO: Engine run complete. Time taken: 00:00:08\n",
      "\u001b[34m\u001b[1mwandb\u001b[0m: \u001b[33mWARNING\u001b[0m Step must only increase in log calls.  Step 9 < 72; dropping {'lr/group_0': 0.001}.\n",
      "2021-01-26 09:50:51,344 Trainer INFO: Epoch[9] Complete. Time taken: 00:00:50\n"
     ]
    },
    {
     "name": "stdout",
     "output_type": "stream",
     "text": [
      "train loss 51.808635337679995\n",
      "val loss 102.03630547007178\n",
      "validation roc auc [0.45008292 0.48413609] 9\n",
      "train roc auc [0.67233308 0.64210396] 9\n"
     ]
    },
    {
     "name": "stderr",
     "output_type": "stream",
     "text": [
      "2021-01-26 09:51:12,059 Train Evaluator INFO: Engine run starting with max_epochs=1.\n",
      "2021-01-26 09:51:34,718 Train Evaluator INFO: Epoch[1] Complete. Time taken: 00:00:23\n",
      "2021-01-26 09:51:34,720 Train Evaluator INFO: Engine run complete. Time taken: 00:00:23\n",
      "2021-01-26 09:51:34,721 Val Evaluator INFO: Engine run starting with max_epochs=1.\n",
      "2021-01-26 09:51:41,341 Val Evaluator INFO: Epoch[1] Complete. Time taken: 00:00:07\n",
      "2021-01-26 09:51:41,686 Val Evaluator INFO: Engine run complete. Time taken: 00:00:07\n",
      "\u001b[34m\u001b[1mwandb\u001b[0m: \u001b[33mWARNING\u001b[0m Step must only increase in log calls.  Step 10 < 80; dropping {'lr/group_0': 0.001}.\n",
      "2021-01-26 09:51:41,694 Trainer INFO: Epoch[10] Complete. Time taken: 00:00:50\n"
     ]
    },
    {
     "name": "stdout",
     "output_type": "stream",
     "text": [
      "train loss 18.676960232470808\n",
      "val loss 23.769011758694983\n",
      "validation roc auc [0.44212272 0.75344037] 10\n",
      "train roc auc [0.67106359 0.64675838] 10\n"
     ]
    },
    {
     "name": "stderr",
     "output_type": "stream",
     "text": [
      "2021-01-26 09:52:03,915 Train Evaluator INFO: Engine run starting with max_epochs=1.\n",
      "2021-01-26 09:52:26,282 Train Evaluator INFO: Epoch[1] Complete. Time taken: 00:00:22\n",
      "2021-01-26 09:52:26,284 Train Evaluator INFO: Engine run complete. Time taken: 00:00:22\n",
      "2021-01-26 09:52:26,286 Val Evaluator INFO: Engine run starting with max_epochs=1.\n",
      "2021-01-26 09:52:36,238 Val Evaluator INFO: Epoch[1] Complete. Time taken: 00:00:10\n",
      "2021-01-26 09:52:36,512 Val Evaluator INFO: Engine run complete. Time taken: 00:00:10\n",
      "\u001b[34m\u001b[1mwandb\u001b[0m: \u001b[33mWARNING\u001b[0m Step must only increase in log calls.  Step 11 < 88; dropping {'lr/group_0': 0.001}.\n",
      "2021-01-26 09:52:36,519 Trainer INFO: Epoch[11] Complete. Time taken: 00:00:55\n"
     ]
    },
    {
     "name": "stdout",
     "output_type": "stream",
     "text": [
      "train loss 182.57796117578977\n",
      "val loss 173.0313544789697\n",
      "validation roc auc [0.58855721 0.53306575] 11\n",
      "train roc auc [0.56711429 0.66595271] 11\n"
     ]
    },
    {
     "name": "stderr",
     "output_type": "stream",
     "text": [
      "2021-01-26 09:52:56,757 Train Evaluator INFO: Engine run starting with max_epochs=1.\n",
      "2021-01-26 09:53:20,510 Train Evaluator INFO: Epoch[1] Complete. Time taken: 00:00:24\n",
      "2021-01-26 09:53:20,513 Train Evaluator INFO: Engine run complete. Time taken: 00:00:24\n",
      "2021-01-26 09:53:20,515 Val Evaluator INFO: Engine run starting with max_epochs=1.\n",
      "2021-01-26 09:53:28,156 Val Evaluator INFO: Epoch[1] Complete. Time taken: 00:00:08\n",
      "2021-01-26 09:53:28,432 Val Evaluator INFO: Engine run complete. Time taken: 00:00:08\n",
      "\u001b[34m\u001b[1mwandb\u001b[0m: \u001b[33mWARNING\u001b[0m Step must only increase in log calls.  Step 12 < 96; dropping {'lr/group_0': 0.001}.\n",
      "2021-01-26 09:53:28,447 Trainer INFO: Epoch[12] Complete. Time taken: 00:00:52\n"
     ]
    },
    {
     "name": "stdout",
     "output_type": "stream",
     "text": [
      "train loss 128.91522113741874\n",
      "val loss 98.83933734286363\n",
      "validation roc auc [0.55323383 0.74560398] 12\n",
      "train roc auc [0.62121633 0.63357772] 12\n"
     ]
    },
    {
     "name": "stderr",
     "output_type": "stream",
     "text": [
      "2021-01-26 09:53:48,773 Train Evaluator INFO: Engine run starting with max_epochs=1.\n",
      "2021-01-26 09:54:10,077 Train Evaluator INFO: Epoch[1] Complete. Time taken: 00:00:21\n",
      "2021-01-26 09:54:10,081 Train Evaluator INFO: Engine run complete. Time taken: 00:00:21\n",
      "2021-01-26 09:54:10,082 Val Evaluator INFO: Engine run starting with max_epochs=1.\n",
      "2021-01-26 09:54:17,128 Val Evaluator INFO: Epoch[1] Complete. Time taken: 00:00:07\n",
      "2021-01-26 09:54:17,442 Val Evaluator INFO: Engine run complete. Time taken: 00:00:07\n",
      "\u001b[34m\u001b[1mwandb\u001b[0m: \u001b[33mWARNING\u001b[0m Step must only increase in log calls.  Step 13 < 104; dropping {'lr/group_0': 0.001}.\n",
      "2021-01-26 09:54:17,453 Trainer INFO: Epoch[13] Complete. Time taken: 00:00:49\n"
     ]
    },
    {
     "name": "stdout",
     "output_type": "stream",
     "text": [
      "train loss 195.10423597946667\n",
      "val loss 154.37532325307276\n",
      "validation roc auc [0.59568823 0.67507645] 13\n",
      "train roc auc [0.56470425 0.66059807] 13\n"
     ]
    },
    {
     "name": "stderr",
     "output_type": "stream",
     "text": [
      "2021-01-26 09:54:41,934 Train Evaluator INFO: Engine run starting with max_epochs=1.\n",
      "2021-01-26 09:55:03,925 Train Evaluator INFO: Epoch[1] Complete. Time taken: 00:00:22\n",
      "2021-01-26 09:55:03,927 Train Evaluator INFO: Engine run complete. Time taken: 00:00:22\n",
      "2021-01-26 09:55:03,929 Val Evaluator INFO: Engine run starting with max_epochs=1.\n",
      "2021-01-26 09:55:11,447 Val Evaluator INFO: Epoch[1] Complete. Time taken: 00:00:08\n",
      "2021-01-26 09:55:11,751 Val Evaluator INFO: Engine run complete. Time taken: 00:00:08\n",
      "\u001b[34m\u001b[1mwandb\u001b[0m: \u001b[33mWARNING\u001b[0m Step must only increase in log calls.  Step 14 < 112; dropping {'lr/group_0': 0.001}.\n",
      "2021-01-26 09:55:11,760 Trainer INFO: Epoch[14] Complete. Time taken: 00:00:54\n"
     ]
    },
    {
     "name": "stdout",
     "output_type": "stream",
     "text": [
      "train loss 69.14773511367166\n",
      "val loss 104.62772102112983\n",
      "validation roc auc [0.43880597 0.61219419] 14\n",
      "train roc auc [0.63343516 0.65827086] 14\n"
     ]
    },
    {
     "name": "stderr",
     "output_type": "stream",
     "text": [
      "2021-01-26 09:55:33,234 Train Evaluator INFO: Engine run starting with max_epochs=1.\n",
      "2021-01-26 09:55:53,431 Train Evaluator INFO: Epoch[1] Complete. Time taken: 00:00:20\n",
      "2021-01-26 09:55:53,434 Train Evaluator INFO: Engine run complete. Time taken: 00:00:20\n",
      "2021-01-26 09:55:53,435 Val Evaluator INFO: Engine run starting with max_epochs=1.\n",
      "2021-01-26 09:55:59,852 Val Evaluator INFO: Epoch[1] Complete. Time taken: 00:00:06\n",
      "2021-01-26 09:55:59,856 Val Evaluator INFO: Engine run complete. Time taken: 00:00:06\n",
      "\u001b[34m\u001b[1mwandb\u001b[0m: \u001b[33mWARNING\u001b[0m Step must only increase in log calls.  Step 15 < 120; dropping {'lr/group_0': 0.001}.\n",
      "2021-01-26 09:55:59,866 Trainer INFO: Epoch[15] Complete. Time taken: 00:00:48\n"
     ]
    },
    {
     "name": "stdout",
     "output_type": "stream",
     "text": [
      "train loss 120.01176635476239\n",
      "val loss 223.54343195629727\n",
      "validation roc auc [0.44593698 0.46693425] 15\n",
      "train roc auc [0.64295632 0.53323997] 15\n"
     ]
    },
    {
     "name": "stderr",
     "output_type": "stream",
     "text": [
      "2021-01-26 09:56:23,672 Train Evaluator INFO: Engine run starting with max_epochs=1.\n",
      "2021-01-26 09:56:45,293 Train Evaluator INFO: Epoch[1] Complete. Time taken: 00:00:22\n",
      "2021-01-26 09:56:45,296 Train Evaluator INFO: Engine run complete. Time taken: 00:00:22\n",
      "2021-01-26 09:56:45,298 Val Evaluator INFO: Engine run starting with max_epochs=1.\n",
      "2021-01-26 09:56:52,819 Val Evaluator INFO: Epoch[1] Complete. Time taken: 00:00:08\n",
      "2021-01-26 09:56:52,822 Val Evaluator INFO: Engine run complete. Time taken: 00:00:08\n",
      "\u001b[34m\u001b[1mwandb\u001b[0m: \u001b[33mWARNING\u001b[0m Step must only increase in log calls.  Step 16 < 128; dropping {'lr/group_0': 0.001}.\n",
      "2021-01-26 09:56:52,832 Trainer INFO: Epoch[16] Complete. Time taken: 00:00:53\n"
     ]
    },
    {
     "name": "stdout",
     "output_type": "stream",
     "text": [
      "train loss 32.27186282787448\n",
      "val loss 73.17556646067625\n",
      "validation roc auc [0.46898839 0.51509939] 16\n",
      "train roc auc [0.68266751 0.66142186] 16\n"
     ]
    },
    {
     "name": "stderr",
     "output_type": "stream",
     "text": [
      "2021-01-26 09:57:15,326 Train Evaluator INFO: Engine run starting with max_epochs=1.\n",
      "2021-01-26 09:57:37,351 Train Evaluator INFO: Epoch[1] Complete. Time taken: 00:00:22\n",
      "2021-01-26 09:57:37,353 Train Evaluator INFO: Engine run complete. Time taken: 00:00:22\n",
      "2021-01-26 09:57:37,354 Val Evaluator INFO: Engine run starting with max_epochs=1.\n",
      "2021-01-26 09:57:43,997 Val Evaluator INFO: Epoch[1] Complete. Time taken: 00:00:07\n",
      "2021-01-26 09:57:44,316 Val Evaluator INFO: Engine run complete. Time taken: 00:00:07\n",
      "\u001b[34m\u001b[1mwandb\u001b[0m: \u001b[33mWARNING\u001b[0m Step must only increase in log calls.  Step 17 < 136; dropping {'lr/group_0': 0.001}.\n",
      "2021-01-26 09:57:44,331 Trainer INFO: Epoch[17] Complete. Time taken: 00:00:51\n"
     ]
    },
    {
     "name": "stdout",
     "output_type": "stream",
     "text": [
      "train loss 64.23298576870255\n",
      "val loss 105.03784029043405\n",
      "validation roc auc [0.46334992 0.57807722] 17\n",
      "train roc auc [0.66828659 0.6813988 ] 17\n"
     ]
    },
    {
     "name": "stderr",
     "output_type": "stream",
     "text": [
      "2021-01-26 09:58:08,053 Train Evaluator INFO: Engine run starting with max_epochs=1.\n",
      "2021-01-26 09:58:29,418 Train Evaluator INFO: Epoch[1] Complete. Time taken: 00:00:21\n",
      "2021-01-26 09:58:29,421 Train Evaluator INFO: Engine run complete. Time taken: 00:00:21\n",
      "2021-01-26 09:58:29,422 Val Evaluator INFO: Engine run starting with max_epochs=1.\n",
      "2021-01-26 09:58:36,636 Val Evaluator INFO: Epoch[1] Complete. Time taken: 00:00:07\n",
      "2021-01-26 09:58:36,956 Val Evaluator INFO: Engine run complete. Time taken: 00:00:08\n",
      "\u001b[34m\u001b[1mwandb\u001b[0m: \u001b[33mWARNING\u001b[0m Step must only increase in log calls.  Step 18 < 144; dropping {'lr/group_0': 0.001}.\n",
      "2021-01-26 09:58:36,975 Trainer INFO: Epoch[18] Complete. Time taken: 00:00:53\n"
     ]
    },
    {
     "name": "stdout",
     "output_type": "stream",
     "text": [
      "train loss 39.92912025700987\n",
      "val loss 76.09412957452665\n",
      "validation roc auc [0.48358209 0.56479358] 18\n",
      "train roc auc [0.69107788 0.68485872] 18\n"
     ]
    },
    {
     "name": "stderr",
     "output_type": "stream",
     "text": [
      "2021-01-26 09:58:58,127 Train Evaluator INFO: Engine run starting with max_epochs=1.\n",
      "2021-01-26 09:59:18,231 Train Evaluator INFO: Epoch[1] Complete. Time taken: 00:00:20\n",
      "2021-01-26 09:59:18,234 Train Evaluator INFO: Engine run complete. Time taken: 00:00:20\n",
      "2021-01-26 09:59:18,235 Val Evaluator INFO: Engine run starting with max_epochs=1.\n",
      "2021-01-26 09:59:25,029 Val Evaluator INFO: Epoch[1] Complete. Time taken: 00:00:07\n",
      "2021-01-26 09:59:25,032 Val Evaluator INFO: Engine run complete. Time taken: 00:00:07\n",
      "\u001b[34m\u001b[1mwandb\u001b[0m: \u001b[33mWARNING\u001b[0m Step must only increase in log calls.  Step 19 < 152; dropping {'lr/group_0': 0.001}.\n",
      "2021-01-26 09:59:25,040 Trainer INFO: Epoch[19] Complete. Time taken: 00:00:48\n"
     ]
    },
    {
     "name": "stdout",
     "output_type": "stream",
     "text": [
      "train loss 140.59166463216147\n",
      "val loss 236.93753304451135\n",
      "validation roc auc [0.45721393 0.4860474 ] 19\n",
      "train roc auc [0.62603642 0.62356866] 19\n"
     ]
    },
    {
     "name": "stderr",
     "output_type": "stream",
     "text": [
      "2021-01-26 09:59:43,799 Train Evaluator INFO: Engine run starting with max_epochs=1.\n",
      "2021-01-26 10:00:03,508 Train Evaluator INFO: Epoch[1] Complete. Time taken: 00:00:20\n",
      "2021-01-26 10:00:03,511 Train Evaluator INFO: Engine run complete. Time taken: 00:00:20\n",
      "2021-01-26 10:00:03,512 Val Evaluator INFO: Engine run starting with max_epochs=1.\n",
      "2021-01-26 10:00:10,837 Val Evaluator INFO: Epoch[1] Complete. Time taken: 00:00:07\n",
      "2021-01-26 10:00:10,839 Val Evaluator INFO: Engine run complete. Time taken: 00:00:07\n",
      "\u001b[34m\u001b[1mwandb\u001b[0m: \u001b[33mWARNING\u001b[0m Step must only increase in log calls.  Step 20 < 160; dropping {'lr/group_0': 0.001}.\n",
      "2021-01-26 10:00:10,847 Trainer INFO: Epoch[20] Complete. Time taken: 00:00:46\n"
     ]
    },
    {
     "name": "stdout",
     "output_type": "stream",
     "text": [
      "train loss 147.6485434305694\n",
      "val loss 256.5607793528563\n",
      "validation roc auc [0.4628524  0.47457951] 20\n",
      "train roc auc [0.63438727 0.57545926] 20\n"
     ]
    },
    {
     "name": "stderr",
     "output_type": "stream",
     "text": [
      "2021-01-26 10:00:32,560 Train Evaluator INFO: Engine run starting with max_epochs=1.\n",
      "2021-01-26 10:00:53,352 Train Evaluator INFO: Epoch[1] Complete. Time taken: 00:00:21\n",
      "2021-01-26 10:00:53,356 Train Evaluator INFO: Engine run complete. Time taken: 00:00:21\n",
      "2021-01-26 10:00:53,357 Val Evaluator INFO: Engine run starting with max_epochs=1.\n",
      "2021-01-26 10:01:00,256 Val Evaluator INFO: Epoch[1] Complete. Time taken: 00:00:07\n",
      "2021-01-26 10:01:00,612 Val Evaluator INFO: Engine run complete. Time taken: 00:00:07\n",
      "\u001b[34m\u001b[1mwandb\u001b[0m: \u001b[33mWARNING\u001b[0m Step must only increase in log calls.  Step 21 < 168; dropping {'lr/group_0': 0.001}.\n",
      "2021-01-26 10:01:00,620 Trainer INFO: Epoch[21] Complete. Time taken: 00:00:50\n"
     ]
    },
    {
     "name": "stdout",
     "output_type": "stream",
     "text": [
      "train loss 33.5142979175177\n",
      "val loss 45.78952456431784\n",
      "validation roc auc [0.54626866 0.76624618] 21\n",
      "train roc auc [0.66995279 0.68675344] 21\n"
     ]
    },
    {
     "name": "stderr",
     "output_type": "stream",
     "text": [
      "2021-01-26 10:01:24,475 Train Evaluator INFO: Engine run starting with max_epochs=1.\n",
      "2021-01-26 10:01:44,956 Train Evaluator INFO: Epoch[1] Complete. Time taken: 00:00:20\n",
      "2021-01-26 10:01:44,959 Train Evaluator INFO: Engine run complete. Time taken: 00:00:20\n",
      "2021-01-26 10:01:44,960 Val Evaluator INFO: Engine run starting with max_epochs=1.\n",
      "2021-01-26 10:01:51,164 Val Evaluator INFO: Epoch[1] Complete. Time taken: 00:00:06\n",
      "2021-01-26 10:01:51,500 Val Evaluator INFO: Engine run complete. Time taken: 00:00:07\n",
      "\u001b[34m\u001b[1mwandb\u001b[0m: \u001b[33mWARNING\u001b[0m Step must only increase in log calls.  Step 22 < 176; dropping {'lr/group_0': 0.001}.\n",
      "2021-01-26 10:01:51,512 Trainer INFO: Epoch[22] Complete. Time taken: 00:00:51\n"
     ]
    },
    {
     "name": "stdout",
     "output_type": "stream",
     "text": [
      "train loss 14.860989880198227\n",
      "val loss 24.16794790280093\n",
      "validation roc auc [0.49054726 0.7742737 ] 22\n",
      "train roc auc [0.69806998 0.67542631] 22\n"
     ]
    },
    {
     "name": "stderr",
     "output_type": "stream",
     "text": [
      "2021-01-26 10:02:14,002 Train Evaluator INFO: Engine run starting with max_epochs=1.\n",
      "2021-01-26 10:02:34,116 Train Evaluator INFO: Epoch[1] Complete. Time taken: 00:00:20\n",
      "2021-01-26 10:02:34,118 Train Evaluator INFO: Engine run complete. Time taken: 00:00:20\n",
      "2021-01-26 10:02:34,119 Val Evaluator INFO: Engine run starting with max_epochs=1.\n",
      "2021-01-26 10:02:42,027 Val Evaluator INFO: Epoch[1] Complete. Time taken: 00:00:08\n",
      "2021-01-26 10:02:42,324 Val Evaluator INFO: Engine run complete. Time taken: 00:00:08\n",
      "\u001b[34m\u001b[1mwandb\u001b[0m: \u001b[33mWARNING\u001b[0m Step must only increase in log calls.  Step 23 < 184; dropping {'lr/group_0': 0.001}.\n",
      "2021-01-26 10:02:42,333 Trainer INFO: Epoch[23] Complete. Time taken: 00:00:51\n"
     ]
    },
    {
     "name": "stdout",
     "output_type": "stream",
     "text": [
      "train loss 29.545853492221543\n",
      "val loss 45.647716157755276\n",
      "validation roc auc [0.48457711 0.7675841 ] 23\n",
      "train roc auc [0.70208672 0.67983359] 23\n"
     ]
    },
    {
     "name": "stderr",
     "output_type": "stream",
     "text": [
      "2021-01-26 10:03:04,610 Train Evaluator INFO: Engine run starting with max_epochs=1.\n",
      "2021-01-26 10:03:25,651 Train Evaluator INFO: Epoch[1] Complete. Time taken: 00:00:21\n",
      "2021-01-26 10:03:25,653 Train Evaluator INFO: Engine run complete. Time taken: 00:00:21\n",
      "2021-01-26 10:03:25,655 Val Evaluator INFO: Engine run starting with max_epochs=1.\n",
      "2021-01-26 10:03:33,101 Val Evaluator INFO: Epoch[1] Complete. Time taken: 00:00:07\n",
      "2021-01-26 10:03:33,471 Val Evaluator INFO: Engine run complete. Time taken: 00:00:08\n",
      "\u001b[34m\u001b[1mwandb\u001b[0m: \u001b[33mWARNING\u001b[0m Step must only increase in log calls.  Step 24 < 192; dropping {'lr/group_0': 0.001}.\n",
      "2021-01-26 10:03:33,496 Trainer INFO: Epoch[24] Complete. Time taken: 00:00:51\n"
     ]
    },
    {
     "name": "stdout",
     "output_type": "stream",
     "text": [
      "train loss 8.792616327863373\n",
      "val loss 19.832272936584083\n",
      "validation roc auc [0.48175788 0.75076453] 24\n",
      "train roc auc [0.70458603 0.68625916] 24\n"
     ]
    },
    {
     "name": "stderr",
     "output_type": "stream",
     "text": [
      "2021-01-26 10:03:55,292 Train Evaluator INFO: Engine run starting with max_epochs=1.\n",
      "2021-01-26 10:04:14,329 Train Evaluator INFO: Epoch[1] Complete. Time taken: 00:00:19\n",
      "2021-01-26 10:04:14,331 Train Evaluator INFO: Engine run complete. Time taken: 00:00:19\n",
      "2021-01-26 10:04:14,332 Val Evaluator INFO: Engine run starting with max_epochs=1.\n",
      "2021-01-26 10:04:20,149 Val Evaluator INFO: Epoch[1] Complete. Time taken: 00:00:06\n",
      "2021-01-26 10:04:20,539 Val Evaluator INFO: Engine run complete. Time taken: 00:00:06\n",
      "\u001b[34m\u001b[1mwandb\u001b[0m: \u001b[33mWARNING\u001b[0m Step must only increase in log calls.  Step 25 < 200; dropping {'lr/group_0': 0.001}.\n",
      "2021-01-26 10:04:20,550 Trainer INFO: Epoch[25] Complete. Time taken: 00:00:47\n"
     ]
    },
    {
     "name": "stdout",
     "output_type": "stream",
     "text": [
      "train loss 55.560586268605746\n",
      "val loss 45.080204277281545\n",
      "validation roc auc [0.53499171 0.75286697] 25\n",
      "train roc auc [0.68215178 0.65907406] 25\n"
     ]
    },
    {
     "name": "stderr",
     "output_type": "stream",
     "text": [
      "2021-01-26 10:04:42,936 Train Evaluator INFO: Engine run starting with max_epochs=1.\n",
      "2021-01-26 10:05:03,400 Train Evaluator INFO: Epoch[1] Complete. Time taken: 00:00:20\n",
      "2021-01-26 10:05:03,404 Train Evaluator INFO: Engine run complete. Time taken: 00:00:20\n",
      "2021-01-26 10:05:03,406 Val Evaluator INFO: Engine run starting with max_epochs=1.\n",
      "2021-01-26 10:05:11,300 Val Evaluator INFO: Epoch[1] Complete. Time taken: 00:00:08\n",
      "2021-01-26 10:05:11,588 Val Evaluator INFO: Engine run complete. Time taken: 00:00:08\n",
      "\u001b[34m\u001b[1mwandb\u001b[0m: \u001b[33mWARNING\u001b[0m Step must only increase in log calls.  Step 26 < 208; dropping {'lr/group_0': 0.001}.\n",
      "2021-01-26 10:05:11,606 Trainer INFO: Epoch[26] Complete. Time taken: 00:00:51\n"
     ]
    },
    {
     "name": "stdout",
     "output_type": "stream",
     "text": [
      "train loss 47.63126764733807\n",
      "val loss 46.71753175091592\n",
      "validation roc auc [0.57810945 0.75420489] 26\n",
      "train roc auc [0.66870314 0.69581514] 26\n"
     ]
    },
    {
     "name": "stderr",
     "output_type": "stream",
     "text": [
      "2021-01-26 10:05:33,536 Train Evaluator INFO: Engine run starting with max_epochs=1.\n",
      "2021-01-26 10:05:55,200 Train Evaluator INFO: Epoch[1] Complete. Time taken: 00:00:22\n",
      "2021-01-26 10:05:55,203 Train Evaluator INFO: Engine run complete. Time taken: 00:00:22\n",
      "2021-01-26 10:05:55,204 Val Evaluator INFO: Engine run starting with max_epochs=1.\n",
      "2021-01-26 10:06:02,306 Val Evaluator INFO: Epoch[1] Complete. Time taken: 00:00:07\n",
      "2021-01-26 10:06:02,635 Val Evaluator INFO: Engine run complete. Time taken: 00:00:07\n",
      "\u001b[34m\u001b[1mwandb\u001b[0m: \u001b[33mWARNING\u001b[0m Step must only increase in log calls.  Step 27 < 216; dropping {'lr/group_0': 0.001}.\n",
      "2021-01-26 10:06:02,652 Trainer INFO: Epoch[27] Complete. Time taken: 00:00:51\n"
     ]
    },
    {
     "name": "stdout",
     "output_type": "stream",
     "text": [
      "train loss 6.669866115179457\n",
      "val loss 12.08032680924531\n",
      "validation roc auc [0.48043118 0.75764526] 27\n",
      "train roc auc [0.72196215 0.68737128] 27\n"
     ]
    },
    {
     "name": "stderr",
     "output_type": "stream",
     "text": [
      "2021-01-26 10:06:24,310 Train Evaluator INFO: Engine run starting with max_epochs=1.\n",
      "2021-01-26 10:06:44,738 Train Evaluator INFO: Epoch[1] Complete. Time taken: 00:00:20\n",
      "2021-01-26 10:06:44,741 Train Evaluator INFO: Engine run complete. Time taken: 00:00:20\n",
      "2021-01-26 10:06:44,742 Val Evaluator INFO: Engine run starting with max_epochs=1.\n",
      "2021-01-26 10:06:51,875 Val Evaluator INFO: Epoch[1] Complete. Time taken: 00:00:07\n",
      "2021-01-26 10:06:51,879 Val Evaluator INFO: Engine run complete. Time taken: 00:00:07\n",
      "\u001b[34m\u001b[1mwandb\u001b[0m: \u001b[33mWARNING\u001b[0m Step must only increase in log calls.  Step 28 < 224; dropping {'lr/group_0': 0.001}.\n",
      "2021-01-26 10:06:51,888 Trainer INFO: Epoch[28] Complete. Time taken: 00:00:49\n"
     ]
    },
    {
     "name": "stdout",
     "output_type": "stream",
     "text": [
      "train loss 57.34715929218367\n",
      "val loss 95.24876170553219\n",
      "validation roc auc [0.45887231 0.54816514] 28\n",
      "train roc auc [0.70523069 0.72283549] 28\n"
     ]
    },
    {
     "name": "stderr",
     "output_type": "stream",
     "text": [
      "2021-01-26 10:07:14,189 Train Evaluator INFO: Engine run starting with max_epochs=1.\n",
      "2021-01-26 10:07:34,388 Train Evaluator INFO: Epoch[1] Complete. Time taken: 00:00:20\n",
      "2021-01-26 10:07:34,391 Train Evaluator INFO: Engine run complete. Time taken: 00:00:20\n",
      "2021-01-26 10:07:34,392 Val Evaluator INFO: Engine run starting with max_epochs=1.\n",
      "2021-01-26 10:07:41,243 Val Evaluator INFO: Epoch[1] Complete. Time taken: 00:00:07\n",
      "2021-01-26 10:07:41,246 Val Evaluator INFO: Engine run complete. Time taken: 00:00:07\n",
      "\u001b[34m\u001b[1mwandb\u001b[0m: \u001b[33mWARNING\u001b[0m Step must only increase in log calls.  Step 29 < 232; dropping {'lr/group_0': 0.001}.\n",
      "2021-01-26 10:07:41,255 Trainer INFO: Epoch[29] Complete. Time taken: 00:00:49\n"
     ]
    },
    {
     "name": "stdout",
     "output_type": "stream",
     "text": [
      "train loss 33.45061052442895\n",
      "val loss 52.602929084923616\n",
      "validation roc auc [0.46119403 0.67851682] 29\n",
      "train roc auc [0.7267029  0.72024055] 29\n"
     ]
    },
    {
     "name": "stderr",
     "output_type": "stream",
     "text": [
      "2021-01-26 10:08:01,630 Train Evaluator INFO: Engine run starting with max_epochs=1.\n",
      "2021-01-26 10:08:23,211 Train Evaluator INFO: Epoch[1] Complete. Time taken: 00:00:22\n",
      "2021-01-26 10:08:23,214 Train Evaluator INFO: Engine run complete. Time taken: 00:00:22\n",
      "2021-01-26 10:08:23,215 Val Evaluator INFO: Engine run starting with max_epochs=1.\n",
      "2021-01-26 10:08:29,514 Val Evaluator INFO: Epoch[1] Complete. Time taken: 00:00:06\n",
      "2021-01-26 10:08:29,517 Val Evaluator INFO: Engine run complete. Time taken: 00:00:06\n",
      "\u001b[34m\u001b[1mwandb\u001b[0m: \u001b[33mWARNING\u001b[0m Step must only increase in log calls.  Step 30 < 240; dropping {'lr/group_0': 0.001}.\n",
      "2021-01-26 10:08:29,525 Trainer INFO: Epoch[30] Complete. Time taken: 00:00:48\n"
     ]
    },
    {
     "name": "stdout",
     "output_type": "stream",
     "text": [
      "train loss 16.584534697023614\n",
      "val loss 22.550909929214768\n",
      "validation roc auc [0.47147595 0.71616972] 30\n",
      "train roc auc [0.73695799 0.71743966] 30\n"
     ]
    },
    {
     "name": "stderr",
     "output_type": "stream",
     "text": [
      "2021-01-26 10:08:49,949 Train Evaluator INFO: Engine run starting with max_epochs=1.\n",
      "2021-01-26 10:09:09,748 Train Evaluator INFO: Epoch[1] Complete. Time taken: 00:00:20\n",
      "2021-01-26 10:09:09,750 Train Evaluator INFO: Engine run complete. Time taken: 00:00:20\n",
      "2021-01-26 10:09:09,751 Val Evaluator INFO: Engine run starting with max_epochs=1.\n",
      "2021-01-26 10:09:16,451 Val Evaluator INFO: Epoch[1] Complete. Time taken: 00:00:07\n",
      "2021-01-26 10:09:16,453 Val Evaluator INFO: Engine run complete. Time taken: 00:00:07\n",
      "\u001b[34m\u001b[1mwandb\u001b[0m: \u001b[33mWARNING\u001b[0m Step must only increase in log calls.  Step 31 < 248; dropping {'lr/group_0': 0.001}.\n",
      "2021-01-26 10:09:16,461 Trainer INFO: Epoch[31] Complete. Time taken: 00:00:47\n"
     ]
    },
    {
     "name": "stdout",
     "output_type": "stream",
     "text": [
      "train loss 13.922211009173092\n",
      "val loss 16.204874804065486\n",
      "validation roc auc [0.47097844 0.73853211] 31\n",
      "train roc auc [0.74171857 0.710561  ] 31\n"
     ]
    },
    {
     "name": "stderr",
     "output_type": "stream",
     "text": [
      "2021-01-26 10:09:38,558 Train Evaluator INFO: Engine run starting with max_epochs=1.\n",
      "2021-01-26 10:09:59,631 Train Evaluator INFO: Epoch[1] Complete. Time taken: 00:00:21\n",
      "2021-01-26 10:09:59,634 Train Evaluator INFO: Engine run complete. Time taken: 00:00:21\n",
      "2021-01-26 10:09:59,635 Val Evaluator INFO: Engine run starting with max_epochs=1.\n",
      "2021-01-26 10:10:07,500 Val Evaluator INFO: Epoch[1] Complete. Time taken: 00:00:08\n",
      "2021-01-26 10:10:07,502 Val Evaluator INFO: Engine run complete. Time taken: 00:00:08\n",
      "\u001b[34m\u001b[1mwandb\u001b[0m: \u001b[33mWARNING\u001b[0m Step must only increase in log calls.  Step 32 < 256; dropping {'lr/group_0': 0.001}.\n",
      "2021-01-26 10:10:07,510 Trainer INFO: Epoch[32] Complete. Time taken: 00:00:51\n"
     ]
    },
    {
     "name": "stdout",
     "output_type": "stream",
     "text": [
      "train loss 2.2534444332122803\n",
      "val loss 4.490767562465304\n",
      "validation roc auc [0.46583748 0.74426606] 32\n",
      "train roc auc [0.75481017 0.70990197] 32\n"
     ]
    },
    {
     "name": "stderr",
     "output_type": "stream",
     "text": [
      "2021-01-26 10:10:30,533 Train Evaluator INFO: Engine run starting with max_epochs=1.\n",
      "2021-01-26 10:10:51,129 Train Evaluator INFO: Epoch[1] Complete. Time taken: 00:00:21\n",
      "2021-01-26 10:10:51,132 Train Evaluator INFO: Engine run complete. Time taken: 00:00:21\n",
      "2021-01-26 10:10:51,133 Val Evaluator INFO: Engine run starting with max_epochs=1.\n",
      "2021-01-26 10:10:58,355 Val Evaluator INFO: Epoch[1] Complete. Time taken: 00:00:07\n",
      "2021-01-26 10:10:58,358 Val Evaluator INFO: Engine run complete. Time taken: 00:00:07\n",
      "\u001b[34m\u001b[1mwandb\u001b[0m: \u001b[33mWARNING\u001b[0m Step must only increase in log calls.  Step 33 < 264; dropping {'lr/group_0': 0.001}.\n",
      "2021-01-26 10:10:58,365 Trainer INFO: Epoch[33] Complete. Time taken: 00:00:51\n"
     ]
    },
    {
     "name": "stdout",
     "output_type": "stream",
     "text": [
      "train loss 16.206075190458943\n",
      "val loss 24.375899053682947\n",
      "validation roc auc [0.45754561 0.72381498] 33\n",
      "train roc auc [0.75676399 0.73321526] 33\n"
     ]
    },
    {
     "name": "stderr",
     "output_type": "stream",
     "text": [
      "2021-01-26 10:11:18,260 Train Evaluator INFO: Engine run starting with max_epochs=1.\n",
      "2021-01-26 10:11:38,517 Train Evaluator INFO: Epoch[1] Complete. Time taken: 00:00:20\n",
      "2021-01-26 10:11:38,526 Train Evaluator INFO: Engine run complete. Time taken: 00:00:20\n",
      "2021-01-26 10:11:38,528 Val Evaluator INFO: Engine run starting with max_epochs=1.\n",
      "2021-01-26 10:11:46,514 Val Evaluator INFO: Epoch[1] Complete. Time taken: 00:00:08\n",
      "2021-01-26 10:11:46,518 Val Evaluator INFO: Engine run complete. Time taken: 00:00:08\n",
      "\u001b[34m\u001b[1mwandb\u001b[0m: \u001b[33mWARNING\u001b[0m Step must only increase in log calls.  Step 34 < 272; dropping {'lr/group_0': 0.001}.\n",
      "2021-01-26 10:11:46,534 Trainer INFO: Epoch[34] Complete. Time taken: 00:00:48\n"
     ]
    },
    {
     "name": "stdout",
     "output_type": "stream",
     "text": [
      "train loss 8.832844188789917\n",
      "val loss 14.090006214797876\n",
      "validation roc auc [0.46235489 0.71005352] 34\n",
      "train roc auc [0.76665212 0.74029986] 34\n"
     ]
    },
    {
     "name": "stderr",
     "output_type": "stream",
     "text": [
      "2021-01-26 10:12:08,998 Train Evaluator INFO: Engine run starting with max_epochs=1.\n",
      "2021-01-26 10:12:28,988 Train Evaluator INFO: Epoch[1] Complete. Time taken: 00:00:20\n",
      "2021-01-26 10:12:28,991 Train Evaluator INFO: Engine run complete. Time taken: 00:00:20\n",
      "2021-01-26 10:12:28,992 Val Evaluator INFO: Engine run starting with max_epochs=1.\n",
      "2021-01-26 10:12:36,040 Val Evaluator INFO: Epoch[1] Complete. Time taken: 00:00:07\n",
      "2021-01-26 10:12:36,043 Val Evaluator INFO: Engine run complete. Time taken: 00:00:07\n",
      "\u001b[34m\u001b[1mwandb\u001b[0m: \u001b[33mWARNING\u001b[0m Step must only increase in log calls.  Step 35 < 280; dropping {'lr/group_0': 0.001}.\n",
      "2021-01-26 10:12:36,050 Trainer INFO: Epoch[35] Complete. Time taken: 00:00:50\n"
     ]
    },
    {
     "name": "stdout",
     "output_type": "stream",
     "text": [
      "train loss 6.238651885446121\n",
      "val loss 10.497521667723444\n",
      "validation roc auc [0.46600332 0.71999235] 35\n",
      "train roc auc [0.77877177 0.74816706] 35\n"
     ]
    },
    {
     "name": "stderr",
     "output_type": "stream",
     "text": [
      "2021-01-26 10:12:59,192 Train Evaluator INFO: Engine run starting with max_epochs=1.\n",
      "2021-01-26 10:13:19,864 Train Evaluator INFO: Epoch[1] Complete. Time taken: 00:00:21\n",
      "2021-01-26 10:13:19,870 Train Evaluator INFO: Engine run complete. Time taken: 00:00:21\n",
      "2021-01-26 10:13:19,872 Val Evaluator INFO: Engine run starting with max_epochs=1.\n",
      "2021-01-26 10:13:26,008 Val Evaluator INFO: Epoch[1] Complete. Time taken: 00:00:06\n",
      "2021-01-26 10:13:26,011 Val Evaluator INFO: Engine run complete. Time taken: 00:00:06\n",
      "\u001b[34m\u001b[1mwandb\u001b[0m: \u001b[33mWARNING\u001b[0m Step must only increase in log calls.  Step 36 < 288; dropping {'lr/group_0': 0.001}.\n",
      "2021-01-26 10:13:26,019 Trainer INFO: Epoch[36] Complete. Time taken: 00:00:50\n"
     ]
    },
    {
     "name": "stdout",
     "output_type": "stream",
     "text": [
      "train loss 6.8450533112669305\n",
      "val loss 12.512118424579596\n",
      "validation roc auc [0.47131012 0.71961009] 36\n",
      "train roc auc [0.78747967 0.75928824] 36\n"
     ]
    },
    {
     "name": "stderr",
     "output_type": "stream",
     "text": [
      "2021-01-26 10:13:48,156 Train Evaluator INFO: Engine run starting with max_epochs=1.\n",
      "2021-01-26 10:14:10,229 Train Evaluator INFO: Epoch[1] Complete. Time taken: 00:00:22\n",
      "2021-01-26 10:14:10,233 Train Evaluator INFO: Engine run complete. Time taken: 00:00:22\n",
      "2021-01-26 10:14:10,235 Val Evaluator INFO: Engine run starting with max_epochs=1.\n",
      "2021-01-26 10:14:18,574 Val Evaluator INFO: Epoch[1] Complete. Time taken: 00:00:08\n",
      "2021-01-26 10:14:18,577 Val Evaluator INFO: Engine run complete. Time taken: 00:00:08\n",
      "\u001b[34m\u001b[1mwandb\u001b[0m: \u001b[33mWARNING\u001b[0m Step must only increase in log calls.  Step 37 < 296; dropping {'lr/group_0': 0.001}.\n",
      "2021-01-26 10:14:18,586 Trainer INFO: Epoch[37] Complete. Time taken: 00:00:53\n"
     ]
    },
    {
     "name": "stdout",
     "output_type": "stream",
     "text": [
      "train loss 12.73695004947305\n",
      "val loss 21.43750773873299\n",
      "validation roc auc [0.47313433 0.70470183] 37\n",
      "train roc auc [0.79666363 0.77494028] 37\n"
     ]
    },
    {
     "name": "stderr",
     "output_type": "stream",
     "text": [
      "2021-01-26 10:14:42,314 Train Evaluator INFO: Engine run starting with max_epochs=1.\n",
      "2021-01-26 10:15:04,221 Train Evaluator INFO: Epoch[1] Complete. Time taken: 00:00:22\n",
      "2021-01-26 10:15:04,224 Train Evaluator INFO: Engine run complete. Time taken: 00:00:22\n",
      "2021-01-26 10:15:04,225 Val Evaluator INFO: Engine run starting with max_epochs=1.\n",
      "2021-01-26 10:15:11,091 Val Evaluator INFO: Epoch[1] Complete. Time taken: 00:00:07\n",
      "2021-01-26 10:15:11,094 Val Evaluator INFO: Engine run complete. Time taken: 00:00:07\n",
      "\u001b[34m\u001b[1mwandb\u001b[0m: \u001b[33mWARNING\u001b[0m Step must only increase in log calls.  Step 38 < 304; dropping {'lr/group_0': 0.001}.\n",
      "2021-01-26 10:15:11,101 Trainer INFO: Epoch[38] Complete. Time taken: 00:00:53\n"
     ]
    },
    {
     "name": "stdout",
     "output_type": "stream",
     "text": [
      "train loss 2.796477156916475\n",
      "val loss 6.855569219892951\n",
      "validation roc auc [0.4681592  0.72993119] 38\n",
      "train roc auc [0.79662395 0.7646017 ] 38\n"
     ]
    },
    {
     "name": "stderr",
     "output_type": "stream",
     "text": [
      "2021-01-26 10:15:33,661 Train Evaluator INFO: Engine run starting with max_epochs=1.\n",
      "2021-01-26 10:15:55,159 Train Evaluator INFO: Epoch[1] Complete. Time taken: 00:00:21\n",
      "2021-01-26 10:15:55,162 Train Evaluator INFO: Engine run complete. Time taken: 00:00:21\n",
      "2021-01-26 10:15:55,163 Val Evaluator INFO: Engine run starting with max_epochs=1.\n",
      "2021-01-26 10:16:02,133 Val Evaluator INFO: Epoch[1] Complete. Time taken: 00:00:07\n",
      "2021-01-26 10:16:02,472 Val Evaluator INFO: Engine run complete. Time taken: 00:00:07\n",
      "\u001b[34m\u001b[1mwandb\u001b[0m: \u001b[33mWARNING\u001b[0m Step must only increase in log calls.  Step 39 < 312; dropping {'lr/group_0': 0.001}.\n",
      "2021-01-26 10:16:02,481 Trainer INFO: Epoch[39] Complete. Time taken: 00:00:51\n"
     ]
    },
    {
     "name": "stdout",
     "output_type": "stream",
     "text": [
      "train loss 39.28589312235514\n",
      "val loss 32.067377272684865\n",
      "validation roc auc [0.54875622 0.73451835] 39\n",
      "train roc auc [0.75137859 0.74969108] 39\n"
     ]
    },
    {
     "name": "stderr",
     "output_type": "stream",
     "text": [
      "2021-01-26 10:16:25,153 Train Evaluator INFO: Engine run starting with max_epochs=1.\n",
      "2021-01-26 10:16:45,482 Train Evaluator INFO: Epoch[1] Complete. Time taken: 00:00:20\n",
      "2021-01-26 10:16:45,486 Train Evaluator INFO: Engine run complete. Time taken: 00:00:20\n",
      "2021-01-26 10:16:45,488 Val Evaluator INFO: Engine run starting with max_epochs=1.\n",
      "2021-01-26 10:16:52,998 Val Evaluator INFO: Epoch[1] Complete. Time taken: 00:00:08\n",
      "2021-01-26 10:16:53,000 Val Evaluator INFO: Engine run complete. Time taken: 00:00:08\n",
      "\u001b[34m\u001b[1mwandb\u001b[0m: \u001b[33mWARNING\u001b[0m Step must only increase in log calls.  Step 40 < 320; dropping {'lr/group_0': 0.001}.\n",
      "2021-01-26 10:16:53,008 Trainer INFO: Epoch[40] Complete. Time taken: 00:00:51\n"
     ]
    },
    {
     "name": "stdout",
     "output_type": "stream",
     "text": [
      "train loss 21.467829976466227\n",
      "val loss 19.077892789415493\n",
      "validation roc auc [0.4708126  0.72343272] 40\n",
      "train roc auc [0.78650772 0.76703188] 40\n"
     ]
    },
    {
     "name": "stderr",
     "output_type": "stream",
     "text": [
      "2021-01-26 10:17:15,221 Train Evaluator INFO: Engine run starting with max_epochs=1.\n",
      "2021-01-26 10:17:35,572 Train Evaluator INFO: Epoch[1] Complete. Time taken: 00:00:20\n",
      "2021-01-26 10:17:35,575 Train Evaluator INFO: Engine run complete. Time taken: 00:00:20\n",
      "2021-01-26 10:17:35,577 Val Evaluator INFO: Engine run starting with max_epochs=1.\n",
      "2021-01-26 10:17:43,510 Val Evaluator INFO: Epoch[1] Complete. Time taken: 00:00:08\n",
      "2021-01-26 10:17:43,513 Val Evaluator INFO: Engine run complete. Time taken: 00:00:08\n",
      "\u001b[34m\u001b[1mwandb\u001b[0m: \u001b[33mWARNING\u001b[0m Step must only increase in log calls.  Step 41 < 328; dropping {'lr/group_0': 0.001}.\n",
      "2021-01-26 10:17:43,520 Trainer INFO: Epoch[41] Complete. Time taken: 00:00:51\n"
     ]
    },
    {
     "name": "stdout",
     "output_type": "stream",
     "text": [
      "train loss 1.3626283840935733\n",
      "val loss 3.6126864563887287\n",
      "validation roc auc [0.45671642 0.71731651] 41\n",
      "train roc auc [0.80469711 0.780748  ] 41\n"
     ]
    },
    {
     "name": "stderr",
     "output_type": "stream",
     "text": [
      "2021-01-26 10:18:03,961 Train Evaluator INFO: Engine run starting with max_epochs=1.\n",
      "2021-01-26 10:18:23,990 Train Evaluator INFO: Epoch[1] Complete. Time taken: 00:00:20\n",
      "2021-01-26 10:18:23,992 Train Evaluator INFO: Engine run complete. Time taken: 00:00:20\n",
      "2021-01-26 10:18:23,994 Val Evaluator INFO: Engine run starting with max_epochs=1.\n",
      "2021-01-26 10:18:30,371 Val Evaluator INFO: Epoch[1] Complete. Time taken: 00:00:06\n",
      "2021-01-26 10:18:30,374 Val Evaluator INFO: Engine run complete. Time taken: 00:00:06\n",
      "\u001b[34m\u001b[1mwandb\u001b[0m: \u001b[33mWARNING\u001b[0m Step must only increase in log calls.  Step 42 < 336; dropping {'lr/group_0': 0.001}.\n",
      "2021-01-26 10:18:30,381 Trainer INFO: Epoch[42] Complete. Time taken: 00:00:47\n"
     ]
    },
    {
     "name": "stdout",
     "output_type": "stream",
     "text": [
      "train loss 9.905277206487385\n",
      "val loss 17.713462185707822\n",
      "validation roc auc [0.46318408 0.58256881] 42\n",
      "train roc auc [0.81483318 0.82115496] 42\n"
     ]
    },
    {
     "name": "stderr",
     "output_type": "stream",
     "text": [
      "2021-01-26 10:18:51,335 Train Evaluator INFO: Engine run starting with max_epochs=1.\n",
      "2021-01-26 10:19:10,326 Train Evaluator INFO: Epoch[1] Complete. Time taken: 00:00:19\n",
      "2021-01-26 10:19:10,330 Train Evaluator INFO: Engine run complete. Time taken: 00:00:19\n",
      "2021-01-26 10:19:10,332 Val Evaluator INFO: Engine run starting with max_epochs=1.\n",
      "2021-01-26 10:19:17,614 Val Evaluator INFO: Epoch[1] Complete. Time taken: 00:00:07\n",
      "2021-01-26 10:19:17,617 Val Evaluator INFO: Engine run complete. Time taken: 00:00:07\n",
      "\u001b[34m\u001b[1mwandb\u001b[0m: \u001b[33mWARNING\u001b[0m Step must only increase in log calls.  Step 43 < 344; dropping {'lr/group_0': 0.001}.\n",
      "2021-01-26 10:19:17,626 Trainer INFO: Epoch[43] Complete. Time taken: 00:00:47\n"
     ]
    },
    {
     "name": "stdout",
     "output_type": "stream",
     "text": [
      "train loss 24.714708789501316\n",
      "val loss 41.882636853843735\n",
      "validation roc auc [0.44859038 0.51930428] 43\n",
      "train roc auc [0.7811719  0.82791004] 43\n"
     ]
    },
    {
     "name": "stderr",
     "output_type": "stream",
     "text": [
      "2021-01-26 10:19:37,302 Train Evaluator INFO: Engine run starting with max_epochs=1.\n",
      "2021-01-26 10:19:58,443 Train Evaluator INFO: Epoch[1] Complete. Time taken: 00:00:21\n",
      "2021-01-26 10:19:58,447 Train Evaluator INFO: Engine run complete. Time taken: 00:00:21\n",
      "2021-01-26 10:19:58,449 Val Evaluator INFO: Engine run starting with max_epochs=1.\n",
      "2021-01-26 10:20:04,690 Val Evaluator INFO: Epoch[1] Complete. Time taken: 00:00:06\n",
      "2021-01-26 10:20:04,693 Val Evaluator INFO: Engine run complete. Time taken: 00:00:06\n",
      "\u001b[34m\u001b[1mwandb\u001b[0m: \u001b[33mWARNING\u001b[0m Step must only increase in log calls.  Step 44 < 352; dropping {'lr/group_0': 0.001}.\n",
      "2021-01-26 10:20:04,702 Trainer INFO: Epoch[44] Complete. Time taken: 00:00:47\n"
     ]
    },
    {
     "name": "stdout",
     "output_type": "stream",
     "text": [
      "train loss 4.021565711332692\n",
      "val loss 10.415516312714596\n",
      "validation roc auc [0.45655058 0.58906728] 44\n",
      "train roc auc [0.8215575  0.83252327] 44\n"
     ]
    },
    {
     "name": "stderr",
     "output_type": "stream",
     "text": [
      "2021-01-26 10:20:26,984 Train Evaluator INFO: Engine run starting with max_epochs=1.\n",
      "2021-01-26 10:20:47,181 Train Evaluator INFO: Epoch[1] Complete. Time taken: 00:00:20\n",
      "2021-01-26 10:20:47,185 Train Evaluator INFO: Engine run complete. Time taken: 00:00:20\n",
      "2021-01-26 10:20:47,187 Val Evaluator INFO: Engine run starting with max_epochs=1.\n",
      "2021-01-26 10:20:54,017 Val Evaluator INFO: Epoch[1] Complete. Time taken: 00:00:07\n",
      "2021-01-26 10:20:54,019 Val Evaluator INFO: Engine run complete. Time taken: 00:00:07\n",
      "\u001b[34m\u001b[1mwandb\u001b[0m: \u001b[33mWARNING\u001b[0m Step must only increase in log calls.  Step 45 < 360; dropping {'lr/group_0': 0.001}.\n",
      "2021-01-26 10:20:54,028 Trainer INFO: Epoch[45] Complete. Time taken: 00:00:49\n"
     ]
    },
    {
     "name": "stdout",
     "output_type": "stream",
     "text": [
      "train loss 7.924403746403381\n",
      "val loss 9.728522489025334\n",
      "validation roc auc [0.45737977 0.71769878] 45\n",
      "train roc auc [0.82627841 0.81250515] 45\n"
     ]
    },
    {
     "name": "stderr",
     "output_type": "stream",
     "text": [
      "2021-01-26 10:21:15,485 Train Evaluator INFO: Engine run starting with max_epochs=1.\n",
      "2021-01-26 10:21:37,429 Train Evaluator INFO: Epoch[1] Complete. Time taken: 00:00:22\n",
      "2021-01-26 10:21:37,431 Train Evaluator INFO: Engine run complete. Time taken: 00:00:22\n",
      "2021-01-26 10:21:37,432 Val Evaluator INFO: Engine run starting with max_epochs=1.\n",
      "2021-01-26 10:21:44,861 Val Evaluator INFO: Epoch[1] Complete. Time taken: 00:00:07\n",
      "2021-01-26 10:21:44,864 Val Evaluator INFO: Engine run complete. Time taken: 00:00:07\n",
      "\u001b[34m\u001b[1mwandb\u001b[0m: \u001b[33mWARNING\u001b[0m Step must only increase in log calls.  Step 46 < 368; dropping {'lr/group_0': 0.001}.\n",
      "2021-01-26 10:21:44,871 Trainer INFO: Epoch[46] Complete. Time taken: 00:00:51\n"
     ]
    },
    {
     "name": "stdout",
     "output_type": "stream",
     "text": [
      "train loss 0.9199562342857743\n",
      "val loss 2.8247921603500465\n",
      "validation roc auc [0.45804312 0.69935015] 46\n",
      "train roc auc [0.83332011 0.83404729] 46\n"
     ]
    },
    {
     "name": "stderr",
     "output_type": "stream",
     "text": [
      "2021-01-26 10:22:07,966 Train Evaluator INFO: Engine run starting with max_epochs=1.\n",
      "2021-01-26 10:22:30,579 Train Evaluator INFO: Epoch[1] Complete. Time taken: 00:00:23\n",
      "2021-01-26 10:22:30,582 Train Evaluator INFO: Engine run complete. Time taken: 00:00:23\n",
      "2021-01-26 10:22:30,583 Val Evaluator INFO: Engine run starting with max_epochs=1.\n",
      "2021-01-26 10:22:37,493 Val Evaluator INFO: Epoch[1] Complete. Time taken: 00:00:07\n",
      "2021-01-26 10:22:37,497 Val Evaluator INFO: Engine run complete. Time taken: 00:00:07\n",
      "\u001b[34m\u001b[1mwandb\u001b[0m: \u001b[33mWARNING\u001b[0m Step must only increase in log calls.  Step 47 < 376; dropping {'lr/group_0': 0.001}.\n",
      "2021-01-26 10:22:37,513 Trainer INFO: Epoch[47] Complete. Time taken: 00:00:53\n"
     ]
    },
    {
     "name": "stdout",
     "output_type": "stream",
     "text": [
      "train loss 6.627474718363976\n",
      "val loss 11.353757074684095\n",
      "validation roc auc [0.45273632 0.59461009] 47\n",
      "train roc auc [0.83385568 0.85859626] 47\n"
     ]
    },
    {
     "name": "stderr",
     "output_type": "stream",
     "text": [
      "2021-01-26 10:22:58,330 Train Evaluator INFO: Engine run starting with max_epochs=1.\n",
      "2021-01-26 10:23:18,908 Train Evaluator INFO: Epoch[1] Complete. Time taken: 00:00:21\n",
      "2021-01-26 10:23:18,911 Train Evaluator INFO: Engine run complete. Time taken: 00:00:21\n",
      "2021-01-26 10:23:18,913 Val Evaluator INFO: Engine run starting with max_epochs=1.\n",
      "2021-01-26 10:23:26,572 Val Evaluator INFO: Epoch[1] Complete. Time taken: 00:00:08\n",
      "2021-01-26 10:23:26,575 Val Evaluator INFO: Engine run complete. Time taken: 00:00:08\n",
      "\u001b[34m\u001b[1mwandb\u001b[0m: \u001b[33mWARNING\u001b[0m Step must only increase in log calls.  Step 48 < 384; dropping {'lr/group_0': 0.001}.\n",
      "2021-01-26 10:23:26,582 Trainer INFO: Epoch[48] Complete. Time taken: 00:00:49\n"
     ]
    },
    {
     "name": "stdout",
     "output_type": "stream",
     "text": [
      "train loss 5.090356581091621\n",
      "val loss 9.634593921102535\n",
      "validation roc auc [0.45240464 0.56995413] 48\n",
      "train roc auc [0.8411354  0.86938792] 48\n"
     ]
    },
    {
     "name": "stderr",
     "output_type": "stream",
     "text": [
      "2021-01-26 10:23:46,625 Train Evaluator INFO: Engine run starting with max_epochs=1.\n",
      "2021-01-26 10:24:09,608 Train Evaluator INFO: Epoch[1] Complete. Time taken: 00:00:23\n",
      "2021-01-26 10:24:09,611 Train Evaluator INFO: Engine run complete. Time taken: 00:00:23\n",
      "2021-01-26 10:24:09,612 Val Evaluator INFO: Engine run starting with max_epochs=1.\n",
      "2021-01-26 10:24:18,749 Val Evaluator INFO: Epoch[1] Complete. Time taken: 00:00:09\n",
      "2021-01-26 10:24:18,751 Val Evaluator INFO: Engine run complete. Time taken: 00:00:09\n",
      "\u001b[34m\u001b[1mwandb\u001b[0m: \u001b[33mWARNING\u001b[0m Step must only increase in log calls.  Step 49 < 392; dropping {'lr/group_0': 0.001}.\n",
      "2021-01-26 10:24:18,759 Trainer INFO: Epoch[49] Complete. Time taken: 00:00:52\n"
     ]
    },
    {
     "name": "stdout",
     "output_type": "stream",
     "text": [
      "train loss 5.003654156894726\n",
      "val loss 7.329165422233047\n",
      "validation roc auc [0.45572139 0.71636086] 49\n",
      "train roc auc [0.85329472 0.85000824] 49\n"
     ]
    },
    {
     "name": "stderr",
     "output_type": "stream",
     "text": [
      "2021-01-26 10:24:41,434 Train Evaluator INFO: Engine run starting with max_epochs=1.\n",
      "2021-01-26 10:25:00,611 Train Evaluator INFO: Epoch[1] Complete. Time taken: 00:00:19\n",
      "2021-01-26 10:25:00,614 Train Evaluator INFO: Engine run complete. Time taken: 00:00:19\n",
      "2021-01-26 10:25:00,615 Val Evaluator INFO: Engine run starting with max_epochs=1.\n",
      "2021-01-26 10:25:07,880 Val Evaluator INFO: Epoch[1] Complete. Time taken: 00:00:07\n",
      "2021-01-26 10:25:07,883 Val Evaluator INFO: Engine run complete. Time taken: 00:00:07\n",
      "\u001b[34m\u001b[1mwandb\u001b[0m: \u001b[33mWARNING\u001b[0m Step must only increase in log calls.  Step 50 < 400; dropping {'lr/group_0': 0.001}.\n",
      "2021-01-26 10:25:07,906 Trainer INFO: Epoch[50] Complete. Time taken: 00:00:49\n"
     ]
    },
    {
     "name": "stdout",
     "output_type": "stream",
     "text": [
      "train loss 12.355000435656711\n",
      "val loss 11.412496906936548\n",
      "validation roc auc [0.46484245 0.67775229] 50\n",
      "train roc auc [0.86035625 0.87643134] 50\n"
     ]
    },
    {
     "name": "stderr",
     "output_type": "stream",
     "text": [
      "2021-01-26 10:25:29,379 Train Evaluator INFO: Engine run starting with max_epochs=1.\n",
      "2021-01-26 10:25:52,247 Train Evaluator INFO: Epoch[1] Complete. Time taken: 00:00:23\n",
      "2021-01-26 10:25:52,250 Train Evaluator INFO: Engine run complete. Time taken: 00:00:23\n",
      "2021-01-26 10:25:52,251 Val Evaluator INFO: Engine run starting with max_epochs=1.\n",
      "2021-01-26 10:25:58,511 Val Evaluator INFO: Epoch[1] Complete. Time taken: 00:00:06\n",
      "2021-01-26 10:25:58,514 Val Evaluator INFO: Engine run complete. Time taken: 00:00:06\n",
      "\u001b[34m\u001b[1mwandb\u001b[0m: \u001b[33mWARNING\u001b[0m Step must only increase in log calls.  Step 51 < 408; dropping {'lr/group_0': 0.001}.\n",
      "2021-01-26 10:25:58,524 Trainer INFO: Epoch[51] Complete. Time taken: 00:00:51\n"
     ]
    },
    {
     "name": "stdout",
     "output_type": "stream",
     "text": [
      "train loss 2.531456857984622\n",
      "val loss 4.429104325118338\n",
      "validation roc auc [0.45754561 0.71406728] 51\n",
      "train roc auc [0.87537192 0.87869676] 51\n"
     ]
    },
    {
     "name": "stderr",
     "output_type": "stream",
     "text": [
      "2021-01-26 10:26:20,544 Train Evaluator INFO: Engine run starting with max_epochs=1.\n",
      "2021-01-26 10:26:41,496 Train Evaluator INFO: Epoch[1] Complete. Time taken: 00:00:21\n",
      "2021-01-26 10:26:41,498 Train Evaluator INFO: Engine run complete. Time taken: 00:00:21\n",
      "2021-01-26 10:26:41,499 Val Evaluator INFO: Engine run starting with max_epochs=1.\n",
      "2021-01-26 10:26:49,487 Val Evaluator INFO: Epoch[1] Complete. Time taken: 00:00:08\n",
      "2021-01-26 10:26:49,859 Val Evaluator INFO: Engine run complete. Time taken: 00:00:08\n",
      "\u001b[34m\u001b[1mwandb\u001b[0m: \u001b[33mWARNING\u001b[0m Step must only increase in log calls.  Step 52 < 416; dropping {'lr/group_0': 0.001}.\n",
      "2021-01-26 10:26:49,872 Trainer INFO: Epoch[52] Complete. Time taken: 00:00:51\n"
     ]
    },
    {
     "name": "stdout",
     "output_type": "stream",
     "text": [
      "train loss 95.90568763550071\n",
      "val loss 68.06346655195685\n",
      "validation roc auc [0.65439469 0.68100153] 52\n",
      "train roc auc [0.59850438 0.90254551] 52\n"
     ]
    },
    {
     "name": "stderr",
     "output_type": "stream",
     "text": [
      "2021-01-26 10:27:10,791 Train Evaluator INFO: Engine run starting with max_epochs=1.\n",
      "2021-01-26 10:27:32,333 Train Evaluator INFO: Epoch[1] Complete. Time taken: 00:00:22\n",
      "2021-01-26 10:27:32,336 Train Evaluator INFO: Engine run complete. Time taken: 00:00:22\n",
      "2021-01-26 10:27:32,337 Val Evaluator INFO: Engine run starting with max_epochs=1.\n",
      "2021-01-26 10:27:39,819 Val Evaluator INFO: Epoch[1] Complete. Time taken: 00:00:07\n",
      "2021-01-26 10:27:39,822 Val Evaluator INFO: Engine run complete. Time taken: 00:00:07\n",
      "\u001b[34m\u001b[1mwandb\u001b[0m: \u001b[33mWARNING\u001b[0m Step must only increase in log calls.  Step 53 < 424; dropping {'lr/group_0': 0.001}.\n",
      "2021-01-26 10:27:39,831 Trainer INFO: Epoch[53] Complete. Time taken: 00:00:50\n"
     ]
    },
    {
     "name": "stdout",
     "output_type": "stream",
     "text": [
      "train loss 5.534261435465096\n",
      "val loss 9.644674671683342\n",
      "validation roc auc [0.45124378 0.5764526 ] 53\n",
      "train roc auc [0.89822272 0.93891589] 53\n"
     ]
    },
    {
     "name": "stderr",
     "output_type": "stream",
     "text": [
      "2021-01-26 10:28:00,110 Train Evaluator INFO: Engine run starting with max_epochs=1.\n",
      "2021-01-26 10:28:22,278 Train Evaluator INFO: Epoch[1] Complete. Time taken: 00:00:22\n",
      "2021-01-26 10:28:22,281 Train Evaluator INFO: Engine run complete. Time taken: 00:00:22\n",
      "2021-01-26 10:28:22,282 Val Evaluator INFO: Engine run starting with max_epochs=1.\n",
      "2021-01-26 10:28:29,848 Val Evaluator INFO: Epoch[1] Complete. Time taken: 00:00:08\n",
      "2021-01-26 10:28:29,850 Val Evaluator INFO: Engine run complete. Time taken: 00:00:08\n",
      "\u001b[34m\u001b[1mwandb\u001b[0m: \u001b[33mWARNING\u001b[0m Step must only increase in log calls.  Step 54 < 432; dropping {'lr/group_0': 0.001}.\n",
      "2021-01-26 10:28:29,858 Trainer INFO: Epoch[54] Complete. Time taken: 00:00:50\n"
     ]
    },
    {
     "name": "stdout",
     "output_type": "stream",
     "text": [
      "train loss 1.6637103069322041\n",
      "val loss 4.792500766219606\n",
      "validation roc auc [0.460199   0.54778287] 54\n",
      "train roc auc [0.94283334 0.95547409] 54\n"
     ]
    },
    {
     "name": "stderr",
     "output_type": "stream",
     "text": [
      "2021-01-26 10:28:49,538 Train Evaluator INFO: Engine run starting with max_epochs=1.\n",
      "2021-01-26 10:29:08,659 Train Evaluator INFO: Epoch[1] Complete. Time taken: 00:00:19\n",
      "2021-01-26 10:29:08,662 Train Evaluator INFO: Engine run complete. Time taken: 00:00:19\n",
      "2021-01-26 10:29:08,663 Val Evaluator INFO: Engine run starting with max_epochs=1.\n",
      "2021-01-26 10:29:15,775 Val Evaluator INFO: Epoch[1] Complete. Time taken: 00:00:07\n",
      "2021-01-26 10:29:15,778 Val Evaluator INFO: Engine run complete. Time taken: 00:00:07\n",
      "\u001b[34m\u001b[1mwandb\u001b[0m: \u001b[33mWARNING\u001b[0m Step must only increase in log calls.  Step 55 < 440; dropping {'lr/group_0': 0.001}.\n",
      "2021-01-26 10:29:15,787 Trainer INFO: Epoch[55] Complete. Time taken: 00:00:46\n"
     ]
    },
    {
     "name": "stdout",
     "output_type": "stream",
     "text": [
      "train loss 1.9955322519107062\n",
      "val loss 4.240103663912245\n",
      "validation roc auc [0.46053068 0.51605505] 55\n",
      "train roc auc [0.96145912 0.96836642] 55\n"
     ]
    }
   ],
   "source": [
    "print('ready ?')\n",
    "runutils.run(model, dataloaders, optimizer, criterion, metrics, device,config, runconfigs.PROJECT_NAME)\n"
   ]
  },
  {
   "cell_type": "code",
   "execution_count": null,
   "metadata": {},
   "outputs": [],
   "source": [
    "model.fc1.weight"
   ]
  },
  {
   "cell_type": "code",
   "execution_count": null,
   "metadata": {},
   "outputs": [],
   "source": [
    "\n",
    "example_input = (torch.ones((1,1,h_w[0]*h_w[1]))*-32767)\n",
    "example_input = example_input.float().to(device)\n",
    "out=model(example_input)\n",
    "out\n",
    "\n",
    "activated_output_transform((out,out))"
   ]
  },
  {
   "cell_type": "code",
   "execution_count": null,
   "metadata": {},
   "outputs": [],
   "source": [
    "torch.Tensor([10,10,10])"
   ]
  },
  {
   "cell_type": "code",
   "execution_count": null,
   "metadata": {},
   "outputs": [],
   "source": [
    "sum(model.fc1.weight)"
   ]
  },
  {
   "cell_type": "code",
   "execution_count": null,
   "metadata": {},
   "outputs": [],
   "source": [
    "m = nn.Sigmoid()\n",
    "\n",
    "loss = nn.BCEWithLogitsLoss()\n",
    "input = torch.tensor([100.0,100,100], requires_grad=True)\n",
    "# target = torch.empty(3).random_(2)\n",
    "target = torch.ones(3)\n",
    "output = loss((input), target)\n",
    "input,target,output"
   ]
  },
  {
   "cell_type": "code",
   "execution_count": null,
   "metadata": {},
   "outputs": [],
   "source": [
    "input"
   ]
  },
  {
   "cell_type": "code",
   "execution_count": null,
   "metadata": {},
   "outputs": [],
   "source": [
    "target"
   ]
  },
  {
   "cell_type": "code",
   "execution_count": null,
   "metadata": {},
   "outputs": [],
   "source": [
    "output"
   ]
  },
  {
   "cell_type": "code",
   "execution_count": null,
   "metadata": {},
   "outputs": [],
   "source": [
    "m(input)"
   ]
  },
  {
   "cell_type": "code",
   "execution_count": null,
   "metadata": {},
   "outputs": [],
   "source": []
  },
  {
   "cell_type": "code",
   "execution_count": null,
   "metadata": {},
   "outputs": [],
   "source": []
  },
  {
   "cell_type": "code",
   "execution_count": null,
   "metadata": {},
   "outputs": [],
   "source": [
    "\"\"\"Experiment running. Can only be imported from the experiment folder.\n",
    "\n",
    "\"\"\"\n",
    "\n",
    "from genericpath import exists\n",
    "import os\n",
    "\n",
    "# import run\n",
    "# import nna\n",
    "import torch\n",
    "import torch.nn as nn\n",
    "from torchvision import transforms\n",
    "\n",
    "import numpy as np\n",
    "\n",
    "from pathlib import Path\n",
    "from collections import Counter\n",
    "\n",
    "import wandb\n",
    "\n",
    "from ignite.metrics import Accuracy, Loss\n",
    "from ignite.contrib.metrics import ROC_AUC\n",
    "\n",
    "import runconfigs # type: ignore\n",
    "import modelarchs # type: ignore\n",
    "\n",
    "import nna.exp.megan as megan\n",
    "from nna.exp import runutils\n",
    "\n",
    "\n",
    "def prepare_dataset():\n",
    "\n",
    "    taxo_count_limit = runconfigs.TAXO_COUNT_LIMIT\n",
    "    sample_length_limit = runconfigs.SAMPLE_LENGTH_LIMIT\n",
    "    taxonomy_file_path = runconfigs.TAXONOMY_FILE_PATH\n",
    "\n",
    "    megan_labeled_files_info_path = runconfigs.MEGAN_LABELED_FILES_INFO_PATH\n",
    "\n",
    "    csv4megan_excell_clenaed = runconfigs.CSV4MEGAN_EXCELL_CLEANED\n",
    "\n",
    "    ignore_files = runconfigs.IGNORE_FILES\n",
    "\n",
    "    excerpt_length = runconfigs.EXCERPT_LENGTH\n",
    "    excell_names2code = runconfigs.EXCELL_NAMES2CODE\n",
    "    dataset_name_v = runconfigs.DATASET_NAME_V\n",
    "\n",
    "    audio_dataset, deleted_files = megan.preparedataset.run( # type: ignore\n",
    "        megan_labeled_files_info_path,\n",
    "        taxonomy_file_path,\n",
    "        csv4megan_excell_clenaed,\n",
    "        ignore_files,\n",
    "        excerpt_length,\n",
    "        sample_length_limit,\n",
    "        taxo_count_limit,\n",
    "        excell_names2code=excell_names2code,\n",
    "        dataset_name_v=dataset_name_v)\n",
    "\n",
    "    audio_dataset.load_audio_files(runconfigs.AUDIO_DATA_CACHE_PATH)\n",
    "    audio_dataset.pick_channel_by_clipping()\n",
    "\n",
    "    return audio_dataset, deleted_files\n",
    "\n",
    "\n",
    "def setup_config(config, wandb_project_name):\n",
    "\n",
    "    # wandb.init(config=runconfigs.default_config, project=runconfigs.PROJECT_NAME)\n",
    "    # config = wandb.config\n",
    "    config = runconfigs.default_config\n",
    "    # wandb.config.update(args) # adds all of the arguments as config variables\n",
    "    # config['batch_size'] = 64\n",
    "\n",
    "    os.chdir(runconfigs.EXP_DIR)\n",
    "\n",
    "    device = torch.device(\n",
    "        f\"cuda:{config['device']}\" if torch.cuda.is_available() else \"cpu\") # type: ignore\n",
    "    \n",
    "    config['device'] = device\n",
    "\n",
    "    random_seed: int = 42\n",
    "    # stable results\n",
    "    torch.manual_seed(random_seed)\n",
    "    np.random.seed(random_seed)\n",
    "    torch.backends.cudnn.benchmark = False # type: ignore\n",
    "\n",
    "    # wandb.init(config=config, project=wandb_project_name) # type: ignore\n",
    "    # config = wandb.config # type: ignore\n",
    "\n",
    "\n",
    "    return config\n",
    "\n",
    "\n",
    "def dataset_generate_samples(audio_dataset, excerpt_len):\n",
    "    '''divida into chunks by expected_len seconds.\n",
    "        \n",
    "        Repeats data if smaller than expected_len.\n",
    "\n",
    "    TODO move this function to audio_dataset's class\n",
    "    '''\n",
    "    for sound_ins in audio_dataset.values():\n",
    "        data_to_samples(sound_ins,excerpt_len)\n",
    "    return audio_dataset\n",
    "\n",
    "def data_to_samples(sound_ins,excerpt_len):\n",
    "    excerpt_sample_size = excerpt_len * sound_ins.sr\n",
    "\n",
    "    data_len_sec = sound_ins.length\n",
    "    if data_len_sec<10:\n",
    "        tile_reps = (excerpt_len / (sound_ins.length) + 1)\n",
    "        repeated_data = np.tile(sound_ins.data, int(tile_reps))\n",
    "        repeated_data = repeated_data[:excerpt_len * sound_ins.sr]\n",
    "        sound_ins.samples = [repeated_data]\n",
    "        \n",
    "    elif data_len_sec==10:\n",
    "        sound_ins.samples = [sound_ins.data]\n",
    "    else:\n",
    "        excerpt_count = data_len_sec//10\n",
    "        data_trim_point = excerpt_count*excerpt_len*sound_ins.sr\n",
    "        samples = sound_ins.data[:int(data_trim_point)].reshape(-1,int(excerpt_sample_size))\n",
    "        sample_list = []\n",
    "        for sample in samples:\n",
    "            sample_list.append(sample)\n",
    "        \n",
    "        sound_ins.samples = sample_list\n",
    "\n",
    "def put_samples_into_array(target_taxo, other_taxo, audio_dataset):\n",
    "    # sound_ins[1].taxo_code\n",
    "    # classA = 1.1.7 #'duck-goose-swan']\n",
    "    # classB = 0.2.0 # other-aircraft\n",
    "    # 3.0.0 : 0.48, 0.26, 0.26, 46 # silence\n",
    "    # 2.1.0 : 0.22, 0.56, 0.22, 18 # rain\n",
    "    # 1.3.0 1.3.0 : 0.52, 0.4, 0.087, 161 # insect\n",
    "    # 1.1.8 : 0.49, 0.19, 0.32, 88 # grouse-ptarmigan\n",
    "\n",
    "    x_data = []\n",
    "    y = []\n",
    "    location_id_info = []\n",
    "\n",
    "    for sound_ins in audio_dataset.values():\n",
    "        if sound_ins.taxo_code in target_taxo + other_taxo:\n",
    "            for sample in sound_ins.samples:\n",
    "                y.append(sound_ins.taxo_code)\n",
    "                location_id_info.append(sound_ins.location_id)\n",
    "                x_data.append(sample)\n",
    "\n",
    "    return x_data, y, location_id_info\n",
    "\n",
    "\n",
    "def create_one_hot_vector(alphabet, y_data):\n",
    "    # define input string\n",
    "    # define universe of possible input values\n",
    "    # alphabet = ['1.1.10','1.1.7']\n",
    "\n",
    "    # define a mapping of chars to integers\n",
    "    char_to_int = dict((c, i) for i, c in enumerate(alphabet))\n",
    "    int_to_char = dict((i, c) for i, c in enumerate(alphabet))\n",
    "    # integer encode input data\n",
    "    integer_encoded = [char_to_int.get(char, None) for char in y_data]\n",
    "    # print(integer_encoded)\n",
    "    # one hot encode\n",
    "    onehot_encoded = list()\n",
    "    for value in integer_encoded:\n",
    "        letter = [0 for _ in range(len(alphabet))]\n",
    "        if value is not None:\n",
    "            letter[value] = 1\n",
    "        onehot_encoded.append(letter)\n",
    "    # print(onehot_encoded)\n",
    "    # invert encoding\n",
    "    inverted = int_to_char[np.argmax(onehot_encoded[0])]\n",
    "    # print(inverted)\n",
    "    onehot_encoded = np.array(onehot_encoded)\n",
    "\n",
    "    return onehot_encoded\n",
    "\n",
    "\n",
    "def split_train_test_val(x_data, location_id_info, onehot_encoded, loc_per_set):\n",
    "    X_train, X_test, X_val, y_train, y_test, y_val = [], [], [], [], [], []\n",
    "    loc_id_train = []\n",
    "    loc_id_test = []\n",
    "    loc_id_valid = []\n",
    "\n",
    "    for sample, y_val_ins, loc_id in zip(x_data, onehot_encoded,\n",
    "                                         location_id_info):\n",
    "        if loc_id in loc_per_set[0]:\n",
    "            X_train.append(sample)\n",
    "            y_train.append(y_val_ins)\n",
    "            loc_id_train.append(loc_id)\n",
    "        elif loc_id in loc_per_set[1]:\n",
    "            X_test.append(sample)\n",
    "            y_test.append(y_val_ins)\n",
    "            loc_id_test.append(loc_id)\n",
    "        elif loc_id in loc_per_set[2]:\n",
    "            X_val.append(sample)\n",
    "            y_val.append(y_val_ins)\n",
    "            loc_id_valid.append(loc_id)\n",
    "        else:\n",
    "            print('error')\n",
    "\n",
    "    X_train, X_test, X_val = np.array(X_train), np.array(X_test), np.array(\n",
    "        X_val)\n",
    "    y_train, y_test, y_val = np.array(y_train), np.array(y_test), np.array(\n",
    "        y_val)\n",
    "\n",
    "    X_train, X_test, X_val = torch.from_numpy(X_train).float(\n",
    "    ), torch.from_numpy(X_test).float(), torch.from_numpy(X_val).float()\n",
    "    y_train, y_test, y_val = torch.from_numpy(y_train).float(\n",
    "    ), torch.from_numpy(y_test).float(), torch.from_numpy(y_val).float()\n",
    "\n",
    "    return X_train, X_test, X_val, y_train, y_test, y_val\n",
    "\n",
    "\n",
    "def prepare_run_inputs(config, X_train, X_test, X_val, y_train, y_test, y_val):\n",
    "\n",
    "    \n",
    "    # toTensor = augmentations.ToTensor(maxMelLen,runconfigs.SAMPLING_RATE)\n",
    "    to_tensor = modelarchs.ToTensor(runconfigs.MAX_MEL_LEN,runconfigs.SAMPLING_RATE)\n",
    "\n",
    "    transformCompose = transforms.Compose([\n",
    "        to_tensor,\n",
    "    ])\n",
    "\n",
    "    sound_datasets = {\n",
    "        phase: runutils.audioDataset(XY[0], XY[1], transform=transformCompose)\n",
    "        for phase, XY in\n",
    "        zip(['train', 'val', 'test'],\n",
    "            [[X_train, y_train], [X_val, y_val], [X_test, y_test]])\n",
    "    }\n",
    "\n",
    "    data_loader_params = {\n",
    "        'batch_size': config['batch_size'],\n",
    "        'shuffle': True,\n",
    "        'num_workers': 0\n",
    "    }\n",
    "\n",
    "    dataloaders = {\n",
    "        x: torch.utils.data.DataLoader(sound_datasets[x], **data_loader_params) \n",
    "        for x in ['train', 'val', 'test']\n",
    "    }\n",
    "\n",
    "    # this will change\n",
    "    h_w = [128, 938]\n",
    "    kernel_size = (3, 3)\n",
    "    output_shape = (runconfigs.CATEGORY_COUNT,)\n",
    "    model = modelarchs.singleconv1dModel(out_channels=config['CNN_filters_1'],\n",
    "                                         h_w=(1, h_w[0] * h_w[1]),\n",
    "                                         fc_1_size=config['fc_1_size'],\n",
    "                                         kernel_size=config['CNN_kernel_size'],\n",
    "                                         output_shape=output_shape)\n",
    "    model.float().to(config['device'])\n",
    "\n",
    "    # device is defined before\n",
    "\n",
    "    model.float().to(config['device'])  # Move model before creating optimizer\n",
    "    optimizer = torch.optim.AdamW( # type: ignore\n",
    "        model.parameters(),\n",
    "        #                                 weight_decay=config['weight_decay'],\n",
    "    )\n",
    "\n",
    "    criterion = nn.BCEWithLogitsLoss()\n",
    "    # statHistory={'valLoss':[],'trainLoss':[],'trainAUC':[],'valAUC':[]}\n",
    "\n",
    "    metrics = {\n",
    "        'loss':\n",
    "            Loss(criterion),  # 'accuracy': Accuracy(),\n",
    "        #     'ROC_AUC': ROC_AUC(runutils.activated_output_transform),\n",
    "        'ROC_AUC':\n",
    "            megan.metrics.ROC_AUC_perClass(# type: ignore\n",
    "                megan.metrics.activated_output_transform), # type: ignore\n",
    "    }\n",
    "\n",
    "    return model, optimizer, dataloaders, metrics, criterion\n",
    "\n",
    "\n",
    "def run_exp(config):\n",
    "    loc_per_set = [[\n",
    "        '45', '38', '48', '39', '11', '44', '46', '17', '20', '50', '13', '25',\n",
    "        '21', '29', '19', '16', '24', '37'\n",
    "    ], ['18', '31', '34', '27', '32', '33', '47', '41', '22', '15'],\n",
    "                   ['30', '12', '14', '36', '40', '49']]\n",
    "    target_taxo = ['1.1.10', '1.1.7']\n",
    "    other_taxo = ['3.0.0', '2.1.0', '1.3.0', '1.1.8']\n",
    "\n",
    "    audio_dataset, _ = prepare_dataset()\n",
    "    audio_dataset = dataset_generate_samples(audio_dataset,\n",
    "                                             runconfigs.EXCERPT_LENGTH)\n",
    "\n",
    "    x_data, y_data, location_id_info = put_samples_into_array(\n",
    "        target_taxo, other_taxo, audio_dataset)\n",
    "\n",
    "    onehot_encoded = create_one_hot_vector(target_taxo, y_data)\n",
    "\n",
    "    X_train, X_test, X_val, y_train, y_test, y_val = split_train_test_val(\n",
    "        x_data, location_id_info, onehot_encoded, loc_per_set)\n",
    "\n",
    "    model, optimizer, dataloaders, metrics, criterion = prepare_run_inputs(\n",
    "        config, X_train, X_test, X_val, y_train, y_test, y_val)\n",
    "\n",
    "    print('ready ?')\n",
    "    checkpoints_dir = runconfigs.EXP_DIR / 'checkpoints'\n",
    "    checkpoints_dir.mkdir(exist_ok=True)\n",
    "    \n",
    "    runutils.run(model, dataloaders, optimizer, criterion, metrics,\n",
    "                 config['device'], config, runconfigs.PROJECT_NAME, checkpoints_dir = checkpoints_dir)\n",
    "\n",
    "\n",
    "# def main():\n",
    "    wandb_project_name = runconfigs.PROJECT_NAME\n",
    "    default_config = runconfigs.default_config\n",
    "    config = setup_config(default_config, wandb_project_name)\n",
    "    run_exp(config)\n",
    "#     # return audio_dataset, config \n",
    "\n",
    "# if __name__ == '__main__':\n",
    "#     # do not upload model files\n",
    "#     os.environ['WANDB_IGNORE_GLOBS']='*.pt'\n",
    "#     main()\n"
   ]
  },
  {
   "cell_type": "code",
   "execution_count": null,
   "metadata": {},
   "outputs": [],
   "source": [
    "wandb_project_name = runconfigs.PROJECT_NAME\n",
    "default_config = runconfigs.default_config\n",
    "config = setup_config(default_config, wandb_project_name)"
   ]
  }
 ],
 "metadata": {
  "kernelspec": {
   "display_name": "soundenv3",
   "language": "python",
   "name": "soundenv3"
  },
  "language_info": {
   "codemirror_mode": {
    "name": "ipython",
    "version": 3
   },
   "file_extension": ".py",
   "mimetype": "text/x-python",
   "name": "python",
   "nbconvert_exporter": "python",
   "pygments_lexer": "ipython3",
   "version": "3.7.9"
  }
 },
 "nbformat": 4,
 "nbformat_minor": 4
}
