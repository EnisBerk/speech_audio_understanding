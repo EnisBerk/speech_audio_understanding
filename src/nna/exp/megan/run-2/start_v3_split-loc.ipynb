{
 "cells": [
  {
   "cell_type": "code",
   "execution_count": 1,
   "metadata": {},
   "outputs": [],
   "source": [
    "import os\n",
    "\n",
    "os.chdir('/home/enis/projects/nna/src/nna/exp/megan/run-2/')\n"
   ]
  },
  {
   "cell_type": "code",
   "execution_count": 2,
   "metadata": {},
   "outputs": [
    {
     "name": "stderr",
     "output_type": "stream",
     "text": [
      "/scratch/enis/conda/envs/soundenv3/lib/python3.7/site-packages/torchaudio/backend/utils.py:54: UserWarning: \"sox\" backend is being deprecated. The default backend will be changed to \"sox_io\" backend in 0.8.0 and \"sox\" backend will be removed in 0.9.0. Please migrate to \"sox_io\" backend. Please refer to https://github.com/pytorch/audio/issues/903 for the detail.\n",
      "  '\"sox\" backend is being deprecated. '\n"
     ]
    }
   ],
   "source": [
    "# import run\n",
    "# import nna\n",
    "import torch\n",
    "import torch.nn as nn\n",
    "import torch.nn.functional as F\n",
    "from torchvision import transforms\n",
    "import torchaudio\n",
    "torchaudio.set_audio_backend(\"sox_io\")\n",
    "\n",
    "import numpy as np\n",
    "\n",
    "from pathlib import Path\n",
    "from collections import Counter\n"
   ]
  },
  {
   "cell_type": "code",
   "execution_count": 3,
   "metadata": {},
   "outputs": [],
   "source": [
    "torch.manual_seed(42)\n",
    "\n",
    "np.random.seed(42)\n",
    "\n",
    "torch.backends.cudnn.benchmark = False"
   ]
  },
  {
   "cell_type": "code",
   "execution_count": 4,
   "metadata": {},
   "outputs": [],
   "source": [
    "\n",
    "\n",
    "loc_per_set = [['45',\n",
    "  '38',\n",
    "  '48',\n",
    "  '39',\n",
    "  '11',\n",
    "  '44',\n",
    "  '46',\n",
    "  '17',\n",
    "  '20',\n",
    "  '50',\n",
    "  '13',\n",
    "  '25',\n",
    "  '21',\n",
    "  '29',\n",
    "  '19',\n",
    "  '16',\n",
    "  '24',\n",
    "  '37'],\n",
    " ['18', '31', '34', '27', '32', '33', '47', '41', '22', '15'],\n",
    " ['30', '12', '14', '36', '40', '49']]\n"
   ]
  },
  {
   "cell_type": "code",
   "execution_count": 6,
   "metadata": {},
   "outputs": [],
   "source": [
    "import runconfigs\n",
    "import wandb\n",
    "from ignite.metrics import Accuracy, Loss\n",
    "from ignite.contrib.metrics import ROC_AUC"
   ]
  },
  {
   "cell_type": "code",
   "execution_count": 7,
   "metadata": {},
   "outputs": [],
   "source": [
    "# from nna.exp import augmentations,\n",
    "from nna.exp import modelArchs,runutils"
   ]
  },
  {
   "cell_type": "code",
   "execution_count": 8,
   "metadata": {},
   "outputs": [],
   "source": [
    "# wandb.init(config=runconfigs.default_config, project=runconfigs.PROJECT_NAME)\n",
    "# config = wandb.config\n",
    "config = runconfigs.default_config\n",
    "# wandb.config.update(args) # adds all of the arguments as config variables\n",
    "\n",
    "params = {\n",
    "    'batch_size': config['batch_size'],\n",
    "    'shuffle': True,\n",
    "    'num_workers': 0\n",
    "}\n"
   ]
  },
  {
   "cell_type": "code",
   "execution_count": 9,
   "metadata": {},
   "outputs": [],
   "source": [
    "device = torch.device(\n",
    "    f\"cuda:{config['device']}\" if torch.cuda.is_available() else \"cpu\")\n"
   ]
  },
  {
   "cell_type": "code",
   "execution_count": 11,
   "metadata": {},
   "outputs": [],
   "source": [
    "\n",
    "# labelsbyhumanpath = Path('/scratch/enis/data/nna/labeling/results/')\n",
    "# sourcePath = Path(\"/scratch/enis/data/nna/labeling/splits/\")\n"
   ]
  },
  {
   "cell_type": "code",
   "execution_count": 12,
   "metadata": {},
   "outputs": [],
   "source": [
    "CATEGORY_COUNT = 2\n"
   ]
  },
  {
   "cell_type": "code",
   "execution_count": null,
   "metadata": {},
   "outputs": [],
   "source": []
  },
  {
   "cell_type": "code",
   "execution_count": 11,
   "metadata": {},
   "outputs": [],
   "source": []
  },
  {
   "cell_type": "code",
   "execution_count": 13,
   "metadata": {},
   "outputs": [
    {
     "name": "stdout",
     "output_type": "stream",
     "text": [
      "job_logs  __pycache__  runconfigs.py  start_random_v2-Copy2.ipynb\n"
     ]
    }
   ],
   "source": [
    "!ls"
   ]
  },
  {
   "cell_type": "code",
   "execution_count": 12,
   "metadata": {},
   "outputs": [],
   "source": [
    " # RAW DATA\n",
    "def load_raw_data(sample_count,CATEGORY_COUNT):\n",
    "    sample_count = 1200\n",
    "    X = np.empty((sample_count,480000),dtype=np.float32)\n",
    "    y_true = np.random.randint(0,CATEGORY_COUNT,(sample_count))\n",
    "    for i,y in enumerate(y_true):\n",
    "        X[i,:] = y\n",
    "    X = np.interp(X, (X.min(), X.max()), (-32768 , 32767))\n",
    "    n_values = np.max(y_true) + 1\n",
    "    y_true = np.eye(n_values)[y_true]\n",
    "    X_train, X_test, y_train, y_test = train_test_split(\n",
    "                    X, y_true, test_size=0.2, random_state=42)\n",
    "    X_train, X_val, y_train, y_val = train_test_split(\n",
    "                    X_train, y_train, test_size=0.25,random_state=42)\n",
    "    return X_train,X_test,X_val,y_train,y_test,y_val\n",
    "\n",
    "def mock_raw_data(sample_count,CATEGORY_COUNT):\n",
    "#     sample_count = 30\n",
    "    X = np.empty((sample_count*CATEGORY_COUNT,480000),dtype=np.float32)\n",
    "    # y_true = np.random.randint(0,CATEGORY_COUNT,(sample_count))\n",
    "    y_true=[]\n",
    "    for i in range(CATEGORY_COUNT):\n",
    "        y_true.extend([i]*sample_count)\n",
    "    print(len(y_true))\n",
    "    for i,y in enumerate(y_true):\n",
    "        X[i,:] = y\n",
    "    X = np.interp(X, (X.min(), X.max()), (0 , 3400))\n",
    "#     X = np.interp(X, (X.min(), X.max()), (-32768 , 32767))\n",
    "    n_values = np.max(y_true) + 1\n",
    "    y_true = np.eye(n_values)[y_true]\n",
    "    X_train, X_test, y_train, y_test = train_test_split(\n",
    "                    X, y_true, test_size=0.2, random_state=42)\n",
    "    X_train, X_val, y_train, y_val = train_test_split(\n",
    "                    X_train, y_train, test_size=0.25,random_state=42)\n",
    "#     print(y_train)\n",
    "    return X_train,X_test,X_val,y_train,y_test,y_val\n",
    "    \n"
   ]
  },
  {
   "cell_type": "code",
   "execution_count": 15,
   "metadata": {},
   "outputs": [
    {
     "name": "stdout",
     "output_type": "stream",
     "text": [
      "/scratch/enis/data/nna/labeling/megan/AudioSamplesPerSite/meganLabeledFiles_wlenV1.txt\n",
      "/scratch/enis/data/nna/labeling/megan/AudioSamplesPerSite\n",
      "4 files are missing corresponding to excell entries\n",
      "'-> 5 number of samples are DELETED due to ignore_files and missing_audio_files'\n",
      "-> 415 samples DELETED because they are not in the excell\n",
      "\n",
      "-> 0 samples DELETED because they do not have the taxo info coming from excell\n",
      "\n",
      "-> classes that do not have enough data:\n",
      "[REMOVED!]\n",
      "['other-mammal'] 0.0\n",
      "['other-silence'] 20.0\n",
      "['unknown-sound'] 2.0\n",
      "['seabirds'] 1.0\n",
      "['canids'] 1.0\n",
      "['other-flare'] 11.0\n",
      "['other-rain'] 20.0\n",
      "\n",
      "-> classes that have enough data:\n",
      "['other-biophony'] 56.0\n",
      "['other-insect'] 140.0\n",
      "['other-bird'] 661.0\n",
      "['songbirds'] 392.0\n",
      "['duck-goose-swan'] 183.0\n",
      "['grouse-ptarmigan'] 59.0\n",
      "['other-anthrophony'] 66.0\n",
      "['other-aircraft'] 107.0\n",
      "['loons'] 29.0\n",
      "['other-car'] 37.0\n",
      "('-> 102 number of samples are deleted because their taxonomy category does '\n",
      " 'not have enough data.')\n",
      "-> classes that do not have enough data\n",
      "will be REMOVED!\n",
      "-> 97 number of samples are deleted because their length is not long enough.\n",
      "loading from cache at /scratch/enis/data/nna/labeling/megan/AudioSamplesPerSite/files_as_np_filtered_v3_int16.pkl\n"
     ]
    }
   ],
   "source": [
    "## Load real data rather than mock \n",
    "    # MVP1: delete parts longer than 10 seconds\n",
    "import run\n",
    "audio_dataset,_ = run.prepare_dataset()\n",
    "\n",
    "output_file_path = '/scratch/enis/data/nna/labeling/megan/AudioSamplesPerSite/files_as_np_filtered_v3_int16.pkl'\n",
    "audio_dataset.load_audio_files(output_file_path)\n",
    "audio_dataset.pick_channel_by_clipping()\n"
   ]
  },
  {
   "cell_type": "code",
   "execution_count": null,
   "metadata": {},
   "outputs": [],
   "source": []
  },
  {
   "cell_type": "code",
   "execution_count": 16,
   "metadata": {},
   "outputs": [],
   "source": [
    "sound_ins=next(iter(audio_dataset.items()))"
   ]
  },
  {
   "cell_type": "code",
   "execution_count": 17,
   "metadata": {},
   "outputs": [
    {
     "data": {
      "text/plain": [
       "'11'"
      ]
     },
     "execution_count": 17,
     "metadata": {},
     "output_type": "execute_result"
    }
   ],
   "source": [
    "sound_ins[1].location_id"
   ]
  },
  {
   "cell_type": "code",
   "execution_count": 18,
   "metadata": {},
   "outputs": [
    {
     "data": {
      "text/plain": [
       "(589, 589)"
      ]
     },
     "execution_count": 18,
     "metadata": {},
     "output_type": "execute_result"
    }
   ],
   "source": [
    "# sound_ins[1].taxo_code\n",
    "# classA = 1.1.7 #'duck-goose-swan']\n",
    "# classB = 0.2.0 # other-aircraft\n",
    "sampleTest= []\n",
    "y=[]\n",
    "location_id_info = []\n",
    "expected_len=10\n",
    "for sound_ins in audio_dataset.values():\n",
    "    if sound_ins.taxo_code in ['1.1.10','1.1.7']:\n",
    "        y.append(sound_ins.taxo_code)\n",
    "        location_id_info.append(sound_ins.location_id)\n",
    "        if sound_ins.length<10:\n",
    "            tile_reps = (expected_len/(sound_ins.length)+1)\n",
    "            repeated_data = np.tile(sound_ins.data,int(tile_reps))\n",
    "            repeated_data = repeated_data[:expected_len*sound_ins.sr]\n",
    "            sampleTest.append(repeated_data)\n",
    "        else:\n",
    "            sampleTest.append(sound_ins.data[:expected_len*sound_ins.sr])\n",
    "\n",
    "len(sampleTest),len(y)\n",
    "\n",
    "# sampleTest=np.array(sampleTest)"
   ]
  },
  {
   "cell_type": "code",
   "execution_count": null,
   "metadata": {},
   "outputs": [],
   "source": []
  },
  {
   "cell_type": "code",
   "execution_count": 19,
   "metadata": {},
   "outputs": [],
   "source": [
    "from numpy import argmax\n",
    "# define input string\n",
    "# define universe of possible input values\n",
    "alphabet = ['1.1.10','1.1.7']\n",
    "# define a mapping of chars to integers\n",
    "char_to_int = dict((c, i) for i, c in enumerate(alphabet))\n",
    "int_to_char = dict((i, c) for i, c in enumerate(alphabet))\n",
    "# integer encode input data\n",
    "integer_encoded = [char_to_int[char] for char in y]\n",
    "# print(integer_encoded)\n",
    "# one hot encode\n",
    "onehot_encoded = list()\n",
    "for value in integer_encoded:\n",
    "\tletter = [0 for _ in range(len(alphabet))]\n",
    "\tletter[value] = 1\n",
    "\tonehot_encoded.append(letter)\n",
    "# print(onehot_encoded)\n",
    "# invert encoding\n",
    "inverted = int_to_char[argmax(onehot_encoded[0])]\n",
    "# print(inverted)\n",
    "onehot_encoded=np.array(onehot_encoded)"
   ]
  },
  {
   "cell_type": "code",
   "execution_count": 20,
   "metadata": {},
   "outputs": [
    {
     "data": {
      "text/plain": [
       "'1.1.10'"
      ]
     },
     "execution_count": 20,
     "metadata": {},
     "output_type": "execute_result"
    }
   ],
   "source": []
  },
  {
   "cell_type": "code",
   "execution_count": 21,
   "metadata": {},
   "outputs": [],
   "source": [
    "X_train,X_test, X_val, y_train, y_test,y_val  = [],[],[],[],[],[]\n",
    "loc_id_train=[]\n",
    "loc_id_test=[]\n",
    "loc_id_valid=[]\n",
    "\n",
    "for sample,y_val_ins,loc_id in  zip(sampleTest,onehot_encoded,location_id_info):\n",
    "    if loc_id in loc_per_set[0]:\n",
    "        X_train.append(sample)\n",
    "        y_train.append(y_val_ins)\n",
    "        loc_id_train.append(loc_id)\n",
    "    elif loc_id in loc_per_set[1]:\n",
    "        X_test.append(sample)\n",
    "        y_test.append(y_val_ins)\n",
    "        loc_id_test.append(loc_id)\n",
    "    elif loc_id in loc_per_set[2]:\n",
    "        X_val.append(sample)\n",
    "        y_val.append(y_val_ins)\n",
    "        loc_id_valid.append(loc_id)\n",
    "    else:\n",
    "        print('error')\n"
   ]
  },
  {
   "cell_type": "code",
   "execution_count": 22,
   "metadata": {},
   "outputs": [
    {
     "data": {
      "text/plain": [
       "({'11',\n",
       "  '16',\n",
       "  '17',\n",
       "  '19',\n",
       "  '20',\n",
       "  '21',\n",
       "  '24',\n",
       "  '25',\n",
       "  '29',\n",
       "  '37',\n",
       "  '38',\n",
       "  '39',\n",
       "  '46',\n",
       "  '48',\n",
       "  '50'},\n",
       " {'15', '18', '22', '27', '31', '33', '47'},\n",
       " {'14', '30', '40', '49'})"
      ]
     },
     "execution_count": 22,
     "metadata": {},
     "output_type": "execute_result"
    }
   ],
   "source": [
    "set(loc_id_train),set(loc_id_test),set(loc_id_valid)"
   ]
  },
  {
   "cell_type": "code",
   "execution_count": 23,
   "metadata": {},
   "outputs": [
    {
     "data": {
      "text/plain": [
       "589"
      ]
     },
     "execution_count": 23,
     "metadata": {},
     "output_type": "execute_result"
    }
   ],
   "source": [
    "len(sampleTest)"
   ]
  },
  {
   "cell_type": "code",
   "execution_count": 24,
   "metadata": {},
   "outputs": [],
   "source": [
    "X_train,X_test,X_val=np.array(X_train),np.array(X_test),np.array(X_val)\n",
    "y_train,y_test,y_val=np.array(y_train),np.array(y_test),np.array(y_val)\n"
   ]
  },
  {
   "cell_type": "code",
   "execution_count": 25,
   "metadata": {},
   "outputs": [],
   "source": [
    "# X_train, X_test, y_train, y_test = train_test_split(\n",
    "#                 sampleTest, onehot_encoded, test_size=0.2, random_state=42)\n",
    "# X_train, X_val, y_train, y_val = train_test_split(\n",
    "#                 X_train, y_train, test_size=0.25,random_state=42)"
   ]
  },
  {
   "cell_type": "code",
   "execution_count": 26,
   "metadata": {},
   "outputs": [],
   "source": [
    "X_train,X_test,X_val=torch.from_numpy(X_train).float(),torch.from_numpy(X_test).float(),torch.from_numpy(X_val).float()\n",
    "y_train,y_test,y_val=torch.from_numpy(y_train).float(),torch.from_numpy(y_test).float(),torch.from_numpy(y_val).float()\n"
   ]
  },
  {
   "cell_type": "code",
   "execution_count": 27,
   "metadata": {},
   "outputs": [
    {
     "data": {
      "text/plain": [
       "(torch.Size([338, 480000]),\n",
       " torch.Size([136, 480000]),\n",
       " torch.Size([115, 480000]))"
      ]
     },
     "execution_count": 27,
     "metadata": {},
     "output_type": "execute_result"
    }
   ],
   "source": [
    "X_train.shape,X_test.shape,X_val.shape"
   ]
  },
  {
   "cell_type": "code",
   "execution_count": 28,
   "metadata": {},
   "outputs": [
    {
     "data": {
      "text/plain": [
       "(torch.Size([338, 2]), torch.Size([136, 2]), torch.Size([115, 2]))"
      ]
     },
     "execution_count": 28,
     "metadata": {},
     "output_type": "execute_result"
    }
   ],
   "source": [
    "y_train.shape,y_test.shape,y_val.shape"
   ]
  },
  {
   "cell_type": "code",
   "execution_count": 29,
   "metadata": {},
   "outputs": [],
   "source": [
    "# y_val[0:3]"
   ]
  },
  {
   "cell_type": "code",
   "execution_count": 30,
   "metadata": {},
   "outputs": [],
   "source": [
    "# # X_train,X_test,X_val,y_train,y_test,y_val = load_raw_data('labelsbyhumanpath','sourcePath')\n",
    "# X_train,X_test,X_val,y_train,y_test,y_val = mock_raw_data(4,CATEGORY_COUNT)\n",
    "# X_train,X_test,X_val=torch.from_numpy(X_train).float(),torch.from_numpy(X_test).float(),torch.from_numpy(X_val).float()\n",
    "# y_train,y_test,y_val=torch.from_numpy(y_train).float(),torch.from_numpy(y_test).float(),torch.from_numpy(y_val).float()\n",
    "\n",
    "# # labelsbyhumanpath = Path('/scratch/enis/data/nna/labeling/results/')\n",
    "# # with open(labelsbyhumanpath/\"np_array_Ymatrix.npy\", 'rb') as f:\n",
    "# #     y_true = np.load(f)\n",
    "\n",
    "# Counter(np.argmax(y_train,axis=1).tolist()),Counter(np.argmax(y_val,axis=1).tolist()),Counter(np.argmax(y_test,axis=1).tolist())\n"
   ]
  },
  {
   "cell_type": "code",
   "execution_count": 31,
   "metadata": {},
   "outputs": [],
   "source": [
    "\n",
    "# X_train2=np.interp(X_train, (X_train.min(), X_train.max()), (-32768 , 32767))\n",
    "# torch.from_numpy(X_train2).float()\n"
   ]
  },
  {
   "cell_type": "code",
   "execution_count": 32,
   "metadata": {},
   "outputs": [],
   "source": [
    "# y_val"
   ]
  },
  {
   "cell_type": "code",
   "execution_count": 33,
   "metadata": {},
   "outputs": [],
   "source": [
    "# smaple_index=10\n",
    "# X_train[smaple_index,:],y_train[smaple_index,]\n"
   ]
  },
  {
   "cell_type": "code",
   "execution_count": null,
   "metadata": {},
   "outputs": [],
   "source": []
  },
  {
   "cell_type": "code",
   "execution_count": 34,
   "metadata": {},
   "outputs": [],
   "source": [
    "# X_train[0,:].shape"
   ]
  },
  {
   "cell_type": "code",
   "execution_count": 35,
   "metadata": {},
   "outputs": [],
   "source": [
    "# multiply(torch.ones((1,2)),torch.ones((1,2)))"
   ]
  },
  {
   "cell_type": "code",
   "execution_count": 36,
   "metadata": {},
   "outputs": [],
   "source": [
    "class ToTensor(object):\n",
    "    \"\"\"Convert ndarrays in sample to Tensors.\"\"\"\n",
    "\n",
    "    def __init__(self, maxMelLen, sampling_rate):\n",
    "        # sr = 44100 etc\n",
    "        self.maxMelLen = maxMelLen\n",
    "        self.sampling_rate = sampling_rate\n",
    "\n",
    "    def __call__(self, sample):\n",
    "        x, y = sample\n",
    "        #https://github.com/PCerles/audio/blob/3803d0b27a4e13efa760227ef6c71d0f3753aa98/test/test_transforms.py#L262\n",
    "        #librosa defaults\n",
    "        n_fft = 2048\n",
    "        hop_length = 512\n",
    "        power = 2.0\n",
    "        n_mels = 128\n",
    "        n_mfcc = 40\n",
    "        # htk is false in librosa, no setting in torchaudio -?\n",
    "        # norm is 1 in librosa, no setting in torchaudio -?\n",
    "        melspect_transform = torchaudio.transforms.MelSpectrogram(sample_rate=self.sampling_rate, window_fn=torch.hann_window,\n",
    "                                                                  hop_length=hop_length, n_mels=n_mels, n_fft=n_fft)\n",
    "\n",
    "    \n",
    "        db_transform = torchaudio.transforms.AmplitudeToDB(\"power\", 80.)\n",
    "        mel = melspect_transform(x.reshape(-1))\n",
    "        an_x = db_transform(mel)\n",
    "        #librosa version\n",
    "#         mel = librosa.feature.melspectrogram(y=x.reshape(-1),\n",
    "#                                              sr=self.sampling_rate)\n",
    "#         an_x = librosa.power_to_db(mel, ref=np.max)\n",
    "#         an_x = an_x.astype(\"float32\")\n",
    "#         y = y.astype('float32')\n",
    "#         print(an_x.shape)\n",
    "        an_x = an_x[:, :self.maxMelLen]\n",
    "        # 2-d conv\n",
    "#         x = an_x.reshape(1, *an_x.shape[:])\n",
    "        # 1-d conv\n",
    "        x = an_x.reshape(1, an_x.shape[0]*an_x.shape[1])\n",
    "\n",
    "        \n",
    "        return x,y\n",
    "\n",
    "# #test\n",
    "# maxMelLen_test = 850\n",
    "# SAMPLING_RATE_test = 48000\n",
    "# sample_len_seconds = 10\n",
    "# # to_tensor works on single sample\n",
    "# sample_count = 1\n",
    "# xx_test = torch.ones((sample_count,SAMPLING_RATE_test*sample_len_seconds))\n",
    "# y_values = torch.ones(sample_count)\n",
    "# \n",
    "# toTensor = ToTensor(maxMelLen_test,SAMPLING_RATE_test)\n",
    "# x_out,y_out=toTensor((xx_test,y_values))\n",
    "# x_out.shape,y_out.shape"
   ]
  },
  {
   "cell_type": "code",
   "execution_count": 37,
   "metadata": {},
   "outputs": [
    {
     "data": {
      "text/plain": [
       "torch.Size([338, 480000])"
      ]
     },
     "execution_count": 37,
     "metadata": {},
     "output_type": "execute_result"
    }
   ],
   "source": [
    "# X_train,X_test,X_val,y_train,y_test,y_val\n",
    "X_train[:].shape"
   ]
  },
  {
   "cell_type": "code",
   "execution_count": 38,
   "metadata": {},
   "outputs": [],
   "source": [
    "# toTensor = ToTensor(maxMelLen_test,SAMPLING_RATE_test)\n",
    "# x_out2,y_out=toTensor((X_train[1:2,:],y_train))\n",
    "# x_out.shape,y_out.shape"
   ]
  },
  {
   "cell_type": "code",
   "execution_count": 39,
   "metadata": {},
   "outputs": [],
   "source": [
    "# torch.mean(x_out[0]),torch.mean(x_out2[0])\n",
    "# y_train"
   ]
  },
  {
   "cell_type": "code",
   "execution_count": 40,
   "metadata": {},
   "outputs": [],
   "source": [
    "# X_train,y_train"
   ]
  },
  {
   "cell_type": "code",
   "execution_count": 41,
   "metadata": {},
   "outputs": [],
   "source": [
    "\n",
    "# pitch = augmentations.pitch_shift_n_stepsClass(\n",
    "#     runconfigs.SAMPLING_RATE, config['pitch_shift_n_steps'])\n",
    "# noise = augmentations.addNoiseClass(config['noise_factor'])\n",
    "# strech = augmentations.time_stretchClass(runconfigs.SAMPLING_RATE*runconfigs.EXCERPT_LENGTH,\n",
    "#                                             config['time_stretch_factor'],\n",
    "#                                             isRandom=True)\n",
    "# shift = augmentations.shiftClass(config['roll_rate'], isRandom=True)\n",
    "maxMelLen = 938 # old 850\n",
    "# toTensor = augmentations.ToTensor(maxMelLen,runconfigs.SAMPLING_RATE)\n",
    "toTensor = ToTensor(maxMelLen,runconfigs.SAMPLING_RATE)"
   ]
  },
  {
   "cell_type": "code",
   "execution_count": null,
   "metadata": {},
   "outputs": [],
   "source": []
  },
  {
   "cell_type": "code",
   "execution_count": null,
   "metadata": {},
   "outputs": [],
   "source": []
  },
  {
   "cell_type": "code",
   "execution_count": 42,
   "metadata": {},
   "outputs": [],
   "source": [
    "from ignite.metrics import EpochMetric\n",
    "\n",
    "\n",
    "def roc_auc_perClass_compute_fn(y_preds, y_targets):\n",
    "    try:\n",
    "        from sklearn.metrics import roc_auc_score\n",
    "    except ImportError:\n",
    "        raise RuntimeError(\n",
    "            \"This contrib module requires sklearn to be installed.\")\n",
    "\n",
    "    y_true = y_targets.numpy()\n",
    "    y_pred = y_preds.numpy()\n",
    "#     print(y_pred,y_true)\n",
    "#     res = []\n",
    "#     for y_true_perClass_Index in y_true.shape[1]:\n",
    "#         res.append(\n",
    "#             roc_auc_score(y_true[:, y_true_perClass_Index],\n",
    "#                           y_pred[:, y_true_perClass_Index]))\n",
    "    res = roc_auc_score(y_true, y_pred, average=None)\n",
    "    return res\n",
    "\n",
    "\n",
    "#[docs]\n",
    "class ROC_AUC_perClass(EpochMetric):\n",
    "    \"\"\"Computes Area Under the Receiver Operating Characteristic Curve (ROC AUC)\n",
    "  accumulating predictions and the ground-truth during an epoch and applying\n",
    "  `sklearn.metrics.roc_auc_score <http://scikit-learn.org/stable/modules/generated/\n",
    "  sklearn.metrics.roc_auc_score.html#sklearn.metrics.roc_auc_score>`_ .\n",
    "\n",
    "  Args:\n",
    "      output_transform (callable, optional): a callable that is used to transform the\n",
    "          :class:`~ignite.engine.engine.Engine`'s ``process_function``'s output into the\n",
    "          form expected by the metric. This can be useful if, for example, you have a multi-output model and\n",
    "          you want to compute the metric with respect to one of the outputs.\n",
    "      check_compute_fn (bool): Optional default False. If True, `roc_curve\n",
    "          <http://scikit-learn.org/stable/modules/generated/sklearn.metrics.roc_auc_score.html#\n",
    "          sklearn.metrics.roc_auc_score>`_ is run on the first batch of data to ensure there are\n",
    "          no issues. User will be warned in case there are any issues computing the function.\n",
    "\n",
    "  ROC_AUC expects y to be comprised of 0's and 1's. y_pred must either be probability estimates or confidence\n",
    "  values. To apply an activation to y_pred, use output_transform as shown below:\n",
    "\n",
    "  .. code-block:: python\n",
    "\n",
    "      def activated_output_transform(output):\n",
    "          y_pred, y = output\n",
    "          y_pred = torch.sigmoid(y_pred)\n",
    "          return y_pred, y\n",
    "\n",
    "      roc_auc = ROC_AUC(activated_output_transform)\n",
    "\n",
    "  \"\"\"\n",
    "    def __init__(self,\n",
    "                 output_transform=lambda x: x,\n",
    "                 check_compute_fn: bool = False):\n",
    "#         print(output_transform)\n",
    "        super(ROC_AUC_perClass,\n",
    "              self).__init__(roc_auc_perClass_compute_fn,\n",
    "                             output_transform=output_transform,\n",
    "                             check_compute_fn=check_compute_fn)\n"
   ]
  },
  {
   "cell_type": "code",
   "execution_count": 43,
   "metadata": {},
   "outputs": [],
   "source": [
    "\n",
    "def conv_output_shape(h_w, kernel_size=1, stride=1, pad=0, dilation=1):\n",
    "    \"\"\"\n",
    "  Utility function for computing output of convolutions\n",
    "  takes a tuple of (h,w) and returns a tuple of (h,w)\n",
    "  \"\"\"\n",
    "    from math import floor\n",
    "    if type(kernel_size) is not tuple:\n",
    "        kernel_size = (kernel_size, kernel_size)\n",
    "    h = floor(((h_w[0] + (2 * pad) - (dilation *\n",
    "                                      (kernel_size[0] - 1)) - 1) / stride) + 1)\n",
    "    w = floor(((h_w[1] + (2 * pad) - (dilation *\n",
    "                                      (kernel_size[1] - 1)) - 1) / stride) + 1)\n",
    "    return h, w\n",
    "\n",
    "# mel.shape,an_x.shape,X_train.shape\n",
    "class testModel(nn.Module):\n",
    "    '''A simple model for testing by overfitting.\n",
    "    '''\n",
    "    def __init__(self, out_channels, h_w, kernel_size, FLAT=False,output_shape=(10,)):\n",
    "        # h_w: height will be always one since we use 1d convolution \n",
    "        super(testModel, self).__init__()\n",
    "        self.out_channels = out_channels\n",
    "        #### CONV\n",
    "        self.conv1 = nn.Conv1d(in_channels=1, # depth of image == depth of filters\n",
    "                               out_channels=self.out_channels, # number of filters \n",
    "                               kernel_size=kernel_size, # size of the filters/kernels\n",
    "                               padding=1)\n",
    "\n",
    "        self.conv1_shape = conv_output_shape(h_w, kernel_size=kernel_size, stride=1, pad=1, dilation=1)\n",
    "        # conv is 1d\n",
    "        self.conv1_shape = (1,self.conv1_shape[1])\n",
    "        \n",
    "        self.fc1 = nn.Linear(self.out_channels * self.conv1_shape[0] *self.conv1_shape[1], 64)  # 100\n",
    "\n",
    "        self.fc2 = nn.Linear(64,output_shape[0])\n",
    "        \n",
    "    def forward(self, x):\n",
    "#         x = x.reshape(1,)\n",
    "#         print(x.shape) #  50,1,108800 (850*128)\n",
    "        x = F.relu(self.conv1(x))\n",
    "#         x = self.pool(x)\n",
    "        # x = self.drop(x)\n",
    "#         print(x.shape)# 58, 2, 108801\n",
    "#         print(self.conv1_shape)\n",
    "#         print(x.shape)\n",
    "        x = x.view(-1, self.out_channels * self.conv1_shape[0] *self.conv1_shape[1])\n",
    "        # batch_norm is missing\n",
    "        x = F.relu((self.fc1(x)))\n",
    "        x = (self.fc2(x))\n",
    "\n",
    "#         x = self.drop(x)\n",
    "\n",
    "#         x = self.fc4(x)\n",
    "#         x = torch.sigmoid(x)\n",
    "#                 x = F.log_softmax(x,dim=1)\n",
    "        return x\n",
    "\n",
    "# test\n",
    "# input_shape=(1,(938*128))\n",
    "# output_shape=(10,)\n",
    "# testModel_ins=adam(out_channels=2,h_w=input_shape,kernel_size=2,output_shape=output_shape)\n",
    "# # a.conv1.weight\n",
    "# a_out=testModel_ins(torch.ones((3,1,input_shape[1])))\n",
    "\n",
    "# a_out_correct=torch.zeros(a_out.shape)\n",
    "# a_out_correct[0][:]=1\n",
    "# a_out_correct\n",
    "# a_out.detach().numpy()\n",
    "\n",
    "# torch.exp(a_out),a_out"
   ]
  },
  {
   "cell_type": "code",
   "execution_count": null,
   "metadata": {},
   "outputs": [],
   "source": []
  },
  {
   "cell_type": "code",
   "execution_count": null,
   "metadata": {},
   "outputs": [],
   "source": []
  },
  {
   "cell_type": "code",
   "execution_count": 44,
   "metadata": {},
   "outputs": [],
   "source": [
    "\n",
    "# for y_true_perClass_Index in a_out_correct.shape[1]:\n",
    "#     print(y_true_perClass_Index)"
   ]
  },
  {
   "cell_type": "code",
   "execution_count": 45,
   "metadata": {},
   "outputs": [],
   "source": [
    "# from ignite.contrib.metrics import ROC_AUC\n",
    "# from nna.exp.metrics import ROC_AUC_perClass\n",
    "def activated_output_transform(output):\n",
    "    y_pred, y = output\n",
    "#     y_pred = torch.exp(y_pred)\n",
    "    return y_pred, y"
   ]
  },
  {
   "cell_type": "code",
   "execution_count": null,
   "metadata": {},
   "outputs": [],
   "source": []
  },
  {
   "cell_type": "code",
   "execution_count": 46,
   "metadata": {},
   "outputs": [],
   "source": [
    "# asd=ROC_AUC_perClass(activated_output_transform)\n",
    "# asd.update((a_out,a_out_correct))\n",
    "# asd.compute()"
   ]
  },
  {
   "cell_type": "code",
   "execution_count": null,
   "metadata": {},
   "outputs": [],
   "source": []
  },
  {
   "cell_type": "code",
   "execution_count": 47,
   "metadata": {},
   "outputs": [],
   "source": [
    "\n",
    "transformCompose = transforms.Compose([\n",
    "#     pitch,\n",
    "#     strech,\n",
    "#     shift,\n",
    "#     noise,\n",
    "    toTensor,\n",
    "])\n",
    "\n",
    "\n",
    "sound_datasets = {\n",
    "    phase: runutils.audioDataset(XY[0], XY[1], transform=transformCompose)\n",
    "    for phase, XY in\n",
    "    zip(['train', 'val', 'test'],\n",
    "        [[X_train, y_train], [X_val, y_val], [X_test, y_test]])\n",
    "}\n",
    "\n",
    "dataloaders = {\n",
    "    x: torch.utils.data.DataLoader(sound_datasets[x], **params)\n",
    "    for x in ['train', 'val', 'test']\n",
    "}\n",
    "\n",
    "# this will change\n",
    "h_w = [128, 938]\n",
    "kernel_size = (4, 4)\n",
    "# if config['CNNLayer_count'] == 1:\n",
    "#     model = modelArchs.NetCNN1(config['CNN_filters_1'], h_w,\n",
    "#                                 kernel_size).float().to(device)\n",
    "\n",
    "# if config['CNNLayer_count'] == 2:\n",
    "#     model = modelArchs.NetCNN2(config['CNN_filters_1'], config.CNN_filters_2,\n",
    "#                                 h_w, kernel_size,\n",
    "#                                 kernel_size).float().to(device)\n",
    "\n",
    "#simpler model\n",
    "\n",
    "output_shape=(CATEGORY_COUNT,)\n",
    "model = testModel(out_channels=2,h_w=(1,h_w[0]*h_w[1]),kernel_size=kernel_size[0]*kernel_size[0],output_shape=output_shape)\n",
    "model.float().to(device)\n",
    "\n",
    "# device is defined before\n",
    "\n",
    "model.float().to(device)  # Move model before creating optimizer\n",
    "optimizer = torch.optim.AdamW(model.parameters(),\n",
    "#                                 weight_decay=config['weight_decay'],\n",
    "                             )\n",
    "\n",
    "\n",
    "\n",
    "criterion = nn.BCEWithLogitsLoss()\n",
    "# statHistory={'valLoss':[],'trainLoss':[],'trainAUC':[],'valAUC':[]}\n",
    "\n",
    "metrics = {\n",
    "    'loss': Loss(criterion),  # 'accuracy': Accuracy(),\n",
    "#     'ROC_AUC': ROC_AUC(runutils.activated_output_transform),\n",
    "    'ROC_AUC': ROC_AUC_perClass(activated_output_transform),\n",
    "\n",
    "}\n"
   ]
  },
  {
   "cell_type": "code",
   "execution_count": 48,
   "metadata": {},
   "outputs": [
    {
     "data": {
      "text/plain": [
       "testModel(\n",
       "  (conv1): Conv1d(1, 2, kernel_size=(16,), stride=(1,), padding=(1,))\n",
       "  (fc1): Linear(in_features=240102, out_features=64, bias=True)\n",
       "  (fc2): Linear(in_features=64, out_features=2, bias=True)\n",
       ")"
      ]
     },
     "execution_count": 48,
     "metadata": {},
     "output_type": "execute_result"
    }
   ],
   "source": [
    "model"
   ]
  },
  {
   "cell_type": "code",
   "execution_count": 49,
   "metadata": {},
   "outputs": [
    {
     "data": {
      "text/plain": [
       "Parameter containing:\n",
       "tensor([[[ 0.1911,  0.2075, -0.0586,  0.2297, -0.0548,  0.0504, -0.1217,\n",
       "           0.1468,  0.2204, -0.1834,  0.2173,  0.0468,  0.1847,  0.0339,\n",
       "           0.1205, -0.0353]],\n",
       "\n",
       "        [[ 0.1927,  0.0370, -0.1167,  0.0637, -0.1152, -0.0293, -0.1015,\n",
       "           0.1658, -0.1973, -0.1153, -0.0706, -0.1503,  0.0236, -0.2469,\n",
       "           0.2258, -0.2124]]], device='cuda:1', requires_grad=True)"
      ]
     },
     "execution_count": 49,
     "metadata": {},
     "output_type": "execute_result"
    }
   ],
   "source": [
    "model.conv1.weight"
   ]
  },
  {
   "cell_type": "code",
   "execution_count": 50,
   "metadata": {},
   "outputs": [
    {
     "data": {
      "text/plain": [
       "Conv1d(1, 2, kernel_size=(16,), stride=(1,), padding=(1,))"
      ]
     },
     "execution_count": 50,
     "metadata": {},
     "output_type": "execute_result"
    }
   ],
   "source": [
    "model.conv1"
   ]
  },
  {
   "cell_type": "code",
   "execution_count": 51,
   "metadata": {},
   "outputs": [
    {
     "data": {
      "text/plain": [
       "Parameter containing:\n",
       "tensor([[-6.6266e-04,  1.2611e-03,  3.1806e-04,  ..., -1.1344e-03,\n",
       "          1.7489e-04, -2.2777e-05],\n",
       "        [-1.3098e-03, -1.8677e-03, -6.3242e-04,  ..., -1.6664e-03,\n",
       "          6.8555e-04,  1.7273e-03],\n",
       "        [-1.5009e-03,  8.8956e-04,  6.2944e-04,  ...,  1.2712e-03,\n",
       "          1.2644e-03,  1.4021e-03],\n",
       "        ...,\n",
       "        [ 1.1005e-03, -1.7050e-03,  5.0363e-04,  ...,  1.6579e-03,\n",
       "          5.5793e-05,  1.2571e-04],\n",
       "        [-1.6759e-03,  1.6106e-03,  9.2794e-04,  ..., -1.7791e-03,\n",
       "          1.6985e-03, -8.0668e-04],\n",
       "        [-2.7139e-04, -1.2249e-03,  3.8873e-04,  ...,  1.9329e-03,\n",
       "          1.8754e-03, -1.3147e-03]], device='cuda:1', requires_grad=True)"
      ]
     },
     "execution_count": 51,
     "metadata": {},
     "output_type": "execute_result"
    }
   ],
   "source": [
    "model.fc1.weight"
   ]
  },
  {
   "cell_type": "code",
   "execution_count": null,
   "metadata": {},
   "outputs": [],
   "source": []
  },
  {
   "cell_type": "code",
   "execution_count": 53,
   "metadata": {},
   "outputs": [
    {
     "name": "stdout",
     "output_type": "stream",
     "text": [
      "ready ?\n"
     ]
    },
    {
     "data": {
      "text/html": [
       "\n",
       "                Tracking run with wandb version 0.10.12<br/>\n",
       "                Syncing run <strong style=\"color:#cdcd00\">rose-star-153</strong> to <a href=\"https://wandb.ai\" target=\"_blank\">Weights & Biases</a> <a href=\"https://docs.wandb.com/integrations/jupyter.html\" target=\"_blank\">(Documentation)</a>.<br/>\n",
       "                Project page: <a href=\"https://wandb.ai/enisberk/megan\" target=\"_blank\">https://wandb.ai/enisberk/megan</a><br/>\n",
       "                Run page: <a href=\"https://wandb.ai/enisberk/megan/runs/1etg6cbb\" target=\"_blank\">https://wandb.ai/enisberk/megan/runs/1etg6cbb</a><br/>\n",
       "                Run data is saved locally in <code>/home/enis/projects/nna/src/nna/exp/megan/run-2/wandb/run-20210126_041727-1etg6cbb</code><br/><br/>\n",
       "            "
      ],
      "text/plain": [
       "<IPython.core.display.HTML object>"
      ]
     },
     "metadata": {},
     "output_type": "display_data"
    },
    {
     "name": "stderr",
     "output_type": "stream",
     "text": [
      "2021-01-26 04:18:04,838 Trainer INFO: Engine run starting with max_epochs=2000.\n",
      "/scratch/enis/conda/envs/soundenv3/lib/python3.7/site-packages/torch/functional.py:516: UserWarning: stft will require the return_complex parameter be explicitly  specified in a future PyTorch release. Use return_complex=False  to preserve the current behavior or return_complex=True to return  a complex output. (Triggered internally at  /opt/conda/conda-bld/pytorch_1607370141920/work/aten/src/ATen/native/SpectralOps.cpp:653.)\n",
      "  normalized, onesided, return_complex)\n",
      "/scratch/enis/conda/envs/soundenv3/lib/python3.7/site-packages/torch/functional.py:516: UserWarning: The function torch.rfft is deprecated and will be removed in a future PyTorch release. Use the new torch.fft module functions, instead, by importing torch.fft and calling torch.fft.fft or torch.fft.rfft. (Triggered internally at  /opt/conda/conda-bld/pytorch_1607370141920/work/aten/src/ATen/native/SpectralOps.cpp:590.)\n",
      "  normalized, onesided, return_complex)\n",
      "2021-01-26 04:18:12,192 Train Evaluator INFO: Engine run starting with max_epochs=1.\n",
      "2021-01-26 04:18:16,349 Train Evaluator INFO: Epoch[1] Complete. Time taken: 00:00:04\n",
      "2021-01-26 04:18:16,351 Train Evaluator INFO: Engine run complete. Time taken: 00:00:04\n",
      "2021-01-26 04:18:16,352 Val Evaluator INFO: Engine run starting with max_epochs=1.\n",
      "2021-01-26 04:18:18,357 Val Evaluator INFO: Epoch[1] Complete. Time taken: 00:00:02\n",
      "2021-01-26 04:18:19,836 Val Evaluator INFO: Engine run complete. Time taken: 00:00:03\n",
      "\u001b[34m\u001b[1mwandb\u001b[0m: \u001b[33mWARNING\u001b[0m Step must only increase in log calls.  Step 1 < 6; dropping {'lr/group_0': 0.001}.\n",
      "2021-01-26 04:18:19,851 Trainer INFO: Epoch[1] Complete. Time taken: 00:00:15\n"
     ]
    },
    {
     "name": "stdout",
     "output_type": "stream",
     "text": [
      "train loss 1809.624494383321\n",
      "val loss 4160.851503057065\n",
      "validation roc auc [0.37904229 0.38152985] 1\n",
      "train roc auc [0.46339587 0.46351423] 1\n"
     ]
    },
    {
     "name": "stderr",
     "output_type": "stream",
     "text": [
      "2021-01-26 04:18:24,097 Train Evaluator INFO: Engine run starting with max_epochs=1.\n",
      "2021-01-26 04:18:28,436 Train Evaluator INFO: Epoch[1] Complete. Time taken: 00:00:04\n",
      "2021-01-26 04:18:28,438 Train Evaluator INFO: Engine run complete. Time taken: 00:00:04\n",
      "2021-01-26 04:18:28,439 Val Evaluator INFO: Engine run starting with max_epochs=1.\n",
      "2021-01-26 04:18:29,755 Val Evaluator INFO: Epoch[1] Complete. Time taken: 00:00:01\n",
      "2021-01-26 04:18:31,051 Val Evaluator INFO: Engine run complete. Time taken: 00:00:03\n",
      "\u001b[34m\u001b[1mwandb\u001b[0m: \u001b[33mWARNING\u001b[0m Step must only increase in log calls.  Step 2 < 12; dropping {'lr/group_0': 0.001}.\n",
      "2021-01-26 04:18:31,064 Trainer INFO: Epoch[2] Complete. Time taken: 00:00:11\n"
     ]
    },
    {
     "name": "stdout",
     "output_type": "stream",
     "text": [
      "train loss 1375.8434061806583\n",
      "val loss 1737.8745446246603\n",
      "validation roc auc [0.38059701 0.63681592] 2\n",
      "train roc auc [0.46369178 0.53719595] 2\n"
     ]
    },
    {
     "name": "stderr",
     "output_type": "stream",
     "text": [
      "2021-01-26 04:18:35,754 Train Evaluator INFO: Engine run starting with max_epochs=1.\n",
      "2021-01-26 04:18:39,606 Train Evaluator INFO: Epoch[1] Complete. Time taken: 00:00:04\n",
      "2021-01-26 04:18:39,611 Train Evaluator INFO: Engine run complete. Time taken: 00:00:04\n",
      "2021-01-26 04:18:39,612 Val Evaluator INFO: Engine run starting with max_epochs=1.\n",
      "2021-01-26 04:18:41,380 Val Evaluator INFO: Epoch[1] Complete. Time taken: 00:00:02\n",
      "2021-01-26 04:18:42,948 Val Evaluator INFO: Engine run complete. Time taken: 00:00:03\n",
      "\u001b[34m\u001b[1mwandb\u001b[0m: \u001b[33mWARNING\u001b[0m Step must only increase in log calls.  Step 3 < 18; dropping {'lr/group_0': 0.001}.\n",
      "2021-01-26 04:18:42,961 Trainer INFO: Epoch[3] Complete. Time taken: 00:00:12\n"
     ]
    },
    {
     "name": "stdout",
     "output_type": "stream",
     "text": [
      "train loss 485.3010342389169\n",
      "val loss 1115.2661716627038\n",
      "validation roc auc [0.38152985 0.4738806 ] 3\n",
      "train roc auc [0.46505297 0.57104812] 3\n"
     ]
    },
    {
     "name": "stderr",
     "output_type": "stream",
     "text": [
      "2021-01-26 04:18:47,805 Train Evaluator INFO: Engine run starting with max_epochs=1.\n",
      "2021-01-26 04:18:51,941 Train Evaluator INFO: Epoch[1] Complete. Time taken: 00:00:04\n",
      "2021-01-26 04:18:51,945 Train Evaluator INFO: Engine run complete. Time taken: 00:00:04\n",
      "2021-01-26 04:18:51,946 Val Evaluator INFO: Engine run starting with max_epochs=1.\n",
      "2021-01-26 04:18:53,184 Val Evaluator INFO: Epoch[1] Complete. Time taken: 00:00:01\n",
      "2021-01-26 04:18:54,649 Val Evaluator INFO: Engine run complete. Time taken: 00:00:03\n",
      "\u001b[34m\u001b[1mwandb\u001b[0m: \u001b[33mWARNING\u001b[0m Step must only increase in log calls.  Step 4 < 24; dropping {'lr/group_0': 0.001}.\n",
      "2021-01-26 04:18:54,664 Trainer INFO: Epoch[4] Complete. Time taken: 00:00:12\n"
     ]
    },
    {
     "name": "stdout",
     "output_type": "stream",
     "text": [
      "train loss 943.3283680571607\n",
      "val loss 2168.5637047809105\n",
      "validation roc auc [0.3818408 0.3914801] 4\n",
      "train roc auc [0.46534888 0.46398769] 4\n"
     ]
    },
    {
     "name": "stderr",
     "output_type": "stream",
     "text": [
      "2021-01-26 04:18:58,624 Train Evaluator INFO: Engine run starting with max_epochs=1.\n",
      "2021-01-26 04:19:03,255 Train Evaluator INFO: Epoch[1] Complete. Time taken: 00:00:05\n",
      "2021-01-26 04:19:03,259 Train Evaluator INFO: Engine run complete. Time taken: 00:00:05\n",
      "2021-01-26 04:19:03,260 Val Evaluator INFO: Engine run starting with max_epochs=1.\n",
      "2021-01-26 04:19:04,651 Val Evaluator INFO: Epoch[1] Complete. Time taken: 00:00:01\n",
      "2021-01-26 04:19:06,010 Val Evaluator INFO: Engine run complete. Time taken: 00:00:03\n",
      "\u001b[34m\u001b[1mwandb\u001b[0m: \u001b[33mWARNING\u001b[0m Step must only increase in log calls.  Step 5 < 30; dropping {'lr/group_0': 0.001}.\n",
      "2021-01-26 04:19:06,022 Trainer INFO: Epoch[5] Complete. Time taken: 00:00:11\n"
     ]
    },
    {
     "name": "stdout",
     "output_type": "stream",
     "text": [
      "train loss 300.11184981306627\n",
      "val loss 689.6354746942935\n",
      "validation roc auc [0.39956468 0.39738806] 5\n",
      "train roc auc [0.48470143 0.46517133] 5\n"
     ]
    },
    {
     "name": "stderr",
     "output_type": "stream",
     "text": [
      "2021-01-26 04:19:10,170 Train Evaluator INFO: Engine run starting with max_epochs=1.\n",
      "2021-01-26 04:19:14,199 Train Evaluator INFO: Epoch[1] Complete. Time taken: 00:00:04\n",
      "2021-01-26 04:19:14,202 Train Evaluator INFO: Engine run complete. Time taken: 00:00:04\n",
      "2021-01-26 04:19:14,203 Val Evaluator INFO: Engine run starting with max_epochs=1.\n",
      "2021-01-26 04:19:15,584 Val Evaluator INFO: Epoch[1] Complete. Time taken: 00:00:01\n",
      "2021-01-26 04:19:17,076 Val Evaluator INFO: Engine run complete. Time taken: 00:00:03\n",
      "\u001b[34m\u001b[1mwandb\u001b[0m: \u001b[33mWARNING\u001b[0m Step must only increase in log calls.  Step 6 < 36; dropping {'lr/group_0': 0.001}.\n",
      "2021-01-26 04:19:17,089 Trainer INFO: Epoch[6] Complete. Time taken: 00:00:11\n"
     ]
    },
    {
     "name": "stdout",
     "output_type": "stream",
     "text": [
      "train loss 119.74348111124434\n",
      "val loss 274.9929764457371\n",
      "validation roc auc [0.76865672 0.40982587] 6\n",
      "train roc auc [0.75883293 0.4675978 ] 6\n"
     ]
    },
    {
     "name": "stderr",
     "output_type": "stream",
     "text": [
      "2021-01-26 04:19:20,940 Train Evaluator INFO: Engine run starting with max_epochs=1.\n",
      "2021-01-26 04:19:25,569 Train Evaluator INFO: Epoch[1] Complete. Time taken: 00:00:05\n",
      "2021-01-26 04:19:25,572 Train Evaluator INFO: Engine run complete. Time taken: 00:00:05\n",
      "2021-01-26 04:19:25,573 Val Evaluator INFO: Engine run starting with max_epochs=1.\n",
      "2021-01-26 04:19:26,855 Val Evaluator INFO: Epoch[1] Complete. Time taken: 00:00:01\n",
      "2021-01-26 04:19:28,291 Val Evaluator INFO: Engine run complete. Time taken: 00:00:03\n",
      "\u001b[34m\u001b[1mwandb\u001b[0m: \u001b[33mWARNING\u001b[0m Step must only increase in log calls.  Step 7 < 42; dropping {'lr/group_0': 0.001}.\n",
      "2021-01-26 04:19:28,305 Trainer INFO: Epoch[7] Complete. Time taken: 00:00:11\n"
     ]
    },
    {
     "name": "stdout",
     "output_type": "stream",
     "text": [
      "train loss 330.5224103758321\n",
      "val loss 759.767015009341\n",
      "validation roc auc [0.41604478 0.3949005 ] 7\n",
      "train roc auc [0.49724803 0.46576315] 7\n"
     ]
    },
    {
     "name": "stderr",
     "output_type": "stream",
     "text": [
      "2021-01-26 04:19:32,710 Train Evaluator INFO: Engine run starting with max_epochs=1.\n",
      "2021-01-26 04:19:36,786 Train Evaluator INFO: Epoch[1] Complete. Time taken: 00:00:04\n",
      "2021-01-26 04:19:36,789 Train Evaluator INFO: Engine run complete. Time taken: 00:00:04\n",
      "2021-01-26 04:19:36,790 Val Evaluator INFO: Engine run starting with max_epochs=1.\n",
      "2021-01-26 04:19:39,291 Val Evaluator INFO: Epoch[1] Complete. Time taken: 00:00:02\n",
      "2021-01-26 04:19:40,801 Val Evaluator INFO: Engine run complete. Time taken: 00:00:04\n",
      "\u001b[34m\u001b[1mwandb\u001b[0m: \u001b[33mWARNING\u001b[0m Step must only increase in log calls.  Step 8 < 48; dropping {'lr/group_0': 0.001}.\n",
      "2021-01-26 04:19:40,814 Trainer INFO: Epoch[8] Complete. Time taken: 00:00:13\n"
     ]
    },
    {
     "name": "stdout",
     "output_type": "stream",
     "text": [
      "train loss 136.00239558473848\n",
      "val loss 312.4967964504076\n",
      "validation roc auc [0.40018657 0.46859453] 8\n",
      "train roc auc [0.48416879 0.54435699] 8\n"
     ]
    },
    {
     "name": "stderr",
     "output_type": "stream",
     "text": [
      "2021-01-26 04:19:46,140 Train Evaluator INFO: Engine run starting with max_epochs=1.\n",
      "2021-01-26 04:19:51,043 Train Evaluator INFO: Epoch[1] Complete. Time taken: 00:00:05\n",
      "2021-01-26 04:19:51,045 Train Evaluator INFO: Engine run complete. Time taken: 00:00:05\n",
      "2021-01-26 04:19:51,046 Val Evaluator INFO: Engine run starting with max_epochs=1.\n",
      "2021-01-26 04:19:52,490 Val Evaluator INFO: Epoch[1] Complete. Time taken: 00:00:01\n",
      "2021-01-26 04:19:53,946 Val Evaluator INFO: Engine run complete. Time taken: 00:00:03\n",
      "\u001b[34m\u001b[1mwandb\u001b[0m: \u001b[33mWARNING\u001b[0m Step must only increase in log calls.  Step 9 < 54; dropping {'lr/group_0': 0.001}.\n",
      "2021-01-26 04:19:53,957 Trainer INFO: Epoch[9] Complete. Time taken: 00:00:13\n"
     ]
    },
    {
     "name": "stdout",
     "output_type": "stream",
     "text": [
      "train loss 180.3576831704766\n",
      "val loss 414.61690912661345\n",
      "validation roc auc [0.46237562 0.4045398 ] 9\n",
      "train roc auc [0.63561579 0.46795289] 9\n"
     ]
    },
    {
     "name": "stderr",
     "output_type": "stream",
     "text": [
      "2021-01-26 04:19:58,208 Train Evaluator INFO: Engine run starting with max_epochs=1.\n",
      "2021-01-26 04:20:02,436 Train Evaluator INFO: Epoch[1] Complete. Time taken: 00:00:04\n",
      "2021-01-26 04:20:02,438 Train Evaluator INFO: Engine run complete. Time taken: 00:00:04\n",
      "2021-01-26 04:20:02,440 Val Evaluator INFO: Engine run starting with max_epochs=1.\n",
      "2021-01-26 04:20:04,020 Val Evaluator INFO: Epoch[1] Complete. Time taken: 00:00:02\n",
      "2021-01-26 04:20:05,592 Val Evaluator INFO: Engine run complete. Time taken: 00:00:03\n",
      "\u001b[34m\u001b[1mwandb\u001b[0m: \u001b[33mWARNING\u001b[0m Step must only increase in log calls.  Step 10 < 60; dropping {'lr/group_0': 0.001}.\n",
      "2021-01-26 04:20:05,607 Trainer INFO: Epoch[10] Complete. Time taken: 00:00:12\n"
     ]
    },
    {
     "name": "stdout",
     "output_type": "stream",
     "text": [
      "train loss 249.88399690707055\n",
      "val loss 574.6313678243886\n",
      "validation roc auc [0.40049751 0.40920398] 10\n",
      "train roc auc [0.48535243 0.47061609] 10\n"
     ]
    },
    {
     "name": "stderr",
     "output_type": "stream",
     "text": [
      "2021-01-26 04:20:10,960 Train Evaluator INFO: Engine run starting with max_epochs=1.\n",
      "2021-01-26 04:20:15,591 Train Evaluator INFO: Epoch[1] Complete. Time taken: 00:00:05\n",
      "2021-01-26 04:20:15,593 Train Evaluator INFO: Engine run complete. Time taken: 00:00:05\n",
      "2021-01-26 04:20:15,595 Val Evaluator INFO: Engine run starting with max_epochs=1.\n",
      "2021-01-26 04:20:17,000 Val Evaluator INFO: Epoch[1] Complete. Time taken: 00:00:01\n",
      "2021-01-26 04:20:18,496 Val Evaluator INFO: Engine run complete. Time taken: 00:00:03\n",
      "\u001b[34m\u001b[1mwandb\u001b[0m: \u001b[33mWARNING\u001b[0m Step must only increase in log calls.  Step 11 < 66; dropping {'lr/group_0': 0.001}.\n",
      "2021-01-26 04:20:18,508 Trainer INFO: Epoch[11] Complete. Time taken: 00:00:13\n"
     ]
    },
    {
     "name": "stdout",
     "output_type": "stream",
     "text": [
      "train loss 180.53579206297383\n",
      "val loss 206.24074415123982\n",
      "validation roc auc [0.44154229 0.71455224] 11\n",
      "train roc auc [0.52311061 0.58732319] 11\n"
     ]
    },
    {
     "name": "stderr",
     "output_type": "stream",
     "text": [
      "2021-01-26 04:20:23,040 Train Evaluator INFO: Engine run starting with max_epochs=1.\n",
      "2021-01-26 04:20:27,160 Train Evaluator INFO: Epoch[1] Complete. Time taken: 00:00:04\n",
      "2021-01-26 04:20:27,162 Train Evaluator INFO: Engine run complete. Time taken: 00:00:04\n",
      "2021-01-26 04:20:27,163 Val Evaluator INFO: Engine run starting with max_epochs=1.\n",
      "2021-01-26 04:20:28,593 Val Evaluator INFO: Epoch[1] Complete. Time taken: 00:00:01\n",
      "2021-01-26 04:20:30,129 Val Evaluator INFO: Engine run complete. Time taken: 00:00:03\n",
      "\u001b[34m\u001b[1mwandb\u001b[0m: \u001b[33mWARNING\u001b[0m Step must only increase in log calls.  Step 12 < 72; dropping {'lr/group_0': 0.001}.\n",
      "2021-01-26 04:20:30,142 Trainer INFO: Epoch[12] Complete. Time taken: 00:00:12\n"
     ]
    },
    {
     "name": "stdout",
     "output_type": "stream",
     "text": [
      "train loss 165.63297131781042\n",
      "val loss 381.11691814920175\n",
      "validation roc auc [0.41666667 0.41977612] 12\n",
      "train roc auc [0.49653785 0.47393028] 12\n"
     ]
    },
    {
     "name": "stderr",
     "output_type": "stream",
     "text": [
      "2021-01-26 04:20:34,655 Train Evaluator INFO: Engine run starting with max_epochs=1.\n",
      "2021-01-26 04:20:39,088 Train Evaluator INFO: Epoch[1] Complete. Time taken: 00:00:04\n",
      "2021-01-26 04:20:39,091 Train Evaluator INFO: Engine run complete. Time taken: 00:00:04\n",
      "2021-01-26 04:20:39,092 Val Evaluator INFO: Engine run starting with max_epochs=1.\n",
      "2021-01-26 04:20:40,994 Val Evaluator INFO: Epoch[1] Complete. Time taken: 00:00:02\n",
      "2021-01-26 04:20:42,467 Val Evaluator INFO: Engine run complete. Time taken: 00:00:03\n",
      "\u001b[34m\u001b[1mwandb\u001b[0m: \u001b[33mWARNING\u001b[0m Step must only increase in log calls.  Step 13 < 78; dropping {'lr/group_0': 0.001}.\n",
      "2021-01-26 04:20:42,481 Trainer INFO: Epoch[13] Complete. Time taken: 00:00:12\n"
     ]
    },
    {
     "name": "stdout",
     "output_type": "stream",
     "text": [
      "train loss 185.51962885207678\n",
      "val loss 426.90826416015625\n",
      "validation roc auc [0.40018657 0.44123134] 13\n",
      "train roc auc [0.48091377 0.48665444] 13\n"
     ]
    },
    {
     "name": "stderr",
     "output_type": "stream",
     "text": [
      "2021-01-26 04:20:47,264 Train Evaluator INFO: Engine run starting with max_epochs=1.\n",
      "2021-01-26 04:20:52,871 Train Evaluator INFO: Epoch[1] Complete. Time taken: 00:00:06\n",
      "2021-01-26 04:20:52,874 Train Evaluator INFO: Engine run complete. Time taken: 00:00:06\n",
      "2021-01-26 04:20:52,876 Val Evaluator INFO: Engine run starting with max_epochs=1.\n",
      "2021-01-26 04:20:54,890 Val Evaluator INFO: Epoch[1] Complete. Time taken: 00:00:02\n",
      "2021-01-26 04:20:56,310 Val Evaluator INFO: Engine run complete. Time taken: 00:00:03\n",
      "\u001b[34m\u001b[1mwandb\u001b[0m: \u001b[33mWARNING\u001b[0m Step must only increase in log calls.  Step 14 < 84; dropping {'lr/group_0': 0.001}.\n",
      "2021-01-26 04:20:56,345 Trainer INFO: Epoch[14] Complete. Time taken: 00:00:14\n"
     ]
    },
    {
     "name": "stdout",
     "output_type": "stream",
     "text": [
      "train loss 35.39678576994224\n",
      "val loss 81.72968298870585\n",
      "validation roc auc [0.47636816 0.51523632] 14\n",
      "train roc auc [0.60377582 0.69260816] 14\n"
     ]
    },
    {
     "name": "stderr",
     "output_type": "stream",
     "text": [
      "2021-01-26 04:21:02,234 Train Evaluator INFO: Engine run starting with max_epochs=1.\n",
      "2021-01-26 04:21:07,847 Train Evaluator INFO: Epoch[1] Complete. Time taken: 00:00:06\n",
      "2021-01-26 04:21:07,850 Train Evaluator INFO: Engine run complete. Time taken: 00:00:06\n",
      "2021-01-26 04:21:07,851 Val Evaluator INFO: Engine run starting with max_epochs=1.\n",
      "2021-01-26 04:21:10,558 Val Evaluator INFO: Epoch[1] Complete. Time taken: 00:00:03\n",
      "2021-01-26 04:21:12,052 Val Evaluator INFO: Engine run complete. Time taken: 00:00:04\n",
      "\u001b[34m\u001b[1mwandb\u001b[0m: \u001b[33mWARNING\u001b[0m Step must only increase in log calls.  Step 15 < 90; dropping {'lr/group_0': 0.001}.\n",
      "2021-01-26 04:21:12,063 Trainer INFO: Epoch[15] Complete. Time taken: 00:00:16\n"
     ]
    },
    {
     "name": "stdout",
     "output_type": "stream",
     "text": [
      "train loss 30.586066849838346\n",
      "val loss 65.36744414619777\n",
      "validation roc auc [0.47854478 0.74813433] 15\n",
      "train roc auc [0.61454696 0.69385098] 15\n"
     ]
    },
    {
     "name": "stderr",
     "output_type": "stream",
     "text": [
      "2021-01-26 04:21:18,230 Train Evaluator INFO: Engine run starting with max_epochs=1.\n",
      "2021-01-26 04:21:23,729 Train Evaluator INFO: Epoch[1] Complete. Time taken: 00:00:05\n",
      "2021-01-26 04:21:23,732 Train Evaluator INFO: Engine run complete. Time taken: 00:00:05\n",
      "2021-01-26 04:21:23,733 Val Evaluator INFO: Engine run starting with max_epochs=1.\n",
      "2021-01-26 04:21:25,530 Val Evaluator INFO: Epoch[1] Complete. Time taken: 00:00:02\n",
      "2021-01-26 04:21:27,075 Val Evaluator INFO: Engine run complete. Time taken: 00:00:03\n",
      "\u001b[34m\u001b[1mwandb\u001b[0m: \u001b[33mWARNING\u001b[0m Step must only increase in log calls.  Step 16 < 96; dropping {'lr/group_0': 0.001}.\n",
      "2021-01-26 04:21:27,088 Trainer INFO: Epoch[16] Complete. Time taken: 00:00:15\n"
     ]
    },
    {
     "name": "stdout",
     "output_type": "stream",
     "text": [
      "train loss 48.48950932293954\n",
      "val loss 111.89973297119141\n",
      "validation roc auc [0.43656716 0.52425373] 16\n",
      "train roc auc [0.51411493 0.71574836] 16\n"
     ]
    },
    {
     "name": "stderr",
     "output_type": "stream",
     "text": [
      "2021-01-26 04:21:32,615 Train Evaluator INFO: Engine run starting with max_epochs=1.\n",
      "2021-01-26 04:21:37,553 Train Evaluator INFO: Epoch[1] Complete. Time taken: 00:00:05\n",
      "2021-01-26 04:21:37,556 Train Evaluator INFO: Engine run complete. Time taken: 00:00:05\n",
      "2021-01-26 04:21:37,557 Val Evaluator INFO: Engine run starting with max_epochs=1.\n",
      "2021-01-26 04:21:39,523 Val Evaluator INFO: Epoch[1] Complete. Time taken: 00:00:02\n",
      "2021-01-26 04:21:41,153 Val Evaluator INFO: Engine run complete. Time taken: 00:00:04\n",
      "\u001b[34m\u001b[1mwandb\u001b[0m: \u001b[33mWARNING\u001b[0m Step must only increase in log calls.  Step 17 < 102; dropping {'lr/group_0': 0.001}.\n",
      "2021-01-26 04:21:41,163 Trainer INFO: Epoch[17] Complete. Time taken: 00:00:14\n"
     ]
    },
    {
     "name": "stdout",
     "output_type": "stream",
     "text": [
      "train loss 49.210897456964794\n",
      "val loss 44.82664552771527\n",
      "validation roc auc [0.69869403 0.50373134] 17\n",
      "train roc auc [0.61478369 0.6898266 ] 17\n"
     ]
    },
    {
     "name": "stderr",
     "output_type": "stream",
     "text": [
      "2021-01-26 04:21:46,507 Train Evaluator INFO: Engine run starting with max_epochs=1.\n",
      "2021-01-26 04:21:51,985 Train Evaluator INFO: Epoch[1] Complete. Time taken: 00:00:05\n",
      "2021-01-26 04:21:51,988 Train Evaluator INFO: Engine run complete. Time taken: 00:00:05\n",
      "2021-01-26 04:21:51,989 Val Evaluator INFO: Engine run starting with max_epochs=1.\n",
      "2021-01-26 04:21:53,763 Val Evaluator INFO: Epoch[1] Complete. Time taken: 00:00:02\n",
      "2021-01-26 04:21:55,231 Val Evaluator INFO: Engine run complete. Time taken: 00:00:03\n",
      "\u001b[34m\u001b[1mwandb\u001b[0m: \u001b[33mWARNING\u001b[0m Step must only increase in log calls.  Step 18 < 108; dropping {'lr/group_0': 0.001}.\n",
      "2021-01-26 04:21:55,242 Trainer INFO: Epoch[18] Complete. Time taken: 00:00:14\n"
     ]
    },
    {
     "name": "stdout",
     "output_type": "stream",
     "text": [
      "train loss 32.57886664260774\n",
      "val loss 75.23307030719259\n",
      "validation roc auc [0.44931592 0.64396766] 18\n",
      "train roc auc [0.5386755  0.73143162] 18\n"
     ]
    },
    {
     "name": "stderr",
     "output_type": "stream",
     "text": [
      "2021-01-26 04:22:00,901 Train Evaluator INFO: Engine run starting with max_epochs=1.\n",
      "2021-01-26 04:22:06,422 Train Evaluator INFO: Epoch[1] Complete. Time taken: 00:00:06\n",
      "2021-01-26 04:22:06,425 Train Evaluator INFO: Engine run complete. Time taken: 00:00:06\n",
      "2021-01-26 04:22:06,426 Val Evaluator INFO: Engine run starting with max_epochs=1.\n",
      "2021-01-26 04:22:08,617 Val Evaluator INFO: Epoch[1] Complete. Time taken: 00:00:02\n",
      "2021-01-26 04:22:10,064 Val Evaluator INFO: Engine run complete. Time taken: 00:00:04\n",
      "\u001b[34m\u001b[1mwandb\u001b[0m: \u001b[33mWARNING\u001b[0m Step must only increase in log calls.  Step 19 < 114; dropping {'lr/group_0': 0.001}.\n",
      "2021-01-26 04:22:10,080 Trainer INFO: Epoch[19] Complete. Time taken: 00:00:15\n"
     ]
    },
    {
     "name": "stdout",
     "output_type": "stream",
     "text": [
      "train loss 30.59742722144494\n",
      "val loss 70.82113100134808\n",
      "validation roc auc [0.46610697 0.48725124] 19\n",
      "train roc auc [0.59282713 0.67343315] 19\n"
     ]
    },
    {
     "name": "stderr",
     "output_type": "stream",
     "text": [
      "2021-01-26 04:22:15,376 Train Evaluator INFO: Engine run starting with max_epochs=1.\n",
      "2021-01-26 04:22:20,592 Train Evaluator INFO: Epoch[1] Complete. Time taken: 00:00:05\n",
      "2021-01-26 04:22:20,595 Train Evaluator INFO: Engine run complete. Time taken: 00:00:05\n",
      "2021-01-26 04:22:20,596 Val Evaluator INFO: Engine run starting with max_epochs=1.\n",
      "2021-01-26 04:22:22,436 Val Evaluator INFO: Epoch[1] Complete. Time taken: 00:00:02\n",
      "2021-01-26 04:22:24,028 Val Evaluator INFO: Engine run complete. Time taken: 00:00:03\n",
      "\u001b[34m\u001b[1mwandb\u001b[0m: \u001b[33mWARNING\u001b[0m Step must only increase in log calls.  Step 20 < 120; dropping {'lr/group_0': 0.001}.\n",
      "2021-01-26 04:22:24,039 Trainer INFO: Epoch[20] Complete. Time taken: 00:00:14\n"
     ]
    },
    {
     "name": "stdout",
     "output_type": "stream",
     "text": [
      "train loss 18.49984874386759\n",
      "val loss 12.263934898376466\n",
      "validation roc auc [0.71548507 0.66075871] 20\n",
      "train roc auc [0.64857667 0.75190862] 20\n"
     ]
    },
    {
     "name": "stderr",
     "output_type": "stream",
     "text": [
      "2021-01-26 04:22:29,427 Train Evaluator INFO: Engine run starting with max_epochs=1.\n",
      "2021-01-26 04:22:34,410 Train Evaluator INFO: Epoch[1] Complete. Time taken: 00:00:05\n",
      "2021-01-26 04:22:34,413 Train Evaluator INFO: Engine run complete. Time taken: 00:00:05\n",
      "2021-01-26 04:22:34,414 Val Evaluator INFO: Engine run starting with max_epochs=1.\n",
      "2021-01-26 04:22:36,298 Val Evaluator INFO: Epoch[1] Complete. Time taken: 00:00:02\n",
      "2021-01-26 04:22:37,974 Val Evaluator INFO: Engine run complete. Time taken: 00:00:04\n",
      "\u001b[34m\u001b[1mwandb\u001b[0m: \u001b[33mWARNING\u001b[0m Step must only increase in log calls.  Step 21 < 126; dropping {'lr/group_0': 0.001}.\n",
      "2021-01-26 04:22:37,989 Trainer INFO: Epoch[21] Complete. Time taken: 00:00:14\n"
     ]
    },
    {
     "name": "stdout",
     "output_type": "stream",
     "text": [
      "train loss 16.89516341756787\n",
      "val loss 39.36197115027386\n",
      "validation roc auc [0.4869403  0.52456468] 21\n",
      "train roc auc [0.67704326 0.77522637] 21\n"
     ]
    },
    {
     "name": "stderr",
     "output_type": "stream",
     "text": [
      "2021-01-26 04:22:44,054 Train Evaluator INFO: Engine run starting with max_epochs=1.\n",
      "2021-01-26 04:22:49,476 Train Evaluator INFO: Epoch[1] Complete. Time taken: 00:00:05\n",
      "2021-01-26 04:22:49,479 Train Evaluator INFO: Engine run complete. Time taken: 00:00:05\n",
      "2021-01-26 04:22:49,480 Val Evaluator INFO: Engine run starting with max_epochs=1.\n",
      "2021-01-26 04:22:51,218 Val Evaluator INFO: Epoch[1] Complete. Time taken: 00:00:02\n",
      "2021-01-26 04:22:52,704 Val Evaluator INFO: Engine run complete. Time taken: 00:00:03\n",
      "\u001b[34m\u001b[1mwandb\u001b[0m: \u001b[33mWARNING\u001b[0m Step must only increase in log calls.  Step 22 < 132; dropping {'lr/group_0': 0.001}.\n",
      "2021-01-26 04:22:52,715 Trainer INFO: Epoch[22] Complete. Time taken: 00:00:15\n"
     ]
    },
    {
     "name": "stdout",
     "output_type": "stream",
     "text": [
      "train loss 9.362905877581715\n",
      "val loss 22.057945317807405\n",
      "validation roc auc [0.5755597  0.49502488] 22\n",
      "train roc auc [0.86240161 0.78215068] 22\n"
     ]
    },
    {
     "name": "stderr",
     "output_type": "stream",
     "text": [
      "2021-01-26 04:22:58,043 Train Evaluator INFO: Engine run starting with max_epochs=1.\n",
      "2021-01-26 04:23:03,397 Train Evaluator INFO: Epoch[1] Complete. Time taken: 00:00:05\n",
      "2021-01-26 04:23:03,400 Train Evaluator INFO: Engine run complete. Time taken: 00:00:05\n",
      "2021-01-26 04:23:03,401 Val Evaluator INFO: Engine run starting with max_epochs=1.\n",
      "2021-01-26 04:23:05,170 Val Evaluator INFO: Epoch[1] Complete. Time taken: 00:00:02\n",
      "2021-01-26 04:23:06,744 Val Evaluator INFO: Engine run complete. Time taken: 00:00:03\n",
      "\u001b[34m\u001b[1mwandb\u001b[0m: \u001b[33mWARNING\u001b[0m Step must only increase in log calls.  Step 23 < 138; dropping {'lr/group_0': 0.001}.\n",
      "2021-01-26 04:23:06,756 Trainer INFO: Epoch[23] Complete. Time taken: 00:00:14\n"
     ]
    },
    {
     "name": "stdout",
     "output_type": "stream",
     "text": [
      "train loss 3.3222663783462796\n",
      "val loss 8.137273680645487\n",
      "validation roc auc [0.79508706 0.59701493] 23\n",
      "train roc auc [0.8217435  0.80375215] 23\n"
     ]
    },
    {
     "name": "stderr",
     "output_type": "stream",
     "text": [
      "2021-01-26 04:23:12,351 Train Evaluator INFO: Engine run starting with max_epochs=1.\n",
      "2021-01-26 04:23:17,011 Train Evaluator INFO: Epoch[1] Complete. Time taken: 00:00:05\n",
      "2021-01-26 04:23:17,013 Train Evaluator INFO: Engine run complete. Time taken: 00:00:05\n",
      "2021-01-26 04:23:17,015 Val Evaluator INFO: Engine run starting with max_epochs=1.\n",
      "2021-01-26 04:23:18,486 Val Evaluator INFO: Epoch[1] Complete. Time taken: 00:00:01\n",
      "2021-01-26 04:23:22,484 Val Evaluator INFO: Engine run complete. Time taken: 00:00:05\n",
      "\u001b[34m\u001b[1mwandb\u001b[0m: \u001b[33mWARNING\u001b[0m Step must only increase in log calls.  Step 24 < 144; dropping {'lr/group_0': 0.001}.\n",
      "2021-01-26 04:23:22,497 Trainer INFO: Epoch[24] Complete. Time taken: 00:00:16\n"
     ]
    },
    {
     "name": "stdout",
     "output_type": "stream",
     "text": [
      "train loss 9.207054403406628\n",
      "val loss 21.72832782579505\n",
      "validation roc auc [0.51274876 0.5556592 ] 24\n",
      "train roc auc [0.83470439 0.82553116] 24\n"
     ]
    },
    {
     "name": "stderr",
     "output_type": "stream",
     "text": [
      "2021-01-26 04:23:27,864 Train Evaluator INFO: Engine run starting with max_epochs=1.\n",
      "2021-01-26 04:23:32,820 Train Evaluator INFO: Epoch[1] Complete. Time taken: 00:00:05\n",
      "2021-01-26 04:23:32,823 Train Evaluator INFO: Engine run complete. Time taken: 00:00:05\n",
      "2021-01-26 04:23:32,824 Val Evaluator INFO: Engine run starting with max_epochs=1.\n",
      "2021-01-26 04:23:34,515 Val Evaluator INFO: Epoch[1] Complete. Time taken: 00:00:02\n",
      "2021-01-26 04:23:37,552 Val Evaluator INFO: Engine run complete. Time taken: 00:00:05\n",
      "\u001b[34m\u001b[1mwandb\u001b[0m: \u001b[33mWARNING\u001b[0m Step must only increase in log calls.  Step 25 < 150; dropping {'lr/group_0': 0.001}.\n",
      "2021-01-26 04:23:37,564 Trainer INFO: Epoch[25] Complete. Time taken: 00:00:15\n"
     ]
    },
    {
     "name": "stdout",
     "output_type": "stream",
     "text": [
      "train loss 6.969246994108843\n",
      "val loss 16.618502135898755\n",
      "validation roc auc [0.57120647 0.46952736] 25\n",
      "train roc auc [0.90643309 0.84133278] 25\n"
     ]
    },
    {
     "name": "stderr",
     "output_type": "stream",
     "text": [
      "2021-01-26 04:23:43,387 Train Evaluator INFO: Engine run starting with max_epochs=1.\n",
      "2021-01-26 04:23:49,066 Train Evaluator INFO: Epoch[1] Complete. Time taken: 00:00:06\n",
      "2021-01-26 04:23:49,069 Train Evaluator INFO: Engine run complete. Time taken: 00:00:06\n",
      "2021-01-26 04:23:49,070 Val Evaluator INFO: Engine run starting with max_epochs=1.\n",
      "2021-01-26 04:23:50,769 Val Evaluator INFO: Epoch[1] Complete. Time taken: 00:00:02\n",
      "2021-01-26 04:23:52,274 Val Evaluator INFO: Engine run complete. Time taken: 00:00:03\n",
      "\u001b[34m\u001b[1mwandb\u001b[0m: \u001b[33mWARNING\u001b[0m Step must only increase in log calls.  Step 26 < 156; dropping {'lr/group_0': 0.001}.\n",
      "2021-01-26 04:23:52,287 Trainer INFO: Epoch[26] Complete. Time taken: 00:00:15\n"
     ]
    },
    {
     "name": "stdout",
     "output_type": "stream",
     "text": [
      "train loss 3.9611865260897305\n",
      "val loss 9.716050910949708\n",
      "validation roc auc [0.69465174 0.53420398] 26\n",
      "train roc auc [0.91868379 0.88305616] 26\n"
     ]
    },
    {
     "name": "stderr",
     "output_type": "stream",
     "text": [
      "2021-01-26 04:23:57,588 Train Evaluator INFO: Engine run starting with max_epochs=1.\n",
      "2021-01-26 04:24:02,668 Train Evaluator INFO: Epoch[1] Complete. Time taken: 00:00:05\n",
      "2021-01-26 04:24:02,670 Train Evaluator INFO: Engine run complete. Time taken: 00:00:05\n",
      "2021-01-26 04:24:02,671 Val Evaluator INFO: Engine run starting with max_epochs=1.\n",
      "2021-01-26 04:24:04,724 Val Evaluator INFO: Epoch[1] Complete. Time taken: 00:00:02\n",
      "2021-01-26 04:24:06,417 Val Evaluator INFO: Engine run complete. Time taken: 00:00:04\n",
      "\u001b[34m\u001b[1mwandb\u001b[0m: \u001b[33mWARNING\u001b[0m Step must only increase in log calls.  Step 27 < 162; dropping {'lr/group_0': 0.001}.\n",
      "2021-01-26 04:24:06,434 Trainer INFO: Epoch[27] Complete. Time taken: 00:00:14\n"
     ]
    },
    {
     "name": "stdout",
     "output_type": "stream",
     "text": [
      "train loss 1.8233471135415975\n",
      "val loss 4.7321983752043355\n",
      "validation roc auc [0.78233831 0.58955224] 27\n",
      "train roc auc [0.91673078 0.91199621] 27\n"
     ]
    },
    {
     "name": "stderr",
     "output_type": "stream",
     "text": [
      "2021-01-26 04:24:11,675 Train Evaluator INFO: Engine run starting with max_epochs=1.\n",
      "2021-01-26 04:24:17,972 Train Evaluator INFO: Epoch[1] Complete. Time taken: 00:00:06\n",
      "2021-01-26 04:24:17,975 Train Evaluator INFO: Engine run complete. Time taken: 00:00:06\n",
      "2021-01-26 04:24:17,976 Val Evaluator INFO: Engine run starting with max_epochs=1.\n",
      "2021-01-26 04:24:19,744 Val Evaluator INFO: Epoch[1] Complete. Time taken: 00:00:02\n",
      "2021-01-26 04:24:19,745 Val Evaluator INFO: Engine run complete. Time taken: 00:00:02\n",
      "\u001b[34m\u001b[1mwandb\u001b[0m: \u001b[33mWARNING\u001b[0m Step must only increase in log calls.  Step 28 < 168; dropping {'lr/group_0': 0.001}.\n",
      "2021-01-26 04:24:19,752 Trainer INFO: Epoch[28] Complete. Time taken: 00:00:13\n"
     ]
    },
    {
     "name": "stdout",
     "output_type": "stream",
     "text": [
      "train loss 3.408392351054581\n",
      "val loss 8.504725601362145\n",
      "validation roc auc [0.52518657 0.47108209] 28\n",
      "train roc auc [0.98058827 0.9639581 ] 28\n"
     ]
    },
    {
     "name": "stderr",
     "output_type": "stream",
     "text": [
      "2021-01-26 04:24:25,349 Train Evaluator INFO: Engine run starting with max_epochs=1.\n",
      "2021-01-26 04:24:30,729 Train Evaluator INFO: Epoch[1] Complete. Time taken: 00:00:05\n",
      "2021-01-26 04:24:30,731 Train Evaluator INFO: Engine run complete. Time taken: 00:00:05\n",
      "2021-01-26 04:24:30,732 Val Evaluator INFO: Engine run starting with max_epochs=1.\n",
      "2021-01-26 04:24:32,556 Val Evaluator INFO: Epoch[1] Complete. Time taken: 00:00:02\n",
      "2021-01-26 04:24:34,141 Val Evaluator INFO: Engine run complete. Time taken: 00:00:03\n",
      "\u001b[34m\u001b[1mwandb\u001b[0m: \u001b[33mWARNING\u001b[0m Step must only increase in log calls.  Step 29 < 174; dropping {'lr/group_0': 0.001}.\n",
      "2021-01-26 04:24:34,153 Trainer INFO: Epoch[29] Complete. Time taken: 00:00:14\n"
     ]
    },
    {
     "name": "stdout",
     "output_type": "stream",
     "text": [
      "train loss 8.780709915612576\n",
      "val loss 7.02908643224965\n",
      "validation roc auc [0.68252488 0.5068408 ] 29\n",
      "train roc auc [0.8558324  0.98692076] 29\n"
     ]
    },
    {
     "name": "stderr",
     "output_type": "stream",
     "text": [
      "2021-01-26 04:24:40,149 Train Evaluator INFO: Engine run starting with max_epochs=1.\n",
      "2021-01-26 04:24:45,108 Train Evaluator INFO: Epoch[1] Complete. Time taken: 00:00:05\n",
      "2021-01-26 04:24:45,109 Train Evaluator INFO: Engine run complete. Time taken: 00:00:05\n",
      "2021-01-26 04:24:45,110 Val Evaluator INFO: Engine run starting with max_epochs=1.\n",
      "2021-01-26 04:24:46,762 Val Evaluator INFO: Epoch[1] Complete. Time taken: 00:00:02\n",
      "2021-01-26 04:24:48,237 Val Evaluator INFO: Engine run complete. Time taken: 00:00:03\n",
      "\u001b[34m\u001b[1mwandb\u001b[0m: \u001b[33mWARNING\u001b[0m Step must only increase in log calls.  Step 30 < 180; dropping {'lr/group_0': 0.001}.\n",
      "2021-01-26 04:24:48,250 Trainer INFO: Epoch[30] Complete. Time taken: 00:00:14\n"
     ]
    },
    {
     "name": "stdout",
     "output_type": "stream",
     "text": [
      "train loss 0.9827608049973934\n",
      "val loss 1.0896016960558683\n",
      "validation roc auc [0.67941542 0.57773632] 30\n",
      "train roc auc [0.96289282 0.91980825] 30\n"
     ]
    },
    {
     "name": "stderr",
     "output_type": "stream",
     "text": [
      "2021-01-26 04:24:54,215 Train Evaluator INFO: Engine run starting with max_epochs=1.\n",
      "2021-01-26 04:24:59,871 Train Evaluator INFO: Epoch[1] Complete. Time taken: 00:00:06\n",
      "2021-01-26 04:24:59,874 Train Evaluator INFO: Engine run complete. Time taken: 00:00:06\n",
      "2021-01-26 04:24:59,875 Val Evaluator INFO: Engine run starting with max_epochs=1.\n",
      "2021-01-26 04:25:01,768 Val Evaluator INFO: Epoch[1] Complete. Time taken: 00:00:02\n",
      "2021-01-26 04:25:03,313 Val Evaluator INFO: Engine run complete. Time taken: 00:00:03\n",
      "\u001b[34m\u001b[1mwandb\u001b[0m: \u001b[33mWARNING\u001b[0m Step must only increase in log calls.  Step 31 < 186; dropping {'lr/group_0': 0.001}.\n",
      "2021-01-26 04:25:03,327 Trainer INFO: Epoch[31] Complete. Time taken: 00:00:15\n"
     ]
    },
    {
     "name": "stdout",
     "output_type": "stream",
     "text": [
      "train loss 0.9497325998791576\n",
      "val loss 1.0176850339640742\n",
      "validation roc auc [0.66946517 0.59950249] 31\n",
      "train roc auc [0.93549151 0.89370894] 31\n"
     ]
    },
    {
     "name": "stderr",
     "output_type": "stream",
     "text": [
      "2021-01-26 04:25:08,868 Train Evaluator INFO: Engine run starting with max_epochs=1.\n",
      "2021-01-26 04:25:14,737 Train Evaluator INFO: Epoch[1] Complete. Time taken: 00:00:06\n",
      "2021-01-26 04:25:14,741 Train Evaluator INFO: Engine run complete. Time taken: 00:00:06\n",
      "2021-01-26 04:25:14,742 Val Evaluator INFO: Engine run starting with max_epochs=1.\n",
      "2021-01-26 04:25:16,603 Val Evaluator INFO: Epoch[1] Complete. Time taken: 00:00:02\n",
      "2021-01-26 04:25:18,389 Val Evaluator INFO: Engine run complete. Time taken: 00:00:04\n",
      "\u001b[34m\u001b[1mwandb\u001b[0m: \u001b[33mWARNING\u001b[0m Step must only increase in log calls.  Step 32 < 192; dropping {'lr/group_0': 0.001}.\n",
      "2021-01-26 04:25:18,401 Trainer INFO: Epoch[32] Complete. Time taken: 00:00:15\n"
     ]
    },
    {
     "name": "stdout",
     "output_type": "stream",
     "text": [
      "train loss 0.6078166824120742\n",
      "val loss 0.7100315861080004\n",
      "validation roc auc [0.77207711 0.66013682] 32\n",
      "train roc auc [0.97100077 0.9143635 ] 32\n"
     ]
    },
    {
     "name": "stderr",
     "output_type": "stream",
     "text": [
      "2021-01-26 04:25:23,747 Train Evaluator INFO: Engine run starting with max_epochs=1.\n",
      "2021-01-26 04:25:29,325 Train Evaluator INFO: Epoch[1] Complete. Time taken: 00:00:06\n",
      "2021-01-26 04:25:29,328 Train Evaluator INFO: Engine run complete. Time taken: 00:00:06\n",
      "2021-01-26 04:25:29,329 Val Evaluator INFO: Engine run starting with max_epochs=1.\n",
      "2021-01-26 04:25:31,155 Val Evaluator INFO: Epoch[1] Complete. Time taken: 00:00:02\n",
      "2021-01-26 04:25:33,065 Val Evaluator INFO: Engine run complete. Time taken: 00:00:04\n",
      "\u001b[34m\u001b[1mwandb\u001b[0m: \u001b[33mWARNING\u001b[0m Step must only increase in log calls.  Step 33 < 198; dropping {'lr/group_0': 0.001}.\n",
      "2021-01-26 04:25:33,077 Trainer INFO: Epoch[33] Complete. Time taken: 00:00:15\n"
     ]
    },
    {
     "name": "stdout",
     "output_type": "stream",
     "text": [
      "train loss 0.4517896034308439\n",
      "val loss 0.6313796857128973\n",
      "validation roc auc [0.84950249 0.7335199 ] 33\n",
      "train roc auc [0.99384506 0.94330355] 33\n"
     ]
    },
    {
     "name": "stderr",
     "output_type": "stream",
     "text": [
      "2021-01-26 04:25:38,681 Train Evaluator INFO: Engine run starting with max_epochs=1.\n",
      "2021-01-26 04:25:44,515 Train Evaluator INFO: Epoch[1] Complete. Time taken: 00:00:06\n",
      "2021-01-26 04:25:44,518 Train Evaluator INFO: Engine run complete. Time taken: 00:00:06\n",
      "2021-01-26 04:25:44,519 Val Evaluator INFO: Engine run starting with max_epochs=1.\n",
      "2021-01-26 04:25:46,412 Val Evaluator INFO: Epoch[1] Complete. Time taken: 00:00:02\n",
      "2021-01-26 04:25:48,243 Val Evaluator INFO: Engine run complete. Time taken: 00:00:04\n",
      "\u001b[34m\u001b[1mwandb\u001b[0m: \u001b[33mWARNING\u001b[0m Step must only increase in log calls.  Step 34 < 204; dropping {'lr/group_0': 0.001}.\n",
      "2021-01-26 04:25:48,256 Trainer INFO: Epoch[34] Complete. Time taken: 00:00:15\n"
     ]
    },
    {
     "name": "stdout",
     "output_type": "stream",
     "text": [
      "train loss 0.3728605059124309\n",
      "val loss 0.6763728281726008\n",
      "validation roc auc [0.8454602  0.80161692] 34\n",
      "train roc auc [0.99757353 0.9718885 ] 34\n"
     ]
    },
    {
     "name": "stderr",
     "output_type": "stream",
     "text": [
      "2021-01-26 04:25:53,743 Train Evaluator INFO: Engine run starting with max_epochs=1.\n",
      "2021-01-26 04:25:59,529 Train Evaluator INFO: Epoch[1] Complete. Time taken: 00:00:06\n",
      "2021-01-26 04:25:59,530 Train Evaluator INFO: Engine run complete. Time taken: 00:00:06\n",
      "2021-01-26 04:25:59,531 Val Evaluator INFO: Engine run starting with max_epochs=1.\n",
      "2021-01-26 04:26:01,508 Val Evaluator INFO: Epoch[1] Complete. Time taken: 00:00:02\n",
      "2021-01-26 04:26:03,472 Val Evaluator INFO: Engine run complete. Time taken: 00:00:04\n",
      "\u001b[34m\u001b[1mwandb\u001b[0m: \u001b[33mWARNING\u001b[0m Step must only increase in log calls.  Step 35 < 210; dropping {'lr/group_0': 0.001}.\n",
      "2021-01-26 04:26:03,485 Trainer INFO: Epoch[35] Complete. Time taken: 00:00:15\n"
     ]
    },
    {
     "name": "stdout",
     "output_type": "stream",
     "text": [
      "train loss 0.3441333333416098\n",
      "val loss 0.787383580726126\n",
      "validation roc auc [0.83675373 0.84172886] 35\n",
      "train roc auc [0.9976919  0.98739421] 35\n"
     ]
    },
    {
     "name": "stderr",
     "output_type": "stream",
     "text": [
      "2021-01-26 04:26:09,209 Train Evaluator INFO: Engine run starting with max_epochs=1.\n",
      "2021-01-26 04:26:14,720 Train Evaluator INFO: Epoch[1] Complete. Time taken: 00:00:06\n",
      "2021-01-26 04:26:14,723 Train Evaluator INFO: Engine run complete. Time taken: 00:00:06\n",
      "2021-01-26 04:26:14,724 Val Evaluator INFO: Engine run starting with max_epochs=1.\n",
      "2021-01-26 04:26:16,842 Val Evaluator INFO: Epoch[1] Complete. Time taken: 00:00:02\n",
      "2021-01-26 04:26:18,741 Val Evaluator INFO: Engine run complete. Time taken: 00:00:04\n",
      "\u001b[34m\u001b[1mwandb\u001b[0m: \u001b[33mWARNING\u001b[0m Step must only increase in log calls.  Step 36 < 216; dropping {'lr/group_0': 0.001}.\n",
      "2021-01-26 04:26:18,753 Trainer INFO: Epoch[36] Complete. Time taken: 00:00:15\n"
     ]
    },
    {
     "name": "stdout",
     "output_type": "stream",
     "text": [
      "train loss 0.34124789276772\n",
      "val loss 0.8745015045870905\n",
      "validation roc auc [0.83675373 0.83893035] 36\n",
      "train roc auc [0.99928981 0.99230633] 36\n"
     ]
    },
    {
     "name": "stderr",
     "output_type": "stream",
     "text": [
      "2021-01-26 04:26:24,071 Train Evaluator INFO: Engine run starting with max_epochs=1.\n",
      "2021-01-26 04:26:29,834 Train Evaluator INFO: Epoch[1] Complete. Time taken: 00:00:06\n",
      "2021-01-26 04:26:29,837 Train Evaluator INFO: Engine run complete. Time taken: 00:00:06\n",
      "2021-01-26 04:26:29,838 Val Evaluator INFO: Engine run starting with max_epochs=1.\n",
      "2021-01-26 04:26:31,714 Val Evaluator INFO: Epoch[1] Complete. Time taken: 00:00:02\n",
      "2021-01-26 04:26:33,657 Val Evaluator INFO: Engine run complete. Time taken: 00:00:04\n",
      "\u001b[34m\u001b[1mwandb\u001b[0m: \u001b[33mWARNING\u001b[0m Step must only increase in log calls.  Step 37 < 222; dropping {'lr/group_0': 0.001}.\n",
      "2021-01-26 04:26:33,705 Trainer INFO: Epoch[37] Complete. Time taken: 00:00:15\n"
     ]
    },
    {
     "name": "stdout",
     "output_type": "stream",
     "text": [
      "train loss 0.3295052220835488\n",
      "val loss 0.8457257120505624\n",
      "validation roc auc [0.84483831 0.8358209 ] 37\n",
      "train roc auc [0.99994082 0.99153696] 37\n"
     ]
    },
    {
     "name": "stderr",
     "output_type": "stream",
     "text": [
      "2021-01-26 04:26:39,332 Train Evaluator INFO: Engine run starting with max_epochs=1.\n",
      "2021-01-26 04:26:44,854 Train Evaluator INFO: Epoch[1] Complete. Time taken: 00:00:06\n",
      "2021-01-26 04:26:44,857 Train Evaluator INFO: Engine run complete. Time taken: 00:00:06\n",
      "2021-01-26 04:26:44,858 Val Evaluator INFO: Engine run starting with max_epochs=1.\n",
      "2021-01-26 04:26:47,105 Val Evaluator INFO: Epoch[1] Complete. Time taken: 00:00:02\n",
      "2021-01-26 04:26:48,736 Val Evaluator INFO: Engine run complete. Time taken: 00:00:04\n",
      "\u001b[34m\u001b[1mwandb\u001b[0m: \u001b[33mWARNING\u001b[0m Step must only increase in log calls.  Step 38 < 228; dropping {'lr/group_0': 0.001}.\n",
      "2021-01-26 04:26:48,748 Trainer INFO: Epoch[38] Complete. Time taken: 00:00:15\n"
     ]
    },
    {
     "name": "stdout",
     "output_type": "stream",
     "text": [
      "train loss 0.3200202422029168\n",
      "val loss 0.7735116875689962\n",
      "validation roc auc [0.85416667 0.83488806] 38\n",
      "train roc auc [0.99982245 0.99076759] 38\n"
     ]
    },
    {
     "name": "stderr",
     "output_type": "stream",
     "text": [
      "2021-01-26 04:26:54,742 Train Evaluator INFO: Engine run starting with max_epochs=1.\n",
      "2021-01-26 04:27:00,158 Train Evaluator INFO: Epoch[1] Complete. Time taken: 00:00:05\n",
      "2021-01-26 04:27:00,161 Train Evaluator INFO: Engine run complete. Time taken: 00:00:05\n",
      "2021-01-26 04:27:00,162 Val Evaluator INFO: Engine run starting with max_epochs=1.\n",
      "2021-01-26 04:27:02,198 Val Evaluator INFO: Epoch[1] Complete. Time taken: 00:00:02\n",
      "2021-01-26 04:27:03,877 Val Evaluator INFO: Engine run complete. Time taken: 00:00:04\n",
      "\u001b[34m\u001b[1mwandb\u001b[0m: \u001b[33mWARNING\u001b[0m Step must only increase in log calls.  Step 39 < 234; dropping {'lr/group_0': 0.001}.\n",
      "2021-01-26 04:27:03,891 Trainer INFO: Epoch[39] Complete. Time taken: 00:00:15\n"
     ]
    },
    {
     "name": "stdout",
     "output_type": "stream",
     "text": [
      "train loss 0.31649898962509\n",
      "val loss 0.7480774677318075\n",
      "validation roc auc [0.85914179 0.83613184] 39\n",
      "train roc auc [0.99970409 0.99195123] 39\n"
     ]
    },
    {
     "name": "stderr",
     "output_type": "stream",
     "text": [
      "2021-01-26 04:27:09,581 Train Evaluator INFO: Engine run starting with max_epochs=1.\n",
      "2021-01-26 04:27:15,133 Train Evaluator INFO: Epoch[1] Complete. Time taken: 00:00:06\n",
      "2021-01-26 04:27:15,136 Train Evaluator INFO: Engine run complete. Time taken: 00:00:06\n",
      "2021-01-26 04:27:15,137 Val Evaluator INFO: Engine run starting with max_epochs=1.\n",
      "2021-01-26 04:27:17,529 Val Evaluator INFO: Epoch[1] Complete. Time taken: 00:00:02\n",
      "2021-01-26 04:27:19,138 Val Evaluator INFO: Engine run complete. Time taken: 00:00:04\n",
      "\u001b[34m\u001b[1mwandb\u001b[0m: \u001b[33mWARNING\u001b[0m Step must only increase in log calls.  Step 40 < 240; dropping {'lr/group_0': 0.001}.\n",
      "2021-01-26 04:27:19,151 Trainer INFO: Epoch[40] Complete. Time taken: 00:00:15\n"
     ]
    },
    {
     "name": "stdout",
     "output_type": "stream",
     "text": [
      "train loss 0.3103311974445038\n",
      "val loss 0.7485485636669656\n",
      "validation roc auc [0.86038557 0.83799751] 40\n",
      "train roc auc [0.99982245 0.99390424] 40\n"
     ]
    },
    {
     "name": "stderr",
     "output_type": "stream",
     "text": [
      "2021-01-26 04:27:24,947 Train Evaluator INFO: Engine run starting with max_epochs=1.\n",
      "2021-01-26 04:27:30,800 Train Evaluator INFO: Epoch[1] Complete. Time taken: 00:00:06\n",
      "2021-01-26 04:27:30,803 Train Evaluator INFO: Engine run complete. Time taken: 00:00:06\n",
      "2021-01-26 04:27:30,804 Val Evaluator INFO: Engine run starting with max_epochs=1.\n",
      "2021-01-26 04:27:32,812 Val Evaluator INFO: Epoch[1] Complete. Time taken: 00:00:02\n",
      "2021-01-26 04:27:34,533 Val Evaluator INFO: Engine run complete. Time taken: 00:00:04\n",
      "\u001b[34m\u001b[1mwandb\u001b[0m: \u001b[33mWARNING\u001b[0m Step must only increase in log calls.  Step 41 < 246; dropping {'lr/group_0': 0.001}.\n",
      "2021-01-26 04:27:34,545 Trainer INFO: Epoch[41] Complete. Time taken: 00:00:15\n"
     ]
    },
    {
     "name": "stdout",
     "output_type": "stream",
     "text": [
      "train loss 0.30283406482645747\n",
      "val loss 0.7626071100649626\n",
      "validation roc auc [0.86007463 0.84297264] 41\n",
      "train roc auc [0.99994082 0.99496952] 41\n"
     ]
    },
    {
     "name": "stderr",
     "output_type": "stream",
     "text": [
      "2021-01-26 04:27:40,252 Train Evaluator INFO: Engine run starting with max_epochs=1.\n",
      "2021-01-26 04:27:44,969 Train Evaluator INFO: Epoch[1] Complete. Time taken: 00:00:05\n",
      "2021-01-26 04:27:44,971 Train Evaluator INFO: Engine run complete. Time taken: 00:00:05\n",
      "2021-01-26 04:27:44,972 Val Evaluator INFO: Engine run starting with max_epochs=1.\n",
      "2021-01-26 04:27:47,194 Val Evaluator INFO: Epoch[1] Complete. Time taken: 00:00:02\n",
      "2021-01-26 04:27:48,970 Val Evaluator INFO: Engine run complete. Time taken: 00:00:04\n",
      "\u001b[34m\u001b[1mwandb\u001b[0m: \u001b[33mWARNING\u001b[0m Step must only increase in log calls.  Step 42 < 252; dropping {'lr/group_0': 0.001}.\n",
      "2021-01-26 04:27:48,982 Trainer INFO: Epoch[42] Complete. Time taken: 00:00:14\n"
     ]
    },
    {
     "name": "stdout",
     "output_type": "stream",
     "text": [
      "train loss 0.2966648980357943\n",
      "val loss 0.787560702925143\n",
      "validation roc auc [0.85914179 0.84297264] 42\n",
      "train roc auc [0.99994082 0.99591643] 42\n"
     ]
    },
    {
     "name": "stderr",
     "output_type": "stream",
     "text": [
      "2021-01-26 04:27:54,428 Train Evaluator INFO: Engine run starting with max_epochs=1.\n",
      "2021-01-26 04:27:59,632 Train Evaluator INFO: Epoch[1] Complete. Time taken: 00:00:05\n",
      "2021-01-26 04:27:59,635 Train Evaluator INFO: Engine run complete. Time taken: 00:00:05\n",
      "2021-01-26 04:27:59,636 Val Evaluator INFO: Engine run starting with max_epochs=1.\n",
      "2021-01-26 04:28:01,438 Val Evaluator INFO: Epoch[1] Complete. Time taken: 00:00:02\n",
      "2021-01-26 04:28:03,332 Val Evaluator INFO: Engine run complete. Time taken: 00:00:04\n",
      "\u001b[34m\u001b[1mwandb\u001b[0m: \u001b[33mWARNING\u001b[0m Step must only increase in log calls.  Step 43 < 258; dropping {'lr/group_0': 0.001}.\n",
      "2021-01-26 04:28:03,345 Trainer INFO: Epoch[43] Complete. Time taken: 00:00:14\n"
     ]
    },
    {
     "name": "stdout",
     "output_type": "stream",
     "text": [
      "train loss 0.2898768375258474\n",
      "val loss 0.7767829065737517\n",
      "validation roc auc [0.85758706 0.84266169] 43\n",
      "train roc auc [0.99994082 0.99609398] 43\n"
     ]
    },
    {
     "name": "stderr",
     "output_type": "stream",
     "text": [
      "2021-01-26 04:28:09,414 Train Evaluator INFO: Engine run starting with max_epochs=1.\n",
      "2021-01-26 04:28:14,799 Train Evaluator INFO: Epoch[1] Complete. Time taken: 00:00:05\n",
      "2021-01-26 04:28:14,803 Train Evaluator INFO: Engine run complete. Time taken: 00:00:05\n",
      "2021-01-26 04:28:14,804 Val Evaluator INFO: Engine run starting with max_epochs=1.\n",
      "2021-01-26 04:28:16,613 Val Evaluator INFO: Epoch[1] Complete. Time taken: 00:00:02\n",
      "2021-01-26 04:28:18,634 Val Evaluator INFO: Engine run complete. Time taken: 00:00:04\n",
      "\u001b[34m\u001b[1mwandb\u001b[0m: \u001b[33mWARNING\u001b[0m Step must only increase in log calls.  Step 44 < 264; dropping {'lr/group_0': 0.001}.\n",
      "2021-01-26 04:28:18,647 Trainer INFO: Epoch[44] Complete. Time taken: 00:00:15\n"
     ]
    },
    {
     "name": "stdout",
     "output_type": "stream",
     "text": [
      "train loss 0.28325928051090804\n",
      "val loss 0.7548394747402357\n",
      "validation roc auc [0.85883085 0.84452736] 44\n",
      "train roc auc [0.99994082 0.99562052] 44\n"
     ]
    },
    {
     "name": "stderr",
     "output_type": "stream",
     "text": [
      "2021-01-26 04:28:24,322 Train Evaluator INFO: Engine run starting with max_epochs=1.\n",
      "2021-01-26 04:28:29,620 Train Evaluator INFO: Epoch[1] Complete. Time taken: 00:00:05\n",
      "2021-01-26 04:28:29,623 Train Evaluator INFO: Engine run complete. Time taken: 00:00:05\n",
      "2021-01-26 04:28:29,624 Val Evaluator INFO: Engine run starting with max_epochs=1.\n",
      "2021-01-26 04:28:31,762 Val Evaluator INFO: Epoch[1] Complete. Time taken: 00:00:02\n",
      "2021-01-26 04:28:33,747 Val Evaluator INFO: Engine run complete. Time taken: 00:00:04\n",
      "\u001b[34m\u001b[1mwandb\u001b[0m: \u001b[33mWARNING\u001b[0m Step must only increase in log calls.  Step 45 < 270; dropping {'lr/group_0': 0.001}.\n",
      "2021-01-26 04:28:33,760 Trainer INFO: Epoch[45] Complete. Time taken: 00:00:15\n"
     ]
    },
    {
     "name": "stdout",
     "output_type": "stream",
     "text": [
      "train loss 0.2768824354431333\n",
      "val loss 0.7490781613018201\n",
      "validation roc auc [0.85634328 0.84235075] 45\n",
      "train roc auc [0.99994082 0.99573889] 45\n"
     ]
    },
    {
     "name": "stderr",
     "output_type": "stream",
     "text": [
      "2021-01-26 04:28:39,756 Train Evaluator INFO: Engine run starting with max_epochs=1.\n",
      "2021-01-26 04:28:44,727 Train Evaluator INFO: Epoch[1] Complete. Time taken: 00:00:05\n",
      "2021-01-26 04:28:44,729 Train Evaluator INFO: Engine run complete. Time taken: 00:00:05\n",
      "2021-01-26 04:28:44,730 Val Evaluator INFO: Engine run starting with max_epochs=1.\n",
      "2021-01-26 04:28:46,489 Val Evaluator INFO: Epoch[1] Complete. Time taken: 00:00:02\n",
      "2021-01-26 04:28:48,438 Val Evaluator INFO: Engine run complete. Time taken: 00:00:04\n",
      "\u001b[34m\u001b[1mwandb\u001b[0m: \u001b[33mWARNING\u001b[0m Step must only increase in log calls.  Step 46 < 276; dropping {'lr/group_0': 0.001}.\n",
      "2021-01-26 04:28:48,451 Trainer INFO: Epoch[46] Complete. Time taken: 00:00:15\n"
     ]
    },
    {
     "name": "stdout",
     "output_type": "stream",
     "text": [
      "train loss 0.27042659420586196\n",
      "val loss 0.7497838429782702\n",
      "validation roc auc [0.85696517 0.83550995] 46\n",
      "train roc auc [0.99994082 0.99567971] 46\n"
     ]
    },
    {
     "name": "stderr",
     "output_type": "stream",
     "text": [
      "2021-01-26 04:28:54,357 Train Evaluator INFO: Engine run starting with max_epochs=1.\n",
      "2021-01-26 04:28:59,091 Train Evaluator INFO: Epoch[1] Complete. Time taken: 00:00:05\n",
      "2021-01-26 04:28:59,093 Train Evaluator INFO: Engine run complete. Time taken: 00:00:05\n",
      "2021-01-26 04:28:59,093 Val Evaluator INFO: Engine run starting with max_epochs=1.\n",
      "2021-01-26 04:29:00,888 Val Evaluator INFO: Epoch[1] Complete. Time taken: 00:00:02\n",
      "2021-01-26 04:29:02,690 Val Evaluator INFO: Engine run complete. Time taken: 00:00:04\n",
      "\u001b[34m\u001b[1mwandb\u001b[0m: \u001b[33mWARNING\u001b[0m Step must only increase in log calls.  Step 47 < 282; dropping {'lr/group_0': 0.001}.\n",
      "2021-01-26 04:29:02,704 Trainer INFO: Epoch[47] Complete. Time taken: 00:00:14\n"
     ]
    },
    {
     "name": "stdout",
     "output_type": "stream",
     "text": [
      "train loss 0.2639754575032454\n",
      "val loss 0.7505361173463905\n",
      "validation roc auc [0.85447761 0.82866915] 47\n",
      "train roc auc [0.99988164 0.99562052] 47\n"
     ]
    },
    {
     "name": "stderr",
     "output_type": "stream",
     "text": [
      "2021-01-26 04:29:07,989 Train Evaluator INFO: Engine run starting with max_epochs=1.\n",
      "2021-01-26 04:29:13,241 Train Evaluator INFO: Epoch[1] Complete. Time taken: 00:00:05\n",
      "2021-01-26 04:29:13,243 Train Evaluator INFO: Engine run complete. Time taken: 00:00:05\n",
      "2021-01-26 04:29:13,244 Val Evaluator INFO: Engine run starting with max_epochs=1.\n",
      "2021-01-26 04:29:15,121 Val Evaluator INFO: Epoch[1] Complete. Time taken: 00:00:02\n",
      "2021-01-26 04:29:15,122 Val Evaluator INFO: Engine run complete. Time taken: 00:00:02\n",
      "\u001b[34m\u001b[1mwandb\u001b[0m: \u001b[33mWARNING\u001b[0m Step must only increase in log calls.  Step 48 < 288; dropping {'lr/group_0': 0.001}.\n",
      "2021-01-26 04:29:15,129 Trainer INFO: Epoch[48] Complete. Time taken: 00:00:12\n"
     ]
    },
    {
     "name": "stdout",
     "output_type": "stream",
     "text": [
      "train loss 0.257908507388019\n",
      "val loss 0.7637350056482398\n",
      "validation roc auc [0.85261194 0.82245025] 48\n",
      "train roc auc [1.         0.99597562] 48\n"
     ]
    },
    {
     "name": "stderr",
     "output_type": "stream",
     "text": [
      "2021-01-26 04:29:21,054 Train Evaluator INFO: Engine run starting with max_epochs=1.\n",
      "2021-01-26 04:29:26,525 Train Evaluator INFO: Epoch[1] Complete. Time taken: 00:00:05\n",
      "2021-01-26 04:29:26,527 Train Evaluator INFO: Engine run complete. Time taken: 00:00:05\n",
      "2021-01-26 04:29:26,529 Val Evaluator INFO: Engine run starting with max_epochs=1.\n",
      "2021-01-26 04:29:28,508 Val Evaluator INFO: Epoch[1] Complete. Time taken: 00:00:02\n",
      "2021-01-26 04:29:28,510 Val Evaluator INFO: Engine run complete. Time taken: 00:00:02\n",
      "\u001b[34m\u001b[1mwandb\u001b[0m: \u001b[33mWARNING\u001b[0m Step must only increase in log calls.  Step 49 < 294; dropping {'lr/group_0': 0.001}.\n",
      "2021-01-26 04:29:28,517 Trainer INFO: Epoch[49] Complete. Time taken: 00:00:13\n"
     ]
    },
    {
     "name": "stdout",
     "output_type": "stream",
     "text": [
      "train loss 0.2517133455657395\n",
      "val loss 0.7592102128526439\n",
      "validation roc auc [0.85105721 0.8159204 ] 49\n",
      "train roc auc [0.99994082 0.9960348 ] 49\n"
     ]
    },
    {
     "name": "stderr",
     "output_type": "stream",
     "text": [
      "2021-01-26 04:29:34,521 Train Evaluator INFO: Engine run starting with max_epochs=1.\n",
      "2021-01-26 04:29:39,698 Train Evaluator INFO: Epoch[1] Complete. Time taken: 00:00:05\n",
      "2021-01-26 04:29:39,701 Train Evaluator INFO: Engine run complete. Time taken: 00:00:05\n",
      "2021-01-26 04:29:39,702 Val Evaluator INFO: Engine run starting with max_epochs=1.\n",
      "2021-01-26 04:29:41,470 Val Evaluator INFO: Epoch[1] Complete. Time taken: 00:00:02\n",
      "2021-01-26 04:29:41,474 Val Evaluator INFO: Engine run complete. Time taken: 00:00:02\n",
      "\u001b[34m\u001b[1mwandb\u001b[0m: \u001b[33mWARNING\u001b[0m Step must only increase in log calls.  Step 50 < 300; dropping {'lr/group_0': 0.001}.\n",
      "2021-01-26 04:29:41,483 Trainer INFO: Epoch[50] Complete. Time taken: 00:00:13\n"
     ]
    },
    {
     "name": "stdout",
     "output_type": "stream",
     "text": [
      "train loss 0.24556314116398964\n",
      "val loss 0.737830516566401\n",
      "validation roc auc [0.84763682 0.80752488] 50\n",
      "train roc auc [0.99994082 0.99585725] 50\n"
     ]
    },
    {
     "name": "stderr",
     "output_type": "stream",
     "text": [
      "2021-01-26 04:29:46,862 Train Evaluator INFO: Engine run starting with max_epochs=1.\n",
      "2021-01-26 04:29:52,206 Train Evaluator INFO: Epoch[1] Complete. Time taken: 00:00:05\n",
      "2021-01-26 04:29:52,209 Train Evaluator INFO: Engine run complete. Time taken: 00:00:05\n",
      "2021-01-26 04:29:52,210 Val Evaluator INFO: Engine run starting with max_epochs=1.\n",
      "2021-01-26 04:29:54,404 Val Evaluator INFO: Epoch[1] Complete. Time taken: 00:00:02\n",
      "2021-01-26 04:29:54,406 Val Evaluator INFO: Engine run complete. Time taken: 00:00:02\n",
      "\u001b[34m\u001b[1mwandb\u001b[0m: \u001b[33mWARNING\u001b[0m Step must only increase in log calls.  Step 51 < 306; dropping {'lr/group_0': 0.001}.\n",
      "2021-01-26 04:29:54,414 Trainer INFO: Epoch[51] Complete. Time taken: 00:00:13\n"
     ]
    },
    {
     "name": "stdout",
     "output_type": "stream",
     "text": [
      "train loss 0.239414480575443\n",
      "val loss 0.7513907380726026\n",
      "validation roc auc [0.84732587 0.80068408] 51\n",
      "train roc auc [0.99994082 0.99591643] 51\n"
     ]
    },
    {
     "name": "stderr",
     "output_type": "stream",
     "text": [
      "2021-01-26 04:30:00,266 Train Evaluator INFO: Engine run starting with max_epochs=1.\n",
      "2021-01-26 04:30:06,457 Train Evaluator INFO: Epoch[1] Complete. Time taken: 00:00:06\n",
      "2021-01-26 04:30:06,458 Train Evaluator INFO: Engine run complete. Time taken: 00:00:06\n",
      "2021-01-26 04:30:06,459 Val Evaluator INFO: Engine run starting with max_epochs=1.\n",
      "2021-01-26 04:30:08,077 Val Evaluator INFO: Epoch[1] Complete. Time taken: 00:00:02\n",
      "2021-01-26 04:30:08,079 Val Evaluator INFO: Engine run complete. Time taken: 00:00:02\n",
      "\u001b[34m\u001b[1mwandb\u001b[0m: \u001b[33mWARNING\u001b[0m Step must only increase in log calls.  Step 52 < 312; dropping {'lr/group_0': 0.001}.\n",
      "2021-01-26 04:30:08,087 Trainer INFO: Epoch[52] Complete. Time taken: 00:00:14\n"
     ]
    },
    {
     "name": "stdout",
     "output_type": "stream",
     "text": [
      "train loss 0.23352947002331886\n",
      "val loss 0.7297524965327719\n",
      "validation roc auc [0.84577114 0.7925995 ] 52\n",
      "train roc auc [0.99994082 0.99562052] 52\n"
     ]
    },
    {
     "name": "stderr",
     "output_type": "stream",
     "text": [
      "2021-01-26 04:30:13,481 Train Evaluator INFO: Engine run starting with max_epochs=1.\n",
      "2021-01-26 04:30:18,340 Train Evaluator INFO: Epoch[1] Complete. Time taken: 00:00:05\n",
      "2021-01-26 04:30:18,343 Train Evaluator INFO: Engine run complete. Time taken: 00:00:05\n",
      "2021-01-26 04:30:18,345 Val Evaluator INFO: Engine run starting with max_epochs=1.\n",
      "2021-01-26 04:30:20,284 Val Evaluator INFO: Epoch[1] Complete. Time taken: 00:00:02\n",
      "2021-01-26 04:30:20,285 Val Evaluator INFO: Engine run complete. Time taken: 00:00:02\n",
      "\u001b[34m\u001b[1mwandb\u001b[0m: \u001b[33mWARNING\u001b[0m Step must only increase in log calls.  Step 53 < 318; dropping {'lr/group_0': 0.001}.\n",
      "2021-01-26 04:30:20,294 Trainer INFO: Epoch[53] Complete. Time taken: 00:00:12\n"
     ]
    },
    {
     "name": "stdout",
     "output_type": "stream",
     "text": [
      "train loss 0.22733542455371314\n",
      "val loss 0.7542225376419399\n",
      "validation roc auc [0.84110697 0.78420398] 53\n",
      "train roc auc [1.         0.99591643] 53\n"
     ]
    },
    {
     "name": "stderr",
     "output_type": "stream",
     "text": [
      "2021-01-26 04:30:25,645 Train Evaluator INFO: Engine run starting with max_epochs=1.\n",
      "2021-01-26 04:30:30,765 Train Evaluator INFO: Epoch[1] Complete. Time taken: 00:00:05\n",
      "2021-01-26 04:30:30,768 Train Evaluator INFO: Engine run complete. Time taken: 00:00:05\n",
      "2021-01-26 04:30:30,769 Val Evaluator INFO: Engine run starting with max_epochs=1.\n",
      "2021-01-26 04:30:32,650 Val Evaluator INFO: Epoch[1] Complete. Time taken: 00:00:02\n",
      "2021-01-26 04:30:32,651 Val Evaluator INFO: Engine run complete. Time taken: 00:00:02\n",
      "\u001b[34m\u001b[1mwandb\u001b[0m: \u001b[33mWARNING\u001b[0m Step must only increase in log calls.  Step 54 < 324; dropping {'lr/group_0': 0.001}.\n",
      "2021-01-26 04:30:32,658 Trainer INFO: Epoch[54] Complete. Time taken: 00:00:12\n"
     ]
    },
    {
     "name": "stdout",
     "output_type": "stream",
     "text": [
      "train loss 0.22156024402415259\n",
      "val loss 0.7301075411879498\n",
      "validation roc auc [0.83737562 0.77860697] 54\n",
      "train roc auc [1.         0.99597562] 54\n"
     ]
    },
    {
     "name": "stderr",
     "output_type": "stream",
     "text": [
      "2021-01-26 04:30:38,079 Train Evaluator INFO: Engine run starting with max_epochs=1.\n",
      "2021-01-26 04:30:43,179 Train Evaluator INFO: Epoch[1] Complete. Time taken: 00:00:05\n",
      "2021-01-26 04:30:43,182 Train Evaluator INFO: Engine run complete. Time taken: 00:00:05\n",
      "2021-01-26 04:30:43,183 Val Evaluator INFO: Engine run starting with max_epochs=1.\n",
      "2021-01-26 04:30:44,872 Val Evaluator INFO: Epoch[1] Complete. Time taken: 00:00:02\n",
      "2021-01-26 04:30:44,874 Val Evaluator INFO: Engine run complete. Time taken: 00:00:02\n",
      "\u001b[34m\u001b[1mwandb\u001b[0m: \u001b[33mWARNING\u001b[0m Step must only increase in log calls.  Step 55 < 330; dropping {'lr/group_0': 0.001}.\n",
      "2021-01-26 04:30:44,881 Trainer INFO: Epoch[55] Complete. Time taken: 00:00:12\n"
     ]
    },
    {
     "name": "stdout",
     "output_type": "stream",
     "text": [
      "train loss 0.21541270014097\n",
      "val loss 0.7392474863840186\n",
      "validation roc auc [0.8358209  0.77052239] 55\n",
      "train roc auc [1.         0.99591643] 55\n"
     ]
    },
    {
     "name": "stderr",
     "output_type": "stream",
     "text": [
      "2021-01-26 04:30:49,861 Train Evaluator INFO: Engine run starting with max_epochs=1.\n",
      "2021-01-26 04:30:55,072 Train Evaluator INFO: Epoch[1] Complete. Time taken: 00:00:05\n",
      "2021-01-26 04:30:55,075 Train Evaluator INFO: Engine run complete. Time taken: 00:00:05\n",
      "2021-01-26 04:30:55,076 Val Evaluator INFO: Engine run starting with max_epochs=1.\n",
      "2021-01-26 04:30:56,745 Val Evaluator INFO: Epoch[1] Complete. Time taken: 00:00:02\n",
      "2021-01-26 04:30:56,747 Val Evaluator INFO: Engine run complete. Time taken: 00:00:02\n",
      "\u001b[34m\u001b[1mwandb\u001b[0m: \u001b[33mWARNING\u001b[0m Step must only increase in log calls.  Step 56 < 336; dropping {'lr/group_0': 0.001}.\n",
      "2021-01-26 04:30:56,754 Trainer INFO: Epoch[56] Complete. Time taken: 00:00:12\n"
     ]
    },
    {
     "name": "stdout",
     "output_type": "stream",
     "text": [
      "train loss 0.2099601545277432\n",
      "val loss 0.7715291038803432\n",
      "validation roc auc [0.83146766 0.75901741] 56\n",
      "train roc auc [1.         0.99656744] 56\n"
     ]
    },
    {
     "name": "stderr",
     "output_type": "stream",
     "text": [
      "2021-01-26 04:31:02,656 Train Evaluator INFO: Engine run starting with max_epochs=1.\n",
      "2021-01-26 04:31:07,438 Train Evaluator INFO: Epoch[1] Complete. Time taken: 00:00:05\n",
      "2021-01-26 04:31:07,440 Train Evaluator INFO: Engine run complete. Time taken: 00:00:05\n",
      "2021-01-26 04:31:07,441 Val Evaluator INFO: Engine run starting with max_epochs=1.\n",
      "2021-01-26 04:31:09,372 Val Evaluator INFO: Epoch[1] Complete. Time taken: 00:00:02\n",
      "2021-01-26 04:31:09,374 Val Evaluator INFO: Engine run complete. Time taken: 00:00:02\n",
      "\u001b[34m\u001b[1mwandb\u001b[0m: \u001b[33mWARNING\u001b[0m Step must only increase in log calls.  Step 57 < 342; dropping {'lr/group_0': 0.001}.\n",
      "2021-01-26 04:31:09,381 Trainer INFO: Epoch[57] Complete. Time taken: 00:00:13\n"
     ]
    },
    {
     "name": "stdout",
     "output_type": "stream",
     "text": [
      "train loss 0.2037432872243887\n",
      "val loss 0.7530529727106509\n",
      "validation roc auc [0.82587065 0.7534204 ] 57\n",
      "train roc auc [1.         0.99638989] 57\n"
     ]
    },
    {
     "name": "stderr",
     "output_type": "stream",
     "text": [
      "2021-01-26 04:31:14,609 Train Evaluator INFO: Engine run starting with max_epochs=1.\n",
      "2021-01-26 04:31:19,126 Train Evaluator INFO: Epoch[1] Complete. Time taken: 00:00:05\n",
      "2021-01-26 04:31:19,129 Train Evaluator INFO: Engine run complete. Time taken: 00:00:05\n",
      "2021-01-26 04:31:19,131 Val Evaluator INFO: Engine run starting with max_epochs=1.\n",
      "2021-01-26 04:31:20,642 Val Evaluator INFO: Epoch[1] Complete. Time taken: 00:00:02\n",
      "2021-01-26 04:31:20,644 Val Evaluator INFO: Engine run complete. Time taken: 00:00:02\n",
      "\u001b[34m\u001b[1mwandb\u001b[0m: \u001b[33mWARNING\u001b[0m Step must only increase in log calls.  Step 58 < 348; dropping {'lr/group_0': 0.001}.\n",
      "2021-01-26 04:31:20,653 Trainer INFO: Epoch[58] Complete. Time taken: 00:00:11\n"
     ]
    },
    {
     "name": "stdout",
     "output_type": "stream",
     "text": [
      "train loss 0.19811203079463463\n",
      "val loss 0.7496192470840786\n",
      "validation roc auc [0.82338308 0.74471393] 58\n",
      "train roc auc [1.         0.99656744] 58\n"
     ]
    },
    {
     "name": "stderr",
     "output_type": "stream",
     "text": [
      "2021-01-26 04:31:25,310 Train Evaluator INFO: Engine run starting with max_epochs=1.\n",
      "2021-01-26 04:31:30,325 Train Evaluator INFO: Epoch[1] Complete. Time taken: 00:00:05\n",
      "2021-01-26 04:31:30,326 Train Evaluator INFO: Engine run complete. Time taken: 00:00:05\n",
      "2021-01-26 04:31:30,327 Val Evaluator INFO: Engine run starting with max_epochs=1.\n",
      "2021-01-26 04:31:31,746 Val Evaluator INFO: Epoch[1] Complete. Time taken: 00:00:01\n",
      "2021-01-26 04:31:31,748 Val Evaluator INFO: Engine run complete. Time taken: 00:00:01\n",
      "\u001b[34m\u001b[1mwandb\u001b[0m: \u001b[33mWARNING\u001b[0m Step must only increase in log calls.  Step 59 < 354; dropping {'lr/group_0': 0.001}.\n",
      "2021-01-26 04:31:31,756 Trainer INFO: Epoch[59] Complete. Time taken: 00:00:11\n"
     ]
    },
    {
     "name": "stdout",
     "output_type": "stream",
     "text": [
      "train loss 0.19312910162485564\n",
      "val loss 0.7210230137990868\n",
      "validation roc auc [0.8193408  0.73942786] 59\n",
      "train roc auc [1.         0.99633071] 59\n"
     ]
    },
    {
     "name": "stderr",
     "output_type": "stream",
     "text": [
      "2021-01-26 04:31:36,252 Train Evaluator INFO: Engine run starting with max_epochs=1.\n",
      "2021-01-26 04:31:40,312 Train Evaluator INFO: Epoch[1] Complete. Time taken: 00:00:04\n",
      "2021-01-26 04:31:40,314 Train Evaluator INFO: Engine run complete. Time taken: 00:00:04\n",
      "2021-01-26 04:31:40,316 Val Evaluator INFO: Engine run starting with max_epochs=1.\n",
      "2021-01-26 04:31:41,611 Val Evaluator INFO: Epoch[1] Complete. Time taken: 00:00:01\n",
      "2021-01-26 04:31:41,612 Val Evaluator INFO: Engine run complete. Time taken: 00:00:01\n",
      "\u001b[34m\u001b[1mwandb\u001b[0m: \u001b[33mWARNING\u001b[0m Step must only increase in log calls.  Step 60 < 360; dropping {'lr/group_0': 0.001}.\n",
      "2021-01-26 04:31:41,620 Trainer INFO: Epoch[60] Complete. Time taken: 00:00:10\n"
     ]
    },
    {
     "name": "stdout",
     "output_type": "stream",
     "text": [
      "train loss 0.18693967630877298\n",
      "val loss 0.7607733239298281\n",
      "validation roc auc [0.81778607 0.72263682] 60\n",
      "train roc auc [1.         0.99727762] 60\n"
     ]
    },
    {
     "name": "stderr",
     "output_type": "stream",
     "text": [
      "2021-01-26 04:31:45,710 Train Evaluator INFO: Engine run starting with max_epochs=1.\n",
      "2021-01-26 04:31:49,897 Train Evaluator INFO: Epoch[1] Complete. Time taken: 00:00:04\n",
      "2021-01-26 04:31:49,898 Train Evaluator INFO: Engine run complete. Time taken: 00:00:04\n",
      "2021-01-26 04:31:49,899 Val Evaluator INFO: Engine run starting with max_epochs=1.\n",
      "2021-01-26 04:31:51,683 Val Evaluator INFO: Epoch[1] Complete. Time taken: 00:00:02\n",
      "2021-01-26 04:31:51,684 Val Evaluator INFO: Engine run complete. Time taken: 00:00:02\n",
      "\u001b[34m\u001b[1mwandb\u001b[0m: \u001b[33mWARNING\u001b[0m Step must only increase in log calls.  Step 61 < 366; dropping {'lr/group_0': 0.001}.\n",
      "2021-01-26 04:31:51,692 Trainer INFO: Epoch[61] Complete. Time taken: 00:00:10\n"
     ]
    },
    {
     "name": "stdout",
     "output_type": "stream",
     "text": [
      "train loss 0.1818664859561525\n",
      "val loss 0.7785777475522913\n",
      "validation roc auc [0.81716418 0.71144279] 61\n",
      "train roc auc [1.         0.99798781] 61\n"
     ]
    },
    {
     "name": "stderr",
     "output_type": "stream",
     "text": [
      "2021-01-26 04:31:56,078 Train Evaluator INFO: Engine run starting with max_epochs=1.\n",
      "2021-01-26 04:32:00,640 Train Evaluator INFO: Epoch[1] Complete. Time taken: 00:00:05\n",
      "2021-01-26 04:32:00,643 Train Evaluator INFO: Engine run complete. Time taken: 00:00:05\n",
      "2021-01-26 04:32:00,644 Val Evaluator INFO: Engine run starting with max_epochs=1.\n",
      "2021-01-26 04:32:02,450 Val Evaluator INFO: Epoch[1] Complete. Time taken: 00:00:02\n",
      "2021-01-26 04:32:02,452 Val Evaluator INFO: Engine run complete. Time taken: 00:00:02\n",
      "\u001b[34m\u001b[1mwandb\u001b[0m: \u001b[33mWARNING\u001b[0m Step must only increase in log calls.  Step 62 < 372; dropping {'lr/group_0': 0.001}.\n",
      "2021-01-26 04:32:02,460 Trainer INFO: Epoch[62] Complete. Time taken: 00:00:11\n"
     ]
    },
    {
     "name": "stdout",
     "output_type": "stream",
     "text": [
      "train loss 0.1765239162028894\n",
      "val loss 0.7696515798568726\n",
      "validation roc auc [0.81343284 0.70677861] 62\n",
      "train roc auc [1.         0.99840208] 62\n"
     ]
    },
    {
     "name": "stderr",
     "output_type": "stream",
     "text": [
      "2021-01-26 04:32:06,660 Train Evaluator INFO: Engine run starting with max_epochs=1.\n",
      "2021-01-26 04:32:10,653 Train Evaluator INFO: Epoch[1] Complete. Time taken: 00:00:04\n",
      "2021-01-26 04:32:10,656 Train Evaluator INFO: Engine run complete. Time taken: 00:00:04\n",
      "2021-01-26 04:32:10,657 Val Evaluator INFO: Engine run starting with max_epochs=1.\n",
      "2021-01-26 04:32:12,149 Val Evaluator INFO: Epoch[1] Complete. Time taken: 00:00:01\n",
      "2021-01-26 04:32:12,151 Val Evaluator INFO: Engine run complete. Time taken: 00:00:01\n",
      "\u001b[34m\u001b[1mwandb\u001b[0m: \u001b[33mWARNING\u001b[0m Step must only increase in log calls.  Step 63 < 378; dropping {'lr/group_0': 0.001}.\n",
      "2021-01-26 04:32:12,159 Trainer INFO: Epoch[63] Complete. Time taken: 00:00:10\n"
     ]
    },
    {
     "name": "stdout",
     "output_type": "stream",
     "text": [
      "train loss 0.17159238184344838\n",
      "val loss 0.7312150970749233\n",
      "validation roc auc [0.81187811 0.70087065] 63\n",
      "train roc auc [1.         0.99822454] 63\n"
     ]
    },
    {
     "name": "stderr",
     "output_type": "stream",
     "text": [
      "2021-01-26 04:32:16,630 Train Evaluator INFO: Engine run starting with max_epochs=1.\n",
      "2021-01-26 04:32:20,426 Train Evaluator INFO: Epoch[1] Complete. Time taken: 00:00:04\n",
      "2021-01-26 04:32:20,427 Train Evaluator INFO: Engine run complete. Time taken: 00:00:04\n",
      "2021-01-26 04:32:20,428 Val Evaluator INFO: Engine run starting with max_epochs=1.\n",
      "2021-01-26 04:32:21,742 Val Evaluator INFO: Epoch[1] Complete. Time taken: 00:00:01\n",
      "2021-01-26 04:32:21,744 Val Evaluator INFO: Engine run complete. Time taken: 00:00:01\n",
      "\u001b[34m\u001b[1mwandb\u001b[0m: \u001b[33mWARNING\u001b[0m Step must only increase in log calls.  Step 64 < 384; dropping {'lr/group_0': 0.001}.\n",
      "2021-01-26 04:32:21,752 Trainer INFO: Epoch[64] Complete. Time taken: 00:00:10\n"
     ]
    },
    {
     "name": "stdout",
     "output_type": "stream",
     "text": [
      "train loss 0.16611491284779542\n",
      "val loss 0.7626018192457116\n",
      "validation roc auc [0.81094527 0.69216418] 64\n",
      "train roc auc [1.         0.99863881] 64\n"
     ]
    },
    {
     "name": "stderr",
     "output_type": "stream",
     "text": [
      "2021-01-26 04:32:26,553 Train Evaluator INFO: Engine run starting with max_epochs=1.\n",
      "2021-01-26 04:32:31,006 Train Evaluator INFO: Epoch[1] Complete. Time taken: 00:00:04\n",
      "2021-01-26 04:32:31,009 Train Evaluator INFO: Engine run complete. Time taken: 00:00:04\n",
      "2021-01-26 04:32:31,010 Val Evaluator INFO: Engine run starting with max_epochs=1.\n",
      "2021-01-26 04:32:32,480 Val Evaluator INFO: Epoch[1] Complete. Time taken: 00:00:01\n",
      "2021-01-26 04:32:32,481 Val Evaluator INFO: Engine run complete. Time taken: 00:00:01\n",
      "\u001b[34m\u001b[1mwandb\u001b[0m: \u001b[33mWARNING\u001b[0m Step must only increase in log calls.  Step 65 < 390; dropping {'lr/group_0': 0.001}.\n",
      "2021-01-26 04:32:32,489 Trainer INFO: Epoch[65] Complete. Time taken: 00:00:11\n"
     ]
    },
    {
     "name": "stdout",
     "output_type": "stream",
     "text": [
      "train loss 0.16123508556178334\n",
      "val loss 0.775741840445477\n",
      "validation roc auc [0.80970149 0.68812189] 65\n",
      "train roc auc [1.         0.99887554] 65\n"
     ]
    },
    {
     "name": "stderr",
     "output_type": "stream",
     "text": [
      "2021-01-26 04:32:36,692 Train Evaluator INFO: Engine run starting with max_epochs=1.\n",
      "2021-01-26 04:32:40,964 Train Evaluator INFO: Epoch[1] Complete. Time taken: 00:00:04\n",
      "2021-01-26 04:32:40,967 Train Evaluator INFO: Engine run complete. Time taken: 00:00:04\n",
      "2021-01-26 04:32:40,968 Val Evaluator INFO: Engine run starting with max_epochs=1.\n",
      "2021-01-26 04:32:42,475 Val Evaluator INFO: Epoch[1] Complete. Time taken: 00:00:02\n",
      "2021-01-26 04:32:42,476 Val Evaluator INFO: Engine run complete. Time taken: 00:00:02\n",
      "\u001b[34m\u001b[1mwandb\u001b[0m: \u001b[33mWARNING\u001b[0m Step must only increase in log calls.  Step 66 < 396; dropping {'lr/group_0': 0.001}.\n",
      "2021-01-26 04:32:42,483 Trainer INFO: Epoch[66] Complete. Time taken: 00:00:10\n"
     ]
    },
    {
     "name": "stdout",
     "output_type": "stream",
     "text": [
      "train loss 0.15632081507931095\n",
      "val loss 0.7523229738940364\n",
      "validation roc auc [0.80752488 0.68563433] 66\n",
      "train roc auc [1.         0.99893472] 66\n"
     ]
    },
    {
     "name": "stderr",
     "output_type": "stream",
     "text": [
      "2021-01-26 04:32:47,079 Train Evaluator INFO: Engine run starting with max_epochs=1.\n",
      "2021-01-26 04:32:51,100 Train Evaluator INFO: Epoch[1] Complete. Time taken: 00:00:04\n",
      "2021-01-26 04:32:51,102 Train Evaluator INFO: Engine run complete. Time taken: 00:00:04\n",
      "2021-01-26 04:32:51,103 Val Evaluator INFO: Engine run starting with max_epochs=1.\n",
      "2021-01-26 04:32:52,562 Val Evaluator INFO: Epoch[1] Complete. Time taken: 00:00:01\n",
      "2021-01-26 04:32:52,563 Val Evaluator INFO: Engine run complete. Time taken: 00:00:01\n",
      "\u001b[34m\u001b[1mwandb\u001b[0m: \u001b[33mWARNING\u001b[0m Step must only increase in log calls.  Step 67 < 402; dropping {'lr/group_0': 0.001}.\n",
      "2021-01-26 04:32:52,571 Trainer INFO: Epoch[67] Complete. Time taken: 00:00:10\n"
     ]
    },
    {
     "name": "stdout",
     "output_type": "stream",
     "text": [
      "train loss 0.1517750094451848\n",
      "val loss 0.7438516736030578\n",
      "validation roc auc [0.80659204 0.68283582] 67\n",
      "train roc auc [1.         0.99905309] 67\n"
     ]
    },
    {
     "name": "stderr",
     "output_type": "stream",
     "text": [
      "2021-01-26 04:32:56,890 Train Evaluator INFO: Engine run starting with max_epochs=1.\n",
      "2021-01-26 04:33:01,374 Train Evaluator INFO: Epoch[1] Complete. Time taken: 00:00:04\n",
      "2021-01-26 04:33:01,377 Train Evaluator INFO: Engine run complete. Time taken: 00:00:04\n",
      "2021-01-26 04:33:01,379 Val Evaluator INFO: Engine run starting with max_epochs=1.\n",
      "2021-01-26 04:33:03,144 Val Evaluator INFO: Epoch[1] Complete. Time taken: 00:00:02\n",
      "2021-01-26 04:33:03,146 Val Evaluator INFO: Engine run complete. Time taken: 00:00:02\n",
      "\u001b[34m\u001b[1mwandb\u001b[0m: \u001b[33mWARNING\u001b[0m Step must only increase in log calls.  Step 68 < 408; dropping {'lr/group_0': 0.001}.\n",
      "2021-01-26 04:33:03,153 Trainer INFO: Epoch[68] Complete. Time taken: 00:00:11\n"
     ]
    },
    {
     "name": "stdout",
     "output_type": "stream",
     "text": [
      "train loss 0.146727440492994\n",
      "val loss 0.7857000656749891\n",
      "validation roc auc [0.80659204 0.67630597] 68\n",
      "train roc auc [1.         0.99928981] 68\n"
     ]
    },
    {
     "name": "stderr",
     "output_type": "stream",
     "text": [
      "2021-01-26 04:33:07,683 Train Evaluator INFO: Engine run starting with max_epochs=1.\n",
      "2021-01-26 04:33:11,759 Train Evaluator INFO: Epoch[1] Complete. Time taken: 00:00:04\n",
      "2021-01-26 04:33:11,761 Train Evaluator INFO: Engine run complete. Time taken: 00:00:04\n",
      "2021-01-26 04:33:11,762 Val Evaluator INFO: Engine run starting with max_epochs=1.\n",
      "2021-01-26 04:33:13,314 Val Evaluator INFO: Epoch[1] Complete. Time taken: 00:00:02\n",
      "2021-01-26 04:33:13,315 Val Evaluator INFO: Engine run complete. Time taken: 00:00:02\n",
      "\u001b[34m\u001b[1mwandb\u001b[0m: \u001b[33mWARNING\u001b[0m Step must only increase in log calls.  Step 69 < 414; dropping {'lr/group_0': 0.001}.\n",
      "2021-01-26 04:33:13,324 Trainer INFO: Epoch[69] Complete. Time taken: 00:00:10\n"
     ]
    },
    {
     "name": "stdout",
     "output_type": "stream",
     "text": [
      "train loss 0.1429526425853989\n",
      "val loss 0.8110386946926946\n",
      "validation roc auc [0.80441542 0.67164179] 69\n",
      "train roc auc [1.         0.99958573] 69\n"
     ]
    },
    {
     "name": "stderr",
     "output_type": "stream",
     "text": [
      "2021-01-26 04:33:18,034 Train Evaluator INFO: Engine run starting with max_epochs=1.\n",
      "2021-01-26 04:33:22,465 Train Evaluator INFO: Epoch[1] Complete. Time taken: 00:00:04\n",
      "2021-01-26 04:33:22,467 Train Evaluator INFO: Engine run complete. Time taken: 00:00:04\n",
      "2021-01-26 04:33:22,468 Val Evaluator INFO: Engine run starting with max_epochs=1.\n",
      "2021-01-26 04:33:24,211 Val Evaluator INFO: Epoch[1] Complete. Time taken: 00:00:02\n",
      "2021-01-26 04:33:24,213 Val Evaluator INFO: Engine run complete. Time taken: 00:00:02\n",
      "\u001b[34m\u001b[1mwandb\u001b[0m: \u001b[33mWARNING\u001b[0m Step must only increase in log calls.  Step 70 < 420; dropping {'lr/group_0': 0.001}.\n",
      "2021-01-26 04:33:24,223 Trainer INFO: Epoch[70] Complete. Time taken: 00:00:11\n"
     ]
    },
    {
     "name": "stdout",
     "output_type": "stream",
     "text": [
      "train loss 0.1382953909021863\n",
      "val loss 0.7458123061967933\n",
      "validation roc auc [0.80379353 0.67226368] 70\n",
      "train roc auc [1.         0.99952654] 70\n"
     ]
    },
    {
     "name": "stderr",
     "output_type": "stream",
     "text": [
      "2021-01-26 04:33:28,426 Train Evaluator INFO: Engine run starting with max_epochs=1.\n",
      "2021-01-26 04:33:32,147 Train Evaluator INFO: Epoch[1] Complete. Time taken: 00:00:04\n",
      "2021-01-26 04:33:32,148 Train Evaluator INFO: Engine run complete. Time taken: 00:00:04\n",
      "2021-01-26 04:33:32,149 Val Evaluator INFO: Engine run starting with max_epochs=1.\n",
      "2021-01-26 04:33:33,616 Val Evaluator INFO: Epoch[1] Complete. Time taken: 00:00:01\n",
      "2021-01-26 04:33:33,618 Val Evaluator INFO: Engine run complete. Time taken: 00:00:01\n",
      "\u001b[34m\u001b[1mwandb\u001b[0m: \u001b[33mWARNING\u001b[0m Step must only increase in log calls.  Step 71 < 426; dropping {'lr/group_0': 0.001}.\n",
      "2021-01-26 04:33:33,625 Trainer INFO: Epoch[71] Complete. Time taken: 00:00:09\n"
     ]
    },
    {
     "name": "stdout",
     "output_type": "stream",
     "text": [
      "train loss 0.13372121037110773\n",
      "val loss 0.767232496842094\n",
      "validation roc auc [0.80379353 0.66946517] 71\n",
      "train roc auc [1.         0.99964491] 71\n"
     ]
    },
    {
     "name": "stderr",
     "output_type": "stream",
     "text": [
      "2021-01-26 04:33:38,746 Train Evaluator INFO: Engine run starting with max_epochs=1.\n",
      "2021-01-26 04:33:42,370 Train Evaluator INFO: Epoch[1] Complete. Time taken: 00:00:04\n",
      "2021-01-26 04:33:42,373 Train Evaluator INFO: Engine run complete. Time taken: 00:00:04\n",
      "2021-01-26 04:33:42,374 Val Evaluator INFO: Engine run starting with max_epochs=1.\n",
      "2021-01-26 04:33:44,422 Val Evaluator INFO: Epoch[1] Complete. Time taken: 00:00:02\n",
      "2021-01-26 04:33:44,424 Val Evaluator INFO: Engine run complete. Time taken: 00:00:02\n",
      "\u001b[34m\u001b[1mwandb\u001b[0m: \u001b[33mWARNING\u001b[0m Step must only increase in log calls.  Step 72 < 432; dropping {'lr/group_0': 0.001}.\n",
      "2021-01-26 04:33:44,432 Trainer INFO: Epoch[72] Complete. Time taken: 00:00:11\n"
     ]
    },
    {
     "name": "stdout",
     "output_type": "stream",
     "text": [
      "train loss 0.1291468814456251\n",
      "val loss 0.8032762097275775\n",
      "validation roc auc [0.80317164 0.66635572] 72\n",
      "train roc auc [1.         0.99976327] 72\n"
     ]
    },
    {
     "name": "stderr",
     "output_type": "stream",
     "text": [
      "2021-01-26 04:33:49,185 Train Evaluator INFO: Engine run starting with max_epochs=1.\n",
      "2021-01-26 04:33:53,699 Train Evaluator INFO: Epoch[1] Complete. Time taken: 00:00:05\n",
      "2021-01-26 04:33:53,701 Train Evaluator INFO: Engine run complete. Time taken: 00:00:05\n",
      "2021-01-26 04:33:53,703 Val Evaluator INFO: Engine run starting with max_epochs=1.\n",
      "2021-01-26 04:33:55,330 Val Evaluator INFO: Epoch[1] Complete. Time taken: 00:00:02\n",
      "2021-01-26 04:33:55,331 Val Evaluator INFO: Engine run complete. Time taken: 00:00:02\n",
      "\u001b[34m\u001b[1mwandb\u001b[0m: \u001b[33mWARNING\u001b[0m Step must only increase in log calls.  Step 73 < 438; dropping {'lr/group_0': 0.001}.\n",
      "2021-01-26 04:33:55,339 Trainer INFO: Epoch[73] Complete. Time taken: 00:00:11\n"
     ]
    },
    {
     "name": "stdout",
     "output_type": "stream",
     "text": [
      "train loss 0.12506902059154398\n",
      "val loss 0.8052790532941404\n",
      "validation roc auc [0.80317164 0.66355721] 73\n",
      "train roc auc [1.         0.99982245] 73\n"
     ]
    },
    {
     "name": "stderr",
     "output_type": "stream",
     "text": [
      "2021-01-26 04:34:00,207 Train Evaluator INFO: Engine run starting with max_epochs=1.\n",
      "2021-01-26 04:34:04,658 Train Evaluator INFO: Epoch[1] Complete. Time taken: 00:00:04\n",
      "2021-01-26 04:34:04,661 Train Evaluator INFO: Engine run complete. Time taken: 00:00:04\n",
      "2021-01-26 04:34:04,662 Val Evaluator INFO: Engine run starting with max_epochs=1.\n",
      "2021-01-26 04:34:06,004 Val Evaluator INFO: Epoch[1] Complete. Time taken: 00:00:01\n",
      "2021-01-26 04:34:06,006 Val Evaluator INFO: Engine run complete. Time taken: 00:00:01\n",
      "\u001b[34m\u001b[1mwandb\u001b[0m: \u001b[33mWARNING\u001b[0m Step must only increase in log calls.  Step 74 < 444; dropping {'lr/group_0': 0.001}.\n",
      "2021-01-26 04:34:06,013 Trainer INFO: Epoch[74] Complete. Time taken: 00:00:11\n"
     ]
    },
    {
     "name": "stdout",
     "output_type": "stream",
     "text": [
      "train loss 0.12105687976588864\n",
      "val loss 0.7764750936756963\n",
      "validation roc auc [0.80254975 0.66324627] 74\n",
      "train roc auc [1.         0.99988164] 74\n"
     ]
    },
    {
     "name": "stderr",
     "output_type": "stream",
     "text": [
      "2021-01-26 04:34:09,850 Train Evaluator INFO: Engine run starting with max_epochs=1.\n",
      "2021-01-26 04:34:14,094 Train Evaluator INFO: Epoch[1] Complete. Time taken: 00:00:04\n",
      "2021-01-26 04:34:14,095 Train Evaluator INFO: Engine run complete. Time taken: 00:00:04\n",
      "2021-01-26 04:34:14,096 Val Evaluator INFO: Engine run starting with max_epochs=1.\n",
      "2021-01-26 04:34:15,896 Val Evaluator INFO: Epoch[1] Complete. Time taken: 00:00:02\n",
      "2021-01-26 04:34:15,898 Val Evaluator INFO: Engine run complete. Time taken: 00:00:02\n",
      "\u001b[34m\u001b[1mwandb\u001b[0m: \u001b[33mWARNING\u001b[0m Step must only increase in log calls.  Step 75 < 450; dropping {'lr/group_0': 0.001}.\n",
      "2021-01-26 04:34:15,906 Trainer INFO: Epoch[75] Complete. Time taken: 00:00:10\n"
     ]
    },
    {
     "name": "stdout",
     "output_type": "stream",
     "text": [
      "train loss 0.11707979736067134\n",
      "val loss 0.8135741042054218\n",
      "validation roc auc [0.80472637 0.66106965] 75\n",
      "train roc auc [1.         0.99994082] 75\n"
     ]
    },
    {
     "name": "stderr",
     "output_type": "stream",
     "text": [
      "2021-01-26 04:34:20,227 Train Evaluator INFO: Engine run starting with max_epochs=1.\n",
      "2021-01-26 04:34:24,449 Train Evaluator INFO: Epoch[1] Complete. Time taken: 00:00:04\n",
      "2021-01-26 04:34:24,451 Train Evaluator INFO: Engine run complete. Time taken: 00:00:04\n",
      "2021-01-26 04:34:24,453 Val Evaluator INFO: Engine run starting with max_epochs=1.\n",
      "2021-01-26 04:34:25,935 Val Evaluator INFO: Epoch[1] Complete. Time taken: 00:00:01\n",
      "2021-01-26 04:34:25,937 Val Evaluator INFO: Engine run complete. Time taken: 00:00:01\n",
      "\u001b[34m\u001b[1mwandb\u001b[0m: \u001b[33mWARNING\u001b[0m Step must only increase in log calls.  Step 76 < 456; dropping {'lr/group_0': 0.001}.\n",
      "2021-01-26 04:34:25,944 Trainer INFO: Epoch[76] Complete. Time taken: 00:00:10\n"
     ]
    },
    {
     "name": "stdout",
     "output_type": "stream",
     "text": [
      "train loss 0.11331005473814067\n",
      "val loss 0.8100435376167298\n",
      "validation roc auc [0.80254975 0.65858209] 76\n",
      "train roc auc [1.         0.99994082] 76\n"
     ]
    },
    {
     "name": "stderr",
     "output_type": "stream",
     "text": [
      "2021-01-26 04:34:29,669 Train Evaluator INFO: Engine run starting with max_epochs=1.\n",
      "2021-01-26 04:34:33,667 Train Evaluator INFO: Epoch[1] Complete. Time taken: 00:00:04\n",
      "2021-01-26 04:34:33,670 Train Evaluator INFO: Engine run complete. Time taken: 00:00:04\n",
      "2021-01-26 04:34:33,671 Val Evaluator INFO: Engine run starting with max_epochs=1.\n",
      "2021-01-26 04:34:35,009 Val Evaluator INFO: Epoch[1] Complete. Time taken: 00:00:01\n",
      "2021-01-26 04:34:35,011 Val Evaluator INFO: Engine run complete. Time taken: 00:00:01\n",
      "\u001b[34m\u001b[1mwandb\u001b[0m: \u001b[33mWARNING\u001b[0m Step must only increase in log calls.  Step 77 < 462; dropping {'lr/group_0': 0.001}.\n",
      "2021-01-26 04:34:35,018 Trainer INFO: Epoch[77] Complete. Time taken: 00:00:09\n"
     ]
    },
    {
     "name": "stdout",
     "output_type": "stream",
     "text": [
      "train loss 0.10974450409412384\n",
      "val loss 0.796707981047423\n",
      "validation roc auc [0.80192786 0.65889303] 77\n",
      "train roc auc [1.         0.99994082] 77\n"
     ]
    },
    {
     "name": "stderr",
     "output_type": "stream",
     "text": [
      "2021-01-26 04:34:39,655 Train Evaluator INFO: Engine run starting with max_epochs=1.\n",
      "2021-01-26 04:34:44,325 Train Evaluator INFO: Epoch[1] Complete. Time taken: 00:00:05\n",
      "2021-01-26 04:34:44,327 Train Evaluator INFO: Engine run complete. Time taken: 00:00:05\n",
      "2021-01-26 04:34:44,327 Val Evaluator INFO: Engine run starting with max_epochs=1.\n",
      "2021-01-26 04:34:45,659 Val Evaluator INFO: Epoch[1] Complete. Time taken: 00:00:01\n",
      "2021-01-26 04:34:45,662 Val Evaluator INFO: Engine run complete. Time taken: 00:00:01\n",
      "\u001b[34m\u001b[1mwandb\u001b[0m: \u001b[33mWARNING\u001b[0m Step must only increase in log calls.  Step 78 < 468; dropping {'lr/group_0': 0.001}.\n",
      "2021-01-26 04:34:45,671 Trainer INFO: Epoch[78] Complete. Time taken: 00:00:11\n"
     ]
    },
    {
     "name": "stdout",
     "output_type": "stream",
     "text": [
      "train loss 0.10612016876597376\n",
      "val loss 0.8243400019148122\n",
      "validation roc auc [0.8028607 0.6579602] 78\n",
      "train roc auc [1. 1.] 78\n"
     ]
    },
    {
     "name": "stderr",
     "output_type": "stream",
     "text": [
      "2021-01-26 04:34:50,187 Train Evaluator INFO: Engine run starting with max_epochs=1.\n",
      "2021-01-26 04:34:54,169 Train Evaluator INFO: Epoch[1] Complete. Time taken: 00:00:04\n",
      "2021-01-26 04:34:54,172 Train Evaluator INFO: Engine run complete. Time taken: 00:00:04\n",
      "2021-01-26 04:34:54,173 Val Evaluator INFO: Engine run starting with max_epochs=1.\n",
      "2021-01-26 04:34:56,172 Val Evaluator INFO: Epoch[1] Complete. Time taken: 00:00:02\n",
      "2021-01-26 04:34:56,174 Val Evaluator INFO: Engine run complete. Time taken: 00:00:02\n",
      "\u001b[34m\u001b[1mwandb\u001b[0m: \u001b[33mWARNING\u001b[0m Step must only increase in log calls.  Step 79 < 474; dropping {'lr/group_0': 0.001}.\n",
      "2021-01-26 04:34:56,181 Trainer INFO: Epoch[79] Complete. Time taken: 00:00:11\n"
     ]
    },
    {
     "name": "stdout",
     "output_type": "stream",
     "text": [
      "train loss 0.10271825901502689\n",
      "val loss 0.8214733875316123\n",
      "validation roc auc [0.80223881 0.65827114] 79\n",
      "train roc auc [1. 1.] 79\n"
     ]
    },
    {
     "name": "stderr",
     "output_type": "stream",
     "text": [
      "2021-01-26 04:35:00,993 Train Evaluator INFO: Engine run starting with max_epochs=1.\n",
      "2021-01-26 04:35:04,804 Train Evaluator INFO: Epoch[1] Complete. Time taken: 00:00:04\n",
      "2021-01-26 04:35:04,806 Train Evaluator INFO: Engine run complete. Time taken: 00:00:04\n",
      "2021-01-26 04:35:04,807 Val Evaluator INFO: Engine run starting with max_epochs=1.\n",
      "2021-01-26 04:35:06,024 Val Evaluator INFO: Epoch[1] Complete. Time taken: 00:00:01\n",
      "2021-01-26 04:35:06,026 Val Evaluator INFO: Engine run complete. Time taken: 00:00:01\n",
      "\u001b[34m\u001b[1mwandb\u001b[0m: \u001b[33mWARNING\u001b[0m Step must only increase in log calls.  Step 80 < 480; dropping {'lr/group_0': 0.001}.\n",
      "2021-01-26 04:35:06,033 Trainer INFO: Epoch[80] Complete. Time taken: 00:00:10\n"
     ]
    },
    {
     "name": "stdout",
     "output_type": "stream",
     "text": [
      "train loss 0.0996014324606523\n",
      "val loss 0.8113884780717933\n",
      "validation roc auc [0.79819652 0.65982587] 80\n",
      "train roc auc [1. 1.] 80\n"
     ]
    },
    {
     "name": "stderr",
     "output_type": "stream",
     "text": [
      "2021-01-26 04:35:09,947 Train Evaluator INFO: Engine run starting with max_epochs=1.\n",
      "2021-01-26 04:35:13,744 Train Evaluator INFO: Epoch[1] Complete. Time taken: 00:00:04\n",
      "2021-01-26 04:35:13,745 Train Evaluator INFO: Engine run complete. Time taken: 00:00:04\n",
      "2021-01-26 04:35:13,746 Val Evaluator INFO: Engine run starting with max_epochs=1.\n",
      "2021-01-26 04:35:15,264 Val Evaluator INFO: Epoch[1] Complete. Time taken: 00:00:02\n",
      "2021-01-26 04:35:15,265 Val Evaluator INFO: Engine run complete. Time taken: 00:00:02\n",
      "\u001b[34m\u001b[1mwandb\u001b[0m: \u001b[33mWARNING\u001b[0m Step must only increase in log calls.  Step 81 < 486; dropping {'lr/group_0': 0.001}.\n",
      "2021-01-26 04:35:15,273 Trainer INFO: Epoch[81] Complete. Time taken: 00:00:09\n"
     ]
    },
    {
     "name": "stdout",
     "output_type": "stream",
     "text": [
      "train loss 0.09637260842605455\n",
      "val loss 0.847678866593734\n",
      "validation roc auc [0.79881841 0.65858209] 81\n",
      "train roc auc [1. 1.] 81\n"
     ]
    },
    {
     "name": "stderr",
     "output_type": "stream",
     "text": [
      "2021-01-26 04:35:20,070 Train Evaluator INFO: Engine run starting with max_epochs=1.\n",
      "2021-01-26 04:35:24,254 Train Evaluator INFO: Epoch[1] Complete. Time taken: 00:00:04\n",
      "2021-01-26 04:35:24,255 Train Evaluator INFO: Engine run complete. Time taken: 00:00:04\n",
      "2021-01-26 04:35:24,256 Val Evaluator INFO: Engine run starting with max_epochs=1.\n",
      "2021-01-26 04:35:25,576 Val Evaluator INFO: Epoch[1] Complete. Time taken: 00:00:01\n",
      "2021-01-26 04:35:25,580 Val Evaluator INFO: Engine run complete. Time taken: 00:00:01\n",
      "\u001b[34m\u001b[1mwandb\u001b[0m: \u001b[33mWARNING\u001b[0m Step must only increase in log calls.  Step 82 < 492; dropping {'lr/group_0': 0.001}.\n",
      "2021-01-26 04:35:25,587 Trainer INFO: Epoch[82] Complete. Time taken: 00:00:10\n"
     ]
    },
    {
     "name": "stdout",
     "output_type": "stream",
     "text": [
      "train loss 0.09328546397079378\n",
      "val loss 0.8359562132669531\n",
      "validation roc auc [0.79726368 0.66075871] 82\n",
      "train roc auc [1. 1.] 82\n"
     ]
    },
    {
     "name": "stderr",
     "output_type": "stream",
     "text": [
      "2021-01-26 04:35:30,697 Train Evaluator INFO: Engine run starting with max_epochs=1.\n",
      "2021-01-26 04:35:36,297 Train Evaluator INFO: Epoch[1] Complete. Time taken: 00:00:06\n",
      "2021-01-26 04:35:36,300 Train Evaluator INFO: Engine run complete. Time taken: 00:00:06\n",
      "2021-01-26 04:35:36,301 Val Evaluator INFO: Engine run starting with max_epochs=1.\n",
      "2021-01-26 04:35:37,891 Val Evaluator INFO: Epoch[1] Complete. Time taken: 00:00:02\n",
      "2021-01-26 04:35:37,893 Val Evaluator INFO: Engine run complete. Time taken: 00:00:02\n",
      "\u001b[34m\u001b[1mwandb\u001b[0m: \u001b[33mWARNING\u001b[0m Step must only increase in log calls.  Step 83 < 498; dropping {'lr/group_0': 0.001}.\n",
      "2021-01-26 04:35:37,899 Trainer INFO: Epoch[83] Complete. Time taken: 00:00:12\n"
     ]
    },
    {
     "name": "stdout",
     "output_type": "stream",
     "text": [
      "train loss 0.09067868137148005\n",
      "val loss 0.8209489418112713\n",
      "validation roc auc [0.79695274 0.66044776] 83\n",
      "train roc auc [1. 1.] 83\n"
     ]
    },
    {
     "name": "stderr",
     "output_type": "stream",
     "text": [
      "2021-01-26 04:35:44,019 Train Evaluator INFO: Engine run starting with max_epochs=1.\n",
      "2021-01-26 04:35:49,767 Train Evaluator INFO: Epoch[1] Complete. Time taken: 00:00:06\n",
      "2021-01-26 04:35:49,770 Train Evaluator INFO: Engine run complete. Time taken: 00:00:06\n",
      "2021-01-26 04:35:49,771 Val Evaluator INFO: Engine run starting with max_epochs=1.\n",
      "2021-01-26 04:35:52,004 Val Evaluator INFO: Epoch[1] Complete. Time taken: 00:00:02\n",
      "2021-01-26 04:35:52,006 Val Evaluator INFO: Engine run complete. Time taken: 00:00:02\n",
      "\u001b[34m\u001b[1mwandb\u001b[0m: \u001b[33mWARNING\u001b[0m Step must only increase in log calls.  Step 84 < 504; dropping {'lr/group_0': 0.001}.\n",
      "2021-01-26 04:35:52,014 Trainer INFO: Epoch[84] Complete. Time taken: 00:00:14\n"
     ]
    },
    {
     "name": "stdout",
     "output_type": "stream",
     "text": [
      "train loss 0.08765281520827987\n",
      "val loss 0.8655522284300431\n",
      "validation roc auc [0.79757463 0.65858209] 84\n",
      "train roc auc [1. 1.] 84\n"
     ]
    },
    {
     "name": "stderr",
     "output_type": "stream",
     "text": [
      "2021-01-26 04:35:57,802 Train Evaluator INFO: Engine run starting with max_epochs=1.\n",
      "2021-01-26 04:36:03,735 Train Evaluator INFO: Epoch[1] Complete. Time taken: 00:00:06\n",
      "2021-01-26 04:36:03,738 Train Evaluator INFO: Engine run complete. Time taken: 00:00:06\n",
      "2021-01-26 04:36:03,739 Val Evaluator INFO: Engine run starting with max_epochs=1.\n",
      "2021-01-26 04:36:05,230 Val Evaluator INFO: Epoch[1] Complete. Time taken: 00:00:01\n",
      "2021-01-26 04:36:05,231 Val Evaluator INFO: Engine run complete. Time taken: 00:00:01\n",
      "\u001b[34m\u001b[1mwandb\u001b[0m: \u001b[33mWARNING\u001b[0m Step must only increase in log calls.  Step 85 < 510; dropping {'lr/group_0': 0.001}.\n",
      "2021-01-26 04:36:05,240 Trainer INFO: Epoch[85] Complete. Time taken: 00:00:13\n"
     ]
    },
    {
     "name": "stdout",
     "output_type": "stream",
     "text": [
      "train loss 0.08503016084432602\n",
      "val loss 0.8349309708761132\n",
      "validation roc auc [0.79695274 0.65982587] 85\n",
      "train roc auc [1. 1.] 85\n"
     ]
    },
    {
     "name": "stderr",
     "output_type": "stream",
     "text": [
      "2021-01-26 04:36:11,651 Train Evaluator INFO: Engine run starting with max_epochs=1.\n",
      "2021-01-26 04:36:17,860 Train Evaluator INFO: Epoch[1] Complete. Time taken: 00:00:06\n",
      "2021-01-26 04:36:17,863 Train Evaluator INFO: Engine run complete. Time taken: 00:00:06\n",
      "2021-01-26 04:36:17,864 Val Evaluator INFO: Engine run starting with max_epochs=1.\n",
      "2021-01-26 04:36:19,808 Val Evaluator INFO: Epoch[1] Complete. Time taken: 00:00:02\n",
      "2021-01-26 04:36:19,810 Val Evaluator INFO: Engine run complete. Time taken: 00:00:02\n",
      "\u001b[34m\u001b[1mwandb\u001b[0m: \u001b[33mWARNING\u001b[0m Step must only increase in log calls.  Step 86 < 516; dropping {'lr/group_0': 0.001}.\n",
      "2021-01-26 04:36:19,818 Trainer INFO: Epoch[86] Complete. Time taken: 00:00:15\n"
     ]
    },
    {
     "name": "stdout",
     "output_type": "stream",
     "text": [
      "train loss 0.0827063408917224\n",
      "val loss 0.8999623215716818\n",
      "validation roc auc [0.79664179 0.65951493] 86\n",
      "train roc auc [1. 1.] 86\n"
     ]
    },
    {
     "name": "stderr",
     "output_type": "stream",
     "text": [
      "2021-01-26 04:36:25,563 Train Evaluator INFO: Engine run starting with max_epochs=1.\n",
      "2021-01-26 04:36:31,320 Train Evaluator INFO: Epoch[1] Complete. Time taken: 00:00:06\n",
      "2021-01-26 04:36:31,323 Train Evaluator INFO: Engine run complete. Time taken: 00:00:06\n",
      "2021-01-26 04:36:31,324 Val Evaluator INFO: Engine run starting with max_epochs=1.\n",
      "2021-01-26 04:36:33,065 Val Evaluator INFO: Epoch[1] Complete. Time taken: 00:00:02\n",
      "2021-01-26 04:36:33,067 Val Evaluator INFO: Engine run complete. Time taken: 00:00:02\n",
      "\u001b[34m\u001b[1mwandb\u001b[0m: \u001b[33mWARNING\u001b[0m Step must only increase in log calls.  Step 87 < 522; dropping {'lr/group_0': 0.001}.\n",
      "2021-01-26 04:36:33,075 Trainer INFO: Epoch[87] Complete. Time taken: 00:00:13\n"
     ]
    },
    {
     "name": "stdout",
     "output_type": "stream",
     "text": [
      "train loss 0.07983228767059258\n",
      "val loss 0.8533517246660979\n",
      "validation roc auc [0.79664179 0.66075871] 87\n",
      "train roc auc [1. 1.] 87\n"
     ]
    },
    {
     "name": "stderr",
     "output_type": "stream",
     "text": [
      "2021-01-26 04:36:39,967 Train Evaluator INFO: Engine run starting with max_epochs=1.\n",
      "2021-01-26 04:36:45,606 Train Evaluator INFO: Epoch[1] Complete. Time taken: 00:00:06\n",
      "2021-01-26 04:36:45,608 Train Evaluator INFO: Engine run complete. Time taken: 00:00:06\n",
      "2021-01-26 04:36:45,609 Val Evaluator INFO: Engine run starting with max_epochs=1.\n",
      "2021-01-26 04:36:47,769 Val Evaluator INFO: Epoch[1] Complete. Time taken: 00:00:02\n",
      "2021-01-26 04:36:47,770 Val Evaluator INFO: Engine run complete. Time taken: 00:00:02\n",
      "\u001b[34m\u001b[1mwandb\u001b[0m: \u001b[33mWARNING\u001b[0m Step must only increase in log calls.  Step 88 < 528; dropping {'lr/group_0': 0.001}.\n",
      "2021-01-26 04:36:47,778 Trainer INFO: Epoch[88] Complete. Time taken: 00:00:15\n"
     ]
    },
    {
     "name": "stdout",
     "output_type": "stream",
     "text": [
      "train loss 0.0774707206078535\n",
      "val loss 0.8605508249738942\n",
      "validation roc auc [0.79477612 0.66169154] 88\n",
      "train roc auc [1. 1.] 88\n"
     ]
    },
    {
     "name": "stderr",
     "output_type": "stream",
     "text": [
      "2021-01-26 04:36:54,127 Train Evaluator INFO: Engine run starting with max_epochs=1.\n",
      "2021-01-26 04:36:59,995 Train Evaluator INFO: Epoch[1] Complete. Time taken: 00:00:06\n",
      "2021-01-26 04:36:59,998 Train Evaluator INFO: Engine run complete. Time taken: 00:00:06\n",
      "2021-01-26 04:36:59,999 Val Evaluator INFO: Engine run starting with max_epochs=1.\n",
      "2021-01-26 04:37:02,109 Val Evaluator INFO: Epoch[1] Complete. Time taken: 00:00:02\n",
      "2021-01-26 04:37:02,111 Val Evaluator INFO: Engine run complete. Time taken: 00:00:02\n",
      "\u001b[34m\u001b[1mwandb\u001b[0m: \u001b[33mWARNING\u001b[0m Step must only increase in log calls.  Step 89 < 534; dropping {'lr/group_0': 0.001}.\n",
      "2021-01-26 04:37:02,118 Trainer INFO: Epoch[89] Complete. Time taken: 00:00:14\n"
     ]
    },
    {
     "name": "stdout",
     "output_type": "stream",
     "text": [
      "train loss 0.07512535851382644\n",
      "val loss 0.8858255935751873\n",
      "validation roc auc [0.79695274 0.6613806 ] 89\n",
      "train roc auc [1. 1.] 89\n"
     ]
    },
    {
     "name": "stderr",
     "output_type": "stream",
     "text": [
      "2021-01-26 04:37:08,726 Train Evaluator INFO: Engine run starting with max_epochs=1.\n",
      "2021-01-26 04:37:15,476 Train Evaluator INFO: Epoch[1] Complete. Time taken: 00:00:07\n",
      "2021-01-26 04:37:15,479 Train Evaluator INFO: Engine run complete. Time taken: 00:00:07\n",
      "2021-01-26 04:37:15,481 Val Evaluator INFO: Engine run starting with max_epochs=1.\n",
      "2021-01-26 04:37:17,460 Val Evaluator INFO: Epoch[1] Complete. Time taken: 00:00:02\n",
      "2021-01-26 04:37:17,462 Val Evaluator INFO: Engine run complete. Time taken: 00:00:02\n",
      "\u001b[34m\u001b[1mwandb\u001b[0m: \u001b[33mWARNING\u001b[0m Step must only increase in log calls.  Step 90 < 540; dropping {'lr/group_0': 0.001}.\n",
      "2021-01-26 04:37:17,468 Trainer INFO: Epoch[90] Complete. Time taken: 00:00:15\n"
     ]
    },
    {
     "name": "stdout",
     "output_type": "stream",
     "text": [
      "train loss 0.07309994899485944\n",
      "val loss 0.8625116742175558\n",
      "validation roc auc [0.79664179 0.66386816] 90\n",
      "train roc auc [1. 1.] 90\n"
     ]
    },
    {
     "name": "stderr",
     "output_type": "stream",
     "text": [
      "2021-01-26 04:37:23,438 Train Evaluator INFO: Engine run starting with max_epochs=1.\n",
      "2021-01-26 04:37:29,030 Train Evaluator INFO: Epoch[1] Complete. Time taken: 00:00:06\n",
      "2021-01-26 04:37:29,033 Train Evaluator INFO: Engine run complete. Time taken: 00:00:06\n",
      "2021-01-26 04:37:29,034 Val Evaluator INFO: Engine run starting with max_epochs=1.\n",
      "2021-01-26 04:37:31,172 Val Evaluator INFO: Epoch[1] Complete. Time taken: 00:00:02\n",
      "2021-01-26 04:37:31,174 Val Evaluator INFO: Engine run complete. Time taken: 00:00:02\n",
      "\u001b[34m\u001b[1mwandb\u001b[0m: \u001b[33mWARNING\u001b[0m Step must only increase in log calls.  Step 91 < 546; dropping {'lr/group_0': 0.001}.\n",
      "2021-01-26 04:37:31,182 Trainer INFO: Epoch[91] Complete. Time taken: 00:00:14\n"
     ]
    },
    {
     "name": "stdout",
     "output_type": "stream",
     "text": [
      "train loss 0.07128586031540611\n",
      "val loss 0.9329028098479561\n",
      "validation roc auc [0.79757463 0.66324627] 91\n",
      "train roc auc [1. 1.] 91\n"
     ]
    },
    {
     "name": "stderr",
     "output_type": "stream",
     "text": [
      "2021-01-26 04:37:37,180 Train Evaluator INFO: Engine run starting with max_epochs=1.\n",
      "2021-01-26 04:37:42,645 Train Evaluator INFO: Epoch[1] Complete. Time taken: 00:00:05\n",
      "2021-01-26 04:37:42,648 Train Evaluator INFO: Engine run complete. Time taken: 00:00:05\n",
      "2021-01-26 04:37:42,649 Val Evaluator INFO: Engine run starting with max_epochs=1.\n",
      "2021-01-26 04:37:44,858 Val Evaluator INFO: Epoch[1] Complete. Time taken: 00:00:02\n",
      "2021-01-26 04:37:44,861 Val Evaluator INFO: Engine run complete. Time taken: 00:00:02\n",
      "\u001b[34m\u001b[1mwandb\u001b[0m: \u001b[33mWARNING\u001b[0m Step must only increase in log calls.  Step 92 < 552; dropping {'lr/group_0': 0.001}.\n",
      "2021-01-26 04:37:44,869 Trainer INFO: Epoch[92] Complete. Time taken: 00:00:14\n"
     ]
    },
    {
     "name": "stdout",
     "output_type": "stream",
     "text": [
      "train loss 0.0688282182583442\n",
      "val loss 0.8769993522892827\n",
      "validation roc auc [0.79508706 0.66324627] 92\n",
      "train roc auc [1. 1.] 92\n"
     ]
    },
    {
     "name": "stderr",
     "output_type": "stream",
     "text": [
      "2021-01-26 04:37:51,629 Train Evaluator INFO: Engine run starting with max_epochs=1.\n",
      "2021-01-26 04:37:57,864 Train Evaluator INFO: Epoch[1] Complete. Time taken: 00:00:06\n",
      "2021-01-26 04:37:57,867 Train Evaluator INFO: Engine run complete. Time taken: 00:00:06\n",
      "2021-01-26 04:37:57,868 Val Evaluator INFO: Engine run starting with max_epochs=1.\n",
      "2021-01-26 04:37:59,850 Val Evaluator INFO: Epoch[1] Complete. Time taken: 00:00:02\n",
      "2021-01-26 04:37:59,851 Val Evaluator INFO: Engine run complete. Time taken: 00:00:02\n",
      "\u001b[34m\u001b[1mwandb\u001b[0m: \u001b[33mWARNING\u001b[0m Step must only increase in log calls.  Step 93 < 558; dropping {'lr/group_0': 0.001}.\n",
      "2021-01-26 04:37:59,858 Trainer INFO: Epoch[93] Complete. Time taken: 00:00:15\n"
     ]
    },
    {
     "name": "stdout",
     "output_type": "stream",
     "text": [
      "train loss 0.06670217235853686\n",
      "val loss 0.9050005140511886\n",
      "validation roc auc [0.79633085 0.66449005] 93\n",
      "train roc auc [1. 1.] 93\n"
     ]
    },
    {
     "name": "stderr",
     "output_type": "stream",
     "text": [
      "2021-01-26 04:38:06,438 Train Evaluator INFO: Engine run starting with max_epochs=1.\n",
      "2021-01-26 04:38:11,942 Train Evaluator INFO: Epoch[1] Complete. Time taken: 00:00:06\n",
      "2021-01-26 04:38:11,944 Train Evaluator INFO: Engine run complete. Time taken: 00:00:06\n",
      "2021-01-26 04:38:11,944 Val Evaluator INFO: Engine run starting with max_epochs=1.\n",
      "2021-01-26 04:38:13,842 Val Evaluator INFO: Epoch[1] Complete. Time taken: 00:00:02\n",
      "2021-01-26 04:38:13,845 Val Evaluator INFO: Engine run complete. Time taken: 00:00:02\n",
      "\u001b[34m\u001b[1mwandb\u001b[0m: \u001b[33mWARNING\u001b[0m Step must only increase in log calls.  Step 94 < 564; dropping {'lr/group_0': 0.001}.\n",
      "2021-01-26 04:38:13,853 Trainer INFO: Epoch[94] Complete. Time taken: 00:00:14\n"
     ]
    },
    {
     "name": "stdout",
     "output_type": "stream",
     "text": [
      "train loss 0.06500059267032075\n",
      "val loss 0.9304753666338713\n",
      "validation roc auc [0.79633085 0.66449005] 94\n",
      "train roc auc [1. 1.] 94\n"
     ]
    },
    {
     "name": "stderr",
     "output_type": "stream",
     "text": [
      "2021-01-26 04:38:19,458 Train Evaluator INFO: Engine run starting with max_epochs=1.\n",
      "2021-01-26 04:38:25,584 Train Evaluator INFO: Epoch[1] Complete. Time taken: 00:00:06\n",
      "2021-01-26 04:38:25,585 Train Evaluator INFO: Engine run complete. Time taken: 00:00:06\n",
      "2021-01-26 04:38:25,586 Val Evaluator INFO: Engine run starting with max_epochs=1.\n",
      "2021-01-26 04:38:27,363 Val Evaluator INFO: Epoch[1] Complete. Time taken: 00:00:02\n",
      "2021-01-26 04:38:27,366 Val Evaluator INFO: Engine run complete. Time taken: 00:00:02\n",
      "\u001b[34m\u001b[1mwandb\u001b[0m: \u001b[33mWARNING\u001b[0m Step must only increase in log calls.  Step 95 < 570; dropping {'lr/group_0': 0.001}.\n",
      "2021-01-26 04:38:27,375 Trainer INFO: Epoch[95] Complete. Time taken: 00:00:14\n"
     ]
    },
    {
     "name": "stdout",
     "output_type": "stream",
     "text": [
      "train loss 0.06320372642673684\n",
      "val loss 0.8934954021288001\n",
      "validation roc auc [0.79446517 0.66697761] 95\n",
      "train roc auc [1. 1.] 95\n"
     ]
    },
    {
     "name": "stderr",
     "output_type": "stream",
     "text": [
      "2021-01-26 04:38:33,255 Train Evaluator INFO: Engine run starting with max_epochs=1.\n",
      "2021-01-26 04:38:38,912 Train Evaluator INFO: Epoch[1] Complete. Time taken: 00:00:06\n",
      "2021-01-26 04:38:38,914 Train Evaluator INFO: Engine run complete. Time taken: 00:00:06\n",
      "2021-01-26 04:38:38,915 Val Evaluator INFO: Engine run starting with max_epochs=1.\n",
      "2021-01-26 04:38:41,039 Val Evaluator INFO: Epoch[1] Complete. Time taken: 00:00:02\n",
      "2021-01-26 04:38:41,041 Val Evaluator INFO: Engine run complete. Time taken: 00:00:02\n",
      "\u001b[34m\u001b[1mwandb\u001b[0m: \u001b[33mWARNING\u001b[0m Step must only increase in log calls.  Step 96 < 576; dropping {'lr/group_0': 0.001}.\n",
      "2021-01-26 04:38:41,049 Trainer INFO: Epoch[96] Complete. Time taken: 00:00:14\n"
     ]
    },
    {
     "name": "stdout",
     "output_type": "stream",
     "text": [
      "train loss 0.06125646774497258\n",
      "val loss 0.9273243805636531\n",
      "validation roc auc [0.79322139 0.66573383] 96\n",
      "train roc auc [1. 1.] 96\n"
     ]
    },
    {
     "name": "stderr",
     "output_type": "stream",
     "text": [
      "2021-01-26 04:38:47,832 Train Evaluator INFO: Engine run starting with max_epochs=1.\n",
      "2021-01-26 04:38:54,015 Train Evaluator INFO: Epoch[1] Complete. Time taken: 00:00:06\n",
      "2021-01-26 04:38:54,018 Train Evaluator INFO: Engine run complete. Time taken: 00:00:06\n",
      "2021-01-26 04:38:54,019 Val Evaluator INFO: Engine run starting with max_epochs=1.\n",
      "2021-01-26 04:38:56,237 Val Evaluator INFO: Epoch[1] Complete. Time taken: 00:00:02\n",
      "2021-01-26 04:38:56,239 Val Evaluator INFO: Engine run complete. Time taken: 00:00:02\n",
      "\u001b[34m\u001b[1mwandb\u001b[0m: \u001b[33mWARNING\u001b[0m Step must only increase in log calls.  Step 97 < 582; dropping {'lr/group_0': 0.001}.\n",
      "2021-01-26 04:38:56,247 Trainer INFO: Epoch[97] Complete. Time taken: 00:00:15\n"
     ]
    },
    {
     "name": "stdout",
     "output_type": "stream",
     "text": [
      "train loss 0.05968032481931371\n",
      "val loss 0.9032402836758158\n",
      "validation roc auc [0.79322139 0.66728856] 97\n",
      "train roc auc [1. 1.] 97\n"
     ]
    },
    {
     "name": "stderr",
     "output_type": "stream",
     "text": [
      "2021-01-26 04:39:02,906 Train Evaluator INFO: Engine run starting with max_epochs=1.\n",
      "2021-01-26 04:39:08,799 Train Evaluator INFO: Epoch[1] Complete. Time taken: 00:00:06\n",
      "2021-01-26 04:39:08,802 Train Evaluator INFO: Engine run complete. Time taken: 00:00:06\n",
      "2021-01-26 04:39:08,803 Val Evaluator INFO: Engine run starting with max_epochs=1.\n",
      "2021-01-26 04:39:10,777 Val Evaluator INFO: Epoch[1] Complete. Time taken: 00:00:02\n",
      "2021-01-26 04:39:10,779 Val Evaluator INFO: Engine run complete. Time taken: 00:00:02\n",
      "\u001b[34m\u001b[1mwandb\u001b[0m: \u001b[33mWARNING\u001b[0m Step must only increase in log calls.  Step 98 < 588; dropping {'lr/group_0': 0.001}.\n",
      "2021-01-26 04:39:10,787 Trainer INFO: Epoch[98] Complete. Time taken: 00:00:15\n"
     ]
    },
    {
     "name": "stdout",
     "output_type": "stream",
     "text": [
      "train loss 0.05793916184962149\n",
      "val loss 0.9159102263657943\n",
      "validation roc auc [0.79384328 0.66697761] 98\n",
      "train roc auc [1. 1.] 98\n"
     ]
    },
    {
     "name": "stderr",
     "output_type": "stream",
     "text": [
      "2021-01-26 04:39:17,170 Train Evaluator INFO: Engine run starting with max_epochs=1.\n",
      "2021-01-26 04:39:23,072 Train Evaluator INFO: Epoch[1] Complete. Time taken: 00:00:06\n",
      "2021-01-26 04:39:23,075 Train Evaluator INFO: Engine run complete. Time taken: 00:00:06\n",
      "2021-01-26 04:39:23,076 Val Evaluator INFO: Engine run starting with max_epochs=1.\n",
      "2021-01-26 04:39:25,030 Val Evaluator INFO: Epoch[1] Complete. Time taken: 00:00:02\n",
      "2021-01-26 04:39:25,032 Val Evaluator INFO: Engine run complete. Time taken: 00:00:02\n",
      "\u001b[34m\u001b[1mwandb\u001b[0m: \u001b[33mWARNING\u001b[0m Step must only increase in log calls.  Step 99 < 594; dropping {'lr/group_0': 0.001}.\n",
      "2021-01-26 04:39:25,039 Trainer INFO: Epoch[99] Complete. Time taken: 00:00:14\n"
     ]
    },
    {
     "name": "stdout",
     "output_type": "stream",
     "text": [
      "train loss 0.0567805397836767\n",
      "val loss 0.9837649635646655\n",
      "validation roc auc [0.79477612 0.66200249] 99\n",
      "train roc auc [1. 1.] 99\n"
     ]
    },
    {
     "name": "stderr",
     "output_type": "stream",
     "text": [
      "2021-01-26 04:39:31,310 Train Evaluator INFO: Engine run starting with max_epochs=1.\n",
      "2021-01-26 04:39:37,032 Train Evaluator INFO: Epoch[1] Complete. Time taken: 00:00:06\n",
      "2021-01-26 04:39:37,034 Train Evaluator INFO: Engine run complete. Time taken: 00:00:06\n",
      "2021-01-26 04:39:37,036 Val Evaluator INFO: Engine run starting with max_epochs=1.\n",
      "2021-01-26 04:39:39,213 Val Evaluator INFO: Epoch[1] Complete. Time taken: 00:00:02\n",
      "2021-01-26 04:39:39,215 Val Evaluator INFO: Engine run complete. Time taken: 00:00:02\n",
      "\u001b[34m\u001b[1mwandb\u001b[0m: \u001b[33mWARNING\u001b[0m Step must only increase in log calls.  Step 100 < 600; dropping {'lr/group_0': 0.001}.\n",
      "2021-01-26 04:39:39,227 Trainer INFO: Epoch[100] Complete. Time taken: 00:00:14\n"
     ]
    },
    {
     "name": "stdout",
     "output_type": "stream",
     "text": [
      "train loss 0.05493433191578769\n",
      "val loss 0.9162149553713591\n",
      "validation roc auc [0.79477612 0.66697761] 100\n",
      "train roc auc [1. 1.] 100\n"
     ]
    },
    {
     "name": "stderr",
     "output_type": "stream",
     "text": [
      "2021-01-26 04:39:45,542 Train Evaluator INFO: Engine run starting with max_epochs=1.\n",
      "2021-01-26 04:39:51,600 Train Evaluator INFO: Epoch[1] Complete. Time taken: 00:00:06\n",
      "2021-01-26 04:39:51,602 Train Evaluator INFO: Engine run complete. Time taken: 00:00:06\n",
      "2021-01-26 04:39:51,603 Val Evaluator INFO: Engine run starting with max_epochs=1.\n",
      "2021-01-26 04:39:53,557 Val Evaluator INFO: Epoch[1] Complete. Time taken: 00:00:02\n",
      "2021-01-26 04:39:53,559 Val Evaluator INFO: Engine run complete. Time taken: 00:00:02\n",
      "\u001b[34m\u001b[1mwandb\u001b[0m: \u001b[33mWARNING\u001b[0m Step must only increase in log calls.  Step 101 < 606; dropping {'lr/group_0': 0.001}.\n",
      "2021-01-26 04:39:53,566 Trainer INFO: Epoch[101] Complete. Time taken: 00:00:14\n"
     ]
    },
    {
     "name": "stdout",
     "output_type": "stream",
     "text": [
      "train loss 0.05327153307270016\n",
      "val loss 0.9649492699167003\n",
      "validation roc auc [0.79570896 0.66324627] 101\n",
      "train roc auc [1. 1.] 101\n"
     ]
    },
    {
     "name": "stderr",
     "output_type": "stream",
     "text": [
      "2021-01-26 04:40:00,158 Train Evaluator INFO: Engine run starting with max_epochs=1.\n",
      "2021-01-26 04:40:06,176 Train Evaluator INFO: Epoch[1] Complete. Time taken: 00:00:06\n",
      "2021-01-26 04:40:06,177 Train Evaluator INFO: Engine run complete. Time taken: 00:00:06\n",
      "2021-01-26 04:40:06,178 Val Evaluator INFO: Engine run starting with max_epochs=1.\n",
      "2021-01-26 04:40:08,226 Val Evaluator INFO: Epoch[1] Complete. Time taken: 00:00:02\n",
      "2021-01-26 04:40:08,229 Val Evaluator INFO: Engine run complete. Time taken: 00:00:02\n",
      "\u001b[34m\u001b[1mwandb\u001b[0m: \u001b[33mWARNING\u001b[0m Step must only increase in log calls.  Step 102 < 612; dropping {'lr/group_0': 0.001}.\n",
      "2021-01-26 04:40:08,237 Trainer INFO: Epoch[102] Complete. Time taken: 00:00:15\n"
     ]
    },
    {
     "name": "stdout",
     "output_type": "stream",
     "text": [
      "train loss 0.051933140157771535\n",
      "val loss 0.9290655996488488\n",
      "validation roc auc [0.79539801 0.66666667] 102\n",
      "train roc auc [1. 1.] 102\n"
     ]
    },
    {
     "name": "stderr",
     "output_type": "stream",
     "text": [
      "2021-01-26 04:40:14,562 Train Evaluator INFO: Engine run starting with max_epochs=1.\n",
      "2021-01-26 04:40:20,542 Train Evaluator INFO: Epoch[1] Complete. Time taken: 00:00:06\n",
      "2021-01-26 04:40:20,545 Train Evaluator INFO: Engine run complete. Time taken: 00:00:06\n",
      "2021-01-26 04:40:20,546 Val Evaluator INFO: Engine run starting with max_epochs=1.\n",
      "2021-01-26 04:40:22,360 Val Evaluator INFO: Epoch[1] Complete. Time taken: 00:00:02\n",
      "2021-01-26 04:40:22,361 Val Evaluator INFO: Engine run complete. Time taken: 00:00:02\n",
      "\u001b[34m\u001b[1mwandb\u001b[0m: \u001b[33mWARNING\u001b[0m Step must only increase in log calls.  Step 103 < 618; dropping {'lr/group_0': 0.001}.\n",
      "2021-01-26 04:40:22,369 Trainer INFO: Epoch[103] Complete. Time taken: 00:00:14\n"
     ]
    },
    {
     "name": "stdout",
     "output_type": "stream",
     "text": [
      "train loss 0.050406273123780654\n",
      "val loss 0.9812878225160682\n",
      "validation roc auc [0.7960199  0.66386816] 103\n",
      "train roc auc [1. 1.] 103\n"
     ]
    },
    {
     "name": "stderr",
     "output_type": "stream",
     "text": [
      "2021-01-26 04:40:27,991 Train Evaluator INFO: Engine run starting with max_epochs=1.\n",
      "2021-01-26 04:40:34,567 Train Evaluator INFO: Epoch[1] Complete. Time taken: 00:00:07\n",
      "2021-01-26 04:40:34,570 Train Evaluator INFO: Engine run complete. Time taken: 00:00:07\n",
      "2021-01-26 04:40:34,571 Val Evaluator INFO: Engine run starting with max_epochs=1.\n",
      "2021-01-26 04:40:36,679 Val Evaluator INFO: Epoch[1] Complete. Time taken: 00:00:02\n",
      "2021-01-26 04:40:36,682 Val Evaluator INFO: Engine run complete. Time taken: 00:00:02\n",
      "\u001b[34m\u001b[1mwandb\u001b[0m: \u001b[33mWARNING\u001b[0m Step must only increase in log calls.  Step 104 < 624; dropping {'lr/group_0': 0.001}.\n",
      "2021-01-26 04:40:36,689 Trainer INFO: Epoch[104] Complete. Time taken: 00:00:14\n"
     ]
    },
    {
     "name": "stdout",
     "output_type": "stream",
     "text": [
      "train loss 0.049100162229947085\n",
      "val loss 0.9848885790161465\n",
      "validation roc auc [0.79539801 0.66324627] 104\n",
      "train roc auc [1. 1.] 104\n"
     ]
    },
    {
     "name": "stderr",
     "output_type": "stream",
     "text": [
      "2021-01-26 04:40:42,607 Train Evaluator INFO: Engine run starting with max_epochs=1.\n",
      "2021-01-26 04:40:49,146 Train Evaluator INFO: Epoch[1] Complete. Time taken: 00:00:07\n",
      "2021-01-26 04:40:49,149 Train Evaluator INFO: Engine run complete. Time taken: 00:00:07\n",
      "2021-01-26 04:40:49,150 Val Evaluator INFO: Engine run starting with max_epochs=1.\n",
      "2021-01-26 04:40:50,810 Val Evaluator INFO: Epoch[1] Complete. Time taken: 00:00:02\n",
      "2021-01-26 04:40:50,812 Val Evaluator INFO: Engine run complete. Time taken: 00:00:02\n",
      "\u001b[34m\u001b[1mwandb\u001b[0m: \u001b[33mWARNING\u001b[0m Step must only increase in log calls.  Step 105 < 630; dropping {'lr/group_0': 0.001}.\n",
      "2021-01-26 04:40:50,820 Trainer INFO: Epoch[105] Complete. Time taken: 00:00:14\n"
     ]
    },
    {
     "name": "stdout",
     "output_type": "stream",
     "text": [
      "train loss 0.047942652615040715\n",
      "val loss 0.942591176862302\n",
      "validation roc auc [0.79508706 0.66666667] 105\n",
      "train roc auc [1. 1.] 105\n"
     ]
    },
    {
     "name": "stderr",
     "output_type": "stream",
     "text": [
      "2021-01-26 04:40:56,443 Train Evaluator INFO: Engine run starting with max_epochs=1.\n",
      "2021-01-26 04:41:02,103 Train Evaluator INFO: Epoch[1] Complete. Time taken: 00:00:06\n",
      "2021-01-26 04:41:02,106 Train Evaluator INFO: Engine run complete. Time taken: 00:00:06\n",
      "2021-01-26 04:41:02,107 Val Evaluator INFO: Engine run starting with max_epochs=1.\n",
      "2021-01-26 04:41:04,387 Val Evaluator INFO: Epoch[1] Complete. Time taken: 00:00:02\n",
      "2021-01-26 04:41:04,389 Val Evaluator INFO: Engine run complete. Time taken: 00:00:02\n",
      "\u001b[34m\u001b[1mwandb\u001b[0m: \u001b[33mWARNING\u001b[0m Step must only increase in log calls.  Step 106 < 636; dropping {'lr/group_0': 0.001}.\n",
      "2021-01-26 04:41:04,398 Trainer INFO: Epoch[106] Complete. Time taken: 00:00:14\n"
     ]
    },
    {
     "name": "stdout",
     "output_type": "stream",
     "text": [
      "train loss 0.046528909068841204\n",
      "val loss 1.002476005450539\n",
      "validation roc auc [0.79384328 0.66386816] 106\n",
      "train roc auc [1. 1.] 106\n"
     ]
    },
    {
     "name": "stderr",
     "output_type": "stream",
     "text": [
      "2021-01-26 04:41:10,684 Train Evaluator INFO: Engine run starting with max_epochs=1.\n",
      "2021-01-26 04:41:16,455 Train Evaluator INFO: Epoch[1] Complete. Time taken: 00:00:06\n",
      "2021-01-26 04:41:16,458 Train Evaluator INFO: Engine run complete. Time taken: 00:00:06\n",
      "2021-01-26 04:41:16,460 Val Evaluator INFO: Engine run starting with max_epochs=1.\n",
      "2021-01-26 04:41:18,694 Val Evaluator INFO: Epoch[1] Complete. Time taken: 00:00:02\n",
      "2021-01-26 04:41:18,697 Val Evaluator INFO: Engine run complete. Time taken: 00:00:02\n",
      "\u001b[34m\u001b[1mwandb\u001b[0m: \u001b[33mWARNING\u001b[0m Step must only increase in log calls.  Step 107 < 642; dropping {'lr/group_0': 0.001}.\n",
      "2021-01-26 04:41:18,704 Trainer INFO: Epoch[107] Complete. Time taken: 00:00:14\n"
     ]
    },
    {
     "name": "stdout",
     "output_type": "stream",
     "text": [
      "train loss 0.04522677898936018\n",
      "val loss 0.9888208171595698\n",
      "validation roc auc [0.79384328 0.6641791 ] 107\n",
      "train roc auc [1. 1.] 107\n"
     ]
    },
    {
     "name": "stderr",
     "output_type": "stream",
     "text": [
      "2021-01-26 04:41:24,951 Train Evaluator INFO: Engine run starting with max_epochs=1.\n",
      "2021-01-26 04:41:30,719 Train Evaluator INFO: Epoch[1] Complete. Time taken: 00:00:06\n",
      "2021-01-26 04:41:30,721 Train Evaluator INFO: Engine run complete. Time taken: 00:00:06\n",
      "2021-01-26 04:41:30,722 Val Evaluator INFO: Engine run starting with max_epochs=1.\n",
      "2021-01-26 04:41:32,314 Val Evaluator INFO: Epoch[1] Complete. Time taken: 00:00:02\n",
      "2021-01-26 04:41:32,315 Val Evaluator INFO: Engine run complete. Time taken: 00:00:02\n",
      "\u001b[34m\u001b[1mwandb\u001b[0m: \u001b[33mWARNING\u001b[0m Step must only increase in log calls.  Step 108 < 648; dropping {'lr/group_0': 0.001}.\n",
      "2021-01-26 04:41:32,324 Trainer INFO: Epoch[108] Complete. Time taken: 00:00:14\n"
     ]
    },
    {
     "name": "stdout",
     "output_type": "stream",
     "text": [
      "train loss 0.04423417468395459\n",
      "val loss 0.9620498719422713\n",
      "validation roc auc [0.79291045 0.664801  ] 108\n",
      "train roc auc [1. 1.] 108\n"
     ]
    },
    {
     "name": "stderr",
     "output_type": "stream",
     "text": [
      "2021-01-26 04:41:39,222 Train Evaluator INFO: Engine run starting with max_epochs=1.\n",
      "2021-01-26 04:41:44,790 Train Evaluator INFO: Epoch[1] Complete. Time taken: 00:00:06\n",
      "2021-01-26 04:41:44,793 Train Evaluator INFO: Engine run complete. Time taken: 00:00:06\n",
      "2021-01-26 04:41:44,794 Val Evaluator INFO: Engine run starting with max_epochs=1.\n",
      "2021-01-26 04:41:47,306 Val Evaluator INFO: Epoch[1] Complete. Time taken: 00:00:03\n",
      "2021-01-26 04:41:47,308 Val Evaluator INFO: Engine run complete. Time taken: 00:00:03\n",
      "\u001b[34m\u001b[1mwandb\u001b[0m: \u001b[33mWARNING\u001b[0m Step must only increase in log calls.  Step 109 < 654; dropping {'lr/group_0': 0.001}.\n",
      "2021-01-26 04:41:47,315 Trainer INFO: Epoch[109] Complete. Time taken: 00:00:15\n"
     ]
    },
    {
     "name": "stdout",
     "output_type": "stream",
     "text": [
      "train loss 0.043182036470203\n",
      "val loss 1.0344586973604948\n",
      "validation roc auc [0.79228856 0.66044776] 109\n",
      "train roc auc [1. 1.] 109\n"
     ]
    },
    {
     "name": "stderr",
     "output_type": "stream",
     "text": [
      "2021-01-26 04:41:53,091 Train Evaluator INFO: Engine run starting with max_epochs=1.\n",
      "2021-01-26 04:41:58,325 Train Evaluator INFO: Epoch[1] Complete. Time taken: 00:00:05\n",
      "2021-01-26 04:41:58,326 Train Evaluator INFO: Engine run complete. Time taken: 00:00:05\n",
      "2021-01-26 04:41:58,327 Val Evaluator INFO: Engine run starting with max_epochs=1.\n",
      "2021-01-26 04:42:00,406 Val Evaluator INFO: Epoch[1] Complete. Time taken: 00:00:02\n",
      "2021-01-26 04:42:00,409 Val Evaluator INFO: Engine run complete. Time taken: 00:00:02\n",
      "\u001b[34m\u001b[1mwandb\u001b[0m: \u001b[33mWARNING\u001b[0m Step must only increase in log calls.  Step 110 < 660; dropping {'lr/group_0': 0.001}.\n",
      "2021-01-26 04:42:00,417 Trainer INFO: Epoch[110] Complete. Time taken: 00:00:13\n"
     ]
    },
    {
     "name": "stdout",
     "output_type": "stream",
     "text": [
      "train loss 0.04189393896411157\n",
      "val loss 0.9804223863974861\n",
      "validation roc auc [0.79291045 0.664801  ] 110\n",
      "train roc auc [1. 1.] 110\n"
     ]
    },
    {
     "name": "stderr",
     "output_type": "stream",
     "text": [
      "2021-01-26 04:42:06,679 Train Evaluator INFO: Engine run starting with max_epochs=1.\n",
      "2021-01-26 04:42:12,939 Train Evaluator INFO: Epoch[1] Complete. Time taken: 00:00:06\n",
      "2021-01-26 04:42:12,941 Train Evaluator INFO: Engine run complete. Time taken: 00:00:06\n",
      "2021-01-26 04:42:12,942 Val Evaluator INFO: Engine run starting with max_epochs=1.\n",
      "2021-01-26 04:42:15,094 Val Evaluator INFO: Epoch[1] Complete. Time taken: 00:00:02\n",
      "2021-01-26 04:42:15,095 Val Evaluator INFO: Engine run complete. Time taken: 00:00:02\n",
      "\u001b[34m\u001b[1mwandb\u001b[0m: \u001b[33mWARNING\u001b[0m Step must only increase in log calls.  Step 111 < 666; dropping {'lr/group_0': 0.001}.\n",
      "2021-01-26 04:42:15,104 Trainer INFO: Epoch[111] Complete. Time taken: 00:00:15\n"
     ]
    },
    {
     "name": "stdout",
     "output_type": "stream",
     "text": [
      "train loss 0.04075117317750256\n",
      "val loss 1.018053320179815\n",
      "validation roc auc [0.79197761 0.66200249] 111\n",
      "train roc auc [1. 1.] 111\n"
     ]
    },
    {
     "name": "stderr",
     "output_type": "stream",
     "text": [
      "2021-01-26 04:42:21,087 Train Evaluator INFO: Engine run starting with max_epochs=1.\n",
      "2021-01-26 04:42:27,840 Train Evaluator INFO: Epoch[1] Complete. Time taken: 00:00:07\n",
      "2021-01-26 04:42:27,842 Train Evaluator INFO: Engine run complete. Time taken: 00:00:07\n",
      "2021-01-26 04:42:27,843 Val Evaluator INFO: Engine run starting with max_epochs=1.\n",
      "2021-01-26 04:42:29,859 Val Evaluator INFO: Epoch[1] Complete. Time taken: 00:00:02\n",
      "2021-01-26 04:42:29,861 Val Evaluator INFO: Engine run complete. Time taken: 00:00:02\n",
      "\u001b[34m\u001b[1mwandb\u001b[0m: \u001b[33mWARNING\u001b[0m Step must only increase in log calls.  Step 112 < 672; dropping {'lr/group_0': 0.001}.\n",
      "2021-01-26 04:42:29,869 Trainer INFO: Epoch[112] Complete. Time taken: 00:00:15\n"
     ]
    },
    {
     "name": "stdout",
     "output_type": "stream",
     "text": [
      "train loss 0.03971260801486715\n",
      "val loss 1.0200313091278077\n",
      "validation roc auc [0.79135572 0.66106965] 112\n",
      "train roc auc [1. 1.] 112\n"
     ]
    },
    {
     "name": "stderr",
     "output_type": "stream",
     "text": [
      "2021-01-26 04:42:36,206 Train Evaluator INFO: Engine run starting with max_epochs=1.\n",
      "2021-01-26 04:42:42,759 Train Evaluator INFO: Epoch[1] Complete. Time taken: 00:00:07\n",
      "2021-01-26 04:42:42,761 Train Evaluator INFO: Engine run complete. Time taken: 00:00:07\n",
      "2021-01-26 04:42:42,763 Val Evaluator INFO: Engine run starting with max_epochs=1.\n",
      "2021-01-26 04:42:45,421 Val Evaluator INFO: Epoch[1] Complete. Time taken: 00:00:03\n",
      "2021-01-26 04:42:45,423 Val Evaluator INFO: Engine run complete. Time taken: 00:00:03\n",
      "\u001b[34m\u001b[1mwandb\u001b[0m: \u001b[33mWARNING\u001b[0m Step must only increase in log calls.  Step 113 < 678; dropping {'lr/group_0': 0.001}.\n",
      "2021-01-26 04:42:45,431 Trainer INFO: Epoch[113] Complete. Time taken: 00:00:16\n"
     ]
    },
    {
     "name": "stdout",
     "output_type": "stream",
     "text": [
      "train loss 0.03881277595839557\n",
      "val loss 0.9956707529399706\n",
      "validation roc auc [0.79073383 0.664801  ] 113\n",
      "train roc auc [1. 1.] 113\n"
     ]
    },
    {
     "name": "stderr",
     "output_type": "stream",
     "text": [
      "2021-01-26 04:42:52,082 Train Evaluator INFO: Engine run starting with max_epochs=1.\n",
      "2021-01-26 04:42:57,723 Train Evaluator INFO: Epoch[1] Complete. Time taken: 00:00:06\n",
      "2021-01-26 04:42:57,726 Train Evaluator INFO: Engine run complete. Time taken: 00:00:06\n",
      "2021-01-26 04:42:57,727 Val Evaluator INFO: Engine run starting with max_epochs=1.\n",
      "2021-01-26 04:42:59,588 Val Evaluator INFO: Epoch[1] Complete. Time taken: 00:00:02\n",
      "2021-01-26 04:42:59,590 Val Evaluator INFO: Engine run complete. Time taken: 00:00:02\n",
      "\u001b[34m\u001b[1mwandb\u001b[0m: \u001b[33mWARNING\u001b[0m Step must only increase in log calls.  Step 114 < 684; dropping {'lr/group_0': 0.001}.\n",
      "2021-01-26 04:42:59,597 Trainer INFO: Epoch[114] Complete. Time taken: 00:00:14\n"
     ]
    },
    {
     "name": "stdout",
     "output_type": "stream",
     "text": [
      "train loss 0.03779141116644857\n",
      "val loss 1.0349576856779015\n",
      "validation roc auc [0.79073383 0.66169154] 114\n",
      "train roc auc [1. 1.] 114\n"
     ]
    },
    {
     "name": "stderr",
     "output_type": "stream",
     "text": [
      "2021-01-26 04:43:06,032 Train Evaluator INFO: Engine run starting with max_epochs=1.\n",
      "2021-01-26 04:43:12,418 Train Evaluator INFO: Epoch[1] Complete. Time taken: 00:00:06\n",
      "2021-01-26 04:43:12,419 Train Evaluator INFO: Engine run complete. Time taken: 00:00:06\n",
      "2021-01-26 04:43:12,421 Val Evaluator INFO: Engine run starting with max_epochs=1.\n",
      "2021-01-26 04:43:14,393 Val Evaluator INFO: Epoch[1] Complete. Time taken: 00:00:02\n",
      "2021-01-26 04:43:14,395 Val Evaluator INFO: Engine run complete. Time taken: 00:00:02\n",
      "\u001b[34m\u001b[1mwandb\u001b[0m: \u001b[33mWARNING\u001b[0m Step must only increase in log calls.  Step 115 < 690; dropping {'lr/group_0': 0.001}.\n",
      "2021-01-26 04:43:14,402 Trainer INFO: Epoch[115] Complete. Time taken: 00:00:15\n"
     ]
    },
    {
     "name": "stdout",
     "output_type": "stream",
     "text": [
      "train loss 0.037031015282022885\n",
      "val loss 0.9963636242825052\n",
      "validation roc auc [0.7891791  0.66511194] 115\n",
      "train roc auc [1. 1.] 115\n"
     ]
    },
    {
     "name": "stderr",
     "output_type": "stream",
     "text": [
      "2021-01-26 04:43:20,783 Train Evaluator INFO: Engine run starting with max_epochs=1.\n",
      "2021-01-26 04:43:26,262 Train Evaluator INFO: Epoch[1] Complete. Time taken: 00:00:05\n",
      "2021-01-26 04:43:26,266 Train Evaluator INFO: Engine run complete. Time taken: 00:00:05\n",
      "2021-01-26 04:43:26,267 Val Evaluator INFO: Engine run starting with max_epochs=1.\n",
      "2021-01-26 04:43:28,377 Val Evaluator INFO: Epoch[1] Complete. Time taken: 00:00:02\n",
      "2021-01-26 04:43:28,379 Val Evaluator INFO: Engine run complete. Time taken: 00:00:02\n",
      "\u001b[34m\u001b[1mwandb\u001b[0m: \u001b[33mWARNING\u001b[0m Step must only increase in log calls.  Step 116 < 696; dropping {'lr/group_0': 0.001}.\n",
      "2021-01-26 04:43:28,386 Trainer INFO: Epoch[116] Complete. Time taken: 00:00:14\n"
     ]
    },
    {
     "name": "stdout",
     "output_type": "stream",
     "text": [
      "train loss 0.035995683065180244\n",
      "val loss 1.0629463123238605\n",
      "validation roc auc [0.78762438 0.66169154] 116\n",
      "train roc auc [1. 1.] 116\n"
     ]
    },
    {
     "name": "stderr",
     "output_type": "stream",
     "text": [
      "2021-01-26 04:43:34,387 Train Evaluator INFO: Engine run starting with max_epochs=1.\n",
      "2021-01-26 04:43:40,865 Train Evaluator INFO: Epoch[1] Complete. Time taken: 00:00:06\n",
      "2021-01-26 04:43:40,868 Train Evaluator INFO: Engine run complete. Time taken: 00:00:06\n",
      "2021-01-26 04:43:40,870 Val Evaluator INFO: Engine run starting with max_epochs=1.\n",
      "2021-01-26 04:43:42,988 Val Evaluator INFO: Epoch[1] Complete. Time taken: 00:00:02\n",
      "2021-01-26 04:43:42,990 Val Evaluator INFO: Engine run complete. Time taken: 00:00:02\n",
      "\u001b[34m\u001b[1mwandb\u001b[0m: \u001b[33mWARNING\u001b[0m Step must only increase in log calls.  Step 117 < 702; dropping {'lr/group_0': 0.001}.\n",
      "2021-01-26 04:43:42,997 Trainer INFO: Epoch[117] Complete. Time taken: 00:00:15\n"
     ]
    },
    {
     "name": "stdout",
     "output_type": "stream",
     "text": [
      "train loss 0.03502354709178033\n",
      "val loss 1.044811254998912\n",
      "validation roc auc [0.78886816 0.66231343] 117\n",
      "train roc auc [1. 1.] 117\n"
     ]
    },
    {
     "name": "stderr",
     "output_type": "stream",
     "text": [
      "2021-01-26 04:43:49,442 Train Evaluator INFO: Engine run starting with max_epochs=1.\n",
      "2021-01-26 04:43:56,220 Train Evaluator INFO: Epoch[1] Complete. Time taken: 00:00:07\n",
      "2021-01-26 04:43:56,222 Train Evaluator INFO: Engine run complete. Time taken: 00:00:07\n",
      "2021-01-26 04:43:56,223 Val Evaluator INFO: Engine run starting with max_epochs=1.\n",
      "2021-01-26 04:43:58,467 Val Evaluator INFO: Epoch[1] Complete. Time taken: 00:00:02\n",
      "2021-01-26 04:43:58,468 Val Evaluator INFO: Engine run complete. Time taken: 00:00:02\n",
      "\u001b[34m\u001b[1mwandb\u001b[0m: \u001b[33mWARNING\u001b[0m Step must only increase in log calls.  Step 118 < 708; dropping {'lr/group_0': 0.001}.\n",
      "2021-01-26 04:43:58,477 Trainer INFO: Epoch[118] Complete. Time taken: 00:00:15\n"
     ]
    },
    {
     "name": "stdout",
     "output_type": "stream",
     "text": [
      "train loss 0.03417293662370662\n",
      "val loss 1.0534643463466478\n",
      "validation roc auc [0.78824627 0.6641791 ] 118\n",
      "train roc auc [1. 1.] 118\n"
     ]
    },
    {
     "name": "stderr",
     "output_type": "stream",
     "text": [
      "2021-01-26 04:44:05,100 Train Evaluator INFO: Engine run starting with max_epochs=1.\n",
      "2021-01-26 04:44:11,252 Train Evaluator INFO: Epoch[1] Complete. Time taken: 00:00:06\n",
      "2021-01-26 04:44:11,255 Train Evaluator INFO: Engine run complete. Time taken: 00:00:06\n",
      "2021-01-26 04:44:11,256 Val Evaluator INFO: Engine run starting with max_epochs=1.\n",
      "2021-01-26 04:44:13,126 Val Evaluator INFO: Epoch[1] Complete. Time taken: 00:00:02\n",
      "2021-01-26 04:44:13,128 Val Evaluator INFO: Engine run complete. Time taken: 00:00:02\n",
      "\u001b[34m\u001b[1mwandb\u001b[0m: \u001b[33mWARNING\u001b[0m Step must only increase in log calls.  Step 119 < 714; dropping {'lr/group_0': 0.001}.\n",
      "2021-01-26 04:44:13,136 Trainer INFO: Epoch[119] Complete. Time taken: 00:00:15\n"
     ]
    },
    {
     "name": "stdout",
     "output_type": "stream",
     "text": [
      "train loss 0.03344627063082167\n",
      "val loss 1.0201725866483606\n",
      "validation roc auc [0.78731343 0.66542289] 119\n",
      "train roc auc [1. 1.] 119\n"
     ]
    },
    {
     "name": "stderr",
     "output_type": "stream",
     "text": [
      "2021-01-26 04:44:19,938 Train Evaluator INFO: Engine run starting with max_epochs=1.\n",
      "2021-01-26 04:44:25,687 Train Evaluator INFO: Epoch[1] Complete. Time taken: 00:00:06\n",
      "2021-01-26 04:44:25,690 Train Evaluator INFO: Engine run complete. Time taken: 00:00:06\n",
      "2021-01-26 04:44:25,691 Val Evaluator INFO: Engine run starting with max_epochs=1.\n",
      "2021-01-26 04:44:27,555 Val Evaluator INFO: Epoch[1] Complete. Time taken: 00:00:02\n",
      "2021-01-26 04:44:27,556 Val Evaluator INFO: Engine run complete. Time taken: 00:00:02\n",
      "\u001b[34m\u001b[1mwandb\u001b[0m: \u001b[33mWARNING\u001b[0m Step must only increase in log calls.  Step 120 < 720; dropping {'lr/group_0': 0.001}.\n",
      "2021-01-26 04:44:27,563 Trainer INFO: Epoch[120] Complete. Time taken: 00:00:14\n"
     ]
    },
    {
     "name": "stdout",
     "output_type": "stream",
     "text": [
      "train loss 0.03257995529772614\n",
      "val loss 1.0812390700630519\n",
      "validation roc auc [0.78575871 0.66231343] 120\n",
      "train roc auc [1. 1.] 120\n"
     ]
    },
    {
     "name": "stderr",
     "output_type": "stream",
     "text": [
      "2021-01-26 04:44:31,964 Train Evaluator INFO: Engine run starting with max_epochs=1.\n",
      "2021-01-26 04:44:36,039 Train Evaluator INFO: Epoch[1] Complete. Time taken: 00:00:04\n",
      "2021-01-26 04:44:36,042 Train Evaluator INFO: Engine run complete. Time taken: 00:00:04\n",
      "2021-01-26 04:44:36,043 Val Evaluator INFO: Engine run starting with max_epochs=1.\n",
      "2021-01-26 04:44:37,460 Val Evaluator INFO: Epoch[1] Complete. Time taken: 00:00:01\n",
      "2021-01-26 04:44:37,461 Val Evaluator INFO: Engine run complete. Time taken: 00:00:01\n",
      "\u001b[34m\u001b[1mwandb\u001b[0m: \u001b[33mWARNING\u001b[0m Step must only increase in log calls.  Step 121 < 726; dropping {'lr/group_0': 0.001}.\n",
      "2021-01-26 04:44:37,469 Trainer INFO: Epoch[121] Complete. Time taken: 00:00:10\n"
     ]
    },
    {
     "name": "stdout",
     "output_type": "stream",
     "text": [
      "train loss 0.031755920312196546\n",
      "val loss 1.0589629328769186\n",
      "validation roc auc [0.78669154 0.66293532] 121\n",
      "train roc auc [1. 1.] 121\n"
     ]
    },
    {
     "name": "stderr",
     "output_type": "stream",
     "text": [
      "2021-01-26 04:44:41,527 Train Evaluator INFO: Engine run starting with max_epochs=1.\n",
      "2021-01-26 04:44:45,763 Train Evaluator INFO: Epoch[1] Complete. Time taken: 00:00:04\n",
      "2021-01-26 04:44:45,766 Train Evaluator INFO: Engine run complete. Time taken: 00:00:04\n",
      "2021-01-26 04:44:45,767 Val Evaluator INFO: Engine run starting with max_epochs=1.\n",
      "2021-01-26 04:44:47,082 Val Evaluator INFO: Epoch[1] Complete. Time taken: 00:00:01\n",
      "2021-01-26 04:44:47,084 Val Evaluator INFO: Engine run complete. Time taken: 00:00:01\n",
      "\u001b[34m\u001b[1mwandb\u001b[0m: \u001b[33mWARNING\u001b[0m Step must only increase in log calls.  Step 122 < 732; dropping {'lr/group_0': 0.001}.\n",
      "2021-01-26 04:44:47,092 Trainer INFO: Epoch[122] Complete. Time taken: 00:00:10\n"
     ]
    },
    {
     "name": "stdout",
     "output_type": "stream",
     "text": [
      "train loss 0.031009338741030918\n",
      "val loss 1.0609616269236026\n",
      "validation roc auc [0.78606965 0.66542289] 122\n",
      "train roc auc [1. 1.] 122\n"
     ]
    },
    {
     "name": "stderr",
     "output_type": "stream",
     "text": [
      "2021-01-26 04:44:51,550 Train Evaluator INFO: Engine run starting with max_epochs=1.\n",
      "2021-01-26 04:44:55,692 Train Evaluator INFO: Epoch[1] Complete. Time taken: 00:00:04\n",
      "2021-01-26 04:44:55,695 Train Evaluator INFO: Engine run complete. Time taken: 00:00:04\n",
      "2021-01-26 04:44:55,696 Val Evaluator INFO: Engine run starting with max_epochs=1.\n",
      "2021-01-26 04:44:57,003 Val Evaluator INFO: Epoch[1] Complete. Time taken: 00:00:01\n",
      "2021-01-26 04:44:57,005 Val Evaluator INFO: Engine run complete. Time taken: 00:00:01\n",
      "\u001b[34m\u001b[1mwandb\u001b[0m: \u001b[33mWARNING\u001b[0m Step must only increase in log calls.  Step 123 < 738; dropping {'lr/group_0': 0.001}.\n",
      "2021-01-26 04:44:57,012 Trainer INFO: Epoch[123] Complete. Time taken: 00:00:10\n"
     ]
    },
    {
     "name": "stdout",
     "output_type": "stream",
     "text": [
      "train loss 0.030284812056718492\n",
      "val loss 1.063539072741633\n",
      "validation roc auc [0.78575871 0.66386816] 123\n",
      "train roc auc [1. 1.] 123\n"
     ]
    },
    {
     "name": "stderr",
     "output_type": "stream",
     "text": [
      "2021-01-26 04:45:02,522 Train Evaluator INFO: Engine run starting with max_epochs=1.\n",
      "2021-01-26 04:45:06,724 Train Evaluator INFO: Epoch[1] Complete. Time taken: 00:00:04\n",
      "2021-01-26 04:45:06,727 Train Evaluator INFO: Engine run complete. Time taken: 00:00:04\n",
      "2021-01-26 04:45:06,728 Val Evaluator INFO: Engine run starting with max_epochs=1.\n",
      "2021-01-26 04:45:08,624 Val Evaluator INFO: Epoch[1] Complete. Time taken: 00:00:02\n",
      "2021-01-26 04:45:08,626 Val Evaluator INFO: Engine run complete. Time taken: 00:00:02\n",
      "\u001b[34m\u001b[1mwandb\u001b[0m: \u001b[33mWARNING\u001b[0m Step must only increase in log calls.  Step 124 < 744; dropping {'lr/group_0': 0.001}.\n",
      "2021-01-26 04:45:08,633 Trainer INFO: Epoch[124] Complete. Time taken: 00:00:12\n"
     ]
    },
    {
     "name": "stdout",
     "output_type": "stream",
     "text": [
      "train loss 0.029621934771714126\n",
      "val loss 1.054349422454834\n",
      "validation roc auc [0.78482587 0.66511194] 124\n",
      "train roc auc [1. 1.] 124\n"
     ]
    },
    {
     "name": "stderr",
     "output_type": "stream",
     "text": [
      "2021-01-26 04:45:12,877 Train Evaluator INFO: Engine run starting with max_epochs=1.\n",
      "2021-01-26 04:45:16,504 Train Evaluator INFO: Epoch[1] Complete. Time taken: 00:00:04\n",
      "2021-01-26 04:45:16,506 Train Evaluator INFO: Engine run complete. Time taken: 00:00:04\n",
      "2021-01-26 04:45:16,507 Val Evaluator INFO: Engine run starting with max_epochs=1.\n",
      "2021-01-26 04:45:18,185 Val Evaluator INFO: Epoch[1] Complete. Time taken: 00:00:02\n",
      "2021-01-26 04:45:18,187 Val Evaluator INFO: Engine run complete. Time taken: 00:00:02\n",
      "\u001b[34m\u001b[1mwandb\u001b[0m: \u001b[33mWARNING\u001b[0m Step must only increase in log calls.  Step 125 < 750; dropping {'lr/group_0': 0.001}.\n",
      "2021-01-26 04:45:18,195 Trainer INFO: Epoch[125] Complete. Time taken: 00:00:10\n"
     ]
    },
    {
     "name": "stdout",
     "output_type": "stream",
     "text": [
      "train loss 0.028937529496980842\n",
      "val loss 1.110236040405605\n",
      "validation roc auc [0.78358209 0.66200249] 125\n",
      "train roc auc [1. 1.] 125\n"
     ]
    },
    {
     "name": "stderr",
     "output_type": "stream",
     "text": [
      "2021-01-26 04:45:23,013 Train Evaluator INFO: Engine run starting with max_epochs=1.\n",
      "2021-01-26 04:45:26,775 Train Evaluator INFO: Epoch[1] Complete. Time taken: 00:00:04\n",
      "2021-01-26 04:45:26,777 Train Evaluator INFO: Engine run complete. Time taken: 00:00:04\n",
      "2021-01-26 04:45:26,779 Val Evaluator INFO: Engine run starting with max_epochs=1.\n",
      "2021-01-26 04:45:28,066 Val Evaluator INFO: Epoch[1] Complete. Time taken: 00:00:01\n",
      "2021-01-26 04:45:28,068 Val Evaluator INFO: Engine run complete. Time taken: 00:00:01\n",
      "\u001b[34m\u001b[1mwandb\u001b[0m: \u001b[33mWARNING\u001b[0m Step must only increase in log calls.  Step 126 < 756; dropping {'lr/group_0': 0.001}.\n",
      "2021-01-26 04:45:28,076 Trainer INFO: Epoch[126] Complete. Time taken: 00:00:10\n"
     ]
    },
    {
     "name": "stdout",
     "output_type": "stream",
     "text": [
      "train loss 0.028211989313275856\n",
      "val loss 1.080785055782484\n",
      "validation roc auc [0.78202736 0.66324627] 126\n",
      "train roc auc [1. 1.] 126\n"
     ]
    },
    {
     "name": "stderr",
     "output_type": "stream",
     "text": [
      "2021-01-26 04:45:32,842 Train Evaluator INFO: Engine run starting with max_epochs=1.\n",
      "2021-01-26 04:45:37,124 Train Evaluator INFO: Epoch[1] Complete. Time taken: 00:00:04\n",
      "2021-01-26 04:45:37,127 Train Evaluator INFO: Engine run complete. Time taken: 00:00:04\n",
      "2021-01-26 04:45:37,128 Val Evaluator INFO: Engine run starting with max_epochs=1.\n",
      "2021-01-26 04:45:38,313 Val Evaluator INFO: Epoch[1] Complete. Time taken: 00:00:01\n",
      "2021-01-26 04:45:38,314 Val Evaluator INFO: Engine run complete. Time taken: 00:00:01\n",
      "\u001b[34m\u001b[1mwandb\u001b[0m: \u001b[33mWARNING\u001b[0m Step must only increase in log calls.  Step 127 < 762; dropping {'lr/group_0': 0.001}.\n",
      "2021-01-26 04:45:38,322 Trainer INFO: Epoch[127] Complete. Time taken: 00:00:10\n"
     ]
    },
    {
     "name": "stdout",
     "output_type": "stream",
     "text": [
      "train loss 0.027591245226870627\n",
      "val loss 1.0818176663440207\n",
      "validation roc auc [0.78202736 0.66355721] 127\n",
      "train roc auc [1. 1.] 127\n"
     ]
    },
    {
     "name": "stderr",
     "output_type": "stream",
     "text": [
      "2021-01-26 04:45:42,066 Train Evaluator INFO: Engine run starting with max_epochs=1.\n",
      "2021-01-26 04:45:46,786 Train Evaluator INFO: Epoch[1] Complete. Time taken: 00:00:05\n",
      "2021-01-26 04:45:46,788 Train Evaluator INFO: Engine run complete. Time taken: 00:00:05\n",
      "2021-01-26 04:45:46,789 Val Evaluator INFO: Engine run starting with max_epochs=1.\n",
      "2021-01-26 04:45:48,327 Val Evaluator INFO: Epoch[1] Complete. Time taken: 00:00:02\n",
      "2021-01-26 04:45:48,329 Val Evaluator INFO: Engine run complete. Time taken: 00:00:02\n",
      "\u001b[34m\u001b[1mwandb\u001b[0m: \u001b[33mWARNING\u001b[0m Step must only increase in log calls.  Step 128 < 768; dropping {'lr/group_0': 0.001}.\n",
      "2021-01-26 04:45:48,337 Trainer INFO: Epoch[128] Complete. Time taken: 00:00:10\n"
     ]
    },
    {
     "name": "stdout",
     "output_type": "stream",
     "text": [
      "train loss 0.026921894820131492\n",
      "val loss 1.0954392920369687\n",
      "validation roc auc [0.78202736 0.66262438] 128\n",
      "train roc auc [1. 1.] 128\n"
     ]
    },
    {
     "name": "stderr",
     "output_type": "stream",
     "text": [
      "2021-01-26 04:45:52,056 Train Evaluator INFO: Engine run starting with max_epochs=1.\n",
      "2021-01-26 04:45:55,567 Train Evaluator INFO: Epoch[1] Complete. Time taken: 00:00:04\n",
      "2021-01-26 04:45:55,568 Train Evaluator INFO: Engine run complete. Time taken: 00:00:04\n",
      "2021-01-26 04:45:55,569 Val Evaluator INFO: Engine run starting with max_epochs=1.\n",
      "2021-01-26 04:45:56,791 Val Evaluator INFO: Epoch[1] Complete. Time taken: 00:00:01\n",
      "2021-01-26 04:45:56,794 Val Evaluator INFO: Engine run complete. Time taken: 00:00:01\n",
      "\u001b[34m\u001b[1mwandb\u001b[0m: \u001b[33mWARNING\u001b[0m Step must only increase in log calls.  Step 129 < 774; dropping {'lr/group_0': 0.001}.\n",
      "2021-01-26 04:45:56,802 Trainer INFO: Epoch[129] Complete. Time taken: 00:00:08\n"
     ]
    },
    {
     "name": "stdout",
     "output_type": "stream",
     "text": [
      "train loss 0.02644967983239854\n",
      "val loss 1.1356028162914773\n",
      "validation roc auc [0.78078358 0.66169154] 129\n",
      "train roc auc [1. 1.] 129\n"
     ]
    },
    {
     "name": "stderr",
     "output_type": "stream",
     "text": [
      "2021-01-26 04:46:00,798 Train Evaluator INFO: Engine run starting with max_epochs=1.\n",
      "2021-01-26 04:46:05,233 Train Evaluator INFO: Epoch[1] Complete. Time taken: 00:00:04\n",
      "2021-01-26 04:46:05,237 Train Evaluator INFO: Engine run complete. Time taken: 00:00:04\n",
      "2021-01-26 04:46:05,238 Val Evaluator INFO: Engine run starting with max_epochs=1.\n",
      "2021-01-26 04:46:06,634 Val Evaluator INFO: Epoch[1] Complete. Time taken: 00:00:01\n",
      "2021-01-26 04:46:06,637 Val Evaluator INFO: Engine run complete. Time taken: 00:00:01\n",
      "\u001b[34m\u001b[1mwandb\u001b[0m: \u001b[33mWARNING\u001b[0m Step must only increase in log calls.  Step 130 < 780; dropping {'lr/group_0': 0.001}.\n",
      "2021-01-26 04:46:06,646 Trainer INFO: Epoch[130] Complete. Time taken: 00:00:10\n"
     ]
    },
    {
     "name": "stdout",
     "output_type": "stream",
     "text": [
      "train loss 0.025978148534629472\n",
      "val loss 1.060132792721624\n",
      "validation roc auc [0.78109453 0.6641791 ] 130\n",
      "train roc auc [1. 1.] 130\n"
     ]
    },
    {
     "name": "stderr",
     "output_type": "stream",
     "text": [
      "2021-01-26 04:46:11,384 Train Evaluator INFO: Engine run starting with max_epochs=1.\n",
      "2021-01-26 04:46:15,242 Train Evaluator INFO: Epoch[1] Complete. Time taken: 00:00:04\n",
      "2021-01-26 04:46:15,244 Train Evaluator INFO: Engine run complete. Time taken: 00:00:04\n",
      "2021-01-26 04:46:15,245 Val Evaluator INFO: Engine run starting with max_epochs=1.\n",
      "2021-01-26 04:46:16,727 Val Evaluator INFO: Epoch[1] Complete. Time taken: 00:00:01\n",
      "2021-01-26 04:46:16,729 Val Evaluator INFO: Engine run complete. Time taken: 00:00:01\n",
      "\u001b[34m\u001b[1mwandb\u001b[0m: \u001b[33mWARNING\u001b[0m Step must only increase in log calls.  Step 131 < 786; dropping {'lr/group_0': 0.001}.\n",
      "2021-01-26 04:46:16,737 Trainer INFO: Epoch[131] Complete. Time taken: 00:00:10\n"
     ]
    },
    {
     "name": "stdout",
     "output_type": "stream",
     "text": [
      "train loss 0.025179178812182866\n",
      "val loss 1.138516707005708\n",
      "validation roc auc [0.7795398  0.66200249] 131\n",
      "train roc auc [1. 1.] 131\n"
     ]
    },
    {
     "name": "stderr",
     "output_type": "stream",
     "text": [
      "2021-01-26 04:46:20,657 Train Evaluator INFO: Engine run starting with max_epochs=1.\n",
      "2021-01-26 04:46:24,476 Train Evaluator INFO: Epoch[1] Complete. Time taken: 00:00:04\n",
      "2021-01-26 04:46:24,479 Train Evaluator INFO: Engine run complete. Time taken: 00:00:04\n",
      "2021-01-26 04:46:24,481 Val Evaluator INFO: Engine run starting with max_epochs=1.\n",
      "2021-01-26 04:46:26,253 Val Evaluator INFO: Epoch[1] Complete. Time taken: 00:00:02\n",
      "2021-01-26 04:46:26,255 Val Evaluator INFO: Engine run complete. Time taken: 00:00:02\n",
      "\u001b[34m\u001b[1mwandb\u001b[0m: \u001b[33mWARNING\u001b[0m Step must only increase in log calls.  Step 132 < 792; dropping {'lr/group_0': 0.001}.\n",
      "2021-01-26 04:46:26,262 Trainer INFO: Epoch[132] Complete. Time taken: 00:00:10\n"
     ]
    },
    {
     "name": "stdout",
     "output_type": "stream",
     "text": [
      "train loss 0.02462006204888313\n",
      "val loss 1.1312209870504297\n",
      "validation roc auc [0.78047264 0.6613806 ] 132\n",
      "train roc auc [1. 1.] 132\n"
     ]
    },
    {
     "name": "stderr",
     "output_type": "stream",
     "text": [
      "2021-01-26 04:46:30,440 Train Evaluator INFO: Engine run starting with max_epochs=1.\n",
      "2021-01-26 04:46:35,220 Train Evaluator INFO: Epoch[1] Complete. Time taken: 00:00:05\n",
      "2021-01-26 04:46:35,222 Train Evaluator INFO: Engine run complete. Time taken: 00:00:05\n",
      "2021-01-26 04:46:35,224 Val Evaluator INFO: Engine run starting with max_epochs=1.\n",
      "2021-01-26 04:46:37,013 Val Evaluator INFO: Epoch[1] Complete. Time taken: 00:00:02\n",
      "2021-01-26 04:46:37,016 Val Evaluator INFO: Engine run complete. Time taken: 00:00:02\n",
      "\u001b[34m\u001b[1mwandb\u001b[0m: \u001b[33mWARNING\u001b[0m Step must only increase in log calls.  Step 133 < 798; dropping {'lr/group_0': 0.001}.\n",
      "2021-01-26 04:46:37,024 Trainer INFO: Epoch[133] Complete. Time taken: 00:00:11\n"
     ]
    },
    {
     "name": "stdout",
     "output_type": "stream",
     "text": [
      "train loss 0.02405040252667207\n",
      "val loss 1.1161168917365696\n",
      "validation roc auc [0.78016169 0.66293532] 133\n",
      "train roc auc [1. 1.] 133\n"
     ]
    },
    {
     "name": "stderr",
     "output_type": "stream",
     "text": [
      "2021-01-26 04:46:41,852 Train Evaluator INFO: Engine run starting with max_epochs=1.\n",
      "2021-01-26 04:46:45,627 Train Evaluator INFO: Epoch[1] Complete. Time taken: 00:00:04\n",
      "2021-01-26 04:46:45,629 Train Evaluator INFO: Engine run complete. Time taken: 00:00:04\n",
      "2021-01-26 04:46:45,630 Val Evaluator INFO: Engine run starting with max_epochs=1.\n",
      "2021-01-26 04:46:46,891 Val Evaluator INFO: Epoch[1] Complete. Time taken: 00:00:01\n",
      "2021-01-26 04:46:46,893 Val Evaluator INFO: Engine run complete. Time taken: 00:00:01\n",
      "\u001b[34m\u001b[1mwandb\u001b[0m: \u001b[33mWARNING\u001b[0m Step must only increase in log calls.  Step 134 < 804; dropping {'lr/group_0': 0.001}.\n",
      "2021-01-26 04:46:46,901 Trainer INFO: Epoch[134] Complete. Time taken: 00:00:10\n"
     ]
    },
    {
     "name": "stdout",
     "output_type": "stream",
     "text": [
      "train loss 0.023508553299501803\n",
      "val loss 1.1290053429810898\n",
      "validation roc auc [0.7795398  0.66231343] 134\n",
      "train roc auc [1. 1.] 134\n"
     ]
    },
    {
     "name": "stderr",
     "output_type": "stream",
     "text": [
      "2021-01-26 04:46:50,534 Train Evaluator INFO: Engine run starting with max_epochs=1.\n",
      "2021-01-26 04:46:54,650 Train Evaluator INFO: Epoch[1] Complete. Time taken: 00:00:04\n",
      "2021-01-26 04:46:54,652 Train Evaluator INFO: Engine run complete. Time taken: 00:00:04\n",
      "2021-01-26 04:46:54,653 Val Evaluator INFO: Engine run starting with max_epochs=1.\n",
      "2021-01-26 04:46:56,195 Val Evaluator INFO: Epoch[1] Complete. Time taken: 00:00:02\n",
      "2021-01-26 04:46:56,197 Val Evaluator INFO: Engine run complete. Time taken: 00:00:02\n",
      "\u001b[34m\u001b[1mwandb\u001b[0m: \u001b[33mWARNING\u001b[0m Step must only increase in log calls.  Step 135 < 810; dropping {'lr/group_0': 0.001}.\n",
      "2021-01-26 04:46:56,204 Trainer INFO: Epoch[135] Complete. Time taken: 00:00:09\n"
     ]
    },
    {
     "name": "stdout",
     "output_type": "stream",
     "text": [
      "train loss 0.022995986595485338\n",
      "val loss 1.13938220480214\n",
      "validation roc auc [0.77860697 0.66106965] 135\n",
      "train roc auc [1. 1.] 135\n"
     ]
    },
    {
     "name": "stderr",
     "output_type": "stream",
     "text": [
      "2021-01-26 04:46:59,879 Train Evaluator INFO: Engine run starting with max_epochs=1.\n",
      "2021-01-26 04:47:04,460 Train Evaluator INFO: Epoch[1] Complete. Time taken: 00:00:05\n",
      "2021-01-26 04:47:04,463 Train Evaluator INFO: Engine run complete. Time taken: 00:00:05\n",
      "2021-01-26 04:47:04,464 Val Evaluator INFO: Engine run starting with max_epochs=1.\n",
      "2021-01-26 04:47:05,946 Val Evaluator INFO: Epoch[1] Complete. Time taken: 00:00:01\n",
      "2021-01-26 04:47:05,948 Val Evaluator INFO: Engine run complete. Time taken: 00:00:01\n",
      "\u001b[34m\u001b[1mwandb\u001b[0m: \u001b[33mWARNING\u001b[0m Step must only increase in log calls.  Step 136 < 816; dropping {'lr/group_0': 0.001}.\n",
      "2021-01-26 04:47:05,957 Trainer INFO: Epoch[136] Complete. Time taken: 00:00:10\n"
     ]
    },
    {
     "name": "stdout",
     "output_type": "stream",
     "text": [
      "train loss 0.022516674797474986\n",
      "val loss 1.148891832517541\n",
      "validation roc auc [0.77860697 0.66044776] 136\n",
      "train roc auc [1. 1.] 136\n"
     ]
    },
    {
     "name": "stderr",
     "output_type": "stream",
     "text": [
      "2021-01-26 04:47:10,357 Train Evaluator INFO: Engine run starting with max_epochs=1.\n",
      "2021-01-26 04:47:14,313 Train Evaluator INFO: Epoch[1] Complete. Time taken: 00:00:04\n",
      "2021-01-26 04:47:14,315 Train Evaluator INFO: Engine run complete. Time taken: 00:00:04\n",
      "2021-01-26 04:47:14,316 Val Evaluator INFO: Engine run starting with max_epochs=1.\n",
      "2021-01-26 04:47:15,611 Val Evaluator INFO: Epoch[1] Complete. Time taken: 00:00:01\n",
      "2021-01-26 04:47:15,613 Val Evaluator INFO: Engine run complete. Time taken: 00:00:01\n",
      "\u001b[34m\u001b[1mwandb\u001b[0m: \u001b[33mWARNING\u001b[0m Step must only increase in log calls.  Step 137 < 822; dropping {'lr/group_0': 0.001}.\n",
      "2021-01-26 04:47:15,620 Trainer INFO: Epoch[137] Complete. Time taken: 00:00:10\n"
     ]
    },
    {
     "name": "stdout",
     "output_type": "stream",
     "text": [
      "train loss 0.022080904930918174\n",
      "val loss 1.1197222559348396\n",
      "validation roc auc [0.77860697 0.66324627] 137\n",
      "train roc auc [1. 1.] 137\n"
     ]
    },
    {
     "name": "stderr",
     "output_type": "stream",
     "text": [
      "2021-01-26 04:47:19,747 Train Evaluator INFO: Engine run starting with max_epochs=1.\n",
      "2021-01-26 04:47:24,076 Train Evaluator INFO: Epoch[1] Complete. Time taken: 00:00:04\n",
      "2021-01-26 04:47:24,079 Train Evaluator INFO: Engine run complete. Time taken: 00:00:04\n",
      "2021-01-26 04:47:24,081 Val Evaluator INFO: Engine run starting with max_epochs=1.\n",
      "2021-01-26 04:47:25,258 Val Evaluator INFO: Epoch[1] Complete. Time taken: 00:00:01\n",
      "2021-01-26 04:47:25,260 Val Evaluator INFO: Engine run complete. Time taken: 00:00:01\n",
      "\u001b[34m\u001b[1mwandb\u001b[0m: \u001b[33mWARNING\u001b[0m Step must only increase in log calls.  Step 138 < 828; dropping {'lr/group_0': 0.001}.\n",
      "2021-01-26 04:47:25,267 Trainer INFO: Epoch[138] Complete. Time taken: 00:00:10\n"
     ]
    },
    {
     "name": "stdout",
     "output_type": "stream",
     "text": [
      "train loss 0.02165421301267556\n",
      "val loss 1.1884468130443406\n",
      "validation roc auc [0.77580846 0.65889303] 138\n",
      "train roc auc [1. 1.] 138\n"
     ]
    },
    {
     "name": "stderr",
     "output_type": "stream",
     "text": [
      "2021-01-26 04:47:30,022 Train Evaluator INFO: Engine run starting with max_epochs=1.\n",
      "2021-01-26 04:47:34,506 Train Evaluator INFO: Epoch[1] Complete. Time taken: 00:00:04\n",
      "2021-01-26 04:47:34,509 Train Evaluator INFO: Engine run complete. Time taken: 00:00:04\n",
      "2021-01-26 04:47:34,510 Val Evaluator INFO: Engine run starting with max_epochs=1.\n",
      "2021-01-26 04:47:35,795 Val Evaluator INFO: Epoch[1] Complete. Time taken: 00:00:01\n",
      "2021-01-26 04:47:35,796 Val Evaluator INFO: Engine run complete. Time taken: 00:00:01\n",
      "\u001b[34m\u001b[1mwandb\u001b[0m: \u001b[33mWARNING\u001b[0m Step must only increase in log calls.  Step 139 < 834; dropping {'lr/group_0': 0.001}.\n",
      "2021-01-26 04:47:35,803 Trainer INFO: Epoch[139] Complete. Time taken: 00:00:11\n"
     ]
    },
    {
     "name": "stdout",
     "output_type": "stream",
     "text": [
      "train loss 0.021127176498608475\n",
      "val loss 1.1286145293194314\n",
      "validation roc auc [0.77674129 0.66106965] 139\n",
      "train roc auc [1. 1.] 139\n"
     ]
    },
    {
     "name": "stderr",
     "output_type": "stream",
     "text": [
      "2021-01-26 04:47:39,887 Train Evaluator INFO: Engine run starting with max_epochs=1.\n",
      "2021-01-26 04:47:43,901 Train Evaluator INFO: Epoch[1] Complete. Time taken: 00:00:04\n",
      "2021-01-26 04:47:43,902 Train Evaluator INFO: Engine run complete. Time taken: 00:00:04\n",
      "2021-01-26 04:47:43,903 Val Evaluator INFO: Engine run starting with max_epochs=1.\n",
      "2021-01-26 04:47:45,345 Val Evaluator INFO: Epoch[1] Complete. Time taken: 00:00:01\n",
      "2021-01-26 04:47:45,346 Val Evaluator INFO: Engine run complete. Time taken: 00:00:01\n",
      "\u001b[34m\u001b[1mwandb\u001b[0m: \u001b[33mWARNING\u001b[0m Step must only increase in log calls.  Step 140 < 840; dropping {'lr/group_0': 0.001}.\n",
      "2021-01-26 04:47:45,353 Trainer INFO: Epoch[140] Complete. Time taken: 00:00:10\n"
     ]
    },
    {
     "name": "stdout",
     "output_type": "stream",
     "text": [
      "train loss 0.020692463633576793\n",
      "val loss 1.1876350734544836\n",
      "validation roc auc [0.77394279 0.65982587] 140\n",
      "train roc auc [1. 1.] 140\n"
     ]
    },
    {
     "name": "stderr",
     "output_type": "stream",
     "text": [
      "2021-01-26 04:47:49,408 Train Evaluator INFO: Engine run starting with max_epochs=1.\n",
      "2021-01-26 04:47:53,913 Train Evaluator INFO: Epoch[1] Complete. Time taken: 00:00:05\n",
      "2021-01-26 04:47:53,915 Train Evaluator INFO: Engine run complete. Time taken: 00:00:05\n",
      "2021-01-26 04:47:53,916 Val Evaluator INFO: Engine run starting with max_epochs=1.\n",
      "2021-01-26 04:47:55,598 Val Evaluator INFO: Epoch[1] Complete. Time taken: 00:00:02\n",
      "2021-01-26 04:47:55,600 Val Evaluator INFO: Engine run complete. Time taken: 00:00:02\n",
      "\u001b[34m\u001b[1mwandb\u001b[0m: \u001b[33mWARNING\u001b[0m Step must only increase in log calls.  Step 141 < 846; dropping {'lr/group_0': 0.001}.\n",
      "2021-01-26 04:47:55,607 Trainer INFO: Epoch[141] Complete. Time taken: 00:00:10\n"
     ]
    },
    {
     "name": "stdout",
     "output_type": "stream",
     "text": [
      "train loss 0.020239198999203872\n",
      "val loss 1.1460781766020733\n",
      "validation roc auc [0.77456468 0.65982587] 141\n",
      "train roc auc [1. 1.] 141\n"
     ]
    },
    {
     "name": "stderr",
     "output_type": "stream",
     "text": [
      "2021-01-26 04:47:59,809 Train Evaluator INFO: Engine run starting with max_epochs=1.\n",
      "2021-01-26 04:48:04,139 Train Evaluator INFO: Epoch[1] Complete. Time taken: 00:00:04\n",
      "2021-01-26 04:48:04,141 Train Evaluator INFO: Engine run complete. Time taken: 00:00:04\n",
      "2021-01-26 04:48:04,143 Val Evaluator INFO: Engine run starting with max_epochs=1.\n",
      "2021-01-26 04:48:05,621 Val Evaluator INFO: Epoch[1] Complete. Time taken: 00:00:01\n",
      "2021-01-26 04:48:05,623 Val Evaluator INFO: Engine run complete. Time taken: 00:00:01\n",
      "\u001b[34m\u001b[1mwandb\u001b[0m: \u001b[33mWARNING\u001b[0m Step must only increase in log calls.  Step 142 < 852; dropping {'lr/group_0': 0.001}.\n",
      "2021-01-26 04:48:05,631 Trainer INFO: Epoch[142] Complete. Time taken: 00:00:10\n"
     ]
    },
    {
     "name": "stdout",
     "output_type": "stream",
     "text": [
      "train loss 0.019826076924800873\n",
      "val loss 1.1565260990806248\n",
      "validation roc auc [0.7733209  0.66013682] 142\n",
      "train roc auc [1. 1.] 142\n"
     ]
    },
    {
     "name": "stderr",
     "output_type": "stream",
     "text": [
      "2021-01-26 04:48:09,796 Train Evaluator INFO: Engine run starting with max_epochs=1.\n",
      "2021-01-26 04:48:14,671 Train Evaluator INFO: Epoch[1] Complete. Time taken: 00:00:05\n",
      "2021-01-26 04:48:14,672 Train Evaluator INFO: Engine run complete. Time taken: 00:00:05\n",
      "2021-01-26 04:48:14,674 Val Evaluator INFO: Engine run starting with max_epochs=1.\n",
      "2021-01-26 04:48:16,336 Val Evaluator INFO: Epoch[1] Complete. Time taken: 00:00:02\n",
      "2021-01-26 04:48:16,338 Val Evaluator INFO: Engine run complete. Time taken: 00:00:02\n",
      "\u001b[34m\u001b[1mwandb\u001b[0m: \u001b[33mWARNING\u001b[0m Step must only increase in log calls.  Step 143 < 858; dropping {'lr/group_0': 0.001}.\n",
      "2021-01-26 04:48:16,345 Trainer INFO: Epoch[143] Complete. Time taken: 00:00:11\n"
     ]
    },
    {
     "name": "stdout",
     "output_type": "stream",
     "text": [
      "train loss 0.019436341936330825\n",
      "val loss 1.1892839245174243\n",
      "validation roc auc [0.77300995 0.65858209] 143\n",
      "train roc auc [1. 1.] 143\n"
     ]
    },
    {
     "name": "stderr",
     "output_type": "stream",
     "text": [
      "2021-01-26 04:48:20,887 Train Evaluator INFO: Engine run starting with max_epochs=1.\n",
      "2021-01-26 04:48:25,101 Train Evaluator INFO: Epoch[1] Complete. Time taken: 00:00:04\n",
      "2021-01-26 04:48:25,104 Train Evaluator INFO: Engine run complete. Time taken: 00:00:04\n",
      "2021-01-26 04:48:25,105 Val Evaluator INFO: Engine run starting with max_epochs=1.\n",
      "2021-01-26 04:48:26,370 Val Evaluator INFO: Epoch[1] Complete. Time taken: 00:00:01\n",
      "2021-01-26 04:48:26,372 Val Evaluator INFO: Engine run complete. Time taken: 00:00:01\n",
      "\u001b[34m\u001b[1mwandb\u001b[0m: \u001b[33mWARNING\u001b[0m Step must only increase in log calls.  Step 144 < 864; dropping {'lr/group_0': 0.001}.\n",
      "2021-01-26 04:48:26,380 Trainer INFO: Epoch[144] Complete. Time taken: 00:00:10\n"
     ]
    },
    {
     "name": "stdout",
     "output_type": "stream",
     "text": [
      "train loss 0.019507334551074097\n",
      "val loss 1.0917862581170124\n",
      "validation roc auc [0.7733209  0.66106965] 144\n",
      "train roc auc [1. 1.] 144\n"
     ]
    },
    {
     "name": "stderr",
     "output_type": "stream",
     "text": [
      "2021-01-26 04:48:30,445 Train Evaluator INFO: Engine run starting with max_epochs=1.\n",
      "2021-01-26 04:48:34,193 Train Evaluator INFO: Epoch[1] Complete. Time taken: 00:00:04\n",
      "2021-01-26 04:48:34,195 Train Evaluator INFO: Engine run complete. Time taken: 00:00:04\n",
      "2021-01-26 04:48:34,196 Val Evaluator INFO: Engine run starting with max_epochs=1.\n",
      "2021-01-26 04:48:35,612 Val Evaluator INFO: Epoch[1] Complete. Time taken: 00:00:01\n",
      "2021-01-26 04:48:35,613 Val Evaluator INFO: Engine run complete. Time taken: 00:00:01\n",
      "\u001b[34m\u001b[1mwandb\u001b[0m: \u001b[33mWARNING\u001b[0m Step must only increase in log calls.  Step 145 < 870; dropping {'lr/group_0': 0.001}.\n",
      "2021-01-26 04:48:35,620 Trainer INFO: Epoch[145] Complete. Time taken: 00:00:09\n"
     ]
    },
    {
     "name": "stdout",
     "output_type": "stream",
     "text": [
      "train loss 0.019128255986955743\n",
      "val loss 1.2845047847084377\n",
      "validation roc auc [0.77176617 0.65391791] 145\n",
      "train roc auc [1. 1.] 145\n"
     ]
    },
    {
     "name": "stderr",
     "output_type": "stream",
     "text": [
      "2021-01-26 04:48:41,160 Train Evaluator INFO: Engine run starting with max_epochs=1.\n",
      "2021-01-26 04:48:46,483 Train Evaluator INFO: Epoch[1] Complete. Time taken: 00:00:05\n",
      "2021-01-26 04:48:46,484 Train Evaluator INFO: Engine run complete. Time taken: 00:00:05\n",
      "2021-01-26 04:48:46,485 Val Evaluator INFO: Engine run starting with max_epochs=1.\n",
      "2021-01-26 04:48:47,969 Val Evaluator INFO: Epoch[1] Complete. Time taken: 00:00:01\n",
      "2021-01-26 04:48:47,972 Val Evaluator INFO: Engine run complete. Time taken: 00:00:01\n",
      "\u001b[34m\u001b[1mwandb\u001b[0m: \u001b[33mWARNING\u001b[0m Step must only increase in log calls.  Step 146 < 876; dropping {'lr/group_0': 0.001}.\n",
      "2021-01-26 04:48:47,979 Trainer INFO: Epoch[146] Complete. Time taken: 00:00:12\n"
     ]
    },
    {
     "name": "stdout",
     "output_type": "stream",
     "text": [
      "train loss 0.018528041253472575\n",
      "val loss 1.1107263508050338\n",
      "validation roc auc [0.77238806 0.65951493] 146\n",
      "train roc auc [1. 1.] 146\n"
     ]
    },
    {
     "name": "stderr",
     "output_type": "stream",
     "text": [
      "2021-01-26 04:48:53,431 Train Evaluator INFO: Engine run starting with max_epochs=1.\n",
      "2021-01-26 04:48:58,604 Train Evaluator INFO: Epoch[1] Complete. Time taken: 00:00:05\n",
      "2021-01-26 04:48:58,607 Train Evaluator INFO: Engine run complete. Time taken: 00:00:05\n",
      "2021-01-26 04:48:58,608 Val Evaluator INFO: Engine run starting with max_epochs=1.\n",
      "2021-01-26 04:49:00,510 Val Evaluator INFO: Epoch[1] Complete. Time taken: 00:00:02\n",
      "2021-01-26 04:49:00,512 Val Evaluator INFO: Engine run complete. Time taken: 00:00:02\n",
      "\u001b[34m\u001b[1mwandb\u001b[0m: \u001b[33mWARNING\u001b[0m Step must only increase in log calls.  Step 147 < 882; dropping {'lr/group_0': 0.001}.\n",
      "2021-01-26 04:49:00,521 Trainer INFO: Epoch[147] Complete. Time taken: 00:00:13\n"
     ]
    },
    {
     "name": "stdout",
     "output_type": "stream",
     "text": [
      "train loss 0.017941599171718902\n",
      "val loss 1.2314876463102258\n",
      "validation roc auc [0.76958955 0.65640547] 147\n",
      "train roc auc [1. 1.] 147\n"
     ]
    },
    {
     "name": "stderr",
     "output_type": "stream",
     "text": [
      "2021-01-26 04:49:05,627 Train Evaluator INFO: Engine run starting with max_epochs=1.\n",
      "2021-01-26 04:49:11,504 Train Evaluator INFO: Epoch[1] Complete. Time taken: 00:00:06\n",
      "2021-01-26 04:49:11,507 Train Evaluator INFO: Engine run complete. Time taken: 00:00:06\n",
      "2021-01-26 04:49:11,508 Val Evaluator INFO: Engine run starting with max_epochs=1.\n",
      "2021-01-26 04:49:13,421 Val Evaluator INFO: Epoch[1] Complete. Time taken: 00:00:02\n",
      "2021-01-26 04:49:13,423 Val Evaluator INFO: Engine run complete. Time taken: 00:00:02\n",
      "\u001b[34m\u001b[1mwandb\u001b[0m: \u001b[33mWARNING\u001b[0m Step must only increase in log calls.  Step 148 < 888; dropping {'lr/group_0': 0.001}.\n",
      "2021-01-26 04:49:13,431 Trainer INFO: Epoch[148] Complete. Time taken: 00:00:13\n"
     ]
    },
    {
     "name": "stdout",
     "output_type": "stream",
     "text": [
      "train loss 0.0174987988998375\n",
      "val loss 1.208096776837888\n",
      "validation roc auc [0.77021144 0.65547264] 148\n",
      "train roc auc [1. 1.] 148\n"
     ]
    },
    {
     "name": "stderr",
     "output_type": "stream",
     "text": [
      "2021-01-26 04:49:19,149 Train Evaluator INFO: Engine run starting with max_epochs=1.\n",
      "2021-01-26 04:49:23,934 Train Evaluator INFO: Epoch[1] Complete. Time taken: 00:00:05\n",
      "2021-01-26 04:49:23,936 Train Evaluator INFO: Engine run complete. Time taken: 00:00:05\n",
      "2021-01-26 04:49:23,937 Val Evaluator INFO: Engine run starting with max_epochs=1.\n",
      "2021-01-26 04:49:25,706 Val Evaluator INFO: Epoch[1] Complete. Time taken: 00:00:02\n",
      "2021-01-26 04:49:25,709 Val Evaluator INFO: Engine run complete. Time taken: 00:00:02\n",
      "\u001b[34m\u001b[1mwandb\u001b[0m: \u001b[33mWARNING\u001b[0m Step must only increase in log calls.  Step 149 < 894; dropping {'lr/group_0': 0.001}.\n",
      "2021-01-26 04:49:25,717 Trainer INFO: Epoch[149] Complete. Time taken: 00:00:12\n"
     ]
    },
    {
     "name": "stdout",
     "output_type": "stream",
     "text": [
      "train loss 0.017150587534542974\n",
      "val loss 1.182632208907086\n",
      "validation roc auc [0.77052239 0.65578358] 149\n",
      "train roc auc [1. 1.] 149\n"
     ]
    },
    {
     "name": "stderr",
     "output_type": "stream",
     "text": [
      "2021-01-26 04:49:31,633 Train Evaluator INFO: Engine run starting with max_epochs=1.\n",
      "2021-01-26 04:49:37,025 Train Evaluator INFO: Epoch[1] Complete. Time taken: 00:00:05\n",
      "2021-01-26 04:49:37,028 Train Evaluator INFO: Engine run complete. Time taken: 00:00:05\n",
      "2021-01-26 04:49:37,029 Val Evaluator INFO: Engine run starting with max_epochs=1.\n",
      "2021-01-26 04:49:39,053 Val Evaluator INFO: Epoch[1] Complete. Time taken: 00:00:02\n",
      "2021-01-26 04:49:39,055 Val Evaluator INFO: Engine run complete. Time taken: 00:00:02\n",
      "\u001b[34m\u001b[1mwandb\u001b[0m: \u001b[33mWARNING\u001b[0m Step must only increase in log calls.  Step 150 < 900; dropping {'lr/group_0': 0.001}.\n",
      "2021-01-26 04:49:39,062 Trainer INFO: Epoch[150] Complete. Time taken: 00:00:13\n"
     ]
    },
    {
     "name": "stdout",
     "output_type": "stream",
     "text": [
      "train loss 0.016839971782408168\n",
      "val loss 1.235149660317794\n",
      "validation roc auc [0.76803483 0.65516169] 150\n",
      "train roc auc [1. 1.] 150\n"
     ]
    },
    {
     "name": "stderr",
     "output_type": "stream",
     "text": [
      "2021-01-26 04:49:44,986 Train Evaluator INFO: Engine run starting with max_epochs=1.\n",
      "2021-01-26 04:49:50,222 Train Evaluator INFO: Epoch[1] Complete. Time taken: 00:00:05\n",
      "2021-01-26 04:49:50,225 Train Evaluator INFO: Engine run complete. Time taken: 00:00:05\n",
      "2021-01-26 04:49:50,226 Val Evaluator INFO: Engine run starting with max_epochs=1.\n",
      "2021-01-26 04:49:52,375 Val Evaluator INFO: Epoch[1] Complete. Time taken: 00:00:02\n",
      "2021-01-26 04:49:52,377 Val Evaluator INFO: Engine run complete. Time taken: 00:00:02\n",
      "\u001b[34m\u001b[1mwandb\u001b[0m: \u001b[33mWARNING\u001b[0m Step must only increase in log calls.  Step 151 < 906; dropping {'lr/group_0': 0.001}.\n",
      "2021-01-26 04:49:52,385 Trainer INFO: Epoch[151] Complete. Time taken: 00:00:13\n"
     ]
    },
    {
     "name": "stdout",
     "output_type": "stream",
     "text": [
      "train loss 0.01646919612436605\n",
      "val loss 1.2073000156361124\n",
      "validation roc auc [0.7699005  0.65485075] 151\n",
      "train roc auc [1. 1.] 151\n"
     ]
    },
    {
     "name": "stderr",
     "output_type": "stream",
     "text": [
      "2021-01-26 04:49:58,190 Train Evaluator INFO: Engine run starting with max_epochs=1.\n",
      "2021-01-26 04:50:04,158 Train Evaluator INFO: Epoch[1] Complete. Time taken: 00:00:06\n",
      "2021-01-26 04:50:04,161 Train Evaluator INFO: Engine run complete. Time taken: 00:00:06\n",
      "2021-01-26 04:50:04,162 Val Evaluator INFO: Engine run starting with max_epochs=1.\n",
      "2021-01-26 04:50:06,117 Val Evaluator INFO: Epoch[1] Complete. Time taken: 00:00:02\n",
      "2021-01-26 04:50:06,119 Val Evaluator INFO: Engine run complete. Time taken: 00:00:02\n",
      "\u001b[34m\u001b[1mwandb\u001b[0m: \u001b[33mWARNING\u001b[0m Step must only increase in log calls.  Step 152 < 912; dropping {'lr/group_0': 0.001}.\n",
      "2021-01-26 04:50:06,127 Trainer INFO: Epoch[152] Complete. Time taken: 00:00:14\n"
     ]
    },
    {
     "name": "stdout",
     "output_type": "stream",
     "text": [
      "train loss 0.01614265765487795\n",
      "val loss 1.2197464932566104\n",
      "validation roc auc [0.76896766 0.6545398 ] 152\n",
      "train roc auc [1. 1.] 152\n"
     ]
    },
    {
     "name": "stderr",
     "output_type": "stream",
     "text": [
      "2021-01-26 04:50:12,251 Train Evaluator INFO: Engine run starting with max_epochs=1.\n",
      "2021-01-26 04:50:17,862 Train Evaluator INFO: Epoch[1] Complete. Time taken: 00:00:06\n",
      "2021-01-26 04:50:17,864 Train Evaluator INFO: Engine run complete. Time taken: 00:00:06\n",
      "2021-01-26 04:50:17,866 Val Evaluator INFO: Engine run starting with max_epochs=1.\n",
      "2021-01-26 04:50:19,594 Val Evaluator INFO: Epoch[1] Complete. Time taken: 00:00:02\n",
      "2021-01-26 04:50:19,595 Val Evaluator INFO: Engine run complete. Time taken: 00:00:02\n",
      "\u001b[34m\u001b[1mwandb\u001b[0m: \u001b[33mWARNING\u001b[0m Step must only increase in log calls.  Step 153 < 918; dropping {'lr/group_0': 0.001}.\n",
      "2021-01-26 04:50:19,603 Trainer INFO: Epoch[153] Complete. Time taken: 00:00:13\n"
     ]
    },
    {
     "name": "stdout",
     "output_type": "stream",
     "text": [
      "train loss 0.015831754967217615\n",
      "val loss 1.221894103547801\n",
      "validation roc auc [0.76741294 0.65516169] 153\n",
      "train roc auc [1. 1.] 153\n"
     ]
    },
    {
     "name": "stderr",
     "output_type": "stream",
     "text": [
      "2021-01-26 04:50:25,617 Train Evaluator INFO: Engine run starting with max_epochs=1.\n",
      "2021-01-26 04:50:31,204 Train Evaluator INFO: Epoch[1] Complete. Time taken: 00:00:06\n",
      "2021-01-26 04:50:31,206 Train Evaluator INFO: Engine run complete. Time taken: 00:00:06\n",
      "2021-01-26 04:50:31,207 Val Evaluator INFO: Engine run starting with max_epochs=1.\n",
      "2021-01-26 04:50:33,110 Val Evaluator INFO: Epoch[1] Complete. Time taken: 00:00:02\n",
      "2021-01-26 04:50:33,113 Val Evaluator INFO: Engine run complete. Time taken: 00:00:02\n",
      "\u001b[34m\u001b[1mwandb\u001b[0m: \u001b[33mWARNING\u001b[0m Step must only increase in log calls.  Step 154 < 924; dropping {'lr/group_0': 0.001}.\n",
      "2021-01-26 04:50:33,120 Trainer INFO: Epoch[154] Complete. Time taken: 00:00:14\n"
     ]
    },
    {
     "name": "stdout",
     "output_type": "stream",
     "text": [
      "train loss 0.015537873604858416\n",
      "val loss 1.2325364340906557\n",
      "validation roc auc [0.76679104 0.65298507] 154\n",
      "train roc auc [1. 1.] 154\n"
     ]
    },
    {
     "name": "stderr",
     "output_type": "stream",
     "text": [
      "2021-01-26 04:50:39,811 Train Evaluator INFO: Engine run starting with max_epochs=1.\n",
      "2021-01-26 04:50:45,635 Train Evaluator INFO: Epoch[1] Complete. Time taken: 00:00:06\n",
      "2021-01-26 04:50:45,638 Train Evaluator INFO: Engine run complete. Time taken: 00:00:06\n",
      "2021-01-26 04:50:45,639 Val Evaluator INFO: Engine run starting with max_epochs=1.\n",
      "2021-01-26 04:50:47,743 Val Evaluator INFO: Epoch[1] Complete. Time taken: 00:00:02\n",
      "2021-01-26 04:50:47,745 Val Evaluator INFO: Engine run complete. Time taken: 00:00:02\n",
      "\u001b[34m\u001b[1mwandb\u001b[0m: \u001b[33mWARNING\u001b[0m Step must only increase in log calls.  Step 155 < 930; dropping {'lr/group_0': 0.001}.\n",
      "2021-01-26 04:50:47,753 Trainer INFO: Epoch[155] Complete. Time taken: 00:00:15\n"
     ]
    },
    {
     "name": "stdout",
     "output_type": "stream",
     "text": [
      "train loss 0.015244728196742972\n",
      "val loss 1.212414006564928\n",
      "validation roc auc [0.7664801 0.6545398] 155\n",
      "train roc auc [1. 1.] 155\n"
     ]
    },
    {
     "name": "stderr",
     "output_type": "stream",
     "text": [
      "2021-01-26 04:50:53,771 Train Evaluator INFO: Engine run starting with max_epochs=1.\n",
      "2021-01-26 04:50:59,562 Train Evaluator INFO: Epoch[1] Complete. Time taken: 00:00:06\n",
      "2021-01-26 04:50:59,564 Train Evaluator INFO: Engine run complete. Time taken: 00:00:06\n",
      "2021-01-26 04:50:59,565 Val Evaluator INFO: Engine run starting with max_epochs=1.\n",
      "2021-01-26 04:51:01,817 Val Evaluator INFO: Epoch[1] Complete. Time taken: 00:00:02\n",
      "2021-01-26 04:51:01,818 Val Evaluator INFO: Engine run complete. Time taken: 00:00:02\n",
      "\u001b[34m\u001b[1mwandb\u001b[0m: \u001b[33mWARNING\u001b[0m Step must only increase in log calls.  Step 156 < 936; dropping {'lr/group_0': 0.001}.\n",
      "2021-01-26 04:51:01,826 Trainer INFO: Epoch[156] Complete. Time taken: 00:00:14\n"
     ]
    },
    {
     "name": "stdout",
     "output_type": "stream",
     "text": [
      "train loss 0.014959608921064781\n",
      "val loss 1.2522533510042273\n",
      "validation roc auc [0.76585821 0.65236318] 156\n",
      "train roc auc [1. 1.] 156\n"
     ]
    },
    {
     "name": "stderr",
     "output_type": "stream",
     "text": [
      "2021-01-26 04:51:07,895 Train Evaluator INFO: Engine run starting with max_epochs=1.\n",
      "2021-01-26 04:51:14,126 Train Evaluator INFO: Epoch[1] Complete. Time taken: 00:00:06\n",
      "2021-01-26 04:51:14,130 Train Evaluator INFO: Engine run complete. Time taken: 00:00:06\n",
      "2021-01-26 04:51:14,131 Val Evaluator INFO: Engine run starting with max_epochs=1.\n",
      "2021-01-26 04:51:16,101 Val Evaluator INFO: Epoch[1] Complete. Time taken: 00:00:02\n",
      "2021-01-26 04:51:16,103 Val Evaluator INFO: Engine run complete. Time taken: 00:00:02\n",
      "\u001b[34m\u001b[1mwandb\u001b[0m: \u001b[33mWARNING\u001b[0m Step must only increase in log calls.  Step 157 < 942; dropping {'lr/group_0': 0.001}.\n",
      "2021-01-26 04:51:16,112 Trainer INFO: Epoch[157] Complete. Time taken: 00:00:14\n"
     ]
    },
    {
     "name": "stdout",
     "output_type": "stream",
     "text": [
      "train loss 0.014677380151032695\n",
      "val loss 1.2204825670822808\n",
      "validation roc auc [0.76585821 0.65329602] 157\n",
      "train roc auc [1. 1.] 157\n"
     ]
    },
    {
     "name": "stderr",
     "output_type": "stream",
     "text": [
      "2021-01-26 04:51:21,914 Train Evaluator INFO: Engine run starting with max_epochs=1.\n",
      "2021-01-26 04:51:28,391 Train Evaluator INFO: Epoch[1] Complete. Time taken: 00:00:06\n",
      "2021-01-26 04:51:28,394 Train Evaluator INFO: Engine run complete. Time taken: 00:00:06\n",
      "2021-01-26 04:51:28,395 Val Evaluator INFO: Engine run starting with max_epochs=1.\n",
      "2021-01-26 04:51:30,492 Val Evaluator INFO: Epoch[1] Complete. Time taken: 00:00:02\n",
      "2021-01-26 04:51:30,493 Val Evaluator INFO: Engine run complete. Time taken: 00:00:02\n",
      "\u001b[34m\u001b[1mwandb\u001b[0m: \u001b[33mWARNING\u001b[0m Step must only increase in log calls.  Step 158 < 948; dropping {'lr/group_0': 0.001}.\n",
      "2021-01-26 04:51:30,500 Trainer INFO: Epoch[158] Complete. Time taken: 00:00:14\n"
     ]
    },
    {
     "name": "stdout",
     "output_type": "stream",
     "text": [
      "train loss 0.014467621178052129\n",
      "val loss 1.2057322170423426\n",
      "validation roc auc [0.76523632 0.6545398 ] 158\n",
      "train roc auc [1. 1.] 158\n"
     ]
    },
    {
     "name": "stderr",
     "output_type": "stream",
     "text": [
      "2021-01-26 04:51:36,770 Train Evaluator INFO: Engine run starting with max_epochs=1.\n",
      "2021-01-26 04:51:42,691 Train Evaluator INFO: Epoch[1] Complete. Time taken: 00:00:06\n",
      "2021-01-26 04:51:42,694 Train Evaluator INFO: Engine run complete. Time taken: 00:00:06\n",
      "2021-01-26 04:51:42,695 Val Evaluator INFO: Engine run starting with max_epochs=1.\n",
      "2021-01-26 04:51:45,046 Val Evaluator INFO: Epoch[1] Complete. Time taken: 00:00:02\n",
      "2021-01-26 04:51:45,049 Val Evaluator INFO: Engine run complete. Time taken: 00:00:02\n",
      "\u001b[34m\u001b[1mwandb\u001b[0m: \u001b[33mWARNING\u001b[0m Step must only increase in log calls.  Step 159 < 954; dropping {'lr/group_0': 0.001}.\n",
      "2021-01-26 04:51:45,057 Trainer INFO: Epoch[159] Complete. Time taken: 00:00:15\n"
     ]
    },
    {
     "name": "stdout",
     "output_type": "stream",
     "text": [
      "train loss 0.014238333412220139\n",
      "val loss 1.3010119915008544\n",
      "validation roc auc [0.76554726 0.64987562] 159\n",
      "train roc auc [1. 1.] 159\n"
     ]
    },
    {
     "name": "stderr",
     "output_type": "stream",
     "text": [
      "2021-01-26 04:51:51,609 Train Evaluator INFO: Engine run starting with max_epochs=1.\n",
      "2021-01-26 04:51:57,903 Train Evaluator INFO: Epoch[1] Complete. Time taken: 00:00:06\n",
      "2021-01-26 04:51:57,906 Train Evaluator INFO: Engine run complete. Time taken: 00:00:06\n",
      "2021-01-26 04:51:57,907 Val Evaluator INFO: Engine run starting with max_epochs=1.\n",
      "2021-01-26 04:51:59,448 Val Evaluator INFO: Epoch[1] Complete. Time taken: 00:00:02\n",
      "2021-01-26 04:51:59,450 Val Evaluator INFO: Engine run complete. Time taken: 00:00:02\n",
      "\u001b[34m\u001b[1mwandb\u001b[0m: \u001b[33mWARNING\u001b[0m Step must only increase in log calls.  Step 160 < 960; dropping {'lr/group_0': 0.001}.\n",
      "2021-01-26 04:51:59,459 Trainer INFO: Epoch[160] Complete. Time taken: 00:00:14\n"
     ]
    },
    {
     "name": "stdout",
     "output_type": "stream",
     "text": [
      "train loss 0.013949443553105966\n",
      "val loss 1.200674755676933\n",
      "validation roc auc [0.76585821 0.65329602] 160\n",
      "train roc auc [1. 1.] 160\n"
     ]
    },
    {
     "name": "stderr",
     "output_type": "stream",
     "text": [
      "2021-01-26 04:52:05,089 Train Evaluator INFO: Engine run starting with max_epochs=1.\n",
      "2021-01-26 04:52:10,575 Train Evaluator INFO: Epoch[1] Complete. Time taken: 00:00:05\n",
      "2021-01-26 04:52:10,578 Train Evaluator INFO: Engine run complete. Time taken: 00:00:05\n",
      "2021-01-26 04:52:10,579 Val Evaluator INFO: Engine run starting with max_epochs=1.\n",
      "2021-01-26 04:52:12,834 Val Evaluator INFO: Epoch[1] Complete. Time taken: 00:00:02\n",
      "2021-01-26 04:52:12,835 Val Evaluator INFO: Engine run complete. Time taken: 00:00:02\n",
      "\u001b[34m\u001b[1mwandb\u001b[0m: \u001b[33mWARNING\u001b[0m Step must only increase in log calls.  Step 161 < 966; dropping {'lr/group_0': 0.001}.\n",
      "2021-01-26 04:52:12,844 Trainer INFO: Epoch[161] Complete. Time taken: 00:00:13\n"
     ]
    },
    {
     "name": "stdout",
     "output_type": "stream",
     "text": [
      "train loss 0.013659089263638801\n",
      "val loss 1.2963738617689713\n",
      "validation roc auc [0.76430348 0.65049751] 161\n",
      "train roc auc [1. 1.] 161\n"
     ]
    },
    {
     "name": "stderr",
     "output_type": "stream",
     "text": [
      "2021-01-26 04:52:19,182 Train Evaluator INFO: Engine run starting with max_epochs=1.\n",
      "2021-01-26 04:52:25,192 Train Evaluator INFO: Epoch[1] Complete. Time taken: 00:00:06\n",
      "2021-01-26 04:52:25,195 Train Evaluator INFO: Engine run complete. Time taken: 00:00:06\n",
      "2021-01-26 04:52:25,196 Val Evaluator INFO: Engine run starting with max_epochs=1.\n",
      "2021-01-26 04:52:27,383 Val Evaluator INFO: Epoch[1] Complete. Time taken: 00:00:02\n",
      "2021-01-26 04:52:27,385 Val Evaluator INFO: Engine run complete. Time taken: 00:00:02\n",
      "\u001b[34m\u001b[1mwandb\u001b[0m: \u001b[33mWARNING\u001b[0m Step must only increase in log calls.  Step 162 < 972; dropping {'lr/group_0': 0.001}.\n",
      "2021-01-26 04:52:27,392 Trainer INFO: Epoch[162] Complete. Time taken: 00:00:15\n"
     ]
    },
    {
     "name": "stdout",
     "output_type": "stream",
     "text": [
      "train loss 0.013371179508563329\n",
      "val loss 1.2347541539565376\n",
      "validation roc auc [0.76399254 0.65174129] 162\n",
      "train roc auc [1. 1.] 162\n"
     ]
    },
    {
     "name": "stderr",
     "output_type": "stream",
     "text": [
      "2021-01-26 04:52:34,657 Train Evaluator INFO: Engine run starting with max_epochs=1.\n",
      "2021-01-26 04:52:39,945 Train Evaluator INFO: Epoch[1] Complete. Time taken: 00:00:05\n",
      "2021-01-26 04:52:39,948 Train Evaluator INFO: Engine run complete. Time taken: 00:00:05\n",
      "2021-01-26 04:52:39,949 Val Evaluator INFO: Engine run starting with max_epochs=1.\n",
      "2021-01-26 04:52:41,689 Val Evaluator INFO: Epoch[1] Complete. Time taken: 00:00:02\n",
      "2021-01-26 04:52:41,691 Val Evaluator INFO: Engine run complete. Time taken: 00:00:02\n",
      "\u001b[34m\u001b[1mwandb\u001b[0m: \u001b[33mWARNING\u001b[0m Step must only increase in log calls.  Step 163 < 978; dropping {'lr/group_0': 0.001}.\n",
      "2021-01-26 04:52:41,699 Trainer INFO: Epoch[163] Complete. Time taken: 00:00:14\n"
     ]
    },
    {
     "name": "stdout",
     "output_type": "stream",
     "text": [
      "train loss 0.013107926524161586\n",
      "val loss 1.26371837698895\n",
      "validation roc auc [0.76430348 0.65018657] 163\n",
      "train roc auc [1. 1.] 163\n"
     ]
    },
    {
     "name": "stderr",
     "output_type": "stream",
     "text": [
      "2021-01-26 04:52:47,506 Train Evaluator INFO: Engine run starting with max_epochs=1.\n",
      "2021-01-26 04:52:53,596 Train Evaluator INFO: Epoch[1] Complete. Time taken: 00:00:06\n",
      "2021-01-26 04:52:53,599 Train Evaluator INFO: Engine run complete. Time taken: 00:00:06\n",
      "2021-01-26 04:52:53,600 Val Evaluator INFO: Engine run starting with max_epochs=1.\n",
      "2021-01-26 04:52:55,273 Val Evaluator INFO: Epoch[1] Complete. Time taken: 00:00:02\n",
      "2021-01-26 04:52:55,276 Val Evaluator INFO: Engine run complete. Time taken: 00:00:02\n",
      "\u001b[34m\u001b[1mwandb\u001b[0m: \u001b[33mWARNING\u001b[0m Step must only increase in log calls.  Step 164 < 984; dropping {'lr/group_0': 0.001}.\n",
      "2021-01-26 04:52:55,285 Trainer INFO: Epoch[164] Complete. Time taken: 00:00:14\n"
     ]
    },
    {
     "name": "stdout",
     "output_type": "stream",
     "text": [
      "train loss 0.012888665575556148\n",
      "val loss 1.249613993064217\n",
      "validation roc auc [0.76368159 0.65174129] 164\n",
      "train roc auc [1. 1.] 164\n"
     ]
    },
    {
     "name": "stderr",
     "output_type": "stream",
     "text": [
      "2021-01-26 04:53:01,046 Train Evaluator INFO: Engine run starting with max_epochs=1.\n",
      "2021-01-26 04:53:07,699 Train Evaluator INFO: Epoch[1] Complete. Time taken: 00:00:07\n",
      "2021-01-26 04:53:07,702 Train Evaluator INFO: Engine run complete. Time taken: 00:00:07\n",
      "2021-01-26 04:53:07,704 Val Evaluator INFO: Engine run starting with max_epochs=1.\n",
      "2021-01-26 04:53:09,770 Val Evaluator INFO: Epoch[1] Complete. Time taken: 00:00:02\n",
      "2021-01-26 04:53:09,772 Val Evaluator INFO: Engine run complete. Time taken: 00:00:02\n",
      "\u001b[34m\u001b[1mwandb\u001b[0m: \u001b[33mWARNING\u001b[0m Step must only increase in log calls.  Step 165 < 990; dropping {'lr/group_0': 0.001}.\n",
      "2021-01-26 04:53:09,778 Trainer INFO: Epoch[165] Complete. Time taken: 00:00:14\n"
     ]
    },
    {
     "name": "stdout",
     "output_type": "stream",
     "text": [
      "train loss 0.01263993821443009\n",
      "val loss 1.2677301997723787\n",
      "validation roc auc [0.7630597  0.65049751] 165\n",
      "train roc auc [1. 1.] 165\n"
     ]
    },
    {
     "name": "stderr",
     "output_type": "stream",
     "text": [
      "2021-01-26 04:53:15,581 Train Evaluator INFO: Engine run starting with max_epochs=1.\n",
      "2021-01-26 04:53:20,740 Train Evaluator INFO: Epoch[1] Complete. Time taken: 00:00:05\n",
      "2021-01-26 04:53:20,743 Train Evaluator INFO: Engine run complete. Time taken: 00:00:05\n",
      "2021-01-26 04:53:20,744 Val Evaluator INFO: Engine run starting with max_epochs=1.\n",
      "2021-01-26 04:53:22,540 Val Evaluator INFO: Epoch[1] Complete. Time taken: 00:00:02\n",
      "2021-01-26 04:53:22,542 Val Evaluator INFO: Engine run complete. Time taken: 00:00:02\n",
      "\u001b[34m\u001b[1mwandb\u001b[0m: \u001b[33mWARNING\u001b[0m Step must only increase in log calls.  Step 166 < 996; dropping {'lr/group_0': 0.001}.\n",
      "2021-01-26 04:53:22,551 Trainer INFO: Epoch[166] Complete. Time taken: 00:00:13\n"
     ]
    },
    {
     "name": "stdout",
     "output_type": "stream",
     "text": [
      "train loss 0.012413598260891862\n",
      "val loss 1.279069477578868\n",
      "validation roc auc [0.76337065 0.64987562] 166\n",
      "train roc auc [1. 1.] 166\n"
     ]
    },
    {
     "name": "stderr",
     "output_type": "stream",
     "text": [
      "2021-01-26 04:53:28,022 Train Evaluator INFO: Engine run starting with max_epochs=1.\n",
      "2021-01-26 04:53:33,056 Train Evaluator INFO: Epoch[1] Complete. Time taken: 00:00:05\n",
      "2021-01-26 04:53:33,058 Train Evaluator INFO: Engine run complete. Time taken: 00:00:05\n",
      "2021-01-26 04:53:33,059 Val Evaluator INFO: Engine run starting with max_epochs=1.\n",
      "2021-01-26 04:53:34,968 Val Evaluator INFO: Epoch[1] Complete. Time taken: 00:00:02\n",
      "2021-01-26 04:53:34,969 Val Evaluator INFO: Engine run complete. Time taken: 00:00:02\n",
      "\u001b[34m\u001b[1mwandb\u001b[0m: \u001b[33mWARNING\u001b[0m Step must only increase in log calls.  Step 167 < 1002; dropping {'lr/group_0': 0.001}.\n",
      "2021-01-26 04:53:34,978 Trainer INFO: Epoch[167] Complete. Time taken: 00:00:12\n"
     ]
    },
    {
     "name": "stdout",
     "output_type": "stream",
     "text": [
      "train loss 0.012196034694520326\n",
      "val loss 1.2845513260882833\n",
      "validation roc auc [0.76368159 0.64925373] 167\n",
      "train roc auc [1. 1.] 167\n"
     ]
    },
    {
     "name": "stderr",
     "output_type": "stream",
     "text": [
      "2021-01-26 04:53:41,458 Train Evaluator INFO: Engine run starting with max_epochs=1.\n",
      "2021-01-26 04:53:46,920 Train Evaluator INFO: Epoch[1] Complete. Time taken: 00:00:05\n",
      "2021-01-26 04:53:46,922 Train Evaluator INFO: Engine run complete. Time taken: 00:00:05\n",
      "2021-01-26 04:53:46,923 Val Evaluator INFO: Engine run starting with max_epochs=1.\n",
      "2021-01-26 04:53:48,724 Val Evaluator INFO: Epoch[1] Complete. Time taken: 00:00:02\n",
      "2021-01-26 04:53:48,725 Val Evaluator INFO: Engine run complete. Time taken: 00:00:02\n",
      "\u001b[34m\u001b[1mwandb\u001b[0m: \u001b[33mWARNING\u001b[0m Step must only increase in log calls.  Step 168 < 1008; dropping {'lr/group_0': 0.001}.\n",
      "2021-01-26 04:53:48,734 Trainer INFO: Epoch[168] Complete. Time taken: 00:00:14\n"
     ]
    },
    {
     "name": "stdout",
     "output_type": "stream",
     "text": [
      "train loss 0.011981475321278417\n",
      "val loss 1.2799746440804523\n",
      "validation roc auc [0.76337065 0.64894279] 168\n",
      "train roc auc [1. 1.] 168\n"
     ]
    },
    {
     "name": "stderr",
     "output_type": "stream",
     "text": [
      "2021-01-26 04:53:54,102 Train Evaluator INFO: Engine run starting with max_epochs=1.\n",
      "2021-01-26 04:54:00,274 Train Evaluator INFO: Epoch[1] Complete. Time taken: 00:00:06\n",
      "2021-01-26 04:54:00,277 Train Evaluator INFO: Engine run complete. Time taken: 00:00:06\n",
      "2021-01-26 04:54:00,278 Val Evaluator INFO: Engine run starting with max_epochs=1.\n",
      "2021-01-26 04:54:01,991 Val Evaluator INFO: Epoch[1] Complete. Time taken: 00:00:02\n",
      "2021-01-26 04:54:01,992 Val Evaluator INFO: Engine run complete. Time taken: 00:00:02\n",
      "\u001b[34m\u001b[1mwandb\u001b[0m: \u001b[33mWARNING\u001b[0m Step must only increase in log calls.  Step 169 < 1014; dropping {'lr/group_0': 0.001}.\n",
      "2021-01-26 04:54:02,000 Trainer INFO: Epoch[169] Complete. Time taken: 00:00:13\n"
     ]
    },
    {
     "name": "stdout",
     "output_type": "stream",
     "text": [
      "train loss 0.01180808459954149\n",
      "val loss 1.321249728617461\n",
      "validation roc auc [0.76337065 0.64583333] 169\n",
      "train roc auc [1. 1.] 169\n"
     ]
    },
    {
     "name": "stderr",
     "output_type": "stream",
     "text": [
      "2021-01-26 04:54:07,143 Train Evaluator INFO: Engine run starting with max_epochs=1.\n",
      "2021-01-26 04:54:11,762 Train Evaluator INFO: Epoch[1] Complete. Time taken: 00:00:05\n",
      "2021-01-26 04:54:11,765 Train Evaluator INFO: Engine run complete. Time taken: 00:00:05\n",
      "2021-01-26 04:54:11,766 Val Evaluator INFO: Engine run starting with max_epochs=1.\n",
      "2021-01-26 04:54:13,606 Val Evaluator INFO: Epoch[1] Complete. Time taken: 00:00:02\n",
      "2021-01-26 04:54:13,608 Val Evaluator INFO: Engine run complete. Time taken: 00:00:02\n",
      "\u001b[34m\u001b[1mwandb\u001b[0m: \u001b[33mWARNING\u001b[0m Step must only increase in log calls.  Step 170 < 1020; dropping {'lr/group_0': 0.001}.\n",
      "2021-01-26 04:54:13,616 Trainer INFO: Epoch[170] Complete. Time taken: 00:00:12\n"
     ]
    },
    {
     "name": "stdout",
     "output_type": "stream",
     "text": [
      "train loss 0.011604234708484108\n",
      "val loss 1.2580114914023357\n",
      "validation roc auc [0.76243781 0.6483209 ] 170\n",
      "train roc auc [1. 1.] 170\n"
     ]
    },
    {
     "name": "stderr",
     "output_type": "stream",
     "text": [
      "2021-01-26 04:54:19,168 Train Evaluator INFO: Engine run starting with max_epochs=1.\n",
      "2021-01-26 04:54:24,610 Train Evaluator INFO: Epoch[1] Complete. Time taken: 00:00:05\n",
      "2021-01-26 04:54:24,613 Train Evaluator INFO: Engine run complete. Time taken: 00:00:05\n",
      "2021-01-26 04:54:24,615 Val Evaluator INFO: Engine run starting with max_epochs=1.\n",
      "2021-01-26 04:54:27,021 Val Evaluator INFO: Epoch[1] Complete. Time taken: 00:00:02\n",
      "2021-01-26 04:54:27,023 Val Evaluator INFO: Engine run complete. Time taken: 00:00:02\n",
      "\u001b[34m\u001b[1mwandb\u001b[0m: \u001b[33mWARNING\u001b[0m Step must only increase in log calls.  Step 171 < 1026; dropping {'lr/group_0': 0.001}.\n",
      "2021-01-26 04:54:27,031 Trainer INFO: Epoch[171] Complete. Time taken: 00:00:13\n"
     ]
    },
    {
     "name": "stdout",
     "output_type": "stream",
     "text": [
      "train loss 0.011394135257196144\n",
      "val loss 1.2783567760301673\n",
      "validation roc auc [0.76212687 0.64894279] 171\n",
      "train roc auc [1. 1.] 171\n"
     ]
    },
    {
     "name": "stderr",
     "output_type": "stream",
     "text": [
      "2021-01-26 04:54:33,362 Train Evaluator INFO: Engine run starting with max_epochs=1.\n",
      "2021-01-26 04:54:39,198 Train Evaluator INFO: Epoch[1] Complete. Time taken: 00:00:06\n",
      "2021-01-26 04:54:39,199 Train Evaluator INFO: Engine run complete. Time taken: 00:00:06\n",
      "2021-01-26 04:54:39,200 Val Evaluator INFO: Engine run starting with max_epochs=1.\n",
      "2021-01-26 04:54:41,127 Val Evaluator INFO: Epoch[1] Complete. Time taken: 00:00:02\n",
      "2021-01-26 04:54:41,130 Val Evaluator INFO: Engine run complete. Time taken: 00:00:02\n",
      "\u001b[34m\u001b[1mwandb\u001b[0m: \u001b[33mWARNING\u001b[0m Step must only increase in log calls.  Step 172 < 1032; dropping {'lr/group_0': 0.001}.\n",
      "2021-01-26 04:54:41,138 Trainer INFO: Epoch[172] Complete. Time taken: 00:00:14\n"
     ]
    },
    {
     "name": "stdout",
     "output_type": "stream",
     "text": [
      "train loss 0.011283731848530515\n",
      "val loss 1.362487590831259\n",
      "validation roc auc [0.75932836 0.64521144] 172\n",
      "train roc auc [1. 1.] 172\n"
     ]
    },
    {
     "name": "stderr",
     "output_type": "stream",
     "text": [
      "2021-01-26 04:54:47,114 Train Evaluator INFO: Engine run starting with max_epochs=1.\n",
      "2021-01-26 04:54:52,546 Train Evaluator INFO: Epoch[1] Complete. Time taken: 00:00:05\n",
      "2021-01-26 04:54:52,548 Train Evaluator INFO: Engine run complete. Time taken: 00:00:05\n",
      "2021-01-26 04:54:52,549 Val Evaluator INFO: Engine run starting with max_epochs=1.\n",
      "2021-01-26 04:54:54,257 Val Evaluator INFO: Epoch[1] Complete. Time taken: 00:00:02\n",
      "2021-01-26 04:54:54,259 Val Evaluator INFO: Engine run complete. Time taken: 00:00:02\n",
      "\u001b[34m\u001b[1mwandb\u001b[0m: \u001b[33mWARNING\u001b[0m Step must only increase in log calls.  Step 173 < 1038; dropping {'lr/group_0': 0.001}.\n",
      "2021-01-26 04:54:54,266 Trainer INFO: Epoch[173] Complete. Time taken: 00:00:13\n"
     ]
    },
    {
     "name": "stdout",
     "output_type": "stream",
     "text": [
      "train loss 0.011007302749306846\n",
      "val loss 1.307842178448387\n",
      "validation roc auc [0.76057214 0.64552239] 173\n",
      "train roc auc [1. 1.] 173\n"
     ]
    },
    {
     "name": "stderr",
     "output_type": "stream",
     "text": [
      "2021-01-26 04:54:59,769 Train Evaluator INFO: Engine run starting with max_epochs=1.\n",
      "2021-01-26 04:55:05,450 Train Evaluator INFO: Epoch[1] Complete. Time taken: 00:00:06\n",
      "2021-01-26 04:55:05,453 Train Evaluator INFO: Engine run complete. Time taken: 00:00:06\n",
      "2021-01-26 04:55:05,454 Val Evaluator INFO: Engine run starting with max_epochs=1.\n",
      "2021-01-26 04:55:07,568 Val Evaluator INFO: Epoch[1] Complete. Time taken: 00:00:02\n",
      "2021-01-26 04:55:07,570 Val Evaluator INFO: Engine run complete. Time taken: 00:00:02\n",
      "\u001b[34m\u001b[1mwandb\u001b[0m: \u001b[33mWARNING\u001b[0m Step must only increase in log calls.  Step 174 < 1044; dropping {'lr/group_0': 0.001}.\n",
      "2021-01-26 04:55:07,577 Trainer INFO: Epoch[174] Complete. Time taken: 00:00:13\n"
     ]
    },
    {
     "name": "stdout",
     "output_type": "stream",
     "text": [
      "train loss 0.010967094021347852\n",
      "val loss 1.2411016246546869\n",
      "validation roc auc [0.76057214 0.65080846] 174\n",
      "train roc auc [1. 1.] 174\n"
     ]
    },
    {
     "name": "stderr",
     "output_type": "stream",
     "text": [
      "2021-01-26 04:55:13,618 Train Evaluator INFO: Engine run starting with max_epochs=1.\n",
      "2021-01-26 04:55:19,596 Train Evaluator INFO: Epoch[1] Complete. Time taken: 00:00:06\n",
      "2021-01-26 04:55:19,599 Train Evaluator INFO: Engine run complete. Time taken: 00:00:06\n",
      "2021-01-26 04:55:19,600 Val Evaluator INFO: Engine run starting with max_epochs=1.\n",
      "2021-01-26 04:55:21,491 Val Evaluator INFO: Epoch[1] Complete. Time taken: 00:00:02\n",
      "2021-01-26 04:55:21,492 Val Evaluator INFO: Engine run complete. Time taken: 00:00:02\n",
      "\u001b[34m\u001b[1mwandb\u001b[0m: \u001b[33mWARNING\u001b[0m Step must only increase in log calls.  Step 175 < 1050; dropping {'lr/group_0': 0.001}.\n",
      "2021-01-26 04:55:21,500 Trainer INFO: Epoch[175] Complete. Time taken: 00:00:14\n"
     ]
    },
    {
     "name": "stdout",
     "output_type": "stream",
     "text": [
      "train loss 0.01083928326795087\n",
      "val loss 1.4042108691256978\n",
      "validation roc auc [0.75746269 0.6449005 ] 175\n",
      "train roc auc [1. 1.] 175\n"
     ]
    },
    {
     "name": "stderr",
     "output_type": "stream",
     "text": [
      "2021-01-26 04:55:26,657 Train Evaluator INFO: Engine run starting with max_epochs=1.\n",
      "2021-01-26 04:55:32,722 Train Evaluator INFO: Epoch[1] Complete. Time taken: 00:00:06\n",
      "2021-01-26 04:55:32,725 Train Evaluator INFO: Engine run complete. Time taken: 00:00:06\n",
      "2021-01-26 04:55:32,727 Val Evaluator INFO: Engine run starting with max_epochs=1.\n",
      "2021-01-26 04:55:34,515 Val Evaluator INFO: Epoch[1] Complete. Time taken: 00:00:02\n",
      "2021-01-26 04:55:34,518 Val Evaluator INFO: Engine run complete. Time taken: 00:00:02\n",
      "\u001b[34m\u001b[1mwandb\u001b[0m: \u001b[33mWARNING\u001b[0m Step must only increase in log calls.  Step 176 < 1056; dropping {'lr/group_0': 0.001}.\n",
      "2021-01-26 04:55:34,527 Trainer INFO: Epoch[176] Complete. Time taken: 00:00:13\n"
     ]
    },
    {
     "name": "stdout",
     "output_type": "stream",
     "text": [
      "train loss 0.010521795837616426\n",
      "val loss 1.2603176645610643\n",
      "validation roc auc [0.75995025 0.647699  ] 176\n",
      "train roc auc [1. 1.] 176\n"
     ]
    },
    {
     "name": "stderr",
     "output_type": "stream",
     "text": [
      "2021-01-26 04:55:40,247 Train Evaluator INFO: Engine run starting with max_epochs=1.\n",
      "2021-01-26 04:55:45,759 Train Evaluator INFO: Epoch[1] Complete. Time taken: 00:00:06\n",
      "2021-01-26 04:55:45,762 Train Evaluator INFO: Engine run complete. Time taken: 00:00:06\n",
      "2021-01-26 04:55:45,763 Val Evaluator INFO: Engine run starting with max_epochs=1.\n",
      "2021-01-26 04:55:47,991 Val Evaluator INFO: Epoch[1] Complete. Time taken: 00:00:02\n",
      "2021-01-26 04:55:47,993 Val Evaluator INFO: Engine run complete. Time taken: 00:00:02\n",
      "\u001b[34m\u001b[1mwandb\u001b[0m: \u001b[33mWARNING\u001b[0m Step must only increase in log calls.  Step 177 < 1062; dropping {'lr/group_0': 0.001}.\n",
      "2021-01-26 04:55:48,001 Trainer INFO: Epoch[177] Complete. Time taken: 00:00:13\n"
     ]
    },
    {
     "name": "stdout",
     "output_type": "stream",
     "text": [
      "train loss 0.01026002378836715\n",
      "val loss 1.3369751090588777\n",
      "validation roc auc [0.75839552 0.64583333] 177\n",
      "train roc auc [1. 1.] 177\n"
     ]
    },
    {
     "name": "stderr",
     "output_type": "stream",
     "text": [
      "2021-01-26 04:55:53,933 Train Evaluator INFO: Engine run starting with max_epochs=1.\n",
      "2021-01-26 04:56:00,008 Train Evaluator INFO: Epoch[1] Complete. Time taken: 00:00:06\n",
      "2021-01-26 04:56:00,011 Train Evaluator INFO: Engine run complete. Time taken: 00:00:06\n",
      "2021-01-26 04:56:00,013 Val Evaluator INFO: Engine run starting with max_epochs=1.\n",
      "2021-01-26 04:56:01,321 Val Evaluator INFO: Epoch[1] Complete. Time taken: 00:00:01\n",
      "2021-01-26 04:56:01,322 Val Evaluator INFO: Engine run complete. Time taken: 00:00:01\n",
      "\u001b[34m\u001b[1mwandb\u001b[0m: \u001b[33mWARNING\u001b[0m Step must only increase in log calls.  Step 178 < 1068; dropping {'lr/group_0': 0.001}.\n",
      "2021-01-26 04:56:01,329 Trainer INFO: Epoch[178] Complete. Time taken: 00:00:13\n"
     ]
    },
    {
     "name": "stdout",
     "output_type": "stream",
     "text": [
      "train loss 0.010091486067329285\n",
      "val loss 1.321877640226613\n",
      "validation roc auc [0.75808458 0.64707711] 178\n",
      "train roc auc [1. 1.] 178\n"
     ]
    },
    {
     "name": "stderr",
     "output_type": "stream",
     "text": [
      "2021-01-26 04:56:06,935 Train Evaluator INFO: Engine run starting with max_epochs=1.\n",
      "2021-01-26 04:56:11,717 Train Evaluator INFO: Epoch[1] Complete. Time taken: 00:00:05\n",
      "2021-01-26 04:56:11,720 Train Evaluator INFO: Engine run complete. Time taken: 00:00:05\n",
      "2021-01-26 04:56:11,721 Val Evaluator INFO: Engine run starting with max_epochs=1.\n",
      "2021-01-26 04:56:13,364 Val Evaluator INFO: Epoch[1] Complete. Time taken: 00:00:02\n",
      "2021-01-26 04:56:13,365 Val Evaluator INFO: Engine run complete. Time taken: 00:00:02\n",
      "\u001b[34m\u001b[1mwandb\u001b[0m: \u001b[33mWARNING\u001b[0m Step must only increase in log calls.  Step 179 < 1074; dropping {'lr/group_0': 0.001}.\n",
      "2021-01-26 04:56:13,374 Trainer INFO: Epoch[179] Complete. Time taken: 00:00:12\n"
     ]
    },
    {
     "name": "stdout",
     "output_type": "stream",
     "text": [
      "train loss 0.009927293525446626\n",
      "val loss 1.341463905832042\n",
      "validation roc auc [0.75808458 0.6449005 ] 179\n",
      "train roc auc [1. 1.] 179\n"
     ]
    },
    {
     "name": "stderr",
     "output_type": "stream",
     "text": [
      "2021-01-26 04:56:19,646 Train Evaluator INFO: Engine run starting with max_epochs=1.\n",
      "2021-01-26 04:56:25,029 Train Evaluator INFO: Epoch[1] Complete. Time taken: 00:00:05\n",
      "2021-01-26 04:56:25,032 Train Evaluator INFO: Engine run complete. Time taken: 00:00:05\n",
      "2021-01-26 04:56:25,033 Val Evaluator INFO: Engine run starting with max_epochs=1.\n",
      "2021-01-26 04:56:27,486 Val Evaluator INFO: Epoch[1] Complete. Time taken: 00:00:02\n",
      "2021-01-26 04:56:27,488 Val Evaluator INFO: Engine run complete. Time taken: 00:00:02\n",
      "\u001b[34m\u001b[1mwandb\u001b[0m: \u001b[33mWARNING\u001b[0m Step must only increase in log calls.  Step 180 < 1080; dropping {'lr/group_0': 0.001}.\n",
      "2021-01-26 04:56:27,495 Trainer INFO: Epoch[180] Complete. Time taken: 00:00:14\n"
     ]
    },
    {
     "name": "stdout",
     "output_type": "stream",
     "text": [
      "train loss 0.0097695509875579\n",
      "val loss 1.3080254834631215\n",
      "validation roc auc [0.75932836 0.64614428] 180\n",
      "train roc auc [1. 1.] 180\n"
     ]
    },
    {
     "name": "stderr",
     "output_type": "stream",
     "text": [
      "2021-01-26 04:56:33,354 Train Evaluator INFO: Engine run starting with max_epochs=1.\n",
      "2021-01-26 04:56:38,255 Train Evaluator INFO: Epoch[1] Complete. Time taken: 00:00:05\n",
      "2021-01-26 04:56:38,257 Train Evaluator INFO: Engine run complete. Time taken: 00:00:05\n",
      "2021-01-26 04:56:38,258 Val Evaluator INFO: Engine run starting with max_epochs=1.\n",
      "2021-01-26 04:56:39,718 Val Evaluator INFO: Epoch[1] Complete. Time taken: 00:00:01\n",
      "2021-01-26 04:56:39,720 Val Evaluator INFO: Engine run complete. Time taken: 00:00:01\n",
      "\u001b[34m\u001b[1mwandb\u001b[0m: \u001b[33mWARNING\u001b[0m Step must only increase in log calls.  Step 181 < 1086; dropping {'lr/group_0': 0.001}.\n",
      "2021-01-26 04:56:39,728 Trainer INFO: Epoch[181] Complete. Time taken: 00:00:12\n"
     ]
    },
    {
     "name": "stdout",
     "output_type": "stream",
     "text": [
      "train loss 0.009601025472907625\n",
      "val loss 1.3407683051150778\n",
      "validation roc auc [0.7568408  0.64583333] 181\n",
      "train roc auc [1. 1.] 181\n"
     ]
    },
    {
     "name": "stderr",
     "output_type": "stream",
     "text": [
      "2021-01-26 04:56:45,649 Train Evaluator INFO: Engine run starting with max_epochs=1.\n",
      "2021-01-26 04:56:52,092 Train Evaluator INFO: Epoch[1] Complete. Time taken: 00:00:06\n",
      "2021-01-26 04:56:52,095 Train Evaluator INFO: Engine run complete. Time taken: 00:00:06\n",
      "2021-01-26 04:56:52,096 Val Evaluator INFO: Engine run starting with max_epochs=1.\n",
      "2021-01-26 04:56:54,018 Val Evaluator INFO: Epoch[1] Complete. Time taken: 00:00:02\n",
      "2021-01-26 04:56:54,021 Val Evaluator INFO: Engine run complete. Time taken: 00:00:02\n",
      "\u001b[34m\u001b[1mwandb\u001b[0m: \u001b[33mWARNING\u001b[0m Step must only increase in log calls.  Step 182 < 1092; dropping {'lr/group_0': 0.001}.\n",
      "2021-01-26 04:56:54,028 Trainer INFO: Epoch[182] Complete. Time taken: 00:00:14\n"
     ]
    },
    {
     "name": "stdout",
     "output_type": "stream",
     "text": [
      "train loss 0.009439612700212636\n",
      "val loss 1.344888216516246\n",
      "validation roc auc [0.7568408  0.64458955] 182\n",
      "train roc auc [1. 1.] 182\n"
     ]
    },
    {
     "name": "stderr",
     "output_type": "stream",
     "text": [
      "2021-01-26 04:56:59,118 Train Evaluator INFO: Engine run starting with max_epochs=1.\n",
      "2021-01-26 04:57:05,092 Train Evaluator INFO: Epoch[1] Complete. Time taken: 00:00:06\n",
      "2021-01-26 04:57:05,095 Train Evaluator INFO: Engine run complete. Time taken: 00:00:06\n",
      "2021-01-26 04:57:05,097 Val Evaluator INFO: Engine run starting with max_epochs=1.\n",
      "2021-01-26 04:57:06,984 Val Evaluator INFO: Epoch[1] Complete. Time taken: 00:00:02\n",
      "2021-01-26 04:57:06,986 Val Evaluator INFO: Engine run complete. Time taken: 00:00:02\n",
      "\u001b[34m\u001b[1mwandb\u001b[0m: \u001b[33mWARNING\u001b[0m Step must only increase in log calls.  Step 183 < 1098; dropping {'lr/group_0': 0.001}.\n",
      "2021-01-26 04:57:06,993 Trainer INFO: Epoch[183] Complete. Time taken: 00:00:13\n"
     ]
    },
    {
     "name": "stdout",
     "output_type": "stream",
     "text": [
      "train loss 0.009364763610946708\n",
      "val loss 1.2890821311784828\n",
      "validation roc auc [0.75808458 0.64707711] 183\n",
      "train roc auc [1. 1.] 183\n"
     ]
    },
    {
     "name": "stderr",
     "output_type": "stream",
     "text": [
      "2021-01-26 04:57:12,329 Train Evaluator INFO: Engine run starting with max_epochs=1.\n",
      "2021-01-26 04:57:18,599 Train Evaluator INFO: Epoch[1] Complete. Time taken: 00:00:06\n",
      "2021-01-26 04:57:18,602 Train Evaluator INFO: Engine run complete. Time taken: 00:00:06\n",
      "2021-01-26 04:57:18,603 Val Evaluator INFO: Engine run starting with max_epochs=1.\n",
      "2021-01-26 04:57:20,207 Val Evaluator INFO: Epoch[1] Complete. Time taken: 00:00:02\n",
      "2021-01-26 04:57:20,209 Val Evaluator INFO: Engine run complete. Time taken: 00:00:02\n",
      "\u001b[34m\u001b[1mwandb\u001b[0m: \u001b[33mWARNING\u001b[0m Step must only increase in log calls.  Step 184 < 1104; dropping {'lr/group_0': 0.001}.\n",
      "2021-01-26 04:57:20,217 Trainer INFO: Epoch[184] Complete. Time taken: 00:00:13\n"
     ]
    },
    {
     "name": "stdout",
     "output_type": "stream",
     "text": [
      "train loss 0.009188727472947371\n",
      "val loss 1.3955388297205387\n",
      "validation roc auc [0.75652985 0.64303483] 184\n",
      "train roc auc [1. 1.] 184\n"
     ]
    },
    {
     "name": "stderr",
     "output_type": "stream",
     "text": [
      "2021-01-26 04:57:25,698 Train Evaluator INFO: Engine run starting with max_epochs=1.\n",
      "2021-01-26 04:57:31,612 Train Evaluator INFO: Epoch[1] Complete. Time taken: 00:00:06\n",
      "2021-01-26 04:57:31,615 Train Evaluator INFO: Engine run complete. Time taken: 00:00:06\n",
      "2021-01-26 04:57:31,616 Val Evaluator INFO: Engine run starting with max_epochs=1.\n",
      "2021-01-26 04:57:33,417 Val Evaluator INFO: Epoch[1] Complete. Time taken: 00:00:02\n",
      "2021-01-26 04:57:33,419 Val Evaluator INFO: Engine run complete. Time taken: 00:00:02\n",
      "\u001b[34m\u001b[1mwandb\u001b[0m: \u001b[33mWARNING\u001b[0m Step must only increase in log calls.  Step 185 < 1110; dropping {'lr/group_0': 0.001}.\n",
      "2021-01-26 04:57:33,427 Trainer INFO: Epoch[185] Complete. Time taken: 00:00:13\n"
     ]
    },
    {
     "name": "stdout",
     "output_type": "stream",
     "text": [
      "train loss 0.008989983169395014\n",
      "val loss 1.3460613582445227\n",
      "validation roc auc [0.75652985 0.64427861] 185\n",
      "train roc auc [1. 1.] 185\n"
     ]
    },
    {
     "name": "stderr",
     "output_type": "stream",
     "text": [
      "2021-01-26 04:57:39,146 Train Evaluator INFO: Engine run starting with max_epochs=1.\n",
      "2021-01-26 04:57:43,333 Train Evaluator INFO: Epoch[1] Complete. Time taken: 00:00:04\n",
      "2021-01-26 04:57:43,334 Train Evaluator INFO: Engine run complete. Time taken: 00:00:04\n",
      "2021-01-26 04:57:43,335 Val Evaluator INFO: Engine run starting with max_epochs=1.\n",
      "2021-01-26 04:57:44,618 Val Evaluator INFO: Epoch[1] Complete. Time taken: 00:00:01\n",
      "2021-01-26 04:57:44,621 Val Evaluator INFO: Engine run complete. Time taken: 00:00:01\n",
      "\u001b[34m\u001b[1mwandb\u001b[0m: \u001b[33mWARNING\u001b[0m Step must only increase in log calls.  Step 186 < 1116; dropping {'lr/group_0': 0.001}.\n",
      "2021-01-26 04:57:44,630 Trainer INFO: Epoch[186] Complete. Time taken: 00:00:11\n"
     ]
    },
    {
     "name": "stdout",
     "output_type": "stream",
     "text": [
      "train loss 0.008848556711410101\n",
      "val loss 1.3650235580361407\n",
      "validation roc auc [0.75590796 0.64334577] 186\n",
      "train roc auc [1. 1.] 186\n"
     ]
    },
    {
     "name": "stderr",
     "output_type": "stream",
     "text": [
      "2021-01-26 04:57:49,691 Train Evaluator INFO: Engine run starting with max_epochs=1.\n",
      "2021-01-26 04:57:53,831 Train Evaluator INFO: Epoch[1] Complete. Time taken: 00:00:04\n",
      "2021-01-26 04:57:53,834 Train Evaluator INFO: Engine run complete. Time taken: 00:00:04\n",
      "2021-01-26 04:57:53,836 Val Evaluator INFO: Engine run starting with max_epochs=1.\n",
      "2021-01-26 04:57:55,328 Val Evaluator INFO: Epoch[1] Complete. Time taken: 00:00:01\n",
      "2021-01-26 04:57:55,330 Val Evaluator INFO: Engine run complete. Time taken: 00:00:01\n",
      "\u001b[34m\u001b[1mwandb\u001b[0m: \u001b[33mWARNING\u001b[0m Step must only increase in log calls.  Step 187 < 1122; dropping {'lr/group_0': 0.001}.\n",
      "2021-01-26 04:57:55,337 Trainer INFO: Epoch[187] Complete. Time taken: 00:00:11\n"
     ]
    },
    {
     "name": "stdout",
     "output_type": "stream",
     "text": [
      "train loss 0.00872125268566626\n",
      "val loss 1.3825063384097556\n",
      "validation roc auc [0.75559701 0.64303483] 187\n",
      "train roc auc [1. 1.] 187\n"
     ]
    },
    {
     "name": "stderr",
     "output_type": "stream",
     "text": [
      "2021-01-26 04:57:59,364 Train Evaluator INFO: Engine run starting with max_epochs=1.\n",
      "2021-01-26 04:58:04,060 Train Evaluator INFO: Epoch[1] Complete. Time taken: 00:00:05\n",
      "2021-01-26 04:58:04,063 Train Evaluator INFO: Engine run complete. Time taken: 00:00:05\n",
      "2021-01-26 04:58:04,064 Val Evaluator INFO: Engine run starting with max_epochs=1.\n",
      "2021-01-26 04:58:05,699 Val Evaluator INFO: Epoch[1] Complete. Time taken: 00:00:02\n",
      "2021-01-26 04:58:05,700 Val Evaluator INFO: Engine run complete. Time taken: 00:00:02\n",
      "\u001b[34m\u001b[1mwandb\u001b[0m: \u001b[33mWARNING\u001b[0m Step must only increase in log calls.  Step 188 < 1128; dropping {'lr/group_0': 0.001}.\n",
      "2021-01-26 04:58:05,708 Trainer INFO: Epoch[188] Complete. Time taken: 00:00:10\n"
     ]
    },
    {
     "name": "stdout",
     "output_type": "stream",
     "text": [
      "train loss 0.008606380240209181\n",
      "val loss 1.3262383305508159\n",
      "validation roc auc [0.75590796 0.64396766] 188\n",
      "train roc auc [1. 1.] 188\n"
     ]
    },
    {
     "name": "stderr",
     "output_type": "stream",
     "text": [
      "2021-01-26 04:58:10,146 Train Evaluator INFO: Engine run starting with max_epochs=1.\n",
      "2021-01-26 04:58:14,823 Train Evaluator INFO: Epoch[1] Complete. Time taken: 00:00:05\n",
      "2021-01-26 04:58:14,827 Train Evaluator INFO: Engine run complete. Time taken: 00:00:05\n",
      "2021-01-26 04:58:14,828 Val Evaluator INFO: Engine run starting with max_epochs=1.\n",
      "2021-01-26 04:58:16,736 Val Evaluator INFO: Epoch[1] Complete. Time taken: 00:00:02\n",
      "2021-01-26 04:58:16,738 Val Evaluator INFO: Engine run complete. Time taken: 00:00:02\n",
      "\u001b[34m\u001b[1mwandb\u001b[0m: \u001b[33mWARNING\u001b[0m Step must only increase in log calls.  Step 189 < 1134; dropping {'lr/group_0': 0.001}.\n",
      "2021-01-26 04:58:16,745 Trainer INFO: Epoch[189] Complete. Time taken: 00:00:11\n"
     ]
    },
    {
     "name": "stdout",
     "output_type": "stream",
     "text": [
      "train loss 0.008452133471201334\n",
      "val loss 1.3895833761795708\n",
      "validation roc auc [0.75466418 0.64179104] 189\n",
      "train roc auc [1. 1.] 189\n"
     ]
    },
    {
     "name": "stderr",
     "output_type": "stream",
     "text": [
      "2021-01-26 04:58:21,268 Train Evaluator INFO: Engine run starting with max_epochs=1.\n",
      "2021-01-26 04:58:25,430 Train Evaluator INFO: Epoch[1] Complete. Time taken: 00:00:04\n",
      "2021-01-26 04:58:25,431 Train Evaluator INFO: Engine run complete. Time taken: 00:00:04\n",
      "2021-01-26 04:58:25,432 Val Evaluator INFO: Engine run starting with max_epochs=1.\n",
      "2021-01-26 04:58:26,647 Val Evaluator INFO: Epoch[1] Complete. Time taken: 00:00:01\n",
      "2021-01-26 04:58:26,648 Val Evaluator INFO: Engine run complete. Time taken: 00:00:01\n",
      "\u001b[34m\u001b[1mwandb\u001b[0m: \u001b[33mWARNING\u001b[0m Step must only increase in log calls.  Step 190 < 1140; dropping {'lr/group_0': 0.001}.\n",
      "2021-01-26 04:58:26,656 Trainer INFO: Epoch[190] Complete. Time taken: 00:00:10\n"
     ]
    },
    {
     "name": "stdout",
     "output_type": "stream",
     "text": [
      "train loss 0.008316305091262922\n",
      "val loss 1.3546729771987251\n",
      "validation roc auc [0.75497512 0.64241294] 190\n",
      "train roc auc [1. 1.] 190\n"
     ]
    },
    {
     "name": "stderr",
     "output_type": "stream",
     "text": [
      "2021-01-26 04:58:31,096 Train Evaluator INFO: Engine run starting with max_epochs=1.\n",
      "2021-01-26 04:58:34,823 Train Evaluator INFO: Epoch[1] Complete. Time taken: 00:00:04\n",
      "2021-01-26 04:58:34,825 Train Evaluator INFO: Engine run complete. Time taken: 00:00:04\n",
      "2021-01-26 04:58:34,826 Val Evaluator INFO: Engine run starting with max_epochs=1.\n",
      "2021-01-26 04:58:36,349 Val Evaluator INFO: Epoch[1] Complete. Time taken: 00:00:02\n",
      "2021-01-26 04:58:36,351 Val Evaluator INFO: Engine run complete. Time taken: 00:00:02\n",
      "\u001b[34m\u001b[1mwandb\u001b[0m: \u001b[33mWARNING\u001b[0m Step must only increase in log calls.  Step 191 < 1146; dropping {'lr/group_0': 0.001}.\n",
      "2021-01-26 04:58:36,359 Trainer INFO: Epoch[191] Complete. Time taken: 00:00:10\n"
     ]
    },
    {
     "name": "stdout",
     "output_type": "stream",
     "text": [
      "train loss 0.008185448731191059\n",
      "val loss 1.3644118723662004\n",
      "validation roc auc [0.75373134 0.64210199] 191\n",
      "train roc auc [1. 1.] 191\n"
     ]
    },
    {
     "name": "stderr",
     "output_type": "stream",
     "text": [
      "2021-01-26 04:58:41,143 Train Evaluator INFO: Engine run starting with max_epochs=1.\n",
      "2021-01-26 04:58:45,249 Train Evaluator INFO: Epoch[1] Complete. Time taken: 00:00:04\n",
      "2021-01-26 04:58:45,252 Train Evaluator INFO: Engine run complete. Time taken: 00:00:04\n",
      "2021-01-26 04:58:45,253 Val Evaluator INFO: Engine run starting with max_epochs=1.\n",
      "2021-01-26 04:58:46,645 Val Evaluator INFO: Epoch[1] Complete. Time taken: 00:00:01\n",
      "2021-01-26 04:58:46,646 Val Evaluator INFO: Engine run complete. Time taken: 00:00:01\n",
      "\u001b[34m\u001b[1mwandb\u001b[0m: \u001b[33mWARNING\u001b[0m Step must only increase in log calls.  Step 192 < 1152; dropping {'lr/group_0': 0.001}.\n",
      "2021-01-26 04:58:46,653 Trainer INFO: Epoch[192] Complete. Time taken: 00:00:10\n"
     ]
    },
    {
     "name": "stdout",
     "output_type": "stream",
     "text": [
      "train loss 0.008062553454256622\n",
      "val loss 1.3910092903220135\n",
      "validation roc auc [0.75435323 0.64054726] 192\n",
      "train roc auc [1. 1.] 192\n"
     ]
    },
    {
     "name": "stderr",
     "output_type": "stream",
     "text": [
      "2021-01-26 04:58:51,421 Train Evaluator INFO: Engine run starting with max_epochs=1.\n",
      "2021-01-26 04:58:55,664 Train Evaluator INFO: Epoch[1] Complete. Time taken: 00:00:04\n",
      "2021-01-26 04:58:55,667 Train Evaluator INFO: Engine run complete. Time taken: 00:00:04\n",
      "2021-01-26 04:58:55,668 Val Evaluator INFO: Engine run starting with max_epochs=1.\n",
      "2021-01-26 04:58:57,621 Val Evaluator INFO: Epoch[1] Complete. Time taken: 00:00:02\n",
      "2021-01-26 04:58:57,623 Val Evaluator INFO: Engine run complete. Time taken: 00:00:02\n",
      "\u001b[34m\u001b[1mwandb\u001b[0m: \u001b[33mWARNING\u001b[0m Step must only increase in log calls.  Step 193 < 1158; dropping {'lr/group_0': 0.001}.\n",
      "2021-01-26 04:58:57,630 Trainer INFO: Epoch[193] Complete. Time taken: 00:00:11\n"
     ]
    },
    {
     "name": "stdout",
     "output_type": "stream",
     "text": [
      "train loss 0.00795395738175194\n",
      "val loss 1.3531973123550416\n",
      "validation roc auc [0.7534204  0.64179104] 193\n",
      "train roc auc [1. 1.] 193\n"
     ]
    },
    {
     "name": "stderr",
     "output_type": "stream",
     "text": [
      "2021-01-26 04:59:01,952 Train Evaluator INFO: Engine run starting with max_epochs=1.\n",
      "2021-01-26 04:59:06,829 Train Evaluator INFO: Epoch[1] Complete. Time taken: 00:00:05\n",
      "2021-01-26 04:59:06,830 Train Evaluator INFO: Engine run complete. Time taken: 00:00:05\n",
      "2021-01-26 04:59:06,832 Val Evaluator INFO: Engine run starting with max_epochs=1.\n",
      "2021-01-26 04:59:08,333 Val Evaluator INFO: Epoch[1] Complete. Time taken: 00:00:01\n",
      "2021-01-26 04:59:08,336 Val Evaluator INFO: Engine run complete. Time taken: 00:00:02\n",
      "\u001b[34m\u001b[1mwandb\u001b[0m: \u001b[33mWARNING\u001b[0m Step must only increase in log calls.  Step 194 < 1164; dropping {'lr/group_0': 0.001}.\n",
      "2021-01-26 04:59:08,343 Trainer INFO: Epoch[194] Complete. Time taken: 00:00:11\n"
     ]
    },
    {
     "name": "stdout",
     "output_type": "stream",
     "text": [
      "train loss 0.007818367949427937\n",
      "val loss 1.395438760259877\n",
      "validation roc auc [0.75310945 0.64023632] 194\n",
      "train roc auc [1. 1.] 194\n"
     ]
    },
    {
     "name": "stderr",
     "output_type": "stream",
     "text": [
      "2021-01-26 04:59:12,864 Train Evaluator INFO: Engine run starting with max_epochs=1.\n",
      "2021-01-26 04:59:16,473 Train Evaluator INFO: Epoch[1] Complete. Time taken: 00:00:04\n",
      "2021-01-26 04:59:16,476 Train Evaluator INFO: Engine run complete. Time taken: 00:00:04\n",
      "2021-01-26 04:59:16,477 Val Evaluator INFO: Engine run starting with max_epochs=1.\n",
      "2021-01-26 04:59:17,787 Val Evaluator INFO: Epoch[1] Complete. Time taken: 00:00:01\n",
      "2021-01-26 04:59:17,788 Val Evaluator INFO: Engine run complete. Time taken: 00:00:01\n",
      "\u001b[34m\u001b[1mwandb\u001b[0m: \u001b[33mWARNING\u001b[0m Step must only increase in log calls.  Step 195 < 1170; dropping {'lr/group_0': 0.001}.\n",
      "2021-01-26 04:59:17,797 Trainer INFO: Epoch[195] Complete. Time taken: 00:00:09\n"
     ]
    },
    {
     "name": "stdout",
     "output_type": "stream",
     "text": [
      "train loss 0.00770211126379801\n",
      "val loss 1.3763085510419764\n",
      "validation roc auc [0.75217662 0.64085821] 195\n",
      "train roc auc [1. 1.] 195\n"
     ]
    },
    {
     "name": "stderr",
     "output_type": "stream",
     "text": [
      "2021-01-26 04:59:21,408 Train Evaluator INFO: Engine run starting with max_epochs=1.\n",
      "2021-01-26 04:59:25,609 Train Evaluator INFO: Epoch[1] Complete. Time taken: 00:00:04\n",
      "2021-01-26 04:59:25,612 Train Evaluator INFO: Engine run complete. Time taken: 00:00:04\n",
      "2021-01-26 04:59:25,613 Val Evaluator INFO: Engine run starting with max_epochs=1.\n",
      "2021-01-26 04:59:26,846 Val Evaluator INFO: Epoch[1] Complete. Time taken: 00:00:01\n",
      "2021-01-26 04:59:26,848 Val Evaluator INFO: Engine run complete. Time taken: 00:00:01\n",
      "\u001b[34m\u001b[1mwandb\u001b[0m: \u001b[33mWARNING\u001b[0m Step must only increase in log calls.  Step 196 < 1176; dropping {'lr/group_0': 0.001}.\n",
      "2021-01-26 04:59:26,855 Trainer INFO: Epoch[196] Complete. Time taken: 00:00:09\n"
     ]
    },
    {
     "name": "stdout",
     "output_type": "stream",
     "text": [
      "train loss 0.007584675912298924\n",
      "val loss 1.3828255902165951\n",
      "validation roc auc [0.75279851 0.64085821] 196\n",
      "train roc auc [1. 1.] 196\n"
     ]
    },
    {
     "name": "stderr",
     "output_type": "stream",
     "text": [
      "2021-01-26 04:59:31,498 Train Evaluator INFO: Engine run starting with max_epochs=1.\n",
      "2021-01-26 04:59:35,701 Train Evaluator INFO: Epoch[1] Complete. Time taken: 00:00:04\n",
      "2021-01-26 04:59:35,702 Train Evaluator INFO: Engine run complete. Time taken: 00:00:04\n",
      "2021-01-26 04:59:35,703 Val Evaluator INFO: Engine run starting with max_epochs=1.\n",
      "2021-01-26 04:59:37,144 Val Evaluator INFO: Epoch[1] Complete. Time taken: 00:00:01\n",
      "2021-01-26 04:59:37,146 Val Evaluator INFO: Engine run complete. Time taken: 00:00:01\n",
      "\u001b[34m\u001b[1mwandb\u001b[0m: \u001b[33mWARNING\u001b[0m Step must only increase in log calls.  Step 197 < 1182; dropping {'lr/group_0': 0.001}.\n",
      "2021-01-26 04:59:37,153 Trainer INFO: Epoch[197] Complete. Time taken: 00:00:10\n"
     ]
    },
    {
     "name": "stdout",
     "output_type": "stream",
     "text": [
      "train loss 0.0075157343729581\n",
      "val loss 1.442436923151431\n",
      "validation roc auc [0.75248756 0.6380597 ] 197\n",
      "train roc auc [1. 1.] 197\n"
     ]
    },
    {
     "name": "stderr",
     "output_type": "stream",
     "text": [
      "2021-01-26 04:59:41,502 Train Evaluator INFO: Engine run starting with max_epochs=1.\n",
      "2021-01-26 04:59:46,093 Train Evaluator INFO: Epoch[1] Complete. Time taken: 00:00:05\n",
      "2021-01-26 04:59:46,095 Train Evaluator INFO: Engine run complete. Time taken: 00:00:05\n",
      "2021-01-26 04:59:46,096 Val Evaluator INFO: Engine run starting with max_epochs=1.\n",
      "2021-01-26 04:59:47,413 Val Evaluator INFO: Epoch[1] Complete. Time taken: 00:00:01\n",
      "2021-01-26 04:59:47,415 Val Evaluator INFO: Engine run complete. Time taken: 00:00:01\n",
      "\u001b[34m\u001b[1mwandb\u001b[0m: \u001b[33mWARNING\u001b[0m Step must only increase in log calls.  Step 198 < 1188; dropping {'lr/group_0': 0.001}.\n",
      "2021-01-26 04:59:47,424 Trainer INFO: Epoch[198] Complete. Time taken: 00:00:10\n"
     ]
    },
    {
     "name": "stdout",
     "output_type": "stream",
     "text": [
      "train loss 0.007377301921417727\n",
      "val loss 1.3690957857214887\n",
      "validation roc auc [0.75186567 0.64085821] 198\n",
      "train roc auc [1. 1.] 198\n"
     ]
    },
    {
     "name": "stderr",
     "output_type": "stream",
     "text": [
      "2021-01-26 04:59:51,502 Train Evaluator INFO: Engine run starting with max_epochs=1.\n",
      "2021-01-26 04:59:55,437 Train Evaluator INFO: Epoch[1] Complete. Time taken: 00:00:04\n",
      "2021-01-26 04:59:55,438 Train Evaluator INFO: Engine run complete. Time taken: 00:00:04\n",
      "2021-01-26 04:59:55,439 Val Evaluator INFO: Engine run starting with max_epochs=1.\n",
      "2021-01-26 04:59:56,779 Val Evaluator INFO: Epoch[1] Complete. Time taken: 00:00:01\n",
      "2021-01-26 04:59:56,780 Val Evaluator INFO: Engine run complete. Time taken: 00:00:01\n",
      "\u001b[34m\u001b[1mwandb\u001b[0m: \u001b[33mWARNING\u001b[0m Step must only increase in log calls.  Step 199 < 1194; dropping {'lr/group_0': 0.001}.\n",
      "2021-01-26 04:59:56,789 Trainer INFO: Epoch[199] Complete. Time taken: 00:00:09\n"
     ]
    },
    {
     "name": "stdout",
     "output_type": "stream",
     "text": [
      "train loss 0.00725310264684304\n",
      "val loss 1.4061635369839875\n",
      "validation roc auc [0.75248756 0.63961443] 199\n",
      "train roc auc [1. 1.] 199\n"
     ]
    },
    {
     "name": "stderr",
     "output_type": "stream",
     "text": [
      "2021-01-26 05:00:00,820 Train Evaluator INFO: Engine run starting with max_epochs=1.\n",
      "2021-01-26 05:00:05,170 Train Evaluator INFO: Epoch[1] Complete. Time taken: 00:00:04\n",
      "2021-01-26 05:00:05,172 Train Evaluator INFO: Engine run complete. Time taken: 00:00:04\n",
      "2021-01-26 05:00:05,174 Val Evaluator INFO: Engine run starting with max_epochs=1.\n",
      "2021-01-26 05:00:06,803 Val Evaluator INFO: Epoch[1] Complete. Time taken: 00:00:02\n",
      "2021-01-26 05:00:06,805 Val Evaluator INFO: Engine run complete. Time taken: 00:00:02\n",
      "\u001b[34m\u001b[1mwandb\u001b[0m: \u001b[33mWARNING\u001b[0m Step must only increase in log calls.  Step 200 < 1200; dropping {'lr/group_0': 0.001}.\n",
      "2021-01-26 05:00:06,813 Trainer INFO: Epoch[200] Complete. Time taken: 00:00:10\n"
     ]
    },
    {
     "name": "stdout",
     "output_type": "stream",
     "text": [
      "train loss 0.0071476250583823965\n",
      "val loss 1.4071093289748482\n",
      "validation roc auc [0.75248756 0.63961443] 200\n",
      "train roc auc [1. 1.] 200\n"
     ]
    },
    {
     "name": "stderr",
     "output_type": "stream",
     "text": [
      "2021-01-26 05:00:11,362 Train Evaluator INFO: Engine run starting with max_epochs=1.\n",
      "2021-01-26 05:00:15,754 Train Evaluator INFO: Epoch[1] Complete. Time taken: 00:00:04\n",
      "2021-01-26 05:00:15,756 Train Evaluator INFO: Engine run complete. Time taken: 00:00:04\n",
      "2021-01-26 05:00:15,757 Val Evaluator INFO: Engine run starting with max_epochs=1.\n",
      "2021-01-26 05:00:17,077 Val Evaluator INFO: Epoch[1] Complete. Time taken: 00:00:01\n",
      "2021-01-26 05:00:17,079 Val Evaluator INFO: Engine run complete. Time taken: 00:00:01\n",
      "\u001b[34m\u001b[1mwandb\u001b[0m: \u001b[33mWARNING\u001b[0m Step must only increase in log calls.  Step 201 < 1206; dropping {'lr/group_0': 0.001}.\n",
      "2021-01-26 05:00:17,087 Trainer INFO: Epoch[201] Complete. Time taken: 00:00:10\n"
     ]
    },
    {
     "name": "stdout",
     "output_type": "stream",
     "text": [
      "train loss 0.0070528526399174386\n",
      "val loss 1.4324385891789975\n",
      "validation roc auc [0.75186567 0.6380597 ] 201\n",
      "train roc auc [1. 1.] 201\n"
     ]
    },
    {
     "name": "stderr",
     "output_type": "stream",
     "text": [
      "2021-01-26 05:00:21,083 Train Evaluator INFO: Engine run starting with max_epochs=1.\n",
      "2021-01-26 05:00:25,099 Train Evaluator INFO: Epoch[1] Complete. Time taken: 00:00:04\n",
      "2021-01-26 05:00:25,100 Train Evaluator INFO: Engine run complete. Time taken: 00:00:04\n",
      "2021-01-26 05:00:25,101 Val Evaluator INFO: Engine run starting with max_epochs=1.\n",
      "2021-01-26 05:00:26,554 Val Evaluator INFO: Epoch[1] Complete. Time taken: 00:00:01\n",
      "2021-01-26 05:00:26,556 Val Evaluator INFO: Engine run complete. Time taken: 00:00:01\n",
      "\u001b[34m\u001b[1mwandb\u001b[0m: \u001b[33mWARNING\u001b[0m Step must only increase in log calls.  Step 202 < 1212; dropping {'lr/group_0': 0.001}.\n",
      "2021-01-26 05:00:26,563 Trainer INFO: Epoch[202] Complete. Time taken: 00:00:09\n"
     ]
    },
    {
     "name": "stdout",
     "output_type": "stream",
     "text": [
      "train loss 0.0069506758735818274\n",
      "val loss 1.3892810230669768\n",
      "validation roc auc [0.75155473 0.63930348] 202\n",
      "train roc auc [1. 1.] 202\n"
     ]
    },
    {
     "name": "stderr",
     "output_type": "stream",
     "text": [
      "2021-01-26 05:00:30,678 Train Evaluator INFO: Engine run starting with max_epochs=1.\n",
      "2021-01-26 05:00:34,571 Train Evaluator INFO: Epoch[1] Complete. Time taken: 00:00:04\n",
      "2021-01-26 05:00:34,572 Train Evaluator INFO: Engine run complete. Time taken: 00:00:04\n",
      "2021-01-26 05:00:34,573 Val Evaluator INFO: Engine run starting with max_epochs=1.\n",
      "2021-01-26 05:00:36,286 Val Evaluator INFO: Epoch[1] Complete. Time taken: 00:00:02\n",
      "2021-01-26 05:00:36,287 Val Evaluator INFO: Engine run complete. Time taken: 00:00:02\n",
      "\u001b[34m\u001b[1mwandb\u001b[0m: \u001b[33mWARNING\u001b[0m Step must only increase in log calls.  Step 203 < 1218; dropping {'lr/group_0': 0.001}.\n",
      "2021-01-26 05:00:36,296 Trainer INFO: Epoch[203] Complete. Time taken: 00:00:10\n"
     ]
    },
    {
     "name": "stdout",
     "output_type": "stream",
     "text": [
      "train loss 0.006847532471564747\n",
      "val loss 1.4008145467094753\n",
      "validation roc auc [0.75155473 0.63961443] 203\n",
      "train roc auc [1. 1.] 203\n"
     ]
    },
    {
     "name": "stderr",
     "output_type": "stream",
     "text": [
      "2021-01-26 05:00:39,931 Train Evaluator INFO: Engine run starting with max_epochs=1.\n",
      "2021-01-26 05:00:44,184 Train Evaluator INFO: Epoch[1] Complete. Time taken: 00:00:04\n",
      "2021-01-26 05:00:44,187 Train Evaluator INFO: Engine run complete. Time taken: 00:00:04\n",
      "2021-01-26 05:00:44,188 Val Evaluator INFO: Engine run starting with max_epochs=1.\n",
      "2021-01-26 05:00:45,560 Val Evaluator INFO: Epoch[1] Complete. Time taken: 00:00:01\n",
      "2021-01-26 05:00:45,562 Val Evaluator INFO: Engine run complete. Time taken: 00:00:01\n",
      "\u001b[34m\u001b[1mwandb\u001b[0m: \u001b[33mWARNING\u001b[0m Step must only increase in log calls.  Step 204 < 1224; dropping {'lr/group_0': 0.001}.\n",
      "2021-01-26 05:00:45,569 Trainer INFO: Epoch[204] Complete. Time taken: 00:00:09\n"
     ]
    },
    {
     "name": "stdout",
     "output_type": "stream",
     "text": [
      "train loss 0.006764992886944812\n",
      "val loss 1.4558390130167422\n",
      "validation roc auc [0.75155473 0.63774876] 204\n",
      "train roc auc [1. 1.] 204\n"
     ]
    },
    {
     "name": "stderr",
     "output_type": "stream",
     "text": [
      "2021-01-26 05:00:49,381 Train Evaluator INFO: Engine run starting with max_epochs=1.\n",
      "2021-01-26 05:00:53,145 Train Evaluator INFO: Epoch[1] Complete. Time taken: 00:00:04\n",
      "2021-01-26 05:00:53,147 Train Evaluator INFO: Engine run complete. Time taken: 00:00:04\n",
      "2021-01-26 05:00:53,148 Val Evaluator INFO: Engine run starting with max_epochs=1.\n",
      "2021-01-26 05:00:54,826 Val Evaluator INFO: Epoch[1] Complete. Time taken: 00:00:02\n",
      "2021-01-26 05:00:54,827 Val Evaluator INFO: Engine run complete. Time taken: 00:00:02\n",
      "\u001b[34m\u001b[1mwandb\u001b[0m: \u001b[33mWARNING\u001b[0m Step must only increase in log calls.  Step 205 < 1230; dropping {'lr/group_0': 0.001}.\n",
      "2021-01-26 05:00:54,835 Trainer INFO: Epoch[205] Complete. Time taken: 00:00:09\n"
     ]
    },
    {
     "name": "stdout",
     "output_type": "stream",
     "text": [
      "train loss 0.00666078844399759\n",
      "val loss 1.3959604004155035\n",
      "validation roc auc [0.75155473 0.6397699 ] 205\n",
      "train roc auc [1. 1.] 205\n"
     ]
    },
    {
     "name": "stderr",
     "output_type": "stream",
     "text": [
      "2021-01-26 05:00:59,164 Train Evaluator INFO: Engine run starting with max_epochs=1.\n",
      "2021-01-26 05:01:04,042 Train Evaluator INFO: Epoch[1] Complete. Time taken: 00:00:05\n",
      "2021-01-26 05:01:04,044 Train Evaluator INFO: Engine run complete. Time taken: 00:00:05\n",
      "2021-01-26 05:01:04,045 Val Evaluator INFO: Engine run starting with max_epochs=1.\n",
      "2021-01-26 05:01:05,313 Val Evaluator INFO: Epoch[1] Complete. Time taken: 00:00:01\n",
      "2021-01-26 05:01:05,314 Val Evaluator INFO: Engine run complete. Time taken: 00:00:01\n",
      "\u001b[34m\u001b[1mwandb\u001b[0m: \u001b[33mWARNING\u001b[0m Step must only increase in log calls.  Step 206 < 1236; dropping {'lr/group_0': 0.001}.\n",
      "2021-01-26 05:01:05,323 Trainer INFO: Epoch[206] Complete. Time taken: 00:00:10\n"
     ]
    },
    {
     "name": "stdout",
     "output_type": "stream",
     "text": [
      "train loss 0.0065562143073191305\n",
      "val loss 1.414393016566401\n",
      "validation roc auc [0.75093284 0.63961443] 206\n",
      "train roc auc [1. 1.] 206\n"
     ]
    },
    {
     "name": "stderr",
     "output_type": "stream",
     "text": [
      "2021-01-26 05:01:09,670 Train Evaluator INFO: Engine run starting with max_epochs=1.\n",
      "2021-01-26 05:01:13,886 Train Evaluator INFO: Epoch[1] Complete. Time taken: 00:00:04\n",
      "2021-01-26 05:01:13,888 Train Evaluator INFO: Engine run complete. Time taken: 00:00:04\n",
      "2021-01-26 05:01:13,890 Val Evaluator INFO: Engine run starting with max_epochs=1.\n",
      "2021-01-26 05:01:15,587 Val Evaluator INFO: Epoch[1] Complete. Time taken: 00:00:02\n",
      "2021-01-26 05:01:15,589 Val Evaluator INFO: Engine run complete. Time taken: 00:00:02\n",
      "\u001b[34m\u001b[1mwandb\u001b[0m: \u001b[33mWARNING\u001b[0m Step must only increase in log calls.  Step 207 < 1242; dropping {'lr/group_0': 0.001}.\n",
      "2021-01-26 05:01:15,598 Trainer INFO: Epoch[207] Complete. Time taken: 00:00:10\n"
     ]
    },
    {
     "name": "stdout",
     "output_type": "stream",
     "text": [
      "train loss 0.006468566065687223\n",
      "val loss 1.4489372170489767\n",
      "validation roc auc [0.75124378 0.63743781] 207\n",
      "train roc auc [1. 1.] 207\n"
     ]
    },
    {
     "name": "stderr",
     "output_type": "stream",
     "text": [
      "2021-01-26 05:01:20,130 Train Evaluator INFO: Engine run starting with max_epochs=1.\n",
      "2021-01-26 05:01:24,532 Train Evaluator INFO: Epoch[1] Complete. Time taken: 00:00:04\n",
      "2021-01-26 05:01:24,534 Train Evaluator INFO: Engine run complete. Time taken: 00:00:04\n",
      "2021-01-26 05:01:24,535 Val Evaluator INFO: Engine run starting with max_epochs=1.\n",
      "2021-01-26 05:01:26,487 Val Evaluator INFO: Epoch[1] Complete. Time taken: 00:00:02\n",
      "2021-01-26 05:01:26,491 Val Evaluator INFO: Engine run complete. Time taken: 00:00:02\n",
      "\u001b[34m\u001b[1mwandb\u001b[0m: \u001b[33mWARNING\u001b[0m Step must only increase in log calls.  Step 208 < 1248; dropping {'lr/group_0': 0.001}.\n",
      "2021-01-26 05:01:26,499 Trainer INFO: Epoch[208] Complete. Time taken: 00:00:11\n"
     ]
    },
    {
     "name": "stdout",
     "output_type": "stream",
     "text": [
      "train loss 0.006400202051047566\n",
      "val loss 1.3949184832365618\n",
      "validation roc auc [0.75062189 0.63961443] 208\n",
      "train roc auc [1. 1.] 208\n"
     ]
    },
    {
     "name": "stderr",
     "output_type": "stream",
     "text": [
      "2021-01-26 05:01:30,742 Train Evaluator INFO: Engine run starting with max_epochs=1.\n",
      "2021-01-26 05:01:35,277 Train Evaluator INFO: Epoch[1] Complete. Time taken: 00:00:05\n",
      "2021-01-26 05:01:35,280 Train Evaluator INFO: Engine run complete. Time taken: 00:00:05\n",
      "2021-01-26 05:01:35,281 Val Evaluator INFO: Engine run starting with max_epochs=1.\n",
      "2021-01-26 05:01:36,859 Val Evaluator INFO: Epoch[1] Complete. Time taken: 00:00:02\n",
      "2021-01-26 05:01:36,861 Val Evaluator INFO: Engine run complete. Time taken: 00:00:02\n",
      "\u001b[34m\u001b[1mwandb\u001b[0m: \u001b[33mWARNING\u001b[0m Step must only increase in log calls.  Step 209 < 1254; dropping {'lr/group_0': 0.001}.\n",
      "2021-01-26 05:01:36,869 Trainer INFO: Epoch[209] Complete. Time taken: 00:00:10\n"
     ]
    },
    {
     "name": "stdout",
     "output_type": "stream",
     "text": [
      "train loss 0.00629437681750433\n",
      "val loss 1.4647530213646267\n",
      "validation roc auc [0.74937811 0.63712687] 209\n",
      "train roc auc [1. 1.] 209\n"
     ]
    },
    {
     "name": "stderr",
     "output_type": "stream",
     "text": [
      "2021-01-26 05:01:40,889 Train Evaluator INFO: Engine run starting with max_epochs=1.\n",
      "2021-01-26 05:01:44,986 Train Evaluator INFO: Epoch[1] Complete. Time taken: 00:00:04\n",
      "2021-01-26 05:01:44,989 Train Evaluator INFO: Engine run complete. Time taken: 00:00:04\n",
      "2021-01-26 05:01:44,990 Val Evaluator INFO: Engine run starting with max_epochs=1.\n",
      "2021-01-26 05:01:46,422 Val Evaluator INFO: Epoch[1] Complete. Time taken: 00:00:01\n",
      "2021-01-26 05:01:46,423 Val Evaluator INFO: Engine run complete. Time taken: 00:00:01\n",
      "\u001b[34m\u001b[1mwandb\u001b[0m: \u001b[33mWARNING\u001b[0m Step must only increase in log calls.  Step 210 < 1260; dropping {'lr/group_0': 0.001}.\n",
      "2021-01-26 05:01:46,432 Trainer INFO: Epoch[210] Complete. Time taken: 00:00:10\n"
     ]
    },
    {
     "name": "stdout",
     "output_type": "stream",
     "text": [
      "train loss 0.006198770793694893\n",
      "val loss 1.4554874150649362\n",
      "validation roc auc [0.74844527 0.63712687] 210\n",
      "train roc auc [1. 1.] 210\n"
     ]
    },
    {
     "name": "stderr",
     "output_type": "stream",
     "text": [
      "2021-01-26 05:01:50,813 Train Evaluator INFO: Engine run starting with max_epochs=1.\n",
      "2021-01-26 05:01:56,324 Train Evaluator INFO: Epoch[1] Complete. Time taken: 00:00:06\n",
      "2021-01-26 05:01:56,327 Train Evaluator INFO: Engine run complete. Time taken: 00:00:06\n",
      "2021-01-26 05:01:56,329 Val Evaluator INFO: Engine run starting with max_epochs=1.\n",
      "2021-01-26 05:01:58,046 Val Evaluator INFO: Epoch[1] Complete. Time taken: 00:00:02\n",
      "2021-01-26 05:01:58,048 Val Evaluator INFO: Engine run complete. Time taken: 00:00:02\n",
      "\u001b[34m\u001b[1mwandb\u001b[0m: \u001b[33mWARNING\u001b[0m Step must only increase in log calls.  Step 211 < 1266; dropping {'lr/group_0': 0.001}.\n",
      "2021-01-26 05:01:58,056 Trainer INFO: Epoch[211] Complete. Time taken: 00:00:12\n"
     ]
    },
    {
     "name": "stdout",
     "output_type": "stream",
     "text": [
      "train loss 0.006111071613126781\n",
      "val loss 1.4421848110530688\n",
      "validation roc auc [0.74968905 0.63712687] 211\n",
      "train roc auc [1. 1.] 211\n"
     ]
    },
    {
     "name": "stderr",
     "output_type": "stream",
     "text": [
      "2021-01-26 05:02:03,631 Train Evaluator INFO: Engine run starting with max_epochs=1.\n",
      "2021-01-26 05:02:09,325 Train Evaluator INFO: Epoch[1] Complete. Time taken: 00:00:06\n",
      "2021-01-26 05:02:09,327 Train Evaluator INFO: Engine run complete. Time taken: 00:00:06\n",
      "2021-01-26 05:02:09,329 Val Evaluator INFO: Engine run starting with max_epochs=1.\n",
      "2021-01-26 05:02:11,510 Val Evaluator INFO: Epoch[1] Complete. Time taken: 00:00:02\n",
      "2021-01-26 05:02:11,512 Val Evaluator INFO: Engine run complete. Time taken: 00:00:02\n",
      "\u001b[34m\u001b[1mwandb\u001b[0m: \u001b[33mWARNING\u001b[0m Step must only increase in log calls.  Step 212 < 1272; dropping {'lr/group_0': 0.001}.\n",
      "2021-01-26 05:02:11,519 Trainer INFO: Epoch[212] Complete. Time taken: 00:00:13\n"
     ]
    },
    {
     "name": "stdout",
     "output_type": "stream",
     "text": [
      "train loss 0.006030867432833776\n",
      "val loss 1.4316187599430914\n",
      "validation roc auc [0.74937811 0.63774876] 212\n",
      "train roc auc [1. 1.] 212\n"
     ]
    },
    {
     "name": "stderr",
     "output_type": "stream",
     "text": [
      "2021-01-26 05:02:16,370 Train Evaluator INFO: Engine run starting with max_epochs=1.\n",
      "2021-01-26 05:02:21,323 Train Evaluator INFO: Epoch[1] Complete. Time taken: 00:00:05\n",
      "2021-01-26 05:02:21,325 Train Evaluator INFO: Engine run complete. Time taken: 00:00:05\n",
      "2021-01-26 05:02:21,326 Val Evaluator INFO: Engine run starting with max_epochs=1.\n",
      "2021-01-26 05:02:23,302 Val Evaluator INFO: Epoch[1] Complete. Time taken: 00:00:02\n",
      "2021-01-26 05:02:23,304 Val Evaluator INFO: Engine run complete. Time taken: 00:00:02\n",
      "\u001b[34m\u001b[1mwandb\u001b[0m: \u001b[33mWARNING\u001b[0m Step must only increase in log calls.  Step 213 < 1278; dropping {'lr/group_0': 0.001}.\n",
      "2021-01-26 05:02:23,312 Trainer INFO: Epoch[213] Complete. Time taken: 00:00:12\n"
     ]
    },
    {
     "name": "stdout",
     "output_type": "stream",
     "text": [
      "train loss 0.005957184274014107\n",
      "val loss 1.4799401946689772\n",
      "validation roc auc [0.74813433 0.63681592] 213\n",
      "train roc auc [1. 1.] 213\n"
     ]
    },
    {
     "name": "stderr",
     "output_type": "stream",
     "text": [
      "2021-01-26 05:02:29,183 Train Evaluator INFO: Engine run starting with max_epochs=1.\n",
      "2021-01-26 05:02:34,606 Train Evaluator INFO: Epoch[1] Complete. Time taken: 00:00:05\n",
      "2021-01-26 05:02:34,608 Train Evaluator INFO: Engine run complete. Time taken: 00:00:05\n",
      "2021-01-26 05:02:34,609 Val Evaluator INFO: Engine run starting with max_epochs=1.\n",
      "2021-01-26 05:02:36,772 Val Evaluator INFO: Epoch[1] Complete. Time taken: 00:00:02\n",
      "2021-01-26 05:02:36,775 Val Evaluator INFO: Engine run complete. Time taken: 00:00:02\n",
      "\u001b[34m\u001b[1mwandb\u001b[0m: \u001b[33mWARNING\u001b[0m Step must only increase in log calls.  Step 214 < 1284; dropping {'lr/group_0': 0.001}.\n",
      "2021-01-26 05:02:36,785 Trainer INFO: Epoch[214] Complete. Time taken: 00:00:13\n"
     ]
    },
    {
     "name": "stdout",
     "output_type": "stream",
     "text": [
      "train loss 0.005869244613833505\n",
      "val loss 1.4678097807842752\n",
      "validation roc auc [0.74813433 0.63650498] 214\n",
      "train roc auc [1. 1.] 214\n"
     ]
    },
    {
     "name": "stderr",
     "output_type": "stream",
     "text": [
      "2021-01-26 05:02:42,673 Train Evaluator INFO: Engine run starting with max_epochs=1.\n",
      "2021-01-26 05:02:47,695 Train Evaluator INFO: Epoch[1] Complete. Time taken: 00:00:05\n",
      "2021-01-26 05:02:47,698 Train Evaluator INFO: Engine run complete. Time taken: 00:00:05\n",
      "2021-01-26 05:02:47,699 Val Evaluator INFO: Engine run starting with max_epochs=1.\n",
      "2021-01-26 05:02:49,366 Val Evaluator INFO: Epoch[1] Complete. Time taken: 00:00:02\n",
      "2021-01-26 05:02:49,368 Val Evaluator INFO: Engine run complete. Time taken: 00:00:02\n",
      "\u001b[34m\u001b[1mwandb\u001b[0m: \u001b[33mWARNING\u001b[0m Step must only increase in log calls.  Step 215 < 1290; dropping {'lr/group_0': 0.001}.\n",
      "2021-01-26 05:02:49,375 Trainer INFO: Epoch[215] Complete. Time taken: 00:00:13\n"
     ]
    },
    {
     "name": "stdout",
     "output_type": "stream",
     "text": [
      "train loss 0.005804894026368856\n",
      "val loss 1.4215058886486551\n",
      "validation roc auc [0.74875622 0.6380597 ] 215\n",
      "train roc auc [1. 1.] 215\n"
     ]
    },
    {
     "name": "stderr",
     "output_type": "stream",
     "text": [
      "2021-01-26 05:02:55,010 Train Evaluator INFO: Engine run starting with max_epochs=1.\n",
      "2021-01-26 05:03:01,134 Train Evaluator INFO: Epoch[1] Complete. Time taken: 00:00:06\n",
      "2021-01-26 05:03:01,137 Train Evaluator INFO: Engine run complete. Time taken: 00:00:06\n",
      "2021-01-26 05:03:01,138 Val Evaluator INFO: Engine run starting with max_epochs=1.\n",
      "2021-01-26 05:03:03,307 Val Evaluator INFO: Epoch[1] Complete. Time taken: 00:00:02\n",
      "2021-01-26 05:03:03,309 Val Evaluator INFO: Engine run complete. Time taken: 00:00:02\n",
      "\u001b[34m\u001b[1mwandb\u001b[0m: \u001b[33mWARNING\u001b[0m Step must only increase in log calls.  Step 216 < 1296; dropping {'lr/group_0': 0.001}.\n",
      "2021-01-26 05:03:03,317 Trainer INFO: Epoch[216] Complete. Time taken: 00:00:14\n"
     ]
    },
    {
     "name": "stdout",
     "output_type": "stream",
     "text": [
      "train loss 0.005715546393822107\n",
      "val loss 1.483168395705845\n",
      "validation roc auc [0.74720149 0.63681592] 216\n",
      "train roc auc [1. 1.] 216\n"
     ]
    },
    {
     "name": "stderr",
     "output_type": "stream",
     "text": [
      "2021-01-26 05:03:09,482 Train Evaluator INFO: Engine run starting with max_epochs=1.\n",
      "2021-01-26 05:03:14,967 Train Evaluator INFO: Epoch[1] Complete. Time taken: 00:00:05\n",
      "2021-01-26 05:03:14,970 Train Evaluator INFO: Engine run complete. Time taken: 00:00:05\n",
      "2021-01-26 05:03:14,971 Val Evaluator INFO: Engine run starting with max_epochs=1.\n",
      "2021-01-26 05:03:16,925 Val Evaluator INFO: Epoch[1] Complete. Time taken: 00:00:02\n",
      "2021-01-26 05:03:16,926 Val Evaluator INFO: Engine run complete. Time taken: 00:00:02\n",
      "\u001b[34m\u001b[1mwandb\u001b[0m: \u001b[33mWARNING\u001b[0m Step must only increase in log calls.  Step 217 < 1302; dropping {'lr/group_0': 0.001}.\n",
      "2021-01-26 05:03:16,935 Trainer INFO: Epoch[217] Complete. Time taken: 00:00:14\n"
     ]
    },
    {
     "name": "stdout",
     "output_type": "stream",
     "text": [
      "train loss 0.005631306170094648\n",
      "val loss 1.4631138179613197\n",
      "validation roc auc [0.74813433 0.63681592] 217\n",
      "train roc auc [1. 1.] 217\n"
     ]
    },
    {
     "name": "stderr",
     "output_type": "stream",
     "text": [
      "2021-01-26 05:03:22,218 Train Evaluator INFO: Engine run starting with max_epochs=1.\n",
      "2021-01-26 05:03:27,597 Train Evaluator INFO: Epoch[1] Complete. Time taken: 00:00:05\n",
      "2021-01-26 05:03:27,600 Train Evaluator INFO: Engine run complete. Time taken: 00:00:05\n",
      "2021-01-26 05:03:27,602 Val Evaluator INFO: Engine run starting with max_epochs=1.\n",
      "2021-01-26 05:03:29,457 Val Evaluator INFO: Epoch[1] Complete. Time taken: 00:00:02\n",
      "2021-01-26 05:03:29,459 Val Evaluator INFO: Engine run complete. Time taken: 00:00:02\n",
      "\u001b[34m\u001b[1mwandb\u001b[0m: \u001b[33mWARNING\u001b[0m Step must only increase in log calls.  Step 218 < 1308; dropping {'lr/group_0': 0.001}.\n",
      "2021-01-26 05:03:29,468 Trainer INFO: Epoch[218] Complete. Time taken: 00:00:13\n"
     ]
    },
    {
     "name": "stdout",
     "output_type": "stream",
     "text": [
      "train loss 0.005562388109451038\n",
      "val loss 1.4475178646004718\n",
      "validation roc auc [0.74720149 0.63712687] 218\n",
      "train roc auc [1. 1.] 218\n"
     ]
    },
    {
     "name": "stderr",
     "output_type": "stream",
     "text": [
      "2021-01-26 05:03:35,419 Train Evaluator INFO: Engine run starting with max_epochs=1.\n",
      "2021-01-26 05:03:40,456 Train Evaluator INFO: Epoch[1] Complete. Time taken: 00:00:05\n",
      "2021-01-26 05:03:40,459 Train Evaluator INFO: Engine run complete. Time taken: 00:00:05\n",
      "2021-01-26 05:03:40,460 Val Evaluator INFO: Engine run starting with max_epochs=1.\n",
      "2021-01-26 05:03:42,282 Val Evaluator INFO: Epoch[1] Complete. Time taken: 00:00:02\n",
      "2021-01-26 05:03:42,284 Val Evaluator INFO: Engine run complete. Time taken: 00:00:02\n",
      "\u001b[34m\u001b[1mwandb\u001b[0m: \u001b[33mWARNING\u001b[0m Step must only increase in log calls.  Step 219 < 1314; dropping {'lr/group_0': 0.001}.\n",
      "2021-01-26 05:03:42,293 Trainer INFO: Epoch[219] Complete. Time taken: 00:00:13\n"
     ]
    },
    {
     "name": "stdout",
     "output_type": "stream",
     "text": [
      "train loss 0.005496527834315977\n",
      "val loss 1.4974054885947186\n",
      "validation roc auc [0.74689055 0.63526119] 219\n",
      "train roc auc [1. 1.] 219\n"
     ]
    },
    {
     "name": "stderr",
     "output_type": "stream",
     "text": [
      "2021-01-26 05:03:48,671 Train Evaluator INFO: Engine run starting with max_epochs=1.\n",
      "2021-01-26 05:03:54,943 Train Evaluator INFO: Epoch[1] Complete. Time taken: 00:00:06\n",
      "2021-01-26 05:03:54,945 Train Evaluator INFO: Engine run complete. Time taken: 00:00:06\n",
      "2021-01-26 05:03:54,946 Val Evaluator INFO: Engine run starting with max_epochs=1.\n",
      "2021-01-26 05:03:56,905 Val Evaluator INFO: Epoch[1] Complete. Time taken: 00:00:02\n",
      "2021-01-26 05:03:56,907 Val Evaluator INFO: Engine run complete. Time taken: 00:00:02\n",
      "\u001b[34m\u001b[1mwandb\u001b[0m: \u001b[33mWARNING\u001b[0m Step must only increase in log calls.  Step 220 < 1320; dropping {'lr/group_0': 0.001}.\n",
      "2021-01-26 05:03:56,915 Trainer INFO: Epoch[220] Complete. Time taken: 00:00:15\n"
     ]
    },
    {
     "name": "stdout",
     "output_type": "stream",
     "text": [
      "train loss 0.005437756723244867\n",
      "val loss 1.4319483632626742\n",
      "validation roc auc [0.74595771 0.63774876] 220\n",
      "train roc auc [1. 1.] 220\n"
     ]
    },
    {
     "name": "stderr",
     "output_type": "stream",
     "text": [
      "2021-01-26 05:04:03,087 Train Evaluator INFO: Engine run starting with max_epochs=1.\n",
      "2021-01-26 05:04:08,450 Train Evaluator INFO: Epoch[1] Complete. Time taken: 00:00:05\n",
      "2021-01-26 05:04:08,453 Train Evaluator INFO: Engine run complete. Time taken: 00:00:05\n",
      "2021-01-26 05:04:08,454 Val Evaluator INFO: Engine run starting with max_epochs=1.\n",
      "2021-01-26 05:04:10,601 Val Evaluator INFO: Epoch[1] Complete. Time taken: 00:00:02\n",
      "2021-01-26 05:04:10,603 Val Evaluator INFO: Engine run complete. Time taken: 00:00:02\n",
      "\u001b[34m\u001b[1mwandb\u001b[0m: \u001b[33mWARNING\u001b[0m Step must only increase in log calls.  Step 221 < 1326; dropping {'lr/group_0': 0.001}.\n",
      "2021-01-26 05:04:10,609 Trainer INFO: Epoch[221] Complete. Time taken: 00:00:14\n"
     ]
    },
    {
     "name": "stdout",
     "output_type": "stream",
     "text": [
      "train loss 0.005342401216941825\n",
      "val loss 1.486058177118716\n",
      "validation roc auc [0.74626866 0.63681592] 221\n",
      "train roc auc [1. 1.] 221\n"
     ]
    },
    {
     "name": "stderr",
     "output_type": "stream",
     "text": [
      "2021-01-26 05:04:17,343 Train Evaluator INFO: Engine run starting with max_epochs=1.\n",
      "2021-01-26 05:04:23,571 Train Evaluator INFO: Epoch[1] Complete. Time taken: 00:00:06\n",
      "2021-01-26 05:04:23,574 Train Evaluator INFO: Engine run complete. Time taken: 00:00:06\n",
      "2021-01-26 05:04:23,575 Val Evaluator INFO: Engine run starting with max_epochs=1.\n",
      "2021-01-26 05:04:25,691 Val Evaluator INFO: Epoch[1] Complete. Time taken: 00:00:02\n",
      "2021-01-26 05:04:25,693 Val Evaluator INFO: Engine run complete. Time taken: 00:00:02\n",
      "\u001b[34m\u001b[1mwandb\u001b[0m: \u001b[33mWARNING\u001b[0m Step must only increase in log calls.  Step 222 < 1332; dropping {'lr/group_0': 0.001}.\n",
      "2021-01-26 05:04:25,700 Trainer INFO: Epoch[222] Complete. Time taken: 00:00:15\n"
     ]
    },
    {
     "name": "stdout",
     "output_type": "stream",
     "text": [
      "train loss 0.005286355340335319\n",
      "val loss 1.511482490663943\n",
      "validation roc auc [0.74471393 0.6346393 ] 222\n",
      "train roc auc [1. 1.] 222\n"
     ]
    },
    {
     "name": "stderr",
     "output_type": "stream",
     "text": [
      "2021-01-26 05:04:31,947 Train Evaluator INFO: Engine run starting with max_epochs=1.\n",
      "2021-01-26 05:04:38,796 Train Evaluator INFO: Epoch[1] Complete. Time taken: 00:00:07\n",
      "2021-01-26 05:04:38,799 Train Evaluator INFO: Engine run complete. Time taken: 00:00:07\n",
      "2021-01-26 05:04:38,800 Val Evaluator INFO: Engine run starting with max_epochs=1.\n",
      "2021-01-26 05:04:40,389 Val Evaluator INFO: Epoch[1] Complete. Time taken: 00:00:02\n",
      "2021-01-26 05:04:40,391 Val Evaluator INFO: Engine run complete. Time taken: 00:00:02\n",
      "\u001b[34m\u001b[1mwandb\u001b[0m: \u001b[33mWARNING\u001b[0m Step must only increase in log calls.  Step 223 < 1338; dropping {'lr/group_0': 0.001}.\n",
      "2021-01-26 05:04:40,400 Trainer INFO: Epoch[223] Complete. Time taken: 00:00:15\n"
     ]
    },
    {
     "name": "stdout",
     "output_type": "stream",
     "text": [
      "train loss 0.005207112502615303\n",
      "val loss 1.4644848906475565\n",
      "validation roc auc [0.74564677 0.63681592] 223\n",
      "train roc auc [1. 1.] 223\n"
     ]
    },
    {
     "name": "stderr",
     "output_type": "stream",
     "text": [
      "2021-01-26 05:04:46,100 Train Evaluator INFO: Engine run starting with max_epochs=1.\n",
      "2021-01-26 05:04:51,563 Train Evaluator INFO: Epoch[1] Complete. Time taken: 00:00:05\n",
      "2021-01-26 05:04:51,565 Train Evaluator INFO: Engine run complete. Time taken: 00:00:05\n",
      "2021-01-26 05:04:51,566 Val Evaluator INFO: Engine run starting with max_epochs=1.\n",
      "2021-01-26 05:04:53,291 Val Evaluator INFO: Epoch[1] Complete. Time taken: 00:00:02\n",
      "2021-01-26 05:04:53,293 Val Evaluator INFO: Engine run complete. Time taken: 00:00:02\n",
      "\u001b[34m\u001b[1mwandb\u001b[0m: \u001b[33mWARNING\u001b[0m Step must only increase in log calls.  Step 224 < 1344; dropping {'lr/group_0': 0.001}.\n",
      "2021-01-26 05:04:53,300 Trainer INFO: Epoch[224] Complete. Time taken: 00:00:13\n"
     ]
    },
    {
     "name": "stdout",
     "output_type": "stream",
     "text": [
      "train loss 0.00514068064340473\n",
      "val loss 1.504194662881934\n",
      "validation roc auc [0.74440299 0.63526119] 224\n",
      "train roc auc [1. 1.] 224\n"
     ]
    },
    {
     "name": "stderr",
     "output_type": "stream",
     "text": [
      "2021-01-26 05:04:59,811 Train Evaluator INFO: Engine run starting with max_epochs=1.\n",
      "2021-01-26 05:05:05,809 Train Evaluator INFO: Epoch[1] Complete. Time taken: 00:00:06\n",
      "2021-01-26 05:05:05,812 Train Evaluator INFO: Engine run complete. Time taken: 00:00:06\n",
      "2021-01-26 05:05:05,813 Val Evaluator INFO: Engine run starting with max_epochs=1.\n",
      "2021-01-26 05:05:08,188 Val Evaluator INFO: Epoch[1] Complete. Time taken: 00:00:02\n",
      "2021-01-26 05:05:08,190 Val Evaluator INFO: Engine run complete. Time taken: 00:00:02\n",
      "\u001b[34m\u001b[1mwandb\u001b[0m: \u001b[33mWARNING\u001b[0m Step must only increase in log calls.  Step 225 < 1350; dropping {'lr/group_0': 0.001}.\n",
      "2021-01-26 05:05:08,197 Trainer INFO: Epoch[225] Complete. Time taken: 00:00:15\n"
     ]
    },
    {
     "name": "stdout",
     "output_type": "stream",
     "text": [
      "train loss 0.005084487094306911\n",
      "val loss 1.5198366683462392\n",
      "validation roc auc [0.74409204 0.6346393 ] 225\n",
      "train roc auc [1. 1.] 225\n"
     ]
    },
    {
     "name": "stderr",
     "output_type": "stream",
     "text": [
      "2021-01-26 05:05:14,044 Train Evaluator INFO: Engine run starting with max_epochs=1.\n",
      "2021-01-26 05:05:19,903 Train Evaluator INFO: Epoch[1] Complete. Time taken: 00:00:06\n",
      "2021-01-26 05:05:19,906 Train Evaluator INFO: Engine run complete. Time taken: 00:00:06\n",
      "2021-01-26 05:05:19,907 Val Evaluator INFO: Engine run starting with max_epochs=1.\n",
      "2021-01-26 05:05:21,796 Val Evaluator INFO: Epoch[1] Complete. Time taken: 00:00:02\n",
      "2021-01-26 05:05:21,798 Val Evaluator INFO: Engine run complete. Time taken: 00:00:02\n",
      "\u001b[34m\u001b[1mwandb\u001b[0m: \u001b[33mWARNING\u001b[0m Step must only increase in log calls.  Step 226 < 1356; dropping {'lr/group_0': 0.001}.\n",
      "2021-01-26 05:05:21,806 Trainer INFO: Epoch[226] Complete. Time taken: 00:00:14\n"
     ]
    },
    {
     "name": "stdout",
     "output_type": "stream",
     "text": [
      "train loss 0.005026161251865195\n",
      "val loss 1.4529792132584944\n",
      "validation roc auc [0.74533582 0.63712687] 226\n",
      "train roc auc [1. 1.] 226\n"
     ]
    },
    {
     "name": "stderr",
     "output_type": "stream",
     "text": [
      "2021-01-26 05:05:27,422 Train Evaluator INFO: Engine run starting with max_epochs=1.\n",
      "2021-01-26 05:05:33,858 Train Evaluator INFO: Epoch[1] Complete. Time taken: 00:00:06\n",
      "2021-01-26 05:05:33,861 Train Evaluator INFO: Engine run complete. Time taken: 00:00:06\n",
      "2021-01-26 05:05:33,862 Val Evaluator INFO: Engine run starting with max_epochs=1.\n",
      "2021-01-26 05:05:35,549 Val Evaluator INFO: Epoch[1] Complete. Time taken: 00:00:02\n",
      "2021-01-26 05:05:35,551 Val Evaluator INFO: Engine run complete. Time taken: 00:00:02\n",
      "\u001b[34m\u001b[1mwandb\u001b[0m: \u001b[33mWARNING\u001b[0m Step must only increase in log calls.  Step 227 < 1362; dropping {'lr/group_0': 0.001}.\n",
      "2021-01-26 05:05:35,558 Trainer INFO: Epoch[227] Complete. Time taken: 00:00:14\n"
     ]
    },
    {
     "name": "stdout",
     "output_type": "stream",
     "text": [
      "train loss 0.004962812778512402\n",
      "val loss 1.5319079150324282\n",
      "validation roc auc [0.74347015 0.6346393 ] 227\n",
      "train roc auc [1. 1.] 227\n"
     ]
    },
    {
     "name": "stderr",
     "output_type": "stream",
     "text": [
      "2021-01-26 05:05:42,429 Train Evaluator INFO: Engine run starting with max_epochs=1.\n",
      "2021-01-26 05:05:49,038 Train Evaluator INFO: Epoch[1] Complete. Time taken: 00:00:07\n",
      "2021-01-26 05:05:49,041 Train Evaluator INFO: Engine run complete. Time taken: 00:00:07\n",
      "2021-01-26 05:05:49,042 Val Evaluator INFO: Engine run starting with max_epochs=1.\n",
      "2021-01-26 05:05:50,961 Val Evaluator INFO: Epoch[1] Complete. Time taken: 00:00:02\n",
      "2021-01-26 05:05:50,962 Val Evaluator INFO: Engine run complete. Time taken: 00:00:02\n",
      "\u001b[34m\u001b[1mwandb\u001b[0m: \u001b[33mWARNING\u001b[0m Step must only increase in log calls.  Step 228 < 1368; dropping {'lr/group_0': 0.001}.\n",
      "2021-01-26 05:05:50,971 Trainer INFO: Epoch[228] Complete. Time taken: 00:00:15\n"
     ]
    },
    {
     "name": "stdout",
     "output_type": "stream",
     "text": [
      "train loss 0.004889375692751457\n",
      "val loss 1.4727782332378885\n",
      "validation roc auc [0.74378109 0.63650498] 228\n",
      "train roc auc [1. 1.] 228\n"
     ]
    },
    {
     "name": "stderr",
     "output_type": "stream",
     "text": [
      "2021-01-26 05:05:56,336 Train Evaluator INFO: Engine run starting with max_epochs=1.\n",
      "2021-01-26 05:06:01,702 Train Evaluator INFO: Epoch[1] Complete. Time taken: 00:00:05\n",
      "2021-01-26 05:06:01,705 Train Evaluator INFO: Engine run complete. Time taken: 00:00:05\n",
      "2021-01-26 05:06:01,706 Val Evaluator INFO: Engine run starting with max_epochs=1.\n",
      "2021-01-26 05:06:03,847 Val Evaluator INFO: Epoch[1] Complete. Time taken: 00:00:02\n",
      "2021-01-26 05:06:03,849 Val Evaluator INFO: Engine run complete. Time taken: 00:00:02\n",
      "\u001b[34m\u001b[1mwandb\u001b[0m: \u001b[33mWARNING\u001b[0m Step must only increase in log calls.  Step 229 < 1374; dropping {'lr/group_0': 0.001}.\n",
      "2021-01-26 05:06:03,856 Trainer INFO: Epoch[229] Complete. Time taken: 00:00:13\n"
     ]
    },
    {
     "name": "stdout",
     "output_type": "stream",
     "text": [
      "train loss 0.0048206583100795395\n",
      "val loss 1.5039682046226832\n",
      "validation roc auc [0.74440299 0.63619403] 229\n",
      "train roc auc [1. 1.] 229\n"
     ]
    },
    {
     "name": "stderr",
     "output_type": "stream",
     "text": [
      "2021-01-26 05:06:09,804 Train Evaluator INFO: Engine run starting with max_epochs=1.\n",
      "2021-01-26 05:06:15,288 Train Evaluator INFO: Epoch[1] Complete. Time taken: 00:00:05\n",
      "2021-01-26 05:06:15,291 Train Evaluator INFO: Engine run complete. Time taken: 00:00:05\n",
      "2021-01-26 05:06:15,292 Val Evaluator INFO: Engine run starting with max_epochs=1.\n",
      "2021-01-26 05:06:17,407 Val Evaluator INFO: Epoch[1] Complete. Time taken: 00:00:02\n",
      "2021-01-26 05:06:17,408 Val Evaluator INFO: Engine run complete. Time taken: 00:00:02\n",
      "\u001b[34m\u001b[1mwandb\u001b[0m: \u001b[33mWARNING\u001b[0m Step must only increase in log calls.  Step 230 < 1380; dropping {'lr/group_0': 0.001}.\n",
      "2021-01-26 05:06:17,415 Trainer INFO: Epoch[230] Complete. Time taken: 00:00:14\n"
     ]
    },
    {
     "name": "stdout",
     "output_type": "stream",
     "text": [
      "train loss 0.004761098823427449\n",
      "val loss 1.5094464177670686\n",
      "validation roc auc [0.74347015 0.63588308] 230\n",
      "train roc auc [1. 1.] 230\n"
     ]
    },
    {
     "name": "stderr",
     "output_type": "stream",
     "text": [
      "2021-01-26 05:06:22,526 Train Evaluator INFO: Engine run starting with max_epochs=1.\n",
      "2021-01-26 05:06:27,501 Train Evaluator INFO: Epoch[1] Complete. Time taken: 00:00:05\n",
      "2021-01-26 05:06:27,504 Train Evaluator INFO: Engine run complete. Time taken: 00:00:05\n",
      "2021-01-26 05:06:27,505 Val Evaluator INFO: Engine run starting with max_epochs=1.\n",
      "2021-01-26 05:06:28,843 Val Evaluator INFO: Epoch[1] Complete. Time taken: 00:00:01\n",
      "2021-01-26 05:06:28,845 Val Evaluator INFO: Engine run complete. Time taken: 00:00:01\n",
      "\u001b[34m\u001b[1mwandb\u001b[0m: \u001b[33mWARNING\u001b[0m Step must only increase in log calls.  Step 231 < 1386; dropping {'lr/group_0': 0.001}.\n",
      "2021-01-26 05:06:28,852 Trainer INFO: Epoch[231] Complete. Time taken: 00:00:11\n"
     ]
    },
    {
     "name": "stdout",
     "output_type": "stream",
     "text": [
      "train loss 0.004708321869770098\n",
      "val loss 1.526813062377598\n",
      "validation roc auc [0.74284826 0.63557214] 231\n",
      "train roc auc [1. 1.] 231\n"
     ]
    },
    {
     "name": "stderr",
     "output_type": "stream",
     "text": [
      "2021-01-26 05:06:34,071 Train Evaluator INFO: Engine run starting with max_epochs=1.\n",
      "2021-01-26 05:06:38,928 Train Evaluator INFO: Epoch[1] Complete. Time taken: 00:00:05\n",
      "2021-01-26 05:06:38,930 Train Evaluator INFO: Engine run complete. Time taken: 00:00:05\n",
      "2021-01-26 05:06:38,931 Val Evaluator INFO: Engine run starting with max_epochs=1.\n",
      "2021-01-26 05:06:40,364 Val Evaluator INFO: Epoch[1] Complete. Time taken: 00:00:01\n",
      "2021-01-26 05:06:40,367 Val Evaluator INFO: Engine run complete. Time taken: 00:00:01\n",
      "\u001b[34m\u001b[1mwandb\u001b[0m: \u001b[33mWARNING\u001b[0m Step must only increase in log calls.  Step 232 < 1392; dropping {'lr/group_0': 0.001}.\n",
      "2021-01-26 05:06:40,376 Trainer INFO: Epoch[232] Complete. Time taken: 00:00:12\n"
     ]
    },
    {
     "name": "stdout",
     "output_type": "stream",
     "text": [
      "train loss 0.004661488330223151\n",
      "val loss 1.472254621464273\n",
      "validation roc auc [0.74378109 0.63619403] 232\n",
      "train roc auc [1. 1.] 232\n"
     ]
    },
    {
     "name": "stderr",
     "output_type": "stream",
     "text": [
      "2021-01-26 05:06:45,533 Train Evaluator INFO: Engine run starting with max_epochs=1.\n",
      "2021-01-26 05:06:50,545 Train Evaluator INFO: Epoch[1] Complete. Time taken: 00:00:05\n",
      "2021-01-26 05:06:50,548 Train Evaluator INFO: Engine run complete. Time taken: 00:00:05\n",
      "2021-01-26 05:06:50,549 Val Evaluator INFO: Engine run starting with max_epochs=1.\n",
      "2021-01-26 05:06:52,507 Val Evaluator INFO: Epoch[1] Complete. Time taken: 00:00:02\n",
      "2021-01-26 05:06:52,508 Val Evaluator INFO: Engine run complete. Time taken: 00:00:02\n",
      "\u001b[34m\u001b[1mwandb\u001b[0m: \u001b[33mWARNING\u001b[0m Step must only increase in log calls.  Step 233 < 1398; dropping {'lr/group_0': 0.001}.\n",
      "2021-01-26 05:06:52,517 Trainer INFO: Epoch[233] Complete. Time taken: 00:00:12\n"
     ]
    },
    {
     "name": "stdout",
     "output_type": "stream",
     "text": [
      "train loss 0.004595032981293794\n",
      "val loss 1.4915849032609358\n",
      "validation roc auc [0.74409204 0.63619403] 233\n",
      "train roc auc [1. 1.] 233\n"
     ]
    },
    {
     "name": "stderr",
     "output_type": "stream",
     "text": [
      "2021-01-26 05:06:57,289 Train Evaluator INFO: Engine run starting with max_epochs=1.\n",
      "2021-01-26 05:07:02,038 Train Evaluator INFO: Epoch[1] Complete. Time taken: 00:00:05\n",
      "2021-01-26 05:07:02,039 Train Evaluator INFO: Engine run complete. Time taken: 00:00:05\n",
      "2021-01-26 05:07:02,040 Val Evaluator INFO: Engine run starting with max_epochs=1.\n",
      "2021-01-26 05:07:03,894 Val Evaluator INFO: Epoch[1] Complete. Time taken: 00:00:02\n",
      "2021-01-26 05:07:03,896 Val Evaluator INFO: Engine run complete. Time taken: 00:00:02\n",
      "\u001b[34m\u001b[1mwandb\u001b[0m: \u001b[33mWARNING\u001b[0m Step must only increase in log calls.  Step 234 < 1404; dropping {'lr/group_0': 0.001}.\n",
      "2021-01-26 05:07:03,903 Trainer INFO: Epoch[234] Complete. Time taken: 00:00:11\n"
     ]
    },
    {
     "name": "stdout",
     "output_type": "stream",
     "text": [
      "train loss 0.0045657182889356765\n",
      "val loss 1.570576200277909\n",
      "validation roc auc [0.74191542 0.63432836] 234\n",
      "train roc auc [1. 1.] 234\n"
     ]
    },
    {
     "name": "stderr",
     "output_type": "stream",
     "text": [
      "2021-01-26 05:07:09,150 Train Evaluator INFO: Engine run starting with max_epochs=1.\n",
      "2021-01-26 05:07:14,351 Train Evaluator INFO: Epoch[1] Complete. Time taken: 00:00:05\n",
      "2021-01-26 05:07:14,354 Train Evaluator INFO: Engine run complete. Time taken: 00:00:05\n",
      "2021-01-26 05:07:14,356 Val Evaluator INFO: Engine run starting with max_epochs=1.\n",
      "2021-01-26 05:07:16,392 Val Evaluator INFO: Epoch[1] Complete. Time taken: 00:00:02\n",
      "2021-01-26 05:07:16,394 Val Evaluator INFO: Engine run complete. Time taken: 00:00:02\n",
      "\u001b[34m\u001b[1mwandb\u001b[0m: \u001b[33mWARNING\u001b[0m Step must only increase in log calls.  Step 235 < 1410; dropping {'lr/group_0': 0.001}.\n",
      "2021-01-26 05:07:16,401 Trainer INFO: Epoch[235] Complete. Time taken: 00:00:12\n"
     ]
    },
    {
     "name": "stdout",
     "output_type": "stream",
     "text": [
      "train loss 0.004489317946907508\n",
      "val loss 1.482108591950458\n",
      "validation roc auc [0.74378109 0.63681592] 235\n",
      "train roc auc [1. 1.] 235\n"
     ]
    },
    {
     "name": "stderr",
     "output_type": "stream",
     "text": [
      "2021-01-26 05:07:20,621 Train Evaluator INFO: Engine run starting with max_epochs=1.\n",
      "2021-01-26 05:07:25,500 Train Evaluator INFO: Epoch[1] Complete. Time taken: 00:00:05\n",
      "2021-01-26 05:07:25,502 Train Evaluator INFO: Engine run complete. Time taken: 00:00:05\n",
      "2021-01-26 05:07:25,503 Val Evaluator INFO: Engine run starting with max_epochs=1.\n",
      "2021-01-26 05:07:26,902 Val Evaluator INFO: Epoch[1] Complete. Time taken: 00:00:01\n",
      "2021-01-26 05:07:26,903 Val Evaluator INFO: Engine run complete. Time taken: 00:00:01\n",
      "\u001b[34m\u001b[1mwandb\u001b[0m: \u001b[33mWARNING\u001b[0m Step must only increase in log calls.  Step 236 < 1416; dropping {'lr/group_0': 0.001}.\n",
      "2021-01-26 05:07:26,911 Trainer INFO: Epoch[236] Complete. Time taken: 00:00:11\n"
     ]
    },
    {
     "name": "stdout",
     "output_type": "stream",
     "text": [
      "train loss 0.004420352594089314\n",
      "val loss 1.5208215205565743\n",
      "validation roc auc [0.74409204 0.63495025] 236\n",
      "train roc auc [1. 1.] 236\n"
     ]
    },
    {
     "name": "stderr",
     "output_type": "stream",
     "text": [
      "2021-01-26 05:07:31,708 Train Evaluator INFO: Engine run starting with max_epochs=1.\n",
      "2021-01-26 05:07:36,695 Train Evaluator INFO: Epoch[1] Complete. Time taken: 00:00:05\n",
      "2021-01-26 05:07:36,698 Train Evaluator INFO: Engine run complete. Time taken: 00:00:05\n",
      "2021-01-26 05:07:36,699 Val Evaluator INFO: Engine run starting with max_epochs=1.\n",
      "2021-01-26 05:07:38,351 Val Evaluator INFO: Epoch[1] Complete. Time taken: 00:00:02\n",
      "2021-01-26 05:07:38,353 Val Evaluator INFO: Engine run complete. Time taken: 00:00:02\n",
      "\u001b[34m\u001b[1mwandb\u001b[0m: \u001b[33mWARNING\u001b[0m Step must only increase in log calls.  Step 237 < 1422; dropping {'lr/group_0': 0.001}.\n",
      "2021-01-26 05:07:38,360 Trainer INFO: Epoch[237] Complete. Time taken: 00:00:11\n"
     ]
    },
    {
     "name": "stdout",
     "output_type": "stream",
     "text": [
      "train loss 0.004368034238271283\n",
      "val loss 1.5340907946876858\n",
      "validation roc auc [0.74284826 0.63495025] 237\n",
      "train roc auc [1. 1.] 237\n"
     ]
    },
    {
     "name": "stderr",
     "output_type": "stream",
     "text": [
      "2021-01-26 05:07:43,007 Train Evaluator INFO: Engine run starting with max_epochs=1.\n",
      "2021-01-26 05:07:48,001 Train Evaluator INFO: Epoch[1] Complete. Time taken: 00:00:05\n",
      "2021-01-26 05:07:48,004 Train Evaluator INFO: Engine run complete. Time taken: 00:00:05\n",
      "2021-01-26 05:07:48,005 Val Evaluator INFO: Engine run starting with max_epochs=1.\n",
      "2021-01-26 05:07:50,176 Val Evaluator INFO: Epoch[1] Complete. Time taken: 00:00:02\n",
      "2021-01-26 05:07:50,177 Val Evaluator INFO: Engine run complete. Time taken: 00:00:02\n",
      "\u001b[34m\u001b[1mwandb\u001b[0m: \u001b[33mWARNING\u001b[0m Step must only increase in log calls.  Step 238 < 1428; dropping {'lr/group_0': 0.001}.\n",
      "2021-01-26 05:07:50,184 Trainer INFO: Epoch[238] Complete. Time taken: 00:00:12\n"
     ]
    },
    {
     "name": "stdout",
     "output_type": "stream",
     "text": [
      "train loss 0.004316835199929112\n",
      "val loss 1.540408910875735\n",
      "validation roc auc [0.74253731 0.63495025] 238\n",
      "train roc auc [1. 1.] 238\n"
     ]
    },
    {
     "name": "stderr",
     "output_type": "stream",
     "text": [
      "2021-01-26 05:07:55,903 Train Evaluator INFO: Engine run starting with max_epochs=1.\n",
      "2021-01-26 05:08:01,922 Train Evaluator INFO: Epoch[1] Complete. Time taken: 00:00:06\n",
      "2021-01-26 05:08:01,925 Train Evaluator INFO: Engine run complete. Time taken: 00:00:06\n",
      "2021-01-26 05:08:01,926 Val Evaluator INFO: Engine run starting with max_epochs=1.\n",
      "2021-01-26 05:08:03,548 Val Evaluator INFO: Epoch[1] Complete. Time taken: 00:00:02\n",
      "2021-01-26 05:08:03,550 Val Evaluator INFO: Engine run complete. Time taken: 00:00:02\n",
      "\u001b[34m\u001b[1mwandb\u001b[0m: \u001b[33mWARNING\u001b[0m Step must only increase in log calls.  Step 239 < 1434; dropping {'lr/group_0': 0.001}.\n",
      "2021-01-26 05:08:03,558 Trainer INFO: Epoch[239] Complete. Time taken: 00:00:13\n"
     ]
    },
    {
     "name": "stdout",
     "output_type": "stream",
     "text": [
      "train loss 0.004285055714157911\n",
      "val loss 1.4875355585761691\n",
      "validation roc auc [0.74378109 0.63681592] 239\n",
      "train roc auc [1. 1.] 239\n"
     ]
    },
    {
     "name": "stderr",
     "output_type": "stream",
     "text": [
      "2021-01-26 05:08:08,399 Train Evaluator INFO: Engine run starting with max_epochs=1.\n",
      "2021-01-26 05:08:13,372 Train Evaluator INFO: Epoch[1] Complete. Time taken: 00:00:05\n",
      "2021-01-26 05:08:13,375 Train Evaluator INFO: Engine run complete. Time taken: 00:00:05\n",
      "2021-01-26 05:08:13,376 Val Evaluator INFO: Engine run starting with max_epochs=1.\n",
      "2021-01-26 05:08:15,323 Val Evaluator INFO: Epoch[1] Complete. Time taken: 00:00:02\n",
      "2021-01-26 05:08:15,325 Val Evaluator INFO: Engine run complete. Time taken: 00:00:02\n",
      "\u001b[34m\u001b[1mwandb\u001b[0m: \u001b[33mWARNING\u001b[0m Step must only increase in log calls.  Step 240 < 1440; dropping {'lr/group_0': 0.001}.\n",
      "2021-01-26 05:08:15,333 Trainer INFO: Epoch[240] Complete. Time taken: 00:00:12\n"
     ]
    },
    {
     "name": "stdout",
     "output_type": "stream",
     "text": [
      "train loss 0.004220742437459484\n",
      "val loss 1.5616736899251524\n",
      "validation roc auc [0.74160448 0.63401741] 240\n",
      "train roc auc [1. 1.] 240\n"
     ]
    },
    {
     "name": "stderr",
     "output_type": "stream",
     "text": [
      "2021-01-26 05:08:20,961 Train Evaluator INFO: Engine run starting with max_epochs=1.\n",
      "2021-01-26 05:08:26,252 Train Evaluator INFO: Epoch[1] Complete. Time taken: 00:00:05\n",
      "2021-01-26 05:08:26,254 Train Evaluator INFO: Engine run complete. Time taken: 00:00:05\n",
      "2021-01-26 05:08:26,255 Val Evaluator INFO: Engine run starting with max_epochs=1.\n",
      "2021-01-26 05:08:28,033 Val Evaluator INFO: Epoch[1] Complete. Time taken: 00:00:02\n",
      "2021-01-26 05:08:28,035 Val Evaluator INFO: Engine run complete. Time taken: 00:00:02\n",
      "\u001b[34m\u001b[1mwandb\u001b[0m: \u001b[33mWARNING\u001b[0m Step must only increase in log calls.  Step 241 < 1446; dropping {'lr/group_0': 0.001}.\n",
      "2021-01-26 05:08:28,042 Trainer INFO: Epoch[241] Complete. Time taken: 00:00:13\n"
     ]
    },
    {
     "name": "stdout",
     "output_type": "stream",
     "text": [
      "train loss 0.004162626394715447\n",
      "val loss 1.527748353584953\n",
      "validation roc auc [0.74284826 0.63495025] 241\n",
      "train roc auc [1. 1.] 241\n"
     ]
    },
    {
     "name": "stderr",
     "output_type": "stream",
     "text": [
      "2021-01-26 05:08:33,824 Train Evaluator INFO: Engine run starting with max_epochs=1.\n",
      "2021-01-26 05:08:39,508 Train Evaluator INFO: Epoch[1] Complete. Time taken: 00:00:06\n",
      "2021-01-26 05:08:39,511 Train Evaluator INFO: Engine run complete. Time taken: 00:00:06\n",
      "2021-01-26 05:08:39,512 Val Evaluator INFO: Engine run starting with max_epochs=1.\n",
      "2021-01-26 05:08:41,417 Val Evaluator INFO: Epoch[1] Complete. Time taken: 00:00:02\n",
      "2021-01-26 05:08:41,419 Val Evaluator INFO: Engine run complete. Time taken: 00:00:02\n",
      "\u001b[34m\u001b[1mwandb\u001b[0m: \u001b[33mWARNING\u001b[0m Step must only increase in log calls.  Step 242 < 1452; dropping {'lr/group_0': 0.001}.\n",
      "2021-01-26 05:08:41,428 Trainer INFO: Epoch[242] Complete. Time taken: 00:00:13\n"
     ]
    },
    {
     "name": "stdout",
     "output_type": "stream",
     "text": [
      "train loss 0.0041156550869345665\n",
      "val loss 1.523023269487464\n",
      "validation roc auc [0.7431592  0.63495025] 242\n",
      "train roc auc [1. 1.] 242\n"
     ]
    },
    {
     "name": "stderr",
     "output_type": "stream",
     "text": [
      "2021-01-26 05:08:46,346 Train Evaluator INFO: Engine run starting with max_epochs=1.\n",
      "2021-01-26 05:08:51,947 Train Evaluator INFO: Epoch[1] Complete. Time taken: 00:00:06\n",
      "2021-01-26 05:08:51,949 Train Evaluator INFO: Engine run complete. Time taken: 00:00:06\n",
      "2021-01-26 05:08:51,950 Val Evaluator INFO: Engine run starting with max_epochs=1.\n",
      "2021-01-26 05:08:53,504 Val Evaluator INFO: Epoch[1] Complete. Time taken: 00:00:02\n",
      "2021-01-26 05:08:53,505 Val Evaluator INFO: Engine run complete. Time taken: 00:00:02\n",
      "\u001b[34m\u001b[1mwandb\u001b[0m: \u001b[33mWARNING\u001b[0m Step must only increase in log calls.  Step 243 < 1458; dropping {'lr/group_0': 0.001}.\n",
      "2021-01-26 05:08:53,513 Trainer INFO: Epoch[243] Complete. Time taken: 00:00:12\n"
     ]
    },
    {
     "name": "stdout",
     "output_type": "stream",
     "text": [
      "train loss 0.0040718343662726275\n",
      "val loss 1.5181090800658517\n",
      "validation roc auc [0.74347015 0.63588308] 243\n",
      "train roc auc [1. 1.] 243\n"
     ]
    },
    {
     "name": "stderr",
     "output_type": "stream",
     "text": [
      "2021-01-26 05:08:59,038 Train Evaluator INFO: Engine run starting with max_epochs=1.\n",
      "2021-01-26 05:09:04,421 Train Evaluator INFO: Epoch[1] Complete. Time taken: 00:00:05\n",
      "2021-01-26 05:09:04,424 Train Evaluator INFO: Engine run complete. Time taken: 00:00:05\n",
      "2021-01-26 05:09:04,425 Val Evaluator INFO: Engine run starting with max_epochs=1.\n",
      "2021-01-26 05:09:06,220 Val Evaluator INFO: Epoch[1] Complete. Time taken: 00:00:02\n",
      "2021-01-26 05:09:06,221 Val Evaluator INFO: Engine run complete. Time taken: 00:00:02\n",
      "\u001b[34m\u001b[1mwandb\u001b[0m: \u001b[33mWARNING\u001b[0m Step must only increase in log calls.  Step 244 < 1464; dropping {'lr/group_0': 0.001}.\n",
      "2021-01-26 05:09:06,229 Trainer INFO: Epoch[244] Complete. Time taken: 00:00:13\n"
     ]
    },
    {
     "name": "stdout",
     "output_type": "stream",
     "text": [
      "train loss 0.004027301891976912\n",
      "val loss 1.5770681640376216\n",
      "validation roc auc [0.74067164 0.63432836] 244\n",
      "train roc auc [1. 1.] 244\n"
     ]
    },
    {
     "name": "stderr",
     "output_type": "stream",
     "text": [
      "2021-01-26 05:09:11,645 Train Evaluator INFO: Engine run starting with max_epochs=1.\n",
      "2021-01-26 05:09:17,319 Train Evaluator INFO: Epoch[1] Complete. Time taken: 00:00:06\n",
      "2021-01-26 05:09:17,321 Train Evaluator INFO: Engine run complete. Time taken: 00:00:06\n",
      "2021-01-26 05:09:17,323 Val Evaluator INFO: Engine run starting with max_epochs=1.\n",
      "2021-01-26 05:09:19,421 Val Evaluator INFO: Epoch[1] Complete. Time taken: 00:00:02\n",
      "2021-01-26 05:09:19,423 Val Evaluator INFO: Engine run complete. Time taken: 00:00:02\n",
      "\u001b[34m\u001b[1mwandb\u001b[0m: \u001b[33mWARNING\u001b[0m Step must only increase in log calls.  Step 245 < 1470; dropping {'lr/group_0': 0.001}.\n",
      "2021-01-26 05:09:19,430 Trainer INFO: Epoch[245] Complete. Time taken: 00:00:13\n"
     ]
    },
    {
     "name": "stdout",
     "output_type": "stream",
     "text": [
      "train loss 0.003971597919593284\n",
      "val loss 1.533940815925598\n",
      "validation roc auc [0.74284826 0.63370647] 245\n",
      "train roc auc [1. 1.] 245\n"
     ]
    },
    {
     "name": "stderr",
     "output_type": "stream",
     "text": [
      "2021-01-26 05:09:24,696 Train Evaluator INFO: Engine run starting with max_epochs=1.\n",
      "2021-01-26 05:09:29,414 Train Evaluator INFO: Epoch[1] Complete. Time taken: 00:00:05\n",
      "2021-01-26 05:09:29,416 Train Evaluator INFO: Engine run complete. Time taken: 00:00:05\n",
      "2021-01-26 05:09:29,417 Val Evaluator INFO: Engine run starting with max_epochs=1.\n",
      "2021-01-26 05:09:31,165 Val Evaluator INFO: Epoch[1] Complete. Time taken: 00:00:02\n",
      "2021-01-26 05:09:31,168 Val Evaluator INFO: Engine run complete. Time taken: 00:00:02\n",
      "\u001b[34m\u001b[1mwandb\u001b[0m: \u001b[33mWARNING\u001b[0m Step must only increase in log calls.  Step 246 < 1476; dropping {'lr/group_0': 0.001}.\n",
      "2021-01-26 05:09:31,175 Trainer INFO: Epoch[246] Complete. Time taken: 00:00:12\n"
     ]
    },
    {
     "name": "stdout",
     "output_type": "stream",
     "text": [
      "train loss 0.003925613240619912\n",
      "val loss 1.5381183375482974\n",
      "validation roc auc [0.74222637 0.63401741] 246\n",
      "train roc auc [1. 1.] 246\n"
     ]
    },
    {
     "name": "stderr",
     "output_type": "stream",
     "text": [
      "2021-01-26 05:09:36,814 Train Evaluator INFO: Engine run starting with max_epochs=1.\n",
      "2021-01-26 05:09:42,553 Train Evaluator INFO: Epoch[1] Complete. Time taken: 00:00:06\n",
      "2021-01-26 05:09:42,555 Train Evaluator INFO: Engine run complete. Time taken: 00:00:06\n",
      "2021-01-26 05:09:42,556 Val Evaluator INFO: Engine run starting with max_epochs=1.\n",
      "2021-01-26 05:09:44,354 Val Evaluator INFO: Epoch[1] Complete. Time taken: 00:00:02\n",
      "2021-01-26 05:09:44,356 Val Evaluator INFO: Engine run complete. Time taken: 00:00:02\n",
      "\u001b[34m\u001b[1mwandb\u001b[0m: \u001b[33mWARNING\u001b[0m Step must only increase in log calls.  Step 247 < 1482; dropping {'lr/group_0': 0.001}.\n",
      "2021-01-26 05:09:44,363 Trainer INFO: Epoch[247] Complete. Time taken: 00:00:13\n"
     ]
    },
    {
     "name": "stdout",
     "output_type": "stream",
     "text": [
      "train loss 0.003887484118772241\n",
      "val loss 1.5815997196280438\n",
      "validation roc auc [0.74067164 0.63308458] 247\n",
      "train roc auc [1. 1.] 247\n"
     ]
    },
    {
     "name": "stderr",
     "output_type": "stream",
     "text": [
      "2021-01-26 05:09:49,471 Train Evaluator INFO: Engine run starting with max_epochs=1.\n",
      "2021-01-26 05:09:54,783 Train Evaluator INFO: Epoch[1] Complete. Time taken: 00:00:05\n",
      "2021-01-26 05:09:54,786 Train Evaluator INFO: Engine run complete. Time taken: 00:00:05\n",
      "2021-01-26 05:09:54,787 Val Evaluator INFO: Engine run starting with max_epochs=1.\n",
      "2021-01-26 05:09:57,005 Val Evaluator INFO: Epoch[1] Complete. Time taken: 00:00:02\n",
      "2021-01-26 05:09:57,006 Val Evaluator INFO: Engine run complete. Time taken: 00:00:02\n",
      "\u001b[34m\u001b[1mwandb\u001b[0m: \u001b[33mWARNING\u001b[0m Step must only increase in log calls.  Step 248 < 1488; dropping {'lr/group_0': 0.001}.\n",
      "2021-01-26 05:09:57,014 Trainer INFO: Epoch[248] Complete. Time taken: 00:00:13\n"
     ]
    },
    {
     "name": "stdout",
     "output_type": "stream",
     "text": [
      "train loss 0.00383698340979289\n",
      "val loss 1.567335751782293\n",
      "validation roc auc [0.74098259 0.63308458] 248\n",
      "train roc auc [1. 1.] 248\n"
     ]
    },
    {
     "name": "stderr",
     "output_type": "stream",
     "text": [
      "2021-01-26 05:10:03,110 Train Evaluator INFO: Engine run starting with max_epochs=1.\n",
      "2021-01-26 05:10:08,457 Train Evaluator INFO: Epoch[1] Complete. Time taken: 00:00:05\n",
      "2021-01-26 05:10:08,460 Train Evaluator INFO: Engine run complete. Time taken: 00:00:05\n",
      "2021-01-26 05:10:08,461 Val Evaluator INFO: Engine run starting with max_epochs=1.\n",
      "2021-01-26 05:10:10,339 Val Evaluator INFO: Epoch[1] Complete. Time taken: 00:00:02\n",
      "2021-01-26 05:10:10,341 Val Evaluator INFO: Engine run complete. Time taken: 00:00:02\n",
      "\u001b[34m\u001b[1mwandb\u001b[0m: \u001b[33mWARNING\u001b[0m Step must only increase in log calls.  Step 249 < 1494; dropping {'lr/group_0': 0.001}.\n",
      "2021-01-26 05:10:10,348 Trainer INFO: Epoch[249] Complete. Time taken: 00:00:13\n"
     ]
    },
    {
     "name": "stdout",
     "output_type": "stream",
     "text": [
      "train loss 0.003828307593064989\n",
      "val loss 1.4997314536053201\n",
      "validation roc auc [0.74284826 0.63526119] 249\n",
      "train roc auc [1. 1.] 249\n"
     ]
    },
    {
     "name": "stderr",
     "output_type": "stream",
     "text": [
      "2021-01-26 05:10:16,292 Train Evaluator INFO: Engine run starting with max_epochs=1.\n",
      "2021-01-26 05:10:21,840 Train Evaluator INFO: Epoch[1] Complete. Time taken: 00:00:06\n",
      "2021-01-26 05:10:21,843 Train Evaluator INFO: Engine run complete. Time taken: 00:00:06\n",
      "2021-01-26 05:10:21,844 Val Evaluator INFO: Engine run starting with max_epochs=1.\n",
      "2021-01-26 05:10:23,537 Val Evaluator INFO: Epoch[1] Complete. Time taken: 00:00:02\n",
      "2021-01-26 05:10:23,539 Val Evaluator INFO: Engine run complete. Time taken: 00:00:02\n",
      "\u001b[34m\u001b[1mwandb\u001b[0m: \u001b[33mWARNING\u001b[0m Step must only increase in log calls.  Step 250 < 1500; dropping {'lr/group_0': 0.001}.\n",
      "2021-01-26 05:10:23,547 Trainer INFO: Epoch[250] Complete. Time taken: 00:00:13\n"
     ]
    },
    {
     "name": "stdout",
     "output_type": "stream",
     "text": [
      "train loss 0.0037647753295394974\n",
      "val loss 1.6025735658148061\n",
      "validation roc auc [0.73973881 0.63215174] 250\n",
      "train roc auc [1. 1.] 250\n"
     ]
    },
    {
     "name": "stderr",
     "output_type": "stream",
     "text": [
      "2021-01-26 05:10:28,162 Train Evaluator INFO: Engine run starting with max_epochs=1.\n",
      "2021-01-26 05:10:33,413 Train Evaluator INFO: Epoch[1] Complete. Time taken: 00:00:05\n",
      "2021-01-26 05:10:33,416 Train Evaluator INFO: Engine run complete. Time taken: 00:00:05\n",
      "2021-01-26 05:10:33,417 Val Evaluator INFO: Engine run starting with max_epochs=1.\n",
      "2021-01-26 05:10:35,041 Val Evaluator INFO: Epoch[1] Complete. Time taken: 00:00:02\n",
      "2021-01-26 05:10:35,042 Val Evaluator INFO: Engine run complete. Time taken: 00:00:02\n",
      "\u001b[34m\u001b[1mwandb\u001b[0m: \u001b[33mWARNING\u001b[0m Step must only increase in log calls.  Step 251 < 1506; dropping {'lr/group_0': 0.001}.\n",
      "2021-01-26 05:10:35,049 Trainer INFO: Epoch[251] Complete. Time taken: 00:00:12\n"
     ]
    },
    {
     "name": "stdout",
     "output_type": "stream",
     "text": [
      "train loss 0.003706832843441406\n",
      "val loss 1.5720795942389447\n",
      "validation roc auc [0.74067164 0.63339552] 251\n",
      "train roc auc [1. 1.] 251\n"
     ]
    },
    {
     "name": "stderr",
     "output_type": "stream",
     "text": [
      "2021-01-26 05:10:40,707 Train Evaluator INFO: Engine run starting with max_epochs=1.\n",
      "2021-01-26 05:10:46,133 Train Evaluator INFO: Epoch[1] Complete. Time taken: 00:00:05\n",
      "2021-01-26 05:10:46,135 Train Evaluator INFO: Engine run complete. Time taken: 00:00:05\n",
      "2021-01-26 05:10:46,136 Val Evaluator INFO: Engine run starting with max_epochs=1.\n",
      "2021-01-26 05:10:48,037 Val Evaluator INFO: Epoch[1] Complete. Time taken: 00:00:02\n",
      "2021-01-26 05:10:48,038 Val Evaluator INFO: Engine run complete. Time taken: 00:00:02\n",
      "\u001b[34m\u001b[1mwandb\u001b[0m: \u001b[33mWARNING\u001b[0m Step must only increase in log calls.  Step 252 < 1512; dropping {'lr/group_0': 0.001}.\n",
      "2021-01-26 05:10:48,046 Trainer INFO: Epoch[252] Complete. Time taken: 00:00:13\n"
     ]
    },
    {
     "name": "stdout",
     "output_type": "stream",
     "text": [
      "train loss 0.0036854263995746536\n",
      "val loss 1.5206864004549774\n",
      "validation roc auc [0.7431592 0.6346393] 252\n",
      "train roc auc [1. 1.] 252\n"
     ]
    },
    {
     "name": "stderr",
     "output_type": "stream",
     "text": [
      "2021-01-26 05:10:52,551 Train Evaluator INFO: Engine run starting with max_epochs=1.\n",
      "2021-01-26 05:10:56,352 Train Evaluator INFO: Epoch[1] Complete. Time taken: 00:00:04\n",
      "2021-01-26 05:10:56,354 Train Evaluator INFO: Engine run complete. Time taken: 00:00:04\n",
      "2021-01-26 05:10:56,355 Val Evaluator INFO: Engine run starting with max_epochs=1.\n",
      "2021-01-26 05:10:57,699 Val Evaluator INFO: Epoch[1] Complete. Time taken: 00:00:01\n",
      "2021-01-26 05:10:57,700 Val Evaluator INFO: Engine run complete. Time taken: 00:00:01\n",
      "\u001b[34m\u001b[1mwandb\u001b[0m: \u001b[33mWARNING\u001b[0m Step must only increase in log calls.  Step 253 < 1518; dropping {'lr/group_0': 0.001}.\n",
      "2021-01-26 05:10:57,708 Trainer INFO: Epoch[253] Complete. Time taken: 00:00:10\n"
     ]
    },
    {
     "name": "stdout",
     "output_type": "stream",
     "text": [
      "train loss 0.0036387439257845548\n",
      "val loss 1.6110468304675558\n",
      "validation roc auc [0.73973881 0.63215174] 253\n",
      "train roc auc [1. 1.] 253\n"
     ]
    },
    {
     "name": "stderr",
     "output_type": "stream",
     "text": [
      "2021-01-26 05:11:02,410 Train Evaluator INFO: Engine run starting with max_epochs=1.\n",
      "2021-01-26 05:11:07,529 Train Evaluator INFO: Epoch[1] Complete. Time taken: 00:00:05\n",
      "2021-01-26 05:11:07,532 Train Evaluator INFO: Engine run complete. Time taken: 00:00:05\n",
      "2021-01-26 05:11:07,533 Val Evaluator INFO: Engine run starting with max_epochs=1.\n",
      "2021-01-26 05:11:09,016 Val Evaluator INFO: Epoch[1] Complete. Time taken: 00:00:01\n",
      "2021-01-26 05:11:09,018 Val Evaluator INFO: Engine run complete. Time taken: 00:00:01\n",
      "\u001b[34m\u001b[1mwandb\u001b[0m: \u001b[33mWARNING\u001b[0m Step must only increase in log calls.  Step 254 < 1524; dropping {'lr/group_0': 0.001}.\n",
      "2021-01-26 05:11:09,027 Trainer INFO: Epoch[254] Complete. Time taken: 00:00:11\n"
     ]
    },
    {
     "name": "stdout",
     "output_type": "stream",
     "text": [
      "train loss 0.0035838838212037755\n",
      "val loss 1.584290825802347\n",
      "validation roc auc [0.73973881 0.63277363] 254\n",
      "train roc auc [1. 1.] 254\n"
     ]
    },
    {
     "name": "stderr",
     "output_type": "stream",
     "text": [
      "2021-01-26 05:11:12,767 Train Evaluator INFO: Engine run starting with max_epochs=1.\n",
      "2021-01-26 05:11:16,640 Train Evaluator INFO: Epoch[1] Complete. Time taken: 00:00:04\n",
      "2021-01-26 05:11:16,643 Train Evaluator INFO: Engine run complete. Time taken: 00:00:04\n",
      "2021-01-26 05:11:16,644 Val Evaluator INFO: Engine run starting with max_epochs=1.\n",
      "2021-01-26 05:11:17,990 Val Evaluator INFO: Epoch[1] Complete. Time taken: 00:00:01\n",
      "2021-01-26 05:11:17,991 Val Evaluator INFO: Engine run complete. Time taken: 00:00:01\n",
      "\u001b[34m\u001b[1mwandb\u001b[0m: \u001b[33mWARNING\u001b[0m Step must only increase in log calls.  Step 255 < 1530; dropping {'lr/group_0': 0.001}.\n",
      "2021-01-26 05:11:18,001 Trainer INFO: Epoch[255] Complete. Time taken: 00:00:09\n"
     ]
    },
    {
     "name": "stdout",
     "output_type": "stream",
     "text": [
      "train loss 0.003545261283002838\n",
      "val loss 1.5586672274962716\n",
      "validation roc auc [0.74067164 0.63277363] 255\n",
      "train roc auc [1. 1.] 255\n"
     ]
    },
    {
     "name": "stderr",
     "output_type": "stream",
     "text": [
      "2021-01-26 05:11:21,942 Train Evaluator INFO: Engine run starting with max_epochs=1.\n",
      "2021-01-26 05:11:26,343 Train Evaluator INFO: Epoch[1] Complete. Time taken: 00:00:04\n",
      "2021-01-26 05:11:26,345 Train Evaluator INFO: Engine run complete. Time taken: 00:00:04\n",
      "2021-01-26 05:11:26,347 Val Evaluator INFO: Engine run starting with max_epochs=1.\n",
      "2021-01-26 05:11:27,721 Val Evaluator INFO: Epoch[1] Complete. Time taken: 00:00:01\n",
      "2021-01-26 05:11:27,723 Val Evaluator INFO: Engine run complete. Time taken: 00:00:01\n",
      "\u001b[34m\u001b[1mwandb\u001b[0m: \u001b[33mWARNING\u001b[0m Step must only increase in log calls.  Step 256 < 1536; dropping {'lr/group_0': 0.001}.\n",
      "2021-01-26 05:11:27,731 Trainer INFO: Epoch[256] Complete. Time taken: 00:00:10\n"
     ]
    },
    {
     "name": "stdout",
     "output_type": "stream",
     "text": [
      "train loss 0.003503501890557846\n",
      "val loss 1.5718711241431857\n",
      "validation roc auc [0.74004975 0.63246269] 256\n",
      "train roc auc [1. 1.] 256\n"
     ]
    },
    {
     "name": "stderr",
     "output_type": "stream",
     "text": [
      "2021-01-26 05:11:31,731 Train Evaluator INFO: Engine run starting with max_epochs=1.\n",
      "2021-01-26 05:11:36,551 Train Evaluator INFO: Epoch[1] Complete. Time taken: 00:00:05\n",
      "2021-01-26 05:11:36,554 Train Evaluator INFO: Engine run complete. Time taken: 00:00:05\n",
      "2021-01-26 05:11:36,555 Val Evaluator INFO: Engine run starting with max_epochs=1.\n",
      "2021-01-26 05:11:38,043 Val Evaluator INFO: Epoch[1] Complete. Time taken: 00:00:01\n",
      "2021-01-26 05:11:38,045 Val Evaluator INFO: Engine run complete. Time taken: 00:00:01\n",
      "\u001b[34m\u001b[1mwandb\u001b[0m: \u001b[33mWARNING\u001b[0m Step must only increase in log calls.  Step 257 < 1542; dropping {'lr/group_0': 0.001}.\n",
      "2021-01-26 05:11:38,053 Trainer INFO: Epoch[257] Complete. Time taken: 00:00:10\n"
     ]
    },
    {
     "name": "stdout",
     "output_type": "stream",
     "text": [
      "train loss 0.003493265835733632\n",
      "val loss 1.6355856625930123\n",
      "validation roc auc [0.73911692 0.63028607] 257\n",
      "train roc auc [1. 1.] 257\n"
     ]
    },
    {
     "name": "stderr",
     "output_type": "stream",
     "text": [
      "2021-01-26 05:11:42,173 Train Evaluator INFO: Engine run starting with max_epochs=1.\n",
      "2021-01-26 05:11:46,304 Train Evaluator INFO: Epoch[1] Complete. Time taken: 00:00:04\n",
      "2021-01-26 05:11:46,306 Train Evaluator INFO: Engine run complete. Time taken: 00:00:04\n",
      "2021-01-26 05:11:46,307 Val Evaluator INFO: Engine run starting with max_epochs=1.\n",
      "2021-01-26 05:11:47,813 Val Evaluator INFO: Epoch[1] Complete. Time taken: 00:00:02\n",
      "2021-01-26 05:11:47,815 Val Evaluator INFO: Engine run complete. Time taken: 00:00:02\n",
      "\u001b[34m\u001b[1mwandb\u001b[0m: \u001b[33mWARNING\u001b[0m Step must only increase in log calls.  Step 258 < 1548; dropping {'lr/group_0': 0.001}.\n",
      "2021-01-26 05:11:47,823 Trainer INFO: Epoch[258] Complete. Time taken: 00:00:10\n"
     ]
    },
    {
     "name": "stdout",
     "output_type": "stream",
     "text": [
      "train loss 0.0034385643108643194\n",
      "val loss 1.5467520496119624\n",
      "validation roc auc [0.74098259 0.63339552] 258\n",
      "train roc auc [1. 1.] 258\n"
     ]
    },
    {
     "name": "stderr",
     "output_type": "stream",
     "text": [
      "2021-01-26 05:11:52,617 Train Evaluator INFO: Engine run starting with max_epochs=1.\n",
      "2021-01-26 05:11:56,895 Train Evaluator INFO: Epoch[1] Complete. Time taken: 00:00:04\n",
      "2021-01-26 05:11:56,897 Train Evaluator INFO: Engine run complete. Time taken: 00:00:04\n",
      "2021-01-26 05:11:56,898 Val Evaluator INFO: Engine run starting with max_epochs=1.\n",
      "2021-01-26 05:11:58,367 Val Evaluator INFO: Epoch[1] Complete. Time taken: 00:00:01\n",
      "2021-01-26 05:11:58,369 Val Evaluator INFO: Engine run complete. Time taken: 00:00:01\n",
      "\u001b[34m\u001b[1mwandb\u001b[0m: \u001b[33mWARNING\u001b[0m Step must only increase in log calls.  Step 259 < 1554; dropping {'lr/group_0': 0.001}.\n",
      "2021-01-26 05:11:58,379 Trainer INFO: Epoch[259] Complete. Time taken: 00:00:11\n"
     ]
    },
    {
     "name": "stdout",
     "output_type": "stream",
     "text": [
      "train loss 0.0033932533569788264\n",
      "val loss 1.5653195464092753\n",
      "validation roc auc [0.74004975 0.63277363] 259\n",
      "train roc auc [1. 1.] 259\n"
     ]
    },
    {
     "name": "stderr",
     "output_type": "stream",
     "text": [
      "2021-01-26 05:12:02,795 Train Evaluator INFO: Engine run starting with max_epochs=1.\n",
      "2021-01-26 05:12:07,337 Train Evaluator INFO: Epoch[1] Complete. Time taken: 00:00:05\n",
      "2021-01-26 05:12:07,340 Train Evaluator INFO: Engine run complete. Time taken: 00:00:05\n",
      "2021-01-26 05:12:07,341 Val Evaluator INFO: Engine run starting with max_epochs=1.\n",
      "2021-01-26 05:12:08,607 Val Evaluator INFO: Epoch[1] Complete. Time taken: 00:00:01\n",
      "2021-01-26 05:12:08,608 Val Evaluator INFO: Engine run complete. Time taken: 00:00:01\n",
      "\u001b[34m\u001b[1mwandb\u001b[0m: \u001b[33mWARNING\u001b[0m Step must only increase in log calls.  Step 260 < 1560; dropping {'lr/group_0': 0.001}.\n",
      "2021-01-26 05:12:08,616 Trainer INFO: Epoch[260] Complete. Time taken: 00:00:10\n"
     ]
    },
    {
     "name": "stdout",
     "output_type": "stream",
     "text": [
      "train loss 0.0033929972019399236\n",
      "val loss 1.6561888363050379\n",
      "validation roc auc [0.73818408 0.62935323] 260\n",
      "train roc auc [1. 1.] 260\n"
     ]
    },
    {
     "name": "stderr",
     "output_type": "stream",
     "text": [
      "2021-01-26 05:12:12,950 Train Evaluator INFO: Engine run starting with max_epochs=1.\n",
      "2021-01-26 05:12:17,347 Train Evaluator INFO: Epoch[1] Complete. Time taken: 00:00:04\n",
      "2021-01-26 05:12:17,349 Train Evaluator INFO: Engine run complete. Time taken: 00:00:04\n",
      "2021-01-26 05:12:17,350 Val Evaluator INFO: Engine run starting with max_epochs=1.\n",
      "2021-01-26 05:12:18,997 Val Evaluator INFO: Epoch[1] Complete. Time taken: 00:00:02\n",
      "2021-01-26 05:12:19,000 Val Evaluator INFO: Engine run complete. Time taken: 00:00:02\n",
      "\u001b[34m\u001b[1mwandb\u001b[0m: \u001b[33mWARNING\u001b[0m Step must only increase in log calls.  Step 261 < 1566; dropping {'lr/group_0': 0.001}.\n",
      "2021-01-26 05:12:19,008 Trainer INFO: Epoch[261] Complete. Time taken: 00:00:10\n"
     ]
    },
    {
     "name": "stdout",
     "output_type": "stream",
     "text": [
      "train loss 0.0033308988142229574\n",
      "val loss 1.5494372585545415\n",
      "validation roc auc [0.74098259 0.63246269] 261\n",
      "train roc auc [1. 1.] 261\n"
     ]
    },
    {
     "name": "stderr",
     "output_type": "stream",
     "text": [
      "2021-01-26 05:12:23,819 Train Evaluator INFO: Engine run starting with max_epochs=1.\n",
      "2021-01-26 05:12:28,319 Train Evaluator INFO: Epoch[1] Complete. Time taken: 00:00:04\n",
      "2021-01-26 05:12:28,321 Train Evaluator INFO: Engine run complete. Time taken: 00:00:05\n",
      "2021-01-26 05:12:28,323 Val Evaluator INFO: Engine run starting with max_epochs=1.\n",
      "2021-01-26 05:12:29,518 Val Evaluator INFO: Epoch[1] Complete. Time taken: 00:00:01\n",
      "2021-01-26 05:12:29,519 Val Evaluator INFO: Engine run complete. Time taken: 00:00:01\n",
      "\u001b[34m\u001b[1mwandb\u001b[0m: \u001b[33mWARNING\u001b[0m Step must only increase in log calls.  Step 262 < 1572; dropping {'lr/group_0': 0.001}.\n",
      "2021-01-26 05:12:29,527 Trainer INFO: Epoch[262] Complete. Time taken: 00:00:11\n"
     ]
    },
    {
     "name": "stdout",
     "output_type": "stream",
     "text": [
      "train loss 0.003283004919838535\n",
      "val loss 1.576115498335465\n",
      "validation roc auc [0.73973881 0.63152985] 262\n",
      "train roc auc [1. 1.] 262\n"
     ]
    },
    {
     "name": "stderr",
     "output_type": "stream",
     "text": [
      "2021-01-26 05:12:34,250 Train Evaluator INFO: Engine run starting with max_epochs=1.\n",
      "2021-01-26 05:12:38,560 Train Evaluator INFO: Epoch[1] Complete. Time taken: 00:00:04\n",
      "2021-01-26 05:12:38,563 Train Evaluator INFO: Engine run complete. Time taken: 00:00:04\n",
      "2021-01-26 05:12:38,564 Val Evaluator INFO: Engine run starting with max_epochs=1.\n",
      "2021-01-26 05:12:39,981 Val Evaluator INFO: Epoch[1] Complete. Time taken: 00:00:01\n",
      "2021-01-26 05:12:39,983 Val Evaluator INFO: Engine run complete. Time taken: 00:00:01\n",
      "\u001b[34m\u001b[1mwandb\u001b[0m: \u001b[33mWARNING\u001b[0m Step must only increase in log calls.  Step 263 < 1578; dropping {'lr/group_0': 0.001}.\n",
      "2021-01-26 05:12:39,990 Trainer INFO: Epoch[263] Complete. Time taken: 00:00:10\n"
     ]
    },
    {
     "name": "stdout",
     "output_type": "stream",
     "text": [
      "train loss 0.0032639682551945104\n",
      "val loss 1.6442749831987464\n",
      "validation roc auc [0.73818408 0.62966418] 263\n",
      "train roc auc [1. 1.] 263\n"
     ]
    },
    {
     "name": "stderr",
     "output_type": "stream",
     "text": [
      "2021-01-26 05:12:43,847 Train Evaluator INFO: Engine run starting with max_epochs=1.\n",
      "2021-01-26 05:12:47,745 Train Evaluator INFO: Epoch[1] Complete. Time taken: 00:00:04\n",
      "2021-01-26 05:12:47,746 Train Evaluator INFO: Engine run complete. Time taken: 00:00:04\n",
      "2021-01-26 05:12:47,747 Val Evaluator INFO: Engine run starting with max_epochs=1.\n",
      "2021-01-26 05:12:49,007 Val Evaluator INFO: Epoch[1] Complete. Time taken: 00:00:01\n",
      "2021-01-26 05:12:49,010 Val Evaluator INFO: Engine run complete. Time taken: 00:00:01\n",
      "\u001b[34m\u001b[1mwandb\u001b[0m: \u001b[33mWARNING\u001b[0m Step must only increase in log calls.  Step 264 < 1584; dropping {'lr/group_0': 0.001}.\n",
      "2021-01-26 05:12:49,019 Trainer INFO: Epoch[264] Complete. Time taken: 00:00:09\n"
     ]
    },
    {
     "name": "stdout",
     "output_type": "stream",
     "text": [
      "train loss 0.003210523547384249\n",
      "val loss 1.595739047423653\n",
      "validation roc auc [0.73973881 0.63028607] 264\n",
      "train roc auc [1. 1.] 264\n"
     ]
    },
    {
     "name": "stderr",
     "output_type": "stream",
     "text": [
      "2021-01-26 05:12:53,941 Train Evaluator INFO: Engine run starting with max_epochs=1.\n",
      "2021-01-26 05:12:57,909 Train Evaluator INFO: Epoch[1] Complete. Time taken: 00:00:04\n",
      "2021-01-26 05:12:57,911 Train Evaluator INFO: Engine run complete. Time taken: 00:00:04\n",
      "2021-01-26 05:12:57,912 Val Evaluator INFO: Engine run starting with max_epochs=1.\n",
      "2021-01-26 05:12:59,404 Val Evaluator INFO: Epoch[1] Complete. Time taken: 00:00:01\n",
      "2021-01-26 05:12:59,406 Val Evaluator INFO: Engine run complete. Time taken: 00:00:01\n",
      "\u001b[34m\u001b[1mwandb\u001b[0m: \u001b[33mWARNING\u001b[0m Step must only increase in log calls.  Step 265 < 1590; dropping {'lr/group_0': 0.001}.\n",
      "2021-01-26 05:12:59,414 Trainer INFO: Epoch[265] Complete. Time taken: 00:00:10\n"
     ]
    },
    {
     "name": "stdout",
     "output_type": "stream",
     "text": [
      "train loss 0.0031873791922192424\n",
      "val loss 1.5646540859471196\n",
      "validation roc auc [0.74067164 0.63121891] 265\n",
      "train roc auc [1. 1.] 265\n"
     ]
    },
    {
     "name": "stderr",
     "output_type": "stream",
     "text": [
      "2021-01-26 05:13:03,758 Train Evaluator INFO: Engine run starting with max_epochs=1.\n",
      "2021-01-26 05:13:08,527 Train Evaluator INFO: Epoch[1] Complete. Time taken: 00:00:05\n",
      "2021-01-26 05:13:08,530 Train Evaluator INFO: Engine run complete. Time taken: 00:00:05\n",
      "2021-01-26 05:13:08,531 Val Evaluator INFO: Engine run starting with max_epochs=1.\n",
      "2021-01-26 05:13:10,136 Val Evaluator INFO: Epoch[1] Complete. Time taken: 00:00:02\n",
      "2021-01-26 05:13:10,137 Val Evaluator INFO: Engine run complete. Time taken: 00:00:02\n",
      "\u001b[34m\u001b[1mwandb\u001b[0m: \u001b[33mWARNING\u001b[0m Step must only increase in log calls.  Step 266 < 1596; dropping {'lr/group_0': 0.001}.\n",
      "2021-01-26 05:13:10,147 Trainer INFO: Epoch[266] Complete. Time taken: 00:00:11\n"
     ]
    },
    {
     "name": "stdout",
     "output_type": "stream",
     "text": [
      "train loss 0.0031462545884144905\n",
      "val loss 1.623202107263648\n",
      "validation roc auc [0.73880597 0.62935323] 266\n",
      "train roc auc [1. 1.] 266\n"
     ]
    },
    {
     "name": "stderr",
     "output_type": "stream",
     "text": [
      "2021-01-26 05:13:15,150 Train Evaluator INFO: Engine run starting with max_epochs=1.\n",
      "2021-01-26 05:13:19,369 Train Evaluator INFO: Epoch[1] Complete. Time taken: 00:00:04\n",
      "2021-01-26 05:13:19,371 Train Evaluator INFO: Engine run complete. Time taken: 00:00:04\n",
      "2021-01-26 05:13:19,372 Val Evaluator INFO: Engine run starting with max_epochs=1.\n",
      "2021-01-26 05:13:21,055 Val Evaluator INFO: Epoch[1] Complete. Time taken: 00:00:02\n",
      "2021-01-26 05:13:21,057 Val Evaluator INFO: Engine run complete. Time taken: 00:00:02\n",
      "\u001b[34m\u001b[1mwandb\u001b[0m: \u001b[33mWARNING\u001b[0m Step must only increase in log calls.  Step 267 < 1602; dropping {'lr/group_0': 0.001}.\n",
      "2021-01-26 05:13:21,068 Trainer INFO: Epoch[267] Complete. Time taken: 00:00:11\n"
     ]
    },
    {
     "name": "stdout",
     "output_type": "stream",
     "text": [
      "train loss 0.003112176934686991\n",
      "val loss 1.620315342364104\n",
      "validation roc auc [0.73880597 0.62904229] 267\n",
      "train roc auc [1. 1.] 267\n"
     ]
    },
    {
     "name": "stderr",
     "output_type": "stream",
     "text": [
      "2021-01-26 05:13:25,273 Train Evaluator INFO: Engine run starting with max_epochs=1.\n",
      "2021-01-26 05:13:29,268 Train Evaluator INFO: Epoch[1] Complete. Time taken: 00:00:04\n",
      "2021-01-26 05:13:29,270 Train Evaluator INFO: Engine run complete. Time taken: 00:00:04\n",
      "2021-01-26 05:13:29,271 Val Evaluator INFO: Engine run starting with max_epochs=1.\n",
      "2021-01-26 05:13:30,987 Val Evaluator INFO: Epoch[1] Complete. Time taken: 00:00:02\n",
      "2021-01-26 05:13:30,989 Val Evaluator INFO: Engine run complete. Time taken: 00:00:02\n",
      "\u001b[34m\u001b[1mwandb\u001b[0m: \u001b[33mWARNING\u001b[0m Step must only increase in log calls.  Step 268 < 1608; dropping {'lr/group_0': 0.001}.\n",
      "2021-01-26 05:13:30,997 Trainer INFO: Epoch[268] Complete. Time taken: 00:00:10\n"
     ]
    },
    {
     "name": "stdout",
     "output_type": "stream",
     "text": [
      "train loss 0.00311113143830213\n",
      "val loss 1.5463825308758279\n",
      "validation roc auc [0.74004975 0.63152985] 268\n",
      "train roc auc [1. 1.] 268\n"
     ]
    },
    {
     "name": "stderr",
     "output_type": "stream",
     "text": [
      "2021-01-26 05:13:35,940 Train Evaluator INFO: Engine run starting with max_epochs=1.\n",
      "2021-01-26 05:13:39,701 Train Evaluator INFO: Epoch[1] Complete. Time taken: 00:00:04\n",
      "2021-01-26 05:13:39,704 Train Evaluator INFO: Engine run complete. Time taken: 00:00:04\n",
      "2021-01-26 05:13:39,705 Val Evaluator INFO: Engine run starting with max_epochs=1.\n",
      "2021-01-26 05:13:41,304 Val Evaluator INFO: Epoch[1] Complete. Time taken: 00:00:02\n",
      "2021-01-26 05:13:41,306 Val Evaluator INFO: Engine run complete. Time taken: 00:00:02\n",
      "\u001b[34m\u001b[1mwandb\u001b[0m: \u001b[33mWARNING\u001b[0m Step must only increase in log calls.  Step 269 < 1614; dropping {'lr/group_0': 0.001}.\n",
      "2021-01-26 05:13:41,314 Trainer INFO: Epoch[269] Complete. Time taken: 00:00:10\n"
     ]
    },
    {
     "name": "stdout",
     "output_type": "stream",
     "text": [
      "train loss 0.0030516091701106207\n",
      "val loss 1.6407449877780416\n",
      "validation roc auc [0.73756219 0.62904229] 269\n",
      "train roc auc [1. 1.] 269\n"
     ]
    },
    {
     "name": "stderr",
     "output_type": "stream",
     "text": [
      "2021-01-26 05:13:46,481 Train Evaluator INFO: Engine run starting with max_epochs=1.\n",
      "2021-01-26 05:13:50,644 Train Evaluator INFO: Epoch[1] Complete. Time taken: 00:00:04\n",
      "2021-01-26 05:13:50,646 Train Evaluator INFO: Engine run complete. Time taken: 00:00:04\n",
      "2021-01-26 05:13:50,647 Val Evaluator INFO: Engine run starting with max_epochs=1.\n",
      "2021-01-26 05:13:51,949 Val Evaluator INFO: Epoch[1] Complete. Time taken: 00:00:01\n",
      "2021-01-26 05:13:51,951 Val Evaluator INFO: Engine run complete. Time taken: 00:00:01\n",
      "\u001b[34m\u001b[1mwandb\u001b[0m: \u001b[33mWARNING\u001b[0m Step must only increase in log calls.  Step 270 < 1620; dropping {'lr/group_0': 0.001}.\n",
      "2021-01-26 05:13:51,961 Trainer INFO: Epoch[270] Complete. Time taken: 00:00:11\n"
     ]
    },
    {
     "name": "stdout",
     "output_type": "stream",
     "text": [
      "train loss 0.0030177328542712527\n",
      "val loss 1.637066886735999\n",
      "validation roc auc [0.73756219 0.62904229] 270\n",
      "train roc auc [1. 1.] 270\n"
     ]
    },
    {
     "name": "stderr",
     "output_type": "stream",
     "text": [
      "2021-01-26 05:13:55,855 Train Evaluator INFO: Engine run starting with max_epochs=1.\n",
      "2021-01-26 05:13:59,938 Train Evaluator INFO: Epoch[1] Complete. Time taken: 00:00:04\n",
      "2021-01-26 05:13:59,940 Train Evaluator INFO: Engine run complete. Time taken: 00:00:04\n",
      "2021-01-26 05:13:59,941 Val Evaluator INFO: Engine run starting with max_epochs=1.\n",
      "2021-01-26 05:14:01,222 Val Evaluator INFO: Epoch[1] Complete. Time taken: 00:00:01\n",
      "2021-01-26 05:14:01,224 Val Evaluator INFO: Engine run complete. Time taken: 00:00:01\n",
      "\u001b[34m\u001b[1mwandb\u001b[0m: \u001b[33mWARNING\u001b[0m Step must only increase in log calls.  Step 271 < 1626; dropping {'lr/group_0': 0.001}.\n",
      "2021-01-26 05:14:01,232 Trainer INFO: Epoch[271] Complete. Time taken: 00:00:09\n"
     ]
    },
    {
     "name": "stdout",
     "output_type": "stream",
     "text": [
      "train loss 0.0029832997756111903\n",
      "val loss 1.605753811545994\n",
      "validation roc auc [0.73911692 0.62873134] 271\n",
      "train roc auc [1. 1.] 271\n"
     ]
    },
    {
     "name": "stderr",
     "output_type": "stream",
     "text": [
      "2021-01-26 05:14:05,531 Train Evaluator INFO: Engine run starting with max_epochs=1.\n",
      "2021-01-26 05:14:10,345 Train Evaluator INFO: Epoch[1] Complete. Time taken: 00:00:05\n",
      "2021-01-26 05:14:10,348 Train Evaluator INFO: Engine run complete. Time taken: 00:00:05\n",
      "2021-01-26 05:14:10,350 Val Evaluator INFO: Engine run starting with max_epochs=1.\n",
      "2021-01-26 05:14:11,596 Val Evaluator INFO: Epoch[1] Complete. Time taken: 00:00:01\n",
      "2021-01-26 05:14:11,598 Val Evaluator INFO: Engine run complete. Time taken: 00:00:01\n",
      "\u001b[34m\u001b[1mwandb\u001b[0m: \u001b[33mWARNING\u001b[0m Step must only increase in log calls.  Step 272 < 1632; dropping {'lr/group_0': 0.001}.\n",
      "2021-01-26 05:14:11,605 Trainer INFO: Epoch[272] Complete. Time taken: 00:00:10\n"
     ]
    },
    {
     "name": "stdout",
     "output_type": "stream",
     "text": [
      "train loss 0.002954588978435602\n",
      "val loss 1.5994213498157004\n",
      "validation roc auc [0.73911692 0.62935323] 272\n",
      "train roc auc [1. 1.] 272\n"
     ]
    },
    {
     "name": "stderr",
     "output_type": "stream",
     "text": [
      "2021-01-26 05:14:16,686 Train Evaluator INFO: Engine run starting with max_epochs=1.\n",
      "2021-01-26 05:14:20,746 Train Evaluator INFO: Epoch[1] Complete. Time taken: 00:00:04\n",
      "2021-01-26 05:14:20,750 Train Evaluator INFO: Engine run complete. Time taken: 00:00:04\n",
      "2021-01-26 05:14:20,751 Val Evaluator INFO: Engine run starting with max_epochs=1.\n",
      "2021-01-26 05:14:22,293 Val Evaluator INFO: Epoch[1] Complete. Time taken: 00:00:02\n",
      "2021-01-26 05:14:22,295 Val Evaluator INFO: Engine run complete. Time taken: 00:00:02\n",
      "\u001b[34m\u001b[1mwandb\u001b[0m: \u001b[33mWARNING\u001b[0m Step must only increase in log calls.  Step 273 < 1638; dropping {'lr/group_0': 0.001}.\n",
      "2021-01-26 05:14:22,302 Trainer INFO: Epoch[273] Complete. Time taken: 00:00:11\n"
     ]
    },
    {
     "name": "stdout",
     "output_type": "stream",
     "text": [
      "train loss 0.0029216210120881097\n",
      "val loss 1.6178280198055766\n",
      "validation roc auc [0.73818408 0.62935323] 273\n",
      "train roc auc [1. 1.] 273\n"
     ]
    },
    {
     "name": "stderr",
     "output_type": "stream",
     "text": [
      "2021-01-26 05:14:26,722 Train Evaluator INFO: Engine run starting with max_epochs=1.\n",
      "2021-01-26 05:14:30,857 Train Evaluator INFO: Epoch[1] Complete. Time taken: 00:00:04\n",
      "2021-01-26 05:14:30,859 Train Evaluator INFO: Engine run complete. Time taken: 00:00:04\n",
      "2021-01-26 05:14:30,861 Val Evaluator INFO: Engine run starting with max_epochs=1.\n",
      "2021-01-26 05:14:32,506 Val Evaluator INFO: Epoch[1] Complete. Time taken: 00:00:02\n",
      "2021-01-26 05:14:32,507 Val Evaluator INFO: Engine run complete. Time taken: 00:00:02\n",
      "\u001b[34m\u001b[1mwandb\u001b[0m: \u001b[33mWARNING\u001b[0m Step must only increase in log calls.  Step 274 < 1644; dropping {'lr/group_0': 0.001}.\n",
      "2021-01-26 05:14:32,515 Trainer INFO: Epoch[274] Complete. Time taken: 00:00:10\n"
     ]
    },
    {
     "name": "stdout",
     "output_type": "stream",
     "text": [
      "train loss 0.002914687865220848\n",
      "val loss 1.6801662393238233\n",
      "validation roc auc [0.73631841 0.62810945] 274\n",
      "train roc auc [1. 1.] 274\n"
     ]
    },
    {
     "name": "stderr",
     "output_type": "stream",
     "text": [
      "2021-01-26 05:14:36,789 Train Evaluator INFO: Engine run starting with max_epochs=1.\n",
      "2021-01-26 05:14:40,806 Train Evaluator INFO: Epoch[1] Complete. Time taken: 00:00:04\n",
      "2021-01-26 05:14:40,808 Train Evaluator INFO: Engine run complete. Time taken: 00:00:04\n",
      "2021-01-26 05:14:40,809 Val Evaluator INFO: Engine run starting with max_epochs=1.\n",
      "2021-01-26 05:14:42,284 Val Evaluator INFO: Epoch[1] Complete. Time taken: 00:00:01\n",
      "2021-01-26 05:14:42,287 Val Evaluator INFO: Engine run complete. Time taken: 00:00:01\n",
      "\u001b[34m\u001b[1mwandb\u001b[0m: \u001b[33mWARNING\u001b[0m Step must only increase in log calls.  Step 275 < 1650; dropping {'lr/group_0': 0.001}.\n",
      "2021-01-26 05:14:42,294 Trainer INFO: Epoch[275] Complete. Time taken: 00:00:10\n"
     ]
    },
    {
     "name": "stdout",
     "output_type": "stream",
     "text": [
      "train loss 0.00286286646367971\n",
      "val loss 1.616128343084584\n",
      "validation roc auc [0.73818408 0.62873134] 275\n",
      "train roc auc [1. 1.] 275\n"
     ]
    },
    {
     "name": "stderr",
     "output_type": "stream",
     "text": [
      "2021-01-26 05:14:46,546 Train Evaluator INFO: Engine run starting with max_epochs=1.\n",
      "2021-01-26 05:14:50,568 Train Evaluator INFO: Epoch[1] Complete. Time taken: 00:00:04\n",
      "2021-01-26 05:14:50,569 Train Evaluator INFO: Engine run complete. Time taken: 00:00:04\n",
      "2021-01-26 05:14:50,570 Val Evaluator INFO: Engine run starting with max_epochs=1.\n",
      "2021-01-26 05:14:52,277 Val Evaluator INFO: Epoch[1] Complete. Time taken: 00:00:02\n",
      "2021-01-26 05:14:52,281 Val Evaluator INFO: Engine run complete. Time taken: 00:00:02\n",
      "\u001b[34m\u001b[1mwandb\u001b[0m: \u001b[33mWARNING\u001b[0m Step must only increase in log calls.  Step 276 < 1656; dropping {'lr/group_0': 0.001}.\n",
      "2021-01-26 05:14:52,289 Trainer INFO: Epoch[276] Complete. Time taken: 00:00:10\n"
     ]
    },
    {
     "name": "stdout",
     "output_type": "stream",
     "text": [
      "train loss 0.002836011104924968\n",
      "val loss 1.608288692391437\n",
      "validation roc auc [0.73818408 0.62997512] 276\n",
      "train roc auc [1. 1.] 276\n"
     ]
    },
    {
     "name": "stderr",
     "output_type": "stream",
     "text": [
      "2021-01-26 05:14:56,161 Train Evaluator INFO: Engine run starting with max_epochs=1.\n",
      "2021-01-26 05:15:00,323 Train Evaluator INFO: Epoch[1] Complete. Time taken: 00:00:04\n",
      "2021-01-26 05:15:00,325 Train Evaluator INFO: Engine run complete. Time taken: 00:00:04\n",
      "2021-01-26 05:15:00,326 Val Evaluator INFO: Engine run starting with max_epochs=1.\n",
      "2021-01-26 05:15:01,978 Val Evaluator INFO: Epoch[1] Complete. Time taken: 00:00:02\n",
      "2021-01-26 05:15:01,981 Val Evaluator INFO: Engine run complete. Time taken: 00:00:02\n",
      "\u001b[34m\u001b[1mwandb\u001b[0m: \u001b[33mWARNING\u001b[0m Step must only increase in log calls.  Step 277 < 1662; dropping {'lr/group_0': 0.001}.\n",
      "2021-01-26 05:15:01,991 Trainer INFO: Epoch[277] Complete. Time taken: 00:00:10\n"
     ]
    },
    {
     "name": "stdout",
     "output_type": "stream",
     "text": [
      "train loss 0.002810497962478438\n",
      "val loss 1.6603270592896835\n",
      "validation roc auc [0.73569652 0.6284204 ] 277\n",
      "train roc auc [1. 1.] 277\n"
     ]
    },
    {
     "name": "stderr",
     "output_type": "stream",
     "text": [
      "2021-01-26 05:15:07,233 Train Evaluator INFO: Engine run starting with max_epochs=1.\n",
      "2021-01-26 05:15:12,786 Train Evaluator INFO: Epoch[1] Complete. Time taken: 00:00:06\n",
      "2021-01-26 05:15:12,789 Train Evaluator INFO: Engine run complete. Time taken: 00:00:06\n",
      "2021-01-26 05:15:12,790 Val Evaluator INFO: Engine run starting with max_epochs=1.\n",
      "2021-01-26 05:15:14,087 Val Evaluator INFO: Epoch[1] Complete. Time taken: 00:00:01\n",
      "2021-01-26 05:15:14,089 Val Evaluator INFO: Engine run complete. Time taken: 00:00:01\n",
      "\u001b[34m\u001b[1mwandb\u001b[0m: \u001b[33mWARNING\u001b[0m Step must only increase in log calls.  Step 278 < 1668; dropping {'lr/group_0': 0.001}.\n",
      "2021-01-26 05:15:14,097 Trainer INFO: Epoch[278] Complete. Time taken: 00:00:12\n"
     ]
    },
    {
     "name": "stdout",
     "output_type": "stream",
     "text": [
      "train loss 0.002788679485523401\n",
      "val loss 1.5947202775789344\n",
      "validation roc auc [0.73818408 0.63059701] 278\n",
      "train roc auc [1. 1.] 278\n"
     ]
    },
    {
     "name": "stderr",
     "output_type": "stream",
     "text": [
      "2021-01-26 05:15:19,341 Train Evaluator INFO: Engine run starting with max_epochs=1.\n",
      "2021-01-26 05:15:24,478 Train Evaluator INFO: Epoch[1] Complete. Time taken: 00:00:05\n",
      "2021-01-26 05:15:24,481 Train Evaluator INFO: Engine run complete. Time taken: 00:00:05\n",
      "2021-01-26 05:15:24,482 Val Evaluator INFO: Engine run starting with max_epochs=1.\n",
      "2021-01-26 05:15:25,763 Val Evaluator INFO: Epoch[1] Complete. Time taken: 00:00:01\n",
      "2021-01-26 05:15:25,765 Val Evaluator INFO: Engine run complete. Time taken: 00:00:01\n",
      "\u001b[34m\u001b[1mwandb\u001b[0m: \u001b[33mWARNING\u001b[0m Step must only increase in log calls.  Step 279 < 1674; dropping {'lr/group_0': 0.001}.\n",
      "2021-01-26 05:15:25,774 Trainer INFO: Epoch[279] Complete. Time taken: 00:00:12\n"
     ]
    },
    {
     "name": "stdout",
     "output_type": "stream",
     "text": [
      "train loss 0.0027528817520184805\n",
      "val loss 1.6629167878109476\n",
      "validation roc auc [0.73600746 0.62873134] 279\n",
      "train roc auc [1. 1.] 279\n"
     ]
    },
    {
     "name": "stderr",
     "output_type": "stream",
     "text": [
      "2021-01-26 05:15:30,856 Train Evaluator INFO: Engine run starting with max_epochs=1.\n",
      "2021-01-26 05:15:35,173 Train Evaluator INFO: Epoch[1] Complete. Time taken: 00:00:04\n",
      "2021-01-26 05:15:35,174 Train Evaluator INFO: Engine run complete. Time taken: 00:00:04\n",
      "2021-01-26 05:15:35,175 Val Evaluator INFO: Engine run starting with max_epochs=1.\n",
      "2021-01-26 05:15:36,894 Val Evaluator INFO: Epoch[1] Complete. Time taken: 00:00:02\n",
      "2021-01-26 05:15:36,896 Val Evaluator INFO: Engine run complete. Time taken: 00:00:02\n",
      "\u001b[34m\u001b[1mwandb\u001b[0m: \u001b[33mWARNING\u001b[0m Step must only increase in log calls.  Step 280 < 1680; dropping {'lr/group_0': 0.001}.\n",
      "2021-01-26 05:15:36,903 Trainer INFO: Epoch[280] Complete. Time taken: 00:00:11\n"
     ]
    },
    {
     "name": "stdout",
     "output_type": "stream",
     "text": [
      "train loss 0.0027218432449487716\n",
      "val loss 1.6516127845515376\n",
      "validation roc auc [0.73569652 0.62935323] 280\n",
      "train roc auc [1. 1.] 280\n"
     ]
    },
    {
     "name": "stderr",
     "output_type": "stream",
     "text": [
      "2021-01-26 05:15:42,704 Train Evaluator INFO: Engine run starting with max_epochs=1.\n",
      "2021-01-26 05:15:47,514 Train Evaluator INFO: Epoch[1] Complete. Time taken: 00:00:05\n",
      "2021-01-26 05:15:47,515 Train Evaluator INFO: Engine run complete. Time taken: 00:00:05\n",
      "2021-01-26 05:15:47,516 Val Evaluator INFO: Engine run starting with max_epochs=1.\n",
      "2021-01-26 05:15:49,518 Val Evaluator INFO: Epoch[1] Complete. Time taken: 00:00:02\n",
      "2021-01-26 05:15:49,521 Val Evaluator INFO: Engine run complete. Time taken: 00:00:02\n",
      "\u001b[34m\u001b[1mwandb\u001b[0m: \u001b[33mWARNING\u001b[0m Step must only increase in log calls.  Step 281 < 1686; dropping {'lr/group_0': 0.001}.\n",
      "2021-01-26 05:15:49,529 Trainer INFO: Epoch[281] Complete. Time taken: 00:00:13\n"
     ]
    },
    {
     "name": "stdout",
     "output_type": "stream",
     "text": [
      "train loss 0.002699501338530574\n",
      "val loss 1.6120678072390349\n",
      "validation roc auc [0.73725124 0.63028607] 281\n",
      "train roc auc [1. 1.] 281\n"
     ]
    },
    {
     "name": "stderr",
     "output_type": "stream",
     "text": [
      "2021-01-26 05:15:54,953 Train Evaluator INFO: Engine run starting with max_epochs=1.\n",
      "2021-01-26 05:16:00,097 Train Evaluator INFO: Epoch[1] Complete. Time taken: 00:00:05\n",
      "2021-01-26 05:16:00,098 Train Evaluator INFO: Engine run complete. Time taken: 00:00:05\n",
      "2021-01-26 05:16:00,100 Val Evaluator INFO: Engine run starting with max_epochs=1.\n",
      "2021-01-26 05:16:02,036 Val Evaluator INFO: Epoch[1] Complete. Time taken: 00:00:02\n",
      "2021-01-26 05:16:02,039 Val Evaluator INFO: Engine run complete. Time taken: 00:00:02\n",
      "\u001b[34m\u001b[1mwandb\u001b[0m: \u001b[33mWARNING\u001b[0m Step must only increase in log calls.  Step 282 < 1692; dropping {'lr/group_0': 0.001}.\n",
      "2021-01-26 05:16:02,046 Trainer INFO: Epoch[282] Complete. Time taken: 00:00:13\n"
     ]
    },
    {
     "name": "stdout",
     "output_type": "stream",
     "text": [
      "train loss 0.002690695173840022\n",
      "val loss 1.7005932932314665\n",
      "validation roc auc [0.73507463 0.62826493] 282\n",
      "train roc auc [1. 1.] 282\n"
     ]
    },
    {
     "name": "stderr",
     "output_type": "stream",
     "text": [
      "2021-01-26 05:16:08,180 Train Evaluator INFO: Engine run starting with max_epochs=1.\n",
      "2021-01-26 05:16:14,844 Train Evaluator INFO: Epoch[1] Complete. Time taken: 00:00:07\n",
      "2021-01-26 05:16:14,846 Train Evaluator INFO: Engine run complete. Time taken: 00:00:07\n",
      "2021-01-26 05:16:14,847 Val Evaluator INFO: Engine run starting with max_epochs=1.\n",
      "2021-01-26 05:16:17,101 Val Evaluator INFO: Epoch[1] Complete. Time taken: 00:00:02\n",
      "2021-01-26 05:16:17,104 Val Evaluator INFO: Engine run complete. Time taken: 00:00:02\n",
      "\u001b[34m\u001b[1mwandb\u001b[0m: \u001b[33mWARNING\u001b[0m Step must only increase in log calls.  Step 283 < 1698; dropping {'lr/group_0': 0.001}.\n",
      "2021-01-26 05:16:17,114 Trainer INFO: Epoch[283] Complete. Time taken: 00:00:15\n"
     ]
    },
    {
     "name": "stdout",
     "output_type": "stream",
     "text": [
      "train loss 0.0026524175763042016\n",
      "val loss 1.6051485901293547\n",
      "validation roc auc [0.73756219 0.63028607] 283\n",
      "train roc auc [1. 1.] 283\n"
     ]
    },
    {
     "name": "stderr",
     "output_type": "stream",
     "text": [
      "2021-01-26 05:16:23,037 Train Evaluator INFO: Engine run starting with max_epochs=1.\n",
      "2021-01-26 05:16:28,970 Train Evaluator INFO: Epoch[1] Complete. Time taken: 00:00:06\n",
      "2021-01-26 05:16:28,973 Train Evaluator INFO: Engine run complete. Time taken: 00:00:06\n",
      "2021-01-26 05:16:28,974 Val Evaluator INFO: Engine run starting with max_epochs=1.\n",
      "2021-01-26 05:16:30,446 Val Evaluator INFO: Epoch[1] Complete. Time taken: 00:00:01\n",
      "2021-01-26 05:16:30,447 Val Evaluator INFO: Engine run complete. Time taken: 00:00:01\n",
      "\u001b[34m\u001b[1mwandb\u001b[0m: \u001b[33mWARNING\u001b[0m Step must only increase in log calls.  Step 284 < 1704; dropping {'lr/group_0': 0.001}.\n",
      "2021-01-26 05:16:30,454 Trainer INFO: Epoch[284] Complete. Time taken: 00:00:13\n"
     ]
    },
    {
     "name": "stdout",
     "output_type": "stream",
     "text": [
      "train loss 0.0026148789481000878\n",
      "val loss 1.6448673072068587\n",
      "validation roc auc [0.73569652 0.62997512] 284\n",
      "train roc auc [1. 1.] 284\n"
     ]
    },
    {
     "name": "stderr",
     "output_type": "stream",
     "text": [
      "2021-01-26 05:16:36,588 Train Evaluator INFO: Engine run starting with max_epochs=1.\n",
      "2021-01-26 05:16:42,263 Train Evaluator INFO: Epoch[1] Complete. Time taken: 00:00:06\n",
      "2021-01-26 05:16:42,267 Train Evaluator INFO: Engine run complete. Time taken: 00:00:06\n",
      "2021-01-26 05:16:42,268 Val Evaluator INFO: Engine run starting with max_epochs=1.\n",
      "2021-01-26 05:16:44,266 Val Evaluator INFO: Epoch[1] Complete. Time taken: 00:00:02\n",
      "2021-01-26 05:16:44,268 Val Evaluator INFO: Engine run complete. Time taken: 00:00:02\n",
      "\u001b[34m\u001b[1mwandb\u001b[0m: \u001b[33mWARNING\u001b[0m Step must only increase in log calls.  Step 285 < 1710; dropping {'lr/group_0': 0.001}.\n",
      "2021-01-26 05:16:44,275 Trainer INFO: Epoch[285] Complete. Time taken: 00:00:14\n"
     ]
    },
    {
     "name": "stdout",
     "output_type": "stream",
     "text": [
      "train loss 0.002590449000626097\n",
      "val loss 1.6656251368315325\n",
      "validation roc auc [0.73600746 0.62873134] 285\n",
      "train roc auc [1. 1.] 285\n"
     ]
    },
    {
     "name": "stderr",
     "output_type": "stream",
     "text": [
      "2021-01-26 05:16:49,869 Train Evaluator INFO: Engine run starting with max_epochs=1.\n",
      "2021-01-26 05:16:56,351 Train Evaluator INFO: Epoch[1] Complete. Time taken: 00:00:06\n",
      "2021-01-26 05:16:56,354 Train Evaluator INFO: Engine run complete. Time taken: 00:00:06\n",
      "2021-01-26 05:16:56,355 Val Evaluator INFO: Engine run starting with max_epochs=1.\n",
      "2021-01-26 05:16:58,320 Val Evaluator INFO: Epoch[1] Complete. Time taken: 00:00:02\n",
      "2021-01-26 05:16:58,321 Val Evaluator INFO: Engine run complete. Time taken: 00:00:02\n",
      "\u001b[34m\u001b[1mwandb\u001b[0m: \u001b[33mWARNING\u001b[0m Step must only increase in log calls.  Step 286 < 1716; dropping {'lr/group_0': 0.001}.\n",
      "2021-01-26 05:16:58,329 Trainer INFO: Epoch[286] Complete. Time taken: 00:00:14\n"
     ]
    },
    {
     "name": "stdout",
     "output_type": "stream",
     "text": [
      "train loss 0.0025643259052672155\n",
      "val loss 1.6613581895828247\n",
      "validation roc auc [0.73569652 0.62873134] 286\n",
      "train roc auc [1. 1.] 286\n"
     ]
    },
    {
     "name": "stderr",
     "output_type": "stream",
     "text": [
      "2021-01-26 05:17:05,312 Train Evaluator INFO: Engine run starting with max_epochs=1.\n",
      "2021-01-26 05:17:10,645 Train Evaluator INFO: Epoch[1] Complete. Time taken: 00:00:05\n",
      "2021-01-26 05:17:10,648 Train Evaluator INFO: Engine run complete. Time taken: 00:00:05\n",
      "2021-01-26 05:17:10,649 Val Evaluator INFO: Engine run starting with max_epochs=1.\n",
      "2021-01-26 05:17:12,282 Val Evaluator INFO: Epoch[1] Complete. Time taken: 00:00:02\n",
      "2021-01-26 05:17:12,284 Val Evaluator INFO: Engine run complete. Time taken: 00:00:02\n",
      "\u001b[34m\u001b[1mwandb\u001b[0m: \u001b[33mWARNING\u001b[0m Step must only increase in log calls.  Step 287 < 1722; dropping {'lr/group_0': 0.001}.\n",
      "2021-01-26 05:17:12,292 Trainer INFO: Epoch[287] Complete. Time taken: 00:00:14\n"
     ]
    },
    {
     "name": "stdout",
     "output_type": "stream",
     "text": [
      "train loss 0.002544691589159461\n",
      "val loss 1.6268064053162286\n",
      "validation roc auc [0.7369403  0.62997512] 287\n",
      "train roc auc [1. 1.] 287\n"
     ]
    },
    {
     "name": "stderr",
     "output_type": "stream",
     "text": [
      "2021-01-26 05:17:18,640 Train Evaluator INFO: Engine run starting with max_epochs=1.\n",
      "2021-01-26 05:17:24,825 Train Evaluator INFO: Epoch[1] Complete. Time taken: 00:00:06\n",
      "2021-01-26 05:17:24,827 Train Evaluator INFO: Engine run complete. Time taken: 00:00:06\n",
      "2021-01-26 05:17:24,828 Val Evaluator INFO: Engine run starting with max_epochs=1.\n",
      "2021-01-26 05:17:26,417 Val Evaluator INFO: Epoch[1] Complete. Time taken: 00:00:02\n",
      "2021-01-26 05:17:26,419 Val Evaluator INFO: Engine run complete. Time taken: 00:00:02\n",
      "\u001b[34m\u001b[1mwandb\u001b[0m: \u001b[33mWARNING\u001b[0m Step must only increase in log calls.  Step 288 < 1728; dropping {'lr/group_0': 0.001}.\n",
      "2021-01-26 05:17:26,426 Trainer INFO: Epoch[288] Complete. Time taken: 00:00:14\n"
     ]
    },
    {
     "name": "stdout",
     "output_type": "stream",
     "text": [
      "train loss 0.0025161383260239862\n",
      "val loss 1.6756694835165273\n",
      "validation roc auc [0.73600746 0.62873134] 288\n",
      "train roc auc [1. 1.] 288\n"
     ]
    },
    {
     "name": "stderr",
     "output_type": "stream",
     "text": [
      "2021-01-26 05:17:32,452 Train Evaluator INFO: Engine run starting with max_epochs=1.\n",
      "2021-01-26 05:17:38,531 Train Evaluator INFO: Epoch[1] Complete. Time taken: 00:00:06\n",
      "2021-01-26 05:17:38,534 Train Evaluator INFO: Engine run complete. Time taken: 00:00:06\n",
      "2021-01-26 05:17:38,536 Val Evaluator INFO: Engine run starting with max_epochs=1.\n",
      "2021-01-26 05:17:40,675 Val Evaluator INFO: Epoch[1] Complete. Time taken: 00:00:02\n",
      "2021-01-26 05:17:40,677 Val Evaluator INFO: Engine run complete. Time taken: 00:00:02\n",
      "\u001b[34m\u001b[1mwandb\u001b[0m: \u001b[33mWARNING\u001b[0m Step must only increase in log calls.  Step 289 < 1734; dropping {'lr/group_0': 0.001}.\n",
      "2021-01-26 05:17:40,686 Trainer INFO: Epoch[289] Complete. Time taken: 00:00:14\n"
     ]
    },
    {
     "name": "stdout",
     "output_type": "stream",
     "text": [
      "train loss 0.002494251480899178\n",
      "val loss 1.685314883356509\n",
      "validation roc auc [0.73538557 0.6284204 ] 289\n",
      "train roc auc [1. 1.] 289\n"
     ]
    },
    {
     "name": "stderr",
     "output_type": "stream",
     "text": [
      "2021-01-26 05:17:47,162 Train Evaluator INFO: Engine run starting with max_epochs=1.\n",
      "2021-01-26 05:17:53,099 Train Evaluator INFO: Epoch[1] Complete. Time taken: 00:00:06\n",
      "2021-01-26 05:17:53,102 Train Evaluator INFO: Engine run complete. Time taken: 00:00:06\n",
      "2021-01-26 05:17:53,103 Val Evaluator INFO: Engine run starting with max_epochs=1.\n",
      "2021-01-26 05:17:55,227 Val Evaluator INFO: Epoch[1] Complete. Time taken: 00:00:02\n",
      "2021-01-26 05:17:55,229 Val Evaluator INFO: Engine run complete. Time taken: 00:00:02\n",
      "\u001b[34m\u001b[1mwandb\u001b[0m: \u001b[33mWARNING\u001b[0m Step must only increase in log calls.  Step 290 < 1740; dropping {'lr/group_0': 0.001}.\n",
      "2021-01-26 05:17:55,236 Trainer INFO: Epoch[290] Complete. Time taken: 00:00:15\n"
     ]
    },
    {
     "name": "stdout",
     "output_type": "stream",
     "text": [
      "train loss 0.002476323576445675\n",
      "val loss 1.622969158836033\n",
      "validation roc auc [0.73631841 0.62966418] 290\n",
      "train roc auc [1. 1.] 290\n"
     ]
    },
    {
     "name": "stderr",
     "output_type": "stream",
     "text": [
      "2021-01-26 05:18:00,995 Train Evaluator INFO: Engine run starting with max_epochs=1.\n",
      "2021-01-26 05:18:06,693 Train Evaluator INFO: Epoch[1] Complete. Time taken: 00:00:06\n",
      "2021-01-26 05:18:06,695 Train Evaluator INFO: Engine run complete. Time taken: 00:00:06\n",
      "2021-01-26 05:18:06,696 Val Evaluator INFO: Engine run starting with max_epochs=1.\n",
      "2021-01-26 05:18:08,445 Val Evaluator INFO: Epoch[1] Complete. Time taken: 00:00:02\n",
      "2021-01-26 05:18:08,448 Val Evaluator INFO: Engine run complete. Time taken: 00:00:02\n",
      "\u001b[34m\u001b[1mwandb\u001b[0m: \u001b[33mWARNING\u001b[0m Step must only increase in log calls.  Step 291 < 1746; dropping {'lr/group_0': 0.001}.\n",
      "2021-01-26 05:18:08,456 Trainer INFO: Epoch[291] Complete. Time taken: 00:00:13\n"
     ]
    },
    {
     "name": "stdout",
     "output_type": "stream",
     "text": [
      "train loss 0.002442243768001449\n",
      "val loss 1.6640806115191915\n",
      "validation roc auc [0.73600746 0.62873134] 291\n",
      "train roc auc [1. 1.] 291\n"
     ]
    },
    {
     "name": "stderr",
     "output_type": "stream",
     "text": [
      "2021-01-26 05:18:14,329 Train Evaluator INFO: Engine run starting with max_epochs=1.\n",
      "2021-01-26 05:18:19,866 Train Evaluator INFO: Epoch[1] Complete. Time taken: 00:00:06\n",
      "2021-01-26 05:18:19,868 Train Evaluator INFO: Engine run complete. Time taken: 00:00:06\n",
      "2021-01-26 05:18:19,869 Val Evaluator INFO: Engine run starting with max_epochs=1.\n",
      "2021-01-26 05:18:21,416 Val Evaluator INFO: Epoch[1] Complete. Time taken: 00:00:02\n",
      "2021-01-26 05:18:21,418 Val Evaluator INFO: Engine run complete. Time taken: 00:00:02\n",
      "\u001b[34m\u001b[1mwandb\u001b[0m: \u001b[33mWARNING\u001b[0m Step must only increase in log calls.  Step 292 < 1752; dropping {'lr/group_0': 0.001}.\n",
      "2021-01-26 05:18:21,425 Trainer INFO: Epoch[292] Complete. Time taken: 00:00:13\n"
     ]
    },
    {
     "name": "stdout",
     "output_type": "stream",
     "text": [
      "train loss 0.00242759627303847\n",
      "val loss 1.7047037518542745\n",
      "validation roc auc [0.73383085 0.62748756] 292\n",
      "train roc auc [1. 1.] 292\n"
     ]
    },
    {
     "name": "stderr",
     "output_type": "stream",
     "text": [
      "2021-01-26 05:18:27,466 Train Evaluator INFO: Engine run starting with max_epochs=1.\n",
      "2021-01-26 05:18:32,631 Train Evaluator INFO: Epoch[1] Complete. Time taken: 00:00:05\n",
      "2021-01-26 05:18:32,632 Train Evaluator INFO: Engine run complete. Time taken: 00:00:05\n",
      "2021-01-26 05:18:32,633 Val Evaluator INFO: Engine run starting with max_epochs=1.\n",
      "2021-01-26 05:18:34,620 Val Evaluator INFO: Epoch[1] Complete. Time taken: 00:00:02\n",
      "2021-01-26 05:18:34,623 Val Evaluator INFO: Engine run complete. Time taken: 00:00:02\n",
      "\u001b[34m\u001b[1mwandb\u001b[0m: \u001b[33mWARNING\u001b[0m Step must only increase in log calls.  Step 293 < 1758; dropping {'lr/group_0': 0.001}.\n",
      "2021-01-26 05:18:34,631 Trainer INFO: Epoch[293] Complete. Time taken: 00:00:13\n"
     ]
    },
    {
     "name": "stdout",
     "output_type": "stream",
     "text": [
      "train loss 0.0023999517017523567\n",
      "val loss 1.6454431813696155\n",
      "validation roc auc [0.73600746 0.62904229] 293\n",
      "train roc auc [1. 1.] 293\n"
     ]
    },
    {
     "name": "stderr",
     "output_type": "stream",
     "text": [
      "2021-01-26 05:18:40,550 Train Evaluator INFO: Engine run starting with max_epochs=1.\n",
      "2021-01-26 05:18:46,128 Train Evaluator INFO: Epoch[1] Complete. Time taken: 00:00:06\n",
      "2021-01-26 05:18:46,130 Train Evaluator INFO: Engine run complete. Time taken: 00:00:06\n",
      "2021-01-26 05:18:46,131 Val Evaluator INFO: Engine run starting with max_epochs=1.\n",
      "2021-01-26 05:18:47,629 Val Evaluator INFO: Epoch[1] Complete. Time taken: 00:00:01\n",
      "2021-01-26 05:18:47,631 Val Evaluator INFO: Engine run complete. Time taken: 00:00:01\n",
      "\u001b[34m\u001b[1mwandb\u001b[0m: \u001b[33mWARNING\u001b[0m Step must only increase in log calls.  Step 294 < 1764; dropping {'lr/group_0': 0.001}.\n",
      "2021-01-26 05:18:47,639 Trainer INFO: Epoch[294] Complete. Time taken: 00:00:13\n"
     ]
    },
    {
     "name": "stdout",
     "output_type": "stream",
     "text": [
      "train loss 0.0023757415250516855\n",
      "val loss 1.6890891925148341\n",
      "validation roc auc [0.73445274 0.62873134] 294\n",
      "train roc auc [1. 1.] 294\n"
     ]
    },
    {
     "name": "stderr",
     "output_type": "stream",
     "text": [
      "2021-01-26 05:18:54,302 Train Evaluator INFO: Engine run starting with max_epochs=1.\n",
      "2021-01-26 05:18:59,995 Train Evaluator INFO: Epoch[1] Complete. Time taken: 00:00:06\n",
      "2021-01-26 05:18:59,998 Train Evaluator INFO: Engine run complete. Time taken: 00:00:06\n",
      "2021-01-26 05:18:59,999 Val Evaluator INFO: Engine run starting with max_epochs=1.\n",
      "2021-01-26 05:19:01,914 Val Evaluator INFO: Epoch[1] Complete. Time taken: 00:00:02\n",
      "2021-01-26 05:19:01,916 Val Evaluator INFO: Engine run complete. Time taken: 00:00:02\n",
      "\u001b[34m\u001b[1mwandb\u001b[0m: \u001b[33mWARNING\u001b[0m Step must only increase in log calls.  Step 295 < 1770; dropping {'lr/group_0': 0.001}.\n",
      "2021-01-26 05:19:01,923 Trainer INFO: Epoch[295] Complete. Time taken: 00:00:14\n"
     ]
    },
    {
     "name": "stdout",
     "output_type": "stream",
     "text": [
      "train loss 0.0023547075041321784\n",
      "val loss 1.6506035763284435\n",
      "validation roc auc [0.73538557 0.62904229] 295\n",
      "train roc auc [1. 1.] 295\n"
     ]
    },
    {
     "name": "stderr",
     "output_type": "stream",
     "text": [
      "2021-01-26 05:19:07,364 Train Evaluator INFO: Engine run starting with max_epochs=1.\n",
      "2021-01-26 05:19:11,960 Train Evaluator INFO: Epoch[1] Complete. Time taken: 00:00:05\n",
      "2021-01-26 05:19:11,962 Train Evaluator INFO: Engine run complete. Time taken: 00:00:05\n",
      "2021-01-26 05:19:11,963 Val Evaluator INFO: Engine run starting with max_epochs=1.\n",
      "2021-01-26 05:19:13,810 Val Evaluator INFO: Epoch[1] Complete. Time taken: 00:00:02\n",
      "2021-01-26 05:19:13,811 Val Evaluator INFO: Engine run complete. Time taken: 00:00:02\n",
      "\u001b[34m\u001b[1mwandb\u001b[0m: \u001b[33mWARNING\u001b[0m Step must only increase in log calls.  Step 296 < 1776; dropping {'lr/group_0': 0.001}.\n",
      "2021-01-26 05:19:13,818 Trainer INFO: Epoch[296] Complete. Time taken: 00:00:12\n"
     ]
    },
    {
     "name": "stdout",
     "output_type": "stream",
     "text": [
      "train loss 0.0023291042679369715\n",
      "val loss 1.6819354202436365\n",
      "validation roc auc [0.73414179 0.62873134] 296\n",
      "train roc auc [1. 1.] 296\n"
     ]
    },
    {
     "name": "stderr",
     "output_type": "stream",
     "text": [
      "2021-01-26 05:19:19,490 Train Evaluator INFO: Engine run starting with max_epochs=1.\n",
      "2021-01-26 05:19:24,502 Train Evaluator INFO: Epoch[1] Complete. Time taken: 00:00:05\n",
      "2021-01-26 05:19:24,505 Train Evaluator INFO: Engine run complete. Time taken: 00:00:05\n",
      "2021-01-26 05:19:24,506 Val Evaluator INFO: Engine run starting with max_epochs=1.\n",
      "2021-01-26 05:19:26,867 Val Evaluator INFO: Epoch[1] Complete. Time taken: 00:00:02\n",
      "2021-01-26 05:19:26,869 Val Evaluator INFO: Engine run complete. Time taken: 00:00:02\n",
      "\u001b[34m\u001b[1mwandb\u001b[0m: \u001b[33mWARNING\u001b[0m Step must only increase in log calls.  Step 297 < 1782; dropping {'lr/group_0': 0.001}.\n",
      "2021-01-26 05:19:26,876 Trainer INFO: Epoch[297] Complete. Time taken: 00:00:13\n"
     ]
    },
    {
     "name": "stdout",
     "output_type": "stream",
     "text": [
      "train loss 0.0023122012295578357\n",
      "val loss 1.7081750786822776\n",
      "validation roc auc [0.73258706 0.62717662] 297\n",
      "train roc auc [1. 1.] 297\n"
     ]
    },
    {
     "name": "stderr",
     "output_type": "stream",
     "text": [
      "2021-01-26 05:19:32,376 Train Evaluator INFO: Engine run starting with max_epochs=1.\n",
      "2021-01-26 05:19:37,585 Train Evaluator INFO: Epoch[1] Complete. Time taken: 00:00:05\n",
      "2021-01-26 05:19:37,588 Train Evaluator INFO: Engine run complete. Time taken: 00:00:05\n",
      "2021-01-26 05:19:37,589 Val Evaluator INFO: Engine run starting with max_epochs=1.\n",
      "2021-01-26 05:19:39,409 Val Evaluator INFO: Epoch[1] Complete. Time taken: 00:00:02\n",
      "2021-01-26 05:19:39,410 Val Evaluator INFO: Engine run complete. Time taken: 00:00:02\n",
      "\u001b[34m\u001b[1mwandb\u001b[0m: \u001b[33mWARNING\u001b[0m Step must only increase in log calls.  Step 298 < 1788; dropping {'lr/group_0': 0.001}.\n",
      "2021-01-26 05:19:39,418 Trainer INFO: Epoch[298] Complete. Time taken: 00:00:13\n"
     ]
    },
    {
     "name": "stdout",
     "output_type": "stream",
     "text": [
      "train loss 0.002297841655861961\n",
      "val loss 1.6367420580076135\n",
      "validation roc auc [0.73476368 0.63028607] 298\n",
      "train roc auc [1. 1.] 298\n"
     ]
    },
    {
     "name": "stderr",
     "output_type": "stream",
     "text": [
      "2021-01-26 05:19:44,478 Train Evaluator INFO: Engine run starting with max_epochs=1.\n",
      "2021-01-26 05:19:49,556 Train Evaluator INFO: Epoch[1] Complete. Time taken: 00:00:05\n",
      "2021-01-26 05:19:49,558 Train Evaluator INFO: Engine run complete. Time taken: 00:00:05\n",
      "2021-01-26 05:19:49,559 Val Evaluator INFO: Engine run starting with max_epochs=1.\n",
      "2021-01-26 05:19:51,656 Val Evaluator INFO: Epoch[1] Complete. Time taken: 00:00:02\n",
      "2021-01-26 05:19:51,659 Val Evaluator INFO: Engine run complete. Time taken: 00:00:02\n",
      "\u001b[34m\u001b[1mwandb\u001b[0m: \u001b[33mWARNING\u001b[0m Step must only increase in log calls.  Step 299 < 1794; dropping {'lr/group_0': 0.001}.\n",
      "2021-01-26 05:19:51,666 Trainer INFO: Epoch[299] Complete. Time taken: 00:00:12\n"
     ]
    },
    {
     "name": "stdout",
     "output_type": "stream",
     "text": [
      "train loss 0.002265904028486659\n",
      "val loss 1.6997197959734045\n",
      "validation roc auc [0.73320896 0.62779851] 299\n",
      "train roc auc [1. 1.] 299\n"
     ]
    },
    {
     "name": "stderr",
     "output_type": "stream",
     "text": [
      "2021-01-26 05:19:56,465 Train Evaluator INFO: Engine run starting with max_epochs=1.\n",
      "2021-01-26 05:20:00,745 Train Evaluator INFO: Epoch[1] Complete. Time taken: 00:00:04\n",
      "2021-01-26 05:20:00,747 Train Evaluator INFO: Engine run complete. Time taken: 00:00:04\n",
      "2021-01-26 05:20:00,748 Val Evaluator INFO: Engine run starting with max_epochs=1.\n",
      "2021-01-26 05:20:02,704 Val Evaluator INFO: Epoch[1] Complete. Time taken: 00:00:02\n",
      "2021-01-26 05:20:02,706 Val Evaluator INFO: Engine run complete. Time taken: 00:00:02\n",
      "\u001b[34m\u001b[1mwandb\u001b[0m: \u001b[33mWARNING\u001b[0m Step must only increase in log calls.  Step 300 < 1800; dropping {'lr/group_0': 0.001}.\n",
      "2021-01-26 05:20:02,713 Trainer INFO: Epoch[300] Complete. Time taken: 00:00:11\n"
     ]
    },
    {
     "name": "stdout",
     "output_type": "stream",
     "text": [
      "train loss 0.002253509322236452\n",
      "val loss 1.726072933362878\n",
      "validation roc auc [0.73227612 0.62655473] 300\n",
      "train roc auc [1. 1.] 300\n"
     ]
    },
    {
     "name": "stderr",
     "output_type": "stream",
     "text": [
      "2021-01-26 05:20:08,167 Train Evaluator INFO: Engine run starting with max_epochs=1.\n",
      "2021-01-26 05:20:12,500 Train Evaluator INFO: Epoch[1] Complete. Time taken: 00:00:04\n",
      "2021-01-26 05:20:12,503 Train Evaluator INFO: Engine run complete. Time taken: 00:00:04\n",
      "2021-01-26 05:20:12,505 Val Evaluator INFO: Engine run starting with max_epochs=1.\n",
      "2021-01-26 05:20:14,229 Val Evaluator INFO: Epoch[1] Complete. Time taken: 00:00:02\n",
      "2021-01-26 05:20:14,231 Val Evaluator INFO: Engine run complete. Time taken: 00:00:02\n",
      "\u001b[34m\u001b[1mwandb\u001b[0m: \u001b[33mWARNING\u001b[0m Step must only increase in log calls.  Step 301 < 1806; dropping {'lr/group_0': 0.001}.\n",
      "2021-01-26 05:20:14,240 Trainer INFO: Epoch[301] Complete. Time taken: 00:00:12\n"
     ]
    },
    {
     "name": "stdout",
     "output_type": "stream",
     "text": [
      "train loss 0.002227600249213844\n",
      "val loss 1.6608889828557554\n",
      "validation roc auc [0.73445274 0.62904229] 301\n",
      "train roc auc [1. 1.] 301\n"
     ]
    },
    {
     "name": "stderr",
     "output_type": "stream",
     "text": [
      "2021-01-26 05:20:18,897 Train Evaluator INFO: Engine run starting with max_epochs=1.\n",
      "2021-01-26 05:20:24,215 Train Evaluator INFO: Epoch[1] Complete. Time taken: 00:00:05\n",
      "2021-01-26 05:20:24,218 Train Evaluator INFO: Engine run complete. Time taken: 00:00:05\n",
      "2021-01-26 05:20:24,219 Val Evaluator INFO: Engine run starting with max_epochs=1.\n",
      "2021-01-26 05:20:26,004 Val Evaluator INFO: Epoch[1] Complete. Time taken: 00:00:02\n",
      "2021-01-26 05:20:26,006 Val Evaluator INFO: Engine run complete. Time taken: 00:00:02\n",
      "\u001b[34m\u001b[1mwandb\u001b[0m: \u001b[33mWARNING\u001b[0m Step must only increase in log calls.  Step 302 < 1812; dropping {'lr/group_0': 0.001}.\n",
      "2021-01-26 05:20:26,015 Trainer INFO: Epoch[302] Complete. Time taken: 00:00:12\n"
     ]
    },
    {
     "name": "stdout",
     "output_type": "stream",
     "text": [
      "train loss 0.002205603694703055\n",
      "val loss 1.6689013636630514\n",
      "validation roc auc [0.73445274 0.62904229] 302\n",
      "train roc auc [1. 1.] 302\n"
     ]
    },
    {
     "name": "stderr",
     "output_type": "stream",
     "text": [
      "2021-01-26 05:20:30,367 Train Evaluator INFO: Engine run starting with max_epochs=1.\n",
      "2021-01-26 05:20:34,889 Train Evaluator INFO: Epoch[1] Complete. Time taken: 00:00:05\n",
      "2021-01-26 05:20:34,892 Train Evaluator INFO: Engine run complete. Time taken: 00:00:05\n",
      "2021-01-26 05:20:34,893 Val Evaluator INFO: Engine run starting with max_epochs=1.\n",
      "2021-01-26 05:20:36,282 Val Evaluator INFO: Epoch[1] Complete. Time taken: 00:00:01\n",
      "2021-01-26 05:20:36,284 Val Evaluator INFO: Engine run complete. Time taken: 00:00:01\n",
      "\u001b[34m\u001b[1mwandb\u001b[0m: \u001b[33mWARNING\u001b[0m Step must only increase in log calls.  Step 303 < 1818; dropping {'lr/group_0': 0.001}.\n",
      "2021-01-26 05:20:36,292 Trainer INFO: Epoch[303] Complete. Time taken: 00:00:10\n"
     ]
    },
    {
     "name": "stdout",
     "output_type": "stream",
     "text": [
      "train loss 0.0021881959511286762\n",
      "val loss 1.7244982698689337\n",
      "validation roc auc [0.73227612 0.62717662] 303\n",
      "train roc auc [1. 1.] 303\n"
     ]
    },
    {
     "name": "stderr",
     "output_type": "stream",
     "text": [
      "2021-01-26 05:20:41,429 Train Evaluator INFO: Engine run starting with max_epochs=1.\n",
      "2021-01-26 05:20:45,900 Train Evaluator INFO: Epoch[1] Complete. Time taken: 00:00:04\n",
      "2021-01-26 05:20:45,902 Train Evaluator INFO: Engine run complete. Time taken: 00:00:04\n",
      "2021-01-26 05:20:45,903 Val Evaluator INFO: Engine run starting with max_epochs=1.\n",
      "2021-01-26 05:20:47,585 Val Evaluator INFO: Epoch[1] Complete. Time taken: 00:00:02\n",
      "2021-01-26 05:20:47,586 Val Evaluator INFO: Engine run complete. Time taken: 00:00:02\n",
      "\u001b[34m\u001b[1mwandb\u001b[0m: \u001b[33mWARNING\u001b[0m Step must only increase in log calls.  Step 304 < 1824; dropping {'lr/group_0': 0.001}.\n",
      "2021-01-26 05:20:47,593 Trainer INFO: Epoch[304] Complete. Time taken: 00:00:11\n"
     ]
    },
    {
     "name": "stdout",
     "output_type": "stream",
     "text": [
      "train loss 0.0021625778289269325\n",
      "val loss 1.6948541402816772\n",
      "validation roc auc [0.73320896 0.62873134] 304\n",
      "train roc auc [1. 1.] 304\n"
     ]
    },
    {
     "name": "stderr",
     "output_type": "stream",
     "text": [
      "2021-01-26 05:20:52,675 Train Evaluator INFO: Engine run starting with max_epochs=1.\n",
      "2021-01-26 05:20:57,978 Train Evaluator INFO: Epoch[1] Complete. Time taken: 00:00:05\n",
      "2021-01-26 05:20:57,981 Train Evaluator INFO: Engine run complete. Time taken: 00:00:05\n",
      "2021-01-26 05:20:57,982 Val Evaluator INFO: Engine run starting with max_epochs=1.\n",
      "2021-01-26 05:20:59,908 Val Evaluator INFO: Epoch[1] Complete. Time taken: 00:00:02\n",
      "2021-01-26 05:20:59,910 Val Evaluator INFO: Engine run complete. Time taken: 00:00:02\n",
      "\u001b[34m\u001b[1mwandb\u001b[0m: \u001b[33mWARNING\u001b[0m Step must only increase in log calls.  Step 305 < 1830; dropping {'lr/group_0': 0.001}.\n",
      "2021-01-26 05:20:59,917 Trainer INFO: Epoch[305] Complete. Time taken: 00:00:12\n"
     ]
    },
    {
     "name": "stdout",
     "output_type": "stream",
     "text": [
      "train loss 0.0021432373547353423\n",
      "val loss 1.6987319998119188\n",
      "validation roc auc [0.73320896 0.62810945] 305\n",
      "train roc auc [1. 1.] 305\n"
     ]
    },
    {
     "name": "stderr",
     "output_type": "stream",
     "text": [
      "2021-01-26 05:21:05,559 Train Evaluator INFO: Engine run starting with max_epochs=1.\n",
      "2021-01-26 05:21:10,587 Train Evaluator INFO: Epoch[1] Complete. Time taken: 00:00:05\n",
      "2021-01-26 05:21:10,589 Train Evaluator INFO: Engine run complete. Time taken: 00:00:05\n",
      "2021-01-26 05:21:10,590 Val Evaluator INFO: Engine run starting with max_epochs=1.\n",
      "2021-01-26 05:21:12,609 Val Evaluator INFO: Epoch[1] Complete. Time taken: 00:00:02\n",
      "2021-01-26 05:21:12,612 Val Evaluator INFO: Engine run complete. Time taken: 00:00:02\n",
      "\u001b[34m\u001b[1mwandb\u001b[0m: \u001b[33mWARNING\u001b[0m Step must only increase in log calls.  Step 306 < 1836; dropping {'lr/group_0': 0.001}.\n",
      "2021-01-26 05:21:12,620 Trainer INFO: Epoch[306] Complete. Time taken: 00:00:13\n"
     ]
    },
    {
     "name": "stdout",
     "output_type": "stream",
     "text": [
      "train loss 0.002129033108699251\n",
      "val loss 1.6687698063643082\n",
      "validation roc auc [0.73320896 0.62966418] 306\n",
      "train roc auc [1. 1.] 306\n"
     ]
    },
    {
     "name": "stderr",
     "output_type": "stream",
     "text": [
      "2021-01-26 05:21:18,466 Train Evaluator INFO: Engine run starting with max_epochs=1.\n",
      "2021-01-26 05:21:24,002 Train Evaluator INFO: Epoch[1] Complete. Time taken: 00:00:06\n",
      "2021-01-26 05:21:24,005 Train Evaluator INFO: Engine run complete. Time taken: 00:00:06\n",
      "2021-01-26 05:21:24,006 Val Evaluator INFO: Engine run starting with max_epochs=1.\n",
      "2021-01-26 05:21:25,724 Val Evaluator INFO: Epoch[1] Complete. Time taken: 00:00:02\n",
      "2021-01-26 05:21:25,726 Val Evaluator INFO: Engine run complete. Time taken: 00:00:02\n",
      "\u001b[34m\u001b[1mwandb\u001b[0m: \u001b[33mWARNING\u001b[0m Step must only increase in log calls.  Step 307 < 1842; dropping {'lr/group_0': 0.001}.\n",
      "2021-01-26 05:21:25,733 Trainer INFO: Epoch[307] Complete. Time taken: 00:00:13\n"
     ]
    },
    {
     "name": "stdout",
     "output_type": "stream",
     "text": [
      "train loss 0.0021057205829912652\n",
      "val loss 1.716832651262698\n",
      "validation roc auc [0.73289801 0.62779851] 307\n",
      "train roc auc [1. 1.] 307\n"
     ]
    },
    {
     "name": "stderr",
     "output_type": "stream",
     "text": [
      "2021-01-26 05:21:31,287 Train Evaluator INFO: Engine run starting with max_epochs=1.\n",
      "2021-01-26 05:21:36,541 Train Evaluator INFO: Epoch[1] Complete. Time taken: 00:00:05\n",
      "2021-01-26 05:21:36,544 Train Evaluator INFO: Engine run complete. Time taken: 00:00:05\n",
      "2021-01-26 05:21:36,546 Val Evaluator INFO: Engine run starting with max_epochs=1.\n",
      "2021-01-26 05:21:38,228 Val Evaluator INFO: Epoch[1] Complete. Time taken: 00:00:02\n",
      "2021-01-26 05:21:38,230 Val Evaluator INFO: Engine run complete. Time taken: 00:00:02\n",
      "\u001b[34m\u001b[1mwandb\u001b[0m: \u001b[33mWARNING\u001b[0m Step must only increase in log calls.  Step 308 < 1848; dropping {'lr/group_0': 0.001}.\n",
      "2021-01-26 05:21:38,237 Trainer INFO: Epoch[308] Complete. Time taken: 00:00:13\n"
     ]
    },
    {
     "name": "stdout",
     "output_type": "stream",
     "text": [
      "train loss 0.002085987238086672\n",
      "val loss 1.7133156880088474\n",
      "validation roc auc [0.73289801 0.62810945] 308\n",
      "train roc auc [1. 1.] 308\n"
     ]
    },
    {
     "name": "stderr",
     "output_type": "stream",
     "text": [
      "2021-01-26 05:21:43,873 Train Evaluator INFO: Engine run starting with max_epochs=1.\n",
      "2021-01-26 05:21:49,345 Train Evaluator INFO: Epoch[1] Complete. Time taken: 00:00:05\n",
      "2021-01-26 05:21:49,348 Train Evaluator INFO: Engine run complete. Time taken: 00:00:05\n",
      "2021-01-26 05:21:49,349 Val Evaluator INFO: Engine run starting with max_epochs=1.\n",
      "2021-01-26 05:21:51,460 Val Evaluator INFO: Epoch[1] Complete. Time taken: 00:00:02\n",
      "2021-01-26 05:21:51,461 Val Evaluator INFO: Engine run complete. Time taken: 00:00:02\n",
      "\u001b[34m\u001b[1mwandb\u001b[0m: \u001b[33mWARNING\u001b[0m Step must only increase in log calls.  Step 309 < 1854; dropping {'lr/group_0': 0.001}.\n",
      "2021-01-26 05:21:51,470 Trainer INFO: Epoch[309] Complete. Time taken: 00:00:13\n"
     ]
    },
    {
     "name": "stdout",
     "output_type": "stream",
     "text": [
      "train loss 0.002068480101314831\n",
      "val loss 1.7216879398926446\n",
      "validation roc auc [0.73289801 0.62779851] 309\n",
      "train roc auc [1. 1.] 309\n"
     ]
    },
    {
     "name": "stderr",
     "output_type": "stream",
     "text": [
      "2021-01-26 05:21:56,689 Train Evaluator INFO: Engine run starting with max_epochs=1.\n",
      "2021-01-26 05:22:01,222 Train Evaluator INFO: Epoch[1] Complete. Time taken: 00:00:05\n",
      "2021-01-26 05:22:01,224 Train Evaluator INFO: Engine run complete. Time taken: 00:00:05\n",
      "2021-01-26 05:22:01,225 Val Evaluator INFO: Engine run starting with max_epochs=1.\n",
      "2021-01-26 05:22:03,054 Val Evaluator INFO: Epoch[1] Complete. Time taken: 00:00:02\n",
      "2021-01-26 05:22:03,056 Val Evaluator INFO: Engine run complete. Time taken: 00:00:02\n",
      "\u001b[34m\u001b[1mwandb\u001b[0m: \u001b[33mWARNING\u001b[0m Step must only increase in log calls.  Step 310 < 1860; dropping {'lr/group_0': 0.001}.\n",
      "2021-01-26 05:22:03,063 Trainer INFO: Epoch[310] Complete. Time taken: 00:00:12\n"
     ]
    },
    {
     "name": "stdout",
     "output_type": "stream",
     "text": [
      "train loss 0.0020502538560784956\n",
      "val loss 1.689655476031096\n",
      "validation roc auc [0.73258706 0.62904229] 310\n",
      "train roc auc [1. 1.] 310\n"
     ]
    },
    {
     "name": "stderr",
     "output_type": "stream",
     "text": [
      "2021-01-26 05:22:08,579 Train Evaluator INFO: Engine run starting with max_epochs=1.\n",
      "2021-01-26 05:22:13,298 Train Evaluator INFO: Epoch[1] Complete. Time taken: 00:00:05\n",
      "2021-01-26 05:22:13,301 Train Evaluator INFO: Engine run complete. Time taken: 00:00:05\n",
      "2021-01-26 05:22:13,302 Val Evaluator INFO: Engine run starting with max_epochs=1.\n",
      "2021-01-26 05:22:14,694 Val Evaluator INFO: Epoch[1] Complete. Time taken: 00:00:01\n",
      "2021-01-26 05:22:14,696 Val Evaluator INFO: Engine run complete. Time taken: 00:00:01\n",
      "\u001b[34m\u001b[1mwandb\u001b[0m: \u001b[33mWARNING\u001b[0m Step must only increase in log calls.  Step 311 < 1866; dropping {'lr/group_0': 0.001}.\n",
      "2021-01-26 05:22:14,704 Trainer INFO: Epoch[311] Complete. Time taken: 00:00:12\n"
     ]
    },
    {
     "name": "stdout",
     "output_type": "stream",
     "text": [
      "train loss 0.002031055572525372\n",
      "val loss 1.7237501154775206\n",
      "validation roc auc [0.73258706 0.62748756] 311\n",
      "train roc auc [1. 1.] 311\n"
     ]
    },
    {
     "name": "stderr",
     "output_type": "stream",
     "text": [
      "2021-01-26 05:22:20,554 Train Evaluator INFO: Engine run starting with max_epochs=1.\n",
      "2021-01-26 05:22:25,547 Train Evaluator INFO: Epoch[1] Complete. Time taken: 00:00:05\n",
      "2021-01-26 05:22:25,550 Train Evaluator INFO: Engine run complete. Time taken: 00:00:05\n",
      "2021-01-26 05:22:25,551 Val Evaluator INFO: Engine run starting with max_epochs=1.\n",
      "2021-01-26 05:22:27,299 Val Evaluator INFO: Epoch[1] Complete. Time taken: 00:00:02\n",
      "2021-01-26 05:22:27,301 Val Evaluator INFO: Engine run complete. Time taken: 00:00:02\n",
      "\u001b[34m\u001b[1mwandb\u001b[0m: \u001b[33mWARNING\u001b[0m Step must only increase in log calls.  Step 312 < 1872; dropping {'lr/group_0': 0.001}.\n",
      "2021-01-26 05:22:27,311 Trainer INFO: Epoch[312] Complete. Time taken: 00:00:13\n"
     ]
    },
    {
     "name": "stdout",
     "output_type": "stream",
     "text": [
      "train loss 0.0020122530480251597\n",
      "val loss 1.7166073591812798\n",
      "validation roc auc [0.73289801 0.62748756] 312\n",
      "train roc auc [1. 1.] 312\n"
     ]
    },
    {
     "name": "stderr",
     "output_type": "stream",
     "text": [
      "2021-01-26 05:22:32,830 Train Evaluator INFO: Engine run starting with max_epochs=1.\n",
      "2021-01-26 05:22:38,627 Train Evaluator INFO: Epoch[1] Complete. Time taken: 00:00:06\n",
      "2021-01-26 05:22:38,630 Train Evaluator INFO: Engine run complete. Time taken: 00:00:06\n",
      "2021-01-26 05:22:38,632 Val Evaluator INFO: Engine run starting with max_epochs=1.\n",
      "2021-01-26 05:22:40,102 Val Evaluator INFO: Epoch[1] Complete. Time taken: 00:00:01\n",
      "2021-01-26 05:22:40,104 Val Evaluator INFO: Engine run complete. Time taken: 00:00:01\n",
      "\u001b[34m\u001b[1mwandb\u001b[0m: \u001b[33mWARNING\u001b[0m Step must only increase in log calls.  Step 313 < 1878; dropping {'lr/group_0': 0.001}.\n",
      "2021-01-26 05:22:40,111 Trainer INFO: Epoch[313] Complete. Time taken: 00:00:13\n"
     ]
    },
    {
     "name": "stdout",
     "output_type": "stream",
     "text": [
      "train loss 0.0019943945195261365\n",
      "val loss 1.7156607171763545\n",
      "validation roc auc [0.73289801 0.62748756] 313\n",
      "train roc auc [1. 1.] 313\n"
     ]
    },
    {
     "name": "stderr",
     "output_type": "stream",
     "text": [
      "2021-01-26 05:22:44,905 Train Evaluator INFO: Engine run starting with max_epochs=1.\n",
      "2021-01-26 05:22:49,829 Train Evaluator INFO: Epoch[1] Complete. Time taken: 00:00:05\n",
      "2021-01-26 05:22:49,831 Train Evaluator INFO: Engine run complete. Time taken: 00:00:05\n",
      "2021-01-26 05:22:49,832 Val Evaluator INFO: Engine run starting with max_epochs=1.\n",
      "2021-01-26 05:22:51,498 Val Evaluator INFO: Epoch[1] Complete. Time taken: 00:00:02\n",
      "2021-01-26 05:22:51,504 Val Evaluator INFO: Engine run complete. Time taken: 00:00:02\n",
      "\u001b[34m\u001b[1mwandb\u001b[0m: \u001b[33mWARNING\u001b[0m Step must only increase in log calls.  Step 314 < 1884; dropping {'lr/group_0': 0.001}.\n",
      "2021-01-26 05:22:51,512 Trainer INFO: Epoch[314] Complete. Time taken: 00:00:11\n"
     ]
    },
    {
     "name": "stdout",
     "output_type": "stream",
     "text": [
      "train loss 0.0019779700473138303\n",
      "val loss 1.7308381671490876\n",
      "validation roc auc [0.73258706 0.62655473] 314\n",
      "train roc auc [1. 1.] 314\n"
     ]
    },
    {
     "name": "stderr",
     "output_type": "stream",
     "text": [
      "2021-01-26 05:22:56,492 Train Evaluator INFO: Engine run starting with max_epochs=1.\n",
      "2021-01-26 05:23:00,661 Train Evaluator INFO: Epoch[1] Complete. Time taken: 00:00:04\n",
      "2021-01-26 05:23:00,664 Train Evaluator INFO: Engine run complete. Time taken: 00:00:04\n",
      "2021-01-26 05:23:00,665 Val Evaluator INFO: Engine run starting with max_epochs=1.\n",
      "2021-01-26 05:23:02,459 Val Evaluator INFO: Epoch[1] Complete. Time taken: 00:00:02\n",
      "2021-01-26 05:23:02,461 Val Evaluator INFO: Engine run complete. Time taken: 00:00:02\n",
      "\u001b[34m\u001b[1mwandb\u001b[0m: \u001b[33mWARNING\u001b[0m Step must only increase in log calls.  Step 315 < 1890; dropping {'lr/group_0': 0.001}.\n",
      "2021-01-26 05:23:02,469 Trainer INFO: Epoch[315] Complete. Time taken: 00:00:11\n"
     ]
    },
    {
     "name": "stdout",
     "output_type": "stream",
     "text": [
      "train loss 0.001962130501475075\n",
      "val loss 1.696431947791058\n",
      "validation roc auc [0.73289801 0.62873134] 315\n",
      "train roc auc [1. 1.] 315\n"
     ]
    },
    {
     "name": "stderr",
     "output_type": "stream",
     "text": [
      "2021-01-26 05:23:07,074 Train Evaluator INFO: Engine run starting with max_epochs=1.\n",
      "2021-01-26 05:23:12,422 Train Evaluator INFO: Epoch[1] Complete. Time taken: 00:00:05\n",
      "2021-01-26 05:23:12,425 Train Evaluator INFO: Engine run complete. Time taken: 00:00:05\n",
      "2021-01-26 05:23:12,426 Val Evaluator INFO: Engine run starting with max_epochs=1.\n",
      "2021-01-26 05:23:13,851 Val Evaluator INFO: Epoch[1] Complete. Time taken: 00:00:01\n",
      "2021-01-26 05:23:13,854 Val Evaluator INFO: Engine run complete. Time taken: 00:00:01\n",
      "\u001b[34m\u001b[1mwandb\u001b[0m: \u001b[33mWARNING\u001b[0m Step must only increase in log calls.  Step 316 < 1896; dropping {'lr/group_0': 0.001}.\n",
      "2021-01-26 05:23:13,862 Trainer INFO: Epoch[316] Complete. Time taken: 00:00:11\n"
     ]
    },
    {
     "name": "stdout",
     "output_type": "stream",
     "text": [
      "train loss 0.0019434540244590865\n",
      "val loss 1.7381264209747314\n",
      "validation roc auc [0.73227612 0.62655473] 316\n",
      "train roc auc [1. 1.] 316\n"
     ]
    },
    {
     "name": "stderr",
     "output_type": "stream",
     "text": [
      "2021-01-26 05:23:18,542 Train Evaluator INFO: Engine run starting with max_epochs=1.\n",
      "2021-01-26 05:23:23,613 Train Evaluator INFO: Epoch[1] Complete. Time taken: 00:00:05\n",
      "2021-01-26 05:23:23,615 Train Evaluator INFO: Engine run complete. Time taken: 00:00:05\n",
      "2021-01-26 05:23:23,617 Val Evaluator INFO: Engine run starting with max_epochs=1.\n",
      "2021-01-26 05:23:25,598 Val Evaluator INFO: Epoch[1] Complete. Time taken: 00:00:02\n",
      "2021-01-26 05:23:25,600 Val Evaluator INFO: Engine run complete. Time taken: 00:00:02\n",
      "\u001b[34m\u001b[1mwandb\u001b[0m: \u001b[33mWARNING\u001b[0m Step must only increase in log calls.  Step 317 < 1902; dropping {'lr/group_0': 0.001}.\n",
      "2021-01-26 05:23:25,608 Trainer INFO: Epoch[317] Complete. Time taken: 00:00:12\n"
     ]
    },
    {
     "name": "stdout",
     "output_type": "stream",
     "text": [
      "train loss 0.0019263504548328956\n",
      "val loss 1.737844997903575\n",
      "validation roc auc [0.73227612 0.62593284] 317\n",
      "train roc auc [1. 1.] 317\n"
     ]
    },
    {
     "name": "stderr",
     "output_type": "stream",
     "text": [
      "2021-01-26 05:23:31,355 Train Evaluator INFO: Engine run starting with max_epochs=1.\n",
      "2021-01-26 05:23:36,198 Train Evaluator INFO: Epoch[1] Complete. Time taken: 00:00:05\n",
      "2021-01-26 05:23:36,200 Train Evaluator INFO: Engine run complete. Time taken: 00:00:05\n",
      "2021-01-26 05:23:36,201 Val Evaluator INFO: Engine run starting with max_epochs=1.\n",
      "2021-01-26 05:23:37,736 Val Evaluator INFO: Epoch[1] Complete. Time taken: 00:00:02\n",
      "2021-01-26 05:23:37,739 Val Evaluator INFO: Engine run complete. Time taken: 00:00:02\n",
      "\u001b[34m\u001b[1mwandb\u001b[0m: \u001b[33mWARNING\u001b[0m Step must only increase in log calls.  Step 318 < 1908; dropping {'lr/group_0': 0.001}.\n",
      "2021-01-26 05:23:37,747 Trainer INFO: Epoch[318] Complete. Time taken: 00:00:12\n"
     ]
    },
    {
     "name": "stdout",
     "output_type": "stream",
     "text": [
      "train loss 0.0019087873326239767\n",
      "val loss 1.7186080746028733\n",
      "validation roc auc [0.73227612 0.62686567] 318\n",
      "train roc auc [1. 1.] 318\n"
     ]
    },
    {
     "name": "stderr",
     "output_type": "stream",
     "text": [
      "2021-01-26 05:23:42,838 Train Evaluator INFO: Engine run starting with max_epochs=1.\n",
      "2021-01-26 05:23:48,071 Train Evaluator INFO: Epoch[1] Complete. Time taken: 00:00:05\n",
      "2021-01-26 05:23:48,074 Train Evaluator INFO: Engine run complete. Time taken: 00:00:05\n",
      "2021-01-26 05:23:48,075 Val Evaluator INFO: Engine run starting with max_epochs=1.\n",
      "2021-01-26 05:23:49,779 Val Evaluator INFO: Epoch[1] Complete. Time taken: 00:00:02\n",
      "2021-01-26 05:23:49,780 Val Evaluator INFO: Engine run complete. Time taken: 00:00:02\n",
      "\u001b[34m\u001b[1mwandb\u001b[0m: \u001b[33mWARNING\u001b[0m Step must only increase in log calls.  Step 319 < 1914; dropping {'lr/group_0': 0.001}.\n",
      "2021-01-26 05:23:49,789 Trainer INFO: Epoch[319] Complete. Time taken: 00:00:12\n"
     ]
    },
    {
     "name": "stdout",
     "output_type": "stream",
     "text": [
      "train loss 0.0018921738632365003\n",
      "val loss 1.7243131171102108\n",
      "validation roc auc [0.73196517 0.62655473] 319\n",
      "train roc auc [1. 1.] 319\n"
     ]
    },
    {
     "name": "stderr",
     "output_type": "stream",
     "text": [
      "2021-01-26 05:23:55,708 Train Evaluator INFO: Engine run starting with max_epochs=1.\n",
      "2021-01-26 05:24:00,099 Train Evaluator INFO: Epoch[1] Complete. Time taken: 00:00:04\n",
      "2021-01-26 05:24:00,101 Train Evaluator INFO: Engine run complete. Time taken: 00:00:04\n",
      "2021-01-26 05:24:00,102 Val Evaluator INFO: Engine run starting with max_epochs=1.\n",
      "2021-01-26 05:24:01,740 Val Evaluator INFO: Epoch[1] Complete. Time taken: 00:00:02\n",
      "2021-01-26 05:24:01,743 Val Evaluator INFO: Engine run complete. Time taken: 00:00:02\n",
      "\u001b[34m\u001b[1mwandb\u001b[0m: \u001b[33mWARNING\u001b[0m Step must only increase in log calls.  Step 320 < 1920; dropping {'lr/group_0': 0.001}.\n",
      "2021-01-26 05:24:01,750 Trainer INFO: Epoch[320] Complete. Time taken: 00:00:12\n"
     ]
    },
    {
     "name": "stdout",
     "output_type": "stream",
     "text": [
      "train loss 0.001877591603562324\n",
      "val loss 1.7484283986298934\n",
      "validation roc auc [0.73196517 0.62562189] 320\n",
      "train roc auc [1. 1.] 320\n"
     ]
    },
    {
     "name": "stderr",
     "output_type": "stream",
     "text": [
      "2021-01-26 05:24:06,393 Train Evaluator INFO: Engine run starting with max_epochs=1.\n",
      "2021-01-26 05:24:10,315 Train Evaluator INFO: Epoch[1] Complete. Time taken: 00:00:04\n",
      "2021-01-26 05:24:10,318 Train Evaluator INFO: Engine run complete. Time taken: 00:00:04\n",
      "2021-01-26 05:24:10,319 Val Evaluator INFO: Engine run starting with max_epochs=1.\n",
      "2021-01-26 05:24:11,832 Val Evaluator INFO: Epoch[1] Complete. Time taken: 00:00:02\n",
      "2021-01-26 05:24:11,834 Val Evaluator INFO: Engine run complete. Time taken: 00:00:02\n",
      "\u001b[34m\u001b[1mwandb\u001b[0m: \u001b[33mWARNING\u001b[0m Step must only increase in log calls.  Step 321 < 1926; dropping {'lr/group_0': 0.001}.\n",
      "2021-01-26 05:24:11,842 Trainer INFO: Epoch[321] Complete. Time taken: 00:00:10\n"
     ]
    },
    {
     "name": "stdout",
     "output_type": "stream",
     "text": [
      "train loss 0.0018642172603123993\n",
      "val loss 1.7021582033323206\n",
      "validation roc auc [0.73258706 0.62748756] 321\n",
      "train roc auc [1. 1.] 321\n"
     ]
    },
    {
     "name": "stderr",
     "output_type": "stream",
     "text": [
      "2021-01-26 05:24:15,757 Train Evaluator INFO: Engine run starting with max_epochs=1.\n",
      "2021-01-26 05:24:19,613 Train Evaluator INFO: Epoch[1] Complete. Time taken: 00:00:04\n",
      "2021-01-26 05:24:19,616 Train Evaluator INFO: Engine run complete. Time taken: 00:00:04\n",
      "2021-01-26 05:24:19,618 Val Evaluator INFO: Engine run starting with max_epochs=1.\n",
      "2021-01-26 05:24:21,185 Val Evaluator INFO: Epoch[1] Complete. Time taken: 00:00:02\n",
      "2021-01-26 05:24:21,187 Val Evaluator INFO: Engine run complete. Time taken: 00:00:02\n",
      "\u001b[34m\u001b[1mwandb\u001b[0m: \u001b[33mWARNING\u001b[0m Step must only increase in log calls.  Step 322 < 1932; dropping {'lr/group_0': 0.001}.\n",
      "2021-01-26 05:24:21,194 Trainer INFO: Epoch[322] Complete. Time taken: 00:00:09\n"
     ]
    },
    {
     "name": "stdout",
     "output_type": "stream",
     "text": [
      "train loss 0.001848351842718276\n",
      "val loss 1.7648016566815583\n",
      "validation roc auc [0.73165423 0.62562189] 322\n",
      "train roc auc [1. 1.] 322\n"
     ]
    },
    {
     "name": "stderr",
     "output_type": "stream",
     "text": [
      "2021-01-26 05:24:25,020 Train Evaluator INFO: Engine run starting with max_epochs=1.\n",
      "2021-01-26 05:24:29,522 Train Evaluator INFO: Epoch[1] Complete. Time taken: 00:00:05\n",
      "2021-01-26 05:24:29,525 Train Evaluator INFO: Engine run complete. Time taken: 00:00:05\n",
      "2021-01-26 05:24:29,526 Val Evaluator INFO: Engine run starting with max_epochs=1.\n",
      "2021-01-26 05:24:30,756 Val Evaluator INFO: Epoch[1] Complete. Time taken: 00:00:01\n",
      "2021-01-26 05:24:30,758 Val Evaluator INFO: Engine run complete. Time taken: 00:00:01\n",
      "\u001b[34m\u001b[1mwandb\u001b[0m: \u001b[33mWARNING\u001b[0m Step must only increase in log calls.  Step 323 < 1938; dropping {'lr/group_0': 0.001}.\n",
      "2021-01-26 05:24:30,767 Trainer INFO: Epoch[323] Complete. Time taken: 00:00:10\n"
     ]
    },
    {
     "name": "stdout",
     "output_type": "stream",
     "text": [
      "train loss 0.0018281735818744941\n",
      "val loss 1.7414846586144488\n",
      "validation roc auc [0.73134328 0.62655473] 323\n",
      "train roc auc [1. 1.] 323\n"
     ]
    },
    {
     "name": "stderr",
     "output_type": "stream",
     "text": [
      "2021-01-26 05:24:34,652 Train Evaluator INFO: Engine run starting with max_epochs=1.\n",
      "2021-01-26 05:24:38,491 Train Evaluator INFO: Epoch[1] Complete. Time taken: 00:00:04\n",
      "2021-01-26 05:24:38,492 Train Evaluator INFO: Engine run complete. Time taken: 00:00:04\n",
      "2021-01-26 05:24:38,493 Val Evaluator INFO: Engine run starting with max_epochs=1.\n",
      "2021-01-26 05:24:39,620 Val Evaluator INFO: Epoch[1] Complete. Time taken: 00:00:01\n",
      "2021-01-26 05:24:39,622 Val Evaluator INFO: Engine run complete. Time taken: 00:00:01\n",
      "\u001b[34m\u001b[1mwandb\u001b[0m: \u001b[33mWARNING\u001b[0m Step must only increase in log calls.  Step 324 < 1944; dropping {'lr/group_0': 0.001}.\n",
      "2021-01-26 05:24:39,628 Trainer INFO: Epoch[324] Complete. Time taken: 00:00:09\n"
     ]
    },
    {
     "name": "stdout",
     "output_type": "stream",
     "text": [
      "train loss 0.0018139783790357103\n",
      "val loss 1.7207332528155783\n",
      "validation roc auc [0.73165423 0.62686567] 324\n",
      "train roc auc [1. 1.] 324\n"
     ]
    },
    {
     "name": "stderr",
     "output_type": "stream",
     "text": [
      "2021-01-26 05:24:43,672 Train Evaluator INFO: Engine run starting with max_epochs=1.\n",
      "2021-01-26 05:24:47,978 Train Evaluator INFO: Epoch[1] Complete. Time taken: 00:00:04\n",
      "2021-01-26 05:24:47,980 Train Evaluator INFO: Engine run complete. Time taken: 00:00:04\n",
      "2021-01-26 05:24:47,981 Val Evaluator INFO: Engine run starting with max_epochs=1.\n",
      "2021-01-26 05:24:49,493 Val Evaluator INFO: Epoch[1] Complete. Time taken: 00:00:02\n",
      "2021-01-26 05:24:49,495 Val Evaluator INFO: Engine run complete. Time taken: 00:00:02\n",
      "\u001b[34m\u001b[1mwandb\u001b[0m: \u001b[33mWARNING\u001b[0m Step must only increase in log calls.  Step 325 < 1950; dropping {'lr/group_0': 0.001}.\n",
      "2021-01-26 05:24:49,503 Trainer INFO: Epoch[325] Complete. Time taken: 00:00:10\n"
     ]
    },
    {
     "name": "stdout",
     "output_type": "stream",
     "text": [
      "train loss 0.0017972563651043195\n",
      "val loss 1.73487447137418\n",
      "validation roc auc [0.73134328 0.62686567] 325\n",
      "train roc auc [1. 1.] 325\n"
     ]
    },
    {
     "name": "stderr",
     "output_type": "stream",
     "text": [
      "2021-01-26 05:24:53,861 Train Evaluator INFO: Engine run starting with max_epochs=1.\n",
      "2021-01-26 05:24:57,772 Train Evaluator INFO: Epoch[1] Complete. Time taken: 00:00:04\n",
      "2021-01-26 05:24:57,774 Train Evaluator INFO: Engine run complete. Time taken: 00:00:04\n",
      "2021-01-26 05:24:57,775 Val Evaluator INFO: Engine run starting with max_epochs=1.\n",
      "2021-01-26 05:24:59,315 Val Evaluator INFO: Epoch[1] Complete. Time taken: 00:00:02\n",
      "2021-01-26 05:24:59,317 Val Evaluator INFO: Engine run complete. Time taken: 00:00:02\n",
      "\u001b[34m\u001b[1mwandb\u001b[0m: \u001b[33mWARNING\u001b[0m Step must only increase in log calls.  Step 326 < 1956; dropping {'lr/group_0': 0.001}.\n",
      "2021-01-26 05:24:59,324 Trainer INFO: Epoch[326] Complete. Time taken: 00:00:10\n"
     ]
    },
    {
     "name": "stdout",
     "output_type": "stream",
     "text": [
      "train loss 0.0017834622096049892\n",
      "val loss 1.7609297565791917\n",
      "validation roc auc [0.73165423 0.62593284] 326\n",
      "train roc auc [1. 1.] 326\n"
     ]
    },
    {
     "name": "stderr",
     "output_type": "stream",
     "text": [
      "2021-01-26 05:25:04,070 Train Evaluator INFO: Engine run starting with max_epochs=1.\n",
      "2021-01-26 05:25:08,054 Train Evaluator INFO: Epoch[1] Complete. Time taken: 00:00:04\n",
      "2021-01-26 05:25:08,055 Train Evaluator INFO: Engine run complete. Time taken: 00:00:04\n",
      "2021-01-26 05:25:08,056 Val Evaluator INFO: Engine run starting with max_epochs=1.\n",
      "2021-01-26 05:25:09,475 Val Evaluator INFO: Epoch[1] Complete. Time taken: 00:00:01\n",
      "2021-01-26 05:25:09,476 Val Evaluator INFO: Engine run complete. Time taken: 00:00:01\n",
      "\u001b[34m\u001b[1mwandb\u001b[0m: \u001b[33mWARNING\u001b[0m Step must only increase in log calls.  Step 327 < 1962; dropping {'lr/group_0': 0.001}.\n",
      "2021-01-26 05:25:09,484 Trainer INFO: Epoch[327] Complete. Time taken: 00:00:10\n"
     ]
    },
    {
     "name": "stdout",
     "output_type": "stream",
     "text": [
      "train loss 0.0017709153712611404\n",
      "val loss 1.7148233766141145\n",
      "validation roc auc [0.73134328 0.62717662] 327\n",
      "train roc auc [1. 1.] 327\n"
     ]
    },
    {
     "name": "stderr",
     "output_type": "stream",
     "text": [
      "2021-01-26 05:25:13,307 Train Evaluator INFO: Engine run starting with max_epochs=1.\n",
      "2021-01-26 05:25:17,358 Train Evaluator INFO: Epoch[1] Complete. Time taken: 00:00:04\n",
      "2021-01-26 05:25:17,361 Train Evaluator INFO: Engine run complete. Time taken: 00:00:04\n",
      "2021-01-26 05:25:17,362 Val Evaluator INFO: Engine run starting with max_epochs=1.\n",
      "2021-01-26 05:25:18,887 Val Evaluator INFO: Epoch[1] Complete. Time taken: 00:00:02\n",
      "2021-01-26 05:25:18,889 Val Evaluator INFO: Engine run complete. Time taken: 00:00:02\n",
      "\u001b[34m\u001b[1mwandb\u001b[0m: \u001b[33mWARNING\u001b[0m Step must only increase in log calls.  Step 328 < 1968; dropping {'lr/group_0': 0.001}.\n",
      "2021-01-26 05:25:18,897 Trainer INFO: Epoch[328] Complete. Time taken: 00:00:09\n"
     ]
    },
    {
     "name": "stdout",
     "output_type": "stream",
     "text": [
      "train loss 0.0017526146746378326\n",
      "val loss 1.7606744268666144\n",
      "validation roc auc [0.73165423 0.62624378] 328\n",
      "train roc auc [1. 1.] 328\n"
     ]
    },
    {
     "name": "stderr",
     "output_type": "stream",
     "text": [
      "2021-01-26 05:25:24,212 Train Evaluator INFO: Engine run starting with max_epochs=1.\n",
      "2021-01-26 05:25:28,807 Train Evaluator INFO: Epoch[1] Complete. Time taken: 00:00:05\n",
      "2021-01-26 05:25:28,810 Train Evaluator INFO: Engine run complete. Time taken: 00:00:05\n",
      "2021-01-26 05:25:28,812 Val Evaluator INFO: Engine run starting with max_epochs=1.\n",
      "2021-01-26 05:25:30,207 Val Evaluator INFO: Epoch[1] Complete. Time taken: 00:00:01\n",
      "2021-01-26 05:25:30,208 Val Evaluator INFO: Engine run complete. Time taken: 00:00:01\n",
      "\u001b[34m\u001b[1mwandb\u001b[0m: \u001b[33mWARNING\u001b[0m Step must only increase in log calls.  Step 329 < 1974; dropping {'lr/group_0': 0.001}.\n",
      "2021-01-26 05:25:30,217 Trainer INFO: Epoch[329] Complete. Time taken: 00:00:11\n"
     ]
    },
    {
     "name": "stdout",
     "output_type": "stream",
     "text": [
      "train loss 0.0017369114518297848\n",
      "val loss 1.7471401090207308\n",
      "validation roc auc [0.73134328 0.62686567] 329\n",
      "train roc auc [1. 1.] 329\n"
     ]
    },
    {
     "name": "stderr",
     "output_type": "stream",
     "text": [
      "2021-01-26 05:25:34,720 Train Evaluator INFO: Engine run starting with max_epochs=1.\n",
      "2021-01-26 05:25:39,066 Train Evaluator INFO: Epoch[1] Complete. Time taken: 00:00:04\n",
      "2021-01-26 05:25:39,069 Train Evaluator INFO: Engine run complete. Time taken: 00:00:04\n",
      "2021-01-26 05:25:39,070 Val Evaluator INFO: Engine run starting with max_epochs=1.\n",
      "2021-01-26 05:25:40,378 Val Evaluator INFO: Epoch[1] Complete. Time taken: 00:00:01\n",
      "2021-01-26 05:25:40,379 Val Evaluator INFO: Engine run complete. Time taken: 00:00:01\n",
      "\u001b[34m\u001b[1mwandb\u001b[0m: \u001b[33mWARNING\u001b[0m Step must only increase in log calls.  Step 330 < 1980; dropping {'lr/group_0': 0.001}.\n",
      "2021-01-26 05:25:40,389 Trainer INFO: Epoch[330] Complete. Time taken: 00:00:10\n"
     ]
    },
    {
     "name": "stdout",
     "output_type": "stream",
     "text": [
      "train loss 0.001723028313693695\n",
      "val loss 1.7627196135728256\n",
      "validation roc auc [0.73134328 0.62655473] 330\n",
      "train roc auc [1. 1.] 330\n"
     ]
    },
    {
     "name": "stderr",
     "output_type": "stream",
     "text": [
      "2021-01-26 05:25:44,387 Train Evaluator INFO: Engine run starting with max_epochs=1.\n",
      "2021-01-26 05:25:48,375 Train Evaluator INFO: Epoch[1] Complete. Time taken: 00:00:04\n",
      "2021-01-26 05:25:48,377 Train Evaluator INFO: Engine run complete. Time taken: 00:00:04\n",
      "2021-01-26 05:25:48,379 Val Evaluator INFO: Engine run starting with max_epochs=1.\n",
      "2021-01-26 05:25:50,035 Val Evaluator INFO: Epoch[1] Complete. Time taken: 00:00:02\n",
      "2021-01-26 05:25:50,037 Val Evaluator INFO: Engine run complete. Time taken: 00:00:02\n",
      "\u001b[34m\u001b[1mwandb\u001b[0m: \u001b[33mWARNING\u001b[0m Step must only increase in log calls.  Step 331 < 1986; dropping {'lr/group_0': 0.001}.\n",
      "2021-01-26 05:25:50,045 Trainer INFO: Epoch[331] Complete. Time taken: 00:00:10\n"
     ]
    },
    {
     "name": "stdout",
     "output_type": "stream",
     "text": [
      "train loss 0.0017091083745389471\n",
      "val loss 1.766657313056614\n",
      "validation roc auc [0.73134328 0.62624378] 331\n",
      "train roc auc [1. 1.] 331\n"
     ]
    },
    {
     "name": "stderr",
     "output_type": "stream",
     "text": [
      "2021-01-26 05:25:54,508 Train Evaluator INFO: Engine run starting with max_epochs=1.\n",
      "2021-01-26 05:25:59,306 Train Evaluator INFO: Epoch[1] Complete. Time taken: 00:00:05\n",
      "2021-01-26 05:25:59,309 Train Evaluator INFO: Engine run complete. Time taken: 00:00:05\n",
      "2021-01-26 05:25:59,310 Val Evaluator INFO: Engine run starting with max_epochs=1.\n",
      "2021-01-26 05:26:00,800 Val Evaluator INFO: Epoch[1] Complete. Time taken: 00:00:01\n",
      "2021-01-26 05:26:00,801 Val Evaluator INFO: Engine run complete. Time taken: 00:00:01\n",
      "\u001b[34m\u001b[1mwandb\u001b[0m: \u001b[33mWARNING\u001b[0m Step must only increase in log calls.  Step 332 < 1992; dropping {'lr/group_0': 0.001}.\n",
      "2021-01-26 05:26:00,809 Trainer INFO: Epoch[332] Complete. Time taken: 00:00:11\n"
     ]
    },
    {
     "name": "stdout",
     "output_type": "stream",
     "text": [
      "train loss 0.0016965083784792991\n",
      "val loss 1.7308823419653852\n",
      "validation roc auc [0.73103234 0.62748756] 332\n",
      "train roc auc [1. 1.] 332\n"
     ]
    },
    {
     "name": "stderr",
     "output_type": "stream",
     "text": [
      "2021-01-26 05:26:04,857 Train Evaluator INFO: Engine run starting with max_epochs=1.\n",
      "2021-01-26 05:26:08,673 Train Evaluator INFO: Epoch[1] Complete. Time taken: 00:00:04\n",
      "2021-01-26 05:26:08,676 Train Evaluator INFO: Engine run complete. Time taken: 00:00:04\n",
      "2021-01-26 05:26:08,677 Val Evaluator INFO: Engine run starting with max_epochs=1.\n",
      "2021-01-26 05:26:09,977 Val Evaluator INFO: Epoch[1] Complete. Time taken: 00:00:01\n",
      "2021-01-26 05:26:09,979 Val Evaluator INFO: Engine run complete. Time taken: 00:00:01\n",
      "\u001b[34m\u001b[1mwandb\u001b[0m: \u001b[33mWARNING\u001b[0m Step must only increase in log calls.  Step 333 < 1998; dropping {'lr/group_0': 0.001}.\n",
      "2021-01-26 05:26:09,987 Trainer INFO: Epoch[333] Complete. Time taken: 00:00:09\n"
     ]
    },
    {
     "name": "stdout",
     "output_type": "stream",
     "text": [
      "train loss 0.0016808713333041974\n",
      "val loss 1.7704207544741424\n",
      "validation roc auc [0.73072139 0.62624378] 333\n",
      "train roc auc [1. 1.] 333\n"
     ]
    },
    {
     "name": "stderr",
     "output_type": "stream",
     "text": [
      "2021-01-26 05:26:14,038 Train Evaluator INFO: Engine run starting with max_epochs=1.\n",
      "2021-01-26 05:26:17,943 Train Evaluator INFO: Epoch[1] Complete. Time taken: 00:00:04\n",
      "2021-01-26 05:26:17,947 Train Evaluator INFO: Engine run complete. Time taken: 00:00:04\n",
      "2021-01-26 05:26:17,948 Val Evaluator INFO: Engine run starting with max_epochs=1.\n",
      "2021-01-26 05:26:19,584 Val Evaluator INFO: Epoch[1] Complete. Time taken: 00:00:02\n",
      "2021-01-26 05:26:19,585 Val Evaluator INFO: Engine run complete. Time taken: 00:00:02\n",
      "\u001b[34m\u001b[1mwandb\u001b[0m: \u001b[33mWARNING\u001b[0m Step must only increase in log calls.  Step 334 < 2004; dropping {'lr/group_0': 0.001}.\n",
      "2021-01-26 05:26:19,592 Trainer INFO: Epoch[334] Complete. Time taken: 00:00:10\n"
     ]
    },
    {
     "name": "stdout",
     "output_type": "stream",
     "text": [
      "train loss 0.0016741348759783707\n",
      "val loss 1.7173168700674306\n",
      "validation roc auc [0.73041045 0.62779851] 334\n",
      "train roc auc [1. 1.] 334\n"
     ]
    },
    {
     "name": "stderr",
     "output_type": "stream",
     "text": [
      "2021-01-26 05:26:24,059 Train Evaluator INFO: Engine run starting with max_epochs=1.\n",
      "2021-01-26 05:26:27,807 Train Evaluator INFO: Epoch[1] Complete. Time taken: 00:00:04\n",
      "2021-01-26 05:26:27,808 Train Evaluator INFO: Engine run complete. Time taken: 00:00:04\n",
      "2021-01-26 05:26:27,809 Val Evaluator INFO: Engine run starting with max_epochs=1.\n",
      "2021-01-26 05:26:29,103 Val Evaluator INFO: Epoch[1] Complete. Time taken: 00:00:01\n",
      "2021-01-26 05:26:29,105 Val Evaluator INFO: Engine run complete. Time taken: 00:00:01\n",
      "\u001b[34m\u001b[1mwandb\u001b[0m: \u001b[33mWARNING\u001b[0m Step must only increase in log calls.  Step 335 < 2010; dropping {'lr/group_0': 0.001}.\n",
      "2021-01-26 05:26:29,113 Trainer INFO: Epoch[335] Complete. Time taken: 00:00:10\n"
     ]
    },
    {
     "name": "stdout",
     "output_type": "stream",
     "text": [
      "train loss 0.0016522372124948093\n",
      "val loss 1.7573963652486386\n",
      "validation roc auc [0.73041045 0.62686567] 335\n",
      "train roc auc [1. 1.] 335\n"
     ]
    },
    {
     "name": "stderr",
     "output_type": "stream",
     "text": [
      "2021-01-26 05:26:32,915 Train Evaluator INFO: Engine run starting with max_epochs=1.\n",
      "2021-01-26 05:26:36,683 Train Evaluator INFO: Epoch[1] Complete. Time taken: 00:00:04\n",
      "2021-01-26 05:26:36,684 Train Evaluator INFO: Engine run complete. Time taken: 00:00:04\n",
      "2021-01-26 05:26:36,685 Val Evaluator INFO: Engine run starting with max_epochs=1.\n",
      "2021-01-26 05:26:38,584 Val Evaluator INFO: Epoch[1] Complete. Time taken: 00:00:02\n",
      "2021-01-26 05:26:38,585 Val Evaluator INFO: Engine run complete. Time taken: 00:00:02\n",
      "\u001b[34m\u001b[1mwandb\u001b[0m: \u001b[33mWARNING\u001b[0m Step must only increase in log calls.  Step 336 < 2016; dropping {'lr/group_0': 0.001}.\n",
      "2021-01-26 05:26:38,592 Trainer INFO: Epoch[336] Complete. Time taken: 00:00:09\n"
     ]
    },
    {
     "name": "stdout",
     "output_type": "stream",
     "text": [
      "train loss 0.0016502829133560495\n",
      "val loss 1.814799692319787\n",
      "validation roc auc [0.72947761 0.62406716] 336\n",
      "train roc auc [1. 1.] 336\n"
     ]
    },
    {
     "name": "stderr",
     "output_type": "stream",
     "text": [
      "2021-01-26 05:26:43,989 Train Evaluator INFO: Engine run starting with max_epochs=1.\n",
      "2021-01-26 05:26:49,485 Train Evaluator INFO: Epoch[1] Complete. Time taken: 00:00:05\n",
      "2021-01-26 05:26:49,488 Train Evaluator INFO: Engine run complete. Time taken: 00:00:05\n",
      "2021-01-26 05:26:49,489 Val Evaluator INFO: Engine run starting with max_epochs=1.\n",
      "2021-01-26 05:26:50,978 Val Evaluator INFO: Epoch[1] Complete. Time taken: 00:00:01\n",
      "2021-01-26 05:26:50,980 Val Evaluator INFO: Engine run complete. Time taken: 00:00:01\n",
      "\u001b[34m\u001b[1mwandb\u001b[0m: \u001b[33mWARNING\u001b[0m Step must only increase in log calls.  Step 337 < 2022; dropping {'lr/group_0': 0.001}.\n",
      "2021-01-26 05:26:50,987 Trainer INFO: Epoch[337] Complete. Time taken: 00:00:12\n"
     ]
    },
    {
     "name": "stdout",
     "output_type": "stream",
     "text": [
      "train loss 0.001634989183164648\n",
      "val loss 1.7169181668240092\n",
      "validation roc auc [0.7300995  0.62779851] 337\n",
      "train roc auc [1. 1.] 337\n"
     ]
    },
    {
     "name": "stderr",
     "output_type": "stream",
     "text": [
      "2021-01-26 05:26:55,876 Train Evaluator INFO: Engine run starting with max_epochs=1.\n",
      "2021-01-26 05:26:58,664 Train Evaluator ERROR: Engine run is terminating due to exception: .\n",
      "2021-01-26 05:26:58,666 Trainer ERROR: Engine run is terminating due to exception: .\n"
     ]
    },
    {
     "ename": "KeyboardInterrupt",
     "evalue": "",
     "output_type": "error",
     "traceback": [
      "\u001b[0;31m---------------------------------------------------------------------------\u001b[0m",
      "\u001b[0;31mKeyboardInterrupt\u001b[0m                         Traceback (most recent call last)",
      "\u001b[0;32m<ipython-input-53-a204d9458a67>\u001b[0m in \u001b[0;36m<module>\u001b[0;34m\u001b[0m\n\u001b[1;32m      1\u001b[0m \u001b[0;31m# no init 16, 64\u001b[0m\u001b[0;34m\u001b[0m\u001b[0;34m\u001b[0m\u001b[0;34m\u001b[0m\u001b[0m\n\u001b[1;32m      2\u001b[0m \u001b[0mprint\u001b[0m\u001b[0;34m(\u001b[0m\u001b[0;34m'ready ?'\u001b[0m\u001b[0;34m)\u001b[0m\u001b[0;34m\u001b[0m\u001b[0;34m\u001b[0m\u001b[0m\n\u001b[0;32m----> 3\u001b[0;31m \u001b[0mrunutils\u001b[0m\u001b[0;34m.\u001b[0m\u001b[0mrun\u001b[0m\u001b[0;34m(\u001b[0m\u001b[0mmodel\u001b[0m\u001b[0;34m,\u001b[0m \u001b[0mdataloaders\u001b[0m\u001b[0;34m,\u001b[0m \u001b[0moptimizer\u001b[0m\u001b[0;34m,\u001b[0m \u001b[0mcriterion\u001b[0m\u001b[0;34m,\u001b[0m \u001b[0mmetrics\u001b[0m\u001b[0;34m,\u001b[0m \u001b[0mdevice\u001b[0m\u001b[0;34m,\u001b[0m\u001b[0mconfig\u001b[0m\u001b[0;34m,\u001b[0m \u001b[0mrunconfigs\u001b[0m\u001b[0;34m.\u001b[0m\u001b[0mPROJECT_NAME\u001b[0m\u001b[0;34m)\u001b[0m\u001b[0;34m\u001b[0m\u001b[0;34m\u001b[0m\u001b[0m\n\u001b[0m",
      "\u001b[0;32m~/projects/nna/src/nna/exp/runutils.py\u001b[0m in \u001b[0;36mrun\u001b[0;34m(model, dataloaders, optimizer, criterion, metrics, device, config, wandb_project_name, run_name)\u001b[0m\n\u001b[1;32m    185\u001b[0m \u001b[0;34m\u001b[0m\u001b[0m\n\u001b[1;32m    186\u001b[0m \u001b[0;31m#     kick everything off\u001b[0m\u001b[0;34m\u001b[0m\u001b[0;34m\u001b[0m\u001b[0;34m\u001b[0m\u001b[0m\n\u001b[0;32m--> 187\u001b[0;31m     \u001b[0mtrainer\u001b[0m\u001b[0;34m.\u001b[0m\u001b[0mrun\u001b[0m\u001b[0;34m(\u001b[0m\u001b[0mtrain_loader\u001b[0m\u001b[0;34m,\u001b[0m \u001b[0mmax_epochs\u001b[0m\u001b[0;34m=\u001b[0m\u001b[0mconfig\u001b[0m\u001b[0;34m[\u001b[0m\u001b[0;34m'epochs'\u001b[0m\u001b[0;34m]\u001b[0m\u001b[0;34m)\u001b[0m\u001b[0;34m\u001b[0m\u001b[0;34m\u001b[0m\u001b[0m\n\u001b[0m\u001b[1;32m    188\u001b[0m \u001b[0;34m\u001b[0m\u001b[0m\n\u001b[1;32m    189\u001b[0m     \u001b[0mwandb_logger_ins\u001b[0m\u001b[0;34m.\u001b[0m\u001b[0mclose\u001b[0m\u001b[0;34m(\u001b[0m\u001b[0;34m)\u001b[0m\u001b[0;34m\u001b[0m\u001b[0;34m\u001b[0m\u001b[0m\n",
      "\u001b[0;32m/scratch/enis/conda/envs/soundenv3/lib/python3.7/site-packages/ignite/engine/engine.py\u001b[0m in \u001b[0;36mrun\u001b[0;34m(self, data, max_epochs, epoch_length, seed)\u001b[0m\n\u001b[1;32m    689\u001b[0m \u001b[0;34m\u001b[0m\u001b[0m\n\u001b[1;32m    690\u001b[0m         \u001b[0mself\u001b[0m\u001b[0;34m.\u001b[0m\u001b[0mstate\u001b[0m\u001b[0;34m.\u001b[0m\u001b[0mdataloader\u001b[0m \u001b[0;34m=\u001b[0m \u001b[0mdata\u001b[0m\u001b[0;34m\u001b[0m\u001b[0;34m\u001b[0m\u001b[0m\n\u001b[0;32m--> 691\u001b[0;31m         \u001b[0;32mreturn\u001b[0m \u001b[0mself\u001b[0m\u001b[0;34m.\u001b[0m\u001b[0m_internal_run\u001b[0m\u001b[0;34m(\u001b[0m\u001b[0;34m)\u001b[0m\u001b[0;34m\u001b[0m\u001b[0;34m\u001b[0m\u001b[0m\n\u001b[0m\u001b[1;32m    692\u001b[0m \u001b[0;34m\u001b[0m\u001b[0m\n\u001b[1;32m    693\u001b[0m     \u001b[0;34m@\u001b[0m\u001b[0mstaticmethod\u001b[0m\u001b[0;34m\u001b[0m\u001b[0;34m\u001b[0m\u001b[0m\n",
      "\u001b[0;32m/scratch/enis/conda/envs/soundenv3/lib/python3.7/site-packages/ignite/engine/engine.py\u001b[0m in \u001b[0;36m_internal_run\u001b[0;34m(self)\u001b[0m\n\u001b[1;32m    760\u001b[0m             \u001b[0mself\u001b[0m\u001b[0;34m.\u001b[0m\u001b[0m_dataloader_iter\u001b[0m \u001b[0;34m=\u001b[0m \u001b[0;32mNone\u001b[0m\u001b[0;34m\u001b[0m\u001b[0;34m\u001b[0m\u001b[0m\n\u001b[1;32m    761\u001b[0m             \u001b[0mself\u001b[0m\u001b[0;34m.\u001b[0m\u001b[0mlogger\u001b[0m\u001b[0;34m.\u001b[0m\u001b[0merror\u001b[0m\u001b[0;34m(\u001b[0m\u001b[0;34m\"Engine run is terminating due to exception: %s.\"\u001b[0m\u001b[0;34m,\u001b[0m \u001b[0mstr\u001b[0m\u001b[0;34m(\u001b[0m\u001b[0me\u001b[0m\u001b[0;34m)\u001b[0m\u001b[0;34m)\u001b[0m\u001b[0;34m\u001b[0m\u001b[0;34m\u001b[0m\u001b[0m\n\u001b[0;32m--> 762\u001b[0;31m             \u001b[0mself\u001b[0m\u001b[0;34m.\u001b[0m\u001b[0m_handle_exception\u001b[0m\u001b[0;34m(\u001b[0m\u001b[0me\u001b[0m\u001b[0;34m)\u001b[0m\u001b[0;34m\u001b[0m\u001b[0;34m\u001b[0m\u001b[0m\n\u001b[0m\u001b[1;32m    763\u001b[0m \u001b[0;34m\u001b[0m\u001b[0m\n\u001b[1;32m    764\u001b[0m         \u001b[0mself\u001b[0m\u001b[0;34m.\u001b[0m\u001b[0m_dataloader_iter\u001b[0m \u001b[0;34m=\u001b[0m \u001b[0;32mNone\u001b[0m\u001b[0;34m\u001b[0m\u001b[0;34m\u001b[0m\u001b[0m\n",
      "\u001b[0;32m/scratch/enis/conda/envs/soundenv3/lib/python3.7/site-packages/ignite/engine/engine.py\u001b[0m in \u001b[0;36m_handle_exception\u001b[0;34m(self, e)\u001b[0m\n\u001b[1;32m    465\u001b[0m             \u001b[0mself\u001b[0m\u001b[0;34m.\u001b[0m\u001b[0m_fire_event\u001b[0m\u001b[0;34m(\u001b[0m\u001b[0mEvents\u001b[0m\u001b[0;34m.\u001b[0m\u001b[0mEXCEPTION_RAISED\u001b[0m\u001b[0;34m,\u001b[0m \u001b[0me\u001b[0m\u001b[0;34m)\u001b[0m\u001b[0;34m\u001b[0m\u001b[0;34m\u001b[0m\u001b[0m\n\u001b[1;32m    466\u001b[0m         \u001b[0;32melse\u001b[0m\u001b[0;34m:\u001b[0m\u001b[0;34m\u001b[0m\u001b[0;34m\u001b[0m\u001b[0m\n\u001b[0;32m--> 467\u001b[0;31m             \u001b[0;32mraise\u001b[0m \u001b[0me\u001b[0m\u001b[0;34m\u001b[0m\u001b[0;34m\u001b[0m\u001b[0m\n\u001b[0m\u001b[1;32m    468\u001b[0m \u001b[0;34m\u001b[0m\u001b[0m\n\u001b[1;32m    469\u001b[0m     \u001b[0;34m@\u001b[0m\u001b[0mproperty\u001b[0m\u001b[0;34m\u001b[0m\u001b[0;34m\u001b[0m\u001b[0m\n",
      "\u001b[0;32m/scratch/enis/conda/envs/soundenv3/lib/python3.7/site-packages/ignite/engine/engine.py\u001b[0m in \u001b[0;36m_internal_run\u001b[0;34m(self)\u001b[0m\n\u001b[1;32m    735\u001b[0m                     \u001b[0mself\u001b[0m\u001b[0;34m.\u001b[0m\u001b[0m_fire_event\u001b[0m\u001b[0;34m(\u001b[0m\u001b[0mEvents\u001b[0m\u001b[0;34m.\u001b[0m\u001b[0mTERMINATE\u001b[0m\u001b[0;34m)\u001b[0m\u001b[0;34m\u001b[0m\u001b[0;34m\u001b[0m\u001b[0m\n\u001b[1;32m    736\u001b[0m                 \u001b[0;32melse\u001b[0m\u001b[0;34m:\u001b[0m\u001b[0;34m\u001b[0m\u001b[0;34m\u001b[0m\u001b[0m\n\u001b[0;32m--> 737\u001b[0;31m                     \u001b[0mself\u001b[0m\u001b[0;34m.\u001b[0m\u001b[0m_fire_event\u001b[0m\u001b[0;34m(\u001b[0m\u001b[0mEvents\u001b[0m\u001b[0;34m.\u001b[0m\u001b[0mEPOCH_COMPLETED\u001b[0m\u001b[0;34m)\u001b[0m\u001b[0;34m\u001b[0m\u001b[0;34m\u001b[0m\u001b[0m\n\u001b[0m\u001b[1;32m    738\u001b[0m                 \u001b[0mtime_taken\u001b[0m \u001b[0;34m+=\u001b[0m \u001b[0mtime\u001b[0m\u001b[0;34m.\u001b[0m\u001b[0mtime\u001b[0m\u001b[0;34m(\u001b[0m\u001b[0;34m)\u001b[0m \u001b[0;34m-\u001b[0m \u001b[0mhandlers_start_time\u001b[0m\u001b[0;34m\u001b[0m\u001b[0;34m\u001b[0m\u001b[0m\n\u001b[1;32m    739\u001b[0m                 \u001b[0;31m# update time wrt handlers\u001b[0m\u001b[0;34m\u001b[0m\u001b[0;34m\u001b[0m\u001b[0;34m\u001b[0m\u001b[0m\n",
      "\u001b[0;32m/scratch/enis/conda/envs/soundenv3/lib/python3.7/site-packages/ignite/engine/engine.py\u001b[0m in \u001b[0;36m_fire_event\u001b[0;34m(self, event_name, *event_args, **event_kwargs)\u001b[0m\n\u001b[1;32m    421\u001b[0m                 \u001b[0mkwargs\u001b[0m\u001b[0;34m.\u001b[0m\u001b[0mupdate\u001b[0m\u001b[0;34m(\u001b[0m\u001b[0mevent_kwargs\u001b[0m\u001b[0;34m)\u001b[0m\u001b[0;34m\u001b[0m\u001b[0;34m\u001b[0m\u001b[0m\n\u001b[1;32m    422\u001b[0m                 \u001b[0mfirst\u001b[0m\u001b[0;34m,\u001b[0m \u001b[0mothers\u001b[0m \u001b[0;34m=\u001b[0m \u001b[0;34m(\u001b[0m\u001b[0;34m(\u001b[0m\u001b[0margs\u001b[0m\u001b[0;34m[\u001b[0m\u001b[0;36m0\u001b[0m\u001b[0;34m]\u001b[0m\u001b[0;34m,\u001b[0m\u001b[0;34m)\u001b[0m\u001b[0;34m,\u001b[0m \u001b[0margs\u001b[0m\u001b[0;34m[\u001b[0m\u001b[0;36m1\u001b[0m\u001b[0;34m:\u001b[0m\u001b[0;34m]\u001b[0m\u001b[0;34m)\u001b[0m \u001b[0;32mif\u001b[0m \u001b[0;34m(\u001b[0m\u001b[0margs\u001b[0m \u001b[0;32mand\u001b[0m \u001b[0margs\u001b[0m\u001b[0;34m[\u001b[0m\u001b[0;36m0\u001b[0m\u001b[0;34m]\u001b[0m \u001b[0;34m==\u001b[0m \u001b[0mself\u001b[0m\u001b[0;34m)\u001b[0m \u001b[0;32melse\u001b[0m \u001b[0;34m(\u001b[0m\u001b[0;34m(\u001b[0m\u001b[0;34m)\u001b[0m\u001b[0;34m,\u001b[0m \u001b[0margs\u001b[0m\u001b[0;34m)\u001b[0m\u001b[0;34m\u001b[0m\u001b[0;34m\u001b[0m\u001b[0m\n\u001b[0;32m--> 423\u001b[0;31m                 \u001b[0mfunc\u001b[0m\u001b[0;34m(\u001b[0m\u001b[0;34m*\u001b[0m\u001b[0mfirst\u001b[0m\u001b[0;34m,\u001b[0m \u001b[0;34m*\u001b[0m\u001b[0;34m(\u001b[0m\u001b[0mevent_args\u001b[0m \u001b[0;34m+\u001b[0m \u001b[0mothers\u001b[0m\u001b[0;34m)\u001b[0m\u001b[0;34m,\u001b[0m \u001b[0;34m**\u001b[0m\u001b[0mkwargs\u001b[0m\u001b[0;34m)\u001b[0m\u001b[0;34m\u001b[0m\u001b[0;34m\u001b[0m\u001b[0m\n\u001b[0m\u001b[1;32m    424\u001b[0m \u001b[0;34m\u001b[0m\u001b[0m\n\u001b[1;32m    425\u001b[0m     \u001b[0;32mdef\u001b[0m \u001b[0mfire_event\u001b[0m\u001b[0;34m(\u001b[0m\u001b[0mself\u001b[0m\u001b[0;34m,\u001b[0m \u001b[0mevent_name\u001b[0m\u001b[0;34m:\u001b[0m \u001b[0mAny\u001b[0m\u001b[0;34m)\u001b[0m \u001b[0;34m->\u001b[0m \u001b[0;32mNone\u001b[0m\u001b[0;34m:\u001b[0m\u001b[0;34m\u001b[0m\u001b[0;34m\u001b[0m\u001b[0m\n",
      "\u001b[0;32m~/projects/nna/src/nna/exp/runutils.py\u001b[0m in \u001b[0;36mcompute_metrics\u001b[0;34m(engine, best_ROC_AUC, best_epoch)\u001b[0m\n\u001b[1;32m     94\u001b[0m     \u001b[0;34m@\u001b[0m\u001b[0mtrainer\u001b[0m\u001b[0;34m.\u001b[0m\u001b[0mon\u001b[0m\u001b[0;34m(\u001b[0m\u001b[0mEvents\u001b[0m\u001b[0;34m.\u001b[0m\u001b[0mEPOCH_COMPLETED\u001b[0m\u001b[0;34m,\u001b[0m \u001b[0mbest_ROC_AUC\u001b[0m\u001b[0;34m,\u001b[0m \u001b[0mbest_epoch\u001b[0m\u001b[0;34m)\u001b[0m\u001b[0;34m\u001b[0m\u001b[0;34m\u001b[0m\u001b[0m\n\u001b[1;32m     95\u001b[0m     \u001b[0;32mdef\u001b[0m \u001b[0mcompute_metrics\u001b[0m\u001b[0;34m(\u001b[0m\u001b[0mengine\u001b[0m\u001b[0;34m,\u001b[0m \u001b[0mbest_ROC_AUC\u001b[0m\u001b[0;34m,\u001b[0m \u001b[0mbest_epoch\u001b[0m\u001b[0;34m)\u001b[0m\u001b[0;34m:\u001b[0m\u001b[0;34m\u001b[0m\u001b[0;34m\u001b[0m\u001b[0m\n\u001b[0;32m---> 96\u001b[0;31m         \u001b[0mtrain_evaluator\u001b[0m\u001b[0;34m.\u001b[0m\u001b[0mrun\u001b[0m\u001b[0;34m(\u001b[0m\u001b[0mtrain_loader\u001b[0m\u001b[0;34m)\u001b[0m\u001b[0;34m\u001b[0m\u001b[0;34m\u001b[0m\u001b[0m\n\u001b[0m\u001b[1;32m     97\u001b[0m         \u001b[0mvalidation_evaluator\u001b[0m\u001b[0;34m.\u001b[0m\u001b[0mrun\u001b[0m\u001b[0;34m(\u001b[0m\u001b[0mval_loader\u001b[0m\u001b[0;34m)\u001b[0m\u001b[0;34m\u001b[0m\u001b[0;34m\u001b[0m\u001b[0m\n\u001b[1;32m     98\u001b[0m         \u001b[0mroc_auc_array_val\u001b[0m \u001b[0;34m=\u001b[0m \u001b[0mvalidation_evaluator\u001b[0m\u001b[0;34m.\u001b[0m\u001b[0mstate\u001b[0m\u001b[0;34m.\u001b[0m\u001b[0mmetrics\u001b[0m\u001b[0;34m[\u001b[0m\u001b[0;34m'ROC_AUC'\u001b[0m\u001b[0;34m]\u001b[0m\u001b[0;34m\u001b[0m\u001b[0;34m\u001b[0m\u001b[0m\n",
      "\u001b[0;32m/scratch/enis/conda/envs/soundenv3/lib/python3.7/site-packages/ignite/engine/engine.py\u001b[0m in \u001b[0;36mrun\u001b[0;34m(self, data, max_epochs, epoch_length, seed)\u001b[0m\n\u001b[1;32m    689\u001b[0m \u001b[0;34m\u001b[0m\u001b[0m\n\u001b[1;32m    690\u001b[0m         \u001b[0mself\u001b[0m\u001b[0;34m.\u001b[0m\u001b[0mstate\u001b[0m\u001b[0;34m.\u001b[0m\u001b[0mdataloader\u001b[0m \u001b[0;34m=\u001b[0m \u001b[0mdata\u001b[0m\u001b[0;34m\u001b[0m\u001b[0;34m\u001b[0m\u001b[0m\n\u001b[0;32m--> 691\u001b[0;31m         \u001b[0;32mreturn\u001b[0m \u001b[0mself\u001b[0m\u001b[0;34m.\u001b[0m\u001b[0m_internal_run\u001b[0m\u001b[0;34m(\u001b[0m\u001b[0;34m)\u001b[0m\u001b[0;34m\u001b[0m\u001b[0;34m\u001b[0m\u001b[0m\n\u001b[0m\u001b[1;32m    692\u001b[0m \u001b[0;34m\u001b[0m\u001b[0m\n\u001b[1;32m    693\u001b[0m     \u001b[0;34m@\u001b[0m\u001b[0mstaticmethod\u001b[0m\u001b[0;34m\u001b[0m\u001b[0;34m\u001b[0m\u001b[0m\n",
      "\u001b[0;32m/scratch/enis/conda/envs/soundenv3/lib/python3.7/site-packages/ignite/engine/engine.py\u001b[0m in \u001b[0;36m_internal_run\u001b[0;34m(self)\u001b[0m\n\u001b[1;32m    760\u001b[0m             \u001b[0mself\u001b[0m\u001b[0;34m.\u001b[0m\u001b[0m_dataloader_iter\u001b[0m \u001b[0;34m=\u001b[0m \u001b[0;32mNone\u001b[0m\u001b[0;34m\u001b[0m\u001b[0;34m\u001b[0m\u001b[0m\n\u001b[1;32m    761\u001b[0m             \u001b[0mself\u001b[0m\u001b[0;34m.\u001b[0m\u001b[0mlogger\u001b[0m\u001b[0;34m.\u001b[0m\u001b[0merror\u001b[0m\u001b[0;34m(\u001b[0m\u001b[0;34m\"Engine run is terminating due to exception: %s.\"\u001b[0m\u001b[0;34m,\u001b[0m \u001b[0mstr\u001b[0m\u001b[0;34m(\u001b[0m\u001b[0me\u001b[0m\u001b[0;34m)\u001b[0m\u001b[0;34m)\u001b[0m\u001b[0;34m\u001b[0m\u001b[0;34m\u001b[0m\u001b[0m\n\u001b[0;32m--> 762\u001b[0;31m             \u001b[0mself\u001b[0m\u001b[0;34m.\u001b[0m\u001b[0m_handle_exception\u001b[0m\u001b[0;34m(\u001b[0m\u001b[0me\u001b[0m\u001b[0;34m)\u001b[0m\u001b[0;34m\u001b[0m\u001b[0;34m\u001b[0m\u001b[0m\n\u001b[0m\u001b[1;32m    763\u001b[0m \u001b[0;34m\u001b[0m\u001b[0m\n\u001b[1;32m    764\u001b[0m         \u001b[0mself\u001b[0m\u001b[0;34m.\u001b[0m\u001b[0m_dataloader_iter\u001b[0m \u001b[0;34m=\u001b[0m \u001b[0;32mNone\u001b[0m\u001b[0;34m\u001b[0m\u001b[0;34m\u001b[0m\u001b[0m\n",
      "\u001b[0;32m/scratch/enis/conda/envs/soundenv3/lib/python3.7/site-packages/ignite/engine/engine.py\u001b[0m in \u001b[0;36m_handle_exception\u001b[0;34m(self, e)\u001b[0m\n\u001b[1;32m    465\u001b[0m             \u001b[0mself\u001b[0m\u001b[0;34m.\u001b[0m\u001b[0m_fire_event\u001b[0m\u001b[0;34m(\u001b[0m\u001b[0mEvents\u001b[0m\u001b[0;34m.\u001b[0m\u001b[0mEXCEPTION_RAISED\u001b[0m\u001b[0;34m,\u001b[0m \u001b[0me\u001b[0m\u001b[0;34m)\u001b[0m\u001b[0;34m\u001b[0m\u001b[0;34m\u001b[0m\u001b[0m\n\u001b[1;32m    466\u001b[0m         \u001b[0;32melse\u001b[0m\u001b[0;34m:\u001b[0m\u001b[0;34m\u001b[0m\u001b[0;34m\u001b[0m\u001b[0m\n\u001b[0;32m--> 467\u001b[0;31m             \u001b[0;32mraise\u001b[0m \u001b[0me\u001b[0m\u001b[0;34m\u001b[0m\u001b[0;34m\u001b[0m\u001b[0m\n\u001b[0m\u001b[1;32m    468\u001b[0m \u001b[0;34m\u001b[0m\u001b[0m\n\u001b[1;32m    469\u001b[0m     \u001b[0;34m@\u001b[0m\u001b[0mproperty\u001b[0m\u001b[0;34m\u001b[0m\u001b[0;34m\u001b[0m\u001b[0m\n",
      "\u001b[0;32m/scratch/enis/conda/envs/soundenv3/lib/python3.7/site-packages/ignite/engine/engine.py\u001b[0m in \u001b[0;36m_internal_run\u001b[0;34m(self)\u001b[0m\n\u001b[1;32m    728\u001b[0m                     \u001b[0mself\u001b[0m\u001b[0;34m.\u001b[0m\u001b[0m_setup_engine\u001b[0m\u001b[0;34m(\u001b[0m\u001b[0;34m)\u001b[0m\u001b[0;34m\u001b[0m\u001b[0;34m\u001b[0m\u001b[0m\n\u001b[1;32m    729\u001b[0m \u001b[0;34m\u001b[0m\u001b[0m\n\u001b[0;32m--> 730\u001b[0;31m                 \u001b[0mtime_taken\u001b[0m \u001b[0;34m=\u001b[0m \u001b[0mself\u001b[0m\u001b[0;34m.\u001b[0m\u001b[0m_run_once_on_dataset\u001b[0m\u001b[0;34m(\u001b[0m\u001b[0;34m)\u001b[0m\u001b[0;34m\u001b[0m\u001b[0;34m\u001b[0m\u001b[0m\n\u001b[0m\u001b[1;32m    731\u001b[0m                 \u001b[0;31m# time is available for handlers but must be update after fire\u001b[0m\u001b[0;34m\u001b[0m\u001b[0;34m\u001b[0m\u001b[0;34m\u001b[0m\u001b[0m\n\u001b[1;32m    732\u001b[0m                 \u001b[0mself\u001b[0m\u001b[0;34m.\u001b[0m\u001b[0mstate\u001b[0m\u001b[0;34m.\u001b[0m\u001b[0mtimes\u001b[0m\u001b[0;34m[\u001b[0m\u001b[0mEvents\u001b[0m\u001b[0;34m.\u001b[0m\u001b[0mEPOCH_COMPLETED\u001b[0m\u001b[0;34m.\u001b[0m\u001b[0mname\u001b[0m\u001b[0;34m]\u001b[0m \u001b[0;34m=\u001b[0m \u001b[0mtime_taken\u001b[0m\u001b[0;34m\u001b[0m\u001b[0;34m\u001b[0m\u001b[0m\n",
      "\u001b[0;32m/scratch/enis/conda/envs/soundenv3/lib/python3.7/site-packages/ignite/engine/engine.py\u001b[0m in \u001b[0;36m_run_once_on_dataset\u001b[0;34m(self)\u001b[0m\n\u001b[1;32m    777\u001b[0m                     \u001b[0;32mif\u001b[0m \u001b[0mself\u001b[0m\u001b[0;34m.\u001b[0m\u001b[0mlast_event_name\u001b[0m \u001b[0;34m!=\u001b[0m \u001b[0mEvents\u001b[0m\u001b[0;34m.\u001b[0m\u001b[0mDATALOADER_STOP_ITERATION\u001b[0m\u001b[0;34m:\u001b[0m\u001b[0;34m\u001b[0m\u001b[0;34m\u001b[0m\u001b[0m\n\u001b[1;32m    778\u001b[0m                         \u001b[0mself\u001b[0m\u001b[0;34m.\u001b[0m\u001b[0m_fire_event\u001b[0m\u001b[0;34m(\u001b[0m\u001b[0mEvents\u001b[0m\u001b[0;34m.\u001b[0m\u001b[0mGET_BATCH_STARTED\u001b[0m\u001b[0;34m)\u001b[0m\u001b[0;34m\u001b[0m\u001b[0;34m\u001b[0m\u001b[0m\n\u001b[0;32m--> 779\u001b[0;31m                     \u001b[0mself\u001b[0m\u001b[0;34m.\u001b[0m\u001b[0mstate\u001b[0m\u001b[0;34m.\u001b[0m\u001b[0mbatch\u001b[0m \u001b[0;34m=\u001b[0m \u001b[0mnext\u001b[0m\u001b[0;34m(\u001b[0m\u001b[0mself\u001b[0m\u001b[0;34m.\u001b[0m\u001b[0m_dataloader_iter\u001b[0m\u001b[0;34m)\u001b[0m\u001b[0;34m\u001b[0m\u001b[0;34m\u001b[0m\u001b[0m\n\u001b[0m\u001b[1;32m    780\u001b[0m                     \u001b[0mself\u001b[0m\u001b[0;34m.\u001b[0m\u001b[0m_fire_event\u001b[0m\u001b[0;34m(\u001b[0m\u001b[0mEvents\u001b[0m\u001b[0;34m.\u001b[0m\u001b[0mGET_BATCH_COMPLETED\u001b[0m\u001b[0;34m)\u001b[0m\u001b[0;34m\u001b[0m\u001b[0;34m\u001b[0m\u001b[0m\n\u001b[1;32m    781\u001b[0m                     \u001b[0miter_counter\u001b[0m \u001b[0;34m+=\u001b[0m \u001b[0;36m1\u001b[0m\u001b[0;34m\u001b[0m\u001b[0;34m\u001b[0m\u001b[0m\n",
      "\u001b[0;32m/scratch/enis/conda/envs/soundenv3/lib/python3.7/site-packages/torch/utils/data/dataloader.py\u001b[0m in \u001b[0;36m__next__\u001b[0;34m(self)\u001b[0m\n\u001b[1;32m    433\u001b[0m         \u001b[0;32mif\u001b[0m \u001b[0mself\u001b[0m\u001b[0;34m.\u001b[0m\u001b[0m_sampler_iter\u001b[0m \u001b[0;32mis\u001b[0m \u001b[0;32mNone\u001b[0m\u001b[0;34m:\u001b[0m\u001b[0;34m\u001b[0m\u001b[0;34m\u001b[0m\u001b[0m\n\u001b[1;32m    434\u001b[0m             \u001b[0mself\u001b[0m\u001b[0;34m.\u001b[0m\u001b[0m_reset\u001b[0m\u001b[0;34m(\u001b[0m\u001b[0;34m)\u001b[0m\u001b[0;34m\u001b[0m\u001b[0;34m\u001b[0m\u001b[0m\n\u001b[0;32m--> 435\u001b[0;31m         \u001b[0mdata\u001b[0m \u001b[0;34m=\u001b[0m \u001b[0mself\u001b[0m\u001b[0;34m.\u001b[0m\u001b[0m_next_data\u001b[0m\u001b[0;34m(\u001b[0m\u001b[0;34m)\u001b[0m\u001b[0;34m\u001b[0m\u001b[0;34m\u001b[0m\u001b[0m\n\u001b[0m\u001b[1;32m    436\u001b[0m         \u001b[0mself\u001b[0m\u001b[0;34m.\u001b[0m\u001b[0m_num_yielded\u001b[0m \u001b[0;34m+=\u001b[0m \u001b[0;36m1\u001b[0m\u001b[0;34m\u001b[0m\u001b[0;34m\u001b[0m\u001b[0m\n\u001b[1;32m    437\u001b[0m         \u001b[0;32mif\u001b[0m \u001b[0mself\u001b[0m\u001b[0;34m.\u001b[0m\u001b[0m_dataset_kind\u001b[0m \u001b[0;34m==\u001b[0m \u001b[0m_DatasetKind\u001b[0m\u001b[0;34m.\u001b[0m\u001b[0mIterable\u001b[0m \u001b[0;32mand\u001b[0m\u001b[0;31m \u001b[0m\u001b[0;31m\\\u001b[0m\u001b[0;34m\u001b[0m\u001b[0;34m\u001b[0m\u001b[0m\n",
      "\u001b[0;32m/scratch/enis/conda/envs/soundenv3/lib/python3.7/site-packages/torch/utils/data/dataloader.py\u001b[0m in \u001b[0;36m_next_data\u001b[0;34m(self)\u001b[0m\n\u001b[1;32m    473\u001b[0m     \u001b[0;32mdef\u001b[0m \u001b[0m_next_data\u001b[0m\u001b[0;34m(\u001b[0m\u001b[0mself\u001b[0m\u001b[0;34m)\u001b[0m\u001b[0;34m:\u001b[0m\u001b[0;34m\u001b[0m\u001b[0;34m\u001b[0m\u001b[0m\n\u001b[1;32m    474\u001b[0m         \u001b[0mindex\u001b[0m \u001b[0;34m=\u001b[0m \u001b[0mself\u001b[0m\u001b[0;34m.\u001b[0m\u001b[0m_next_index\u001b[0m\u001b[0;34m(\u001b[0m\u001b[0;34m)\u001b[0m  \u001b[0;31m# may raise StopIteration\u001b[0m\u001b[0;34m\u001b[0m\u001b[0;34m\u001b[0m\u001b[0m\n\u001b[0;32m--> 475\u001b[0;31m         \u001b[0mdata\u001b[0m \u001b[0;34m=\u001b[0m \u001b[0mself\u001b[0m\u001b[0;34m.\u001b[0m\u001b[0m_dataset_fetcher\u001b[0m\u001b[0;34m.\u001b[0m\u001b[0mfetch\u001b[0m\u001b[0;34m(\u001b[0m\u001b[0mindex\u001b[0m\u001b[0;34m)\u001b[0m  \u001b[0;31m# may raise StopIteration\u001b[0m\u001b[0;34m\u001b[0m\u001b[0;34m\u001b[0m\u001b[0m\n\u001b[0m\u001b[1;32m    476\u001b[0m         \u001b[0;32mif\u001b[0m \u001b[0mself\u001b[0m\u001b[0;34m.\u001b[0m\u001b[0m_pin_memory\u001b[0m\u001b[0;34m:\u001b[0m\u001b[0;34m\u001b[0m\u001b[0;34m\u001b[0m\u001b[0m\n\u001b[1;32m    477\u001b[0m             \u001b[0mdata\u001b[0m \u001b[0;34m=\u001b[0m \u001b[0m_utils\u001b[0m\u001b[0;34m.\u001b[0m\u001b[0mpin_memory\u001b[0m\u001b[0;34m.\u001b[0m\u001b[0mpin_memory\u001b[0m\u001b[0;34m(\u001b[0m\u001b[0mdata\u001b[0m\u001b[0;34m)\u001b[0m\u001b[0;34m\u001b[0m\u001b[0;34m\u001b[0m\u001b[0m\n",
      "\u001b[0;32m/scratch/enis/conda/envs/soundenv3/lib/python3.7/site-packages/torch/utils/data/_utils/fetch.py\u001b[0m in \u001b[0;36mfetch\u001b[0;34m(self, possibly_batched_index)\u001b[0m\n\u001b[1;32m     42\u001b[0m     \u001b[0;32mdef\u001b[0m \u001b[0mfetch\u001b[0m\u001b[0;34m(\u001b[0m\u001b[0mself\u001b[0m\u001b[0;34m,\u001b[0m \u001b[0mpossibly_batched_index\u001b[0m\u001b[0;34m)\u001b[0m\u001b[0;34m:\u001b[0m\u001b[0;34m\u001b[0m\u001b[0;34m\u001b[0m\u001b[0m\n\u001b[1;32m     43\u001b[0m         \u001b[0;32mif\u001b[0m \u001b[0mself\u001b[0m\u001b[0;34m.\u001b[0m\u001b[0mauto_collation\u001b[0m\u001b[0;34m:\u001b[0m\u001b[0;34m\u001b[0m\u001b[0;34m\u001b[0m\u001b[0m\n\u001b[0;32m---> 44\u001b[0;31m             \u001b[0mdata\u001b[0m \u001b[0;34m=\u001b[0m \u001b[0;34m[\u001b[0m\u001b[0mself\u001b[0m\u001b[0;34m.\u001b[0m\u001b[0mdataset\u001b[0m\u001b[0;34m[\u001b[0m\u001b[0midx\u001b[0m\u001b[0;34m]\u001b[0m \u001b[0;32mfor\u001b[0m \u001b[0midx\u001b[0m \u001b[0;32min\u001b[0m \u001b[0mpossibly_batched_index\u001b[0m\u001b[0;34m]\u001b[0m\u001b[0;34m\u001b[0m\u001b[0;34m\u001b[0m\u001b[0m\n\u001b[0m\u001b[1;32m     45\u001b[0m         \u001b[0;32melse\u001b[0m\u001b[0;34m:\u001b[0m\u001b[0;34m\u001b[0m\u001b[0;34m\u001b[0m\u001b[0m\n\u001b[1;32m     46\u001b[0m             \u001b[0mdata\u001b[0m \u001b[0;34m=\u001b[0m \u001b[0mself\u001b[0m\u001b[0;34m.\u001b[0m\u001b[0mdataset\u001b[0m\u001b[0;34m[\u001b[0m\u001b[0mpossibly_batched_index\u001b[0m\u001b[0;34m]\u001b[0m\u001b[0;34m\u001b[0m\u001b[0;34m\u001b[0m\u001b[0m\n",
      "\u001b[0;32m/scratch/enis/conda/envs/soundenv3/lib/python3.7/site-packages/torch/utils/data/_utils/fetch.py\u001b[0m in \u001b[0;36m<listcomp>\u001b[0;34m(.0)\u001b[0m\n\u001b[1;32m     42\u001b[0m     \u001b[0;32mdef\u001b[0m \u001b[0mfetch\u001b[0m\u001b[0;34m(\u001b[0m\u001b[0mself\u001b[0m\u001b[0;34m,\u001b[0m \u001b[0mpossibly_batched_index\u001b[0m\u001b[0;34m)\u001b[0m\u001b[0;34m:\u001b[0m\u001b[0;34m\u001b[0m\u001b[0;34m\u001b[0m\u001b[0m\n\u001b[1;32m     43\u001b[0m         \u001b[0;32mif\u001b[0m \u001b[0mself\u001b[0m\u001b[0;34m.\u001b[0m\u001b[0mauto_collation\u001b[0m\u001b[0;34m:\u001b[0m\u001b[0;34m\u001b[0m\u001b[0;34m\u001b[0m\u001b[0m\n\u001b[0;32m---> 44\u001b[0;31m             \u001b[0mdata\u001b[0m \u001b[0;34m=\u001b[0m \u001b[0;34m[\u001b[0m\u001b[0mself\u001b[0m\u001b[0;34m.\u001b[0m\u001b[0mdataset\u001b[0m\u001b[0;34m[\u001b[0m\u001b[0midx\u001b[0m\u001b[0;34m]\u001b[0m \u001b[0;32mfor\u001b[0m \u001b[0midx\u001b[0m \u001b[0;32min\u001b[0m \u001b[0mpossibly_batched_index\u001b[0m\u001b[0;34m]\u001b[0m\u001b[0;34m\u001b[0m\u001b[0;34m\u001b[0m\u001b[0m\n\u001b[0m\u001b[1;32m     45\u001b[0m         \u001b[0;32melse\u001b[0m\u001b[0;34m:\u001b[0m\u001b[0;34m\u001b[0m\u001b[0;34m\u001b[0m\u001b[0m\n\u001b[1;32m     46\u001b[0m             \u001b[0mdata\u001b[0m \u001b[0;34m=\u001b[0m \u001b[0mself\u001b[0m\u001b[0;34m.\u001b[0m\u001b[0mdataset\u001b[0m\u001b[0;34m[\u001b[0m\u001b[0mpossibly_batched_index\u001b[0m\u001b[0;34m]\u001b[0m\u001b[0;34m\u001b[0m\u001b[0;34m\u001b[0m\u001b[0m\n",
      "\u001b[0;32m~/projects/nna/src/nna/exp/runutils.py\u001b[0m in \u001b[0;36m__getitem__\u001b[0;34m(self, idx)\u001b[0m\n\u001b[1;32m    238\u001b[0m \u001b[0;34m\u001b[0m\u001b[0m\n\u001b[1;32m    239\u001b[0m         \u001b[0;32mif\u001b[0m \u001b[0mself\u001b[0m\u001b[0;34m.\u001b[0m\u001b[0mtransform\u001b[0m\u001b[0;34m:\u001b[0m\u001b[0;34m\u001b[0m\u001b[0;34m\u001b[0m\u001b[0m\n\u001b[0;32m--> 240\u001b[0;31m             \u001b[0msample\u001b[0m \u001b[0;34m=\u001b[0m \u001b[0mself\u001b[0m\u001b[0;34m.\u001b[0m\u001b[0mtransform\u001b[0m\u001b[0;34m(\u001b[0m\u001b[0msample\u001b[0m\u001b[0;34m)\u001b[0m\u001b[0;34m\u001b[0m\u001b[0;34m\u001b[0m\u001b[0m\n\u001b[0m\u001b[1;32m    241\u001b[0m \u001b[0;34m\u001b[0m\u001b[0m\n\u001b[1;32m    242\u001b[0m         \u001b[0;32mreturn\u001b[0m \u001b[0msample\u001b[0m\u001b[0;34m\u001b[0m\u001b[0;34m\u001b[0m\u001b[0m\n",
      "\u001b[0;32m/scratch/enis/conda/envs/soundenv3/lib/python3.7/site-packages/torchvision/transforms/transforms.py\u001b[0m in \u001b[0;36m__call__\u001b[0;34m(self, img)\u001b[0m\n\u001b[1;32m     65\u001b[0m     \u001b[0;32mdef\u001b[0m \u001b[0m__call__\u001b[0m\u001b[0;34m(\u001b[0m\u001b[0mself\u001b[0m\u001b[0;34m,\u001b[0m \u001b[0mimg\u001b[0m\u001b[0;34m)\u001b[0m\u001b[0;34m:\u001b[0m\u001b[0;34m\u001b[0m\u001b[0;34m\u001b[0m\u001b[0m\n\u001b[1;32m     66\u001b[0m         \u001b[0;32mfor\u001b[0m \u001b[0mt\u001b[0m \u001b[0;32min\u001b[0m \u001b[0mself\u001b[0m\u001b[0;34m.\u001b[0m\u001b[0mtransforms\u001b[0m\u001b[0;34m:\u001b[0m\u001b[0;34m\u001b[0m\u001b[0;34m\u001b[0m\u001b[0m\n\u001b[0;32m---> 67\u001b[0;31m             \u001b[0mimg\u001b[0m \u001b[0;34m=\u001b[0m \u001b[0mt\u001b[0m\u001b[0;34m(\u001b[0m\u001b[0mimg\u001b[0m\u001b[0;34m)\u001b[0m\u001b[0;34m\u001b[0m\u001b[0;34m\u001b[0m\u001b[0m\n\u001b[0m\u001b[1;32m     68\u001b[0m         \u001b[0;32mreturn\u001b[0m \u001b[0mimg\u001b[0m\u001b[0;34m\u001b[0m\u001b[0;34m\u001b[0m\u001b[0m\n\u001b[1;32m     69\u001b[0m \u001b[0;34m\u001b[0m\u001b[0m\n",
      "\u001b[0;32m<ipython-input-36-7b1cd6b0f521>\u001b[0m in \u001b[0;36m__call__\u001b[0;34m(self, sample)\u001b[0m\n\u001b[1;32m     23\u001b[0m \u001b[0;34m\u001b[0m\u001b[0m\n\u001b[1;32m     24\u001b[0m         \u001b[0mdb_transform\u001b[0m \u001b[0;34m=\u001b[0m \u001b[0mtorchaudio\u001b[0m\u001b[0;34m.\u001b[0m\u001b[0mtransforms\u001b[0m\u001b[0;34m.\u001b[0m\u001b[0mAmplitudeToDB\u001b[0m\u001b[0;34m(\u001b[0m\u001b[0;34m\"power\"\u001b[0m\u001b[0;34m,\u001b[0m \u001b[0;36m80.\u001b[0m\u001b[0;34m)\u001b[0m\u001b[0;34m\u001b[0m\u001b[0;34m\u001b[0m\u001b[0m\n\u001b[0;32m---> 25\u001b[0;31m         \u001b[0mmel\u001b[0m \u001b[0;34m=\u001b[0m \u001b[0mmelspect_transform\u001b[0m\u001b[0;34m(\u001b[0m\u001b[0mx\u001b[0m\u001b[0;34m.\u001b[0m\u001b[0mreshape\u001b[0m\u001b[0;34m(\u001b[0m\u001b[0;34m-\u001b[0m\u001b[0;36m1\u001b[0m\u001b[0;34m)\u001b[0m\u001b[0;34m)\u001b[0m\u001b[0;34m\u001b[0m\u001b[0;34m\u001b[0m\u001b[0m\n\u001b[0m\u001b[1;32m     26\u001b[0m         \u001b[0man_x\u001b[0m \u001b[0;34m=\u001b[0m \u001b[0mdb_transform\u001b[0m\u001b[0;34m(\u001b[0m\u001b[0mmel\u001b[0m\u001b[0;34m)\u001b[0m\u001b[0;34m\u001b[0m\u001b[0;34m\u001b[0m\u001b[0m\n\u001b[1;32m     27\u001b[0m         \u001b[0;31m#librosa version\u001b[0m\u001b[0;34m\u001b[0m\u001b[0;34m\u001b[0m\u001b[0;34m\u001b[0m\u001b[0m\n",
      "\u001b[0;32m/scratch/enis/conda/envs/soundenv3/lib/python3.7/site-packages/torch/nn/modules/module.py\u001b[0m in \u001b[0;36m_call_impl\u001b[0;34m(self, *input, **kwargs)\u001b[0m\n\u001b[1;32m    725\u001b[0m             \u001b[0mresult\u001b[0m \u001b[0;34m=\u001b[0m \u001b[0mself\u001b[0m\u001b[0;34m.\u001b[0m\u001b[0m_slow_forward\u001b[0m\u001b[0;34m(\u001b[0m\u001b[0;34m*\u001b[0m\u001b[0minput\u001b[0m\u001b[0;34m,\u001b[0m \u001b[0;34m**\u001b[0m\u001b[0mkwargs\u001b[0m\u001b[0;34m)\u001b[0m\u001b[0;34m\u001b[0m\u001b[0;34m\u001b[0m\u001b[0m\n\u001b[1;32m    726\u001b[0m         \u001b[0;32melse\u001b[0m\u001b[0;34m:\u001b[0m\u001b[0;34m\u001b[0m\u001b[0;34m\u001b[0m\u001b[0m\n\u001b[0;32m--> 727\u001b[0;31m             \u001b[0mresult\u001b[0m \u001b[0;34m=\u001b[0m \u001b[0mself\u001b[0m\u001b[0;34m.\u001b[0m\u001b[0mforward\u001b[0m\u001b[0;34m(\u001b[0m\u001b[0;34m*\u001b[0m\u001b[0minput\u001b[0m\u001b[0;34m,\u001b[0m \u001b[0;34m**\u001b[0m\u001b[0mkwargs\u001b[0m\u001b[0;34m)\u001b[0m\u001b[0;34m\u001b[0m\u001b[0;34m\u001b[0m\u001b[0m\n\u001b[0m\u001b[1;32m    728\u001b[0m         for hook in itertools.chain(\n\u001b[1;32m    729\u001b[0m                 \u001b[0m_global_forward_hooks\u001b[0m\u001b[0;34m.\u001b[0m\u001b[0mvalues\u001b[0m\u001b[0;34m(\u001b[0m\u001b[0;34m)\u001b[0m\u001b[0;34m,\u001b[0m\u001b[0;34m\u001b[0m\u001b[0;34m\u001b[0m\u001b[0m\n",
      "\u001b[0;32m/scratch/enis/conda/envs/soundenv3/lib/python3.7/site-packages/torchaudio/transforms.py\u001b[0m in \u001b[0;36mforward\u001b[0;34m(self, waveform)\u001b[0m\n\u001b[1;32m    432\u001b[0m             \u001b[0mTensor\u001b[0m\u001b[0;34m:\u001b[0m \u001b[0mMel\u001b[0m \u001b[0mfrequency\u001b[0m \u001b[0mspectrogram\u001b[0m \u001b[0mof\u001b[0m \u001b[0msize\u001b[0m \u001b[0;34m(\u001b[0m\u001b[0;34m...\u001b[0m\u001b[0;34m,\u001b[0m\u001b[0;31m \u001b[0m\u001b[0;31m`\u001b[0m\u001b[0;31m`\u001b[0m\u001b[0mn_mels\u001b[0m\u001b[0;31m`\u001b[0m\u001b[0;31m`\u001b[0m\u001b[0;34m,\u001b[0m \u001b[0mtime\u001b[0m\u001b[0;34m)\u001b[0m\u001b[0;34m.\u001b[0m\u001b[0;34m\u001b[0m\u001b[0;34m\u001b[0m\u001b[0m\n\u001b[1;32m    433\u001b[0m         \"\"\"\n\u001b[0;32m--> 434\u001b[0;31m         \u001b[0mspecgram\u001b[0m \u001b[0;34m=\u001b[0m \u001b[0mself\u001b[0m\u001b[0;34m.\u001b[0m\u001b[0mspectrogram\u001b[0m\u001b[0;34m(\u001b[0m\u001b[0mwaveform\u001b[0m\u001b[0;34m)\u001b[0m\u001b[0;34m\u001b[0m\u001b[0;34m\u001b[0m\u001b[0m\n\u001b[0m\u001b[1;32m    435\u001b[0m         \u001b[0mmel_specgram\u001b[0m \u001b[0;34m=\u001b[0m \u001b[0mself\u001b[0m\u001b[0;34m.\u001b[0m\u001b[0mmel_scale\u001b[0m\u001b[0;34m(\u001b[0m\u001b[0mspecgram\u001b[0m\u001b[0;34m)\u001b[0m\u001b[0;34m\u001b[0m\u001b[0;34m\u001b[0m\u001b[0m\n\u001b[1;32m    436\u001b[0m         \u001b[0;32mreturn\u001b[0m \u001b[0mmel_specgram\u001b[0m\u001b[0;34m\u001b[0m\u001b[0;34m\u001b[0m\u001b[0m\n",
      "\u001b[0;32m/scratch/enis/conda/envs/soundenv3/lib/python3.7/site-packages/torch/nn/modules/module.py\u001b[0m in \u001b[0;36m_call_impl\u001b[0;34m(self, *input, **kwargs)\u001b[0m\n\u001b[1;32m    725\u001b[0m             \u001b[0mresult\u001b[0m \u001b[0;34m=\u001b[0m \u001b[0mself\u001b[0m\u001b[0;34m.\u001b[0m\u001b[0m_slow_forward\u001b[0m\u001b[0;34m(\u001b[0m\u001b[0;34m*\u001b[0m\u001b[0minput\u001b[0m\u001b[0;34m,\u001b[0m \u001b[0;34m**\u001b[0m\u001b[0mkwargs\u001b[0m\u001b[0;34m)\u001b[0m\u001b[0;34m\u001b[0m\u001b[0;34m\u001b[0m\u001b[0m\n\u001b[1;32m    726\u001b[0m         \u001b[0;32melse\u001b[0m\u001b[0;34m:\u001b[0m\u001b[0;34m\u001b[0m\u001b[0;34m\u001b[0m\u001b[0m\n\u001b[0;32m--> 727\u001b[0;31m             \u001b[0mresult\u001b[0m \u001b[0;34m=\u001b[0m \u001b[0mself\u001b[0m\u001b[0;34m.\u001b[0m\u001b[0mforward\u001b[0m\u001b[0;34m(\u001b[0m\u001b[0;34m*\u001b[0m\u001b[0minput\u001b[0m\u001b[0;34m,\u001b[0m \u001b[0;34m**\u001b[0m\u001b[0mkwargs\u001b[0m\u001b[0;34m)\u001b[0m\u001b[0;34m\u001b[0m\u001b[0;34m\u001b[0m\u001b[0m\n\u001b[0m\u001b[1;32m    728\u001b[0m         for hook in itertools.chain(\n\u001b[1;32m    729\u001b[0m                 \u001b[0m_global_forward_hooks\u001b[0m\u001b[0;34m.\u001b[0m\u001b[0mvalues\u001b[0m\u001b[0;34m(\u001b[0m\u001b[0;34m)\u001b[0m\u001b[0;34m,\u001b[0m\u001b[0;34m\u001b[0m\u001b[0;34m\u001b[0m\u001b[0m\n",
      "\u001b[0;32m/scratch/enis/conda/envs/soundenv3/lib/python3.7/site-packages/torchaudio/transforms.py\u001b[0m in \u001b[0;36mforward\u001b[0;34m(self, waveform)\u001b[0m\n\u001b[1;32m     82\u001b[0m         \"\"\"\n\u001b[1;32m     83\u001b[0m         return F.spectrogram(waveform, self.pad, self.window, self.n_fft, self.hop_length,\n\u001b[0;32m---> 84\u001b[0;31m                              self.win_length, self.power, self.normalized)\n\u001b[0m\u001b[1;32m     85\u001b[0m \u001b[0;34m\u001b[0m\u001b[0m\n\u001b[1;32m     86\u001b[0m \u001b[0;34m\u001b[0m\u001b[0m\n",
      "\u001b[0;32m/scratch/enis/conda/envs/soundenv3/lib/python3.7/site-packages/torchaudio/functional.py\u001b[0m in \u001b[0;36mspectrogram\u001b[0;34m(waveform, pad, window, n_fft, hop_length, win_length, power, normalized)\u001b[0m\n\u001b[1;32m     86\u001b[0m     \u001b[0;31m# default values are consistent with librosa.core.spectrum._spectrogram\u001b[0m\u001b[0;34m\u001b[0m\u001b[0;34m\u001b[0m\u001b[0;34m\u001b[0m\u001b[0m\n\u001b[1;32m     87\u001b[0m     spec_f = torch.stft(\n\u001b[0;32m---> 88\u001b[0;31m         \u001b[0mwaveform\u001b[0m\u001b[0;34m,\u001b[0m \u001b[0mn_fft\u001b[0m\u001b[0;34m,\u001b[0m \u001b[0mhop_length\u001b[0m\u001b[0;34m,\u001b[0m \u001b[0mwin_length\u001b[0m\u001b[0;34m,\u001b[0m \u001b[0mwindow\u001b[0m\u001b[0;34m,\u001b[0m \u001b[0;32mTrue\u001b[0m\u001b[0;34m,\u001b[0m \u001b[0;34m\"reflect\"\u001b[0m\u001b[0;34m,\u001b[0m \u001b[0;32mFalse\u001b[0m\u001b[0;34m,\u001b[0m \u001b[0;32mTrue\u001b[0m\u001b[0;34m\u001b[0m\u001b[0;34m\u001b[0m\u001b[0m\n\u001b[0m\u001b[1;32m     89\u001b[0m     )\n\u001b[1;32m     90\u001b[0m \u001b[0;34m\u001b[0m\u001b[0m\n",
      "\u001b[0;32m/scratch/enis/conda/envs/soundenv3/lib/python3.7/site-packages/torch/functional.py\u001b[0m in \u001b[0;36mstft\u001b[0;34m(input, n_fft, hop_length, win_length, window, center, pad_mode, normalized, onesided, return_complex)\u001b[0m\n\u001b[1;32m    511\u001b[0m         \u001b[0mextended_shape\u001b[0m \u001b[0;34m=\u001b[0m \u001b[0;34m[\u001b[0m\u001b[0;36m1\u001b[0m\u001b[0;34m]\u001b[0m \u001b[0;34m*\u001b[0m \u001b[0;34m(\u001b[0m\u001b[0;36m3\u001b[0m \u001b[0;34m-\u001b[0m \u001b[0msignal_dim\u001b[0m\u001b[0;34m)\u001b[0m \u001b[0;34m+\u001b[0m \u001b[0mlist\u001b[0m\u001b[0;34m(\u001b[0m\u001b[0minput\u001b[0m\u001b[0;34m.\u001b[0m\u001b[0msize\u001b[0m\u001b[0;34m(\u001b[0m\u001b[0;34m)\u001b[0m\u001b[0;34m)\u001b[0m\u001b[0;34m\u001b[0m\u001b[0;34m\u001b[0m\u001b[0m\n\u001b[1;32m    512\u001b[0m         \u001b[0mpad\u001b[0m \u001b[0;34m=\u001b[0m \u001b[0mint\u001b[0m\u001b[0;34m(\u001b[0m\u001b[0mn_fft\u001b[0m \u001b[0;34m//\u001b[0m \u001b[0;36m2\u001b[0m\u001b[0;34m)\u001b[0m\u001b[0;34m\u001b[0m\u001b[0;34m\u001b[0m\u001b[0m\n\u001b[0;32m--> 513\u001b[0;31m         \u001b[0minput\u001b[0m \u001b[0;34m=\u001b[0m \u001b[0mF\u001b[0m\u001b[0;34m.\u001b[0m\u001b[0mpad\u001b[0m\u001b[0;34m(\u001b[0m\u001b[0minput\u001b[0m\u001b[0;34m.\u001b[0m\u001b[0mview\u001b[0m\u001b[0;34m(\u001b[0m\u001b[0mextended_shape\u001b[0m\u001b[0;34m)\u001b[0m\u001b[0;34m,\u001b[0m \u001b[0;34m(\u001b[0m\u001b[0mpad\u001b[0m\u001b[0;34m,\u001b[0m \u001b[0mpad\u001b[0m\u001b[0;34m)\u001b[0m\u001b[0;34m,\u001b[0m \u001b[0mpad_mode\u001b[0m\u001b[0;34m)\u001b[0m\u001b[0;34m\u001b[0m\u001b[0;34m\u001b[0m\u001b[0m\n\u001b[0m\u001b[1;32m    514\u001b[0m         \u001b[0minput\u001b[0m \u001b[0;34m=\u001b[0m \u001b[0minput\u001b[0m\u001b[0;34m.\u001b[0m\u001b[0mview\u001b[0m\u001b[0;34m(\u001b[0m\u001b[0minput\u001b[0m\u001b[0;34m.\u001b[0m\u001b[0mshape\u001b[0m\u001b[0;34m[\u001b[0m\u001b[0;34m-\u001b[0m\u001b[0msignal_dim\u001b[0m\u001b[0;34m:\u001b[0m\u001b[0;34m]\u001b[0m\u001b[0;34m)\u001b[0m\u001b[0;34m\u001b[0m\u001b[0;34m\u001b[0m\u001b[0m\n\u001b[1;32m    515\u001b[0m     return _VF.stft(input, n_fft, hop_length, win_length, window,  # type: ignore\n",
      "\u001b[0;32m/scratch/enis/conda/envs/soundenv3/lib/python3.7/site-packages/torch/nn/functional.py\u001b[0m in \u001b[0;36m_pad\u001b[0;34m(input, pad, mode, value)\u001b[0m\n\u001b[1;32m   3557\u001b[0m             \u001b[0;32massert\u001b[0m \u001b[0mlen\u001b[0m\u001b[0;34m(\u001b[0m\u001b[0mpad\u001b[0m\u001b[0;34m)\u001b[0m \u001b[0;34m==\u001b[0m \u001b[0;36m2\u001b[0m\u001b[0;34m,\u001b[0m \u001b[0;34m'3D tensors expect 2 values for padding'\u001b[0m\u001b[0;34m\u001b[0m\u001b[0;34m\u001b[0m\u001b[0m\n\u001b[1;32m   3558\u001b[0m             \u001b[0;32mif\u001b[0m \u001b[0mmode\u001b[0m \u001b[0;34m==\u001b[0m \u001b[0;34m'reflect'\u001b[0m\u001b[0;34m:\u001b[0m\u001b[0;34m\u001b[0m\u001b[0;34m\u001b[0m\u001b[0m\n\u001b[0;32m-> 3559\u001b[0;31m                 \u001b[0;32mreturn\u001b[0m \u001b[0mtorch\u001b[0m\u001b[0;34m.\u001b[0m\u001b[0m_C\u001b[0m\u001b[0;34m.\u001b[0m\u001b[0m_nn\u001b[0m\u001b[0;34m.\u001b[0m\u001b[0mreflection_pad1d\u001b[0m\u001b[0;34m(\u001b[0m\u001b[0minput\u001b[0m\u001b[0;34m,\u001b[0m \u001b[0mpad\u001b[0m\u001b[0;34m)\u001b[0m\u001b[0;34m\u001b[0m\u001b[0;34m\u001b[0m\u001b[0m\n\u001b[0m\u001b[1;32m   3560\u001b[0m             \u001b[0;32melif\u001b[0m \u001b[0mmode\u001b[0m \u001b[0;34m==\u001b[0m \u001b[0;34m'replicate'\u001b[0m\u001b[0;34m:\u001b[0m\u001b[0;34m\u001b[0m\u001b[0;34m\u001b[0m\u001b[0m\n\u001b[1;32m   3561\u001b[0m                 \u001b[0;32mreturn\u001b[0m \u001b[0mtorch\u001b[0m\u001b[0;34m.\u001b[0m\u001b[0m_C\u001b[0m\u001b[0;34m.\u001b[0m\u001b[0m_nn\u001b[0m\u001b[0;34m.\u001b[0m\u001b[0mreplication_pad1d\u001b[0m\u001b[0;34m(\u001b[0m\u001b[0minput\u001b[0m\u001b[0;34m,\u001b[0m \u001b[0mpad\u001b[0m\u001b[0;34m)\u001b[0m\u001b[0;34m\u001b[0m\u001b[0;34m\u001b[0m\u001b[0m\n",
      "\u001b[0;31mKeyboardInterrupt\u001b[0m: "
     ]
    }
   ],
   "source": [
    "# no init 16, 64\n",
    "print('ready ?')\n",
    "runutils.run(model, dataloaders, optimizer, criterion, metrics, device,config, runconfigs.PROJECT_NAME)\n"
   ]
  },
  {
   "cell_type": "code",
   "execution_count": null,
   "metadata": {},
   "outputs": [],
   "source": [
    "model.fc1.weight"
   ]
  },
  {
   "cell_type": "code",
   "execution_count": null,
   "metadata": {},
   "outputs": [],
   "source": [
    "\n",
    "example_input = (torch.ones((1,1,h_w[0]*h_w[1]))*-32767)\n",
    "example_input = example_input.float().to(device)\n",
    "out=model(example_input)\n",
    "out\n",
    "\n",
    "activated_output_transform((out,out))"
   ]
  },
  {
   "cell_type": "code",
   "execution_count": null,
   "metadata": {},
   "outputs": [],
   "source": [
    "torch.Tensor([10,10,10])"
   ]
  },
  {
   "cell_type": "code",
   "execution_count": null,
   "metadata": {},
   "outputs": [],
   "source": [
    "sum(model.fc1.weight)"
   ]
  },
  {
   "cell_type": "code",
   "execution_count": null,
   "metadata": {},
   "outputs": [],
   "source": [
    "m = nn.Sigmoid()\n",
    "\n",
    "loss = nn.BCEWithLogitsLoss()\n",
    "input = torch.tensor([100.0,100,100], requires_grad=True)\n",
    "# target = torch.empty(3).random_(2)\n",
    "target = torch.ones(3)\n",
    "output = loss((input), target)\n",
    "input,target,output"
   ]
  },
  {
   "cell_type": "code",
   "execution_count": null,
   "metadata": {},
   "outputs": [],
   "source": [
    "input"
   ]
  },
  {
   "cell_type": "code",
   "execution_count": null,
   "metadata": {},
   "outputs": [],
   "source": [
    "target"
   ]
  },
  {
   "cell_type": "code",
   "execution_count": null,
   "metadata": {},
   "outputs": [],
   "source": [
    "output"
   ]
  },
  {
   "cell_type": "code",
   "execution_count": null,
   "metadata": {},
   "outputs": [],
   "source": [
    "m(input)"
   ]
  },
  {
   "cell_type": "code",
   "execution_count": null,
   "metadata": {},
   "outputs": [],
   "source": []
  },
  {
   "cell_type": "code",
   "execution_count": null,
   "metadata": {},
   "outputs": [],
   "source": []
  },
  {
   "cell_type": "code",
   "execution_count": null,
   "metadata": {},
   "outputs": [],
   "source": []
  }
 ],
 "metadata": {
  "kernelspec": {
   "display_name": "soundenv3",
   "language": "python",
   "name": "soundenv3"
  },
  "language_info": {
   "codemirror_mode": {
    "name": "ipython",
    "version": 3
   },
   "file_extension": ".py",
   "mimetype": "text/x-python",
   "name": "python",
   "nbconvert_exporter": "python",
   "pygments_lexer": "ipython3",
   "version": "3.7.9"
  }
 },
 "nbformat": 4,
 "nbformat_minor": 4
}
