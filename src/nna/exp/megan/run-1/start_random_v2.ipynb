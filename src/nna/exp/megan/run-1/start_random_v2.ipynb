{
 "cells": [
  {
   "cell_type": "code",
   "execution_count": 1,
   "metadata": {},
   "outputs": [],
   "source": [
    "import os\n",
    "\n",
    "os.chdir('/home/enis/projects/nna/src/nna/exp/megan/run-1/')\n"
   ]
  },
  {
   "cell_type": "code",
   "execution_count": 2,
   "metadata": {},
   "outputs": [
    {
     "name": "stderr",
     "output_type": "stream",
     "text": [
      "/scratch/enis/conda/envs/soundenv3/lib/python3.7/site-packages/torchaudio/backend/utils.py:54: UserWarning: \"sox\" backend is being deprecated. The default backend will be changed to \"sox_io\" backend in 0.8.0 and \"sox\" backend will be removed in 0.9.0. Please migrate to \"sox_io\" backend. Please refer to https://github.com/pytorch/audio/issues/903 for the detail.\n",
      "  '\"sox\" backend is being deprecated. '\n"
     ]
    }
   ],
   "source": [
    "# import run\n",
    "# import nna\n",
    "import torch\n",
    "import torch.nn as nn\n",
    "import torch.nn.functional as F\n",
    "from torchvision import transforms\n",
    "import torchaudio\n",
    "torchaudio.set_audio_backend(\"sox_io\")\n",
    "\n",
    "import numpy as np"
   ]
  },
  {
   "cell_type": "code",
   "execution_count": 3,
   "metadata": {},
   "outputs": [],
   "source": [
    "best_solution_per_taxo_w_loc_name={'1.0.0': [['44', '46', '17', '14'],\n",
    "  ['11', '34', '27'],\n",
    "  ['31', '50', '18', '12', '30', '39', '48', '45']],\n",
    " '3.0.0': [['40', '20', '14', '17', '13', '36', '25', '33'],\n",
    "  ['18', '38', '39'],\n",
    "  ['32', '45']],\n",
    " 'X.X.X': [['45', '14', '27', '25', '34', '46', '29', '18', '38'],\n",
    "  ['36'],\n",
    "  ['32', '20', '21']],\n",
    " '1.1.10': [['49', '48', '19', '16', '22', '37', '29', '25', '31', '27'],\n",
    "  ['46', '20', '11', '33', '24'],\n",
    "  ['17', '21', '39', '30', '38', '18', '47', '50', '14']],\n",
    " '1.1.0': [['12',\n",
    "   '37',\n",
    "   '11',\n",
    "   '22',\n",
    "   '18',\n",
    "   '44',\n",
    "   '29',\n",
    "   '46',\n",
    "   '13',\n",
    "   '34',\n",
    "   '25',\n",
    "   '24',\n",
    "   '17',\n",
    "   '40',\n",
    "   '31',\n",
    "   '27',\n",
    "   '14'],\n",
    "  ['19', '16', '39', '30', '38', '41'],\n",
    "  ['50', '20', '47', '49', '48', '21', '15', '36']],\n",
    " '1.3.0': [['21', '40', '32', '39', '41', '44'],\n",
    "  ['50', '20', '38', '11'],\n",
    "  ['24', '19', '27', '14']],\n",
    " '1.1.8': [['20', '16', '11', '37', '15', '25', '31'],\n",
    "  ['21', '49', '38'],\n",
    "  ['22', '40']],\n",
    " '1.1.7': [['16', '30', '15', '46', '27'],\n",
    "  ['49', '25', '24'],\n",
    "  ['20', '39', '48', '19', '38', '22', '29', '11', '40']],\n",
    " '0.2.0': [['17'], ['24', '27'], ['19', '15']],\n",
    " '0.0.0': [['29'], ['24'], ['12', '27']],\n",
    " '1.1.3': [['46', '25'], ['24'], ['27', '22', '38']],\n",
    " '2.1.0': [['34', '33'], ['36'], ['46']],\n",
    " '0.1.0': [['29'], ['25'], ['24']]}\n",
    "error_because_small = ['1.2.4',\n",
    "'1.1.5',\n",
    "'1.2.0',\n",
    "'0.4.0']\n"
   ]
  },
  {
   "cell_type": "code",
   "execution_count": 4,
   "metadata": {},
   "outputs": [],
   "source": [
    "import runconfigs\n",
    "import wandb\n",
    "from ignite.metrics import Accuracy, Loss\n",
    "from ignite.contrib.metrics import ROC_AUC"
   ]
  },
  {
   "cell_type": "code",
   "execution_count": 5,
   "metadata": {},
   "outputs": [],
   "source": [
    "# from nna.exp import augmentations,\n",
    "from nna.exp import modelArchs,runutils"
   ]
  },
  {
   "cell_type": "code",
   "execution_count": 6,
   "metadata": {},
   "outputs": [],
   "source": [
    "# wandb.init(config=runconfigs.default_config, project=runconfigs.PROJECT_NAME)\n",
    "# config = wandb.config\n",
    "config = runconfigs.default_config\n",
    "# wandb.config.update(args) # adds all of the arguments as config variables\n",
    "\n",
    "params = {\n",
    "    'batch_size': config['batch_size'],\n",
    "    'shuffle': True,\n",
    "    'num_workers': 0\n",
    "}\n"
   ]
  },
  {
   "cell_type": "code",
   "execution_count": 7,
   "metadata": {},
   "outputs": [],
   "source": [
    "device = torch.device(\n",
    "    f\"cuda:{config['device']}\" if torch.cuda.is_available() else \"cpu\")\n"
   ]
  },
  {
   "cell_type": "code",
   "execution_count": 8,
   "metadata": {},
   "outputs": [],
   "source": [
    "from pathlib import Path\n",
    "import numpy as np\n",
    "from sklearn.model_selection import train_test_split\n",
    "\n",
    "# labelsbyhumanpath = Path('/scratch/enis/data/nna/labeling/results/')\n",
    "# sourcePath = Path(\"/scratch/enis/data/nna/labeling/splits/\")\n"
   ]
  },
  {
   "cell_type": "code",
   "execution_count": 32,
   "metadata": {},
   "outputs": [],
   "source": [
    "CATEGORY_COUNT = 2\n"
   ]
  },
  {
   "cell_type": "code",
   "execution_count": null,
   "metadata": {},
   "outputs": [],
   "source": []
  },
  {
   "cell_type": "code",
   "execution_count": 10,
   "metadata": {},
   "outputs": [],
   "source": [
    "from collections import Counter\n"
   ]
  },
  {
   "cell_type": "code",
   "execution_count": null,
   "metadata": {},
   "outputs": [],
   "source": []
  },
  {
   "cell_type": "code",
   "execution_count": 11,
   "metadata": {},
   "outputs": [],
   "source": [
    " # RAW DATA\n",
    "def load_raw_data(sample_count,CATEGORY_COUNT):\n",
    "    sample_count = 1200\n",
    "    X = np.empty((sample_count,480000),dtype=np.float32)\n",
    "    y_true = np.random.randint(0,CATEGORY_COUNT,(sample_count))\n",
    "    for i,y in enumerate(y_true):\n",
    "        X[i,:] = y\n",
    "    X = np.interp(X, (X.min(), X.max()), (-32768 , 32767))\n",
    "    n_values = np.max(y_true) + 1\n",
    "    y_true = np.eye(n_values)[y_true]\n",
    "    X_train, X_test, y_train, y_test = train_test_split(\n",
    "                    X, y_true, test_size=0.2, random_state=42)\n",
    "    X_train, X_val, y_train, y_val = train_test_split(\n",
    "                    X_train, y_train, test_size=0.25,random_state=42)\n",
    "    return X_train,X_test,X_val,y_train,y_test,y_val\n",
    "\n",
    "def mock_raw_data(sample_count,CATEGORY_COUNT):\n",
    "#     sample_count = 30\n",
    "    X = np.empty((sample_count*CATEGORY_COUNT,480000),dtype=np.float32)\n",
    "    # y_true = np.random.randint(0,CATEGORY_COUNT,(sample_count))\n",
    "    y_true=[]\n",
    "    for i in range(CATEGORY_COUNT):\n",
    "        y_true.extend([i]*sample_count)\n",
    "    print(len(y_true))\n",
    "    for i,y in enumerate(y_true):\n",
    "        X[i,:] = y\n",
    "    X = np.interp(X, (X.min(), X.max()), (0 , 3400))\n",
    "#     X = np.interp(X, (X.min(), X.max()), (-32768 , 32767))\n",
    "    n_values = np.max(y_true) + 1\n",
    "    y_true = np.eye(n_values)[y_true]\n",
    "    X_train, X_test, y_train, y_test = train_test_split(\n",
    "                    X, y_true, test_size=0.2, random_state=42)\n",
    "    X_train, X_val, y_train, y_val = train_test_split(\n",
    "                    X_train, y_train, test_size=0.25,random_state=42)\n",
    "#     print(y_train)\n",
    "    return X_train,X_test,X_val,y_train,y_test,y_val\n",
    "    \n"
   ]
  },
  {
   "cell_type": "code",
   "execution_count": 12,
   "metadata": {},
   "outputs": [
    {
     "name": "stdout",
     "output_type": "stream",
     "text": [
      "/scratch/enis/data/nna/labeling/megan/AudioSamplesPerSite/meganLabeledFiles_wlenV1.txt\n",
      "/scratch/enis/data/nna/labeling/megan/AudioSamplesPerSite\n",
      "4 files are missing corresponding to excell entries\n",
      "'-> 5 number of samples are DELETED due to ignore_files and missing_audio_files'\n",
      "-> 415 samples DELETED because they are not in the excell\n",
      "\n",
      "-> 0 samples DELETED because they do not have the taxo info coming from excell\n",
      "\n",
      "-> classes that do not have enough data:\n",
      "[REMOVED!]\n",
      "['other-mammal'] 0.0\n",
      "['other-silence'] 20.0\n",
      "['unknown-sound'] 2.0\n",
      "['seabirds'] 1.0\n",
      "['canids'] 1.0\n",
      "['other-flare'] 11.0\n",
      "['other-rain'] 20.0\n",
      "\n",
      "-> classes that have enough data:\n",
      "['other-biophony'] 56.0\n",
      "['other-insect'] 140.0\n",
      "['other-bird'] 661.0\n",
      "['songbirds'] 392.0\n",
      "['duck-goose-swan'] 183.0\n",
      "['grouse-ptarmigan'] 59.0\n",
      "['other-anthrophony'] 66.0\n",
      "['other-aircraft'] 107.0\n",
      "['loons'] 29.0\n",
      "['other-car'] 37.0\n",
      "('-> 102 number of samples are deleted because their taxonomy category does '\n",
      " 'not have enough data.')\n",
      "-> classes that do not have enough data\n",
      "will be REMOVED!\n",
      "-> 97 number of samples are deleted because their length is not long enough.\n",
      "loading from cache at /scratch/enis/data/nna/labeling/megan/AudioSamplesPerSite/files_as_np_filtered_v3_int16.pkl\n"
     ]
    }
   ],
   "source": [
    "## Load real data rather than mock \n",
    "    # MVP1: delete parts longer than 10 seconds\n",
    "import run\n",
    "audio_dataset,_ = run.prepare_dataset()\n",
    "\n",
    "output_file_path = '/scratch/enis/data/nna/labeling/megan/AudioSamplesPerSite/files_as_np_filtered_v3_int16.pkl'\n",
    "audio_dataset.load_audio_files(output_file_path)\n",
    "audio_dataset.pick_channel_by_clipping()\n"
   ]
  },
  {
   "cell_type": "code",
   "execution_count": null,
   "metadata": {},
   "outputs": [],
   "source": []
  },
  {
   "cell_type": "code",
   "execution_count": 13,
   "metadata": {},
   "outputs": [],
   "source": [
    "sound_ins=next(iter(audio_dataset.items()))"
   ]
  },
  {
   "cell_type": "code",
   "execution_count": 16,
   "metadata": {},
   "outputs": [
    {
     "data": {
      "text/plain": [
       "'11'"
      ]
     },
     "execution_count": 16,
     "metadata": {},
     "output_type": "execute_result"
    }
   ],
   "source": [
    "sound_ins[1].location_id"
   ]
  },
  {
   "cell_type": "code",
   "execution_count": 17,
   "metadata": {},
   "outputs": [],
   "source": [
    "# sound_ins[1].taxo_code\n",
    "# classA = 1.1.7 #'duck-goose-swan']\n",
    "# classB = 0.2.0 # other-aircraft\n",
    "sampleTest= []\n",
    "y=[]\n",
    "location_id_info = []\n",
    "expected_len=10\n",
    "for sound_ins in audio_dataset.values():\n",
    "    if sound_ins.taxo_code in ['1.1.10','1.1.7']:\n",
    "        y.append(sound_ins.taxo_code)\n",
    "        location_id_info.append(sound_ins.location_id)\n",
    "        if sound_ins.length<10:\n",
    "            tile_reps = (expected_len/(sound_ins.length)+1)\n",
    "            repeated_data = np.tile(sound_ins.data,int(tile_reps))\n",
    "            repeated_data = repeated_data[:expected_len*sound_ins.sr]\n",
    "            sampleTest.append(repeated_data)\n",
    "        else:\n",
    "            sampleTest.append(sound_ins.data[:expected_len*sound_ins.sr])\n",
    "\n",
    "len(sampleTest),len(y)\n",
    "\n",
    "# sampleTest=np.array(sampleTest)"
   ]
  },
  {
   "cell_type": "code",
   "execution_count": null,
   "metadata": {},
   "outputs": [],
   "source": []
  },
  {
   "cell_type": "code",
   "execution_count": 18,
   "metadata": {},
   "outputs": [],
   "source": [
    "from numpy import argmax\n",
    "# define input string\n",
    "# define universe of possible input values\n",
    "alphabet = ['1.1.10','1.1.7']\n",
    "# define a mapping of chars to integers\n",
    "char_to_int = dict((c, i) for i, c in enumerate(alphabet))\n",
    "int_to_char = dict((i, c) for i, c in enumerate(alphabet))\n",
    "# integer encode input data\n",
    "integer_encoded = [char_to_int[char] for char in y]\n",
    "# print(integer_encoded)\n",
    "# one hot encode\n",
    "onehot_encoded = list()\n",
    "for value in integer_encoded:\n",
    "\tletter = [0 for _ in range(len(alphabet))]\n",
    "\tletter[value] = 1\n",
    "\tonehot_encoded.append(letter)\n",
    "# print(onehot_encoded)\n",
    "# invert encoding\n",
    "inverted = int_to_char[argmax(onehot_encoded[0])]\n",
    "# print(inverted)\n",
    "onehot_encoded=np.array(onehot_encoded)"
   ]
  },
  {
   "cell_type": "code",
   "execution_count": 26,
   "metadata": {},
   "outputs": [
    {
     "data": {
      "text/plain": [
       "[['49', '48', '19', '16', '22', '37', '29', '25', '31', '27'],\n",
       " ['46', '20', '11', '33', '24'],\n",
       " ['17', '21', '39', '30', '38', '18', '47', '50', '14']]"
      ]
     },
     "execution_count": 26,
     "metadata": {},
     "output_type": "execute_result"
    }
   ],
   "source": []
  },
  {
   "cell_type": "code",
   "execution_count": 64,
   "metadata": {},
   "outputs": [],
   "source": [
    "X_train,X_test, X_val, y_train, y_test,y_val  = [],[],[],[],[],[]\n",
    "for sample,taxo,y_val_ins,loc_id in  zip(sampleTest,y,onehot_encoded,location_id_info):\n",
    "    if loc_id in best_solution_per_taxo_w_loc_name[taxo][0]:\n",
    "        X_train.append(sample)\n",
    "        y_train.append(y_val_ins)\n",
    "    elif loc_id in best_solution_per_taxo_w_loc_name[taxo][1]:\n",
    "        X_test.append(sample)\n",
    "        y_test.append(y_val_ins)\n",
    "    elif loc_id in best_solution_per_taxo_w_loc_name[taxo][2]:\n",
    "        X_val.append(sample)\n",
    "        y_val.append(y_val_ins)\n",
    "    else:\n",
    "        print('error')\n"
   ]
  },
  {
   "cell_type": "code",
   "execution_count": 113,
   "metadata": {},
   "outputs": [
    {
     "data": {
      "text/plain": [
       "(tensor([81., 32.]), tensor([265.,  96.]), tensor([85., 30.]))"
      ]
     },
     "execution_count": 113,
     "metadata": {},
     "output_type": "execute_result"
    }
   ],
   "source": [
    "sum(y_test),sum(y_train),sum(y_val)"
   ]
  },
  {
   "cell_type": "code",
   "execution_count": 108,
   "metadata": {},
   "outputs": [
    {
     "data": {
      "text/plain": [
       "tensor([[0., 1.],\n",
       "        [0., 1.],\n",
       "        [0., 1.],\n",
       "        [0., 1.],\n",
       "        [0., 1.],\n",
       "        [0., 1.],\n",
       "        [0., 1.],\n",
       "        [0., 1.],\n",
       "        [0., 1.]])"
      ]
     },
     "execution_count": 108,
     "metadata": {},
     "output_type": "execute_result"
    }
   ],
   "source": [
    "y_train[21:30]"
   ]
  },
  {
   "cell_type": "code",
   "execution_count": 106,
   "metadata": {},
   "outputs": [
    {
     "data": {
      "text/plain": [
       "(array([[0, 1],\n",
       "        [0, 1],\n",
       "        [0, 1],\n",
       "        [0, 1],\n",
       "        [0, 1],\n",
       "        [0, 1],\n",
       "        [0, 1],\n",
       "        [0, 1],\n",
       "        [0, 1]]),\n",
       " ['1.1.7',\n",
       "  '1.1.7',\n",
       "  '1.1.7',\n",
       "  '1.1.7',\n",
       "  '1.1.7',\n",
       "  '1.1.7',\n",
       "  '1.1.7',\n",
       "  '1.1.7',\n",
       "  '1.1.7'],\n",
       " ['15', '15', '15', '15', '15', '15', '15', '15', '15'])"
      ]
     },
     "execution_count": 106,
     "metadata": {},
     "output_type": "execute_result"
    }
   ],
   "source": [
    "onehot_encoded[21:30],y[21:30],location_id_info[21:30]"
   ]
  },
  {
   "cell_type": "code",
   "execution_count": 101,
   "metadata": {},
   "outputs": [
    {
     "data": {
      "text/plain": [
       "tensor([[1702., 1718., 1763.,  ..., 1256., 1268., 1262.],\n",
       "        [1030., 1052., 1031.,  ..., 1349., 1353., 1306.],\n",
       "        [1306., 1316., 1358.,  ..., 1159., 1168., 1159.],\n",
       "        ...,\n",
       "        [1289., 1260., 1249.,  ..., 1840., 1806., 1836.],\n",
       "        [1252., 1266., 1271.,  ..., 1759., 1775., 1780.],\n",
       "        [1071., 1099., 1094.,  ..., 2153., 2156., 2171.]])"
      ]
     },
     "execution_count": 101,
     "metadata": {},
     "output_type": "execute_result"
    }
   ],
   "source": [
    "X_train[:10]"
   ]
  },
  {
   "cell_type": "code",
   "execution_count": 65,
   "metadata": {},
   "outputs": [],
   "source": [
    "X_train,X_test,X_val=np.array(X_train),np.array(X_test),np.array(X_val)\n",
    "y_train,y_test,y_val=np.array(y_train),np.array(y_test),np.array(y_val)\n"
   ]
  },
  {
   "cell_type": "code",
   "execution_count": 66,
   "metadata": {},
   "outputs": [],
   "source": [
    "# X_train, X_test, y_train, y_test = train_test_split(\n",
    "#                 sampleTest, onehot_encoded, test_size=0.2, random_state=42)\n",
    "# X_train, X_val, y_train, y_val = train_test_split(\n",
    "#                 X_train, y_train, test_size=0.25,random_state=42)"
   ]
  },
  {
   "cell_type": "code",
   "execution_count": 67,
   "metadata": {},
   "outputs": [],
   "source": [
    "X_train,X_test,X_val=torch.from_numpy(X_train).float(),torch.from_numpy(X_test).float(),torch.from_numpy(X_val).float()\n",
    "y_train,y_test,y_val=torch.from_numpy(y_train).float(),torch.from_numpy(y_test).float(),torch.from_numpy(y_val).float()\n"
   ]
  },
  {
   "cell_type": "code",
   "execution_count": 69,
   "metadata": {},
   "outputs": [
    {
     "data": {
      "text/plain": [
       "(torch.Size([361, 480000]),\n",
       " torch.Size([113, 480000]),\n",
       " torch.Size([115, 480000]))"
      ]
     },
     "execution_count": 69,
     "metadata": {},
     "output_type": "execute_result"
    }
   ],
   "source": [
    "X_train.shape,X_test.shape,X_val.shape"
   ]
  },
  {
   "cell_type": "code",
   "execution_count": 71,
   "metadata": {},
   "outputs": [
    {
     "data": {
      "text/plain": [
       "(torch.Size([361, 2]), torch.Size([113, 2]), torch.Size([115, 2]))"
      ]
     },
     "execution_count": 71,
     "metadata": {},
     "output_type": "execute_result"
    }
   ],
   "source": [
    "y_train.shape,y_test.shape,y_val.shape"
   ]
  },
  {
   "cell_type": "code",
   "execution_count": 72,
   "metadata": {},
   "outputs": [],
   "source": [
    "# # X_train,X_test,X_val,y_train,y_test,y_val = load_raw_data('labelsbyhumanpath','sourcePath')\n",
    "# X_train,X_test,X_val,y_train,y_test,y_val = mock_raw_data(4,CATEGORY_COUNT)\n",
    "# X_train,X_test,X_val=torch.from_numpy(X_train).float(),torch.from_numpy(X_test).float(),torch.from_numpy(X_val).float()\n",
    "# y_train,y_test,y_val=torch.from_numpy(y_train).float(),torch.from_numpy(y_test).float(),torch.from_numpy(y_val).float()\n",
    "\n",
    "# # labelsbyhumanpath = Path('/scratch/enis/data/nna/labeling/results/')\n",
    "# # with open(labelsbyhumanpath/\"np_array_Ymatrix.npy\", 'rb') as f:\n",
    "# #     y_true = np.load(f)\n",
    "\n",
    "# Counter(np.argmax(y_train,axis=1).tolist()),Counter(np.argmax(y_val,axis=1).tolist()),Counter(np.argmax(y_test,axis=1).tolist())\n"
   ]
  },
  {
   "cell_type": "code",
   "execution_count": 73,
   "metadata": {},
   "outputs": [],
   "source": [
    "\n",
    "# X_train2=np.interp(X_train, (X_train.min(), X_train.max()), (-32768 , 32767))\n",
    "# torch.from_numpy(X_train2).float()\n"
   ]
  },
  {
   "cell_type": "code",
   "execution_count": 74,
   "metadata": {},
   "outputs": [],
   "source": [
    "# y_val"
   ]
  },
  {
   "cell_type": "code",
   "execution_count": 75,
   "metadata": {},
   "outputs": [],
   "source": [
    "# smaple_index=10\n",
    "# X_train[smaple_index,:],y_train[smaple_index,]\n"
   ]
  },
  {
   "cell_type": "code",
   "execution_count": null,
   "metadata": {},
   "outputs": [],
   "source": []
  },
  {
   "cell_type": "code",
   "execution_count": 76,
   "metadata": {},
   "outputs": [],
   "source": [
    "# X_train[0,:].shape"
   ]
  },
  {
   "cell_type": "code",
   "execution_count": 77,
   "metadata": {},
   "outputs": [],
   "source": [
    "# multiply(torch.ones((1,2)),torch.ones((1,2)))"
   ]
  },
  {
   "cell_type": "code",
   "execution_count": 78,
   "metadata": {},
   "outputs": [],
   "source": [
    "class ToTensor(object):\n",
    "    \"\"\"Convert ndarrays in sample to Tensors.\"\"\"\n",
    "\n",
    "    def __init__(self, maxMelLen, sampling_rate):\n",
    "        # sr = 44100 etc\n",
    "        self.maxMelLen = maxMelLen\n",
    "        self.sampling_rate = sampling_rate\n",
    "\n",
    "    def __call__(self, sample):\n",
    "        x, y = sample\n",
    "        #https://github.com/PCerles/audio/blob/3803d0b27a4e13efa760227ef6c71d0f3753aa98/test/test_transforms.py#L262\n",
    "        #librosa defaults\n",
    "        n_fft = 2048\n",
    "        hop_length = 512\n",
    "        power = 2.0\n",
    "        n_mels = 128\n",
    "        n_mfcc = 40\n",
    "        # htk is false in librosa, no setting in torchaudio -?\n",
    "        # norm is 1 in librosa, no setting in torchaudio -?\n",
    "        melspect_transform = torchaudio.transforms.MelSpectrogram(sample_rate=self.sampling_rate, window_fn=torch.hann_window,\n",
    "                                                                  hop_length=hop_length, n_mels=n_mels, n_fft=n_fft)\n",
    "\n",
    "    \n",
    "        db_transform = torchaudio.transforms.AmplitudeToDB(\"power\", 80.)\n",
    "        mel = melspect_transform(x.reshape(-1))\n",
    "        an_x = db_transform(mel)\n",
    "        #librosa version\n",
    "#         mel = librosa.feature.melspectrogram(y=x.reshape(-1),\n",
    "#                                              sr=self.sampling_rate)\n",
    "#         an_x = librosa.power_to_db(mel, ref=np.max)\n",
    "#         an_x = an_x.astype(\"float32\")\n",
    "#         y = y.astype('float32')\n",
    "        an_x = an_x[:, :self.maxMelLen]\n",
    "        # 2-d conv\n",
    "#         x = an_x.reshape(1, *an_x.shape[:])\n",
    "        # 1-d conv\n",
    "        x = an_x.reshape(1, an_x.shape[0]*an_x.shape[1])\n",
    "\n",
    "        \n",
    "        return x,y\n",
    "\n",
    "# #test\n",
    "# maxMelLen_test = 850\n",
    "# SAMPLING_RATE_test = 48000\n",
    "# sample_len_seconds = 10\n",
    "# # to_tensor works on single sample\n",
    "# sample_count = 1\n",
    "# xx_test = torch.ones((sample_count,SAMPLING_RATE_test*sample_len_seconds))\n",
    "# y_values = torch.ones(sample_count)\n",
    "# \n",
    "# toTensor = ToTensor(maxMelLen_test,SAMPLING_RATE_test)\n",
    "# x_out,y_out=toTensor((xx_test,y_values))\n",
    "# x_out.shape,y_out.shape"
   ]
  },
  {
   "cell_type": "code",
   "execution_count": 79,
   "metadata": {},
   "outputs": [
    {
     "data": {
      "text/plain": [
       "torch.Size([361, 480000])"
      ]
     },
     "execution_count": 79,
     "metadata": {},
     "output_type": "execute_result"
    }
   ],
   "source": [
    "# X_train,X_test,X_val,y_train,y_test,y_val\n",
    "X_train[:].shape"
   ]
  },
  {
   "cell_type": "code",
   "execution_count": 80,
   "metadata": {},
   "outputs": [],
   "source": [
    "# toTensor = ToTensor(maxMelLen_test,SAMPLING_RATE_test)\n",
    "# x_out2,y_out=toTensor((X_train[1:2,:],y_train))\n",
    "# x_out.shape,y_out.shape"
   ]
  },
  {
   "cell_type": "code",
   "execution_count": 81,
   "metadata": {},
   "outputs": [],
   "source": [
    "# torch.mean(x_out[0]),torch.mean(x_out2[0])\n",
    "# y_train"
   ]
  },
  {
   "cell_type": "code",
   "execution_count": 82,
   "metadata": {},
   "outputs": [],
   "source": [
    "# X_train,y_train"
   ]
  },
  {
   "cell_type": "code",
   "execution_count": 83,
   "metadata": {},
   "outputs": [],
   "source": [
    "\n",
    "# pitch = augmentations.pitch_shift_n_stepsClass(\n",
    "#     runconfigs.SAMPLING_RATE, config['pitch_shift_n_steps'])\n",
    "# noise = augmentations.addNoiseClass(config['noise_factor'])\n",
    "# strech = augmentations.time_stretchClass(runconfigs.SAMPLING_RATE*runconfigs.EXCERPT_LENGTH,\n",
    "#                                             config['time_stretch_factor'],\n",
    "#                                             isRandom=True)\n",
    "# shift = augmentations.shiftClass(config['roll_rate'], isRandom=True)\n",
    "maxMelLen = 850 # old 850\n",
    "# toTensor = augmentations.ToTensor(maxMelLen,runconfigs.SAMPLING_RATE)\n",
    "toTensor = ToTensor(maxMelLen,runconfigs.SAMPLING_RATE)"
   ]
  },
  {
   "cell_type": "code",
   "execution_count": null,
   "metadata": {},
   "outputs": [],
   "source": []
  },
  {
   "cell_type": "code",
   "execution_count": null,
   "metadata": {},
   "outputs": [],
   "source": []
  },
  {
   "cell_type": "code",
   "execution_count": 84,
   "metadata": {},
   "outputs": [],
   "source": [
    "from ignite.metrics import EpochMetric\n",
    "\n",
    "\n",
    "def roc_auc_perClass_compute_fn(y_preds, y_targets):\n",
    "    try:\n",
    "        from sklearn.metrics import roc_auc_score\n",
    "    except ImportError:\n",
    "        raise RuntimeError(\n",
    "            \"This contrib module requires sklearn to be installed.\")\n",
    "\n",
    "    y_true = y_targets.numpy()\n",
    "    y_pred = y_preds.numpy()\n",
    "#     print(y_pred,y_true)\n",
    "#     res = []\n",
    "#     for y_true_perClass_Index in y_true.shape[1]:\n",
    "#         res.append(\n",
    "#             roc_auc_score(y_true[:, y_true_perClass_Index],\n",
    "#                           y_pred[:, y_true_perClass_Index]))\n",
    "    res = roc_auc_score(y_true, y_pred, average=None)\n",
    "    return res\n",
    "\n",
    "\n",
    "#[docs]\n",
    "class ROC_AUC_perClass(EpochMetric):\n",
    "    \"\"\"Computes Area Under the Receiver Operating Characteristic Curve (ROC AUC)\n",
    "  accumulating predictions and the ground-truth during an epoch and applying\n",
    "  `sklearn.metrics.roc_auc_score <http://scikit-learn.org/stable/modules/generated/\n",
    "  sklearn.metrics.roc_auc_score.html#sklearn.metrics.roc_auc_score>`_ .\n",
    "\n",
    "  Args:\n",
    "      output_transform (callable, optional): a callable that is used to transform the\n",
    "          :class:`~ignite.engine.engine.Engine`'s ``process_function``'s output into the\n",
    "          form expected by the metric. This can be useful if, for example, you have a multi-output model and\n",
    "          you want to compute the metric with respect to one of the outputs.\n",
    "      check_compute_fn (bool): Optional default False. If True, `roc_curve\n",
    "          <http://scikit-learn.org/stable/modules/generated/sklearn.metrics.roc_auc_score.html#\n",
    "          sklearn.metrics.roc_auc_score>`_ is run on the first batch of data to ensure there are\n",
    "          no issues. User will be warned in case there are any issues computing the function.\n",
    "\n",
    "  ROC_AUC expects y to be comprised of 0's and 1's. y_pred must either be probability estimates or confidence\n",
    "  values. To apply an activation to y_pred, use output_transform as shown below:\n",
    "\n",
    "  .. code-block:: python\n",
    "\n",
    "      def activated_output_transform(output):\n",
    "          y_pred, y = output\n",
    "          y_pred = torch.sigmoid(y_pred)\n",
    "          return y_pred, y\n",
    "\n",
    "      roc_auc = ROC_AUC(activated_output_transform)\n",
    "\n",
    "  \"\"\"\n",
    "    def __init__(self,\n",
    "                 output_transform=lambda x: x,\n",
    "                 check_compute_fn: bool = False):\n",
    "#         print(output_transform)\n",
    "        super(ROC_AUC_perClass,\n",
    "              self).__init__(roc_auc_perClass_compute_fn,\n",
    "                             output_transform=output_transform,\n",
    "                             check_compute_fn=check_compute_fn)\n"
   ]
  },
  {
   "cell_type": "code",
   "execution_count": 85,
   "metadata": {},
   "outputs": [
    {
     "data": {
      "text/plain": [
       "(tensor([[0.9094, 0.9313, 0.9633, 1.0505, 0.9422, 0.9441, 1.1694, 0.8413, 1.0199,\n",
       "          0.9918],\n",
       "         [0.9094, 0.9313, 0.9633, 1.0505, 0.9422, 0.9441, 1.1694, 0.8413, 1.0199,\n",
       "          0.9918],\n",
       "         [0.9094, 0.9313, 0.9633, 1.0505, 0.9422, 0.9441, 1.1694, 0.8413, 1.0199,\n",
       "          0.9918]], grad_fn=<ExpBackward>),\n",
       " tensor([[-0.0949, -0.0712, -0.0374,  0.0493, -0.0595, -0.0575,  0.1565, -0.1728,\n",
       "           0.0197, -0.0083],\n",
       "         [-0.0949, -0.0712, -0.0374,  0.0493, -0.0595, -0.0575,  0.1565, -0.1728,\n",
       "           0.0197, -0.0083],\n",
       "         [-0.0949, -0.0712, -0.0374,  0.0493, -0.0595, -0.0575,  0.1565, -0.1728,\n",
       "           0.0197, -0.0083]], grad_fn=<AddmmBackward>))"
      ]
     },
     "execution_count": 85,
     "metadata": {},
     "output_type": "execute_result"
    }
   ],
   "source": [
    "\n",
    "def conv_output_shape(h_w, kernel_size=1, stride=1, pad=0, dilation=1):\n",
    "    \"\"\"\n",
    "  Utility function for computing output of convolutions\n",
    "  takes a tuple of (h,w) and returns a tuple of (h,w)\n",
    "  \"\"\"\n",
    "    from math import floor\n",
    "    if type(kernel_size) is not tuple:\n",
    "        kernel_size = (kernel_size, kernel_size)\n",
    "    h = floor(((h_w[0] + (2 * pad) - (dilation *\n",
    "                                      (kernel_size[0] - 1)) - 1) / stride) + 1)\n",
    "    w = floor(((h_w[1] + (2 * pad) - (dilation *\n",
    "                                      (kernel_size[1] - 1)) - 1) / stride) + 1)\n",
    "    return h, w\n",
    "\n",
    "# mel.shape,an_x.shape,X_train.shape\n",
    "class testModel(nn.Module):\n",
    "    '''A simple model for testing by overfitting.\n",
    "    '''\n",
    "    def __init__(self, out_channels, h_w, kernel_size, FLAT=False,output_shape=(10,)):\n",
    "        # h_w: height will be always one since we use 1d convolution \n",
    "        super(testModel, self).__init__()\n",
    "        self.out_channels = out_channels\n",
    "        #### CONV\n",
    "        self.conv1 = nn.Conv1d(in_channels=1, # depth of image == depth of filters\n",
    "                               out_channels=self.out_channels, # number of filters \n",
    "                               kernel_size=kernel_size, # size of the filters/kernels\n",
    "                               padding=1)\n",
    "\n",
    "        self.conv1_shape = conv_output_shape(h_w, kernel_size=kernel_size, stride=1, pad=1, dilation=1)\n",
    "        # conv is 1d\n",
    "        self.conv1_shape = (1,self.conv1_shape[1])\n",
    "        \n",
    "        self.fc1 = nn.Linear(self.out_channels * self.conv1_shape[0] *self.conv1_shape[1], 100)  # 100\n",
    "\n",
    "        self.fc2 = nn.Linear(100,output_shape[0])\n",
    "        \n",
    "    def forward(self, x):\n",
    "#         x = x.reshape(1,)\n",
    "#         print(x.shape) #  50,1,108800 (850*128)\n",
    "        x = F.relu(self.conv1(x))\n",
    "#         x = self.pool(x)\n",
    "        # x = self.drop(x)\n",
    "#         print(x.shape)# 58, 2, 108801\n",
    "#         print(self.conv1_shape)\n",
    "#         print(x.shape)\n",
    "        x = x.view(-1, self.out_channels * self.conv1_shape[0] *self.conv1_shape[1])\n",
    "        # batch_norm is missing\n",
    "        x = F.relu((self.fc1(x)))\n",
    "        x = (self.fc2(x))\n",
    "\n",
    "#         x = self.drop(x)\n",
    "\n",
    "#         x = self.fc4(x)\n",
    "#         x = torch.sigmoid(x)\n",
    "#                 x = F.log_softmax(x,dim=1)\n",
    "        return x\n",
    "\n",
    "# test\n",
    "input_shape=(1,(850*128))\n",
    "output_shape=(10,)\n",
    "testModel_ins=testModel(out_channels=2,h_w=input_shape,kernel_size=2,output_shape=output_shape)\n",
    "# a.conv1.weight\n",
    "a_out=testModel_ins(torch.ones((3,1,input_shape[1])))\n",
    "\n",
    "a_out_correct=torch.zeros(a_out.shape)\n",
    "a_out_correct[0][:]=1\n",
    "a_out_correct\n",
    "a_out.detach().numpy()\n",
    "\n",
    "torch.exp(a_out),a_out"
   ]
  },
  {
   "cell_type": "code",
   "execution_count": null,
   "metadata": {},
   "outputs": [],
   "source": []
  },
  {
   "cell_type": "code",
   "execution_count": null,
   "metadata": {},
   "outputs": [],
   "source": []
  },
  {
   "cell_type": "code",
   "execution_count": 86,
   "metadata": {},
   "outputs": [],
   "source": [
    "\n",
    "# for y_true_perClass_Index in a_out_correct.shape[1]:\n",
    "#     print(y_true_perClass_Index)"
   ]
  },
  {
   "cell_type": "code",
   "execution_count": 87,
   "metadata": {},
   "outputs": [],
   "source": [
    "# from ignite.contrib.metrics import ROC_AUC\n",
    "# from nna.exp.metrics import ROC_AUC_perClass\n",
    "def activated_output_transform(output):\n",
    "    y_pred, y = output\n",
    "#     y_pred = torch.exp(y_pred)\n",
    "    return y_pred, y"
   ]
  },
  {
   "cell_type": "code",
   "execution_count": null,
   "metadata": {},
   "outputs": [],
   "source": []
  },
  {
   "cell_type": "code",
   "execution_count": 88,
   "metadata": {},
   "outputs": [
    {
     "data": {
      "text/plain": [
       "array([0.75, 0.75, 0.25, 0.75, 0.25, 0.75, 0.5 , 0.5 , 0.5 , 0.25])"
      ]
     },
     "execution_count": 88,
     "metadata": {},
     "output_type": "execute_result"
    }
   ],
   "source": [
    "asd=ROC_AUC_perClass(activated_output_transform)\n",
    "asd.update((a_out,a_out_correct))\n",
    "asd.compute()"
   ]
  },
  {
   "cell_type": "code",
   "execution_count": null,
   "metadata": {},
   "outputs": [],
   "source": []
  },
  {
   "cell_type": "code",
   "execution_count": 89,
   "metadata": {},
   "outputs": [],
   "source": [
    "\n",
    "transformCompose = transforms.Compose([\n",
    "#     pitch,\n",
    "#     strech,\n",
    "#     shift,\n",
    "#     noise,\n",
    "    toTensor,\n",
    "])\n",
    "\n",
    "\n",
    "sound_datasets = {\n",
    "    phase: runutils.audioDataset(XY[0], XY[1], transform=transformCompose)\n",
    "    for phase, XY in\n",
    "    zip(['train', 'val', 'test'],\n",
    "        [[X_train, y_train], [X_val, y_val], [X_test, y_test]])\n",
    "}\n",
    "\n",
    "dataloaders = {\n",
    "    x: torch.utils.data.DataLoader(sound_datasets[x], **params)\n",
    "    for x in ['train', 'val', 'test']\n",
    "}\n",
    "\n",
    "# this will change\n",
    "h_w = [128, 850]\n",
    "kernel_size = (4, 4)\n",
    "# if config['CNNLayer_count'] == 1:\n",
    "#     model = modelArchs.NetCNN1(config['CNN_filters_1'], h_w,\n",
    "#                                 kernel_size).float().to(device)\n",
    "\n",
    "# if config['CNNLayer_count'] == 2:\n",
    "#     model = modelArchs.NetCNN2(config['CNN_filters_1'], config.CNN_filters_2,\n",
    "#                                 h_w, kernel_size,\n",
    "#                                 kernel_size).float().to(device)\n",
    "\n",
    "#simpler model\n",
    "\n",
    "output_shape=(CATEGORY_COUNT,)\n",
    "model = testModel(out_channels=2,h_w=(1,h_w[0]*h_w[1]),kernel_size=kernel_size[0]*kernel_size[0],output_shape=output_shape)\n",
    "model.float().to(device)\n",
    "\n",
    "# device is defined before\n",
    "\n",
    "model.float().to(device)  # Move model before creating optimizer\n",
    "optimizer = torch.optim.AdamW(model.parameters(),\n",
    "#                                 weight_decay=config['weight_decay'],\n",
    "                             )\n",
    "\n",
    "\n",
    "\n",
    "criterion = nn.BCEWithLogitsLoss()\n",
    "# statHistory={'valLoss':[],'trainLoss':[],'trainAUC':[],'valAUC':[]}\n",
    "\n",
    "metrics = {\n",
    "    'loss': Loss(criterion),  # 'accuracy': Accuracy(),\n",
    "#     'ROC_AUC': ROC_AUC(runutils.activated_output_transform),\n",
    "    'ROC_AUC': ROC_AUC_perClass(activated_output_transform),\n",
    "\n",
    "}\n"
   ]
  },
  {
   "cell_type": "code",
   "execution_count": 90,
   "metadata": {},
   "outputs": [
    {
     "data": {
      "text/plain": [
       "testModel(\n",
       "  (conv1): Conv1d(1, 2, kernel_size=(16,), stride=(1,), padding=(1,))\n",
       "  (fc1): Linear(in_features=217574, out_features=100, bias=True)\n",
       "  (fc2): Linear(in_features=100, out_features=2, bias=True)\n",
       ")"
      ]
     },
     "execution_count": 90,
     "metadata": {},
     "output_type": "execute_result"
    }
   ],
   "source": [
    "model"
   ]
  },
  {
   "cell_type": "code",
   "execution_count": 91,
   "metadata": {},
   "outputs": [],
   "source": [
    "trainloader = dataloaders['train']"
   ]
  },
  {
   "cell_type": "code",
   "execution_count": null,
   "metadata": {},
   "outputs": [],
   "source": []
  },
  {
   "cell_type": "code",
   "execution_count": null,
   "metadata": {},
   "outputs": [],
   "source": []
  },
  {
   "cell_type": "code",
   "execution_count": 92,
   "metadata": {},
   "outputs": [],
   "source": [
    "# for epoch in range(20000):  # loop over the dataset multiple times\n",
    "\n",
    "#     running_loss = 0.0\n",
    "#     for i, data in enumerate(trainloader, 0):\n",
    "#         # get the inputs; data is a list of [inputs, labels]\n",
    "#         inputs, labels = data\n",
    "\n",
    "#         # zero the parameter gradients\n",
    "#         optimizer.zero_grad()\n",
    "#         inputs=inputs.to(device)\n",
    "#         # forward + backward + optimize\n",
    "#         outputs = model(inputs)\n",
    "#         outputs = outputs.to('cpu')\n",
    "#         loss = criterion(outputs, labels)\n",
    "# #         print(outputs)\n",
    "# #         print(labels)\n",
    "# #         print(loss)\n",
    "#         loss.backward()\n",
    "#         optimizer.step()\n",
    "\n",
    "#         # print statistics\n",
    "#         running_loss += loss.item()\n",
    "# #         print(running_loss)\n",
    "#         if epoch % 20 == 19:    # print every 2000 mini-batches\n",
    "#             print('[%d, %5d] loss: %.3f' %\n",
    "#                   (epoch + 1, i + 1, running_loss))\n",
    "#             running_loss = 0.0\n",
    "\n",
    "# print('Finished Training')"
   ]
  },
  {
   "cell_type": "code",
   "execution_count": null,
   "metadata": {},
   "outputs": [],
   "source": []
  },
  {
   "cell_type": "code",
   "execution_count": null,
   "metadata": {},
   "outputs": [],
   "source": []
  },
  {
   "cell_type": "code",
   "execution_count": 93,
   "metadata": {},
   "outputs": [
    {
     "data": {
      "text/plain": [
       "Parameter containing:\n",
       "tensor([[[-0.1545,  0.1644, -0.0943,  0.1188, -0.2238, -0.0064,  0.0015,\n",
       "          -0.1312, -0.1030,  0.1724, -0.0483, -0.1018, -0.1916,  0.1355,\n",
       "          -0.0890,  0.0563]],\n",
       "\n",
       "        [[-0.0844, -0.0727, -0.1510, -0.1071,  0.2172,  0.0150,  0.2208,\n",
       "           0.1825, -0.1383, -0.1413,  0.0207,  0.1968,  0.2195, -0.0570,\n",
       "          -0.0914,  0.1803]]], device='cuda:1', requires_grad=True)"
      ]
     },
     "execution_count": 93,
     "metadata": {},
     "output_type": "execute_result"
    }
   ],
   "source": [
    "model.conv1.weight"
   ]
  },
  {
   "cell_type": "code",
   "execution_count": 94,
   "metadata": {},
   "outputs": [
    {
     "data": {
      "text/plain": [
       "Conv1d(1, 2, kernel_size=(16,), stride=(1,), padding=(1,))"
      ]
     },
     "execution_count": 94,
     "metadata": {},
     "output_type": "execute_result"
    }
   ],
   "source": [
    "model.conv1"
   ]
  },
  {
   "cell_type": "code",
   "execution_count": 95,
   "metadata": {},
   "outputs": [
    {
     "data": {
      "text/plain": [
       "Parameter containing:\n",
       "tensor([[-0.0014, -0.0015,  0.0015,  ..., -0.0006, -0.0021, -0.0006],\n",
       "        [-0.0011, -0.0010, -0.0008,  ..., -0.0007,  0.0016, -0.0018],\n",
       "        [ 0.0015,  0.0009, -0.0013,  ..., -0.0013,  0.0014, -0.0008],\n",
       "        ...,\n",
       "        [ 0.0015, -0.0001, -0.0006,  ..., -0.0002, -0.0006,  0.0004],\n",
       "        [ 0.0014, -0.0011, -0.0018,  ...,  0.0001, -0.0013, -0.0019],\n",
       "        [-0.0006, -0.0011, -0.0002,  ...,  0.0001,  0.0021,  0.0015]],\n",
       "       device='cuda:1', requires_grad=True)"
      ]
     },
     "execution_count": 95,
     "metadata": {},
     "output_type": "execute_result"
    }
   ],
   "source": [
    "model.fc1.weight"
   ]
  },
  {
   "cell_type": "code",
   "execution_count": null,
   "metadata": {},
   "outputs": [],
   "source": []
  },
  {
   "cell_type": "code",
   "execution_count": 96,
   "metadata": {},
   "outputs": [
    {
     "name": "stdout",
     "output_type": "stream",
     "text": [
      "ready ?\n"
     ]
    },
    {
     "data": {
      "text/html": [
       "Finishing last run (ID:1yl6mp6h) before initializing another..."
      ],
      "text/plain": [
       "<IPython.core.display.HTML object>"
      ]
     },
     "metadata": {},
     "output_type": "display_data"
    },
    {
     "data": {
      "text/html": [
       "<br/>Waiting for W&B process to finish, PID 88335<br/>Program ended successfully."
      ],
      "text/plain": [
       "<IPython.core.display.HTML object>"
      ]
     },
     "metadata": {},
     "output_type": "display_data"
    },
    {
     "data": {
      "text/html": [
       "Find user logs for this run at: <code>/home/enis/projects/nna/src/nna/exp/megan/run-1/wandb/run-20210112_102130-1yl6mp6h/logs/debug.log</code>"
      ],
      "text/plain": [
       "<IPython.core.display.HTML object>"
      ]
     },
     "metadata": {},
     "output_type": "display_data"
    },
    {
     "data": {
      "text/html": [
       "Find internal logs for this run at: <code>/home/enis/projects/nna/src/nna/exp/megan/run-1/wandb/run-20210112_102130-1yl6mp6h/logs/debug-internal.log</code>"
      ],
      "text/plain": [
       "<IPython.core.display.HTML object>"
      ]
     },
     "metadata": {},
     "output_type": "display_data"
    },
    {
     "data": {
      "text/html": [
       "<h3>Run summary:</h3><br/><style>\n",
       "    table.wandb td:nth-child(1) { padding: 0 10px; text-align: right }\n",
       "    </style><table class=\"wandb\">\n",
       "<tr><td>training/batchloss</td><td>229.16756</td></tr><tr><td>_step</td><td>7</td></tr><tr><td>_runtime</td><td>154</td></tr><tr><td>_timestamp</td><td>1610465045</td></tr><tr><td>training/loss</td><td>596.59767</td></tr></table>"
      ],
      "text/plain": [
       "<IPython.core.display.HTML object>"
      ]
     },
     "metadata": {},
     "output_type": "display_data"
    },
    {
     "data": {
      "text/html": [
       "<h3>Run history:</h3><br/><style>\n",
       "    table.wandb td:nth-child(1) { padding: 0 10px; text-align: right }\n",
       "    </style><table class=\"wandb\">\n",
       "<tr><td>training/batchloss</td><td>▁▇▅▆█▆▂</td></tr><tr><td>_step</td><td>▁▂▃▅▆▇█</td></tr><tr><td>_runtime</td><td>▁▁▁▁▁▁█</td></tr><tr><td>_timestamp</td><td>▁▁▁▁▁▁█</td></tr><tr><td>training/loss</td><td>▁</td></tr></table><br/>"
      ],
      "text/plain": [
       "<IPython.core.display.HTML object>"
      ]
     },
     "metadata": {},
     "output_type": "display_data"
    },
    {
     "data": {
      "text/html": [
       "Synced 6 W&B file(s), 1 media file(s), 0 artifact file(s) and 0 other file(s)"
      ],
      "text/plain": [
       "<IPython.core.display.HTML object>"
      ]
     },
     "metadata": {},
     "output_type": "display_data"
    },
    {
     "data": {
      "text/html": [
       "\n",
       "                    <br/>Synced <strong style=\"color:#cdcd00\">proud-microwave-119</strong>: <a href=\"https://wandb.ai/enisberk/megan/runs/1yl6mp6h\" target=\"_blank\">https://wandb.ai/enisberk/megan/runs/1yl6mp6h</a><br/>\n",
       "                "
      ],
      "text/plain": [
       "<IPython.core.display.HTML object>"
      ]
     },
     "metadata": {},
     "output_type": "display_data"
    },
    {
     "data": {
      "text/html": [
       "...Successfully finished last run (ID:1yl6mp6h). Initializing new run:<br/><br/>"
      ],
      "text/plain": [
       "<IPython.core.display.HTML object>"
      ]
     },
     "metadata": {},
     "output_type": "display_data"
    },
    {
     "name": "stderr",
     "output_type": "stream",
     "text": [
      "\u001b[34m\u001b[1mwandb\u001b[0m: wandb version 0.10.13 is available!  To upgrade, please run:\n",
      "\u001b[34m\u001b[1mwandb\u001b[0m:  $ pip install wandb --upgrade\n"
     ]
    },
    {
     "data": {
      "text/html": [
       "\n",
       "                Tracking run with wandb version 0.10.12<br/>\n",
       "                Syncing run <strong style=\"color:#cdcd00\">dry-star-120</strong> to <a href=\"https://wandb.ai\" target=\"_blank\">Weights & Biases</a> <a href=\"https://docs.wandb.com/integrations/jupyter.html\" target=\"_blank\">(Documentation)</a>.<br/>\n",
       "                Project page: <a href=\"https://wandb.ai/enisberk/megan\" target=\"_blank\">https://wandb.ai/enisberk/megan</a><br/>\n",
       "                Run page: <a href=\"https://wandb.ai/enisberk/megan/runs/cwt8yjei\" target=\"_blank\">https://wandb.ai/enisberk/megan/runs/cwt8yjei</a><br/>\n",
       "                Run data is saved locally in <code>/home/enis/projects/nna/src/nna/exp/megan/run-1/wandb/run-20210112_102404-cwt8yjei</code><br/><br/>\n",
       "            "
      ],
      "text/plain": [
       "<IPython.core.display.HTML object>"
      ]
     },
     "metadata": {},
     "output_type": "display_data"
    },
    {
     "name": "stderr",
     "output_type": "stream",
     "text": [
      "2021-01-12 10:24:16,712 Trainer INFO: Engine run starting with max_epochs=2000.\n",
      "2021-01-12 10:24:22,460 Train Evaluator INFO: Engine run starting with max_epochs=1.\n",
      "2021-01-12 10:24:26,818 Train Evaluator INFO: Epoch[1] Complete. Time taken: 00:00:04\n",
      "2021-01-12 10:24:26,821 Train Evaluator INFO: Engine run complete. Time taken: 00:00:04\n",
      "2021-01-12 10:24:26,822 Val Evaluator INFO: Engine run starting with max_epochs=1.\n",
      "2021-01-12 10:24:28,116 Val Evaluator INFO: Epoch[1] Complete. Time taken: 00:00:01\n",
      "2021-01-12 10:24:30,455 Val Evaluator INFO: Engine run complete. Time taken: 00:00:04\n",
      "\u001b[34m\u001b[1mwandb\u001b[0m: \u001b[33mWARNING\u001b[0m Step must only increase in log calls.  Step 1 < 7; dropping {'lr/group_0': 0.001}.\n",
      "2021-01-12 10:24:30,465 Trainer INFO: Epoch[1] Complete. Time taken: 00:00:14\n"
     ]
    },
    {
     "name": "stdout",
     "output_type": "stream",
     "text": [
      "train loss 86.43667678621667\n",
      "val loss 81.83933467035708\n",
      "validation roc auc [0.64627451 0.64627451] 1\n"
     ]
    },
    {
     "name": "stderr",
     "output_type": "stream",
     "text": [
      "2021-01-12 10:24:35,610 Train Evaluator INFO: Engine run starting with max_epochs=1.\n",
      "2021-01-12 10:24:40,469 Train Evaluator INFO: Epoch[1] Complete. Time taken: 00:00:05\n",
      "2021-01-12 10:24:40,471 Train Evaluator INFO: Engine run complete. Time taken: 00:00:05\n",
      "2021-01-12 10:24:40,472 Val Evaluator INFO: Engine run starting with max_epochs=1.\n",
      "2021-01-12 10:24:42,854 Val Evaluator INFO: Epoch[1] Complete. Time taken: 00:00:02\n",
      "2021-01-12 10:24:45,507 Val Evaluator INFO: Engine run complete. Time taken: 00:00:05\n",
      "\u001b[34m\u001b[1mwandb\u001b[0m: \u001b[33mWARNING\u001b[0m Step must only increase in log calls.  Step 2 < 14; dropping {'lr/group_0': 0.001}.\n",
      "2021-01-12 10:24:45,518 Trainer INFO: Epoch[2] Complete. Time taken: 00:00:15\n"
     ]
    },
    {
     "name": "stdout",
     "output_type": "stream",
     "text": [
      "train loss 29.959023525840358\n",
      "val loss 30.623171001931894\n",
      "validation roc auc [0.62313725 0.32823529] 2\n"
     ]
    },
    {
     "name": "stderr",
     "output_type": "stream",
     "text": [
      "2021-01-12 10:24:50,135 Train Evaluator INFO: Engine run starting with max_epochs=1.\n",
      "2021-01-12 10:24:54,588 Train Evaluator INFO: Epoch[1] Complete. Time taken: 00:00:04\n",
      "2021-01-12 10:24:54,590 Train Evaluator INFO: Engine run complete. Time taken: 00:00:04\n",
      "2021-01-12 10:24:54,591 Val Evaluator INFO: Engine run starting with max_epochs=1.\n",
      "2021-01-12 10:24:56,099 Val Evaluator INFO: Epoch[1] Complete. Time taken: 00:00:02\n",
      "2021-01-12 10:24:56,100 Val Evaluator INFO: Engine run complete. Time taken: 00:00:02\n",
      "\u001b[34m\u001b[1mwandb\u001b[0m: \u001b[33mWARNING\u001b[0m Step must only increase in log calls.  Step 3 < 21; dropping {'lr/group_0': 0.001}.\n",
      "2021-01-12 10:24:56,106 Trainer INFO: Epoch[3] Complete. Time taken: 00:00:11\n"
     ]
    },
    {
     "name": "stdout",
     "output_type": "stream",
     "text": [
      "train loss 4.2214244356445985\n",
      "val loss 4.313281013654626\n",
      "validation roc auc [0.52235294 0.37372549] 3\n"
     ]
    },
    {
     "name": "stderr",
     "output_type": "stream",
     "text": [
      "2021-01-12 10:25:01,020 Train Evaluator INFO: Engine run starting with max_epochs=1.\n",
      "2021-01-12 10:25:06,112 Train Evaluator INFO: Epoch[1] Complete. Time taken: 00:00:05\n",
      "2021-01-12 10:25:06,116 Train Evaluator INFO: Engine run complete. Time taken: 00:00:05\n",
      "2021-01-12 10:25:06,117 Val Evaluator INFO: Engine run starting with max_epochs=1.\n",
      "2021-01-12 10:25:07,635 Val Evaluator INFO: Epoch[1] Complete. Time taken: 00:00:02\n",
      "2021-01-12 10:25:07,637 Val Evaluator INFO: Engine run complete. Time taken: 00:00:02\n",
      "\u001b[34m\u001b[1mwandb\u001b[0m: \u001b[33mWARNING\u001b[0m Step must only increase in log calls.  Step 4 < 28; dropping {'lr/group_0': 0.001}.\n",
      "2021-01-12 10:25:07,642 Trainer INFO: Epoch[4] Complete. Time taken: 00:00:12\n"
     ]
    },
    {
     "name": "stdout",
     "output_type": "stream",
     "text": [
      "train loss 6.556495159286541\n",
      "val loss 6.660054584171461\n",
      "validation roc auc [0.33058824 0.39137255] 4\n"
     ]
    },
    {
     "name": "stderr",
     "output_type": "stream",
     "text": [
      "2021-01-12 10:25:13,329 Train Evaluator INFO: Engine run starting with max_epochs=1.\n",
      "2021-01-12 10:25:18,094 Train Evaluator INFO: Epoch[1] Complete. Time taken: 00:00:05\n",
      "2021-01-12 10:25:18,097 Train Evaluator INFO: Engine run complete. Time taken: 00:00:05\n",
      "2021-01-12 10:25:18,098 Val Evaluator INFO: Engine run starting with max_epochs=1.\n",
      "2021-01-12 10:25:19,595 Val Evaluator INFO: Epoch[1] Complete. Time taken: 00:00:01\n",
      "2021-01-12 10:25:21,928 Val Evaluator INFO: Engine run complete. Time taken: 00:00:04\n",
      "\u001b[34m\u001b[1mwandb\u001b[0m: \u001b[33mWARNING\u001b[0m Step must only increase in log calls.  Step 5 < 35; dropping {'lr/group_0': 0.001}.\n",
      "2021-01-12 10:25:21,952 Trainer INFO: Epoch[5] Complete. Time taken: 00:00:14\n"
     ]
    },
    {
     "name": "stdout",
     "output_type": "stream",
     "text": [
      "train loss 15.462099822934645\n",
      "val loss 15.030060394950535\n",
      "validation roc auc [0.54156863 0.54470588] 5\n"
     ]
    },
    {
     "name": "stderr",
     "output_type": "stream",
     "text": [
      "2021-01-12 10:25:27,378 Train Evaluator INFO: Engine run starting with max_epochs=1.\n",
      "2021-01-12 10:25:32,284 Train Evaluator INFO: Epoch[1] Complete. Time taken: 00:00:05\n",
      "2021-01-12 10:25:32,287 Train Evaluator INFO: Engine run complete. Time taken: 00:00:05\n",
      "2021-01-12 10:25:32,289 Val Evaluator INFO: Engine run starting with max_epochs=1.\n",
      "2021-01-12 10:25:34,019 Val Evaluator INFO: Epoch[1] Complete. Time taken: 00:00:02\n",
      "2021-01-12 10:25:34,021 Val Evaluator INFO: Engine run complete. Time taken: 00:00:02\n",
      "\u001b[34m\u001b[1mwandb\u001b[0m: \u001b[33mWARNING\u001b[0m Step must only increase in log calls.  Step 6 < 42; dropping {'lr/group_0': 0.001}.\n",
      "2021-01-12 10:25:34,026 Trainer INFO: Epoch[6] Complete. Time taken: 00:00:12\n"
     ]
    },
    {
     "name": "stdout",
     "output_type": "stream",
     "text": [
      "train loss 7.1598703801797035\n",
      "val loss 7.223141902426015\n",
      "validation roc auc [0.37098039 0.40352941] 6\n"
     ]
    },
    {
     "name": "stderr",
     "output_type": "stream",
     "text": [
      "2021-01-12 10:25:39,719 Train Evaluator INFO: Engine run starting with max_epochs=1.\n",
      "2021-01-12 10:25:45,021 Train Evaluator INFO: Epoch[1] Complete. Time taken: 00:00:05\n",
      "2021-01-12 10:25:45,025 Train Evaluator INFO: Engine run complete. Time taken: 00:00:05\n",
      "2021-01-12 10:25:45,026 Val Evaluator INFO: Engine run starting with max_epochs=1.\n",
      "2021-01-12 10:25:46,713 Val Evaluator INFO: Epoch[1] Complete. Time taken: 00:00:02\n",
      "2021-01-12 10:25:46,715 Val Evaluator INFO: Engine run complete. Time taken: 00:00:02\n",
      "\u001b[34m\u001b[1mwandb\u001b[0m: \u001b[33mWARNING\u001b[0m Step must only increase in log calls.  Step 7 < 49; dropping {'lr/group_0': 0.001}.\n",
      "2021-01-12 10:25:46,722 Trainer INFO: Epoch[7] Complete. Time taken: 00:00:13\n"
     ]
    },
    {
     "name": "stdout",
     "output_type": "stream",
     "text": [
      "train loss 6.443148750347444\n",
      "val loss 6.569266252932342\n",
      "validation roc auc [0.40196078 0.40156863] 7\n"
     ]
    },
    {
     "name": "stderr",
     "output_type": "stream",
     "text": [
      "2021-01-12 10:25:51,434 Train Evaluator INFO: Engine run starting with max_epochs=1.\n",
      "2021-01-12 10:25:55,600 Train Evaluator INFO: Epoch[1] Complete. Time taken: 00:00:04\n",
      "2021-01-12 10:25:55,603 Train Evaluator INFO: Engine run complete. Time taken: 00:00:04\n",
      "2021-01-12 10:25:55,605 Val Evaluator INFO: Engine run starting with max_epochs=1.\n",
      "2021-01-12 10:25:57,256 Val Evaluator INFO: Epoch[1] Complete. Time taken: 00:00:02\n",
      "2021-01-12 10:25:57,258 Val Evaluator INFO: Engine run complete. Time taken: 00:00:02\n",
      "\u001b[34m\u001b[1mwandb\u001b[0m: \u001b[33mWARNING\u001b[0m Step must only increase in log calls.  Step 8 < 56; dropping {'lr/group_0': 0.001}.\n",
      "2021-01-12 10:25:57,264 Trainer INFO: Epoch[8] Complete. Time taken: 00:00:11\n"
     ]
    },
    {
     "name": "stdout",
     "output_type": "stream",
     "text": [
      "train loss 12.597401854073903\n",
      "val loss 12.41845589513364\n",
      "validation roc auc [0.54941176 0.5       ] 8\n"
     ]
    },
    {
     "name": "stderr",
     "output_type": "stream",
     "text": [
      "2021-01-12 10:26:03,057 Train Evaluator INFO: Engine run starting with max_epochs=1.\n",
      "2021-01-12 10:26:07,900 Train Evaluator INFO: Epoch[1] Complete. Time taken: 00:00:05\n",
      "2021-01-12 10:26:07,903 Train Evaluator INFO: Engine run complete. Time taken: 00:00:05\n",
      "2021-01-12 10:26:07,904 Val Evaluator INFO: Engine run starting with max_epochs=1.\n",
      "2021-01-12 10:26:09,329 Val Evaluator INFO: Epoch[1] Complete. Time taken: 00:00:01\n",
      "2021-01-12 10:26:09,331 Val Evaluator INFO: Engine run complete. Time taken: 00:00:01\n",
      "\u001b[34m\u001b[1mwandb\u001b[0m: \u001b[33mWARNING\u001b[0m Step must only increase in log calls.  Step 9 < 63; dropping {'lr/group_0': 0.001}.\n",
      "2021-01-12 10:26:09,337 Trainer INFO: Epoch[9] Complete. Time taken: 00:00:12\n"
     ]
    },
    {
     "name": "stdout",
     "output_type": "stream",
     "text": [
      "train loss 9.19550875613564\n",
      "val loss 9.209788007321565\n",
      "validation roc auc [0.45333333 0.45490196] 9\n"
     ]
    },
    {
     "name": "stderr",
     "output_type": "stream",
     "text": [
      "2021-01-12 10:26:14,455 Train Evaluator INFO: Engine run starting with max_epochs=1.\n",
      "2021-01-12 10:26:19,635 Train Evaluator INFO: Epoch[1] Complete. Time taken: 00:00:05\n",
      "2021-01-12 10:26:19,637 Train Evaluator INFO: Engine run complete. Time taken: 00:00:05\n",
      "2021-01-12 10:26:19,638 Val Evaluator INFO: Engine run starting with max_epochs=1.\n",
      "2021-01-12 10:26:21,129 Val Evaluator INFO: Epoch[1] Complete. Time taken: 00:00:01\n",
      "2021-01-12 10:26:21,130 Val Evaluator INFO: Engine run complete. Time taken: 00:00:01\n",
      "\u001b[34m\u001b[1mwandb\u001b[0m: \u001b[33mWARNING\u001b[0m Step must only increase in log calls.  Step 10 < 70; dropping {'lr/group_0': 0.001}.\n",
      "2021-01-12 10:26:21,136 Trainer INFO: Epoch[10] Complete. Time taken: 00:00:12\n"
     ]
    },
    {
     "name": "stdout",
     "output_type": "stream",
     "text": [
      "train loss 8.202180368418178\n",
      "val loss 8.274820207512898\n",
      "validation roc auc [0.42235294 0.46431373] 10\n"
     ]
    },
    {
     "name": "stderr",
     "output_type": "stream",
     "text": [
      "2021-01-12 10:26:26,154 Train Evaluator INFO: Engine run starting with max_epochs=1.\n",
      "2021-01-12 10:26:31,336 Train Evaluator INFO: Epoch[1] Complete. Time taken: 00:00:05\n",
      "2021-01-12 10:26:31,338 Train Evaluator INFO: Engine run complete. Time taken: 00:00:05\n",
      "2021-01-12 10:26:31,339 Val Evaluator INFO: Engine run starting with max_epochs=1.\n",
      "2021-01-12 10:26:32,971 Val Evaluator INFO: Epoch[1] Complete. Time taken: 00:00:02\n",
      "2021-01-12 10:26:32,973 Val Evaluator INFO: Engine run complete. Time taken: 00:00:02\n",
      "\u001b[34m\u001b[1mwandb\u001b[0m: \u001b[33mWARNING\u001b[0m Step must only increase in log calls.  Step 11 < 77; dropping {'lr/group_0': 0.001}.\n",
      "2021-01-12 10:26:32,979 Trainer INFO: Epoch[11] Complete. Time taken: 00:00:12\n"
     ]
    },
    {
     "name": "stdout",
     "output_type": "stream",
     "text": [
      "train loss 4.1333425513925315\n",
      "val loss 5.3282690753107484\n",
      "validation roc auc [0.36196078 0.36470588] 11\n"
     ]
    },
    {
     "name": "stderr",
     "output_type": "stream",
     "text": [
      "2021-01-12 10:26:38,069 Train Evaluator INFO: Engine run starting with max_epochs=1.\n",
      "2021-01-12 10:26:42,275 Train Evaluator INFO: Epoch[1] Complete. Time taken: 00:00:04\n",
      "2021-01-12 10:26:42,276 Train Evaluator INFO: Engine run complete. Time taken: 00:00:04\n",
      "2021-01-12 10:26:42,277 Val Evaluator INFO: Engine run starting with max_epochs=1.\n",
      "2021-01-12 10:26:43,833 Val Evaluator INFO: Epoch[1] Complete. Time taken: 00:00:02\n",
      "2021-01-12 10:26:43,834 Val Evaluator INFO: Engine run complete. Time taken: 00:00:02\n",
      "\u001b[34m\u001b[1mwandb\u001b[0m: \u001b[33mWARNING\u001b[0m Step must only increase in log calls.  Step 12 < 84; dropping {'lr/group_0': 0.001}.\n",
      "2021-01-12 10:26:43,841 Trainer INFO: Epoch[12] Complete. Time taken: 00:00:11\n"
     ]
    },
    {
     "name": "stdout",
     "output_type": "stream",
     "text": [
      "train loss 8.073442855370011\n",
      "val loss 8.200063423488452\n",
      "validation roc auc [0.47294118 0.45647059] 12\n"
     ]
    },
    {
     "name": "stderr",
     "output_type": "stream",
     "text": [
      "2021-01-12 10:26:49,089 Train Evaluator INFO: Engine run starting with max_epochs=1.\n",
      "2021-01-12 10:26:53,665 Train Evaluator INFO: Epoch[1] Complete. Time taken: 00:00:05\n",
      "2021-01-12 10:26:53,667 Train Evaluator INFO: Engine run complete. Time taken: 00:00:05\n",
      "2021-01-12 10:26:53,669 Val Evaluator INFO: Engine run starting with max_epochs=1.\n",
      "2021-01-12 10:26:55,142 Val Evaluator INFO: Epoch[1] Complete. Time taken: 00:00:01\n",
      "2021-01-12 10:26:55,148 Val Evaluator INFO: Engine run complete. Time taken: 00:00:01\n",
      "\u001b[34m\u001b[1mwandb\u001b[0m: \u001b[33mWARNING\u001b[0m Step must only increase in log calls.  Step 13 < 91; dropping {'lr/group_0': 0.001}.\n",
      "2021-01-12 10:26:55,154 Trainer INFO: Epoch[13] Complete. Time taken: 00:00:11\n"
     ]
    },
    {
     "name": "stdout",
     "output_type": "stream",
     "text": [
      "train loss 2.829276366907474\n",
      "val loss 3.275913725728574\n",
      "validation roc auc [0.4027451  0.40666667] 13\n"
     ]
    },
    {
     "name": "stderr",
     "output_type": "stream",
     "text": [
      "2021-01-12 10:27:00,637 Train Evaluator INFO: Engine run starting with max_epochs=1.\n",
      "2021-01-12 10:27:05,775 Train Evaluator INFO: Epoch[1] Complete. Time taken: 00:00:05\n",
      "2021-01-12 10:27:05,778 Train Evaluator INFO: Engine run complete. Time taken: 00:00:05\n",
      "2021-01-12 10:27:05,779 Val Evaluator INFO: Engine run starting with max_epochs=1.\n",
      "2021-01-12 10:27:07,257 Val Evaluator INFO: Epoch[1] Complete. Time taken: 00:00:01\n",
      "2021-01-12 10:27:07,259 Val Evaluator INFO: Engine run complete. Time taken: 00:00:01\n",
      "\u001b[34m\u001b[1mwandb\u001b[0m: \u001b[33mWARNING\u001b[0m Step must only increase in log calls.  Step 14 < 98; dropping {'lr/group_0': 0.001}.\n",
      "2021-01-12 10:27:07,266 Trainer INFO: Epoch[14] Complete. Time taken: 00:00:12\n"
     ]
    },
    {
     "name": "stdout",
     "output_type": "stream",
     "text": [
      "train loss 9.801879851111416\n",
      "val loss 9.877331683946693\n",
      "validation roc auc [0.52470588 0.4854902 ] 14\n"
     ]
    },
    {
     "name": "stderr",
     "output_type": "stream",
     "text": [
      "2021-01-12 10:27:12,595 Train Evaluator INFO: Engine run starting with max_epochs=1.\n",
      "2021-01-12 10:27:17,325 Train Evaluator INFO: Epoch[1] Complete. Time taken: 00:00:05\n",
      "2021-01-12 10:27:17,328 Train Evaluator INFO: Engine run complete. Time taken: 00:00:05\n",
      "2021-01-12 10:27:17,329 Val Evaluator INFO: Engine run starting with max_epochs=1.\n",
      "2021-01-12 10:27:18,943 Val Evaluator INFO: Epoch[1] Complete. Time taken: 00:00:02\n",
      "2021-01-12 10:27:18,945 Val Evaluator INFO: Engine run complete. Time taken: 00:00:02\n",
      "\u001b[34m\u001b[1mwandb\u001b[0m: \u001b[33mWARNING\u001b[0m Step must only increase in log calls.  Step 15 < 105; dropping {'lr/group_0': 0.001}.\n",
      "2021-01-12 10:27:18,950 Trainer INFO: Epoch[15] Complete. Time taken: 00:00:12\n"
     ]
    },
    {
     "name": "stdout",
     "output_type": "stream",
     "text": [
      "train loss 0.5303514393412836\n",
      "val loss 1.0728895373966383\n",
      "validation roc auc [0.39490196 0.37254902] 15\n"
     ]
    },
    {
     "name": "stderr",
     "output_type": "stream",
     "text": [
      "2021-01-12 10:27:23,712 Train Evaluator INFO: Engine run starting with max_epochs=1.\n",
      "2021-01-12 10:27:27,919 Train Evaluator INFO: Epoch[1] Complete. Time taken: 00:00:04\n",
      "2021-01-12 10:27:27,922 Train Evaluator INFO: Engine run complete. Time taken: 00:00:04\n",
      "2021-01-12 10:27:27,923 Val Evaluator INFO: Engine run starting with max_epochs=1.\n",
      "2021-01-12 10:27:29,266 Val Evaluator INFO: Epoch[1] Complete. Time taken: 00:00:01\n",
      "2021-01-12 10:27:29,268 Val Evaluator INFO: Engine run complete. Time taken: 00:00:01\n",
      "\u001b[34m\u001b[1mwandb\u001b[0m: \u001b[33mWARNING\u001b[0m Step must only increase in log calls.  Step 16 < 112; dropping {'lr/group_0': 0.001}.\n",
      "2021-01-12 10:27:29,274 Trainer INFO: Epoch[16] Complete. Time taken: 00:00:10\n"
     ]
    },
    {
     "name": "stdout",
     "output_type": "stream",
     "text": [
      "train loss 5.982053946920379\n",
      "val loss 6.259260629571003\n",
      "validation roc auc [0.44117647 0.42039216] 16\n"
     ]
    },
    {
     "name": "stderr",
     "output_type": "stream",
     "text": [
      "2021-01-12 10:27:34,704 Train Evaluator INFO: Engine run starting with max_epochs=1.\n",
      "2021-01-12 10:27:39,998 Train Evaluator INFO: Epoch[1] Complete. Time taken: 00:00:05\n",
      "2021-01-12 10:27:40,001 Train Evaluator INFO: Engine run complete. Time taken: 00:00:05\n",
      "2021-01-12 10:27:40,002 Val Evaluator INFO: Engine run starting with max_epochs=1.\n",
      "2021-01-12 10:27:41,241 Val Evaluator INFO: Epoch[1] Complete. Time taken: 00:00:01\n",
      "2021-01-12 10:27:41,243 Val Evaluator INFO: Engine run complete. Time taken: 00:00:01\n",
      "\u001b[34m\u001b[1mwandb\u001b[0m: \u001b[33mWARNING\u001b[0m Step must only increase in log calls.  Step 17 < 119; dropping {'lr/group_0': 0.001}.\n",
      "2021-01-12 10:27:41,249 Trainer INFO: Epoch[17] Complete. Time taken: 00:00:12\n"
     ]
    },
    {
     "name": "stdout",
     "output_type": "stream",
     "text": [
      "train loss 19.831449149388025\n",
      "val loss 19.35396201092264\n",
      "validation roc auc [0.64431373 0.44117647] 17\n"
     ]
    },
    {
     "name": "stderr",
     "output_type": "stream",
     "text": [
      "2021-01-12 10:27:46,037 Train Evaluator INFO: Engine run starting with max_epochs=1.\n",
      "2021-01-12 10:27:50,830 Train Evaluator INFO: Epoch[1] Complete. Time taken: 00:00:05\n",
      "2021-01-12 10:27:50,833 Train Evaluator INFO: Engine run complete. Time taken: 00:00:05\n",
      "2021-01-12 10:27:50,834 Val Evaluator INFO: Engine run starting with max_epochs=1.\n",
      "2021-01-12 10:27:52,486 Val Evaluator INFO: Epoch[1] Complete. Time taken: 00:00:02\n",
      "2021-01-12 10:27:52,488 Val Evaluator INFO: Engine run complete. Time taken: 00:00:02\n",
      "\u001b[34m\u001b[1mwandb\u001b[0m: \u001b[33mWARNING\u001b[0m Step must only increase in log calls.  Step 18 < 126; dropping {'lr/group_0': 0.001}.\n",
      "2021-01-12 10:27:52,494 Trainer INFO: Epoch[18] Complete. Time taken: 00:00:11\n"
     ]
    },
    {
     "name": "stdout",
     "output_type": "stream",
     "text": [
      "train loss 4.856965875361435\n",
      "val loss 5.2698028937630035\n",
      "validation roc auc [0.33215686 0.40196078] 18\n"
     ]
    },
    {
     "name": "stderr",
     "output_type": "stream",
     "text": [
      "2021-01-12 10:27:58,008 Train Evaluator INFO: Engine run starting with max_epochs=1.\n",
      "2021-01-12 10:28:03,407 Train Evaluator INFO: Epoch[1] Complete. Time taken: 00:00:05\n",
      "2021-01-12 10:28:03,410 Train Evaluator INFO: Engine run complete. Time taken: 00:00:05\n",
      "2021-01-12 10:28:03,411 Val Evaluator INFO: Engine run starting with max_epochs=1.\n",
      "2021-01-12 10:28:04,956 Val Evaluator INFO: Epoch[1] Complete. Time taken: 00:00:02\n",
      "2021-01-12 10:28:04,957 Val Evaluator INFO: Engine run complete. Time taken: 00:00:02\n",
      "\u001b[34m\u001b[1mwandb\u001b[0m: \u001b[33mWARNING\u001b[0m Step must only increase in log calls.  Step 19 < 133; dropping {'lr/group_0': 0.001}.\n",
      "2021-01-12 10:28:04,963 Trainer INFO: Epoch[19] Complete. Time taken: 00:00:12\n"
     ]
    },
    {
     "name": "stdout",
     "output_type": "stream",
     "text": [
      "train loss 1.169351097289215\n",
      "val loss 1.5756812282230543\n",
      "validation roc auc [0.37294118 0.37411765] 19\n"
     ]
    },
    {
     "name": "stderr",
     "output_type": "stream",
     "text": [
      "2021-01-12 10:28:09,959 Train Evaluator INFO: Engine run starting with max_epochs=1.\n",
      "2021-01-12 10:28:14,623 Train Evaluator INFO: Epoch[1] Complete. Time taken: 00:00:05\n",
      "2021-01-12 10:28:14,625 Train Evaluator INFO: Engine run complete. Time taken: 00:00:05\n",
      "2021-01-12 10:28:14,626 Val Evaluator INFO: Engine run starting with max_epochs=1.\n",
      "2021-01-12 10:28:16,464 Val Evaluator INFO: Epoch[1] Complete. Time taken: 00:00:02\n",
      "2021-01-12 10:28:16,466 Val Evaluator INFO: Engine run complete. Time taken: 00:00:02\n",
      "\u001b[34m\u001b[1mwandb\u001b[0m: \u001b[33mWARNING\u001b[0m Step must only increase in log calls.  Step 20 < 140; dropping {'lr/group_0': 0.001}.\n",
      "2021-01-12 10:28:16,472 Trainer INFO: Epoch[20] Complete. Time taken: 00:00:12\n"
     ]
    },
    {
     "name": "stdout",
     "output_type": "stream",
     "text": [
      "train loss 0.7119622710999359\n",
      "val loss 1.1576214344605156\n",
      "validation roc auc [0.34666667 0.34352941] 20\n"
     ]
    },
    {
     "name": "stderr",
     "output_type": "stream",
     "text": [
      "2021-01-12 10:28:22,078 Train Evaluator INFO: Engine run starting with max_epochs=1.\n",
      "2021-01-12 10:28:26,557 Train Evaluator INFO: Epoch[1] Complete. Time taken: 00:00:04\n",
      "2021-01-12 10:28:26,558 Train Evaluator INFO: Engine run complete. Time taken: 00:00:04\n",
      "2021-01-12 10:28:26,559 Val Evaluator INFO: Engine run starting with max_epochs=1.\n",
      "2021-01-12 10:28:28,093 Val Evaluator INFO: Epoch[1] Complete. Time taken: 00:00:02\n",
      "2021-01-12 10:28:28,095 Val Evaluator INFO: Engine run complete. Time taken: 00:00:02\n",
      "\u001b[34m\u001b[1mwandb\u001b[0m: \u001b[33mWARNING\u001b[0m Step must only increase in log calls.  Step 21 < 147; dropping {'lr/group_0': 0.001}.\n",
      "2021-01-12 10:28:28,131 Trainer INFO: Epoch[21] Complete. Time taken: 00:00:12\n"
     ]
    },
    {
     "name": "stdout",
     "output_type": "stream",
     "text": [
      "train loss 0.5425226739569053\n",
      "val loss 0.805507807109667\n",
      "validation roc auc [0.44       0.38705882] 21\n"
     ]
    },
    {
     "name": "stderr",
     "output_type": "stream",
     "text": [
      "2021-01-12 10:28:33,553 Train Evaluator INFO: Engine run starting with max_epochs=1.\n",
      "2021-01-12 10:28:38,829 Train Evaluator INFO: Epoch[1] Complete. Time taken: 00:00:05\n",
      "2021-01-12 10:28:38,831 Train Evaluator INFO: Engine run complete. Time taken: 00:00:05\n",
      "2021-01-12 10:28:38,832 Val Evaluator INFO: Engine run starting with max_epochs=1.\n",
      "2021-01-12 10:28:40,693 Val Evaluator INFO: Epoch[1] Complete. Time taken: 00:00:02\n",
      "2021-01-12 10:28:40,694 Val Evaluator INFO: Engine run complete. Time taken: 00:00:02\n",
      "\u001b[34m\u001b[1mwandb\u001b[0m: \u001b[33mWARNING\u001b[0m Step must only increase in log calls.  Step 22 < 154; dropping {'lr/group_0': 0.001}.\n",
      "2021-01-12 10:28:40,703 Trainer INFO: Epoch[22] Complete. Time taken: 00:00:13\n"
     ]
    },
    {
     "name": "stdout",
     "output_type": "stream",
     "text": [
      "train loss 0.43485122374220236\n",
      "val loss 0.6330034831295843\n",
      "validation roc auc [0.45137255 0.41098039] 22\n"
     ]
    },
    {
     "name": "stderr",
     "output_type": "stream",
     "text": [
      "2021-01-12 10:28:45,560 Train Evaluator INFO: Engine run starting with max_epochs=1.\n",
      "2021-01-12 10:28:50,627 Train Evaluator INFO: Epoch[1] Complete. Time taken: 00:00:05\n",
      "2021-01-12 10:28:50,630 Train Evaluator INFO: Engine run complete. Time taken: 00:00:05\n",
      "2021-01-12 10:28:50,631 Val Evaluator INFO: Engine run starting with max_epochs=1.\n",
      "2021-01-12 10:28:52,242 Val Evaluator INFO: Epoch[1] Complete. Time taken: 00:00:02\n",
      "2021-01-12 10:28:52,243 Val Evaluator INFO: Engine run complete. Time taken: 00:00:02\n",
      "\u001b[34m\u001b[1mwandb\u001b[0m: \u001b[33mWARNING\u001b[0m Step must only increase in log calls.  Step 23 < 161; dropping {'lr/group_0': 0.001}.\n",
      "2021-01-12 10:28:52,249 Trainer INFO: Epoch[23] Complete. Time taken: 00:00:12\n"
     ]
    },
    {
     "name": "stdout",
     "output_type": "stream",
     "text": [
      "train loss 0.4792752944531533\n",
      "val loss 0.6727481567341348\n",
      "validation roc auc [0.45647059 0.42705882] 23\n"
     ]
    },
    {
     "name": "stderr",
     "output_type": "stream",
     "text": [
      "2021-01-12 10:28:57,921 Train Evaluator INFO: Engine run starting with max_epochs=1.\n",
      "2021-01-12 10:29:03,084 Train Evaluator INFO: Epoch[1] Complete. Time taken: 00:00:05\n",
      "2021-01-12 10:29:03,087 Train Evaluator INFO: Engine run complete. Time taken: 00:00:05\n",
      "2021-01-12 10:29:03,088 Val Evaluator INFO: Engine run starting with max_epochs=1.\n",
      "2021-01-12 10:29:04,831 Val Evaluator INFO: Epoch[1] Complete. Time taken: 00:00:02\n",
      "2021-01-12 10:29:04,833 Val Evaluator INFO: Engine run complete. Time taken: 00:00:02\n",
      "\u001b[34m\u001b[1mwandb\u001b[0m: \u001b[33mWARNING\u001b[0m Step must only increase in log calls.  Step 24 < 168; dropping {'lr/group_0': 0.001}.\n",
      "2021-01-12 10:29:04,839 Trainer INFO: Epoch[24] Complete. Time taken: 00:00:13\n"
     ]
    },
    {
     "name": "stdout",
     "output_type": "stream",
     "text": [
      "train loss 0.4555423383567472\n",
      "val loss 0.6384889229484226\n",
      "validation roc auc [0.46705882 0.44705882] 24\n"
     ]
    },
    {
     "name": "stderr",
     "output_type": "stream",
     "text": [
      "2021-01-12 10:29:10,633 Train Evaluator INFO: Engine run starting with max_epochs=1.\n",
      "2021-01-12 10:29:14,748 Train Evaluator INFO: Epoch[1] Complete. Time taken: 00:00:04\n",
      "2021-01-12 10:29:14,751 Train Evaluator INFO: Engine run complete. Time taken: 00:00:04\n",
      "2021-01-12 10:29:14,755 Val Evaluator INFO: Engine run starting with max_epochs=1.\n",
      "2021-01-12 10:29:16,452 Val Evaluator INFO: Epoch[1] Complete. Time taken: 00:00:02\n",
      "2021-01-12 10:29:16,454 Val Evaluator INFO: Engine run complete. Time taken: 00:00:02\n",
      "\u001b[34m\u001b[1mwandb\u001b[0m: \u001b[33mWARNING\u001b[0m Step must only increase in log calls.  Step 25 < 175; dropping {'lr/group_0': 0.001}.\n",
      "2021-01-12 10:29:16,461 Trainer INFO: Epoch[25] Complete. Time taken: 00:00:12\n"
     ]
    },
    {
     "name": "stdout",
     "output_type": "stream",
     "text": [
      "train loss 0.4414616744769247\n",
      "val loss 0.6218904697376749\n",
      "validation roc auc [0.47490196 0.45882353] 25\n"
     ]
    },
    {
     "name": "stderr",
     "output_type": "stream",
     "text": [
      "2021-01-12 10:29:21,113 Train Evaluator INFO: Engine run starting with max_epochs=1.\n",
      "2021-01-12 10:29:26,521 Train Evaluator INFO: Epoch[1] Complete. Time taken: 00:00:05\n",
      "2021-01-12 10:29:26,523 Train Evaluator INFO: Engine run complete. Time taken: 00:00:05\n",
      "2021-01-12 10:29:26,524 Val Evaluator INFO: Engine run starting with max_epochs=1.\n",
      "2021-01-12 10:29:27,889 Val Evaluator INFO: Epoch[1] Complete. Time taken: 00:00:01\n",
      "2021-01-12 10:29:27,891 Val Evaluator INFO: Engine run complete. Time taken: 00:00:01\n",
      "\u001b[34m\u001b[1mwandb\u001b[0m: \u001b[33mWARNING\u001b[0m Step must only increase in log calls.  Step 26 < 182; dropping {'lr/group_0': 0.001}.\n",
      "2021-01-12 10:29:27,896 Trainer INFO: Epoch[26] Complete. Time taken: 00:00:11\n"
     ]
    },
    {
     "name": "stdout",
     "output_type": "stream",
     "text": [
      "train loss 0.4336536445776181\n",
      "val loss 0.6196841006693633\n",
      "validation roc auc [0.48117647 0.46235294] 26\n"
     ]
    },
    {
     "name": "stderr",
     "output_type": "stream",
     "text": [
      "2021-01-12 10:29:33,356 Train Evaluator INFO: Engine run starting with max_epochs=1.\n",
      "2021-01-12 10:29:38,530 Train Evaluator INFO: Epoch[1] Complete. Time taken: 00:00:05\n",
      "2021-01-12 10:29:38,533 Train Evaluator INFO: Engine run complete. Time taken: 00:00:05\n",
      "2021-01-12 10:29:38,534 Val Evaluator INFO: Engine run starting with max_epochs=1.\n",
      "2021-01-12 10:29:40,012 Val Evaluator INFO: Epoch[1] Complete. Time taken: 00:00:01\n",
      "2021-01-12 10:29:40,014 Val Evaluator INFO: Engine run complete. Time taken: 00:00:01\n",
      "\u001b[34m\u001b[1mwandb\u001b[0m: \u001b[33mWARNING\u001b[0m Step must only increase in log calls.  Step 27 < 189; dropping {'lr/group_0': 0.001}.\n",
      "2021-01-12 10:29:40,031 Trainer INFO: Epoch[27] Complete. Time taken: 00:00:12\n"
     ]
    },
    {
     "name": "stdout",
     "output_type": "stream",
     "text": [
      "train loss 0.41893482554982575\n",
      "val loss 0.6137044388314952\n",
      "validation roc auc [0.48588235 0.46588235] 27\n"
     ]
    },
    {
     "name": "stderr",
     "output_type": "stream",
     "text": [
      "2021-01-12 10:29:44,985 Train Evaluator INFO: Engine run starting with max_epochs=1.\n",
      "2021-01-12 10:29:50,995 Train Evaluator INFO: Epoch[1] Complete. Time taken: 00:00:06\n",
      "2021-01-12 10:29:50,997 Train Evaluator INFO: Engine run complete. Time taken: 00:00:06\n",
      "2021-01-12 10:29:50,998 Val Evaluator INFO: Engine run starting with max_epochs=1.\n",
      "2021-01-12 10:29:52,320 Val Evaluator INFO: Epoch[1] Complete. Time taken: 00:00:01\n",
      "2021-01-12 10:29:52,322 Val Evaluator INFO: Engine run complete. Time taken: 00:00:01\n",
      "\u001b[34m\u001b[1mwandb\u001b[0m: \u001b[33mWARNING\u001b[0m Step must only increase in log calls.  Step 28 < 196; dropping {'lr/group_0': 0.001}.\n",
      "2021-01-12 10:29:52,327 Trainer INFO: Epoch[28] Complete. Time taken: 00:00:12\n"
     ]
    },
    {
     "name": "stdout",
     "output_type": "stream",
     "text": [
      "train loss 0.4038852113105584\n",
      "val loss 0.6078037681786911\n",
      "validation roc auc [0.4854902  0.46627451] 28\n"
     ]
    },
    {
     "name": "stderr",
     "output_type": "stream",
     "text": [
      "2021-01-12 10:29:56,958 Train Evaluator INFO: Engine run starting with max_epochs=1.\n",
      "2021-01-12 10:30:01,768 Train Evaluator INFO: Epoch[1] Complete. Time taken: 00:00:05\n",
      "2021-01-12 10:30:01,771 Train Evaluator INFO: Engine run complete. Time taken: 00:00:05\n",
      "2021-01-12 10:30:01,772 Val Evaluator INFO: Engine run starting with max_epochs=1.\n",
      "2021-01-12 10:30:03,475 Val Evaluator INFO: Epoch[1] Complete. Time taken: 00:00:02\n",
      "2021-01-12 10:30:03,476 Val Evaluator INFO: Engine run complete. Time taken: 00:00:02\n",
      "\u001b[34m\u001b[1mwandb\u001b[0m: \u001b[33mWARNING\u001b[0m Step must only increase in log calls.  Step 29 < 203; dropping {'lr/group_0': 0.001}.\n",
      "2021-01-12 10:30:03,484 Trainer INFO: Epoch[29] Complete. Time taken: 00:00:11\n"
     ]
    },
    {
     "name": "stdout",
     "output_type": "stream",
     "text": [
      "train loss 0.3894812250071285\n",
      "val loss 0.6025702015213344\n",
      "validation roc auc [0.4945098  0.46980392] 29\n"
     ]
    },
    {
     "name": "stderr",
     "output_type": "stream",
     "text": [
      "2021-01-12 10:30:08,934 Train Evaluator INFO: Engine run starting with max_epochs=1.\n",
      "2021-01-12 10:30:14,511 Train Evaluator INFO: Epoch[1] Complete. Time taken: 00:00:06\n",
      "2021-01-12 10:30:14,514 Train Evaluator INFO: Engine run complete. Time taken: 00:00:06\n",
      "2021-01-12 10:30:14,515 Val Evaluator INFO: Engine run starting with max_epochs=1.\n",
      "2021-01-12 10:30:16,497 Val Evaluator INFO: Epoch[1] Complete. Time taken: 00:00:02\n",
      "2021-01-12 10:30:16,499 Val Evaluator INFO: Engine run complete. Time taken: 00:00:02\n",
      "\u001b[34m\u001b[1mwandb\u001b[0m: \u001b[33mWARNING\u001b[0m Step must only increase in log calls.  Step 30 < 210; dropping {'lr/group_0': 0.001}.\n",
      "2021-01-12 10:30:16,505 Trainer INFO: Epoch[30] Complete. Time taken: 00:00:13\n"
     ]
    },
    {
     "name": "stdout",
     "output_type": "stream",
     "text": [
      "train loss 0.3759926895190474\n",
      "val loss 0.5982451065726903\n",
      "validation roc auc [0.50039216 0.4745098 ] 30\n"
     ]
    },
    {
     "name": "stderr",
     "output_type": "stream",
     "text": [
      "2021-01-12 10:30:21,768 Train Evaluator INFO: Engine run starting with max_epochs=1.\n",
      "2021-01-12 10:30:26,349 Train Evaluator INFO: Epoch[1] Complete. Time taken: 00:00:05\n",
      "2021-01-12 10:30:26,352 Train Evaluator INFO: Engine run complete. Time taken: 00:00:05\n",
      "2021-01-12 10:30:26,354 Val Evaluator INFO: Engine run starting with max_epochs=1.\n",
      "2021-01-12 10:30:28,172 Val Evaluator INFO: Epoch[1] Complete. Time taken: 00:00:02\n",
      "2021-01-12 10:30:28,174 Val Evaluator INFO: Engine run complete. Time taken: 00:00:02\n",
      "\u001b[34m\u001b[1mwandb\u001b[0m: \u001b[33mWARNING\u001b[0m Step must only increase in log calls.  Step 31 < 217; dropping {'lr/group_0': 0.001}.\n",
      "2021-01-12 10:30:28,180 Trainer INFO: Epoch[31] Complete. Time taken: 00:00:12\n"
     ]
    },
    {
     "name": "stdout",
     "output_type": "stream",
     "text": [
      "train loss 0.36359763706820164\n",
      "val loss 0.5951611752095429\n",
      "validation roc auc [0.50941176 0.47294118] 31\n"
     ]
    },
    {
     "name": "stderr",
     "output_type": "stream",
     "text": [
      "2021-01-12 10:30:33,680 Train Evaluator INFO: Engine run starting with max_epochs=1.\n",
      "2021-01-12 10:30:38,592 Train Evaluator INFO: Epoch[1] Complete. Time taken: 00:00:05\n",
      "2021-01-12 10:30:38,594 Train Evaluator INFO: Engine run complete. Time taken: 00:00:05\n",
      "2021-01-12 10:30:38,596 Val Evaluator INFO: Engine run starting with max_epochs=1.\n",
      "2021-01-12 10:30:39,918 Val Evaluator INFO: Epoch[1] Complete. Time taken: 00:00:01\n",
      "2021-01-12 10:30:39,919 Val Evaluator INFO: Engine run complete. Time taken: 00:00:01\n",
      "\u001b[34m\u001b[1mwandb\u001b[0m: \u001b[33mWARNING\u001b[0m Step must only increase in log calls.  Step 32 < 224; dropping {'lr/group_0': 0.001}.\n",
      "2021-01-12 10:30:39,926 Trainer INFO: Epoch[32] Complete. Time taken: 00:00:12\n"
     ]
    },
    {
     "name": "stdout",
     "output_type": "stream",
     "text": [
      "train loss 0.3525823186309054\n",
      "val loss 0.5916532018910283\n",
      "validation roc auc [0.51843137 0.47058824] 32\n"
     ]
    },
    {
     "name": "stderr",
     "output_type": "stream",
     "text": [
      "2021-01-12 10:30:45,244 Train Evaluator INFO: Engine run starting with max_epochs=1.\n",
      "2021-01-12 10:30:50,480 Train Evaluator INFO: Epoch[1] Complete. Time taken: 00:00:05\n",
      "2021-01-12 10:30:50,482 Train Evaluator INFO: Engine run complete. Time taken: 00:00:05\n",
      "2021-01-12 10:30:50,483 Val Evaluator INFO: Engine run starting with max_epochs=1.\n",
      "2021-01-12 10:30:51,755 Val Evaluator INFO: Epoch[1] Complete. Time taken: 00:00:01\n",
      "2021-01-12 10:30:51,756 Val Evaluator INFO: Engine run complete. Time taken: 00:00:01\n",
      "\u001b[34m\u001b[1mwandb\u001b[0m: \u001b[33mWARNING\u001b[0m Step must only increase in log calls.  Step 33 < 231; dropping {'lr/group_0': 0.001}.\n",
      "2021-01-12 10:30:51,762 Trainer INFO: Epoch[33] Complete. Time taken: 00:00:12\n"
     ]
    },
    {
     "name": "stdout",
     "output_type": "stream",
     "text": [
      "train loss 0.3433688299477596\n",
      "val loss 0.5886532228925954\n",
      "validation roc auc [0.5254902  0.46862745] 33\n"
     ]
    },
    {
     "name": "stderr",
     "output_type": "stream",
     "text": [
      "2021-01-12 10:30:57,135 Train Evaluator INFO: Engine run starting with max_epochs=1.\n",
      "2021-01-12 10:31:02,443 Train Evaluator INFO: Epoch[1] Complete. Time taken: 00:00:05\n",
      "2021-01-12 10:31:02,446 Train Evaluator INFO: Engine run complete. Time taken: 00:00:05\n",
      "2021-01-12 10:31:02,447 Val Evaluator INFO: Engine run starting with max_epochs=1.\n",
      "2021-01-12 10:31:04,447 Val Evaluator INFO: Epoch[1] Complete. Time taken: 00:00:02\n",
      "2021-01-12 10:31:04,448 Val Evaluator INFO: Engine run complete. Time taken: 00:00:02\n",
      "\u001b[34m\u001b[1mwandb\u001b[0m: \u001b[33mWARNING\u001b[0m Step must only increase in log calls.  Step 34 < 238; dropping {'lr/group_0': 0.001}.\n",
      "2021-01-12 10:31:04,455 Trainer INFO: Epoch[34] Complete. Time taken: 00:00:13\n"
     ]
    },
    {
     "name": "stdout",
     "output_type": "stream",
     "text": [
      "train loss 0.3354729918396704\n",
      "val loss 0.588843862388445\n",
      "validation roc auc [0.53372549 0.46666667] 34\n"
     ]
    },
    {
     "name": "stderr",
     "output_type": "stream",
     "text": [
      "2021-01-12 10:31:09,216 Train Evaluator INFO: Engine run starting with max_epochs=1.\n",
      "2021-01-12 10:31:14,831 Train Evaluator INFO: Epoch[1] Complete. Time taken: 00:00:06\n",
      "2021-01-12 10:31:14,834 Train Evaluator INFO: Engine run complete. Time taken: 00:00:06\n",
      "2021-01-12 10:31:14,835 Val Evaluator INFO: Engine run starting with max_epochs=1.\n",
      "2021-01-12 10:31:16,862 Val Evaluator INFO: Epoch[1] Complete. Time taken: 00:00:02\n",
      "2021-01-12 10:31:16,863 Val Evaluator INFO: Engine run complete. Time taken: 00:00:02\n",
      "\u001b[34m\u001b[1mwandb\u001b[0m: \u001b[33mWARNING\u001b[0m Step must only increase in log calls.  Step 35 < 245; dropping {'lr/group_0': 0.001}.\n",
      "2021-01-12 10:31:16,870 Trainer INFO: Epoch[35] Complete. Time taken: 00:00:12\n"
     ]
    },
    {
     "name": "stdout",
     "output_type": "stream",
     "text": [
      "train loss 0.32881295243458736\n",
      "val loss 0.5868680570436561\n",
      "validation roc auc [0.5454902  0.46588235] 35\n"
     ]
    },
    {
     "name": "stderr",
     "output_type": "stream",
     "text": [
      "2021-01-12 10:31:21,960 Train Evaluator INFO: Engine run starting with max_epochs=1.\n",
      "2021-01-12 10:31:27,066 Train Evaluator INFO: Epoch[1] Complete. Time taken: 00:00:05\n",
      "2021-01-12 10:31:27,069 Train Evaluator INFO: Engine run complete. Time taken: 00:00:05\n",
      "2021-01-12 10:31:27,070 Val Evaluator INFO: Engine run starting with max_epochs=1.\n",
      "2021-01-12 10:31:28,599 Val Evaluator INFO: Epoch[1] Complete. Time taken: 00:00:02\n",
      "2021-01-12 10:31:28,600 Val Evaluator INFO: Engine run complete. Time taken: 00:00:02\n",
      "\u001b[34m\u001b[1mwandb\u001b[0m: \u001b[33mWARNING\u001b[0m Step must only increase in log calls.  Step 36 < 252; dropping {'lr/group_0': 0.001}.\n",
      "2021-01-12 10:31:28,607 Trainer INFO: Epoch[36] Complete. Time taken: 00:00:12\n"
     ]
    },
    {
     "name": "stdout",
     "output_type": "stream",
     "text": [
      "train loss 0.32525017106301896\n",
      "val loss 0.584728959850643\n",
      "validation roc auc [0.5454902  0.46901961] 36\n"
     ]
    },
    {
     "name": "stderr",
     "output_type": "stream",
     "text": [
      "2021-01-12 10:31:34,846 Train Evaluator INFO: Engine run starting with max_epochs=1.\n",
      "2021-01-12 10:31:40,004 Train Evaluator INFO: Epoch[1] Complete. Time taken: 00:00:05\n",
      "2021-01-12 10:31:40,007 Train Evaluator INFO: Engine run complete. Time taken: 00:00:05\n",
      "2021-01-12 10:31:40,008 Val Evaluator INFO: Engine run starting with max_epochs=1.\n",
      "2021-01-12 10:31:41,514 Val Evaluator INFO: Epoch[1] Complete. Time taken: 00:00:02\n",
      "2021-01-12 10:31:41,516 Val Evaluator INFO: Engine run complete. Time taken: 00:00:02\n",
      "\u001b[34m\u001b[1mwandb\u001b[0m: \u001b[33mWARNING\u001b[0m Step must only increase in log calls.  Step 37 < 259; dropping {'lr/group_0': 0.001}.\n",
      "2021-01-12 10:31:41,522 Trainer INFO: Epoch[37] Complete. Time taken: 00:00:13\n"
     ]
    },
    {
     "name": "stdout",
     "output_type": "stream",
     "text": [
      "train loss 0.31882842087349406\n",
      "val loss 0.5914363068083058\n",
      "validation roc auc [0.55372549 0.47411765] 37\n"
     ]
    },
    {
     "name": "stderr",
     "output_type": "stream",
     "text": [
      "2021-01-12 10:31:47,010 Train Evaluator INFO: Engine run starting with max_epochs=1.\n",
      "2021-01-12 10:31:52,310 Train Evaluator INFO: Epoch[1] Complete. Time taken: 00:00:05\n",
      "2021-01-12 10:31:52,312 Train Evaluator INFO: Engine run complete. Time taken: 00:00:05\n",
      "2021-01-12 10:31:52,314 Val Evaluator INFO: Engine run starting with max_epochs=1.\n",
      "2021-01-12 10:31:53,634 Val Evaluator INFO: Epoch[1] Complete. Time taken: 00:00:01\n",
      "2021-01-12 10:31:53,636 Val Evaluator INFO: Engine run complete. Time taken: 00:00:01\n",
      "\u001b[34m\u001b[1mwandb\u001b[0m: \u001b[33mWARNING\u001b[0m Step must only increase in log calls.  Step 38 < 266; dropping {'lr/group_0': 0.001}.\n",
      "2021-01-12 10:31:53,641 Trainer INFO: Epoch[38] Complete. Time taken: 00:00:12\n"
     ]
    },
    {
     "name": "stdout",
     "output_type": "stream",
     "text": [
      "train loss 0.3139690760925536\n",
      "val loss 0.590224678101747\n",
      "validation roc auc [0.55921569 0.47607843] 38\n"
     ]
    },
    {
     "name": "stderr",
     "output_type": "stream",
     "text": [
      "2021-01-12 10:31:58,854 Train Evaluator INFO: Engine run starting with max_epochs=1.\n",
      "2021-01-12 10:32:04,348 Train Evaluator INFO: Epoch[1] Complete. Time taken: 00:00:05\n",
      "2021-01-12 10:32:04,349 Train Evaluator INFO: Engine run complete. Time taken: 00:00:05\n",
      "2021-01-12 10:32:04,350 Val Evaluator INFO: Engine run starting with max_epochs=1.\n",
      "2021-01-12 10:32:06,338 Val Evaluator INFO: Epoch[1] Complete. Time taken: 00:00:02\n",
      "2021-01-12 10:32:06,340 Val Evaluator INFO: Engine run complete. Time taken: 00:00:02\n",
      "\u001b[34m\u001b[1mwandb\u001b[0m: \u001b[33mWARNING\u001b[0m Step must only increase in log calls.  Step 39 < 273; dropping {'lr/group_0': 0.001}.\n",
      "2021-01-12 10:32:06,346 Trainer INFO: Epoch[39] Complete. Time taken: 00:00:13\n"
     ]
    },
    {
     "name": "stdout",
     "output_type": "stream",
     "text": [
      "train loss 0.3095818471545328\n",
      "val loss 0.5880002768143363\n",
      "validation roc auc [0.56196078 0.47843137] 39\n"
     ]
    },
    {
     "name": "stderr",
     "output_type": "stream",
     "text": [
      "2021-01-12 10:32:11,772 Train Evaluator INFO: Engine run starting with max_epochs=1.\n",
      "2021-01-12 10:32:16,764 Train Evaluator INFO: Epoch[1] Complete. Time taken: 00:00:05\n",
      "2021-01-12 10:32:16,767 Train Evaluator INFO: Engine run complete. Time taken: 00:00:05\n",
      "2021-01-12 10:32:16,768 Val Evaluator INFO: Engine run starting with max_epochs=1.\n",
      "2021-01-12 10:32:18,132 Val Evaluator INFO: Epoch[1] Complete. Time taken: 00:00:01\n",
      "2021-01-12 10:32:18,139 Val Evaluator INFO: Engine run complete. Time taken: 00:00:01\n",
      "\u001b[34m\u001b[1mwandb\u001b[0m: \u001b[33mWARNING\u001b[0m Step must only increase in log calls.  Step 40 < 280; dropping {'lr/group_0': 0.001}.\n",
      "2021-01-12 10:32:18,145 Trainer INFO: Epoch[40] Complete. Time taken: 00:00:12\n"
     ]
    },
    {
     "name": "stdout",
     "output_type": "stream",
     "text": [
      "train loss 0.30578480549466247\n",
      "val loss 0.5861588607663694\n",
      "validation roc auc [0.56666667 0.47764706] 40\n"
     ]
    },
    {
     "name": "stderr",
     "output_type": "stream",
     "text": [
      "2021-01-12 10:32:23,014 Train Evaluator INFO: Engine run starting with max_epochs=1.\n",
      "2021-01-12 10:32:28,052 Train Evaluator INFO: Epoch[1] Complete. Time taken: 00:00:05\n",
      "2021-01-12 10:32:28,053 Train Evaluator INFO: Engine run complete. Time taken: 00:00:05\n",
      "2021-01-12 10:32:28,054 Val Evaluator INFO: Engine run starting with max_epochs=1.\n",
      "2021-01-12 10:32:29,499 Val Evaluator INFO: Epoch[1] Complete. Time taken: 00:00:01\n",
      "2021-01-12 10:32:29,500 Val Evaluator INFO: Engine run complete. Time taken: 00:00:01\n",
      "\u001b[34m\u001b[1mwandb\u001b[0m: \u001b[33mWARNING\u001b[0m Step must only increase in log calls.  Step 41 < 287; dropping {'lr/group_0': 0.001}.\n",
      "2021-01-12 10:32:29,506 Trainer INFO: Epoch[41] Complete. Time taken: 00:00:11\n"
     ]
    },
    {
     "name": "stdout",
     "output_type": "stream",
     "text": [
      "train loss 0.30222048294676307\n",
      "val loss 0.585579546638157\n",
      "validation roc auc [0.56862745 0.48      ] 41\n"
     ]
    },
    {
     "name": "stderr",
     "output_type": "stream",
     "text": [
      "2021-01-12 10:32:34,270 Train Evaluator INFO: Engine run starting with max_epochs=1.\n",
      "2021-01-12 10:32:38,811 Train Evaluator INFO: Epoch[1] Complete. Time taken: 00:00:05\n",
      "2021-01-12 10:32:38,813 Train Evaluator INFO: Engine run complete. Time taken: 00:00:05\n",
      "2021-01-12 10:32:38,814 Val Evaluator INFO: Engine run starting with max_epochs=1.\n",
      "2021-01-12 10:32:40,208 Val Evaluator INFO: Epoch[1] Complete. Time taken: 00:00:01\n",
      "2021-01-12 10:32:40,210 Val Evaluator INFO: Engine run complete. Time taken: 00:00:01\n",
      "\u001b[34m\u001b[1mwandb\u001b[0m: \u001b[33mWARNING\u001b[0m Step must only increase in log calls.  Step 42 < 294; dropping {'lr/group_0': 0.001}.\n",
      "2021-01-12 10:32:40,216 Trainer INFO: Epoch[42] Complete. Time taken: 00:00:11\n"
     ]
    },
    {
     "name": "stdout",
     "output_type": "stream",
     "text": [
      "train loss 0.2985277516029548\n",
      "val loss 0.5869406503179799\n",
      "validation roc auc [0.57137255 0.48078431] 42\n"
     ]
    },
    {
     "name": "stderr",
     "output_type": "stream",
     "text": [
      "2021-01-12 10:32:45,300 Train Evaluator INFO: Engine run starting with max_epochs=1.\n",
      "2021-01-12 10:32:50,225 Train Evaluator INFO: Epoch[1] Complete. Time taken: 00:00:05\n",
      "2021-01-12 10:32:50,228 Train Evaluator INFO: Engine run complete. Time taken: 00:00:05\n",
      "2021-01-12 10:32:50,229 Val Evaluator INFO: Engine run starting with max_epochs=1.\n",
      "2021-01-12 10:32:51,742 Val Evaluator INFO: Epoch[1] Complete. Time taken: 00:00:02\n",
      "2021-01-12 10:32:51,743 Val Evaluator INFO: Engine run complete. Time taken: 00:00:02\n",
      "\u001b[34m\u001b[1mwandb\u001b[0m: \u001b[33mWARNING\u001b[0m Step must only increase in log calls.  Step 43 < 301; dropping {'lr/group_0': 0.001}.\n",
      "2021-01-12 10:32:51,749 Trainer INFO: Epoch[43] Complete. Time taken: 00:00:12\n"
     ]
    },
    {
     "name": "stdout",
     "output_type": "stream",
     "text": [
      "train loss 0.2952480220398414\n",
      "val loss 0.5861847338469132\n",
      "validation roc auc [0.57215686 0.48470588] 43\n"
     ]
    },
    {
     "name": "stderr",
     "output_type": "stream",
     "text": [
      "2021-01-12 10:32:56,602 Train Evaluator INFO: Engine run starting with max_epochs=1.\n",
      "2021-01-12 10:33:01,151 Train Evaluator INFO: Epoch[1] Complete. Time taken: 00:00:05\n",
      "2021-01-12 10:33:01,152 Train Evaluator INFO: Engine run complete. Time taken: 00:00:05\n",
      "2021-01-12 10:33:01,153 Val Evaluator INFO: Engine run starting with max_epochs=1.\n",
      "2021-01-12 10:33:03,017 Val Evaluator INFO: Epoch[1] Complete. Time taken: 00:00:02\n",
      "2021-01-12 10:33:03,019 Val Evaluator INFO: Engine run complete. Time taken: 00:00:02\n",
      "\u001b[34m\u001b[1mwandb\u001b[0m: \u001b[33mWARNING\u001b[0m Step must only increase in log calls.  Step 44 < 308; dropping {'lr/group_0': 0.001}.\n",
      "2021-01-12 10:33:03,026 Trainer INFO: Epoch[44] Complete. Time taken: 00:00:11\n"
     ]
    },
    {
     "name": "stdout",
     "output_type": "stream",
     "text": [
      "train loss 0.2918885514511626\n",
      "val loss 0.5908344714537911\n",
      "validation roc auc [0.57607843 0.48627451] 44\n"
     ]
    },
    {
     "name": "stderr",
     "output_type": "stream",
     "text": [
      "2021-01-12 10:33:08,125 Train Evaluator INFO: Engine run starting with max_epochs=1.\n",
      "2021-01-12 10:33:12,817 Train Evaluator INFO: Epoch[1] Complete. Time taken: 00:00:05\n",
      "2021-01-12 10:33:12,819 Train Evaluator INFO: Engine run complete. Time taken: 00:00:05\n",
      "2021-01-12 10:33:12,820 Val Evaluator INFO: Engine run starting with max_epochs=1.\n",
      "2021-01-12 10:33:14,319 Val Evaluator INFO: Epoch[1] Complete. Time taken: 00:00:01\n",
      "2021-01-12 10:33:14,321 Val Evaluator INFO: Engine run complete. Time taken: 00:00:01\n",
      "\u001b[34m\u001b[1mwandb\u001b[0m: \u001b[33mWARNING\u001b[0m Step must only increase in log calls.  Step 45 < 315; dropping {'lr/group_0': 0.001}.\n",
      "2021-01-12 10:33:14,328 Trainer INFO: Epoch[45] Complete. Time taken: 00:00:11\n"
     ]
    },
    {
     "name": "stdout",
     "output_type": "stream",
     "text": [
      "train loss 0.2887279345883557\n",
      "val loss 0.5909092651761096\n",
      "validation roc auc [0.5772549  0.49098039] 45\n"
     ]
    },
    {
     "name": "stderr",
     "output_type": "stream",
     "text": [
      "2021-01-12 10:33:20,100 Train Evaluator INFO: Engine run starting with max_epochs=1.\n",
      "2021-01-12 10:33:25,917 Train Evaluator INFO: Epoch[1] Complete. Time taken: 00:00:06\n",
      "2021-01-12 10:33:25,920 Train Evaluator INFO: Engine run complete. Time taken: 00:00:06\n",
      "2021-01-12 10:33:25,921 Val Evaluator INFO: Engine run starting with max_epochs=1.\n",
      "2021-01-12 10:33:27,530 Val Evaluator INFO: Epoch[1] Complete. Time taken: 00:00:02\n",
      "2021-01-12 10:33:27,532 Val Evaluator INFO: Engine run complete. Time taken: 00:00:02\n",
      "\u001b[34m\u001b[1mwandb\u001b[0m: \u001b[33mWARNING\u001b[0m Step must only increase in log calls.  Step 46 < 322; dropping {'lr/group_0': 0.001}.\n",
      "2021-01-12 10:33:27,538 Trainer INFO: Epoch[46] Complete. Time taken: 00:00:13\n"
     ]
    },
    {
     "name": "stdout",
     "output_type": "stream",
     "text": [
      "train loss 0.28574189651045445\n",
      "val loss 0.592868275227754\n",
      "validation roc auc [0.58       0.49372549] 46\n"
     ]
    },
    {
     "name": "stderr",
     "output_type": "stream",
     "text": [
      "2021-01-12 10:33:32,221 Train Evaluator INFO: Engine run starting with max_epochs=1.\n",
      "2021-01-12 10:33:37,181 Train Evaluator INFO: Epoch[1] Complete. Time taken: 00:00:05\n",
      "2021-01-12 10:33:37,184 Train Evaluator INFO: Engine run complete. Time taken: 00:00:05\n",
      "2021-01-12 10:33:37,185 Val Evaluator INFO: Engine run starting with max_epochs=1.\n",
      "2021-01-12 10:33:38,968 Val Evaluator INFO: Epoch[1] Complete. Time taken: 00:00:02\n",
      "2021-01-12 10:33:38,971 Val Evaluator INFO: Engine run complete. Time taken: 00:00:02\n",
      "\u001b[34m\u001b[1mwandb\u001b[0m: \u001b[33mWARNING\u001b[0m Step must only increase in log calls.  Step 47 < 329; dropping {'lr/group_0': 0.001}.\n",
      "2021-01-12 10:33:38,977 Trainer INFO: Epoch[47] Complete. Time taken: 00:00:11\n"
     ]
    },
    {
     "name": "stdout",
     "output_type": "stream",
     "text": [
      "train loss 0.2827354422731743\n",
      "val loss 0.5902611856875213\n",
      "validation roc auc [0.58156863 0.49294118] 47\n"
     ]
    },
    {
     "name": "stderr",
     "output_type": "stream",
     "text": [
      "2021-01-12 10:33:43,421 Train Evaluator INFO: Engine run starting with max_epochs=1.\n",
      "2021-01-12 10:33:48,466 Train Evaluator INFO: Epoch[1] Complete. Time taken: 00:00:05\n",
      "2021-01-12 10:33:48,469 Train Evaluator INFO: Engine run complete. Time taken: 00:00:05\n",
      "2021-01-12 10:33:48,470 Val Evaluator INFO: Engine run starting with max_epochs=1.\n",
      "2021-01-12 10:33:50,333 Val Evaluator INFO: Epoch[1] Complete. Time taken: 00:00:02\n",
      "2021-01-12 10:33:50,335 Val Evaluator INFO: Engine run complete. Time taken: 00:00:02\n",
      "\u001b[34m\u001b[1mwandb\u001b[0m: \u001b[33mWARNING\u001b[0m Step must only increase in log calls.  Step 48 < 336; dropping {'lr/group_0': 0.001}.\n",
      "2021-01-12 10:33:50,341 Trainer INFO: Epoch[48] Complete. Time taken: 00:00:11\n"
     ]
    },
    {
     "name": "stdout",
     "output_type": "stream",
     "text": [
      "train loss 0.2800861788588548\n",
      "val loss 0.5955722259438556\n",
      "validation roc auc [0.58509804 0.49294118] 48\n"
     ]
    },
    {
     "name": "stderr",
     "output_type": "stream",
     "text": [
      "2021-01-12 10:33:55,990 Train Evaluator INFO: Engine run starting with max_epochs=1.\n",
      "2021-01-12 10:34:01,230 Train Evaluator INFO: Epoch[1] Complete. Time taken: 00:00:05\n",
      "2021-01-12 10:34:01,233 Train Evaluator INFO: Engine run complete. Time taken: 00:00:05\n",
      "2021-01-12 10:34:01,234 Val Evaluator INFO: Engine run starting with max_epochs=1.\n",
      "2021-01-12 10:34:03,151 Val Evaluator INFO: Epoch[1] Complete. Time taken: 00:00:02\n",
      "2021-01-12 10:34:03,153 Val Evaluator INFO: Engine run complete. Time taken: 00:00:02\n",
      "\u001b[34m\u001b[1mwandb\u001b[0m: \u001b[33mWARNING\u001b[0m Step must only increase in log calls.  Step 49 < 343; dropping {'lr/group_0': 0.001}.\n",
      "2021-01-12 10:34:03,159 Trainer INFO: Epoch[49] Complete. Time taken: 00:00:13\n"
     ]
    },
    {
     "name": "stdout",
     "output_type": "stream",
     "text": [
      "train loss 0.27785307986254176\n",
      "val loss 0.586076731785484\n",
      "validation roc auc [0.58235294 0.49098039] 49\n"
     ]
    },
    {
     "name": "stderr",
     "output_type": "stream",
     "text": [
      "2021-01-12 10:34:08,794 Train Evaluator INFO: Engine run starting with max_epochs=1.\n",
      "2021-01-12 10:34:14,142 Train Evaluator INFO: Epoch[1] Complete. Time taken: 00:00:05\n",
      "2021-01-12 10:34:14,145 Train Evaluator INFO: Engine run complete. Time taken: 00:00:05\n",
      "2021-01-12 10:34:14,146 Val Evaluator INFO: Engine run starting with max_epochs=1.\n",
      "2021-01-12 10:34:16,226 Val Evaluator INFO: Epoch[1] Complete. Time taken: 00:00:02\n",
      "2021-01-12 10:34:16,227 Val Evaluator INFO: Engine run complete. Time taken: 00:00:02\n",
      "\u001b[34m\u001b[1mwandb\u001b[0m: \u001b[33mWARNING\u001b[0m Step must only increase in log calls.  Step 50 < 350; dropping {'lr/group_0': 0.001}.\n",
      "2021-01-12 10:34:16,233 Trainer INFO: Epoch[50] Complete. Time taken: 00:00:13\n"
     ]
    },
    {
     "name": "stdout",
     "output_type": "stream",
     "text": [
      "train loss 0.274800908780164\n",
      "val loss 0.6002245856368024\n",
      "validation roc auc [0.58666667 0.49607843] 50\n"
     ]
    },
    {
     "name": "stderr",
     "output_type": "stream",
     "text": [
      "2021-01-12 10:34:20,902 Train Evaluator INFO: Engine run starting with max_epochs=1.\n",
      "2021-01-12 10:34:26,026 Train Evaluator INFO: Epoch[1] Complete. Time taken: 00:00:05\n",
      "2021-01-12 10:34:26,029 Train Evaluator INFO: Engine run complete. Time taken: 00:00:05\n",
      "2021-01-12 10:34:26,030 Val Evaluator INFO: Engine run starting with max_epochs=1.\n",
      "2021-01-12 10:34:27,277 Val Evaluator INFO: Epoch[1] Complete. Time taken: 00:00:01\n",
      "2021-01-12 10:34:27,279 Val Evaluator INFO: Engine run complete. Time taken: 00:00:01\n",
      "\u001b[34m\u001b[1mwandb\u001b[0m: \u001b[33mWARNING\u001b[0m Step must only increase in log calls.  Step 51 < 357; dropping {'lr/group_0': 0.001}.\n",
      "2021-01-12 10:34:27,285 Trainer INFO: Epoch[51] Complete. Time taken: 00:00:11\n"
     ]
    },
    {
     "name": "stdout",
     "output_type": "stream",
     "text": [
      "train loss 0.27200923917861525\n",
      "val loss 0.5994207055672355\n",
      "validation roc auc [0.58823529 0.49568627] 51\n"
     ]
    },
    {
     "name": "stderr",
     "output_type": "stream",
     "text": [
      "2021-01-12 10:34:32,196 Train Evaluator INFO: Engine run starting with max_epochs=1.\n",
      "2021-01-12 10:34:37,348 Train Evaluator INFO: Epoch[1] Complete. Time taken: 00:00:05\n",
      "2021-01-12 10:34:37,350 Train Evaluator INFO: Engine run complete. Time taken: 00:00:05\n",
      "2021-01-12 10:34:37,351 Val Evaluator INFO: Engine run starting with max_epochs=1.\n",
      "2021-01-12 10:34:38,687 Val Evaluator INFO: Epoch[1] Complete. Time taken: 00:00:01\n",
      "2021-01-12 10:34:38,689 Val Evaluator INFO: Engine run complete. Time taken: 00:00:01\n",
      "\u001b[34m\u001b[1mwandb\u001b[0m: \u001b[33mWARNING\u001b[0m Step must only increase in log calls.  Step 52 < 364; dropping {'lr/group_0': 0.001}.\n",
      "2021-01-12 10:34:38,695 Trainer INFO: Epoch[52] Complete. Time taken: 00:00:11\n"
     ]
    },
    {
     "name": "stdout",
     "output_type": "stream",
     "text": [
      "train loss 0.2695088527291766\n",
      "val loss 0.5999830582867498\n",
      "validation roc auc [0.59019608 0.49137255] 52\n"
     ]
    },
    {
     "name": "stderr",
     "output_type": "stream",
     "text": [
      "2021-01-12 10:34:44,097 Train Evaluator INFO: Engine run starting with max_epochs=1.\n",
      "2021-01-12 10:34:48,684 Train Evaluator INFO: Epoch[1] Complete. Time taken: 00:00:05\n",
      "2021-01-12 10:34:48,685 Train Evaluator INFO: Engine run complete. Time taken: 00:00:05\n",
      "2021-01-12 10:34:48,686 Val Evaluator INFO: Engine run starting with max_epochs=1.\n",
      "2021-01-12 10:34:50,270 Val Evaluator INFO: Epoch[1] Complete. Time taken: 00:00:02\n",
      "2021-01-12 10:34:50,273 Val Evaluator INFO: Engine run complete. Time taken: 00:00:02\n",
      "\u001b[34m\u001b[1mwandb\u001b[0m: \u001b[33mWARNING\u001b[0m Step must only increase in log calls.  Step 53 < 371; dropping {'lr/group_0': 0.001}.\n",
      "2021-01-12 10:34:50,279 Trainer INFO: Epoch[53] Complete. Time taken: 00:00:12\n"
     ]
    },
    {
     "name": "stdout",
     "output_type": "stream",
     "text": [
      "train loss 0.26701036004808804\n",
      "val loss 0.5926391570464424\n",
      "validation roc auc [0.58745098 0.48862745] 53\n"
     ]
    },
    {
     "name": "stderr",
     "output_type": "stream",
     "text": [
      "2021-01-12 10:34:54,652 Train Evaluator INFO: Engine run starting with max_epochs=1.\n",
      "2021-01-12 10:34:59,895 Train Evaluator INFO: Epoch[1] Complete. Time taken: 00:00:05\n",
      "2021-01-12 10:34:59,898 Train Evaluator INFO: Engine run complete. Time taken: 00:00:05\n",
      "2021-01-12 10:34:59,899 Val Evaluator INFO: Engine run starting with max_epochs=1.\n",
      "2021-01-12 10:35:01,421 Val Evaluator INFO: Epoch[1] Complete. Time taken: 00:00:02\n",
      "2021-01-12 10:35:01,422 Val Evaluator INFO: Engine run complete. Time taken: 00:00:02\n",
      "\u001b[34m\u001b[1mwandb\u001b[0m: \u001b[33mWARNING\u001b[0m Step must only increase in log calls.  Step 54 < 378; dropping {'lr/group_0': 0.001}.\n",
      "2021-01-12 10:35:01,429 Trainer INFO: Epoch[54] Complete. Time taken: 00:00:11\n"
     ]
    },
    {
     "name": "stdout",
     "output_type": "stream",
     "text": [
      "train loss 0.26460903655954343\n",
      "val loss 0.5918175412260968\n",
      "validation roc auc [0.58470588 0.48941176] 54\n"
     ]
    },
    {
     "name": "stderr",
     "output_type": "stream",
     "text": [
      "2021-01-12 10:35:06,872 Train Evaluator INFO: Engine run starting with max_epochs=1.\n",
      "2021-01-12 10:35:12,213 Train Evaluator INFO: Epoch[1] Complete. Time taken: 00:00:05\n",
      "2021-01-12 10:35:12,215 Train Evaluator INFO: Engine run complete. Time taken: 00:00:05\n",
      "2021-01-12 10:35:12,217 Val Evaluator INFO: Engine run starting with max_epochs=1.\n",
      "2021-01-12 10:35:13,536 Val Evaluator INFO: Epoch[1] Complete. Time taken: 00:00:01\n",
      "2021-01-12 10:35:13,538 Val Evaluator INFO: Engine run complete. Time taken: 00:00:01\n",
      "\u001b[34m\u001b[1mwandb\u001b[0m: \u001b[33mWARNING\u001b[0m Step must only increase in log calls.  Step 55 < 385; dropping {'lr/group_0': 0.001}.\n",
      "2021-01-12 10:35:13,544 Trainer INFO: Epoch[55] Complete. Time taken: 00:00:12\n"
     ]
    },
    {
     "name": "stdout",
     "output_type": "stream",
     "text": [
      "train loss 0.26210801910165277\n",
      "val loss 0.6036438620608786\n",
      "validation roc auc [0.58431373 0.49333333] 55\n"
     ]
    },
    {
     "name": "stderr",
     "output_type": "stream",
     "text": [
      "2021-01-12 10:35:17,890 Train Evaluator INFO: Engine run starting with max_epochs=1.\n",
      "2021-01-12 10:35:24,420 Train Evaluator INFO: Epoch[1] Complete. Time taken: 00:00:07\n",
      "2021-01-12 10:35:24,422 Train Evaluator INFO: Engine run complete. Time taken: 00:00:07\n",
      "2021-01-12 10:35:24,423 Val Evaluator INFO: Engine run starting with max_epochs=1.\n",
      "2021-01-12 10:35:28,764 Val Evaluator INFO: Epoch[1] Complete. Time taken: 00:00:04\n",
      "2021-01-12 10:35:28,766 Val Evaluator INFO: Engine run complete. Time taken: 00:00:04\n",
      "\u001b[34m\u001b[1mwandb\u001b[0m: \u001b[33mWARNING\u001b[0m Step must only increase in log calls.  Step 56 < 392; dropping {'lr/group_0': 0.001}.\n",
      "2021-01-12 10:35:28,772 Trainer INFO: Epoch[56] Complete. Time taken: 00:00:15\n"
     ]
    },
    {
     "name": "stdout",
     "output_type": "stream",
     "text": [
      "train loss 0.2596602124107842\n",
      "val loss 0.5931953782620637\n",
      "validation roc auc [0.5772549  0.48862745] 56\n"
     ]
    },
    {
     "name": "stderr",
     "output_type": "stream",
     "text": [
      "2021-01-12 10:35:43,594 Train Evaluator INFO: Engine run starting with max_epochs=1.\n",
      "2021-01-12 10:35:48,774 Train Evaluator INFO: Epoch[1] Complete. Time taken: 00:00:05\n",
      "2021-01-12 10:35:48,777 Train Evaluator INFO: Engine run complete. Time taken: 00:00:05\n",
      "2021-01-12 10:35:48,778 Val Evaluator INFO: Engine run starting with max_epochs=1.\n",
      "2021-01-12 10:35:50,784 Val Evaluator INFO: Epoch[1] Complete. Time taken: 00:00:02\n",
      "2021-01-12 10:35:50,786 Val Evaluator INFO: Engine run complete. Time taken: 00:00:02\n",
      "\u001b[34m\u001b[1mwandb\u001b[0m: \u001b[33mWARNING\u001b[0m Step must only increase in log calls.  Step 57 < 399; dropping {'lr/group_0': 0.001}.\n",
      "2021-01-12 10:35:50,792 Trainer INFO: Epoch[57] Complete. Time taken: 00:00:22\n"
     ]
    },
    {
     "name": "stdout",
     "output_type": "stream",
     "text": [
      "train loss 0.25697351220241876\n",
      "val loss 0.599816922519518\n",
      "validation roc auc [0.57764706 0.49333333] 57\n"
     ]
    },
    {
     "name": "stderr",
     "output_type": "stream",
     "text": [
      "2021-01-12 10:35:55,556 Train Evaluator INFO: Engine run starting with max_epochs=1.\n",
      "2021-01-12 10:36:00,007 Train Evaluator INFO: Epoch[1] Complete. Time taken: 00:00:04\n",
      "2021-01-12 10:36:00,009 Train Evaluator INFO: Engine run complete. Time taken: 00:00:04\n",
      "2021-01-12 10:36:00,010 Val Evaluator INFO: Engine run starting with max_epochs=1.\n",
      "2021-01-12 10:36:02,631 Val Evaluator INFO: Epoch[1] Complete. Time taken: 00:00:03\n",
      "2021-01-12 10:36:02,634 Val Evaluator INFO: Engine run complete. Time taken: 00:00:03\n",
      "\u001b[34m\u001b[1mwandb\u001b[0m: \u001b[33mWARNING\u001b[0m Step must only increase in log calls.  Step 58 < 406; dropping {'lr/group_0': 0.001}.\n",
      "2021-01-12 10:36:02,640 Trainer INFO: Epoch[58] Complete. Time taken: 00:00:12\n"
     ]
    },
    {
     "name": "stdout",
     "output_type": "stream",
     "text": [
      "train loss 0.255053461423541\n",
      "val loss 0.6114271474921185\n",
      "validation roc auc [0.57803922 0.49568627] 58\n"
     ]
    },
    {
     "name": "stderr",
     "output_type": "stream",
     "text": [
      "2021-01-12 10:36:07,497 Train Evaluator INFO: Engine run starting with max_epochs=1.\n",
      "2021-01-12 10:36:11,629 Train Evaluator INFO: Epoch[1] Complete. Time taken: 00:00:04\n",
      "2021-01-12 10:36:11,632 Train Evaluator INFO: Engine run complete. Time taken: 00:00:04\n",
      "2021-01-12 10:36:11,633 Val Evaluator INFO: Engine run starting with max_epochs=1.\n",
      "2021-01-12 10:36:13,017 Val Evaluator INFO: Epoch[1] Complete. Time taken: 00:00:01\n",
      "2021-01-12 10:36:13,019 Val Evaluator INFO: Engine run complete. Time taken: 00:00:01\n",
      "\u001b[34m\u001b[1mwandb\u001b[0m: \u001b[33mWARNING\u001b[0m Step must only increase in log calls.  Step 59 < 413; dropping {'lr/group_0': 0.001}.\n",
      "2021-01-12 10:36:13,026 Trainer INFO: Epoch[59] Complete. Time taken: 00:00:10\n"
     ]
    },
    {
     "name": "stdout",
     "output_type": "stream",
     "text": [
      "train loss 0.25449258303708316\n",
      "val loss 0.5879347676816193\n",
      "validation roc auc [0.56980392 0.49294118] 59\n"
     ]
    },
    {
     "name": "stderr",
     "output_type": "stream",
     "text": [
      "2021-01-12 10:36:17,761 Train Evaluator INFO: Engine run starting with max_epochs=1.\n",
      "2021-01-12 10:36:22,606 Train Evaluator INFO: Epoch[1] Complete. Time taken: 00:00:05\n",
      "2021-01-12 10:36:22,609 Train Evaluator INFO: Engine run complete. Time taken: 00:00:05\n",
      "2021-01-12 10:36:22,610 Val Evaluator INFO: Engine run starting with max_epochs=1.\n",
      "2021-01-12 10:36:24,532 Val Evaluator INFO: Epoch[1] Complete. Time taken: 00:00:02\n",
      "2021-01-12 10:36:24,534 Val Evaluator INFO: Engine run complete. Time taken: 00:00:02\n",
      "\u001b[34m\u001b[1mwandb\u001b[0m: \u001b[33mWARNING\u001b[0m Step must only increase in log calls.  Step 60 < 420; dropping {'lr/group_0': 0.001}.\n",
      "2021-01-12 10:36:24,540 Trainer INFO: Epoch[60] Complete. Time taken: 00:00:12\n"
     ]
    },
    {
     "name": "stdout",
     "output_type": "stream",
     "text": [
      "train loss 0.2501051352872743\n",
      "val loss 0.6120133239289989\n",
      "validation roc auc [0.57176471 0.49921569] 60\n"
     ]
    },
    {
     "name": "stderr",
     "output_type": "stream",
     "text": [
      "2021-01-12 10:36:29,937 Train Evaluator INFO: Engine run starting with max_epochs=1.\n",
      "2021-01-12 10:36:34,557 Train Evaluator INFO: Epoch[1] Complete. Time taken: 00:00:05\n",
      "2021-01-12 10:36:34,560 Train Evaluator INFO: Engine run complete. Time taken: 00:00:05\n",
      "2021-01-12 10:36:34,561 Val Evaluator INFO: Engine run starting with max_epochs=1.\n",
      "2021-01-12 10:36:36,066 Val Evaluator INFO: Epoch[1] Complete. Time taken: 00:00:02\n",
      "2021-01-12 10:36:36,068 Val Evaluator INFO: Engine run complete. Time taken: 00:00:02\n",
      "\u001b[34m\u001b[1mwandb\u001b[0m: \u001b[33mWARNING\u001b[0m Step must only increase in log calls.  Step 61 < 427; dropping {'lr/group_0': 0.001}.\n",
      "2021-01-12 10:36:36,074 Trainer INFO: Epoch[61] Complete. Time taken: 00:00:12\n"
     ]
    },
    {
     "name": "stdout",
     "output_type": "stream",
     "text": [
      "train loss 0.2475289276019358\n",
      "val loss 0.6066193383672963\n",
      "validation roc auc [0.56862745 0.49960784] 61\n"
     ]
    },
    {
     "name": "stderr",
     "output_type": "stream",
     "text": [
      "2021-01-12 10:36:46,647 Train Evaluator INFO: Engine run starting with max_epochs=1.\n",
      "2021-01-12 10:36:50,982 Train Evaluator INFO: Epoch[1] Complete. Time taken: 00:00:04\n",
      "2021-01-12 10:36:50,983 Train Evaluator INFO: Engine run complete. Time taken: 00:00:04\n",
      "2021-01-12 10:36:50,984 Val Evaluator INFO: Engine run starting with max_epochs=1.\n",
      "2021-01-12 10:36:52,398 Val Evaluator INFO: Epoch[1] Complete. Time taken: 00:00:01\n",
      "2021-01-12 10:36:52,400 Val Evaluator INFO: Engine run complete. Time taken: 00:00:01\n",
      "\u001b[34m\u001b[1mwandb\u001b[0m: \u001b[33mWARNING\u001b[0m Step must only increase in log calls.  Step 62 < 434; dropping {'lr/group_0': 0.001}.\n",
      "2021-01-12 10:36:52,406 Trainer INFO: Epoch[62] Complete. Time taken: 00:00:16\n"
     ]
    },
    {
     "name": "stdout",
     "output_type": "stream",
     "text": [
      "train loss 0.24528734736825622\n",
      "val loss 0.6017346703487894\n",
      "validation roc auc [0.56509804 0.49686275] 62\n"
     ]
    },
    {
     "name": "stderr",
     "output_type": "stream",
     "text": [
      "2021-01-12 10:37:06,745 Train Evaluator INFO: Engine run starting with max_epochs=1.\n",
      "2021-01-12 10:37:25,712 Train Evaluator INFO: Epoch[1] Complete. Time taken: 00:00:19\n",
      "2021-01-12 10:37:25,716 Train Evaluator INFO: Engine run complete. Time taken: 00:00:19\n",
      "2021-01-12 10:37:25,717 Val Evaluator INFO: Engine run starting with max_epochs=1.\n",
      "2021-01-12 10:37:31,409 Val Evaluator INFO: Epoch[1] Complete. Time taken: 00:00:06\n",
      "2021-01-12 10:37:31,411 Val Evaluator INFO: Engine run complete. Time taken: 00:00:06\n",
      "\u001b[34m\u001b[1mwandb\u001b[0m: \u001b[33mWARNING\u001b[0m Step must only increase in log calls.  Step 63 < 441; dropping {'lr/group_0': 0.001}.\n",
      "2021-01-12 10:37:31,417 Trainer INFO: Epoch[63] Complete. Time taken: 00:00:39\n"
     ]
    },
    {
     "name": "stdout",
     "output_type": "stream",
     "text": [
      "train loss 0.24304081602770206\n",
      "val loss 0.6148539797119472\n",
      "validation roc auc [0.56666667 0.49803922] 63\n"
     ]
    },
    {
     "name": "stderr",
     "output_type": "stream",
     "text": [
      "2021-01-12 10:37:49,619 Train Evaluator INFO: Engine run starting with max_epochs=1.\n",
      "2021-01-12 10:38:02,865 Train Evaluator INFO: Epoch[1] Complete. Time taken: 00:00:13\n",
      "2021-01-12 10:38:02,867 Train Evaluator INFO: Engine run complete. Time taken: 00:00:13\n",
      "2021-01-12 10:38:02,867 Val Evaluator INFO: Engine run starting with max_epochs=1.\n",
      "2021-01-12 10:38:08,460 Val Evaluator INFO: Epoch[1] Complete. Time taken: 00:00:06\n",
      "2021-01-12 10:38:08,462 Val Evaluator INFO: Engine run complete. Time taken: 00:00:06\n",
      "\u001b[34m\u001b[1mwandb\u001b[0m: \u001b[33mWARNING\u001b[0m Step must only increase in log calls.  Step 64 < 448; dropping {'lr/group_0': 0.001}.\n",
      "2021-01-12 10:38:08,468 Trainer INFO: Epoch[64] Complete. Time taken: 00:00:37\n"
     ]
    },
    {
     "name": "stdout",
     "output_type": "stream",
     "text": [
      "train loss 0.24066255953668558\n",
      "val loss 0.6127045895742333\n",
      "validation roc auc [0.56745098 0.49647059] 64\n"
     ]
    },
    {
     "name": "stderr",
     "output_type": "stream",
     "text": [
      "2021-01-12 10:38:28,427 Train Evaluator INFO: Engine run starting with max_epochs=1.\n",
      "2021-01-12 10:38:49,264 Train Evaluator INFO: Epoch[1] Complete. Time taken: 00:00:21\n",
      "2021-01-12 10:38:49,267 Train Evaluator INFO: Engine run complete. Time taken: 00:00:21\n",
      "2021-01-12 10:38:49,268 Val Evaluator INFO: Engine run starting with max_epochs=1.\n",
      "2021-01-12 10:38:54,156 Val Evaluator INFO: Epoch[1] Complete. Time taken: 00:00:05\n",
      "2021-01-12 10:38:54,158 Val Evaluator INFO: Engine run complete. Time taken: 00:00:05\n",
      "\u001b[34m\u001b[1mwandb\u001b[0m: \u001b[33mWARNING\u001b[0m Step must only increase in log calls.  Step 65 < 455; dropping {'lr/group_0': 0.001}.\n",
      "2021-01-12 10:38:54,163 Trainer INFO: Epoch[65] Complete. Time taken: 00:00:46\n"
     ]
    },
    {
     "name": "stdout",
     "output_type": "stream",
     "text": [
      "train loss 0.23854839843065784\n",
      "val loss 0.6021743903989377\n",
      "validation roc auc [0.56392157 0.49411765] 65\n"
     ]
    },
    {
     "name": "stderr",
     "output_type": "stream",
     "text": [
      "2021-01-12 10:39:06,569 Train Evaluator INFO: Engine run starting with max_epochs=1.\n",
      "2021-01-12 10:39:26,210 Train Evaluator INFO: Epoch[1] Complete. Time taken: 00:00:20\n",
      "2021-01-12 10:39:26,212 Train Evaluator INFO: Engine run complete. Time taken: 00:00:20\n",
      "2021-01-12 10:39:26,214 Val Evaluator INFO: Engine run starting with max_epochs=1.\n",
      "2021-01-12 10:39:34,881 Val Evaluator INFO: Epoch[1] Complete. Time taken: 00:00:09\n",
      "2021-01-12 10:39:34,884 Val Evaluator INFO: Engine run complete. Time taken: 00:00:09\n",
      "\u001b[34m\u001b[1mwandb\u001b[0m: \u001b[33mWARNING\u001b[0m Step must only increase in log calls.  Step 66 < 462; dropping {'lr/group_0': 0.001}.\n",
      "2021-01-12 10:39:34,890 Trainer INFO: Epoch[66] Complete. Time taken: 00:00:41\n"
     ]
    },
    {
     "name": "stdout",
     "output_type": "stream",
     "text": [
      "train loss 0.23619254164583464\n",
      "val loss 0.6150705788446509\n",
      "validation roc auc [0.56588235 0.49686275] 66\n"
     ]
    },
    {
     "name": "stderr",
     "output_type": "stream",
     "text": [
      "2021-01-12 10:39:45,485 Train Evaluator INFO: Engine run starting with max_epochs=1.\n",
      "2021-01-12 10:40:05,591 Train Evaluator INFO: Epoch[1] Complete. Time taken: 00:00:20\n",
      "2021-01-12 10:40:05,594 Train Evaluator INFO: Engine run complete. Time taken: 00:00:20\n",
      "2021-01-12 10:40:05,595 Val Evaluator INFO: Engine run starting with max_epochs=1.\n",
      "2021-01-12 10:40:12,323 Val Evaluator INFO: Epoch[1] Complete. Time taken: 00:00:07\n",
      "2021-01-12 10:40:12,325 Val Evaluator INFO: Engine run complete. Time taken: 00:00:07\n",
      "\u001b[34m\u001b[1mwandb\u001b[0m: \u001b[33mWARNING\u001b[0m Step must only increase in log calls.  Step 67 < 469; dropping {'lr/group_0': 0.001}.\n",
      "2021-01-12 10:40:12,331 Trainer INFO: Epoch[67] Complete. Time taken: 00:00:37\n"
     ]
    },
    {
     "name": "stdout",
     "output_type": "stream",
     "text": [
      "train loss 0.23432716149372407\n",
      "val loss 0.6010774949322576\n",
      "validation roc auc [0.5572549  0.49333333] 67\n"
     ]
    },
    {
     "name": "stderr",
     "output_type": "stream",
     "text": [
      "2021-01-12 10:40:32,176 Train Evaluator INFO: Engine run starting with max_epochs=1.\n",
      "2021-01-12 10:40:49,016 Train Evaluator INFO: Epoch[1] Complete. Time taken: 00:00:17\n",
      "2021-01-12 10:40:49,019 Train Evaluator INFO: Engine run complete. Time taken: 00:00:17\n",
      "2021-01-12 10:40:49,020 Val Evaluator INFO: Engine run starting with max_epochs=1.\n",
      "2021-01-12 10:40:56,180 Val Evaluator INFO: Epoch[1] Complete. Time taken: 00:00:07\n",
      "2021-01-12 10:40:56,181 Val Evaluator INFO: Engine run complete. Time taken: 00:00:07\n",
      "\u001b[34m\u001b[1mwandb\u001b[0m: \u001b[33mWARNING\u001b[0m Step must only increase in log calls.  Step 68 < 476; dropping {'lr/group_0': 0.001}.\n",
      "2021-01-12 10:40:56,187 Trainer INFO: Epoch[68] Complete. Time taken: 00:00:44\n"
     ]
    },
    {
     "name": "stdout",
     "output_type": "stream",
     "text": [
      "train loss 0.23182283721637198\n",
      "val loss 0.6217817145845165\n",
      "validation roc auc [0.55921569 0.4972549 ] 68\n"
     ]
    },
    {
     "name": "stderr",
     "output_type": "stream",
     "text": [
      "2021-01-12 10:41:16,111 Train Evaluator INFO: Engine run starting with max_epochs=1.\n",
      "2021-01-12 10:41:26,865 Train Evaluator INFO: Epoch[1] Complete. Time taken: 00:00:11\n",
      "2021-01-12 10:41:26,868 Train Evaluator INFO: Engine run complete. Time taken: 00:00:11\n",
      "2021-01-12 10:41:26,869 Val Evaluator INFO: Engine run starting with max_epochs=1.\n",
      "2021-01-12 10:41:33,916 Val Evaluator INFO: Epoch[1] Complete. Time taken: 00:00:07\n",
      "2021-01-12 10:41:33,919 Val Evaluator INFO: Engine run complete. Time taken: 00:00:07\n",
      "\u001b[34m\u001b[1mwandb\u001b[0m: \u001b[33mWARNING\u001b[0m Step must only increase in log calls.  Step 69 < 483; dropping {'lr/group_0': 0.001}.\n",
      "2021-01-12 10:41:33,925 Trainer INFO: Epoch[69] Complete. Time taken: 00:00:38\n"
     ]
    },
    {
     "name": "stdout",
     "output_type": "stream",
     "text": [
      "train loss 0.22949515997207726\n",
      "val loss 0.6197144497995791\n",
      "validation roc auc [0.55411765 0.49686275] 69\n"
     ]
    },
    {
     "name": "stderr",
     "output_type": "stream",
     "text": [
      "2021-01-12 10:41:51,376 Train Evaluator INFO: Engine run starting with max_epochs=1.\n",
      "2021-01-12 10:42:13,681 Train Evaluator INFO: Epoch[1] Complete. Time taken: 00:00:22\n",
      "2021-01-12 10:42:13,684 Train Evaluator INFO: Engine run complete. Time taken: 00:00:22\n",
      "2021-01-12 10:42:13,685 Val Evaluator INFO: Engine run starting with max_epochs=1.\n",
      "2021-01-12 10:42:18,247 Val Evaluator INFO: Epoch[1] Complete. Time taken: 00:00:05\n",
      "2021-01-12 10:42:18,249 Val Evaluator INFO: Engine run complete. Time taken: 00:00:05\n",
      "\u001b[34m\u001b[1mwandb\u001b[0m: \u001b[33mWARNING\u001b[0m Step must only increase in log calls.  Step 70 < 490; dropping {'lr/group_0': 0.001}.\n",
      "2021-01-12 10:42:18,255 Trainer INFO: Epoch[70] Complete. Time taken: 00:00:44\n"
     ]
    },
    {
     "name": "stdout",
     "output_type": "stream",
     "text": [
      "train loss 0.22720928675910443\n",
      "val loss 0.6139189792715984\n",
      "validation roc auc [0.55019608 0.49568627] 70\n"
     ]
    },
    {
     "name": "stderr",
     "output_type": "stream",
     "text": [
      "2021-01-12 10:42:41,767 Train Evaluator INFO: Engine run starting with max_epochs=1.\n",
      "2021-01-12 10:43:00,347 Train Evaluator INFO: Epoch[1] Complete. Time taken: 00:00:19\n",
      "2021-01-12 10:43:00,350 Train Evaluator INFO: Engine run complete. Time taken: 00:00:19\n",
      "2021-01-12 10:43:00,351 Val Evaluator INFO: Engine run starting with max_epochs=1.\n",
      "2021-01-12 10:43:04,703 Val Evaluator ERROR: Engine run is terminating due to exception: .\n",
      "2021-01-12 10:43:04,706 Trainer ERROR: Engine run is terminating due to exception: .\n"
     ]
    },
    {
     "ename": "KeyboardInterrupt",
     "evalue": "",
     "output_type": "error",
     "traceback": [
      "\u001b[0;31m---------------------------------------------------------------------------\u001b[0m",
      "\u001b[0;31mKeyboardInterrupt\u001b[0m                         Traceback (most recent call last)",
      "\u001b[0;32m<ipython-input-96-5270feba9838>\u001b[0m in \u001b[0;36m<module>\u001b[0;34m\u001b[0m\n\u001b[1;32m      1\u001b[0m \u001b[0mprint\u001b[0m\u001b[0;34m(\u001b[0m\u001b[0;34m'ready ?'\u001b[0m\u001b[0;34m)\u001b[0m\u001b[0;34m\u001b[0m\u001b[0;34m\u001b[0m\u001b[0m\n\u001b[0;32m----> 2\u001b[0;31m \u001b[0mrunutils\u001b[0m\u001b[0;34m.\u001b[0m\u001b[0mrun\u001b[0m\u001b[0;34m(\u001b[0m\u001b[0mmodel\u001b[0m\u001b[0;34m,\u001b[0m \u001b[0mdataloaders\u001b[0m\u001b[0;34m,\u001b[0m \u001b[0moptimizer\u001b[0m\u001b[0;34m,\u001b[0m \u001b[0mcriterion\u001b[0m\u001b[0;34m,\u001b[0m \u001b[0mmetrics\u001b[0m\u001b[0;34m,\u001b[0m \u001b[0mdevice\u001b[0m\u001b[0;34m,\u001b[0m\u001b[0mconfig\u001b[0m\u001b[0;34m,\u001b[0m \u001b[0mrunconfigs\u001b[0m\u001b[0;34m.\u001b[0m\u001b[0mPROJECT_NAME\u001b[0m\u001b[0;34m)\u001b[0m\u001b[0;34m\u001b[0m\u001b[0;34m\u001b[0m\u001b[0m\n\u001b[0m",
      "\u001b[0;32m~/projects/nna/src/nna/exp/runutils.py\u001b[0m in \u001b[0;36mrun\u001b[0;34m(model, dataloaders, optimizer, criterion, metrics, device, config, wandb_project_name, run_name)\u001b[0m\n\u001b[1;32m    174\u001b[0m \u001b[0;34m\u001b[0m\u001b[0m\n\u001b[1;32m    175\u001b[0m \u001b[0;31m#     kick everything off\u001b[0m\u001b[0;34m\u001b[0m\u001b[0;34m\u001b[0m\u001b[0;34m\u001b[0m\u001b[0m\n\u001b[0;32m--> 176\u001b[0;31m     \u001b[0mtrainer\u001b[0m\u001b[0;34m.\u001b[0m\u001b[0mrun\u001b[0m\u001b[0;34m(\u001b[0m\u001b[0mtrain_loader\u001b[0m\u001b[0;34m,\u001b[0m \u001b[0mmax_epochs\u001b[0m\u001b[0;34m=\u001b[0m\u001b[0mconfig\u001b[0m\u001b[0;34m[\u001b[0m\u001b[0;34m'epochs'\u001b[0m\u001b[0;34m]\u001b[0m\u001b[0;34m)\u001b[0m\u001b[0;34m\u001b[0m\u001b[0;34m\u001b[0m\u001b[0m\n\u001b[0m\u001b[1;32m    177\u001b[0m \u001b[0;34m\u001b[0m\u001b[0m\n\u001b[1;32m    178\u001b[0m     \u001b[0mwandb_logger_ins\u001b[0m\u001b[0;34m.\u001b[0m\u001b[0mclose\u001b[0m\u001b[0;34m(\u001b[0m\u001b[0;34m)\u001b[0m\u001b[0;34m\u001b[0m\u001b[0;34m\u001b[0m\u001b[0m\n",
      "\u001b[0;32m/scratch/enis/conda/envs/soundenv3/lib/python3.7/site-packages/ignite/engine/engine.py\u001b[0m in \u001b[0;36mrun\u001b[0;34m(self, data, max_epochs, epoch_length, seed)\u001b[0m\n\u001b[1;32m    689\u001b[0m \u001b[0;34m\u001b[0m\u001b[0m\n\u001b[1;32m    690\u001b[0m         \u001b[0mself\u001b[0m\u001b[0;34m.\u001b[0m\u001b[0mstate\u001b[0m\u001b[0;34m.\u001b[0m\u001b[0mdataloader\u001b[0m \u001b[0;34m=\u001b[0m \u001b[0mdata\u001b[0m\u001b[0;34m\u001b[0m\u001b[0;34m\u001b[0m\u001b[0m\n\u001b[0;32m--> 691\u001b[0;31m         \u001b[0;32mreturn\u001b[0m \u001b[0mself\u001b[0m\u001b[0;34m.\u001b[0m\u001b[0m_internal_run\u001b[0m\u001b[0;34m(\u001b[0m\u001b[0;34m)\u001b[0m\u001b[0;34m\u001b[0m\u001b[0;34m\u001b[0m\u001b[0m\n\u001b[0m\u001b[1;32m    692\u001b[0m \u001b[0;34m\u001b[0m\u001b[0m\n\u001b[1;32m    693\u001b[0m     \u001b[0;34m@\u001b[0m\u001b[0mstaticmethod\u001b[0m\u001b[0;34m\u001b[0m\u001b[0;34m\u001b[0m\u001b[0m\n",
      "\u001b[0;32m/scratch/enis/conda/envs/soundenv3/lib/python3.7/site-packages/ignite/engine/engine.py\u001b[0m in \u001b[0;36m_internal_run\u001b[0;34m(self)\u001b[0m\n\u001b[1;32m    760\u001b[0m             \u001b[0mself\u001b[0m\u001b[0;34m.\u001b[0m\u001b[0m_dataloader_iter\u001b[0m \u001b[0;34m=\u001b[0m \u001b[0;32mNone\u001b[0m\u001b[0;34m\u001b[0m\u001b[0;34m\u001b[0m\u001b[0m\n\u001b[1;32m    761\u001b[0m             \u001b[0mself\u001b[0m\u001b[0;34m.\u001b[0m\u001b[0mlogger\u001b[0m\u001b[0;34m.\u001b[0m\u001b[0merror\u001b[0m\u001b[0;34m(\u001b[0m\u001b[0;34m\"Engine run is terminating due to exception: %s.\"\u001b[0m\u001b[0;34m,\u001b[0m \u001b[0mstr\u001b[0m\u001b[0;34m(\u001b[0m\u001b[0me\u001b[0m\u001b[0;34m)\u001b[0m\u001b[0;34m)\u001b[0m\u001b[0;34m\u001b[0m\u001b[0;34m\u001b[0m\u001b[0m\n\u001b[0;32m--> 762\u001b[0;31m             \u001b[0mself\u001b[0m\u001b[0;34m.\u001b[0m\u001b[0m_handle_exception\u001b[0m\u001b[0;34m(\u001b[0m\u001b[0me\u001b[0m\u001b[0;34m)\u001b[0m\u001b[0;34m\u001b[0m\u001b[0;34m\u001b[0m\u001b[0m\n\u001b[0m\u001b[1;32m    763\u001b[0m \u001b[0;34m\u001b[0m\u001b[0m\n\u001b[1;32m    764\u001b[0m         \u001b[0mself\u001b[0m\u001b[0;34m.\u001b[0m\u001b[0m_dataloader_iter\u001b[0m \u001b[0;34m=\u001b[0m \u001b[0;32mNone\u001b[0m\u001b[0;34m\u001b[0m\u001b[0;34m\u001b[0m\u001b[0m\n",
      "\u001b[0;32m/scratch/enis/conda/envs/soundenv3/lib/python3.7/site-packages/ignite/engine/engine.py\u001b[0m in \u001b[0;36m_handle_exception\u001b[0;34m(self, e)\u001b[0m\n\u001b[1;32m    465\u001b[0m             \u001b[0mself\u001b[0m\u001b[0;34m.\u001b[0m\u001b[0m_fire_event\u001b[0m\u001b[0;34m(\u001b[0m\u001b[0mEvents\u001b[0m\u001b[0;34m.\u001b[0m\u001b[0mEXCEPTION_RAISED\u001b[0m\u001b[0;34m,\u001b[0m \u001b[0me\u001b[0m\u001b[0;34m)\u001b[0m\u001b[0;34m\u001b[0m\u001b[0;34m\u001b[0m\u001b[0m\n\u001b[1;32m    466\u001b[0m         \u001b[0;32melse\u001b[0m\u001b[0;34m:\u001b[0m\u001b[0;34m\u001b[0m\u001b[0;34m\u001b[0m\u001b[0m\n\u001b[0;32m--> 467\u001b[0;31m             \u001b[0;32mraise\u001b[0m \u001b[0me\u001b[0m\u001b[0;34m\u001b[0m\u001b[0;34m\u001b[0m\u001b[0m\n\u001b[0m\u001b[1;32m    468\u001b[0m \u001b[0;34m\u001b[0m\u001b[0m\n\u001b[1;32m    469\u001b[0m     \u001b[0;34m@\u001b[0m\u001b[0mproperty\u001b[0m\u001b[0;34m\u001b[0m\u001b[0;34m\u001b[0m\u001b[0m\n",
      "\u001b[0;32m/scratch/enis/conda/envs/soundenv3/lib/python3.7/site-packages/ignite/engine/engine.py\u001b[0m in \u001b[0;36m_internal_run\u001b[0;34m(self)\u001b[0m\n\u001b[1;32m    735\u001b[0m                     \u001b[0mself\u001b[0m\u001b[0;34m.\u001b[0m\u001b[0m_fire_event\u001b[0m\u001b[0;34m(\u001b[0m\u001b[0mEvents\u001b[0m\u001b[0;34m.\u001b[0m\u001b[0mTERMINATE\u001b[0m\u001b[0;34m)\u001b[0m\u001b[0;34m\u001b[0m\u001b[0;34m\u001b[0m\u001b[0m\n\u001b[1;32m    736\u001b[0m                 \u001b[0;32melse\u001b[0m\u001b[0;34m:\u001b[0m\u001b[0;34m\u001b[0m\u001b[0;34m\u001b[0m\u001b[0m\n\u001b[0;32m--> 737\u001b[0;31m                     \u001b[0mself\u001b[0m\u001b[0;34m.\u001b[0m\u001b[0m_fire_event\u001b[0m\u001b[0;34m(\u001b[0m\u001b[0mEvents\u001b[0m\u001b[0;34m.\u001b[0m\u001b[0mEPOCH_COMPLETED\u001b[0m\u001b[0;34m)\u001b[0m\u001b[0;34m\u001b[0m\u001b[0;34m\u001b[0m\u001b[0m\n\u001b[0m\u001b[1;32m    738\u001b[0m                 \u001b[0mtime_taken\u001b[0m \u001b[0;34m+=\u001b[0m \u001b[0mtime\u001b[0m\u001b[0;34m.\u001b[0m\u001b[0mtime\u001b[0m\u001b[0;34m(\u001b[0m\u001b[0;34m)\u001b[0m \u001b[0;34m-\u001b[0m \u001b[0mhandlers_start_time\u001b[0m\u001b[0;34m\u001b[0m\u001b[0;34m\u001b[0m\u001b[0m\n\u001b[1;32m    739\u001b[0m                 \u001b[0;31m# update time wrt handlers\u001b[0m\u001b[0;34m\u001b[0m\u001b[0;34m\u001b[0m\u001b[0;34m\u001b[0m\u001b[0m\n",
      "\u001b[0;32m/scratch/enis/conda/envs/soundenv3/lib/python3.7/site-packages/ignite/engine/engine.py\u001b[0m in \u001b[0;36m_fire_event\u001b[0;34m(self, event_name, *event_args, **event_kwargs)\u001b[0m\n\u001b[1;32m    421\u001b[0m                 \u001b[0mkwargs\u001b[0m\u001b[0;34m.\u001b[0m\u001b[0mupdate\u001b[0m\u001b[0;34m(\u001b[0m\u001b[0mevent_kwargs\u001b[0m\u001b[0;34m)\u001b[0m\u001b[0;34m\u001b[0m\u001b[0;34m\u001b[0m\u001b[0m\n\u001b[1;32m    422\u001b[0m                 \u001b[0mfirst\u001b[0m\u001b[0;34m,\u001b[0m \u001b[0mothers\u001b[0m \u001b[0;34m=\u001b[0m \u001b[0;34m(\u001b[0m\u001b[0;34m(\u001b[0m\u001b[0margs\u001b[0m\u001b[0;34m[\u001b[0m\u001b[0;36m0\u001b[0m\u001b[0;34m]\u001b[0m\u001b[0;34m,\u001b[0m\u001b[0;34m)\u001b[0m\u001b[0;34m,\u001b[0m \u001b[0margs\u001b[0m\u001b[0;34m[\u001b[0m\u001b[0;36m1\u001b[0m\u001b[0;34m:\u001b[0m\u001b[0;34m]\u001b[0m\u001b[0;34m)\u001b[0m \u001b[0;32mif\u001b[0m \u001b[0;34m(\u001b[0m\u001b[0margs\u001b[0m \u001b[0;32mand\u001b[0m \u001b[0margs\u001b[0m\u001b[0;34m[\u001b[0m\u001b[0;36m0\u001b[0m\u001b[0;34m]\u001b[0m \u001b[0;34m==\u001b[0m \u001b[0mself\u001b[0m\u001b[0;34m)\u001b[0m \u001b[0;32melse\u001b[0m \u001b[0;34m(\u001b[0m\u001b[0;34m(\u001b[0m\u001b[0;34m)\u001b[0m\u001b[0;34m,\u001b[0m \u001b[0margs\u001b[0m\u001b[0;34m)\u001b[0m\u001b[0;34m\u001b[0m\u001b[0;34m\u001b[0m\u001b[0m\n\u001b[0;32m--> 423\u001b[0;31m                 \u001b[0mfunc\u001b[0m\u001b[0;34m(\u001b[0m\u001b[0;34m*\u001b[0m\u001b[0mfirst\u001b[0m\u001b[0;34m,\u001b[0m \u001b[0;34m*\u001b[0m\u001b[0;34m(\u001b[0m\u001b[0mevent_args\u001b[0m \u001b[0;34m+\u001b[0m \u001b[0mothers\u001b[0m\u001b[0;34m)\u001b[0m\u001b[0;34m,\u001b[0m \u001b[0;34m**\u001b[0m\u001b[0mkwargs\u001b[0m\u001b[0;34m)\u001b[0m\u001b[0;34m\u001b[0m\u001b[0;34m\u001b[0m\u001b[0m\n\u001b[0m\u001b[1;32m    424\u001b[0m \u001b[0;34m\u001b[0m\u001b[0m\n\u001b[1;32m    425\u001b[0m     \u001b[0;32mdef\u001b[0m \u001b[0mfire_event\u001b[0m\u001b[0;34m(\u001b[0m\u001b[0mself\u001b[0m\u001b[0;34m,\u001b[0m \u001b[0mevent_name\u001b[0m\u001b[0;34m:\u001b[0m \u001b[0mAny\u001b[0m\u001b[0;34m)\u001b[0m \u001b[0;34m->\u001b[0m \u001b[0;32mNone\u001b[0m\u001b[0;34m:\u001b[0m\u001b[0;34m\u001b[0m\u001b[0;34m\u001b[0m\u001b[0m\n",
      "\u001b[0;32m~/projects/nna/src/nna/exp/runutils.py\u001b[0m in \u001b[0;36mcompute_metrics\u001b[0;34m(engine, best_ROC_AUC, best_epoch)\u001b[0m\n\u001b[1;32m     95\u001b[0m     \u001b[0;32mdef\u001b[0m \u001b[0mcompute_metrics\u001b[0m\u001b[0;34m(\u001b[0m\u001b[0mengine\u001b[0m\u001b[0;34m,\u001b[0m \u001b[0mbest_ROC_AUC\u001b[0m\u001b[0;34m,\u001b[0m \u001b[0mbest_epoch\u001b[0m\u001b[0;34m)\u001b[0m\u001b[0;34m:\u001b[0m\u001b[0;34m\u001b[0m\u001b[0;34m\u001b[0m\u001b[0m\n\u001b[1;32m     96\u001b[0m         \u001b[0mtrain_evaluator\u001b[0m\u001b[0;34m.\u001b[0m\u001b[0mrun\u001b[0m\u001b[0;34m(\u001b[0m\u001b[0mtrain_loader\u001b[0m\u001b[0;34m)\u001b[0m\u001b[0;34m\u001b[0m\u001b[0;34m\u001b[0m\u001b[0m\n\u001b[0;32m---> 97\u001b[0;31m         \u001b[0mvalidation_evaluator\u001b[0m\u001b[0;34m.\u001b[0m\u001b[0mrun\u001b[0m\u001b[0;34m(\u001b[0m\u001b[0mval_loader\u001b[0m\u001b[0;34m)\u001b[0m\u001b[0;34m\u001b[0m\u001b[0;34m\u001b[0m\u001b[0m\n\u001b[0m\u001b[1;32m     98\u001b[0m         \u001b[0mroc_auc_array\u001b[0m \u001b[0;34m=\u001b[0m \u001b[0mvalidation_evaluator\u001b[0m\u001b[0;34m.\u001b[0m\u001b[0mstate\u001b[0m\u001b[0;34m.\u001b[0m\u001b[0mmetrics\u001b[0m\u001b[0;34m[\u001b[0m\u001b[0;34m'ROC_AUC'\u001b[0m\u001b[0;34m]\u001b[0m\u001b[0;34m\u001b[0m\u001b[0;34m\u001b[0m\u001b[0m\n\u001b[1;32m     99\u001b[0m         \u001b[0mprint\u001b[0m\u001b[0;34m(\u001b[0m\u001b[0;34m'train loss'\u001b[0m\u001b[0;34m,\u001b[0m \u001b[0mtrain_evaluator\u001b[0m\u001b[0;34m.\u001b[0m\u001b[0mstate\u001b[0m\u001b[0;34m.\u001b[0m\u001b[0mmetrics\u001b[0m\u001b[0;34m[\u001b[0m\u001b[0;34m'loss'\u001b[0m\u001b[0;34m]\u001b[0m\u001b[0;34m)\u001b[0m\u001b[0;34m\u001b[0m\u001b[0;34m\u001b[0m\u001b[0m\n",
      "\u001b[0;32m/scratch/enis/conda/envs/soundenv3/lib/python3.7/site-packages/ignite/engine/engine.py\u001b[0m in \u001b[0;36mrun\u001b[0;34m(self, data, max_epochs, epoch_length, seed)\u001b[0m\n\u001b[1;32m    689\u001b[0m \u001b[0;34m\u001b[0m\u001b[0m\n\u001b[1;32m    690\u001b[0m         \u001b[0mself\u001b[0m\u001b[0;34m.\u001b[0m\u001b[0mstate\u001b[0m\u001b[0;34m.\u001b[0m\u001b[0mdataloader\u001b[0m \u001b[0;34m=\u001b[0m \u001b[0mdata\u001b[0m\u001b[0;34m\u001b[0m\u001b[0;34m\u001b[0m\u001b[0m\n\u001b[0;32m--> 691\u001b[0;31m         \u001b[0;32mreturn\u001b[0m \u001b[0mself\u001b[0m\u001b[0;34m.\u001b[0m\u001b[0m_internal_run\u001b[0m\u001b[0;34m(\u001b[0m\u001b[0;34m)\u001b[0m\u001b[0;34m\u001b[0m\u001b[0;34m\u001b[0m\u001b[0m\n\u001b[0m\u001b[1;32m    692\u001b[0m \u001b[0;34m\u001b[0m\u001b[0m\n\u001b[1;32m    693\u001b[0m     \u001b[0;34m@\u001b[0m\u001b[0mstaticmethod\u001b[0m\u001b[0;34m\u001b[0m\u001b[0;34m\u001b[0m\u001b[0m\n",
      "\u001b[0;32m/scratch/enis/conda/envs/soundenv3/lib/python3.7/site-packages/ignite/engine/engine.py\u001b[0m in \u001b[0;36m_internal_run\u001b[0;34m(self)\u001b[0m\n\u001b[1;32m    760\u001b[0m             \u001b[0mself\u001b[0m\u001b[0;34m.\u001b[0m\u001b[0m_dataloader_iter\u001b[0m \u001b[0;34m=\u001b[0m \u001b[0;32mNone\u001b[0m\u001b[0;34m\u001b[0m\u001b[0;34m\u001b[0m\u001b[0m\n\u001b[1;32m    761\u001b[0m             \u001b[0mself\u001b[0m\u001b[0;34m.\u001b[0m\u001b[0mlogger\u001b[0m\u001b[0;34m.\u001b[0m\u001b[0merror\u001b[0m\u001b[0;34m(\u001b[0m\u001b[0;34m\"Engine run is terminating due to exception: %s.\"\u001b[0m\u001b[0;34m,\u001b[0m \u001b[0mstr\u001b[0m\u001b[0;34m(\u001b[0m\u001b[0me\u001b[0m\u001b[0;34m)\u001b[0m\u001b[0;34m)\u001b[0m\u001b[0;34m\u001b[0m\u001b[0;34m\u001b[0m\u001b[0m\n\u001b[0;32m--> 762\u001b[0;31m             \u001b[0mself\u001b[0m\u001b[0;34m.\u001b[0m\u001b[0m_handle_exception\u001b[0m\u001b[0;34m(\u001b[0m\u001b[0me\u001b[0m\u001b[0;34m)\u001b[0m\u001b[0;34m\u001b[0m\u001b[0;34m\u001b[0m\u001b[0m\n\u001b[0m\u001b[1;32m    763\u001b[0m \u001b[0;34m\u001b[0m\u001b[0m\n\u001b[1;32m    764\u001b[0m         \u001b[0mself\u001b[0m\u001b[0;34m.\u001b[0m\u001b[0m_dataloader_iter\u001b[0m \u001b[0;34m=\u001b[0m \u001b[0;32mNone\u001b[0m\u001b[0;34m\u001b[0m\u001b[0;34m\u001b[0m\u001b[0m\n",
      "\u001b[0;32m/scratch/enis/conda/envs/soundenv3/lib/python3.7/site-packages/ignite/engine/engine.py\u001b[0m in \u001b[0;36m_handle_exception\u001b[0;34m(self, e)\u001b[0m\n\u001b[1;32m    465\u001b[0m             \u001b[0mself\u001b[0m\u001b[0;34m.\u001b[0m\u001b[0m_fire_event\u001b[0m\u001b[0;34m(\u001b[0m\u001b[0mEvents\u001b[0m\u001b[0;34m.\u001b[0m\u001b[0mEXCEPTION_RAISED\u001b[0m\u001b[0;34m,\u001b[0m \u001b[0me\u001b[0m\u001b[0;34m)\u001b[0m\u001b[0;34m\u001b[0m\u001b[0;34m\u001b[0m\u001b[0m\n\u001b[1;32m    466\u001b[0m         \u001b[0;32melse\u001b[0m\u001b[0;34m:\u001b[0m\u001b[0;34m\u001b[0m\u001b[0;34m\u001b[0m\u001b[0m\n\u001b[0;32m--> 467\u001b[0;31m             \u001b[0;32mraise\u001b[0m \u001b[0me\u001b[0m\u001b[0;34m\u001b[0m\u001b[0;34m\u001b[0m\u001b[0m\n\u001b[0m\u001b[1;32m    468\u001b[0m \u001b[0;34m\u001b[0m\u001b[0m\n\u001b[1;32m    469\u001b[0m     \u001b[0;34m@\u001b[0m\u001b[0mproperty\u001b[0m\u001b[0;34m\u001b[0m\u001b[0;34m\u001b[0m\u001b[0m\n",
      "\u001b[0;32m/scratch/enis/conda/envs/soundenv3/lib/python3.7/site-packages/ignite/engine/engine.py\u001b[0m in \u001b[0;36m_internal_run\u001b[0;34m(self)\u001b[0m\n\u001b[1;32m    728\u001b[0m                     \u001b[0mself\u001b[0m\u001b[0;34m.\u001b[0m\u001b[0m_setup_engine\u001b[0m\u001b[0;34m(\u001b[0m\u001b[0;34m)\u001b[0m\u001b[0;34m\u001b[0m\u001b[0;34m\u001b[0m\u001b[0m\n\u001b[1;32m    729\u001b[0m \u001b[0;34m\u001b[0m\u001b[0m\n\u001b[0;32m--> 730\u001b[0;31m                 \u001b[0mtime_taken\u001b[0m \u001b[0;34m=\u001b[0m \u001b[0mself\u001b[0m\u001b[0;34m.\u001b[0m\u001b[0m_run_once_on_dataset\u001b[0m\u001b[0;34m(\u001b[0m\u001b[0;34m)\u001b[0m\u001b[0;34m\u001b[0m\u001b[0;34m\u001b[0m\u001b[0m\n\u001b[0m\u001b[1;32m    731\u001b[0m                 \u001b[0;31m# time is available for handlers but must be update after fire\u001b[0m\u001b[0;34m\u001b[0m\u001b[0;34m\u001b[0m\u001b[0;34m\u001b[0m\u001b[0m\n\u001b[1;32m    732\u001b[0m                 \u001b[0mself\u001b[0m\u001b[0;34m.\u001b[0m\u001b[0mstate\u001b[0m\u001b[0;34m.\u001b[0m\u001b[0mtimes\u001b[0m\u001b[0;34m[\u001b[0m\u001b[0mEvents\u001b[0m\u001b[0;34m.\u001b[0m\u001b[0mEPOCH_COMPLETED\u001b[0m\u001b[0;34m.\u001b[0m\u001b[0mname\u001b[0m\u001b[0;34m]\u001b[0m \u001b[0;34m=\u001b[0m \u001b[0mtime_taken\u001b[0m\u001b[0;34m\u001b[0m\u001b[0;34m\u001b[0m\u001b[0m\n",
      "\u001b[0;32m/scratch/enis/conda/envs/soundenv3/lib/python3.7/site-packages/ignite/engine/engine.py\u001b[0m in \u001b[0;36m_run_once_on_dataset\u001b[0;34m(self)\u001b[0m\n\u001b[1;32m    777\u001b[0m                     \u001b[0;32mif\u001b[0m \u001b[0mself\u001b[0m\u001b[0;34m.\u001b[0m\u001b[0mlast_event_name\u001b[0m \u001b[0;34m!=\u001b[0m \u001b[0mEvents\u001b[0m\u001b[0;34m.\u001b[0m\u001b[0mDATALOADER_STOP_ITERATION\u001b[0m\u001b[0;34m:\u001b[0m\u001b[0;34m\u001b[0m\u001b[0;34m\u001b[0m\u001b[0m\n\u001b[1;32m    778\u001b[0m                         \u001b[0mself\u001b[0m\u001b[0;34m.\u001b[0m\u001b[0m_fire_event\u001b[0m\u001b[0;34m(\u001b[0m\u001b[0mEvents\u001b[0m\u001b[0;34m.\u001b[0m\u001b[0mGET_BATCH_STARTED\u001b[0m\u001b[0;34m)\u001b[0m\u001b[0;34m\u001b[0m\u001b[0;34m\u001b[0m\u001b[0m\n\u001b[0;32m--> 779\u001b[0;31m                     \u001b[0mself\u001b[0m\u001b[0;34m.\u001b[0m\u001b[0mstate\u001b[0m\u001b[0;34m.\u001b[0m\u001b[0mbatch\u001b[0m \u001b[0;34m=\u001b[0m \u001b[0mnext\u001b[0m\u001b[0;34m(\u001b[0m\u001b[0mself\u001b[0m\u001b[0;34m.\u001b[0m\u001b[0m_dataloader_iter\u001b[0m\u001b[0;34m)\u001b[0m\u001b[0;34m\u001b[0m\u001b[0;34m\u001b[0m\u001b[0m\n\u001b[0m\u001b[1;32m    780\u001b[0m                     \u001b[0mself\u001b[0m\u001b[0;34m.\u001b[0m\u001b[0m_fire_event\u001b[0m\u001b[0;34m(\u001b[0m\u001b[0mEvents\u001b[0m\u001b[0;34m.\u001b[0m\u001b[0mGET_BATCH_COMPLETED\u001b[0m\u001b[0;34m)\u001b[0m\u001b[0;34m\u001b[0m\u001b[0;34m\u001b[0m\u001b[0m\n\u001b[1;32m    781\u001b[0m                     \u001b[0miter_counter\u001b[0m \u001b[0;34m+=\u001b[0m \u001b[0;36m1\u001b[0m\u001b[0;34m\u001b[0m\u001b[0;34m\u001b[0m\u001b[0m\n",
      "\u001b[0;32m/scratch/enis/conda/envs/soundenv3/lib/python3.7/site-packages/torch/utils/data/dataloader.py\u001b[0m in \u001b[0;36m__next__\u001b[0;34m(self)\u001b[0m\n\u001b[1;32m    433\u001b[0m         \u001b[0;32mif\u001b[0m \u001b[0mself\u001b[0m\u001b[0;34m.\u001b[0m\u001b[0m_sampler_iter\u001b[0m \u001b[0;32mis\u001b[0m \u001b[0;32mNone\u001b[0m\u001b[0;34m:\u001b[0m\u001b[0;34m\u001b[0m\u001b[0;34m\u001b[0m\u001b[0m\n\u001b[1;32m    434\u001b[0m             \u001b[0mself\u001b[0m\u001b[0;34m.\u001b[0m\u001b[0m_reset\u001b[0m\u001b[0;34m(\u001b[0m\u001b[0;34m)\u001b[0m\u001b[0;34m\u001b[0m\u001b[0;34m\u001b[0m\u001b[0m\n\u001b[0;32m--> 435\u001b[0;31m         \u001b[0mdata\u001b[0m \u001b[0;34m=\u001b[0m \u001b[0mself\u001b[0m\u001b[0;34m.\u001b[0m\u001b[0m_next_data\u001b[0m\u001b[0;34m(\u001b[0m\u001b[0;34m)\u001b[0m\u001b[0;34m\u001b[0m\u001b[0;34m\u001b[0m\u001b[0m\n\u001b[0m\u001b[1;32m    436\u001b[0m         \u001b[0mself\u001b[0m\u001b[0;34m.\u001b[0m\u001b[0m_num_yielded\u001b[0m \u001b[0;34m+=\u001b[0m \u001b[0;36m1\u001b[0m\u001b[0;34m\u001b[0m\u001b[0;34m\u001b[0m\u001b[0m\n\u001b[1;32m    437\u001b[0m         \u001b[0;32mif\u001b[0m \u001b[0mself\u001b[0m\u001b[0;34m.\u001b[0m\u001b[0m_dataset_kind\u001b[0m \u001b[0;34m==\u001b[0m \u001b[0m_DatasetKind\u001b[0m\u001b[0;34m.\u001b[0m\u001b[0mIterable\u001b[0m \u001b[0;32mand\u001b[0m\u001b[0;31m \u001b[0m\u001b[0;31m\\\u001b[0m\u001b[0;34m\u001b[0m\u001b[0;34m\u001b[0m\u001b[0m\n",
      "\u001b[0;32m/scratch/enis/conda/envs/soundenv3/lib/python3.7/site-packages/torch/utils/data/dataloader.py\u001b[0m in \u001b[0;36m_next_data\u001b[0;34m(self)\u001b[0m\n\u001b[1;32m    473\u001b[0m     \u001b[0;32mdef\u001b[0m \u001b[0m_next_data\u001b[0m\u001b[0;34m(\u001b[0m\u001b[0mself\u001b[0m\u001b[0;34m)\u001b[0m\u001b[0;34m:\u001b[0m\u001b[0;34m\u001b[0m\u001b[0;34m\u001b[0m\u001b[0m\n\u001b[1;32m    474\u001b[0m         \u001b[0mindex\u001b[0m \u001b[0;34m=\u001b[0m \u001b[0mself\u001b[0m\u001b[0;34m.\u001b[0m\u001b[0m_next_index\u001b[0m\u001b[0;34m(\u001b[0m\u001b[0;34m)\u001b[0m  \u001b[0;31m# may raise StopIteration\u001b[0m\u001b[0;34m\u001b[0m\u001b[0;34m\u001b[0m\u001b[0m\n\u001b[0;32m--> 475\u001b[0;31m         \u001b[0mdata\u001b[0m \u001b[0;34m=\u001b[0m \u001b[0mself\u001b[0m\u001b[0;34m.\u001b[0m\u001b[0m_dataset_fetcher\u001b[0m\u001b[0;34m.\u001b[0m\u001b[0mfetch\u001b[0m\u001b[0;34m(\u001b[0m\u001b[0mindex\u001b[0m\u001b[0;34m)\u001b[0m  \u001b[0;31m# may raise StopIteration\u001b[0m\u001b[0;34m\u001b[0m\u001b[0;34m\u001b[0m\u001b[0m\n\u001b[0m\u001b[1;32m    476\u001b[0m         \u001b[0;32mif\u001b[0m \u001b[0mself\u001b[0m\u001b[0;34m.\u001b[0m\u001b[0m_pin_memory\u001b[0m\u001b[0;34m:\u001b[0m\u001b[0;34m\u001b[0m\u001b[0;34m\u001b[0m\u001b[0m\n\u001b[1;32m    477\u001b[0m             \u001b[0mdata\u001b[0m \u001b[0;34m=\u001b[0m \u001b[0m_utils\u001b[0m\u001b[0;34m.\u001b[0m\u001b[0mpin_memory\u001b[0m\u001b[0;34m.\u001b[0m\u001b[0mpin_memory\u001b[0m\u001b[0;34m(\u001b[0m\u001b[0mdata\u001b[0m\u001b[0;34m)\u001b[0m\u001b[0;34m\u001b[0m\u001b[0;34m\u001b[0m\u001b[0m\n",
      "\u001b[0;32m/scratch/enis/conda/envs/soundenv3/lib/python3.7/site-packages/torch/utils/data/_utils/fetch.py\u001b[0m in \u001b[0;36mfetch\u001b[0;34m(self, possibly_batched_index)\u001b[0m\n\u001b[1;32m     42\u001b[0m     \u001b[0;32mdef\u001b[0m \u001b[0mfetch\u001b[0m\u001b[0;34m(\u001b[0m\u001b[0mself\u001b[0m\u001b[0;34m,\u001b[0m \u001b[0mpossibly_batched_index\u001b[0m\u001b[0;34m)\u001b[0m\u001b[0;34m:\u001b[0m\u001b[0;34m\u001b[0m\u001b[0;34m\u001b[0m\u001b[0m\n\u001b[1;32m     43\u001b[0m         \u001b[0;32mif\u001b[0m \u001b[0mself\u001b[0m\u001b[0;34m.\u001b[0m\u001b[0mauto_collation\u001b[0m\u001b[0;34m:\u001b[0m\u001b[0;34m\u001b[0m\u001b[0;34m\u001b[0m\u001b[0m\n\u001b[0;32m---> 44\u001b[0;31m             \u001b[0mdata\u001b[0m \u001b[0;34m=\u001b[0m \u001b[0;34m[\u001b[0m\u001b[0mself\u001b[0m\u001b[0;34m.\u001b[0m\u001b[0mdataset\u001b[0m\u001b[0;34m[\u001b[0m\u001b[0midx\u001b[0m\u001b[0;34m]\u001b[0m \u001b[0;32mfor\u001b[0m \u001b[0midx\u001b[0m \u001b[0;32min\u001b[0m \u001b[0mpossibly_batched_index\u001b[0m\u001b[0;34m]\u001b[0m\u001b[0;34m\u001b[0m\u001b[0;34m\u001b[0m\u001b[0m\n\u001b[0m\u001b[1;32m     45\u001b[0m         \u001b[0;32melse\u001b[0m\u001b[0;34m:\u001b[0m\u001b[0;34m\u001b[0m\u001b[0;34m\u001b[0m\u001b[0m\n\u001b[1;32m     46\u001b[0m             \u001b[0mdata\u001b[0m \u001b[0;34m=\u001b[0m \u001b[0mself\u001b[0m\u001b[0;34m.\u001b[0m\u001b[0mdataset\u001b[0m\u001b[0;34m[\u001b[0m\u001b[0mpossibly_batched_index\u001b[0m\u001b[0;34m]\u001b[0m\u001b[0;34m\u001b[0m\u001b[0;34m\u001b[0m\u001b[0m\n",
      "\u001b[0;32m/scratch/enis/conda/envs/soundenv3/lib/python3.7/site-packages/torch/utils/data/_utils/fetch.py\u001b[0m in \u001b[0;36m<listcomp>\u001b[0;34m(.0)\u001b[0m\n\u001b[1;32m     42\u001b[0m     \u001b[0;32mdef\u001b[0m \u001b[0mfetch\u001b[0m\u001b[0;34m(\u001b[0m\u001b[0mself\u001b[0m\u001b[0;34m,\u001b[0m \u001b[0mpossibly_batched_index\u001b[0m\u001b[0;34m)\u001b[0m\u001b[0;34m:\u001b[0m\u001b[0;34m\u001b[0m\u001b[0;34m\u001b[0m\u001b[0m\n\u001b[1;32m     43\u001b[0m         \u001b[0;32mif\u001b[0m \u001b[0mself\u001b[0m\u001b[0;34m.\u001b[0m\u001b[0mauto_collation\u001b[0m\u001b[0;34m:\u001b[0m\u001b[0;34m\u001b[0m\u001b[0;34m\u001b[0m\u001b[0m\n\u001b[0;32m---> 44\u001b[0;31m             \u001b[0mdata\u001b[0m \u001b[0;34m=\u001b[0m \u001b[0;34m[\u001b[0m\u001b[0mself\u001b[0m\u001b[0;34m.\u001b[0m\u001b[0mdataset\u001b[0m\u001b[0;34m[\u001b[0m\u001b[0midx\u001b[0m\u001b[0;34m]\u001b[0m \u001b[0;32mfor\u001b[0m \u001b[0midx\u001b[0m \u001b[0;32min\u001b[0m \u001b[0mpossibly_batched_index\u001b[0m\u001b[0;34m]\u001b[0m\u001b[0;34m\u001b[0m\u001b[0;34m\u001b[0m\u001b[0m\n\u001b[0m\u001b[1;32m     45\u001b[0m         \u001b[0;32melse\u001b[0m\u001b[0;34m:\u001b[0m\u001b[0;34m\u001b[0m\u001b[0;34m\u001b[0m\u001b[0m\n\u001b[1;32m     46\u001b[0m             \u001b[0mdata\u001b[0m \u001b[0;34m=\u001b[0m \u001b[0mself\u001b[0m\u001b[0;34m.\u001b[0m\u001b[0mdataset\u001b[0m\u001b[0;34m[\u001b[0m\u001b[0mpossibly_batched_index\u001b[0m\u001b[0;34m]\u001b[0m\u001b[0;34m\u001b[0m\u001b[0;34m\u001b[0m\u001b[0m\n",
      "\u001b[0;32m~/projects/nna/src/nna/exp/runutils.py\u001b[0m in \u001b[0;36m__getitem__\u001b[0;34m(self, idx)\u001b[0m\n\u001b[1;32m    227\u001b[0m \u001b[0;34m\u001b[0m\u001b[0m\n\u001b[1;32m    228\u001b[0m         \u001b[0;32mif\u001b[0m \u001b[0mself\u001b[0m\u001b[0;34m.\u001b[0m\u001b[0mtransform\u001b[0m\u001b[0;34m:\u001b[0m\u001b[0;34m\u001b[0m\u001b[0;34m\u001b[0m\u001b[0m\n\u001b[0;32m--> 229\u001b[0;31m             \u001b[0msample\u001b[0m \u001b[0;34m=\u001b[0m \u001b[0mself\u001b[0m\u001b[0;34m.\u001b[0m\u001b[0mtransform\u001b[0m\u001b[0;34m(\u001b[0m\u001b[0msample\u001b[0m\u001b[0;34m)\u001b[0m\u001b[0;34m\u001b[0m\u001b[0;34m\u001b[0m\u001b[0m\n\u001b[0m\u001b[1;32m    230\u001b[0m \u001b[0;34m\u001b[0m\u001b[0m\n\u001b[1;32m    231\u001b[0m         \u001b[0;32mreturn\u001b[0m \u001b[0msample\u001b[0m\u001b[0;34m\u001b[0m\u001b[0;34m\u001b[0m\u001b[0m\n",
      "\u001b[0;32m/scratch/enis/conda/envs/soundenv3/lib/python3.7/site-packages/torchvision/transforms/transforms.py\u001b[0m in \u001b[0;36m__call__\u001b[0;34m(self, img)\u001b[0m\n\u001b[1;32m     65\u001b[0m     \u001b[0;32mdef\u001b[0m \u001b[0m__call__\u001b[0m\u001b[0;34m(\u001b[0m\u001b[0mself\u001b[0m\u001b[0;34m,\u001b[0m \u001b[0mimg\u001b[0m\u001b[0;34m)\u001b[0m\u001b[0;34m:\u001b[0m\u001b[0;34m\u001b[0m\u001b[0;34m\u001b[0m\u001b[0m\n\u001b[1;32m     66\u001b[0m         \u001b[0;32mfor\u001b[0m \u001b[0mt\u001b[0m \u001b[0;32min\u001b[0m \u001b[0mself\u001b[0m\u001b[0;34m.\u001b[0m\u001b[0mtransforms\u001b[0m\u001b[0;34m:\u001b[0m\u001b[0;34m\u001b[0m\u001b[0;34m\u001b[0m\u001b[0m\n\u001b[0;32m---> 67\u001b[0;31m             \u001b[0mimg\u001b[0m \u001b[0;34m=\u001b[0m \u001b[0mt\u001b[0m\u001b[0;34m(\u001b[0m\u001b[0mimg\u001b[0m\u001b[0;34m)\u001b[0m\u001b[0;34m\u001b[0m\u001b[0;34m\u001b[0m\u001b[0m\n\u001b[0m\u001b[1;32m     68\u001b[0m         \u001b[0;32mreturn\u001b[0m \u001b[0mimg\u001b[0m\u001b[0;34m\u001b[0m\u001b[0;34m\u001b[0m\u001b[0m\n\u001b[1;32m     69\u001b[0m \u001b[0;34m\u001b[0m\u001b[0m\n",
      "\u001b[0;32m<ipython-input-78-75fa22ad2317>\u001b[0m in \u001b[0;36m__call__\u001b[0;34m(self, sample)\u001b[0m\n\u001b[1;32m     24\u001b[0m         \u001b[0mdb_transform\u001b[0m \u001b[0;34m=\u001b[0m \u001b[0mtorchaudio\u001b[0m\u001b[0;34m.\u001b[0m\u001b[0mtransforms\u001b[0m\u001b[0;34m.\u001b[0m\u001b[0mAmplitudeToDB\u001b[0m\u001b[0;34m(\u001b[0m\u001b[0;34m\"power\"\u001b[0m\u001b[0;34m,\u001b[0m \u001b[0;36m80.\u001b[0m\u001b[0;34m)\u001b[0m\u001b[0;34m\u001b[0m\u001b[0;34m\u001b[0m\u001b[0m\n\u001b[1;32m     25\u001b[0m         \u001b[0mmel\u001b[0m \u001b[0;34m=\u001b[0m \u001b[0mmelspect_transform\u001b[0m\u001b[0;34m(\u001b[0m\u001b[0mx\u001b[0m\u001b[0;34m.\u001b[0m\u001b[0mreshape\u001b[0m\u001b[0;34m(\u001b[0m\u001b[0;34m-\u001b[0m\u001b[0;36m1\u001b[0m\u001b[0;34m)\u001b[0m\u001b[0;34m)\u001b[0m\u001b[0;34m\u001b[0m\u001b[0;34m\u001b[0m\u001b[0m\n\u001b[0;32m---> 26\u001b[0;31m         \u001b[0man_x\u001b[0m \u001b[0;34m=\u001b[0m \u001b[0mdb_transform\u001b[0m\u001b[0;34m(\u001b[0m\u001b[0mmel\u001b[0m\u001b[0;34m)\u001b[0m\u001b[0;34m\u001b[0m\u001b[0;34m\u001b[0m\u001b[0m\n\u001b[0m\u001b[1;32m     27\u001b[0m         \u001b[0;31m#librosa version\u001b[0m\u001b[0;34m\u001b[0m\u001b[0;34m\u001b[0m\u001b[0;34m\u001b[0m\u001b[0m\n\u001b[1;32m     28\u001b[0m \u001b[0;31m#         mel = librosa.feature.melspectrogram(y=x.reshape(-1),\u001b[0m\u001b[0;34m\u001b[0m\u001b[0;34m\u001b[0m\u001b[0;34m\u001b[0m\u001b[0m\n",
      "\u001b[0;32m/scratch/enis/conda/envs/soundenv3/lib/python3.7/site-packages/torch/nn/modules/module.py\u001b[0m in \u001b[0;36m_call_impl\u001b[0;34m(self, *input, **kwargs)\u001b[0m\n\u001b[1;32m    725\u001b[0m             \u001b[0mresult\u001b[0m \u001b[0;34m=\u001b[0m \u001b[0mself\u001b[0m\u001b[0;34m.\u001b[0m\u001b[0m_slow_forward\u001b[0m\u001b[0;34m(\u001b[0m\u001b[0;34m*\u001b[0m\u001b[0minput\u001b[0m\u001b[0;34m,\u001b[0m \u001b[0;34m**\u001b[0m\u001b[0mkwargs\u001b[0m\u001b[0;34m)\u001b[0m\u001b[0;34m\u001b[0m\u001b[0;34m\u001b[0m\u001b[0m\n\u001b[1;32m    726\u001b[0m         \u001b[0;32melse\u001b[0m\u001b[0;34m:\u001b[0m\u001b[0;34m\u001b[0m\u001b[0;34m\u001b[0m\u001b[0m\n\u001b[0;32m--> 727\u001b[0;31m             \u001b[0mresult\u001b[0m \u001b[0;34m=\u001b[0m \u001b[0mself\u001b[0m\u001b[0;34m.\u001b[0m\u001b[0mforward\u001b[0m\u001b[0;34m(\u001b[0m\u001b[0;34m*\u001b[0m\u001b[0minput\u001b[0m\u001b[0;34m,\u001b[0m \u001b[0;34m**\u001b[0m\u001b[0mkwargs\u001b[0m\u001b[0;34m)\u001b[0m\u001b[0;34m\u001b[0m\u001b[0;34m\u001b[0m\u001b[0m\n\u001b[0m\u001b[1;32m    728\u001b[0m         for hook in itertools.chain(\n\u001b[1;32m    729\u001b[0m                 \u001b[0m_global_forward_hooks\u001b[0m\u001b[0;34m.\u001b[0m\u001b[0mvalues\u001b[0m\u001b[0;34m(\u001b[0m\u001b[0;34m)\u001b[0m\u001b[0;34m,\u001b[0m\u001b[0;34m\u001b[0m\u001b[0;34m\u001b[0m\u001b[0m\n",
      "\u001b[0;32m/scratch/enis/conda/envs/soundenv3/lib/python3.7/site-packages/torchaudio/transforms.py\u001b[0m in \u001b[0;36mforward\u001b[0;34m(self, x)\u001b[0m\n\u001b[1;32m    208\u001b[0m             \u001b[0mTensor\u001b[0m\u001b[0;34m:\u001b[0m \u001b[0mOutput\u001b[0m \u001b[0mtensor\u001b[0m \u001b[0;32min\u001b[0m \u001b[0mdecibel\u001b[0m \u001b[0mscale\u001b[0m\u001b[0;34m.\u001b[0m\u001b[0;34m\u001b[0m\u001b[0;34m\u001b[0m\u001b[0m\n\u001b[1;32m    209\u001b[0m         \"\"\"\n\u001b[0;32m--> 210\u001b[0;31m         \u001b[0;32mreturn\u001b[0m \u001b[0mF\u001b[0m\u001b[0;34m.\u001b[0m\u001b[0mamplitude_to_DB\u001b[0m\u001b[0;34m(\u001b[0m\u001b[0mx\u001b[0m\u001b[0;34m,\u001b[0m \u001b[0mself\u001b[0m\u001b[0;34m.\u001b[0m\u001b[0mmultiplier\u001b[0m\u001b[0;34m,\u001b[0m \u001b[0mself\u001b[0m\u001b[0;34m.\u001b[0m\u001b[0mamin\u001b[0m\u001b[0;34m,\u001b[0m \u001b[0mself\u001b[0m\u001b[0;34m.\u001b[0m\u001b[0mdb_multiplier\u001b[0m\u001b[0;34m,\u001b[0m \u001b[0mself\u001b[0m\u001b[0;34m.\u001b[0m\u001b[0mtop_db\u001b[0m\u001b[0;34m)\u001b[0m\u001b[0;34m\u001b[0m\u001b[0;34m\u001b[0m\u001b[0m\n\u001b[0m\u001b[1;32m    211\u001b[0m \u001b[0;34m\u001b[0m\u001b[0m\n\u001b[1;32m    212\u001b[0m \u001b[0;34m\u001b[0m\u001b[0m\n",
      "\u001b[0;32m/scratch/enis/conda/envs/soundenv3/lib/python3.7/site-packages/torchaudio/functional.py\u001b[0m in \u001b[0;36mamplitude_to_DB\u001b[0;34m(x, multiplier, amin, db_multiplier, top_db)\u001b[0m\n\u001b[1;32m    232\u001b[0m         \u001b[0mTensor\u001b[0m\u001b[0;34m:\u001b[0m \u001b[0mOutput\u001b[0m \u001b[0mtensor\u001b[0m \u001b[0;32min\u001b[0m \u001b[0mdecibel\u001b[0m \u001b[0mscale\u001b[0m\u001b[0;34m\u001b[0m\u001b[0;34m\u001b[0m\u001b[0m\n\u001b[1;32m    233\u001b[0m     \"\"\"\n\u001b[0;32m--> 234\u001b[0;31m     \u001b[0mx_db\u001b[0m \u001b[0;34m=\u001b[0m \u001b[0mmultiplier\u001b[0m \u001b[0;34m*\u001b[0m \u001b[0mtorch\u001b[0m\u001b[0;34m.\u001b[0m\u001b[0mlog10\u001b[0m\u001b[0;34m(\u001b[0m\u001b[0mtorch\u001b[0m\u001b[0;34m.\u001b[0m\u001b[0mclamp\u001b[0m\u001b[0;34m(\u001b[0m\u001b[0mx\u001b[0m\u001b[0;34m,\u001b[0m \u001b[0mmin\u001b[0m\u001b[0;34m=\u001b[0m\u001b[0mamin\u001b[0m\u001b[0;34m)\u001b[0m\u001b[0;34m)\u001b[0m\u001b[0;34m\u001b[0m\u001b[0;34m\u001b[0m\u001b[0m\n\u001b[0m\u001b[1;32m    235\u001b[0m     \u001b[0mx_db\u001b[0m \u001b[0;34m-=\u001b[0m \u001b[0mmultiplier\u001b[0m \u001b[0;34m*\u001b[0m \u001b[0mdb_multiplier\u001b[0m\u001b[0;34m\u001b[0m\u001b[0;34m\u001b[0m\u001b[0m\n\u001b[1;32m    236\u001b[0m \u001b[0;34m\u001b[0m\u001b[0m\n",
      "\u001b[0;31mKeyboardInterrupt\u001b[0m: "
     ]
    }
   ],
   "source": [
    "\n",
    "print('ready ?')\n",
    "runutils.run(model, dataloaders, optimizer, criterion, metrics, device,config, runconfigs.PROJECT_NAME)\n"
   ]
  },
  {
   "cell_type": "code",
   "execution_count": null,
   "metadata": {},
   "outputs": [],
   "source": [
    "model.fc1.weight"
   ]
  },
  {
   "cell_type": "code",
   "execution_count": null,
   "metadata": {},
   "outputs": [],
   "source": [
    "\n",
    "example_input = (torch.ones((1,1,h_w[0]*h_w[1]))*-32767)\n",
    "example_input = example_input.float().to(device)\n",
    "out=model(example_input)\n",
    "out\n",
    "\n",
    "activated_output_transform((out,out))"
   ]
  },
  {
   "cell_type": "code",
   "execution_count": null,
   "metadata": {},
   "outputs": [],
   "source": [
    "torch.Tensor([10,10,10])"
   ]
  },
  {
   "cell_type": "code",
   "execution_count": null,
   "metadata": {},
   "outputs": [],
   "source": [
    "sum(model.fc1.weight)"
   ]
  },
  {
   "cell_type": "code",
   "execution_count": null,
   "metadata": {},
   "outputs": [],
   "source": [
    "m = nn.Sigmoid()\n",
    "\n",
    "loss = nn.BCEWithLogitsLoss()\n",
    "input = torch.tensor([100.0,100,100], requires_grad=True)\n",
    "# target = torch.empty(3).random_(2)\n",
    "target = torch.ones(3)\n",
    "output = loss((input), target)\n",
    "input,target,output"
   ]
  },
  {
   "cell_type": "code",
   "execution_count": null,
   "metadata": {},
   "outputs": [],
   "source": [
    "input"
   ]
  },
  {
   "cell_type": "code",
   "execution_count": null,
   "metadata": {},
   "outputs": [],
   "source": [
    "target"
   ]
  },
  {
   "cell_type": "code",
   "execution_count": null,
   "metadata": {},
   "outputs": [],
   "source": [
    "output"
   ]
  },
  {
   "cell_type": "code",
   "execution_count": null,
   "metadata": {},
   "outputs": [],
   "source": [
    "m(input)"
   ]
  },
  {
   "cell_type": "code",
   "execution_count": null,
   "metadata": {},
   "outputs": [],
   "source": []
  },
  {
   "cell_type": "code",
   "execution_count": null,
   "metadata": {},
   "outputs": [],
   "source": []
  },
  {
   "cell_type": "code",
   "execution_count": null,
   "metadata": {},
   "outputs": [],
   "source": []
  }
 ],
 "metadata": {
  "kernelspec": {
   "display_name": "soundenv3",
   "language": "python",
   "name": "soundenv3"
  },
  "language_info": {
   "codemirror_mode": {
    "name": "ipython",
    "version": 3
   },
   "file_extension": ".py",
   "mimetype": "text/x-python",
   "name": "python",
   "nbconvert_exporter": "python",
   "pygments_lexer": "ipython3",
   "version": "3.7.9"
  }
 },
 "nbformat": 4,
 "nbformat_minor": 4
}
