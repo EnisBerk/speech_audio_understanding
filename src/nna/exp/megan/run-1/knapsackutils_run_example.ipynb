{
 "cells": [
  {
   "cell_type": "code",
   "execution_count": 1,
   "metadata": {},
   "outputs": [],
   "source": [
    "from nna.exp.megan import knapsackutils"
   ]
  },
  {
   "cell_type": "code",
   "execution_count": null,
   "metadata": {},
   "outputs": [],
   "source": []
  },
  {
   "cell_type": "code",
   "execution_count": 2,
   "metadata": {},
   "outputs": [
    {
     "name": "stdout",
     "output_type": "stream",
     "text": [
      "OrderedDict([('Site ID', '12'), ('Anthro/Bio', 'Bio/Anth'), ('Category', 'Bird/Plane'), ('Specific Category', ''), ('Comments', 'raven, songbirds, long tailed ducks with aircraft in background'), ('', ''), ('File Name', 'S4A10268_20190610_103000_bio_anth.wav'), ('Could not decice', 'FALSE'), ('Songbird', 'FALSE'), ('Water Bird', 'FALSE'), ('Insect', 'FALSE'), ('Running Water', 'FALSE'), ('Rain', 'FALSE'), ('Cable', 'FALSE'), ('Wind', 'FALSE'), ('Vehicle', 'FALSE'), ('Aircraft', 'FALSE'), ('Date dd/mm/yy)', '6/6/2019'), ('Start Time', '1:05:22'), ('End Time', '1:05:53'), ('#VALUE!', '0:00:31')])\n"
     ]
    },
    {
     "name": "stderr",
     "output_type": "stream",
     "text": [
      "/home/enis/projects/nna/src/nna/exp/megan/knapsackutils.py:111: RuntimeWarning: invalid value encountered in true_divide\n",
      "  _P = P / norm(P, ord=1)\n"
     ]
    },
    {
     "name": "stdout",
     "output_type": "stream",
     "text": [
      "1.0.0 : 0.68, 0.13, 0.19, 47\n",
      "3.0.0 : 0.48, 0.26, 0.26, 46\n",
      "X.X.X : 0.5, 0.25, 0.25, 24\n",
      "1.1.10 : 0.63, 0.22, 0.15, 459\n",
      "1.1.0 : 0.63, 0.14, 0.24, 837\n",
      "1.3.0 : 0.52, 0.4, 0.087, 161\n",
      "1.1.8 : 0.49, 0.19, 0.32, 88\n",
      "1.1.7 : 0.38, 0.32, 0.3, 160\n",
      "1.2.4 : 1.0, 0.0, 0.0, 2\n",
      "0.2.0 : 0.78, 0.22, 0.0, 23\n",
      "1.1.5 : 1.0, 0.0, 0.0, 3\n",
      "0.0.0 : 0.93, 0.017, 0.052, 58\n",
      "1.2.0 : 0.0, 0.0, 1.0, 1\n",
      "1.1.3 : 0.94, 0.062, 0.0, 32\n",
      "2.1.0 : 0.22, 0.56, 0.22, 18\n",
      "0.1.0 : 1.0, 0.0, 0.0, 23\n",
      "0.4.0 : 0.62, 0.38, 0.0, 8\n"
     ]
    }
   ],
   "source": [
    "solution_by_location_name = knapsackutils.main(version=\"split_by_distr\")\n"
   ]
  },
  {
   "cell_type": "code",
   "execution_count": 4,
   "metadata": {},
   "outputs": [
    {
     "data": {
      "text/plain": [
       "[['45',\n",
       "  '38',\n",
       "  '48',\n",
       "  '39',\n",
       "  '11',\n",
       "  '44',\n",
       "  '46',\n",
       "  '17',\n",
       "  '20',\n",
       "  '50',\n",
       "  '13',\n",
       "  '25',\n",
       "  '21',\n",
       "  '29',\n",
       "  '19',\n",
       "  '16',\n",
       "  '24',\n",
       "  '37'],\n",
       " ['18', '31', '34', '27', '32', '33', '47', '41', '22', '15'],\n",
       " ['30', '12', '14', '36', '40', '49']]"
      ]
     },
     "execution_count": 4,
     "metadata": {},
     "output_type": "execute_result"
    }
   ],
   "source": [
    "solution_by_location_name"
   ]
  },
  {
   "cell_type": "code",
   "execution_count": null,
   "metadata": {},
   "outputs": [],
   "source": []
  }
 ],
 "metadata": {
  "kernelspec": {
   "display_name": "soundenv3",
   "language": "python",
   "name": "soundenv3"
  },
  "language_info": {
   "codemirror_mode": {
    "name": "ipython",
    "version": 3
   },
   "file_extension": ".py",
   "mimetype": "text/x-python",
   "name": "python",
   "nbconvert_exporter": "python",
   "pygments_lexer": "ipython3",
   "version": "3.7.9"
  }
 },
 "nbformat": 4,
 "nbformat_minor": 4
}
